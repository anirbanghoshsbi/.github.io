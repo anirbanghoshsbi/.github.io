{
  "nbformat": 4,
  "nbformat_minor": 0,
  "metadata": {
    "colab": {
      "name": "Correlation_Calculation.ipynb",
      "provenance": [],
      "authorship_tag": "ABX9TyMdkkgbdZq9sZRjXD0BL0PD",
      "include_colab_link": true
    },
    "kernelspec": {
      "name": "python3",
      "display_name": "Python 3"
    },
    "language_info": {
      "name": "python"
    }
  },
  "cells": [
    {
      "cell_type": "markdown",
      "metadata": {
        "id": "view-in-github",
        "colab_type": "text"
      },
      "source": [
        "<a href=\"https://colab.research.google.com/github/anirbanghoshsbi/.github.io/blob/master/Correlation_Calculation.ipynb\" target=\"_parent\"><img src=\"https://colab.research.google.com/assets/colab-badge.svg\" alt=\"Open In Colab\"/></a>"
      ]
    },
    {
      "cell_type": "code",
      "metadata": {
        "id": "kKyr_k7Vk0IK"
      },
      "source": [
        "import warnings\n",
        "warnings.simplefilter(action='ignore', category=Warning)\n",
        "import pandas as pd\n"
      ],
      "execution_count": 1,
      "outputs": []
    },
    {
      "cell_type": "code",
      "metadata": {
        "id": "ojDPF1n9fyO1"
      },
      "source": [
        "import numpy as np\n",
        "import matplotlib.pyplot as plt\n",
        "import seaborn as sns\n",
        "from scipy.stats import pearsonr"
      ],
      "execution_count": 2,
      "outputs": []
    },
    {
      "cell_type": "code",
      "metadata": {
        "id": "Hs3_caB0f5oV"
      },
      "source": [
        "data = pd.read_csv('/content/BATS_EEM, 1D.csv')"
      ],
      "execution_count": 3,
      "outputs": []
    },
    {
      "cell_type": "code",
      "metadata": {
        "id": "hPMrYQ4of5l5"
      },
      "source": [
        "import datetime\n",
        "data['date']=data.time.apply(lambda d: datetime.datetime.fromtimestamp(int(d)).strftime('%d-%m-%Y'))"
      ],
      "execution_count": 4,
      "outputs": []
    },
    {
      "cell_type": "code",
      "metadata": {
        "colab": {
          "base_uri": "https://localhost:8080/",
          "height": 210
        },
        "id": "en_uvEKgf5jU",
        "outputId": "ae584741-7bbe-4c69-9a65-e787a54aa1f0"
      },
      "source": [
        "data.tail(2)"
      ],
      "execution_count": 5,
      "outputs": [
        {
          "output_type": "execute_result",
          "data": {
            "text/html": [
              "<div>\n",
              "<style scoped>\n",
              "    .dataframe tbody tr th:only-of-type {\n",
              "        vertical-align: middle;\n",
              "    }\n",
              "\n",
              "    .dataframe tbody tr th {\n",
              "        vertical-align: top;\n",
              "    }\n",
              "\n",
              "    .dataframe thead th {\n",
              "        text-align: right;\n",
              "    }\n",
              "</style>\n",
              "<table border=\"1\" class=\"dataframe\">\n",
              "  <thead>\n",
              "    <tr style=\"text-align: right;\">\n",
              "      <th></th>\n",
              "      <th>time</th>\n",
              "      <th>open</th>\n",
              "      <th>high</th>\n",
              "      <th>low</th>\n",
              "      <th>close</th>\n",
              "      <th>NIFTY, NSE: Open</th>\n",
              "      <th>NIFTY, NSE: High</th>\n",
              "      <th>NIFTY, NSE: Low</th>\n",
              "      <th>NIFTY, NSE: Close</th>\n",
              "      <th>Volume</th>\n",
              "      <th>Volume MA</th>\n",
              "      <th>date</th>\n",
              "    </tr>\n",
              "  </thead>\n",
              "  <tbody>\n",
              "    <tr>\n",
              "      <th>2423</th>\n",
              "      <td>1627565400</td>\n",
              "      <td>52.25</td>\n",
              "      <td>52.280</td>\n",
              "      <td>51.89</td>\n",
              "      <td>52.1</td>\n",
              "      <td>15762.7</td>\n",
              "      <td>15817.35</td>\n",
              "      <td>15737.80</td>\n",
              "      <td>15778.45</td>\n",
              "      <td>43339411</td>\n",
              "      <td>34420783.8</td>\n",
              "      <td>29-07-2021</td>\n",
              "    </tr>\n",
              "    <tr>\n",
              "      <th>2424</th>\n",
              "      <td>1627651800</td>\n",
              "      <td>51.45</td>\n",
              "      <td>51.855</td>\n",
              "      <td>51.43</td>\n",
              "      <td>51.6</td>\n",
              "      <td>15800.6</td>\n",
              "      <td>15862.80</td>\n",
              "      <td>15744.85</td>\n",
              "      <td>15763.05</td>\n",
              "      <td>59797099</td>\n",
              "      <td>36036713.2</td>\n",
              "      <td>30-07-2021</td>\n",
              "    </tr>\n",
              "  </tbody>\n",
              "</table>\n",
              "</div>"
            ],
            "text/plain": [
              "            time   open    high  ...    Volume   Volume MA        date\n",
              "2423  1627565400  52.25  52.280  ...  43339411  34420783.8  29-07-2021\n",
              "2424  1627651800  51.45  51.855  ...  59797099  36036713.2  30-07-2021\n",
              "\n",
              "[2 rows x 12 columns]"
            ]
          },
          "metadata": {
            "tags": []
          },
          "execution_count": 5
        }
      ]
    },
    {
      "cell_type": "code",
      "metadata": {
        "id": "dRO76y2ef5gz"
      },
      "source": [
        "del data['time']"
      ],
      "execution_count": 6,
      "outputs": []
    },
    {
      "cell_type": "code",
      "metadata": {
        "id": "xV9_Aesrf5eq"
      },
      "source": [
        "data= data.set_index('date')"
      ],
      "execution_count": 7,
      "outputs": []
    },
    {
      "cell_type": "code",
      "metadata": {
        "colab": {
          "base_uri": "https://localhost:8080/",
          "height": 333
        },
        "id": "ULmsVmqYf5cE",
        "outputId": "4883165e-6a66-4937-ccbc-78cd188cc73e"
      },
      "source": [
        "data.tail(5)"
      ],
      "execution_count": 8,
      "outputs": [
        {
          "output_type": "execute_result",
          "data": {
            "text/html": [
              "<div>\n",
              "<style scoped>\n",
              "    .dataframe tbody tr th:only-of-type {\n",
              "        vertical-align: middle;\n",
              "    }\n",
              "\n",
              "    .dataframe tbody tr th {\n",
              "        vertical-align: top;\n",
              "    }\n",
              "\n",
              "    .dataframe thead th {\n",
              "        text-align: right;\n",
              "    }\n",
              "</style>\n",
              "<table border=\"1\" class=\"dataframe\">\n",
              "  <thead>\n",
              "    <tr style=\"text-align: right;\">\n",
              "      <th></th>\n",
              "      <th>open</th>\n",
              "      <th>high</th>\n",
              "      <th>low</th>\n",
              "      <th>close</th>\n",
              "      <th>NIFTY, NSE: Open</th>\n",
              "      <th>NIFTY, NSE: High</th>\n",
              "      <th>NIFTY, NSE: Low</th>\n",
              "      <th>NIFTY, NSE: Close</th>\n",
              "      <th>Volume</th>\n",
              "      <th>Volume MA</th>\n",
              "    </tr>\n",
              "    <tr>\n",
              "      <th>date</th>\n",
              "      <th></th>\n",
              "      <th></th>\n",
              "      <th></th>\n",
              "      <th></th>\n",
              "      <th></th>\n",
              "      <th></th>\n",
              "      <th></th>\n",
              "      <th></th>\n",
              "      <th></th>\n",
              "      <th></th>\n",
              "    </tr>\n",
              "  </thead>\n",
              "  <tbody>\n",
              "    <tr>\n",
              "      <th>26-07-2021</th>\n",
              "      <td>51.41</td>\n",
              "      <td>51.750</td>\n",
              "      <td>51.3026</td>\n",
              "      <td>51.51</td>\n",
              "      <td>15849.30</td>\n",
              "      <td>15893.35</td>\n",
              "      <td>15797.00</td>\n",
              "      <td>15824.45</td>\n",
              "      <td>43701367</td>\n",
              "      <td>29458323.20</td>\n",
              "    </tr>\n",
              "    <tr>\n",
              "      <th>27-07-2021</th>\n",
              "      <td>50.41</td>\n",
              "      <td>50.565</td>\n",
              "      <td>49.8300</td>\n",
              "      <td>50.47</td>\n",
              "      <td>15860.50</td>\n",
              "      <td>15881.55</td>\n",
              "      <td>15701.00</td>\n",
              "      <td>15746.45</td>\n",
              "      <td>73640742</td>\n",
              "      <td>32008117.65</td>\n",
              "    </tr>\n",
              "    <tr>\n",
              "      <th>28-07-2021</th>\n",
              "      <td>51.08</td>\n",
              "      <td>51.935</td>\n",
              "      <td>50.9600</td>\n",
              "      <td>51.84</td>\n",
              "      <td>15761.55</td>\n",
              "      <td>15767.50</td>\n",
              "      <td>15513.45</td>\n",
              "      <td>15709.40</td>\n",
              "      <td>56446157</td>\n",
              "      <td>33914985.70</td>\n",
              "    </tr>\n",
              "    <tr>\n",
              "      <th>29-07-2021</th>\n",
              "      <td>52.25</td>\n",
              "      <td>52.280</td>\n",
              "      <td>51.8900</td>\n",
              "      <td>52.10</td>\n",
              "      <td>15762.70</td>\n",
              "      <td>15817.35</td>\n",
              "      <td>15737.80</td>\n",
              "      <td>15778.45</td>\n",
              "      <td>43339411</td>\n",
              "      <td>34420783.80</td>\n",
              "    </tr>\n",
              "    <tr>\n",
              "      <th>30-07-2021</th>\n",
              "      <td>51.45</td>\n",
              "      <td>51.855</td>\n",
              "      <td>51.4300</td>\n",
              "      <td>51.60</td>\n",
              "      <td>15800.60</td>\n",
              "      <td>15862.80</td>\n",
              "      <td>15744.85</td>\n",
              "      <td>15763.05</td>\n",
              "      <td>59797099</td>\n",
              "      <td>36036713.20</td>\n",
              "    </tr>\n",
              "  </tbody>\n",
              "</table>\n",
              "</div>"
            ],
            "text/plain": [
              "             open    high      low  ...  NIFTY, NSE: Close    Volume    Volume MA\n",
              "date                                ...                                          \n",
              "26-07-2021  51.41  51.750  51.3026  ...           15824.45  43701367  29458323.20\n",
              "27-07-2021  50.41  50.565  49.8300  ...           15746.45  73640742  32008117.65\n",
              "28-07-2021  51.08  51.935  50.9600  ...           15709.40  56446157  33914985.70\n",
              "29-07-2021  52.25  52.280  51.8900  ...           15778.45  43339411  34420783.80\n",
              "30-07-2021  51.45  51.855  51.4300  ...           15763.05  59797099  36036713.20\n",
              "\n",
              "[5 rows x 10 columns]"
            ]
          },
          "metadata": {
            "tags": []
          },
          "execution_count": 8
        }
      ]
    },
    {
      "cell_type": "code",
      "metadata": {
        "id": "oXJBxpS3f5Zl"
      },
      "source": [
        "data_subset = data[['close','NIFTY, NSE: Close']]"
      ],
      "execution_count": 9,
      "outputs": []
    },
    {
      "cell_type": "code",
      "metadata": {
        "colab": {
          "base_uri": "https://localhost:8080/",
          "height": 140
        },
        "id": "7lfuH9Zyf5XZ",
        "outputId": "6564242b-26c8-45e1-b828-94716202c208"
      },
      "source": [
        "data_subset.tail(2)"
      ],
      "execution_count": 10,
      "outputs": [
        {
          "output_type": "execute_result",
          "data": {
            "text/html": [
              "<div>\n",
              "<style scoped>\n",
              "    .dataframe tbody tr th:only-of-type {\n",
              "        vertical-align: middle;\n",
              "    }\n",
              "\n",
              "    .dataframe tbody tr th {\n",
              "        vertical-align: top;\n",
              "    }\n",
              "\n",
              "    .dataframe thead th {\n",
              "        text-align: right;\n",
              "    }\n",
              "</style>\n",
              "<table border=\"1\" class=\"dataframe\">\n",
              "  <thead>\n",
              "    <tr style=\"text-align: right;\">\n",
              "      <th></th>\n",
              "      <th>close</th>\n",
              "      <th>NIFTY, NSE: Close</th>\n",
              "    </tr>\n",
              "    <tr>\n",
              "      <th>date</th>\n",
              "      <th></th>\n",
              "      <th></th>\n",
              "    </tr>\n",
              "  </thead>\n",
              "  <tbody>\n",
              "    <tr>\n",
              "      <th>29-07-2021</th>\n",
              "      <td>52.1</td>\n",
              "      <td>15778.45</td>\n",
              "    </tr>\n",
              "    <tr>\n",
              "      <th>30-07-2021</th>\n",
              "      <td>51.6</td>\n",
              "      <td>15763.05</td>\n",
              "    </tr>\n",
              "  </tbody>\n",
              "</table>\n",
              "</div>"
            ],
            "text/plain": [
              "            close  NIFTY, NSE: Close\n",
              "date                                \n",
              "29-07-2021   52.1           15778.45\n",
              "30-07-2021   51.6           15763.05"
            ]
          },
          "metadata": {
            "tags": []
          },
          "execution_count": 10
        }
      ]
    },
    {
      "cell_type": "code",
      "metadata": {
        "id": "78Y2O7cwf5Up"
      },
      "source": [
        "data_subset.columns=['close_eem','close_nifty']"
      ],
      "execution_count": 11,
      "outputs": []
    },
    {
      "cell_type": "code",
      "metadata": {
        "id": "-G3dt9cZf5SX"
      },
      "source": [
        "data_subset['close_percent_eem']=data_subset['close_eem'].pct_change(7)\n",
        "data_subset['close_percent_nifty']=data_subset['close_nifty'].pct_change(7)"
      ],
      "execution_count": 12,
      "outputs": []
    },
    {
      "cell_type": "code",
      "metadata": {
        "id": "50p1CBQoiiKQ"
      },
      "source": [
        "data_subset.dropna(inplace=True)"
      ],
      "execution_count": 13,
      "outputs": []
    },
    {
      "cell_type": "code",
      "metadata": {
        "colab": {
          "base_uri": "https://localhost:8080/",
          "height": 443
        },
        "id": "oBsRXsamf5Py",
        "outputId": "d7a45ab3-3d60-4dac-8dc9-751a21231a9f"
      },
      "source": [
        "g=sns.jointplot(x='close_percent_eem',y='close_percent_nifty',data=data_subset,kind='reg').plot_joint(sns.kdeplot,n_levels=6)\n",
        "r, p = pearsonr(data_subset['close_percent_eem'], data_subset['close_percent_nifty'])\n",
        "phantom, = g.ax_joint.plot([], [], linestyle=\"\", alpha=0)\n",
        "g.ax_joint.legend([phantom],['r={:f}, p={:f}'.format(r,p)])\n",
        "plt.suptitle(f'Correlation for last {7 , r} days')\n",
        "plt.show()"
      ],
      "execution_count": 14,
      "outputs": [
        {
          "output_type": "display_data",
          "data": {
            "image/png": "[encoded data removed]",
            "text/plain": [
              "<Figure size 432x432 with 3 Axes>"
            ]
          },
          "metadata": {
            "tags": [],
            "needs_background": "light"
          }
        }
      ]
    },
    {
      "cell_type": "code",
      "metadata": {
        "id": "1PcnYupyf5Ni"
      },
      "source": [
        ""
      ],
      "execution_count": 14,
      "outputs": []
    },
    {
      "cell_type": "code",
      "metadata": {
        "id": "LhbPu_2Bf5LG"
      },
      "source": [
        ""
      ],
      "execution_count": 14,
      "outputs": []
    },
    {
      "cell_type": "code",
      "metadata": {
        "id": "fBKfCufBf5Ic"
      },
      "source": [
        ""
      ],
      "execution_count": 14,
      "outputs": []
    },
    {
      "cell_type": "code",
      "metadata": {
        "id": "K-4XTJwzf5Fn"
      },
      "source": [
        ""
      ],
      "execution_count": 14,
      "outputs": []
    }
  ]
}