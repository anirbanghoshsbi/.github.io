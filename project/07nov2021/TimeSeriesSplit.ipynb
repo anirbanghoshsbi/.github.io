{
  "nbformat": 4,
  "nbformat_minor": 0,
  "metadata": {
    "colab": {
      "name": "TimeSeriesSplit.ipynb",
      "provenance": [],
      "authorship_tag": "ABX9TyOjv1tbTlF4TXNU3vPCt+zn",
      "include_colab_link": true
    },
    "kernelspec": {
      "name": "python3",
      "display_name": "Python 3"
    },
    "language_info": {
      "name": "python"
    }
  },
  "cells": [
    {
      "cell_type": "markdown",
      "metadata": {
        "id": "view-in-github",
        "colab_type": "text"
      },
      "source": [
        "<a href=\"https://colab.research.google.com/github/anirbanghoshsbi/.github.io/blob/master/project/07nov2021/TimeSeriesSplit.ipynb\" target=\"_parent\"><img src=\"https://colab.research.google.com/assets/colab-badge.svg\" alt=\"Open In Colab\"/></a>"
      ]
    },
    {
      "cell_type": "code",
      "metadata": {
        "id": "iT-0Rf0j0jGV",
        "outputId": "327720a0-6d55-459c-9b32-f9b6d8222769",
        "colab": {
          "base_uri": "https://localhost:8080/"
        }
      },
      "source": [
        "!pip install yfinance\n",
        "!pip install pandas-ta==0.2.45b"
      ],
      "execution_count": 1,
      "outputs": [
        {
          "output_type": "stream",
          "name": "stdout",
          "text": [
            "Collecting yfinance\n",
            "  Downloading yfinance-0.1.68-py2.py3-none-any.whl (26 kB)\n",
            "Requirement already satisfied: numpy>=1.15 in /usr/local/lib/python3.7/dist-packages (from yfinance) (1.19.5)\n",
            "Collecting lxml>=4.5.1\n",
            "  Downloading lxml-4.7.1-cp37-cp37m-manylinux_2_17_x86_64.manylinux2014_x86_64.manylinux_2_24_x86_64.whl (6.4 MB)\n",
            "\u001b[K     |████████████████████████████████| 6.4 MB 9.2 MB/s \n",
            "\u001b[?25hRequirement already satisfied: multitasking>=0.0.7 in /usr/local/lib/python3.7/dist-packages (from yfinance) (0.0.10)\n",
            "Requirement already satisfied: pandas>=0.24 in /usr/local/lib/python3.7/dist-packages (from yfinance) (1.1.5)\n",
            "Collecting requests>=2.26\n",
            "  Downloading requests-2.27.1-py2.py3-none-any.whl (63 kB)\n",
            "\u001b[K     |████████████████████████████████| 63 kB 1.8 MB/s \n",
            "\u001b[?25hRequirement already satisfied: python-dateutil>=2.7.3 in /usr/local/lib/python3.7/dist-packages (from pandas>=0.24->yfinance) (2.8.2)\n",
            "Requirement already satisfied: pytz>=2017.2 in /usr/local/lib/python3.7/dist-packages (from pandas>=0.24->yfinance) (2018.9)\n",
            "Requirement already satisfied: six>=1.5 in /usr/local/lib/python3.7/dist-packages (from python-dateutil>=2.7.3->pandas>=0.24->yfinance) (1.15.0)\n",
            "Requirement already satisfied: idna<4,>=2.5 in /usr/local/lib/python3.7/dist-packages (from requests>=2.26->yfinance) (2.10)\n",
            "Requirement already satisfied: charset-normalizer~=2.0.0 in /usr/local/lib/python3.7/dist-packages (from requests>=2.26->yfinance) (2.0.9)\n",
            "Requirement already satisfied: certifi>=2017.4.17 in /usr/local/lib/python3.7/dist-packages (from requests>=2.26->yfinance) (2021.10.8)\n",
            "Requirement already satisfied: urllib3<1.27,>=1.21.1 in /usr/local/lib/python3.7/dist-packages (from requests>=2.26->yfinance) (1.24.3)\n",
            "Installing collected packages: requests, lxml, yfinance\n",
            "  Attempting uninstall: requests\n",
            "    Found existing installation: requests 2.23.0\n",
            "    Uninstalling requests-2.23.0:\n",
            "      Successfully uninstalled requests-2.23.0\n",
            "  Attempting uninstall: lxml\n",
            "    Found existing installation: lxml 4.2.6\n",
            "    Uninstalling lxml-4.2.6:\n",
            "      Successfully uninstalled lxml-4.2.6\n",
            "\u001b[31mERROR: pip's dependency resolver does not currently take into account all the packages that are installed. This behaviour is the source of the following dependency conflicts.\n",
            "google-colab 1.0.0 requires requests~=2.23.0, but you have requests 2.27.1 which is incompatible.\n",
            "datascience 0.10.6 requires folium==0.2.1, but you have folium 0.8.3 which is incompatible.\u001b[0m\n",
            "Successfully installed lxml-4.7.1 requests-2.27.1 yfinance-0.1.68\n",
            "Collecting pandas-ta==0.2.45b\n",
            "  Downloading pandas_ta-0.2.45b.tar.gz (88 kB)\n",
            "\u001b[K     |████████████████████████████████| 88 kB 4.7 MB/s \n",
            "\u001b[?25hRequirement already satisfied: pandas in /usr/local/lib/python3.7/dist-packages (from pandas-ta==0.2.45b) (1.1.5)\n",
            "Requirement already satisfied: numpy>=1.15.4 in /usr/local/lib/python3.7/dist-packages (from pandas->pandas-ta==0.2.45b) (1.19.5)\n",
            "Requirement already satisfied: pytz>=2017.2 in /usr/local/lib/python3.7/dist-packages (from pandas->pandas-ta==0.2.45b) (2018.9)\n",
            "Requirement already satisfied: python-dateutil>=2.7.3 in /usr/local/lib/python3.7/dist-packages (from pandas->pandas-ta==0.2.45b) (2.8.2)\n",
            "Requirement already satisfied: six>=1.5 in /usr/local/lib/python3.7/dist-packages (from python-dateutil>=2.7.3->pandas->pandas-ta==0.2.45b) (1.15.0)\n",
            "Building wheels for collected packages: pandas-ta\n",
            "  Building wheel for pandas-ta (setup.py) ... \u001b[?25l\u001b[?25hdone\n",
            "  Created wheel for pandas-ta: filename=pandas_ta-0.2.45b0-py3-none-any.whl size=175303 sha256=98cbb8eae47de460e6afa599656ce5424edc1ce481d4c00c074d89f07272d718\n",
            "  Stored in directory: /root/.cache/pip/wheels/b1/49/60/e674e28ae57160651c6198b76e1714a0b175e44e022fcd5137\n",
            "Successfully built pandas-ta\n",
            "Installing collected packages: pandas-ta\n",
            "Successfully installed pandas-ta-0.2.45b0\n"
          ]
        }
      ]
    },
    {
      "cell_type": "code",
      "metadata": {
        "id": "2ZJ2_HCBttqL",
        "outputId": "3cf01894-61ce-4f78-8fdb-0087985d4b07",
        "colab": {
          "base_uri": "https://localhost:8080/"
        }
      },
      "source": [
        "!pip install colorama"
      ],
      "execution_count": 2,
      "outputs": [
        {
          "output_type": "stream",
          "name": "stdout",
          "text": [
            "Collecting colorama\n",
            "  Downloading colorama-0.4.4-py2.py3-none-any.whl (16 kB)\n",
            "Installing collected packages: colorama\n",
            "Successfully installed colorama-0.4.4\n"
          ]
        }
      ]
    },
    {
      "cell_type": "code",
      "metadata": {
        "id": "GA6NCi_W0loc"
      },
      "source": [
        "import yfinance as yf\n",
        "import pandas_ta as ta\n",
        "import numpy as np\n",
        "import pandas as pd\n",
        "from sklearn.ensemble import RandomForestClassifier\n",
        "from sklearn.metrics import accuracy_score, classification_report,f1_score\n",
        "import datetime as dt\n",
        "from sklearn.model_selection import RandomizedSearchCV\n",
        "from colorama import Fore, Back, Style\n",
        "import seaborn as sns\n",
        "import plotly.express as px\n",
        "import matplotlib\n",
        "from matplotlib.patches import Patch\n",
        "from matplotlib import pyplot as plt\n",
        "plt.rcParams.update({'figure.max_open_warning': 0})\n",
        "plt.style.use('fivethirtyeight')\n",
        "cmap_data = plt.cm.Paired\n",
        "cmap_cv = plt.cm.coolwarm"
      ],
      "execution_count": 3,
      "outputs": []
    },
    {
      "cell_type": "code",
      "source": [
        "def best_param_rf(X_train , y_train , iterations=100):\n",
        "      \n",
        "\n",
        "\n",
        "      # Number of trees is not a parameter that should be tuned, but just set large enough usually. There is no risk of overfitting in random forest with growing number of # trees, as they are trained independently from each other. \n",
        "      n_estimators = list(range(20, 400, 20))\n",
        "\n",
        "      # Number of features to consider at every split\n",
        "      max_features = ['auto', 'sqrt', None, 'log2']\n",
        "\n",
        "      # Maximum number of levels in tree\n",
        "      # Max depth is a parameter that most of the times should be set as high as possible, but possibly better performance can be achieved by setting it lower.\n",
        "      max_depth = list(range(5, 50, 10))\n",
        "      max_depth.append(None)\n",
        "\n",
        "      # Minimum number of samples required to split a node\n",
        "      # Higher values prevent a model from learning relations which might be highly specific to the particular sample selected for a tree. Too high values can also lead to # under-fitting hence depending on the level of underfitting or overfitting, you can tune the values for min_samples_split.\n",
        "      min_samples_split = [10, 20, 30, 40]\n",
        "\n",
        "      # Minimum number of samples required at each leaf node\n",
        "      min_samples_leaf = [5, 7, 12, 14]\n",
        "\n",
        "      # Method of selecting samples for training each tree\n",
        "      bootstrap = [True, False]\n",
        "\n",
        "      # Create the random grid\n",
        "      random_grid = {'n_estimators': n_estimators,\n",
        "                     'max_features': max_features,\n",
        "                     'max_depth': max_depth,\n",
        "                     'min_samples_split': min_samples_split,\n",
        "                     'min_samples_leaf': min_samples_leaf,\n",
        "                     'bootstrap': bootstrap}\n",
        "\n",
        "      print(random_grid)\n",
        "\n",
        "      # New Random Forest Classifier to house optimal parameters\n",
        "      rf = RandomForestClassifier()\n",
        "\n",
        "      # Specfiy the details of our Randomized Search\n",
        "      rf_random = RandomizedSearchCV(estimator = rf, param_distributions = random_grid, n_iter = iterations, cv = 3, verbose=2, random_state=42, n_jobs = -1)\n",
        "\n",
        "      # Fit the random search model\n",
        "      rf_random.fit(X_train, y_train)\n",
        "      dictionary = dict()\n",
        "      dictionary['Best Score'] = rf_random.best_score_\n",
        "      dictionary['Best parameters'] = rf_random.best_estimator_.get_params()\n",
        "      #print(f\"Best score: {rf_random.best_score_}\")\n",
        "      #print(\"Best parameters set:\")\n",
        "      #best_parameters = rf_random.best_estimator_.get_params()\n",
        "      #for param_name in sorted(random_grid.keys()):\n",
        "      #  print(f\"\\t{param_name}: {best_parameters[param_name]}\")\n",
        "      return dictionary"
      ],
      "metadata": {
        "id": "MK1SFsBqZ_Tv"
      },
      "execution_count": 4,
      "outputs": []
    },
    {
      "cell_type": "code",
      "metadata": {
        "id": "wFp6-Coc0n1m"
      },
      "source": [
        "def plot_cv_indices(cv, n_splits, X, y, date_col = None):\n",
        "    \"\"\"Create a sample plot for indices of a cross-validation object.\"\"\"\n",
        "    \n",
        "    fig, ax = plt.subplots(1, 1, figsize = (11, 7))\n",
        "    \n",
        "    # Generate the training/testing visualizations for each CV split\n",
        "    for ii, (tr, tt) in enumerate(cv.split(X=X, y=y)):\n",
        "        # Fill in indices with the training/test groups\n",
        "        indices = np.array([np.nan] * len(X))\n",
        "        indices[tt] = 1\n",
        "        indices[tr] = 0\n",
        "\n",
        "        # Visualize the results\n",
        "        ax.scatter(range(len(indices)), [ii + .5] * len(indices),\n",
        "                   c=indices, marker='_', lw=10, cmap=cmap_cv,\n",
        "                   vmin=-.2, vmax=1.2)\n",
        "\n",
        "\n",
        "    # Formatting\n",
        "    yticklabels = list(range(n_splits))\n",
        "    \n",
        "    if date_col is not None:\n",
        "        tick_locations  = ax.get_xticks()\n",
        "        tick_dates = [\" \"] + date_col.iloc[list(tick_locations[1:-1])].astype(str).tolist() + [\" \"]\n",
        "\n",
        "        tick_locations_str = [str(int(i)) for i in tick_locations]\n",
        "        new_labels = ['\\n\\n'.join(x) for x in zip(list(tick_locations_str), tick_dates) ]\n",
        "        ax.set_xticks(tick_locations)\n",
        "        ax.set_xticklabels(new_labels)\n",
        "    \n",
        "    ax.set(yticks=np.arange(n_splits+2) + .5, yticklabels=yticklabels,\n",
        "           xlabel='Sample index', ylabel=\"CV iteration\",\n",
        "           ylim=[n_splits+0.2, -.2])\n",
        "    ax.legend([Patch(color=cmap_cv(.8)), Patch(color=cmap_cv(.02))],\n",
        "              ['Testing set', 'Training set'], loc=(1.02, .8))\n",
        "    ax.set_title('{}'.format(type(cv).__name__), fontsize=15)\n",
        "           \n"
      ],
      "execution_count": 5,
      "outputs": []
    },
    {
      "cell_type": "code",
      "source": [
        "class BlockingTimeSeriesSplit():\n",
        "    def __init__(self, n_splits):\n",
        "        self.n_splits = n_splits\n",
        "    \n",
        "    def get_n_splits(self, X, y, groups):\n",
        "        return self.n_splits\n",
        "    \n",
        "    def split(self, X, y=None, groups=None):\n",
        "        n_samples = len(X)\n",
        "        k_fold_size = n_samples // self.n_splits\n",
        "        indices = np.arange(n_samples)\n",
        "\n",
        "        margin = 0\n",
        "        for i in range(self.n_splits):\n",
        "            start = i * k_fold_size\n",
        "            stop = start + k_fold_size\n",
        "            mid = int(0.8 * (stop - start)) + start\n",
        "            yield indices[start: mid], indices[mid + margin: stop]"
      ],
      "metadata": {
        "id": "upscboI_V2FQ"
      },
      "execution_count": 6,
      "outputs": []
    },
    {
      "cell_type": "code",
      "metadata": {
        "colab": {
          "base_uri": "https://localhost:8080/"
        },
        "id": "-_r-y_Nc01gH",
        "outputId": "5fa1ab71-8733-4264-c668-82c5f7c74da5"
      },
      "source": [
        "data_for_modeling=yf.download('^nsei',start='2007-01-01',end='2020-12-01',parse_dates=['Date']).reset_index()"
      ],
      "execution_count": 7,
      "outputs": [
        {
          "output_type": "stream",
          "name": "stdout",
          "text": [
            "\r[*********************100%***********************]  1 of 1 completed\n"
          ]
        }
      ]
    },
    {
      "cell_type": "code",
      "source": [
        "data_for_modeling['Date']=data_for_modeling['Date'].map(dt.datetime.toordinal)"
      ],
      "metadata": {
        "id": "cTO14VRdIue1"
      },
      "execution_count": 8,
      "outputs": []
    },
    {
      "cell_type": "code",
      "metadata": {
        "id": "k1yL6yOm93FD",
        "colab": {
          "base_uri": "https://localhost:8080/"
        },
        "outputId": "10b83dd3-8b8c-4bd0-8f80-64898f8d7fa3"
      },
      "source": [
        "from numpy.lib.function_base import append\n",
        "data_for_modeling.ta.macd(fast=45, slow= 30, signal=18, append=True)\n",
        "data_for_modeling.ta.vortex(length=28,append=True)\n",
        "data_for_modeling.ta.aroon(length=28,append=True)\n",
        "data_for_modeling.ta.ema(length=26,append=True)\n",
        "#data_for_modeling.ta.bbands(append=True)\n",
        "#data_for_modeling.ta.percent_return(length=28,append=True)\n",
        "#data_for_modeling.ta.log_return(length=28,append=True)\n",
        "data_for_modeling.ta.kurtosis(append=True)\n",
        "data_for_modeling.ta.linreg(length=28,append=True)\n",
        "data_for_modeling.ta.quantile(append=True)\n",
        "\n",
        "print()"
      ],
      "execution_count": 9,
      "outputs": [
        {
          "output_type": "stream",
          "name": "stdout",
          "text": [
            "\n"
          ]
        }
      ]
    },
    {
      "cell_type": "code",
      "source": [
        "data_for_modeling.columns"
      ],
      "metadata": {
        "colab": {
          "base_uri": "https://localhost:8080/"
        },
        "id": "NPTqdQdao1Fc",
        "outputId": "2c23ac40-7df8-4d6c-d98b-cfd955ddd450"
      },
      "execution_count": 10,
      "outputs": [
        {
          "output_type": "execute_result",
          "data": {
            "text/plain": [
              "Index(['date', 'open', 'high', 'low', 'close', 'adj_close', 'volume',\n",
              "       'MACD_30_45_18', 'MACDh_30_45_18', 'MACDs_30_45_18', 'VTXP_28',\n",
              "       'VTXM_28', 'AROOND_28', 'AROONU_28', 'AROONOSC_28', 'EMA_26', 'KURT_30',\n",
              "       'LR_28', 'QTL_30_0.5'],\n",
              "      dtype='object')"
            ]
          },
          "metadata": {},
          "execution_count": 10
        }
      ]
    },
    {
      "cell_type": "code",
      "source": [
        "data_for_modeling['imp']=np.where(data_for_modeling['EMA_26']>data_for_modeling['EMA_26'].shift(1),1,-1)\n",
        "data_for_modeling['impu']=np.where(data_for_modeling['MACDh_30_45_18']>data_for_modeling['MACDh_30_45_18'].shift(1),1,-1)\n",
        "data_for_modeling['Impulse']=data_for_modeling['imp']+data_for_modeling['impu']\n",
        "data_for_modeling['spread']=data_for_modeling['adj_close']-data_for_modeling['LR_28']"
      ],
      "metadata": {
        "id": "aeu5KwioosiS"
      },
      "execution_count": 11,
      "outputs": []
    },
    {
      "cell_type": "code",
      "metadata": {
        "id": "5vra0B4T2_On"
      },
      "source": [
        "#data_for_modeling.rename(columns={'date':'Date'},inplace=True)"
      ],
      "execution_count": 12,
      "outputs": []
    },
    {
      "cell_type": "code",
      "metadata": {
        "id": "eD5AJVbX-m3N"
      },
      "source": [
        "features=data_for_modeling.columns.tolist()"
      ],
      "execution_count": 13,
      "outputs": []
    },
    {
      "cell_type": "code",
      "metadata": {
        "id": "ijrI_cbKAIoL"
      },
      "source": [
        "features=[feats for feats in features if feats not in ['close','open','low','high','imp','impu']]"
      ],
      "execution_count": 14,
      "outputs": []
    },
    {
      "cell_type": "code",
      "metadata": {
        "id": "nb0u5PE-6KDe"
      },
      "source": [
        "data_for_modeling['Signal']=data_for_modeling['close'].transform(lambda x : np.sign(x.diff(30)))\n"
      ],
      "execution_count": 15,
      "outputs": []
    },
    {
      "cell_type": "code",
      "metadata": {
        "id": "on5BBlFVc5db"
      },
      "source": [
        "data_for_modeling=data_for_modeling.dropna()"
      ],
      "execution_count": 16,
      "outputs": []
    },
    {
      "cell_type": "code",
      "metadata": {
        "id": "CbatNYPXnrKm"
      },
      "source": [
        "X=data_for_modeling[features]\n",
        "y=data_for_modeling['Signal']"
      ],
      "execution_count": 17,
      "outputs": []
    },
    {
      "cell_type": "code",
      "source": [
        "chk='Timeseries' #Block"
      ],
      "metadata": {
        "id": "03FGLeXKWqgc"
      },
      "execution_count": 18,
      "outputs": []
    },
    {
      "cell_type": "code",
      "metadata": {
        "id": "iIuESx3ynl7q",
        "outputId": "573c491d-bf1c-4211-f0ef-367acfdecc4c",
        "colab": {
          "base_uri": "https://localhost:8080/"
        }
      },
      "source": [
        "from sklearn.model_selection import TimeSeriesSplit\n",
        "\n",
        "if chk=='Block':\n",
        "  tscv = BlockingTimeSeriesSplit(n_splits=10)\n",
        "\n",
        "  for fold, (train_index, test_index) in enumerate(tscv.split(X)):\n",
        "      print(\"Fold: {}\".format(fold))\n",
        "      X_train, X_test = X.iloc[train_index], X.iloc[test_index]\n",
        "      y_train, y_test = y.iloc[train_index], y.iloc[test_index]\n",
        "elif chk=='Timeseries':\n",
        "  tscv = TimeSeriesSplit(n_splits=15)\n",
        "  for fold, (train_index, test_index) in enumerate(tscv.split(X)):\n",
        "      print(\"Fold: {}\".format(fold))\n",
        "      X_train, X_test = X.iloc[train_index], X.iloc[test_index]\n",
        "      y_train, y_test = y.iloc[train_index], y.iloc[test_index]"
      ],
      "execution_count": 19,
      "outputs": [
        {
          "output_type": "stream",
          "name": "stdout",
          "text": [
            "Fold: 0\n",
            "Fold: 1\n",
            "Fold: 2\n",
            "Fold: 3\n",
            "Fold: 4\n",
            "Fold: 5\n",
            "Fold: 6\n",
            "Fold: 7\n",
            "Fold: 8\n",
            "Fold: 9\n",
            "Fold: 10\n",
            "Fold: 11\n",
            "Fold: 12\n",
            "Fold: 13\n",
            "Fold: 14\n"
          ]
        }
      ]
    },
    {
      "cell_type": "code",
      "metadata": {
        "id": "DHrNVkAMsG6e",
        "outputId": "da664f82-0dd3-4ed5-8ef5-029440eb3381",
        "colab": {
          "base_uri": "https://localhost:8080/",
          "height": 463
        }
      },
      "source": [
        "plot_cv_indices(tscv,15, X, y)"
      ],
      "execution_count": 20,
      "outputs": [
        {
          "output_type": "display_data",
          "data": {
            "image/png": "[encoded data removed]",
            "text/plain": [
              "<Figure size 792x504 with 1 Axes>"
            ]
          },
          "metadata": {}
        }
      ]
    },
    {
      "cell_type": "code",
      "metadata": {
        "id": "fMof2xk8sjzB"
      },
      "source": [
        "\n",
        "for train_index, test_index in tscv.split(X,y):\n",
        "    X_train, X_test = X.iloc[train_index], X.iloc[test_index]\n",
        "    y_train, y_test = y.iloc[train_index], y.iloc[test_index]\n",
        "    \n"
      ],
      "execution_count": 21,
      "outputs": []
    },
    {
      "cell_type": "code",
      "source": [
        "X_train.shape,X_test.shape"
      ],
      "metadata": {
        "id": "NvWLrLdiE6OL",
        "outputId": "d3f6ac50-9e07-40b6-d9c2-a21df1ac770d",
        "colab": {
          "base_uri": "https://localhost:8080/"
        }
      },
      "execution_count": 22,
      "outputs": [
        {
          "output_type": "execute_result",
          "data": {
            "text/plain": [
              "((2970, 17), (198, 17))"
            ]
          },
          "metadata": {},
          "execution_count": 22
        }
      ]
    },
    {
      "cell_type": "code",
      "source": [
        "#best_param_rf(X_train , y_train)"
      ],
      "metadata": {
        "id": "BNGYxMo2acn2"
      },
      "execution_count": 23,
      "outputs": []
    },
    {
      "cell_type": "code",
      "metadata": {
        "id": "8AVW55oioiVP"
      },
      "source": [
        "rand_frst_clf = RandomForestClassifier(n_estimators =220,max_depth=35,min_samples_leaf=14,max_features = \"auto\",min_samples_split=40, criterion = \"gini\", bootstrap=True,random_state = 42)"
      ],
      "execution_count": 24,
      "outputs": []
    },
    {
      "cell_type": "code",
      "metadata": {
        "id": "_pETQ41Jo1qR",
        "outputId": "23a62240-e5f4-40e8-e0b3-fa908d1c09e2",
        "colab": {
          "base_uri": "https://localhost:8080/"
        }
      },
      "source": [
        "\n",
        "# Fit the data to the model\n",
        "rand_frst_clf.fit(X_train, y_train)"
      ],
      "execution_count": 25,
      "outputs": [
        {
          "output_type": "execute_result",
          "data": {
            "text/plain": [
              "RandomForestClassifier(max_depth=35, min_samples_leaf=14, min_samples_split=40,\n",
              "                       n_estimators=220, random_state=42)"
            ]
          },
          "metadata": {},
          "execution_count": 25
        }
      ]
    },
    {
      "cell_type": "code",
      "source": [
        "feature_imp = pd.Series(rand_frst_clf.feature_importances_, index=X_train.columns).sort_values(ascending=False)\n",
        "feature_imp*100\n",
        "feats=X_train.columns\n",
        "feature_imp"
      ],
      "metadata": {
        "colab": {
          "base_uri": "https://localhost:8080/"
        },
        "id": "6pUsdhRbrcBb",
        "outputId": "23d27421-32b6-4af6-a8c2-9ceae4cdb707"
      },
      "execution_count": 26,
      "outputs": [
        {
          "output_type": "execute_result",
          "data": {
            "text/plain": [
              "VTXP_28           0.270729\n",
              "VTXM_28           0.229600\n",
              "AROONOSC_28       0.158322\n",
              "AROONU_28         0.124452\n",
              "MACDh_30_45_18    0.064204\n",
              "MACD_30_45_18     0.044804\n",
              "AROOND_28         0.040286\n",
              "MACDs_30_45_18    0.020827\n",
              "Impulse           0.017657\n",
              "LR_28             0.005628\n",
              "adj_close         0.005166\n",
              "spread            0.004891\n",
              "date              0.003992\n",
              "EMA_26            0.003039\n",
              "KURT_30           0.002596\n",
              "QTL_30_0.5        0.002477\n",
              "volume            0.001329\n",
              "dtype: float64"
            ]
          },
          "metadata": {},
          "execution_count": 26
        }
      ]
    },
    {
      "cell_type": "code",
      "source": [
        "y_pd= rand_frst_clf.predict(X_train)"
      ],
      "metadata": {
        "id": "p1sFRgtDAeWj"
      },
      "execution_count": 27,
      "outputs": []
    },
    {
      "cell_type": "code",
      "source": [
        "y_pd.reshape(-1,1).shape,X_train.shape"
      ],
      "metadata": {
        "id": "AMCnYD-dBjxz",
        "outputId": "c391e1f5-fdbf-438c-a73d-9896b01cfb0e",
        "colab": {
          "base_uri": "https://localhost:8080/"
        }
      },
      "execution_count": 38,
      "outputs": [
        {
          "output_type": "execute_result",
          "data": {
            "text/plain": [
              "((2970, 1), (2970, 17))"
            ]
          },
          "metadata": {},
          "execution_count": 38
        }
      ]
    },
    {
      "cell_type": "code",
      "source": [
        "np.concatenate((X_train,y_pd.reshape(-1,1)),axis=1)"
      ],
      "metadata": {
        "id": "n5_dzzRnAjlC",
        "outputId": "0c194abe-7ad8-4511-ce46-61049ca7f2c6",
        "colab": {
          "base_uri": "https://localhost:8080/"
        }
      },
      "execution_count": 39,
      "outputs": [
        {
          "output_type": "execute_result",
          "data": {
            "text/plain": [
              "array([[ 7.33023000e+05,  6.05810010e+03,  0.00000000e+00, ...,\n",
              "         0.00000000e+00,  1.16527919e+02,  1.00000000e+00],\n",
              "       [ 7.33024000e+05,  6.04770020e+03,  0.00000000e+00, ...,\n",
              "         2.00000000e+00,  7.46437529e+01,  1.00000000e+00],\n",
              "       [ 7.33027000e+05,  5.77700000e+03,  0.00000000e+00, ...,\n",
              "        -2.00000000e+00, -1.87638337e+02,  1.00000000e+00],\n",
              "       ...,\n",
              "       [ 7.37462000e+05,  1.20983496e+04,  4.73500000e+05, ...,\n",
              "         0.00000000e+00,  4.61792743e+01, -1.00000000e+00],\n",
              "       [ 7.37465000e+05,  1.20315000e+04,  5.24700000e+05, ...,\n",
              "         0.00000000e+00, -7.39571120e+00, -1.00000000e+00],\n",
              "       [ 7.37466000e+05,  1.21079004e+04,  4.80000000e+05, ...,\n",
              "         2.00000000e+00,  6.51307461e+01, -1.00000000e+00]])"
            ]
          },
          "metadata": {},
          "execution_count": 39
        }
      ]
    },
    {
      "cell_type": "code",
      "metadata": {
        "id": "6Vh1qtLGqDxa"
      },
      "source": [
        "# Make predictions\n",
        "y_pred = rand_frst_clf.predict(X_test)"
      ],
      "execution_count": null,
      "outputs": []
    },
    {
      "cell_type": "code",
      "metadata": {
        "id": "izyOwtx-qEoe"
      },
      "source": [
        "plt.figure(figsize=(10,5))\n",
        "pd.Series(y_pred).plot();"
      ],
      "execution_count": null,
      "outputs": []
    },
    {
      "cell_type": "code",
      "source": [
        "plt.figure(figsize=(10,5))\n",
        "X_test['adj_close'].plot();"
      ],
      "metadata": {
        "id": "VneAyPzQJQsO"
      },
      "execution_count": null,
      "outputs": []
    },
    {
      "cell_type": "code",
      "source": [
        "timeseries=pd.concat([X_test['adj_close'].reset_index(),pd.Series(y_pred)],axis=1)"
      ],
      "metadata": {
        "id": "RgMWyIYhlUns"
      },
      "execution_count": null,
      "outputs": []
    },
    {
      "cell_type": "code",
      "source": [
        "timeseries.columns=['index','close','prediction']"
      ],
      "metadata": {
        "id": "kOumx22HlZ9g"
      },
      "execution_count": null,
      "outputs": []
    },
    {
      "cell_type": "code",
      "source": [
        "timeseries.set_index('index',inplace=True)"
      ],
      "metadata": {
        "id": "87wGu2sjTCk-"
      },
      "execution_count": null,
      "outputs": []
    },
    {
      "cell_type": "code",
      "source": [
        "fig, ax = plt.subplots(2,1, figsize=(15,9),sharex=True)\n",
        "ax[0].plot(timeseries.loc[:, :].index, timeseries.loc[:, 'close'], label='close')\n",
        "ax[1].plot(timeseries.loc[:, :].index, timeseries.loc[:, 'prediction'], label='Nifty')\n",
        "ax[0].legend()\n",
        "ax[1].legend()\n",
        "plt.show()"
      ],
      "metadata": {
        "id": "40Yg_GqISjqs"
      },
      "execution_count": null,
      "outputs": []
    },
    {
      "cell_type": "code",
      "source": [
        "data_for_testing=yf.download('^nsei',start='2021-01-01',parse_dates=['Date']).reset_index()"
      ],
      "metadata": {
        "id": "s2Uu4ReXTZp_"
      },
      "execution_count": null,
      "outputs": []
    },
    {
      "cell_type": "code",
      "source": [
        "data_for_testing['Date']=data_for_testing['Date'].map(dt.datetime.toordinal)"
      ],
      "metadata": {
        "id": "NCeuU_qSY3q9"
      },
      "execution_count": null,
      "outputs": []
    },
    {
      "cell_type": "code",
      "source": [
        "data_for_testing.ta.macd(fast=45, slow= 30, signal=18, append=True)\n",
        "data_for_testing.ta.vortex(length=28,append=True)\n",
        "data_for_testing.ta.aroon(length=28,append=True)\n",
        "data_for_testing.ta.ema(length=26,append=True)\n",
        "data_for_testing.ta.kurtosis(append=True)\n",
        "data_for_testing.ta.linreg(length=28,append=True)\n",
        "data_for_testing.ta.quantile(append=True)\n",
        "print()"
      ],
      "metadata": {
        "id": "UDxGSOahYsWr"
      },
      "execution_count": null,
      "outputs": []
    },
    {
      "cell_type": "code",
      "source": [
        "data_for_testing['imp']=np.where(data_for_testing['EMA_26']>data_for_testing['EMA_26'].shift(1),1,-1)\n",
        "data_for_testing['impu']=np.where(data_for_testing['MACDh_30_45_18']>data_for_testing['MACDh_30_45_18'].shift(1),1,-1)\n",
        "data_for_testing['Impulse']=data_for_testing['imp']+data_for_testing['impu']\n",
        "data_for_testing['spread']=data_for_testing['adj_close']-data_for_testing['LR_28']"
      ],
      "metadata": {
        "id": "18ipCHdXq8Ji"
      },
      "execution_count": null,
      "outputs": []
    },
    {
      "cell_type": "code",
      "source": [
        "predict=rand_frst_clf.predict(data_for_testing[features].dropna())"
      ],
      "metadata": {
        "id": "tI6pbLNMZL08"
      },
      "execution_count": null,
      "outputs": []
    },
    {
      "cell_type": "code",
      "source": [
        "timeseries=pd.concat([data_for_testing['adj_close'].dropna()[-len(predict):].reset_index(),pd.Series(predict)],axis=1)"
      ],
      "metadata": {
        "id": "lsY0KvpZZXQd"
      },
      "execution_count": null,
      "outputs": []
    },
    {
      "cell_type": "code",
      "source": [
        "timeseries.columns=['index','adj_close','predict']"
      ],
      "metadata": {
        "id": "weKK-7G-Zpd0"
      },
      "execution_count": null,
      "outputs": []
    },
    {
      "cell_type": "code",
      "source": [
        "fig, ax = plt.subplots(figsize=(10,5),sharex=True)\n",
        "ax.plot(timeseries.loc[:, :].index, timeseries.loc[:, 'adj_close'], label='Nifty',color='g',marker='o')\n",
        "ax2=ax.twinx()\n",
        "ax2.plot(timeseries.loc[:, :].index, timeseries.loc[:, 'predict'], label='Prediction',color='r',linewidth=1)\n",
        "plt.show()"
      ],
      "metadata": {
        "id": "vHzazz-QZ2AL"
      },
      "execution_count": null,
      "outputs": []
    },
    {
      "cell_type": "code",
      "source": [
        ""
      ],
      "metadata": {
        "id": "1LZQpdRjagOu"
      },
      "execution_count": null,
      "outputs": []
    }
  ]
}