{
  "nbformat": 4,
  "nbformat_minor": 0,
  "metadata": {
    "colab": {
      "name": "TimeSeriesSplit.ipynb",
      "provenance": [],
      "authorship_tag": "ABX9TyPySibRt9yde4bBzBE5WVIR",
      "include_colab_link": true
    },
    "kernelspec": {
      "name": "python3",
      "display_name": "Python 3"
    },
    "language_info": {
      "name": "python"
    }
  },
  "cells": [
    {
      "cell_type": "markdown",
      "metadata": {
        "id": "view-in-github",
        "colab_type": "text"
      },
      "source": [
        "<a href=\"https://colab.research.google.com/github/anirbanghoshsbi/.github.io/blob/master/project/07nov2021/TimeSeriesSplit.ipynb\" target=\"_parent\"><img src=\"https://colab.research.google.com/assets/colab-badge.svg\" alt=\"Open In Colab\"/></a>"
      ]
    },
    {
      "cell_type": "code",
      "metadata": {
        "colab": {
          "base_uri": "https://localhost:8080/"
        },
        "id": "iT-0Rf0j0jGV",
        "outputId": "dd4d796c-665d-4952-b700-e79fcb75be92"
      },
      "source": [
        "!pip install yfinance\n",
        "!pip install pandas-ta==0.2.45b"
      ],
      "execution_count": 114,
      "outputs": [
        {
          "output_type": "stream",
          "name": "stdout",
          "text": [
            "Requirement already satisfied: yfinance in /usr/local/lib/python3.7/dist-packages (0.1.64)\n",
            "Requirement already satisfied: requests>=2.20 in /usr/local/lib/python3.7/dist-packages (from yfinance) (2.23.0)\n",
            "Requirement already satisfied: pandas>=0.24 in /usr/local/lib/python3.7/dist-packages (from yfinance) (1.1.5)\n",
            "Requirement already satisfied: lxml>=4.5.1 in /usr/local/lib/python3.7/dist-packages (from yfinance) (4.6.4)\n",
            "Requirement already satisfied: numpy>=1.15 in /usr/local/lib/python3.7/dist-packages (from yfinance) (1.19.5)\n",
            "Requirement already satisfied: multitasking>=0.0.7 in /usr/local/lib/python3.7/dist-packages (from yfinance) (0.0.9)\n",
            "Requirement already satisfied: python-dateutil>=2.7.3 in /usr/local/lib/python3.7/dist-packages (from pandas>=0.24->yfinance) (2.8.2)\n",
            "Requirement already satisfied: pytz>=2017.2 in /usr/local/lib/python3.7/dist-packages (from pandas>=0.24->yfinance) (2018.9)\n",
            "Requirement already satisfied: six>=1.5 in /usr/local/lib/python3.7/dist-packages (from python-dateutil>=2.7.3->pandas>=0.24->yfinance) (1.15.0)\n",
            "Requirement already satisfied: urllib3!=1.25.0,!=1.25.1,<1.26,>=1.21.1 in /usr/local/lib/python3.7/dist-packages (from requests>=2.20->yfinance) (1.24.3)\n",
            "Requirement already satisfied: idna<3,>=2.5 in /usr/local/lib/python3.7/dist-packages (from requests>=2.20->yfinance) (2.10)\n",
            "Requirement already satisfied: chardet<4,>=3.0.2 in /usr/local/lib/python3.7/dist-packages (from requests>=2.20->yfinance) (3.0.4)\n",
            "Requirement already satisfied: certifi>=2017.4.17 in /usr/local/lib/python3.7/dist-packages (from requests>=2.20->yfinance) (2021.5.30)\n",
            "Requirement already satisfied: pandas-ta==0.2.45b in /usr/local/lib/python3.7/dist-packages (0.2.45b0)\n",
            "Requirement already satisfied: pandas in /usr/local/lib/python3.7/dist-packages (from pandas-ta==0.2.45b) (1.1.5)\n",
            "Requirement already satisfied: python-dateutil>=2.7.3 in /usr/local/lib/python3.7/dist-packages (from pandas->pandas-ta==0.2.45b) (2.8.2)\n",
            "Requirement already satisfied: numpy>=1.15.4 in /usr/local/lib/python3.7/dist-packages (from pandas->pandas-ta==0.2.45b) (1.19.5)\n",
            "Requirement already satisfied: pytz>=2017.2 in /usr/local/lib/python3.7/dist-packages (from pandas->pandas-ta==0.2.45b) (2018.9)\n",
            "Requirement already satisfied: six>=1.5 in /usr/local/lib/python3.7/dist-packages (from python-dateutil>=2.7.3->pandas->pandas-ta==0.2.45b) (1.15.0)\n"
          ]
        }
      ]
    },
    {
      "cell_type": "code",
      "metadata": {
        "id": "GA6NCi_W0loc"
      },
      "source": [
        "import yfinance as yf\n",
        "import pandas_ta as ta\n",
        "import numpy as np\n",
        "from sklearn.ensemble import RandomForestClassifier\n",
        "from sklearn.metrics import accuracy_score, classification_report,f1_score"
      ],
      "execution_count": 115,
      "outputs": []
    },
    {
      "cell_type": "code",
      "metadata": {
        "id": "wFp6-Coc0n1m"
      },
      "source": [
        "import pandas as pd\n",
        "import datetime\n",
        "from datetime import datetime as dt\n",
        "from dateutil.relativedelta import *\n",
        "\n",
        "class TimeBasedCV(object):\n",
        "    '''\n",
        "    Parameters \n",
        "    ----------\n",
        "    train_period: int\n",
        "        number of time units to include in each train set\n",
        "        default is 30\n",
        "    test_period: int\n",
        "        number of time units to include in each test set\n",
        "        default is 7\n",
        "    freq: string\n",
        "        frequency of input parameters. possible values are: days, months, years, weeks, hours, minutes, seconds\n",
        "        possible values designed to be used by dateutil.relativedelta class\n",
        "        deafault is days\n",
        "    '''\n",
        "    \n",
        "    \n",
        "    def __init__(self, train_period=60, test_period=14, freq='days'):\n",
        "        self.train_period = train_period\n",
        "        self.test_period = test_period\n",
        "        self.freq = freq\n",
        "\n",
        "        \n",
        "        \n",
        "    def split(self, data, validation_split_date=None, date_column='Date', gap=0):\n",
        "        '''\n",
        "        Generate indices to split data into training and test set\n",
        "        \n",
        "        Parameters \n",
        "        ----------\n",
        "        data: pandas DataFrame\n",
        "            your data, contain one column for the record date \n",
        "        validation_split_date: datetime.date()\n",
        "            first date to perform the splitting on.\n",
        "            if not provided will set to be the minimum date in the data after the first training set\n",
        "        date_column: string, deafult='record_date'\n",
        "            date of each record\n",
        "        gap: int, default=0\n",
        "            for cases the test set does not come right after the train set,\n",
        "            *gap* days are left between train and test sets\n",
        "        \n",
        "        Returns \n",
        "        -------\n",
        "        train_index ,test_index: \n",
        "            list of tuples (train index, test index) similar to sklearn model selection\n",
        "        '''\n",
        "        \n",
        "        # check that date_column exist in the data:\n",
        "        try:\n",
        "            data[date_column]\n",
        "        except:\n",
        "            raise KeyError(date_column)\n",
        "                    \n",
        "        train_indices_list = []\n",
        "        test_indices_list = []\n",
        "\n",
        "        if validation_split_date==None:\n",
        "            validation_split_date = data[date_column].min().date() + eval('relativedelta('+self.freq+'=self.train_period)')\n",
        "        \n",
        "        start_train = validation_split_date - eval('relativedelta('+self.freq+'=self.train_period)')\n",
        "        end_train = start_train + eval('relativedelta('+self.freq+'=self.train_period)')\n",
        "        start_test = end_train + eval('relativedelta('+self.freq+'=gap)')\n",
        "        end_test = start_test + eval('relativedelta('+self.freq+'=self.test_period)')\n",
        "\n",
        "        while end_test < data[date_column].max().date():\n",
        "            # train indices:\n",
        "            cur_train_indices = list(data[(data[date_column].dt.date>=start_train) & \n",
        "                                     (data[date_column].dt.date<end_train)].index)\n",
        "\n",
        "            # test indices:\n",
        "            cur_test_indices = list(data[(data[date_column].dt.date>=start_test) &\n",
        "                                    (data[date_column].dt.date<end_test)].index)\n",
        "            \n",
        "            print(\"Train period:\",start_train,\"-\" , end_train, \", Test period\", start_test, \"-\", end_test,\n",
        "                  \"# train records\", len(cur_train_indices), \", # test records\", len(cur_test_indices))\n",
        "\n",
        "            train_indices_list.append(cur_train_indices)\n",
        "            test_indices_list.append(cur_test_indices)\n",
        "\n",
        "            # update dates:\n",
        "            start_train = start_train + eval('relativedelta('+self.freq+'=self.test_period)')\n",
        "            end_train = start_train + eval('relativedelta('+self.freq+'=self.train_period)')\n",
        "            start_test = end_train + eval('relativedelta('+self.freq+'=gap)')\n",
        "            end_test = start_test + eval('relativedelta('+self.freq+'=self.test_period)')\n",
        "\n",
        "        # mimic sklearn output  \n",
        "        index_output = [(train,test) for train,test in zip(train_indices_list,test_indices_list)]\n",
        "\n",
        "        self.n_splits = len(index_output)\n",
        "        \n",
        "        return index_output\n",
        "    \n",
        "    \n",
        "    def get_n_splits(self):\n",
        "        \"\"\"Returns the number of splitting iterations in the cross-validator\n",
        "        Returns\n",
        "        -------\n",
        "        n_splits : int\n",
        "            Returns the number of splitting iterations in the cross-validator.\n",
        "        \"\"\"\n",
        "        return self.n_splits "
      ],
      "execution_count": 116,
      "outputs": []
    },
    {
      "cell_type": "code",
      "metadata": {
        "colab": {
          "base_uri": "https://localhost:8080/"
        },
        "id": "-_r-y_Nc01gH",
        "outputId": "34566c8c-2f48-4697-ad14-38c70a24bf6a"
      },
      "source": [
        "data_for_modeling=yf.download('^nsei',start='2015-01-01',parse_dates=['Date']).reset_index()"
      ],
      "execution_count": 117,
      "outputs": [
        {
          "output_type": "stream",
          "name": "stdout",
          "text": [
            "\r[*********************100%***********************]  1 of 1 completed\n"
          ]
        }
      ]
    },
    {
      "cell_type": "code",
      "metadata": {
        "id": "k1yL6yOm93FD",
        "colab": {
          "base_uri": "https://localhost:8080/"
        },
        "outputId": "83f2b93b-0fdc-46ed-f074-e77d1f176e0e"
      },
      "source": [
        "data_for_modeling.ta.macd(append=True)\n",
        "data_for_modeling.ta.vortex(append=True)\n",
        "print()"
      ],
      "execution_count": 118,
      "outputs": [
        {
          "output_type": "stream",
          "name": "stdout",
          "text": [
            "\n"
          ]
        }
      ]
    },
    {
      "cell_type": "code",
      "metadata": {
        "id": "5vra0B4T2_On"
      },
      "source": [
        "data_for_modeling.rename(columns={'date':'Date'},inplace=True)"
      ],
      "execution_count": 119,
      "outputs": []
    },
    {
      "cell_type": "code",
      "metadata": {
        "id": "eD5AJVbX-m3N"
      },
      "source": [
        "features=data_for_modeling.columns.tolist()"
      ],
      "execution_count": 120,
      "outputs": []
    },
    {
      "cell_type": "code",
      "metadata": {
        "id": "ijrI_cbKAIoL",
        "colab": {
          "base_uri": "https://localhost:8080/"
        },
        "outputId": "e4128b08-98bd-4167-af3b-3f086da00b03"
      },
      "source": [
        "features"
      ],
      "execution_count": 121,
      "outputs": [
        {
          "output_type": "execute_result",
          "data": {
            "text/plain": [
              "['Date',\n",
              " 'open',\n",
              " 'high',\n",
              " 'low',\n",
              " 'close',\n",
              " 'adj_close',\n",
              " 'volume',\n",
              " 'MACD_12_26_9',\n",
              " 'MACDh_12_26_9',\n",
              " 'MACDs_12_26_9',\n",
              " 'VTXP_14',\n",
              " 'VTXM_14']"
            ]
          },
          "metadata": {},
          "execution_count": 121
        }
      ]
    },
    {
      "cell_type": "code",
      "metadata": {
        "id": "nb0u5PE-6KDe"
      },
      "source": [
        "data_for_modeling['Signal']=data_for_modeling['close'].transform(lambda x : np.sign(x.diff(14)))\n"
      ],
      "execution_count": 122,
      "outputs": []
    },
    {
      "cell_type": "code",
      "metadata": {
        "id": "on5BBlFVc5db"
      },
      "source": [
        "data_for_modeling=data_for_modeling.dropna()"
      ],
      "execution_count": 123,
      "outputs": []
    },
    {
      "cell_type": "code",
      "metadata": {
        "colab": {
          "base_uri": "https://localhost:8080/",
          "height": 1000
        },
        "id": "N5hkGWMA01ci",
        "outputId": "83080c53-8234-4139-fc8d-19a62c1b60a6"
      },
      "source": [
        "\n",
        "# How to use TimeBasedCV\n",
        "#data_for_modeling=pd.read_csv('data.csv', parse_dates=['record_date'])\n",
        "tscv = TimeBasedCV(train_period=60,\n",
        "                   test_period=14,\n",
        "                   freq='days')\n",
        "for train_index, test_index in tscv.split(data_for_modeling,\n",
        "                   validation_split_date=datetime.date(2019,2,1), date_column='Date'):\n",
        "    print(train_index, test_index)\n",
        "\n",
        "# get number of splits\n",
        "tscv.get_n_splits()\n",
        "'''\n",
        "#### Example- compute average test sets score: ####\n",
        "X = data_for_modeling[features]\n",
        "y = data_for_modeling['Signal']\n",
        "from sklearn.linear_model import LogisticRegression\n",
        "import numpy as np\n",
        "\n",
        "scores = []\n",
        "for train_index, test_index in tscv.split(X, validation_split_date=datetime.date(2019,2,1)):\n",
        "\n",
        "    data_train   = X.loc[train_index].drop('Date', axis=1)\n",
        "    target_train = y.loc[train_index]\n",
        "\n",
        "    data_test    = X.loc[test_index].drop('Date', axis=1)\n",
        "    target_test  = y.loc[test_index]\n",
        "\n",
        "    # if needed, do preprocessing here\n",
        "\n",
        "    clf = RandomForestClassifier()\n",
        "    clf.fit(data_train,target_train)\n",
        "\n",
        "    preds = clf.predict(data_test)\n",
        "\n",
        "    # accuracy for the current fold only    \n",
        "    r2score = clf.score(data_test,target_test)\n",
        "\n",
        "    scores.append(r2score)\n",
        "\n",
        "# this is the average accuracy over all folds\n",
        "average_r2score = np.mean(scores)\n",
        "#### End of example ####\n",
        "print(average_r2score)\n",
        "'''"
      ],
      "execution_count": 124,
      "outputs": [
        {
          "output_type": "stream",
          "name": "stdout",
          "text": [
            "Train period: 2018-12-03 - 2019-02-01 , Test period 2019-02-01 - 2019-02-15 # train records 42 , # test records 9\n",
            "Train period: 2018-12-17 - 2019-02-15 , Test period 2019-02-15 - 2019-03-01 # train records 41 , # test records 10\n",
            "Train period: 2018-12-31 - 2019-03-01 , Test period 2019-03-01 - 2019-03-15 # train records 42 , # test records 9\n",
            "Train period: 2019-01-14 - 2019-03-15 , Test period 2019-03-15 - 2019-03-29 # train records 42 , # test records 9\n",
            "Train period: 2019-01-28 - 2019-03-29 , Test period 2019-03-29 - 2019-04-12 # train records 41 , # test records 9\n",
            "Train period: 2019-02-11 - 2019-04-12 , Test period 2019-04-12 - 2019-04-26 # train records 40 , # test records 8\n",
            "Train period: 2019-02-25 - 2019-04-26 , Test period 2019-04-26 - 2019-05-10 # train records 39 , # test records 8\n",
            "Train period: 2019-03-11 - 2019-05-10 , Test period 2019-05-10 - 2019-05-24 # train records 38 , # test records 10\n",
            "Train period: 2019-03-25 - 2019-05-24 , Test period 2019-05-24 - 2019-06-07 # train records 39 , # test records 9\n",
            "Train period: 2019-04-08 - 2019-06-07 , Test period 2019-06-07 - 2019-06-21 # train records 39 , # test records 10\n",
            "Train period: 2019-04-22 - 2019-06-21 , Test period 2019-06-21 - 2019-07-05 # train records 41 , # test records 10\n",
            "Train period: 2019-05-06 - 2019-07-05 , Test period 2019-07-05 - 2019-07-19 # train records 43 , # test records 10\n",
            "Train period: 2019-05-20 - 2019-07-19 , Test period 2019-07-19 - 2019-08-02 # train records 43 , # test records 10\n",
            "Train period: 2019-06-03 - 2019-08-02 , Test period 2019-08-02 - 2019-08-16 # train records 43 , # test records 8\n",
            "Train period: 2019-06-17 - 2019-08-16 , Test period 2019-08-16 - 2019-08-30 # train records 42 , # test records 10\n",
            "Train period: 2019-07-01 - 2019-08-30 , Test period 2019-08-30 - 2019-09-13 # train records 42 , # test records 8\n",
            "Train period: 2019-07-15 - 2019-09-13 , Test period 2019-09-13 - 2019-09-27 # train records 40 , # test records 10\n",
            "Train period: 2019-07-29 - 2019-09-27 , Test period 2019-09-27 - 2019-10-11 # train records 40 , # test records 8\n",
            "Train period: 2019-08-12 - 2019-10-11 , Test period 2019-10-11 - 2019-10-25 # train records 38 , # test records 9\n",
            "Train period: 2019-08-26 - 2019-10-25 , Test period 2019-10-25 - 2019-11-08 # train records 39 , # test records 9\n",
            "Train period: 2019-09-09 - 2019-11-08 , Test period 2019-11-08 - 2019-11-22 # train records 39 , # test records 9\n",
            "Train period: 2019-09-23 - 2019-11-22 , Test period 2019-11-22 - 2019-12-06 # train records 39 , # test records 10\n",
            "Train period: 2019-10-07 - 2019-12-06 , Test period 2019-12-06 - 2019-12-20 # train records 40 , # test records 10\n",
            "Train period: 2019-10-21 - 2019-12-20 , Test period 2019-12-20 - 2020-01-03 # train records 41 , # test records 9\n",
            "Train period: 2019-11-04 - 2020-01-03 , Test period 2020-01-03 - 2020-01-17 # train records 42 , # test records 10\n",
            "Train period: 2019-11-18 - 2020-01-17 , Test period 2020-01-17 - 2020-01-31 # train records 43 , # test records 10\n",
            "Train period: 2019-12-02 - 2020-01-31 , Test period 2020-01-31 - 2020-02-14 # train records 43 , # test records 10\n",
            "Train period: 2019-12-16 - 2020-02-14 , Test period 2020-02-14 - 2020-02-28 # train records 43 , # test records 9\n",
            "Train period: 2019-12-30 - 2020-02-28 , Test period 2020-02-28 - 2020-03-13 # train records 43 , # test records 9\n",
            "Train period: 2020-01-13 - 2020-03-13 , Test period 2020-03-13 - 2020-03-27 # train records 42 , # test records 10\n",
            "Train period: 2020-01-27 - 2020-03-27 , Test period 2020-03-27 - 2020-04-10 # train records 42 , # test records 8\n",
            "Train period: 2020-02-10 - 2020-04-10 , Test period 2020-04-10 - 2020-04-24 # train records 40 , # test records 8\n",
            "Train period: 2020-02-24 - 2020-04-24 , Test period 2020-04-24 - 2020-05-08 # train records 39 , # test records 9\n",
            "Train period: 2020-03-09 - 2020-05-08 , Test period 2020-05-08 - 2020-05-22 # train records 38 , # test records 10\n",
            "Train period: 2020-03-23 - 2020-05-22 , Test period 2020-05-22 - 2020-06-05 # train records 39 , # test records 9\n",
            "Train period: 2020-04-06 - 2020-06-05 , Test period 2020-06-05 - 2020-06-19 # train records 39 , # test records 10\n",
            "Train period: 2020-04-20 - 2020-06-19 , Test period 2020-06-19 - 2020-07-03 # train records 42 , # test records 10\n",
            "Train period: 2020-05-04 - 2020-07-03 , Test period 2020-07-03 - 2020-07-17 # train records 43 , # test records 10\n",
            "Train period: 2020-05-18 - 2020-07-17 , Test period 2020-07-17 - 2020-07-31 # train records 43 , # test records 10\n",
            "Train period: 2020-06-01 - 2020-07-31 , Test period 2020-07-31 - 2020-08-14 # train records 44 , # test records 10\n",
            "Train period: 2020-06-15 - 2020-08-14 , Test period 2020-08-14 - 2020-08-28 # train records 44 , # test records 10\n",
            "Train period: 2020-06-29 - 2020-08-28 , Test period 2020-08-28 - 2020-09-11 # train records 44 , # test records 10\n",
            "Train period: 2020-07-13 - 2020-09-11 , Test period 2020-09-11 - 2020-09-25 # train records 44 , # test records 10\n",
            "Train period: 2020-07-27 - 2020-09-25 , Test period 2020-09-25 - 2020-10-09 # train records 44 , # test records 9\n",
            "Train period: 2020-08-10 - 2020-10-09 , Test period 2020-10-09 - 2020-10-23 # train records 43 , # test records 10\n",
            "Train period: 2020-08-24 - 2020-10-23 , Test period 2020-10-23 - 2020-11-06 # train records 43 , # test records 10\n",
            "Train period: 2020-09-07 - 2020-11-06 , Test period 2020-11-06 - 2020-11-20 # train records 43 , # test records 9\n",
            "Train period: 2020-09-21 - 2020-11-20 , Test period 2020-11-20 - 2020-12-04 # train records 42 , # test records 9\n",
            "Train period: 2020-10-05 - 2020-12-04 , Test period 2020-12-04 - 2020-12-18 # train records 42 , # test records 10\n",
            "Train period: 2020-10-19 - 2020-12-18 , Test period 2020-12-18 - 2021-01-01 # train records 42 , # test records 9\n",
            "Train period: 2020-11-02 - 2021-01-01 , Test period 2021-01-01 - 2021-01-15 # train records 41 , # test records 9\n",
            "Train period: 2020-11-16 - 2021-01-15 , Test period 2021-01-15 - 2021-01-29 # train records 40 , # test records 9\n",
            "Train period: 2020-11-30 - 2021-01-29 , Test period 2021-01-29 - 2021-02-12 # train records 40 , # test records 10\n",
            "Train period: 2020-12-14 - 2021-02-12 , Test period 2021-02-12 - 2021-02-26 # train records 41 , # test records 10\n",
            "Train period: 2020-12-28 - 2021-02-26 , Test period 2021-02-26 - 2021-03-12 # train records 42 , # test records 9\n",
            "Train period: 2021-01-11 - 2021-03-12 , Test period 2021-03-12 - 2021-03-26 # train records 42 , # test records 10\n",
            "Train period: 2021-01-25 - 2021-03-26 , Test period 2021-03-26 - 2021-04-09 # train records 42 , # test records 8\n",
            "Train period: 2021-02-08 - 2021-04-09 , Test period 2021-04-09 - 2021-04-23 # train records 41 , # test records 8\n",
            "Train period: 2021-02-22 - 2021-04-23 , Test period 2021-04-23 - 2021-05-07 # train records 39 , # test records 10\n",
            "Train period: 2021-03-08 - 2021-05-07 , Test period 2021-05-07 - 2021-05-21 # train records 39 , # test records 9\n",
            "Train period: 2021-03-22 - 2021-05-21 , Test period 2021-05-21 - 2021-06-04 # train records 39 , # test records 10\n",
            "Train period: 2021-04-05 - 2021-06-04 , Test period 2021-06-04 - 2021-06-18 # train records 41 , # test records 10\n",
            "Train period: 2021-04-19 - 2021-06-18 , Test period 2021-06-18 - 2021-07-02 # train records 42 , # test records 10\n",
            "Train period: 2021-05-03 - 2021-07-02 , Test period 2021-07-02 - 2021-07-16 # train records 43 , # test records 10\n",
            "Train period: 2021-05-17 - 2021-07-16 , Test period 2021-07-16 - 2021-07-30 # train records 44 , # test records 9\n",
            "Train period: 2021-05-31 - 2021-07-30 , Test period 2021-07-30 - 2021-08-13 # train records 43 , # test records 10\n",
            "Train period: 2021-06-14 - 2021-08-13 , Test period 2021-08-13 - 2021-08-27 # train records 43 , # test records 9\n",
            "Train period: 2021-06-28 - 2021-08-27 , Test period 2021-08-27 - 2021-09-10 # train records 42 , # test records 10\n",
            "Train period: 2021-07-12 - 2021-09-10 , Test period 2021-09-10 - 2021-09-24 # train records 42 , # test records 9\n",
            "Train period: 2021-07-26 - 2021-09-24 , Test period 2021-09-24 - 2021-10-08 # train records 42 , # test records 10\n",
            "Train period: 2021-08-09 - 2021-10-08 , Test period 2021-10-08 - 2021-10-22 # train records 42 , # test records 9\n",
            "[961, 962, 963, 964, 965, 966, 967, 968, 969, 970, 971, 972, 973, 974, 975, 976, 977, 978, 979, 980, 981, 982, 983, 984, 985, 986, 987, 988, 989, 990, 991, 992, 993, 994, 995, 996, 997, 998, 999, 1000, 1001, 1002] [1003, 1004, 1005, 1006, 1007, 1008, 1009, 1010, 1011]\n",
            "[971, 972, 973, 974, 975, 976, 977, 978, 979, 980, 981, 982, 983, 984, 985, 986, 987, 988, 989, 990, 991, 992, 993, 994, 995, 996, 997, 998, 999, 1000, 1001, 1002, 1003, 1004, 1005, 1006, 1007, 1008, 1009, 1010, 1011] [1012, 1013, 1014, 1015, 1016, 1017, 1018, 1019, 1020, 1021]\n",
            "[980, 981, 982, 983, 984, 985, 986, 987, 988, 989, 990, 991, 992, 993, 994, 995, 996, 997, 998, 999, 1000, 1001, 1002, 1003, 1004, 1005, 1006, 1007, 1008, 1009, 1010, 1011, 1012, 1013, 1014, 1015, 1016, 1017, 1018, 1019, 1020, 1021] [1022, 1023, 1024, 1025, 1026, 1027, 1028, 1029, 1030]\n",
            "[989, 990, 991, 992, 993, 994, 995, 996, 997, 998, 999, 1000, 1001, 1002, 1003, 1004, 1005, 1006, 1007, 1008, 1009, 1010, 1011, 1012, 1013, 1014, 1015, 1016, 1017, 1018, 1019, 1020, 1021, 1022, 1023, 1024, 1025, 1026, 1027, 1028, 1029, 1030] [1031, 1032, 1033, 1034, 1035, 1036, 1037, 1038, 1039]\n",
            "[999, 1000, 1001, 1002, 1003, 1004, 1005, 1006, 1007, 1008, 1009, 1010, 1011, 1012, 1013, 1014, 1015, 1016, 1017, 1018, 1019, 1020, 1021, 1022, 1023, 1024, 1025, 1026, 1027, 1028, 1029, 1030, 1031, 1032, 1033, 1034, 1035, 1036, 1037, 1038, 1039] [1040, 1041, 1042, 1043, 1044, 1045, 1046, 1047, 1048]\n",
            "[1009, 1010, 1011, 1012, 1013, 1014, 1015, 1016, 1017, 1018, 1019, 1020, 1021, 1022, 1023, 1024, 1025, 1026, 1027, 1028, 1029, 1030, 1031, 1032, 1033, 1034, 1035, 1036, 1037, 1038, 1039, 1040, 1041, 1042, 1043, 1044, 1045, 1046, 1047, 1048] [1049, 1050, 1051, 1052, 1053, 1054, 1055, 1056]\n",
            "[1018, 1019, 1020, 1021, 1022, 1023, 1024, 1025, 1026, 1027, 1028, 1029, 1030, 1031, 1032, 1033, 1034, 1035, 1036, 1037, 1038, 1039, 1040, 1041, 1042, 1043, 1044, 1045, 1046, 1047, 1048, 1049, 1050, 1051, 1052, 1053, 1054, 1055, 1056] [1057, 1058, 1059, 1060, 1061, 1062, 1063, 1064]\n",
            "[1027, 1028, 1029, 1030, 1031, 1032, 1033, 1034, 1035, 1036, 1037, 1038, 1039, 1040, 1041, 1042, 1043, 1044, 1045, 1046, 1047, 1048, 1049, 1050, 1051, 1052, 1053, 1054, 1055, 1056, 1057, 1058, 1059, 1060, 1061, 1062, 1063, 1064] [1065, 1066, 1067, 1068, 1069, 1070, 1071, 1072, 1073, 1074]\n",
            "[1036, 1037, 1038, 1039, 1040, 1041, 1042, 1043, 1044, 1045, 1046, 1047, 1048, 1049, 1050, 1051, 1052, 1053, 1054, 1055, 1056, 1057, 1058, 1059, 1060, 1061, 1062, 1063, 1064, 1065, 1066, 1067, 1068, 1069, 1070, 1071, 1072, 1073, 1074] [1075, 1076, 1077, 1078, 1079, 1080, 1081, 1082, 1083]\n",
            "[1045, 1046, 1047, 1048, 1049, 1050, 1051, 1052, 1053, 1054, 1055, 1056, 1057, 1058, 1059, 1060, 1061, 1062, 1063, 1064, 1065, 1066, 1067, 1068, 1069, 1070, 1071, 1072, 1073, 1074, 1075, 1076, 1077, 1078, 1079, 1080, 1081, 1082, 1083] [1084, 1085, 1086, 1087, 1088, 1089, 1090, 1091, 1092, 1093]\n",
            "[1053, 1054, 1055, 1056, 1057, 1058, 1059, 1060, 1061, 1062, 1063, 1064, 1065, 1066, 1067, 1068, 1069, 1070, 1071, 1072, 1073, 1074, 1075, 1076, 1077, 1078, 1079, 1080, 1081, 1082, 1083, 1084, 1085, 1086, 1087, 1088, 1089, 1090, 1091, 1092, 1093] [1094, 1095, 1096, 1097, 1098, 1099, 1100, 1101, 1102, 1103]\n",
            "[1061, 1062, 1063, 1064, 1065, 1066, 1067, 1068, 1069, 1070, 1071, 1072, 1073, 1074, 1075, 1076, 1077, 1078, 1079, 1080, 1081, 1082, 1083, 1084, 1085, 1086, 1087, 1088, 1089, 1090, 1091, 1092, 1093, 1094, 1095, 1096, 1097, 1098, 1099, 1100, 1101, 1102, 1103] [1104, 1105, 1106, 1107, 1108, 1109, 1110, 1111, 1112, 1113]\n",
            "[1071, 1072, 1073, 1074, 1075, 1076, 1077, 1078, 1079, 1080, 1081, 1082, 1083, 1084, 1085, 1086, 1087, 1088, 1089, 1090, 1091, 1092, 1093, 1094, 1095, 1096, 1097, 1098, 1099, 1100, 1101, 1102, 1103, 1104, 1105, 1106, 1107, 1108, 1109, 1110, 1111, 1112, 1113] [1114, 1115, 1116, 1117, 1118, 1119, 1120, 1121, 1122, 1123]\n",
            "[1081, 1082, 1083, 1084, 1085, 1086, 1087, 1088, 1089, 1090, 1091, 1092, 1093, 1094, 1095, 1096, 1097, 1098, 1099, 1100, 1101, 1102, 1103, 1104, 1105, 1106, 1107, 1108, 1109, 1110, 1111, 1112, 1113, 1114, 1115, 1116, 1117, 1118, 1119, 1120, 1121, 1122, 1123] [1124, 1125, 1126, 1127, 1128, 1129, 1130, 1131]\n",
            "[1090, 1091, 1092, 1093, 1094, 1095, 1096, 1097, 1098, 1099, 1100, 1101, 1102, 1103, 1104, 1105, 1106, 1107, 1108, 1109, 1110, 1111, 1112, 1113, 1114, 1115, 1116, 1117, 1118, 1119, 1120, 1121, 1122, 1123, 1124, 1125, 1126, 1127, 1128, 1129, 1130, 1131] [1132, 1133, 1134, 1135, 1136, 1137, 1138, 1139, 1140, 1141]\n",
            "[1100, 1101, 1102, 1103, 1104, 1105, 1106, 1107, 1108, 1109, 1110, 1111, 1112, 1113, 1114, 1115, 1116, 1117, 1118, 1119, 1120, 1121, 1122, 1123, 1124, 1125, 1126, 1127, 1128, 1129, 1130, 1131, 1132, 1133, 1134, 1135, 1136, 1137, 1138, 1139, 1140, 1141] [1142, 1143, 1144, 1145, 1146, 1147, 1148, 1149]\n",
            "[1110, 1111, 1112, 1113, 1114, 1115, 1116, 1117, 1118, 1119, 1120, 1121, 1122, 1123, 1124, 1125, 1126, 1127, 1128, 1129, 1130, 1131, 1132, 1133, 1134, 1135, 1136, 1137, 1138, 1139, 1140, 1141, 1142, 1143, 1144, 1145, 1146, 1147, 1148, 1149] [1150, 1151, 1152, 1153, 1154, 1155, 1156, 1157, 1158, 1159]\n",
            "[1120, 1121, 1122, 1123, 1124, 1125, 1126, 1127, 1128, 1129, 1130, 1131, 1132, 1133, 1134, 1135, 1136, 1137, 1138, 1139, 1140, 1141, 1142, 1143, 1144, 1145, 1146, 1147, 1148, 1149, 1150, 1151, 1152, 1153, 1154, 1155, 1156, 1157, 1158, 1159] [1160, 1161, 1162, 1163, 1164, 1165, 1166, 1167]\n",
            "[1130, 1131, 1132, 1133, 1134, 1135, 1136, 1137, 1138, 1139, 1140, 1141, 1142, 1143, 1144, 1145, 1146, 1147, 1148, 1149, 1150, 1151, 1152, 1153, 1154, 1155, 1156, 1157, 1158, 1159, 1160, 1161, 1162, 1163, 1164, 1165, 1166, 1167] [1168, 1169, 1170, 1171, 1172, 1173, 1174, 1175, 1176]\n",
            "[1138, 1139, 1140, 1141, 1142, 1143, 1144, 1145, 1146, 1147, 1148, 1149, 1150, 1151, 1152, 1153, 1154, 1155, 1156, 1157, 1158, 1159, 1160, 1161, 1162, 1163, 1164, 1165, 1166, 1167, 1168, 1169, 1170, 1171, 1172, 1173, 1174, 1175, 1176] [1177, 1178, 1179, 1180, 1181, 1182, 1183, 1184, 1185]\n",
            "[1147, 1148, 1149, 1150, 1151, 1152, 1153, 1154, 1155, 1156, 1157, 1158, 1159, 1160, 1161, 1162, 1163, 1164, 1165, 1166, 1167, 1168, 1169, 1170, 1171, 1172, 1173, 1174, 1175, 1176, 1177, 1178, 1179, 1180, 1181, 1182, 1183, 1184, 1185] [1186, 1187, 1188, 1189, 1190, 1191, 1192, 1193, 1194]\n",
            "[1156, 1157, 1158, 1159, 1160, 1161, 1162, 1163, 1164, 1165, 1166, 1167, 1168, 1169, 1170, 1171, 1172, 1173, 1174, 1175, 1176, 1177, 1178, 1179, 1180, 1181, 1182, 1183, 1184, 1185, 1186, 1187, 1188, 1189, 1190, 1191, 1192, 1193, 1194] [1195, 1196, 1197, 1198, 1199, 1200, 1201, 1202, 1203, 1204]\n",
            "[1165, 1166, 1167, 1168, 1169, 1170, 1171, 1172, 1173, 1174, 1175, 1176, 1177, 1178, 1179, 1180, 1181, 1182, 1183, 1184, 1185, 1186, 1187, 1188, 1189, 1190, 1191, 1192, 1193, 1194, 1195, 1196, 1197, 1198, 1199, 1200, 1201, 1202, 1203, 1204] [1205, 1206, 1207, 1208, 1209, 1210, 1211, 1212, 1213, 1214]\n",
            "[1174, 1175, 1176, 1177, 1178, 1179, 1180, 1181, 1182, 1183, 1184, 1185, 1186, 1187, 1188, 1189, 1190, 1191, 1192, 1193, 1194, 1195, 1196, 1197, 1198, 1199, 1200, 1201, 1202, 1203, 1204, 1205, 1206, 1207, 1208, 1209, 1210, 1211, 1212, 1213, 1214] [1215, 1216, 1217, 1218, 1219, 1220, 1221, 1222, 1223]\n",
            "[1182, 1183, 1184, 1185, 1186, 1187, 1188, 1189, 1190, 1191, 1192, 1193, 1194, 1195, 1196, 1197, 1198, 1199, 1200, 1201, 1202, 1203, 1204, 1205, 1206, 1207, 1208, 1209, 1210, 1211, 1212, 1213, 1214, 1215, 1216, 1217, 1218, 1219, 1220, 1221, 1222, 1223] [1224, 1225, 1226, 1227, 1228, 1229, 1230, 1231, 1232, 1233]\n",
            "[1191, 1192, 1193, 1194, 1195, 1196, 1197, 1198, 1199, 1200, 1201, 1202, 1203, 1204, 1205, 1206, 1207, 1208, 1209, 1210, 1211, 1212, 1213, 1214, 1215, 1216, 1217, 1218, 1219, 1220, 1221, 1222, 1223, 1224, 1225, 1226, 1227, 1228, 1229, 1230, 1231, 1232, 1233] [1234, 1235, 1236, 1237, 1238, 1239, 1240, 1241, 1242, 1243]\n",
            "[1201, 1202, 1203, 1204, 1205, 1206, 1207, 1208, 1209, 1210, 1211, 1212, 1213, 1214, 1215, 1216, 1217, 1218, 1219, 1220, 1221, 1222, 1223, 1224, 1225, 1226, 1227, 1228, 1229, 1230, 1231, 1232, 1233, 1234, 1235, 1236, 1237, 1238, 1239, 1240, 1241, 1242, 1243] [1244, 1245, 1246, 1247, 1248, 1249, 1250, 1251, 1252, 1253]\n",
            "[1211, 1212, 1213, 1214, 1215, 1216, 1217, 1218, 1219, 1220, 1221, 1222, 1223, 1224, 1225, 1226, 1227, 1228, 1229, 1230, 1231, 1232, 1233, 1234, 1235, 1236, 1237, 1238, 1239, 1240, 1241, 1242, 1243, 1244, 1245, 1246, 1247, 1248, 1249, 1250, 1251, 1252, 1253] [1254, 1255, 1256, 1257, 1258, 1259, 1260, 1261, 1262]\n",
            "[1220, 1221, 1222, 1223, 1224, 1225, 1226, 1227, 1228, 1229, 1230, 1231, 1232, 1233, 1234, 1235, 1236, 1237, 1238, 1239, 1240, 1241, 1242, 1243, 1244, 1245, 1246, 1247, 1248, 1249, 1250, 1251, 1252, 1253, 1254, 1255, 1256, 1257, 1258, 1259, 1260, 1261, 1262] [1263, 1264, 1265, 1266, 1267, 1268, 1269, 1270, 1271]\n",
            "[1230, 1231, 1232, 1233, 1234, 1235, 1236, 1237, 1238, 1239, 1240, 1241, 1242, 1243, 1244, 1245, 1246, 1247, 1248, 1249, 1250, 1251, 1252, 1253, 1254, 1255, 1256, 1257, 1258, 1259, 1260, 1261, 1262, 1263, 1264, 1265, 1266, 1267, 1268, 1269, 1270, 1271] [1272, 1273, 1274, 1275, 1276, 1277, 1278, 1279, 1280, 1281]\n",
            "[1240, 1241, 1242, 1243, 1244, 1245, 1246, 1247, 1248, 1249, 1250, 1251, 1252, 1253, 1254, 1255, 1256, 1257, 1258, 1259, 1260, 1261, 1262, 1263, 1264, 1265, 1266, 1267, 1268, 1269, 1270, 1271, 1272, 1273, 1274, 1275, 1276, 1277, 1278, 1279, 1280, 1281] [1282, 1283, 1284, 1285, 1286, 1287, 1288, 1289]\n",
            "[1250, 1251, 1252, 1253, 1254, 1255, 1256, 1257, 1258, 1259, 1260, 1261, 1262, 1263, 1264, 1265, 1266, 1267, 1268, 1269, 1270, 1271, 1272, 1273, 1274, 1275, 1276, 1277, 1278, 1279, 1280, 1281, 1282, 1283, 1284, 1285, 1286, 1287, 1288, 1289] [1290, 1291, 1292, 1293, 1294, 1295, 1296, 1297]\n",
            "[1259, 1260, 1261, 1262, 1263, 1264, 1265, 1266, 1267, 1268, 1269, 1270, 1271, 1272, 1273, 1274, 1275, 1276, 1277, 1278, 1279, 1280, 1281, 1282, 1283, 1284, 1285, 1286, 1287, 1288, 1289, 1290, 1291, 1292, 1293, 1294, 1295, 1296, 1297] [1298, 1299, 1300, 1301, 1302, 1303, 1304, 1305, 1306]\n",
            "[1269, 1270, 1271, 1272, 1273, 1274, 1275, 1276, 1277, 1278, 1279, 1280, 1281, 1282, 1283, 1284, 1285, 1286, 1287, 1288, 1289, 1290, 1291, 1292, 1293, 1294, 1295, 1296, 1297, 1298, 1299, 1300, 1301, 1302, 1303, 1304, 1305, 1306] [1307, 1308, 1309, 1310, 1311, 1312, 1313, 1314, 1315, 1316]\n",
            "[1278, 1279, 1280, 1281, 1282, 1283, 1284, 1285, 1286, 1287, 1288, 1289, 1290, 1291, 1292, 1293, 1294, 1295, 1296, 1297, 1298, 1299, 1300, 1301, 1302, 1303, 1304, 1305, 1306, 1307, 1308, 1309, 1310, 1311, 1312, 1313, 1314, 1315, 1316] [1317, 1318, 1319, 1320, 1321, 1322, 1323, 1324, 1325]\n",
            "[1287, 1288, 1289, 1290, 1291, 1292, 1293, 1294, 1295, 1296, 1297, 1298, 1299, 1300, 1301, 1302, 1303, 1304, 1305, 1306, 1307, 1308, 1309, 1310, 1311, 1312, 1313, 1314, 1315, 1316, 1317, 1318, 1319, 1320, 1321, 1322, 1323, 1324, 1325] [1326, 1327, 1328, 1329, 1330, 1331, 1332, 1333, 1334, 1335]\n",
            "[1294, 1295, 1296, 1297, 1298, 1299, 1300, 1301, 1302, 1303, 1304, 1305, 1306, 1307, 1308, 1309, 1310, 1311, 1312, 1313, 1314, 1315, 1316, 1317, 1318, 1319, 1320, 1321, 1322, 1323, 1324, 1325, 1326, 1327, 1328, 1329, 1330, 1331, 1332, 1333, 1334, 1335] [1336, 1337, 1338, 1339, 1340, 1341, 1342, 1343, 1344, 1345]\n",
            "[1303, 1304, 1305, 1306, 1307, 1308, 1309, 1310, 1311, 1312, 1313, 1314, 1315, 1316, 1317, 1318, 1319, 1320, 1321, 1322, 1323, 1324, 1325, 1326, 1327, 1328, 1329, 1330, 1331, 1332, 1333, 1334, 1335, 1336, 1337, 1338, 1339, 1340, 1341, 1342, 1343, 1344, 1345] [1346, 1347, 1348, 1349, 1350, 1351, 1352, 1353, 1354, 1355]\n",
            "[1313, 1314, 1315, 1316, 1317, 1318, 1319, 1320, 1321, 1322, 1323, 1324, 1325, 1326, 1327, 1328, 1329, 1330, 1331, 1332, 1333, 1334, 1335, 1336, 1337, 1338, 1339, 1340, 1341, 1342, 1343, 1344, 1345, 1346, 1347, 1348, 1349, 1350, 1351, 1352, 1353, 1354, 1355] [1356, 1357, 1358, 1359, 1360, 1361, 1362, 1363, 1364, 1365]\n",
            "[1322, 1323, 1324, 1325, 1326, 1327, 1328, 1329, 1330, 1331, 1332, 1333, 1334, 1335, 1336, 1337, 1338, 1339, 1340, 1341, 1342, 1343, 1344, 1345, 1346, 1347, 1348, 1349, 1350, 1351, 1352, 1353, 1354, 1355, 1356, 1357, 1358, 1359, 1360, 1361, 1362, 1363, 1364, 1365] [1366, 1367, 1368, 1369, 1370, 1371, 1372, 1373, 1374, 1375]\n",
            "[1332, 1333, 1334, 1335, 1336, 1337, 1338, 1339, 1340, 1341, 1342, 1343, 1344, 1345, 1346, 1347, 1348, 1349, 1350, 1351, 1352, 1353, 1354, 1355, 1356, 1357, 1358, 1359, 1360, 1361, 1362, 1363, 1364, 1365, 1366, 1367, 1368, 1369, 1370, 1371, 1372, 1373, 1374, 1375] [1376, 1377, 1378, 1379, 1380, 1381, 1382, 1383, 1384, 1385]\n",
            "[1342, 1343, 1344, 1345, 1346, 1347, 1348, 1349, 1350, 1351, 1352, 1353, 1354, 1355, 1356, 1357, 1358, 1359, 1360, 1361, 1362, 1363, 1364, 1365, 1366, 1367, 1368, 1369, 1370, 1371, 1372, 1373, 1374, 1375, 1376, 1377, 1378, 1379, 1380, 1381, 1382, 1383, 1384, 1385] [1386, 1387, 1388, 1389, 1390, 1391, 1392, 1393, 1394, 1395]\n",
            "[1352, 1353, 1354, 1355, 1356, 1357, 1358, 1359, 1360, 1361, 1362, 1363, 1364, 1365, 1366, 1367, 1368, 1369, 1370, 1371, 1372, 1373, 1374, 1375, 1376, 1377, 1378, 1379, 1380, 1381, 1382, 1383, 1384, 1385, 1386, 1387, 1388, 1389, 1390, 1391, 1392, 1393, 1394, 1395] [1396, 1397, 1398, 1399, 1400, 1401, 1402, 1403, 1404, 1405]\n",
            "[1362, 1363, 1364, 1365, 1366, 1367, 1368, 1369, 1370, 1371, 1372, 1373, 1374, 1375, 1376, 1377, 1378, 1379, 1380, 1381, 1382, 1383, 1384, 1385, 1386, 1387, 1388, 1389, 1390, 1391, 1392, 1393, 1394, 1395, 1396, 1397, 1398, 1399, 1400, 1401, 1402, 1403, 1404, 1405] [1406, 1407, 1408, 1409, 1410, 1411, 1412, 1413, 1414]\n",
            "[1372, 1373, 1374, 1375, 1376, 1377, 1378, 1379, 1380, 1381, 1382, 1383, 1384, 1385, 1386, 1387, 1388, 1389, 1390, 1391, 1392, 1393, 1394, 1395, 1396, 1397, 1398, 1399, 1400, 1401, 1402, 1403, 1404, 1405, 1406, 1407, 1408, 1409, 1410, 1411, 1412, 1413, 1414] [1415, 1416, 1417, 1418, 1419, 1420, 1421, 1422, 1423, 1424]\n",
            "[1382, 1383, 1384, 1385, 1386, 1387, 1388, 1389, 1390, 1391, 1392, 1393, 1394, 1395, 1396, 1397, 1398, 1399, 1400, 1401, 1402, 1403, 1404, 1405, 1406, 1407, 1408, 1409, 1410, 1411, 1412, 1413, 1414, 1415, 1416, 1417, 1418, 1419, 1420, 1421, 1422, 1423, 1424] [1425, 1426, 1427, 1428, 1429, 1430, 1431, 1432, 1433, 1434]\n",
            "[1392, 1393, 1394, 1395, 1396, 1397, 1398, 1399, 1400, 1401, 1402, 1403, 1404, 1405, 1406, 1407, 1408, 1409, 1410, 1411, 1412, 1413, 1414, 1415, 1416, 1417, 1418, 1419, 1420, 1421, 1422, 1423, 1424, 1425, 1426, 1427, 1428, 1429, 1430, 1431, 1432, 1433, 1434] [1435, 1436, 1437, 1438, 1439, 1440, 1441, 1442, 1443]\n",
            "[1402, 1403, 1404, 1405, 1406, 1407, 1408, 1409, 1410, 1411, 1412, 1413, 1414, 1415, 1416, 1417, 1418, 1419, 1420, 1421, 1422, 1423, 1424, 1425, 1426, 1427, 1428, 1429, 1430, 1431, 1432, 1433, 1434, 1435, 1436, 1437, 1438, 1439, 1440, 1441, 1442, 1443] [1444, 1445, 1446, 1447, 1448, 1449, 1450, 1451, 1452]\n",
            "[1411, 1412, 1413, 1414, 1415, 1416, 1417, 1418, 1419, 1420, 1421, 1422, 1423, 1424, 1425, 1426, 1427, 1428, 1429, 1430, 1431, 1432, 1433, 1434, 1435, 1436, 1437, 1438, 1439, 1440, 1441, 1442, 1443, 1444, 1445, 1446, 1447, 1448, 1449, 1450, 1451, 1452] [1453, 1454, 1455, 1456, 1457, 1458, 1459, 1460, 1461, 1462]\n",
            "[1421, 1422, 1423, 1424, 1425, 1426, 1427, 1428, 1429, 1430, 1431, 1432, 1433, 1434, 1435, 1436, 1437, 1438, 1439, 1440, 1441, 1442, 1443, 1444, 1445, 1446, 1447, 1448, 1449, 1450, 1451, 1452, 1453, 1454, 1455, 1456, 1457, 1458, 1459, 1460, 1461, 1462] [1463, 1464, 1465, 1466, 1467, 1468, 1469, 1470, 1471]\n",
            "[1431, 1432, 1433, 1434, 1435, 1436, 1437, 1438, 1439, 1440, 1441, 1442, 1443, 1444, 1445, 1446, 1447, 1448, 1449, 1450, 1451, 1452, 1453, 1454, 1455, 1456, 1457, 1458, 1459, 1460, 1461, 1462, 1463, 1464, 1465, 1466, 1467, 1468, 1469, 1470, 1471] [1472, 1473, 1474, 1475, 1476, 1477, 1478, 1479, 1480]\n",
            "[1441, 1442, 1443, 1444, 1445, 1446, 1447, 1448, 1449, 1450, 1451, 1452, 1453, 1454, 1455, 1456, 1457, 1458, 1459, 1460, 1461, 1462, 1463, 1464, 1465, 1466, 1467, 1468, 1469, 1470, 1471, 1472, 1473, 1474, 1475, 1476, 1477, 1478, 1479, 1480] [1481, 1482, 1483, 1484, 1485, 1486, 1487, 1488, 1489]\n",
            "[1450, 1451, 1452, 1453, 1454, 1455, 1456, 1457, 1458, 1459, 1460, 1461, 1462, 1463, 1464, 1465, 1466, 1467, 1468, 1469, 1470, 1471, 1472, 1473, 1474, 1475, 1476, 1477, 1478, 1479, 1480, 1481, 1482, 1483, 1484, 1485, 1486, 1487, 1488, 1489] [1490, 1491, 1492, 1493, 1494, 1495, 1496, 1497, 1498, 1499]\n",
            "[1459, 1460, 1461, 1462, 1463, 1464, 1465, 1466, 1467, 1468, 1469, 1470, 1471, 1472, 1473, 1474, 1475, 1476, 1477, 1478, 1479, 1480, 1481, 1482, 1483, 1484, 1485, 1486, 1487, 1488, 1489, 1490, 1491, 1492, 1493, 1494, 1495, 1496, 1497, 1498, 1499] [1500, 1501, 1502, 1503, 1504, 1505, 1506, 1507, 1508, 1509]\n",
            "[1468, 1469, 1470, 1471, 1472, 1473, 1474, 1475, 1476, 1477, 1478, 1479, 1480, 1481, 1482, 1483, 1484, 1485, 1486, 1487, 1488, 1489, 1490, 1491, 1492, 1493, 1494, 1495, 1496, 1497, 1498, 1499, 1500, 1501, 1502, 1503, 1504, 1505, 1506, 1507, 1508, 1509] [1510, 1511, 1512, 1513, 1514, 1515, 1516, 1517, 1518]\n",
            "[1477, 1478, 1479, 1480, 1481, 1482, 1483, 1484, 1485, 1486, 1487, 1488, 1489, 1490, 1491, 1492, 1493, 1494, 1495, 1496, 1497, 1498, 1499, 1500, 1501, 1502, 1503, 1504, 1505, 1506, 1507, 1508, 1509, 1510, 1511, 1512, 1513, 1514, 1515, 1516, 1517, 1518] [1519, 1520, 1521, 1522, 1523, 1524, 1525, 1526, 1527, 1528]\n",
            "[1487, 1488, 1489, 1490, 1491, 1492, 1493, 1494, 1495, 1496, 1497, 1498, 1499, 1500, 1501, 1502, 1503, 1504, 1505, 1506, 1507, 1508, 1509, 1510, 1511, 1512, 1513, 1514, 1515, 1516, 1517, 1518, 1519, 1520, 1521, 1522, 1523, 1524, 1525, 1526, 1527, 1528] [1529, 1530, 1531, 1532, 1533, 1534, 1535, 1536]\n",
            "[1496, 1497, 1498, 1499, 1500, 1501, 1502, 1503, 1504, 1505, 1506, 1507, 1508, 1509, 1510, 1511, 1512, 1513, 1514, 1515, 1516, 1517, 1518, 1519, 1520, 1521, 1522, 1523, 1524, 1525, 1526, 1527, 1528, 1529, 1530, 1531, 1532, 1533, 1534, 1535, 1536] [1537, 1538, 1539, 1540, 1541, 1542, 1543, 1544]\n",
            "[1506, 1507, 1508, 1509, 1510, 1511, 1512, 1513, 1514, 1515, 1516, 1517, 1518, 1519, 1520, 1521, 1522, 1523, 1524, 1525, 1526, 1527, 1528, 1529, 1530, 1531, 1532, 1533, 1534, 1535, 1536, 1537, 1538, 1539, 1540, 1541, 1542, 1543, 1544] [1545, 1546, 1547, 1548, 1549, 1550, 1551, 1552, 1553, 1554]\n",
            "[1516, 1517, 1518, 1519, 1520, 1521, 1522, 1523, 1524, 1525, 1526, 1527, 1528, 1529, 1530, 1531, 1532, 1533, 1534, 1535, 1536, 1537, 1538, 1539, 1540, 1541, 1542, 1543, 1544, 1545, 1546, 1547, 1548, 1549, 1550, 1551, 1552, 1553, 1554] [1555, 1556, 1557, 1558, 1559, 1560, 1561, 1562, 1563]\n",
            "[1525, 1526, 1527, 1528, 1529, 1530, 1531, 1532, 1533, 1534, 1535, 1536, 1537, 1538, 1539, 1540, 1541, 1542, 1543, 1544, 1545, 1546, 1547, 1548, 1549, 1550, 1551, 1552, 1553, 1554, 1555, 1556, 1557, 1558, 1559, 1560, 1561, 1562, 1563] [1564, 1565, 1566, 1567, 1568, 1569, 1570, 1571, 1572, 1573]\n",
            "[1533, 1534, 1535, 1536, 1537, 1538, 1539, 1540, 1541, 1542, 1543, 1544, 1545, 1546, 1547, 1548, 1549, 1550, 1551, 1552, 1553, 1554, 1555, 1556, 1557, 1558, 1559, 1560, 1561, 1562, 1563, 1564, 1565, 1566, 1567, 1568, 1569, 1570, 1571, 1572, 1573] [1574, 1575, 1576, 1577, 1578, 1579, 1580, 1581, 1582, 1583]\n",
            "[1542, 1543, 1544, 1545, 1546, 1547, 1548, 1549, 1550, 1551, 1552, 1553, 1554, 1555, 1556, 1557, 1558, 1559, 1560, 1561, 1562, 1563, 1564, 1565, 1566, 1567, 1568, 1569, 1570, 1571, 1572, 1573, 1574, 1575, 1576, 1577, 1578, 1579, 1580, 1581, 1582, 1583] [1584, 1585, 1586, 1587, 1588, 1589, 1590, 1591, 1592, 1593]\n",
            "[1551, 1552, 1553, 1554, 1555, 1556, 1557, 1558, 1559, 1560, 1561, 1562, 1563, 1564, 1565, 1566, 1567, 1568, 1569, 1570, 1571, 1572, 1573, 1574, 1575, 1576, 1577, 1578, 1579, 1580, 1581, 1582, 1583, 1584, 1585, 1586, 1587, 1588, 1589, 1590, 1591, 1592, 1593] [1594, 1595, 1596, 1597, 1598, 1599, 1600, 1601, 1602, 1603]\n",
            "[1560, 1561, 1562, 1563, 1564, 1565, 1566, 1567, 1568, 1569, 1570, 1571, 1572, 1573, 1574, 1575, 1576, 1577, 1578, 1579, 1580, 1581, 1582, 1583, 1584, 1585, 1586, 1587, 1588, 1589, 1590, 1591, 1592, 1593, 1594, 1595, 1596, 1597, 1598, 1599, 1600, 1601, 1602, 1603] [1604, 1605, 1606, 1607, 1608, 1609, 1610, 1611, 1612]\n",
            "[1570, 1571, 1572, 1573, 1574, 1575, 1576, 1577, 1578, 1579, 1580, 1581, 1582, 1583, 1584, 1585, 1586, 1587, 1588, 1589, 1590, 1591, 1592, 1593, 1594, 1595, 1596, 1597, 1598, 1599, 1600, 1601, 1602, 1603, 1604, 1605, 1606, 1607, 1608, 1609, 1610, 1611, 1612] [1613, 1614, 1615, 1616, 1617, 1618, 1619, 1620, 1621, 1622]\n",
            "[1580, 1581, 1582, 1583, 1584, 1585, 1586, 1587, 1588, 1589, 1590, 1591, 1592, 1593, 1594, 1595, 1596, 1597, 1598, 1599, 1600, 1601, 1602, 1603, 1604, 1605, 1606, 1607, 1608, 1609, 1610, 1611, 1612, 1613, 1614, 1615, 1616, 1617, 1618, 1619, 1620, 1621, 1622] [1623, 1624, 1625, 1626, 1627, 1628, 1629, 1630, 1631]\n",
            "[1590, 1591, 1592, 1593, 1594, 1595, 1596, 1597, 1598, 1599, 1600, 1601, 1602, 1603, 1604, 1605, 1606, 1607, 1608, 1609, 1610, 1611, 1612, 1613, 1614, 1615, 1616, 1617, 1618, 1619, 1620, 1621, 1622, 1623, 1624, 1625, 1626, 1627, 1628, 1629, 1630, 1631] [1632, 1633, 1634, 1635, 1636, 1637, 1638, 1639, 1640, 1641]\n",
            "[1600, 1601, 1602, 1603, 1604, 1605, 1606, 1607, 1608, 1609, 1610, 1611, 1612, 1613, 1614, 1615, 1616, 1617, 1618, 1619, 1620, 1621, 1622, 1623, 1624, 1625, 1626, 1627, 1628, 1629, 1630, 1631, 1632, 1633, 1634, 1635, 1636, 1637, 1638, 1639, 1640, 1641] [1642, 1643, 1644, 1645, 1646, 1647, 1648, 1649, 1650]\n",
            "[1609, 1610, 1611, 1612, 1613, 1614, 1615, 1616, 1617, 1618, 1619, 1620, 1621, 1622, 1623, 1624, 1625, 1626, 1627, 1628, 1629, 1630, 1631, 1632, 1633, 1634, 1635, 1636, 1637, 1638, 1639, 1640, 1641, 1642, 1643, 1644, 1645, 1646, 1647, 1648, 1649, 1650] [1651, 1652, 1653, 1654, 1655, 1656, 1657, 1658, 1659, 1660]\n",
            "[1619, 1620, 1621, 1622, 1623, 1624, 1625, 1626, 1627, 1628, 1629, 1630, 1631, 1632, 1633, 1634, 1635, 1636, 1637, 1638, 1639, 1640, 1641, 1642, 1643, 1644, 1645, 1646, 1647, 1648, 1649, 1650, 1651, 1652, 1653, 1654, 1655, 1656, 1657, 1658, 1659, 1660] [1661, 1662, 1663, 1664, 1665, 1666, 1667, 1668, 1669]\n"
          ]
        },
        {
          "output_type": "execute_result",
          "data": {
            "application/vnd.google.colaboratory.intrinsic+json": {
              "type": "string"
            },
            "text/plain": [
              "\"\\n#### Example- compute average test sets score: ####\\nX = data_for_modeling[features]\\ny = data_for_modeling['Signal']\\nfrom sklearn.linear_model import LogisticRegression\\nimport numpy as np\\n\\nscores = []\\nfor train_index, test_index in tscv.split(X, validation_split_date=datetime.date(2019,2,1)):\\n\\n    data_train   = X.loc[train_index].drop('Date', axis=1)\\n    target_train = y.loc[train_index]\\n\\n    data_test    = X.loc[test_index].drop('Date', axis=1)\\n    target_test  = y.loc[test_index]\\n\\n    # if needed, do preprocessing here\\n\\n    clf = RandomForestClassifier()\\n    clf.fit(data_train,target_train)\\n\\n    preds = clf.predict(data_test)\\n\\n    # accuracy for the current fold only    \\n    r2score = clf.score(data_test,target_test)\\n\\n    scores.append(r2score)\\n\\n# this is the average accuracy over all folds\\naverage_r2score = np.mean(scores)\\n#### End of example ####\\nprint(average_r2score)\\n\""
            ]
          },
          "metadata": {},
          "execution_count": 124
        }
      ]
    },
    {
      "cell_type": "code",
      "metadata": {
        "id": "IGvbdL_3-JI0",
        "outputId": "4d43a489-eb90-4e8f-e2e2-ee6068c557d5",
        "colab": {
          "base_uri": "https://localhost:8080/"
        }
      },
      "source": [
        "n_estimators = [int(x) for x in np.linspace(start = 5 , stop = 15, num = 10)] # returns 10 numbers \n",
        "\n",
        "max_features = ['auto', 'log2']\n",
        "\n",
        "max_depth = [int(x) for x in np.linspace(5, 10, num = 2)] \n",
        "\n",
        "max_depth.append(None)\n",
        "\n",
        "bootstrap = [True, False]\n",
        "\n",
        "r_grid = {'n_estimators': n_estimators,\n",
        "\n",
        "               'max_features': max_features,\n",
        "\n",
        "               'max_depth': max_depth,\n",
        "\n",
        "               'bootstrap': bootstrap}\n",
        "\n",
        "print(r_grid)"
      ],
      "execution_count": 125,
      "outputs": [
        {
          "output_type": "stream",
          "name": "stdout",
          "text": [
            "{'n_estimators': [5, 6, 7, 8, 9, 10, 11, 12, 13, 15], 'max_features': ['auto', 'log2'], 'max_depth': [5, 10, None], 'bootstrap': [True, False]}\n"
          ]
        }
      ]
    },
    {
      "cell_type": "code",
      "metadata": {
        "id": "zf5GC9oi01Zy"
      },
      "source": [
        "\n",
        "#### Example- RandomizedSearchCV ####\n",
        "from sklearn.model_selection import RandomizedSearchCV\n",
        "from sklearn.ensemble import RandomForestClassifier\n",
        "from lightgbm import LGBMRegressor\n",
        "from random import randint, uniform\n",
        "\n",
        "tscv = TimeBasedCV(train_period=60, test_period=7)\n",
        "index_output = tscv.split(data_for_modeling, validation_split_date=datetime.date(2019,2,1))\n",
        "\n",
        "rf = RandomForestClassifier()\n",
        "\n",
        "\n",
        "\n",
        "rf_random = RandomizedSearchCV(estimator = rf, param_distributions = r_grid, n_iter = 100, cv = 3, verbose=2, random_state=42, n_jobs = -1)\n",
        "X=X.fillna(0.01)\n",
        "\n",
        "# Fit the random search model############################~~~~~~~~~~~~~~~~~~################\n",
        "rf_random.fit(X.drop('Date', axis=1),y)\n",
        "print(f\"Best score: {rf_random.best_score_}\")\n",
        "print(\"Best parameters set:\")\n",
        "best_parameters = rf_random.best_estimator_.get_params()\n",
        "for param_name in sorted(r_grid.keys()):\n",
        "  print(f\"\\t{param_name}: {best_parameters[param_name]}\")\n",
        "\n",
        "\n",
        "\n",
        "\n",
        "\n",
        "\n",
        "#model.fit(X.drop('date', axis=1),y)\n",
        "#model.cv_results_\n",
        "#### End of example ####"
      ],
      "execution_count": null,
      "outputs": []
    },
    {
      "cell_type": "code",
      "metadata": {
        "id": "u4KqU-hQddmr",
        "outputId": "70bfef34-473b-48d5-adc1-cfe1d79ff077",
        "colab": {
          "base_uri": "https://localhost:8080/"
        }
      },
      "source": [
        "for param_name in sorted(r_grid.keys()):\n",
        "  print(f\"\\t{param_name}: {best_parameters[param_name]}\")"
      ],
      "execution_count": 128,
      "outputs": [
        {
          "output_type": "stream",
          "name": "stdout",
          "text": [
            "\tbootstrap: False\n",
            "\tmax_depth: 5\n",
            "\tmax_features: auto\n",
            "\tn_estimators: 13\n"
          ]
        }
      ]
    },
    {
      "cell_type": "code",
      "metadata": {
        "id": "6CJLeXwShH4B"
      },
      "source": [
        "X.rename(columns={'date':'Date'},inplace=True)"
      ],
      "execution_count": 129,
      "outputs": []
    },
    {
      "cell_type": "code",
      "metadata": {
        "id": "6fsK6301gAxA"
      },
      "source": [
        "scores = []\n",
        "for train_index, test_index in tscv.split(X, validation_split_date=datetime.date(2019,2,1)):\n",
        "\n",
        "    data_train   = X.loc[train_index].drop('Date', axis=1)\n",
        "    target_train = y.loc[train_index]\n",
        "\n",
        "    data_test    = X.loc[test_index].drop('Date', axis=1)\n",
        "    target_test  = y.loc[test_index]\n",
        "\n",
        "    # if needed, do preprocessing here\n",
        "\n",
        "    clf = RandomForestClassifier(bootstrap=True,max_depth=5,max_features='log2',n_estimators=5)\n",
        "    clf.fit(data_train,target_train)\n",
        "\n",
        "    preds = clf.predict(data_test)\n",
        "    scores.extend(preds)"
      ],
      "execution_count": null,
      "outputs": []
    },
    {
      "cell_type": "code",
      "metadata": {
        "id": "NI9pwJ23h4dp",
        "outputId": "6da26361-4fed-46e5-c79c-43f297dfed3b",
        "colab": {
          "base_uri": "https://localhost:8080/"
        }
      },
      "source": [
        "len(scores)"
      ],
      "execution_count": 133,
      "outputs": [
        {
          "output_type": "execute_result",
          "data": {
            "text/plain": [
              "672"
            ]
          },
          "metadata": {},
          "execution_count": 133
        }
      ]
    },
    {
      "cell_type": "code",
      "metadata": {
        "id": "IpgTOFOViwvn"
      },
      "source": [
        ""
      ],
      "execution_count": null,
      "outputs": []
    }
  ]
}