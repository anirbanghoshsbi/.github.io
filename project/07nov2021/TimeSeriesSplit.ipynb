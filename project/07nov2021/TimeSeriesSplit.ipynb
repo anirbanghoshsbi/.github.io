{
  "nbformat": 4,
  "nbformat_minor": 0,
  "metadata": {
    "colab": {
      "name": "TimeSeriesSplit.ipynb",
      "provenance": [],
      "authorship_tag": "ABX9TyMaxEk07E9I3aZ9nEl4xLBT",
      "include_colab_link": true
    },
    "kernelspec": {
      "name": "python3",
      "display_name": "Python 3"
    },
    "language_info": {
      "name": "python"
    }
  },
  "cells": [
    {
      "cell_type": "markdown",
      "metadata": {
        "id": "view-in-github",
        "colab_type": "text"
      },
      "source": [
        "<a href=\"https://colab.research.google.com/github/anirbanghoshsbi/.github.io/blob/master/project/07nov2021/TimeSeriesSplit.ipynb\" target=\"_parent\"><img src=\"https://colab.research.google.com/assets/colab-badge.svg\" alt=\"Open In Colab\"/></a>"
      ]
    },
    {
      "cell_type": "code",
      "metadata": {
        "colab": {
          "base_uri": "https://localhost:8080/"
        },
        "id": "iT-0Rf0j0jGV",
        "outputId": "aca13db2-104f-41e6-9c98-c93b879b92b2"
      },
      "source": [
        "!pip install yfinance\n",
        "!pip install pandas-ta==0.2.45b"
      ],
      "execution_count": 62,
      "outputs": [
        {
          "output_type": "stream",
          "name": "stdout",
          "text": [
            "Requirement already satisfied: yfinance in /usr/local/lib/python3.7/dist-packages (0.1.68)\n",
            "Requirement already satisfied: numpy>=1.15 in /usr/local/lib/python3.7/dist-packages (from yfinance) (1.19.5)\n",
            "Requirement already satisfied: pandas>=0.24 in /usr/local/lib/python3.7/dist-packages (from yfinance) (1.1.5)\n",
            "Requirement already satisfied: multitasking>=0.0.7 in /usr/local/lib/python3.7/dist-packages (from yfinance) (0.0.10)\n",
            "Requirement already satisfied: lxml>=4.5.1 in /usr/local/lib/python3.7/dist-packages (from yfinance) (4.7.1)\n",
            "Requirement already satisfied: requests>=2.26 in /usr/local/lib/python3.7/dist-packages (from yfinance) (2.26.0)\n",
            "Requirement already satisfied: python-dateutil>=2.7.3 in /usr/local/lib/python3.7/dist-packages (from pandas>=0.24->yfinance) (2.8.2)\n",
            "Requirement already satisfied: pytz>=2017.2 in /usr/local/lib/python3.7/dist-packages (from pandas>=0.24->yfinance) (2018.9)\n",
            "Requirement already satisfied: six>=1.5 in /usr/local/lib/python3.7/dist-packages (from python-dateutil>=2.7.3->pandas>=0.24->yfinance) (1.15.0)\n",
            "Requirement already satisfied: certifi>=2017.4.17 in /usr/local/lib/python3.7/dist-packages (from requests>=2.26->yfinance) (2021.10.8)\n",
            "Requirement already satisfied: urllib3<1.27,>=1.21.1 in /usr/local/lib/python3.7/dist-packages (from requests>=2.26->yfinance) (1.24.3)\n",
            "Requirement already satisfied: charset-normalizer~=2.0.0 in /usr/local/lib/python3.7/dist-packages (from requests>=2.26->yfinance) (2.0.8)\n",
            "Requirement already satisfied: idna<4,>=2.5 in /usr/local/lib/python3.7/dist-packages (from requests>=2.26->yfinance) (2.10)\n",
            "Requirement already satisfied: pandas-ta==0.2.45b in /usr/local/lib/python3.7/dist-packages (0.2.45b0)\n",
            "Requirement already satisfied: pandas in /usr/local/lib/python3.7/dist-packages (from pandas-ta==0.2.45b) (1.1.5)\n",
            "Requirement already satisfied: python-dateutil>=2.7.3 in /usr/local/lib/python3.7/dist-packages (from pandas->pandas-ta==0.2.45b) (2.8.2)\n",
            "Requirement already satisfied: pytz>=2017.2 in /usr/local/lib/python3.7/dist-packages (from pandas->pandas-ta==0.2.45b) (2018.9)\n",
            "Requirement already satisfied: numpy>=1.15.4 in /usr/local/lib/python3.7/dist-packages (from pandas->pandas-ta==0.2.45b) (1.19.5)\n",
            "Requirement already satisfied: six>=1.5 in /usr/local/lib/python3.7/dist-packages (from python-dateutil>=2.7.3->pandas->pandas-ta==0.2.45b) (1.15.0)\n"
          ]
        }
      ]
    },
    {
      "cell_type": "code",
      "metadata": {
        "id": "2ZJ2_HCBttqL",
        "outputId": "3660baef-b33b-40cc-a847-21633dba2dab",
        "colab": {
          "base_uri": "https://localhost:8080/"
        }
      },
      "source": [
        "!pip install colorama"
      ],
      "execution_count": 63,
      "outputs": [
        {
          "output_type": "stream",
          "name": "stdout",
          "text": [
            "Requirement already satisfied: colorama in /usr/local/lib/python3.7/dist-packages (0.4.4)\n"
          ]
        }
      ]
    },
    {
      "cell_type": "code",
      "metadata": {
        "id": "GA6NCi_W0loc"
      },
      "source": [
        "import yfinance as yf\n",
        "import pandas_ta as ta\n",
        "import numpy as np\n",
        "import pandas as pd\n",
        "from sklearn.ensemble import RandomForestClassifier\n",
        "from sklearn.metrics import accuracy_score, classification_report,f1_score\n",
        "import datetime as dt\n",
        "\n",
        "from colorama import Fore, Back, Style\n",
        "import seaborn as sns\n",
        "import plotly.express as px\n",
        "import matplotlib\n",
        "from matplotlib.patches import Patch\n",
        "from matplotlib import pyplot as plt\n",
        "plt.rcParams.update({'figure.max_open_warning': 0})\n",
        "plt.style.use('fivethirtyeight')\n",
        "cmap_data = plt.cm.Paired\n",
        "cmap_cv = plt.cm.coolwarm"
      ],
      "execution_count": 64,
      "outputs": []
    },
    {
      "cell_type": "code",
      "metadata": {
        "id": "wFp6-Coc0n1m"
      },
      "source": [
        "def plot_cv_indices(cv, n_splits, X, y, date_col = None):\n",
        "    \"\"\"Create a sample plot for indices of a cross-validation object.\"\"\"\n",
        "    \n",
        "    fig, ax = plt.subplots(1, 1, figsize = (11, 7))\n",
        "    \n",
        "    # Generate the training/testing visualizations for each CV split\n",
        "    for ii, (tr, tt) in enumerate(cv.split(X=X, y=y)):\n",
        "        # Fill in indices with the training/test groups\n",
        "        indices = np.array([np.nan] * len(X))\n",
        "        indices[tt] = 1\n",
        "        indices[tr] = 0\n",
        "\n",
        "        # Visualize the results\n",
        "        ax.scatter(range(len(indices)), [ii + .5] * len(indices),\n",
        "                   c=indices, marker='_', lw=10, cmap=cmap_cv,\n",
        "                   vmin=-.2, vmax=1.2)\n",
        "\n",
        "\n",
        "    # Formatting\n",
        "    yticklabels = list(range(n_splits))\n",
        "    \n",
        "    if date_col is not None:\n",
        "        tick_locations  = ax.get_xticks()\n",
        "        tick_dates = [\" \"] + date_col.iloc[list(tick_locations[1:-1])].astype(str).tolist() + [\" \"]\n",
        "\n",
        "        tick_locations_str = [str(int(i)) for i in tick_locations]\n",
        "        new_labels = ['\\n\\n'.join(x) for x in zip(list(tick_locations_str), tick_dates) ]\n",
        "        ax.set_xticks(tick_locations)\n",
        "        ax.set_xticklabels(new_labels)\n",
        "    \n",
        "    ax.set(yticks=np.arange(n_splits+2) + .5, yticklabels=yticklabels,\n",
        "           xlabel='Sample index', ylabel=\"CV iteration\",\n",
        "           ylim=[n_splits+0.2, -.2])\n",
        "    ax.legend([Patch(color=cmap_cv(.8)), Patch(color=cmap_cv(.02))],\n",
        "              ['Testing set', 'Training set'], loc=(1.02, .8))\n",
        "    ax.set_title('{}'.format(type(cv).__name__), fontsize=15)\n",
        "           \n"
      ],
      "execution_count": 65,
      "outputs": []
    },
    {
      "cell_type": "code",
      "metadata": {
        "colab": {
          "base_uri": "https://localhost:8080/"
        },
        "id": "-_r-y_Nc01gH",
        "outputId": "47000178-a268-4ca4-903f-2aadfbfa19e5"
      },
      "source": [
        "data_for_modeling=yf.download('^nsei',start='2015-01-01',parse_dates=['Date']).reset_index()"
      ],
      "execution_count": 66,
      "outputs": [
        {
          "output_type": "stream",
          "name": "stdout",
          "text": [
            "\r[*********************100%***********************]  1 of 1 completed\n"
          ]
        }
      ]
    },
    {
      "cell_type": "code",
      "source": [
        "data_for_modeling['Date']=data_for_modeling['Date'].map(dt.datetime.toordinal)"
      ],
      "metadata": {
        "id": "cTO14VRdIue1"
      },
      "execution_count": 67,
      "outputs": []
    },
    {
      "cell_type": "code",
      "metadata": {
        "id": "k1yL6yOm93FD",
        "colab": {
          "base_uri": "https://localhost:8080/"
        },
        "outputId": "8590bd7b-3021-46ec-fdc8-49d8ca7e46af"
      },
      "source": [
        "data_for_modeling.ta.macd(append=True)\n",
        "data_for_modeling.ta.vortex(append=True)\n",
        "print()"
      ],
      "execution_count": 68,
      "outputs": [
        {
          "output_type": "stream",
          "name": "stdout",
          "text": [
            "\n"
          ]
        }
      ]
    },
    {
      "cell_type": "code",
      "metadata": {
        "id": "5vra0B4T2_On"
      },
      "source": [
        "#data_for_modeling.rename(columns={'date':'Date'},inplace=True)"
      ],
      "execution_count": 69,
      "outputs": []
    },
    {
      "cell_type": "code",
      "metadata": {
        "id": "eD5AJVbX-m3N"
      },
      "source": [
        "features=data_for_modeling.columns.tolist()"
      ],
      "execution_count": 70,
      "outputs": []
    },
    {
      "cell_type": "code",
      "metadata": {
        "id": "ijrI_cbKAIoL"
      },
      "source": [
        "features=[feats for feats in features if feats not in ['close','open','low','high']]"
      ],
      "execution_count": 71,
      "outputs": []
    },
    {
      "cell_type": "code",
      "metadata": {
        "id": "nb0u5PE-6KDe"
      },
      "source": [
        "data_for_modeling['Signal']=data_for_modeling['close'].transform(lambda x : np.sign(x.diff(14)))\n"
      ],
      "execution_count": 72,
      "outputs": []
    },
    {
      "cell_type": "code",
      "metadata": {
        "id": "on5BBlFVc5db"
      },
      "source": [
        "data_for_modeling=data_for_modeling.dropna()"
      ],
      "execution_count": 73,
      "outputs": []
    },
    {
      "cell_type": "code",
      "metadata": {
        "id": "CbatNYPXnrKm"
      },
      "source": [
        "X=data_for_modeling[features]\n",
        "y=data_for_modeling['Signal']"
      ],
      "execution_count": 74,
      "outputs": []
    },
    {
      "cell_type": "code",
      "metadata": {
        "id": "iIuESx3ynl7q",
        "outputId": "09c1f9cc-fa91-43db-97d5-60d555b78afa",
        "colab": {
          "base_uri": "https://localhost:8080/"
        }
      },
      "source": [
        "from sklearn.model_selection import TimeSeriesSplit\n",
        "\n",
        "tscv = TimeSeriesSplit(n_splits=5)\n",
        "\n",
        "for fold, (train_index, test_index) in enumerate(tscv.split(X)):\n",
        "    print(\"Fold: {}\".format(fold))\n",
        "    X_train, X_test = X.iloc[train_index], X.iloc[test_index]\n",
        "    y_train, y_test = y.iloc[train_index], y.iloc[test_index]\n"
      ],
      "execution_count": 75,
      "outputs": [
        {
          "output_type": "stream",
          "name": "stdout",
          "text": [
            "Fold: 0\n",
            "TRAIN indices: [  0   1   2   3   4   5   6   7   8   9  10  11  12  13  14  15  16  17\n",
            "  18  19  20  21  22  23  24  25  26  27  28  29  30  31  32  33  34  35\n",
            "  36  37  38  39  40  41  42  43  44  45  46  47  48  49  50  51  52  53\n",
            "  54  55  56  57  58  59  60  61  62  63  64  65  66  67  68  69  70  71\n",
            "  72  73  74  75  76  77  78  79  80  81  82  83  84  85  86  87  88  89\n",
            "  90  91  92  93  94  95  96  97  98  99 100 101 102 103 104 105 106 107\n",
            " 108 109 110 111 112 113 114 115 116 117 118 119 120 121 122 123 124 125\n",
            " 126 127 128 129 130 131 132 133 134 135 136 137 138 139 140 141 142 143\n",
            " 144 145 146 147 148 149 150 151 152 153 154 155 156 157 158 159 160 161\n",
            " 162 163 164 165 166 167 168 169 170 171 172 173 174 175 176 177 178 179\n",
            " 180 181 182 183 184 185 186 187 188 189 190 191 192 193 194 195 196 197\n",
            " 198 199 200 201 202 203 204 205 206 207 208 209 210 211 212 213 214 215\n",
            " 216 217 218 219 220 221 222 223 224 225 226 227 228 229 230 231 232 233\n",
            " 234 235 236 237 238 239 240 241 242 243 244 245 246 247 248 249 250 251\n",
            " 252 253 254 255 256 257 258 259 260 261 262 263 264 265 266 267 268 269\n",
            " 270 271 272 273 274 275 276 277 278 279 280] \n",
            " TEST indices: [281 282 283 284 285 286 287 288 289 290 291 292 293 294 295 296 297 298\n",
            " 299 300 301 302 303 304 305 306 307 308 309 310 311 312 313 314 315 316\n",
            " 317 318 319 320 321 322 323 324 325 326 327 328 329 330 331 332 333 334\n",
            " 335 336 337 338 339 340 341 342 343 344 345 346 347 348 349 350 351 352\n",
            " 353 354 355 356 357 358 359 360 361 362 363 364 365 366 367 368 369 370\n",
            " 371 372 373 374 375 376 377 378 379 380 381 382 383 384 385 386 387 388\n",
            " 389 390 391 392 393 394 395 396 397 398 399 400 401 402 403 404 405 406\n",
            " 407 408 409 410 411 412 413 414 415 416 417 418 419 420 421 422 423 424\n",
            " 425 426 427 428 429 430 431 432 433 434 435 436 437 438 439 440 441 442\n",
            " 443 444 445 446 447 448 449 450 451 452 453 454 455 456 457 458 459 460\n",
            " 461 462 463 464 465 466 467 468 469 470 471 472 473 474 475 476 477 478\n",
            " 479 480 481 482 483 484 485 486 487 488 489 490 491 492 493 494 495 496\n",
            " 497 498 499 500 501 502 503 504 505 506 507 508 509 510 511 512 513 514\n",
            " 515 516 517 518 519 520 521 522 523 524 525 526 527 528 529 530 531 532\n",
            " 533 534 535 536 537 538 539 540 541 542 543 544 545 546 547 548 549 550\n",
            " 551 552 553 554 555 556 557 558 559 560 561]\n",
            "\n",
            "\n",
            "Fold: 1\n",
            "TRAIN indices: [  0   1   2   3   4   5   6   7   8   9  10  11  12  13  14  15  16  17\n",
            "  18  19  20  21  22  23  24  25  26  27  28  29  30  31  32  33  34  35\n",
            "  36  37  38  39  40  41  42  43  44  45  46  47  48  49  50  51  52  53\n",
            "  54  55  56  57  58  59  60  61  62  63  64  65  66  67  68  69  70  71\n",
            "  72  73  74  75  76  77  78  79  80  81  82  83  84  85  86  87  88  89\n",
            "  90  91  92  93  94  95  96  97  98  99 100 101 102 103 104 105 106 107\n",
            " 108 109 110 111 112 113 114 115 116 117 118 119 120 121 122 123 124 125\n",
            " 126 127 128 129 130 131 132 133 134 135 136 137 138 139 140 141 142 143\n",
            " 144 145 146 147 148 149 150 151 152 153 154 155 156 157 158 159 160 161\n",
            " 162 163 164 165 166 167 168 169 170 171 172 173 174 175 176 177 178 179\n",
            " 180 181 182 183 184 185 186 187 188 189 190 191 192 193 194 195 196 197\n",
            " 198 199 200 201 202 203 204 205 206 207 208 209 210 211 212 213 214 215\n",
            " 216 217 218 219 220 221 222 223 224 225 226 227 228 229 230 231 232 233\n",
            " 234 235 236 237 238 239 240 241 242 243 244 245 246 247 248 249 250 251\n",
            " 252 253 254 255 256 257 258 259 260 261 262 263 264 265 266 267 268 269\n",
            " 270 271 272 273 274 275 276 277 278 279 280 281 282 283 284 285 286 287\n",
            " 288 289 290 291 292 293 294 295 296 297 298 299 300 301 302 303 304 305\n",
            " 306 307 308 309 310 311 312 313 314 315 316 317 318 319 320 321 322 323\n",
            " 324 325 326 327 328 329 330 331 332 333 334 335 336 337 338 339 340 341\n",
            " 342 343 344 345 346 347 348 349 350 351 352 353 354 355 356 357 358 359\n",
            " 360 361 362 363 364 365 366 367 368 369 370 371 372 373 374 375 376 377\n",
            " 378 379 380 381 382 383 384 385 386 387 388 389 390 391 392 393 394 395\n",
            " 396 397 398 399 400 401 402 403 404 405 406 407 408 409 410 411 412 413\n",
            " 414 415 416 417 418 419 420 421 422 423 424 425 426 427 428 429 430 431\n",
            " 432 433 434 435 436 437 438 439 440 441 442 443 444 445 446 447 448 449\n",
            " 450 451 452 453 454 455 456 457 458 459 460 461 462 463 464 465 466 467\n",
            " 468 469 470 471 472 473 474 475 476 477 478 479 480 481 482 483 484 485\n",
            " 486 487 488 489 490 491 492 493 494 495 496 497 498 499 500 501 502 503\n",
            " 504 505 506 507 508 509 510 511 512 513 514 515 516 517 518 519 520 521\n",
            " 522 523 524 525 526 527 528 529 530 531 532 533 534 535 536 537 538 539\n",
            " 540 541 542 543 544 545 546 547 548 549 550 551 552 553 554 555 556 557\n",
            " 558 559 560 561] \n",
            " TEST indices: [562 563 564 565 566 567 568 569 570 571 572 573 574 575 576 577 578 579\n",
            " 580 581 582 583 584 585 586 587 588 589 590 591 592 593 594 595 596 597\n",
            " 598 599 600 601 602 603 604 605 606 607 608 609 610 611 612 613 614 615\n",
            " 616 617 618 619 620 621 622 623 624 625 626 627 628 629 630 631 632 633\n",
            " 634 635 636 637 638 639 640 641 642 643 644 645 646 647 648 649 650 651\n",
            " 652 653 654 655 656 657 658 659 660 661 662 663 664 665 666 667 668 669\n",
            " 670 671 672 673 674 675 676 677 678 679 680 681 682 683 684 685 686 687\n",
            " 688 689 690 691 692 693 694 695 696 697 698 699 700 701 702 703 704 705\n",
            " 706 707 708 709 710 711 712 713 714 715 716 717 718 719 720 721 722 723\n",
            " 724 725 726 727 728 729 730 731 732 733 734 735 736 737 738 739 740 741\n",
            " 742 743 744 745 746 747 748 749 750 751 752 753 754 755 756 757 758 759\n",
            " 760 761 762 763 764 765 766 767 768 769 770 771 772 773 774 775 776 777\n",
            " 778 779 780 781 782 783 784 785 786 787 788 789 790 791 792 793 794 795\n",
            " 796 797 798 799 800 801 802 803 804 805 806 807 808 809 810 811 812 813\n",
            " 814 815 816 817 818 819 820 821 822 823 824 825 826 827 828 829 830 831\n",
            " 832 833 834 835 836 837 838 839 840 841 842]\n",
            "\n",
            "\n",
            "Fold: 2\n",
            "TRAIN indices: [  0   1   2   3   4   5   6   7   8   9  10  11  12  13  14  15  16  17\n",
            "  18  19  20  21  22  23  24  25  26  27  28  29  30  31  32  33  34  35\n",
            "  36  37  38  39  40  41  42  43  44  45  46  47  48  49  50  51  52  53\n",
            "  54  55  56  57  58  59  60  61  62  63  64  65  66  67  68  69  70  71\n",
            "  72  73  74  75  76  77  78  79  80  81  82  83  84  85  86  87  88  89\n",
            "  90  91  92  93  94  95  96  97  98  99 100 101 102 103 104 105 106 107\n",
            " 108 109 110 111 112 113 114 115 116 117 118 119 120 121 122 123 124 125\n",
            " 126 127 128 129 130 131 132 133 134 135 136 137 138 139 140 141 142 143\n",
            " 144 145 146 147 148 149 150 151 152 153 154 155 156 157 158 159 160 161\n",
            " 162 163 164 165 166 167 168 169 170 171 172 173 174 175 176 177 178 179\n",
            " 180 181 182 183 184 185 186 187 188 189 190 191 192 193 194 195 196 197\n",
            " 198 199 200 201 202 203 204 205 206 207 208 209 210 211 212 213 214 215\n",
            " 216 217 218 219 220 221 222 223 224 225 226 227 228 229 230 231 232 233\n",
            " 234 235 236 237 238 239 240 241 242 243 244 245 246 247 248 249 250 251\n",
            " 252 253 254 255 256 257 258 259 260 261 262 263 264 265 266 267 268 269\n",
            " 270 271 272 273 274 275 276 277 278 279 280 281 282 283 284 285 286 287\n",
            " 288 289 290 291 292 293 294 295 296 297 298 299 300 301 302 303 304 305\n",
            " 306 307 308 309 310 311 312 313 314 315 316 317 318 319 320 321 322 323\n",
            " 324 325 326 327 328 329 330 331 332 333 334 335 336 337 338 339 340 341\n",
            " 342 343 344 345 346 347 348 349 350 351 352 353 354 355 356 357 358 359\n",
            " 360 361 362 363 364 365 366 367 368 369 370 371 372 373 374 375 376 377\n",
            " 378 379 380 381 382 383 384 385 386 387 388 389 390 391 392 393 394 395\n",
            " 396 397 398 399 400 401 402 403 404 405 406 407 408 409 410 411 412 413\n",
            " 414 415 416 417 418 419 420 421 422 423 424 425 426 427 428 429 430 431\n",
            " 432 433 434 435 436 437 438 439 440 441 442 443 444 445 446 447 448 449\n",
            " 450 451 452 453 454 455 456 457 458 459 460 461 462 463 464 465 466 467\n",
            " 468 469 470 471 472 473 474 475 476 477 478 479 480 481 482 483 484 485\n",
            " 486 487 488 489 490 491 492 493 494 495 496 497 498 499 500 501 502 503\n",
            " 504 505 506 507 508 509 510 511 512 513 514 515 516 517 518 519 520 521\n",
            " 522 523 524 525 526 527 528 529 530 531 532 533 534 535 536 537 538 539\n",
            " 540 541 542 543 544 545 546 547 548 549 550 551 552 553 554 555 556 557\n",
            " 558 559 560 561 562 563 564 565 566 567 568 569 570 571 572 573 574 575\n",
            " 576 577 578 579 580 581 582 583 584 585 586 587 588 589 590 591 592 593\n",
            " 594 595 596 597 598 599 600 601 602 603 604 605 606 607 608 609 610 611\n",
            " 612 613 614 615 616 617 618 619 620 621 622 623 624 625 626 627 628 629\n",
            " 630 631 632 633 634 635 636 637 638 639 640 641 642 643 644 645 646 647\n",
            " 648 649 650 651 652 653 654 655 656 657 658 659 660 661 662 663 664 665\n",
            " 666 667 668 669 670 671 672 673 674 675 676 677 678 679 680 681 682 683\n",
            " 684 685 686 687 688 689 690 691 692 693 694 695 696 697 698 699 700 701\n",
            " 702 703 704 705 706 707 708 709 710 711 712 713 714 715 716 717 718 719\n",
            " 720 721 722 723 724 725 726 727 728 729 730 731 732 733 734 735 736 737\n",
            " 738 739 740 741 742 743 744 745 746 747 748 749 750 751 752 753 754 755\n",
            " 756 757 758 759 760 761 762 763 764 765 766 767 768 769 770 771 772 773\n",
            " 774 775 776 777 778 779 780 781 782 783 784 785 786 787 788 789 790 791\n",
            " 792 793 794 795 796 797 798 799 800 801 802 803 804 805 806 807 808 809\n",
            " 810 811 812 813 814 815 816 817 818 819 820 821 822 823 824 825 826 827\n",
            " 828 829 830 831 832 833 834 835 836 837 838 839 840 841 842] \n",
            " TEST indices: [ 843  844  845  846  847  848  849  850  851  852  853  854  855  856\n",
            "  857  858  859  860  861  862  863  864  865  866  867  868  869  870\n",
            "  871  872  873  874  875  876  877  878  879  880  881  882  883  884\n",
            "  885  886  887  888  889  890  891  892  893  894  895  896  897  898\n",
            "  899  900  901  902  903  904  905  906  907  908  909  910  911  912\n",
            "  913  914  915  916  917  918  919  920  921  922  923  924  925  926\n",
            "  927  928  929  930  931  932  933  934  935  936  937  938  939  940\n",
            "  941  942  943  944  945  946  947  948  949  950  951  952  953  954\n",
            "  955  956  957  958  959  960  961  962  963  964  965  966  967  968\n",
            "  969  970  971  972  973  974  975  976  977  978  979  980  981  982\n",
            "  983  984  985  986  987  988  989  990  991  992  993  994  995  996\n",
            "  997  998  999 1000 1001 1002 1003 1004 1005 1006 1007 1008 1009 1010\n",
            " 1011 1012 1013 1014 1015 1016 1017 1018 1019 1020 1021 1022 1023 1024\n",
            " 1025 1026 1027 1028 1029 1030 1031 1032 1033 1034 1035 1036 1037 1038\n",
            " 1039 1040 1041 1042 1043 1044 1045 1046 1047 1048 1049 1050 1051 1052\n",
            " 1053 1054 1055 1056 1057 1058 1059 1060 1061 1062 1063 1064 1065 1066\n",
            " 1067 1068 1069 1070 1071 1072 1073 1074 1075 1076 1077 1078 1079 1080\n",
            " 1081 1082 1083 1084 1085 1086 1087 1088 1089 1090 1091 1092 1093 1094\n",
            " 1095 1096 1097 1098 1099 1100 1101 1102 1103 1104 1105 1106 1107 1108\n",
            " 1109 1110 1111 1112 1113 1114 1115 1116 1117 1118 1119 1120 1121 1122\n",
            " 1123]\n",
            "\n",
            "\n",
            "Fold: 3\n",
            "TRAIN indices: [   0    1    2 ... 1121 1122 1123] \n",
            " TEST indices: [1124 1125 1126 1127 1128 1129 1130 1131 1132 1133 1134 1135 1136 1137\n",
            " 1138 1139 1140 1141 1142 1143 1144 1145 1146 1147 1148 1149 1150 1151\n",
            " 1152 1153 1154 1155 1156 1157 1158 1159 1160 1161 1162 1163 1164 1165\n",
            " 1166 1167 1168 1169 1170 1171 1172 1173 1174 1175 1176 1177 1178 1179\n",
            " 1180 1181 1182 1183 1184 1185 1186 1187 1188 1189 1190 1191 1192 1193\n",
            " 1194 1195 1196 1197 1198 1199 1200 1201 1202 1203 1204 1205 1206 1207\n",
            " 1208 1209 1210 1211 1212 1213 1214 1215 1216 1217 1218 1219 1220 1221\n",
            " 1222 1223 1224 1225 1226 1227 1228 1229 1230 1231 1232 1233 1234 1235\n",
            " 1236 1237 1238 1239 1240 1241 1242 1243 1244 1245 1246 1247 1248 1249\n",
            " 1250 1251 1252 1253 1254 1255 1256 1257 1258 1259 1260 1261 1262 1263\n",
            " 1264 1265 1266 1267 1268 1269 1270 1271 1272 1273 1274 1275 1276 1277\n",
            " 1278 1279 1280 1281 1282 1283 1284 1285 1286 1287 1288 1289 1290 1291\n",
            " 1292 1293 1294 1295 1296 1297 1298 1299 1300 1301 1302 1303 1304 1305\n",
            " 1306 1307 1308 1309 1310 1311 1312 1313 1314 1315 1316 1317 1318 1319\n",
            " 1320 1321 1322 1323 1324 1325 1326 1327 1328 1329 1330 1331 1332 1333\n",
            " 1334 1335 1336 1337 1338 1339 1340 1341 1342 1343 1344 1345 1346 1347\n",
            " 1348 1349 1350 1351 1352 1353 1354 1355 1356 1357 1358 1359 1360 1361\n",
            " 1362 1363 1364 1365 1366 1367 1368 1369 1370 1371 1372 1373 1374 1375\n",
            " 1376 1377 1378 1379 1380 1381 1382 1383 1384 1385 1386 1387 1388 1389\n",
            " 1390 1391 1392 1393 1394 1395 1396 1397 1398 1399 1400 1401 1402 1403\n",
            " 1404]\n",
            "\n",
            "\n",
            "Fold: 4\n",
            "TRAIN indices: [   0    1    2 ... 1402 1403 1404] \n",
            " TEST indices: [1405 1406 1407 1408 1409 1410 1411 1412 1413 1414 1415 1416 1417 1418\n",
            " 1419 1420 1421 1422 1423 1424 1425 1426 1427 1428 1429 1430 1431 1432\n",
            " 1433 1434 1435 1436 1437 1438 1439 1440 1441 1442 1443 1444 1445 1446\n",
            " 1447 1448 1449 1450 1451 1452 1453 1454 1455 1456 1457 1458 1459 1460\n",
            " 1461 1462 1463 1464 1465 1466 1467 1468 1469 1470 1471 1472 1473 1474\n",
            " 1475 1476 1477 1478 1479 1480 1481 1482 1483 1484 1485 1486 1487 1488\n",
            " 1489 1490 1491 1492 1493 1494 1495 1496 1497 1498 1499 1500 1501 1502\n",
            " 1503 1504 1505 1506 1507 1508 1509 1510 1511 1512 1513 1514 1515 1516\n",
            " 1517 1518 1519 1520 1521 1522 1523 1524 1525 1526 1527 1528 1529 1530\n",
            " 1531 1532 1533 1534 1535 1536 1537 1538 1539 1540 1541 1542 1543 1544\n",
            " 1545 1546 1547 1548 1549 1550 1551 1552 1553 1554 1555 1556 1557 1558\n",
            " 1559 1560 1561 1562 1563 1564 1565 1566 1567 1568 1569 1570 1571 1572\n",
            " 1573 1574 1575 1576 1577 1578 1579 1580 1581 1582 1583 1584 1585 1586\n",
            " 1587 1588 1589 1590 1591 1592 1593 1594 1595 1596 1597 1598 1599 1600\n",
            " 1601 1602 1603 1604 1605 1606 1607 1608 1609 1610 1611 1612 1613 1614\n",
            " 1615 1616 1617 1618 1619 1620 1621 1622 1623 1624 1625 1626 1627 1628\n",
            " 1629 1630 1631 1632 1633 1634 1635 1636 1637 1638 1639 1640 1641 1642\n",
            " 1643 1644 1645 1646 1647 1648 1649 1650 1651 1652 1653 1654 1655 1656\n",
            " 1657 1658 1659 1660 1661 1662 1663 1664 1665 1666 1667 1668 1669 1670\n",
            " 1671 1672 1673 1674 1675 1676 1677 1678 1679 1680 1681 1682 1683 1684\n",
            " 1685]\n",
            "\n",
            "\n"
          ]
        }
      ]
    },
    {
      "cell_type": "code",
      "metadata": {
        "id": "DHrNVkAMsG6e",
        "outputId": "a00044b5-28fd-4313-f72a-11702a89c4c0",
        "colab": {
          "base_uri": "https://localhost:8080/",
          "height": 497
        }
      },
      "source": [
        "plot_cv_indices(tscv,5, X, y)"
      ],
      "execution_count": 76,
      "outputs": [
        {
          "output_type": "display_data",
          "data": {
            "image/png": "[encoded data removed]",
            "text/plain": [
              "<Figure size 792x504 with 1 Axes>"
            ]
          },
          "metadata": {}
        }
      ]
    },
    {
      "cell_type": "code",
      "metadata": {
        "id": "fMof2xk8sjzB",
        "outputId": "7134b609-ca8b-4421-81fa-56ded0c17d32",
        "colab": {
          "base_uri": "https://localhost:8080/"
        }
      },
      "source": [
        "\n",
        "for train_index, test_index in tscv.split(X,y):\n",
        "    X_train, X_test = X.iloc[train_index], X.iloc[test_index]\n",
        "    y_train, y_test = y.iloc[train_index], y.iloc[test_index]\n",
        "    \n",
        "    print(\"Train Start: %d -> End %d\" % (train_index[0], train_index[-1]))\n",
        "    print(\"Test Start: %d -> End %d\" % (test_index[0], test_index[-1]))\n",
        "    print(X_train.shape, y_train.shape)\n",
        "    print(X_test.shape, y_test.shape)\n",
        "    print(\"#\" * 50)"
      ],
      "execution_count": 77,
      "outputs": [
        {
          "output_type": "stream",
          "name": "stdout",
          "text": [
            "Train Start: 0 -> End 280\n",
            "Test Start: 281 -> End 561\n",
            "(281, 8) (281,)\n",
            "(281, 8) (281,)\n",
            "##################################################\n",
            "Train Start: 0 -> End 561\n",
            "Test Start: 562 -> End 842\n",
            "(562, 8) (562,)\n",
            "(281, 8) (281,)\n",
            "##################################################\n",
            "Train Start: 0 -> End 842\n",
            "Test Start: 843 -> End 1123\n",
            "(843, 8) (843,)\n",
            "(281, 8) (281,)\n",
            "##################################################\n",
            "Train Start: 0 -> End 1123\n",
            "Test Start: 1124 -> End 1404\n",
            "(1124, 8) (1124,)\n",
            "(281, 8) (281,)\n",
            "##################################################\n",
            "Train Start: 0 -> End 1404\n",
            "Test Start: 1405 -> End 1685\n",
            "(1405, 8) (1405,)\n",
            "(281, 8) (281,)\n",
            "##################################################\n"
          ]
        }
      ]
    },
    {
      "cell_type": "code",
      "source": [
        "X_train.shape,X_test.shape"
      ],
      "metadata": {
        "id": "NvWLrLdiE6OL",
        "outputId": "35f12d6d-93f5-41de-cfa4-10f5c75c9be4",
        "colab": {
          "base_uri": "https://localhost:8080/"
        }
      },
      "execution_count": 78,
      "outputs": [
        {
          "output_type": "execute_result",
          "data": {
            "text/plain": [
              "((1405, 8), (281, 8))"
            ]
          },
          "metadata": {},
          "execution_count": 78
        }
      ]
    },
    {
      "cell_type": "code",
      "metadata": {
        "id": "IpgTOFOViwvn"
      },
      "source": [
        "rf=RandomForestClassifier()"
      ],
      "execution_count": 79,
      "outputs": []
    },
    {
      "cell_type": "code",
      "metadata": {
        "id": "8AVW55oioiVP"
      },
      "source": [
        "rand_frst_clf = RandomForestClassifier(n_estimators = 200,max_depth=20,min_samples_leaf=3,max_features = \"auto\",min_samples_split=40, criterion = \"gini\", bootstrap=True,random_state = 42)"
      ],
      "execution_count": 80,
      "outputs": []
    },
    {
      "cell_type": "code",
      "metadata": {
        "id": "_pETQ41Jo1qR",
        "outputId": "8821c6c1-2859-424a-882b-21b7a448496a",
        "colab": {
          "base_uri": "https://localhost:8080/"
        }
      },
      "source": [
        "\n",
        "# Fit the data to the model\n",
        "rand_frst_clf.fit(X_train, y_train)"
      ],
      "execution_count": 81,
      "outputs": [
        {
          "output_type": "execute_result",
          "data": {
            "text/plain": [
              "RandomForestClassifier(max_depth=20, min_samples_leaf=3, min_samples_split=40,\n",
              "                       n_estimators=200, random_state=42)"
            ]
          },
          "metadata": {},
          "execution_count": 81
        }
      ]
    },
    {
      "cell_type": "code",
      "metadata": {
        "id": "6Vh1qtLGqDxa"
      },
      "source": [
        "# Make predictions\n",
        "y_pred = rand_frst_clf.predict(X_test)"
      ],
      "execution_count": 82,
      "outputs": []
    },
    {
      "cell_type": "code",
      "metadata": {
        "id": "izyOwtx-qEoe",
        "outputId": "e52f62b3-9589-408d-b8f1-a46f49c17b27",
        "colab": {
          "base_uri": "https://localhost:8080/",
          "height": 340
        }
      },
      "source": [
        "plt.figure(figsize=(10,5))\n",
        "pd.Series(y_pred).plot();"
      ],
      "execution_count": 90,
      "outputs": [
        {
          "output_type": "display_data",
          "data": {
            "image/png": "[encoded data removed]",
            "text/plain": [
              "<Figure size 720x360 with 1 Axes>"
            ]
          },
          "metadata": {}
        }
      ]
    },
    {
      "cell_type": "code",
      "source": [
        ""
      ],
      "metadata": {
        "id": "VneAyPzQJQsO"
      },
      "execution_count": null,
      "outputs": []
    }
  ]
}