{
  "nbformat": 4,
  "nbformat_minor": 0,
  "metadata": {
    "colab": {
      "name": "Get all href from html.ipynb",
      "provenance": [],
      "authorship_tag": "ABX9TyMWZF1u43CgFm0woOHKg3sp",
      "include_colab_link": true
    },
    "kernelspec": {
      "name": "python3",
      "display_name": "Python 3"
    },
    "language_info": {
      "name": "python"
    }
  },
  "cells": [
    {
      "cell_type": "markdown",
      "metadata": {
        "id": "view-in-github",
        "colab_type": "text"
      },
      "source": [
        "<a href=\"https://colab.research.google.com/github/anirbanghoshsbi/.github.io/blob/master/Get_all_href_from_html.ipynb\" target=\"_parent\"><img src=\"https://colab.research.google.com/assets/colab-badge.svg\" alt=\"Open In Colab\"/></a>"
      ]
    },
    {
      "cell_type": "code",
      "metadata": {
        "id": "ZQhV29-Hsozu"
      },
      "source": [
        "from bs4 import BeautifulSoup\n",
        "import urllib.request\n",
        "lst=[]\n",
        "html_page = urllib.request.urlopen(\"https://www.moneycontrol.com/stocks/marketinfo/marketcap/bse/index.html\")\n",
        "soup = BeautifulSoup(html_page, \"html.parser\")\n",
        "for link in soup.findAll('a'):\n",
        "   lst.append(str(link.get(\"href\")))"
      ],
      "execution_count": 34,
      "outputs": []
    },
    {
      "cell_type": "code",
      "metadata": {
        "id": "dkeMwQvLxO_X"
      },
      "source": [
        "lst"
      ],
      "execution_count": null,
      "outputs": []
    },
    {
      "cell_type": "code",
      "metadata": {
        "id": "Uu8KFOxQvJg-"
      },
      "source": [
        "newlst=[]\n",
        "i=0\n",
        "for item in lst:\n",
        "  i=i+1\n",
        "  if item.startswith('/stocks/top-companies-in-india'):\n",
        "    newlst.append(item)\n",
        "    \n"
      ],
      "execution_count": 44,
      "outputs": []
    },
    {
      "cell_type": "code",
      "metadata": {
        "id": "Y0BnyZyXvKHX"
      },
      "source": [
        "\n",
        "newlst"
      ],
      "execution_count": null,
      "outputs": []
    },
    {
      "cell_type": "code",
      "metadata": {
        "id": "Vqx3TpII1Mca"
      },
      "source": [
        "with open('fundamental_sector_name.txt', 'w') as f:\n",
        "  for item in newlst:\n",
        "    f.write(item)\n",
        "    f.write('\\t')\n",
        "    \n"
      ],
      "execution_count": 57,
      "outputs": []
    },
    {
      "cell_type": "code",
      "metadata": {
        "id": "smFpr9RQ2Vbw"
      },
      "source": [
        "t=pd.read_csv('/content/fundamental_sector_name.txt',sep='\\t',header=None)\n"
      ],
      "execution_count": 62,
      "outputs": []
    },
    {
      "cell_type": "code",
      "metadata": {
        "colab": {
          "base_uri": "https://localhost:8080/",
          "height": 35
        },
        "id": "kY6Fg5_F2kBM",
        "outputId": "f8864c86-07cc-400f-a702-ad11b79d5dda"
      },
      "source": [
        "t[3].tolist()[0]"
      ],
      "execution_count": 73,
      "outputs": [
        {
          "output_type": "execute_result",
          "data": {
            "application/vnd.google.colaboratory.intrinsic+json": {
              "type": "string"
            },
            "text/plain": [
              "'/stocks/top-companies-in-india/market-capitalisation-bse/abrasives.html'"
            ]
          },
          "metadata": {
            "tags": []
          },
          "execution_count": 73
        }
      ]
    },
    {
      "cell_type": "code",
      "metadata": {
        "id": "vFbdFg-FyySI"
      },
      "source": [
        "import pandas as pd"
      ],
      "execution_count": 69,
      "outputs": []
    },
    {
      "cell_type": "code",
      "metadata": {
        "id": "dnr75KAP0kCJ"
      },
      "source": [
        "url = 'https://moneycontrol.com/'+t[3].tolist()[0]\n",
        "data=pd.read_html(url)"
      ],
      "execution_count": 74,
      "outputs": []
    },
    {
      "cell_type": "code",
      "metadata": {
        "colab": {
          "base_uri": "https://localhost:8080/",
          "height": 140
        },
        "id": "16WdnqFw06UH",
        "outputId": "588b31f2-93f4-470f-e0b2-4f9057c6bcc5"
      },
      "source": [
        "data[1]"
      ],
      "execution_count": 75,
      "outputs": [
        {
          "output_type": "execute_result",
          "data": {
            "text/html": [
              "<div>\n",
              "<style scoped>\n",
              "    .dataframe tbody tr th:only-of-type {\n",
              "        vertical-align: middle;\n",
              "    }\n",
              "\n",
              "    .dataframe tbody tr th {\n",
              "        vertical-align: top;\n",
              "    }\n",
              "\n",
              "    .dataframe thead th {\n",
              "        text-align: right;\n",
              "    }\n",
              "</style>\n",
              "<table border=\"1\" class=\"dataframe\">\n",
              "  <thead>\n",
              "    <tr style=\"text-align: right;\">\n",
              "      <th></th>\n",
              "      <th>Company Name</th>\n",
              "      <th>Last Price</th>\n",
              "      <th>% Chg</th>\n",
              "      <th>52 wkHigh</th>\n",
              "      <th>52 wkLow</th>\n",
              "      <th>Market Cap(Rs. cr)</th>\n",
              "    </tr>\n",
              "  </thead>\n",
              "  <tbody>\n",
              "    <tr>\n",
              "      <th>0</th>\n",
              "      <td>Grindwell Norto  Add to Watchlist  Add to Port...</td>\n",
              "      <td>1235.45</td>\n",
              "      <td>-0.54</td>\n",
              "      <td>1388.85</td>\n",
              "      <td>470.7</td>\n",
              "      <td>13678.90</td>\n",
              "    </tr>\n",
              "    <tr>\n",
              "      <th>1</th>\n",
              "      <td>Carborundum  Add to Watchlist  Add to Portfolio</td>\n",
              "      <td>640.00</td>\n",
              "      <td>-0.54</td>\n",
              "      <td>676.95</td>\n",
              "      <td>232.1</td>\n",
              "      <td>12135.93</td>\n",
              "    </tr>\n",
              "    <tr>\n",
              "      <th>2</th>\n",
              "      <td>Wendt  Add to Watchlist  Add to Portfolio</td>\n",
              "      <td>4340.00</td>\n",
              "      <td>0.47</td>\n",
              "      <td>4860.05</td>\n",
              "      <td>2395.0</td>\n",
              "      <td>868.00</td>\n",
              "    </tr>\n",
              "  </tbody>\n",
              "</table>\n",
              "</div>"
            ],
            "text/plain": [
              "                                        Company Name  ...  Market Cap(Rs. cr)\n",
              "0  Grindwell Norto  Add to Watchlist  Add to Port...  ...            13678.90\n",
              "1    Carborundum  Add to Watchlist  Add to Portfolio  ...            12135.93\n",
              "2          Wendt  Add to Watchlist  Add to Portfolio  ...              868.00\n",
              "\n",
              "[3 rows x 6 columns]"
            ]
          },
          "metadata": {
            "tags": []
          },
          "execution_count": 75
        }
      ]
    },
    {
      "cell_type": "code",
      "metadata": {
        "id": "7Ho45oDt09oX"
      },
      "source": [
        ""
      ],
      "execution_count": null,
      "outputs": []
    }
  ]
}