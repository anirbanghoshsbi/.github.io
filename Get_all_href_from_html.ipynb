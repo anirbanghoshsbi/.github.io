{
  "nbformat": 4,
  "nbformat_minor": 0,
  "metadata": {
    "colab": {
      "name": "Get all href from html.ipynb",
      "provenance": [],
      "authorship_tag": "ABX9TyN/w/dKpEZPqFvR8d9MxokS",
      "include_colab_link": true
    },
    "kernelspec": {
      "name": "python3",
      "display_name": "Python 3"
    },
    "language_info": {
      "name": "python"
    }
  },
  "cells": [
    {
      "cell_type": "markdown",
      "metadata": {
        "id": "view-in-github",
        "colab_type": "text"
      },
      "source": [
        "<a href=\"https://colab.research.google.com/github/anirbanghoshsbi/.github.io/blob/master/Get_all_href_from_html.ipynb\" target=\"_parent\"><img src=\"https://colab.research.google.com/assets/colab-badge.svg\" alt=\"Open In Colab\"/></a>"
      ]
    },
    {
      "cell_type": "code",
      "metadata": {
        "id": "ZQhV29-Hsozu"
      },
      "source": [
        "from bs4 import BeautifulSoup\n",
        "import urllib.request\n",
        "lst=[]\n",
        "html_page = urllib.request.urlopen(\"https://www.moneycontrol.com/stocks/marketinfo/marketcap/bse/index.html\")\n",
        "soup = BeautifulSoup(html_page, \"html.parser\")\n",
        "for link in soup.findAll('a'):\n",
        "   lst.append(str(link.get(\"href\")))"
      ],
      "execution_count": 34,
      "outputs": []
    },
    {
      "cell_type": "code",
      "metadata": {
        "id": "dkeMwQvLxO_X"
      },
      "source": [
        "lst"
      ],
      "execution_count": null,
      "outputs": []
    },
    {
      "cell_type": "code",
      "metadata": {
        "id": "Uu8KFOxQvJg-"
      },
      "source": [
        "newlst=[]\n",
        "i=0\n",
        "for item in lst:\n",
        "  i=i+1\n",
        "  if item.startswith('/stocks/top-companies-in-india'):\n",
        "    newlst.append(item)\n",
        "    \n"
      ],
      "execution_count": 44,
      "outputs": []
    },
    {
      "cell_type": "code",
      "metadata": {
        "colab": {
          "base_uri": "https://localhost:8080/"
        },
        "id": "Y0BnyZyXvKHX",
        "outputId": "03fff969-854c-43a8-f4c0-b58daedcac61"
      },
      "source": [
        "newlst"
      ],
      "execution_count": 45,
      "outputs": [
        {
          "output_type": "execute_result",
          "data": {
            "text/plain": [
              "['/stocks/top-companies-in-india/market-capitalisation-bse.html',\n",
              " '/stocks/top-companies-in-india/market-capitalisation-nse.html',\n",
              " '/stocks/top-companies-in-india/market-capitalisation-bse.html',\n",
              " '/stocks/top-companies-in-india/market-capitalisation-bse/abrasives.html',\n",
              " '/stocks/top-companies-in-india/market-capitalisation-bse/aerospace-defence.html',\n",
              " '/stocks/top-companies-in-india/market-capitalisation-bse/agriculture.html',\n",
              " '/stocks/top-companies-in-india/market-capitalisation-bse/air-conditioners.html',\n",
              " '/stocks/top-companies-in-india/market-capitalisation-bse/airlines.html',\n",
              " '/stocks/top-companies-in-india/market-capitalisation-bse/aluminium-aluminium-products.html',\n",
              " '/stocks/top-companies-in-india/market-capitalisation-bse/amusement-parksrecreationclub.html',\n",
              " '/stocks/top-companies-in-india/market-capitalisation-bse/aquaculture.html',\n",
              " '/stocks/top-companies-in-india/market-capitalisation-bse/auto-ancillaries.html',\n",
              " '/stocks/top-companies-in-india/market-capitalisation-bse/auto-ancillaries-air-conditioning-parts.html',\n",
              " '/stocks/top-companies-in-india/market-capitalisation-bse/auto-ancillaries-auto-truck-motorcycle-parts.html',\n",
              " '/stocks/top-companies-in-india/market-capitalisation-bse/auto-ancillaries-axle-shafts.html',\n",
              " '/stocks/top-companies-in-india/market-capitalisation-bse/auto-ancillaries-bearings.html',\n",
              " '/stocks/top-companies-in-india/market-capitalisation-bse/auto-ancillaries-brakes.html',\n",
              " '/stocks/top-companies-in-india/market-capitalisation-bse/auto-ancillaries-bus-body.html',\n",
              " '/stocks/top-companies-in-india/market-capitalisation-bse/auto-ancillaries-castingsforgings.html',\n",
              " '/stocks/top-companies-in-india/market-capitalisation-bse/auto-ancillaries-clutches.html',\n",
              " '/stocks/top-companies-in-india/market-capitalisation-bse/auto-ancillaries-diesel-engines.html',\n",
              " '/stocks/top-companies-in-india/market-capitalisation-bse/auto-ancillaries-engine-parts.html',\n",
              " '/stocks/top-companies-in-india/market-capitalisation-bse/auto-ancillaries-gears.html',\n",
              " '/stocks/top-companies-in-india/market-capitalisation-bse/auto-ancillaries-head-lamps-lights.html',\n",
              " '/stocks/top-companies-in-india/market-capitalisation-bse/auto-ancillaries-others.html',\n",
              " '/stocks/top-companies-in-india/market-capitalisation-bse/auto-ancillaries-pistons.html',\n",
              " '/stocks/top-companies-in-india/market-capitalisation-bse/auto-ancillaries-seating-covers-parts.html',\n",
              " '/stocks/top-companies-in-india/market-capitalisation-bse/auto-ancillaries-sheet-metals.html',\n",
              " '/stocks/top-companies-in-india/market-capitalisation-bse/auto-ancillaries-shock-absorbers.html',\n",
              " '/stocks/top-companies-in-india/market-capitalisation-bse/auto-ancillaries-spare-parts-accessories.html',\n",
              " '/stocks/top-companies-in-india/market-capitalisation-bse/auto-ancillaries-springs.html',\n",
              " '/stocks/top-companies-in-india/market-capitalisation-bse/auto-ancillaries-tyres-rubber-products.html',\n",
              " '/stocks/top-companies-in-india/market-capitalisation-bse/auto-ancillaries-wheels.html',\n",
              " '/stocks/top-companies-in-india/market-capitalisation-bse/auto-ancillary.html',\n",
              " '/stocks/top-companies-in-india/market-capitalisation-bse/automobile-2-3-wheelers.html',\n",
              " '/stocks/top-companies-in-india/market-capitalisation-bse/automobile-auto-truck-manufacturers.html',\n",
              " '/stocks/top-companies-in-india/market-capitalisation-bse/automobile-dealers-distributors.html',\n",
              " '/stocks/top-companies-in-india/market-capitalisation-bse/automobile-lcvs-hvcs.html',\n",
              " '/stocks/top-companies-in-india/market-capitalisation-bse/automobile-passenger-cars.html',\n",
              " '/stocks/top-companies-in-india/market-capitalisation-bse/automobile-tractors.html',\n",
              " '/stocks/top-companies-in-india/market-capitalisation-bse/automobile-truckslcvs.html',\n",
              " '/stocks/top-companies-in-india/market-capitalisation-bse/bank-private.html',\n",
              " '/stocks/top-companies-in-india/market-capitalisation-bse/bank-public.html',\n",
              " '/stocks/top-companies-in-india/market-capitalisation-bse/batteries.html',\n",
              " '/stocks/top-companies-in-india/market-capitalisation-bse/beverages.html',\n",
              " '/stocks/top-companies-in-india/market-capitalisation-bse/biotechnology-medical-research.html',\n",
              " '/stocks/top-companies-in-india/market-capitalisation-bse/bpoites.html',\n",
              " '/stocks/top-companies-in-india/market-capitalisation-bse/breweries-distilleries.html',\n",
              " '/stocks/top-companies-in-india/market-capitalisation-bse/cable-d2h.html',\n",
              " '/stocks/top-companies-in-india/market-capitalisation-bse/cables.html',\n",
              " '/stocks/top-companies-in-india/market-capitalisation-bse/carbon-black.html',\n",
              " '/stocks/top-companies-in-india/market-capitalisation-bse/cement.html',\n",
              " '/stocks/top-companies-in-india/market-capitalisation-bse/ceramicsmarblegranitesanitaryware.html',\n",
              " '/stocks/top-companies-in-india/market-capitalisation-bse/chemicals.html',\n",
              " '/stocks/top-companies-in-india/market-capitalisation-bse/cigarettestobacco.html',\n",
              " '/stocks/top-companies-in-india/market-capitalisation-bse/coal.html',\n",
              " '/stocks/top-companies-in-india/market-capitalisation-bse/commodity-chemicals.html',\n",
              " '/stocks/top-companies-in-india/market-capitalisation-bse/compressors-pumps.html',\n",
              " '/stocks/top-companies-in-india/market-capitalisation-bse/computer-peripherals.html',\n",
              " '/stocks/top-companies-in-india/market-capitalisation-bse/construction-infrastructure.html',\n",
              " '/stocks/top-companies-in-india/market-capitalisation-bse/construction-real-estate.html',\n",
              " '/stocks/top-companies-in-india/market-capitalisation-bse/construction-residential-commercial-complexes.html',\n",
              " '/stocks/top-companies-in-india/market-capitalisation-bse/consumer-food.html',\n",
              " '/stocks/top-companies-in-india/market-capitalisation-bse/containers-packaging.html',\n",
              " '/stocks/top-companies-in-india/market-capitalisation-bse/courier-services.html',\n",
              " '/stocks/top-companies-in-india/market-capitalisation-bse/cycles.html',\n",
              " '/stocks/top-companies-in-india/market-capitalisation-bse/defence.html',\n",
              " '/stocks/top-companies-in-india/market-capitalisation-bse/detergents-soaps.html',\n",
              " '/stocks/top-companies-in-india/market-capitalisation-bse/diamond-jewellery.html',\n",
              " '/stocks/top-companies-in-india/market-capitalisation-bse/diversified.html',\n",
              " '/stocks/top-companies-in-india/market-capitalisation-bse/diversified-chemicals.html',\n",
              " '/stocks/top-companies-in-india/market-capitalisation-bse/domestic-appliances.html',\n",
              " '/stocks/top-companies-in-india/market-capitalisation-bse/dyes-pigments.html',\n",
              " '/stocks/top-companies-in-india/market-capitalisation-bse/educational-institutions.html',\n",
              " '/stocks/top-companies-in-india/market-capitalisation-bse/electric-equipment.html',\n",
              " '/stocks/top-companies-in-india/market-capitalisation-bse/electric-equipment-boilers-turbines.html',\n",
              " '/stocks/top-companies-in-india/market-capitalisation-bse/electric-equipment-switchgears.html',\n",
              " '/stocks/top-companies-in-india/market-capitalisation-bse/electric-equipment-transformers.html',\n",
              " '/stocks/top-companies-in-india/market-capitalisation-bse/electrodes-electrical-equipments.html',\n",
              " '/stocks/top-companies-in-india/market-capitalisation-bse/electrodes-welding-equipment.html',\n",
              " '/stocks/top-companies-in-india/market-capitalisation-bse/electronic-goods.html',\n",
              " '/stocks/top-companies-in-india/market-capitalisation-bse/electronics-components.html',\n",
              " '/stocks/top-companies-in-india/market-capitalisation-bse/engineering.html',\n",
              " '/stocks/top-companies-in-india/market-capitalisation-bse/engineering-construction.html',\n",
              " '/stocks/top-companies-in-india/market-capitalisation-bse/engineering-construction.html',\n",
              " '/stocks/top-companies-in-india/market-capitalisation-bse/engineering-industrial-equipments.html',\n",
              " '/stocks/top-companies-in-india/market-capitalisation-bse/etf.html',\n",
              " '/stocks/top-companies-in-india/market-capitalisation-bse/fasteners.html',\n",
              " '/stocks/top-companies-in-india/market-capitalisation-bse/ferro-manganese.html',\n",
              " '/stocks/top-companies-in-india/market-capitalisation-bse/fertilizers.html',\n",
              " '/stocks/top-companies-in-india/market-capitalisation-bse/film-production-distribution-entertainment.html',\n",
              " '/stocks/top-companies-in-india/market-capitalisation-bse/finance-housing.html',\n",
              " '/stocks/top-companies-in-india/market-capitalisation-bse/finance-investment.html',\n",
              " '/stocks/top-companies-in-india/market-capitalisation-bse/finance-nbfc.html',\n",
              " '/stocks/top-companies-in-india/market-capitalisation-bse/finance-others.html',\n",
              " '/stocks/top-companies-in-india/market-capitalisation-bse/finance-stock-broking.html',\n",
              " '/stocks/top-companies-in-india/market-capitalisation-bse/finance-term-lending.html',\n",
              " '/stocks/top-companies-in-india/market-capitalisation-bse/fishpoultry-meat-products.html',\n",
              " '/stocks/top-companies-in-india/market-capitalisation-bse/food-drug-retailing.html',\n",
              " '/stocks/top-companies-in-india/market-capitalisation-bse/food-processing.html',\n",
              " '/stocks/top-companies-in-india/market-capitalisation-bse/footwear.html',\n",
              " '/stocks/top-companies-in-india/market-capitalisation-bse/gas-distribution.html',\n",
              " '/stocks/top-companies-in-india/market-capitalisation-bse/glass-glass-products.html',\n",
              " '/stocks/top-companies-in-india/market-capitalisation-bse/gold.html',\n",
              " '/stocks/top-companies-in-india/market-capitalisation-bse/gold-etf.html',\n",
              " '/stocks/top-companies-in-india/market-capitalisation-bse/ground-freight-logistics-services.html',\n",
              " '/stocks/top-companies-in-india/market-capitalisation-bse/hospital-healthcare-services.html',\n",
              " '/stocks/top-companies-in-india/market-capitalisation-bse/hotel-resort-restaurants.html',\n",
              " '/stocks/top-companies-in-india/market-capitalisation-bse/household-personal-products.html',\n",
              " '/stocks/top-companies-in-india/market-capitalisation-bse/infrastructure.html',\n",
              " '/stocks/top-companies-in-india/market-capitalisation-bse/iron-steel.html',\n",
              " '/stocks/top-companies-in-india/market-capitalisation-bse/it-education.html',\n",
              " '/stocks/top-companies-in-india/market-capitalisation-bse/it-networking.html',\n",
              " '/stocks/top-companies-in-india/market-capitalisation-bse/it-services-consulting.html',\n",
              " '/stocks/top-companies-in-india/market-capitalisation-bse/labs-life-sciences-services.html',\n",
              " '/stocks/top-companies-in-india/market-capitalisation-bse/laminatesdecoratives.html',\n",
              " '/stocks/top-companies-in-india/market-capitalisation-bse/leather.html',\n",
              " '/stocks/top-companies-in-india/market-capitalisation-bse/leisure-services.html',\n",
              " '/stocks/top-companies-in-india/market-capitalisation-bse/life-health-insurance.html',\n",
              " '/stocks/top-companies-in-india/market-capitalisation-bse/logistics.html',\n",
              " '/stocks/top-companies-in-india/market-capitalisation-bse/lpg.html',\n",
              " '/stocks/top-companies-in-india/market-capitalisation-bse/lubricants.html',\n",
              " '/stocks/top-companies-in-india/market-capitalisation-bse/media.html',\n",
              " '/stocks/top-companies-in-india/market-capitalisation-bse/medical-equipmentsuppliesaccessories.html',\n",
              " '/stocks/top-companies-in-india/market-capitalisation-bse/metals-mining.html',\n",
              " '/stocks/top-companies-in-india/market-capitalisation-bse/metals-castingsforgings.html',\n",
              " '/stocks/top-companies-in-india/market-capitalisation-bse/metals-non-ferrous.html',\n",
              " '/stocks/top-companies-in-india/market-capitalisation-bse/misc-commercial-services.html',\n",
              " '/stocks/top-companies-in-india/market-capitalisation-bse/miscellaneous.html',\n",
              " '/stocks/top-companies-in-india/market-capitalisation-bse/multiline-insurance-brokers.html',\n",
              " '/stocks/top-companies-in-india/market-capitalisation-bse/oil-exploration-and-production.html',\n",
              " '/stocks/top-companies-in-india/market-capitalisation-bse/online-services.html',\n",
              " '/stocks/top-companies-in-india/market-capitalisation-bse/other-agriculture-products.html',\n",
              " '/stocks/top-companies-in-india/market-capitalisation-bse/other-construction-materials.html',\n",
              " '/stocks/top-companies-in-india/market-capitalisation-bse/others-industrial-gases-fuels.html',\n",
              " '/stocks/top-companies-in-india/market-capitalisation-bse/others-manufacturing.html',\n",
              " '/stocks/top-companies-in-india/market-capitalisation-bse/packaging-films.html',\n",
              " '/stocks/top-companies-in-india/market-capitalisation-bse/packaging-packaging-materials.html',\n",
              " '/stocks/top-companies-in-india/market-capitalisation-bse/packaging-polyfilms.html',\n",
              " '/stocks/top-companies-in-india/market-capitalisation-bse/packaging-sacks-and-bags.html',\n",
              " '/stocks/top-companies-in-india/market-capitalisation-bse/packaging-materials-containers-packaging.html',\n",
              " '/stocks/top-companies-in-india/market-capitalisation-bse/packaging-materials-plastic-products.html',\n",
              " '/stocks/top-companies-in-india/market-capitalisation-bse/paints.html',\n",
              " '/stocks/top-companies-in-india/market-capitalisation-bse/paper-forest-products.html',\n",
              " '/stocks/top-companies-in-india/market-capitalisation-bse/paper-paper-products.html',\n",
              " '/stocks/top-companies-in-india/market-capitalisation-bse/pesticides-agrochemicals.html',\n",
              " '/stocks/top-companies-in-india/market-capitalisation-bse/pharmaceuticals-drugs.html',\n",
              " '/stocks/top-companies-in-india/market-capitalisation-bse/photographic-products.html',\n",
              " '/stocks/top-companies-in-india/market-capitalisation-bse/plastic-products.html',\n",
              " '/stocks/top-companies-in-india/market-capitalisation-bse/plastic-products-others.html',\n",
              " '/stocks/top-companies-in-india/market-capitalisation-bse/plastics-moulded-articles-and-furnitures.html',\n",
              " '/stocks/top-companies-in-india/market-capitalisation-bse/plastics-pet-bottels-jars-containers.html',\n",
              " '/stocks/top-companies-in-india/market-capitalisation-bse/plastics-self-adhesive-tapes.html',\n",
              " '/stocks/top-companies-in-india/market-capitalisation-bse/plastics-thermoplastics.html',\n",
              " '/stocks/top-companies-in-india/market-capitalisation-bse/plastics-tubespipeshoses-fittings.html',\n",
              " '/stocks/top-companies-in-india/market-capitalisation-bse/ports.html',\n",
              " '/stocks/top-companies-in-india/market-capitalisation-bse/power-generationdistribution.html',\n",
              " '/stocks/top-companies-in-india/market-capitalisation-bse/printing-publishing.html',\n",
              " '/stocks/top-companies-in-india/market-capitalisation-bse/printing-stationery.html',\n",
              " '/stocks/top-companies-in-india/market-capitalisation-bse/printing-and-publishing.html',\n",
              " '/stocks/top-companies-in-india/market-capitalisation-bse/railways-wagons.html',\n",
              " '/stocks/top-companies-in-india/market-capitalisation-bse/ratings.html',\n",
              " '/stocks/top-companies-in-india/market-capitalisation-bse/real-estate-operations.html',\n",
              " '/stocks/top-companies-in-india/market-capitalisation-bse/real-estate-rental-development-operations.html',\n",
              " '/stocks/top-companies-in-india/market-capitalisation-bse/refineries.html',\n",
              " '/stocks/top-companies-in-india/market-capitalisation-bse/refractories.html',\n",
              " '/stocks/top-companies-in-india/market-capitalisation-bse/reinsurance.html',\n",
              " '/stocks/top-companies-in-india/market-capitalisation-bse/renewables.html',\n",
              " '/stocks/top-companies-in-india/market-capitalisation-bse/retailing.html',\n",
              " '/stocks/top-companies-in-india/market-capitalisation-bse/rubber-products.html',\n",
              " '/stocks/top-companies-in-india/market-capitalisation-bse/ship-building.html',\n",
              " '/stocks/top-companies-in-india/market-capitalisation-bse/shipping.html',\n",
              " '/stocks/top-companies-in-india/market-capitalisation-bse/software.html',\n",
              " '/stocks/top-companies-in-india/market-capitalisation-bse/solvent-extraction.html',\n",
              " '/stocks/top-companies-in-india/market-capitalisation-bse/speciality-chemicals.html',\n",
              " '/stocks/top-companies-in-india/market-capitalisation-bse/speciality-retailers.html',\n",
              " '/stocks/top-companies-in-india/market-capitalisation-bse/specialty-mining-metals.html',\n",
              " '/stocks/top-companies-in-india/market-capitalisation-bse/sugar.html',\n",
              " '/stocks/top-companies-in-india/market-capitalisation-bse/teacoffee.html',\n",
              " '/stocks/top-companies-in-india/market-capitalisation-bse/telecommunication-equipment.html',\n",
              " '/stocks/top-companies-in-india/market-capitalisation-bse/telecommunication-service-provider.html',\n",
              " '/stocks/top-companies-in-india/market-capitalisation-bse/telecommunications-services.html',\n",
              " '/stocks/top-companies-in-india/market-capitalisation-bse/textile-machinery.html',\n",
              " '/stocks/top-companies-in-india/market-capitalisation-bse/textile-spinning.html',\n",
              " '/stocks/top-companies-in-india/market-capitalisation-bse/textiles.html',\n",
              " '/stocks/top-companies-in-india/market-capitalisation-bse/textiles-apparel.html',\n",
              " '/stocks/top-companies-in-india/market-capitalisation-bse/trading.html',\n",
              " '/stocks/top-companies-in-india/market-capitalisation-bse/transmission-towers-equipments.html',\n",
              " '/stocks/top-companies-in-india/market-capitalisation-bse/transport-infrastructure.html',\n",
              " '/stocks/top-companies-in-india/market-capitalisation-bse/travel-services.html',\n",
              " '/stocks/top-companies-in-india/market-capitalisation-bse/tv-broadcasting-software-production.html',\n",
              " '/stocks/top-companies-in-india/market-capitalisation-bse/vegetable-oils-products.html',\n",
              " '/stocks/top-companies-in-india/market-capitalisation-bse/watches-accessories.html',\n",
              " '/stocks/top-companies-in-india/market-capitalisation-bse/wood-wood-products.html']"
            ]
          },
          "metadata": {
            "tags": []
          },
          "execution_count": 45
        }
      ]
    },
    {
      "cell_type": "code",
      "metadata": {
        "id": "vFbdFg-FyySI"
      },
      "source": [
        ""
      ],
      "execution_count": null,
      "outputs": []
    }
  ]
}