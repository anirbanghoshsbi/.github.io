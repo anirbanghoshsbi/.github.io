{
  "nbformat": 4,
  "nbformat_minor": 0,
  "metadata": {
    "colab": {
      "name": "sklearn for support resistance.ipynb",
      "provenance": [],
      "authorship_tag": "ABX9TyNG10BPRPMaC+QQGg8XLVdT",
      "include_colab_link": true
    },
    "kernelspec": {
      "name": "python3",
      "display_name": "Python 3"
    },
    "language_info": {
      "name": "python"
    }
  },
  "cells": [
    {
      "cell_type": "markdown",
      "metadata": {
        "id": "view-in-github",
        "colab_type": "text"
      },
      "source": [
        "<a href=\"https://colab.research.google.com/github/anirbanghoshsbi/.github.io/blob/master/experimental/new/kmeans_new_experiment.ipynb\" target=\"_parent\"><img src=\"https://colab.research.google.com/assets/colab-badge.svg\" alt=\"Open In Colab\"/></a>"
      ]
    },
    {
      "cell_type": "code",
      "source": [
        "!pip install kneed\n"
      ],
      "metadata": {
        "id": "CuKsMT8Atv8-",
        "colab": {
          "base_uri": "https://localhost:8080/"
        },
        "outputId": "73fe9db1-97f3-441d-8f84-60e56b98d67d"
      },
      "execution_count": 1,
      "outputs": [
        {
          "output_type": "stream",
          "name": "stdout",
          "text": [
            "Collecting kneed\n",
            "  Downloading kneed-0.7.0-py2.py3-none-any.whl (9.4 kB)\n",
            "Requirement already satisfied: numpy>=1.14.2 in /usr/local/lib/python3.7/dist-packages (from kneed) (1.19.5)\n",
            "Requirement already satisfied: scipy in /usr/local/lib/python3.7/dist-packages (from kneed) (1.4.1)\n",
            "Requirement already satisfied: matplotlib in /usr/local/lib/python3.7/dist-packages (from kneed) (3.2.2)\n",
            "Requirement already satisfied: kiwisolver>=1.0.1 in /usr/local/lib/python3.7/dist-packages (from matplotlib->kneed) (1.3.2)\n",
            "Requirement already satisfied: python-dateutil>=2.1 in /usr/local/lib/python3.7/dist-packages (from matplotlib->kneed) (2.8.2)\n",
            "Requirement already satisfied: pyparsing!=2.0.4,!=2.1.2,!=2.1.6,>=2.0.1 in /usr/local/lib/python3.7/dist-packages (from matplotlib->kneed) (3.0.6)\n",
            "Requirement already satisfied: cycler>=0.10 in /usr/local/lib/python3.7/dist-packages (from matplotlib->kneed) (0.11.0)\n",
            "Requirement already satisfied: six>=1.5 in /usr/local/lib/python3.7/dist-packages (from python-dateutil>=2.1->matplotlib->kneed) (1.15.0)\n",
            "Installing collected packages: kneed\n",
            "Successfully installed kneed-0.7.0\n"
          ]
        }
      ]
    },
    {
      "cell_type": "code",
      "source": [
        "!pip install yfinance "
      ],
      "metadata": {
        "id": "AEg7RkxXtp6X"
      },
      "execution_count": null,
      "outputs": []
    },
    {
      "cell_type": "code",
      "source": [
        "import pandas as pd\n",
        "import numpy as np\n",
        "from sklearn.preprocessing import StandardScaler"
      ],
      "metadata": {
        "id": "RUTkYQU7uDC-"
      },
      "execution_count": 3,
      "outputs": []
    },
    {
      "cell_type": "code",
      "source": [
        "sc=StandardScaler()"
      ],
      "metadata": {
        "id": "l1jurmydC3zz"
      },
      "execution_count": 4,
      "outputs": []
    },
    {
      "cell_type": "code",
      "source": [
        "startdate='1995-01-01'"
      ],
      "metadata": {
        "id": "Ao2XAOAtEDhV"
      },
      "execution_count": 5,
      "outputs": []
    },
    {
      "cell_type": "code",
      "execution_count": 29,
      "metadata": {
        "id": "j8Py_v5Htmuk"
      },
      "outputs": [],
      "source": [
        "import yfinance as yf\n",
        "#df =yf.download('^nsei','2012-01-01')\n",
        "df['signal']=df['Close'].pct_change(50).dropna()\n",
        "df['signal_new']=np.where(abs(df['signal'])>(0.02),df['signal'],0)\n",
        "X = np.array((df['signal_new'])) #  -df['Close'].rolling(window=200).mean()).dropna()\n",
        "X=sc.fit_transform(X.reshape(-1,1))\n",
        "from sklearn.cluster import KMeans \n",
        "from kneed import DataGenerator, KneeLocator"
      ]
    },
    {
      "cell_type": "code",
      "source": [
        "sum_of_squared_distances = []\n",
        "K = range(1,15)\n",
        "for k in K:\n",
        "    km = KMeans(n_clusters=k)\n",
        "    km = km.fit(X)\n",
        "    sum_of_squared_distances.append(km.inertia_)\n",
        "kn = KneeLocator(K, sum_of_squared_distances,S=1.0, curve=\"convex\", direction=\"decreasing\")\n",
        "kn.plot_knee()\n",
        "#plt.plot(sum_of_squared_distances)"
      ],
      "metadata": {
        "colab": {
          "base_uri": "https://localhost:8080/",
          "height": 390
        },
        "id": "9fKUq-RIuNaD",
        "outputId": "27e2af4e-3c88-4f73-e081-ecec7408a2f0"
      },
      "execution_count": 30,
      "outputs": [
        {
          "output_type": "display_data",
          "data": {
            "image/png": "[encoded data removed]",
            "text/plain": [
              "<Figure size 432x432 with 1 Axes>"
            ]
          },
          "metadata": {
            "needs_background": "light"
          }
        }
      ]
    },
    {
      "cell_type": "code",
      "source": [
        "kn.knee"
      ],
      "metadata": {
        "colab": {
          "base_uri": "https://localhost:8080/"
        },
        "id": "z-Z4f2j-u_h2",
        "outputId": "c28f3ac9-30ef-403a-d34b-e8d6103e5cb6"
      },
      "execution_count": 31,
      "outputs": [
        {
          "output_type": "execute_result",
          "data": {
            "text/plain": [
              "4"
            ]
          },
          "metadata": {},
          "execution_count": 31
        }
      ]
    },
    {
      "cell_type": "code",
      "source": [
        "kmeans = KMeans(n_clusters= kn.knee).fit(X.reshape(-1,1))\n",
        "c = kmeans.predict(X.reshape(-1,1))\n",
        "minmax = []\n",
        "for i in range(kn.knee):\n",
        "    minmax.append([-np.inf,np.inf])\n",
        "for i in range(len(X)):\n",
        "    cluster = c[i]\n",
        "    if X[i] > minmax[cluster][0]:\n",
        "        minmax[cluster][0] = X[i]\n",
        "    if X[i] < minmax[cluster][1]:\n",
        "        minmax[cluster][1] = X[i]"
      ],
      "metadata": {
        "id": "-JiwsCM0uYnH"
      },
      "execution_count": 32,
      "outputs": []
    },
    {
      "cell_type": "code",
      "source": [
        "abcd"
      ],
      "metadata": {
        "id": "FXfexPmcBKxl"
      },
      "execution_count": null,
      "outputs": []
    },
    {
      "cell_type": "code",
      "source": [
        "from matplotlib import pyplot as plt\n",
        "plt.figure(figsize=(10,5))\n",
        "for i in range(len(X[:])):\n",
        "    colors = ['b','g','r','c']\n",
        "    c = kmeans.predict(X[i].reshape(-1,1))[0]\n",
        "    color = colors[c]\n",
        "    plt.scatter(i,X[i],c = color,s = 1)\n",
        "    plt.scatter(len(X)-1,X[len(X)-1],c='y')"
      ],
      "metadata": {
        "colab": {
          "base_uri": "https://localhost:8080/",
          "height": 320
        },
        "id": "4_y2P3xL1jCy",
        "outputId": "b956fbf8-18f8-453b-8e9c-4d6a51d74074"
      },
      "execution_count": 33,
      "outputs": [
        {
          "output_type": "display_data",
          "data": {
            "image/png": "[encoded data removed]",
            "text/plain": [
              "<Figure size 720x360 with 1 Axes>"
            ]
          },
          "metadata": {
            "needs_background": "light"
          }
        }
      ]
    },
    {
      "cell_type": "code",
      "source": [
        "sc.inverse_transform(X[[-1]])"
      ],
      "metadata": {
        "id": "_cc1kg-Y1hTD"
      },
      "execution_count": null,
      "outputs": []
    },
    {
      "cell_type": "code",
      "source": [
        ""
      ],
      "metadata": {
        "id": "31jMWNlvBawI"
      },
      "execution_count": null,
      "outputs": []
    },
    {
      "cell_type": "code",
      "source": [
        ""
      ],
      "metadata": {
        "id": "meVb8hLyBaSJ"
      },
      "execution_count": null,
      "outputs": []
    },
    {
      "cell_type": "code",
      "source": [
        "'''    \n",
        "for i in range(len(minmax)):\n",
        "    plt.hlines(minmax[i][0],xmin = 0,xmax = len(X),colors = 'g')\n",
        "    plt.hlines(minmax[i][1],xmin = 0,xmax = len(X),colors = 'r')\n",
        "'''    "
      ],
      "metadata": {
        "id": "xqQBNTAlxUKs"
      },
      "execution_count": null,
      "outputs": []
    }
  ]
}