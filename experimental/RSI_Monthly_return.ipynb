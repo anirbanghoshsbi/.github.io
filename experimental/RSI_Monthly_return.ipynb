{
  "cells": [
    {
      "cell_type": "markdown",
      "metadata": {
        "id": "view-in-github",
        "colab_type": "text"
      },
      "source": [
        "<a href=\"https://colab.research.google.com/github/anirbanghoshsbi/.github.io/blob/master/experimental/RSI_Monthly_return.ipynb\" target=\"_parent\"><img src=\"https://colab.research.google.com/assets/colab-badge.svg\" alt=\"Open In Colab\"/></a>"
      ]
    },
    {
      "cell_type": "markdown",
      "metadata": {
        "id": "D3tw5eli0Lu-"
      },
      "source": [
        "\"To find the relationship between RSI and monthly returns you can use the k-means technique of unsupervised learning. The steps are as follows:\n",
        "\n",
        "1. Calculate RSI and monthly returns\n",
        "2. Scale the data\n",
        "3. Apply k-means for optimum number of clusters. Use the WCSS technique to select the optimum clusters.\n",
        "4. Plot the clusters on the X-Y chart and see the relationship between RSI values and monthly returns.\""
      ]
    },
    {
      "cell_type": "code",
      "source": [
        "#!pip install yfinance\n",
        "!pip install pandas_ta==0.2.45b0"
      ],
      "metadata": {
        "colab": {
          "base_uri": "https://localhost:8080/"
        },
        "id": "cZNsJ2smLzSs",
        "outputId": "ed2ce65b-3e8d-4f3e-aa2e-dae4638a2845"
      },
      "execution_count": 477,
      "outputs": [
        {
          "output_type": "stream",
          "name": "stdout",
          "text": [
            "Requirement already satisfied: pandas_ta==0.2.45b0 in /usr/local/lib/python3.7/dist-packages (0.2.45b0)\n",
            "Requirement already satisfied: pandas in /usr/local/lib/python3.7/dist-packages (from pandas_ta==0.2.45b0) (1.1.5)\n",
            "Requirement already satisfied: pytz>=2017.2 in /usr/local/lib/python3.7/dist-packages (from pandas->pandas_ta==0.2.45b0) (2018.9)\n",
            "Requirement already satisfied: numpy>=1.15.4 in /usr/local/lib/python3.7/dist-packages (from pandas->pandas_ta==0.2.45b0) (1.19.5)\n",
            "Requirement already satisfied: python-dateutil>=2.7.3 in /usr/local/lib/python3.7/dist-packages (from pandas->pandas_ta==0.2.45b0) (2.8.2)\n",
            "Requirement already satisfied: six>=1.5 in /usr/local/lib/python3.7/dist-packages (from python-dateutil>=2.7.3->pandas->pandas_ta==0.2.45b0) (1.15.0)\n"
          ]
        }
      ]
    },
    {
      "cell_type": "code",
      "execution_count": 478,
      "metadata": {
        "id": "tmHBCiY30nAp"
      },
      "outputs": [],
      "source": [
        "import yfinance as yf\n",
        "import pandas as pd\n",
        "import numpy as np\n",
        "import pandas_ta as ta\n",
        "import matplotlib.pyplot as plt\n",
        "from sklearn.cluster import KMeans\n",
        "from sklearn.metrics import silhouette_score\n"
      ]
    },
    {
      "cell_type": "code",
      "execution_count": 479,
      "metadata": {
        "id": "xKI_EtlD4_Fr"
      },
      "outputs": [],
      "source": [
        "from sklearn.preprocessing import StandardScaler"
      ]
    },
    {
      "cell_type": "code",
      "execution_count": 480,
      "metadata": {
        "colab": {
          "base_uri": "https://localhost:8080/"
        },
        "id": "4xI9RJkY03SN",
        "outputId": "2efb871f-2b93-4c69-db58-c4e6c1843e4c"
      },
      "outputs": [
        {
          "output_type": "stream",
          "name": "stdout",
          "text": [
            "\r[*********************100%***********************]  1 of 1 completed\n"
          ]
        }
      ],
      "source": [
        "data=yf.download('^nsei','2015-01-01','2020-12-01')"
      ]
    },
    {
      "cell_type": "code",
      "execution_count": 481,
      "metadata": {
        "colab": {
          "base_uri": "https://localhost:8080/"
        },
        "id": "hmbpOaV31GAS",
        "outputId": "bca53134-abab-4e72-ae22-cf935918a6bb"
      },
      "outputs": [
        {
          "output_type": "stream",
          "name": "stdout",
          "text": [
            "\n"
          ]
        }
      ],
      "source": [
        "data.ta.rsi(length=18,append='True')\n",
        "data['ret30']=data['close'].pct_change(30)\n",
        "print()"
      ]
    },
    {
      "cell_type": "code",
      "execution_count": 482,
      "metadata": {
        "colab": {
          "base_uri": "https://localhost:8080/",
          "height": 282
        },
        "id": "J8RTGyYv53rM",
        "outputId": "63af1f10-61f2-419c-d2a4-45479410bcc9"
      },
      "outputs": [
        {
          "output_type": "execute_result",
          "data": {
            "text/html": [
              "\n",
              "  <div id=\"df-b41ebce4-1068-41aa-9d56-55a185f4dcbe\">\n",
              "    <div class=\"colab-df-container\">\n",
              "      <div>\n",
              "<style scoped>\n",
              "    .dataframe tbody tr th:only-of-type {\n",
              "        vertical-align: middle;\n",
              "    }\n",
              "\n",
              "    .dataframe tbody tr th {\n",
              "        vertical-align: top;\n",
              "    }\n",
              "\n",
              "    .dataframe thead th {\n",
              "        text-align: right;\n",
              "    }\n",
              "</style>\n",
              "<table border=\"1\" class=\"dataframe\">\n",
              "  <thead>\n",
              "    <tr style=\"text-align: right;\">\n",
              "      <th></th>\n",
              "      <th>open</th>\n",
              "      <th>high</th>\n",
              "      <th>low</th>\n",
              "      <th>close</th>\n",
              "      <th>adj_close</th>\n",
              "      <th>volume</th>\n",
              "      <th>RSI_18</th>\n",
              "      <th>ret30</th>\n",
              "    </tr>\n",
              "    <tr>\n",
              "      <th>date</th>\n",
              "      <th></th>\n",
              "      <th></th>\n",
              "      <th></th>\n",
              "      <th></th>\n",
              "      <th></th>\n",
              "      <th></th>\n",
              "      <th></th>\n",
              "      <th></th>\n",
              "    </tr>\n",
              "  </thead>\n",
              "  <tbody>\n",
              "    <tr>\n",
              "      <th>2020-11-23</th>\n",
              "      <td>12960.299805</td>\n",
              "      <td>12968.849609</td>\n",
              "      <td>12825.700195</td>\n",
              "      <td>12926.450195</td>\n",
              "      <td>12926.450195</td>\n",
              "      <td>633100</td>\n",
              "      <td>71.290317</td>\n",
              "      <td>0.084962</td>\n",
              "    </tr>\n",
              "    <tr>\n",
              "      <th>2020-11-24</th>\n",
              "      <td>13002.599609</td>\n",
              "      <td>13079.099609</td>\n",
              "      <td>12978.000000</td>\n",
              "      <td>13055.150391</td>\n",
              "      <td>13055.150391</td>\n",
              "      <td>571900</td>\n",
              "      <td>73.256762</td>\n",
              "      <td>0.094226</td>\n",
              "    </tr>\n",
              "    <tr>\n",
              "      <th>2020-11-25</th>\n",
              "      <td>13130.000000</td>\n",
              "      <td>13145.849609</td>\n",
              "      <td>12833.650391</td>\n",
              "      <td>12858.400391</td>\n",
              "      <td>12858.400391</td>\n",
              "      <td>679000</td>\n",
              "      <td>65.945418</td>\n",
              "      <td>0.077414</td>\n",
              "    </tr>\n",
              "    <tr>\n",
              "      <th>2020-11-26</th>\n",
              "      <td>12906.450195</td>\n",
              "      <td>13018.000000</td>\n",
              "      <td>12790.400391</td>\n",
              "      <td>12987.000000</td>\n",
              "      <td>12987.000000</td>\n",
              "      <td>549800</td>\n",
              "      <td>68.145642</td>\n",
              "      <td>0.084867</td>\n",
              "    </tr>\n",
              "    <tr>\n",
              "      <th>2020-11-27</th>\n",
              "      <td>13012.049805</td>\n",
              "      <td>13035.299805</td>\n",
              "      <td>12914.299805</td>\n",
              "      <td>12968.950195</td>\n",
              "      <td>12968.950195</td>\n",
              "      <td>1162400</td>\n",
              "      <td>67.497551</td>\n",
              "      <td>0.110322</td>\n",
              "    </tr>\n",
              "  </tbody>\n",
              "</table>\n",
              "</div>\n",
              "      <button class=\"colab-df-convert\" onclick=\"convertToInteractive('df-b41ebce4-1068-41aa-9d56-55a185f4dcbe')\"\n",
              "              title=\"Convert this dataframe to an interactive table.\"\n",
              "              style=\"display:none;\">\n",
              "        \n",
              "  <svg xmlns=\"http://www.w3.org/2000/svg\" height=\"24px\"viewBox=\"0 0 24 24\"\n",
              "       width=\"24px\">\n",
              "    <path d=\"M0 0h24v24H0V0z\" fill=\"none\"/>\n",
              "    <path d=\"M18.56 5.44l.94 2.06.94-2.06 2.06-.94-2.06-.94-.94-2.06-.94 2.06-2.06.94zm-11 1L8.5 8.5l.94-2.06 2.06-.94-2.06-.94L8.5 2.5l-.94 2.06-2.06.94zm10 10l.94 2.06.94-2.06 2.06-.94-2.06-.94-.94-2.06-.94 2.06-2.06.94z\"/><path d=\"M17.41 7.96l-1.37-1.37c-.4-.4-.92-.59-1.43-.59-.52 0-1.04.2-1.43.59L10.3 9.45l-7.72 7.72c-.78.78-.78 2.05 0 2.83L4 21.41c.39.39.9.59 1.41.59.51 0 1.02-.2 1.41-.59l7.78-7.78 2.81-2.81c.8-.78.8-2.07 0-2.86zM5.41 20L4 18.59l7.72-7.72 1.47 1.35L5.41 20z\"/>\n",
              "  </svg>\n",
              "      </button>\n",
              "      \n",
              "  <style>\n",
              "    .colab-df-container {\n",
              "      display:flex;\n",
              "      flex-wrap:wrap;\n",
              "      gap: 12px;\n",
              "    }\n",
              "\n",
              "    .colab-df-convert {\n",
              "      background-color: #E8F0FE;\n",
              "      border: none;\n",
              "      border-radius: 50%;\n",
              "      cursor: pointer;\n",
              "      display: none;\n",
              "      fill: #1967D2;\n",
              "      height: 32px;\n",
              "      padding: 0 0 0 0;\n",
              "      width: 32px;\n",
              "    }\n",
              "\n",
              "    .colab-df-convert:hover {\n",
              "      background-color: #E2EBFA;\n",
              "      box-shadow: 0px 1px 2px rgba(60, 64, 67, 0.3), 0px 1px 3px 1px rgba(60, 64, 67, 0.15);\n",
              "      fill: #174EA6;\n",
              "    }\n",
              "\n",
              "    [theme=dark] .colab-df-convert {\n",
              "      background-color: #3B4455;\n",
              "      fill: #D2E3FC;\n",
              "    }\n",
              "\n",
              "    [theme=dark] .colab-df-convert:hover {\n",
              "      background-color: #434B5C;\n",
              "      box-shadow: 0px 1px 3px 1px rgba(0, 0, 0, 0.15);\n",
              "      filter: drop-shadow(0px 1px 2px rgba(0, 0, 0, 0.3));\n",
              "      fill: #FFFFFF;\n",
              "    }\n",
              "  </style>\n",
              "\n",
              "      <script>\n",
              "        const buttonEl =\n",
              "          document.querySelector('#df-b41ebce4-1068-41aa-9d56-55a185f4dcbe button.colab-df-convert');\n",
              "        buttonEl.style.display =\n",
              "          google.colab.kernel.accessAllowed ? 'block' : 'none';\n",
              "\n",
              "        async function convertToInteractive(key) {\n",
              "          const element = document.querySelector('#df-b41ebce4-1068-41aa-9d56-55a185f4dcbe');\n",
              "          const dataTable =\n",
              "            await google.colab.kernel.invokeFunction('convertToInteractive',\n",
              "                                                     [key], {});\n",
              "          if (!dataTable) return;\n",
              "\n",
              "          const docLinkHtml = 'Like what you see? Visit the ' +\n",
              "            '<a target=\"_blank\" href=https://colab.research.google.com/notebooks/data_table.ipynb>data table notebook</a>'\n",
              "            + ' to learn more about interactive tables.';\n",
              "          element.innerHTML = '';\n",
              "          dataTable['output_type'] = 'display_data';\n",
              "          await google.colab.output.renderOutput(dataTable, element);\n",
              "          const docLink = document.createElement('div');\n",
              "          docLink.innerHTML = docLinkHtml;\n",
              "          element.appendChild(docLink);\n",
              "        }\n",
              "      </script>\n",
              "    </div>\n",
              "  </div>\n",
              "  "
            ],
            "text/plain": [
              "                    open          high  ...     RSI_18     ret30\n",
              "date                                    ...                     \n",
              "2020-11-23  12960.299805  12968.849609  ...  71.290317  0.084962\n",
              "2020-11-24  13002.599609  13079.099609  ...  73.256762  0.094226\n",
              "2020-11-25  13130.000000  13145.849609  ...  65.945418  0.077414\n",
              "2020-11-26  12906.450195  13018.000000  ...  68.145642  0.084867\n",
              "2020-11-27  13012.049805  13035.299805  ...  67.497551  0.110322\n",
              "\n",
              "[5 rows x 8 columns]"
            ]
          },
          "metadata": {},
          "execution_count": 482
        }
      ],
      "source": [
        "data.tail(5)"
      ]
    },
    {
      "cell_type": "code",
      "execution_count": 483,
      "metadata": {
        "id": "9O_zTBXK5578"
      },
      "outputs": [],
      "source": [
        "selected_data=data[['RSI_18','ret30']].dropna()"
      ]
    },
    {
      "cell_type": "code",
      "execution_count": 484,
      "metadata": {
        "colab": {
          "base_uri": "https://localhost:8080/"
        },
        "id": "NMe2tM-W-vFR",
        "outputId": "abbdd375-1f3d-45df-b915-5d3dd45262c4"
      },
      "outputs": [
        {
          "output_type": "execute_result",
          "data": {
            "text/plain": [
              "(1420, 2)"
            ]
          },
          "metadata": {},
          "execution_count": 484
        }
      ],
      "source": [
        "selected_data.shape"
      ]
    },
    {
      "cell_type": "code",
      "execution_count": 485,
      "metadata": {
        "colab": {
          "base_uri": "https://localhost:8080/",
          "height": 143
        },
        "id": "vvTivdZw-y-Z",
        "outputId": "b477acee-253a-4527-f33e-9798ae735db9"
      },
      "outputs": [
        {
          "output_type": "execute_result",
          "data": {
            "text/html": [
              "\n",
              "  <div id=\"df-0c571473-b506-4edc-868b-293c098d0920\">\n",
              "    <div class=\"colab-df-container\">\n",
              "      <div>\n",
              "<style scoped>\n",
              "    .dataframe tbody tr th:only-of-type {\n",
              "        vertical-align: middle;\n",
              "    }\n",
              "\n",
              "    .dataframe tbody tr th {\n",
              "        vertical-align: top;\n",
              "    }\n",
              "\n",
              "    .dataframe thead th {\n",
              "        text-align: right;\n",
              "    }\n",
              "</style>\n",
              "<table border=\"1\" class=\"dataframe\">\n",
              "  <thead>\n",
              "    <tr style=\"text-align: right;\">\n",
              "      <th></th>\n",
              "      <th>RSI_18</th>\n",
              "      <th>ret30</th>\n",
              "    </tr>\n",
              "    <tr>\n",
              "      <th>date</th>\n",
              "      <th></th>\n",
              "      <th></th>\n",
              "    </tr>\n",
              "  </thead>\n",
              "  <tbody>\n",
              "    <tr>\n",
              "      <th>2020-11-26</th>\n",
              "      <td>68.145642</td>\n",
              "      <td>0.084867</td>\n",
              "    </tr>\n",
              "    <tr>\n",
              "      <th>2020-11-27</th>\n",
              "      <td>67.497551</td>\n",
              "      <td>0.110322</td>\n",
              "    </tr>\n",
              "  </tbody>\n",
              "</table>\n",
              "</div>\n",
              "      <button class=\"colab-df-convert\" onclick=\"convertToInteractive('df-0c571473-b506-4edc-868b-293c098d0920')\"\n",
              "              title=\"Convert this dataframe to an interactive table.\"\n",
              "              style=\"display:none;\">\n",
              "        \n",
              "  <svg xmlns=\"http://www.w3.org/2000/svg\" height=\"24px\"viewBox=\"0 0 24 24\"\n",
              "       width=\"24px\">\n",
              "    <path d=\"M0 0h24v24H0V0z\" fill=\"none\"/>\n",
              "    <path d=\"M18.56 5.44l.94 2.06.94-2.06 2.06-.94-2.06-.94-.94-2.06-.94 2.06-2.06.94zm-11 1L8.5 8.5l.94-2.06 2.06-.94-2.06-.94L8.5 2.5l-.94 2.06-2.06.94zm10 10l.94 2.06.94-2.06 2.06-.94-2.06-.94-.94-2.06-.94 2.06-2.06.94z\"/><path d=\"M17.41 7.96l-1.37-1.37c-.4-.4-.92-.59-1.43-.59-.52 0-1.04.2-1.43.59L10.3 9.45l-7.72 7.72c-.78.78-.78 2.05 0 2.83L4 21.41c.39.39.9.59 1.41.59.51 0 1.02-.2 1.41-.59l7.78-7.78 2.81-2.81c.8-.78.8-2.07 0-2.86zM5.41 20L4 18.59l7.72-7.72 1.47 1.35L5.41 20z\"/>\n",
              "  </svg>\n",
              "      </button>\n",
              "      \n",
              "  <style>\n",
              "    .colab-df-container {\n",
              "      display:flex;\n",
              "      flex-wrap:wrap;\n",
              "      gap: 12px;\n",
              "    }\n",
              "\n",
              "    .colab-df-convert {\n",
              "      background-color: #E8F0FE;\n",
              "      border: none;\n",
              "      border-radius: 50%;\n",
              "      cursor: pointer;\n",
              "      display: none;\n",
              "      fill: #1967D2;\n",
              "      height: 32px;\n",
              "      padding: 0 0 0 0;\n",
              "      width: 32px;\n",
              "    }\n",
              "\n",
              "    .colab-df-convert:hover {\n",
              "      background-color: #E2EBFA;\n",
              "      box-shadow: 0px 1px 2px rgba(60, 64, 67, 0.3), 0px 1px 3px 1px rgba(60, 64, 67, 0.15);\n",
              "      fill: #174EA6;\n",
              "    }\n",
              "\n",
              "    [theme=dark] .colab-df-convert {\n",
              "      background-color: #3B4455;\n",
              "      fill: #D2E3FC;\n",
              "    }\n",
              "\n",
              "    [theme=dark] .colab-df-convert:hover {\n",
              "      background-color: #434B5C;\n",
              "      box-shadow: 0px 1px 3px 1px rgba(0, 0, 0, 0.15);\n",
              "      filter: drop-shadow(0px 1px 2px rgba(0, 0, 0, 0.3));\n",
              "      fill: #FFFFFF;\n",
              "    }\n",
              "  </style>\n",
              "\n",
              "      <script>\n",
              "        const buttonEl =\n",
              "          document.querySelector('#df-0c571473-b506-4edc-868b-293c098d0920 button.colab-df-convert');\n",
              "        buttonEl.style.display =\n",
              "          google.colab.kernel.accessAllowed ? 'block' : 'none';\n",
              "\n",
              "        async function convertToInteractive(key) {\n",
              "          const element = document.querySelector('#df-0c571473-b506-4edc-868b-293c098d0920');\n",
              "          const dataTable =\n",
              "            await google.colab.kernel.invokeFunction('convertToInteractive',\n",
              "                                                     [key], {});\n",
              "          if (!dataTable) return;\n",
              "\n",
              "          const docLinkHtml = 'Like what you see? Visit the ' +\n",
              "            '<a target=\"_blank\" href=https://colab.research.google.com/notebooks/data_table.ipynb>data table notebook</a>'\n",
              "            + ' to learn more about interactive tables.';\n",
              "          element.innerHTML = '';\n",
              "          dataTable['output_type'] = 'display_data';\n",
              "          await google.colab.output.renderOutput(dataTable, element);\n",
              "          const docLink = document.createElement('div');\n",
              "          docLink.innerHTML = docLinkHtml;\n",
              "          element.appendChild(docLink);\n",
              "        }\n",
              "      </script>\n",
              "    </div>\n",
              "  </div>\n",
              "  "
            ],
            "text/plain": [
              "               RSI_18     ret30\n",
              "date                           \n",
              "2020-11-26  68.145642  0.084867\n",
              "2020-11-27  67.497551  0.110322"
            ]
          },
          "metadata": {},
          "execution_count": 485
        }
      ],
      "source": [
        "selected_data.tail(2)"
      ]
    },
    {
      "cell_type": "code",
      "execution_count": 486,
      "metadata": {
        "id": "ryYeVyLI1HVk"
      },
      "outputs": [],
      "source": [
        "sc=StandardScaler()"
      ]
    },
    {
      "cell_type": "code",
      "execution_count": 487,
      "metadata": {
        "id": "_nO3VNpX3Rtp",
        "colab": {
          "base_uri": "https://localhost:8080/",
          "height": 424
        },
        "outputId": "3a3a80af-3522-43f0-ccb6-da7108eb2b6f"
      },
      "outputs": [
        {
          "output_type": "execute_result",
          "data": {
            "text/html": [
              "\n",
              "  <div id=\"df-20ec1915-c014-466a-9429-c0e6d84fca1d\">\n",
              "    <div class=\"colab-df-container\">\n",
              "      <div>\n",
              "<style scoped>\n",
              "    .dataframe tbody tr th:only-of-type {\n",
              "        vertical-align: middle;\n",
              "    }\n",
              "\n",
              "    .dataframe tbody tr th {\n",
              "        vertical-align: top;\n",
              "    }\n",
              "\n",
              "    .dataframe thead th {\n",
              "        text-align: right;\n",
              "    }\n",
              "</style>\n",
              "<table border=\"1\" class=\"dataframe\">\n",
              "  <thead>\n",
              "    <tr style=\"text-align: right;\">\n",
              "      <th></th>\n",
              "      <th>RSI_18</th>\n",
              "      <th>ret30</th>\n",
              "    </tr>\n",
              "  </thead>\n",
              "  <tbody>\n",
              "    <tr>\n",
              "      <th>0</th>\n",
              "      <td>0.711996</td>\n",
              "      <td>0.634089</td>\n",
              "    </tr>\n",
              "    <tr>\n",
              "      <th>1</th>\n",
              "      <td>0.944420</td>\n",
              "      <td>0.782614</td>\n",
              "    </tr>\n",
              "    <tr>\n",
              "      <th>2</th>\n",
              "      <td>1.042215</td>\n",
              "      <td>1.358368</td>\n",
              "    </tr>\n",
              "    <tr>\n",
              "      <th>3</th>\n",
              "      <td>0.632194</td>\n",
              "      <td>1.290981</td>\n",
              "    </tr>\n",
              "    <tr>\n",
              "      <th>4</th>\n",
              "      <td>0.160892</td>\n",
              "      <td>0.856719</td>\n",
              "    </tr>\n",
              "    <tr>\n",
              "      <th>...</th>\n",
              "      <td>...</td>\n",
              "      <td>...</td>\n",
              "    </tr>\n",
              "    <tr>\n",
              "      <th>1415</th>\n",
              "      <td>1.611859</td>\n",
              "      <td>1.205657</td>\n",
              "    </tr>\n",
              "    <tr>\n",
              "      <th>1416</th>\n",
              "      <td>1.791444</td>\n",
              "      <td>1.354137</td>\n",
              "    </tr>\n",
              "    <tr>\n",
              "      <th>1417</th>\n",
              "      <td>1.123739</td>\n",
              "      <td>1.084690</td>\n",
              "    </tr>\n",
              "    <tr>\n",
              "      <th>1418</th>\n",
              "      <td>1.324673</td>\n",
              "      <td>1.204145</td>\n",
              "    </tr>\n",
              "    <tr>\n",
              "      <th>1419</th>\n",
              "      <td>1.265487</td>\n",
              "      <td>1.612128</td>\n",
              "    </tr>\n",
              "  </tbody>\n",
              "</table>\n",
              "<p>1420 rows × 2 columns</p>\n",
              "</div>\n",
              "      <button class=\"colab-df-convert\" onclick=\"convertToInteractive('df-20ec1915-c014-466a-9429-c0e6d84fca1d')\"\n",
              "              title=\"Convert this dataframe to an interactive table.\"\n",
              "              style=\"display:none;\">\n",
              "        \n",
              "  <svg xmlns=\"http://www.w3.org/2000/svg\" height=\"24px\"viewBox=\"0 0 24 24\"\n",
              "       width=\"24px\">\n",
              "    <path d=\"M0 0h24v24H0V0z\" fill=\"none\"/>\n",
              "    <path d=\"M18.56 5.44l.94 2.06.94-2.06 2.06-.94-2.06-.94-.94-2.06-.94 2.06-2.06.94zm-11 1L8.5 8.5l.94-2.06 2.06-.94-2.06-.94L8.5 2.5l-.94 2.06-2.06.94zm10 10l.94 2.06.94-2.06 2.06-.94-2.06-.94-.94-2.06-.94 2.06-2.06.94z\"/><path d=\"M17.41 7.96l-1.37-1.37c-.4-.4-.92-.59-1.43-.59-.52 0-1.04.2-1.43.59L10.3 9.45l-7.72 7.72c-.78.78-.78 2.05 0 2.83L4 21.41c.39.39.9.59 1.41.59.51 0 1.02-.2 1.41-.59l7.78-7.78 2.81-2.81c.8-.78.8-2.07 0-2.86zM5.41 20L4 18.59l7.72-7.72 1.47 1.35L5.41 20z\"/>\n",
              "  </svg>\n",
              "      </button>\n",
              "      \n",
              "  <style>\n",
              "    .colab-df-container {\n",
              "      display:flex;\n",
              "      flex-wrap:wrap;\n",
              "      gap: 12px;\n",
              "    }\n",
              "\n",
              "    .colab-df-convert {\n",
              "      background-color: #E8F0FE;\n",
              "      border: none;\n",
              "      border-radius: 50%;\n",
              "      cursor: pointer;\n",
              "      display: none;\n",
              "      fill: #1967D2;\n",
              "      height: 32px;\n",
              "      padding: 0 0 0 0;\n",
              "      width: 32px;\n",
              "    }\n",
              "\n",
              "    .colab-df-convert:hover {\n",
              "      background-color: #E2EBFA;\n",
              "      box-shadow: 0px 1px 2px rgba(60, 64, 67, 0.3), 0px 1px 3px 1px rgba(60, 64, 67, 0.15);\n",
              "      fill: #174EA6;\n",
              "    }\n",
              "\n",
              "    [theme=dark] .colab-df-convert {\n",
              "      background-color: #3B4455;\n",
              "      fill: #D2E3FC;\n",
              "    }\n",
              "\n",
              "    [theme=dark] .colab-df-convert:hover {\n",
              "      background-color: #434B5C;\n",
              "      box-shadow: 0px 1px 3px 1px rgba(0, 0, 0, 0.15);\n",
              "      filter: drop-shadow(0px 1px 2px rgba(0, 0, 0, 0.3));\n",
              "      fill: #FFFFFF;\n",
              "    }\n",
              "  </style>\n",
              "\n",
              "      <script>\n",
              "        const buttonEl =\n",
              "          document.querySelector('#df-20ec1915-c014-466a-9429-c0e6d84fca1d button.colab-df-convert');\n",
              "        buttonEl.style.display =\n",
              "          google.colab.kernel.accessAllowed ? 'block' : 'none';\n",
              "\n",
              "        async function convertToInteractive(key) {\n",
              "          const element = document.querySelector('#df-20ec1915-c014-466a-9429-c0e6d84fca1d');\n",
              "          const dataTable =\n",
              "            await google.colab.kernel.invokeFunction('convertToInteractive',\n",
              "                                                     [key], {});\n",
              "          if (!dataTable) return;\n",
              "\n",
              "          const docLinkHtml = 'Like what you see? Visit the ' +\n",
              "            '<a target=\"_blank\" href=https://colab.research.google.com/notebooks/data_table.ipynb>data table notebook</a>'\n",
              "            + ' to learn more about interactive tables.';\n",
              "          element.innerHTML = '';\n",
              "          dataTable['output_type'] = 'display_data';\n",
              "          await google.colab.output.renderOutput(dataTable, element);\n",
              "          const docLink = document.createElement('div');\n",
              "          docLink.innerHTML = docLinkHtml;\n",
              "          element.appendChild(docLink);\n",
              "        }\n",
              "      </script>\n",
              "    </div>\n",
              "  </div>\n",
              "  "
            ],
            "text/plain": [
              "        RSI_18     ret30\n",
              "0     0.711996  0.634089\n",
              "1     0.944420  0.782614\n",
              "2     1.042215  1.358368\n",
              "3     0.632194  1.290981\n",
              "4     0.160892  0.856719\n",
              "...        ...       ...\n",
              "1415  1.611859  1.205657\n",
              "1416  1.791444  1.354137\n",
              "1417  1.123739  1.084690\n",
              "1418  1.324673  1.204145\n",
              "1419  1.265487  1.612128\n",
              "\n",
              "[1420 rows x 2 columns]"
            ]
          },
          "metadata": {},
          "execution_count": 487
        }
      ],
      "source": [
        "data_transformed=pd.DataFrame(sc.fit_transform(selected_data), columns = selected_data.columns)\n",
        "data_transformed"
      ]
    },
    {
      "cell_type": "code",
      "execution_count": 488,
      "metadata": {
        "id": "UKyXn2Mz5S2L"
      },
      "outputs": [],
      "source": [
        "kmeans_kwargs = {\n",
        "    \"init\": \"random\",\n",
        "    \"n_init\": 10,\n",
        "    \"max_iter\": 300,\n",
        "    \"random_state\": 42,\n",
        "    }\n",
        "sse = []\n",
        "for k in range(1, 11):\n",
        "    kmeans = KMeans(n_clusters=k, **kmeans_kwargs)\n",
        "    kmeans.fit(data_transformed)\n",
        "    sse.append(kmeans.inertia_)"
      ]
    },
    {
      "cell_type": "code",
      "execution_count": 489,
      "metadata": {
        "colab": {
          "base_uri": "https://localhost:8080/",
          "height": 304
        },
        "id": "Id2AIlXG7cs-",
        "outputId": "1423a5e3-7065-46da-c91f-ab7e2cace017"
      },
      "outputs": [
        {
          "output_type": "display_data",
          "data": {
            "image/png": "[encoded data removed]",
            "text/plain": [
              "<Figure size 432x288 with 1 Axes>"
            ]
          },
          "metadata": {}
        }
      ],
      "source": [
        "plt.style.use(\"fivethirtyeight\")\n",
        "plt.plot(range(1, 11), sse)\n",
        "plt.xticks(range(1, 11))\n",
        "plt.xlabel(\"Number of Clusters\")\n",
        "plt.ylabel(\"SSE\")\n",
        "plt.show()"
      ]
    },
    {
      "cell_type": "code",
      "execution_count": 490,
      "metadata": {
        "id": "JwZh0eRX8VZ1",
        "colab": {
          "base_uri": "https://localhost:8080/"
        },
        "outputId": "3ee323e3-64c7-42a5-b2f0-9e8cc0fdeb83"
      },
      "outputs": [
        {
          "output_type": "execute_result",
          "data": {
            "text/plain": [
              "KMeans(init='random', n_clusters=4, random_state=42)"
            ]
          },
          "metadata": {},
          "execution_count": 490
        }
      ],
      "source": [
        "kmeans = KMeans(n_clusters=4, **kmeans_kwargs)\n",
        "kmeans.fit(data_transformed)"
      ]
    },
    {
      "cell_type": "code",
      "execution_count": 491,
      "metadata": {
        "colab": {
          "base_uri": "https://localhost:8080/",
          "height": 395
        },
        "id": "RMg0SaoILNdd",
        "outputId": "1a409493-41ca-4400-ea9e-120fc76efc82"
      },
      "outputs": [
        {
          "output_type": "display_data",
          "data": {
            "image/png": "[encoded data removed]",
            "text/plain": [
              "<Figure size 1080x504 with 1 Axes>"
            ]
          },
          "metadata": {}
        }
      ],
      "source": [
        "# Getting list of cluster numbers for each data point in X\n",
        "clusters = kmeans.predict(data_transformed)\n",
        "\n",
        "# Plotting values\n",
        "color_map = clusters\n",
        "plt.figure(figsize=(15, 7))\n",
        "plt.scatter(selected_data.iloc[:, 0],\n",
        "            selected_data.iloc[:, 1], c=color_map, s=50, cmap='viridis')\n",
        "\n",
        "# Plotting centroids\n",
        "centroids = kmeans.cluster_centers_\n",
        "#plt.scatter(centroids[:, 0], centroids[:, 1], c='black', s=200, alpha=0.5)\n",
        "plt.xlabel('RSI_18')\n",
        "plt.ylabel('Return (%) post 30 days')\n",
        "plt.axhline(y=0)\n",
        "plt.axvline(x=40, color='r')\n",
        "plt.axvline(x=60,color='g')\n",
        "plt.show()"
      ]
    },
    {
      "cell_type": "code",
      "source": [
        "data_transformed['pct_change']=data['close'][29:].pct_change().dropna().shift(-1).values"
      ],
      "metadata": {
        "id": "F1VMRNsS2h6Y"
      },
      "execution_count": 493,
      "outputs": []
    },
    {
      "cell_type": "code",
      "execution_count": 494,
      "metadata": {
        "id": "CjzoLGW6LNde"
      },
      "outputs": [],
      "source": [
        "data_transformed['sign']=np.sign(data['close'][29:].pct_change().dropna().shift(-1).values)"
      ]
    },
    {
      "cell_type": "code",
      "source": [
        "data_transformed['cluster']=clusters"
      ],
      "metadata": {
        "id": "PV49KXvu2Zlh"
      },
      "execution_count": 495,
      "outputs": []
    },
    {
      "cell_type": "code",
      "source": [
        "data_transformed[data_transformed['cluster']==0]['pct_change'].reset_index(drop=True).plot(kind='bar');"
      ],
      "metadata": {
        "colab": {
          "base_uri": "https://localhost:8080/",
          "height": 286
        },
        "id": "Ad501c0b3bcI",
        "outputId": "fe8685b5-adc8-4cca-ace4-9ec64647be22"
      },
      "execution_count": 514,
      "outputs": [
        {
          "output_type": "display_data",
          "data": {
            "image/png": "[encoded data removed]",
            "text/plain": [
              "<Figure size 432x288 with 1 Axes>"
            ]
          },
          "metadata": {}
        }
      ]
    },
    {
      "cell_type": "code",
      "source": [
        "data_transformed[data_transformed['cluster']==1]['pct_change'][:].reset_index(drop=True).plot(kind='bar');"
      ],
      "metadata": {
        "colab": {
          "base_uri": "https://localhost:8080/",
          "height": 295
        },
        "id": "8oy8K9qi5Inf",
        "outputId": "58d207e3-8687-4c34-9e0c-577c595f0e9c"
      },
      "execution_count": 510,
      "outputs": [
        {
          "output_type": "display_data",
          "data": {
            "image/png": "[encoded data removed]",
            "text/plain": [
              "<Figure size 432x288 with 1 Axes>"
            ]
          },
          "metadata": {}
        }
      ]
    },
    {
      "cell_type": "code",
      "source": [
        "data_transformed[data_transformed['cluster']==2]['pct_change'].reset_index(drop=True).plot(kind='bar');"
      ],
      "metadata": {
        "colab": {
          "base_uri": "https://localhost:8080/",
          "height": 295
        },
        "id": "cRp7aMvY5ZKv",
        "outputId": "377121cb-49fe-4145-c706-464b7f3c592e"
      },
      "execution_count": 511,
      "outputs": [
        {
          "output_type": "display_data",
          "data": {
            "image/png": "[encoded data removed]",
            "text/plain": [
              "<Figure size 432x288 with 1 Axes>"
            ]
          },
          "metadata": {}
        }
      ]
    },
    {
      "cell_type": "code",
      "source": [
        "data_transformed[data_transformed['cluster']==3]['pct_change'].reset_index(drop=True).plot(kind='bar');"
      ],
      "metadata": {
        "colab": {
          "base_uri": "https://localhost:8080/",
          "height": 296
        },
        "id": "tKz-z7Vp5dHv",
        "outputId": "2759e734-4522-45cf-a633-548d04b619db"
      },
      "execution_count": 512,
      "outputs": [
        {
          "output_type": "display_data",
          "data": {
            "image/png": "[encoded data removed]",
            "text/plain": [
              "<Figure size 432x288 with 1 Axes>"
            ]
          },
          "metadata": {}
        }
      ]
    },
    {
      "cell_type": "code",
      "source": [
        "(data_transformed[data_transformed['cluster']==3]['sign']==1).sum()"
      ],
      "metadata": {
        "colab": {
          "base_uri": "https://localhost:8080/"
        },
        "id": "UxZC9t2F5iEX",
        "outputId": "2f42be75-44f3-4fd4-c748-271f575c94d6"
      },
      "execution_count": 521,
      "outputs": [
        {
          "output_type": "execute_result",
          "data": {
            "text/plain": [
              "315"
            ]
          },
          "metadata": {},
          "execution_count": 521
        }
      ]
    },
    {
      "cell_type": "code",
      "source": [
        "(data_transformed[data_transformed['cluster']==3]['sign']==-1).sum()"
      ],
      "metadata": {
        "id": "yn58EyOg_Nbd",
        "outputId": "47bf863a-e8b7-4102-8e43-1dcb19412868",
        "colab": {
          "base_uri": "https://localhost:8080/"
        }
      },
      "execution_count": 522,
      "outputs": [
        {
          "output_type": "execute_result",
          "data": {
            "text/plain": [
              "249"
            ]
          },
          "metadata": {},
          "execution_count": 522
        }
      ]
    },
    {
      "cell_type": "code",
      "source": [
        "(data_transformed[data_transformed['cluster']==1]['sign']==1).sum()"
      ],
      "metadata": {
        "id": "67PeviKa_wu0",
        "outputId": "b3429eb8-a939-420b-fc9f-ad43c5c6b090",
        "colab": {
          "base_uri": "https://localhost:8080/"
        }
      },
      "execution_count": 523,
      "outputs": [
        {
          "output_type": "execute_result",
          "data": {
            "text/plain": [
              "258"
            ]
          },
          "metadata": {},
          "execution_count": 523
        }
      ]
    },
    {
      "cell_type": "code",
      "source": [
        "(data_transformed[data_transformed['cluster']==1]['sign']==-1).sum()"
      ],
      "metadata": {
        "id": "iNsJH-oG_05k",
        "outputId": "47b1338c-1d10-480f-c3db-f71eb8c8daa0",
        "colab": {
          "base_uri": "https://localhost:8080/"
        }
      },
      "execution_count": 524,
      "outputs": [
        {
          "output_type": "execute_result",
          "data": {
            "text/plain": [
              "226"
            ]
          },
          "metadata": {},
          "execution_count": 524
        }
      ]
    },
    {
      "cell_type": "code",
      "source": [
        "(data_transformed[data_transformed['cluster']==2]['sign']==1).sum()"
      ],
      "metadata": {
        "id": "4Dgulx7r_3mE",
        "outputId": "bff6ab3c-8313-44b6-ad43-d2947f08908e",
        "colab": {
          "base_uri": "https://localhost:8080/"
        }
      },
      "execution_count": 525,
      "outputs": [
        {
          "output_type": "execute_result",
          "data": {
            "text/plain": [
              "165"
            ]
          },
          "metadata": {},
          "execution_count": 525
        }
      ]
    },
    {
      "cell_type": "code",
      "source": [
        "(data_transformed[data_transformed['cluster']==2]['sign']==-1).sum()"
      ],
      "metadata": {
        "id": "6F6ugec4_7is",
        "outputId": "138c0f43-d2f3-4e50-e2e8-1f4f6f9c18ba",
        "colab": {
          "base_uri": "https://localhost:8080/"
        }
      },
      "execution_count": 526,
      "outputs": [
        {
          "output_type": "execute_result",
          "data": {
            "text/plain": [
              "174"
            ]
          },
          "metadata": {},
          "execution_count": 526
        }
      ]
    },
    {
      "cell_type": "code",
      "source": [
        "(data_transformed[data_transformed['cluster']==0]['sign']==1).sum()"
      ],
      "metadata": {
        "id": "9_dW3WfU_9L8",
        "outputId": "77a56b99-256e-4587-bf6f-c32d5bfa8df0",
        "colab": {
          "base_uri": "https://localhost:8080/"
        }
      },
      "execution_count": 528,
      "outputs": [
        {
          "output_type": "execute_result",
          "data": {
            "text/plain": [
              "15"
            ]
          },
          "metadata": {},
          "execution_count": 528
        }
      ]
    },
    {
      "cell_type": "code",
      "source": [
        "(data_transformed[data_transformed['cluster']==0]['sign']==-1).sum()"
      ],
      "metadata": {
        "id": "pUYn5l8wAFVt",
        "outputId": "c03285cf-26dd-44b6-f903-83fbf34f0d41",
        "colab": {
          "base_uri": "https://localhost:8080/"
        }
      },
      "execution_count": 529,
      "outputs": [
        {
          "output_type": "execute_result",
          "data": {
            "text/plain": [
              "15"
            ]
          },
          "metadata": {},
          "execution_count": 529
        }
      ]
    },
    {
      "cell_type": "code",
      "source": [
        ""
      ],
      "metadata": {
        "id": "AcgskqUhAI8M"
      },
      "execution_count": null,
      "outputs": []
    }
  ],
  "metadata": {
    "colab": {
      "name": "RSI_Monthly_return.ipynb",
      "provenance": [],
      "include_colab_link": true
    },
    "kernelspec": {
      "display_name": "Python 3 (ipykernel)",
      "language": "python",
      "name": "python3"
    },
    "language_info": {
      "codemirror_mode": {
        "name": "ipython",
        "version": 3
      },
      "file_extension": ".py",
      "mimetype": "text/x-python",
      "name": "python",
      "nbconvert_exporter": "python",
      "pygments_lexer": "ipython3",
      "version": "3.9.5"
    }
  },
  "nbformat": 4,
  "nbformat_minor": 0
}