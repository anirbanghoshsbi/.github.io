{
  "nbformat": 4,
  "nbformat_minor": 0,
  "metadata": {
    "colab": {
      "name": "ML_model(Resampling).ipynb",
      "provenance": [],
      "collapsed_sections": [],
      "authorship_tag": "ABX9TyOp95cZnANjdkf14sM4q9yX",
      "include_colab_link": true
    },
    "kernelspec": {
      "name": "python3",
      "display_name": "Python 3"
    },
    "language_info": {
      "name": "python"
    }
  },
  "cells": [
    {
      "cell_type": "markdown",
      "metadata": {
        "id": "view-in-github",
        "colab_type": "text"
      },
      "source": [
        "<a href=\"https://colab.research.google.com/github/anirbanghoshsbi/.github.io/blob/master/experimental/ML_model(Resampling).ipynb\" target=\"_parent\"><img src=\"https://colab.research.google.com/assets/colab-badge.svg\" alt=\"Open In Colab\"/></a>"
      ]
    },
    {
      "cell_type": "code",
      "execution_count": 355,
      "metadata": {
        "id": "nyWZtJU9AXIH"
      },
      "outputs": [],
      "source": [
        "#!pip install yfinance\n",
        "#!pip install pandas-ta==0.2.45b"
      ]
    },
    {
      "cell_type": "code",
      "source": [
        "class BlockingTimeSeriesSplit():\n",
        "    def __init__(self, n_splits):\n",
        "        self.n_splits = n_splits\n",
        "    \n",
        "    def get_n_splits(self, X, y, groups):\n",
        "        return self.n_splits\n",
        "    \n",
        "    def split(self, X, y=None, groups=None):\n",
        "        n_samples = len(X)\n",
        "        k_fold_size = n_samples // self.n_splits\n",
        "        indices = np.arange(n_samples)\n",
        "\n",
        "        margin = 0\n",
        "        for i in range(self.n_splits):\n",
        "            start = i * k_fold_size\n",
        "            stop = start + k_fold_size\n",
        "            mid = int(0.8 * (stop - start)) + start\n",
        "            yield indices[start: mid], indices[mid + margin: stop]"
      ],
      "metadata": {
        "id": "jyllF7hO1cHz"
      },
      "execution_count": 356,
      "outputs": []
    },
    {
      "cell_type": "code",
      "source": [
        "import yfinance as yf\n",
        "import numpy as np\n",
        "import pandas as pd\n",
        "import pandas_ta as ta\n",
        "from sklearn.ensemble import RandomForestClassifier\n",
        "from sklearn.metrics import accuracy_score, classification_report,f1_score\n",
        "import datetime as dt"
      ],
      "metadata": {
        "id": "_tIlkjtcAfqh"
      },
      "execution_count": 357,
      "outputs": []
    },
    {
      "cell_type": "code",
      "source": [
        "tickr='goldbees.ns'\n",
        "days_out=14"
      ],
      "metadata": {
        "id": "u_GPj9hA8OI4"
      },
      "execution_count": 358,
      "outputs": []
    },
    {
      "cell_type": "code",
      "source": [
        "nifty = yf.download(tickr,start='2014-01-01',end='2018-12-31')"
      ],
      "metadata": {
        "colab": {
          "base_uri": "https://localhost:8080/"
        },
        "id": "13xKShZ0ApyT",
        "outputId": "db2cd654-a9de-48a6-9a4b-70091eaf5c1a"
      },
      "execution_count": 359,
      "outputs": [
        {
          "output_type": "stream",
          "name": "stdout",
          "text": [
            "\r[*********************100%***********************]  1 of 1 completed\n"
          ]
        }
      ]
    },
    {
      "cell_type": "code",
      "source": [
        "nifty.tail(2)"
      ],
      "metadata": {
        "colab": {
          "base_uri": "https://localhost:8080/",
          "height": 143
        },
        "id": "CAsLeTUQA9pr",
        "outputId": "1077db5b-ceaa-44c0-c642-9d45881917b1"
      },
      "execution_count": 360,
      "outputs": [
        {
          "output_type": "execute_result",
          "data": {
            "text/html": [
              "\n",
              "  <div id=\"df-df6e5743-19e7-4708-ae4a-697c725f7a1a\">\n",
              "    <div class=\"colab-df-container\">\n",
              "      <div>\n",
              "<style scoped>\n",
              "    .dataframe tbody tr th:only-of-type {\n",
              "        vertical-align: middle;\n",
              "    }\n",
              "\n",
              "    .dataframe tbody tr th {\n",
              "        vertical-align: top;\n",
              "    }\n",
              "\n",
              "    .dataframe thead th {\n",
              "        text-align: right;\n",
              "    }\n",
              "</style>\n",
              "<table border=\"1\" class=\"dataframe\">\n",
              "  <thead>\n",
              "    <tr style=\"text-align: right;\">\n",
              "      <th></th>\n",
              "      <th>Open</th>\n",
              "      <th>High</th>\n",
              "      <th>Low</th>\n",
              "      <th>Close</th>\n",
              "      <th>Adj Close</th>\n",
              "      <th>Volume</th>\n",
              "    </tr>\n",
              "    <tr>\n",
              "      <th>Date</th>\n",
              "      <th></th>\n",
              "      <th></th>\n",
              "      <th></th>\n",
              "      <th></th>\n",
              "      <th></th>\n",
              "      <th></th>\n",
              "    </tr>\n",
              "  </thead>\n",
              "  <tbody>\n",
              "    <tr>\n",
              "      <th>2018-12-27</th>\n",
              "      <td>28.000</td>\n",
              "      <td>28.100000</td>\n",
              "      <td>27.916000</td>\n",
              "      <td>28.0455</td>\n",
              "      <td>28.0455</td>\n",
              "      <td>700300</td>\n",
              "    </tr>\n",
              "    <tr>\n",
              "      <th>2018-12-28</th>\n",
              "      <td>28.025</td>\n",
              "      <td>28.179001</td>\n",
              "      <td>28.012501</td>\n",
              "      <td>28.1495</td>\n",
              "      <td>28.1495</td>\n",
              "      <td>1577300</td>\n",
              "    </tr>\n",
              "  </tbody>\n",
              "</table>\n",
              "</div>\n",
              "      <button class=\"colab-df-convert\" onclick=\"convertToInteractive('df-df6e5743-19e7-4708-ae4a-697c725f7a1a')\"\n",
              "              title=\"Convert this dataframe to an interactive table.\"\n",
              "              style=\"display:none;\">\n",
              "        \n",
              "  <svg xmlns=\"http://www.w3.org/2000/svg\" height=\"24px\"viewBox=\"0 0 24 24\"\n",
              "       width=\"24px\">\n",
              "    <path d=\"M0 0h24v24H0V0z\" fill=\"none\"/>\n",
              "    <path d=\"M18.56 5.44l.94 2.06.94-2.06 2.06-.94-2.06-.94-.94-2.06-.94 2.06-2.06.94zm-11 1L8.5 8.5l.94-2.06 2.06-.94-2.06-.94L8.5 2.5l-.94 2.06-2.06.94zm10 10l.94 2.06.94-2.06 2.06-.94-2.06-.94-.94-2.06-.94 2.06-2.06.94z\"/><path d=\"M17.41 7.96l-1.37-1.37c-.4-.4-.92-.59-1.43-.59-.52 0-1.04.2-1.43.59L10.3 9.45l-7.72 7.72c-.78.78-.78 2.05 0 2.83L4 21.41c.39.39.9.59 1.41.59.51 0 1.02-.2 1.41-.59l7.78-7.78 2.81-2.81c.8-.78.8-2.07 0-2.86zM5.41 20L4 18.59l7.72-7.72 1.47 1.35L5.41 20z\"/>\n",
              "  </svg>\n",
              "      </button>\n",
              "      \n",
              "  <style>\n",
              "    .colab-df-container {\n",
              "      display:flex;\n",
              "      flex-wrap:wrap;\n",
              "      gap: 12px;\n",
              "    }\n",
              "\n",
              "    .colab-df-convert {\n",
              "      background-color: #E8F0FE;\n",
              "      border: none;\n",
              "      border-radius: 50%;\n",
              "      cursor: pointer;\n",
              "      display: none;\n",
              "      fill: #1967D2;\n",
              "      height: 32px;\n",
              "      padding: 0 0 0 0;\n",
              "      width: 32px;\n",
              "    }\n",
              "\n",
              "    .colab-df-convert:hover {\n",
              "      background-color: #E2EBFA;\n",
              "      box-shadow: 0px 1px 2px rgba(60, 64, 67, 0.3), 0px 1px 3px 1px rgba(60, 64, 67, 0.15);\n",
              "      fill: #174EA6;\n",
              "    }\n",
              "\n",
              "    [theme=dark] .colab-df-convert {\n",
              "      background-color: #3B4455;\n",
              "      fill: #D2E3FC;\n",
              "    }\n",
              "\n",
              "    [theme=dark] .colab-df-convert:hover {\n",
              "      background-color: #434B5C;\n",
              "      box-shadow: 0px 1px 3px 1px rgba(0, 0, 0, 0.15);\n",
              "      filter: drop-shadow(0px 1px 2px rgba(0, 0, 0, 0.3));\n",
              "      fill: #FFFFFF;\n",
              "    }\n",
              "  </style>\n",
              "\n",
              "      <script>\n",
              "        const buttonEl =\n",
              "          document.querySelector('#df-df6e5743-19e7-4708-ae4a-697c725f7a1a button.colab-df-convert');\n",
              "        buttonEl.style.display =\n",
              "          google.colab.kernel.accessAllowed ? 'block' : 'none';\n",
              "\n",
              "        async function convertToInteractive(key) {\n",
              "          const element = document.querySelector('#df-df6e5743-19e7-4708-ae4a-697c725f7a1a');\n",
              "          const dataTable =\n",
              "            await google.colab.kernel.invokeFunction('convertToInteractive',\n",
              "                                                     [key], {});\n",
              "          if (!dataTable) return;\n",
              "\n",
              "          const docLinkHtml = 'Like what you see? Visit the ' +\n",
              "            '<a target=\"_blank\" href=https://colab.research.google.com/notebooks/data_table.ipynb>data table notebook</a>'\n",
              "            + ' to learn more about interactive tables.';\n",
              "          element.innerHTML = '';\n",
              "          dataTable['output_type'] = 'display_data';\n",
              "          await google.colab.output.renderOutput(dataTable, element);\n",
              "          const docLink = document.createElement('div');\n",
              "          docLink.innerHTML = docLinkHtml;\n",
              "          element.appendChild(docLink);\n",
              "        }\n",
              "      </script>\n",
              "    </div>\n",
              "  </div>\n",
              "  "
            ],
            "text/plain": [
              "              Open       High        Low    Close  Adj Close   Volume\n",
              "Date                                                                 \n",
              "2018-12-27  28.000  28.100000  27.916000  28.0455    28.0455   700300\n",
              "2018-12-28  28.025  28.179001  28.012501  28.1495    28.1495  1577300"
            ]
          },
          "metadata": {},
          "execution_count": 360
        }
      ]
    },
    {
      "cell_type": "code",
      "source": [
        "nifty['close_2%']=np.abs(nifty['Adj Close'].pct_change()*100).fillna(0)"
      ],
      "metadata": {
        "id": "uLq09QLRA_Bl"
      },
      "execution_count": 361,
      "outputs": []
    },
    {
      "cell_type": "code",
      "source": [
        "test=pd.DataFrame(data=nifty['close_2%'].values,columns=['sum'])"
      ],
      "metadata": {
        "id": "2EHfr-jNWMYo"
      },
      "execution_count": 362,
      "outputs": []
    },
    {
      "cell_type": "code",
      "source": [
        "nifty['cumsum']=0\n",
        "nifty=nifty.reset_index()"
      ],
      "metadata": {
        "id": "X1PppktGXYgu"
      },
      "execution_count": 363,
      "outputs": []
    },
    {
      "cell_type": "code",
      "source": [
        "for index , val in enumerate(nifty['close_2%']):\n",
        "  \n",
        "  if index==0:\n",
        "    nifty.loc[index,'cumsum']=val\n",
        "  else:\n",
        "    if nifty['cumsum'].iloc[index-1]>2:\n",
        "      nifty.loc[index,'cumsum']=val\n",
        "    else:\n",
        "      nifty.loc[index, 'cumsum']=val+nifty['cumsum'].iloc[index-1]    "
      ],
      "metadata": {
        "id": "ySTggEWYWHTC"
      },
      "execution_count": 364,
      "outputs": []
    },
    {
      "cell_type": "code",
      "source": [
        "#test_f=pd.DataFrame({'Date':nifty.index, 'sum':test['cumsum'].values})\n",
        "#pd.DataFrame({'Date':df.index,'spread':(df['Adj Close'].values - mean)})"
      ],
      "metadata": {
        "id": "OZPoMevcXJNe"
      },
      "execution_count": 365,
      "outputs": []
    },
    {
      "cell_type": "code",
      "source": [
        "nifty['diff']=nifty['close_2%']-nifty['cumsum']"
      ],
      "metadata": {
        "id": "EDsjk1cYXJz-"
      },
      "execution_count": 366,
      "outputs": []
    },
    {
      "cell_type": "code",
      "source": [
        "final_data=nifty.iloc[nifty[nifty['diff']==0].index-1][1:]"
      ],
      "metadata": {
        "id": "Gk40XbTfbg0s"
      },
      "execution_count": 367,
      "outputs": []
    },
    {
      "cell_type": "code",
      "source": [
        "final_data['Signal_Flag'] = final_data['Close'].transform(lambda x : np.sign(x.diff(days_out)))"
      ],
      "metadata": {
        "id": "_QO22nWAcFDF"
      },
      "execution_count": 368,
      "outputs": []
    },
    {
      "cell_type": "code",
      "source": [
        "final_data=final_data.dropna()"
      ],
      "metadata": {
        "id": "NXmvEcXJdA-0"
      },
      "execution_count": 369,
      "outputs": []
    },
    {
      "cell_type": "code",
      "source": [
        "final_data.Signal_Flag.value_counts()"
      ],
      "metadata": {
        "id": "7QsDWXD3dJPE",
        "outputId": "b5bbeaf0-4dde-4dc6-c661-4f5ba6a83c14",
        "colab": {
          "base_uri": "https://localhost:8080/"
        }
      },
      "execution_count": 370,
      "outputs": [
        {
          "output_type": "execute_result",
          "data": {
            "text/plain": [
              "-1.0    123\n",
              " 1.0    118\n",
              "Name: Signal_Flag, dtype: int64"
            ]
          },
          "metadata": {},
          "execution_count": 370
        }
      ]
    },
    {
      "cell_type": "markdown",
      "source": [
        "# Features Creation "
      ],
      "metadata": {
        "id": "X-coQFaUddlN"
      }
    },
    {
      "cell_type": "code",
      "source": [
        "final_data=final_data.reset_index(drop=True)"
      ],
      "metadata": {
        "id": "1T208hxS5H_S"
      },
      "execution_count": 371,
      "outputs": []
    },
    {
      "cell_type": "code",
      "source": [
        "final_data.ta.macd(append=True)\n",
        "final_data.ta.vortex(append=True)\n",
        "final_data.ta.aroon(append=True)\n",
        "final_data.ta.mom(append=True)\n",
        "final_data.ta.stdev(append=True)\n",
        "final_data.ta.linreg(append=True)\n",
        "final_data['spread']=final_data['LR_14']-final_data['close']\n",
        "print()"
      ],
      "metadata": {
        "id": "MO1crHsvdVGE",
        "outputId": "5eb257a0-0c0d-4659-d9f2-06b7a0ae1898",
        "colab": {
          "base_uri": "https://localhost:8080/"
        }
      },
      "execution_count": 372,
      "outputs": [
        {
          "output_type": "stream",
          "name": "stdout",
          "text": [
            "\n"
          ]
        }
      ]
    },
    {
      "cell_type": "code",
      "source": [
        "final_data['date']=final_data['date'].map(dt.datetime.toordinal)"
      ],
      "metadata": {
        "id": "hBannMF82-sy"
      },
      "execution_count": 373,
      "outputs": []
    },
    {
      "cell_type": "code",
      "source": [
        "final_data=final_data.dropna()"
      ],
      "metadata": {
        "id": "SZ6ikcFU5Fyl"
      },
      "execution_count": 374,
      "outputs": []
    },
    {
      "cell_type": "code",
      "source": [
        "features=final_data.columns.tolist()"
      ],
      "metadata": {
        "id": "SS7PfRTY1pvL"
      },
      "execution_count": 375,
      "outputs": []
    },
    {
      "cell_type": "code",
      "source": [
        "features=[feats for feats in features if feats not in ['Signal_Flag']]"
      ],
      "metadata": {
        "id": "fUA0QQj-2E_V"
      },
      "execution_count": 376,
      "outputs": []
    },
    {
      "cell_type": "code",
      "source": [
        "X=final_data[features]\n",
        "y=final_data['Signal_Flag']"
      ],
      "metadata": {
        "id": "icv9GduG2dVq"
      },
      "execution_count": 377,
      "outputs": []
    },
    {
      "cell_type": "code",
      "source": [
        "chk='Timeseries'"
      ],
      "metadata": {
        "id": "9ZE24SPe2k3i"
      },
      "execution_count": 378,
      "outputs": []
    },
    {
      "cell_type": "markdown",
      "source": [
        "# and Modelling Part remaining"
      ],
      "metadata": {
        "id": "dE0P3YBD69Bf"
      }
    },
    {
      "cell_type": "code",
      "source": [
        "from sklearn.model_selection import TimeSeriesSplit\n",
        "\n",
        "if chk=='Block':\n",
        "  tscv = BlockingTimeSeriesSplit(n_splits=10)\n",
        "\n",
        "  for fold, (train_index, test_index) in enumerate(tscv.split(X)):\n",
        "      print(\"Fold: {}\".format(fold))\n",
        "      X_train, X_test = X.iloc[train_index], X.iloc[test_index]\n",
        "      y_train, y_test = y.iloc[train_index], y.iloc[test_index]\n",
        "elif chk=='Timeseries':\n",
        "  tscv = TimeSeriesSplit(n_splits=15)\n",
        "  for fold, (train_index, test_index) in enumerate(tscv.split(X)):\n",
        "      print(\"Fold: {}\".format(fold))\n",
        "      X_train, X_test = X.iloc[train_index], X.iloc[test_index]\n",
        "      y_train, y_test = y.iloc[train_index], y.iloc[test_index]"
      ],
      "metadata": {
        "id": "H1I_Bn8z6zSd",
        "outputId": "ab8165a2-c7e1-4e3e-9a39-6dad9d062602",
        "colab": {
          "base_uri": "https://localhost:8080/"
        }
      },
      "execution_count": 379,
      "outputs": [
        {
          "output_type": "stream",
          "name": "stdout",
          "text": [
            "Fold: 0\n",
            "Fold: 1\n",
            "Fold: 2\n",
            "Fold: 3\n",
            "Fold: 4\n",
            "Fold: 5\n",
            "Fold: 6\n",
            "Fold: 7\n",
            "Fold: 8\n",
            "Fold: 9\n",
            "Fold: 10\n",
            "Fold: 11\n",
            "Fold: 12\n",
            "Fold: 13\n",
            "Fold: 14\n"
          ]
        }
      ]
    },
    {
      "cell_type": "code",
      "source": [
        "for train_index, test_index in tscv.split(X,y):\n",
        "    X_train, X_test = X.iloc[train_index], X.iloc[test_index]\n",
        "    y_train, y_test = y.iloc[train_index], y.iloc[test_index]"
      ],
      "metadata": {
        "id": "JrpwLjvB2pmM"
      },
      "execution_count": 380,
      "outputs": []
    },
    {
      "cell_type": "code",
      "source": [
        "rand_frst_clf = RandomForestClassifier(n_estimators =220,max_depth=35,min_samples_leaf=14,max_features = \"auto\",min_samples_split=40, criterion = \"gini\", bootstrap=True,random_state = 42)\n"
      ],
      "metadata": {
        "id": "oETkaFhl2pgq"
      },
      "execution_count": 381,
      "outputs": []
    },
    {
      "cell_type": "code",
      "source": [
        "# Fit the data to the model\n",
        "rand_frst_clf.fit(X_train, y_train)"
      ],
      "metadata": {
        "id": "xSSGL2su2pdK",
        "outputId": "be14809a-46c8-4bd9-c9d7-10855220ff6f",
        "colab": {
          "base_uri": "https://localhost:8080/"
        }
      },
      "execution_count": 382,
      "outputs": [
        {
          "output_type": "execute_result",
          "data": {
            "text/plain": [
              "RandomForestClassifier(max_depth=35, min_samples_leaf=14, min_samples_split=40,\n",
              "                       n_estimators=220, random_state=42)"
            ]
          },
          "metadata": {},
          "execution_count": 382
        }
      ]
    },
    {
      "cell_type": "code",
      "source": [
        "feature_imp = pd.Series(rand_frst_clf.feature_importances_, index=X_train.columns).sort_values(ascending=False)\n",
        "feature_imp*100\n",
        "feats=X_train.columns\n",
        "feature_imp"
      ],
      "metadata": {
        "id": "0MraqBNw3dGK",
        "outputId": "84d8c309-12a8-4092-ff40-0dd610ea1b61",
        "colab": {
          "base_uri": "https://localhost:8080/"
        }
      },
      "execution_count": 383,
      "outputs": [
        {
          "output_type": "execute_result",
          "data": {
            "text/plain": [
              "VTXM_14          0.182521\n",
              "AROONOSC_14      0.170662\n",
              "AROOND_14        0.157030\n",
              "VTXP_14          0.113012\n",
              "AROONU_14        0.075699\n",
              "MOM_10           0.074969\n",
              "MACD_12_26_9     0.072766\n",
              "MACDh_12_26_9    0.055698\n",
              "MACDs_12_26_9    0.016733\n",
              "adj_close        0.014874\n",
              "close            0.012295\n",
              "open             0.011084\n",
              "LR_14            0.011054\n",
              "high             0.010463\n",
              "low              0.008664\n",
              "spread           0.004769\n",
              "date             0.003214\n",
              "cumsum           0.001456\n",
              "STDEV_30         0.001149\n",
              "volume           0.000797\n",
              "close_2%         0.000552\n",
              "diff             0.000539\n",
              "dtype: float64"
            ]
          },
          "metadata": {},
          "execution_count": 383
        }
      ]
    },
    {
      "cell_type": "code",
      "source": [
        "#y_pd= rand_frst_clf.predict(X_train)"
      ],
      "metadata": {
        "id": "re5OjFl53nGP"
      },
      "execution_count": 384,
      "outputs": []
    },
    {
      "cell_type": "code",
      "source": [
        "# Make predictions\n",
        "y_pred = rand_frst_clf.predict(X_test)"
      ],
      "metadata": {
        "id": "5QZ3_g1K3nD8"
      },
      "execution_count": 385,
      "outputs": []
    },
    {
      "cell_type": "code",
      "source": [
        "timeseries=pd.concat([X_test['adj_close'].reset_index(),pd.Series(y_pred)],axis=1)"
      ],
      "metadata": {
        "id": "ZaGp7J813nBM"
      },
      "execution_count": 386,
      "outputs": []
    },
    {
      "cell_type": "code",
      "source": [
        "timeseries.columns=['index','close','prediction']"
      ],
      "metadata": {
        "id": "sXlmjz5E3m-Z"
      },
      "execution_count": 387,
      "outputs": []
    },
    {
      "cell_type": "code",
      "source": [
        "import matplotlib.pyplot as plt\n",
        "fig, ax = plt.subplots(2,1, figsize=(15,9),sharex=True)\n",
        "ax[0].plot(timeseries.loc[:, :].index, timeseries.loc[:, 'close'], label='close')\n",
        "ax[1].plot(timeseries.loc[:, :].index, timeseries.loc[:, 'prediction'], label='Nifty')\n",
        "ax[0].legend()\n",
        "ax[1].legend()\n",
        "plt.show()"
      ],
      "metadata": {
        "id": "mNP0CkfO34Sh",
        "outputId": "48d683c8-7fae-43ce-8e30-0bd6c9dfe894",
        "colab": {
          "base_uri": "https://localhost:8080/",
          "height": 502
        }
      },
      "execution_count": 388,
      "outputs": [
        {
          "output_type": "display_data",
          "data": {
            "image/png": "[encoded data removed]",
            "text/plain": [
              "<Figure size 1080x648 with 2 Axes>"
            ]
          },
          "metadata": {
            "needs_background": "light"
          }
        }
      ]
    },
    {
      "cell_type": "code",
      "source": [
        "data_for_testing=yf.download(tickr,start='2019-01-01',parse_dates=['Date']).reset_index()"
      ],
      "metadata": {
        "id": "sDpQe92g4H6L",
        "outputId": "964b35de-c9df-4d39-9dc8-f3602b8393c5",
        "colab": {
          "base_uri": "https://localhost:8080/"
        }
      },
      "execution_count": 389,
      "outputs": [
        {
          "output_type": "stream",
          "name": "stdout",
          "text": [
            "\r[*********************100%***********************]  1 of 1 completed\n"
          ]
        }
      ]
    },
    {
      "cell_type": "code",
      "source": [
        "data_for_testing['Date']=data_for_testing['Date'].map(dt.datetime.toordinal)"
      ],
      "metadata": {
        "id": "Nd244nlM4H30"
      },
      "execution_count": 390,
      "outputs": []
    },
    {
      "cell_type": "code",
      "source": [
        "data_for_testing['close_2%']=np.abs(data_for_testing['Adj Close'].pct_change()*100).fillna(0)"
      ],
      "metadata": {
        "id": "aImxKJhs4H1c"
      },
      "execution_count": 391,
      "outputs": []
    },
    {
      "cell_type": "code",
      "source": [
        "test_data=pd.DataFrame(data=data_for_testing['close_2%'].values,columns=['sum'])"
      ],
      "metadata": {
        "id": "JWKgRLn74Hy4"
      },
      "execution_count": 392,
      "outputs": []
    },
    {
      "cell_type": "code",
      "source": [
        "data_for_testing['cumsum']=0"
      ],
      "metadata": {
        "id": "fTi4mrLt4Hxk"
      },
      "execution_count": 393,
      "outputs": []
    },
    {
      "cell_type": "code",
      "source": [
        "for index , val in enumerate(data_for_testing['close_2%']):\n",
        "  \n",
        "  if index==0:\n",
        "    data_for_testing.loc[index,'cumsum']=val\n",
        "  else:\n",
        "    if data_for_testing['cumsum'].iloc[index-1]>2:\n",
        "      data_for_testing.loc[index,'cumsum']=val\n",
        "    else:\n",
        "      data_for_testing.loc[index, 'cumsum']=val+data_for_testing['cumsum'].iloc[index-1]"
      ],
      "metadata": {
        "id": "h1B0J0434HuT"
      },
      "execution_count": 394,
      "outputs": []
    },
    {
      "cell_type": "code",
      "source": [
        "data_for_testing['diff']=data_for_testing['close_2%']-data_for_testing['cumsum']"
      ],
      "metadata": {
        "id": "SoKpvk_N4Hrk"
      },
      "execution_count": 395,
      "outputs": []
    },
    {
      "cell_type": "code",
      "source": [
        "final_test_data=data_for_testing.iloc[data_for_testing[data_for_testing['diff']==0].index-1][1:]"
      ],
      "metadata": {
        "id": "HtnBXYf_4HpS"
      },
      "execution_count": 396,
      "outputs": []
    },
    {
      "cell_type": "code",
      "source": [
        "final_test_data.ta.macd(append=True)\n",
        "final_test_data.ta.vortex(append=True)\n",
        "final_test_data.ta.aroon(append=True)\n",
        "final_test_data.ta.mom(append=True)\n",
        "final_test_data.ta.stdev(append=True)\n",
        "final_test_data.ta.linreg(append=True)\n",
        "final_test_data['spread']=final_test_data['LR_14']-final_test_data['close']\n",
        "print()"
      ],
      "metadata": {
        "id": "On6PwpVd4Hmr",
        "outputId": "337b056a-3f81-43f8-ffb5-8ba9a9c90efe",
        "colab": {
          "base_uri": "https://localhost:8080/"
        }
      },
      "execution_count": 397,
      "outputs": [
        {
          "output_type": "stream",
          "name": "stdout",
          "text": [
            "\n"
          ]
        }
      ]
    },
    {
      "cell_type": "code",
      "source": [
        "final_test_data['Signal_Flag'] = final_test_data['close'].transform(lambda x : np.sign(x.diff(days_out)))"
      ],
      "metadata": {
        "id": "eJ9WqXE74HkV"
      },
      "execution_count": 398,
      "outputs": []
    },
    {
      "cell_type": "code",
      "source": [
        "final_test_data=final_test_data.dropna()"
      ],
      "metadata": {
        "id": "EaXiW_Zz4Hhu"
      },
      "execution_count": 399,
      "outputs": []
    },
    {
      "cell_type": "code",
      "source": [
        "predict=rand_frst_clf.predict(final_test_data[features])"
      ],
      "metadata": {
        "id": "fYuCqwKc4HfE"
      },
      "execution_count": 400,
      "outputs": []
    },
    {
      "cell_type": "code",
      "source": [
        "timeseries=pd.concat([final_test_data['adj_close'].dropna()[-len(predict):].reset_index(),pd.Series(predict)],axis=1)"
      ],
      "metadata": {
        "id": "SCxhFj6L4Hch"
      },
      "execution_count": 401,
      "outputs": []
    },
    {
      "cell_type": "code",
      "source": [
        "timeseries.columns=['index','adj_close','predict']"
      ],
      "metadata": {
        "id": "JDdQ6paa67Yp"
      },
      "execution_count": 402,
      "outputs": []
    },
    {
      "cell_type": "code",
      "source": [
        "fig, ax = plt.subplots(figsize=(10,5),sharex=True)\n",
        "ax.plot(timeseries.loc[:, :].index, timeseries.loc[:, 'adj_close'], label='Nifty',color='g',marker='o')\n",
        "ax2=ax.twinx()\n",
        "ax2.plot(timeseries.loc[:, :].index, timeseries.loc[:, 'predict'], label='Prediction',color='r',linewidth=1)\n",
        "plt.show()"
      ],
      "metadata": {
        "id": "Dkl1pFkZ67UV",
        "outputId": "2d6cecb1-d9a8-4c97-a870-0c202f581e75",
        "colab": {
          "base_uri": "https://localhost:8080/",
          "height": 320
        }
      },
      "execution_count": 403,
      "outputs": [
        {
          "output_type": "display_data",
          "data": {
            "image/png": "[encoded data removed]",
            "text/plain": [
              "<Figure size 720x360 with 2 Axes>"
            ]
          },
          "metadata": {
            "needs_background": "light"
          }
        }
      ]
    },
    {
      "cell_type": "code",
      "source": [
        ""
      ],
      "metadata": {
        "id": "fjlmkgXM67Rq"
      },
      "execution_count": 403,
      "outputs": []
    }
  ]
}