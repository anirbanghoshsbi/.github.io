{
  "nbformat": 4,
  "nbformat_minor": 0,
  "metadata": {
    "colab": {
      "name": "ML_model(Resampling).ipynb",
      "provenance": [],
      "collapsed_sections": [],
      "authorship_tag": "ABX9TyN7O8TWa344Jp7vmsOZTeWg",
      "include_colab_link": true
    },
    "kernelspec": {
      "name": "python3",
      "display_name": "Python 3"
    },
    "language_info": {
      "name": "python"
    }
  },
  "cells": [
    {
      "cell_type": "markdown",
      "metadata": {
        "id": "view-in-github",
        "colab_type": "text"
      },
      "source": [
        "<a href=\"https://colab.research.google.com/github/anirbanghoshsbi/.github.io/blob/master/experimental/ML_model(Resampling).ipynb\" target=\"_parent\"><img src=\"https://colab.research.google.com/assets/colab-badge.svg\" alt=\"Open In Colab\"/></a>"
      ]
    },
    {
      "cell_type": "code",
      "execution_count": 499,
      "metadata": {
        "id": "nyWZtJU9AXIH"
      },
      "outputs": [],
      "source": [
        "#!pip install yfinance\n",
        "#!pip install pandas-ta==0.2.45b"
      ]
    },
    {
      "cell_type": "code",
      "source": [
        "class BlockingTimeSeriesSplit():\n",
        "    def __init__(self, n_splits):\n",
        "        self.n_splits = n_splits\n",
        "    \n",
        "    def get_n_splits(self, X, y, groups):\n",
        "        return self.n_splits\n",
        "    \n",
        "    def split(self, X, y=None, groups=None):\n",
        "        n_samples = len(X)\n",
        "        k_fold_size = n_samples // self.n_splits\n",
        "        indices = np.arange(n_samples)\n",
        "\n",
        "        margin = 0\n",
        "        for i in range(self.n_splits):\n",
        "            start = i * k_fold_size\n",
        "            stop = start + k_fold_size\n",
        "            mid = int(0.8 * (stop - start)) + start\n",
        "            yield indices[start: mid], indices[mid + margin: stop]"
      ],
      "metadata": {
        "id": "jyllF7hO1cHz"
      },
      "execution_count": 500,
      "outputs": []
    },
    {
      "cell_type": "code",
      "source": [
        "import yfinance as yf\n",
        "import numpy as np\n",
        "import pandas as pd\n",
        "import pandas_ta as ta\n",
        "from sklearn.ensemble import RandomForestClassifier\n",
        "from sklearn.metrics import accuracy_score, classification_report,f1_score\n",
        "import datetime as dt"
      ],
      "metadata": {
        "id": "_tIlkjtcAfqh"
      },
      "execution_count": 501,
      "outputs": []
    },
    {
      "cell_type": "code",
      "source": [
        "tickr='itc.ns'\n",
        "days_out=14"
      ],
      "metadata": {
        "id": "u_GPj9hA8OI4"
      },
      "execution_count": 548,
      "outputs": []
    },
    {
      "cell_type": "code",
      "source": [
        "nifty = yf.download(tickr,start='2014-01-01',end='2018-12-31')"
      ],
      "metadata": {
        "colab": {
          "base_uri": "https://localhost:8080/"
        },
        "id": "13xKShZ0ApyT",
        "outputId": "9cfc7044-8828-40ce-9255-20adf30bf735"
      },
      "execution_count": 549,
      "outputs": [
        {
          "output_type": "stream",
          "name": "stdout",
          "text": [
            "\r[*********************100%***********************]  1 of 1 completed\n"
          ]
        }
      ]
    },
    {
      "cell_type": "code",
      "source": [
        "nifty.tail(2)"
      ],
      "metadata": {
        "colab": {
          "base_uri": "https://localhost:8080/",
          "height": 143
        },
        "id": "CAsLeTUQA9pr",
        "outputId": "730c54e0-bd51-4fc3-cd95-fef1c44dae68"
      },
      "execution_count": 550,
      "outputs": [
        {
          "output_type": "execute_result",
          "data": {
            "text/html": [
              "\n",
              "  <div id=\"df-ced57bae-2538-4ccd-a804-ef9b0f022cab\">\n",
              "    <div class=\"colab-df-container\">\n",
              "      <div>\n",
              "<style scoped>\n",
              "    .dataframe tbody tr th:only-of-type {\n",
              "        vertical-align: middle;\n",
              "    }\n",
              "\n",
              "    .dataframe tbody tr th {\n",
              "        vertical-align: top;\n",
              "    }\n",
              "\n",
              "    .dataframe thead th {\n",
              "        text-align: right;\n",
              "    }\n",
              "</style>\n",
              "<table border=\"1\" class=\"dataframe\">\n",
              "  <thead>\n",
              "    <tr style=\"text-align: right;\">\n",
              "      <th></th>\n",
              "      <th>Open</th>\n",
              "      <th>High</th>\n",
              "      <th>Low</th>\n",
              "      <th>Close</th>\n",
              "      <th>Adj Close</th>\n",
              "      <th>Volume</th>\n",
              "    </tr>\n",
              "    <tr>\n",
              "      <th>Date</th>\n",
              "      <th></th>\n",
              "      <th></th>\n",
              "      <th></th>\n",
              "      <th></th>\n",
              "      <th></th>\n",
              "      <th></th>\n",
              "    </tr>\n",
              "  </thead>\n",
              "  <tbody>\n",
              "    <tr>\n",
              "      <th>2018-12-27</th>\n",
              "      <td>279.000000</td>\n",
              "      <td>281.649994</td>\n",
              "      <td>277.299988</td>\n",
              "      <td>280.75</td>\n",
              "      <td>249.009537</td>\n",
              "      <td>11441104</td>\n",
              "    </tr>\n",
              "    <tr>\n",
              "      <th>2018-12-28</th>\n",
              "      <td>279.149994</td>\n",
              "      <td>284.000000</td>\n",
              "      <td>279.149994</td>\n",
              "      <td>282.25</td>\n",
              "      <td>250.339935</td>\n",
              "      <td>13194286</td>\n",
              "    </tr>\n",
              "  </tbody>\n",
              "</table>\n",
              "</div>\n",
              "      <button class=\"colab-df-convert\" onclick=\"convertToInteractive('df-ced57bae-2538-4ccd-a804-ef9b0f022cab')\"\n",
              "              title=\"Convert this dataframe to an interactive table.\"\n",
              "              style=\"display:none;\">\n",
              "        \n",
              "  <svg xmlns=\"http://www.w3.org/2000/svg\" height=\"24px\"viewBox=\"0 0 24 24\"\n",
              "       width=\"24px\">\n",
              "    <path d=\"M0 0h24v24H0V0z\" fill=\"none\"/>\n",
              "    <path d=\"M18.56 5.44l.94 2.06.94-2.06 2.06-.94-2.06-.94-.94-2.06-.94 2.06-2.06.94zm-11 1L8.5 8.5l.94-2.06 2.06-.94-2.06-.94L8.5 2.5l-.94 2.06-2.06.94zm10 10l.94 2.06.94-2.06 2.06-.94-2.06-.94-.94-2.06-.94 2.06-2.06.94z\"/><path d=\"M17.41 7.96l-1.37-1.37c-.4-.4-.92-.59-1.43-.59-.52 0-1.04.2-1.43.59L10.3 9.45l-7.72 7.72c-.78.78-.78 2.05 0 2.83L4 21.41c.39.39.9.59 1.41.59.51 0 1.02-.2 1.41-.59l7.78-7.78 2.81-2.81c.8-.78.8-2.07 0-2.86zM5.41 20L4 18.59l7.72-7.72 1.47 1.35L5.41 20z\"/>\n",
              "  </svg>\n",
              "      </button>\n",
              "      \n",
              "  <style>\n",
              "    .colab-df-container {\n",
              "      display:flex;\n",
              "      flex-wrap:wrap;\n",
              "      gap: 12px;\n",
              "    }\n",
              "\n",
              "    .colab-df-convert {\n",
              "      background-color: #E8F0FE;\n",
              "      border: none;\n",
              "      border-radius: 50%;\n",
              "      cursor: pointer;\n",
              "      display: none;\n",
              "      fill: #1967D2;\n",
              "      height: 32px;\n",
              "      padding: 0 0 0 0;\n",
              "      width: 32px;\n",
              "    }\n",
              "\n",
              "    .colab-df-convert:hover {\n",
              "      background-color: #E2EBFA;\n",
              "      box-shadow: 0px 1px 2px rgba(60, 64, 67, 0.3), 0px 1px 3px 1px rgba(60, 64, 67, 0.15);\n",
              "      fill: #174EA6;\n",
              "    }\n",
              "\n",
              "    [theme=dark] .colab-df-convert {\n",
              "      background-color: #3B4455;\n",
              "      fill: #D2E3FC;\n",
              "    }\n",
              "\n",
              "    [theme=dark] .colab-df-convert:hover {\n",
              "      background-color: #434B5C;\n",
              "      box-shadow: 0px 1px 3px 1px rgba(0, 0, 0, 0.15);\n",
              "      filter: drop-shadow(0px 1px 2px rgba(0, 0, 0, 0.3));\n",
              "      fill: #FFFFFF;\n",
              "    }\n",
              "  </style>\n",
              "\n",
              "      <script>\n",
              "        const buttonEl =\n",
              "          document.querySelector('#df-ced57bae-2538-4ccd-a804-ef9b0f022cab button.colab-df-convert');\n",
              "        buttonEl.style.display =\n",
              "          google.colab.kernel.accessAllowed ? 'block' : 'none';\n",
              "\n",
              "        async function convertToInteractive(key) {\n",
              "          const element = document.querySelector('#df-ced57bae-2538-4ccd-a804-ef9b0f022cab');\n",
              "          const dataTable =\n",
              "            await google.colab.kernel.invokeFunction('convertToInteractive',\n",
              "                                                     [key], {});\n",
              "          if (!dataTable) return;\n",
              "\n",
              "          const docLinkHtml = 'Like what you see? Visit the ' +\n",
              "            '<a target=\"_blank\" href=https://colab.research.google.com/notebooks/data_table.ipynb>data table notebook</a>'\n",
              "            + ' to learn more about interactive tables.';\n",
              "          element.innerHTML = '';\n",
              "          dataTable['output_type'] = 'display_data';\n",
              "          await google.colab.output.renderOutput(dataTable, element);\n",
              "          const docLink = document.createElement('div');\n",
              "          docLink.innerHTML = docLinkHtml;\n",
              "          element.appendChild(docLink);\n",
              "        }\n",
              "      </script>\n",
              "    </div>\n",
              "  </div>\n",
              "  "
            ],
            "text/plain": [
              "                  Open        High         Low   Close   Adj Close    Volume\n",
              "Date                                                                        \n",
              "2018-12-27  279.000000  281.649994  277.299988  280.75  249.009537  11441104\n",
              "2018-12-28  279.149994  284.000000  279.149994  282.25  250.339935  13194286"
            ]
          },
          "metadata": {},
          "execution_count": 550
        }
      ]
    },
    {
      "cell_type": "code",
      "source": [
        "nifty['close_2%']=np.abs(nifty['Adj Close'].pct_change()*100).fillna(0)"
      ],
      "metadata": {
        "id": "uLq09QLRA_Bl"
      },
      "execution_count": 551,
      "outputs": []
    },
    {
      "cell_type": "code",
      "source": [
        "test=pd.DataFrame(data=nifty['close_2%'].values,columns=['sum'])"
      ],
      "metadata": {
        "id": "2EHfr-jNWMYo"
      },
      "execution_count": 552,
      "outputs": []
    },
    {
      "cell_type": "code",
      "source": [
        "nifty['cumsum']=0\n",
        "nifty=nifty.reset_index()"
      ],
      "metadata": {
        "id": "X1PppktGXYgu"
      },
      "execution_count": 553,
      "outputs": []
    },
    {
      "cell_type": "code",
      "source": [
        "for index , val in enumerate(nifty['close_2%']):\n",
        "  \n",
        "  if index==0:\n",
        "    nifty.loc[index,'cumsum']=val\n",
        "  else:\n",
        "    if nifty['cumsum'].iloc[index-1]>2:\n",
        "      nifty.loc[index,'cumsum']=val\n",
        "    else:\n",
        "      nifty.loc[index, 'cumsum']=val+nifty['cumsum'].iloc[index-1]    "
      ],
      "metadata": {
        "id": "ySTggEWYWHTC"
      },
      "execution_count": 554,
      "outputs": []
    },
    {
      "cell_type": "code",
      "source": [
        "#test_f=pd.DataFrame({'Date':nifty.index, 'sum':test['cumsum'].values})\n",
        "#pd.DataFrame({'Date':df.index,'spread':(df['Adj Close'].values - mean)})"
      ],
      "metadata": {
        "id": "OZPoMevcXJNe"
      },
      "execution_count": 555,
      "outputs": []
    },
    {
      "cell_type": "code",
      "source": [
        "nifty['diff']=nifty['close_2%']-nifty['cumsum']"
      ],
      "metadata": {
        "id": "EDsjk1cYXJz-"
      },
      "execution_count": 556,
      "outputs": []
    },
    {
      "cell_type": "code",
      "source": [
        "final_data=nifty.iloc[nifty[nifty['diff']==0].index-1][1:]"
      ],
      "metadata": {
        "id": "Gk40XbTfbg0s"
      },
      "execution_count": 557,
      "outputs": []
    },
    {
      "cell_type": "code",
      "source": [
        "final_data['Signal_Flag'] = final_data['Close'].transform(lambda x : np.sign(x.diff(days_out)))"
      ],
      "metadata": {
        "id": "_QO22nWAcFDF"
      },
      "execution_count": 558,
      "outputs": []
    },
    {
      "cell_type": "code",
      "source": [
        "final_data=final_data.dropna()"
      ],
      "metadata": {
        "id": "NXmvEcXJdA-0"
      },
      "execution_count": 559,
      "outputs": []
    },
    {
      "cell_type": "code",
      "source": [
        "final_data.Signal_Flag.value_counts()"
      ],
      "metadata": {
        "id": "7QsDWXD3dJPE",
        "outputId": "b89a3c22-96c1-4cd6-e29a-eecd879ad878",
        "colab": {
          "base_uri": "https://localhost:8080/"
        }
      },
      "execution_count": 560,
      "outputs": [
        {
          "output_type": "execute_result",
          "data": {
            "text/plain": [
              " 1.0    236\n",
              "-1.0    197\n",
              "Name: Signal_Flag, dtype: int64"
            ]
          },
          "metadata": {},
          "execution_count": 560
        }
      ]
    },
    {
      "cell_type": "markdown",
      "source": [
        "# Features Creation "
      ],
      "metadata": {
        "id": "X-coQFaUddlN"
      }
    },
    {
      "cell_type": "code",
      "source": [
        "final_data=final_data.reset_index(drop=True)"
      ],
      "metadata": {
        "id": "1T208hxS5H_S"
      },
      "execution_count": 561,
      "outputs": []
    },
    {
      "cell_type": "code",
      "source": [
        "final_data.ta.macd(append=True)\n",
        "final_data.ta.vortex(append=True)\n",
        "final_data.ta.aroon(append=True)\n",
        "final_data.ta.mom(append=True)\n",
        "final_data.ta.stdev(append=True)\n",
        "final_data.ta.linreg(append=True)\n",
        "final_data['spread']=final_data['LR_14']-final_data['close']\n",
        "print()"
      ],
      "metadata": {
        "id": "MO1crHsvdVGE",
        "colab": {
          "base_uri": "https://localhost:8080/"
        },
        "outputId": "39d782d7-4c21-4a22-8cf8-d4e887d852db"
      },
      "execution_count": 562,
      "outputs": [
        {
          "output_type": "stream",
          "name": "stdout",
          "text": [
            "\n"
          ]
        }
      ]
    },
    {
      "cell_type": "code",
      "source": [
        "final_data['date']=final_data['date'].map(dt.datetime.toordinal)"
      ],
      "metadata": {
        "id": "hBannMF82-sy"
      },
      "execution_count": 563,
      "outputs": []
    },
    {
      "cell_type": "code",
      "source": [
        "final_data=final_data.dropna()"
      ],
      "metadata": {
        "id": "SZ6ikcFU5Fyl"
      },
      "execution_count": 564,
      "outputs": []
    },
    {
      "cell_type": "code",
      "source": [
        "features=final_data.columns.tolist()"
      ],
      "metadata": {
        "id": "SS7PfRTY1pvL"
      },
      "execution_count": 565,
      "outputs": []
    },
    {
      "cell_type": "code",
      "source": [
        "features=[feats for feats in features if feats not in ['Signal_Flag']]"
      ],
      "metadata": {
        "id": "fUA0QQj-2E_V"
      },
      "execution_count": 566,
      "outputs": []
    },
    {
      "cell_type": "code",
      "source": [
        "X=final_data[features]\n",
        "y=final_data['Signal_Flag']"
      ],
      "metadata": {
        "id": "icv9GduG2dVq"
      },
      "execution_count": 567,
      "outputs": []
    },
    {
      "cell_type": "code",
      "source": [
        "chk='Timeseries'"
      ],
      "metadata": {
        "id": "9ZE24SPe2k3i"
      },
      "execution_count": 568,
      "outputs": []
    },
    {
      "cell_type": "markdown",
      "source": [
        "# and Modelling Part remaining"
      ],
      "metadata": {
        "id": "dE0P3YBD69Bf"
      }
    },
    {
      "cell_type": "code",
      "source": [
        "from sklearn.model_selection import TimeSeriesSplit\n",
        "\n",
        "if chk=='Block':\n",
        "  tscv = BlockingTimeSeriesSplit(n_splits=10)\n",
        "\n",
        "  for fold, (train_index, test_index) in enumerate(tscv.split(X)):\n",
        "      print(\"Fold: {}\".format(fold))\n",
        "      X_train, X_test = X.iloc[train_index], X.iloc[test_index]\n",
        "      y_train, y_test = y.iloc[train_index], y.iloc[test_index]\n",
        "elif chk=='Timeseries':\n",
        "  tscv = TimeSeriesSplit(n_splits=15)\n",
        "  for fold, (train_index, test_index) in enumerate(tscv.split(X)):\n",
        "      print(\"Fold: {}\".format(fold))\n",
        "      X_train, X_test = X.iloc[train_index], X.iloc[test_index]\n",
        "      y_train, y_test = y.iloc[train_index], y.iloc[test_index]"
      ],
      "metadata": {
        "id": "H1I_Bn8z6zSd",
        "colab": {
          "base_uri": "https://localhost:8080/"
        },
        "outputId": "5c9ac8c3-429a-42ac-bc2b-cbd2da5aa9e3"
      },
      "execution_count": 569,
      "outputs": [
        {
          "output_type": "stream",
          "name": "stdout",
          "text": [
            "Fold: 0\n",
            "Fold: 1\n",
            "Fold: 2\n",
            "Fold: 3\n",
            "Fold: 4\n",
            "Fold: 5\n",
            "Fold: 6\n",
            "Fold: 7\n",
            "Fold: 8\n",
            "Fold: 9\n",
            "Fold: 10\n",
            "Fold: 11\n",
            "Fold: 12\n",
            "Fold: 13\n",
            "Fold: 14\n"
          ]
        }
      ]
    },
    {
      "cell_type": "code",
      "source": [
        "for train_index, test_index in tscv.split(X,y):\n",
        "    X_train, X_test = X.iloc[train_index], X.iloc[test_index]\n",
        "    y_train, y_test = y.iloc[train_index], y.iloc[test_index]"
      ],
      "metadata": {
        "id": "JrpwLjvB2pmM"
      },
      "execution_count": 570,
      "outputs": []
    },
    {
      "cell_type": "code",
      "source": [
        "rand_frst_clf = RandomForestClassifier(n_estimators =220,max_depth=35,min_samples_leaf=14,max_features = \"auto\",min_samples_split=40, criterion = \"gini\", bootstrap=True,random_state = 42)\n"
      ],
      "metadata": {
        "id": "oETkaFhl2pgq"
      },
      "execution_count": 571,
      "outputs": []
    },
    {
      "cell_type": "code",
      "source": [
        "# Fit the data to the model\n",
        "rand_frst_clf.fit(X_train, y_train)"
      ],
      "metadata": {
        "colab": {
          "base_uri": "https://localhost:8080/"
        },
        "id": "xSSGL2su2pdK",
        "outputId": "2cd92542-26b5-4761-e172-b180b71f5276"
      },
      "execution_count": 572,
      "outputs": [
        {
          "output_type": "execute_result",
          "data": {
            "text/plain": [
              "RandomForestClassifier(max_depth=35, min_samples_leaf=14, min_samples_split=40,\n",
              "                       n_estimators=220, random_state=42)"
            ]
          },
          "metadata": {},
          "execution_count": 572
        }
      ]
    },
    {
      "cell_type": "code",
      "source": [
        "feature_imp = pd.Series(rand_frst_clf.feature_importances_, index=X_train.columns).sort_values(ascending=False)\n",
        "feature_imp*100\n",
        "feats=X_train.columns\n",
        "feature_imp"
      ],
      "metadata": {
        "colab": {
          "base_uri": "https://localhost:8080/"
        },
        "id": "0MraqBNw3dGK",
        "outputId": "9e6a0262-231a-4d6a-f737-2a3ba6c4e92a"
      },
      "execution_count": 573,
      "outputs": [
        {
          "output_type": "execute_result",
          "data": {
            "text/plain": [
              "VTXM_14          0.267107\n",
              "VTXP_14          0.151203\n",
              "AROONOSC_14      0.150159\n",
              "AROOND_14        0.090297\n",
              "MACDh_12_26_9    0.085411\n",
              "AROONU_14        0.084541\n",
              "MACD_12_26_9     0.057620\n",
              "MOM_10           0.055700\n",
              "MACDs_12_26_9    0.020964\n",
              "spread           0.006961\n",
              "close            0.005271\n",
              "STDEV_30         0.003661\n",
              "LR_14            0.003485\n",
              "adj_close        0.003323\n",
              "date             0.003189\n",
              "high             0.002913\n",
              "low              0.002235\n",
              "cumsum           0.001922\n",
              "open             0.001765\n",
              "close_2%         0.001125\n",
              "volume           0.000641\n",
              "diff             0.000507\n",
              "dtype: float64"
            ]
          },
          "metadata": {},
          "execution_count": 573
        }
      ]
    },
    {
      "cell_type": "code",
      "source": [
        "#y_pd= rand_frst_clf.predict(X_train)"
      ],
      "metadata": {
        "id": "re5OjFl53nGP"
      },
      "execution_count": 574,
      "outputs": []
    },
    {
      "cell_type": "code",
      "source": [
        "# Make predictions\n",
        "y_pred = rand_frst_clf.predict(X_test)"
      ],
      "metadata": {
        "id": "5QZ3_g1K3nD8"
      },
      "execution_count": 575,
      "outputs": []
    },
    {
      "cell_type": "code",
      "source": [
        "timeseries=pd.concat([X_test['adj_close'].reset_index(),pd.Series(y_pred)],axis=1)"
      ],
      "metadata": {
        "id": "ZaGp7J813nBM"
      },
      "execution_count": 576,
      "outputs": []
    },
    {
      "cell_type": "code",
      "source": [
        "timeseries.columns=['index','close','prediction']"
      ],
      "metadata": {
        "id": "sXlmjz5E3m-Z"
      },
      "execution_count": 577,
      "outputs": []
    },
    {
      "cell_type": "code",
      "source": [
        "import matplotlib.pyplot as plt\n",
        "fig, ax = plt.subplots(2,1, figsize=(15,9),sharex=True)\n",
        "ax[0].plot(timeseries.loc[:, :].index, timeseries.loc[:, 'close'], label='close')\n",
        "ax[1].plot(timeseries.loc[:, :].index, timeseries.loc[:, 'prediction'], label='Nifty')\n",
        "ax[0].legend()\n",
        "ax[1].legend()\n",
        "plt.show()"
      ],
      "metadata": {
        "colab": {
          "base_uri": "https://localhost:8080/",
          "height": 502
        },
        "id": "mNP0CkfO34Sh",
        "outputId": "70d0e2e7-8fac-4497-a371-fbc64c75cee7"
      },
      "execution_count": 578,
      "outputs": [
        {
          "output_type": "display_data",
          "data": {
            "image/png": "[encoded data removed]",
            "text/plain": [
              "<Figure size 1080x648 with 2 Axes>"
            ]
          },
          "metadata": {
            "needs_background": "light"
          }
        }
      ]
    },
    {
      "cell_type": "code",
      "source": [
        "data_for_testing=yf.download(tickr,start='2019-01-01',parse_dates=['Date']).reset_index()"
      ],
      "metadata": {
        "colab": {
          "base_uri": "https://localhost:8080/"
        },
        "id": "sDpQe92g4H6L",
        "outputId": "4d92a1eb-9d04-4253-9dd0-65969157dd34"
      },
      "execution_count": 579,
      "outputs": [
        {
          "output_type": "stream",
          "name": "stdout",
          "text": [
            "\r[*********************100%***********************]  1 of 1 completed\n"
          ]
        }
      ]
    },
    {
      "cell_type": "code",
      "source": [
        "data_for_testing['Date']=data_for_testing['Date'].map(dt.datetime.toordinal)"
      ],
      "metadata": {
        "id": "Nd244nlM4H30"
      },
      "execution_count": 580,
      "outputs": []
    },
    {
      "cell_type": "code",
      "source": [
        "data_for_testing['close_2%']=np.abs(data_for_testing['Adj Close'].pct_change()*100).fillna(0)"
      ],
      "metadata": {
        "id": "aImxKJhs4H1c"
      },
      "execution_count": 581,
      "outputs": []
    },
    {
      "cell_type": "code",
      "source": [
        "test_data=pd.DataFrame(data=data_for_testing['close_2%'].values,columns=['sum'])"
      ],
      "metadata": {
        "id": "JWKgRLn74Hy4"
      },
      "execution_count": 582,
      "outputs": []
    },
    {
      "cell_type": "code",
      "source": [
        "data_for_testing['cumsum']=0"
      ],
      "metadata": {
        "id": "fTi4mrLt4Hxk"
      },
      "execution_count": 583,
      "outputs": []
    },
    {
      "cell_type": "code",
      "source": [
        "for index , val in enumerate(data_for_testing['close_2%']):\n",
        "  \n",
        "  if index==0:\n",
        "    data_for_testing.loc[index,'cumsum']=val\n",
        "  else:\n",
        "    if data_for_testing['cumsum'].iloc[index-1]>2:\n",
        "      data_for_testing.loc[index,'cumsum']=val\n",
        "    else:\n",
        "      data_for_testing.loc[index, 'cumsum']=val+data_for_testing['cumsum'].iloc[index-1]"
      ],
      "metadata": {
        "id": "h1B0J0434HuT"
      },
      "execution_count": 584,
      "outputs": []
    },
    {
      "cell_type": "code",
      "source": [
        "data_for_testing['diff']=data_for_testing['close_2%']-data_for_testing['cumsum']"
      ],
      "metadata": {
        "id": "SoKpvk_N4Hrk"
      },
      "execution_count": 585,
      "outputs": []
    },
    {
      "cell_type": "code",
      "source": [
        "final_test_data=data_for_testing.iloc[data_for_testing[data_for_testing['diff']==0].index-1][1:]"
      ],
      "metadata": {
        "id": "HtnBXYf_4HpS"
      },
      "execution_count": 586,
      "outputs": []
    },
    {
      "cell_type": "code",
      "source": [
        "final_test_data.ta.macd(append=True)\n",
        "final_test_data.ta.vortex(append=True)\n",
        "final_test_data.ta.aroon(append=True)\n",
        "final_test_data.ta.mom(append=True)\n",
        "final_test_data.ta.stdev(append=True)\n",
        "final_test_data.ta.linreg(append=True)\n",
        "final_test_data['spread']=final_test_data['LR_14']-final_test_data['close']\n",
        "print()"
      ],
      "metadata": {
        "colab": {
          "base_uri": "https://localhost:8080/"
        },
        "id": "On6PwpVd4Hmr",
        "outputId": "2209cacc-0203-45aa-e8e9-201d3d0da56c"
      },
      "execution_count": 587,
      "outputs": [
        {
          "output_type": "stream",
          "name": "stdout",
          "text": [
            "\n"
          ]
        }
      ]
    },
    {
      "cell_type": "code",
      "source": [
        "final_test_data['Signal_Flag'] = final_test_data['close'].transform(lambda x : np.sign(x.diff(days_out)))"
      ],
      "metadata": {
        "id": "eJ9WqXE74HkV"
      },
      "execution_count": 588,
      "outputs": []
    },
    {
      "cell_type": "code",
      "source": [
        "final_test_data=final_test_data.dropna()"
      ],
      "metadata": {
        "id": "EaXiW_Zz4Hhu"
      },
      "execution_count": 589,
      "outputs": []
    },
    {
      "cell_type": "code",
      "source": [
        "predict=rand_frst_clf.predict(final_test_data[features])"
      ],
      "metadata": {
        "id": "fYuCqwKc4HfE"
      },
      "execution_count": 590,
      "outputs": []
    },
    {
      "cell_type": "code",
      "source": [
        "timeseries=pd.concat([final_test_data['adj_close'].dropna()[-len(predict):].reset_index(),pd.Series(predict)],axis=1)"
      ],
      "metadata": {
        "id": "SCxhFj6L4Hch"
      },
      "execution_count": 591,
      "outputs": []
    },
    {
      "cell_type": "code",
      "source": [
        "timeseries.columns=['index','adj_close','predict']"
      ],
      "metadata": {
        "id": "JDdQ6paa67Yp"
      },
      "execution_count": 592,
      "outputs": []
    },
    {
      "cell_type": "code",
      "source": [
        "fig, ax = plt.subplots(figsize=(10,5),sharex=True)\n",
        "ax.plot(timeseries.loc[:, :].index, timeseries.loc[:, 'adj_close'], label='Nifty',color='g',marker='o')\n",
        "ax2=ax.twinx()\n",
        "ax2.plot(timeseries.loc[:, :].index, timeseries.loc[:, 'predict'], label='Prediction',color='r',linewidth=1)\n",
        "plt.show()"
      ],
      "metadata": {
        "colab": {
          "base_uri": "https://localhost:8080/",
          "height": 320
        },
        "id": "Dkl1pFkZ67UV",
        "outputId": "8cdf009d-2cdc-4a43-c32a-0610cff5daf3"
      },
      "execution_count": 593,
      "outputs": [
        {
          "output_type": "display_data",
          "data": {
            "image/png": "[encoded data removed]",
            "text/plain": [
              "<Figure size 720x360 with 2 Axes>"
            ]
          },
          "metadata": {
            "needs_background": "light"
          }
        }
      ]
    },
    {
      "cell_type": "code",
      "source": [
        ""
      ],
      "metadata": {
        "id": "fjlmkgXM67Rq"
      },
      "execution_count": 593,
      "outputs": []
    }
  ]
}