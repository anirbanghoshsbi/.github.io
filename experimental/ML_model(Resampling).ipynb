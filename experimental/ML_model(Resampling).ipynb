{
  "nbformat": 4,
  "nbformat_minor": 0,
  "metadata": {
    "colab": {
      "name": "ML_model(Resampling).ipynb",
      "provenance": [],
      "collapsed_sections": [],
      "authorship_tag": "ABX9TyNH6jBmXGnuWXiAuoApiNXr",
      "include_colab_link": true
    },
    "kernelspec": {
      "name": "python3",
      "display_name": "Python 3"
    },
    "language_info": {
      "name": "python"
    }
  },
  "cells": [
    {
      "cell_type": "markdown",
      "metadata": {
        "id": "view-in-github",
        "colab_type": "text"
      },
      "source": [
        "<a href=\"https://colab.research.google.com/github/anirbanghoshsbi/.github.io/blob/master/experimental/ML_model(Resampling).ipynb\" target=\"_parent\"><img src=\"https://colab.research.google.com/assets/colab-badge.svg\" alt=\"Open In Colab\"/></a>"
      ]
    },
    {
      "cell_type": "code",
      "execution_count": null,
      "metadata": {
        "id": "nyWZtJU9AXIH"
      },
      "outputs": [],
      "source": [
        "!pip install yfinance\n",
        "!pip install pandas-ta==0.2.45b"
      ]
    },
    {
      "cell_type": "code",
      "source": [
        "class BlockingTimeSeriesSplit():\n",
        "    def __init__(self, n_splits):\n",
        "        self.n_splits = n_splits\n",
        "    \n",
        "    def get_n_splits(self, X, y, groups):\n",
        "        return self.n_splits\n",
        "    \n",
        "    def split(self, X, y=None, groups=None):\n",
        "        n_samples = len(X)\n",
        "        k_fold_size = n_samples // self.n_splits\n",
        "        indices = np.arange(n_samples)\n",
        "\n",
        "        margin = 0\n",
        "        for i in range(self.n_splits):\n",
        "            start = i * k_fold_size\n",
        "            stop = start + k_fold_size\n",
        "            mid = int(0.8 * (stop - start)) + start\n",
        "            yield indices[start: mid], indices[mid + margin: stop]"
      ],
      "metadata": {
        "id": "jyllF7hO1cHz"
      },
      "execution_count": 2,
      "outputs": []
    },
    {
      "cell_type": "code",
      "source": [
        "import yfinance as yf\n",
        "import numpy as np\n",
        "import pandas as pd\n",
        "import pandas_ta as ta\n",
        "from sklearn.ensemble import RandomForestClassifier\n",
        "from sklearn.metrics import accuracy_score, classification_report,f1_score\n",
        "import datetime as dt"
      ],
      "metadata": {
        "id": "_tIlkjtcAfqh"
      },
      "execution_count": 3,
      "outputs": []
    },
    {
      "cell_type": "code",
      "source": [
        "tickr='^nsei'\n",
        "days_out=14\n",
        "p_movement=2"
      ],
      "metadata": {
        "id": "u_GPj9hA8OI4"
      },
      "execution_count": 288,
      "outputs": []
    },
    {
      "cell_type": "code",
      "source": [
        "nifty = yf.download(tickr,start='2016-01-01',end='2020-12-31')"
      ],
      "metadata": {
        "colab": {
          "base_uri": "https://localhost:8080/"
        },
        "id": "13xKShZ0ApyT",
        "outputId": "426b2d8f-3f0b-494c-8f28-44c8df9c5d78"
      },
      "execution_count": 343,
      "outputs": [
        {
          "output_type": "stream",
          "name": "stdout",
          "text": [
            "\r[*********************100%***********************]  1 of 1 completed\n"
          ]
        }
      ]
    },
    {
      "cell_type": "code",
      "source": [
        "nifty.tail(2)"
      ],
      "metadata": {
        "colab": {
          "base_uri": "https://localhost:8080/",
          "height": 143
        },
        "id": "CAsLeTUQA9pr",
        "outputId": "5d090c2f-93b4-4052-994c-8886c29f0e8f"
      },
      "execution_count": 344,
      "outputs": [
        {
          "output_type": "execute_result",
          "data": {
            "text/html": [
              "\n",
              "  <div id=\"df-f0486813-2807-48d3-bda6-c6313117d262\">\n",
              "    <div class=\"colab-df-container\">\n",
              "      <div>\n",
              "<style scoped>\n",
              "    .dataframe tbody tr th:only-of-type {\n",
              "        vertical-align: middle;\n",
              "    }\n",
              "\n",
              "    .dataframe tbody tr th {\n",
              "        vertical-align: top;\n",
              "    }\n",
              "\n",
              "    .dataframe thead th {\n",
              "        text-align: right;\n",
              "    }\n",
              "</style>\n",
              "<table border=\"1\" class=\"dataframe\">\n",
              "  <thead>\n",
              "    <tr style=\"text-align: right;\">\n",
              "      <th></th>\n",
              "      <th>Open</th>\n",
              "      <th>High</th>\n",
              "      <th>Low</th>\n",
              "      <th>Close</th>\n",
              "      <th>Adj Close</th>\n",
              "      <th>Volume</th>\n",
              "    </tr>\n",
              "    <tr>\n",
              "      <th>Date</th>\n",
              "      <th></th>\n",
              "      <th></th>\n",
              "      <th></th>\n",
              "      <th></th>\n",
              "      <th></th>\n",
              "      <th></th>\n",
              "    </tr>\n",
              "  </thead>\n",
              "  <tbody>\n",
              "    <tr>\n",
              "      <th>2020-12-29</th>\n",
              "      <td>13910.349609</td>\n",
              "      <td>13967.599609</td>\n",
              "      <td>13859.900391</td>\n",
              "      <td>13932.599609</td>\n",
              "      <td>13932.599609</td>\n",
              "      <td>439600</td>\n",
              "    </tr>\n",
              "    <tr>\n",
              "      <th>2020-12-30</th>\n",
              "      <td>13980.900391</td>\n",
              "      <td>13997.000000</td>\n",
              "      <td>13864.950195</td>\n",
              "      <td>13981.950195</td>\n",
              "      <td>13981.950195</td>\n",
              "      <td>380700</td>\n",
              "    </tr>\n",
              "  </tbody>\n",
              "</table>\n",
              "</div>\n",
              "      <button class=\"colab-df-convert\" onclick=\"convertToInteractive('df-f0486813-2807-48d3-bda6-c6313117d262')\"\n",
              "              title=\"Convert this dataframe to an interactive table.\"\n",
              "              style=\"display:none;\">\n",
              "        \n",
              "  <svg xmlns=\"http://www.w3.org/2000/svg\" height=\"24px\"viewBox=\"0 0 24 24\"\n",
              "       width=\"24px\">\n",
              "    <path d=\"M0 0h24v24H0V0z\" fill=\"none\"/>\n",
              "    <path d=\"M18.56 5.44l.94 2.06.94-2.06 2.06-.94-2.06-.94-.94-2.06-.94 2.06-2.06.94zm-11 1L8.5 8.5l.94-2.06 2.06-.94-2.06-.94L8.5 2.5l-.94 2.06-2.06.94zm10 10l.94 2.06.94-2.06 2.06-.94-2.06-.94-.94-2.06-.94 2.06-2.06.94z\"/><path d=\"M17.41 7.96l-1.37-1.37c-.4-.4-.92-.59-1.43-.59-.52 0-1.04.2-1.43.59L10.3 9.45l-7.72 7.72c-.78.78-.78 2.05 0 2.83L4 21.41c.39.39.9.59 1.41.59.51 0 1.02-.2 1.41-.59l7.78-7.78 2.81-2.81c.8-.78.8-2.07 0-2.86zM5.41 20L4 18.59l7.72-7.72 1.47 1.35L5.41 20z\"/>\n",
              "  </svg>\n",
              "      </button>\n",
              "      \n",
              "  <style>\n",
              "    .colab-df-container {\n",
              "      display:flex;\n",
              "      flex-wrap:wrap;\n",
              "      gap: 12px;\n",
              "    }\n",
              "\n",
              "    .colab-df-convert {\n",
              "      background-color: #E8F0FE;\n",
              "      border: none;\n",
              "      border-radius: 50%;\n",
              "      cursor: pointer;\n",
              "      display: none;\n",
              "      fill: #1967D2;\n",
              "      height: 32px;\n",
              "      padding: 0 0 0 0;\n",
              "      width: 32px;\n",
              "    }\n",
              "\n",
              "    .colab-df-convert:hover {\n",
              "      background-color: #E2EBFA;\n",
              "      box-shadow: 0px 1px 2px rgba(60, 64, 67, 0.3), 0px 1px 3px 1px rgba(60, 64, 67, 0.15);\n",
              "      fill: #174EA6;\n",
              "    }\n",
              "\n",
              "    [theme=dark] .colab-df-convert {\n",
              "      background-color: #3B4455;\n",
              "      fill: #D2E3FC;\n",
              "    }\n",
              "\n",
              "    [theme=dark] .colab-df-convert:hover {\n",
              "      background-color: #434B5C;\n",
              "      box-shadow: 0px 1px 3px 1px rgba(0, 0, 0, 0.15);\n",
              "      filter: drop-shadow(0px 1px 2px rgba(0, 0, 0, 0.3));\n",
              "      fill: #FFFFFF;\n",
              "    }\n",
              "  </style>\n",
              "\n",
              "      <script>\n",
              "        const buttonEl =\n",
              "          document.querySelector('#df-f0486813-2807-48d3-bda6-c6313117d262 button.colab-df-convert');\n",
              "        buttonEl.style.display =\n",
              "          google.colab.kernel.accessAllowed ? 'block' : 'none';\n",
              "\n",
              "        async function convertToInteractive(key) {\n",
              "          const element = document.querySelector('#df-f0486813-2807-48d3-bda6-c6313117d262');\n",
              "          const dataTable =\n",
              "            await google.colab.kernel.invokeFunction('convertToInteractive',\n",
              "                                                     [key], {});\n",
              "          if (!dataTable) return;\n",
              "\n",
              "          const docLinkHtml = 'Like what you see? Visit the ' +\n",
              "            '<a target=\"_blank\" href=https://colab.research.google.com/notebooks/data_table.ipynb>data table notebook</a>'\n",
              "            + ' to learn more about interactive tables.';\n",
              "          element.innerHTML = '';\n",
              "          dataTable['output_type'] = 'display_data';\n",
              "          await google.colab.output.renderOutput(dataTable, element);\n",
              "          const docLink = document.createElement('div');\n",
              "          docLink.innerHTML = docLinkHtml;\n",
              "          element.appendChild(docLink);\n",
              "        }\n",
              "      </script>\n",
              "    </div>\n",
              "  </div>\n",
              "  "
            ],
            "text/plain": [
              "                    Open          High  ...     Adj Close  Volume\n",
              "Date                                    ...                      \n",
              "2020-12-29  13910.349609  13967.599609  ...  13932.599609  439600\n",
              "2020-12-30  13980.900391  13997.000000  ...  13981.950195  380700\n",
              "\n",
              "[2 rows x 6 columns]"
            ]
          },
          "metadata": {},
          "execution_count": 344
        }
      ]
    },
    {
      "cell_type": "code",
      "source": [
        "nifty['close_2%']=np.abs(nifty['Adj Close'].pct_change()*100).fillna(0)"
      ],
      "metadata": {
        "id": "uLq09QLRA_Bl"
      },
      "execution_count": 345,
      "outputs": []
    },
    {
      "cell_type": "code",
      "source": [
        "test=pd.DataFrame(data=nifty['close_2%'].values,columns=['sum'])"
      ],
      "metadata": {
        "id": "2EHfr-jNWMYo"
      },
      "execution_count": 346,
      "outputs": []
    },
    {
      "cell_type": "code",
      "source": [
        "nifty['cumsum']=0\n",
        "nifty=nifty.reset_index()"
      ],
      "metadata": {
        "id": "X1PppktGXYgu"
      },
      "execution_count": 347,
      "outputs": []
    },
    {
      "cell_type": "code",
      "source": [
        "for index , val in enumerate(nifty['close_2%']):\n",
        "  \n",
        "  if index==0:\n",
        "    nifty.loc[index,'cumsum']=val\n",
        "  else:\n",
        "    if nifty['cumsum'].iloc[index-1]>p_movement:\n",
        "      nifty.loc[index,'cumsum']=val\n",
        "    else:\n",
        "      nifty.loc[index, 'cumsum']=val+nifty['cumsum'].iloc[index-1]    "
      ],
      "metadata": {
        "id": "ySTggEWYWHTC"
      },
      "execution_count": 348,
      "outputs": []
    },
    {
      "cell_type": "code",
      "source": [
        "#test_f=pd.DataFrame({'Date':nifty.index, 'sum':test['cumsum'].values})\n",
        "#pd.DataFrame({'Date':df.index,'spread':(df['Adj Close'].values - mean)})"
      ],
      "metadata": {
        "id": "OZPoMevcXJNe"
      },
      "execution_count": 349,
      "outputs": []
    },
    {
      "cell_type": "code",
      "source": [
        "nifty['diff']=nifty['close_2%']-nifty['cumsum']"
      ],
      "metadata": {
        "id": "EDsjk1cYXJz-"
      },
      "execution_count": 350,
      "outputs": []
    },
    {
      "cell_type": "code",
      "source": [
        "nifty[['Close','close_2%','cumsum','diff']]"
      ],
      "metadata": {
        "id": "6uVeHwEqcFrM",
        "outputId": "38201122-4454-4669-9b07-2010fd9ac6c6",
        "colab": {
          "base_uri": "https://localhost:8080/",
          "height": 424
        }
      },
      "execution_count": 351,
      "outputs": [
        {
          "output_type": "execute_result",
          "data": {
            "text/html": [
              "\n",
              "  <div id=\"df-7de39227-b33e-4ac7-bdf6-5f4886f18ded\">\n",
              "    <div class=\"colab-df-container\">\n",
              "      <div>\n",
              "<style scoped>\n",
              "    .dataframe tbody tr th:only-of-type {\n",
              "        vertical-align: middle;\n",
              "    }\n",
              "\n",
              "    .dataframe tbody tr th {\n",
              "        vertical-align: top;\n",
              "    }\n",
              "\n",
              "    .dataframe thead th {\n",
              "        text-align: right;\n",
              "    }\n",
              "</style>\n",
              "<table border=\"1\" class=\"dataframe\">\n",
              "  <thead>\n",
              "    <tr style=\"text-align: right;\">\n",
              "      <th></th>\n",
              "      <th>Close</th>\n",
              "      <th>close_2%</th>\n",
              "      <th>cumsum</th>\n",
              "      <th>diff</th>\n",
              "    </tr>\n",
              "  </thead>\n",
              "  <tbody>\n",
              "    <tr>\n",
              "      <th>0</th>\n",
              "      <td>7791.299805</td>\n",
              "      <td>0.000000</td>\n",
              "      <td>0.000000</td>\n",
              "      <td>0.000000</td>\n",
              "    </tr>\n",
              "    <tr>\n",
              "      <th>1</th>\n",
              "      <td>7784.649902</td>\n",
              "      <td>0.085350</td>\n",
              "      <td>0.085350</td>\n",
              "      <td>0.000000</td>\n",
              "    </tr>\n",
              "    <tr>\n",
              "      <th>2</th>\n",
              "      <td>7741.000000</td>\n",
              "      <td>0.560718</td>\n",
              "      <td>0.646068</td>\n",
              "      <td>-0.085350</td>\n",
              "    </tr>\n",
              "    <tr>\n",
              "      <th>3</th>\n",
              "      <td>7568.299805</td>\n",
              "      <td>2.230980</td>\n",
              "      <td>2.877048</td>\n",
              "      <td>-0.646068</td>\n",
              "    </tr>\n",
              "    <tr>\n",
              "      <th>4</th>\n",
              "      <td>7601.350098</td>\n",
              "      <td>0.436694</td>\n",
              "      <td>0.436694</td>\n",
              "      <td>0.000000</td>\n",
              "    </tr>\n",
              "    <tr>\n",
              "      <th>...</th>\n",
              "      <td>...</td>\n",
              "      <td>...</td>\n",
              "      <td>...</td>\n",
              "      <td>...</td>\n",
              "    </tr>\n",
              "    <tr>\n",
              "      <th>1222</th>\n",
              "      <td>13601.099609</td>\n",
              "      <td>1.001016</td>\n",
              "      <td>2.035644</td>\n",
              "      <td>-1.034628</td>\n",
              "    </tr>\n",
              "    <tr>\n",
              "      <th>1223</th>\n",
              "      <td>13749.250000</td>\n",
              "      <td>1.089253</td>\n",
              "      <td>1.089253</td>\n",
              "      <td>0.000000</td>\n",
              "    </tr>\n",
              "    <tr>\n",
              "      <th>1224</th>\n",
              "      <td>13873.200195</td>\n",
              "      <td>0.901505</td>\n",
              "      <td>1.990758</td>\n",
              "      <td>-1.089253</td>\n",
              "    </tr>\n",
              "    <tr>\n",
              "      <th>1225</th>\n",
              "      <td>13932.599609</td>\n",
              "      <td>0.428159</td>\n",
              "      <td>2.418918</td>\n",
              "      <td>-1.990758</td>\n",
              "    </tr>\n",
              "    <tr>\n",
              "      <th>1226</th>\n",
              "      <td>13981.950195</td>\n",
              "      <td>0.354209</td>\n",
              "      <td>0.354209</td>\n",
              "      <td>0.000000</td>\n",
              "    </tr>\n",
              "  </tbody>\n",
              "</table>\n",
              "<p>1227 rows × 4 columns</p>\n",
              "</div>\n",
              "      <button class=\"colab-df-convert\" onclick=\"convertToInteractive('df-7de39227-b33e-4ac7-bdf6-5f4886f18ded')\"\n",
              "              title=\"Convert this dataframe to an interactive table.\"\n",
              "              style=\"display:none;\">\n",
              "        \n",
              "  <svg xmlns=\"http://www.w3.org/2000/svg\" height=\"24px\"viewBox=\"0 0 24 24\"\n",
              "       width=\"24px\">\n",
              "    <path d=\"M0 0h24v24H0V0z\" fill=\"none\"/>\n",
              "    <path d=\"M18.56 5.44l.94 2.06.94-2.06 2.06-.94-2.06-.94-.94-2.06-.94 2.06-2.06.94zm-11 1L8.5 8.5l.94-2.06 2.06-.94-2.06-.94L8.5 2.5l-.94 2.06-2.06.94zm10 10l.94 2.06.94-2.06 2.06-.94-2.06-.94-.94-2.06-.94 2.06-2.06.94z\"/><path d=\"M17.41 7.96l-1.37-1.37c-.4-.4-.92-.59-1.43-.59-.52 0-1.04.2-1.43.59L10.3 9.45l-7.72 7.72c-.78.78-.78 2.05 0 2.83L4 21.41c.39.39.9.59 1.41.59.51 0 1.02-.2 1.41-.59l7.78-7.78 2.81-2.81c.8-.78.8-2.07 0-2.86zM5.41 20L4 18.59l7.72-7.72 1.47 1.35L5.41 20z\"/>\n",
              "  </svg>\n",
              "      </button>\n",
              "      \n",
              "  <style>\n",
              "    .colab-df-container {\n",
              "      display:flex;\n",
              "      flex-wrap:wrap;\n",
              "      gap: 12px;\n",
              "    }\n",
              "\n",
              "    .colab-df-convert {\n",
              "      background-color: #E8F0FE;\n",
              "      border: none;\n",
              "      border-radius: 50%;\n",
              "      cursor: pointer;\n",
              "      display: none;\n",
              "      fill: #1967D2;\n",
              "      height: 32px;\n",
              "      padding: 0 0 0 0;\n",
              "      width: 32px;\n",
              "    }\n",
              "\n",
              "    .colab-df-convert:hover {\n",
              "      background-color: #E2EBFA;\n",
              "      box-shadow: 0px 1px 2px rgba(60, 64, 67, 0.3), 0px 1px 3px 1px rgba(60, 64, 67, 0.15);\n",
              "      fill: #174EA6;\n",
              "    }\n",
              "\n",
              "    [theme=dark] .colab-df-convert {\n",
              "      background-color: #3B4455;\n",
              "      fill: #D2E3FC;\n",
              "    }\n",
              "\n",
              "    [theme=dark] .colab-df-convert:hover {\n",
              "      background-color: #434B5C;\n",
              "      box-shadow: 0px 1px 3px 1px rgba(0, 0, 0, 0.15);\n",
              "      filter: drop-shadow(0px 1px 2px rgba(0, 0, 0, 0.3));\n",
              "      fill: #FFFFFF;\n",
              "    }\n",
              "  </style>\n",
              "\n",
              "      <script>\n",
              "        const buttonEl =\n",
              "          document.querySelector('#df-7de39227-b33e-4ac7-bdf6-5f4886f18ded button.colab-df-convert');\n",
              "        buttonEl.style.display =\n",
              "          google.colab.kernel.accessAllowed ? 'block' : 'none';\n",
              "\n",
              "        async function convertToInteractive(key) {\n",
              "          const element = document.querySelector('#df-7de39227-b33e-4ac7-bdf6-5f4886f18ded');\n",
              "          const dataTable =\n",
              "            await google.colab.kernel.invokeFunction('convertToInteractive',\n",
              "                                                     [key], {});\n",
              "          if (!dataTable) return;\n",
              "\n",
              "          const docLinkHtml = 'Like what you see? Visit the ' +\n",
              "            '<a target=\"_blank\" href=https://colab.research.google.com/notebooks/data_table.ipynb>data table notebook</a>'\n",
              "            + ' to learn more about interactive tables.';\n",
              "          element.innerHTML = '';\n",
              "          dataTable['output_type'] = 'display_data';\n",
              "          await google.colab.output.renderOutput(dataTable, element);\n",
              "          const docLink = document.createElement('div');\n",
              "          docLink.innerHTML = docLinkHtml;\n",
              "          element.appendChild(docLink);\n",
              "        }\n",
              "      </script>\n",
              "    </div>\n",
              "  </div>\n",
              "  "
            ],
            "text/plain": [
              "             Close  close_2%    cumsum      diff\n",
              "0      7791.299805  0.000000  0.000000  0.000000\n",
              "1      7784.649902  0.085350  0.085350  0.000000\n",
              "2      7741.000000  0.560718  0.646068 -0.085350\n",
              "3      7568.299805  2.230980  2.877048 -0.646068\n",
              "4      7601.350098  0.436694  0.436694  0.000000\n",
              "...            ...       ...       ...       ...\n",
              "1222  13601.099609  1.001016  2.035644 -1.034628\n",
              "1223  13749.250000  1.089253  1.089253  0.000000\n",
              "1224  13873.200195  0.901505  1.990758 -1.089253\n",
              "1225  13932.599609  0.428159  2.418918 -1.990758\n",
              "1226  13981.950195  0.354209  0.354209  0.000000\n",
              "\n",
              "[1227 rows x 4 columns]"
            ]
          },
          "metadata": {},
          "execution_count": 351
        }
      ]
    },
    {
      "cell_type": "code",
      "source": [
        "final_data=nifty.iloc[nifty[nifty['diff']==0].index-1][1:]"
      ],
      "metadata": {
        "id": "Gk40XbTfbg0s"
      },
      "execution_count": 352,
      "outputs": []
    },
    {
      "cell_type": "code",
      "source": [
        "final_data['Signal_Flag'] = final_data['Close'].transform(lambda x : np.sign(x.diff(days_out)))"
      ],
      "metadata": {
        "id": "_QO22nWAcFDF"
      },
      "execution_count": 353,
      "outputs": []
    },
    {
      "cell_type": "code",
      "source": [
        "final_data=final_data.dropna()"
      ],
      "metadata": {
        "id": "NXmvEcXJdA-0"
      },
      "execution_count": 354,
      "outputs": []
    },
    {
      "cell_type": "code",
      "source": [
        "final_data.Signal_Flag.value_counts()"
      ],
      "metadata": {
        "id": "7QsDWXD3dJPE",
        "outputId": "26ca13e2-43cc-4fd8-b7f7-e148ef464380",
        "colab": {
          "base_uri": "https://localhost:8080/"
        }
      },
      "execution_count": 355,
      "outputs": [
        {
          "output_type": "execute_result",
          "data": {
            "text/plain": [
              " 1.0    234\n",
              "-1.0     83\n",
              "Name: Signal_Flag, dtype: int64"
            ]
          },
          "metadata": {},
          "execution_count": 355
        }
      ]
    },
    {
      "cell_type": "markdown",
      "source": [
        "# Features Creation "
      ],
      "metadata": {
        "id": "X-coQFaUddlN"
      }
    },
    {
      "cell_type": "code",
      "source": [
        "final_data=final_data.reset_index(drop=True)"
      ],
      "metadata": {
        "id": "1T208hxS5H_S"
      },
      "execution_count": 356,
      "outputs": []
    },
    {
      "cell_type": "code",
      "source": [
        "final_data.ta.macd(append=True)\n",
        "final_data.ta.vortex(append=True)\n",
        "final_data.ta.aroon(append=True)\n",
        "final_data.ta.mom(append=True)\n",
        "final_data.ta.stdev(append=True)\n",
        "final_data.ta.linreg(append=True)\n",
        "final_data['spread']=final_data['LR_14']-final_data['close']\n",
        "print()"
      ],
      "metadata": {
        "id": "MO1crHsvdVGE",
        "colab": {
          "base_uri": "https://localhost:8080/"
        },
        "outputId": "ed22eda5-0d3a-4c07-f356-f2e6034f7c8d"
      },
      "execution_count": 357,
      "outputs": [
        {
          "output_type": "stream",
          "name": "stdout",
          "text": [
            "\n"
          ]
        }
      ]
    },
    {
      "cell_type": "code",
      "source": [
        "final_data['date']=final_data['date'].map(dt.datetime.toordinal)"
      ],
      "metadata": {
        "id": "hBannMF82-sy"
      },
      "execution_count": 358,
      "outputs": []
    },
    {
      "cell_type": "code",
      "source": [
        "final_data=final_data.dropna()"
      ],
      "metadata": {
        "id": "SZ6ikcFU5Fyl"
      },
      "execution_count": 359,
      "outputs": []
    },
    {
      "cell_type": "code",
      "source": [
        "features=final_data.columns.tolist()"
      ],
      "metadata": {
        "id": "SS7PfRTY1pvL"
      },
      "execution_count": 360,
      "outputs": []
    },
    {
      "cell_type": "code",
      "source": [
        "features=[feats for feats in features if feats not in ['Signal_Flag']]"
      ],
      "metadata": {
        "id": "fUA0QQj-2E_V"
      },
      "execution_count": 361,
      "outputs": []
    },
    {
      "cell_type": "code",
      "source": [
        "X=final_data[features]\n",
        "y=final_data['Signal_Flag']"
      ],
      "metadata": {
        "id": "icv9GduG2dVq"
      },
      "execution_count": 362,
      "outputs": []
    },
    {
      "cell_type": "code",
      "source": [
        "chk='Timeseries'"
      ],
      "metadata": {
        "id": "9ZE24SPe2k3i"
      },
      "execution_count": 363,
      "outputs": []
    },
    {
      "cell_type": "markdown",
      "source": [
        "# and Modelling Part remaining"
      ],
      "metadata": {
        "id": "dE0P3YBD69Bf"
      }
    },
    {
      "cell_type": "code",
      "source": [
        "from sklearn.model_selection import TimeSeriesSplit\n",
        "\n",
        "if chk=='Block':\n",
        "  tscv = BlockingTimeSeriesSplit(n_splits=10)\n",
        "\n",
        "  for fold, (train_index, test_index) in enumerate(tscv.split(X)):\n",
        "      print(\"Fold: {}\".format(fold))\n",
        "      X_train, X_test = X.iloc[train_index], X.iloc[test_index]\n",
        "      y_train, y_test = y.iloc[train_index], y.iloc[test_index]\n",
        "elif chk=='Timeseries':\n",
        "  tscv = TimeSeriesSplit(n_splits=15)\n",
        "  for fold, (train_index, test_index) in enumerate(tscv.split(X)):\n",
        "      print(\"Fold: {}\".format(fold))\n",
        "      X_train, X_test = X.iloc[train_index], X.iloc[test_index]\n",
        "      y_train, y_test = y.iloc[train_index], y.iloc[test_index]"
      ],
      "metadata": {
        "id": "H1I_Bn8z6zSd",
        "colab": {
          "base_uri": "https://localhost:8080/"
        },
        "outputId": "7cfafdb1-699e-4d49-9e7e-510342c9da91"
      },
      "execution_count": 364,
      "outputs": [
        {
          "output_type": "stream",
          "name": "stdout",
          "text": [
            "Fold: 0\n",
            "Fold: 1\n",
            "Fold: 2\n",
            "Fold: 3\n",
            "Fold: 4\n",
            "Fold: 5\n",
            "Fold: 6\n",
            "Fold: 7\n",
            "Fold: 8\n",
            "Fold: 9\n",
            "Fold: 10\n",
            "Fold: 11\n",
            "Fold: 12\n",
            "Fold: 13\n",
            "Fold: 14\n"
          ]
        }
      ]
    },
    {
      "cell_type": "code",
      "source": [
        "for train_index, test_index in tscv.split(X,y):\n",
        "    X_train, X_test = X.iloc[train_index], X.iloc[test_index]\n",
        "    y_train, y_test = y.iloc[train_index], y.iloc[test_index]"
      ],
      "metadata": {
        "id": "JrpwLjvB2pmM"
      },
      "execution_count": 365,
      "outputs": []
    },
    {
      "cell_type": "code",
      "source": [
        "rand_frst_clf = RandomForestClassifier(n_estimators =220,max_depth=35,min_samples_leaf=14,max_features = \"auto\",min_samples_split=40, criterion = \"gini\", bootstrap=True,random_state = 42)\n"
      ],
      "metadata": {
        "id": "oETkaFhl2pgq"
      },
      "execution_count": 366,
      "outputs": []
    },
    {
      "cell_type": "code",
      "source": [
        "# Fit the data to the model\n",
        "rand_frst_clf.fit(X_train, y_train)"
      ],
      "metadata": {
        "colab": {
          "base_uri": "https://localhost:8080/"
        },
        "id": "xSSGL2su2pdK",
        "outputId": "6b4a7c40-04fd-47c9-f7fb-df0b8fa9074c"
      },
      "execution_count": 367,
      "outputs": [
        {
          "output_type": "execute_result",
          "data": {
            "text/plain": [
              "RandomForestClassifier(max_depth=35, min_samples_leaf=14, min_samples_split=40,\n",
              "                       n_estimators=220, random_state=42)"
            ]
          },
          "metadata": {},
          "execution_count": 367
        }
      ]
    },
    {
      "cell_type": "code",
      "source": [
        "feature_imp = pd.Series(rand_frst_clf.feature_importances_, index=X_train.columns).sort_values(ascending=False)\n",
        "feature_imp*100\n",
        "feats=X_train.columns\n",
        "feature_imp"
      ],
      "metadata": {
        "colab": {
          "base_uri": "https://localhost:8080/"
        },
        "id": "0MraqBNw3dGK",
        "outputId": "8d79253c-e19c-4641-9da2-a813dc5df207"
      },
      "execution_count": 368,
      "outputs": [
        {
          "output_type": "execute_result",
          "data": {
            "text/plain": [
              "AROONU_14        0.201239\n",
              "VTXM_14          0.174398\n",
              "VTXP_14          0.156060\n",
              "AROONOSC_14      0.134193\n",
              "AROOND_14        0.088388\n",
              "MACDh_12_26_9    0.087642\n",
              "MOM_10           0.067953\n",
              "MACD_12_26_9     0.029999\n",
              "diff             0.009180\n",
              "open             0.008696\n",
              "LR_14            0.007360\n",
              "MACDs_12_26_9    0.007153\n",
              "low              0.006078\n",
              "close            0.004980\n",
              "high             0.004276\n",
              "adj_close        0.004156\n",
              "close_2%         0.003038\n",
              "spread           0.002755\n",
              "date             0.001147\n",
              "cumsum           0.000494\n",
              "STDEV_30         0.000443\n",
              "volume           0.000373\n",
              "dtype: float64"
            ]
          },
          "metadata": {},
          "execution_count": 368
        }
      ]
    },
    {
      "cell_type": "code",
      "source": [
        "#y_pd= rand_frst_clf.predict(X_train)"
      ],
      "metadata": {
        "id": "re5OjFl53nGP"
      },
      "execution_count": 369,
      "outputs": []
    },
    {
      "cell_type": "code",
      "source": [
        "# Make predictions\n",
        "y_pred = rand_frst_clf.predict(X_test)"
      ],
      "metadata": {
        "id": "5QZ3_g1K3nD8"
      },
      "execution_count": 370,
      "outputs": []
    },
    {
      "cell_type": "code",
      "source": [
        "timeseries=pd.concat([X_test['adj_close'].reset_index(),pd.Series(y_pred)],axis=1)"
      ],
      "metadata": {
        "id": "ZaGp7J813nBM"
      },
      "execution_count": 371,
      "outputs": []
    },
    {
      "cell_type": "code",
      "source": [
        "timeseries.columns=['index','close','prediction']"
      ],
      "metadata": {
        "id": "sXlmjz5E3m-Z"
      },
      "execution_count": 372,
      "outputs": []
    },
    {
      "cell_type": "code",
      "source": [
        "import matplotlib.pyplot as plt\n",
        "fig, ax = plt.subplots(2,1, figsize=(15,9),sharex=True)\n",
        "ax[0].plot(timeseries.loc[:, :].index, timeseries.loc[:, 'close'], label='close')\n",
        "ax[1].plot(timeseries.loc[:, :].index, timeseries.loc[:, 'prediction'], label='Nifty')\n",
        "ax[0].legend()\n",
        "ax[1].legend()\n",
        "plt.show()"
      ],
      "metadata": {
        "colab": {
          "base_uri": "https://localhost:8080/",
          "height": 501
        },
        "id": "mNP0CkfO34Sh",
        "outputId": "7a2fb690-9565-470a-c6b9-55e5494e330c"
      },
      "execution_count": 373,
      "outputs": [
        {
          "output_type": "display_data",
          "data": {
            "image/png": "[encoded data removed]",
            "text/plain": [
              "<Figure size 1080x648 with 2 Axes>"
            ]
          },
          "metadata": {
            "needs_background": "light"
          }
        }
      ]
    },
    {
      "cell_type": "code",
      "source": [
        "data_for_testing=yf.download(tickr,start='2019-01-01',parse_dates=['Date']).reset_index()"
      ],
      "metadata": {
        "colab": {
          "base_uri": "https://localhost:8080/"
        },
        "id": "sDpQe92g4H6L",
        "outputId": "da10d96d-bc38-445c-f5f4-d360b25535cb"
      },
      "execution_count": 374,
      "outputs": [
        {
          "output_type": "stream",
          "name": "stdout",
          "text": [
            "\r[*********************100%***********************]  1 of 1 completed\n"
          ]
        }
      ]
    },
    {
      "cell_type": "code",
      "source": [
        "data_for_testing['Date']=data_for_testing['Date'].map(dt.datetime.toordinal)"
      ],
      "metadata": {
        "id": "Nd244nlM4H30"
      },
      "execution_count": 375,
      "outputs": []
    },
    {
      "cell_type": "code",
      "source": [
        "data_for_testing['close_2%']=np.abs(data_for_testing['Adj Close'].pct_change()*100).fillna(0)"
      ],
      "metadata": {
        "id": "aImxKJhs4H1c"
      },
      "execution_count": 376,
      "outputs": []
    },
    {
      "cell_type": "code",
      "source": [
        "test_data=pd.DataFrame(data=data_for_testing['close_2%'].values,columns=['sum'])"
      ],
      "metadata": {
        "id": "JWKgRLn74Hy4"
      },
      "execution_count": 377,
      "outputs": []
    },
    {
      "cell_type": "code",
      "source": [
        "data_for_testing['cumsum']=0"
      ],
      "metadata": {
        "id": "fTi4mrLt4Hxk"
      },
      "execution_count": 378,
      "outputs": []
    },
    {
      "cell_type": "code",
      "source": [
        "for index , val in enumerate(data_for_testing['close_2%']):\n",
        "  \n",
        "  if index==0:\n",
        "    data_for_testing.loc[index,'cumsum']=val\n",
        "  else:\n",
        "    if data_for_testing['cumsum'].iloc[index-1]>p_movement:\n",
        "      data_for_testing.loc[index,'cumsum']=val\n",
        "    else:\n",
        "      data_for_testing.loc[index, 'cumsum']=val+data_for_testing['cumsum'].iloc[index-1]"
      ],
      "metadata": {
        "id": "h1B0J0434HuT"
      },
      "execution_count": 379,
      "outputs": []
    },
    {
      "cell_type": "code",
      "source": [
        "data_for_testing['diff']=data_for_testing['close_2%']-data_for_testing['cumsum']"
      ],
      "metadata": {
        "id": "SoKpvk_N4Hrk"
      },
      "execution_count": 380,
      "outputs": []
    },
    {
      "cell_type": "code",
      "source": [
        "final_test_data=data_for_testing.iloc[data_for_testing[data_for_testing['diff']==0].index-1][1:]"
      ],
      "metadata": {
        "id": "HtnBXYf_4HpS"
      },
      "execution_count": 381,
      "outputs": []
    },
    {
      "cell_type": "code",
      "source": [
        "final_test_data.ta.macd(append=True)\n",
        "final_test_data.ta.vortex(append=True)\n",
        "final_test_data.ta.aroon(append=True)\n",
        "final_test_data.ta.mom(append=True)\n",
        "final_test_data.ta.stdev(append=True)\n",
        "final_test_data.ta.linreg(append=True)\n",
        "final_test_data['spread']=final_test_data['LR_14']-final_test_data['close']\n",
        "print()"
      ],
      "metadata": {
        "colab": {
          "base_uri": "https://localhost:8080/"
        },
        "id": "On6PwpVd4Hmr",
        "outputId": "e93309cb-0604-4ce7-f5d0-4a27e376bba6"
      },
      "execution_count": 382,
      "outputs": [
        {
          "output_type": "stream",
          "name": "stdout",
          "text": [
            "\n"
          ]
        }
      ]
    },
    {
      "cell_type": "code",
      "source": [
        "final_test_data['Signal_Flag'] = final_test_data['close'].transform(lambda x : np.sign(x.diff(days_out)))"
      ],
      "metadata": {
        "id": "eJ9WqXE74HkV"
      },
      "execution_count": 383,
      "outputs": []
    },
    {
      "cell_type": "code",
      "source": [
        "final_test_data=final_test_data.dropna()"
      ],
      "metadata": {
        "id": "EaXiW_Zz4Hhu"
      },
      "execution_count": 384,
      "outputs": []
    },
    {
      "cell_type": "code",
      "source": [
        "predict=rand_frst_clf.predict(final_test_data[features])"
      ],
      "metadata": {
        "id": "fYuCqwKc4HfE"
      },
      "execution_count": 385,
      "outputs": []
    },
    {
      "cell_type": "code",
      "source": [
        "timeseries=pd.concat([final_test_data['adj_close'].dropna()[-len(predict):].reset_index(),pd.Series(predict)],axis=1)"
      ],
      "metadata": {
        "id": "SCxhFj6L4Hch"
      },
      "execution_count": 386,
      "outputs": []
    },
    {
      "cell_type": "code",
      "source": [
        "timeseries.columns=['index','adj_close','predict']"
      ],
      "metadata": {
        "id": "JDdQ6paa67Yp"
      },
      "execution_count": 387,
      "outputs": []
    },
    {
      "cell_type": "code",
      "source": [
        "fig, ax = plt.subplots(figsize=(10,5),sharex=True)\n",
        "ax.plot(timeseries.loc[:, :].index, timeseries.loc[:, 'adj_close'], label='Nifty',color='g',marker='o')\n",
        "ax2=ax.twinx()\n",
        "ax2.plot(timeseries.loc[:, :].index, timeseries.loc[:, 'predict'], label='Prediction',color='r',linewidth=1)\n",
        "plt.show()"
      ],
      "metadata": {
        "colab": {
          "base_uri": "https://localhost:8080/",
          "height": 320
        },
        "id": "Dkl1pFkZ67UV",
        "outputId": "bffd61bf-6bef-4618-bc9a-69b270e9f859"
      },
      "execution_count": 388,
      "outputs": [
        {
          "output_type": "display_data",
          "data": {
            "image/png": "[encoded data removed]",
            "text/plain": [
              "<Figure size 720x360 with 2 Axes>"
            ]
          },
          "metadata": {
            "needs_background": "light"
          }
        }
      ]
    },
    {
      "cell_type": "code",
      "source": [
        "print('days out :', days_out)\n",
        "print('percentage movement :',str(p_movement) + ' %')"
      ],
      "metadata": {
        "id": "yMMhCevtiEt5",
        "outputId": "c7bd1982-959a-472e-85c7-b69daa270c02",
        "colab": {
          "base_uri": "https://localhost:8080/"
        }
      },
      "execution_count": 389,
      "outputs": [
        {
          "output_type": "stream",
          "name": "stdout",
          "text": [
            "days out : 14\n",
            "percentage movement : 2 %\n"
          ]
        }
      ]
    },
    {
      "cell_type": "code",
      "source": [
        "data_for_testing.tail(2)"
      ],
      "metadata": {
        "id": "fjlmkgXM67Rq",
        "outputId": "d55ad791-9932-4d88-cd8d-7e4af0fc020d",
        "colab": {
          "base_uri": "https://localhost:8080/",
          "height": 176
        }
      },
      "execution_count": 397,
      "outputs": [
        {
          "output_type": "execute_result",
          "data": {
            "text/html": [
              "\n",
              "  <div id=\"df-3a7a874b-71cd-410b-859e-c31efc6991e5\">\n",
              "    <div class=\"colab-df-container\">\n",
              "      <div>\n",
              "<style scoped>\n",
              "    .dataframe tbody tr th:only-of-type {\n",
              "        vertical-align: middle;\n",
              "    }\n",
              "\n",
              "    .dataframe tbody tr th {\n",
              "        vertical-align: top;\n",
              "    }\n",
              "\n",
              "    .dataframe thead th {\n",
              "        text-align: right;\n",
              "    }\n",
              "</style>\n",
              "<table border=\"1\" class=\"dataframe\">\n",
              "  <thead>\n",
              "    <tr style=\"text-align: right;\">\n",
              "      <th></th>\n",
              "      <th>Date</th>\n",
              "      <th>Open</th>\n",
              "      <th>High</th>\n",
              "      <th>Low</th>\n",
              "      <th>Close</th>\n",
              "      <th>Adj Close</th>\n",
              "      <th>Volume</th>\n",
              "      <th>close_2%</th>\n",
              "      <th>cumsum</th>\n",
              "      <th>diff</th>\n",
              "    </tr>\n",
              "  </thead>\n",
              "  <tbody>\n",
              "    <tr>\n",
              "      <th>742</th>\n",
              "      <td>738162</td>\n",
              "      <td>17797.599609</td>\n",
              "      <td>17905.000000</td>\n",
              "      <td>17704.550781</td>\n",
              "      <td>17812.699219</td>\n",
              "      <td>17812.699219</td>\n",
              "      <td>239300</td>\n",
              "      <td>0.376418</td>\n",
              "      <td>0.376418</td>\n",
              "      <td>0.000000</td>\n",
              "    </tr>\n",
              "    <tr>\n",
              "      <th>743</th>\n",
              "      <td>738165</td>\n",
              "      <td>17913.300781</td>\n",
              "      <td>18017.449219</td>\n",
              "      <td>17879.150391</td>\n",
              "      <td>18003.300781</td>\n",
              "      <td>18003.300781</td>\n",
              "      <td>232400</td>\n",
              "      <td>1.070032</td>\n",
              "      <td>1.446450</td>\n",
              "      <td>-0.376418</td>\n",
              "    </tr>\n",
              "  </tbody>\n",
              "</table>\n",
              "</div>\n",
              "      <button class=\"colab-df-convert\" onclick=\"convertToInteractive('df-3a7a874b-71cd-410b-859e-c31efc6991e5')\"\n",
              "              title=\"Convert this dataframe to an interactive table.\"\n",
              "              style=\"display:none;\">\n",
              "        \n",
              "  <svg xmlns=\"http://www.w3.org/2000/svg\" height=\"24px\"viewBox=\"0 0 24 24\"\n",
              "       width=\"24px\">\n",
              "    <path d=\"M0 0h24v24H0V0z\" fill=\"none\"/>\n",
              "    <path d=\"M18.56 5.44l.94 2.06.94-2.06 2.06-.94-2.06-.94-.94-2.06-.94 2.06-2.06.94zm-11 1L8.5 8.5l.94-2.06 2.06-.94-2.06-.94L8.5 2.5l-.94 2.06-2.06.94zm10 10l.94 2.06.94-2.06 2.06-.94-2.06-.94-.94-2.06-.94 2.06-2.06.94z\"/><path d=\"M17.41 7.96l-1.37-1.37c-.4-.4-.92-.59-1.43-.59-.52 0-1.04.2-1.43.59L10.3 9.45l-7.72 7.72c-.78.78-.78 2.05 0 2.83L4 21.41c.39.39.9.59 1.41.59.51 0 1.02-.2 1.41-.59l7.78-7.78 2.81-2.81c.8-.78.8-2.07 0-2.86zM5.41 20L4 18.59l7.72-7.72 1.47 1.35L5.41 20z\"/>\n",
              "  </svg>\n",
              "      </button>\n",
              "      \n",
              "  <style>\n",
              "    .colab-df-container {\n",
              "      display:flex;\n",
              "      flex-wrap:wrap;\n",
              "      gap: 12px;\n",
              "    }\n",
              "\n",
              "    .colab-df-convert {\n",
              "      background-color: #E8F0FE;\n",
              "      border: none;\n",
              "      border-radius: 50%;\n",
              "      cursor: pointer;\n",
              "      display: none;\n",
              "      fill: #1967D2;\n",
              "      height: 32px;\n",
              "      padding: 0 0 0 0;\n",
              "      width: 32px;\n",
              "    }\n",
              "\n",
              "    .colab-df-convert:hover {\n",
              "      background-color: #E2EBFA;\n",
              "      box-shadow: 0px 1px 2px rgba(60, 64, 67, 0.3), 0px 1px 3px 1px rgba(60, 64, 67, 0.15);\n",
              "      fill: #174EA6;\n",
              "    }\n",
              "\n",
              "    [theme=dark] .colab-df-convert {\n",
              "      background-color: #3B4455;\n",
              "      fill: #D2E3FC;\n",
              "    }\n",
              "\n",
              "    [theme=dark] .colab-df-convert:hover {\n",
              "      background-color: #434B5C;\n",
              "      box-shadow: 0px 1px 3px 1px rgba(0, 0, 0, 0.15);\n",
              "      filter: drop-shadow(0px 1px 2px rgba(0, 0, 0, 0.3));\n",
              "      fill: #FFFFFF;\n",
              "    }\n",
              "  </style>\n",
              "\n",
              "      <script>\n",
              "        const buttonEl =\n",
              "          document.querySelector('#df-3a7a874b-71cd-410b-859e-c31efc6991e5 button.colab-df-convert');\n",
              "        buttonEl.style.display =\n",
              "          google.colab.kernel.accessAllowed ? 'block' : 'none';\n",
              "\n",
              "        async function convertToInteractive(key) {\n",
              "          const element = document.querySelector('#df-3a7a874b-71cd-410b-859e-c31efc6991e5');\n",
              "          const dataTable =\n",
              "            await google.colab.kernel.invokeFunction('convertToInteractive',\n",
              "                                                     [key], {});\n",
              "          if (!dataTable) return;\n",
              "\n",
              "          const docLinkHtml = 'Like what you see? Visit the ' +\n",
              "            '<a target=\"_blank\" href=https://colab.research.google.com/notebooks/data_table.ipynb>data table notebook</a>'\n",
              "            + ' to learn more about interactive tables.';\n",
              "          element.innerHTML = '';\n",
              "          dataTable['output_type'] = 'display_data';\n",
              "          await google.colab.output.renderOutput(dataTable, element);\n",
              "          const docLink = document.createElement('div');\n",
              "          docLink.innerHTML = docLinkHtml;\n",
              "          element.appendChild(docLink);\n",
              "        }\n",
              "      </script>\n",
              "    </div>\n",
              "  </div>\n",
              "  "
            ],
            "text/plain": [
              "       Date          Open          High  ...  close_2%    cumsum      diff\n",
              "742  738162  17797.599609  17905.000000  ...  0.376418  0.376418  0.000000\n",
              "743  738165  17913.300781  18017.449219  ...  1.070032  1.446450 -0.376418\n",
              "\n",
              "[2 rows x 10 columns]"
            ]
          },
          "metadata": {},
          "execution_count": 397
        }
      ]
    },
    {
      "cell_type": "code",
      "source": [
        "final_test_data.tail(2)"
      ],
      "metadata": {
        "id": "XoPTY8P2dMj8",
        "outputId": "94f81e5a-ff17-46ca-ab08-df203e50a9b6",
        "colab": {
          "base_uri": "https://localhost:8080/",
          "height": 176
        }
      },
      "execution_count": 391,
      "outputs": [
        {
          "output_type": "execute_result",
          "data": {
            "text/html": [
              "\n",
              "  <div id=\"df-c7c60b32-4594-46da-9a1b-f7e155a9ba95\">\n",
              "    <div class=\"colab-df-container\">\n",
              "      <div>\n",
              "<style scoped>\n",
              "    .dataframe tbody tr th:only-of-type {\n",
              "        vertical-align: middle;\n",
              "    }\n",
              "\n",
              "    .dataframe tbody tr th {\n",
              "        vertical-align: top;\n",
              "    }\n",
              "\n",
              "    .dataframe thead th {\n",
              "        text-align: right;\n",
              "    }\n",
              "</style>\n",
              "<table border=\"1\" class=\"dataframe\">\n",
              "  <thead>\n",
              "    <tr style=\"text-align: right;\">\n",
              "      <th></th>\n",
              "      <th>date</th>\n",
              "      <th>open</th>\n",
              "      <th>high</th>\n",
              "      <th>low</th>\n",
              "      <th>close</th>\n",
              "      <th>adj_close</th>\n",
              "      <th>volume</th>\n",
              "      <th>close_2%</th>\n",
              "      <th>cumsum</th>\n",
              "      <th>diff</th>\n",
              "      <th>MACD_12_26_9</th>\n",
              "      <th>MACDh_12_26_9</th>\n",
              "      <th>MACDs_12_26_9</th>\n",
              "      <th>VTXP_14</th>\n",
              "      <th>VTXM_14</th>\n",
              "      <th>AROOND_14</th>\n",
              "      <th>AROONU_14</th>\n",
              "      <th>AROONOSC_14</th>\n",
              "      <th>MOM_10</th>\n",
              "      <th>STDEV_30</th>\n",
              "      <th>LR_14</th>\n",
              "      <th>spread</th>\n",
              "      <th>Signal_Flag</th>\n",
              "    </tr>\n",
              "  </thead>\n",
              "  <tbody>\n",
              "    <tr>\n",
              "      <th>738</th>\n",
              "      <td>738158</td>\n",
              "      <td>17387.150391</td>\n",
              "      <td>17646.650391</td>\n",
              "      <td>17383.300781</td>\n",
              "      <td>17625.699219</td>\n",
              "      <td>17625.699219</td>\n",
              "      <td>200500</td>\n",
              "      <td>1.565332</td>\n",
              "      <td>2.607903</td>\n",
              "      <td>-1.042572</td>\n",
              "      <td>192.142141</td>\n",
              "      <td>-132.044248</td>\n",
              "      <td>324.186389</td>\n",
              "      <td>0.655993</td>\n",
              "      <td>0.883930</td>\n",
              "      <td>78.571429</td>\n",
              "      <td>0.0</td>\n",
              "      <td>-78.571429</td>\n",
              "      <td>-477.050781</td>\n",
              "      <td>764.419810</td>\n",
              "      <td>17043.573656</td>\n",
              "      <td>-582.125562</td>\n",
              "      <td>-1.0</td>\n",
              "    </tr>\n",
              "    <tr>\n",
              "      <th>741</th>\n",
              "      <td>738161</td>\n",
              "      <td>17768.500000</td>\n",
              "      <td>17797.949219</td>\n",
              "      <td>17655.550781</td>\n",
              "      <td>17745.900391</td>\n",
              "      <td>17745.900391</td>\n",
              "      <td>236500</td>\n",
              "      <td>1.000542</td>\n",
              "      <td>2.693188</td>\n",
              "      <td>-1.692646</td>\n",
              "      <td>212.766740</td>\n",
              "      <td>-89.135720</td>\n",
              "      <td>301.902460</td>\n",
              "      <td>0.746112</td>\n",
              "      <td>0.842195</td>\n",
              "      <td>71.428571</td>\n",
              "      <td>0.0</td>\n",
              "      <td>-71.428571</td>\n",
              "      <td>329.349609</td>\n",
              "      <td>719.819178</td>\n",
              "      <td>17167.140917</td>\n",
              "      <td>-578.759474</td>\n",
              "      <td>-1.0</td>\n",
              "    </tr>\n",
              "  </tbody>\n",
              "</table>\n",
              "</div>\n",
              "      <button class=\"colab-df-convert\" onclick=\"convertToInteractive('df-c7c60b32-4594-46da-9a1b-f7e155a9ba95')\"\n",
              "              title=\"Convert this dataframe to an interactive table.\"\n",
              "              style=\"display:none;\">\n",
              "        \n",
              "  <svg xmlns=\"http://www.w3.org/2000/svg\" height=\"24px\"viewBox=\"0 0 24 24\"\n",
              "       width=\"24px\">\n",
              "    <path d=\"M0 0h24v24H0V0z\" fill=\"none\"/>\n",
              "    <path d=\"M18.56 5.44l.94 2.06.94-2.06 2.06-.94-2.06-.94-.94-2.06-.94 2.06-2.06.94zm-11 1L8.5 8.5l.94-2.06 2.06-.94-2.06-.94L8.5 2.5l-.94 2.06-2.06.94zm10 10l.94 2.06.94-2.06 2.06-.94-2.06-.94-.94-2.06-.94 2.06-2.06.94z\"/><path d=\"M17.41 7.96l-1.37-1.37c-.4-.4-.92-.59-1.43-.59-.52 0-1.04.2-1.43.59L10.3 9.45l-7.72 7.72c-.78.78-.78 2.05 0 2.83L4 21.41c.39.39.9.59 1.41.59.51 0 1.02-.2 1.41-.59l7.78-7.78 2.81-2.81c.8-.78.8-2.07 0-2.86zM5.41 20L4 18.59l7.72-7.72 1.47 1.35L5.41 20z\"/>\n",
              "  </svg>\n",
              "      </button>\n",
              "      \n",
              "  <style>\n",
              "    .colab-df-container {\n",
              "      display:flex;\n",
              "      flex-wrap:wrap;\n",
              "      gap: 12px;\n",
              "    }\n",
              "\n",
              "    .colab-df-convert {\n",
              "      background-color: #E8F0FE;\n",
              "      border: none;\n",
              "      border-radius: 50%;\n",
              "      cursor: pointer;\n",
              "      display: none;\n",
              "      fill: #1967D2;\n",
              "      height: 32px;\n",
              "      padding: 0 0 0 0;\n",
              "      width: 32px;\n",
              "    }\n",
              "\n",
              "    .colab-df-convert:hover {\n",
              "      background-color: #E2EBFA;\n",
              "      box-shadow: 0px 1px 2px rgba(60, 64, 67, 0.3), 0px 1px 3px 1px rgba(60, 64, 67, 0.15);\n",
              "      fill: #174EA6;\n",
              "    }\n",
              "\n",
              "    [theme=dark] .colab-df-convert {\n",
              "      background-color: #3B4455;\n",
              "      fill: #D2E3FC;\n",
              "    }\n",
              "\n",
              "    [theme=dark] .colab-df-convert:hover {\n",
              "      background-color: #434B5C;\n",
              "      box-shadow: 0px 1px 3px 1px rgba(0, 0, 0, 0.15);\n",
              "      filter: drop-shadow(0px 1px 2px rgba(0, 0, 0, 0.3));\n",
              "      fill: #FFFFFF;\n",
              "    }\n",
              "  </style>\n",
              "\n",
              "      <script>\n",
              "        const buttonEl =\n",
              "          document.querySelector('#df-c7c60b32-4594-46da-9a1b-f7e155a9ba95 button.colab-df-convert');\n",
              "        buttonEl.style.display =\n",
              "          google.colab.kernel.accessAllowed ? 'block' : 'none';\n",
              "\n",
              "        async function convertToInteractive(key) {\n",
              "          const element = document.querySelector('#df-c7c60b32-4594-46da-9a1b-f7e155a9ba95');\n",
              "          const dataTable =\n",
              "            await google.colab.kernel.invokeFunction('convertToInteractive',\n",
              "                                                     [key], {});\n",
              "          if (!dataTable) return;\n",
              "\n",
              "          const docLinkHtml = 'Like what you see? Visit the ' +\n",
              "            '<a target=\"_blank\" href=https://colab.research.google.com/notebooks/data_table.ipynb>data table notebook</a>'\n",
              "            + ' to learn more about interactive tables.';\n",
              "          element.innerHTML = '';\n",
              "          dataTable['output_type'] = 'display_data';\n",
              "          await google.colab.output.renderOutput(dataTable, element);\n",
              "          const docLink = document.createElement('div');\n",
              "          docLink.innerHTML = docLinkHtml;\n",
              "          element.appendChild(docLink);\n",
              "        }\n",
              "      </script>\n",
              "    </div>\n",
              "  </div>\n",
              "  "
            ],
            "text/plain": [
              "       date          open          high  ...         LR_14      spread  Signal_Flag\n",
              "738  738158  17387.150391  17646.650391  ...  17043.573656 -582.125562         -1.0\n",
              "741  738161  17768.500000  17797.949219  ...  17167.140917 -578.759474         -1.0\n",
              "\n",
              "[2 rows x 23 columns]"
            ]
          },
          "metadata": {},
          "execution_count": 391
        }
      ]
    },
    {
      "cell_type": "markdown",
      "source": [
        "# This needs to be coded..."
      ],
      "metadata": {
        "id": "9dhHJZg07iPG"
      }
    },
    {
      "cell_type": "code",
      "source": [
        "if final_test_data['Signal_Flag'].iloc[-1]!=final_test_data['Signal_Flag'].iloc[-2]:\n",
        "  date_triggered=final_test_data['date'].iloc[-1]"
      ],
      "metadata": {
        "id": "wsczVc-FdgID"
      },
      "execution_count": 392,
      "outputs": []
    },
    {
      "cell_type": "code",
      "source": [
        "date_trig=str(dt.datetime.fromordinal(date_triggered))"
      ],
      "metadata": {
        "id": "hVjoeNdZpsO-"
      },
      "execution_count": 393,
      "outputs": []
    },
    {
      "cell_type": "code",
      "source": [
        "date_trig"
      ],
      "metadata": {
        "id": "71s0sPlVpsul",
        "outputId": "300031fc-4533-457a-cdc2-a8e14d00b1ca",
        "colab": {
          "base_uri": "https://localhost:8080/",
          "height": 35
        }
      },
      "execution_count": 394,
      "outputs": [
        {
          "output_type": "execute_result",
          "data": {
            "application/vnd.google.colaboratory.intrinsic+json": {
              "type": "string"
            },
            "text/plain": [
              "'2022-01-06 00:00:00'"
            ]
          },
          "metadata": {},
          "execution_count": 394
        }
      ]
    },
    {
      "cell_type": "code",
      "source": [
        "print(f'triggered on date : {int(date_trig[-11:-9])} and signal : {final_test_data[\"Signal_Flag\"].iloc[-1]}')"
      ],
      "metadata": {
        "id": "RWTf3uURqi5l",
        "outputId": "0538126e-6251-4c0b-b340-457715a381cd",
        "colab": {
          "base_uri": "https://localhost:8080/"
        }
      },
      "execution_count": 395,
      "outputs": [
        {
          "output_type": "stream",
          "name": "stdout",
          "text": [
            "triggered on date : 6 and signal : -1.0\n"
          ]
        }
      ]
    },
    {
      "cell_type": "code",
      "source": [
        "#2022-01-05 00:00:00"
      ],
      "metadata": {
        "id": "w8dH8X01qqeO"
      },
      "execution_count": 396,
      "outputs": []
    }
  ]
}