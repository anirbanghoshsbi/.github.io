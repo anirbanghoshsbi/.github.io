{
  "nbformat": 4,
  "nbformat_minor": 0,
  "metadata": {
    "colab": {
      "name": "ML_model(Resampling).ipynb",
      "provenance": [],
      "collapsed_sections": [],
      "authorship_tag": "ABX9TyOkM42RkuwgSr+kxVPnTFkD",
      "include_colab_link": true
    },
    "kernelspec": {
      "name": "python3",
      "display_name": "Python 3"
    },
    "language_info": {
      "name": "python"
    }
  },
  "cells": [
    {
      "cell_type": "markdown",
      "metadata": {
        "id": "view-in-github",
        "colab_type": "text"
      },
      "source": [
        "<a href=\"https://colab.research.google.com/github/anirbanghoshsbi/.github.io/blob/master/experimental/ML_model(Resampling).ipynb\" target=\"_parent\"><img src=\"https://colab.research.google.com/assets/colab-badge.svg\" alt=\"Open In Colab\"/></a>"
      ]
    },
    {
      "cell_type": "code",
      "execution_count": 1,
      "metadata": {
        "id": "nyWZtJU9AXIH",
        "outputId": "d376e1a8-6f0f-4e9b-a299-755f9942a9a8",
        "colab": {
          "base_uri": "https://localhost:8080/"
        }
      },
      "outputs": [
        {
          "output_type": "stream",
          "name": "stdout",
          "text": [
            "Collecting yfinance\n",
            "  Downloading yfinance-0.1.68-py2.py3-none-any.whl (26 kB)\n",
            "Requirement already satisfied: numpy>=1.15 in /usr/local/lib/python3.7/dist-packages (from yfinance) (1.19.5)\n",
            "Requirement already satisfied: pandas>=0.24 in /usr/local/lib/python3.7/dist-packages (from yfinance) (1.1.5)\n",
            "Requirement already satisfied: multitasking>=0.0.7 in /usr/local/lib/python3.7/dist-packages (from yfinance) (0.0.10)\n",
            "Collecting lxml>=4.5.1\n",
            "  Downloading lxml-4.7.1-cp37-cp37m-manylinux_2_17_x86_64.manylinux2014_x86_64.manylinux_2_24_x86_64.whl (6.4 MB)\n",
            "\u001b[K     |████████████████████████████████| 6.4 MB 39.9 MB/s \n",
            "\u001b[?25hCollecting requests>=2.26\n",
            "  Downloading requests-2.27.1-py2.py3-none-any.whl (63 kB)\n",
            "\u001b[K     |████████████████████████████████| 63 kB 1.2 MB/s \n",
            "\u001b[?25hRequirement already satisfied: pytz>=2017.2 in /usr/local/lib/python3.7/dist-packages (from pandas>=0.24->yfinance) (2018.9)\n",
            "Requirement already satisfied: python-dateutil>=2.7.3 in /usr/local/lib/python3.7/dist-packages (from pandas>=0.24->yfinance) (2.8.2)\n",
            "Requirement already satisfied: six>=1.5 in /usr/local/lib/python3.7/dist-packages (from python-dateutil>=2.7.3->pandas>=0.24->yfinance) (1.15.0)\n",
            "Requirement already satisfied: urllib3<1.27,>=1.21.1 in /usr/local/lib/python3.7/dist-packages (from requests>=2.26->yfinance) (1.24.3)\n",
            "Requirement already satisfied: charset-normalizer~=2.0.0 in /usr/local/lib/python3.7/dist-packages (from requests>=2.26->yfinance) (2.0.9)\n",
            "Requirement already satisfied: certifi>=2017.4.17 in /usr/local/lib/python3.7/dist-packages (from requests>=2.26->yfinance) (2021.10.8)\n",
            "Requirement already satisfied: idna<4,>=2.5 in /usr/local/lib/python3.7/dist-packages (from requests>=2.26->yfinance) (2.10)\n",
            "Installing collected packages: requests, lxml, yfinance\n",
            "  Attempting uninstall: requests\n",
            "    Found existing installation: requests 2.23.0\n",
            "    Uninstalling requests-2.23.0:\n",
            "      Successfully uninstalled requests-2.23.0\n",
            "  Attempting uninstall: lxml\n",
            "    Found existing installation: lxml 4.2.6\n",
            "    Uninstalling lxml-4.2.6:\n",
            "      Successfully uninstalled lxml-4.2.6\n",
            "\u001b[31mERROR: pip's dependency resolver does not currently take into account all the packages that are installed. This behaviour is the source of the following dependency conflicts.\n",
            "google-colab 1.0.0 requires requests~=2.23.0, but you have requests 2.27.1 which is incompatible.\n",
            "datascience 0.10.6 requires folium==0.2.1, but you have folium 0.8.3 which is incompatible.\u001b[0m\n",
            "Successfully installed lxml-4.7.1 requests-2.27.1 yfinance-0.1.68\n",
            "Collecting pandas-ta==0.2.45b\n",
            "  Downloading pandas_ta-0.2.45b.tar.gz (88 kB)\n",
            "\u001b[K     |████████████████████████████████| 88 kB 5.3 MB/s \n",
            "\u001b[?25hRequirement already satisfied: pandas in /usr/local/lib/python3.7/dist-packages (from pandas-ta==0.2.45b) (1.1.5)\n",
            "Requirement already satisfied: python-dateutil>=2.7.3 in /usr/local/lib/python3.7/dist-packages (from pandas->pandas-ta==0.2.45b) (2.8.2)\n",
            "Requirement already satisfied: numpy>=1.15.4 in /usr/local/lib/python3.7/dist-packages (from pandas->pandas-ta==0.2.45b) (1.19.5)\n",
            "Requirement already satisfied: pytz>=2017.2 in /usr/local/lib/python3.7/dist-packages (from pandas->pandas-ta==0.2.45b) (2018.9)\n",
            "Requirement already satisfied: six>=1.5 in /usr/local/lib/python3.7/dist-packages (from python-dateutil>=2.7.3->pandas->pandas-ta==0.2.45b) (1.15.0)\n",
            "Building wheels for collected packages: pandas-ta\n",
            "  Building wheel for pandas-ta (setup.py) ... \u001b[?25l\u001b[?25hdone\n",
            "  Created wheel for pandas-ta: filename=pandas_ta-0.2.45b0-py3-none-any.whl size=175303 sha256=64e5a67223c2b364b03d518d4e7e19b9501bc49f1e5999ce01f6e97bc6f0ccf3\n",
            "  Stored in directory: /root/.cache/pip/wheels/b1/49/60/e674e28ae57160651c6198b76e1714a0b175e44e022fcd5137\n",
            "Successfully built pandas-ta\n",
            "Installing collected packages: pandas-ta\n",
            "Successfully installed pandas-ta-0.2.45b0\n"
          ]
        }
      ],
      "source": [
        "!pip install yfinance\n",
        "!pip install pandas-ta==0.2.45b"
      ]
    },
    {
      "cell_type": "code",
      "source": [
        "class BlockingTimeSeriesSplit():\n",
        "    def __init__(self, n_splits):\n",
        "        self.n_splits = n_splits\n",
        "    \n",
        "    def get_n_splits(self, X, y, groups):\n",
        "        return self.n_splits\n",
        "    \n",
        "    def split(self, X, y=None, groups=None):\n",
        "        n_samples = len(X)\n",
        "        k_fold_size = n_samples // self.n_splits\n",
        "        indices = np.arange(n_samples)\n",
        "\n",
        "        margin = 0\n",
        "        for i in range(self.n_splits):\n",
        "            start = i * k_fold_size\n",
        "            stop = start + k_fold_size\n",
        "            mid = int(0.8 * (stop - start)) + start\n",
        "            yield indices[start: mid], indices[mid + margin: stop]"
      ],
      "metadata": {
        "id": "jyllF7hO1cHz"
      },
      "execution_count": 2,
      "outputs": []
    },
    {
      "cell_type": "code",
      "source": [
        "import yfinance as yf\n",
        "import numpy as np\n",
        "import pandas as pd\n",
        "import pandas_ta as ta\n",
        "from sklearn.ensemble import RandomForestClassifier\n",
        "from sklearn.metrics import accuracy_score, classification_report,f1_score\n",
        "import datetime as dt"
      ],
      "metadata": {
        "id": "_tIlkjtcAfqh"
      },
      "execution_count": 123,
      "outputs": []
    },
    {
      "cell_type": "code",
      "source": [
        "tickr='^nsei'\n",
        "days_out=2\n",
        "p_movement=4"
      ],
      "metadata": {
        "id": "u_GPj9hA8OI4"
      },
      "execution_count": 1427,
      "outputs": []
    },
    {
      "cell_type": "code",
      "source": [
        "nifty = yf.download(tickr,start='2014-01-01',end='2018-12-31')"
      ],
      "metadata": {
        "colab": {
          "base_uri": "https://localhost:8080/"
        },
        "id": "13xKShZ0ApyT",
        "outputId": "125c6b53-a8fb-41b7-a0fa-08f5016896d1"
      },
      "execution_count": 1428,
      "outputs": [
        {
          "output_type": "stream",
          "name": "stdout",
          "text": [
            "\r[*********************100%***********************]  1 of 1 completed\n"
          ]
        }
      ]
    },
    {
      "cell_type": "code",
      "source": [
        "nifty.tail(2)"
      ],
      "metadata": {
        "colab": {
          "base_uri": "https://localhost:8080/",
          "height": 143
        },
        "id": "CAsLeTUQA9pr",
        "outputId": "c8d8f52f-d1fa-43b3-f7e7-fd480676ac2c"
      },
      "execution_count": 1429,
      "outputs": [
        {
          "output_type": "execute_result",
          "data": {
            "text/html": [
              "\n",
              "  <div id=\"df-c0d0b63d-6938-4021-8428-a70f0f176992\">\n",
              "    <div class=\"colab-df-container\">\n",
              "      <div>\n",
              "<style scoped>\n",
              "    .dataframe tbody tr th:only-of-type {\n",
              "        vertical-align: middle;\n",
              "    }\n",
              "\n",
              "    .dataframe tbody tr th {\n",
              "        vertical-align: top;\n",
              "    }\n",
              "\n",
              "    .dataframe thead th {\n",
              "        text-align: right;\n",
              "    }\n",
              "</style>\n",
              "<table border=\"1\" class=\"dataframe\">\n",
              "  <thead>\n",
              "    <tr style=\"text-align: right;\">\n",
              "      <th></th>\n",
              "      <th>Open</th>\n",
              "      <th>High</th>\n",
              "      <th>Low</th>\n",
              "      <th>Close</th>\n",
              "      <th>Adj Close</th>\n",
              "      <th>Volume</th>\n",
              "    </tr>\n",
              "    <tr>\n",
              "      <th>Date</th>\n",
              "      <th></th>\n",
              "      <th></th>\n",
              "      <th></th>\n",
              "      <th></th>\n",
              "      <th></th>\n",
              "      <th></th>\n",
              "    </tr>\n",
              "  </thead>\n",
              "  <tbody>\n",
              "    <tr>\n",
              "      <th>2018-12-27</th>\n",
              "      <td>10817.900391</td>\n",
              "      <td>10834.200195</td>\n",
              "      <td>10764.450195</td>\n",
              "      <td>10779.799805</td>\n",
              "      <td>10779.799805</td>\n",
              "      <td>456100</td>\n",
              "    </tr>\n",
              "    <tr>\n",
              "      <th>2018-12-28</th>\n",
              "      <td>10820.950195</td>\n",
              "      <td>10893.599609</td>\n",
              "      <td>10817.150391</td>\n",
              "      <td>10859.900391</td>\n",
              "      <td>10859.900391</td>\n",
              "      <td>245500</td>\n",
              "    </tr>\n",
              "  </tbody>\n",
              "</table>\n",
              "</div>\n",
              "      <button class=\"colab-df-convert\" onclick=\"convertToInteractive('df-c0d0b63d-6938-4021-8428-a70f0f176992')\"\n",
              "              title=\"Convert this dataframe to an interactive table.\"\n",
              "              style=\"display:none;\">\n",
              "        \n",
              "  <svg xmlns=\"http://www.w3.org/2000/svg\" height=\"24px\"viewBox=\"0 0 24 24\"\n",
              "       width=\"24px\">\n",
              "    <path d=\"M0 0h24v24H0V0z\" fill=\"none\"/>\n",
              "    <path d=\"M18.56 5.44l.94 2.06.94-2.06 2.06-.94-2.06-.94-.94-2.06-.94 2.06-2.06.94zm-11 1L8.5 8.5l.94-2.06 2.06-.94-2.06-.94L8.5 2.5l-.94 2.06-2.06.94zm10 10l.94 2.06.94-2.06 2.06-.94-2.06-.94-.94-2.06-.94 2.06-2.06.94z\"/><path d=\"M17.41 7.96l-1.37-1.37c-.4-.4-.92-.59-1.43-.59-.52 0-1.04.2-1.43.59L10.3 9.45l-7.72 7.72c-.78.78-.78 2.05 0 2.83L4 21.41c.39.39.9.59 1.41.59.51 0 1.02-.2 1.41-.59l7.78-7.78 2.81-2.81c.8-.78.8-2.07 0-2.86zM5.41 20L4 18.59l7.72-7.72 1.47 1.35L5.41 20z\"/>\n",
              "  </svg>\n",
              "      </button>\n",
              "      \n",
              "  <style>\n",
              "    .colab-df-container {\n",
              "      display:flex;\n",
              "      flex-wrap:wrap;\n",
              "      gap: 12px;\n",
              "    }\n",
              "\n",
              "    .colab-df-convert {\n",
              "      background-color: #E8F0FE;\n",
              "      border: none;\n",
              "      border-radius: 50%;\n",
              "      cursor: pointer;\n",
              "      display: none;\n",
              "      fill: #1967D2;\n",
              "      height: 32px;\n",
              "      padding: 0 0 0 0;\n",
              "      width: 32px;\n",
              "    }\n",
              "\n",
              "    .colab-df-convert:hover {\n",
              "      background-color: #E2EBFA;\n",
              "      box-shadow: 0px 1px 2px rgba(60, 64, 67, 0.3), 0px 1px 3px 1px rgba(60, 64, 67, 0.15);\n",
              "      fill: #174EA6;\n",
              "    }\n",
              "\n",
              "    [theme=dark] .colab-df-convert {\n",
              "      background-color: #3B4455;\n",
              "      fill: #D2E3FC;\n",
              "    }\n",
              "\n",
              "    [theme=dark] .colab-df-convert:hover {\n",
              "      background-color: #434B5C;\n",
              "      box-shadow: 0px 1px 3px 1px rgba(0, 0, 0, 0.15);\n",
              "      filter: drop-shadow(0px 1px 2px rgba(0, 0, 0, 0.3));\n",
              "      fill: #FFFFFF;\n",
              "    }\n",
              "  </style>\n",
              "\n",
              "      <script>\n",
              "        const buttonEl =\n",
              "          document.querySelector('#df-c0d0b63d-6938-4021-8428-a70f0f176992 button.colab-df-convert');\n",
              "        buttonEl.style.display =\n",
              "          google.colab.kernel.accessAllowed ? 'block' : 'none';\n",
              "\n",
              "        async function convertToInteractive(key) {\n",
              "          const element = document.querySelector('#df-c0d0b63d-6938-4021-8428-a70f0f176992');\n",
              "          const dataTable =\n",
              "            await google.colab.kernel.invokeFunction('convertToInteractive',\n",
              "                                                     [key], {});\n",
              "          if (!dataTable) return;\n",
              "\n",
              "          const docLinkHtml = 'Like what you see? Visit the ' +\n",
              "            '<a target=\"_blank\" href=https://colab.research.google.com/notebooks/data_table.ipynb>data table notebook</a>'\n",
              "            + ' to learn more about interactive tables.';\n",
              "          element.innerHTML = '';\n",
              "          dataTable['output_type'] = 'display_data';\n",
              "          await google.colab.output.renderOutput(dataTable, element);\n",
              "          const docLink = document.createElement('div');\n",
              "          docLink.innerHTML = docLinkHtml;\n",
              "          element.appendChild(docLink);\n",
              "        }\n",
              "      </script>\n",
              "    </div>\n",
              "  </div>\n",
              "  "
            ],
            "text/plain": [
              "                    Open          High  ...     Adj Close  Volume\n",
              "Date                                    ...                      \n",
              "2018-12-27  10817.900391  10834.200195  ...  10779.799805  456100\n",
              "2018-12-28  10820.950195  10893.599609  ...  10859.900391  245500\n",
              "\n",
              "[2 rows x 6 columns]"
            ]
          },
          "metadata": {},
          "execution_count": 1429
        }
      ]
    },
    {
      "cell_type": "code",
      "source": [
        "nifty['close_2%']=np.abs(nifty['Adj Close'].pct_change()*100).fillna(0)"
      ],
      "metadata": {
        "id": "uLq09QLRA_Bl"
      },
      "execution_count": 1430,
      "outputs": []
    },
    {
      "cell_type": "code",
      "source": [
        "test=pd.DataFrame(data=nifty['close_2%'].values,columns=['sum'])"
      ],
      "metadata": {
        "id": "2EHfr-jNWMYo"
      },
      "execution_count": 1431,
      "outputs": []
    },
    {
      "cell_type": "code",
      "source": [
        "nifty['cumsum']=0\n",
        "nifty=nifty.reset_index()"
      ],
      "metadata": {
        "id": "X1PppktGXYgu"
      },
      "execution_count": 1432,
      "outputs": []
    },
    {
      "cell_type": "code",
      "source": [
        "for index , val in enumerate(nifty['close_2%']):\n",
        "  \n",
        "  if index==0:\n",
        "    nifty.loc[index,'cumsum']=val\n",
        "  else:\n",
        "    if nifty['cumsum'].iloc[index-1]>p_movement:\n",
        "      nifty.loc[index,'cumsum']=val\n",
        "    else:\n",
        "      nifty.loc[index, 'cumsum']=val+nifty['cumsum'].iloc[index-1]    "
      ],
      "metadata": {
        "id": "ySTggEWYWHTC"
      },
      "execution_count": 1433,
      "outputs": []
    },
    {
      "cell_type": "code",
      "source": [
        "#test_f=pd.DataFrame({'Date':nifty.index, 'sum':test['cumsum'].values})\n",
        "#pd.DataFrame({'Date':df.index,'spread':(df['Adj Close'].values - mean)})"
      ],
      "metadata": {
        "id": "OZPoMevcXJNe"
      },
      "execution_count": 1434,
      "outputs": []
    },
    {
      "cell_type": "code",
      "source": [
        "nifty['diff']=nifty['close_2%']-nifty['cumsum']"
      ],
      "metadata": {
        "id": "EDsjk1cYXJz-"
      },
      "execution_count": 1435,
      "outputs": []
    },
    {
      "cell_type": "code",
      "source": [
        "nifty[['Close','close_2%','cumsum','diff']]"
      ],
      "metadata": {
        "id": "6uVeHwEqcFrM",
        "outputId": "2c4631e1-7974-4efc-be5d-d9162cc6edd8",
        "colab": {
          "base_uri": "https://localhost:8080/",
          "height": 424
        }
      },
      "execution_count": 1436,
      "outputs": [
        {
          "output_type": "execute_result",
          "data": {
            "text/html": [
              "\n",
              "  <div id=\"df-799c5757-7d6d-4fb6-a9df-4f58844648a2\">\n",
              "    <div class=\"colab-df-container\">\n",
              "      <div>\n",
              "<style scoped>\n",
              "    .dataframe tbody tr th:only-of-type {\n",
              "        vertical-align: middle;\n",
              "    }\n",
              "\n",
              "    .dataframe tbody tr th {\n",
              "        vertical-align: top;\n",
              "    }\n",
              "\n",
              "    .dataframe thead th {\n",
              "        text-align: right;\n",
              "    }\n",
              "</style>\n",
              "<table border=\"1\" class=\"dataframe\">\n",
              "  <thead>\n",
              "    <tr style=\"text-align: right;\">\n",
              "      <th></th>\n",
              "      <th>Close</th>\n",
              "      <th>close_2%</th>\n",
              "      <th>cumsum</th>\n",
              "      <th>diff</th>\n",
              "    </tr>\n",
              "  </thead>\n",
              "  <tbody>\n",
              "    <tr>\n",
              "      <th>0</th>\n",
              "      <td>6221.149902</td>\n",
              "      <td>0.000000</td>\n",
              "      <td>0.000000</td>\n",
              "      <td>0.000000</td>\n",
              "    </tr>\n",
              "    <tr>\n",
              "      <th>1</th>\n",
              "      <td>6211.149902</td>\n",
              "      <td>0.160742</td>\n",
              "      <td>0.160742</td>\n",
              "      <td>0.000000</td>\n",
              "    </tr>\n",
              "    <tr>\n",
              "      <th>2</th>\n",
              "      <td>6191.450195</td>\n",
              "      <td>0.317167</td>\n",
              "      <td>0.477909</td>\n",
              "      <td>-0.160742</td>\n",
              "    </tr>\n",
              "    <tr>\n",
              "      <th>3</th>\n",
              "      <td>6162.250000</td>\n",
              "      <td>0.471621</td>\n",
              "      <td>0.949530</td>\n",
              "      <td>-0.477909</td>\n",
              "    </tr>\n",
              "    <tr>\n",
              "      <th>4</th>\n",
              "      <td>6174.600098</td>\n",
              "      <td>0.200415</td>\n",
              "      <td>1.149945</td>\n",
              "      <td>-0.949530</td>\n",
              "    </tr>\n",
              "    <tr>\n",
              "      <th>...</th>\n",
              "      <td>...</td>\n",
              "      <td>...</td>\n",
              "      <td>...</td>\n",
              "      <td>...</td>\n",
              "    </tr>\n",
              "    <tr>\n",
              "      <th>1215</th>\n",
              "      <td>10754.000000</td>\n",
              "      <td>1.805201</td>\n",
              "      <td>4.069973</td>\n",
              "      <td>-2.264772</td>\n",
              "    </tr>\n",
              "    <tr>\n",
              "      <th>1216</th>\n",
              "      <td>10663.500000</td>\n",
              "      <td>0.841547</td>\n",
              "      <td>0.841547</td>\n",
              "      <td>0.000000</td>\n",
              "    </tr>\n",
              "    <tr>\n",
              "      <th>1217</th>\n",
              "      <td>10729.849609</td>\n",
              "      <td>0.622212</td>\n",
              "      <td>1.463760</td>\n",
              "      <td>-0.841547</td>\n",
              "    </tr>\n",
              "    <tr>\n",
              "      <th>1218</th>\n",
              "      <td>10779.799805</td>\n",
              "      <td>0.465526</td>\n",
              "      <td>1.929285</td>\n",
              "      <td>-1.463760</td>\n",
              "    </tr>\n",
              "    <tr>\n",
              "      <th>1219</th>\n",
              "      <td>10859.900391</td>\n",
              "      <td>0.743062</td>\n",
              "      <td>2.672347</td>\n",
              "      <td>-1.929285</td>\n",
              "    </tr>\n",
              "  </tbody>\n",
              "</table>\n",
              "<p>1220 rows × 4 columns</p>\n",
              "</div>\n",
              "      <button class=\"colab-df-convert\" onclick=\"convertToInteractive('df-799c5757-7d6d-4fb6-a9df-4f58844648a2')\"\n",
              "              title=\"Convert this dataframe to an interactive table.\"\n",
              "              style=\"display:none;\">\n",
              "        \n",
              "  <svg xmlns=\"http://www.w3.org/2000/svg\" height=\"24px\"viewBox=\"0 0 24 24\"\n",
              "       width=\"24px\">\n",
              "    <path d=\"M0 0h24v24H0V0z\" fill=\"none\"/>\n",
              "    <path d=\"M18.56 5.44l.94 2.06.94-2.06 2.06-.94-2.06-.94-.94-2.06-.94 2.06-2.06.94zm-11 1L8.5 8.5l.94-2.06 2.06-.94-2.06-.94L8.5 2.5l-.94 2.06-2.06.94zm10 10l.94 2.06.94-2.06 2.06-.94-2.06-.94-.94-2.06-.94 2.06-2.06.94z\"/><path d=\"M17.41 7.96l-1.37-1.37c-.4-.4-.92-.59-1.43-.59-.52 0-1.04.2-1.43.59L10.3 9.45l-7.72 7.72c-.78.78-.78 2.05 0 2.83L4 21.41c.39.39.9.59 1.41.59.51 0 1.02-.2 1.41-.59l7.78-7.78 2.81-2.81c.8-.78.8-2.07 0-2.86zM5.41 20L4 18.59l7.72-7.72 1.47 1.35L5.41 20z\"/>\n",
              "  </svg>\n",
              "      </button>\n",
              "      \n",
              "  <style>\n",
              "    .colab-df-container {\n",
              "      display:flex;\n",
              "      flex-wrap:wrap;\n",
              "      gap: 12px;\n",
              "    }\n",
              "\n",
              "    .colab-df-convert {\n",
              "      background-color: #E8F0FE;\n",
              "      border: none;\n",
              "      border-radius: 50%;\n",
              "      cursor: pointer;\n",
              "      display: none;\n",
              "      fill: #1967D2;\n",
              "      height: 32px;\n",
              "      padding: 0 0 0 0;\n",
              "      width: 32px;\n",
              "    }\n",
              "\n",
              "    .colab-df-convert:hover {\n",
              "      background-color: #E2EBFA;\n",
              "      box-shadow: 0px 1px 2px rgba(60, 64, 67, 0.3), 0px 1px 3px 1px rgba(60, 64, 67, 0.15);\n",
              "      fill: #174EA6;\n",
              "    }\n",
              "\n",
              "    [theme=dark] .colab-df-convert {\n",
              "      background-color: #3B4455;\n",
              "      fill: #D2E3FC;\n",
              "    }\n",
              "\n",
              "    [theme=dark] .colab-df-convert:hover {\n",
              "      background-color: #434B5C;\n",
              "      box-shadow: 0px 1px 3px 1px rgba(0, 0, 0, 0.15);\n",
              "      filter: drop-shadow(0px 1px 2px rgba(0, 0, 0, 0.3));\n",
              "      fill: #FFFFFF;\n",
              "    }\n",
              "  </style>\n",
              "\n",
              "      <script>\n",
              "        const buttonEl =\n",
              "          document.querySelector('#df-799c5757-7d6d-4fb6-a9df-4f58844648a2 button.colab-df-convert');\n",
              "        buttonEl.style.display =\n",
              "          google.colab.kernel.accessAllowed ? 'block' : 'none';\n",
              "\n",
              "        async function convertToInteractive(key) {\n",
              "          const element = document.querySelector('#df-799c5757-7d6d-4fb6-a9df-4f58844648a2');\n",
              "          const dataTable =\n",
              "            await google.colab.kernel.invokeFunction('convertToInteractive',\n",
              "                                                     [key], {});\n",
              "          if (!dataTable) return;\n",
              "\n",
              "          const docLinkHtml = 'Like what you see? Visit the ' +\n",
              "            '<a target=\"_blank\" href=https://colab.research.google.com/notebooks/data_table.ipynb>data table notebook</a>'\n",
              "            + ' to learn more about interactive tables.';\n",
              "          element.innerHTML = '';\n",
              "          dataTable['output_type'] = 'display_data';\n",
              "          await google.colab.output.renderOutput(dataTable, element);\n",
              "          const docLink = document.createElement('div');\n",
              "          docLink.innerHTML = docLinkHtml;\n",
              "          element.appendChild(docLink);\n",
              "        }\n",
              "      </script>\n",
              "    </div>\n",
              "  </div>\n",
              "  "
            ],
            "text/plain": [
              "             Close  close_2%    cumsum      diff\n",
              "0      6221.149902  0.000000  0.000000  0.000000\n",
              "1      6211.149902  0.160742  0.160742  0.000000\n",
              "2      6191.450195  0.317167  0.477909 -0.160742\n",
              "3      6162.250000  0.471621  0.949530 -0.477909\n",
              "4      6174.600098  0.200415  1.149945 -0.949530\n",
              "...            ...       ...       ...       ...\n",
              "1215  10754.000000  1.805201  4.069973 -2.264772\n",
              "1216  10663.500000  0.841547  0.841547  0.000000\n",
              "1217  10729.849609  0.622212  1.463760 -0.841547\n",
              "1218  10779.799805  0.465526  1.929285 -1.463760\n",
              "1219  10859.900391  0.743062  2.672347 -1.929285\n",
              "\n",
              "[1220 rows x 4 columns]"
            ]
          },
          "metadata": {},
          "execution_count": 1436
        }
      ]
    },
    {
      "cell_type": "code",
      "source": [
        "final_data=nifty.iloc[nifty[nifty['diff']==0].index-1][1:]"
      ],
      "metadata": {
        "id": "Gk40XbTfbg0s"
      },
      "execution_count": 1437,
      "outputs": []
    },
    {
      "cell_type": "code",
      "source": [
        "final_data['Signal_Flag'] = final_data['Close'].transform(lambda x : np.sign(x.diff(days_out)))"
      ],
      "metadata": {
        "id": "_QO22nWAcFDF"
      },
      "execution_count": 1438,
      "outputs": []
    },
    {
      "cell_type": "code",
      "source": [
        "final_data=final_data.dropna()"
      ],
      "metadata": {
        "id": "NXmvEcXJdA-0"
      },
      "execution_count": 1439,
      "outputs": []
    },
    {
      "cell_type": "code",
      "source": [
        "final_data.Signal_Flag.value_counts()"
      ],
      "metadata": {
        "id": "7QsDWXD3dJPE",
        "outputId": "d2dad443-b2b0-4d17-d2a4-222646a914e8",
        "colab": {
          "base_uri": "https://localhost:8080/"
        }
      },
      "execution_count": 1440,
      "outputs": [
        {
          "output_type": "execute_result",
          "data": {
            "text/plain": [
              " 1.0    98\n",
              "-1.0    71\n",
              "Name: Signal_Flag, dtype: int64"
            ]
          },
          "metadata": {},
          "execution_count": 1440
        }
      ]
    },
    {
      "cell_type": "markdown",
      "source": [
        "# Features Creation "
      ],
      "metadata": {
        "id": "X-coQFaUddlN"
      }
    },
    {
      "cell_type": "code",
      "source": [
        "final_data=final_data.reset_index(drop=True)"
      ],
      "metadata": {
        "id": "1T208hxS5H_S"
      },
      "execution_count": 1441,
      "outputs": []
    },
    {
      "cell_type": "code",
      "source": [
        "final_data.ta.macd(append=True)\n",
        "final_data.ta.vortex(append=True)\n",
        "final_data.ta.aroon(append=True)\n",
        "final_data.ta.mom(append=True)\n",
        "final_data.ta.stdev(append=True)\n",
        "final_data.ta.linreg(append=True)\n",
        "final_data['spread']=final_data['LR_14']-final_data['close']\n",
        "print()"
      ],
      "metadata": {
        "id": "MO1crHsvdVGE",
        "colab": {
          "base_uri": "https://localhost:8080/"
        },
        "outputId": "30eaae6d-be72-4eec-b364-c57248315dc1"
      },
      "execution_count": 1442,
      "outputs": [
        {
          "output_type": "stream",
          "name": "stdout",
          "text": [
            "\n"
          ]
        }
      ]
    },
    {
      "cell_type": "code",
      "source": [
        "final_data['date']=final_data['date'].map(dt.datetime.toordinal)"
      ],
      "metadata": {
        "id": "hBannMF82-sy"
      },
      "execution_count": 1443,
      "outputs": []
    },
    {
      "cell_type": "code",
      "source": [
        "final_data=final_data.dropna()"
      ],
      "metadata": {
        "id": "SZ6ikcFU5Fyl"
      },
      "execution_count": 1444,
      "outputs": []
    },
    {
      "cell_type": "code",
      "source": [
        "features=final_data.columns.tolist()"
      ],
      "metadata": {
        "id": "SS7PfRTY1pvL"
      },
      "execution_count": 1445,
      "outputs": []
    },
    {
      "cell_type": "code",
      "source": [
        "features=[feats for feats in features if feats not in ['Signal_Flag']]"
      ],
      "metadata": {
        "id": "fUA0QQj-2E_V"
      },
      "execution_count": 1446,
      "outputs": []
    },
    {
      "cell_type": "code",
      "source": [
        "X=final_data[features]\n",
        "y=final_data['Signal_Flag']"
      ],
      "metadata": {
        "id": "icv9GduG2dVq"
      },
      "execution_count": 1447,
      "outputs": []
    },
    {
      "cell_type": "code",
      "source": [
        "chk='Timeseries'"
      ],
      "metadata": {
        "id": "9ZE24SPe2k3i"
      },
      "execution_count": 1448,
      "outputs": []
    },
    {
      "cell_type": "markdown",
      "source": [
        "# and Modelling Part remaining"
      ],
      "metadata": {
        "id": "dE0P3YBD69Bf"
      }
    },
    {
      "cell_type": "code",
      "source": [
        "from sklearn.model_selection import TimeSeriesSplit\n",
        "\n",
        "if chk=='Block':\n",
        "  tscv = BlockingTimeSeriesSplit(n_splits=10)\n",
        "\n",
        "  for fold, (train_index, test_index) in enumerate(tscv.split(X)):\n",
        "      print(\"Fold: {}\".format(fold))\n",
        "      X_train, X_test = X.iloc[train_index], X.iloc[test_index]\n",
        "      y_train, y_test = y.iloc[train_index], y.iloc[test_index]\n",
        "elif chk=='Timeseries':\n",
        "  tscv = TimeSeriesSplit(n_splits=15)\n",
        "  for fold, (train_index, test_index) in enumerate(tscv.split(X)):\n",
        "      print(\"Fold: {}\".format(fold))\n",
        "      X_train, X_test = X.iloc[train_index], X.iloc[test_index]\n",
        "      y_train, y_test = y.iloc[train_index], y.iloc[test_index]"
      ],
      "metadata": {
        "id": "H1I_Bn8z6zSd",
        "colab": {
          "base_uri": "https://localhost:8080/"
        },
        "outputId": "c929b2b2-f096-43d9-8465-985557e559ab"
      },
      "execution_count": 1449,
      "outputs": [
        {
          "output_type": "stream",
          "name": "stdout",
          "text": [
            "Fold: 0\n",
            "Fold: 1\n",
            "Fold: 2\n",
            "Fold: 3\n",
            "Fold: 4\n",
            "Fold: 5\n",
            "Fold: 6\n",
            "Fold: 7\n",
            "Fold: 8\n",
            "Fold: 9\n",
            "Fold: 10\n",
            "Fold: 11\n",
            "Fold: 12\n",
            "Fold: 13\n",
            "Fold: 14\n"
          ]
        }
      ]
    },
    {
      "cell_type": "code",
      "source": [
        "for train_index, test_index in tscv.split(X,y):\n",
        "    X_train, X_test = X.iloc[train_index], X.iloc[test_index]\n",
        "    y_train, y_test = y.iloc[train_index], y.iloc[test_index]"
      ],
      "metadata": {
        "id": "JrpwLjvB2pmM"
      },
      "execution_count": 1450,
      "outputs": []
    },
    {
      "cell_type": "code",
      "source": [
        "rand_frst_clf = RandomForestClassifier(n_estimators =220,max_depth=35,min_samples_leaf=14,max_features = \"auto\",min_samples_split=40, criterion = \"gini\", bootstrap=True,random_state = 42)\n"
      ],
      "metadata": {
        "id": "oETkaFhl2pgq"
      },
      "execution_count": 1451,
      "outputs": []
    },
    {
      "cell_type": "code",
      "source": [
        "# Fit the data to the model\n",
        "rand_frst_clf.fit(X_train, y_train)"
      ],
      "metadata": {
        "colab": {
          "base_uri": "https://localhost:8080/"
        },
        "id": "xSSGL2su2pdK",
        "outputId": "86f478db-bf65-4419-b1e6-7dbb17627f11"
      },
      "execution_count": 1452,
      "outputs": [
        {
          "output_type": "execute_result",
          "data": {
            "text/plain": [
              "RandomForestClassifier(max_depth=35, min_samples_leaf=14, min_samples_split=40,\n",
              "                       n_estimators=220, random_state=42)"
            ]
          },
          "metadata": {},
          "execution_count": 1452
        }
      ]
    },
    {
      "cell_type": "code",
      "source": [
        "feature_imp = pd.Series(rand_frst_clf.feature_importances_, index=X_train.columns).sort_values(ascending=False)\n",
        "feature_imp*100\n",
        "feats=X_train.columns\n",
        "feature_imp"
      ],
      "metadata": {
        "colab": {
          "base_uri": "https://localhost:8080/"
        },
        "id": "0MraqBNw3dGK",
        "outputId": "51a5d38c-44b3-4d18-9a99-a71209d9e54e"
      },
      "execution_count": 1453,
      "outputs": [
        {
          "output_type": "execute_result",
          "data": {
            "text/plain": [
              "spread           0.305550\n",
              "AROONU_14        0.126401\n",
              "MOM_10           0.085073\n",
              "MACDh_12_26_9    0.062916\n",
              "VTXM_14          0.054749\n",
              "VTXP_14          0.045471\n",
              "AROOND_14        0.034092\n",
              "high             0.024391\n",
              "diff             0.024078\n",
              "MACDs_12_26_9    0.024059\n",
              "close_2%         0.022703\n",
              "adj_close        0.022175\n",
              "AROONOSC_14      0.021844\n",
              "cumsum           0.020119\n",
              "low              0.019778\n",
              "LR_14            0.019029\n",
              "MACD_12_26_9     0.017232\n",
              "STDEV_30         0.016789\n",
              "volume           0.015782\n",
              "close            0.015356\n",
              "date             0.013522\n",
              "open             0.008891\n",
              "dtype: float64"
            ]
          },
          "metadata": {},
          "execution_count": 1453
        }
      ]
    },
    {
      "cell_type": "code",
      "source": [
        "#y_pd= rand_frst_clf.predict(X_train)"
      ],
      "metadata": {
        "id": "re5OjFl53nGP"
      },
      "execution_count": 1454,
      "outputs": []
    },
    {
      "cell_type": "code",
      "source": [
        "# Make predictions\n",
        "y_pred = rand_frst_clf.predict(X_test)"
      ],
      "metadata": {
        "id": "5QZ3_g1K3nD8"
      },
      "execution_count": 1455,
      "outputs": []
    },
    {
      "cell_type": "code",
      "source": [
        "timeseries=pd.concat([X_test['adj_close'].reset_index(),pd.Series(y_pred)],axis=1)"
      ],
      "metadata": {
        "id": "ZaGp7J813nBM"
      },
      "execution_count": 1456,
      "outputs": []
    },
    {
      "cell_type": "code",
      "source": [
        "timeseries.columns=['index','close','prediction']"
      ],
      "metadata": {
        "id": "sXlmjz5E3m-Z"
      },
      "execution_count": 1457,
      "outputs": []
    },
    {
      "cell_type": "code",
      "source": [
        "import matplotlib.pyplot as plt\n",
        "fig, ax = plt.subplots(2,1, figsize=(15,9),sharex=True)\n",
        "ax[0].plot(timeseries.loc[:, :].index, timeseries.loc[:, 'close'], label='close')\n",
        "ax[1].plot(timeseries.loc[:, :].index, timeseries.loc[:, 'prediction'], label='Nifty')\n",
        "ax[0].legend()\n",
        "ax[1].legend()\n",
        "plt.show()"
      ],
      "metadata": {
        "colab": {
          "base_uri": "https://localhost:8080/",
          "height": 502
        },
        "id": "mNP0CkfO34Sh",
        "outputId": "de310fe5-80a9-44cc-be13-8df4410e7e74"
      },
      "execution_count": 1458,
      "outputs": [
        {
          "output_type": "display_data",
          "data": {
            "image/png": "[encoded data removed]",
            "text/plain": [
              "<Figure size 1080x648 with 2 Axes>"
            ]
          },
          "metadata": {
            "needs_background": "light"
          }
        }
      ]
    },
    {
      "cell_type": "code",
      "source": [
        "data_for_testing=yf.download(tickr,start='2019-01-01',parse_dates=['Date']).reset_index()"
      ],
      "metadata": {
        "colab": {
          "base_uri": "https://localhost:8080/"
        },
        "id": "sDpQe92g4H6L",
        "outputId": "b429e75d-173f-42be-9b0b-2e72a0c2740b"
      },
      "execution_count": 1459,
      "outputs": [
        {
          "output_type": "stream",
          "name": "stdout",
          "text": [
            "\r[*********************100%***********************]  1 of 1 completed\n"
          ]
        }
      ]
    },
    {
      "cell_type": "code",
      "source": [
        "data_for_testing['Date']=data_for_testing['Date'].map(dt.datetime.toordinal)"
      ],
      "metadata": {
        "id": "Nd244nlM4H30"
      },
      "execution_count": 1460,
      "outputs": []
    },
    {
      "cell_type": "code",
      "source": [
        "data_for_testing['close_2%']=np.abs(data_for_testing['Adj Close'].pct_change()*100).fillna(0)"
      ],
      "metadata": {
        "id": "aImxKJhs4H1c"
      },
      "execution_count": 1461,
      "outputs": []
    },
    {
      "cell_type": "code",
      "source": [
        "test_data=pd.DataFrame(data=data_for_testing['close_2%'].values,columns=['sum'])"
      ],
      "metadata": {
        "id": "JWKgRLn74Hy4"
      },
      "execution_count": 1462,
      "outputs": []
    },
    {
      "cell_type": "code",
      "source": [
        "data_for_testing['cumsum']=0"
      ],
      "metadata": {
        "id": "fTi4mrLt4Hxk"
      },
      "execution_count": 1463,
      "outputs": []
    },
    {
      "cell_type": "code",
      "source": [
        "for index , val in enumerate(data_for_testing['close_2%']):\n",
        "  \n",
        "  if index==0:\n",
        "    data_for_testing.loc[index,'cumsum']=val\n",
        "  else:\n",
        "    if data_for_testing['cumsum'].iloc[index-1]>p_movement:\n",
        "      data_for_testing.loc[index,'cumsum']=val\n",
        "    else:\n",
        "      data_for_testing.loc[index, 'cumsum']=val+data_for_testing['cumsum'].iloc[index-1]"
      ],
      "metadata": {
        "id": "h1B0J0434HuT"
      },
      "execution_count": 1464,
      "outputs": []
    },
    {
      "cell_type": "code",
      "source": [
        "data_for_testing['diff']=data_for_testing['close_2%']-data_for_testing['cumsum']"
      ],
      "metadata": {
        "id": "SoKpvk_N4Hrk"
      },
      "execution_count": 1465,
      "outputs": []
    },
    {
      "cell_type": "code",
      "source": [
        "final_test_data=data_for_testing.iloc[data_for_testing[data_for_testing['diff']==0].index-1][1:]"
      ],
      "metadata": {
        "id": "HtnBXYf_4HpS"
      },
      "execution_count": 1466,
      "outputs": []
    },
    {
      "cell_type": "code",
      "source": [
        "final_test_data.ta.macd(append=True)\n",
        "final_test_data.ta.vortex(append=True)\n",
        "final_test_data.ta.aroon(append=True)\n",
        "final_test_data.ta.mom(append=True)\n",
        "final_test_data.ta.stdev(append=True)\n",
        "final_test_data.ta.linreg(append=True)\n",
        "final_test_data['spread']=final_test_data['LR_14']-final_test_data['close']\n",
        "print()"
      ],
      "metadata": {
        "colab": {
          "base_uri": "https://localhost:8080/"
        },
        "id": "On6PwpVd4Hmr",
        "outputId": "00445ba0-fd1b-46c1-f02f-50dadca3c05f"
      },
      "execution_count": 1467,
      "outputs": [
        {
          "output_type": "stream",
          "name": "stdout",
          "text": [
            "\n"
          ]
        }
      ]
    },
    {
      "cell_type": "code",
      "source": [
        "final_test_data['Signal_Flag'] = final_test_data['close'].transform(lambda x : np.sign(x.diff(days_out)))"
      ],
      "metadata": {
        "id": "eJ9WqXE74HkV"
      },
      "execution_count": 1468,
      "outputs": []
    },
    {
      "cell_type": "code",
      "source": [
        "final_test_data=final_test_data.dropna()"
      ],
      "metadata": {
        "id": "EaXiW_Zz4Hhu"
      },
      "execution_count": 1469,
      "outputs": []
    },
    {
      "cell_type": "code",
      "source": [
        "predict=rand_frst_clf.predict(final_test_data[features])"
      ],
      "metadata": {
        "id": "fYuCqwKc4HfE"
      },
      "execution_count": 1470,
      "outputs": []
    },
    {
      "cell_type": "code",
      "source": [
        "timeseries=pd.concat([final_test_data['adj_close'].dropna()[-len(predict):].reset_index(),pd.Series(predict)],axis=1)"
      ],
      "metadata": {
        "id": "SCxhFj6L4Hch"
      },
      "execution_count": 1471,
      "outputs": []
    },
    {
      "cell_type": "code",
      "source": [
        "timeseries.columns=['index','adj_close','predict']"
      ],
      "metadata": {
        "id": "JDdQ6paa67Yp"
      },
      "execution_count": 1472,
      "outputs": []
    },
    {
      "cell_type": "code",
      "source": [
        "fig, ax = plt.subplots(figsize=(10,5),sharex=True)\n",
        "ax.plot(timeseries.loc[:, :].index, timeseries.loc[:, 'adj_close'], label='Nifty',color='g',marker='o')\n",
        "ax2=ax.twinx()\n",
        "ax2.plot(timeseries.loc[:, :].index, timeseries.loc[:, 'predict'], label='Prediction',color='r',linewidth=1)\n",
        "plt.show()"
      ],
      "metadata": {
        "colab": {
          "base_uri": "https://localhost:8080/",
          "height": 320
        },
        "id": "Dkl1pFkZ67UV",
        "outputId": "573f7feb-7edb-4c09-f8a4-aa699405e718"
      },
      "execution_count": 1473,
      "outputs": [
        {
          "output_type": "display_data",
          "data": {
            "image/png": "[encoded data removed]",
            "text/plain": [
              "<Figure size 720x360 with 2 Axes>"
            ]
          },
          "metadata": {
            "needs_background": "light"
          }
        }
      ]
    },
    {
      "cell_type": "code",
      "source": [
        "print('days out :', days_out)\n",
        "print('percentage movement :',str(p_movement) + ' %')"
      ],
      "metadata": {
        "id": "yMMhCevtiEt5",
        "outputId": "7f9282ca-5ecd-468f-e4e6-550b5eee3287",
        "colab": {
          "base_uri": "https://localhost:8080/"
        }
      },
      "execution_count": 1474,
      "outputs": [
        {
          "output_type": "stream",
          "name": "stdout",
          "text": [
            "days out : 2\n",
            "percentage movement : 4 %\n"
          ]
        }
      ]
    },
    {
      "cell_type": "code",
      "source": [
        "data_for_testing.tail(8)"
      ],
      "metadata": {
        "id": "fjlmkgXM67Rq",
        "outputId": "97cb5063-cf24-4697-de34-ebebbf3d1a84",
        "colab": {
          "base_uri": "https://localhost:8080/",
          "height": 364
        }
      },
      "execution_count": 1477,
      "outputs": [
        {
          "output_type": "execute_result",
          "data": {
            "text/html": [
              "\n",
              "  <div id=\"df-440e1a3f-7671-4f83-a170-d7050a0fd536\">\n",
              "    <div class=\"colab-df-container\">\n",
              "      <div>\n",
              "<style scoped>\n",
              "    .dataframe tbody tr th:only-of-type {\n",
              "        vertical-align: middle;\n",
              "    }\n",
              "\n",
              "    .dataframe tbody tr th {\n",
              "        vertical-align: top;\n",
              "    }\n",
              "\n",
              "    .dataframe thead th {\n",
              "        text-align: right;\n",
              "    }\n",
              "</style>\n",
              "<table border=\"1\" class=\"dataframe\">\n",
              "  <thead>\n",
              "    <tr style=\"text-align: right;\">\n",
              "      <th></th>\n",
              "      <th>Date</th>\n",
              "      <th>Open</th>\n",
              "      <th>High</th>\n",
              "      <th>Low</th>\n",
              "      <th>Close</th>\n",
              "      <th>Adj Close</th>\n",
              "      <th>Volume</th>\n",
              "      <th>close_2%</th>\n",
              "      <th>cumsum</th>\n",
              "      <th>diff</th>\n",
              "    </tr>\n",
              "  </thead>\n",
              "  <tbody>\n",
              "    <tr>\n",
              "      <th>736</th>\n",
              "      <td>738154</td>\n",
              "      <td>17201.449219</td>\n",
              "      <td>17264.050781</td>\n",
              "      <td>17146.349609</td>\n",
              "      <td>17203.949219</td>\n",
              "      <td>17203.949219</td>\n",
              "      <td>320800</td>\n",
              "      <td>0.056063</td>\n",
              "      <td>0.170089</td>\n",
              "      <td>-0.114026</td>\n",
              "    </tr>\n",
              "    <tr>\n",
              "      <th>737</th>\n",
              "      <td>738155</td>\n",
              "      <td>17244.500000</td>\n",
              "      <td>17400.800781</td>\n",
              "      <td>17238.500000</td>\n",
              "      <td>17354.050781</td>\n",
              "      <td>17354.050781</td>\n",
              "      <td>167000</td>\n",
              "      <td>0.872483</td>\n",
              "      <td>1.042572</td>\n",
              "      <td>-0.170089</td>\n",
              "    </tr>\n",
              "    <tr>\n",
              "      <th>738</th>\n",
              "      <td>738158</td>\n",
              "      <td>17387.150391</td>\n",
              "      <td>17646.650391</td>\n",
              "      <td>17383.300781</td>\n",
              "      <td>17625.699219</td>\n",
              "      <td>17625.699219</td>\n",
              "      <td>200500</td>\n",
              "      <td>1.565332</td>\n",
              "      <td>2.607903</td>\n",
              "      <td>-1.042572</td>\n",
              "    </tr>\n",
              "    <tr>\n",
              "      <th>739</th>\n",
              "      <td>738159</td>\n",
              "      <td>17681.400391</td>\n",
              "      <td>17827.599609</td>\n",
              "      <td>17593.550781</td>\n",
              "      <td>17805.250000</td>\n",
              "      <td>17805.250000</td>\n",
              "      <td>247400</td>\n",
              "      <td>1.018687</td>\n",
              "      <td>3.626591</td>\n",
              "      <td>-2.607903</td>\n",
              "    </tr>\n",
              "    <tr>\n",
              "      <th>740</th>\n",
              "      <td>738160</td>\n",
              "      <td>17820.099609</td>\n",
              "      <td>17944.699219</td>\n",
              "      <td>17748.849609</td>\n",
              "      <td>17925.250000</td>\n",
              "      <td>17925.250000</td>\n",
              "      <td>251500</td>\n",
              "      <td>0.673959</td>\n",
              "      <td>4.300549</td>\n",
              "      <td>-3.626591</td>\n",
              "    </tr>\n",
              "    <tr>\n",
              "      <th>741</th>\n",
              "      <td>738161</td>\n",
              "      <td>17768.500000</td>\n",
              "      <td>17797.949219</td>\n",
              "      <td>17655.550781</td>\n",
              "      <td>17745.900391</td>\n",
              "      <td>17745.900391</td>\n",
              "      <td>236500</td>\n",
              "      <td>1.000542</td>\n",
              "      <td>1.000542</td>\n",
              "      <td>0.000000</td>\n",
              "    </tr>\n",
              "    <tr>\n",
              "      <th>742</th>\n",
              "      <td>738162</td>\n",
              "      <td>17797.599609</td>\n",
              "      <td>17905.000000</td>\n",
              "      <td>17704.550781</td>\n",
              "      <td>17812.699219</td>\n",
              "      <td>17812.699219</td>\n",
              "      <td>239300</td>\n",
              "      <td>0.376418</td>\n",
              "      <td>1.376960</td>\n",
              "      <td>-1.000542</td>\n",
              "    </tr>\n",
              "    <tr>\n",
              "      <th>743</th>\n",
              "      <td>738165</td>\n",
              "      <td>17913.300781</td>\n",
              "      <td>18017.449219</td>\n",
              "      <td>17879.150391</td>\n",
              "      <td>18003.300781</td>\n",
              "      <td>18003.300781</td>\n",
              "      <td>0</td>\n",
              "      <td>1.070032</td>\n",
              "      <td>2.446992</td>\n",
              "      <td>-1.376960</td>\n",
              "    </tr>\n",
              "  </tbody>\n",
              "</table>\n",
              "</div>\n",
              "      <button class=\"colab-df-convert\" onclick=\"convertToInteractive('df-440e1a3f-7671-4f83-a170-d7050a0fd536')\"\n",
              "              title=\"Convert this dataframe to an interactive table.\"\n",
              "              style=\"display:none;\">\n",
              "        \n",
              "  <svg xmlns=\"http://www.w3.org/2000/svg\" height=\"24px\"viewBox=\"0 0 24 24\"\n",
              "       width=\"24px\">\n",
              "    <path d=\"M0 0h24v24H0V0z\" fill=\"none\"/>\n",
              "    <path d=\"M18.56 5.44l.94 2.06.94-2.06 2.06-.94-2.06-.94-.94-2.06-.94 2.06-2.06.94zm-11 1L8.5 8.5l.94-2.06 2.06-.94-2.06-.94L8.5 2.5l-.94 2.06-2.06.94zm10 10l.94 2.06.94-2.06 2.06-.94-2.06-.94-.94-2.06-.94 2.06-2.06.94z\"/><path d=\"M17.41 7.96l-1.37-1.37c-.4-.4-.92-.59-1.43-.59-.52 0-1.04.2-1.43.59L10.3 9.45l-7.72 7.72c-.78.78-.78 2.05 0 2.83L4 21.41c.39.39.9.59 1.41.59.51 0 1.02-.2 1.41-.59l7.78-7.78 2.81-2.81c.8-.78.8-2.07 0-2.86zM5.41 20L4 18.59l7.72-7.72 1.47 1.35L5.41 20z\"/>\n",
              "  </svg>\n",
              "      </button>\n",
              "      \n",
              "  <style>\n",
              "    .colab-df-container {\n",
              "      display:flex;\n",
              "      flex-wrap:wrap;\n",
              "      gap: 12px;\n",
              "    }\n",
              "\n",
              "    .colab-df-convert {\n",
              "      background-color: #E8F0FE;\n",
              "      border: none;\n",
              "      border-radius: 50%;\n",
              "      cursor: pointer;\n",
              "      display: none;\n",
              "      fill: #1967D2;\n",
              "      height: 32px;\n",
              "      padding: 0 0 0 0;\n",
              "      width: 32px;\n",
              "    }\n",
              "\n",
              "    .colab-df-convert:hover {\n",
              "      background-color: #E2EBFA;\n",
              "      box-shadow: 0px 1px 2px rgba(60, 64, 67, 0.3), 0px 1px 3px 1px rgba(60, 64, 67, 0.15);\n",
              "      fill: #174EA6;\n",
              "    }\n",
              "\n",
              "    [theme=dark] .colab-df-convert {\n",
              "      background-color: #3B4455;\n",
              "      fill: #D2E3FC;\n",
              "    }\n",
              "\n",
              "    [theme=dark] .colab-df-convert:hover {\n",
              "      background-color: #434B5C;\n",
              "      box-shadow: 0px 1px 3px 1px rgba(0, 0, 0, 0.15);\n",
              "      filter: drop-shadow(0px 1px 2px rgba(0, 0, 0, 0.3));\n",
              "      fill: #FFFFFF;\n",
              "    }\n",
              "  </style>\n",
              "\n",
              "      <script>\n",
              "        const buttonEl =\n",
              "          document.querySelector('#df-440e1a3f-7671-4f83-a170-d7050a0fd536 button.colab-df-convert');\n",
              "        buttonEl.style.display =\n",
              "          google.colab.kernel.accessAllowed ? 'block' : 'none';\n",
              "\n",
              "        async function convertToInteractive(key) {\n",
              "          const element = document.querySelector('#df-440e1a3f-7671-4f83-a170-d7050a0fd536');\n",
              "          const dataTable =\n",
              "            await google.colab.kernel.invokeFunction('convertToInteractive',\n",
              "                                                     [key], {});\n",
              "          if (!dataTable) return;\n",
              "\n",
              "          const docLinkHtml = 'Like what you see? Visit the ' +\n",
              "            '<a target=\"_blank\" href=https://colab.research.google.com/notebooks/data_table.ipynb>data table notebook</a>'\n",
              "            + ' to learn more about interactive tables.';\n",
              "          element.innerHTML = '';\n",
              "          dataTable['output_type'] = 'display_data';\n",
              "          await google.colab.output.renderOutput(dataTable, element);\n",
              "          const docLink = document.createElement('div');\n",
              "          docLink.innerHTML = docLinkHtml;\n",
              "          element.appendChild(docLink);\n",
              "        }\n",
              "      </script>\n",
              "    </div>\n",
              "  </div>\n",
              "  "
            ],
            "text/plain": [
              "       Date          Open          High  ...  close_2%    cumsum      diff\n",
              "736  738154  17201.449219  17264.050781  ...  0.056063  0.170089 -0.114026\n",
              "737  738155  17244.500000  17400.800781  ...  0.872483  1.042572 -0.170089\n",
              "738  738158  17387.150391  17646.650391  ...  1.565332  2.607903 -1.042572\n",
              "739  738159  17681.400391  17827.599609  ...  1.018687  3.626591 -2.607903\n",
              "740  738160  17820.099609  17944.699219  ...  0.673959  4.300549 -3.626591\n",
              "741  738161  17768.500000  17797.949219  ...  1.000542  1.000542  0.000000\n",
              "742  738162  17797.599609  17905.000000  ...  0.376418  1.376960 -1.000542\n",
              "743  738165  17913.300781  18017.449219  ...  1.070032  2.446992 -1.376960\n",
              "\n",
              "[8 rows x 10 columns]"
            ]
          },
          "metadata": {},
          "execution_count": 1477
        }
      ]
    },
    {
      "cell_type": "code",
      "source": [
        "final_test_data.tail(2)"
      ],
      "metadata": {
        "id": "XoPTY8P2dMj8",
        "outputId": "f51e213b-2aae-4921-b768-404d1111fc24",
        "colab": {
          "base_uri": "https://localhost:8080/",
          "height": 176
        }
      },
      "execution_count": 1476,
      "outputs": [
        {
          "output_type": "execute_result",
          "data": {
            "text/html": [
              "\n",
              "  <div id=\"df-349ff0ef-7729-4a73-8fcb-5ab070b30072\">\n",
              "    <div class=\"colab-df-container\">\n",
              "      <div>\n",
              "<style scoped>\n",
              "    .dataframe tbody tr th:only-of-type {\n",
              "        vertical-align: middle;\n",
              "    }\n",
              "\n",
              "    .dataframe tbody tr th {\n",
              "        vertical-align: top;\n",
              "    }\n",
              "\n",
              "    .dataframe thead th {\n",
              "        text-align: right;\n",
              "    }\n",
              "</style>\n",
              "<table border=\"1\" class=\"dataframe\">\n",
              "  <thead>\n",
              "    <tr style=\"text-align: right;\">\n",
              "      <th></th>\n",
              "      <th>date</th>\n",
              "      <th>open</th>\n",
              "      <th>high</th>\n",
              "      <th>low</th>\n",
              "      <th>close</th>\n",
              "      <th>adj_close</th>\n",
              "      <th>volume</th>\n",
              "      <th>close_2%</th>\n",
              "      <th>cumsum</th>\n",
              "      <th>diff</th>\n",
              "      <th>MACD_12_26_9</th>\n",
              "      <th>MACDh_12_26_9</th>\n",
              "      <th>MACDs_12_26_9</th>\n",
              "      <th>VTXP_14</th>\n",
              "      <th>VTXM_14</th>\n",
              "      <th>AROOND_14</th>\n",
              "      <th>AROONU_14</th>\n",
              "      <th>AROONOSC_14</th>\n",
              "      <th>MOM_10</th>\n",
              "      <th>STDEV_30</th>\n",
              "      <th>LR_14</th>\n",
              "      <th>spread</th>\n",
              "      <th>Signal_Flag</th>\n",
              "    </tr>\n",
              "  </thead>\n",
              "  <tbody>\n",
              "    <tr>\n",
              "      <th>734</th>\n",
              "      <td>738152</td>\n",
              "      <td>17177.599609</td>\n",
              "      <td>17250.250000</td>\n",
              "      <td>17161.150391</td>\n",
              "      <td>17233.25</td>\n",
              "      <td>17233.25</td>\n",
              "      <td>176000</td>\n",
              "      <td>0.860341</td>\n",
              "      <td>4.483322</td>\n",
              "      <td>-3.622981</td>\n",
              "      <td>685.626360</td>\n",
              "      <td>-159.932559</td>\n",
              "      <td>845.558919</td>\n",
              "      <td>0.828486</td>\n",
              "      <td>0.733787</td>\n",
              "      <td>0.0</td>\n",
              "      <td>42.857143</td>\n",
              "      <td>42.857143</td>\n",
              "      <td>-384.900391</td>\n",
              "      <td>1260.816069</td>\n",
              "      <td>17320.839166</td>\n",
              "      <td>87.589166</td>\n",
              "      <td>-1.0</td>\n",
              "    </tr>\n",
              "    <tr>\n",
              "      <th>740</th>\n",
              "      <td>738160</td>\n",
              "      <td>17820.099609</td>\n",
              "      <td>17944.699219</td>\n",
              "      <td>17748.849609</td>\n",
              "      <td>17925.25</td>\n",
              "      <td>17925.25</td>\n",
              "      <td>251500</td>\n",
              "      <td>0.673959</td>\n",
              "      <td>4.300549</td>\n",
              "      <td>-3.626591</td>\n",
              "      <td>699.680995</td>\n",
              "      <td>-116.702339</td>\n",
              "      <td>816.383334</td>\n",
              "      <td>0.835582</td>\n",
              "      <td>0.748952</td>\n",
              "      <td>0.0</td>\n",
              "      <td>35.714286</td>\n",
              "      <td>35.714286</td>\n",
              "      <td>30.050781</td>\n",
              "      <td>1287.483412</td>\n",
              "      <td>17350.025519</td>\n",
              "      <td>-575.224481</td>\n",
              "      <td>1.0</td>\n",
              "    </tr>\n",
              "  </tbody>\n",
              "</table>\n",
              "</div>\n",
              "      <button class=\"colab-df-convert\" onclick=\"convertToInteractive('df-349ff0ef-7729-4a73-8fcb-5ab070b30072')\"\n",
              "              title=\"Convert this dataframe to an interactive table.\"\n",
              "              style=\"display:none;\">\n",
              "        \n",
              "  <svg xmlns=\"http://www.w3.org/2000/svg\" height=\"24px\"viewBox=\"0 0 24 24\"\n",
              "       width=\"24px\">\n",
              "    <path d=\"M0 0h24v24H0V0z\" fill=\"none\"/>\n",
              "    <path d=\"M18.56 5.44l.94 2.06.94-2.06 2.06-.94-2.06-.94-.94-2.06-.94 2.06-2.06.94zm-11 1L8.5 8.5l.94-2.06 2.06-.94-2.06-.94L8.5 2.5l-.94 2.06-2.06.94zm10 10l.94 2.06.94-2.06 2.06-.94-2.06-.94-.94-2.06-.94 2.06-2.06.94z\"/><path d=\"M17.41 7.96l-1.37-1.37c-.4-.4-.92-.59-1.43-.59-.52 0-1.04.2-1.43.59L10.3 9.45l-7.72 7.72c-.78.78-.78 2.05 0 2.83L4 21.41c.39.39.9.59 1.41.59.51 0 1.02-.2 1.41-.59l7.78-7.78 2.81-2.81c.8-.78.8-2.07 0-2.86zM5.41 20L4 18.59l7.72-7.72 1.47 1.35L5.41 20z\"/>\n",
              "  </svg>\n",
              "      </button>\n",
              "      \n",
              "  <style>\n",
              "    .colab-df-container {\n",
              "      display:flex;\n",
              "      flex-wrap:wrap;\n",
              "      gap: 12px;\n",
              "    }\n",
              "\n",
              "    .colab-df-convert {\n",
              "      background-color: #E8F0FE;\n",
              "      border: none;\n",
              "      border-radius: 50%;\n",
              "      cursor: pointer;\n",
              "      display: none;\n",
              "      fill: #1967D2;\n",
              "      height: 32px;\n",
              "      padding: 0 0 0 0;\n",
              "      width: 32px;\n",
              "    }\n",
              "\n",
              "    .colab-df-convert:hover {\n",
              "      background-color: #E2EBFA;\n",
              "      box-shadow: 0px 1px 2px rgba(60, 64, 67, 0.3), 0px 1px 3px 1px rgba(60, 64, 67, 0.15);\n",
              "      fill: #174EA6;\n",
              "    }\n",
              "\n",
              "    [theme=dark] .colab-df-convert {\n",
              "      background-color: #3B4455;\n",
              "      fill: #D2E3FC;\n",
              "    }\n",
              "\n",
              "    [theme=dark] .colab-df-convert:hover {\n",
              "      background-color: #434B5C;\n",
              "      box-shadow: 0px 1px 3px 1px rgba(0, 0, 0, 0.15);\n",
              "      filter: drop-shadow(0px 1px 2px rgba(0, 0, 0, 0.3));\n",
              "      fill: #FFFFFF;\n",
              "    }\n",
              "  </style>\n",
              "\n",
              "      <script>\n",
              "        const buttonEl =\n",
              "          document.querySelector('#df-349ff0ef-7729-4a73-8fcb-5ab070b30072 button.colab-df-convert');\n",
              "        buttonEl.style.display =\n",
              "          google.colab.kernel.accessAllowed ? 'block' : 'none';\n",
              "\n",
              "        async function convertToInteractive(key) {\n",
              "          const element = document.querySelector('#df-349ff0ef-7729-4a73-8fcb-5ab070b30072');\n",
              "          const dataTable =\n",
              "            await google.colab.kernel.invokeFunction('convertToInteractive',\n",
              "                                                     [key], {});\n",
              "          if (!dataTable) return;\n",
              "\n",
              "          const docLinkHtml = 'Like what you see? Visit the ' +\n",
              "            '<a target=\"_blank\" href=https://colab.research.google.com/notebooks/data_table.ipynb>data table notebook</a>'\n",
              "            + ' to learn more about interactive tables.';\n",
              "          element.innerHTML = '';\n",
              "          dataTable['output_type'] = 'display_data';\n",
              "          await google.colab.output.renderOutput(dataTable, element);\n",
              "          const docLink = document.createElement('div');\n",
              "          docLink.innerHTML = docLinkHtml;\n",
              "          element.appendChild(docLink);\n",
              "        }\n",
              "      </script>\n",
              "    </div>\n",
              "  </div>\n",
              "  "
            ],
            "text/plain": [
              "       date          open          high  ...         LR_14      spread  Signal_Flag\n",
              "734  738152  17177.599609  17250.250000  ...  17320.839166   87.589166         -1.0\n",
              "740  738160  17820.099609  17944.699219  ...  17350.025519 -575.224481          1.0\n",
              "\n",
              "[2 rows x 23 columns]"
            ]
          },
          "metadata": {},
          "execution_count": 1476
        }
      ]
    },
    {
      "cell_type": "code",
      "source": [
        "if final_test_data['Signal_Flag'].iloc[-1]!=final_test_data['Signal_Flag'].iloc[-2]:\n",
        "  date_triggered=final_test_data['date'].iloc[-1]"
      ],
      "metadata": {
        "id": "wsczVc-FdgID"
      },
      "execution_count": 1478,
      "outputs": []
    },
    {
      "cell_type": "code",
      "source": [
        "date_trig=str(dt.datetime.fromordinal(date_triggered))"
      ],
      "metadata": {
        "id": "hVjoeNdZpsO-"
      },
      "execution_count": 1488,
      "outputs": []
    },
    {
      "cell_type": "code",
      "source": [
        "date_trig"
      ],
      "metadata": {
        "id": "71s0sPlVpsul",
        "outputId": "0fad5f27-e6ff-4021-ec6c-b1139f3765e9",
        "colab": {
          "base_uri": "https://localhost:8080/",
          "height": 35
        }
      },
      "execution_count": 1503,
      "outputs": [
        {
          "output_type": "execute_result",
          "data": {
            "application/vnd.google.colaboratory.intrinsic+json": {
              "type": "string"
            },
            "text/plain": [
              "'2022-01-05 00:00:00'"
            ]
          },
          "metadata": {},
          "execution_count": 1503
        }
      ]
    },
    {
      "cell_type": "code",
      "source": [
        "print(f'triggered on date : {int(date_trig[-11:-9])} and signal : {final_test_data[\"Signal_Flag\"].iloc[-1]}')"
      ],
      "metadata": {
        "id": "RWTf3uURqi5l",
        "outputId": "195aa790-c62a-49b0-b37c-eefafc5dd60f",
        "colab": {
          "base_uri": "https://localhost:8080/"
        }
      },
      "execution_count": 1516,
      "outputs": [
        {
          "output_type": "stream",
          "name": "stdout",
          "text": [
            "triggered on date : 5 and signal : 1.0\n"
          ]
        }
      ]
    },
    {
      "cell_type": "code",
      "source": [
        "#2022-01-05 00:00:00"
      ],
      "metadata": {
        "id": "w8dH8X01qqeO"
      },
      "execution_count": null,
      "outputs": []
    }
  ]
}