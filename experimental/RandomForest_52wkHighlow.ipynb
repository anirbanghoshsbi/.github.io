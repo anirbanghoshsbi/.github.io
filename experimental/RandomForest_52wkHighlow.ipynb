{
  "nbformat": 4,
  "nbformat_minor": 0,
  "metadata": {
    "colab": {
      "name": "Calculating52wkHighlow.ipynb",
      "provenance": [],
      "collapsed_sections": [],
      "authorship_tag": "ABX9TyNCOkTU06QuJP2gUCCUL2le",
      "include_colab_link": true
    },
    "kernelspec": {
      "name": "python3",
      "display_name": "Python 3"
    },
    "language_info": {
      "name": "python"
    }
  },
  "cells": [
    {
      "cell_type": "markdown",
      "metadata": {
        "id": "view-in-github",
        "colab_type": "text"
      },
      "source": [
        "<a href=\"https://colab.research.google.com/github/anirbanghoshsbi/.github.io/blob/master/experimental/RandomForest_52wkHighlow.ipynb\" target=\"_parent\"><img src=\"https://colab.research.google.com/assets/colab-badge.svg\" alt=\"Open In Colab\"/></a>"
      ]
    },
    {
      "cell_type": "code",
      "metadata": {
        "colab": {
          "base_uri": "https://localhost:8080/"
        },
        "id": "yqGTLrHATlsF",
        "outputId": "6542c699-3fcd-45d2-8a5e-495bb5d54cf9"
      },
      "source": [
        "!pip install yfinance"
      ],
      "execution_count": 60,
      "outputs": [
        {
          "output_type": "stream",
          "name": "stdout",
          "text": [
            "Requirement already satisfied: yfinance in /usr/local/lib/python3.7/dist-packages (0.1.64)\n",
            "Requirement already satisfied: numpy>=1.15 in /usr/local/lib/python3.7/dist-packages (from yfinance) (1.19.5)\n",
            "Requirement already satisfied: pandas>=0.24 in /usr/local/lib/python3.7/dist-packages (from yfinance) (1.1.5)\n",
            "Requirement already satisfied: lxml>=4.5.1 in /usr/local/lib/python3.7/dist-packages (from yfinance) (4.6.4)\n",
            "Requirement already satisfied: multitasking>=0.0.7 in /usr/local/lib/python3.7/dist-packages (from yfinance) (0.0.9)\n",
            "Requirement already satisfied: requests>=2.20 in /usr/local/lib/python3.7/dist-packages (from yfinance) (2.23.0)\n",
            "Requirement already satisfied: python-dateutil>=2.7.3 in /usr/local/lib/python3.7/dist-packages (from pandas>=0.24->yfinance) (2.8.2)\n",
            "Requirement already satisfied: pytz>=2017.2 in /usr/local/lib/python3.7/dist-packages (from pandas>=0.24->yfinance) (2018.9)\n",
            "Requirement already satisfied: six>=1.5 in /usr/local/lib/python3.7/dist-packages (from python-dateutil>=2.7.3->pandas>=0.24->yfinance) (1.15.0)\n",
            "Requirement already satisfied: certifi>=2017.4.17 in /usr/local/lib/python3.7/dist-packages (from requests>=2.20->yfinance) (2021.5.30)\n",
            "Requirement already satisfied: urllib3!=1.25.0,!=1.25.1,<1.26,>=1.21.1 in /usr/local/lib/python3.7/dist-packages (from requests>=2.20->yfinance) (1.24.3)\n",
            "Requirement already satisfied: idna<3,>=2.5 in /usr/local/lib/python3.7/dist-packages (from requests>=2.20->yfinance) (2.10)\n",
            "Requirement already satisfied: chardet<4,>=3.0.2 in /usr/local/lib/python3.7/dist-packages (from requests>=2.20->yfinance) (3.0.4)\n"
          ]
        }
      ]
    },
    {
      "cell_type": "code",
      "metadata": {
        "id": "PWW952OFTdDw"
      },
      "source": [
        "import pandas as pd\n",
        "import numpy as np\n",
        "import yfinance as yf\n",
        "from sklearn.ensemble import RandomForestClassifier\n",
        "from sklearn.model_selection import train_test_split\n",
        "from sklearn.model_selection import RandomizedSearchCV\n",
        "from sklearn.metrics import plot_roc_curve\n",
        "from sklearn.metrics import accuracy_score, classification_report\n",
        "import matplotlib.pyplot as plt\n"
      ],
      "execution_count": 61,
      "outputs": []
    },
    {
      "cell_type": "code",
      "metadata": {
        "id": "WtjJn2uJUeWU"
      },
      "source": [
        "START = \"2013-01-01\"  #yyyy-mm-dd\n",
        "END = '2020-06-01'\n",
        "START_testdate='2020-10-01'"
      ],
      "execution_count": 62,
      "outputs": []
    },
    {
      "cell_type": "code",
      "metadata": {
        "id": "QnUwgx6TQTsS",
        "outputId": "a35f91a5-0d9f-48fb-911e-66235d9a693e",
        "colab": {
          "base_uri": "https://localhost:8080/"
        }
      },
      "source": [
        "nifty=yf.download('^nsei',start=START,end=END)"
      ],
      "execution_count": 63,
      "outputs": [
        {
          "output_type": "stream",
          "name": "stdout",
          "text": [
            "\r[*********************100%***********************]  1 of 1 completed\n"
          ]
        }
      ]
    },
    {
      "cell_type": "code",
      "metadata": {
        "id": "BEiK4-hPT6gk"
      },
      "source": [
        "ticker = pd.read_csv('/content/ind_nifty100list.csv')"
      ],
      "execution_count": 64,
      "outputs": []
    },
    {
      "cell_type": "code",
      "metadata": {
        "colab": {
          "base_uri": "https://localhost:8080/",
          "height": 110
        },
        "id": "opnrKZDsUBuY",
        "outputId": "545256e8-78da-4128-ded8-158c2b445e1c"
      },
      "source": [
        "ticker.tail(2)"
      ],
      "execution_count": 65,
      "outputs": [
        {
          "output_type": "execute_result",
          "data": {
            "text/html": [
              "<div>\n",
              "<style scoped>\n",
              "    .dataframe tbody tr th:only-of-type {\n",
              "        vertical-align: middle;\n",
              "    }\n",
              "\n",
              "    .dataframe tbody tr th {\n",
              "        vertical-align: top;\n",
              "    }\n",
              "\n",
              "    .dataframe thead th {\n",
              "        text-align: right;\n",
              "    }\n",
              "</style>\n",
              "<table border=\"1\" class=\"dataframe\">\n",
              "  <thead>\n",
              "    <tr style=\"text-align: right;\">\n",
              "      <th></th>\n",
              "      <th>Company Name</th>\n",
              "      <th>Industry</th>\n",
              "      <th>Symbol</th>\n",
              "      <th>Series</th>\n",
              "      <th>ISIN Code</th>\n",
              "    </tr>\n",
              "  </thead>\n",
              "  <tbody>\n",
              "    <tr>\n",
              "      <th>98</th>\n",
              "      <td>Wipro Ltd.</td>\n",
              "      <td>IT</td>\n",
              "      <td>WIPRO</td>\n",
              "      <td>EQ</td>\n",
              "      <td>INE075A01022</td>\n",
              "    </tr>\n",
              "    <tr>\n",
              "      <th>99</th>\n",
              "      <td>Yes Bank Ltd.</td>\n",
              "      <td>FINANCIAL SERVICES</td>\n",
              "      <td>YESBANK</td>\n",
              "      <td>EQ</td>\n",
              "      <td>INE528G01035</td>\n",
              "    </tr>\n",
              "  </tbody>\n",
              "</table>\n",
              "</div>"
            ],
            "text/plain": [
              "     Company Name            Industry   Symbol Series     ISIN Code\n",
              "98     Wipro Ltd.                  IT    WIPRO     EQ  INE075A01022\n",
              "99  Yes Bank Ltd.  FINANCIAL SERVICES  YESBANK     EQ  INE528G01035"
            ]
          },
          "metadata": {},
          "execution_count": 65
        }
      ]
    },
    {
      "cell_type": "code",
      "metadata": {
        "id": "3DdKrGvRT0ml",
        "colab": {
          "base_uri": "https://localhost:8080/"
        },
        "outputId": "a35820e3-de89-4fc5-a640-31ba899c10bd"
      },
      "source": [
        "#Download Data From Yahoo Finance\n",
        "lst=[]\n",
        "for i in range(len(ticker)):\n",
        "  dfi = yf.download(str(ticker.Symbol.iloc[i])+'.ns', start=START)\n",
        "   \n",
        "  dfi['result']=dfi['High'].rolling(window=256, min_periods=1).max()\n",
        "  dfi['result_low']=dfi['Low'].rolling(window=256, min_periods=1).min()\n",
        "  dfi['high52']=np.where(dfi['High']>=dfi['result'],1,0)\n",
        "  dfi['low52']=np.where(dfi['Low']<=dfi['result_low'],1,0)\n",
        "  dfi = dfi.dropna()\n",
        "   \n",
        "  #df.head(3)\n",
        "  #print('Done : '+ nifty10[i])\n",
        "  #print(df.head(2))\n",
        "  lst.append(dfi)\n",
        "\n",
        "#df1.head(3)\n",
        "print('\\n All Completed \\n')"
      ],
      "execution_count": 66,
      "outputs": [
        {
          "output_type": "stream",
          "name": "stdout",
          "text": [
            "[*********************100%***********************]  1 of 1 completed\n",
            "[*********************100%***********************]  1 of 1 completed\n",
            "[*********************100%***********************]  1 of 1 completed\n",
            "[*********************100%***********************]  1 of 1 completed\n",
            "[*********************100%***********************]  1 of 1 completed\n",
            "[*********************100%***********************]  1 of 1 completed\n",
            "[*********************100%***********************]  1 of 1 completed\n",
            "[*********************100%***********************]  1 of 1 completed\n",
            "[*********************100%***********************]  1 of 1 completed\n",
            "[*********************100%***********************]  1 of 1 completed\n",
            "[*********************100%***********************]  1 of 1 completed\n",
            "[*********************100%***********************]  1 of 1 completed\n",
            "[*********************100%***********************]  1 of 1 completed\n",
            "[*********************100%***********************]  1 of 1 completed\n",
            "[*********************100%***********************]  1 of 1 completed\n",
            "[*********************100%***********************]  1 of 1 completed\n",
            "[*********************100%***********************]  1 of 1 completed\n",
            "[*********************100%***********************]  1 of 1 completed\n",
            "[*********************100%***********************]  1 of 1 completed\n",
            "[*********************100%***********************]  1 of 1 completed\n",
            "[*********************100%***********************]  1 of 1 completed\n",
            "[*********************100%***********************]  1 of 1 completed\n",
            "[*********************100%***********************]  1 of 1 completed\n",
            "[*********************100%***********************]  1 of 1 completed\n",
            "[*********************100%***********************]  1 of 1 completed\n",
            "[*********************100%***********************]  1 of 1 completed\n",
            "[*********************100%***********************]  1 of 1 completed\n",
            "[*********************100%***********************]  1 of 1 completed\n",
            "[*********************100%***********************]  1 of 1 completed\n",
            "[*********************100%***********************]  1 of 1 completed\n",
            "[*********************100%***********************]  1 of 1 completed\n",
            "[*********************100%***********************]  1 of 1 completed\n",
            "[*********************100%***********************]  1 of 1 completed\n",
            "[*********************100%***********************]  1 of 1 completed\n",
            "[*********************100%***********************]  1 of 1 completed\n",
            "[*********************100%***********************]  1 of 1 completed\n",
            "[*********************100%***********************]  1 of 1 completed\n",
            "[*********************100%***********************]  1 of 1 completed\n",
            "[*********************100%***********************]  1 of 1 completed\n",
            "[*********************100%***********************]  1 of 1 completed\n",
            "[*********************100%***********************]  1 of 1 completed\n",
            "[*********************100%***********************]  1 of 1 completed\n",
            "[*********************100%***********************]  1 of 1 completed\n",
            "[*********************100%***********************]  1 of 1 completed\n",
            "[*********************100%***********************]  1 of 1 completed\n",
            "[*********************100%***********************]  1 of 1 completed\n",
            "[*********************100%***********************]  1 of 1 completed\n",
            "[*********************100%***********************]  1 of 1 completed\n",
            "[*********************100%***********************]  1 of 1 completed\n",
            "[*********************100%***********************]  1 of 1 completed\n",
            "[*********************100%***********************]  1 of 1 completed\n",
            "[*********************100%***********************]  1 of 1 completed\n",
            "[*********************100%***********************]  1 of 1 completed\n",
            "[*********************100%***********************]  1 of 1 completed\n",
            "[*********************100%***********************]  1 of 1 completed\n",
            "[*********************100%***********************]  1 of 1 completed\n",
            "[*********************100%***********************]  1 of 1 completed\n",
            "[*********************100%***********************]  1 of 1 completed\n",
            "[*********************100%***********************]  1 of 1 completed\n",
            "[*********************100%***********************]  1 of 1 completed\n",
            "[*********************100%***********************]  1 of 1 completed\n",
            "[*********************100%***********************]  1 of 1 completed\n",
            "[*********************100%***********************]  1 of 1 completed\n",
            "[*********************100%***********************]  1 of 1 completed\n",
            "[*********************100%***********************]  1 of 1 completed\n",
            "[*********************100%***********************]  1 of 1 completed\n",
            "[*********************100%***********************]  1 of 1 completed\n",
            "[*********************100%***********************]  1 of 1 completed\n",
            "[*********************100%***********************]  1 of 1 completed\n",
            "[*********************100%***********************]  1 of 1 completed\n",
            "[*********************100%***********************]  1 of 1 completed\n",
            "[*********************100%***********************]  1 of 1 completed\n",
            "[*********************100%***********************]  1 of 1 completed\n",
            "[*********************100%***********************]  1 of 1 completed\n",
            "[*********************100%***********************]  1 of 1 completed\n",
            "[*********************100%***********************]  1 of 1 completed\n",
            "[*********************100%***********************]  1 of 1 completed\n",
            "[*********************100%***********************]  1 of 1 completed\n",
            "[*********************100%***********************]  1 of 1 completed\n",
            "[*********************100%***********************]  1 of 1 completed\n",
            "[*********************100%***********************]  1 of 1 completed\n",
            "[*********************100%***********************]  1 of 1 completed\n",
            "[*********************100%***********************]  1 of 1 completed\n",
            "[*********************100%***********************]  1 of 1 completed\n",
            "[*********************100%***********************]  1 of 1 completed\n",
            "[*********************100%***********************]  1 of 1 completed\n",
            "[*********************100%***********************]  1 of 1 completed\n",
            "[*********************100%***********************]  1 of 1 completed\n",
            "[*********************100%***********************]  1 of 1 completed\n",
            "[*********************100%***********************]  1 of 1 completed\n",
            "[*********************100%***********************]  1 of 1 completed\n",
            "[*********************100%***********************]  1 of 1 completed\n",
            "[*********************100%***********************]  1 of 1 completed\n",
            "[*********************100%***********************]  1 of 1 completed\n",
            "[*********************100%***********************]  1 of 1 completed\n",
            "[*********************100%***********************]  1 of 1 completed\n",
            "[*********************100%***********************]  1 of 1 completed\n",
            "[*********************100%***********************]  1 of 1 completed\n",
            "[*********************100%***********************]  1 of 1 completed\n",
            "[*********************100%***********************]  1 of 1 completed\n",
            "\n",
            " All Completed \n",
            "\n"
          ]
        }
      ]
    },
    {
      "cell_type": "code",
      "metadata": {
        "id": "w2lpwZlc1Db9"
      },
      "source": [
        "nlst=[]\n",
        "for i in range(len(ticker)):\n",
        "  nlst.append(lst[i].high52)\n",
        "  nlst.append(lst[i].low52)\n"
      ],
      "execution_count": 67,
      "outputs": []
    },
    {
      "cell_type": "code",
      "metadata": {
        "id": "RDqgVQwCFM5g"
      },
      "source": [
        "df = pd.DataFrame(nlst).T\n",
        "namelist =[]\n",
        "for i in range(1,len(ticker)+1):\n",
        "  namelist.append('high_'+str(i))\n",
        "  namelist.append('low_'+str(i))\n",
        "df.columns = namelist"
      ],
      "execution_count": 68,
      "outputs": []
    },
    {
      "cell_type": "code",
      "metadata": {
        "id": "LoAuogRjJj9F"
      },
      "source": [
        "def get_sum(df,ema_interval,strng='newhigh'):\n",
        "  var = strng+f'_ema{ema_interval}'\n",
        "  df[var] = df['newhigh'].ewm(span=ema_interval, adjust=False).mean()\n",
        "  return df\n"
      ],
      "execution_count": 69,
      "outputs": []
    },
    {
      "cell_type": "code",
      "metadata": {
        "id": "0c_En4kSF5jZ"
      },
      "source": [
        "df=df[1:].fillna(0)"
      ],
      "execution_count": 70,
      "outputs": []
    },
    {
      "cell_type": "code",
      "metadata": {
        "id": "uARxhTxrG6KP"
      },
      "source": [
        "features = df.columns.tolist()"
      ],
      "execution_count": 71,
      "outputs": []
    },
    {
      "cell_type": "code",
      "metadata": {
        "id": "NBdX0_Fzs-qC"
      },
      "source": [
        "feats_set1=[feats for feats in features if feats.startswith('high')]"
      ],
      "execution_count": 72,
      "outputs": []
    },
    {
      "cell_type": "code",
      "metadata": {
        "id": "4llLVWo3s_x6"
      },
      "source": [
        "feats_set2=[feats for feats in features if feats.startswith('low')]"
      ],
      "execution_count": 73,
      "outputs": []
    },
    {
      "cell_type": "code",
      "metadata": {
        "id": "O8A3sgujtfmY"
      },
      "source": [
        "df_high=df[feats_set1]"
      ],
      "execution_count": 74,
      "outputs": []
    },
    {
      "cell_type": "code",
      "metadata": {
        "id": "5071ezEStu1Z"
      },
      "source": [
        "df_low=df[feats_set2]"
      ],
      "execution_count": 75,
      "outputs": []
    },
    {
      "cell_type": "code",
      "metadata": {
        "id": "3QHIeS9GuIuJ"
      },
      "source": [
        "df['newhigh']=df_high.sum(axis=1)"
      ],
      "execution_count": 76,
      "outputs": []
    },
    {
      "cell_type": "code",
      "metadata": {
        "id": "SSfGkS1LuZqe"
      },
      "source": [
        "df['newlow']=df_low.sum(axis=1)\n",
        "                        "
      ],
      "execution_count": 77,
      "outputs": []
    },
    {
      "cell_type": "code",
      "metadata": {
        "id": "PVCPuS4NugqZ"
      },
      "source": [
        "df_new=df[['newhigh','newlow']]"
      ],
      "execution_count": 78,
      "outputs": []
    },
    {
      "cell_type": "code",
      "metadata": {
        "id": "BHBFzMdounCc",
        "colab": {
          "base_uri": "https://localhost:8080/",
          "height": 140
        },
        "outputId": "a4558e72-8254-4f4b-ee45-6ebe5f83182c"
      },
      "source": [
        "df_new.tail(2)"
      ],
      "execution_count": 79,
      "outputs": [
        {
          "output_type": "execute_result",
          "data": {
            "text/html": [
              "<div>\n",
              "<style scoped>\n",
              "    .dataframe tbody tr th:only-of-type {\n",
              "        vertical-align: middle;\n",
              "    }\n",
              "\n",
              "    .dataframe tbody tr th {\n",
              "        vertical-align: top;\n",
              "    }\n",
              "\n",
              "    .dataframe thead th {\n",
              "        text-align: right;\n",
              "    }\n",
              "</style>\n",
              "<table border=\"1\" class=\"dataframe\">\n",
              "  <thead>\n",
              "    <tr style=\"text-align: right;\">\n",
              "      <th></th>\n",
              "      <th>newhigh</th>\n",
              "      <th>newlow</th>\n",
              "    </tr>\n",
              "    <tr>\n",
              "      <th>Date</th>\n",
              "      <th></th>\n",
              "      <th></th>\n",
              "    </tr>\n",
              "  </thead>\n",
              "  <tbody>\n",
              "    <tr>\n",
              "      <th>2021-11-02</th>\n",
              "      <td>1.0</td>\n",
              "      <td>0.0</td>\n",
              "    </tr>\n",
              "    <tr>\n",
              "      <th>2021-11-03</th>\n",
              "      <td>4.0</td>\n",
              "      <td>0.0</td>\n",
              "    </tr>\n",
              "  </tbody>\n",
              "</table>\n",
              "</div>"
            ],
            "text/plain": [
              "            newhigh  newlow\n",
              "Date                       \n",
              "2021-11-02      1.0     0.0\n",
              "2021-11-03      4.0     0.0"
            ]
          },
          "metadata": {},
          "execution_count": 79
        }
      ]
    },
    {
      "cell_type": "code",
      "metadata": {
        "id": "xQdB7fZIupYJ",
        "colab": {
          "base_uri": "https://localhost:8080/",
          "height": 485
        },
        "outputId": "fa912ed7-eb7d-40d4-f7f8-c2899209a902"
      },
      "source": [
        "df_new.newhigh[-600:].plot(figsize=(17,10));"
      ],
      "execution_count": 80,
      "outputs": [
        {
          "output_type": "display_data",
          "data": {
            "image/png": "[encoded data removed]",
            "text/plain": [
              "<Figure size 1224x720 with 1 Axes>"
            ]
          },
          "metadata": {
            "needs_background": "light"
          }
        }
      ]
    },
    {
      "cell_type": "code",
      "metadata": {
        "id": "hge-UZ31uwUw",
        "colab": {
          "base_uri": "https://localhost:8080/",
          "height": 485
        },
        "outputId": "3890045c-0a08-4403-9e7f-19185d49cf17"
      },
      "source": [
        "df_new.newlow[-600:].plot(figsize=(17,10));"
      ],
      "execution_count": 81,
      "outputs": [
        {
          "output_type": "display_data",
          "data": {
            "image/png": "[encoded data removed]",
            "text/plain": [
              "<Figure size 1224x720 with 1 Axes>"
            ]
          },
          "metadata": {
            "needs_background": "light"
          }
        }
      ]
    },
    {
      "cell_type": "code",
      "metadata": {
        "id": "oXn7Ry7pvrQQ",
        "outputId": "7e8f7bad-863b-4e39-cf89-8130b0183755",
        "colab": {
          "base_uri": "https://localhost:8080/"
        }
      },
      "source": [
        "df_new=get_sum(df_new,5)\n",
        "df_new=get_sum(df_new,10)\n",
        "df_new=get_sum(df_new,15)\n",
        "df_new=get_sum(df_new,20)\n",
        "df_new=get_sum(df_new,25)\n",
        "df_new=get_sum(df_new,30)\n",
        "df_new=get_sum(df_new,35)\n",
        "df_new=get_sum(df_new,40)\n",
        "df_new=get_sum(df_new,45)\n",
        "df_new=get_sum(df_new,50)\n",
        "df_new=get_sum(df_new,5,'newlow')\n",
        "df_new=get_sum(df_new,10,'newlow')\n",
        "df_new=get_sum(df_new,15,'newlow')\n",
        "df_new=get_sum(df_new,20,'newlow')\n",
        "df_new=get_sum(df_new,25,'newlow')\n",
        "df_new=get_sum(df_new,30,'newlow')\n",
        "df_new=get_sum(df_new,35,'newlow')\n",
        "df_new=get_sum(df_new,40,'newlow')\n",
        "df_new=get_sum(df_new,45,'newlow')\n",
        "df_new=get_sum(df_new,50,'newlow')"
      ],
      "execution_count": 82,
      "outputs": [
        {
          "output_type": "stream",
          "name": "stderr",
          "text": [
            "/usr/local/lib/python3.7/dist-packages/ipykernel_launcher.py:3: SettingWithCopyWarning: \n",
            "A value is trying to be set on a copy of a slice from a DataFrame.\n",
            "Try using .loc[row_indexer,col_indexer] = value instead\n",
            "\n",
            "See the caveats in the documentation: https://pandas.pydata.org/pandas-docs/stable/user_guide/indexing.html#returning-a-view-versus-a-copy\n",
            "  This is separate from the ipykernel package so we can avoid doing imports until\n"
          ]
        }
      ]
    },
    {
      "cell_type": "code",
      "metadata": {
        "id": "4Qh56RMHOG0A",
        "outputId": "673536ce-2b39-408b-ccdd-c11782226cfa",
        "colab": {
          "base_uri": "https://localhost:8080/",
          "height": 194
        }
      },
      "source": [
        "df_new.tail(2)"
      ],
      "execution_count": 83,
      "outputs": [
        {
          "output_type": "execute_result",
          "data": {
            "text/html": [
              "<div>\n",
              "<style scoped>\n",
              "    .dataframe tbody tr th:only-of-type {\n",
              "        vertical-align: middle;\n",
              "    }\n",
              "\n",
              "    .dataframe tbody tr th {\n",
              "        vertical-align: top;\n",
              "    }\n",
              "\n",
              "    .dataframe thead th {\n",
              "        text-align: right;\n",
              "    }\n",
              "</style>\n",
              "<table border=\"1\" class=\"dataframe\">\n",
              "  <thead>\n",
              "    <tr style=\"text-align: right;\">\n",
              "      <th></th>\n",
              "      <th>newhigh</th>\n",
              "      <th>newlow</th>\n",
              "      <th>newhigh_ema5</th>\n",
              "      <th>newhigh_ema10</th>\n",
              "      <th>newhigh_ema15</th>\n",
              "      <th>newhigh_ema20</th>\n",
              "      <th>newhigh_ema25</th>\n",
              "      <th>newhigh_ema30</th>\n",
              "      <th>newhigh_ema35</th>\n",
              "      <th>newhigh_ema40</th>\n",
              "      <th>newhigh_ema45</th>\n",
              "      <th>newhigh_ema50</th>\n",
              "      <th>newlow_ema5</th>\n",
              "      <th>newlow_ema10</th>\n",
              "      <th>newlow_ema15</th>\n",
              "      <th>newlow_ema20</th>\n",
              "      <th>newlow_ema25</th>\n",
              "      <th>newlow_ema30</th>\n",
              "      <th>newlow_ema35</th>\n",
              "      <th>newlow_ema40</th>\n",
              "      <th>newlow_ema45</th>\n",
              "      <th>newlow_ema50</th>\n",
              "    </tr>\n",
              "    <tr>\n",
              "      <th>Date</th>\n",
              "      <th></th>\n",
              "      <th></th>\n",
              "      <th></th>\n",
              "      <th></th>\n",
              "      <th></th>\n",
              "      <th></th>\n",
              "      <th></th>\n",
              "      <th></th>\n",
              "      <th></th>\n",
              "      <th></th>\n",
              "      <th></th>\n",
              "      <th></th>\n",
              "      <th></th>\n",
              "      <th></th>\n",
              "      <th></th>\n",
              "      <th></th>\n",
              "      <th></th>\n",
              "      <th></th>\n",
              "      <th></th>\n",
              "      <th></th>\n",
              "      <th></th>\n",
              "      <th></th>\n",
              "    </tr>\n",
              "  </thead>\n",
              "  <tbody>\n",
              "    <tr>\n",
              "      <th>2021-11-02</th>\n",
              "      <td>1.0</td>\n",
              "      <td>0.0</td>\n",
              "      <td>2.061229</td>\n",
              "      <td>3.974783</td>\n",
              "      <td>5.411998</td>\n",
              "      <td>6.434719</td>\n",
              "      <td>7.188190</td>\n",
              "      <td>7.755260</td>\n",
              "      <td>8.186876</td>\n",
              "      <td>8.517610</td>\n",
              "      <td>8.772196</td>\n",
              "      <td>8.968801</td>\n",
              "      <td>2.061229</td>\n",
              "      <td>3.974783</td>\n",
              "      <td>5.411998</td>\n",
              "      <td>6.434719</td>\n",
              "      <td>7.188190</td>\n",
              "      <td>7.755260</td>\n",
              "      <td>8.186876</td>\n",
              "      <td>8.517610</td>\n",
              "      <td>8.772196</td>\n",
              "      <td>8.968801</td>\n",
              "    </tr>\n",
              "    <tr>\n",
              "      <th>2021-11-03</th>\n",
              "      <td>4.0</td>\n",
              "      <td>0.0</td>\n",
              "      <td>2.707486</td>\n",
              "      <td>3.979368</td>\n",
              "      <td>5.235498</td>\n",
              "      <td>6.202841</td>\n",
              "      <td>6.942944</td>\n",
              "      <td>7.512985</td>\n",
              "      <td>7.954272</td>\n",
              "      <td>8.297239</td>\n",
              "      <td>8.564709</td>\n",
              "      <td>8.773946</td>\n",
              "      <td>2.707486</td>\n",
              "      <td>3.979368</td>\n",
              "      <td>5.235498</td>\n",
              "      <td>6.202841</td>\n",
              "      <td>6.942944</td>\n",
              "      <td>7.512985</td>\n",
              "      <td>7.954272</td>\n",
              "      <td>8.297239</td>\n",
              "      <td>8.564709</td>\n",
              "      <td>8.773946</td>\n",
              "    </tr>\n",
              "  </tbody>\n",
              "</table>\n",
              "</div>"
            ],
            "text/plain": [
              "            newhigh  newlow  ...  newlow_ema45  newlow_ema50\n",
              "Date                         ...                            \n",
              "2021-11-02      1.0     0.0  ...      8.772196      8.968801\n",
              "2021-11-03      4.0     0.0  ...      8.564709      8.773946\n",
              "\n",
              "[2 rows x 22 columns]"
            ]
          },
          "metadata": {},
          "execution_count": 83
        }
      ]
    },
    {
      "cell_type": "code",
      "metadata": {
        "id": "_KdO-Tw9PVg7"
      },
      "source": [
        "price_data=df_new.copy()"
      ],
      "execution_count": 84,
      "outputs": []
    },
    {
      "cell_type": "code",
      "metadata": {
        "id": "dPX1KTi2PUNT"
      },
      "source": [
        "price_data=pd.concat([price_data,nifty['Close']],axis=1)"
      ],
      "execution_count": 85,
      "outputs": []
    },
    {
      "cell_type": "code",
      "metadata": {
        "id": "Gcelx91sOICX"
      },
      "source": [
        "feats_ml = price_data.columns.tolist()"
      ],
      "execution_count": 86,
      "outputs": []
    },
    {
      "cell_type": "code",
      "metadata": {
        "id": "FuBlRUvlPglk"
      },
      "source": [
        "# define the number of days out you want to predict\n",
        "days_out =14\n",
        "\n",
        "# create a new column that will house the flag, and for each group calculate the diff compared to 30 days ago. Then use Numpy to define the sign.\n",
        "price_data['Signal_Flag'] = price_data['Close'].transform(lambda x : np.sign(x.diff(days_out)))\n",
        "#price_data['Signal_Flag_INR'] = price_data['INRClose'].transform(lambda x : np.sign(x.diff(days_out)))\n",
        "# print the first 50 rows"
      ],
      "execution_count": 87,
      "outputs": []
    },
    {
      "cell_type": "code",
      "metadata": {
        "id": "iZntEbrQPjRw",
        "outputId": "1384c0b6-b1cd-4acf-8e43-80854e52a3c3",
        "colab": {
          "base_uri": "https://localhost:8080/",
          "height": 242
        }
      },
      "source": [
        "# Create a column we wish to predict\n",
        "'''\n",
        "    In this case, let's create an output column that will be 1 if the closing price at time 't' is greater than 't-1' and 0 otherwise.\n",
        "    In other words, if the today's closing price is greater than yesterday's closing price it would be 1.\n",
        "'''\n",
        "\n",
        "# Group by the `Symbol` column, then grab the `Close` column.\n",
        "close_groups = price_data['Close']\n",
        "\n",
        "# Apply the lambda function which will return -1.0 for down, 1.0 for up and 0.0 for no change.\n",
        "close_groups = close_groups.transform(lambda x : np.sign(x.diff(days_out)))\n",
        "\n",
        "# add the data to the main dataframe.\n",
        "price_data['Prediction'] = close_groups\n",
        "\n",
        "# for simplicity in later sections I'm going to make a change to our prediction column. To keep this as a binary classifier I'll change flat days and consider them up days.\n",
        "price_data.loc[price_data['Prediction'] == 0.0] = 1.0\n",
        "\n",
        "# print the head\n",
        "price_data.tail(3)"
      ],
      "execution_count": 88,
      "outputs": [
        {
          "output_type": "execute_result",
          "data": {
            "text/html": [
              "<div>\n",
              "<style scoped>\n",
              "    .dataframe tbody tr th:only-of-type {\n",
              "        vertical-align: middle;\n",
              "    }\n",
              "\n",
              "    .dataframe tbody tr th {\n",
              "        vertical-align: top;\n",
              "    }\n",
              "\n",
              "    .dataframe thead th {\n",
              "        text-align: right;\n",
              "    }\n",
              "</style>\n",
              "<table border=\"1\" class=\"dataframe\">\n",
              "  <thead>\n",
              "    <tr style=\"text-align: right;\">\n",
              "      <th></th>\n",
              "      <th>newhigh</th>\n",
              "      <th>newlow</th>\n",
              "      <th>newhigh_ema5</th>\n",
              "      <th>newhigh_ema10</th>\n",
              "      <th>newhigh_ema15</th>\n",
              "      <th>newhigh_ema20</th>\n",
              "      <th>newhigh_ema25</th>\n",
              "      <th>newhigh_ema30</th>\n",
              "      <th>newhigh_ema35</th>\n",
              "      <th>newhigh_ema40</th>\n",
              "      <th>newhigh_ema45</th>\n",
              "      <th>newhigh_ema50</th>\n",
              "      <th>newlow_ema5</th>\n",
              "      <th>newlow_ema10</th>\n",
              "      <th>newlow_ema15</th>\n",
              "      <th>newlow_ema20</th>\n",
              "      <th>newlow_ema25</th>\n",
              "      <th>newlow_ema30</th>\n",
              "      <th>newlow_ema35</th>\n",
              "      <th>newlow_ema40</th>\n",
              "      <th>newlow_ema45</th>\n",
              "      <th>newlow_ema50</th>\n",
              "      <th>Close</th>\n",
              "      <th>Signal_Flag</th>\n",
              "      <th>Prediction</th>\n",
              "    </tr>\n",
              "    <tr>\n",
              "      <th>Date</th>\n",
              "      <th></th>\n",
              "      <th></th>\n",
              "      <th></th>\n",
              "      <th></th>\n",
              "      <th></th>\n",
              "      <th></th>\n",
              "      <th></th>\n",
              "      <th></th>\n",
              "      <th></th>\n",
              "      <th></th>\n",
              "      <th></th>\n",
              "      <th></th>\n",
              "      <th></th>\n",
              "      <th></th>\n",
              "      <th></th>\n",
              "      <th></th>\n",
              "      <th></th>\n",
              "      <th></th>\n",
              "      <th></th>\n",
              "      <th></th>\n",
              "      <th></th>\n",
              "      <th></th>\n",
              "      <th></th>\n",
              "      <th></th>\n",
              "      <th></th>\n",
              "    </tr>\n",
              "  </thead>\n",
              "  <tbody>\n",
              "    <tr>\n",
              "      <th>2021-11-01</th>\n",
              "      <td>1.0</td>\n",
              "      <td>0.0</td>\n",
              "      <td>2.591844</td>\n",
              "      <td>4.635846</td>\n",
              "      <td>6.042283</td>\n",
              "      <td>7.006795</td>\n",
              "      <td>7.703872</td>\n",
              "      <td>8.221140</td>\n",
              "      <td>8.609633</td>\n",
              "      <td>8.903128</td>\n",
              "      <td>9.125478</td>\n",
              "      <td>9.294058</td>\n",
              "      <td>2.591844</td>\n",
              "      <td>4.635846</td>\n",
              "      <td>6.042283</td>\n",
              "      <td>7.006795</td>\n",
              "      <td>7.703872</td>\n",
              "      <td>8.221140</td>\n",
              "      <td>8.609633</td>\n",
              "      <td>8.903128</td>\n",
              "      <td>9.125478</td>\n",
              "      <td>9.294058</td>\n",
              "      <td>NaN</td>\n",
              "      <td>NaN</td>\n",
              "      <td>NaN</td>\n",
              "    </tr>\n",
              "    <tr>\n",
              "      <th>2021-11-02</th>\n",
              "      <td>1.0</td>\n",
              "      <td>0.0</td>\n",
              "      <td>2.061229</td>\n",
              "      <td>3.974783</td>\n",
              "      <td>5.411998</td>\n",
              "      <td>6.434719</td>\n",
              "      <td>7.188190</td>\n",
              "      <td>7.755260</td>\n",
              "      <td>8.186876</td>\n",
              "      <td>8.517610</td>\n",
              "      <td>8.772196</td>\n",
              "      <td>8.968801</td>\n",
              "      <td>2.061229</td>\n",
              "      <td>3.974783</td>\n",
              "      <td>5.411998</td>\n",
              "      <td>6.434719</td>\n",
              "      <td>7.188190</td>\n",
              "      <td>7.755260</td>\n",
              "      <td>8.186876</td>\n",
              "      <td>8.517610</td>\n",
              "      <td>8.772196</td>\n",
              "      <td>8.968801</td>\n",
              "      <td>NaN</td>\n",
              "      <td>NaN</td>\n",
              "      <td>NaN</td>\n",
              "    </tr>\n",
              "    <tr>\n",
              "      <th>2021-11-03</th>\n",
              "      <td>4.0</td>\n",
              "      <td>0.0</td>\n",
              "      <td>2.707486</td>\n",
              "      <td>3.979368</td>\n",
              "      <td>5.235498</td>\n",
              "      <td>6.202841</td>\n",
              "      <td>6.942944</td>\n",
              "      <td>7.512985</td>\n",
              "      <td>7.954272</td>\n",
              "      <td>8.297239</td>\n",
              "      <td>8.564709</td>\n",
              "      <td>8.773946</td>\n",
              "      <td>2.707486</td>\n",
              "      <td>3.979368</td>\n",
              "      <td>5.235498</td>\n",
              "      <td>6.202841</td>\n",
              "      <td>6.942944</td>\n",
              "      <td>7.512985</td>\n",
              "      <td>7.954272</td>\n",
              "      <td>8.297239</td>\n",
              "      <td>8.564709</td>\n",
              "      <td>8.773946</td>\n",
              "      <td>NaN</td>\n",
              "      <td>NaN</td>\n",
              "      <td>NaN</td>\n",
              "    </tr>\n",
              "  </tbody>\n",
              "</table>\n",
              "</div>"
            ],
            "text/plain": [
              "            newhigh  newlow  newhigh_ema5  ...  Close  Signal_Flag  Prediction\n",
              "Date                                       ...                                \n",
              "2021-11-01      1.0     0.0      2.591844  ...    NaN          NaN         NaN\n",
              "2021-11-02      1.0     0.0      2.061229  ...    NaN          NaN         NaN\n",
              "2021-11-03      4.0     0.0      2.707486  ...    NaN          NaN         NaN\n",
              "\n",
              "[3 rows x 25 columns]"
            ]
          },
          "metadata": {},
          "execution_count": 88
        }
      ]
    },
    {
      "cell_type": "code",
      "metadata": {
        "id": "lc7hEPNRPm9U",
        "outputId": "4b6b2dfc-5bbf-4315-dcce-020b853cb1e5",
        "colab": {
          "base_uri": "https://localhost:8080/"
        }
      },
      "source": [
        "\n",
        "# We need to remove all rows that have an NaN value.\n",
        "print('Before NaN Drop we have {} rows and {}  columns in original dataset'.format(price_data.shape[0], price_data.shape[1]))\n",
        "\n",
        "# Any row that has a `NaN` value will be dropped.\n",
        "price_data = price_data.dropna()\n",
        "\n",
        "# Display how much we have left now.\n",
        "print('After NaN Drop we have {} rows and {} columns in original dataset'.format(price_data.shape[0], price_data.shape[1]))\n"
      ],
      "execution_count": 89,
      "outputs": [
        {
          "output_type": "stream",
          "name": "stdout",
          "text": [
            "Before NaN Drop we have 2177 rows and 25  columns in original dataset\n",
            "After NaN Drop we have 1785 rows and 25 columns in original dataset\n"
          ]
        }
      ]
    },
    {
      "cell_type": "code",
      "metadata": {
        "id": "Lo6sA6zKPqH-",
        "outputId": "0c94321f-5e2f-4e98-aa8d-b48828e09b41",
        "colab": {
          "base_uri": "https://localhost:8080/"
        }
      },
      "source": [
        "# Number of trees is not a parameter that should be tuned, but just set large enough usually. There is no risk of overfitting in random forest with growing number of # trees, as they are trained independently from each other. \n",
        "n_estimators = list(range(200, 2000, 200))\n",
        "\n",
        "# Number of features to consider at every split\n",
        "max_features = ['auto', 'sqrt', None, 'log2']\n",
        "\n",
        "# Maximum number of levels in tree\n",
        "# Max depth is a parameter that most of the times should be set as high as possible, but possibly better performance can be achieved by setting it lower.\n",
        "max_depth = list(range(10, 110, 10))\n",
        "max_depth.append(None)\n",
        "\n",
        "# Minimum number of samples required to split a node\n",
        "# Higher values prevent a model from learning relations which might be highly specific to the particular sample selected for a tree. Too high values can also lead to # under-fitting hence depending on the level of underfitting or overfitting, you can tune the values for min_samples_split.\n",
        "min_samples_split = [2, 5, 10, 20, 30, 40]\n",
        "\n",
        "# Minimum number of samples required at each leaf node\n",
        "min_samples_leaf = [1, 2, 7, 12, 14, 16 ,20]\n",
        "\n",
        "# Method of selecting samples for training each tree\n",
        "bootstrap = [True, False]\n",
        "\n",
        "# Create the random grid\n",
        "random_grid = {'n_estimators': n_estimators,\n",
        "               'max_features': max_features,\n",
        "               'max_depth': max_depth,\n",
        "               'min_samples_split': min_samples_split,\n",
        "               'min_samples_leaf': min_samples_leaf,\n",
        "               'bootstrap': bootstrap}\n",
        "\n",
        "print(random_grid)"
      ],
      "execution_count": 90,
      "outputs": [
        {
          "output_type": "stream",
          "name": "stdout",
          "text": [
            "{'n_estimators': [200, 400, 600, 800, 1000, 1200, 1400, 1600, 1800], 'max_features': ['auto', 'sqrt', None, 'log2'], 'max_depth': [10, 20, 30, 40, 50, 60, 70, 80, 90, 100, None], 'min_samples_split': [2, 5, 10, 20, 30, 40], 'min_samples_leaf': [1, 2, 7, 12, 14, 16, 20], 'bootstrap': [True, False]}\n"
          ]
        }
      ]
    },
    {
      "cell_type": "code",
      "metadata": {
        "id": "V53noq5xRtdg",
        "outputId": "23887af2-3cb7-4ac0-9ef3-a7252fba3708",
        "colab": {
          "base_uri": "https://localhost:8080/"
        }
      },
      "source": [
        "feats_ml"
      ],
      "execution_count": 91,
      "outputs": [
        {
          "output_type": "execute_result",
          "data": {
            "text/plain": [
              "['newhigh',\n",
              " 'newlow',\n",
              " 'newhigh_ema5',\n",
              " 'newhigh_ema10',\n",
              " 'newhigh_ema15',\n",
              " 'newhigh_ema20',\n",
              " 'newhigh_ema25',\n",
              " 'newhigh_ema30',\n",
              " 'newhigh_ema35',\n",
              " 'newhigh_ema40',\n",
              " 'newhigh_ema45',\n",
              " 'newhigh_ema50',\n",
              " 'newlow_ema5',\n",
              " 'newlow_ema10',\n",
              " 'newlow_ema15',\n",
              " 'newlow_ema20',\n",
              " 'newlow_ema25',\n",
              " 'newlow_ema30',\n",
              " 'newlow_ema35',\n",
              " 'newlow_ema40',\n",
              " 'newlow_ema45',\n",
              " 'newlow_ema50',\n",
              " 'Close']"
            ]
          },
          "metadata": {},
          "execution_count": 91
        }
      ]
    },
    {
      "cell_type": "code",
      "metadata": {
        "id": "5mGdXog8Putk",
        "outputId": "0e89be0b-a26e-442b-dadf-109669125ca5",
        "colab": {
          "base_uri": "https://localhost:8080/",
          "height": 85
        }
      },
      "source": [
        "X_Cols = price_data[feats_ml]\n",
        "Y_Cols = price_data['Prediction']\n",
        "#,'log5vol','log5','RSI','Price_Rate_Of_Change','log5volM','log5M','MMI_roc'\n",
        "# Split X and y into X_train and X_test\n",
        "samp_train= int(len(price_data)*.75) -50\n",
        "samp_test= samp_train+50\n",
        "X_train = X_Cols[:samp_train]\n",
        "X_test = X_Cols[samp_test:]\n",
        "y_train = Y_Cols[:samp_train]\n",
        "y_test = Y_Cols[samp_test:]\n",
        "\n",
        "\n",
        "#X_train, X_test, y_train, y_test = train_test_split(X_Cols, Y_Cols, random_state = 0)\n",
        "\n",
        "\n",
        "# New Random Forest Classifier to house optimal parameters\n",
        "rf = RandomForestClassifier()\n",
        "\n",
        "# Specfiy the details of our Randomized Search\n",
        "rf_random = RandomizedSearchCV(estimator = rf, param_distributions = random_grid, n_iter = 100, cv = 3, verbose=2, random_state=42, n_jobs = -1)\n",
        "'''\n",
        "# Fit the random search model############################~~~~~~~~~~~~~~~~~~################\n",
        "rf_random.fit(X_train, y_train)\n",
        "print(f\"Best score: {rf_random.best_score_}\")\n",
        "print(\"Best parameters set:\")\n",
        "best_parameters = rf_random.best_estimator_.get_params()\n",
        "for param_name in sorted(random_grid.keys()):\n",
        "  print(f\"\\t{param_name}: {best_parameters[param_name]}\")\n",
        "'''"
      ],
      "execution_count": 92,
      "outputs": [
        {
          "output_type": "execute_result",
          "data": {
            "application/vnd.google.colaboratory.intrinsic+json": {
              "type": "string"
            },
            "text/plain": [
              "'\\n# Fit the random search model############################~~~~~~~~~~~~~~~~~~################\\nrf_random.fit(X_train, y_train)\\nprint(f\"Best score: {rf_random.best_score_}\")\\nprint(\"Best parameters set:\")\\nbest_parameters = rf_random.best_estimator_.get_params()\\nfor param_name in sorted(random_grid.keys()):\\n  print(f\"\\t{param_name}: {best_parameters[param_name]}\")\\n'"
            ]
          },
          "metadata": {},
          "execution_count": 92
        }
      ]
    },
    {
      "cell_type": "code",
      "metadata": {
        "id": "aASNdW3KPyBv"
      },
      "source": [
        "# Create a Random Forest Classifier\n",
        "rand_frst_clf = RandomForestClassifier(n_estimators = 1200,max_depth=80,min_samples_leaf=1,max_features = \"auto\",min_samples_split=40, criterion = \"gini\", bootstrap=True,random_state = 42)"
      ],
      "execution_count": 93,
      "outputs": []
    },
    {
      "cell_type": "code",
      "metadata": {
        "id": "_UId4l13P1M6",
        "outputId": "c0d882e4-93fd-4fbe-89bd-8e91f04e6687",
        "colab": {
          "base_uri": "https://localhost:8080/"
        }
      },
      "source": [
        "samp_train,samp_test"
      ],
      "execution_count": 94,
      "outputs": [
        {
          "output_type": "execute_result",
          "data": {
            "text/plain": [
              "(1288, 1338)"
            ]
          },
          "metadata": {},
          "execution_count": 94
        }
      ]
    },
    {
      "cell_type": "code",
      "metadata": {
        "id": "IyUrMuN2P3qc",
        "outputId": "39da2d5d-1060-4a4d-dc5a-1b57ae92d585",
        "colab": {
          "base_uri": "https://localhost:8080/",
          "height": 202
        }
      },
      "source": [
        "# Fit the data to the model\n",
        "rand_frst_clf.fit(X_train, y_train)\n",
        "\n",
        "# Make predictions\n",
        "y_pred = rand_frst_clf.predict(X_test)\n",
        "\n",
        "# Define the traget names\n",
        "target_names = ['Down Day', 'Up Day']\n",
        "\n",
        "# Build a classifcation report\n",
        "report = classification_report(y_true = y_test, y_pred = y_pred, target_names = target_names, output_dict = True)\n",
        "\n",
        "# Add it to a data frame, transpose it for readability.\n",
        "report_df = pd.DataFrame(report).transpose()\n",
        "report_df"
      ],
      "execution_count": 95,
      "outputs": [
        {
          "output_type": "execute_result",
          "data": {
            "text/html": [
              "<div>\n",
              "<style scoped>\n",
              "    .dataframe tbody tr th:only-of-type {\n",
              "        vertical-align: middle;\n",
              "    }\n",
              "\n",
              "    .dataframe tbody tr th {\n",
              "        vertical-align: top;\n",
              "    }\n",
              "\n",
              "    .dataframe thead th {\n",
              "        text-align: right;\n",
              "    }\n",
              "</style>\n",
              "<table border=\"1\" class=\"dataframe\">\n",
              "  <thead>\n",
              "    <tr style=\"text-align: right;\">\n",
              "      <th></th>\n",
              "      <th>precision</th>\n",
              "      <th>recall</th>\n",
              "      <th>f1-score</th>\n",
              "      <th>support</th>\n",
              "    </tr>\n",
              "  </thead>\n",
              "  <tbody>\n",
              "    <tr>\n",
              "      <th>Down Day</th>\n",
              "      <td>0.705882</td>\n",
              "      <td>0.676923</td>\n",
              "      <td>0.691099</td>\n",
              "      <td>195.000000</td>\n",
              "    </tr>\n",
              "    <tr>\n",
              "      <th>Up Day</th>\n",
              "      <td>0.757692</td>\n",
              "      <td>0.781746</td>\n",
              "      <td>0.769531</td>\n",
              "      <td>252.000000</td>\n",
              "    </tr>\n",
              "    <tr>\n",
              "      <th>accuracy</th>\n",
              "      <td>0.736018</td>\n",
              "      <td>0.736018</td>\n",
              "      <td>0.736018</td>\n",
              "      <td>0.736018</td>\n",
              "    </tr>\n",
              "    <tr>\n",
              "      <th>macro avg</th>\n",
              "      <td>0.731787</td>\n",
              "      <td>0.729335</td>\n",
              "      <td>0.730315</td>\n",
              "      <td>447.000000</td>\n",
              "    </tr>\n",
              "    <tr>\n",
              "      <th>weighted avg</th>\n",
              "      <td>0.735091</td>\n",
              "      <td>0.736018</td>\n",
              "      <td>0.735316</td>\n",
              "      <td>447.000000</td>\n",
              "    </tr>\n",
              "  </tbody>\n",
              "</table>\n",
              "</div>"
            ],
            "text/plain": [
              "              precision    recall  f1-score     support\n",
              "Down Day       0.705882  0.676923  0.691099  195.000000\n",
              "Up Day         0.757692  0.781746  0.769531  252.000000\n",
              "accuracy       0.736018  0.736018  0.736018    0.736018\n",
              "macro avg      0.731787  0.729335  0.730315  447.000000\n",
              "weighted avg   0.735091  0.736018  0.735316  447.000000"
            ]
          },
          "metadata": {},
          "execution_count": 95
        }
      ]
    },
    {
      "cell_type": "code",
      "metadata": {
        "id": "i_oLuGA4P3nz",
        "outputId": "adc00cef-3411-40cb-e196-4b776e567136",
        "colab": {
          "base_uri": "https://localhost:8080/",
          "height": 362
        }
      },
      "source": [
        "from sklearn.metrics import confusion_matrix, plot_confusion_matrix\n",
        "\n",
        "rf_matrix = confusion_matrix(y_test, y_pred)\n",
        "\n",
        "true_negatives = rf_matrix[0][0]\n",
        "false_negatives = rf_matrix[1][0]\n",
        "true_positives = rf_matrix[1][1]\n",
        "false_positives = rf_matrix[0][1]\n",
        "\n",
        "accuracy = (true_negatives + true_positives) / (true_negatives + true_positives + false_negatives + false_positives)\n",
        "percision = true_positives / (true_positives + false_positives)\n",
        "recall = true_positives / (true_positives + false_negatives)\n",
        "specificity = true_negatives / (true_negatives + false_positives)\n",
        "\n",
        "print('Accuracy: {}'.format(float(accuracy)))\n",
        "print('Percision: {}'.format(float(percision)))\n",
        "print('Recall: {}'.format(float(recall)))\n",
        "print('Specificity: {}'.format(float(specificity)))\n",
        "\n",
        "disp = plot_confusion_matrix(rand_frst_clf, X_test, y_test, display_labels = ['Down Day', 'Up Day'], normalize = 'true', cmap=plt.cm.Blues)\n",
        "disp.ax_.set_title('Confusion Matrix - Normalized')\n",
        "plt.show()"
      ],
      "execution_count": 96,
      "outputs": [
        {
          "output_type": "stream",
          "name": "stdout",
          "text": [
            "Accuracy: 0.7360178970917226\n",
            "Percision: 0.7576923076923077\n",
            "Recall: 0.7817460317460317\n",
            "Specificity: 0.676923076923077\n"
          ]
        },
        {
          "output_type": "display_data",
          "data": {
            "image/png": "[encoded data removed]",
            "text/plain": [
              "<Figure size 432x288 with 2 Axes>"
            ]
          },
          "metadata": {
            "needs_background": "light"
          }
        }
      ]
    },
    {
      "cell_type": "code",
      "metadata": {
        "id": "7cQMA4kgP3lj",
        "outputId": "5f786a11-1267-4332-e9b1-eb58f20c66c9",
        "colab": {
          "base_uri": "https://localhost:8080/"
        }
      },
      "source": [
        "feature_imp = pd.Series(rand_frst_clf.feature_importances_, index=X_Cols.columns).sort_values(ascending=False)\n",
        "feature_imp"
      ],
      "execution_count": 97,
      "outputs": [
        {
          "output_type": "execute_result",
          "data": {
            "text/plain": [
              "newhigh_ema5     0.125899\n",
              "newlow_ema5      0.114760\n",
              "newlow_ema10     0.079152\n",
              "newlow           0.073155\n",
              "newhigh_ema10    0.072747\n",
              "newhigh          0.055920\n",
              "newlow_ema50     0.044952\n",
              "newhigh_ema50    0.043805\n",
              "Close            0.041949\n",
              "newlow_ema45     0.037426\n",
              "newhigh_ema45    0.034387\n",
              "newhigh_ema40    0.033389\n",
              "newhigh_ema15    0.033327\n",
              "newlow_ema40     0.031649\n",
              "newlow_ema15     0.031277\n",
              "newhigh_ema35    0.023249\n",
              "newlow_ema35     0.021398\n",
              "newhigh_ema20    0.019029\n",
              "newlow_ema30     0.017579\n",
              "newlow_ema20     0.017546\n",
              "newhigh_ema30    0.017408\n",
              "newlow_ema25     0.015745\n",
              "newhigh_ema25    0.014253\n",
              "dtype: float64"
            ]
          },
          "metadata": {},
          "execution_count": 97
        }
      ]
    },
    {
      "cell_type": "code",
      "metadata": {
        "id": "Y_DsRDpNUmL1"
      },
      "source": [
        ""
      ],
      "execution_count": 97,
      "outputs": []
    },
    {
      "cell_type": "code",
      "metadata": {
        "id": "Kc_KAfkCP3jB",
        "outputId": "9136880d-7c9d-48c6-f0e5-8a18e656bab8",
        "colab": {
          "base_uri": "https://localhost:8080/"
        }
      },
      "source": [
        "Ticker = '^NSEI'\n",
        "nifty_n = yf.download(Ticker, start=START_testdate)\n",
        "nifty_n=nifty_n.dropna()\n",
        "nifty_n=nifty_n.iloc[:,:4]"
      ],
      "execution_count": 98,
      "outputs": [
        {
          "output_type": "stream",
          "name": "stdout",
          "text": [
            "\r[*********************100%***********************]  1 of 1 completed\n"
          ]
        }
      ]
    },
    {
      "cell_type": "code",
      "metadata": {
        "id": "8x1Ziuy6P3gh",
        "outputId": "b84693ec-6440-442e-edda-e0b4f9121e62",
        "colab": {
          "base_uri": "https://localhost:8080/"
        }
      },
      "source": [
        "#Download Data From Yahoo Finance\n",
        "lst_test=[]\n",
        "for i in range(len(ticker)):\n",
        "  dfi_test = yf.download(str(ticker.Symbol.iloc[i])+'.ns', start=START_testdate)\n",
        "   \n",
        "  dfi_test['result']=dfi_test['High'].rolling(window=256, min_periods=1).max()\n",
        "  dfi_test['result_low']=dfi_test['Low'].rolling(window=256, min_periods=1).min()\n",
        "  dfi_test['high52']=np.where(dfi_test['High']>=dfi_test['result'],1,0)\n",
        "  dfi_test['low52']=np.where(dfi_test['Low']<=dfi_test['result_low'],1,0)\n",
        "  dfi_test = dfi_test.dropna()\n",
        "   \n",
        "  #df.head(3)\n",
        "  #print('Done : '+ nifty10[i])\n",
        "  #print(df.head(2))\n",
        "  lst_test.append(dfi_test)\n",
        "\n",
        "#df1.head(3)\n",
        "print('\\n All Completed \\n')"
      ],
      "execution_count": 99,
      "outputs": [
        {
          "output_type": "stream",
          "name": "stdout",
          "text": [
            "[*********************100%***********************]  1 of 1 completed\n",
            "[*********************100%***********************]  1 of 1 completed\n",
            "[*********************100%***********************]  1 of 1 completed\n",
            "[*********************100%***********************]  1 of 1 completed\n",
            "[*********************100%***********************]  1 of 1 completed\n",
            "[*********************100%***********************]  1 of 1 completed\n",
            "[*********************100%***********************]  1 of 1 completed\n",
            "[*********************100%***********************]  1 of 1 completed\n",
            "[*********************100%***********************]  1 of 1 completed\n",
            "[*********************100%***********************]  1 of 1 completed\n",
            "[*********************100%***********************]  1 of 1 completed\n",
            "[*********************100%***********************]  1 of 1 completed\n",
            "[*********************100%***********************]  1 of 1 completed\n",
            "[*********************100%***********************]  1 of 1 completed\n",
            "[*********************100%***********************]  1 of 1 completed\n",
            "[*********************100%***********************]  1 of 1 completed\n",
            "[*********************100%***********************]  1 of 1 completed\n",
            "[*********************100%***********************]  1 of 1 completed\n",
            "[*********************100%***********************]  1 of 1 completed\n",
            "[*********************100%***********************]  1 of 1 completed\n",
            "[*********************100%***********************]  1 of 1 completed\n",
            "[*********************100%***********************]  1 of 1 completed\n",
            "[*********************100%***********************]  1 of 1 completed\n",
            "[*********************100%***********************]  1 of 1 completed\n",
            "[*********************100%***********************]  1 of 1 completed\n",
            "[*********************100%***********************]  1 of 1 completed\n",
            "[*********************100%***********************]  1 of 1 completed\n",
            "[*********************100%***********************]  1 of 1 completed\n",
            "[*********************100%***********************]  1 of 1 completed\n",
            "[*********************100%***********************]  1 of 1 completed\n",
            "[*********************100%***********************]  1 of 1 completed\n",
            "[*********************100%***********************]  1 of 1 completed\n",
            "[*********************100%***********************]  1 of 1 completed\n",
            "[*********************100%***********************]  1 of 1 completed\n",
            "[*********************100%***********************]  1 of 1 completed\n",
            "[*********************100%***********************]  1 of 1 completed\n",
            "[*********************100%***********************]  1 of 1 completed\n",
            "[*********************100%***********************]  1 of 1 completed\n",
            "[*********************100%***********************]  1 of 1 completed\n",
            "[*********************100%***********************]  1 of 1 completed\n",
            "[*********************100%***********************]  1 of 1 completed\n",
            "[*********************100%***********************]  1 of 1 completed\n",
            "[*********************100%***********************]  1 of 1 completed\n",
            "[*********************100%***********************]  1 of 1 completed\n",
            "[*********************100%***********************]  1 of 1 completed\n",
            "[*********************100%***********************]  1 of 1 completed\n",
            "[*********************100%***********************]  1 of 1 completed\n",
            "[*********************100%***********************]  1 of 1 completed\n",
            "[*********************100%***********************]  1 of 1 completed\n",
            "[*********************100%***********************]  1 of 1 completed\n",
            "[*********************100%***********************]  1 of 1 completed\n",
            "[*********************100%***********************]  1 of 1 completed\n",
            "[*********************100%***********************]  1 of 1 completed\n",
            "[*********************100%***********************]  1 of 1 completed\n",
            "[*********************100%***********************]  1 of 1 completed\n",
            "[*********************100%***********************]  1 of 1 completed\n",
            "[*********************100%***********************]  1 of 1 completed\n",
            "[*********************100%***********************]  1 of 1 completed\n",
            "[*********************100%***********************]  1 of 1 completed\n",
            "[*********************100%***********************]  1 of 1 completed\n",
            "[*********************100%***********************]  1 of 1 completed\n",
            "[*********************100%***********************]  1 of 1 completed\n",
            "[*********************100%***********************]  1 of 1 completed\n",
            "[*********************100%***********************]  1 of 1 completed\n",
            "[*********************100%***********************]  1 of 1 completed\n",
            "[*********************100%***********************]  1 of 1 completed\n",
            "[*********************100%***********************]  1 of 1 completed\n",
            "[*********************100%***********************]  1 of 1 completed\n",
            "[*********************100%***********************]  1 of 1 completed\n",
            "[*********************100%***********************]  1 of 1 completed\n",
            "[*********************100%***********************]  1 of 1 completed\n",
            "[*********************100%***********************]  1 of 1 completed\n",
            "[*********************100%***********************]  1 of 1 completed\n",
            "[*********************100%***********************]  1 of 1 completed\n",
            "[*********************100%***********************]  1 of 1 completed\n",
            "[*********************100%***********************]  1 of 1 completed\n",
            "[*********************100%***********************]  1 of 1 completed\n",
            "[*********************100%***********************]  1 of 1 completed\n",
            "[*********************100%***********************]  1 of 1 completed\n",
            "[*********************100%***********************]  1 of 1 completed\n",
            "[*********************100%***********************]  1 of 1 completed\n",
            "[*********************100%***********************]  1 of 1 completed\n",
            "[*********************100%***********************]  1 of 1 completed\n",
            "[*********************100%***********************]  1 of 1 completed\n",
            "[*********************100%***********************]  1 of 1 completed\n",
            "[*********************100%***********************]  1 of 1 completed\n",
            "[*********************100%***********************]  1 of 1 completed\n",
            "[*********************100%***********************]  1 of 1 completed\n",
            "[*********************100%***********************]  1 of 1 completed\n",
            "[*********************100%***********************]  1 of 1 completed\n",
            "[*********************100%***********************]  1 of 1 completed\n",
            "[*********************100%***********************]  1 of 1 completed\n",
            "[*********************100%***********************]  1 of 1 completed\n",
            "[*********************100%***********************]  1 of 1 completed\n",
            "[*********************100%***********************]  1 of 1 completed\n",
            "[*********************100%***********************]  1 of 1 completed\n",
            "[*********************100%***********************]  1 of 1 completed\n",
            "[*********************100%***********************]  1 of 1 completed\n",
            "[*********************100%***********************]  1 of 1 completed\n",
            "[*********************100%***********************]  1 of 1 completed\n",
            "\n",
            " All Completed \n",
            "\n"
          ]
        }
      ]
    },
    {
      "cell_type": "code",
      "metadata": {
        "id": "14ABbQ-OP3d0"
      },
      "source": [
        "nlst_test=[]\n",
        "for i in range(len(ticker)):\n",
        "  nlst_test.append(lst_test[i].high52)\n",
        "  nlst_test.append(lst_test[i].low52)"
      ],
      "execution_count": 100,
      "outputs": []
    },
    {
      "cell_type": "code",
      "metadata": {
        "id": "EHoEFqX7TsR7"
      },
      "source": [
        "df_test= pd.DataFrame(nlst_test).T\n",
        "namelist =[]\n",
        "for i in range(1,len(ticker)+1):\n",
        "  namelist.append('high_'+str(i))\n",
        "  namelist.append('low_'+str(i))\n",
        "df_test.columns = namelist"
      ],
      "execution_count": 101,
      "outputs": []
    },
    {
      "cell_type": "code",
      "metadata": {
        "id": "IqvSHEXeT2RK"
      },
      "source": [
        "df_test=df_test[1:].fillna(0)"
      ],
      "execution_count": 102,
      "outputs": []
    },
    {
      "cell_type": "code",
      "metadata": {
        "id": "-vDPKmxET8Pp"
      },
      "source": [
        "features = df.columns.tolist()"
      ],
      "execution_count": 103,
      "outputs": []
    },
    {
      "cell_type": "code",
      "metadata": {
        "id": "TMVLXE0XT8_t"
      },
      "source": [
        "feats_set1=[feats for feats in features if feats.startswith('high')]"
      ],
      "execution_count": 104,
      "outputs": []
    },
    {
      "cell_type": "code",
      "metadata": {
        "id": "RkEWjswzUCY8"
      },
      "source": [
        "feats_set2=[feats for feats in features if feats.startswith('low')]"
      ],
      "execution_count": 105,
      "outputs": []
    },
    {
      "cell_type": "code",
      "metadata": {
        "id": "0_g0ftc-UCWZ"
      },
      "source": [
        "df_high_test=df_test[feats_set1]"
      ],
      "execution_count": 106,
      "outputs": []
    },
    {
      "cell_type": "code",
      "metadata": {
        "id": "KrklUs4OUCUP"
      },
      "source": [
        "df_low_test=df_test[feats_set2]"
      ],
      "execution_count": 107,
      "outputs": []
    },
    {
      "cell_type": "code",
      "metadata": {
        "id": "kMbFVqFzUCRe"
      },
      "source": [
        "df_test['newhigh']=df_high_test.sum(axis=1)"
      ],
      "execution_count": 108,
      "outputs": []
    },
    {
      "cell_type": "code",
      "metadata": {
        "id": "CVMF3nKuUCPB"
      },
      "source": [
        "df_test['newlow']=df_low_test.sum(axis=1)"
      ],
      "execution_count": 109,
      "outputs": []
    },
    {
      "cell_type": "code",
      "metadata": {
        "id": "wvR8lADUUCMd"
      },
      "source": [
        "df_new_test=df_test[['newhigh','newlow']]"
      ],
      "execution_count": 110,
      "outputs": []
    },
    {
      "cell_type": "code",
      "metadata": {
        "id": "citM6ZnxVSGr",
        "outputId": "89c3609f-2dd3-43f1-e6d7-cd7559a86a67",
        "colab": {
          "base_uri": "https://localhost:8080/"
        }
      },
      "source": [
        "df_new_test=get_sum(df_new_test,5)\n",
        "df_new_test=get_sum(df_new_test,10)\n",
        "df_new_test=get_sum(df_new_test,15)\n",
        "df_new_test=get_sum(df_new_test,20)\n",
        "df_new_test=get_sum(df_new_test,25)\n",
        "df_new_test=get_sum(df_new_test,30)\n",
        "df_new_test=get_sum(df_new_test,35)\n",
        "df_new_test=get_sum(df_new_test,40)\n",
        "df_new_test=get_sum(df_new_test,45)\n",
        "df_new_test=get_sum(df_new_test,50)\n",
        "df_new_test=get_sum(df_new_test,5,'newlow')\n",
        "df_new_test=get_sum(df_new_test,10,'newlow')\n",
        "df_new_test=get_sum(df_new_test,15,'newlow')\n",
        "df_new_test=get_sum(df_new_test,20,'newlow')\n",
        "df_new_test=get_sum(df_new_test,25,'newlow')\n",
        "df_new_test=get_sum(df_new_test,30,'newlow')\n",
        "df_new_test=get_sum(df_new_test,35,'newlow')\n",
        "df_new_test=get_sum(df_new_test,40,'newlow')\n",
        "df_new_test=get_sum(df_new_test,45,'newlow')\n",
        "df_new_test=get_sum(df_new_test,50,'newlow')"
      ],
      "execution_count": 111,
      "outputs": [
        {
          "output_type": "stream",
          "name": "stderr",
          "text": [
            "/usr/local/lib/python3.7/dist-packages/ipykernel_launcher.py:3: SettingWithCopyWarning: \n",
            "A value is trying to be set on a copy of a slice from a DataFrame.\n",
            "Try using .loc[row_indexer,col_indexer] = value instead\n",
            "\n",
            "See the caveats in the documentation: https://pandas.pydata.org/pandas-docs/stable/user_guide/indexing.html#returning-a-view-versus-a-copy\n",
            "  This is separate from the ipykernel package so we can avoid doing imports until\n"
          ]
        }
      ]
    },
    {
      "cell_type": "code",
      "metadata": {
        "id": "oAH1ecc1UB9u",
        "outputId": "60493298-0ce5-4db3-e125-ab9dfda8b149",
        "colab": {
          "base_uri": "https://localhost:8080/",
          "height": 194
        }
      },
      "source": [
        "df_new_test.tail(2)"
      ],
      "execution_count": 112,
      "outputs": [
        {
          "output_type": "execute_result",
          "data": {
            "text/html": [
              "<div>\n",
              "<style scoped>\n",
              "    .dataframe tbody tr th:only-of-type {\n",
              "        vertical-align: middle;\n",
              "    }\n",
              "\n",
              "    .dataframe tbody tr th {\n",
              "        vertical-align: top;\n",
              "    }\n",
              "\n",
              "    .dataframe thead th {\n",
              "        text-align: right;\n",
              "    }\n",
              "</style>\n",
              "<table border=\"1\" class=\"dataframe\">\n",
              "  <thead>\n",
              "    <tr style=\"text-align: right;\">\n",
              "      <th></th>\n",
              "      <th>newhigh</th>\n",
              "      <th>newlow</th>\n",
              "      <th>newhigh_ema5</th>\n",
              "      <th>newhigh_ema10</th>\n",
              "      <th>newhigh_ema15</th>\n",
              "      <th>newhigh_ema20</th>\n",
              "      <th>newhigh_ema25</th>\n",
              "      <th>newhigh_ema30</th>\n",
              "      <th>newhigh_ema35</th>\n",
              "      <th>newhigh_ema40</th>\n",
              "      <th>newhigh_ema45</th>\n",
              "      <th>newhigh_ema50</th>\n",
              "      <th>newlow_ema5</th>\n",
              "      <th>newlow_ema10</th>\n",
              "      <th>newlow_ema15</th>\n",
              "      <th>newlow_ema20</th>\n",
              "      <th>newlow_ema25</th>\n",
              "      <th>newlow_ema30</th>\n",
              "      <th>newlow_ema35</th>\n",
              "      <th>newlow_ema40</th>\n",
              "      <th>newlow_ema45</th>\n",
              "      <th>newlow_ema50</th>\n",
              "    </tr>\n",
              "    <tr>\n",
              "      <th>Date</th>\n",
              "      <th></th>\n",
              "      <th></th>\n",
              "      <th></th>\n",
              "      <th></th>\n",
              "      <th></th>\n",
              "      <th></th>\n",
              "      <th></th>\n",
              "      <th></th>\n",
              "      <th></th>\n",
              "      <th></th>\n",
              "      <th></th>\n",
              "      <th></th>\n",
              "      <th></th>\n",
              "      <th></th>\n",
              "      <th></th>\n",
              "      <th></th>\n",
              "      <th></th>\n",
              "      <th></th>\n",
              "      <th></th>\n",
              "      <th></th>\n",
              "      <th></th>\n",
              "      <th></th>\n",
              "    </tr>\n",
              "  </thead>\n",
              "  <tbody>\n",
              "    <tr>\n",
              "      <th>2021-11-02</th>\n",
              "      <td>1.0</td>\n",
              "      <td>0.0</td>\n",
              "      <td>2.061229</td>\n",
              "      <td>3.974791</td>\n",
              "      <td>5.412156</td>\n",
              "      <td>6.435376</td>\n",
              "      <td>7.189701</td>\n",
              "      <td>7.757922</td>\n",
              "      <td>8.191026</td>\n",
              "      <td>8.523864</td>\n",
              "      <td>8.781775</td>\n",
              "      <td>8.983918</td>\n",
              "      <td>2.061229</td>\n",
              "      <td>3.974791</td>\n",
              "      <td>5.412156</td>\n",
              "      <td>6.435376</td>\n",
              "      <td>7.189701</td>\n",
              "      <td>7.757922</td>\n",
              "      <td>8.191026</td>\n",
              "      <td>8.523864</td>\n",
              "      <td>8.781775</td>\n",
              "      <td>8.983918</td>\n",
              "    </tr>\n",
              "    <tr>\n",
              "      <th>2021-11-03</th>\n",
              "      <td>4.0</td>\n",
              "      <td>0.0</td>\n",
              "      <td>2.707486</td>\n",
              "      <td>3.979375</td>\n",
              "      <td>5.235636</td>\n",
              "      <td>6.203436</td>\n",
              "      <td>6.944340</td>\n",
              "      <td>7.515475</td>\n",
              "      <td>7.958192</td>\n",
              "      <td>8.303187</td>\n",
              "      <td>8.573872</td>\n",
              "      <td>8.788470</td>\n",
              "      <td>2.707486</td>\n",
              "      <td>3.979375</td>\n",
              "      <td>5.235636</td>\n",
              "      <td>6.203436</td>\n",
              "      <td>6.944340</td>\n",
              "      <td>7.515475</td>\n",
              "      <td>7.958192</td>\n",
              "      <td>8.303187</td>\n",
              "      <td>8.573872</td>\n",
              "      <td>8.788470</td>\n",
              "    </tr>\n",
              "  </tbody>\n",
              "</table>\n",
              "</div>"
            ],
            "text/plain": [
              "            newhigh  newlow  ...  newlow_ema45  newlow_ema50\n",
              "Date                         ...                            \n",
              "2021-11-02      1.0     0.0  ...      8.781775      8.983918\n",
              "2021-11-03      4.0     0.0  ...      8.573872      8.788470\n",
              "\n",
              "[2 rows x 22 columns]"
            ]
          },
          "metadata": {},
          "execution_count": 112
        }
      ]
    },
    {
      "cell_type": "code",
      "metadata": {
        "id": "2_mzIT9vWMy1"
      },
      "source": [
        "price_data_new = df_new_test.copy()\n",
        "price_data_new=pd.concat([price_data_new,nifty_n['Close']],axis=1)"
      ],
      "execution_count": 113,
      "outputs": []
    },
    {
      "cell_type": "code",
      "metadata": {
        "id": "J1EOjfybWMxL"
      },
      "source": [
        "# Group by the `Symbol` column, then grab the `Close` column.\n",
        "close_groups = price_data_new['Close']\n",
        "\n",
        "# Apply the lambda function which will return -1.0 for down, 1.0 for up and 0.0 for no change.\n",
        "close_groups = close_groups.transform(lambda x : np.sign(x.diff(days_out)))\n",
        "\n",
        "# add the data to the main dataframe.\n",
        "price_data_new['Prediction'] = close_groups\n",
        "price_data_new = price_data_new.dropna()"
      ],
      "execution_count": 114,
      "outputs": []
    },
    {
      "cell_type": "code",
      "metadata": {
        "id": "kj9FCkUlWMuo",
        "outputId": "d3ec8aea-b324-4a51-a9a5-4b405e8b4608",
        "colab": {
          "base_uri": "https://localhost:8080/",
          "height": 163
        }
      },
      "source": [
        "ppp =price_data_new.reset_index()\n",
        "ppp.head(2)"
      ],
      "execution_count": 115,
      "outputs": [
        {
          "output_type": "execute_result",
          "data": {
            "text/html": [
              "<div>\n",
              "<style scoped>\n",
              "    .dataframe tbody tr th:only-of-type {\n",
              "        vertical-align: middle;\n",
              "    }\n",
              "\n",
              "    .dataframe tbody tr th {\n",
              "        vertical-align: top;\n",
              "    }\n",
              "\n",
              "    .dataframe thead th {\n",
              "        text-align: right;\n",
              "    }\n",
              "</style>\n",
              "<table border=\"1\" class=\"dataframe\">\n",
              "  <thead>\n",
              "    <tr style=\"text-align: right;\">\n",
              "      <th></th>\n",
              "      <th>Date</th>\n",
              "      <th>newhigh</th>\n",
              "      <th>newlow</th>\n",
              "      <th>newhigh_ema5</th>\n",
              "      <th>newhigh_ema10</th>\n",
              "      <th>newhigh_ema15</th>\n",
              "      <th>newhigh_ema20</th>\n",
              "      <th>newhigh_ema25</th>\n",
              "      <th>newhigh_ema30</th>\n",
              "      <th>newhigh_ema35</th>\n",
              "      <th>newhigh_ema40</th>\n",
              "      <th>newhigh_ema45</th>\n",
              "      <th>newhigh_ema50</th>\n",
              "      <th>newlow_ema5</th>\n",
              "      <th>newlow_ema10</th>\n",
              "      <th>newlow_ema15</th>\n",
              "      <th>newlow_ema20</th>\n",
              "      <th>newlow_ema25</th>\n",
              "      <th>newlow_ema30</th>\n",
              "      <th>newlow_ema35</th>\n",
              "      <th>newlow_ema40</th>\n",
              "      <th>newlow_ema45</th>\n",
              "      <th>newlow_ema50</th>\n",
              "      <th>Close</th>\n",
              "      <th>Prediction</th>\n",
              "    </tr>\n",
              "  </thead>\n",
              "  <tbody>\n",
              "    <tr>\n",
              "      <th>0</th>\n",
              "      <td>2020-10-22</td>\n",
              "      <td>20.0</td>\n",
              "      <td>16.0</td>\n",
              "      <td>19.504523</td>\n",
              "      <td>23.437875</td>\n",
              "      <td>29.390883</td>\n",
              "      <td>34.637254</td>\n",
              "      <td>38.897478</td>\n",
              "      <td>42.329144</td>\n",
              "      <td>45.119917</td>\n",
              "      <td>47.420697</td>\n",
              "      <td>49.343962</td>\n",
              "      <td>50.972455</td>\n",
              "      <td>19.504523</td>\n",
              "      <td>23.437875</td>\n",
              "      <td>29.390883</td>\n",
              "      <td>34.637254</td>\n",
              "      <td>38.897478</td>\n",
              "      <td>42.329144</td>\n",
              "      <td>45.119917</td>\n",
              "      <td>47.420697</td>\n",
              "      <td>49.343962</td>\n",
              "      <td>50.972455</td>\n",
              "      <td>11896.450195</td>\n",
              "      <td>1.0</td>\n",
              "    </tr>\n",
              "    <tr>\n",
              "      <th>1</th>\n",
              "      <td>2020-10-23</td>\n",
              "      <td>20.0</td>\n",
              "      <td>5.0</td>\n",
              "      <td>19.669682</td>\n",
              "      <td>22.812807</td>\n",
              "      <td>28.217023</td>\n",
              "      <td>33.243229</td>\n",
              "      <td>37.443826</td>\n",
              "      <td>40.888554</td>\n",
              "      <td>43.724366</td>\n",
              "      <td>46.083102</td>\n",
              "      <td>48.068137</td>\n",
              "      <td>49.757848</td>\n",
              "      <td>19.669682</td>\n",
              "      <td>22.812807</td>\n",
              "      <td>28.217023</td>\n",
              "      <td>33.243229</td>\n",
              "      <td>37.443826</td>\n",
              "      <td>40.888554</td>\n",
              "      <td>43.724366</td>\n",
              "      <td>46.083102</td>\n",
              "      <td>48.068137</td>\n",
              "      <td>49.757848</td>\n",
              "      <td>11930.349609</td>\n",
              "      <td>1.0</td>\n",
              "    </tr>\n",
              "  </tbody>\n",
              "</table>\n",
              "</div>"
            ],
            "text/plain": [
              "        Date  newhigh  newlow  ...  newlow_ema50         Close  Prediction\n",
              "0 2020-10-22     20.0    16.0  ...     50.972455  11896.450195         1.0\n",
              "1 2020-10-23     20.0     5.0  ...     49.757848  11930.349609         1.0\n",
              "\n",
              "[2 rows x 25 columns]"
            ]
          },
          "metadata": {},
          "execution_count": 115
        }
      ]
    },
    {
      "cell_type": "code",
      "metadata": {
        "id": "f-jX12rZWMrb"
      },
      "source": [
        "pred = pd.DataFrame(rand_frst_clf.predict(price_data_new[feats_ml]))\n",
        "pred = pd.concat([pred , ppp.Date,ppp.Close],axis=1)\n",
        "pred.columns=['pred','Date','Close']\n",
        "pred= pred.set_index('Date')"
      ],
      "execution_count": 117,
      "outputs": []
    },
    {
      "cell_type": "code",
      "metadata": {
        "id": "bDLLxpiWWMo9"
      },
      "source": [
        "l=len(pred)"
      ],
      "execution_count": 118,
      "outputs": []
    },
    {
      "cell_type": "code",
      "metadata": {
        "id": "WrmtdMcfWMmd",
        "outputId": "7f4badee-bfe6-4704-de6e-d9a50c28ea7c",
        "colab": {
          "base_uri": "https://localhost:8080/",
          "height": 362
        }
      },
      "source": [
        "fig, ax = plt.subplots(2,1,figsize=(20,7))\n",
        "ax[0].plot(nifty_n.index.values[-l:],nifty_n['Close'].values[-l:],'*-',linewidth=1 )\n",
        "ax[1].plot(nifty_n.index.values[-l:],pred.pred.values[-l:],'*-',linewidth=1 )\n",
        "plt.suptitle('Random Forest New High New Low')\n",
        "#plt.savefig('LIX.png')\n"
      ],
      "execution_count": 119,
      "outputs": [
        {
          "output_type": "execute_result",
          "data": {
            "text/plain": [
              "Text(0.5, 0.98, 'Random Forest New High New Low')"
            ]
          },
          "metadata": {},
          "execution_count": 119
        },
        {
          "output_type": "display_data",
          "data": {
            "image/png": "[encoded data removed]",
            "text/plain": [
              "<Figure size 1440x504 with 2 Axes>"
            ]
          },
          "metadata": {
            "needs_background": "light"
          }
        }
      ]
    },
    {
      "cell_type": "code",
      "metadata": {
        "id": "XqvO4L9UWMXM"
      },
      "source": [
        "pred['Buy_ind'] = np.where((pred['pred']==1), 1, 0)\n",
        "pred['Sell_ind'] = np.where((pred['pred']==-1), 0, 1)"
      ],
      "execution_count": 120,
      "outputs": []
    },
    {
      "cell_type": "code",
      "metadata": {
        "id": "8hwR8rM8XhX8"
      },
      "source": [
        "pred=pred.reset_index()"
      ],
      "execution_count": 124,
      "outputs": []
    },
    {
      "cell_type": "code",
      "metadata": {
        "id": "_C2w_YxyWt_m"
      },
      "source": [
        "nifty_n['50_EMA'] = nifty_n[\"Close\"].rolling(50).mean()"
      ],
      "execution_count": 125,
      "outputs": []
    },
    {
      "cell_type": "code",
      "metadata": {
        "id": "XH6e6flGWt9y",
        "outputId": "cc308f61-da41-4912-e4c3-0a81fe15766e",
        "colab": {
          "base_uri": "https://localhost:8080/",
          "height": 326
        }
      },
      "source": [
        "plt.figure(figsize=(20,7))\n",
        "## plotting the buy and sell signals on graph\n",
        "plt.plot(nifty_n.index.values[-l:],nifty_n['Close'].values[-l:],'-',linewidth=1)\n",
        "plt.scatter(pred.loc[pred['Buy_ind'] ==1 , 'Date'].values,pred.loc[pred['Buy_ind'] ==1, 'Close'].values, label='skitscat', color='green', s=25, marker=\"^\")\n",
        "plt.scatter(pred.loc[pred['Sell_ind'] ==0 , 'Date'].values,pred.loc[pred['Sell_ind'] ==0, 'Close'].values, label='skitscat', color='red', s=25, marker=\"v\")\n",
        "plt.plot(nifty_n.index.values[-l:],nifty_n['50_EMA'].values[-l:])\n",
        "## Adding labels\n",
        "plt.xlabel('Date')  \n",
        "plt.ylabel('Close Price')  \n",
        "plt.title('New High New Low Nifty price with buy and sell signal ' ) \n",
        "plt.show();"
      ],
      "execution_count": 126,
      "outputs": [
        {
          "output_type": "display_data",
          "data": {
            "image/png": "[encoded data removed]",
            "text/plain": [
              "<Figure size 1440x504 with 1 Axes>"
            ]
          },
          "metadata": {
            "needs_background": "light"
          }
        }
      ]
    },
    {
      "cell_type": "code",
      "metadata": {
        "id": "poGXn2VfWt7R"
      },
      "source": [
        ""
      ],
      "execution_count": null,
      "outputs": []
    },
    {
      "cell_type": "code",
      "metadata": {
        "id": "clGiXULeWt3g"
      },
      "source": [
        ""
      ],
      "execution_count": null,
      "outputs": []
    },
    {
      "cell_type": "code",
      "metadata": {
        "id": "FVtHxMd0Wt0x"
      },
      "source": [
        ""
      ],
      "execution_count": null,
      "outputs": []
    },
    {
      "cell_type": "code",
      "metadata": {
        "id": "ZgwBC0mWWtx7"
      },
      "source": [
        ""
      ],
      "execution_count": null,
      "outputs": []
    },
    {
      "cell_type": "code",
      "metadata": {
        "id": "86G0H8t6WtvZ"
      },
      "source": [
        ""
      ],
      "execution_count": null,
      "outputs": []
    },
    {
      "cell_type": "code",
      "metadata": {
        "id": "t0utmtpYWtsb"
      },
      "source": [
        ""
      ],
      "execution_count": null,
      "outputs": []
    }
  ]
}