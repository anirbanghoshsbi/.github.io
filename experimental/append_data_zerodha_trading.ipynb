{
  "nbformat": 4,
  "nbformat_minor": 0,
  "metadata": {
    "colab": {
      "name": "append_data_zerodha_trading.ipynb",
      "provenance": [],
      "authorship_tag": "ABX9TyNC0JJKu8YSEKqymK0yMHUs",
      "include_colab_link": true
    },
    "kernelspec": {
      "name": "python3",
      "display_name": "Python 3"
    },
    "language_info": {
      "name": "python"
    }
  },
  "cells": [
    {
      "cell_type": "markdown",
      "metadata": {
        "id": "view-in-github",
        "colab_type": "text"
      },
      "source": [
        "<a href=\"https://colab.research.google.com/github/anirbanghoshsbi/.github.io/blob/master/experimental/append_data_zerodha_trading.ipynb\" target=\"_parent\"><img src=\"https://colab.research.google.com/assets/colab-badge.svg\" alt=\"Open In Colab\"/></a>"
      ]
    },
    {
      "cell_type": "code",
      "metadata": {
        "id": "kU48I3C2DDRS"
      },
      "source": [
        "import warnings\n",
        "warnings.simplefilter(action='ignore', category=Warning)\n",
        "import pandas as pd\n",
        "import numpy as np\n",
        "import matplotlib.pyplot as plt\n",
        "import seaborn as sns\n",
        "from scipy.stats import pearsonr\n",
        "import datetime"
      ],
      "execution_count": 1,
      "outputs": []
    },
    {
      "cell_type": "code",
      "metadata": {
        "id": "3WDgbHTyDGp_"
      },
      "source": [
        "data = pd.read_csv('https://raw.githubusercontent.com/anirbanghoshsbi/data/main/data4correlation/copper.csv')"
      ],
      "execution_count": 2,
      "outputs": []
    },
    {
      "cell_type": "code",
      "metadata": {
        "id": "98ABWecODJ0K"
      },
      "source": [
        "data['date']=data.time.apply(lambda d: datetime.datetime.fromtimestamp(int(d)).strftime('%d-%m-%Y'))"
      ],
      "execution_count": 3,
      "outputs": []
    },
    {
      "cell_type": "code",
      "metadata": {
        "id": "FfeBadAsDMLj"
      },
      "source": [
        "del data['time']"
      ],
      "execution_count": 4,
      "outputs": []
    },
    {
      "cell_type": "code",
      "metadata": {
        "colab": {
          "base_uri": "https://localhost:8080/",
          "height": 230
        },
        "id": "bvILH4GoDNkI",
        "outputId": "7058831c-76be-4b9c-9caf-7d094d0f6182"
      },
      "source": [
        "data.tail(2)"
      ],
      "execution_count": 5,
      "outputs": [
        {
          "output_type": "execute_result",
          "data": {
            "text/html": [
              "<div>\n",
              "<style scoped>\n",
              "    .dataframe tbody tr th:only-of-type {\n",
              "        vertical-align: middle;\n",
              "    }\n",
              "\n",
              "    .dataframe tbody tr th {\n",
              "        vertical-align: top;\n",
              "    }\n",
              "\n",
              "    .dataframe thead th {\n",
              "        text-align: right;\n",
              "    }\n",
              "</style>\n",
              "<table border=\"1\" class=\"dataframe\">\n",
              "  <thead>\n",
              "    <tr style=\"text-align: right;\">\n",
              "      <th></th>\n",
              "      <th>open</th>\n",
              "      <th>high</th>\n",
              "      <th>low</th>\n",
              "      <th>close</th>\n",
              "      <th>COPPER1!, MCX: Open</th>\n",
              "      <th>COPPER1!, MCX: High</th>\n",
              "      <th>COPPER1!, MCX: Low</th>\n",
              "      <th>COPPER1!, MCX: Close</th>\n",
              "      <th>Volume</th>\n",
              "      <th>Volume MA</th>\n",
              "      <th>date</th>\n",
              "    </tr>\n",
              "  </thead>\n",
              "  <tbody>\n",
              "    <tr>\n",
              "      <th>3267</th>\n",
              "      <td>17095.400</td>\n",
              "      <td>17245.5</td>\n",
              "      <td>17059.699</td>\n",
              "      <td>17234.15</td>\n",
              "      <td>711.05</td>\n",
              "      <td>712.75</td>\n",
              "      <td>705.2</td>\n",
              "      <td>712.05</td>\n",
              "      <td>NaN</td>\n",
              "      <td>NaN</td>\n",
              "      <td>02-09-2021</td>\n",
              "    </tr>\n",
              "    <tr>\n",
              "      <th>3268</th>\n",
              "      <td>17262.449</td>\n",
              "      <td>17340.1</td>\n",
              "      <td>17212.199</td>\n",
              "      <td>17323.60</td>\n",
              "      <td>714.05</td>\n",
              "      <td>717.70</td>\n",
              "      <td>708.7</td>\n",
              "      <td>716.35</td>\n",
              "      <td>NaN</td>\n",
              "      <td>NaN</td>\n",
              "      <td>03-09-2021</td>\n",
              "    </tr>\n",
              "  </tbody>\n",
              "</table>\n",
              "</div>"
            ],
            "text/plain": [
              "           open     high        low  ...  Volume  Volume MA        date\n",
              "3267  17095.400  17245.5  17059.699  ...     NaN        NaN  02-09-2021\n",
              "3268  17262.449  17340.1  17212.199  ...     NaN        NaN  03-09-2021\n",
              "\n",
              "[2 rows x 11 columns]"
            ]
          },
          "metadata": {},
          "execution_count": 5
        }
      ]
    },
    {
      "cell_type": "code",
      "metadata": {
        "colab": {
          "base_uri": "https://localhost:8080/"
        },
        "id": "gsfATBH4FTy_",
        "outputId": "ce60ad99-2c08-4938-c607-bc5da6b28abe"
      },
      "source": [
        "from datetime import datetime\n",
        "import calendar\n",
        "d = datetime.utcnow()\n",
        "unixtime = calendar.timegm(d.utctimetuple())\n",
        "print(unixtime)"
      ],
      "execution_count": 15,
      "outputs": [
        {
          "output_type": "stream",
          "name": "stdout",
          "text": [
            "1632038647\n"
          ]
        }
      ]
    },
    {
      "cell_type": "code",
      "metadata": {
        "id": "viViWVc_DJwt"
      },
      "source": [
        "data = data.append({'date': datetime.fromtimestamp(int(unixtime)).strftime('%d-%m-%Y'),'open':15800,'high':15900,'low':15000,'close':15850 }, ignore_index=True)"
      ],
      "execution_count": 18,
      "outputs": []
    },
    {
      "cell_type": "code",
      "metadata": {
        "colab": {
          "base_uri": "https://localhost:8080/",
          "height": 210
        },
        "id": "DoQmRaMVDJsL",
        "outputId": "a8fad976-a1a8-4395-c5f0-6efcc7836bc5"
      },
      "source": [
        "data.tail(2)"
      ],
      "execution_count": 19,
      "outputs": [
        {
          "output_type": "execute_result",
          "data": {
            "text/html": [
              "<div>\n",
              "<style scoped>\n",
              "    .dataframe tbody tr th:only-of-type {\n",
              "        vertical-align: middle;\n",
              "    }\n",
              "\n",
              "    .dataframe tbody tr th {\n",
              "        vertical-align: top;\n",
              "    }\n",
              "\n",
              "    .dataframe thead th {\n",
              "        text-align: right;\n",
              "    }\n",
              "</style>\n",
              "<table border=\"1\" class=\"dataframe\">\n",
              "  <thead>\n",
              "    <tr style=\"text-align: right;\">\n",
              "      <th></th>\n",
              "      <th>open</th>\n",
              "      <th>high</th>\n",
              "      <th>low</th>\n",
              "      <th>close</th>\n",
              "      <th>COPPER1!, MCX: Open</th>\n",
              "      <th>COPPER1!, MCX: High</th>\n",
              "      <th>COPPER1!, MCX: Low</th>\n",
              "      <th>COPPER1!, MCX: Close</th>\n",
              "      <th>Volume</th>\n",
              "      <th>Volume MA</th>\n",
              "      <th>date</th>\n",
              "    </tr>\n",
              "  </thead>\n",
              "  <tbody>\n",
              "    <tr>\n",
              "      <th>3269</th>\n",
              "      <td>NaN</td>\n",
              "      <td>NaN</td>\n",
              "      <td>NaN</td>\n",
              "      <td>NaN</td>\n",
              "      <td>NaN</td>\n",
              "      <td>NaN</td>\n",
              "      <td>NaN</td>\n",
              "      <td>NaN</td>\n",
              "      <td>NaN</td>\n",
              "      <td>NaN</td>\n",
              "      <td>19-09-2021</td>\n",
              "    </tr>\n",
              "    <tr>\n",
              "      <th>3270</th>\n",
              "      <td>15800.0</td>\n",
              "      <td>15900.0</td>\n",
              "      <td>15000.0</td>\n",
              "      <td>15850.0</td>\n",
              "      <td>NaN</td>\n",
              "      <td>NaN</td>\n",
              "      <td>NaN</td>\n",
              "      <td>NaN</td>\n",
              "      <td>NaN</td>\n",
              "      <td>NaN</td>\n",
              "      <td>19-09-2021</td>\n",
              "    </tr>\n",
              "  </tbody>\n",
              "</table>\n",
              "</div>"
            ],
            "text/plain": [
              "         open     high      low  ...  Volume  Volume MA        date\n",
              "3269      NaN      NaN      NaN  ...     NaN        NaN  19-09-2021\n",
              "3270  15800.0  15900.0  15000.0  ...     NaN        NaN  19-09-2021\n",
              "\n",
              "[2 rows x 11 columns]"
            ]
          },
          "metadata": {},
          "execution_count": 19
        }
      ]
    },
    {
      "cell_type": "code",
      "metadata": {
        "colab": {
          "base_uri": "https://localhost:8080/",
          "height": 35
        },
        "id": "Cy-hg__2DJpd",
        "outputId": "57041c28-7800-4567-b15a-cbf13d332565"
      },
      "source": [
        "datetime.fromtimestamp(int(unixtime)).strftime('%d-%m-%Y')"
      ],
      "execution_count": 14,
      "outputs": [
        {
          "output_type": "execute_result",
          "data": {
            "application/vnd.google.colaboratory.intrinsic+json": {
              "type": "string"
            },
            "text/plain": [
              "'19-09-2021'"
            ]
          },
          "metadata": {},
          "execution_count": 14
        }
      ]
    },
    {
      "cell_type": "code",
      "metadata": {
        "id": "c9DDjfbKDJmq"
      },
      "source": [
        ""
      ],
      "execution_count": 5,
      "outputs": []
    }
  ]
}