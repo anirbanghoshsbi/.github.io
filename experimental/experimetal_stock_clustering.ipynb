{
  "nbformat": 4,
  "nbformat_minor": 0,
  "metadata": {
    "colab": {
      "name": "experimetal_stock_clustering.ipynb",
      "provenance": [],
      "authorship_tag": "ABX9TyMRYtk5wTN3UlljcVjGCRoP",
      "include_colab_link": true
    },
    "kernelspec": {
      "name": "python3",
      "display_name": "Python 3"
    },
    "language_info": {
      "name": "python"
    }
  },
  "cells": [
    {
      "cell_type": "markdown",
      "metadata": {
        "id": "view-in-github",
        "colab_type": "text"
      },
      "source": [
        "<a href=\"https://colab.research.google.com/github/anirbanghoshsbi/.github.io/blob/master/experimental/experimetal_stock_clustering.ipynb\" target=\"_parent\"><img src=\"https://colab.research.google.com/assets/colab-badge.svg\" alt=\"Open In Colab\"/></a>"
      ]
    },
    {
      "cell_type": "code",
      "metadata": {
        "id": "n449cY2iUZgs"
      },
      "source": [
        "#!pip install yfinance"
      ],
      "execution_count": 15,
      "outputs": []
    },
    {
      "cell_type": "code",
      "metadata": {
        "id": "1YnVPr3DUjks"
      },
      "source": [
        "import pandas as pd\n",
        "import numpy as np\n",
        "import matplotlib.pyplot as plt\n"
      ],
      "execution_count": 16,
      "outputs": []
    },
    {
      "cell_type": "code",
      "metadata": {
        "colab": {
          "base_uri": "https://localhost:8080/"
        },
        "id": "LVq6CWcLUjhY",
        "outputId": "1d84cfa7-0a5a-413f-8018-ede81d4133c8"
      },
      "source": [
        "import yfinance as yf\n",
        "tickers = ['AMZN','AAPL','WBA','NOC','BA','LMT','MCD','INTC','NAV','IBM','TXN','MA','MSFT','GE','AXP']\n",
        "start_date = '2010-01-01'\n",
        "end_date = '2020-11-01'\n",
        "df = yf.download(tickers, start_date, end_date)[['Adj Close']]"
      ],
      "execution_count": 17,
      "outputs": [
        {
          "output_type": "stream",
          "name": "stdout",
          "text": [
            "[*********************100%***********************]  15 of 15 completed\n",
            "\n",
            "1 Failed download:\n",
            "- NAV: No data found, symbol may be delisted\n"
          ]
        }
      ]
    },
    {
      "cell_type": "code",
      "metadata": {
        "id": "mQkYMcjRVAwQ"
      },
      "source": [
        "returns = df.pct_change().mean() * (10*12)\n",
        "std = df.pct_change().std() * np.sqrt((10*12))\n",
        "ret_var = pd.concat([returns, std], axis = 1).dropna()\n",
        "ret_var.columns = [\"Returns\",\"Standard Deviation\"]"
      ],
      "execution_count": 18,
      "outputs": []
    },
    {
      "cell_type": "code",
      "metadata": {
        "colab": {
          "base_uri": "https://localhost:8080/",
          "height": 279
        },
        "id": "AqBaCPCpVAtl",
        "outputId": "c62a3a7a-e01a-4002-ec4c-722f73aafcab"
      },
      "source": [
        "from sklearn.cluster import KMeans\n",
        "X =  ret_var.values\n",
        "sse = []\n",
        "for k in range(1,15):\n",
        "    kmeans = KMeans(n_clusters = k)\n",
        "    kmeans.fit(X)\n",
        "    sse.append(kmeans.inertia_)\n",
        "plt.plot(range(1,15), sse)\n",
        "plt.xlabel(\"Value of k\")\n",
        "plt.ylabel(\"Distortion\")\n",
        "plt.show()"
      ],
      "execution_count": 19,
      "outputs": [
        {
          "output_type": "display_data",
          "data": {
            "image/png": "[encoded data removed]",
            "text/plain": [
              "<Figure size 432x288 with 1 Axes>"
            ]
          },
          "metadata": {
            "needs_background": "light"
          }
        }
      ]
    },
    {
      "cell_type": "code",
      "metadata": {
        "id": "-Gux0lRMVArC"
      },
      "source": [
        "stdOrder = ret_var.sort_values('Standard Deviation',ascending=False)\n",
        "first_symbol = stdOrder.index[0]\n",
        "ret_var.drop(first_symbol,inplace=True)\n",
        "X = ret_var.values"
      ],
      "execution_count": 20,
      "outputs": []
    },
    {
      "cell_type": "code",
      "metadata": {
        "colab": {
          "base_uri": "https://localhost:8080/",
          "height": 279
        },
        "id": "WCa42HvJVAoq",
        "outputId": "ea8d8535-0414-400e-b0d4-6587b6d5a369"
      },
      "source": [
        "kmeans =KMeans(n_clusters = 5).fit(X)\n",
        "centroids = kmeans.cluster_centers_\n",
        "plt.scatter(X[:,0],X[:,1], c = kmeans.labels_, cmap =\"viridis\")\n",
        "plt.xlabel(\"y\")\n",
        "plt.scatter(centroids[:,0], centroids[:,1],color=\"red\",marker=\"*\")\n",
        "plt.show()"
      ],
      "execution_count": 21,
      "outputs": [
        {
          "output_type": "display_data",
          "data": {
            "image/png": "[encoded data removed]",
            "text/plain": [
              "<Figure size 432x288 with 1 Axes>"
            ]
          },
          "metadata": {
            "needs_background": "light"
          }
        }
      ]
    },
    {
      "cell_type": "code",
      "metadata": {
        "colab": {
          "base_uri": "https://localhost:8080/",
          "height": 478
        },
        "id": "CfEs05wVVAm0",
        "outputId": "6c239747-e426-4275-a3ad-ce89abff927b"
      },
      "source": [
        "stocks = pd.DataFrame(ret_var.index)\n",
        "cluster_labels = pd.DataFrame(kmeans.labels_)\n",
        "stockClusters = pd.concat([stocks, cluster_labels],axis = 1)\n",
        "stockClusters.columns = ['Symbol','Cluster']\n",
        "x_df = pd.DataFrame(X, columns = [\"Returns\", \"Volatitity\"])\n",
        "closerv = pd.concat([stockClusters,x_df],axis=1)\n",
        "closerv = closerv.set_index(\"Symbol\")\n",
        "closerv"
      ],
      "execution_count": 22,
      "outputs": [
        {
          "output_type": "execute_result",
          "data": {
            "text/html": [
              "<div>\n",
              "<style scoped>\n",
              "    .dataframe tbody tr th:only-of-type {\n",
              "        vertical-align: middle;\n",
              "    }\n",
              "\n",
              "    .dataframe tbody tr th {\n",
              "        vertical-align: top;\n",
              "    }\n",
              "\n",
              "    .dataframe thead th {\n",
              "        text-align: right;\n",
              "    }\n",
              "</style>\n",
              "<table border=\"1\" class=\"dataframe\">\n",
              "  <thead>\n",
              "    <tr style=\"text-align: right;\">\n",
              "      <th></th>\n",
              "      <th>Cluster</th>\n",
              "      <th>Returns</th>\n",
              "      <th>Volatitity</th>\n",
              "    </tr>\n",
              "    <tr>\n",
              "      <th>Symbol</th>\n",
              "      <th></th>\n",
              "      <th></th>\n",
              "      <th></th>\n",
              "    </tr>\n",
              "  </thead>\n",
              "  <tbody>\n",
              "    <tr>\n",
              "      <th>(Adj Close, AAPL)</th>\n",
              "      <td>4</td>\n",
              "      <td>0.142520</td>\n",
              "      <td>0.195328</td>\n",
              "    </tr>\n",
              "    <tr>\n",
              "      <th>(Adj Close, AMZN)</th>\n",
              "      <td>4</td>\n",
              "      <td>0.161408</td>\n",
              "      <td>0.219298</td>\n",
              "    </tr>\n",
              "    <tr>\n",
              "      <th>(Adj Close, AXP)</th>\n",
              "      <td>0</td>\n",
              "      <td>0.061691</td>\n",
              "      <td>0.195526</td>\n",
              "    </tr>\n",
              "    <tr>\n",
              "      <th>(Adj Close, GE)</th>\n",
              "      <td>2</td>\n",
              "      <td>0.006226</td>\n",
              "      <td>0.217377</td>\n",
              "    </tr>\n",
              "    <tr>\n",
              "      <th>(Adj Close, IBM)</th>\n",
              "      <td>2</td>\n",
              "      <td>0.019014</td>\n",
              "      <td>0.154290</td>\n",
              "    </tr>\n",
              "    <tr>\n",
              "      <th>(Adj Close, INTC)</th>\n",
              "      <td>0</td>\n",
              "      <td>0.066716</td>\n",
              "      <td>0.195823</td>\n",
              "    </tr>\n",
              "    <tr>\n",
              "      <th>(Adj Close, LMT)</th>\n",
              "      <td>3</td>\n",
              "      <td>0.092771</td>\n",
              "      <td>0.144668</td>\n",
              "    </tr>\n",
              "    <tr>\n",
              "      <th>(Adj Close, MA)</th>\n",
              "      <td>1</td>\n",
              "      <td>0.127789</td>\n",
              "      <td>0.194159</td>\n",
              "    </tr>\n",
              "    <tr>\n",
              "      <th>(Adj Close, MCD)</th>\n",
              "      <td>3</td>\n",
              "      <td>0.076515</td>\n",
              "      <td>0.132609</td>\n",
              "    </tr>\n",
              "    <tr>\n",
              "      <th>(Adj Close, MSFT)</th>\n",
              "      <td>1</td>\n",
              "      <td>0.108985</td>\n",
              "      <td>0.175395</td>\n",
              "    </tr>\n",
              "    <tr>\n",
              "      <th>(Adj Close, NOC)</th>\n",
              "      <td>3</td>\n",
              "      <td>0.099019</td>\n",
              "      <td>0.156366</td>\n",
              "    </tr>\n",
              "    <tr>\n",
              "      <th>(Adj Close, TXN)</th>\n",
              "      <td>1</td>\n",
              "      <td>0.104789</td>\n",
              "      <td>0.185254</td>\n",
              "    </tr>\n",
              "    <tr>\n",
              "      <th>(Adj Close, WBA)</th>\n",
              "      <td>2</td>\n",
              "      <td>0.025443</td>\n",
              "      <td>0.190796</td>\n",
              "    </tr>\n",
              "  </tbody>\n",
              "</table>\n",
              "</div>"
            ],
            "text/plain": [
              "                   Cluster   Returns  Volatitity\n",
              "Symbol                                          \n",
              "(Adj Close, AAPL)        4  0.142520    0.195328\n",
              "(Adj Close, AMZN)        4  0.161408    0.219298\n",
              "(Adj Close, AXP)         0  0.061691    0.195526\n",
              "(Adj Close, GE)          2  0.006226    0.217377\n",
              "(Adj Close, IBM)         2  0.019014    0.154290\n",
              "(Adj Close, INTC)        0  0.066716    0.195823\n",
              "(Adj Close, LMT)         3  0.092771    0.144668\n",
              "(Adj Close, MA)          1  0.127789    0.194159\n",
              "(Adj Close, MCD)         3  0.076515    0.132609\n",
              "(Adj Close, MSFT)        1  0.108985    0.175395\n",
              "(Adj Close, NOC)         3  0.099019    0.156366\n",
              "(Adj Close, TXN)         1  0.104789    0.185254\n",
              "(Adj Close, WBA)         2  0.025443    0.190796"
            ]
          },
          "metadata": {},
          "execution_count": 22
        }
      ]
    },
    {
      "cell_type": "markdown",
      "metadata": {
        "id": "AJu_l1rZVWP0"
      },
      "source": [
        "To understand the k-means performance, we resort to the silhouette method, which examines the mean intracluster and the mean near-cluster distance for each sample. The value obtained is considered the silhouette score; it measures the separation. A silhouette score ranges from -1 to 1. Specifically, -1 shows poor model performance, and 1 shows optimal model performance. Listing 5-7 finds the score."
      ]
    },
    {
      "cell_type": "code",
      "metadata": {
        "colab": {
          "base_uri": "https://localhost:8080/"
        },
        "id": "DKZ3-3oeVAjz",
        "outputId": "cbc32355-5b62-45e6-f665-7997457b1057"
      },
      "source": [
        "from sklearn import metrics\n",
        "y_predkmeans = pd.DataFrame(kmeans.predict(X))\n",
        "y_predkmeans = y_predkmeans.dropna()\n",
        "metrics.silhouette_score(X,y_predkmeans)"
      ],
      "execution_count": 24,
      "outputs": [
        {
          "output_type": "stream",
          "name": "stderr",
          "text": [
            "/usr/local/lib/python3.7/dist-packages/sklearn/utils/validation.py:760: DataConversionWarning: A column-vector y was passed when a 1d array was expected. Please change the shape of y to (n_samples, ), for example using ravel().\n",
            "  y = column_or_1d(y, warn=True)\n"
          ]
        },
        {
          "output_type": "execute_result",
          "data": {
            "text/plain": [
              "0.4214102646113304"
            ]
          },
          "metadata": {},
          "execution_count": 24
        }
      ]
    },
    {
      "cell_type": "code",
      "metadata": {
        "id": "beVrNmQ_VAhv"
      },
      "source": [
        ""
      ],
      "execution_count": 23,
      "outputs": []
    },
    {
      "cell_type": "code",
      "metadata": {
        "id": "d2V4ZUbkVAew"
      },
      "source": [
        ""
      ],
      "execution_count": 23,
      "outputs": []
    }
  ]
}