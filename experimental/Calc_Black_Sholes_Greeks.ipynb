{
  "nbformat": 4,
  "nbformat_minor": 0,
  "metadata": {
    "colab": {
      "name": "Calc_Black_Sholes_Greeks.ipynb",
      "provenance": [],
      "authorship_tag": "ABX9TyOSnK+sWh5ZFQx7cP47hBZ6",
      "include_colab_link": true
    },
    "kernelspec": {
      "name": "python3",
      "display_name": "Python 3"
    },
    "language_info": {
      "name": "python"
    }
  },
  "cells": [
    {
      "cell_type": "markdown",
      "metadata": {
        "id": "view-in-github",
        "colab_type": "text"
      },
      "source": [
        "<a href=\"https://colab.research.google.com/github/anirbanghoshsbi/.github.io/blob/master/experimental/Calc_Black_Sholes_Greeks.ipynb\" target=\"_parent\"><img src=\"https://colab.research.google.com/assets/colab-badge.svg\" alt=\"Open In Colab\"/></a>"
      ]
    },
    {
      "cell_type": "code",
      "execution_count": 1,
      "metadata": {
        "colab": {
          "base_uri": "https://localhost:8080/"
        },
        "id": "jtL6ldSUuq10",
        "outputId": "f6d94858-ffed-43c3-c7d9-db114db93b14"
      },
      "outputs": [
        {
          "output_type": "stream",
          "name": "stdout",
          "text": [
            "Collecting py_vollib\n",
            "  Downloading py_vollib-1.0.1.tar.gz (19 kB)\n",
            "Collecting py_lets_be_rational\n",
            "  Downloading py_lets_be_rational-1.0.1.tar.gz (18 kB)\n",
            "Collecting simplejson\n",
            "  Downloading simplejson-3.17.6-cp37-cp37m-manylinux_2_5_x86_64.manylinux1_x86_64.manylinux_2_12_x86_64.manylinux2010_x86_64.whl (130 kB)\n",
            "\u001b[K     |████████████████████████████████| 130 kB 28.1 MB/s \n",
            "\u001b[?25hRequirement already satisfied: numpy in /usr/local/lib/python3.7/dist-packages (from py_vollib) (1.19.5)\n",
            "Requirement already satisfied: pandas in /usr/local/lib/python3.7/dist-packages (from py_vollib) (1.3.5)\n",
            "Requirement already satisfied: scipy in /usr/local/lib/python3.7/dist-packages (from py_vollib) (1.4.1)\n",
            "Requirement already satisfied: python-dateutil>=2.7.3 in /usr/local/lib/python3.7/dist-packages (from pandas->py_vollib) (2.8.2)\n",
            "Requirement already satisfied: pytz>=2017.3 in /usr/local/lib/python3.7/dist-packages (from pandas->py_vollib) (2018.9)\n",
            "Requirement already satisfied: six>=1.5 in /usr/local/lib/python3.7/dist-packages (from python-dateutil>=2.7.3->pandas->py_vollib) (1.15.0)\n",
            "Building wheels for collected packages: py-vollib, py-lets-be-rational\n",
            "  Building wheel for py-vollib (setup.py) ... \u001b[?25l\u001b[?25hdone\n",
            "  Created wheel for py-vollib: filename=py_vollib-1.0.1-py3-none-any.whl size=62855 sha256=cf370caf54790fe409f9cb14aabeb04b4a13dfdf497fc74f8259c23e635889bf\n",
            "  Stored in directory: /root/.cache/pip/wheels/2d/25/50/bc80b93c9a827ed9bef9d86f85365e1934bcbc0666b9f00c11\n",
            "  Building wheel for py-lets-be-rational (setup.py) ... \u001b[?25l\u001b[?25hdone\n",
            "  Created wheel for py-lets-be-rational: filename=py_lets_be_rational-1.0.1-py3-none-any.whl size=24468 sha256=ee4dfa002cfcb21ef9b7e9b2c8965e368342b50e1c96a621b40df4614593f5d0\n",
            "  Stored in directory: /root/.cache/pip/wheels/1a/70/10/bf54a16badc528594c9510ef517badb765a29b651ea5652898\n",
            "Successfully built py-vollib py-lets-be-rational\n",
            "Installing collected packages: simplejson, py-lets-be-rational, py-vollib\n",
            "Successfully installed py-lets-be-rational-1.0.1 py-vollib-1.0.1 simplejson-3.17.6\n"
          ]
        }
      ],
      "source": [
        "!pip install py_vollib"
      ]
    },
    {
      "cell_type": "code",
      "source": [
        "from py_vollib.black.greeks.analytical import delta"
      ],
      "metadata": {
        "id": "V4kptT06u2TX"
      },
      "execution_count": 2,
      "outputs": []
    },
    {
      "cell_type": "markdown",
      "source": [
        "``` Parameters:\t\n",
        "flag (str) – ‘c’ or ‘p’ for call or put.\n",
        "F (float) – underlying futures price\n",
        "K (float) – strike price\n",
        "t (float) – time to expiration in years\n",
        "r (float) – annual risk-free interest rate\n",
        "sigma (float) – volatility\n",
        "Returns:\t\n",
        "float ```"
      ],
      "metadata": {
        "id": "84IWBET5vTcW"
      }
    },
    {
      "cell_type": "code",
      "source": [
        "def get_delta(K):\n",
        "  F = 17414   # future price for the expiry month\n",
        "  #K = 17500  # strike price \n",
        "  r = .07  # 10 year g-sec yield\n",
        "  t = 45/200  # days to expiry div no of days per year\n",
        "  sigma = 0.186  #previous day indiavix\n",
        "  flag = 'p'  # p-put and c-call\n",
        "  v1 = delta(flag, F, K, t, r, sigma)\n",
        "  return round(v1/2*100,0)"
      ],
      "metadata": {
        "id": "tKMMJwesvZYe"
      },
      "execution_count": 55,
      "outputs": []
    },
    {
      "cell_type": "code",
      "source": [
        ""
      ],
      "metadata": {
        "colab": {
          "base_uri": "https://localhost:8080/"
        },
        "id": "8K5_4z3uwa8e",
        "outputId": "d7b79c05-fc5b-41d4-e38a-686da8693bd6"
      },
      "execution_count": 47,
      "outputs": [
        {
          "output_type": "execute_result",
          "data": {
            "text/plain": [
              "-25.0"
            ]
          },
          "metadata": {},
          "execution_count": 47
        }
      ]
    },
    {
      "cell_type": "code",
      "source": [
        "F=17414\n",
        "lst = [17000,17100,17200,17300,17400,17500,17600,17700]"
      ],
      "metadata": {
        "id": "Q9Bvedn0wbmm"
      },
      "execution_count": 56,
      "outputs": []
    },
    {
      "cell_type": "code",
      "source": [
        "lst_for_delta={}"
      ],
      "metadata": {
        "id": "bDpyqK521HPM"
      },
      "execution_count": 57,
      "outputs": []
    },
    {
      "cell_type": "code",
      "source": [
        "for item in lst:\n",
        "  lst_for_delta[item]=get_delta(item)"
      ],
      "metadata": {
        "id": "HSf2iWkB00ZY"
      },
      "execution_count": 58,
      "outputs": []
    },
    {
      "cell_type": "code",
      "source": [
        "lst_for_delta"
      ],
      "metadata": {
        "colab": {
          "base_uri": "https://localhost:8080/"
        },
        "id": "Ibu4gxPW1aYd",
        "outputId": "ff939738-5136-4bb3-a5bc-df42b5f459be"
      },
      "execution_count": 59,
      "outputs": [
        {
          "output_type": "execute_result",
          "data": {
            "text/plain": [
              "{17000: -18.0,\n",
              " 17100: -20.0,\n",
              " 17200: -21.0,\n",
              " 17300: -22.0,\n",
              " 17400: -24.0,\n",
              " 17500: -25.0,\n",
              " 17600: -26.0,\n",
              " 17700: -27.0}"
            ]
          },
          "metadata": {},
          "execution_count": 59
        }
      ]
    },
    {
      "cell_type": "code",
      "source": [
        "# function to return key for any value\n",
        "def get_key(val):\n",
        "    for key, value in lst_for_delta.items():\n",
        "         if val == value:\n",
        "             return key"
      ],
      "metadata": {
        "id": "3ahZVtj_1b3z"
      },
      "execution_count": 60,
      "outputs": []
    },
    {
      "cell_type": "code",
      "source": [
        "get_key(-25)"
      ],
      "metadata": {
        "colab": {
          "base_uri": "https://localhost:8080/"
        },
        "id": "w8A8Dd9P2Aht",
        "outputId": "714e63ca-5e9c-4aa9-877c-933ae1c96e04"
      },
      "execution_count": 61,
      "outputs": [
        {
          "output_type": "execute_result",
          "data": {
            "text/plain": [
              "17500"
            ]
          },
          "metadata": {},
          "execution_count": 61
        }
      ]
    }
  ]
}