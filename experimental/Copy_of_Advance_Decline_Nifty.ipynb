{
  "nbformat": 4,
  "nbformat_minor": 0,
  "metadata": {
    "colab": {
      "name": "Copy of Advance Decline Nifty.ipynb",
      "provenance": [],
      "collapsed_sections": [
        "G3FSOmSFhn4f"
      ],
      "authorship_tag": "ABX9TyOj1U2lPaRN/tHmNEczaVCI",
      "include_colab_link": true
    },
    "kernelspec": {
      "name": "python3",
      "display_name": "Python 3"
    }
  },
  "cells": [
    {
      "cell_type": "markdown",
      "metadata": {
        "id": "view-in-github",
        "colab_type": "text"
      },
      "source": [
        "<a href=\"https://colab.research.google.com/github/anirbanghoshsbi/.github.io/blob/master/experimental/Copy_of_Advance_Decline_Nifty.ipynb\" target=\"_parent\"><img src=\"https://colab.research.google.com/assets/colab-badge.svg\" alt=\"Open In Colab\"/></a>"
      ]
    },
    {
      "cell_type": "code",
      "metadata": {
        "id": "GY481djqJP1G"
      },
      "source": [
        "import pandas as pd\n",
        "import numpy as np\n",
        "# Plotting graphs\n",
        "import matplotlib.pyplot as plt\n",
        "from matplotlib.dates import MonthLocator, YearLocator"
      ],
      "execution_count": 1,
      "outputs": []
    },
    {
      "cell_type": "code",
      "metadata": {
        "id": "RNv2yYWrH746"
      },
      "source": [
        "import datetime\n",
        "# Import libraries\n",
        "import os\n",
        "import sys\n",
        "import requests\n",
        "from sklearn.ensemble import RandomForestClassifier\n",
        "from sklearn.model_selection import train_test_split\n",
        "from sklearn.model_selection import RandomizedSearchCV\n",
        "from sklearn.metrics import plot_roc_curve\n",
        "from sklearn.metrics import accuracy_score, classification_report"
      ],
      "execution_count": 2,
      "outputs": []
    },
    {
      "cell_type": "code",
      "metadata": {
        "id": "7LPga9yQJZCM",
        "colab": {
          "base_uri": "https://localhost:8080/"
        },
        "outputId": "1195bb1d-9421-455c-9bf3-a9a950978f30"
      },
      "source": [
        "!pip install yfinance --upgrade --no-cache-dir\n",
        "from pandas_datareader import data as pdr\n",
        "import yfinance as yf\n",
        "yf.pdr_override()"
      ],
      "execution_count": 3,
      "outputs": [
        {
          "output_type": "stream",
          "name": "stdout",
          "text": [
            "Collecting yfinance\n",
            "  Downloading yfinance-0.1.64.tar.gz (26 kB)\n",
            "Requirement already satisfied: pandas>=0.24 in /usr/local/lib/python3.7/dist-packages (from yfinance) (1.1.5)\n",
            "Requirement already satisfied: numpy>=1.15 in /usr/local/lib/python3.7/dist-packages (from yfinance) (1.19.5)\n",
            "Requirement already satisfied: requests>=2.20 in /usr/local/lib/python3.7/dist-packages (from yfinance) (2.23.0)\n",
            "Requirement already satisfied: multitasking>=0.0.7 in /usr/local/lib/python3.7/dist-packages (from yfinance) (0.0.9)\n",
            "Collecting lxml>=4.5.1\n",
            "  Downloading lxml-4.6.3-cp37-cp37m-manylinux2014_x86_64.whl (6.3 MB)\n",
            "\u001b[K     |████████████████████████████████| 6.3 MB 8.0 MB/s \n",
            "\u001b[?25hRequirement already satisfied: python-dateutil>=2.7.3 in /usr/local/lib/python3.7/dist-packages (from pandas>=0.24->yfinance) (2.8.2)\n",
            "Requirement already satisfied: pytz>=2017.2 in /usr/local/lib/python3.7/dist-packages (from pandas>=0.24->yfinance) (2018.9)\n",
            "Requirement already satisfied: six>=1.5 in /usr/local/lib/python3.7/dist-packages (from python-dateutil>=2.7.3->pandas>=0.24->yfinance) (1.15.0)\n",
            "Requirement already satisfied: urllib3!=1.25.0,!=1.25.1,<1.26,>=1.21.1 in /usr/local/lib/python3.7/dist-packages (from requests>=2.20->yfinance) (1.24.3)\n",
            "Requirement already satisfied: chardet<4,>=3.0.2 in /usr/local/lib/python3.7/dist-packages (from requests>=2.20->yfinance) (3.0.4)\n",
            "Requirement already satisfied: certifi>=2017.4.17 in /usr/local/lib/python3.7/dist-packages (from requests>=2.20->yfinance) (2021.5.30)\n",
            "Requirement already satisfied: idna<3,>=2.5 in /usr/local/lib/python3.7/dist-packages (from requests>=2.20->yfinance) (2.10)\n",
            "Building wheels for collected packages: yfinance\n",
            "  Building wheel for yfinance (setup.py) ... \u001b[?25l\u001b[?25hdone\n",
            "  Created wheel for yfinance: filename=yfinance-0.1.64-py2.py3-none-any.whl size=24109 sha256=eacd01db68ad1c10fb40d304cc01b759816e8d63da7e783b735f753245f49469\n",
            "  Stored in directory: /tmp/pip-ephem-wheel-cache-w9ucmnjo/wheels/86/fe/9b/a4d3d78796b699e37065e5b6c27b75cff448ddb8b24943c288\n",
            "Successfully built yfinance\n",
            "Installing collected packages: lxml, yfinance\n",
            "  Attempting uninstall: lxml\n",
            "    Found existing installation: lxml 4.2.6\n",
            "    Uninstalling lxml-4.2.6:\n",
            "      Successfully uninstalled lxml-4.2.6\n",
            "Successfully installed lxml-4.6.3 yfinance-0.1.64\n"
          ]
        }
      ]
    },
    {
      "cell_type": "code",
      "metadata": {
        "id": "2_vXVQfUJZEw"
      },
      "source": [
        "nifty10= ['HDFCBANK.NS' ,'RELIANCE.NS' ,'HDFC.NS' ,'INFY.NS' ,'ICICIBANK.NS' ,'TCS.NS' ,'ITC.NS' ,'KOTAKBANK.NS' ,'LT.NS' , 'AXISBANK.NS']"
      ],
      "execution_count": 4,
      "outputs": []
    },
    {
      "cell_type": "code",
      "metadata": {
        "id": "lh5E4jtiarg2"
      },
      "source": [
        "nifty20=['NESTLEIND.NS','MARUTI.NS','GAIL.NS','TATASTEEL.NS','TITAN.NS','BHARTIARTL.NS','BAJAJFINSV.NS','NTPC.NS','BRITANNIA.NS','COALINDIA.NS','HINDALCO.NS','INDUSINDBK.NS','ONGC.NS','ULTRACEMCO.NS','HEROMOTOCO.NS','TECHM.NS','BAJFINANCE.NS','ZEEL.NS','WIPRO.NS','BAJAJ-AUTO.NS','SHREECEM.NS','CIPLA.NS','GRASIM.NS','M&M.NS','SBIN.NS']"
      ],
      "execution_count": 5,
      "outputs": []
    },
    {
      "cell_type": "code",
      "metadata": {
        "id": "RxWcvwaxH-Ha"
      },
      "source": [
        "nifty100='ongc.ns,indigo.ns,tcs.ns,\\\n",
        "tatamotors.ns,hdfcbank.ns,ofss.ns,\\\n",
        "wipro.ns,infy.ns,hindzinc.ns,\\\n",
        "nestleind.ns,adaniports.ns,\\\n",
        "marico.ns,pghh.ns,\\\n",
        "techm.ns,BAJAJ-AUTO.NS,\\\n",
        "HINDUNILVR.NS,HCLTECH.NS,\\\n",
        "HEROMOTOCO.NS,\\\n",
        "RELIANCE.NS,\\\n",
        "BPCL.NS,BRITANNIA.NS,\\\n",
        "POWERGRID.NS,\\\n",
        "TORNTPHARM.NS,\\\n",
        "COLPAL.NS,\\\n",
        "BHARTIARTL.NS,ICICIGI.NS,ITC.NS,IOC.NS,\\\n",
        "AXISBANK.NS,DRREDDY.NS,HDFCLIFE.NS,\\\n",
        "TATASTEEL.NS,UPL.NS,ABBOTINDIA.NS,\\\n",
        "HDFC.NS,SBILIFE.NS,DMART.NS,\\\n",
        "GODREJCP.NS,\\\n",
        "UBL.NS,\\\n",
        "ASIANPAINT.NS,\\\n",
        "DABUR.NS,\\\n",
        "PIDILITIND.NS,\\\n",
        "TITAN.NS,\\\n",
        "COALINDIA.NS,\\\n",
        "GAIL.NS,\\\n",
        "PETRONET.NS,HDFCAMC.NS,HAVELLS.NS,\\\n",
        "ICICIBANK.NS,MARUTI.NS,BAJAJHLDNG.NS,NAUKRI.NS,\\\n",
        "HINDPETRO.NS,LT.NS,GRASIM.NS,\\\n",
        "CONCOR.NS,JSWSTEEL.NS,M&M.NS,\\\n",
        "ULTRACEMCO.NS,BIOCON.NS,IGL.NS,PFC.NS,\\\n",
        "HINDALCO.NS,CADILAHC.NS,KOTAKBANK.NS,\\\n",
        "BANDHANBNK.NS,NHPC.NS,\\\n",
        "DIVISLAB.NS,\\\n",
        "CIPLA.NS,\\\n",
        "BERGEPAINT.NS,\\\n",
        "ZEEL.NS,\\\n",
        "SHREECEM.NS,\\\n",
        "BAJFINANCE.NS,\\\n",
        "LUPIN.NS,\\\n",
        "SIEMENS.NS,BANKBARODA.NS,\\\n",
        "NTPC.NS,GICRE.NS,MUTHOOTFIN.NS,ACC.NS,INDUSINDBK.NS,\\\n",
        "AMBUJACEM.NS,BAJAJFINSV.NS,PNB.NS,EICHERMOT.NS,PAGEIND.NS,\\\n",
        "SBIN.NS,MOTHERSUMI.NS,ICICIPRULI.NS,SUNPHARMA.NS,MCDOWELL-N.NS,\\\n",
        "AUROPHARMA.NS,\\\n",
        "ADANITRANS.NS,BOSCHLTD.NS,\\\n",
        "DLF.NS,SRTRANSFIN.NS,PEL.NS,NMDC.NS'\n",
        "nifty100 = nifty100.split(',')\n",
        "# ,infratel.ns"
      ],
      "execution_count": 6,
      "outputs": []
    },
    {
      "cell_type": "code",
      "metadata": {
        "id": "DnWySwg4JZGt"
      },
      "source": [
        "START = \"2016-01-01\"  #yyyy-mm-dd\n",
        "END= '2019-05-01'\n",
        "START_testdate='2019-08-01'\n",
        "lst= []"
      ],
      "execution_count": 7,
      "outputs": []
    },
    {
      "cell_type": "code",
      "metadata": {
        "id": "YqYNpHCZdPKU",
        "colab": {
          "base_uri": "https://localhost:8080/"
        },
        "outputId": "5072f7a4-2584-4d5d-8d57-6b7ddf9b61f2"
      },
      "source": [
        "nifty= yf.download('^NSEI', start=START,end=END)"
      ],
      "execution_count": 8,
      "outputs": [
        {
          "output_type": "stream",
          "name": "stdout",
          "text": [
            "\r[*********************100%***********************]  1 of 1 completed\n"
          ]
        }
      ]
    },
    {
      "cell_type": "code",
      "metadata": {
        "id": "WYfbjNSdcxb4"
      },
      "source": [
        "#set.intersection(set(nifty20),set(nifty10))"
      ],
      "execution_count": 9,
      "outputs": []
    },
    {
      "cell_type": "code",
      "metadata": {
        "colab": {
          "base_uri": "https://localhost:8080/"
        },
        "id": "ZuUG5r97IHyd",
        "outputId": "db39c06e-0344-4927-d420-fcb725b688dc"
      },
      "source": [
        "for i in range(len(nifty100)):\n",
        "  dfi = yf.download(nifty100[i], start=START,end=END)\n",
        "  dfi = dfi.dropna()\n",
        "  dfi = dfi.iloc[:,:4]\n",
        "  lst.append(dfi)\n",
        "\n",
        "#df1.head(3)\n",
        "print('\\n All Completed \\n')"
      ],
      "execution_count": 10,
      "outputs": [
        {
          "output_type": "stream",
          "name": "stdout",
          "text": [
            "[*********************100%***********************]  1 of 1 completed\n",
            "[*********************100%***********************]  1 of 1 completed\n",
            "[*********************100%***********************]  1 of 1 completed\n",
            "[*********************100%***********************]  1 of 1 completed\n",
            "[*********************100%***********************]  1 of 1 completed\n",
            "[*********************100%***********************]  1 of 1 completed\n",
            "[*********************100%***********************]  1 of 1 completed\n",
            "[*********************100%***********************]  1 of 1 completed\n",
            "[*********************100%***********************]  1 of 1 completed\n",
            "[*********************100%***********************]  1 of 1 completed\n",
            "[*********************100%***********************]  1 of 1 completed\n",
            "[*********************100%***********************]  1 of 1 completed\n",
            "[*********************100%***********************]  1 of 1 completed\n",
            "[*********************100%***********************]  1 of 1 completed\n",
            "[*********************100%***********************]  1 of 1 completed\n",
            "[*********************100%***********************]  1 of 1 completed\n",
            "[*********************100%***********************]  1 of 1 completed\n",
            "[*********************100%***********************]  1 of 1 completed\n",
            "[*********************100%***********************]  1 of 1 completed\n",
            "[*********************100%***********************]  1 of 1 completed\n",
            "[*********************100%***********************]  1 of 1 completed\n",
            "[*********************100%***********************]  1 of 1 completed\n",
            "[*********************100%***********************]  1 of 1 completed\n",
            "[*********************100%***********************]  1 of 1 completed\n",
            "[*********************100%***********************]  1 of 1 completed\n",
            "[*********************100%***********************]  1 of 1 completed\n",
            "[*********************100%***********************]  1 of 1 completed\n",
            "[*********************100%***********************]  1 of 1 completed\n",
            "[*********************100%***********************]  1 of 1 completed\n",
            "[*********************100%***********************]  1 of 1 completed\n",
            "[*********************100%***********************]  1 of 1 completed\n",
            "[*********************100%***********************]  1 of 1 completed\n",
            "[*********************100%***********************]  1 of 1 completed\n",
            "[*********************100%***********************]  1 of 1 completed\n",
            "[*********************100%***********************]  1 of 1 completed\n",
            "[*********************100%***********************]  1 of 1 completed\n",
            "[*********************100%***********************]  1 of 1 completed\n",
            "[*********************100%***********************]  1 of 1 completed\n",
            "[*********************100%***********************]  1 of 1 completed\n",
            "[*********************100%***********************]  1 of 1 completed\n",
            "[*********************100%***********************]  1 of 1 completed\n",
            "[*********************100%***********************]  1 of 1 completed\n",
            "[*********************100%***********************]  1 of 1 completed\n",
            "[*********************100%***********************]  1 of 1 completed\n",
            "[*********************100%***********************]  1 of 1 completed\n",
            "[*********************100%***********************]  1 of 1 completed\n",
            "[*********************100%***********************]  1 of 1 completed\n",
            "[*********************100%***********************]  1 of 1 completed\n",
            "[*********************100%***********************]  1 of 1 completed\n",
            "[*********************100%***********************]  1 of 1 completed\n",
            "[*********************100%***********************]  1 of 1 completed\n",
            "[*********************100%***********************]  1 of 1 completed\n",
            "[*********************100%***********************]  1 of 1 completed\n",
            "[*********************100%***********************]  1 of 1 completed\n",
            "[*********************100%***********************]  1 of 1 completed\n",
            "[*********************100%***********************]  1 of 1 completed\n",
            "[*********************100%***********************]  1 of 1 completed\n",
            "[*********************100%***********************]  1 of 1 completed\n",
            "[*********************100%***********************]  1 of 1 completed\n",
            "[*********************100%***********************]  1 of 1 completed\n",
            "[*********************100%***********************]  1 of 1 completed\n",
            "[*********************100%***********************]  1 of 1 completed\n",
            "[*********************100%***********************]  1 of 1 completed\n",
            "[*********************100%***********************]  1 of 1 completed\n",
            "[*********************100%***********************]  1 of 1 completed\n",
            "[*********************100%***********************]  1 of 1 completed\n",
            "[*********************100%***********************]  1 of 1 completed\n",
            "[*********************100%***********************]  1 of 1 completed\n",
            "[*********************100%***********************]  1 of 1 completed\n",
            "[*********************100%***********************]  1 of 1 completed\n",
            "[*********************100%***********************]  1 of 1 completed\n",
            "[*********************100%***********************]  1 of 1 completed\n",
            "[*********************100%***********************]  1 of 1 completed\n",
            "[*********************100%***********************]  1 of 1 completed\n",
            "[*********************100%***********************]  1 of 1 completed\n",
            "[*********************100%***********************]  1 of 1 completed\n",
            "[*********************100%***********************]  1 of 1 completed\n",
            "[*********************100%***********************]  1 of 1 completed\n",
            "[*********************100%***********************]  1 of 1 completed\n",
            "[*********************100%***********************]  1 of 1 completed\n",
            "[*********************100%***********************]  1 of 1 completed\n",
            "[*********************100%***********************]  1 of 1 completed\n",
            "[*********************100%***********************]  1 of 1 completed\n",
            "[*********************100%***********************]  1 of 1 completed\n",
            "[*********************100%***********************]  1 of 1 completed\n",
            "[*********************100%***********************]  1 of 1 completed\n",
            "[*********************100%***********************]  1 of 1 completed\n",
            "[*********************100%***********************]  1 of 1 completed\n",
            "[*********************100%***********************]  1 of 1 completed\n",
            "[*********************100%***********************]  1 of 1 completed\n",
            "[*********************100%***********************]  1 of 1 completed\n",
            "[*********************100%***********************]  1 of 1 completed\n",
            "[*********************100%***********************]  1 of 1 completed\n",
            "[*********************100%***********************]  1 of 1 completed\n",
            "[*********************100%***********************]  1 of 1 completed\n",
            "[*********************100%***********************]  1 of 1 completed\n",
            "[*********************100%***********************]  1 of 1 completed\n",
            "[*********************100%***********************]  1 of 1 completed\n",
            "\n",
            " All Completed \n",
            "\n"
          ]
        }
      ]
    },
    {
      "cell_type": "code",
      "metadata": {
        "id": "0ArVE_S2NjVW"
      },
      "source": [
        "nlst=[]\n",
        "for i in range(len(nifty100)):\n",
        "  nlst.append(lst[i].Close)"
      ],
      "execution_count": 11,
      "outputs": []
    },
    {
      "cell_type": "code",
      "metadata": {
        "id": "EIXCK0wdNlYR"
      },
      "source": [
        "df = pd.DataFrame(nlst).T"
      ],
      "execution_count": 12,
      "outputs": []
    },
    {
      "cell_type": "code",
      "metadata": {
        "id": "rMfN5JoDNn7d"
      },
      "source": [
        "namelist =[]\n",
        "for i in range(1 , len(nifty100)+1):\n",
        "  namelist.append('Close'+str(i))"
      ],
      "execution_count": 13,
      "outputs": []
    },
    {
      "cell_type": "code",
      "metadata": {
        "id": "Pb3hDizaNn5T"
      },
      "source": [
        "df.columns=namelist\n"
      ],
      "execution_count": 14,
      "outputs": []
    },
    {
      "cell_type": "code",
      "metadata": {
        "id": "Gv42vFGDNn2j"
      },
      "source": [
        "data_copy=df.copy()\n"
      ],
      "execution_count": 15,
      "outputs": []
    },
    {
      "cell_type": "code",
      "metadata": {
        "id": "sTIAGlDTIOkp"
      },
      "source": [
        "namelist =[]\n",
        "for i in range(1 , len(nifty100)+1):\n",
        "  namelist.append('Close'+str(i))"
      ],
      "execution_count": 16,
      "outputs": []
    },
    {
      "cell_type": "code",
      "metadata": {
        "id": "M39sw-8YIStK"
      },
      "source": [
        "df.columns=namelist"
      ],
      "execution_count": 17,
      "outputs": []
    },
    {
      "cell_type": "code",
      "metadata": {
        "id": "5QDlMdhHDKg9"
      },
      "source": [
        "data_copy=df.copy()"
      ],
      "execution_count": 18,
      "outputs": []
    },
    {
      "cell_type": "code",
      "metadata": {
        "id": "tjPVAXpwLHxi",
        "colab": {
          "base_uri": "https://localhost:8080/",
          "height": 371
        },
        "outputId": "5d22597f-b878-475c-fc7a-21d0c951266b"
      },
      "source": [
        "df.head()"
      ],
      "execution_count": 19,
      "outputs": [
        {
          "output_type": "execute_result",
          "data": {
            "text/html": [
              "<div>\n",
              "<style scoped>\n",
              "    .dataframe tbody tr th:only-of-type {\n",
              "        vertical-align: middle;\n",
              "    }\n",
              "\n",
              "    .dataframe tbody tr th {\n",
              "        vertical-align: top;\n",
              "    }\n",
              "\n",
              "    .dataframe thead th {\n",
              "        text-align: right;\n",
              "    }\n",
              "</style>\n",
              "<table border=\"1\" class=\"dataframe\">\n",
              "  <thead>\n",
              "    <tr style=\"text-align: right;\">\n",
              "      <th></th>\n",
              "      <th>Close1</th>\n",
              "      <th>Close2</th>\n",
              "      <th>Close3</th>\n",
              "      <th>Close4</th>\n",
              "      <th>Close5</th>\n",
              "      <th>Close6</th>\n",
              "      <th>Close7</th>\n",
              "      <th>Close8</th>\n",
              "      <th>Close9</th>\n",
              "      <th>Close10</th>\n",
              "      <th>Close11</th>\n",
              "      <th>Close12</th>\n",
              "      <th>Close13</th>\n",
              "      <th>Close14</th>\n",
              "      <th>Close15</th>\n",
              "      <th>Close16</th>\n",
              "      <th>Close17</th>\n",
              "      <th>Close18</th>\n",
              "      <th>Close19</th>\n",
              "      <th>Close20</th>\n",
              "      <th>Close21</th>\n",
              "      <th>Close22</th>\n",
              "      <th>Close23</th>\n",
              "      <th>Close24</th>\n",
              "      <th>Close25</th>\n",
              "      <th>Close26</th>\n",
              "      <th>Close27</th>\n",
              "      <th>Close28</th>\n",
              "      <th>Close29</th>\n",
              "      <th>Close30</th>\n",
              "      <th>Close31</th>\n",
              "      <th>Close32</th>\n",
              "      <th>Close33</th>\n",
              "      <th>Close34</th>\n",
              "      <th>Close35</th>\n",
              "      <th>Close36</th>\n",
              "      <th>Close37</th>\n",
              "      <th>Close38</th>\n",
              "      <th>Close39</th>\n",
              "      <th>Close40</th>\n",
              "      <th>...</th>\n",
              "      <th>Close59</th>\n",
              "      <th>Close60</th>\n",
              "      <th>Close61</th>\n",
              "      <th>Close62</th>\n",
              "      <th>Close63</th>\n",
              "      <th>Close64</th>\n",
              "      <th>Close65</th>\n",
              "      <th>Close66</th>\n",
              "      <th>Close67</th>\n",
              "      <th>Close68</th>\n",
              "      <th>Close69</th>\n",
              "      <th>Close70</th>\n",
              "      <th>Close71</th>\n",
              "      <th>Close72</th>\n",
              "      <th>Close73</th>\n",
              "      <th>Close74</th>\n",
              "      <th>Close75</th>\n",
              "      <th>Close76</th>\n",
              "      <th>Close77</th>\n",
              "      <th>Close78</th>\n",
              "      <th>Close79</th>\n",
              "      <th>Close80</th>\n",
              "      <th>Close81</th>\n",
              "      <th>Close82</th>\n",
              "      <th>Close83</th>\n",
              "      <th>Close84</th>\n",
              "      <th>Close85</th>\n",
              "      <th>Close86</th>\n",
              "      <th>Close87</th>\n",
              "      <th>Close88</th>\n",
              "      <th>Close89</th>\n",
              "      <th>Close90</th>\n",
              "      <th>Close91</th>\n",
              "      <th>Close92</th>\n",
              "      <th>Close93</th>\n",
              "      <th>Close94</th>\n",
              "      <th>Close95</th>\n",
              "      <th>Close96</th>\n",
              "      <th>Close97</th>\n",
              "      <th>Close98</th>\n",
              "    </tr>\n",
              "    <tr>\n",
              "      <th>Date</th>\n",
              "      <th></th>\n",
              "      <th></th>\n",
              "      <th></th>\n",
              "      <th></th>\n",
              "      <th></th>\n",
              "      <th></th>\n",
              "      <th></th>\n",
              "      <th></th>\n",
              "      <th></th>\n",
              "      <th></th>\n",
              "      <th></th>\n",
              "      <th></th>\n",
              "      <th></th>\n",
              "      <th></th>\n",
              "      <th></th>\n",
              "      <th></th>\n",
              "      <th></th>\n",
              "      <th></th>\n",
              "      <th></th>\n",
              "      <th></th>\n",
              "      <th></th>\n",
              "      <th></th>\n",
              "      <th></th>\n",
              "      <th></th>\n",
              "      <th></th>\n",
              "      <th></th>\n",
              "      <th></th>\n",
              "      <th></th>\n",
              "      <th></th>\n",
              "      <th></th>\n",
              "      <th></th>\n",
              "      <th></th>\n",
              "      <th></th>\n",
              "      <th></th>\n",
              "      <th></th>\n",
              "      <th></th>\n",
              "      <th></th>\n",
              "      <th></th>\n",
              "      <th></th>\n",
              "      <th></th>\n",
              "      <th></th>\n",
              "      <th></th>\n",
              "      <th></th>\n",
              "      <th></th>\n",
              "      <th></th>\n",
              "      <th></th>\n",
              "      <th></th>\n",
              "      <th></th>\n",
              "      <th></th>\n",
              "      <th></th>\n",
              "      <th></th>\n",
              "      <th></th>\n",
              "      <th></th>\n",
              "      <th></th>\n",
              "      <th></th>\n",
              "      <th></th>\n",
              "      <th></th>\n",
              "      <th></th>\n",
              "      <th></th>\n",
              "      <th></th>\n",
              "      <th></th>\n",
              "      <th></th>\n",
              "      <th></th>\n",
              "      <th></th>\n",
              "      <th></th>\n",
              "      <th></th>\n",
              "      <th></th>\n",
              "      <th></th>\n",
              "      <th></th>\n",
              "      <th></th>\n",
              "      <th></th>\n",
              "      <th></th>\n",
              "      <th></th>\n",
              "      <th></th>\n",
              "      <th></th>\n",
              "      <th></th>\n",
              "      <th></th>\n",
              "      <th></th>\n",
              "      <th></th>\n",
              "      <th></th>\n",
              "      <th></th>\n",
              "    </tr>\n",
              "  </thead>\n",
              "  <tbody>\n",
              "    <tr>\n",
              "      <th>2016-01-01</th>\n",
              "      <td>161.666672</td>\n",
              "      <td>1343.449951</td>\n",
              "      <td>1208.199951</td>\n",
              "      <td>401.899994</td>\n",
              "      <td>544.375000</td>\n",
              "      <td>3801.750000</td>\n",
              "      <td>208.668808</td>\n",
              "      <td>552.625000</td>\n",
              "      <td>149.149994</td>\n",
              "      <td>5785.149902</td>\n",
              "      <td>267.549988</td>\n",
              "      <td>227.149994</td>\n",
              "      <td>5603.250000</td>\n",
              "      <td>520.049988</td>\n",
              "      <td>2518.000000</td>\n",
              "      <td>856.549988</td>\n",
              "      <td>422.924988</td>\n",
              "      <td>2686.050049</td>\n",
              "      <td>502.907928</td>\n",
              "      <td>298.683319</td>\n",
              "      <td>1493.199951</td>\n",
              "      <td>105.750023</td>\n",
              "      <td>1478.900024</td>\n",
              "      <td>976.750000</td>\n",
              "      <td>312.639740</td>\n",
              "      <td>NaN</td>\n",
              "      <td>218.333328</td>\n",
              "      <td>108.312500</td>\n",
              "      <td>449.899994</td>\n",
              "      <td>3108.600098</td>\n",
              "      <td>NaN</td>\n",
              "      <td>245.234406</td>\n",
              "      <td>293.566681</td>\n",
              "      <td>5895.950195</td>\n",
              "      <td>1258.449951</td>\n",
              "      <td>NaN</td>\n",
              "      <td>NaN</td>\n",
              "      <td>447.350006</td>\n",
              "      <td>943.700012</td>\n",
              "      <td>878.750000</td>\n",
              "      <td>...</td>\n",
              "      <td>2824.000000</td>\n",
              "      <td>86.866669</td>\n",
              "      <td>105.389999</td>\n",
              "      <td>101.250000</td>\n",
              "      <td>84.900002</td>\n",
              "      <td>332.700012</td>\n",
              "      <td>727.250000</td>\n",
              "      <td>NaN</td>\n",
              "      <td>21.200001</td>\n",
              "      <td>1162.500000</td>\n",
              "      <td>655.349976</td>\n",
              "      <td>186.571426</td>\n",
              "      <td>432.899994</td>\n",
              "      <td>11383.549805</td>\n",
              "      <td>609.585022</td>\n",
              "      <td>1845.250000</td>\n",
              "      <td>1202.650024</td>\n",
              "      <td>159.050003</td>\n",
              "      <td>120.416664</td>\n",
              "      <td>NaN</td>\n",
              "      <td>178.750000</td>\n",
              "      <td>1373.650024</td>\n",
              "      <td>963.849976</td>\n",
              "      <td>205.649994</td>\n",
              "      <td>1983.800049</td>\n",
              "      <td>117.599998</td>\n",
              "      <td>1737.084961</td>\n",
              "      <td>13510.349609</td>\n",
              "      <td>227.800003</td>\n",
              "      <td>132.000000</td>\n",
              "      <td>NaN</td>\n",
              "      <td>815.549988</td>\n",
              "      <td>602.099976</td>\n",
              "      <td>881.400024</td>\n",
              "      <td>41.049999</td>\n",
              "      <td>19199.099609</td>\n",
              "      <td>121.550003</td>\n",
              "      <td>865.700012</td>\n",
              "      <td>980.159790</td>\n",
              "      <td>91.250000</td>\n",
              "    </tr>\n",
              "    <tr>\n",
              "      <th>2016-01-04</th>\n",
              "      <td>158.699997</td>\n",
              "      <td>1262.099976</td>\n",
              "      <td>1184.800049</td>\n",
              "      <td>377.049988</td>\n",
              "      <td>535.250000</td>\n",
              "      <td>3746.399902</td>\n",
              "      <td>209.137558</td>\n",
              "      <td>539.450012</td>\n",
              "      <td>145.050003</td>\n",
              "      <td>5669.799805</td>\n",
              "      <td>257.950012</td>\n",
              "      <td>225.300003</td>\n",
              "      <td>5600.000000</td>\n",
              "      <td>516.400024</td>\n",
              "      <td>2483.350098</td>\n",
              "      <td>859.000000</td>\n",
              "      <td>422.975006</td>\n",
              "      <td>2637.800049</td>\n",
              "      <td>492.977081</td>\n",
              "      <td>297.149994</td>\n",
              "      <td>1486.300049</td>\n",
              "      <td>105.712524</td>\n",
              "      <td>1448.349976</td>\n",
              "      <td>974.299988</td>\n",
              "      <td>300.060699</td>\n",
              "      <td>NaN</td>\n",
              "      <td>216.733337</td>\n",
              "      <td>106.612503</td>\n",
              "      <td>438.399994</td>\n",
              "      <td>3056.000000</td>\n",
              "      <td>NaN</td>\n",
              "      <td>244.758041</td>\n",
              "      <td>289.233337</td>\n",
              "      <td>5930.899902</td>\n",
              "      <td>1216.699951</td>\n",
              "      <td>NaN</td>\n",
              "      <td>NaN</td>\n",
              "      <td>443.250000</td>\n",
              "      <td>939.950012</td>\n",
              "      <td>880.799988</td>\n",
              "      <td>...</td>\n",
              "      <td>2749.149902</td>\n",
              "      <td>89.033333</td>\n",
              "      <td>103.849998</td>\n",
              "      <td>98.175003</td>\n",
              "      <td>80.750000</td>\n",
              "      <td>320.799988</td>\n",
              "      <td>705.299988</td>\n",
              "      <td>NaN</td>\n",
              "      <td>21.500000</td>\n",
              "      <td>1149.699951</td>\n",
              "      <td>645.650024</td>\n",
              "      <td>188.178574</td>\n",
              "      <td>421.950012</td>\n",
              "      <td>11059.299805</td>\n",
              "      <td>605.244995</td>\n",
              "      <td>1795.150024</td>\n",
              "      <td>1190.250000</td>\n",
              "      <td>151.199997</td>\n",
              "      <td>119.416664</td>\n",
              "      <td>NaN</td>\n",
              "      <td>178.350006</td>\n",
              "      <td>1344.000000</td>\n",
              "      <td>934.200012</td>\n",
              "      <td>202.149994</td>\n",
              "      <td>1959.500000</td>\n",
              "      <td>112.800003</td>\n",
              "      <td>1749.530029</td>\n",
              "      <td>13558.049805</td>\n",
              "      <td>220.699997</td>\n",
              "      <td>127.088890</td>\n",
              "      <td>NaN</td>\n",
              "      <td>799.099976</td>\n",
              "      <td>595.489990</td>\n",
              "      <td>844.299988</td>\n",
              "      <td>38.650002</td>\n",
              "      <td>18815.650391</td>\n",
              "      <td>118.400002</td>\n",
              "      <td>840.900024</td>\n",
              "      <td>959.974304</td>\n",
              "      <td>89.949997</td>\n",
              "    </tr>\n",
              "    <tr>\n",
              "      <th>2016-01-05</th>\n",
              "      <td>161.233337</td>\n",
              "      <td>1252.949951</td>\n",
              "      <td>1174.474976</td>\n",
              "      <td>374.450012</td>\n",
              "      <td>531.200012</td>\n",
              "      <td>3739.449951</td>\n",
              "      <td>208.837555</td>\n",
              "      <td>537.025024</td>\n",
              "      <td>151.250000</td>\n",
              "      <td>5662.399902</td>\n",
              "      <td>255.699997</td>\n",
              "      <td>229.649994</td>\n",
              "      <td>5523.649902</td>\n",
              "      <td>521.900024</td>\n",
              "      <td>2502.350098</td>\n",
              "      <td>847.950012</td>\n",
              "      <td>421.399994</td>\n",
              "      <td>2616.850098</td>\n",
              "      <td>497.855835</td>\n",
              "      <td>300.883331</td>\n",
              "      <td>1483.349976</td>\n",
              "      <td>104.362526</td>\n",
              "      <td>1435.949951</td>\n",
              "      <td>974.250000</td>\n",
              "      <td>296.984802</td>\n",
              "      <td>NaN</td>\n",
              "      <td>216.566666</td>\n",
              "      <td>110.662498</td>\n",
              "      <td>436.450012</td>\n",
              "      <td>3070.649902</td>\n",
              "      <td>NaN</td>\n",
              "      <td>261.335663</td>\n",
              "      <td>290.200012</td>\n",
              "      <td>5878.100098</td>\n",
              "      <td>1209.400024</td>\n",
              "      <td>NaN</td>\n",
              "      <td>NaN</td>\n",
              "      <td>438.633331</td>\n",
              "      <td>950.099976</td>\n",
              "      <td>900.650024</td>\n",
              "      <td>...</td>\n",
              "      <td>2733.050049</td>\n",
              "      <td>89.025002</td>\n",
              "      <td>111.290001</td>\n",
              "      <td>100.849998</td>\n",
              "      <td>82.599998</td>\n",
              "      <td>313.600006</td>\n",
              "      <td>707.750000</td>\n",
              "      <td>NaN</td>\n",
              "      <td>22.000000</td>\n",
              "      <td>1147.500000</td>\n",
              "      <td>640.849976</td>\n",
              "      <td>183.892853</td>\n",
              "      <td>425.049988</td>\n",
              "      <td>11124.299805</td>\n",
              "      <td>599.784973</td>\n",
              "      <td>1783.050049</td>\n",
              "      <td>1195.800049</td>\n",
              "      <td>148.100006</td>\n",
              "      <td>118.541664</td>\n",
              "      <td>NaN</td>\n",
              "      <td>177.449997</td>\n",
              "      <td>1341.300049</td>\n",
              "      <td>935.250000</td>\n",
              "      <td>204.000000</td>\n",
              "      <td>1946.000000</td>\n",
              "      <td>110.599998</td>\n",
              "      <td>1715.989990</td>\n",
              "      <td>13828.549805</td>\n",
              "      <td>217.750000</td>\n",
              "      <td>128.688889</td>\n",
              "      <td>NaN</td>\n",
              "      <td>800.500000</td>\n",
              "      <td>589.000000</td>\n",
              "      <td>863.500000</td>\n",
              "      <td>38.799999</td>\n",
              "      <td>18632.699219</td>\n",
              "      <td>118.400002</td>\n",
              "      <td>864.900024</td>\n",
              "      <td>956.626221</td>\n",
              "      <td>93.250000</td>\n",
              "    </tr>\n",
              "    <tr>\n",
              "      <th>2016-01-06</th>\n",
              "      <td>158.366669</td>\n",
              "      <td>1235.400024</td>\n",
              "      <td>1190.800049</td>\n",
              "      <td>365.899994</td>\n",
              "      <td>533.549988</td>\n",
              "      <td>3737.250000</td>\n",
              "      <td>208.162552</td>\n",
              "      <td>534.674988</td>\n",
              "      <td>145.699997</td>\n",
              "      <td>5719.500000</td>\n",
              "      <td>251.800003</td>\n",
              "      <td>226.850006</td>\n",
              "      <td>5640.149902</td>\n",
              "      <td>525.099976</td>\n",
              "      <td>2485.500000</td>\n",
              "      <td>843.049988</td>\n",
              "      <td>420.700012</td>\n",
              "      <td>2578.199951</td>\n",
              "      <td>511.253815</td>\n",
              "      <td>304.100006</td>\n",
              "      <td>1500.849976</td>\n",
              "      <td>104.625023</td>\n",
              "      <td>1442.849976</td>\n",
              "      <td>949.450012</td>\n",
              "      <td>295.837067</td>\n",
              "      <td>NaN</td>\n",
              "      <td>210.066666</td>\n",
              "      <td>112.712502</td>\n",
              "      <td>430.700012</td>\n",
              "      <td>3046.250000</td>\n",
              "      <td>NaN</td>\n",
              "      <td>256.047974</td>\n",
              "      <td>295.566681</td>\n",
              "      <td>5783.600098</td>\n",
              "      <td>1209.300049</td>\n",
              "      <td>NaN</td>\n",
              "      <td>NaN</td>\n",
              "      <td>435.383331</td>\n",
              "      <td>941.849976</td>\n",
              "      <td>886.400024</td>\n",
              "      <td>...</td>\n",
              "      <td>2735.300049</td>\n",
              "      <td>87.291664</td>\n",
              "      <td>113.540001</td>\n",
              "      <td>100.349998</td>\n",
              "      <td>80.550003</td>\n",
              "      <td>320.750000</td>\n",
              "      <td>703.599976</td>\n",
              "      <td>NaN</td>\n",
              "      <td>21.850000</td>\n",
              "      <td>1137.199951</td>\n",
              "      <td>652.099976</td>\n",
              "      <td>181.178574</td>\n",
              "      <td>423.149994</td>\n",
              "      <td>11452.349609</td>\n",
              "      <td>610.724976</td>\n",
              "      <td>1753.199951</td>\n",
              "      <td>1205.300049</td>\n",
              "      <td>148.699997</td>\n",
              "      <td>117.875000</td>\n",
              "      <td>NaN</td>\n",
              "      <td>177.199997</td>\n",
              "      <td>1320.349976</td>\n",
              "      <td>943.950012</td>\n",
              "      <td>203.050003</td>\n",
              "      <td>1938.550049</td>\n",
              "      <td>109.599998</td>\n",
              "      <td>1752.505005</td>\n",
              "      <td>13670.150391</td>\n",
              "      <td>216.850006</td>\n",
              "      <td>124.933334</td>\n",
              "      <td>NaN</td>\n",
              "      <td>791.950012</td>\n",
              "      <td>579.729980</td>\n",
              "      <td>867.200012</td>\n",
              "      <td>38.349998</td>\n",
              "      <td>18721.750000</td>\n",
              "      <td>114.750000</td>\n",
              "      <td>872.599976</td>\n",
              "      <td>961.624084</td>\n",
              "      <td>90.599998</td>\n",
              "    </tr>\n",
              "    <tr>\n",
              "      <th>2016-01-07</th>\n",
              "      <td>151.066666</td>\n",
              "      <td>1250.550049</td>\n",
              "      <td>1185.625000</td>\n",
              "      <td>343.549988</td>\n",
              "      <td>528.099976</td>\n",
              "      <td>3687.149902</td>\n",
              "      <td>206.193802</td>\n",
              "      <td>525.400024</td>\n",
              "      <td>139.100006</td>\n",
              "      <td>5638.950195</td>\n",
              "      <td>245.000000</td>\n",
              "      <td>223.699997</td>\n",
              "      <td>5613.200195</td>\n",
              "      <td>510.799988</td>\n",
              "      <td>2419.250000</td>\n",
              "      <td>820.250000</td>\n",
              "      <td>412.524994</td>\n",
              "      <td>2520.100098</td>\n",
              "      <td>501.867798</td>\n",
              "      <td>294.750000</td>\n",
              "      <td>1473.275024</td>\n",
              "      <td>103.575027</td>\n",
              "      <td>1425.000000</td>\n",
              "      <td>915.549988</td>\n",
              "      <td>295.974792</td>\n",
              "      <td>NaN</td>\n",
              "      <td>206.399994</td>\n",
              "      <td>110.387497</td>\n",
              "      <td>409.250000</td>\n",
              "      <td>2991.800049</td>\n",
              "      <td>NaN</td>\n",
              "      <td>238.088882</td>\n",
              "      <td>278.266663</td>\n",
              "      <td>5656.149902</td>\n",
              "      <td>1179.449951</td>\n",
              "      <td>NaN</td>\n",
              "      <td>NaN</td>\n",
              "      <td>420.299988</td>\n",
              "      <td>924.750000</td>\n",
              "      <td>872.349976</td>\n",
              "      <td>...</td>\n",
              "      <td>2667.699951</td>\n",
              "      <td>85.216667</td>\n",
              "      <td>112.050003</td>\n",
              "      <td>94.199997</td>\n",
              "      <td>76.650002</td>\n",
              "      <td>306.850006</td>\n",
              "      <td>691.650024</td>\n",
              "      <td>NaN</td>\n",
              "      <td>20.600000</td>\n",
              "      <td>1126.949951</td>\n",
              "      <td>637.450012</td>\n",
              "      <td>180.750000</td>\n",
              "      <td>415.399994</td>\n",
              "      <td>10978.950195</td>\n",
              "      <td>610.630005</td>\n",
              "      <td>1717.500000</td>\n",
              "      <td>1132.050049</td>\n",
              "      <td>139.500000</td>\n",
              "      <td>114.875000</td>\n",
              "      <td>NaN</td>\n",
              "      <td>178.000000</td>\n",
              "      <td>1300.500000</td>\n",
              "      <td>925.500000</td>\n",
              "      <td>197.600006</td>\n",
              "      <td>1927.050049</td>\n",
              "      <td>105.050003</td>\n",
              "      <td>1703.564941</td>\n",
              "      <td>13193.500000</td>\n",
              "      <td>209.550003</td>\n",
              "      <td>118.955559</td>\n",
              "      <td>NaN</td>\n",
              "      <td>783.799988</td>\n",
              "      <td>556.460022</td>\n",
              "      <td>841.500000</td>\n",
              "      <td>37.150002</td>\n",
              "      <td>18306.949219</td>\n",
              "      <td>106.800003</td>\n",
              "      <td>821.549988</td>\n",
              "      <td>939.012451</td>\n",
              "      <td>88.050003</td>\n",
              "    </tr>\n",
              "  </tbody>\n",
              "</table>\n",
              "<p>5 rows × 98 columns</p>\n",
              "</div>"
            ],
            "text/plain": [
              "                Close1       Close2  ...     Close97    Close98\n",
              "Date                                 ...                       \n",
              "2016-01-01  161.666672  1343.449951  ...  980.159790  91.250000\n",
              "2016-01-04  158.699997  1262.099976  ...  959.974304  89.949997\n",
              "2016-01-05  161.233337  1252.949951  ...  956.626221  93.250000\n",
              "2016-01-06  158.366669  1235.400024  ...  961.624084  90.599998\n",
              "2016-01-07  151.066666  1250.550049  ...  939.012451  88.050003\n",
              "\n",
              "[5 rows x 98 columns]"
            ]
          },
          "metadata": {},
          "execution_count": 19
        }
      ]
    },
    {
      "cell_type": "code",
      "metadata": {
        "id": "cfbmcWkIMkNk"
      },
      "source": [
        "df['diff1'] = (df['Close1'].diff() > 0 ).astype(int) + (df['Close2'].diff() >0).astype(int)+ (df['Close3'].diff()>0).astype(int)+(df['Close4'].diff()>0).astype(int) + (df['Close5'].diff()>0).astype(int)+ (df['Close6'].diff()>0).astype(int)+ (df['Close7'].diff()>0).astype(int)+(df['Close8'].diff()>0).astype(int)+ (df['Close9'].diff()>0).astype(int)+ (df['Close10'].diff()>0).astype(int)"
      ],
      "execution_count": 20,
      "outputs": []
    },
    {
      "cell_type": "code",
      "metadata": {
        "id": "KfQETiwOiC97"
      },
      "source": [
        "df['diff2'] = (df['Close11'].diff() > 0 ).astype(int) + (df['Close12'].diff() >0).astype(int)+ (df['Close13'].diff()>0).astype(int)+(df['Close14'].diff()>0).astype(int) + (df['Close15'].diff()>0).astype(int)+ (df['Close16'].diff()>0).astype(int)+ (df['Close17'].diff()>0).astype(int)+(df['Close18'].diff()>0).astype(int)+ (df['Close19'].diff()>0).astype(int)+ (df['Close20'].diff()>0).astype(int)"
      ],
      "execution_count": 21,
      "outputs": []
    },
    {
      "cell_type": "code",
      "metadata": {
        "id": "ZzdDwYaqiSrp"
      },
      "source": [
        "df['diff3'] = (df['Close21'].diff() > 0 ).astype(int) + (df['Close22'].diff() >0).astype(int)+ (df['Close23'].diff()>0).astype(int)+(df['Close24'].diff()>0).astype(int) + (df['Close25'].diff()>0).astype(int)+ (df['Close26'].diff()>0).astype(int)+ (df['Close27'].diff()>0).astype(int)+(df['Close28'].diff()>0).astype(int)+ (df['Close29'].diff()>0).astype(int)+ (df['Close30'].diff()>0).astype(int)"
      ],
      "execution_count": 22,
      "outputs": []
    },
    {
      "cell_type": "code",
      "metadata": {
        "id": "hgPyfE1WifIx"
      },
      "source": [
        "df['diff4'] = (df['Close31'].diff() > 0 ).astype(int) + (df['Close32'].diff() >0).astype(int)+ (df['Close33'].diff()>0).astype(int)+(df['Close34'].diff()>0).astype(int) + (df['Close35'].diff()>0).astype(int)"
      ],
      "execution_count": 23,
      "outputs": []
    },
    {
      "cell_type": "code",
      "metadata": {
        "id": "GZHNkRMfNJ8P"
      },
      "source": [
        "df['diff5'] = (df['Close36'].diff() > 0 ).astype(int) + (df['Close37'].diff() >0).astype(int)+ (df['Close38'].diff()>0).astype(int)+(df['Close39'].diff()>0).astype(int) + (df['Close40'].diff()>0).astype(int)+\\\n",
        "              (df['Close41'].diff() > 0 ).astype(int) + (df['Close42'].diff() >0).astype(int)+ (df['Close43'].diff()>0).astype(int)+(df['Close44'].diff()>0).astype(int) + (df['Close45'].diff()>0).astype(int)+\\\n",
        "              (df['Close46'].diff() > 0 ).astype(int) + (df['Close47'].diff() >0).astype(int)+ (df['Close48'].diff()>0).astype(int)+(df['Close49'].diff()>0).astype(int) + (df['Close50'].diff()>0).astype(int)+\\\n",
        "              (df['Close51'].diff() > 0 ).astype(int) + (df['Close52'].diff() >0).astype(int)+ (df['Close53'].diff()>0).astype(int)+(df['Close54'].diff()>0).astype(int) + (df['Close55'].diff()>0).astype(int)+\\\n",
        "              (df['Close56'].diff() > 0 ).astype(int) + (df['Close57'].diff() >0).astype(int)+ (df['Close58'].diff()>0).astype(int)+(df['Close59'].diff()>0).astype(int) + (df['Close60'].diff()>0).astype(int)+\\\n",
        "              (df['Close61'].diff() > 0 ).astype(int) + (df['Close62'].diff() >0).astype(int)+ (df['Close63'].diff()>0).astype(int)+(df['Close64'].diff()>0).astype(int) + (df['Close65'].diff()>0).astype(int)+\\\n",
        "              (df['Close66'].diff() > 0 ).astype(int) + (df['Close67'].diff() >0).astype(int)+ (df['Close68'].diff()>0).astype(int)+(df['Close69'].diff()>0).astype(int) + (df['Close70'].diff()>0).astype(int)+\\\n",
        "              (df['Close71'].diff() > 0 ).astype(int) + (df['Close72'].diff() >0).astype(int)+ (df['Close73'].diff()>0).astype(int)+(df['Close74'].diff()>0).astype(int) + (df['Close75'].diff()>0).astype(int)+\\\n",
        "              (df['Close76'].diff() > 0 ).astype(int) + (df['Close77'].diff() >0).astype(int)+ (df['Close78'].diff()>0).astype(int)+(df['Close79'].diff()>0).astype(int) + (df['Close80'].diff()>0).astype(int)+\\\n",
        "              (df['Close81'].diff() > 0 ).astype(int) + (df['Close82'].diff() >0).astype(int)+ (df['Close83'].diff()>0).astype(int)+(df['Close84'].diff()>0).astype(int) + (df['Close85'].diff()>0).astype(int)+\\\n",
        "              (df['Close86'].diff() > 0 ).astype(int) + (df['Close87'].diff() >0).astype(int)+ (df['Close88'].diff()>0).astype(int)+(df['Close89'].diff()>0).astype(int) + (df['Close90'].diff()>0).astype(int)+\\\n",
        "              (df['Close91'].diff() > 0 ).astype(int) + (df['Close92'].diff() >0).astype(int)+ (df['Close93'].diff()>0).astype(int)+(df['Close94'].diff()>0).astype(int) + (df['Close95'].diff()>0).astype(int)+\\\n",
        "              (df['Close96'].diff()>0).astype(int) + (df['Close97'].diff()>0).astype(int)+(df['Close98'].diff()>0).astype(int)"
      ],
      "execution_count": 24,
      "outputs": []
    },
    {
      "cell_type": "code",
      "metadata": {
        "id": "D842_0CAQl5x"
      },
      "source": [
        "df['diff']=df['diff1'].astype(int) + df['diff2'].astype(int) +df['diff3'].astype(int) +df['diff4'].astype(int)+df['diff5'].astype(int)"
      ],
      "execution_count": 25,
      "outputs": []
    },
    {
      "cell_type": "code",
      "metadata": {
        "id": "lgOeuvMJQuCL",
        "colab": {
          "base_uri": "https://localhost:8080/"
        },
        "outputId": "adcc5dd3-96ff-464b-a0c6-f4ba61c0c2cb"
      },
      "source": [
        "df['diff'].max()"
      ],
      "execution_count": 26,
      "outputs": [
        {
          "output_type": "execute_result",
          "data": {
            "text/plain": [
              "90"
            ]
          },
          "metadata": {},
          "execution_count": 26
        }
      ]
    },
    {
      "cell_type": "code",
      "metadata": {
        "id": "mN9fOl7KTrZE",
        "colab": {
          "base_uri": "https://localhost:8080/",
          "height": 35
        },
        "outputId": "a70416ca-7703-4dea-e94b-613b19118914"
      },
      "source": [
        "import datetime\n",
        "start_date = '2017-01-01'\n",
        "end_date = str(datetime.datetime.today()).split()[0]\n",
        "datetime.date.today()\n",
        "end_date"
      ],
      "execution_count": 27,
      "outputs": [
        {
          "output_type": "execute_result",
          "data": {
            "application/vnd.google.colaboratory.intrinsic+json": {
              "type": "string"
            },
            "text/plain": [
              "'2021-11-01'"
            ]
          },
          "metadata": {},
          "execution_count": 27
        }
      ]
    },
    {
      "cell_type": "code",
      "metadata": {
        "id": "-1c4khlMUZBk"
      },
      "source": [
        "df['ema10AD']=df['diff'].ewm(span=10, adjust=False).mean()\n",
        "df['ema15AD']=df['diff'].ewm(span=15, adjust=False).mean()\n",
        "df['ema20AD']=df['diff'].ewm(span=20, adjust=False).mean()\n",
        "df['ema25AD']=df['diff'].ewm(span=25, adjust=False).mean()\n",
        "df['smooth_ema20']=df['ema20AD'].ewm(span=5, adjust=False).mean()\n",
        "df['smooth_ema25']=df['ema25AD'].ewm(span=10, adjust=False).mean()\n",
        "df['ema30AD']=df['diff'].ewm(span=30, adjust=False).mean()\n",
        "df['ema35AD']=df['diff'].ewm(span=35, adjust=False).mean()\n",
        "df['ema40AD']=df['diff'].ewm(span=40, adjust=False).mean()\n",
        "df['ema50AD']=df['diff'].ewm(span=50, adjust=False).mean()\n",
        "df['ema100AD']=df['diff'].ewm(span=100, adjust=False).mean()\n",
        "df['smooth_ema50']=df['ema50AD'].ewm(span=5, adjust=False).mean()\n",
        "df['smooth_ema100']=df['ema100AD'].ewm(span=10, adjust=False).mean()"
      ],
      "execution_count": 28,
      "outputs": []
    },
    {
      "cell_type": "code",
      "metadata": {
        "id": "bkA4VrfVTvZb",
        "colab": {
          "base_uri": "https://localhost:8080/",
          "height": 602
        },
        "outputId": "fc83161e-efa4-4d56-939b-db983692632a"
      },
      "source": [
        "fig, ax = plt.subplots(3,1,figsize=(15,9),sharex=True)\n",
        "ax[0].plot(nifty.loc[start_date:end_date, :].index, nifty.loc[start_date:end_date, 'Close'],'b-', linewidth=1, markersize=3, label='Price Low')\n",
        "ax[0].plot(nifty.loc[start_date:end_date, :].index, nifty.loc[start_date:end_date, 'Close'].rolling(window=50).mean(),'r')\n",
        "#ax.plot(df.loc[start_date:end_date, :].index, df.loc[start_date:end_date, 'ema10Low'], label='ema10Low')\n",
        "ax[1].plot(df.loc[start_date:end_date, :].index, df.loc[start_date:end_date, 'smooth_ema50'], label='ema50 Smooth')\n",
        "ax[1].plot(df.loc[start_date:end_date, :].index, df.loc[start_date:end_date, 'smooth_ema100'], label='ema100 Smooth')\n",
        "ax[2].plot(df.loc[start_date:end_date, :].index, df.loc[start_date:end_date, 'ema50AD'], label='ema50 Adv Dec')\n",
        "ax[2].plot(df.loc[start_date:end_date, :].index, df.loc[start_date:end_date, 'ema100AD'], label='ema100 Adv Dec')\n",
        "ax[1].axhline(y=45)\n",
        "ax[1].legend(loc='best')\n",
        "ax[2].legend(loc='best')\n",
        "ax[1].set_ylabel('Adv/Dec')\n",
        "fig.suptitle('EMA Advance Decline')\n",
        "plt.show()"
      ],
      "execution_count": 29,
      "outputs": [
        {
          "output_type": "display_data",
          "data": {
            "image/png": "[encoded data removed]",
            "text/plain": [
              "<Figure size 1080x648 with 3 Axes>"
            ]
          },
          "metadata": {
            "needs_background": "light"
          }
        }
      ]
    },
    {
      "cell_type": "code",
      "metadata": {
        "id": "Bo31gzK5HEkw"
      },
      "source": [
        "# I Just need the Close\n",
        "price_data =df.copy()\n",
        "price_data=pd.concat([price_data,nifty['Close']],axis=1)"
      ],
      "execution_count": 30,
      "outputs": []
    },
    {
      "cell_type": "code",
      "metadata": {
        "id": "S7wYjaOeHVcS"
      },
      "source": [
        "features = ['ema10AD','ema15AD','ema20AD','ema25AD','ema30AD','ema35AD','ema40AD','ema50AD','ema100AD','diff','smooth_ema20','smooth_ema25']"
      ],
      "execution_count": 31,
      "outputs": []
    },
    {
      "cell_type": "markdown",
      "metadata": {
        "id": "FENI4ZLqHZns"
      },
      "source": [
        "# Days Out"
      ]
    },
    {
      "cell_type": "code",
      "metadata": {
        "id": "4t8UmeRTHcM4"
      },
      "source": [
        "# define the number of days out you want to predict\n",
        "days_out =14\n",
        "\n",
        "# create a new column that will house the flag, and for each group calculate the diff compared to 30 days ago. Then use Numpy to define the sign.\n",
        "price_data['Signal_Flag'] = price_data['Close'].transform(lambda x : np.sign(x.diff(days_out)))\n",
        "#price_data['Signal_Flag_INR'] = price_data['INRClose'].transform(lambda x : np.sign(x.diff(days_out)))\n",
        "# print the first 50 rows"
      ],
      "execution_count": 32,
      "outputs": []
    },
    {
      "cell_type": "code",
      "metadata": {
        "colab": {
          "base_uri": "https://localhost:8080/",
          "height": 274
        },
        "id": "EzaGERDXHglX",
        "outputId": "0668cbf5-5bd2-45d8-afd1-61919d8b6f24"
      },
      "source": [
        "# Create a column we wish to predict\n",
        "'''\n",
        "    In this case, let's create an output column that will be 1 if the closing price at time 't' is greater than 't-1' and 0 otherwise.\n",
        "    In other words, if the today's closing price is greater than yesterday's closing price it would be 1.\n",
        "'''\n",
        "\n",
        "# Group by the `Symbol` column, then grab the `Close` column.\n",
        "close_groups = price_data['Close']\n",
        "\n",
        "# Apply the lambda function which will return -1.0 for down, 1.0 for up and 0.0 for no change.\n",
        "close_groups = close_groups.transform(lambda x : np.sign(x.diff(days_out)))\n",
        "\n",
        "# add the data to the main dataframe.\n",
        "price_data['Prediction'] = close_groups\n",
        "\n",
        "# for simplicity in later sections I'm going to make a change to our prediction column. To keep this as a binary classifier I'll change flat days and consider them up days.\n",
        "price_data.loc[price_data['Prediction'] == 0.0] = 1.0\n",
        "\n",
        "# print the head\n",
        "price_data.tail(3)"
      ],
      "execution_count": 33,
      "outputs": [
        {
          "output_type": "execute_result",
          "data": {
            "text/html": [
              "<div>\n",
              "<style scoped>\n",
              "    .dataframe tbody tr th:only-of-type {\n",
              "        vertical-align: middle;\n",
              "    }\n",
              "\n",
              "    .dataframe tbody tr th {\n",
              "        vertical-align: top;\n",
              "    }\n",
              "\n",
              "    .dataframe thead th {\n",
              "        text-align: right;\n",
              "    }\n",
              "</style>\n",
              "<table border=\"1\" class=\"dataframe\">\n",
              "  <thead>\n",
              "    <tr style=\"text-align: right;\">\n",
              "      <th></th>\n",
              "      <th>Close1</th>\n",
              "      <th>Close2</th>\n",
              "      <th>Close3</th>\n",
              "      <th>Close4</th>\n",
              "      <th>Close5</th>\n",
              "      <th>Close6</th>\n",
              "      <th>Close7</th>\n",
              "      <th>Close8</th>\n",
              "      <th>Close9</th>\n",
              "      <th>Close10</th>\n",
              "      <th>Close11</th>\n",
              "      <th>Close12</th>\n",
              "      <th>Close13</th>\n",
              "      <th>Close14</th>\n",
              "      <th>Close15</th>\n",
              "      <th>Close16</th>\n",
              "      <th>Close17</th>\n",
              "      <th>Close18</th>\n",
              "      <th>Close19</th>\n",
              "      <th>Close20</th>\n",
              "      <th>Close21</th>\n",
              "      <th>Close22</th>\n",
              "      <th>Close23</th>\n",
              "      <th>Close24</th>\n",
              "      <th>Close25</th>\n",
              "      <th>Close26</th>\n",
              "      <th>Close27</th>\n",
              "      <th>Close28</th>\n",
              "      <th>Close29</th>\n",
              "      <th>Close30</th>\n",
              "      <th>Close31</th>\n",
              "      <th>Close32</th>\n",
              "      <th>Close33</th>\n",
              "      <th>Close34</th>\n",
              "      <th>Close35</th>\n",
              "      <th>Close36</th>\n",
              "      <th>Close37</th>\n",
              "      <th>Close38</th>\n",
              "      <th>Close39</th>\n",
              "      <th>Close40</th>\n",
              "      <th>...</th>\n",
              "      <th>Close81</th>\n",
              "      <th>Close82</th>\n",
              "      <th>Close83</th>\n",
              "      <th>Close84</th>\n",
              "      <th>Close85</th>\n",
              "      <th>Close86</th>\n",
              "      <th>Close87</th>\n",
              "      <th>Close88</th>\n",
              "      <th>Close89</th>\n",
              "      <th>Close90</th>\n",
              "      <th>Close91</th>\n",
              "      <th>Close92</th>\n",
              "      <th>Close93</th>\n",
              "      <th>Close94</th>\n",
              "      <th>Close95</th>\n",
              "      <th>Close96</th>\n",
              "      <th>Close97</th>\n",
              "      <th>Close98</th>\n",
              "      <th>diff1</th>\n",
              "      <th>diff2</th>\n",
              "      <th>diff3</th>\n",
              "      <th>diff4</th>\n",
              "      <th>diff5</th>\n",
              "      <th>diff</th>\n",
              "      <th>ema10AD</th>\n",
              "      <th>ema15AD</th>\n",
              "      <th>ema20AD</th>\n",
              "      <th>ema25AD</th>\n",
              "      <th>smooth_ema20</th>\n",
              "      <th>smooth_ema25</th>\n",
              "      <th>ema30AD</th>\n",
              "      <th>ema35AD</th>\n",
              "      <th>ema40AD</th>\n",
              "      <th>ema50AD</th>\n",
              "      <th>ema100AD</th>\n",
              "      <th>smooth_ema50</th>\n",
              "      <th>smooth_ema100</th>\n",
              "      <th>Close</th>\n",
              "      <th>Signal_Flag</th>\n",
              "      <th>Prediction</th>\n",
              "    </tr>\n",
              "    <tr>\n",
              "      <th>Date</th>\n",
              "      <th></th>\n",
              "      <th></th>\n",
              "      <th></th>\n",
              "      <th></th>\n",
              "      <th></th>\n",
              "      <th></th>\n",
              "      <th></th>\n",
              "      <th></th>\n",
              "      <th></th>\n",
              "      <th></th>\n",
              "      <th></th>\n",
              "      <th></th>\n",
              "      <th></th>\n",
              "      <th></th>\n",
              "      <th></th>\n",
              "      <th></th>\n",
              "      <th></th>\n",
              "      <th></th>\n",
              "      <th></th>\n",
              "      <th></th>\n",
              "      <th></th>\n",
              "      <th></th>\n",
              "      <th></th>\n",
              "      <th></th>\n",
              "      <th></th>\n",
              "      <th></th>\n",
              "      <th></th>\n",
              "      <th></th>\n",
              "      <th></th>\n",
              "      <th></th>\n",
              "      <th></th>\n",
              "      <th></th>\n",
              "      <th></th>\n",
              "      <th></th>\n",
              "      <th></th>\n",
              "      <th></th>\n",
              "      <th></th>\n",
              "      <th></th>\n",
              "      <th></th>\n",
              "      <th></th>\n",
              "      <th></th>\n",
              "      <th></th>\n",
              "      <th></th>\n",
              "      <th></th>\n",
              "      <th></th>\n",
              "      <th></th>\n",
              "      <th></th>\n",
              "      <th></th>\n",
              "      <th></th>\n",
              "      <th></th>\n",
              "      <th></th>\n",
              "      <th></th>\n",
              "      <th></th>\n",
              "      <th></th>\n",
              "      <th></th>\n",
              "      <th></th>\n",
              "      <th></th>\n",
              "      <th></th>\n",
              "      <th></th>\n",
              "      <th></th>\n",
              "      <th></th>\n",
              "      <th></th>\n",
              "      <th></th>\n",
              "      <th></th>\n",
              "      <th></th>\n",
              "      <th></th>\n",
              "      <th></th>\n",
              "      <th></th>\n",
              "      <th></th>\n",
              "      <th></th>\n",
              "      <th></th>\n",
              "      <th></th>\n",
              "      <th></th>\n",
              "      <th></th>\n",
              "      <th></th>\n",
              "      <th></th>\n",
              "      <th></th>\n",
              "      <th></th>\n",
              "      <th></th>\n",
              "      <th></th>\n",
              "      <th></th>\n",
              "    </tr>\n",
              "  </thead>\n",
              "  <tbody>\n",
              "    <tr>\n",
              "      <th>2019-04-25</th>\n",
              "      <td>168.850006</td>\n",
              "      <td>1483.650024</td>\n",
              "      <td>2195.000000</td>\n",
              "      <td>221.850006</td>\n",
              "      <td>1131.724976</td>\n",
              "      <td>3529.850098</td>\n",
              "      <td>295.200012</td>\n",
              "      <td>728.549988</td>\n",
              "      <td>272.950012</td>\n",
              "      <td>10846.450195</td>\n",
              "      <td>389.250000</td>\n",
              "      <td>356.450012</td>\n",
              "      <td>10595.500000</td>\n",
              "      <td>816.500000</td>\n",
              "      <td>3088.050049</td>\n",
              "      <td>1734.199951</td>\n",
              "      <td>566.849976</td>\n",
              "      <td>2612.250000</td>\n",
              "      <td>1359.513184</td>\n",
              "      <td>358.250000</td>\n",
              "      <td>2969.250000</td>\n",
              "      <td>143.662537</td>\n",
              "      <td>1728.400024</td>\n",
              "      <td>1200.599976</td>\n",
              "      <td>328.500000</td>\n",
              "      <td>1075.900024</td>\n",
              "      <td>304.149994</td>\n",
              "      <td>152.699997</td>\n",
              "      <td>740.900024</td>\n",
              "      <td>2924.899902</td>\n",
              "      <td>399.100006</td>\n",
              "      <td>510.750000</td>\n",
              "      <td>643.400024</td>\n",
              "      <td>7640.250000</td>\n",
              "      <td>1955.150024</td>\n",
              "      <td>614.349976</td>\n",
              "      <td>1328.050049</td>\n",
              "      <td>650.349976</td>\n",
              "      <td>1450.449951</td>\n",
              "      <td>1447.949951</td>\n",
              "      <td>...</td>\n",
              "      <td>1683.449951</td>\n",
              "      <td>220.550003</td>\n",
              "      <td>7669.500000</td>\n",
              "      <td>86.750000</td>\n",
              "      <td>2034.020020</td>\n",
              "      <td>23101.449219</td>\n",
              "      <td>306.200012</td>\n",
              "      <td>148.149994</td>\n",
              "      <td>367.700012</td>\n",
              "      <td>461.000000</td>\n",
              "      <td>547.650024</td>\n",
              "      <td>795.549988</td>\n",
              "      <td>220.600006</td>\n",
              "      <td>17996.349609</td>\n",
              "      <td>173.600006</td>\n",
              "      <td>1153.099976</td>\n",
              "      <td>2494.143066</td>\n",
              "      <td>100.550003</td>\n",
              "      <td>5</td>\n",
              "      <td>4</td>\n",
              "      <td>3</td>\n",
              "      <td>1</td>\n",
              "      <td>18</td>\n",
              "      <td>31</td>\n",
              "      <td>46.643511</td>\n",
              "      <td>47.746960</td>\n",
              "      <td>48.461077</td>\n",
              "      <td>48.949103</td>\n",
              "      <td>49.473391</td>\n",
              "      <td>50.332458</td>\n",
              "      <td>49.283341</td>\n",
              "      <td>49.510298</td>\n",
              "      <td>49.662395</td>\n",
              "      <td>49.824857</td>\n",
              "      <td>49.739272</td>\n",
              "      <td>50.283520</td>\n",
              "      <td>50.048848</td>\n",
              "      <td>11641.799805</td>\n",
              "      <td>-1.0</td>\n",
              "      <td>-1.0</td>\n",
              "    </tr>\n",
              "    <tr>\n",
              "      <th>2019-04-26</th>\n",
              "      <td>168.399994</td>\n",
              "      <td>1481.800049</td>\n",
              "      <td>2238.550049</td>\n",
              "      <td>215.600006</td>\n",
              "      <td>1140.474976</td>\n",
              "      <td>3544.149902</td>\n",
              "      <td>294.799988</td>\n",
              "      <td>738.000000</td>\n",
              "      <td>270.450012</td>\n",
              "      <td>10971.250000</td>\n",
              "      <td>391.750000</td>\n",
              "      <td>358.899994</td>\n",
              "      <td>10228.250000</td>\n",
              "      <td>823.250000</td>\n",
              "      <td>3044.649902</td>\n",
              "      <td>1747.349976</td>\n",
              "      <td>569.875000</td>\n",
              "      <td>2604.000000</td>\n",
              "      <td>1379.721558</td>\n",
              "      <td>371.049988</td>\n",
              "      <td>2967.699951</td>\n",
              "      <td>143.100037</td>\n",
              "      <td>1753.750000</td>\n",
              "      <td>1204.099976</td>\n",
              "      <td>325.450012</td>\n",
              "      <td>1089.150024</td>\n",
              "      <td>304.549988</td>\n",
              "      <td>152.850006</td>\n",
              "      <td>759.900024</td>\n",
              "      <td>2892.250000</td>\n",
              "      <td>399.649994</td>\n",
              "      <td>545.250000</td>\n",
              "      <td>646.900024</td>\n",
              "      <td>7467.500000</td>\n",
              "      <td>1977.400024</td>\n",
              "      <td>637.250000</td>\n",
              "      <td>1301.150024</td>\n",
              "      <td>653.200012</td>\n",
              "      <td>1435.650024</td>\n",
              "      <td>1448.750000</td>\n",
              "      <td>...</td>\n",
              "      <td>1698.849976</td>\n",
              "      <td>226.000000</td>\n",
              "      <td>7721.250000</td>\n",
              "      <td>88.150002</td>\n",
              "      <td>2033.064941</td>\n",
              "      <td>22997.150391</td>\n",
              "      <td>312.500000</td>\n",
              "      <td>144.500000</td>\n",
              "      <td>369.049988</td>\n",
              "      <td>464.100006</td>\n",
              "      <td>547.000000</td>\n",
              "      <td>831.150024</td>\n",
              "      <td>218.199997</td>\n",
              "      <td>18018.599609</td>\n",
              "      <td>174.300003</td>\n",
              "      <td>1135.500000</td>\n",
              "      <td>2346.452637</td>\n",
              "      <td>99.750000</td>\n",
              "      <td>5</td>\n",
              "      <td>7</td>\n",
              "      <td>6</td>\n",
              "      <td>4</td>\n",
              "      <td>39</td>\n",
              "      <td>61</td>\n",
              "      <td>49.253782</td>\n",
              "      <td>49.403590</td>\n",
              "      <td>49.655260</td>\n",
              "      <td>49.876095</td>\n",
              "      <td>49.534014</td>\n",
              "      <td>50.249483</td>\n",
              "      <td>50.039254</td>\n",
              "      <td>50.148614</td>\n",
              "      <td>50.215449</td>\n",
              "      <td>50.263098</td>\n",
              "      <td>49.962257</td>\n",
              "      <td>50.276712</td>\n",
              "      <td>50.033104</td>\n",
              "      <td>11754.650391</td>\n",
              "      <td>1.0</td>\n",
              "      <td>1.0</td>\n",
              "    </tr>\n",
              "    <tr>\n",
              "      <th>2019-04-30</th>\n",
              "      <td>169.199997</td>\n",
              "      <td>1517.000000</td>\n",
              "      <td>2260.350098</td>\n",
              "      <td>214.300003</td>\n",
              "      <td>1158.724976</td>\n",
              "      <td>3519.800049</td>\n",
              "      <td>298.549988</td>\n",
              "      <td>751.349976</td>\n",
              "      <td>276.850006</td>\n",
              "      <td>10905.299805</td>\n",
              "      <td>392.799988</td>\n",
              "      <td>359.399994</td>\n",
              "      <td>10203.650391</td>\n",
              "      <td>836.099976</td>\n",
              "      <td>2984.100098</td>\n",
              "      <td>1757.699951</td>\n",
              "      <td>591.674988</td>\n",
              "      <td>2511.850098</td>\n",
              "      <td>1379.721558</td>\n",
              "      <td>379.850006</td>\n",
              "      <td>2896.050049</td>\n",
              "      <td>139.800034</td>\n",
              "      <td>1791.900024</td>\n",
              "      <td>1208.150024</td>\n",
              "      <td>320.299988</td>\n",
              "      <td>1093.349976</td>\n",
              "      <td>301.350006</td>\n",
              "      <td>158.050003</td>\n",
              "      <td>766.849976</td>\n",
              "      <td>2933.750000</td>\n",
              "      <td>404.549988</td>\n",
              "      <td>557.200012</td>\n",
              "      <td>646.099976</td>\n",
              "      <td>7421.350098</td>\n",
              "      <td>1995.050049</td>\n",
              "      <td>639.849976</td>\n",
              "      <td>1295.500000</td>\n",
              "      <td>651.799988</td>\n",
              "      <td>1418.949951</td>\n",
              "      <td>1463.150024</td>\n",
              "      <td>...</td>\n",
              "      <td>1606.500000</td>\n",
              "      <td>220.500000</td>\n",
              "      <td>7520.450195</td>\n",
              "      <td>84.900002</td>\n",
              "      <td>2036.829956</td>\n",
              "      <td>23091.849609</td>\n",
              "      <td>309.950012</td>\n",
              "      <td>146.500000</td>\n",
              "      <td>369.299988</td>\n",
              "      <td>457.649994</td>\n",
              "      <td>561.099976</td>\n",
              "      <td>819.049988</td>\n",
              "      <td>219.050003</td>\n",
              "      <td>18018.949219</td>\n",
              "      <td>172.750000</td>\n",
              "      <td>1110.949951</td>\n",
              "      <td>2305.649902</td>\n",
              "      <td>100.449997</td>\n",
              "      <td>7</td>\n",
              "      <td>6</td>\n",
              "      <td>6</td>\n",
              "      <td>3</td>\n",
              "      <td>31</td>\n",
              "      <td>53</td>\n",
              "      <td>49.934913</td>\n",
              "      <td>49.853141</td>\n",
              "      <td>49.973807</td>\n",
              "      <td>50.116396</td>\n",
              "      <td>49.680612</td>\n",
              "      <td>50.225286</td>\n",
              "      <td>50.230270</td>\n",
              "      <td>50.307025</td>\n",
              "      <td>50.351281</td>\n",
              "      <td>50.370427</td>\n",
              "      <td>50.022410</td>\n",
              "      <td>50.307951</td>\n",
              "      <td>50.031160</td>\n",
              "      <td>11748.150391</td>\n",
              "      <td>1.0</td>\n",
              "      <td>1.0</td>\n",
              "    </tr>\n",
              "  </tbody>\n",
              "</table>\n",
              "<p>3 rows × 120 columns</p>\n",
              "</div>"
            ],
            "text/plain": [
              "                Close1       Close2  ...  Signal_Flag  Prediction\n",
              "Date                                 ...                         \n",
              "2019-04-25  168.850006  1483.650024  ...         -1.0        -1.0\n",
              "2019-04-26  168.399994  1481.800049  ...          1.0         1.0\n",
              "2019-04-30  169.199997  1517.000000  ...          1.0         1.0\n",
              "\n",
              "[3 rows x 120 columns]"
            ]
          },
          "metadata": {},
          "execution_count": 33
        }
      ]
    },
    {
      "cell_type": "code",
      "metadata": {
        "colab": {
          "base_uri": "https://localhost:8080/"
        },
        "id": "x70BV5FwHjqa",
        "outputId": "fa2bd2bb-80c2-4e2a-8900-5e844a28df3d"
      },
      "source": [
        "# We need to remove all rows that have an NaN value.\n",
        "print('Before NaN Drop we have {} rows and {}  columns in original dataset'.format(price_data.shape[0], price_data.shape[1]))\n",
        "\n",
        "# Any row that has a `NaN` value will be dropped.\n",
        "price_data = price_data.dropna()\n",
        "\n",
        "# Display how much we have left now.\n",
        "print('After NaN Drop we have {} rows and {} columns in original dataset'.format(price_data.shape[0], price_data.shape[1]))\n",
        "\n",
        "# Print the head."
      ],
      "execution_count": 34,
      "outputs": [
        {
          "output_type": "stream",
          "name": "stdout",
          "text": [
            "Before NaN Drop we have 819 rows and 120  columns in original dataset\n",
            "After NaN Drop we have 174 rows and 120 columns in original dataset\n"
          ]
        }
      ]
    },
    {
      "cell_type": "code",
      "metadata": {
        "colab": {
          "base_uri": "https://localhost:8080/"
        },
        "id": "6DDAPu0oHnoA",
        "outputId": "1593dd7e-33e1-4bdf-ac5a-55d1dbbe4c02"
      },
      "source": [
        "\n",
        "# Number of trees is not a parameter that should be tuned, but just set large enough usually. There is no risk of overfitting in random forest with growing number of # trees, as they are trained independently from each other. \n",
        "n_estimators = list(range(200, 2000, 200))\n",
        "\n",
        "# Number of features to consider at every split\n",
        "max_features = ['auto', 'sqrt', None, 'log2']\n",
        "\n",
        "# Maximum number of levels in tree\n",
        "# Max depth is a parameter that most of the times should be set as high as possible, but possibly better performance can be achieved by setting it lower.\n",
        "max_depth = list(range(10, 110, 10))\n",
        "max_depth.append(None)\n",
        "\n",
        "# Minimum number of samples required to split a node\n",
        "# Higher values prevent a model from learning relations which might be highly specific to the particular sample selected for a tree. Too high values can also lead to # under-fitting hence depending on the level of underfitting or overfitting, you can tune the values for min_samples_split.\n",
        "min_samples_split = [2, 5, 10, 20, 30, 40]\n",
        "\n",
        "# Minimum number of samples required at each leaf node\n",
        "min_samples_leaf = [1, 2, 7, 12, 14, 16 ,20]\n",
        "\n",
        "# Method of selecting samples for training each tree\n",
        "bootstrap = [True, False]\n",
        "\n",
        "# Create the random grid\n",
        "random_grid = {'n_estimators': n_estimators,\n",
        "               'max_features': max_features,\n",
        "               'max_depth': max_depth,\n",
        "               'min_samples_split': min_samples_split,\n",
        "               'min_samples_leaf': min_samples_leaf,\n",
        "               'bootstrap': bootstrap}\n",
        "\n",
        "print(random_grid)"
      ],
      "execution_count": 35,
      "outputs": [
        {
          "output_type": "stream",
          "name": "stdout",
          "text": [
            "{'n_estimators': [200, 400, 600, 800, 1000, 1200, 1400, 1600, 1800], 'max_features': ['auto', 'sqrt', None, 'log2'], 'max_depth': [10, 20, 30, 40, 50, 60, 70, 80, 90, 100, None], 'min_samples_split': [2, 5, 10, 20, 30, 40], 'min_samples_leaf': [1, 2, 7, 12, 14, 16, 20], 'bootstrap': [True, False]}\n"
          ]
        }
      ]
    },
    {
      "cell_type": "code",
      "metadata": {
        "colab": {
          "base_uri": "https://localhost:8080/",
          "height": 69
        },
        "id": "RvcAkKivHohy",
        "outputId": "8f8aa00a-e444-4686-f5aa-79e464614040"
      },
      "source": [
        "X_Cols = price_data[features]\n",
        "Y_Cols = price_data['Prediction']\n",
        "#,'log5vol','log5','RSI','Price_Rate_Of_Change','log5volM','log5M','MMI_roc'\n",
        "# Split X and y into X_train and X_test\n",
        "samp_train= int(len(price_data)*.75) -50\n",
        "samp_test= samp_train+50\n",
        "X_train = X_Cols[:samp_train]\n",
        "X_test = X_Cols[samp_test:]\n",
        "y_train = Y_Cols[:samp_train]\n",
        "y_test = Y_Cols[samp_test:]\n",
        "\n",
        "\n",
        "#X_train, X_test, y_train, y_test = train_test_split(X_Cols, Y_Cols, random_state = 0)\n",
        "\n",
        "\n",
        "# New Random Forest Classifier to house optimal parameters\n",
        "rf = RandomForestClassifier()\n",
        "\n",
        "# Specfiy the details of our Randomized Search\n",
        "rf_random = RandomizedSearchCV(estimator = rf, param_distributions = random_grid, n_iter = 100, cv = 3, verbose=2, random_state=42, n_jobs = -1)\n",
        "'''\n",
        "# Fit the random search model############################~~~~~~~~~~~~~~~~~~################\n",
        "rf_random.fit(X_train, y_train)\n",
        "print(f\"Best score: {rf_random.best_score_}\")\n",
        "print(\"Best parameters set:\")\n",
        "best_parameters = rf_random.best_estimator_.get_params()\n",
        "for param_name in sorted(random_grid.keys()):\n",
        "  print(f\"\\t{param_name}: {best_parameters[param_name]}\")\n",
        "'''"
      ],
      "execution_count": 36,
      "outputs": [
        {
          "output_type": "execute_result",
          "data": {
            "application/vnd.google.colaboratory.intrinsic+json": {
              "type": "string"
            },
            "text/plain": [
              "'\\n# Fit the random search model############################~~~~~~~~~~~~~~~~~~################\\nrf_random.fit(X_train, y_train)\\nprint(f\"Best score: {rf_random.best_score_}\")\\nprint(\"Best parameters set:\")\\nbest_parameters = rf_random.best_estimator_.get_params()\\nfor param_name in sorted(random_grid.keys()):\\n  print(f\"\\t{param_name}: {best_parameters[param_name]}\")\\n'"
            ]
          },
          "metadata": {},
          "execution_count": 36
        }
      ]
    },
    {
      "cell_type": "code",
      "metadata": {
        "id": "DdTrIJXBHofM"
      },
      "source": [
        "rand_frst_clf = RandomForestClassifier(n_estimators = 1600,max_depth=80,min_samples_leaf=16,max_features = 'sqrt',min_samples_split=20, criterion = \"gini\", bootstrap=True,random_state = 42)"
      ],
      "execution_count": 37,
      "outputs": []
    },
    {
      "cell_type": "code",
      "metadata": {
        "colab": {
          "base_uri": "https://localhost:8080/",
          "height": 205
        },
        "id": "LIxkqEuaHocY",
        "outputId": "93c814ff-6e12-490b-938f-98869faf51db"
      },
      "source": [
        "# Fit the data to the model\n",
        "rand_frst_clf.fit(X_train, y_train)\n",
        "\n",
        "# Make predictions\n",
        "y_pred = rand_frst_clf.predict(X_test)\n",
        "\n",
        "# Define the traget names\n",
        "target_names = ['Down Day', 'Up Day']\n",
        "\n",
        "# Build a classifcation report\n",
        "report = classification_report(y_true = y_test, y_pred = y_pred, target_names = target_names, output_dict = True)\n",
        "\n",
        "# Add it to a data frame, transpose it for readability.\n",
        "report_df = pd.DataFrame(report).transpose()\n",
        "report_df"
      ],
      "execution_count": 38,
      "outputs": [
        {
          "output_type": "execute_result",
          "data": {
            "text/html": [
              "<div>\n",
              "<style scoped>\n",
              "    .dataframe tbody tr th:only-of-type {\n",
              "        vertical-align: middle;\n",
              "    }\n",
              "\n",
              "    .dataframe tbody tr th {\n",
              "        vertical-align: top;\n",
              "    }\n",
              "\n",
              "    .dataframe thead th {\n",
              "        text-align: right;\n",
              "    }\n",
              "</style>\n",
              "<table border=\"1\" class=\"dataframe\">\n",
              "  <thead>\n",
              "    <tr style=\"text-align: right;\">\n",
              "      <th></th>\n",
              "      <th>precision</th>\n",
              "      <th>recall</th>\n",
              "      <th>f1-score</th>\n",
              "      <th>support</th>\n",
              "    </tr>\n",
              "  </thead>\n",
              "  <tbody>\n",
              "    <tr>\n",
              "      <th>Down Day</th>\n",
              "      <td>0.500000</td>\n",
              "      <td>0.111111</td>\n",
              "      <td>0.181818</td>\n",
              "      <td>9.000000</td>\n",
              "    </tr>\n",
              "    <tr>\n",
              "      <th>Up Day</th>\n",
              "      <td>0.809524</td>\n",
              "      <td>0.971429</td>\n",
              "      <td>0.883117</td>\n",
              "      <td>35.000000</td>\n",
              "    </tr>\n",
              "    <tr>\n",
              "      <th>accuracy</th>\n",
              "      <td>0.795455</td>\n",
              "      <td>0.795455</td>\n",
              "      <td>0.795455</td>\n",
              "      <td>0.795455</td>\n",
              "    </tr>\n",
              "    <tr>\n",
              "      <th>macro avg</th>\n",
              "      <td>0.654762</td>\n",
              "      <td>0.541270</td>\n",
              "      <td>0.532468</td>\n",
              "      <td>44.000000</td>\n",
              "    </tr>\n",
              "    <tr>\n",
              "      <th>weighted avg</th>\n",
              "      <td>0.746212</td>\n",
              "      <td>0.795455</td>\n",
              "      <td>0.739669</td>\n",
              "      <td>44.000000</td>\n",
              "    </tr>\n",
              "  </tbody>\n",
              "</table>\n",
              "</div>"
            ],
            "text/plain": [
              "              precision    recall  f1-score    support\n",
              "Down Day       0.500000  0.111111  0.181818   9.000000\n",
              "Up Day         0.809524  0.971429  0.883117  35.000000\n",
              "accuracy       0.795455  0.795455  0.795455   0.795455\n",
              "macro avg      0.654762  0.541270  0.532468  44.000000\n",
              "weighted avg   0.746212  0.795455  0.739669  44.000000"
            ]
          },
          "metadata": {},
          "execution_count": 38
        }
      ]
    },
    {
      "cell_type": "code",
      "metadata": {
        "colab": {
          "base_uri": "https://localhost:8080/",
          "height": 380
        },
        "id": "I94-zyUyH0zP",
        "outputId": "3e7ee904-b0dd-43f7-e1f4-9f9d0aaa33c3"
      },
      "source": [
        "from sklearn.metrics import confusion_matrix, plot_confusion_matrix\n",
        "\n",
        "rf_matrix = confusion_matrix(y_test, y_pred)\n",
        "\n",
        "true_negatives = rf_matrix[0][0]\n",
        "false_negatives = rf_matrix[1][0]\n",
        "true_positives = rf_matrix[1][1]\n",
        "false_positives = rf_matrix[0][1]\n",
        "\n",
        "accuracy = (true_negatives + true_positives) / (true_negatives + true_positives + false_negatives + false_positives)\n",
        "percision = true_positives / (true_positives + false_positives)\n",
        "recall = true_positives / (true_positives + false_negatives)\n",
        "specificity = true_negatives / (true_negatives + false_positives)\n",
        "\n",
        "print('Accuracy: {}'.format(float(accuracy)))\n",
        "print('Percision: {}'.format(float(percision)))\n",
        "print('Recall: {}'.format(float(recall)))\n",
        "print('Specificity: {}'.format(float(specificity)))\n",
        "print('F1 Score : {}' .format(float(2 * (percision * recall) / (percision + recall))))\n",
        "disp = plot_confusion_matrix(rand_frst_clf, X_test, y_test, display_labels = ['Down Day', 'Up Day'], normalize = 'true', cmap=plt.cm.Blues)\n",
        "disp.ax_.set_title('Confusion Matrix - Normalized')\n",
        "plt.show()"
      ],
      "execution_count": 39,
      "outputs": [
        {
          "output_type": "stream",
          "name": "stdout",
          "text": [
            "Accuracy: 0.7954545454545454\n",
            "Percision: 0.8095238095238095\n",
            "Recall: 0.9714285714285714\n",
            "Specificity: 0.1111111111111111\n",
            "F1 Score : 0.8831168831168832\n"
          ]
        },
        {
          "output_type": "display_data",
          "data": {
            "image/png": "[encoded data removed]",
            "text/plain": [
              "<Figure size 432x288 with 2 Axes>"
            ]
          },
          "metadata": {
            "needs_background": "light"
          }
        }
      ]
    },
    {
      "cell_type": "code",
      "metadata": {
        "colab": {
          "base_uri": "https://localhost:8080/"
        },
        "id": "alluUDYRIv1U",
        "outputId": "ab904a76-8de2-4f82-e3f9-fa1e7e12bb8e"
      },
      "source": [
        "feature_imp = pd.Series(rand_frst_clf.feature_importances_, index=X_Cols.columns).sort_values(ascending=False)\n",
        "feature_imp"
      ],
      "execution_count": 40,
      "outputs": [
        {
          "output_type": "execute_result",
          "data": {
            "text/plain": [
              "ema25AD         0.195514\n",
              "smooth_ema20    0.166948\n",
              "ema35AD         0.151104\n",
              "ema30AD         0.145580\n",
              "ema20AD         0.113589\n",
              "ema40AD         0.095718\n",
              "smooth_ema25    0.044488\n",
              "ema50AD         0.042592\n",
              "ema15AD         0.031955\n",
              "ema100AD        0.008107\n",
              "ema10AD         0.004386\n",
              "diff            0.000018\n",
              "dtype: float64"
            ]
          },
          "metadata": {},
          "execution_count": 40
        }
      ]
    },
    {
      "cell_type": "markdown",
      "metadata": {
        "id": "uVGE1f_dJJeT"
      },
      "source": [
        "#Test Series"
      ]
    },
    {
      "cell_type": "code",
      "metadata": {
        "id": "gD_jY6R8N9Vb"
      },
      "source": [
        "\n"
      ],
      "execution_count": 40,
      "outputs": []
    },
    {
      "cell_type": "code",
      "metadata": {
        "colab": {
          "base_uri": "https://localhost:8080/"
        },
        "id": "_qaaaXldIvyL",
        "outputId": "11014e6a-3017-4df1-9580-4e57ad16f762"
      },
      "source": [
        "Ticker = '^NSEI'\n",
        "nifty_n = yf.download(Ticker, start=START_testdate)\n",
        "nifty_n=nifty_n.dropna()\n",
        "nifty_n=nifty_n.iloc[:,:4]"
      ],
      "execution_count": 96,
      "outputs": [
        {
          "output_type": "stream",
          "name": "stdout",
          "text": [
            "\r[*********************100%***********************]  1 of 1 completed\n"
          ]
        }
      ]
    },
    {
      "cell_type": "code",
      "metadata": {
        "id": "O8YW2dOoJQKQ"
      },
      "source": [
        "lst_t=[]\n",
        "for i in range(len(nifty100)):\n",
        "  df_t =  yf.download(nifty100[i], start=START_testdate)\n",
        "  df_t = df_t.dropna()\n",
        "  df_t = df_t.iloc[:,:4]\n",
        "  #df.head(3)\n",
        "  #print('Done : '+ nifty10[i])\n",
        "  #print(df.head(2))\n",
        "  lst_t.append(df_t)\n",
        "\n",
        "#df1.head(3)\n",
        "print('\\n All Completed \\n')\n",
        "#df1.head(3)"
      ],
      "execution_count": null,
      "outputs": []
    },
    {
      "cell_type": "code",
      "metadata": {
        "id": "wAUJ_DzaIvti"
      },
      "source": [
        "nlst_test=[]\n",
        "for i in range(len(nifty100)):\n",
        "  nlst_test.append(lst_t[i].Close)"
      ],
      "execution_count": 98,
      "outputs": []
    },
    {
      "cell_type": "code",
      "metadata": {
        "id": "0JI2rmYhPazJ"
      },
      "source": [
        "df_test = pd.DataFrame(nlst_test).T"
      ],
      "execution_count": 99,
      "outputs": []
    },
    {
      "cell_type": "code",
      "metadata": {
        "id": "yT1n5cWYJQHm"
      },
      "source": [
        "df_test.columns=namelist"
      ],
      "execution_count": 100,
      "outputs": []
    },
    {
      "cell_type": "code",
      "metadata": {
        "id": "FvmUpUj4LQ-d"
      },
      "source": [
        "df_test['diff1'] = (df_test['Close1'].diff() > 0 ).astype(int) + (df_test['Close2'].diff() >0).astype(int)+ (df_test['Close3'].diff()>0).astype(int)+(df_test['Close4'].diff()>0).astype(int) + (df_test['Close5'].diff()>0).astype(int)+ (df_test['Close6'].diff()>0).astype(int)+ (df_test['Close7'].diff()>0).astype(int)+(df_test['Close8'].diff()>0).astype(int)+ (df_test['Close9'].diff()>0).astype(int)+ (df_test['Close10'].diff()>0).astype(int)"
      ],
      "execution_count": 101,
      "outputs": []
    },
    {
      "cell_type": "code",
      "metadata": {
        "id": "msKnlGM2LxMW"
      },
      "source": [
        "df_test['diff2'] = (df_test['Close11'].diff() > 0 ).astype(int) + (df_test['Close12'].diff() >0).astype(int)+ (df_test['Close13'].diff()>0).astype(int)+(df_test['Close14'].diff()>0).astype(int) + (df_test['Close15'].diff()>0).astype(int)+ (df_test['Close16'].diff()>0).astype(int)+ (df_test['Close17'].diff()>0).astype(int)+(df_test['Close18'].diff()>0).astype(int)+ (df_test['Close19'].diff()>0).astype(int)+ (df_test['Close20'].diff()>0).astype(int)"
      ],
      "execution_count": 102,
      "outputs": []
    },
    {
      "cell_type": "code",
      "metadata": {
        "id": "ukWDImd6LxKH"
      },
      "source": [
        "df_test['diff3'] = (df_test['Close21'].diff() > 0 ).astype(int) + (df_test['Close22'].diff() >0).astype(int)+ (df_test['Close23'].diff()>0).astype(int)+(df_test['Close24'].diff()>0).astype(int) + (df_test['Close25'].diff()>0).astype(int)+ (df_test['Close26'].diff()>0).astype(int)+ (df_test['Close27'].diff()>0).astype(int)+(df_test['Close28'].diff()>0).astype(int)+ (df_test['Close29'].diff()>0).astype(int)+ (df_test['Close30'].diff()>0).astype(int)"
      ],
      "execution_count": 103,
      "outputs": []
    },
    {
      "cell_type": "code",
      "metadata": {
        "id": "izHRY__QLxHv"
      },
      "source": [
        "df_test['diff4'] = (df_test['Close31'].diff() > 0 ).astype(int) + (df_test['Close32'].diff() >0).astype(int)+ (df_test['Close33'].diff()>0).astype(int)+(df_test['Close34'].diff()>0).astype(int) + (df_test['Close35'].diff()>0).astype(int)"
      ],
      "execution_count": 104,
      "outputs": []
    },
    {
      "cell_type": "code",
      "metadata": {
        "id": "OTzEmquXLxFV"
      },
      "source": [
        "df_test['diff5'] = (df_test['Close36'].diff() > 0 ).astype(int) + (df_test['Close37'].diff() >0).astype(int)+ (df_test['Close38'].diff()>0).astype(int)+(df_test['Close39'].diff()>0).astype(int) + (df_test['Close40'].diff()>0).astype(int)+\\\n",
        "              (df_test['Close41'].diff() > 0 ).astype(int) + (df_test['Close42'].diff() >0).astype(int)+ (df_test['Close43'].diff()>0).astype(int)+(df_test['Close44'].diff()>0).astype(int) + (df_test['Close45'].diff()>0).astype(int)+\\\n",
        "              (df_test['Close46'].diff() > 0 ).astype(int) + (df_test['Close47'].diff() >0).astype(int)+ (df_test['Close48'].diff()>0).astype(int)+(df_test['Close49'].diff()>0).astype(int) + (df_test['Close50'].diff()>0).astype(int)+\\\n",
        "              (df_test['Close51'].diff() > 0 ).astype(int) + (df_test['Close52'].diff() >0).astype(int)+ (df_test['Close53'].diff()>0).astype(int)+(df_test['Close54'].diff()>0).astype(int) + (df_test['Close55'].diff()>0).astype(int)+\\\n",
        "              (df_test['Close56'].diff() > 0 ).astype(int) + (df_test['Close57'].diff() >0).astype(int)+ (df_test['Close58'].diff()>0).astype(int)+(df_test['Close59'].diff()>0).astype(int) + (df_test['Close60'].diff()>0).astype(int)+\\\n",
        "              (df_test['Close61'].diff() > 0 ).astype(int) + (df_test['Close62'].diff() >0).astype(int)+ (df_test['Close63'].diff()>0).astype(int)+(df_test['Close64'].diff()>0).astype(int) + (df_test['Close65'].diff()>0).astype(int)+\\\n",
        "              (df_test['Close66'].diff() > 0 ).astype(int) + (df_test['Close67'].diff() >0).astype(int)+ (df_test['Close68'].diff()>0).astype(int)+(df_test['Close69'].diff()>0).astype(int) + (df_test['Close70'].diff()>0).astype(int)+\\\n",
        "              (df_test['Close71'].diff() > 0 ).astype(int) + (df_test['Close72'].diff() >0).astype(int)+ (df_test['Close73'].diff()>0).astype(int)+(df_test['Close74'].diff()>0).astype(int) + (df_test['Close75'].diff()>0).astype(int)+\\\n",
        "              (df_test['Close76'].diff() > 0 ).astype(int) + (df_test['Close77'].diff() >0).astype(int)+ (df_test['Close78'].diff()>0).astype(int)+(df_test['Close79'].diff()>0).astype(int) + (df_test['Close80'].diff()>0).astype(int)+\\\n",
        "              (df_test['Close81'].diff() > 0 ).astype(int) + (df_test['Close82'].diff() >0).astype(int)+ (df_test['Close83'].diff()>0).astype(int)+(df_test['Close84'].diff()>0).astype(int) + (df_test['Close85'].diff()>0).astype(int)+\\\n",
        "              (df_test['Close86'].diff() > 0 ).astype(int) + (df_test['Close87'].diff() >0).astype(int)+ (df_test['Close88'].diff()>0).astype(int)+(df_test['Close89'].diff()>0).astype(int) + (df_test['Close90'].diff()>0).astype(int)+\\\n",
        "              (df_test['Close91'].diff() > 0 ).astype(int) + (df_test['Close92'].diff() >0).astype(int)+ (df_test['Close93'].diff()>0).astype(int)+(df_test['Close94'].diff()>0).astype(int) + (df_test['Close95'].diff()>0).astype(int)+\\\n",
        "              (df_test['Close96'].diff()>0).astype(int) + (df_test['Close97'].diff()>0).astype(int)+(df_test['Close98'].diff()>0).astype(int)"
      ],
      "execution_count": 105,
      "outputs": []
    },
    {
      "cell_type": "code",
      "metadata": {
        "id": "FHfSlXJDLxC2"
      },
      "source": [
        "df_test['diff']=df_test['diff1'].astype(int) + df_test['diff2'].astype(int) +df_test['diff3'].astype(int) +df_test['diff4'].astype(int)+df_test['diff5'].astype(int)"
      ],
      "execution_count": 106,
      "outputs": []
    },
    {
      "cell_type": "code",
      "metadata": {
        "id": "V8rXAsFyJQCv"
      },
      "source": [
        "df_test['ema10AD']=df_test['diff'].ewm(span=10, adjust=False).mean()\n",
        "df_test['ema15AD']=df_test['diff'].ewm(span=15, adjust=False).mean()\n",
        "df_test['ema20AD']=df_test['diff'].ewm(span=20, adjust=False).mean()\n",
        "df_test['ema25AD']=df_test['diff'].ewm(span=25, adjust=False).mean()\n",
        "df_test['smooth_ema20']=df_test['ema20AD'].ewm(span=5, adjust=False).mean()\n",
        "df_test['smooth_ema25']=df_test['ema25AD'].ewm(span=10, adjust=False).mean()\n",
        "df_test['ema30AD']=df_test['diff'].ewm(span=30, adjust=False).mean()\n",
        "df_test['ema35AD']=df_test['diff'].ewm(span=35, adjust=False).mean()\n",
        "df_test['ema40AD']=df_test['diff'].ewm(span=40, adjust=False).mean()\n",
        "df_test['ema50AD']=df_test['diff'].ewm(span=50, adjust=False).mean()\n",
        "df_test['ema100AD']=df_test['diff'].ewm(span=100, adjust=False).mean()\n",
        "df_test['smooth_ema50']=df_test['ema50AD'].ewm(span=5, adjust=False).mean()\n",
        "df_test['smooth_ema100']=df_test['ema100AD'].ewm(span=10, adjust=False).mean()"
      ],
      "execution_count": 107,
      "outputs": []
    },
    {
      "cell_type": "code",
      "metadata": {
        "id": "qhbRJ9M2JQA2"
      },
      "source": [
        "price_data_new = df_test.copy()\n",
        "price_data_new=pd.concat([price_data_new,nifty_n['Close']],axis=1)"
      ],
      "execution_count": 115,
      "outputs": []
    },
    {
      "cell_type": "code",
      "metadata": {
        "id": "2iGvzXGZRNOp"
      },
      "source": [
        "price_data_new.tail(2)"
      ],
      "execution_count": null,
      "outputs": []
    },
    {
      "cell_type": "code",
      "metadata": {
        "id": "oZU_gYQRJP9w"
      },
      "source": [
        "# Group by the `Symbol` column, then grab the `Close` column.\n",
        "close_groups = price_data_new['Close']\n",
        "\n",
        "# Apply the lambda function which will return -1.0 for down, 1.0 for up and 0.0 for no change.\n",
        "close_groups = close_groups.transform(lambda x : np.sign(x.diff(days_out)))\n",
        "\n",
        "# add the data to the main dataframe.\n",
        "price_data_new['Prediction'] = close_groups\n",
        "#price_data_new = price_data_new.dropna()"
      ],
      "execution_count": 117,
      "outputs": []
    },
    {
      "cell_type": "code",
      "metadata": {
        "colab": {
          "base_uri": "https://localhost:8080/",
          "height": 195
        },
        "id": "PgVOX6QpHoXo",
        "outputId": "5d9dd6ba-03c1-42ca-94f0-34c66f180a5b"
      },
      "source": [
        "ppp =price_data_new.reset_index()\n",
        "ppp.tail(2)"
      ],
      "execution_count": 118,
      "outputs": [
        {
          "output_type": "execute_result",
          "data": {
            "text/html": [
              "<div>\n",
              "<style scoped>\n",
              "    .dataframe tbody tr th:only-of-type {\n",
              "        vertical-align: middle;\n",
              "    }\n",
              "\n",
              "    .dataframe tbody tr th {\n",
              "        vertical-align: top;\n",
              "    }\n",
              "\n",
              "    .dataframe thead th {\n",
              "        text-align: right;\n",
              "    }\n",
              "</style>\n",
              "<table border=\"1\" class=\"dataframe\">\n",
              "  <thead>\n",
              "    <tr style=\"text-align: right;\">\n",
              "      <th></th>\n",
              "      <th>Date</th>\n",
              "      <th>Close1</th>\n",
              "      <th>Close2</th>\n",
              "      <th>Close3</th>\n",
              "      <th>Close4</th>\n",
              "      <th>Close5</th>\n",
              "      <th>Close6</th>\n",
              "      <th>Close7</th>\n",
              "      <th>Close8</th>\n",
              "      <th>Close9</th>\n",
              "      <th>Close10</th>\n",
              "      <th>Close11</th>\n",
              "      <th>Close12</th>\n",
              "      <th>Close13</th>\n",
              "      <th>Close14</th>\n",
              "      <th>Close15</th>\n",
              "      <th>Close16</th>\n",
              "      <th>Close17</th>\n",
              "      <th>Close18</th>\n",
              "      <th>Close19</th>\n",
              "      <th>Close20</th>\n",
              "      <th>Close21</th>\n",
              "      <th>Close22</th>\n",
              "      <th>Close23</th>\n",
              "      <th>Close24</th>\n",
              "      <th>Close25</th>\n",
              "      <th>Close26</th>\n",
              "      <th>Close27</th>\n",
              "      <th>Close28</th>\n",
              "      <th>Close29</th>\n",
              "      <th>Close30</th>\n",
              "      <th>Close31</th>\n",
              "      <th>Close32</th>\n",
              "      <th>Close33</th>\n",
              "      <th>Close34</th>\n",
              "      <th>Close35</th>\n",
              "      <th>Close36</th>\n",
              "      <th>Close37</th>\n",
              "      <th>Close38</th>\n",
              "      <th>Close39</th>\n",
              "      <th>...</th>\n",
              "      <th>Close80</th>\n",
              "      <th>Close81</th>\n",
              "      <th>Close82</th>\n",
              "      <th>Close83</th>\n",
              "      <th>Close84</th>\n",
              "      <th>Close85</th>\n",
              "      <th>Close86</th>\n",
              "      <th>Close87</th>\n",
              "      <th>Close88</th>\n",
              "      <th>Close89</th>\n",
              "      <th>Close90</th>\n",
              "      <th>Close91</th>\n",
              "      <th>Close92</th>\n",
              "      <th>Close93</th>\n",
              "      <th>Close94</th>\n",
              "      <th>Close95</th>\n",
              "      <th>Close96</th>\n",
              "      <th>Close97</th>\n",
              "      <th>Close98</th>\n",
              "      <th>diff1</th>\n",
              "      <th>diff2</th>\n",
              "      <th>diff3</th>\n",
              "      <th>diff4</th>\n",
              "      <th>diff5</th>\n",
              "      <th>diff</th>\n",
              "      <th>ema10AD</th>\n",
              "      <th>ema15AD</th>\n",
              "      <th>ema20AD</th>\n",
              "      <th>ema25AD</th>\n",
              "      <th>smooth_ema20</th>\n",
              "      <th>smooth_ema25</th>\n",
              "      <th>ema30AD</th>\n",
              "      <th>ema35AD</th>\n",
              "      <th>ema40AD</th>\n",
              "      <th>ema50AD</th>\n",
              "      <th>ema100AD</th>\n",
              "      <th>smooth_ema50</th>\n",
              "      <th>smooth_ema100</th>\n",
              "      <th>Close</th>\n",
              "      <th>Prediction</th>\n",
              "    </tr>\n",
              "  </thead>\n",
              "  <tbody>\n",
              "    <tr>\n",
              "      <th>553</th>\n",
              "      <td>2021-10-29</td>\n",
              "      <td>149.050003</td>\n",
              "      <td>2175.199951</td>\n",
              "      <td>3397.750000</td>\n",
              "      <td>483.700012</td>\n",
              "      <td>1582.849976</td>\n",
              "      <td>4424.500000</td>\n",
              "      <td>646.750000</td>\n",
              "      <td>1667.750000</td>\n",
              "      <td>311.350006</td>\n",
              "      <td>19000.150391</td>\n",
              "      <td>693.000000</td>\n",
              "      <td>568.450012</td>\n",
              "      <td>14227.849609</td>\n",
              "      <td>1477.849976</td>\n",
              "      <td>3707.250000</td>\n",
              "      <td>2393.149902</td>\n",
              "      <td>1143.750000</td>\n",
              "      <td>2657.100098</td>\n",
              "      <td>2536.250000</td>\n",
              "      <td>417.700012</td>\n",
              "      <td>3675.750000</td>\n",
              "      <td>185.050003</td>\n",
              "      <td>2860.399902</td>\n",
              "      <td>1542.599976</td>\n",
              "      <td>685.349976</td>\n",
              "      <td>1481.550049</td>\n",
              "      <td>223.199997</td>\n",
              "      <td>127.949997</td>\n",
              "      <td>742.000000</td>\n",
              "      <td>4659.200195</td>\n",
              "      <td>680.450012</td>\n",
              "      <td>1315.949951</td>\n",
              "      <td>740.200012</td>\n",
              "      <td>20049.400391</td>\n",
              "      <td>2844.699951</td>\n",
              "      <td>1145.550049</td>\n",
              "      <td>4635.450195</td>\n",
              "      <td>956.650024</td>\n",
              "      <td>1658.550049</td>\n",
              "      <td>...</td>\n",
              "      <td>2333.399902</td>\n",
              "      <td>1140.199951</td>\n",
              "      <td>404.799988</td>\n",
              "      <td>17821.150391</td>\n",
              "      <td>42.099998</td>\n",
              "      <td>2484.800049</td>\n",
              "      <td>37636.050781</td>\n",
              "      <td>502.149994</td>\n",
              "      <td>223.449997</td>\n",
              "      <td>618.400024</td>\n",
              "      <td>795.000000</td>\n",
              "      <td>947.349976</td>\n",
              "      <td>689.349976</td>\n",
              "      <td>1767.400024</td>\n",
              "      <td>16952.300781</td>\n",
              "      <td>398.600006</td>\n",
              "      <td>1436.199951</td>\n",
              "      <td>2601.750000</td>\n",
              "      <td>143.149994</td>\n",
              "      <td>3</td>\n",
              "      <td>5</td>\n",
              "      <td>4</td>\n",
              "      <td>3</td>\n",
              "      <td>33</td>\n",
              "      <td>48</td>\n",
              "      <td>41.995268</td>\n",
              "      <td>43.445183</td>\n",
              "      <td>44.662028</td>\n",
              "      <td>45.621570</td>\n",
              "      <td>45.696321</td>\n",
              "      <td>47.797352</td>\n",
              "      <td>46.365516</td>\n",
              "      <td>46.941736</td>\n",
              "      <td>47.391682</td>\n",
              "      <td>48.033976</td>\n",
              "      <td>49.329006</td>\n",
              "      <td>48.678469</td>\n",
              "      <td>50.062380</td>\n",
              "      <td>17671.650391</td>\n",
              "      <td>-1.0</td>\n",
              "    </tr>\n",
              "    <tr>\n",
              "      <th>554</th>\n",
              "      <td>2021-11-01</td>\n",
              "      <td>153.149994</td>\n",
              "      <td>2179.300049</td>\n",
              "      <td>3476.399902</td>\n",
              "      <td>485.700012</td>\n",
              "      <td>1605.300049</td>\n",
              "      <td>4409.399902</td>\n",
              "      <td>655.450012</td>\n",
              "      <td>1700.050049</td>\n",
              "      <td>315.450012</td>\n",
              "      <td>18939.599609</td>\n",
              "      <td>704.400024</td>\n",
              "      <td>574.750000</td>\n",
              "      <td>14434.049805</td>\n",
              "      <td>1522.150024</td>\n",
              "      <td>3726.149902</td>\n",
              "      <td>2407.100098</td>\n",
              "      <td>1189.199951</td>\n",
              "      <td>2680.699951</td>\n",
              "      <td>2537.800049</td>\n",
              "      <td>421.649994</td>\n",
              "      <td>3678.149902</td>\n",
              "      <td>187.750000</td>\n",
              "      <td>2879.399902</td>\n",
              "      <td>NaN</td>\n",
              "      <td>712.500000</td>\n",
              "      <td>1517.750000</td>\n",
              "      <td>226.850006</td>\n",
              "      <td>131.649994</td>\n",
              "      <td>752.349976</td>\n",
              "      <td>4801.450195</td>\n",
              "      <td>689.799988</td>\n",
              "      <td>1364.900024</td>\n",
              "      <td>720.049988</td>\n",
              "      <td>19956.949219</td>\n",
              "      <td>2887.949951</td>\n",
              "      <td>1163.349976</td>\n",
              "      <td>4564.750000</td>\n",
              "      <td>974.200012</td>\n",
              "      <td>1672.099976</td>\n",
              "      <td>...</td>\n",
              "      <td>2374.300049</td>\n",
              "      <td>1229.099976</td>\n",
              "      <td>409.799988</td>\n",
              "      <td>17565.699219</td>\n",
              "      <td>42.099998</td>\n",
              "      <td>2560.000000</td>\n",
              "      <td>38575.300781</td>\n",
              "      <td>515.700012</td>\n",
              "      <td>230.350006</td>\n",
              "      <td>626.200012</td>\n",
              "      <td>811.799988</td>\n",
              "      <td>973.599976</td>\n",
              "      <td>697.599976</td>\n",
              "      <td>1760.550049</td>\n",
              "      <td>17563.199219</td>\n",
              "      <td>408.850006</td>\n",
              "      <td>1430.699951</td>\n",
              "      <td>2615.100098</td>\n",
              "      <td>145.649994</td>\n",
              "      <td>8</td>\n",
              "      <td>10</td>\n",
              "      <td>9</td>\n",
              "      <td>3</td>\n",
              "      <td>52</td>\n",
              "      <td>82</td>\n",
              "      <td>49.268855</td>\n",
              "      <td>48.264535</td>\n",
              "      <td>48.218025</td>\n",
              "      <td>48.419911</td>\n",
              "      <td>46.536889</td>\n",
              "      <td>47.910544</td>\n",
              "      <td>48.664515</td>\n",
              "      <td>48.889418</td>\n",
              "      <td>49.079893</td>\n",
              "      <td>49.365977</td>\n",
              "      <td>49.975957</td>\n",
              "      <td>48.907638</td>\n",
              "      <td>50.046667</td>\n",
              "      <td>17929.650391</td>\n",
              "      <td>-1.0</td>\n",
              "    </tr>\n",
              "  </tbody>\n",
              "</table>\n",
              "<p>2 rows × 120 columns</p>\n",
              "</div>"
            ],
            "text/plain": [
              "          Date      Close1  ...         Close  Prediction\n",
              "553 2021-10-29  149.050003  ...  17671.650391        -1.0\n",
              "554 2021-11-01  153.149994  ...  17929.650391        -1.0\n",
              "\n",
              "[2 rows x 120 columns]"
            ]
          },
          "metadata": {},
          "execution_count": 118
        }
      ]
    },
    {
      "cell_type": "code",
      "metadata": {
        "id": "J2ofTJMAM7gC"
      },
      "source": [
        "pred = pd.DataFrame(rand_frst_clf.predict(price_data_new[features]))\n",
        "pred = pd.concat([pred , ppp.Date,ppp.Close],axis=1)\n",
        "pred.columns=['pred','Date','Close']\n",
        "pred= pred.set_index('Date')"
      ],
      "execution_count": 119,
      "outputs": []
    },
    {
      "cell_type": "code",
      "metadata": {
        "id": "PJ8TbIVGM7dA",
        "colab": {
          "base_uri": "https://localhost:8080/",
          "height": 143
        },
        "outputId": "a8538205-0927-4db6-c545-d37f732af39b"
      },
      "source": [
        "nifty_n.tail(2)"
      ],
      "execution_count": 120,
      "outputs": [
        {
          "output_type": "execute_result",
          "data": {
            "text/html": [
              "<div>\n",
              "<style scoped>\n",
              "    .dataframe tbody tr th:only-of-type {\n",
              "        vertical-align: middle;\n",
              "    }\n",
              "\n",
              "    .dataframe tbody tr th {\n",
              "        vertical-align: top;\n",
              "    }\n",
              "\n",
              "    .dataframe thead th {\n",
              "        text-align: right;\n",
              "    }\n",
              "</style>\n",
              "<table border=\"1\" class=\"dataframe\">\n",
              "  <thead>\n",
              "    <tr style=\"text-align: right;\">\n",
              "      <th></th>\n",
              "      <th>Open</th>\n",
              "      <th>High</th>\n",
              "      <th>Low</th>\n",
              "      <th>Close</th>\n",
              "    </tr>\n",
              "    <tr>\n",
              "      <th>Date</th>\n",
              "      <th></th>\n",
              "      <th></th>\n",
              "      <th></th>\n",
              "      <th></th>\n",
              "    </tr>\n",
              "  </thead>\n",
              "  <tbody>\n",
              "    <tr>\n",
              "      <th>2021-10-29</th>\n",
              "      <td>17833.050781</td>\n",
              "      <td>17915.849609</td>\n",
              "      <td>17613.099609</td>\n",
              "      <td>17671.650391</td>\n",
              "    </tr>\n",
              "    <tr>\n",
              "      <th>2021-11-01</th>\n",
              "      <td>17783.150391</td>\n",
              "      <td>17954.099609</td>\n",
              "      <td>17697.099609</td>\n",
              "      <td>17929.650391</td>\n",
              "    </tr>\n",
              "  </tbody>\n",
              "</table>\n",
              "</div>"
            ],
            "text/plain": [
              "                    Open          High           Low         Close\n",
              "Date                                                              \n",
              "2021-10-29  17833.050781  17915.849609  17613.099609  17671.650391\n",
              "2021-11-01  17783.150391  17954.099609  17697.099609  17929.650391"
            ]
          },
          "metadata": {},
          "execution_count": 120
        }
      ]
    },
    {
      "cell_type": "code",
      "metadata": {
        "id": "nQQT7v6EUETT",
        "outputId": "c50563a2-04eb-4945-f525-fb8a98095641",
        "colab": {
          "base_uri": "https://localhost:8080/",
          "height": 143
        }
      },
      "source": [
        "pred.tail(2)"
      ],
      "execution_count": 125,
      "outputs": [
        {
          "output_type": "execute_result",
          "data": {
            "text/html": [
              "<div>\n",
              "<style scoped>\n",
              "    .dataframe tbody tr th:only-of-type {\n",
              "        vertical-align: middle;\n",
              "    }\n",
              "\n",
              "    .dataframe tbody tr th {\n",
              "        vertical-align: top;\n",
              "    }\n",
              "\n",
              "    .dataframe thead th {\n",
              "        text-align: right;\n",
              "    }\n",
              "</style>\n",
              "<table border=\"1\" class=\"dataframe\">\n",
              "  <thead>\n",
              "    <tr style=\"text-align: right;\">\n",
              "      <th></th>\n",
              "      <th>pred</th>\n",
              "      <th>Close</th>\n",
              "    </tr>\n",
              "    <tr>\n",
              "      <th>Date</th>\n",
              "      <th></th>\n",
              "      <th></th>\n",
              "    </tr>\n",
              "  </thead>\n",
              "  <tbody>\n",
              "    <tr>\n",
              "      <th>2021-10-29</th>\n",
              "      <td>-1.0</td>\n",
              "      <td>17671.650391</td>\n",
              "    </tr>\n",
              "    <tr>\n",
              "      <th>2021-11-01</th>\n",
              "      <td>1.0</td>\n",
              "      <td>17929.650391</td>\n",
              "    </tr>\n",
              "  </tbody>\n",
              "</table>\n",
              "</div>"
            ],
            "text/plain": [
              "            pred         Close\n",
              "Date                          \n",
              "2021-10-29  -1.0  17671.650391\n",
              "2021-11-01   1.0  17929.650391"
            ]
          },
          "metadata": {},
          "execution_count": 125
        }
      ]
    },
    {
      "cell_type": "code",
      "metadata": {
        "id": "BE6p0d_VUIYv"
      },
      "source": [
        "l=len(pred)"
      ],
      "execution_count": 127,
      "outputs": []
    },
    {
      "cell_type": "code",
      "metadata": {
        "colab": {
          "base_uri": "https://localhost:8080/",
          "height": 360
        },
        "id": "e4WM6N1bM7am",
        "outputId": "599f02fb-c4ea-4912-a7d0-84ca9ac7cd37"
      },
      "source": [
        "fig, ax = plt.subplots(2,1,figsize=(20,7))\n",
        "ax[0].plot(pred.index.values[-l:],pred['Close'].values[-l:],'*-',linewidth=1 )\n",
        "ax[1].plot(pred.index.values[-l:],pred.pred.values[-l:],'*-',linewidth=1 );"
      ],
      "execution_count": 128,
      "outputs": [
        {
          "output_type": "display_data",
          "data": {
            "image/png": "[encoded data removed]",
            "text/plain": [
              "<Figure size 1440x504 with 2 Axes>"
            ]
          },
          "metadata": {
            "needs_background": "light"
          }
        }
      ]
    },
    {
      "cell_type": "code",
      "metadata": {
        "id": "5s21gw5M26oe"
      },
      "source": [
        "pred=pred.reset_index()"
      ],
      "execution_count": 129,
      "outputs": []
    },
    {
      "cell_type": "code",
      "metadata": {
        "id": "x-dMDOc8NKY_"
      },
      "source": [
        "pred['Buy_ind'] = np.where((pred['pred']==1), 1, 0)\n",
        "pred['Sell_ind'] = np.where((pred['pred']==-1), 0, 1)\n",
        "\n",
        "pred['50_EMA'] = pred[\"Close\"].rolling(50).mean()"
      ],
      "execution_count": 131,
      "outputs": []
    },
    {
      "cell_type": "code",
      "metadata": {
        "id": "D1scf79INKVw",
        "colab": {
          "base_uri": "https://localhost:8080/",
          "height": 398
        },
        "outputId": "59aeae30-4d2e-445c-90a6-742e38225ec3"
      },
      "source": [
        "plt.figure(figsize=(20,7))\n",
        "## plotting the buy and sell signals on graph\n",
        "plt.plot(nifty_n.index.values[-l:],nifty_n['Close'].values[-l:],'-',linewidth=1)\n",
        "plt.scatter(pred.loc[pred['Buy_ind'] ==1 , 'Date'].values,pred.loc[pred['Buy_ind'] ==1, 'Close'].values, label='skitscat', color='green', s=25, marker=\"^\")\n",
        "plt.scatter(pred.loc[pred['Sell_ind'] ==0 , 'Date'].values,pred.loc[pred['Sell_ind'] ==0, 'Close'].values, label='skitscat', color='red', s=25, marker=\"v\")\n",
        "plt.plot(nifty_n.index.values[-l:],nifty_n['50_EMA'].values[-l:])\n",
        "## Adding labels\n",
        "plt.xlabel('Date')  \n",
        "plt.ylabel('Close Price')  \n",
        "plt.title('AD Nifty price with buy and sell signal ' )"
      ],
      "execution_count": 137,
      "outputs": [
        {
          "output_type": "execute_result",
          "data": {
            "text/plain": [
              "Text(0.5, 1.0, 'AD Nifty price with buy and sell signal ')"
            ]
          },
          "metadata": {},
          "execution_count": 137
        },
        {
          "output_type": "display_data",
          "data": {
            "image/png": "[encoded data removed]",
            "text/plain": [
              "<Figure size 1440x504 with 1 Axes>"
            ]
          },
          "metadata": {
            "needs_background": "light"
          }
        }
      ]
    },
    {
      "cell_type": "code",
      "metadata": {
        "id": "8Mv1PQalNKRX"
      },
      "source": [
        "pred[['Date','pred','Close']].to_csv('adv_dec.csv')"
      ],
      "execution_count": null,
      "outputs": []
    },
    {
      "cell_type": "code",
      "metadata": {
        "id": "rofU1KlaM7YP"
      },
      "source": [
        "pred.tail(1)"
      ],
      "execution_count": null,
      "outputs": []
    },
    {
      "cell_type": "code",
      "metadata": {
        "id": "jz5TEGUNHTSV"
      },
      "source": [
        "df['advances'] = df['diff']"
      ],
      "execution_count": null,
      "outputs": []
    },
    {
      "cell_type": "code",
      "metadata": {
        "id": "1G178C-HiQrp"
      },
      "source": [
        "df['declines']= len(nifty100)-df['advances']"
      ],
      "execution_count": null,
      "outputs": []
    },
    {
      "cell_type": "code",
      "metadata": {
        "id": "5sgc1EVoiShr"
      },
      "source": [
        "#mc-clellan oscillator \n",
        "# ratio adjusted advances=(advances - declines)/(advances+declines)\n",
        "df['advances_ratio'] = (df['advances'] - df['declines'])/(df['advances']+df['declines'])"
      ],
      "execution_count": null,
      "outputs": []
    },
    {
      "cell_type": "code",
      "metadata": {
        "id": "32Psg4uij2kv"
      },
      "source": [
        "df['ema19'] = df['advances_ratio'].ewm(span=19).mean()\n",
        "df['ema39'] = df['advances_ratio'].ewm(span=39).mean()"
      ],
      "execution_count": null,
      "outputs": []
    },
    {
      "cell_type": "code",
      "metadata": {
        "id": "A2wk_FyfiebK"
      },
      "source": [
        "'''\n",
        "McClellan Oscillator: 19-day EMA of RANA - 39-day EMA of RANA\n",
        "\n",
        "19-day EMA* = (Current Day RANA - Prior Day EMA) * .10 + Prior Day EMA)\n",
        "39-day EMA* = (Current Day RANA - Prior Day EMA) * .05 + Prior Day EMA)\n",
        "'''\n",
        "\n",
        "df['mcclellan19'] = (df['advances_ratio']-df['ema19'].shift(1))*0.1+df['ema19'].shift(1)"
      ],
      "execution_count": null,
      "outputs": []
    },
    {
      "cell_type": "code",
      "metadata": {
        "id": "ndiTbPqAkpTD"
      },
      "source": [
        "df['mcclellan39'] = (df['advances_ratio']-df['ema39'].shift(1))*0.05+df['ema39'].shift(1)"
      ],
      "execution_count": null,
      "outputs": []
    },
    {
      "cell_type": "code",
      "metadata": {
        "id": "fBdTHhEak-vD"
      },
      "source": [
        "df['mcclellan']=df['mcclellan19']-df['mcclellan39']"
      ],
      "execution_count": null,
      "outputs": []
    },
    {
      "cell_type": "code",
      "metadata": {
        "id": "Z_fAaxuclNeL"
      },
      "source": [
        "df['mc_summation']=df['mcclellan'].cumsum()"
      ],
      "execution_count": null,
      "outputs": []
    },
    {
      "cell_type": "code",
      "metadata": {
        "id": "zOIH6trfmwG4"
      },
      "source": [
        "'''\n",
        "MCSI=PDMCSI+CDMCO\n",
        "where:\n",
        "MCSI=McClellan Summation Index\n",
        "PDMCSI=Previous Day’s McClellan Summation Index,\n",
        "equal to the t = 0 (initial value) MCSI value for that\n",
        "specific period’s McClellan Oscillator\n",
        "CDMCO=Current Day’s McClellan Oscillator\n",
        "​'''\n",
        "df['msci']=df['mcclellan']+df['mc_summation'].shift(1)"
      ],
      "execution_count": null,
      "outputs": []
    },
    {
      "cell_type": "markdown",
      "metadata": {
        "id": "G3FSOmSFhn4f"
      },
      "source": [
        "# Mc-Clellan Oscillator For Nifty"
      ]
    },
    {
      "cell_type": "code",
      "metadata": {
        "id": "AGq_wU8PnNYQ"
      },
      "source": [
        "plt.rcParams[\"figure.figsize\"] = (10,10)\n",
        "fig,ax=plt.subplots(2,1,sharex=True)\n",
        "ax[0].plot(df.loc[:,:].index,df.loc[:,'msci'],label='Summation Index')\n",
        "ax[1].plot(nifty.loc[:,:].index,nifty.loc[:,'Close'],label='Nifty')\n",
        "ax[0].axhline(y=2.5,color='r')\n",
        "ax[0].axhline(y=1.75,color='g')\n",
        "plt.suptitle('Mc-Clellan Summation Index Vs Nifty')\n",
        "yloc = YearLocator()\n",
        "mloc = MonthLocator()\n",
        "ax[0].xaxis.set_major_locator(mloc)\n",
        "ax[1].xaxis.set_major_locator(mloc)\n",
        "ax[0].legend()\n",
        "ax[1].legend()\n",
        "ax[0].grid(linewidth =2)\n",
        "ax[1].grid(linewidth =2)\n",
        "\n",
        "\n",
        "plt.show()"
      ],
      "execution_count": null,
      "outputs": []
    }
  ]
}