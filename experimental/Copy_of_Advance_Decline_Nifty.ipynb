{
  "nbformat": 4,
  "nbformat_minor": 0,
  "metadata": {
    "colab": {
      "name": "Copy of Advance Decline Nifty.ipynb",
      "provenance": [],
      "collapsed_sections": [
        "G3FSOmSFhn4f"
      ],
      "authorship_tag": "ABX9TyPoYfi6TIp3bjBsjTV3blYQ",
      "include_colab_link": true
    },
    "kernelspec": {
      "name": "python3",
      "display_name": "Python 3"
    }
  },
  "cells": [
    {
      "cell_type": "markdown",
      "metadata": {
        "id": "view-in-github",
        "colab_type": "text"
      },
      "source": [
        "<a href=\"https://colab.research.google.com/github/anirbanghoshsbi/.github.io/blob/master/experimental/Copy_of_Advance_Decline_Nifty.ipynb\" target=\"_parent\"><img src=\"https://colab.research.google.com/assets/colab-badge.svg\" alt=\"Open In Colab\"/></a>"
      ]
    },
    {
      "cell_type": "code",
      "metadata": {
        "id": "GY481djqJP1G"
      },
      "source": [
        "import pandas as pd\n",
        "import numpy as np\n",
        "# Plotting graphs\n",
        "import matplotlib.pyplot as plt\n",
        "from matplotlib.dates import MonthLocator, YearLocator"
      ],
      "execution_count": 346,
      "outputs": []
    },
    {
      "cell_type": "code",
      "metadata": {
        "id": "RNv2yYWrH746"
      },
      "source": [
        "import datetime\n",
        "# Import libraries\n",
        "import os\n",
        "import sys\n",
        "import requests\n",
        "from sklearn.ensemble import RandomForestClassifier\n",
        "from sklearn.model_selection import train_test_split\n",
        "from sklearn.model_selection import RandomizedSearchCV\n",
        "from sklearn.metrics import plot_roc_curve\n",
        "from sklearn.metrics import accuracy_score, classification_report"
      ],
      "execution_count": 347,
      "outputs": []
    },
    {
      "cell_type": "code",
      "metadata": {
        "id": "7LPga9yQJZCM",
        "colab": {
          "base_uri": "https://localhost:8080/"
        },
        "outputId": "e29da650-33bc-47a4-bd9a-fdc1a8a1282e"
      },
      "source": [
        "!pip install yfinance --upgrade --no-cache-dir\n",
        "from pandas_datareader import data as pdr\n",
        "import yfinance as yf\n",
        "yf.pdr_override()"
      ],
      "execution_count": 348,
      "outputs": [
        {
          "output_type": "stream",
          "name": "stdout",
          "text": [
            "Requirement already satisfied: yfinance in /usr/local/lib/python3.7/dist-packages (0.1.64)\n",
            "Requirement already satisfied: numpy>=1.15 in /usr/local/lib/python3.7/dist-packages (from yfinance) (1.19.5)\n",
            "Requirement already satisfied: multitasking>=0.0.7 in /usr/local/lib/python3.7/dist-packages (from yfinance) (0.0.9)\n",
            "Requirement already satisfied: pandas>=0.24 in /usr/local/lib/python3.7/dist-packages (from yfinance) (1.1.5)\n",
            "Requirement already satisfied: lxml>=4.5.1 in /usr/local/lib/python3.7/dist-packages (from yfinance) (4.6.3)\n",
            "Requirement already satisfied: requests>=2.20 in /usr/local/lib/python3.7/dist-packages (from yfinance) (2.23.0)\n",
            "Requirement already satisfied: pytz>=2017.2 in /usr/local/lib/python3.7/dist-packages (from pandas>=0.24->yfinance) (2018.9)\n",
            "Requirement already satisfied: python-dateutil>=2.7.3 in /usr/local/lib/python3.7/dist-packages (from pandas>=0.24->yfinance) (2.8.2)\n",
            "Requirement already satisfied: six>=1.5 in /usr/local/lib/python3.7/dist-packages (from python-dateutil>=2.7.3->pandas>=0.24->yfinance) (1.15.0)\n",
            "Requirement already satisfied: idna<3,>=2.5 in /usr/local/lib/python3.7/dist-packages (from requests>=2.20->yfinance) (2.10)\n",
            "Requirement already satisfied: chardet<4,>=3.0.2 in /usr/local/lib/python3.7/dist-packages (from requests>=2.20->yfinance) (3.0.4)\n",
            "Requirement already satisfied: urllib3!=1.25.0,!=1.25.1,<1.26,>=1.21.1 in /usr/local/lib/python3.7/dist-packages (from requests>=2.20->yfinance) (1.24.3)\n",
            "Requirement already satisfied: certifi>=2017.4.17 in /usr/local/lib/python3.7/dist-packages (from requests>=2.20->yfinance) (2021.5.30)\n"
          ]
        }
      ]
    },
    {
      "cell_type": "code",
      "metadata": {
        "id": "2_vXVQfUJZEw"
      },
      "source": [
        "nifty10= ['HDFCBANK.NS' ,'RELIANCE.NS' ,'HDFC.NS' ,'INFY.NS' ,'ICICIBANK.NS' ,'TCS.NS' ,'ITC.NS' ,'KOTAKBANK.NS' ,'LT.NS' , 'AXISBANK.NS']"
      ],
      "execution_count": 349,
      "outputs": []
    },
    {
      "cell_type": "code",
      "metadata": {
        "id": "lh5E4jtiarg2"
      },
      "source": [
        "nifty20=['NESTLEIND.NS','MARUTI.NS','GAIL.NS','TATASTEEL.NS','TITAN.NS','BHARTIARTL.NS','BAJAJFINSV.NS','NTPC.NS','BRITANNIA.NS','COALINDIA.NS','HINDALCO.NS','INDUSINDBK.NS','ONGC.NS','ULTRACEMCO.NS','HEROMOTOCO.NS','TECHM.NS','BAJFINANCE.NS','ZEEL.NS','WIPRO.NS','BAJAJ-AUTO.NS','SHREECEM.NS','CIPLA.NS','GRASIM.NS','M&M.NS','SBIN.NS']"
      ],
      "execution_count": 350,
      "outputs": []
    },
    {
      "cell_type": "code",
      "metadata": {
        "id": "RxWcvwaxH-Ha"
      },
      "source": [
        "nifty100='ongc.ns,indigo.ns,tcs.ns,\\\n",
        "tatamotors.ns,hdfcbank.ns,ofss.ns,\\\n",
        "wipro.ns,infy.ns,hindzinc.ns,\\\n",
        "nestleind.ns,adaniports.ns,\\\n",
        "marico.ns,pghh.ns,\\\n",
        "techm.ns,BAJAJ-AUTO.NS,\\\n",
        "HINDUNILVR.NS,HCLTECH.NS,\\\n",
        "HEROMOTOCO.NS,\\\n",
        "RELIANCE.NS,\\\n",
        "BPCL.NS,BRITANNIA.NS,\\\n",
        "POWERGRID.NS,\\\n",
        "TORNTPHARM.NS,\\\n",
        "COLPAL.NS,\\\n",
        "BHARTIARTL.NS,ICICIGI.NS,ITC.NS,IOC.NS,\\\n",
        "AXISBANK.NS,DRREDDY.NS,HDFCLIFE.NS,\\\n",
        "TATASTEEL.NS,UPL.NS,ABBOTINDIA.NS,\\\n",
        "HDFC.NS,SBILIFE.NS,DMART.NS,\\\n",
        "GODREJCP.NS,\\\n",
        "UBL.NS,\\\n",
        "ASIANPAINT.NS,\\\n",
        "DABUR.NS,\\\n",
        "PIDILITIND.NS,\\\n",
        "TITAN.NS,\\\n",
        "COALINDIA.NS,\\\n",
        "GAIL.NS,\\\n",
        "PETRONET.NS,HDFCAMC.NS,HAVELLS.NS,\\\n",
        "ICICIBANK.NS,MARUTI.NS,BAJAJHLDNG.NS,NAUKRI.NS,\\\n",
        "HINDPETRO.NS,LT.NS,GRASIM.NS,\\\n",
        "CONCOR.NS,JSWSTEEL.NS,M&M.NS,\\\n",
        "ULTRACEMCO.NS,BIOCON.NS,IGL.NS,PFC.NS,\\\n",
        "HINDALCO.NS,CADILAHC.NS,KOTAKBANK.NS,\\\n",
        "BANDHANBNK.NS,NHPC.NS,\\\n",
        "DIVISLAB.NS,\\\n",
        "CIPLA.NS,\\\n",
        "BERGEPAINT.NS,\\\n",
        "ZEEL.NS,\\\n",
        "SHREECEM.NS,\\\n",
        "BAJFINANCE.NS,\\\n",
        "LUPIN.NS,\\\n",
        "SIEMENS.NS,BANKBARODA.NS,\\\n",
        "NTPC.NS,GICRE.NS,MUTHOOTFIN.NS,ACC.NS,INDUSINDBK.NS,\\\n",
        "AMBUJACEM.NS,BAJAJFINSV.NS,PNB.NS,EICHERMOT.NS,PAGEIND.NS,\\\n",
        "SBIN.NS,MOTHERSUMI.NS,ICICIPRULI.NS,SUNPHARMA.NS,MCDOWELL-N.NS,\\\n",
        "AUROPHARMA.NS,\\\n",
        "ADANITRANS.NS,BOSCHLTD.NS,\\\n",
        "DLF.NS,SRTRANSFIN.NS,PEL.NS,NMDC.NS'\n",
        "nifty100 = nifty100.split(',')\n",
        "# ,infratel.ns"
      ],
      "execution_count": 351,
      "outputs": []
    },
    {
      "cell_type": "code",
      "metadata": {
        "id": "DnWySwg4JZGt"
      },
      "source": [
        "START = \"2016-01-01\"  #yyyy-mm-dd\n",
        "END= '2019-10-01'\n",
        "lst= []"
      ],
      "execution_count": 352,
      "outputs": []
    },
    {
      "cell_type": "code",
      "metadata": {
        "id": "YqYNpHCZdPKU",
        "colab": {
          "base_uri": "https://localhost:8080/"
        },
        "outputId": "68bc09d5-0dc8-44fd-8bdb-a6908a3e378b"
      },
      "source": [
        "nifty= yf.download('^NSEI', start=START,end=END)"
      ],
      "execution_count": 353,
      "outputs": [
        {
          "output_type": "stream",
          "name": "stdout",
          "text": [
            "\r[*********************100%***********************]  1 of 1 completed\n"
          ]
        }
      ]
    },
    {
      "cell_type": "code",
      "metadata": {
        "id": "WYfbjNSdcxb4"
      },
      "source": [
        "#set.intersection(set(nifty20),set(nifty10))"
      ],
      "execution_count": 354,
      "outputs": []
    },
    {
      "cell_type": "code",
      "metadata": {
        "colab": {
          "base_uri": "https://localhost:8080/"
        },
        "id": "ZuUG5r97IHyd",
        "outputId": "5485c485-7934-4d3a-9f8e-587d6370f71b"
      },
      "source": [
        "for i in range(len(nifty100)):\n",
        "  dfi = yf.download(nifty100[i], start=START,end=END)\n",
        "  dfi = dfi.dropna()\n",
        "  dfi = dfi.iloc[:,:4]\n",
        "  lst.append(dfi)\n",
        "\n",
        "#df1.head(3)\n",
        "print('\\n All Completed \\n')"
      ],
      "execution_count": 355,
      "outputs": [
        {
          "output_type": "stream",
          "name": "stdout",
          "text": [
            "[*********************100%***********************]  1 of 1 completed\n",
            "[*********************100%***********************]  1 of 1 completed\n",
            "[*********************100%***********************]  1 of 1 completed\n",
            "[*********************100%***********************]  1 of 1 completed\n",
            "[*********************100%***********************]  1 of 1 completed\n",
            "[*********************100%***********************]  1 of 1 completed\n",
            "[*********************100%***********************]  1 of 1 completed\n",
            "[*********************100%***********************]  1 of 1 completed\n",
            "[*********************100%***********************]  1 of 1 completed\n",
            "[*********************100%***********************]  1 of 1 completed\n",
            "[*********************100%***********************]  1 of 1 completed\n",
            "[*********************100%***********************]  1 of 1 completed\n",
            "[*********************100%***********************]  1 of 1 completed\n",
            "[*********************100%***********************]  1 of 1 completed\n",
            "[*********************100%***********************]  1 of 1 completed\n",
            "[*********************100%***********************]  1 of 1 completed\n",
            "[*********************100%***********************]  1 of 1 completed\n",
            "[*********************100%***********************]  1 of 1 completed\n",
            "[*********************100%***********************]  1 of 1 completed\n",
            "[*********************100%***********************]  1 of 1 completed\n",
            "[*********************100%***********************]  1 of 1 completed\n",
            "[*********************100%***********************]  1 of 1 completed\n",
            "[*********************100%***********************]  1 of 1 completed\n",
            "[*********************100%***********************]  1 of 1 completed\n",
            "[*********************100%***********************]  1 of 1 completed\n",
            "[*********************100%***********************]  1 of 1 completed\n",
            "[*********************100%***********************]  1 of 1 completed\n",
            "[*********************100%***********************]  1 of 1 completed\n",
            "[*********************100%***********************]  1 of 1 completed\n",
            "[*********************100%***********************]  1 of 1 completed\n",
            "[*********************100%***********************]  1 of 1 completed\n",
            "[*********************100%***********************]  1 of 1 completed\n",
            "[*********************100%***********************]  1 of 1 completed\n",
            "[*********************100%***********************]  1 of 1 completed\n",
            "[*********************100%***********************]  1 of 1 completed\n",
            "[*********************100%***********************]  1 of 1 completed\n",
            "[*********************100%***********************]  1 of 1 completed\n",
            "[*********************100%***********************]  1 of 1 completed\n",
            "[*********************100%***********************]  1 of 1 completed\n",
            "[*********************100%***********************]  1 of 1 completed\n",
            "[*********************100%***********************]  1 of 1 completed\n",
            "[*********************100%***********************]  1 of 1 completed\n",
            "[*********************100%***********************]  1 of 1 completed\n",
            "[*********************100%***********************]  1 of 1 completed\n",
            "[*********************100%***********************]  1 of 1 completed\n",
            "[*********************100%***********************]  1 of 1 completed\n",
            "[*********************100%***********************]  1 of 1 completed\n",
            "[*********************100%***********************]  1 of 1 completed\n",
            "[*********************100%***********************]  1 of 1 completed\n",
            "[*********************100%***********************]  1 of 1 completed\n",
            "[*********************100%***********************]  1 of 1 completed\n",
            "[*********************100%***********************]  1 of 1 completed\n",
            "[*********************100%***********************]  1 of 1 completed\n",
            "[*********************100%***********************]  1 of 1 completed\n",
            "[*********************100%***********************]  1 of 1 completed\n",
            "[*********************100%***********************]  1 of 1 completed\n",
            "[*********************100%***********************]  1 of 1 completed\n",
            "[*********************100%***********************]  1 of 1 completed\n",
            "[*********************100%***********************]  1 of 1 completed\n",
            "[*********************100%***********************]  1 of 1 completed\n",
            "[*********************100%***********************]  1 of 1 completed\n",
            "[*********************100%***********************]  1 of 1 completed\n",
            "[*********************100%***********************]  1 of 1 completed\n",
            "[*********************100%***********************]  1 of 1 completed\n",
            "[*********************100%***********************]  1 of 1 completed\n",
            "[*********************100%***********************]  1 of 1 completed\n",
            "[*********************100%***********************]  1 of 1 completed\n",
            "[*********************100%***********************]  1 of 1 completed\n",
            "[*********************100%***********************]  1 of 1 completed\n",
            "[*********************100%***********************]  1 of 1 completed\n",
            "[*********************100%***********************]  1 of 1 completed\n",
            "[*********************100%***********************]  1 of 1 completed\n",
            "[*********************100%***********************]  1 of 1 completed\n",
            "[*********************100%***********************]  1 of 1 completed\n",
            "[*********************100%***********************]  1 of 1 completed\n",
            "[*********************100%***********************]  1 of 1 completed\n",
            "[*********************100%***********************]  1 of 1 completed\n",
            "[*********************100%***********************]  1 of 1 completed\n",
            "[*********************100%***********************]  1 of 1 completed\n",
            "[*********************100%***********************]  1 of 1 completed\n",
            "[*********************100%***********************]  1 of 1 completed\n",
            "[*********************100%***********************]  1 of 1 completed\n",
            "[*********************100%***********************]  1 of 1 completed\n",
            "[*********************100%***********************]  1 of 1 completed\n",
            "[*********************100%***********************]  1 of 1 completed\n",
            "[*********************100%***********************]  1 of 1 completed\n",
            "[*********************100%***********************]  1 of 1 completed\n",
            "[*********************100%***********************]  1 of 1 completed\n",
            "[*********************100%***********************]  1 of 1 completed\n",
            "[*********************100%***********************]  1 of 1 completed\n",
            "[*********************100%***********************]  1 of 1 completed\n",
            "[*********************100%***********************]  1 of 1 completed\n",
            "[*********************100%***********************]  1 of 1 completed\n",
            "[*********************100%***********************]  1 of 1 completed\n",
            "[*********************100%***********************]  1 of 1 completed\n",
            "[*********************100%***********************]  1 of 1 completed\n",
            "[*********************100%***********************]  1 of 1 completed\n",
            "[*********************100%***********************]  1 of 1 completed\n",
            "\n",
            " All Completed \n",
            "\n"
          ]
        }
      ]
    },
    {
      "cell_type": "code",
      "metadata": {
        "id": "0ArVE_S2NjVW"
      },
      "source": [
        "nlst=[]\n",
        "for i in range(len(nifty100)):\n",
        "  nlst.append(lst[i].Close)"
      ],
      "execution_count": 356,
      "outputs": []
    },
    {
      "cell_type": "code",
      "metadata": {
        "id": "EIXCK0wdNlYR"
      },
      "source": [
        "df = pd.DataFrame(nlst).T"
      ],
      "execution_count": 357,
      "outputs": []
    },
    {
      "cell_type": "code",
      "metadata": {
        "id": "rMfN5JoDNn7d"
      },
      "source": [
        "namelist =[]\n",
        "for i in range(1 , len(nifty100)+1):\n",
        "  namelist.append('Close'+str(i))"
      ],
      "execution_count": 358,
      "outputs": []
    },
    {
      "cell_type": "code",
      "metadata": {
        "id": "Pb3hDizaNn5T"
      },
      "source": [
        "df.columns=namelist\n"
      ],
      "execution_count": 359,
      "outputs": []
    },
    {
      "cell_type": "code",
      "metadata": {
        "id": "Gv42vFGDNn2j"
      },
      "source": [
        "data_copy=df.copy()\n"
      ],
      "execution_count": 360,
      "outputs": []
    },
    {
      "cell_type": "code",
      "metadata": {
        "id": "cIl2bCepNnxd"
      },
      "source": [
        ""
      ],
      "execution_count": 360,
      "outputs": []
    },
    {
      "cell_type": "code",
      "metadata": {
        "id": "sTIAGlDTIOkp"
      },
      "source": [
        "namelist =[]\n",
        "for i in range(1 , len(nifty100)+1):\n",
        "  namelist.append('Close'+str(i))"
      ],
      "execution_count": 361,
      "outputs": []
    },
    {
      "cell_type": "code",
      "metadata": {
        "id": "M39sw-8YIStK"
      },
      "source": [
        "df.columns=namelist"
      ],
      "execution_count": 362,
      "outputs": []
    },
    {
      "cell_type": "code",
      "metadata": {
        "id": "5QDlMdhHDKg9"
      },
      "source": [
        "data_copy=df.copy()"
      ],
      "execution_count": 363,
      "outputs": []
    },
    {
      "cell_type": "code",
      "metadata": {
        "id": "tjPVAXpwLHxi",
        "colab": {
          "base_uri": "https://localhost:8080/",
          "height": 365
        },
        "outputId": "3feefb9c-c03e-4213-84e4-503d5f343a1b"
      },
      "source": [
        "df.head()"
      ],
      "execution_count": 364,
      "outputs": [
        {
          "output_type": "execute_result",
          "data": {
            "text/html": [
              "<div>\n",
              "<style scoped>\n",
              "    .dataframe tbody tr th:only-of-type {\n",
              "        vertical-align: middle;\n",
              "    }\n",
              "\n",
              "    .dataframe tbody tr th {\n",
              "        vertical-align: top;\n",
              "    }\n",
              "\n",
              "    .dataframe thead th {\n",
              "        text-align: right;\n",
              "    }\n",
              "</style>\n",
              "<table border=\"1\" class=\"dataframe\">\n",
              "  <thead>\n",
              "    <tr style=\"text-align: right;\">\n",
              "      <th></th>\n",
              "      <th>Close1</th>\n",
              "      <th>Close2</th>\n",
              "      <th>Close3</th>\n",
              "      <th>Close4</th>\n",
              "      <th>Close5</th>\n",
              "      <th>Close6</th>\n",
              "      <th>Close7</th>\n",
              "      <th>Close8</th>\n",
              "      <th>Close9</th>\n",
              "      <th>Close10</th>\n",
              "      <th>Close11</th>\n",
              "      <th>Close12</th>\n",
              "      <th>Close13</th>\n",
              "      <th>Close14</th>\n",
              "      <th>Close15</th>\n",
              "      <th>Close16</th>\n",
              "      <th>Close17</th>\n",
              "      <th>Close18</th>\n",
              "      <th>Close19</th>\n",
              "      <th>Close20</th>\n",
              "      <th>Close21</th>\n",
              "      <th>Close22</th>\n",
              "      <th>Close23</th>\n",
              "      <th>Close24</th>\n",
              "      <th>Close25</th>\n",
              "      <th>Close26</th>\n",
              "      <th>Close27</th>\n",
              "      <th>Close28</th>\n",
              "      <th>Close29</th>\n",
              "      <th>Close30</th>\n",
              "      <th>Close31</th>\n",
              "      <th>Close32</th>\n",
              "      <th>Close33</th>\n",
              "      <th>Close34</th>\n",
              "      <th>Close35</th>\n",
              "      <th>Close36</th>\n",
              "      <th>Close37</th>\n",
              "      <th>Close38</th>\n",
              "      <th>Close39</th>\n",
              "      <th>Close40</th>\n",
              "      <th>...</th>\n",
              "      <th>Close59</th>\n",
              "      <th>Close60</th>\n",
              "      <th>Close61</th>\n",
              "      <th>Close62</th>\n",
              "      <th>Close63</th>\n",
              "      <th>Close64</th>\n",
              "      <th>Close65</th>\n",
              "      <th>Close66</th>\n",
              "      <th>Close67</th>\n",
              "      <th>Close68</th>\n",
              "      <th>Close69</th>\n",
              "      <th>Close70</th>\n",
              "      <th>Close71</th>\n",
              "      <th>Close72</th>\n",
              "      <th>Close73</th>\n",
              "      <th>Close74</th>\n",
              "      <th>Close75</th>\n",
              "      <th>Close76</th>\n",
              "      <th>Close77</th>\n",
              "      <th>Close78</th>\n",
              "      <th>Close79</th>\n",
              "      <th>Close80</th>\n",
              "      <th>Close81</th>\n",
              "      <th>Close82</th>\n",
              "      <th>Close83</th>\n",
              "      <th>Close84</th>\n",
              "      <th>Close85</th>\n",
              "      <th>Close86</th>\n",
              "      <th>Close87</th>\n",
              "      <th>Close88</th>\n",
              "      <th>Close89</th>\n",
              "      <th>Close90</th>\n",
              "      <th>Close91</th>\n",
              "      <th>Close92</th>\n",
              "      <th>Close93</th>\n",
              "      <th>Close94</th>\n",
              "      <th>Close95</th>\n",
              "      <th>Close96</th>\n",
              "      <th>Close97</th>\n",
              "      <th>Close98</th>\n",
              "    </tr>\n",
              "    <tr>\n",
              "      <th>Date</th>\n",
              "      <th></th>\n",
              "      <th></th>\n",
              "      <th></th>\n",
              "      <th></th>\n",
              "      <th></th>\n",
              "      <th></th>\n",
              "      <th></th>\n",
              "      <th></th>\n",
              "      <th></th>\n",
              "      <th></th>\n",
              "      <th></th>\n",
              "      <th></th>\n",
              "      <th></th>\n",
              "      <th></th>\n",
              "      <th></th>\n",
              "      <th></th>\n",
              "      <th></th>\n",
              "      <th></th>\n",
              "      <th></th>\n",
              "      <th></th>\n",
              "      <th></th>\n",
              "      <th></th>\n",
              "      <th></th>\n",
              "      <th></th>\n",
              "      <th></th>\n",
              "      <th></th>\n",
              "      <th></th>\n",
              "      <th></th>\n",
              "      <th></th>\n",
              "      <th></th>\n",
              "      <th></th>\n",
              "      <th></th>\n",
              "      <th></th>\n",
              "      <th></th>\n",
              "      <th></th>\n",
              "      <th></th>\n",
              "      <th></th>\n",
              "      <th></th>\n",
              "      <th></th>\n",
              "      <th></th>\n",
              "      <th></th>\n",
              "      <th></th>\n",
              "      <th></th>\n",
              "      <th></th>\n",
              "      <th></th>\n",
              "      <th></th>\n",
              "      <th></th>\n",
              "      <th></th>\n",
              "      <th></th>\n",
              "      <th></th>\n",
              "      <th></th>\n",
              "      <th></th>\n",
              "      <th></th>\n",
              "      <th></th>\n",
              "      <th></th>\n",
              "      <th></th>\n",
              "      <th></th>\n",
              "      <th></th>\n",
              "      <th></th>\n",
              "      <th></th>\n",
              "      <th></th>\n",
              "      <th></th>\n",
              "      <th></th>\n",
              "      <th></th>\n",
              "      <th></th>\n",
              "      <th></th>\n",
              "      <th></th>\n",
              "      <th></th>\n",
              "      <th></th>\n",
              "      <th></th>\n",
              "      <th></th>\n",
              "      <th></th>\n",
              "      <th></th>\n",
              "      <th></th>\n",
              "      <th></th>\n",
              "      <th></th>\n",
              "      <th></th>\n",
              "      <th></th>\n",
              "      <th></th>\n",
              "      <th></th>\n",
              "      <th></th>\n",
              "    </tr>\n",
              "  </thead>\n",
              "  <tbody>\n",
              "    <tr>\n",
              "      <th>2016-01-01</th>\n",
              "      <td>161.666672</td>\n",
              "      <td>1343.449951</td>\n",
              "      <td>1208.199951</td>\n",
              "      <td>401.899994</td>\n",
              "      <td>544.375000</td>\n",
              "      <td>3801.750000</td>\n",
              "      <td>208.668808</td>\n",
              "      <td>552.625000</td>\n",
              "      <td>149.149994</td>\n",
              "      <td>5785.149902</td>\n",
              "      <td>267.549988</td>\n",
              "      <td>227.149994</td>\n",
              "      <td>5603.250000</td>\n",
              "      <td>520.049988</td>\n",
              "      <td>2518.000000</td>\n",
              "      <td>856.549988</td>\n",
              "      <td>422.924988</td>\n",
              "      <td>2686.050049</td>\n",
              "      <td>502.907928</td>\n",
              "      <td>298.683319</td>\n",
              "      <td>1493.199951</td>\n",
              "      <td>105.750023</td>\n",
              "      <td>1478.900024</td>\n",
              "      <td>976.750000</td>\n",
              "      <td>312.639740</td>\n",
              "      <td>NaN</td>\n",
              "      <td>218.333328</td>\n",
              "      <td>108.312500</td>\n",
              "      <td>449.899994</td>\n",
              "      <td>3108.600098</td>\n",
              "      <td>NaN</td>\n",
              "      <td>245.234406</td>\n",
              "      <td>293.566681</td>\n",
              "      <td>5895.950195</td>\n",
              "      <td>1258.449951</td>\n",
              "      <td>NaN</td>\n",
              "      <td>NaN</td>\n",
              "      <td>447.350006</td>\n",
              "      <td>943.700012</td>\n",
              "      <td>878.750000</td>\n",
              "      <td>...</td>\n",
              "      <td>2824.000000</td>\n",
              "      <td>86.866669</td>\n",
              "      <td>105.389999</td>\n",
              "      <td>101.250000</td>\n",
              "      <td>84.900002</td>\n",
              "      <td>332.700012</td>\n",
              "      <td>727.250000</td>\n",
              "      <td>NaN</td>\n",
              "      <td>21.200001</td>\n",
              "      <td>1162.500000</td>\n",
              "      <td>655.349976</td>\n",
              "      <td>186.571426</td>\n",
              "      <td>432.899994</td>\n",
              "      <td>11383.549805</td>\n",
              "      <td>609.585022</td>\n",
              "      <td>1845.250000</td>\n",
              "      <td>1202.650024</td>\n",
              "      <td>159.050003</td>\n",
              "      <td>120.416664</td>\n",
              "      <td>NaN</td>\n",
              "      <td>178.750000</td>\n",
              "      <td>1373.650024</td>\n",
              "      <td>963.849976</td>\n",
              "      <td>205.649994</td>\n",
              "      <td>1983.800049</td>\n",
              "      <td>117.599998</td>\n",
              "      <td>1737.084961</td>\n",
              "      <td>13510.349609</td>\n",
              "      <td>227.800003</td>\n",
              "      <td>132.000000</td>\n",
              "      <td>NaN</td>\n",
              "      <td>815.549988</td>\n",
              "      <td>602.099976</td>\n",
              "      <td>881.400024</td>\n",
              "      <td>41.049999</td>\n",
              "      <td>19199.099609</td>\n",
              "      <td>121.550003</td>\n",
              "      <td>865.700012</td>\n",
              "      <td>980.159790</td>\n",
              "      <td>91.250000</td>\n",
              "    </tr>\n",
              "    <tr>\n",
              "      <th>2016-01-04</th>\n",
              "      <td>158.699997</td>\n",
              "      <td>1262.099976</td>\n",
              "      <td>1184.800049</td>\n",
              "      <td>377.049988</td>\n",
              "      <td>535.250000</td>\n",
              "      <td>3746.399902</td>\n",
              "      <td>209.137558</td>\n",
              "      <td>539.450012</td>\n",
              "      <td>145.050003</td>\n",
              "      <td>5669.799805</td>\n",
              "      <td>257.950012</td>\n",
              "      <td>225.300003</td>\n",
              "      <td>5600.000000</td>\n",
              "      <td>516.400024</td>\n",
              "      <td>2483.350098</td>\n",
              "      <td>859.000000</td>\n",
              "      <td>422.975006</td>\n",
              "      <td>2637.800049</td>\n",
              "      <td>492.977081</td>\n",
              "      <td>297.149994</td>\n",
              "      <td>1486.300049</td>\n",
              "      <td>105.712524</td>\n",
              "      <td>1448.349976</td>\n",
              "      <td>974.299988</td>\n",
              "      <td>300.060699</td>\n",
              "      <td>NaN</td>\n",
              "      <td>216.733337</td>\n",
              "      <td>106.612503</td>\n",
              "      <td>438.399994</td>\n",
              "      <td>3056.000000</td>\n",
              "      <td>NaN</td>\n",
              "      <td>244.758041</td>\n",
              "      <td>289.233337</td>\n",
              "      <td>5930.899902</td>\n",
              "      <td>1216.699951</td>\n",
              "      <td>NaN</td>\n",
              "      <td>NaN</td>\n",
              "      <td>443.250000</td>\n",
              "      <td>939.950012</td>\n",
              "      <td>880.799988</td>\n",
              "      <td>...</td>\n",
              "      <td>2749.149902</td>\n",
              "      <td>89.033333</td>\n",
              "      <td>103.849998</td>\n",
              "      <td>98.175003</td>\n",
              "      <td>80.750000</td>\n",
              "      <td>320.799988</td>\n",
              "      <td>705.299988</td>\n",
              "      <td>NaN</td>\n",
              "      <td>21.500000</td>\n",
              "      <td>1149.699951</td>\n",
              "      <td>645.650024</td>\n",
              "      <td>188.178574</td>\n",
              "      <td>421.950012</td>\n",
              "      <td>11059.299805</td>\n",
              "      <td>605.244995</td>\n",
              "      <td>1795.150024</td>\n",
              "      <td>1190.250000</td>\n",
              "      <td>151.199997</td>\n",
              "      <td>119.416664</td>\n",
              "      <td>NaN</td>\n",
              "      <td>178.350006</td>\n",
              "      <td>1344.000000</td>\n",
              "      <td>934.200012</td>\n",
              "      <td>202.149994</td>\n",
              "      <td>1959.500000</td>\n",
              "      <td>112.800003</td>\n",
              "      <td>1749.530029</td>\n",
              "      <td>13558.049805</td>\n",
              "      <td>220.699997</td>\n",
              "      <td>127.088890</td>\n",
              "      <td>NaN</td>\n",
              "      <td>799.099976</td>\n",
              "      <td>595.489990</td>\n",
              "      <td>844.299988</td>\n",
              "      <td>38.650002</td>\n",
              "      <td>18815.650391</td>\n",
              "      <td>118.400002</td>\n",
              "      <td>840.900024</td>\n",
              "      <td>959.974304</td>\n",
              "      <td>89.949997</td>\n",
              "    </tr>\n",
              "    <tr>\n",
              "      <th>2016-01-05</th>\n",
              "      <td>161.233337</td>\n",
              "      <td>1252.949951</td>\n",
              "      <td>1174.474976</td>\n",
              "      <td>374.450012</td>\n",
              "      <td>531.200012</td>\n",
              "      <td>3739.449951</td>\n",
              "      <td>208.837555</td>\n",
              "      <td>537.025024</td>\n",
              "      <td>151.250000</td>\n",
              "      <td>5662.399902</td>\n",
              "      <td>255.699997</td>\n",
              "      <td>229.649994</td>\n",
              "      <td>5523.649902</td>\n",
              "      <td>521.900024</td>\n",
              "      <td>2502.350098</td>\n",
              "      <td>847.950012</td>\n",
              "      <td>421.399994</td>\n",
              "      <td>2616.850098</td>\n",
              "      <td>497.855835</td>\n",
              "      <td>300.883331</td>\n",
              "      <td>1483.349976</td>\n",
              "      <td>104.362526</td>\n",
              "      <td>1435.949951</td>\n",
              "      <td>974.250000</td>\n",
              "      <td>296.984802</td>\n",
              "      <td>NaN</td>\n",
              "      <td>216.566666</td>\n",
              "      <td>110.662498</td>\n",
              "      <td>436.450012</td>\n",
              "      <td>3070.649902</td>\n",
              "      <td>NaN</td>\n",
              "      <td>261.335663</td>\n",
              "      <td>290.200012</td>\n",
              "      <td>5878.100098</td>\n",
              "      <td>1209.400024</td>\n",
              "      <td>NaN</td>\n",
              "      <td>NaN</td>\n",
              "      <td>438.633331</td>\n",
              "      <td>950.099976</td>\n",
              "      <td>900.650024</td>\n",
              "      <td>...</td>\n",
              "      <td>2733.050049</td>\n",
              "      <td>89.025002</td>\n",
              "      <td>111.290001</td>\n",
              "      <td>100.849998</td>\n",
              "      <td>82.599998</td>\n",
              "      <td>313.600006</td>\n",
              "      <td>707.750000</td>\n",
              "      <td>NaN</td>\n",
              "      <td>22.000000</td>\n",
              "      <td>1147.500000</td>\n",
              "      <td>640.849976</td>\n",
              "      <td>183.892853</td>\n",
              "      <td>425.049988</td>\n",
              "      <td>11124.299805</td>\n",
              "      <td>599.784973</td>\n",
              "      <td>1783.050049</td>\n",
              "      <td>1195.800049</td>\n",
              "      <td>148.100006</td>\n",
              "      <td>118.541664</td>\n",
              "      <td>NaN</td>\n",
              "      <td>177.449997</td>\n",
              "      <td>1341.300049</td>\n",
              "      <td>935.250000</td>\n",
              "      <td>204.000000</td>\n",
              "      <td>1946.000000</td>\n",
              "      <td>110.599998</td>\n",
              "      <td>1715.989990</td>\n",
              "      <td>13828.549805</td>\n",
              "      <td>217.750000</td>\n",
              "      <td>128.688889</td>\n",
              "      <td>NaN</td>\n",
              "      <td>800.500000</td>\n",
              "      <td>589.000000</td>\n",
              "      <td>863.500000</td>\n",
              "      <td>38.799999</td>\n",
              "      <td>18632.699219</td>\n",
              "      <td>118.400002</td>\n",
              "      <td>864.900024</td>\n",
              "      <td>956.626221</td>\n",
              "      <td>93.250000</td>\n",
              "    </tr>\n",
              "    <tr>\n",
              "      <th>2016-01-06</th>\n",
              "      <td>158.366669</td>\n",
              "      <td>1235.400024</td>\n",
              "      <td>1190.800049</td>\n",
              "      <td>365.899994</td>\n",
              "      <td>533.549988</td>\n",
              "      <td>3737.250000</td>\n",
              "      <td>208.162552</td>\n",
              "      <td>534.674988</td>\n",
              "      <td>145.699997</td>\n",
              "      <td>5719.500000</td>\n",
              "      <td>251.800003</td>\n",
              "      <td>226.850006</td>\n",
              "      <td>5640.149902</td>\n",
              "      <td>525.099976</td>\n",
              "      <td>2485.500000</td>\n",
              "      <td>843.049988</td>\n",
              "      <td>420.700012</td>\n",
              "      <td>2578.199951</td>\n",
              "      <td>511.253815</td>\n",
              "      <td>304.100006</td>\n",
              "      <td>1500.849976</td>\n",
              "      <td>104.625023</td>\n",
              "      <td>1442.849976</td>\n",
              "      <td>949.450012</td>\n",
              "      <td>295.837067</td>\n",
              "      <td>NaN</td>\n",
              "      <td>210.066666</td>\n",
              "      <td>112.712502</td>\n",
              "      <td>430.700012</td>\n",
              "      <td>3046.250000</td>\n",
              "      <td>NaN</td>\n",
              "      <td>256.047974</td>\n",
              "      <td>295.566681</td>\n",
              "      <td>5783.600098</td>\n",
              "      <td>1209.300049</td>\n",
              "      <td>NaN</td>\n",
              "      <td>NaN</td>\n",
              "      <td>435.383331</td>\n",
              "      <td>941.849976</td>\n",
              "      <td>886.400024</td>\n",
              "      <td>...</td>\n",
              "      <td>2735.300049</td>\n",
              "      <td>87.291664</td>\n",
              "      <td>113.540001</td>\n",
              "      <td>100.349998</td>\n",
              "      <td>80.550003</td>\n",
              "      <td>320.750000</td>\n",
              "      <td>703.599976</td>\n",
              "      <td>NaN</td>\n",
              "      <td>21.850000</td>\n",
              "      <td>1137.199951</td>\n",
              "      <td>652.099976</td>\n",
              "      <td>181.178574</td>\n",
              "      <td>423.149994</td>\n",
              "      <td>11452.349609</td>\n",
              "      <td>610.724976</td>\n",
              "      <td>1753.199951</td>\n",
              "      <td>1205.300049</td>\n",
              "      <td>148.699997</td>\n",
              "      <td>117.875000</td>\n",
              "      <td>NaN</td>\n",
              "      <td>177.199997</td>\n",
              "      <td>1320.349976</td>\n",
              "      <td>943.950012</td>\n",
              "      <td>203.050003</td>\n",
              "      <td>1938.550049</td>\n",
              "      <td>109.599998</td>\n",
              "      <td>1752.505005</td>\n",
              "      <td>13670.150391</td>\n",
              "      <td>216.850006</td>\n",
              "      <td>124.933334</td>\n",
              "      <td>NaN</td>\n",
              "      <td>791.950012</td>\n",
              "      <td>579.729980</td>\n",
              "      <td>867.200012</td>\n",
              "      <td>38.349998</td>\n",
              "      <td>18721.750000</td>\n",
              "      <td>114.750000</td>\n",
              "      <td>872.599976</td>\n",
              "      <td>961.624084</td>\n",
              "      <td>90.599998</td>\n",
              "    </tr>\n",
              "    <tr>\n",
              "      <th>2016-01-07</th>\n",
              "      <td>151.066666</td>\n",
              "      <td>1250.550049</td>\n",
              "      <td>1185.625000</td>\n",
              "      <td>343.549988</td>\n",
              "      <td>528.099976</td>\n",
              "      <td>3687.149902</td>\n",
              "      <td>206.193802</td>\n",
              "      <td>525.400024</td>\n",
              "      <td>139.100006</td>\n",
              "      <td>5638.950195</td>\n",
              "      <td>245.000000</td>\n",
              "      <td>223.699997</td>\n",
              "      <td>5613.200195</td>\n",
              "      <td>510.799988</td>\n",
              "      <td>2419.250000</td>\n",
              "      <td>820.250000</td>\n",
              "      <td>412.524994</td>\n",
              "      <td>2520.100098</td>\n",
              "      <td>501.867798</td>\n",
              "      <td>294.750000</td>\n",
              "      <td>1473.275024</td>\n",
              "      <td>103.575027</td>\n",
              "      <td>1425.000000</td>\n",
              "      <td>915.549988</td>\n",
              "      <td>295.974792</td>\n",
              "      <td>NaN</td>\n",
              "      <td>206.399994</td>\n",
              "      <td>110.387497</td>\n",
              "      <td>409.250000</td>\n",
              "      <td>2991.800049</td>\n",
              "      <td>NaN</td>\n",
              "      <td>238.088882</td>\n",
              "      <td>278.266663</td>\n",
              "      <td>5656.149902</td>\n",
              "      <td>1179.449951</td>\n",
              "      <td>NaN</td>\n",
              "      <td>NaN</td>\n",
              "      <td>420.299988</td>\n",
              "      <td>924.750000</td>\n",
              "      <td>872.349976</td>\n",
              "      <td>...</td>\n",
              "      <td>2667.699951</td>\n",
              "      <td>85.216667</td>\n",
              "      <td>112.050003</td>\n",
              "      <td>94.199997</td>\n",
              "      <td>76.650002</td>\n",
              "      <td>306.850006</td>\n",
              "      <td>691.650024</td>\n",
              "      <td>NaN</td>\n",
              "      <td>20.600000</td>\n",
              "      <td>1126.949951</td>\n",
              "      <td>637.450012</td>\n",
              "      <td>180.750000</td>\n",
              "      <td>415.399994</td>\n",
              "      <td>10978.950195</td>\n",
              "      <td>610.630005</td>\n",
              "      <td>1717.500000</td>\n",
              "      <td>1132.050049</td>\n",
              "      <td>139.500000</td>\n",
              "      <td>114.875000</td>\n",
              "      <td>NaN</td>\n",
              "      <td>178.000000</td>\n",
              "      <td>1300.500000</td>\n",
              "      <td>925.500000</td>\n",
              "      <td>197.600006</td>\n",
              "      <td>1927.050049</td>\n",
              "      <td>105.050003</td>\n",
              "      <td>1703.564941</td>\n",
              "      <td>13193.500000</td>\n",
              "      <td>209.550003</td>\n",
              "      <td>118.955559</td>\n",
              "      <td>NaN</td>\n",
              "      <td>783.799988</td>\n",
              "      <td>556.460022</td>\n",
              "      <td>841.500000</td>\n",
              "      <td>37.150002</td>\n",
              "      <td>18306.949219</td>\n",
              "      <td>106.800003</td>\n",
              "      <td>821.549988</td>\n",
              "      <td>939.012451</td>\n",
              "      <td>88.050003</td>\n",
              "    </tr>\n",
              "  </tbody>\n",
              "</table>\n",
              "<p>5 rows × 98 columns</p>\n",
              "</div>"
            ],
            "text/plain": [
              "                Close1       Close2  ...     Close97    Close98\n",
              "Date                                 ...                       \n",
              "2016-01-01  161.666672  1343.449951  ...  980.159790  91.250000\n",
              "2016-01-04  158.699997  1262.099976  ...  959.974304  89.949997\n",
              "2016-01-05  161.233337  1252.949951  ...  956.626221  93.250000\n",
              "2016-01-06  158.366669  1235.400024  ...  961.624084  90.599998\n",
              "2016-01-07  151.066666  1250.550049  ...  939.012451  88.050003\n",
              "\n",
              "[5 rows x 98 columns]"
            ]
          },
          "metadata": {},
          "execution_count": 364
        }
      ]
    },
    {
      "cell_type": "code",
      "metadata": {
        "id": "cfbmcWkIMkNk"
      },
      "source": [
        "df['diff1'] = (df['Close1'].diff() > 0 ).astype(int) + (df['Close2'].diff() >0).astype(int)+ (df['Close3'].diff()>0).astype(int)+(df['Close4'].diff()>0).astype(int) + (df['Close5'].diff()>0).astype(int)+ (df['Close6'].diff()>0).astype(int)+ (df['Close7'].diff()>0).astype(int)+(df['Close8'].diff()>0).astype(int)+ (df['Close9'].diff()>0).astype(int)+ (df['Close10'].diff()>0).astype(int)"
      ],
      "execution_count": 365,
      "outputs": []
    },
    {
      "cell_type": "code",
      "metadata": {
        "id": "KfQETiwOiC97"
      },
      "source": [
        "df['diff2'] = (df['Close11'].diff() > 0 ).astype(int) + (df['Close12'].diff() >0).astype(int)+ (df['Close13'].diff()>0).astype(int)+(df['Close14'].diff()>0).astype(int) + (df['Close15'].diff()>0).astype(int)+ (df['Close16'].diff()>0).astype(int)+ (df['Close17'].diff()>0).astype(int)+(df['Close18'].diff()>0).astype(int)+ (df['Close19'].diff()>0).astype(int)+ (df['Close20'].diff()>0).astype(int)"
      ],
      "execution_count": 366,
      "outputs": []
    },
    {
      "cell_type": "code",
      "metadata": {
        "id": "ZzdDwYaqiSrp"
      },
      "source": [
        "df['diff3'] = (df['Close21'].diff() > 0 ).astype(int) + (df['Close22'].diff() >0).astype(int)+ (df['Close23'].diff()>0).astype(int)+(df['Close24'].diff()>0).astype(int) + (df['Close25'].diff()>0).astype(int)+ (df['Close26'].diff()>0).astype(int)+ (df['Close27'].diff()>0).astype(int)+(df['Close28'].diff()>0).astype(int)+ (df['Close29'].diff()>0).astype(int)+ (df['Close30'].diff()>0).astype(int)"
      ],
      "execution_count": 367,
      "outputs": []
    },
    {
      "cell_type": "code",
      "metadata": {
        "id": "hgPyfE1WifIx"
      },
      "source": [
        "df['diff4'] = (df['Close31'].diff() > 0 ).astype(int) + (df['Close32'].diff() >0).astype(int)+ (df['Close33'].diff()>0).astype(int)+(df['Close34'].diff()>0).astype(int) + (df['Close35'].diff()>0).astype(int)"
      ],
      "execution_count": 368,
      "outputs": []
    },
    {
      "cell_type": "code",
      "metadata": {
        "id": "GZHNkRMfNJ8P"
      },
      "source": [
        "df['diff5'] = (df['Close36'].diff() > 0 ).astype(int) + (df['Close37'].diff() >0).astype(int)+ (df['Close38'].diff()>0).astype(int)+(df['Close39'].diff()>0).astype(int) + (df['Close40'].diff()>0).astype(int)+\\\n",
        "              (df['Close41'].diff() > 0 ).astype(int) + (df['Close42'].diff() >0).astype(int)+ (df['Close43'].diff()>0).astype(int)+(df['Close44'].diff()>0).astype(int) + (df['Close45'].diff()>0).astype(int)+\\\n",
        "              (df['Close46'].diff() > 0 ).astype(int) + (df['Close47'].diff() >0).astype(int)+ (df['Close48'].diff()>0).astype(int)+(df['Close49'].diff()>0).astype(int) + (df['Close50'].diff()>0).astype(int)+\\\n",
        "              (df['Close51'].diff() > 0 ).astype(int) + (df['Close52'].diff() >0).astype(int)+ (df['Close53'].diff()>0).astype(int)+(df['Close54'].diff()>0).astype(int) + (df['Close55'].diff()>0).astype(int)+\\\n",
        "              (df['Close56'].diff() > 0 ).astype(int) + (df['Close57'].diff() >0).astype(int)+ (df['Close58'].diff()>0).astype(int)+(df['Close59'].diff()>0).astype(int) + (df['Close60'].diff()>0).astype(int)+\\\n",
        "              (df['Close61'].diff() > 0 ).astype(int) + (df['Close62'].diff() >0).astype(int)+ (df['Close63'].diff()>0).astype(int)+(df['Close64'].diff()>0).astype(int) + (df['Close65'].diff()>0).astype(int)+\\\n",
        "              (df['Close66'].diff() > 0 ).astype(int) + (df['Close67'].diff() >0).astype(int)+ (df['Close68'].diff()>0).astype(int)+(df['Close69'].diff()>0).astype(int) + (df['Close70'].diff()>0).astype(int)+\\\n",
        "              (df['Close71'].diff() > 0 ).astype(int) + (df['Close72'].diff() >0).astype(int)+ (df['Close73'].diff()>0).astype(int)+(df['Close74'].diff()>0).astype(int) + (df['Close75'].diff()>0).astype(int)+\\\n",
        "              (df['Close76'].diff() > 0 ).astype(int) + (df['Close77'].diff() >0).astype(int)+ (df['Close78'].diff()>0).astype(int)+(df['Close79'].diff()>0).astype(int) + (df['Close80'].diff()>0).astype(int)+\\\n",
        "              (df['Close81'].diff() > 0 ).astype(int) + (df['Close82'].diff() >0).astype(int)+ (df['Close83'].diff()>0).astype(int)+(df['Close84'].diff()>0).astype(int) + (df['Close85'].diff()>0).astype(int)+\\\n",
        "              (df['Close86'].diff() > 0 ).astype(int) + (df['Close87'].diff() >0).astype(int)+ (df['Close88'].diff()>0).astype(int)+(df['Close89'].diff()>0).astype(int) + (df['Close90'].diff()>0).astype(int)+\\\n",
        "              (df['Close91'].diff() > 0 ).astype(int) + (df['Close92'].diff() >0).astype(int)+ (df['Close93'].diff()>0).astype(int)+(df['Close94'].diff()>0).astype(int) + (df['Close95'].diff()>0).astype(int)+\\\n",
        "              (df['Close96'].diff()>0).astype(int) + (df['Close97'].diff()>0).astype(int)+(df['Close98'].diff()>0).astype(int)"
      ],
      "execution_count": 369,
      "outputs": []
    },
    {
      "cell_type": "code",
      "metadata": {
        "id": "D842_0CAQl5x"
      },
      "source": [
        "df['diff']=df['diff1'].astype(int) + df['diff2'].astype(int) +df['diff3'].astype(int) +df['diff4'].astype(int)+df['diff5'].astype(int)"
      ],
      "execution_count": 370,
      "outputs": []
    },
    {
      "cell_type": "code",
      "metadata": {
        "id": "lgOeuvMJQuCL",
        "colab": {
          "base_uri": "https://localhost:8080/"
        },
        "outputId": "efaed237-c649-49de-b9b9-85fc9309757c"
      },
      "source": [
        "df['diff'].max()"
      ],
      "execution_count": 371,
      "outputs": [
        {
          "output_type": "execute_result",
          "data": {
            "text/plain": [
              "90"
            ]
          },
          "metadata": {},
          "execution_count": 371
        }
      ]
    },
    {
      "cell_type": "code",
      "metadata": {
        "id": "mN9fOl7KTrZE",
        "colab": {
          "base_uri": "https://localhost:8080/",
          "height": 35
        },
        "outputId": "f52c4a2a-686a-4181-a3c0-61e48acaee08"
      },
      "source": [
        "import datetime\n",
        "start_date = '2017-01-01'\n",
        "end_date = str(datetime.datetime.today()).split()[0]\n",
        "#datetime.date.today()\n",
        "end_date"
      ],
      "execution_count": 372,
      "outputs": [
        {
          "output_type": "execute_result",
          "data": {
            "application/vnd.google.colaboratory.intrinsic+json": {
              "type": "string"
            },
            "text/plain": [
              "'2021-10-31'"
            ]
          },
          "metadata": {},
          "execution_count": 372
        }
      ]
    },
    {
      "cell_type": "code",
      "metadata": {
        "id": "-1c4khlMUZBk"
      },
      "source": [
        "df['ema10AD']=df['diff'].ewm(span=10, adjust=False).mean()\n",
        "df['ema15AD']=df['diff'].ewm(span=15, adjust=False).mean()\n",
        "df['ema20AD']=df['diff'].ewm(span=20, adjust=False).mean()\n",
        "df['ema25AD']=df['diff'].ewm(span=25, adjust=False).mean()\n",
        "df['smooth_ema20']=df['ema20AD'].ewm(span=5, adjust=False).mean()\n",
        "df['smooth_ema25']=df['ema25AD'].ewm(span=10, adjust=False).mean()\n",
        "df['ema30AD']=df['diff'].ewm(span=30, adjust=False).mean()\n",
        "df['ema35AD']=df['diff'].ewm(span=35, adjust=False).mean()\n",
        "df['ema40AD']=df['diff'].ewm(span=40, adjust=False).mean()\n",
        "df['ema50AD']=df['diff'].ewm(span=50, adjust=False).mean()\n",
        "df['ema100AD']=df['diff'].ewm(span=100, adjust=False).mean()\n",
        "df['smooth_ema50']=df['ema50AD'].ewm(span=5, adjust=False).mean()\n",
        "df['smooth_ema100']=df['ema100AD'].ewm(span=10, adjust=False).mean()"
      ],
      "execution_count": 373,
      "outputs": []
    },
    {
      "cell_type": "code",
      "metadata": {
        "id": "bkA4VrfVTvZb",
        "colab": {
          "base_uri": "https://localhost:8080/",
          "height": 563
        },
        "outputId": "0cf905da-231d-4947-fc6c-5ae1775cb7e1"
      },
      "source": [
        "fig, ax = plt.subplots(3,1,figsize=(15,9),sharex=True)\n",
        "ax[0].plot(nifty.loc[start_date:end_date, :].index, nifty.loc[start_date:end_date, 'Close'],'b-', linewidth=1, markersize=3, label='Price Low')\n",
        "ax[0].plot(nifty.loc[start_date:end_date, :].index, nifty.loc[start_date:end_date, 'Close'].rolling(window=50).mean(),'r')\n",
        "#ax.plot(df.loc[start_date:end_date, :].index, df.loc[start_date:end_date, 'ema10Low'], label='ema10Low')\n",
        "ax[1].plot(df.loc[start_date:end_date, :].index, df.loc[start_date:end_date, 'smooth_ema50'], label='ema50 Smooth')\n",
        "ax[1].plot(df.loc[start_date:end_date, :].index, df.loc[start_date:end_date, 'smooth_ema100'], label='ema100 Smooth')\n",
        "ax[2].plot(df.loc[start_date:end_date, :].index, df.loc[start_date:end_date, 'ema50AD'], label='ema50 Adv Dec')\n",
        "ax[2].plot(df.loc[start_date:end_date, :].index, df.loc[start_date:end_date, 'ema100AD'], label='ema100 Adv Dec')\n",
        "ax[1].axhline(y=45)\n",
        "ax[1].legend(loc='best')\n",
        "ax[2].legend(loc='best')\n",
        "ax[1].set_ylabel('Adv/Dec')\n",
        "fig.suptitle('EMA Advance Decline')\n",
        "plt.show()"
      ],
      "execution_count": 374,
      "outputs": [
        {
          "output_type": "display_data",
          "data": {
            "image/png": "[encoded data removed]",
            "text/plain": [
              "<Figure size 1080x648 with 3 Axes>"
            ]
          },
          "metadata": {
            "needs_background": "light"
          }
        }
      ]
    },
    {
      "cell_type": "code",
      "metadata": {
        "id": "Bo31gzK5HEkw"
      },
      "source": [
        "# I Just need the Close\n",
        "price_data =df.copy()\n",
        "price_data=pd.concat([price_data,nifty['Close']],axis=1)"
      ],
      "execution_count": 375,
      "outputs": []
    },
    {
      "cell_type": "code",
      "metadata": {
        "id": "S7wYjaOeHVcS"
      },
      "source": [
        "features = ['ema10AD','ema15AD','ema20AD','ema25AD','ema30AD','ema35AD','ema40AD','ema50AD','ema100AD','diff','smooth_ema20','smooth_ema25']"
      ],
      "execution_count": 376,
      "outputs": []
    },
    {
      "cell_type": "markdown",
      "metadata": {
        "id": "FENI4ZLqHZns"
      },
      "source": [
        "# Days Out"
      ]
    },
    {
      "cell_type": "code",
      "metadata": {
        "id": "4t8UmeRTHcM4"
      },
      "source": [
        "# define the number of days out you want to predict\n",
        "days_out =14\n",
        "\n",
        "# create a new column that will house the flag, and for each group calculate the diff compared to 30 days ago. Then use Numpy to define the sign.\n",
        "price_data['Signal_Flag'] = price_data['Close'].transform(lambda x : np.sign(x.diff(days_out)))\n",
        "#price_data['Signal_Flag_INR'] = price_data['INRClose'].transform(lambda x : np.sign(x.diff(days_out)))\n",
        "# print the first 50 rows"
      ],
      "execution_count": 377,
      "outputs": []
    },
    {
      "cell_type": "code",
      "metadata": {
        "colab": {
          "base_uri": "https://localhost:8080/",
          "height": 270
        },
        "id": "EzaGERDXHglX",
        "outputId": "d4ad0e09-7bd1-4066-c4f8-bbf4b231f1d6"
      },
      "source": [
        "# Create a column we wish to predict\n",
        "'''\n",
        "    In this case, let's create an output column that will be 1 if the closing price at time 't' is greater than 't-1' and 0 otherwise.\n",
        "    In other words, if the today's closing price is greater than yesterday's closing price it would be 1.\n",
        "'''\n",
        "\n",
        "# Group by the `Symbol` column, then grab the `Close` column.\n",
        "close_groups = price_data['Close']\n",
        "\n",
        "# Apply the lambda function which will return -1.0 for down, 1.0 for up and 0.0 for no change.\n",
        "close_groups = close_groups.transform(lambda x : np.sign(x.diff(days_out)))\n",
        "\n",
        "# add the data to the main dataframe.\n",
        "price_data['Prediction'] = close_groups\n",
        "\n",
        "# for simplicity in later sections I'm going to make a change to our prediction column. To keep this as a binary classifier I'll change flat days and consider them up days.\n",
        "price_data.loc[price_data['Prediction'] == 0.0] = 1.0\n",
        "\n",
        "# print the head\n",
        "price_data.tail(3)"
      ],
      "execution_count": 378,
      "outputs": [
        {
          "output_type": "execute_result",
          "data": {
            "text/html": [
              "<div>\n",
              "<style scoped>\n",
              "    .dataframe tbody tr th:only-of-type {\n",
              "        vertical-align: middle;\n",
              "    }\n",
              "\n",
              "    .dataframe tbody tr th {\n",
              "        vertical-align: top;\n",
              "    }\n",
              "\n",
              "    .dataframe thead th {\n",
              "        text-align: right;\n",
              "    }\n",
              "</style>\n",
              "<table border=\"1\" class=\"dataframe\">\n",
              "  <thead>\n",
              "    <tr style=\"text-align: right;\">\n",
              "      <th></th>\n",
              "      <th>Close1</th>\n",
              "      <th>Close2</th>\n",
              "      <th>Close3</th>\n",
              "      <th>Close4</th>\n",
              "      <th>Close5</th>\n",
              "      <th>Close6</th>\n",
              "      <th>Close7</th>\n",
              "      <th>Close8</th>\n",
              "      <th>Close9</th>\n",
              "      <th>Close10</th>\n",
              "      <th>Close11</th>\n",
              "      <th>Close12</th>\n",
              "      <th>Close13</th>\n",
              "      <th>Close14</th>\n",
              "      <th>Close15</th>\n",
              "      <th>Close16</th>\n",
              "      <th>Close17</th>\n",
              "      <th>Close18</th>\n",
              "      <th>Close19</th>\n",
              "      <th>Close20</th>\n",
              "      <th>Close21</th>\n",
              "      <th>Close22</th>\n",
              "      <th>Close23</th>\n",
              "      <th>Close24</th>\n",
              "      <th>Close25</th>\n",
              "      <th>Close26</th>\n",
              "      <th>Close27</th>\n",
              "      <th>Close28</th>\n",
              "      <th>Close29</th>\n",
              "      <th>Close30</th>\n",
              "      <th>Close31</th>\n",
              "      <th>Close32</th>\n",
              "      <th>Close33</th>\n",
              "      <th>Close34</th>\n",
              "      <th>Close35</th>\n",
              "      <th>Close36</th>\n",
              "      <th>Close37</th>\n",
              "      <th>Close38</th>\n",
              "      <th>Close39</th>\n",
              "      <th>Close40</th>\n",
              "      <th>...</th>\n",
              "      <th>Close81</th>\n",
              "      <th>Close82</th>\n",
              "      <th>Close83</th>\n",
              "      <th>Close84</th>\n",
              "      <th>Close85</th>\n",
              "      <th>Close86</th>\n",
              "      <th>Close87</th>\n",
              "      <th>Close88</th>\n",
              "      <th>Close89</th>\n",
              "      <th>Close90</th>\n",
              "      <th>Close91</th>\n",
              "      <th>Close92</th>\n",
              "      <th>Close93</th>\n",
              "      <th>Close94</th>\n",
              "      <th>Close95</th>\n",
              "      <th>Close96</th>\n",
              "      <th>Close97</th>\n",
              "      <th>Close98</th>\n",
              "      <th>diff1</th>\n",
              "      <th>diff2</th>\n",
              "      <th>diff3</th>\n",
              "      <th>diff4</th>\n",
              "      <th>diff5</th>\n",
              "      <th>diff</th>\n",
              "      <th>ema10AD</th>\n",
              "      <th>ema15AD</th>\n",
              "      <th>ema20AD</th>\n",
              "      <th>ema25AD</th>\n",
              "      <th>smooth_ema20</th>\n",
              "      <th>smooth_ema25</th>\n",
              "      <th>ema30AD</th>\n",
              "      <th>ema35AD</th>\n",
              "      <th>ema40AD</th>\n",
              "      <th>ema50AD</th>\n",
              "      <th>ema100AD</th>\n",
              "      <th>smooth_ema50</th>\n",
              "      <th>smooth_ema100</th>\n",
              "      <th>Close</th>\n",
              "      <th>Signal_Flag</th>\n",
              "      <th>Prediction</th>\n",
              "    </tr>\n",
              "    <tr>\n",
              "      <th>Date</th>\n",
              "      <th></th>\n",
              "      <th></th>\n",
              "      <th></th>\n",
              "      <th></th>\n",
              "      <th></th>\n",
              "      <th></th>\n",
              "      <th></th>\n",
              "      <th></th>\n",
              "      <th></th>\n",
              "      <th></th>\n",
              "      <th></th>\n",
              "      <th></th>\n",
              "      <th></th>\n",
              "      <th></th>\n",
              "      <th></th>\n",
              "      <th></th>\n",
              "      <th></th>\n",
              "      <th></th>\n",
              "      <th></th>\n",
              "      <th></th>\n",
              "      <th></th>\n",
              "      <th></th>\n",
              "      <th></th>\n",
              "      <th></th>\n",
              "      <th></th>\n",
              "      <th></th>\n",
              "      <th></th>\n",
              "      <th></th>\n",
              "      <th></th>\n",
              "      <th></th>\n",
              "      <th></th>\n",
              "      <th></th>\n",
              "      <th></th>\n",
              "      <th></th>\n",
              "      <th></th>\n",
              "      <th></th>\n",
              "      <th></th>\n",
              "      <th></th>\n",
              "      <th></th>\n",
              "      <th></th>\n",
              "      <th></th>\n",
              "      <th></th>\n",
              "      <th></th>\n",
              "      <th></th>\n",
              "      <th></th>\n",
              "      <th></th>\n",
              "      <th></th>\n",
              "      <th></th>\n",
              "      <th></th>\n",
              "      <th></th>\n",
              "      <th></th>\n",
              "      <th></th>\n",
              "      <th></th>\n",
              "      <th></th>\n",
              "      <th></th>\n",
              "      <th></th>\n",
              "      <th></th>\n",
              "      <th></th>\n",
              "      <th></th>\n",
              "      <th></th>\n",
              "      <th></th>\n",
              "      <th></th>\n",
              "      <th></th>\n",
              "      <th></th>\n",
              "      <th></th>\n",
              "      <th></th>\n",
              "      <th></th>\n",
              "      <th></th>\n",
              "      <th></th>\n",
              "      <th></th>\n",
              "      <th></th>\n",
              "      <th></th>\n",
              "      <th></th>\n",
              "      <th></th>\n",
              "      <th></th>\n",
              "      <th></th>\n",
              "      <th></th>\n",
              "      <th></th>\n",
              "      <th></th>\n",
              "      <th></th>\n",
              "      <th></th>\n",
              "    </tr>\n",
              "  </thead>\n",
              "  <tbody>\n",
              "    <tr>\n",
              "      <th>2019-09-26</th>\n",
              "      <td>137.050003</td>\n",
              "      <td>1871.000000</td>\n",
              "      <td>2087.600098</td>\n",
              "      <td>124.500000</td>\n",
              "      <td>1242.500000</td>\n",
              "      <td>2973.949951</td>\n",
              "      <td>237.100006</td>\n",
              "      <td>782.549988</td>\n",
              "      <td>212.899994</td>\n",
              "      <td>13934.599609</td>\n",
              "      <td>419.149994</td>\n",
              "      <td>388.100006</td>\n",
              "      <td>11508.349609</td>\n",
              "      <td>713.700012</td>\n",
              "      <td>2970.300049</td>\n",
              "      <td>2034.400024</td>\n",
              "      <td>522.575012</td>\n",
              "      <td>2760.100098</td>\n",
              "      <td>1284.623047</td>\n",
              "      <td>480.049988</td>\n",
              "      <td>3092.800049</td>\n",
              "      <td>149.437531</td>\n",
              "      <td>1699.849976</td>\n",
              "      <td>1512.199951</td>\n",
              "      <td>344.049988</td>\n",
              "      <td>1192.349976</td>\n",
              "      <td>250.399994</td>\n",
              "      <td>144.550003</td>\n",
              "      <td>699.900024</td>\n",
              "      <td>2774.850098</td>\n",
              "      <td>569.299988</td>\n",
              "      <td>375.750000</td>\n",
              "      <td>583.599976</td>\n",
              "      <td>10922.700195</td>\n",
              "      <td>2063.199951</td>\n",
              "      <td>816.400024</td>\n",
              "      <td>1878.800049</td>\n",
              "      <td>679.900024</td>\n",
              "      <td>1354.699951</td>\n",
              "      <td>1770.949951</td>\n",
              "      <td>...</td>\n",
              "      <td>1548.000000</td>\n",
              "      <td>210.500000</td>\n",
              "      <td>8464.599609</td>\n",
              "      <td>62.799999</td>\n",
              "      <td>1791.155029</td>\n",
              "      <td>22021.550781</td>\n",
              "      <td>281.850006</td>\n",
              "      <td>108.949997</td>\n",
              "      <td>449.500000</td>\n",
              "      <td>411.950012</td>\n",
              "      <td>670.950012</td>\n",
              "      <td>610.750000</td>\n",
              "      <td>233.000000</td>\n",
              "      <td>14138.450195</td>\n",
              "      <td>161.750000</td>\n",
              "      <td>1102.25</td>\n",
              "      <td>1815.186890</td>\n",
              "      <td>90.900002</td>\n",
              "      <td>7</td>\n",
              "      <td>6</td>\n",
              "      <td>9</td>\n",
              "      <td>4</td>\n",
              "      <td>48</td>\n",
              "      <td>74</td>\n",
              "      <td>52.603247</td>\n",
              "      <td>52.128983</td>\n",
              "      <td>51.753924</td>\n",
              "      <td>51.386934</td>\n",
              "      <td>51.091465</td>\n",
              "      <td>50.657146</td>\n",
              "      <td>51.042673</td>\n",
              "      <td>50.733903</td>\n",
              "      <td>50.464261</td>\n",
              "      <td>50.033813</td>\n",
              "      <td>49.105530</td>\n",
              "      <td>49.660095</td>\n",
              "      <td>48.755758</td>\n",
              "      <td>11571.200195</td>\n",
              "      <td>1.0</td>\n",
              "      <td>1.0</td>\n",
              "    </tr>\n",
              "    <tr>\n",
              "      <th>2019-09-27</th>\n",
              "      <td>131.500000</td>\n",
              "      <td>1851.800049</td>\n",
              "      <td>2056.149902</td>\n",
              "      <td>119.900002</td>\n",
              "      <td>1244.199951</td>\n",
              "      <td>3038.050049</td>\n",
              "      <td>236.600006</td>\n",
              "      <td>782.200012</td>\n",
              "      <td>216.600006</td>\n",
              "      <td>13740.900391</td>\n",
              "      <td>408.600006</td>\n",
              "      <td>391.049988</td>\n",
              "      <td>12119.500000</td>\n",
              "      <td>704.299988</td>\n",
              "      <td>2957.500000</td>\n",
              "      <td>2010.900024</td>\n",
              "      <td>520.525024</td>\n",
              "      <td>2729.149902</td>\n",
              "      <td>1296.758057</td>\n",
              "      <td>469.799988</td>\n",
              "      <td>3015.100098</td>\n",
              "      <td>148.575043</td>\n",
              "      <td>1693.150024</td>\n",
              "      <td>1544.849976</td>\n",
              "      <td>349.100006</td>\n",
              "      <td>1203.750000</td>\n",
              "      <td>252.949997</td>\n",
              "      <td>145.550003</td>\n",
              "      <td>700.599976</td>\n",
              "      <td>2730.800049</td>\n",
              "      <td>582.299988</td>\n",
              "      <td>359.649994</td>\n",
              "      <td>582.049988</td>\n",
              "      <td>10688.799805</td>\n",
              "      <td>2035.900024</td>\n",
              "      <td>842.500000</td>\n",
              "      <td>1894.550049</td>\n",
              "      <td>692.250000</td>\n",
              "      <td>1351.199951</td>\n",
              "      <td>1776.300049</td>\n",
              "      <td>...</td>\n",
              "      <td>1480.800049</td>\n",
              "      <td>207.050003</td>\n",
              "      <td>8550.349609</td>\n",
              "      <td>62.849998</td>\n",
              "      <td>1779.239990</td>\n",
              "      <td>22322.699219</td>\n",
              "      <td>281.200012</td>\n",
              "      <td>107.400002</td>\n",
              "      <td>458.600006</td>\n",
              "      <td>401.700012</td>\n",
              "      <td>664.299988</td>\n",
              "      <td>597.200012</td>\n",
              "      <td>233.649994</td>\n",
              "      <td>13998.900391</td>\n",
              "      <td>158.350006</td>\n",
              "      <td>1095.00</td>\n",
              "      <td>1685.408569</td>\n",
              "      <td>91.500000</td>\n",
              "      <td>3</td>\n",
              "      <td>3</td>\n",
              "      <td>6</td>\n",
              "      <td>1</td>\n",
              "      <td>23</td>\n",
              "      <td>36</td>\n",
              "      <td>49.584475</td>\n",
              "      <td>50.112860</td>\n",
              "      <td>50.253551</td>\n",
              "      <td>50.203324</td>\n",
              "      <td>50.812160</td>\n",
              "      <td>50.574633</td>\n",
              "      <td>50.072178</td>\n",
              "      <td>49.915353</td>\n",
              "      <td>49.758687</td>\n",
              "      <td>49.483468</td>\n",
              "      <td>48.846015</td>\n",
              "      <td>49.601219</td>\n",
              "      <td>48.772169</td>\n",
              "      <td>11512.400391</td>\n",
              "      <td>1.0</td>\n",
              "      <td>1.0</td>\n",
              "    </tr>\n",
              "    <tr>\n",
              "      <th>2019-09-30</th>\n",
              "      <td>131.800003</td>\n",
              "      <td>1889.650024</td>\n",
              "      <td>2099.300049</td>\n",
              "      <td>117.449997</td>\n",
              "      <td>1227.449951</td>\n",
              "      <td>3173.399902</td>\n",
              "      <td>239.800003</td>\n",
              "      <td>805.650024</td>\n",
              "      <td>213.449997</td>\n",
              "      <td>13889.650391</td>\n",
              "      <td>413.950012</td>\n",
              "      <td>394.250000</td>\n",
              "      <td>12126.049805</td>\n",
              "      <td>714.500000</td>\n",
              "      <td>2941.800049</td>\n",
              "      <td>1981.949951</td>\n",
              "      <td>540.299988</td>\n",
              "      <td>2704.750000</td>\n",
              "      <td>1319.740234</td>\n",
              "      <td>470.100006</td>\n",
              "      <td>2944.149902</td>\n",
              "      <td>149.287537</td>\n",
              "      <td>1667.400024</td>\n",
              "      <td>1503.949951</td>\n",
              "      <td>367.049988</td>\n",
              "      <td>1209.849976</td>\n",
              "      <td>259.850006</td>\n",
              "      <td>147.399994</td>\n",
              "      <td>685.000000</td>\n",
              "      <td>2702.250000</td>\n",
              "      <td>601.150024</td>\n",
              "      <td>360.500000</td>\n",
              "      <td>603.950012</td>\n",
              "      <td>10596.549805</td>\n",
              "      <td>1977.050049</td>\n",
              "      <td>846.400024</td>\n",
              "      <td>1860.599976</td>\n",
              "      <td>687.299988</td>\n",
              "      <td>1347.150024</td>\n",
              "      <td>1762.150024</td>\n",
              "      <td>...</td>\n",
              "      <td>1383.550049</td>\n",
              "      <td>203.949997</td>\n",
              "      <td>8513.000000</td>\n",
              "      <td>61.950001</td>\n",
              "      <td>1776.520020</td>\n",
              "      <td>22517.849609</td>\n",
              "      <td>270.799988</td>\n",
              "      <td>104.949997</td>\n",
              "      <td>463.500000</td>\n",
              "      <td>389.450012</td>\n",
              "      <td>667.000000</td>\n",
              "      <td>589.000000</td>\n",
              "      <td>228.600006</td>\n",
              "      <td>14063.700195</td>\n",
              "      <td>155.600006</td>\n",
              "      <td>1071.00</td>\n",
              "      <td>1593.504761</td>\n",
              "      <td>88.699997</td>\n",
              "      <td>7</td>\n",
              "      <td>7</td>\n",
              "      <td>5</td>\n",
              "      <td>3</td>\n",
              "      <td>21</td>\n",
              "      <td>43</td>\n",
              "      <td>48.387298</td>\n",
              "      <td>49.223753</td>\n",
              "      <td>49.562736</td>\n",
              "      <td>49.649222</td>\n",
              "      <td>50.395686</td>\n",
              "      <td>50.406376</td>\n",
              "      <td>49.615909</td>\n",
              "      <td>49.531167</td>\n",
              "      <td>49.428995</td>\n",
              "      <td>49.229214</td>\n",
              "      <td>48.730252</td>\n",
              "      <td>49.477217</td>\n",
              "      <td>48.764547</td>\n",
              "      <td>11474.450195</td>\n",
              "      <td>1.0</td>\n",
              "      <td>1.0</td>\n",
              "    </tr>\n",
              "  </tbody>\n",
              "</table>\n",
              "<p>3 rows × 120 columns</p>\n",
              "</div>"
            ],
            "text/plain": [
              "                Close1       Close2  ...  Signal_Flag  Prediction\n",
              "Date                                 ...                         \n",
              "2019-09-26  137.050003  1871.000000  ...          1.0         1.0\n",
              "2019-09-27  131.500000  1851.800049  ...          1.0         1.0\n",
              "2019-09-30  131.800003  1889.650024  ...          1.0         1.0\n",
              "\n",
              "[3 rows x 120 columns]"
            ]
          },
          "metadata": {},
          "execution_count": 378
        }
      ]
    },
    {
      "cell_type": "code",
      "metadata": {
        "colab": {
          "base_uri": "https://localhost:8080/"
        },
        "id": "x70BV5FwHjqa",
        "outputId": "905c81f9-bcb2-42d6-8000-17f84075eba3"
      },
      "source": [
        "# We need to remove all rows that have an NaN value.\n",
        "print('Before NaN Drop we have {} rows and {}  columns in original dataset'.format(price_data.shape[0], price_data.shape[1]))\n",
        "\n",
        "# Any row that has a `NaN` value will be dropped.\n",
        "price_data = price_data.dropna()\n",
        "\n",
        "# Display how much we have left now.\n",
        "print('After NaN Drop we have {} rows and {} columns in original dataset'.format(price_data.shape[0], price_data.shape[1]))\n",
        "\n",
        "# Print the head."
      ],
      "execution_count": 379,
      "outputs": [
        {
          "output_type": "stream",
          "name": "stdout",
          "text": [
            "Before NaN Drop we have 922 rows and 120  columns in original dataset\n",
            "After NaN Drop we have 277 rows and 120 columns in original dataset\n"
          ]
        }
      ]
    },
    {
      "cell_type": "code",
      "metadata": {
        "colab": {
          "base_uri": "https://localhost:8080/"
        },
        "id": "6DDAPu0oHnoA",
        "outputId": "8717ba2d-19d7-4d51-adde-223ffa633aa2"
      },
      "source": [
        "\n",
        "# Number of trees is not a parameter that should be tuned, but just set large enough usually. There is no risk of overfitting in random forest with growing number of # trees, as they are trained independently from each other. \n",
        "n_estimators = list(range(200, 2000, 200))\n",
        "\n",
        "# Number of features to consider at every split\n",
        "max_features = ['auto', 'sqrt', None, 'log2']\n",
        "\n",
        "# Maximum number of levels in tree\n",
        "# Max depth is a parameter that most of the times should be set as high as possible, but possibly better performance can be achieved by setting it lower.\n",
        "max_depth = list(range(10, 110, 10))\n",
        "max_depth.append(None)\n",
        "\n",
        "# Minimum number of samples required to split a node\n",
        "# Higher values prevent a model from learning relations which might be highly specific to the particular sample selected for a tree. Too high values can also lead to # under-fitting hence depending on the level of underfitting or overfitting, you can tune the values for min_samples_split.\n",
        "min_samples_split = [2, 5, 10, 20, 30, 40]\n",
        "\n",
        "# Minimum number of samples required at each leaf node\n",
        "min_samples_leaf = [1, 2, 7, 12, 14, 16 ,20]\n",
        "\n",
        "# Method of selecting samples for training each tree\n",
        "bootstrap = [True, False]\n",
        "\n",
        "# Create the random grid\n",
        "random_grid = {'n_estimators': n_estimators,\n",
        "               'max_features': max_features,\n",
        "               'max_depth': max_depth,\n",
        "               'min_samples_split': min_samples_split,\n",
        "               'min_samples_leaf': min_samples_leaf,\n",
        "               'bootstrap': bootstrap}\n",
        "\n",
        "print(random_grid)"
      ],
      "execution_count": 380,
      "outputs": [
        {
          "output_type": "stream",
          "name": "stdout",
          "text": [
            "{'n_estimators': [200, 400, 600, 800, 1000, 1200, 1400, 1600, 1800], 'max_features': ['auto', 'sqrt', None, 'log2'], 'max_depth': [10, 20, 30, 40, 50, 60, 70, 80, 90, 100, None], 'min_samples_split': [2, 5, 10, 20, 30, 40], 'min_samples_leaf': [1, 2, 7, 12, 14, 16, 20], 'bootstrap': [True, False]}\n"
          ]
        }
      ]
    },
    {
      "cell_type": "code",
      "metadata": {
        "colab": {
          "base_uri": "https://localhost:8080/",
          "height": 85
        },
        "id": "RvcAkKivHohy",
        "outputId": "2f3df739-393e-4c6c-959e-0b7228909acf"
      },
      "source": [
        "X_Cols = price_data[features]\n",
        "Y_Cols = price_data['Prediction']\n",
        "#,'log5vol','log5','RSI','Price_Rate_Of_Change','log5volM','log5M','MMI_roc'\n",
        "# Split X and y into X_train and X_test\n",
        "samp_train= int(len(price_data)*.75) -50\n",
        "samp_test= samp_train+50\n",
        "X_train = X_Cols[:samp_train]\n",
        "X_test = X_Cols[samp_test:]\n",
        "y_train = Y_Cols[:samp_train]\n",
        "y_test = Y_Cols[samp_test:]\n",
        "\n",
        "\n",
        "#X_train, X_test, y_train, y_test = train_test_split(X_Cols, Y_Cols, random_state = 0)\n",
        "\n",
        "\n",
        "# New Random Forest Classifier to house optimal parameters\n",
        "rf = RandomForestClassifier()\n",
        "\n",
        "# Specfiy the details of our Randomized Search\n",
        "rf_random = RandomizedSearchCV(estimator = rf, param_distributions = random_grid, n_iter = 100, cv = 3, verbose=2, random_state=42, n_jobs = -1)\n",
        "'''\n",
        "# Fit the random search model############################~~~~~~~~~~~~~~~~~~################\n",
        "rf_random.fit(X_train, y_train)\n",
        "print(f\"Best score: {rf_random.best_score_}\")\n",
        "print(\"Best parameters set:\")\n",
        "best_parameters = rf_random.best_estimator_.get_params()\n",
        "for param_name in sorted(random_grid.keys()):\n",
        "  print(f\"\\t{param_name}: {best_parameters[param_name]}\")\n",
        "'''"
      ],
      "execution_count": 381,
      "outputs": [
        {
          "output_type": "execute_result",
          "data": {
            "application/vnd.google.colaboratory.intrinsic+json": {
              "type": "string"
            },
            "text/plain": [
              "'\\n# Fit the random search model############################~~~~~~~~~~~~~~~~~~################\\nrf_random.fit(X_train, y_train)\\nprint(f\"Best score: {rf_random.best_score_}\")\\nprint(\"Best parameters set:\")\\nbest_parameters = rf_random.best_estimator_.get_params()\\nfor param_name in sorted(random_grid.keys()):\\n  print(f\"\\t{param_name}: {best_parameters[param_name]}\")\\n'"
            ]
          },
          "metadata": {},
          "execution_count": 381
        }
      ]
    },
    {
      "cell_type": "code",
      "metadata": {
        "id": "DdTrIJXBHofM"
      },
      "source": [
        "rand_frst_clf = RandomForestClassifier(n_estimators = 1600,max_depth=80,min_samples_leaf=16,max_features = 'sqrt',min_samples_split=20, criterion = \"gini\", bootstrap=True,random_state = 42)"
      ],
      "execution_count": 382,
      "outputs": []
    },
    {
      "cell_type": "code",
      "metadata": {
        "colab": {
          "base_uri": "https://localhost:8080/",
          "height": 202
        },
        "id": "LIxkqEuaHocY",
        "outputId": "903c7993-3f65-41e3-8cba-5c2793c455f3"
      },
      "source": [
        "# Fit the data to the model\n",
        "rand_frst_clf.fit(X_train, y_train)\n",
        "\n",
        "# Make predictions\n",
        "y_pred = rand_frst_clf.predict(X_test)\n",
        "\n",
        "# Define the traget names\n",
        "target_names = ['Down Day', 'Up Day']\n",
        "\n",
        "# Build a classifcation report\n",
        "report = classification_report(y_true = y_test, y_pred = y_pred, target_names = target_names, output_dict = True)\n",
        "\n",
        "# Add it to a data frame, transpose it for readability.\n",
        "report_df = pd.DataFrame(report).transpose()\n",
        "report_df"
      ],
      "execution_count": 383,
      "outputs": [
        {
          "output_type": "execute_result",
          "data": {
            "text/html": [
              "<div>\n",
              "<style scoped>\n",
              "    .dataframe tbody tr th:only-of-type {\n",
              "        vertical-align: middle;\n",
              "    }\n",
              "\n",
              "    .dataframe tbody tr th {\n",
              "        vertical-align: top;\n",
              "    }\n",
              "\n",
              "    .dataframe thead th {\n",
              "        text-align: right;\n",
              "    }\n",
              "</style>\n",
              "<table border=\"1\" class=\"dataframe\">\n",
              "  <thead>\n",
              "    <tr style=\"text-align: right;\">\n",
              "      <th></th>\n",
              "      <th>precision</th>\n",
              "      <th>recall</th>\n",
              "      <th>f1-score</th>\n",
              "      <th>support</th>\n",
              "    </tr>\n",
              "  </thead>\n",
              "  <tbody>\n",
              "    <tr>\n",
              "      <th>Down Day</th>\n",
              "      <td>0.965517</td>\n",
              "      <td>0.560000</td>\n",
              "      <td>0.708861</td>\n",
              "      <td>50.000000</td>\n",
              "    </tr>\n",
              "    <tr>\n",
              "      <th>Up Day</th>\n",
              "      <td>0.463415</td>\n",
              "      <td>0.950000</td>\n",
              "      <td>0.622951</td>\n",
              "      <td>20.000000</td>\n",
              "    </tr>\n",
              "    <tr>\n",
              "      <th>accuracy</th>\n",
              "      <td>0.671429</td>\n",
              "      <td>0.671429</td>\n",
              "      <td>0.671429</td>\n",
              "      <td>0.671429</td>\n",
              "    </tr>\n",
              "    <tr>\n",
              "      <th>macro avg</th>\n",
              "      <td>0.714466</td>\n",
              "      <td>0.755000</td>\n",
              "      <td>0.665906</td>\n",
              "      <td>70.000000</td>\n",
              "    </tr>\n",
              "    <tr>\n",
              "      <th>weighted avg</th>\n",
              "      <td>0.822059</td>\n",
              "      <td>0.671429</td>\n",
              "      <td>0.684315</td>\n",
              "      <td>70.000000</td>\n",
              "    </tr>\n",
              "  </tbody>\n",
              "</table>\n",
              "</div>"
            ],
            "text/plain": [
              "              precision    recall  f1-score    support\n",
              "Down Day       0.965517  0.560000  0.708861  50.000000\n",
              "Up Day         0.463415  0.950000  0.622951  20.000000\n",
              "accuracy       0.671429  0.671429  0.671429   0.671429\n",
              "macro avg      0.714466  0.755000  0.665906  70.000000\n",
              "weighted avg   0.822059  0.671429  0.684315  70.000000"
            ]
          },
          "metadata": {},
          "execution_count": 383
        }
      ]
    },
    {
      "cell_type": "code",
      "metadata": {
        "colab": {
          "base_uri": "https://localhost:8080/",
          "height": 657
        },
        "id": "I94-zyUyH0zP",
        "outputId": "931bfd86-1f7b-4fb2-b712-abf507da3286"
      },
      "source": [
        "from sklearn.metrics import confusion_matrix, plot_confusion_matrix\n",
        "\n",
        "rf_matrix = confusion_matrix(y_test, y_pred)\n",
        "\n",
        "true_negatives = rf_matrix[0][0]\n",
        "false_negatives = rf_matrix[1][0]\n",
        "true_positives = rf_matrix[1][1]\n",
        "false_positives = rf_matrix[0][1]\n",
        "\n",
        "accuracy = (true_negatives + true_positives) / (true_negatives + true_positives + false_negatives + false_positives)\n",
        "percision = true_positives / (true_positives + false_positives)\n",
        "recall = true_positives / (true_positives + false_negatives)\n",
        "specificity = true_negatives / (true_negatives + false_positives)\n",
        "\n",
        "print('Accuracy: {}'.format(float(accuracy)))\n",
        "print('Percision: {}'.format(float(percision)))\n",
        "print('Recall: {}'.format(float(recall)))\n",
        "print('Specificity: {}'.format(float(specificity)))\n",
        "print('F1 Score : {}' .format(float(2 * (percision * recall) / (percision + recall))))\n",
        "disp = plot_confusion_matrix(rand_frst_clf, X_test, y_test, display_labels = ['Down Day', 'Up Day'], normalize = 'true', cmap=plt.cm.Blues)\n",
        "disp.ax_.set_title('Confusion Matrix - Normalized')\n",
        "plt.show()"
      ],
      "execution_count": 384,
      "outputs": [
        {
          "output_type": "stream",
          "name": "stdout",
          "text": [
            "Accuracy: 0.6714285714285714\n",
            "Percision: 0.4634146341463415\n",
            "Recall: 0.95\n",
            "Specificity: 0.56\n",
            "F1 Score : 0.6229508196721312\n"
          ]
        },
        {
          "output_type": "display_data",
          "data": {
            "image/png": "[encoded data removed]",
            "text/plain": [
              "<Figure size 720x720 with 2 Axes>"
            ]
          },
          "metadata": {
            "needs_background": "light"
          }
        }
      ]
    },
    {
      "cell_type": "code",
      "metadata": {
        "colab": {
          "base_uri": "https://localhost:8080/"
        },
        "id": "alluUDYRIv1U",
        "outputId": "a9a14bd7-265c-4a17-d06e-f2de51b88d74"
      },
      "source": [
        "feature_imp = pd.Series(rand_frst_clf.feature_importances_, index=X_Cols.columns).sort_values(ascending=False)\n",
        "feature_imp"
      ],
      "execution_count": 385,
      "outputs": [
        {
          "output_type": "execute_result",
          "data": {
            "text/plain": [
              "ema35AD         0.161200\n",
              "ema30AD         0.157179\n",
              "ema40AD         0.135625\n",
              "ema25AD         0.126953\n",
              "ema50AD         0.104614\n",
              "ema20AD         0.091706\n",
              "smooth_ema20    0.071557\n",
              "smooth_ema25    0.068877\n",
              "ema15AD         0.044067\n",
              "ema100AD        0.022410\n",
              "ema10AD         0.014151\n",
              "diff            0.001662\n",
              "dtype: float64"
            ]
          },
          "metadata": {},
          "execution_count": 385
        }
      ]
    },
    {
      "cell_type": "markdown",
      "metadata": {
        "id": "uVGE1f_dJJeT"
      },
      "source": [
        "#Test Series"
      ]
    },
    {
      "cell_type": "code",
      "metadata": {
        "id": "gD_jY6R8N9Vb"
      },
      "source": [
        "START_testdate='2019-12-01'\n"
      ],
      "execution_count": 386,
      "outputs": []
    },
    {
      "cell_type": "code",
      "metadata": {
        "colab": {
          "base_uri": "https://localhost:8080/"
        },
        "id": "_qaaaXldIvyL",
        "outputId": "facbe5df-74a0-466c-907a-1ce72745247a"
      },
      "source": [
        "Ticker = '^NSEI'\n",
        "nifty_n = yf.download(Ticker, start=START_testdate)\n",
        "nifty_n=nifty_n.dropna()\n",
        "nifty_n=nifty_n.iloc[:,:4]"
      ],
      "execution_count": 387,
      "outputs": [
        {
          "output_type": "stream",
          "name": "stdout",
          "text": [
            "\r[*********************100%***********************]  1 of 1 completed\n"
          ]
        }
      ]
    },
    {
      "cell_type": "code",
      "metadata": {
        "colab": {
          "base_uri": "https://localhost:8080/"
        },
        "id": "O8YW2dOoJQKQ",
        "outputId": "729f170e-a8d2-493b-fc1b-cde9ee638822"
      },
      "source": [
        "lst_t=[]\n",
        "for i in range(len(nifty100)):\n",
        "  df_t =  yf.download(nifty100[i], start=START_testdate)\n",
        "  df_t = df_t.dropna()\n",
        "  df_t = df_t.iloc[:,:4]\n",
        "  #df.head(3)\n",
        "  #print('Done : '+ nifty10[i])\n",
        "  #print(df.head(2))\n",
        "  lst_t.append(df_t)\n",
        "\n",
        "#df1.head(3)\n",
        "print('\\n All Completed \\n')\n",
        "#df1.head(3)"
      ],
      "execution_count": 389,
      "outputs": [
        {
          "output_type": "stream",
          "name": "stdout",
          "text": [
            "[*********************100%***********************]  1 of 1 completed\n",
            "[*********************100%***********************]  1 of 1 completed\n",
            "[*********************100%***********************]  1 of 1 completed\n",
            "[*********************100%***********************]  1 of 1 completed\n",
            "[*********************100%***********************]  1 of 1 completed\n",
            "[*********************100%***********************]  1 of 1 completed\n",
            "[*********************100%***********************]  1 of 1 completed\n",
            "[*********************100%***********************]  1 of 1 completed\n",
            "[*********************100%***********************]  1 of 1 completed\n",
            "[*********************100%***********************]  1 of 1 completed\n",
            "[*********************100%***********************]  1 of 1 completed\n",
            "[*********************100%***********************]  1 of 1 completed\n",
            "[*********************100%***********************]  1 of 1 completed\n",
            "[*********************100%***********************]  1 of 1 completed\n",
            "[*********************100%***********************]  1 of 1 completed\n",
            "[*********************100%***********************]  1 of 1 completed\n",
            "[*********************100%***********************]  1 of 1 completed\n",
            "[*********************100%***********************]  1 of 1 completed\n",
            "[*********************100%***********************]  1 of 1 completed\n",
            "[*********************100%***********************]  1 of 1 completed\n",
            "[*********************100%***********************]  1 of 1 completed\n",
            "[*********************100%***********************]  1 of 1 completed\n",
            "[*********************100%***********************]  1 of 1 completed\n",
            "[*********************100%***********************]  1 of 1 completed\n",
            "[*********************100%***********************]  1 of 1 completed\n",
            "[*********************100%***********************]  1 of 1 completed\n",
            "[*********************100%***********************]  1 of 1 completed\n",
            "[*********************100%***********************]  1 of 1 completed\n",
            "[*********************100%***********************]  1 of 1 completed\n",
            "[*********************100%***********************]  1 of 1 completed\n",
            "[*********************100%***********************]  1 of 1 completed\n",
            "[*********************100%***********************]  1 of 1 completed\n",
            "[*********************100%***********************]  1 of 1 completed\n",
            "[*********************100%***********************]  1 of 1 completed\n",
            "[*********************100%***********************]  1 of 1 completed\n",
            "[*********************100%***********************]  1 of 1 completed\n",
            "[*********************100%***********************]  1 of 1 completed\n",
            "[*********************100%***********************]  1 of 1 completed\n",
            "[*********************100%***********************]  1 of 1 completed\n",
            "[*********************100%***********************]  1 of 1 completed\n",
            "[*********************100%***********************]  1 of 1 completed\n",
            "[*********************100%***********************]  1 of 1 completed\n",
            "[*********************100%***********************]  1 of 1 completed\n",
            "[*********************100%***********************]  1 of 1 completed\n",
            "[*********************100%***********************]  1 of 1 completed\n",
            "[*********************100%***********************]  1 of 1 completed\n",
            "[*********************100%***********************]  1 of 1 completed\n",
            "[*********************100%***********************]  1 of 1 completed\n",
            "[*********************100%***********************]  1 of 1 completed\n",
            "[*********************100%***********************]  1 of 1 completed\n",
            "[*********************100%***********************]  1 of 1 completed\n",
            "[*********************100%***********************]  1 of 1 completed\n",
            "[*********************100%***********************]  1 of 1 completed\n",
            "[*********************100%***********************]  1 of 1 completed\n",
            "[*********************100%***********************]  1 of 1 completed\n",
            "[*********************100%***********************]  1 of 1 completed\n",
            "[*********************100%***********************]  1 of 1 completed\n",
            "[*********************100%***********************]  1 of 1 completed\n",
            "[*********************100%***********************]  1 of 1 completed\n",
            "[*********************100%***********************]  1 of 1 completed\n",
            "[*********************100%***********************]  1 of 1 completed\n",
            "[*********************100%***********************]  1 of 1 completed\n",
            "[*********************100%***********************]  1 of 1 completed\n",
            "[*********************100%***********************]  1 of 1 completed\n",
            "[*********************100%***********************]  1 of 1 completed\n",
            "[*********************100%***********************]  1 of 1 completed\n",
            "[*********************100%***********************]  1 of 1 completed\n",
            "[*********************100%***********************]  1 of 1 completed\n",
            "[*********************100%***********************]  1 of 1 completed\n",
            "[*********************100%***********************]  1 of 1 completed\n",
            "[*********************100%***********************]  1 of 1 completed\n",
            "[*********************100%***********************]  1 of 1 completed\n",
            "[*********************100%***********************]  1 of 1 completed\n",
            "[*********************100%***********************]  1 of 1 completed\n",
            "[*********************100%***********************]  1 of 1 completed\n",
            "[*********************100%***********************]  1 of 1 completed\n",
            "[*********************100%***********************]  1 of 1 completed\n",
            "[*********************100%***********************]  1 of 1 completed\n",
            "[*********************100%***********************]  1 of 1 completed\n",
            "[*********************100%***********************]  1 of 1 completed\n",
            "[*********************100%***********************]  1 of 1 completed\n",
            "[*********************100%***********************]  1 of 1 completed\n",
            "[*********************100%***********************]  1 of 1 completed\n",
            "[*********************100%***********************]  1 of 1 completed\n",
            "[*********************100%***********************]  1 of 1 completed\n",
            "[*********************100%***********************]  1 of 1 completed\n",
            "[*********************100%***********************]  1 of 1 completed\n",
            "[*********************100%***********************]  1 of 1 completed\n",
            "[*********************100%***********************]  1 of 1 completed\n",
            "[*********************100%***********************]  1 of 1 completed\n",
            "[*********************100%***********************]  1 of 1 completed\n",
            "[*********************100%***********************]  1 of 1 completed\n",
            "[*********************100%***********************]  1 of 1 completed\n",
            "[*********************100%***********************]  1 of 1 completed\n",
            "[*********************100%***********************]  1 of 1 completed\n",
            "[*********************100%***********************]  1 of 1 completed\n",
            "[*********************100%***********************]  1 of 1 completed\n",
            "[*********************100%***********************]  1 of 1 completed\n",
            "\n",
            " All Completed \n",
            "\n"
          ]
        }
      ]
    },
    {
      "cell_type": "code",
      "metadata": {
        "id": "wAUJ_DzaIvti"
      },
      "source": [
        "nlst_test=[]\n",
        "for i in range(len(nifty100)):\n",
        "  nlst_test.append(lst_t[i].Close)"
      ],
      "execution_count": 390,
      "outputs": []
    },
    {
      "cell_type": "code",
      "metadata": {
        "id": "0JI2rmYhPazJ"
      },
      "source": [
        "df_test = pd.DataFrame(nlst_test).T"
      ],
      "execution_count": 391,
      "outputs": []
    },
    {
      "cell_type": "code",
      "metadata": {
        "id": "yT1n5cWYJQHm"
      },
      "source": [
        "df_test.columns=namelist"
      ],
      "execution_count": 392,
      "outputs": []
    },
    {
      "cell_type": "code",
      "metadata": {
        "id": "FvmUpUj4LQ-d"
      },
      "source": [
        "df_test['diff1'] = (df_test['Close1'].diff() > 0 ).astype(int) + (df_test['Close2'].diff() >0).astype(int)+ (df_test['Close3'].diff()>0).astype(int)+(df_test['Close4'].diff()>0).astype(int) + (df_test['Close5'].diff()>0).astype(int)+ (df_test['Close6'].diff()>0).astype(int)+ (df_test['Close7'].diff()>0).astype(int)+(df_test['Close8'].diff()>0).astype(int)+ (df_test['Close9'].diff()>0).astype(int)+ (df_test['Close10'].diff()>0).astype(int)"
      ],
      "execution_count": 393,
      "outputs": []
    },
    {
      "cell_type": "code",
      "metadata": {
        "id": "msKnlGM2LxMW"
      },
      "source": [
        "df_test['diff2'] = (df_test['Close11'].diff() > 0 ).astype(int) + (df_test['Close12'].diff() >0).astype(int)+ (df_test['Close13'].diff()>0).astype(int)+(df_test['Close14'].diff()>0).astype(int) + (df_test['Close15'].diff()>0).astype(int)+ (df_test['Close16'].diff()>0).astype(int)+ (df_test['Close17'].diff()>0).astype(int)+(df_test['Close18'].diff()>0).astype(int)+ (df_test['Close19'].diff()>0).astype(int)+ (df_test['Close20'].diff()>0).astype(int)"
      ],
      "execution_count": 394,
      "outputs": []
    },
    {
      "cell_type": "code",
      "metadata": {
        "id": "ukWDImd6LxKH"
      },
      "source": [
        "df_test['diff3'] = (df_test['Close21'].diff() > 0 ).astype(int) + (df_test['Close22'].diff() >0).astype(int)+ (df_test['Close23'].diff()>0).astype(int)+(df_test['Close24'].diff()>0).astype(int) + (df_test['Close25'].diff()>0).astype(int)+ (df_test['Close26'].diff()>0).astype(int)+ (df_test['Close27'].diff()>0).astype(int)+(df_test['Close28'].diff()>0).astype(int)+ (df_test['Close29'].diff()>0).astype(int)+ (df_test['Close30'].diff()>0).astype(int)"
      ],
      "execution_count": 395,
      "outputs": []
    },
    {
      "cell_type": "code",
      "metadata": {
        "id": "izHRY__QLxHv"
      },
      "source": [
        "df_test['diff4'] = (df_test['Close31'].diff() > 0 ).astype(int) + (df_test['Close32'].diff() >0).astype(int)+ (df_test['Close33'].diff()>0).astype(int)+(df_test['Close34'].diff()>0).astype(int) + (df_test['Close35'].diff()>0).astype(int)"
      ],
      "execution_count": 396,
      "outputs": []
    },
    {
      "cell_type": "code",
      "metadata": {
        "id": "OTzEmquXLxFV"
      },
      "source": [
        "df_test['diff5'] = (df_test['Close36'].diff() > 0 ).astype(int) + (df_test['Close37'].diff() >0).astype(int)+ (df_test['Close38'].diff()>0).astype(int)+(df_test['Close39'].diff()>0).astype(int) + (df_test['Close40'].diff()>0).astype(int)+\\\n",
        "              (df_test['Close41'].diff() > 0 ).astype(int) + (df_test['Close42'].diff() >0).astype(int)+ (df_test['Close43'].diff()>0).astype(int)+(df_test['Close44'].diff()>0).astype(int) + (df_test['Close45'].diff()>0).astype(int)+\\\n",
        "              (df_test['Close46'].diff() > 0 ).astype(int) + (df_test['Close47'].diff() >0).astype(int)+ (df_test['Close48'].diff()>0).astype(int)+(df_test['Close49'].diff()>0).astype(int) + (df_test['Close50'].diff()>0).astype(int)+\\\n",
        "              (df_test['Close51'].diff() > 0 ).astype(int) + (df_test['Close52'].diff() >0).astype(int)+ (df_test['Close53'].diff()>0).astype(int)+(df_test['Close54'].diff()>0).astype(int) + (df_test['Close55'].diff()>0).astype(int)+\\\n",
        "              (df_test['Close56'].diff() > 0 ).astype(int) + (df_test['Close57'].diff() >0).astype(int)+ (df_test['Close58'].diff()>0).astype(int)+(df_test['Close59'].diff()>0).astype(int) + (df_test['Close60'].diff()>0).astype(int)+\\\n",
        "              (df_test['Close61'].diff() > 0 ).astype(int) + (df_test['Close62'].diff() >0).astype(int)+ (df_test['Close63'].diff()>0).astype(int)+(df_test['Close64'].diff()>0).astype(int) + (df_test['Close65'].diff()>0).astype(int)+\\\n",
        "              (df_test['Close66'].diff() > 0 ).astype(int) + (df_test['Close67'].diff() >0).astype(int)+ (df_test['Close68'].diff()>0).astype(int)+(df_test['Close69'].diff()>0).astype(int) + (df_test['Close70'].diff()>0).astype(int)+\\\n",
        "              (df_test['Close71'].diff() > 0 ).astype(int) + (df_test['Close72'].diff() >0).astype(int)+ (df_test['Close73'].diff()>0).astype(int)+(df_test['Close74'].diff()>0).astype(int) + (df_test['Close75'].diff()>0).astype(int)+\\\n",
        "              (df_test['Close76'].diff() > 0 ).astype(int) + (df_test['Close77'].diff() >0).astype(int)+ (df_test['Close78'].diff()>0).astype(int)+(df_test['Close79'].diff()>0).astype(int) + (df_test['Close80'].diff()>0).astype(int)+\\\n",
        "              (df_test['Close81'].diff() > 0 ).astype(int) + (df_test['Close82'].diff() >0).astype(int)+ (df_test['Close83'].diff()>0).astype(int)+(df_test['Close84'].diff()>0).astype(int) + (df_test['Close85'].diff()>0).astype(int)+\\\n",
        "              (df_test['Close86'].diff() > 0 ).astype(int) + (df_test['Close87'].diff() >0).astype(int)+ (df_test['Close88'].diff()>0).astype(int)+(df_test['Close89'].diff()>0).astype(int) + (df_test['Close90'].diff()>0).astype(int)+\\\n",
        "              (df_test['Close91'].diff() > 0 ).astype(int) + (df_test['Close92'].diff() >0).astype(int)+ (df_test['Close93'].diff()>0).astype(int)+(df_test['Close94'].diff()>0).astype(int) + (df_test['Close95'].diff()>0).astype(int)+\\\n",
        "              (df_test['Close96'].diff()>0).astype(int) + (df_test['Close97'].diff()>0).astype(int)+(df_test['Close98'].diff()>0).astype(int)"
      ],
      "execution_count": 397,
      "outputs": []
    },
    {
      "cell_type": "code",
      "metadata": {
        "id": "FHfSlXJDLxC2"
      },
      "source": [
        "df_test['diff']=df_test['diff1'].astype(int) + df_test['diff2'].astype(int) +df_test['diff3'].astype(int) +df_test['diff4'].astype(int)+df_test['diff5'].astype(int)"
      ],
      "execution_count": 398,
      "outputs": []
    },
    {
      "cell_type": "code",
      "metadata": {
        "id": "V8rXAsFyJQCv"
      },
      "source": [
        "df_test['ema10AD']=df_test['diff'].ewm(span=10, adjust=False).mean()\n",
        "df_test['ema15AD']=df_test['diff'].ewm(span=15, adjust=False).mean()\n",
        "df_test['ema20AD']=df_test['diff'].ewm(span=20, adjust=False).mean()\n",
        "df_test['ema25AD']=df_test['diff'].ewm(span=25, adjust=False).mean()\n",
        "df_test['smooth_ema20']=df_test['ema20AD'].ewm(span=5, adjust=False).mean()\n",
        "df_test['smooth_ema25']=df_test['ema25AD'].ewm(span=10, adjust=False).mean()\n",
        "df_test['ema30AD']=df_test['diff'].ewm(span=30, adjust=False).mean()\n",
        "df_test['ema35AD']=df_test['diff'].ewm(span=35, adjust=False).mean()\n",
        "df_test['ema40AD']=df_test['diff'].ewm(span=40, adjust=False).mean()\n",
        "df_test['ema50AD']=df_test['diff'].ewm(span=50, adjust=False).mean()\n",
        "df_test['ema100AD']=df_test['diff'].ewm(span=100, adjust=False).mean()\n",
        "df_test['smooth_ema50']=df_test['ema50AD'].ewm(span=5, adjust=False).mean()\n",
        "df_test['smooth_ema100']=df_test['ema100AD'].ewm(span=10, adjust=False).mean()"
      ],
      "execution_count": 399,
      "outputs": []
    },
    {
      "cell_type": "code",
      "metadata": {
        "id": "qhbRJ9M2JQA2"
      },
      "source": [
        "price_data_new = df_test.copy()\n",
        "price_data_new=pd.concat([price_data_new,nifty_n['Close']],axis=1)"
      ],
      "execution_count": 400,
      "outputs": []
    },
    {
      "cell_type": "code",
      "metadata": {
        "id": "oZU_gYQRJP9w"
      },
      "source": [
        "# Group by the `Symbol` column, then grab the `Close` column.\n",
        "close_groups = price_data_new['Close']\n",
        "\n",
        "# Apply the lambda function which will return -1.0 for down, 1.0 for up and 0.0 for no change.\n",
        "close_groups = close_groups.transform(lambda x : np.sign(x.diff(days_out)))\n",
        "\n",
        "# add the data to the main dataframe.\n",
        "price_data_new['Prediction'] = close_groups\n",
        "price_data_new = price_data_new.dropna()"
      ],
      "execution_count": 401,
      "outputs": []
    },
    {
      "cell_type": "code",
      "metadata": {
        "colab": {
          "base_uri": "https://localhost:8080/",
          "height": 192
        },
        "id": "PgVOX6QpHoXo",
        "outputId": "84e78396-1d56-427f-eab9-c75a42d91086"
      },
      "source": [
        "ppp =price_data_new.reset_index()\n",
        "ppp.head(2)"
      ],
      "execution_count": 402,
      "outputs": [
        {
          "output_type": "execute_result",
          "data": {
            "text/html": [
              "<div>\n",
              "<style scoped>\n",
              "    .dataframe tbody tr th:only-of-type {\n",
              "        vertical-align: middle;\n",
              "    }\n",
              "\n",
              "    .dataframe tbody tr th {\n",
              "        vertical-align: top;\n",
              "    }\n",
              "\n",
              "    .dataframe thead th {\n",
              "        text-align: right;\n",
              "    }\n",
              "</style>\n",
              "<table border=\"1\" class=\"dataframe\">\n",
              "  <thead>\n",
              "    <tr style=\"text-align: right;\">\n",
              "      <th></th>\n",
              "      <th>Date</th>\n",
              "      <th>Close1</th>\n",
              "      <th>Close2</th>\n",
              "      <th>Close3</th>\n",
              "      <th>Close4</th>\n",
              "      <th>Close5</th>\n",
              "      <th>Close6</th>\n",
              "      <th>Close7</th>\n",
              "      <th>Close8</th>\n",
              "      <th>Close9</th>\n",
              "      <th>Close10</th>\n",
              "      <th>Close11</th>\n",
              "      <th>Close12</th>\n",
              "      <th>Close13</th>\n",
              "      <th>Close14</th>\n",
              "      <th>Close15</th>\n",
              "      <th>Close16</th>\n",
              "      <th>Close17</th>\n",
              "      <th>Close18</th>\n",
              "      <th>Close19</th>\n",
              "      <th>Close20</th>\n",
              "      <th>Close21</th>\n",
              "      <th>Close22</th>\n",
              "      <th>Close23</th>\n",
              "      <th>Close24</th>\n",
              "      <th>Close25</th>\n",
              "      <th>Close26</th>\n",
              "      <th>Close27</th>\n",
              "      <th>Close28</th>\n",
              "      <th>Close29</th>\n",
              "      <th>Close30</th>\n",
              "      <th>Close31</th>\n",
              "      <th>Close32</th>\n",
              "      <th>Close33</th>\n",
              "      <th>Close34</th>\n",
              "      <th>Close35</th>\n",
              "      <th>Close36</th>\n",
              "      <th>Close37</th>\n",
              "      <th>Close38</th>\n",
              "      <th>Close39</th>\n",
              "      <th>...</th>\n",
              "      <th>Close80</th>\n",
              "      <th>Close81</th>\n",
              "      <th>Close82</th>\n",
              "      <th>Close83</th>\n",
              "      <th>Close84</th>\n",
              "      <th>Close85</th>\n",
              "      <th>Close86</th>\n",
              "      <th>Close87</th>\n",
              "      <th>Close88</th>\n",
              "      <th>Close89</th>\n",
              "      <th>Close90</th>\n",
              "      <th>Close91</th>\n",
              "      <th>Close92</th>\n",
              "      <th>Close93</th>\n",
              "      <th>Close94</th>\n",
              "      <th>Close95</th>\n",
              "      <th>Close96</th>\n",
              "      <th>Close97</th>\n",
              "      <th>Close98</th>\n",
              "      <th>diff1</th>\n",
              "      <th>diff2</th>\n",
              "      <th>diff3</th>\n",
              "      <th>diff4</th>\n",
              "      <th>diff5</th>\n",
              "      <th>diff</th>\n",
              "      <th>ema10AD</th>\n",
              "      <th>ema15AD</th>\n",
              "      <th>ema20AD</th>\n",
              "      <th>ema25AD</th>\n",
              "      <th>smooth_ema20</th>\n",
              "      <th>smooth_ema25</th>\n",
              "      <th>ema30AD</th>\n",
              "      <th>ema35AD</th>\n",
              "      <th>ema40AD</th>\n",
              "      <th>ema50AD</th>\n",
              "      <th>ema100AD</th>\n",
              "      <th>smooth_ema50</th>\n",
              "      <th>smooth_ema100</th>\n",
              "      <th>Close</th>\n",
              "      <th>Prediction</th>\n",
              "    </tr>\n",
              "  </thead>\n",
              "  <tbody>\n",
              "    <tr>\n",
              "      <th>0</th>\n",
              "      <td>2019-12-20</td>\n",
              "      <td>125.150002</td>\n",
              "      <td>1293.349976</td>\n",
              "      <td>2222.899902</td>\n",
              "      <td>175.949997</td>\n",
              "      <td>1296.699951</td>\n",
              "      <td>2886.600098</td>\n",
              "      <td>251.800003</td>\n",
              "      <td>731.549988</td>\n",
              "      <td>208.399994</td>\n",
              "      <td>14858.25</td>\n",
              "      <td>372.299988</td>\n",
              "      <td>337.500000</td>\n",
              "      <td>11348.849609</td>\n",
              "      <td>783.349976</td>\n",
              "      <td>3203.75</td>\n",
              "      <td>1943.099976</td>\n",
              "      <td>569.900024</td>\n",
              "      <td>2393.199951</td>\n",
              "      <td>1584.084473</td>\n",
              "      <td>487.799988</td>\n",
              "      <td>3122.250000</td>\n",
              "      <td>139.575027</td>\n",
              "      <td>1837.400024</td>\n",
              "      <td>1475.099976</td>\n",
              "      <td>453.799988</td>\n",
              "      <td>1409.900024</td>\n",
              "      <td>241.149994</td>\n",
              "      <td>127.400002</td>\n",
              "      <td>739.849976</td>\n",
              "      <td>2863.350098</td>\n",
              "      <td>612.700012</td>\n",
              "      <td>461.000000</td>\n",
              "      <td>578.150024</td>\n",
              "      <td>12984.650391</td>\n",
              "      <td>2404.100098</td>\n",
              "      <td>992.750000</td>\n",
              "      <td>1919.599976</td>\n",
              "      <td>706.849976</td>\n",
              "      <td>1229.050049</td>\n",
              "      <td>...</td>\n",
              "      <td>1446.150024</td>\n",
              "      <td>1487.949951</td>\n",
              "      <td>194.449997</td>\n",
              "      <td>9280.049805</td>\n",
              "      <td>64.650002</td>\n",
              "      <td>2222.11499</td>\n",
              "      <td>21992.449219</td>\n",
              "      <td>337.850006</td>\n",
              "      <td>146.300003</td>\n",
              "      <td>498.450012</td>\n",
              "      <td>430.299988</td>\n",
              "      <td>598.200012</td>\n",
              "      <td>470.399994</td>\n",
              "      <td>341.899994</td>\n",
              "      <td>15023.849609</td>\n",
              "      <td>230.550003</td>\n",
              "      <td>1182.099976</td>\n",
              "      <td>1597.994995</td>\n",
              "      <td>124.349998</td>\n",
              "      <td>6</td>\n",
              "      <td>5</td>\n",
              "      <td>4</td>\n",
              "      <td>3</td>\n",
              "      <td>35</td>\n",
              "      <td>53</td>\n",
              "      <td>50.625870</td>\n",
              "      <td>44.568983</td>\n",
              "      <td>39.130414</td>\n",
              "      <td>34.634903</td>\n",
              "      <td>34.930159</td>\n",
              "      <td>25.040323</td>\n",
              "      <td>30.964217</td>\n",
              "      <td>27.948099</td>\n",
              "      <td>25.441529</td>\n",
              "      <td>21.538097</td>\n",
              "      <td>12.110985</td>\n",
              "      <td>18.574250</td>\n",
              "      <td>8.259496</td>\n",
              "      <td>12271.799805</td>\n",
              "      <td>1.0</td>\n",
              "    </tr>\n",
              "    <tr>\n",
              "      <th>1</th>\n",
              "      <td>2019-12-23</td>\n",
              "      <td>124.650002</td>\n",
              "      <td>1300.349976</td>\n",
              "      <td>2231.699951</td>\n",
              "      <td>176.050003</td>\n",
              "      <td>1302.400024</td>\n",
              "      <td>2890.600098</td>\n",
              "      <td>253.850006</td>\n",
              "      <td>736.000000</td>\n",
              "      <td>211.500000</td>\n",
              "      <td>14532.50</td>\n",
              "      <td>366.899994</td>\n",
              "      <td>336.600006</td>\n",
              "      <td>11531.250000</td>\n",
              "      <td>775.950012</td>\n",
              "      <td>3219.50</td>\n",
              "      <td>1950.400024</td>\n",
              "      <td>570.950012</td>\n",
              "      <td>2420.100098</td>\n",
              "      <td>1556.644531</td>\n",
              "      <td>493.000000</td>\n",
              "      <td>3091.800049</td>\n",
              "      <td>139.350037</td>\n",
              "      <td>1867.500000</td>\n",
              "      <td>1475.650024</td>\n",
              "      <td>454.799988</td>\n",
              "      <td>1409.500000</td>\n",
              "      <td>238.899994</td>\n",
              "      <td>126.449997</td>\n",
              "      <td>743.150024</td>\n",
              "      <td>2908.399902</td>\n",
              "      <td>616.150024</td>\n",
              "      <td>462.149994</td>\n",
              "      <td>577.650024</td>\n",
              "      <td>13188.750000</td>\n",
              "      <td>2422.649902</td>\n",
              "      <td>996.799988</td>\n",
              "      <td>1923.099976</td>\n",
              "      <td>698.400024</td>\n",
              "      <td>1240.250000</td>\n",
              "      <td>...</td>\n",
              "      <td>1467.250000</td>\n",
              "      <td>1496.300049</td>\n",
              "      <td>197.750000</td>\n",
              "      <td>9304.049805</td>\n",
              "      <td>63.650002</td>\n",
              "      <td>2217.61499</td>\n",
              "      <td>22012.050781</td>\n",
              "      <td>332.399994</td>\n",
              "      <td>147.949997</td>\n",
              "      <td>502.950012</td>\n",
              "      <td>428.399994</td>\n",
              "      <td>594.150024</td>\n",
              "      <td>468.149994</td>\n",
              "      <td>332.399994</td>\n",
              "      <td>15399.200195</td>\n",
              "      <td>227.300003</td>\n",
              "      <td>1162.650024</td>\n",
              "      <td>1608.342163</td>\n",
              "      <td>123.650002</td>\n",
              "      <td>8</td>\n",
              "      <td>6</td>\n",
              "      <td>5</td>\n",
              "      <td>4</td>\n",
              "      <td>29</td>\n",
              "      <td>52</td>\n",
              "      <td>50.875712</td>\n",
              "      <td>45.497860</td>\n",
              "      <td>40.356089</td>\n",
              "      <td>35.970680</td>\n",
              "      <td>36.738802</td>\n",
              "      <td>27.027661</td>\n",
              "      <td>32.321364</td>\n",
              "      <td>29.284316</td>\n",
              "      <td>26.737065</td>\n",
              "      <td>22.732681</td>\n",
              "      <td>12.900866</td>\n",
              "      <td>19.960394</td>\n",
              "      <td>9.103382</td>\n",
              "      <td>12262.750000</td>\n",
              "      <td>1.0</td>\n",
              "    </tr>\n",
              "  </tbody>\n",
              "</table>\n",
              "<p>2 rows × 120 columns</p>\n",
              "</div>"
            ],
            "text/plain": [
              "        Date      Close1       Close2  ...  smooth_ema100         Close  Prediction\n",
              "0 2019-12-20  125.150002  1293.349976  ...       8.259496  12271.799805         1.0\n",
              "1 2019-12-23  124.650002  1300.349976  ...       9.103382  12262.750000         1.0\n",
              "\n",
              "[2 rows x 120 columns]"
            ]
          },
          "metadata": {},
          "execution_count": 402
        }
      ]
    },
    {
      "cell_type": "code",
      "metadata": {
        "id": "J2ofTJMAM7gC"
      },
      "source": [
        "pred = pd.DataFrame(rand_frst_clf.predict(price_data_new[features]))\n",
        "pred = pd.concat([pred , ppp.Date,ppp.Close],axis=1)\n",
        "pred.columns=['pred','Date','Close']\n",
        "pred= pred.set_index('Date')"
      ],
      "execution_count": 403,
      "outputs": []
    },
    {
      "cell_type": "code",
      "metadata": {
        "id": "PJ8TbIVGM7dA"
      },
      "source": [
        "l=len(pred)\n"
      ],
      "execution_count": 404,
      "outputs": []
    },
    {
      "cell_type": "code",
      "metadata": {
        "colab": {
          "base_uri": "https://localhost:8080/",
          "height": 309
        },
        "id": "e4WM6N1bM7am",
        "outputId": "d50fd2c4-0bb8-4a9c-9d46-aea2d76caa9d"
      },
      "source": [
        "fig, ax = plt.subplots(2,1,figsize=(20,7))\n",
        "ax[0].plot(nifty_n.index.values[-l:],nifty_n['Close'].values[-l:],'*-',linewidth=1 )\n",
        "ax[1].plot(nifty_n.index.values[-l:],pred.pred.values[-l:],'*-',linewidth=1 );"
      ],
      "execution_count": 405,
      "outputs": [
        {
          "output_type": "display_data",
          "data": {
            "image/png": "[encoded data removed]",
            "text/plain": [
              "<Figure size 1440x504 with 2 Axes>"
            ]
          },
          "metadata": {
            "needs_background": "light"
          }
        }
      ]
    },
    {
      "cell_type": "code",
      "metadata": {
        "id": "5s21gw5M26oe"
      },
      "source": [
        "pred=pred.reset_index()"
      ],
      "execution_count": 406,
      "outputs": []
    },
    {
      "cell_type": "code",
      "metadata": {
        "id": "x-dMDOc8NKY_"
      },
      "source": [
        "pred['Buy_ind'] = np.where((pred['pred']==1), 1, 0)\n",
        "pred['Sell_ind'] = np.where((pred['pred']==-1), 0, 1)\n",
        "\n",
        "nifty_n['50_EMA'] = nifty_n[\"Close\"].rolling(50).mean()"
      ],
      "execution_count": 407,
      "outputs": []
    },
    {
      "cell_type": "code",
      "metadata": {
        "id": "D1scf79INKVw",
        "colab": {
          "base_uri": "https://localhost:8080/",
          "height": 343
        },
        "outputId": "b041bb14-45d6-45eb-8473-3a38a91c42f4"
      },
      "source": [
        "plt.figure(figsize=(20,7))\n",
        "## plotting the buy and sell signals on graph\n",
        "plt.plot(nifty_n.index.values[-l:],nifty_n['Close'].values[-l:],'-',linewidth=1)\n",
        "plt.scatter(pred.loc[pred['Buy_ind'] ==1 , 'Date'].values,pred.loc[pred['Buy_ind'] ==1, 'Close'].values, label='skitscat', color='green', s=25, marker=\"^\")\n",
        "plt.scatter(pred.loc[pred['Sell_ind'] ==0 , 'Date'].values,pred.loc[pred['Sell_ind'] ==0, 'Close'].values, label='skitscat', color='red', s=25, marker=\"v\")\n",
        "plt.plot(nifty_n.index.values[-l:],nifty_n['50_EMA'].values[-l:])\n",
        "## Adding labels\n",
        "plt.xlabel('Date')  \n",
        "plt.ylabel('Close Price')  \n",
        "plt.title('AD Nifty price with buy and sell signal ' )"
      ],
      "execution_count": 408,
      "outputs": [
        {
          "output_type": "execute_result",
          "data": {
            "text/plain": [
              "Text(0.5, 1.0, 'AD Nifty price with buy and sell signal ')"
            ]
          },
          "metadata": {},
          "execution_count": 408
        },
        {
          "output_type": "display_data",
          "data": {
            "image/png": "[encoded data removed]",
            "text/plain": [
              "<Figure size 1440x504 with 1 Axes>"
            ]
          },
          "metadata": {
            "needs_background": "light"
          }
        }
      ]
    },
    {
      "cell_type": "code",
      "metadata": {
        "id": "8Mv1PQalNKRX"
      },
      "source": [
        ""
      ],
      "execution_count": 408,
      "outputs": []
    },
    {
      "cell_type": "code",
      "metadata": {
        "id": "rofU1KlaM7YP"
      },
      "source": [
        ""
      ],
      "execution_count": 408,
      "outputs": []
    },
    {
      "cell_type": "code",
      "metadata": {
        "id": "jz5TEGUNHTSV"
      },
      "source": [
        "df['advances'] = df['diff']"
      ],
      "execution_count": 409,
      "outputs": []
    },
    {
      "cell_type": "code",
      "metadata": {
        "id": "1G178C-HiQrp"
      },
      "source": [
        "df['declines']= len(nifty100)-df['advances']"
      ],
      "execution_count": 410,
      "outputs": []
    },
    {
      "cell_type": "code",
      "metadata": {
        "id": "5sgc1EVoiShr"
      },
      "source": [
        "#mc-clellan oscillator \n",
        "# ratio adjusted advances=(advances - declines)/(advances+declines)\n",
        "df['advances_ratio'] = (df['advances'] - df['declines'])/(df['advances']+df['declines'])"
      ],
      "execution_count": 411,
      "outputs": []
    },
    {
      "cell_type": "code",
      "metadata": {
        "id": "32Psg4uij2kv"
      },
      "source": [
        "df['ema19'] = df['advances_ratio'].ewm(span=19).mean()\n",
        "df['ema39'] = df['advances_ratio'].ewm(span=39).mean()"
      ],
      "execution_count": 412,
      "outputs": []
    },
    {
      "cell_type": "code",
      "metadata": {
        "id": "A2wk_FyfiebK"
      },
      "source": [
        "'''\n",
        "McClellan Oscillator: 19-day EMA of RANA - 39-day EMA of RANA\n",
        "\n",
        "19-day EMA* = (Current Day RANA - Prior Day EMA) * .10 + Prior Day EMA)\n",
        "39-day EMA* = (Current Day RANA - Prior Day EMA) * .05 + Prior Day EMA)\n",
        "'''\n",
        "\n",
        "df['mcclellan19'] = (df['advances_ratio']-df['ema19'].shift(1))*0.1+df['ema19'].shift(1)"
      ],
      "execution_count": 413,
      "outputs": []
    },
    {
      "cell_type": "code",
      "metadata": {
        "id": "ndiTbPqAkpTD"
      },
      "source": [
        "df['mcclellan39'] = (df['advances_ratio']-df['ema39'].shift(1))*0.05+df['ema39'].shift(1)"
      ],
      "execution_count": 414,
      "outputs": []
    },
    {
      "cell_type": "code",
      "metadata": {
        "id": "fBdTHhEak-vD"
      },
      "source": [
        "df['mcclellan']=df['mcclellan19']-df['mcclellan39']"
      ],
      "execution_count": 415,
      "outputs": []
    },
    {
      "cell_type": "code",
      "metadata": {
        "id": "Z_fAaxuclNeL"
      },
      "source": [
        "df['mc_summation']=df['mcclellan'].cumsum()"
      ],
      "execution_count": 416,
      "outputs": []
    },
    {
      "cell_type": "code",
      "metadata": {
        "id": "zOIH6trfmwG4"
      },
      "source": [
        "'''\n",
        "MCSI=PDMCSI+CDMCO\n",
        "where:\n",
        "MCSI=McClellan Summation Index\n",
        "PDMCSI=Previous Day’s McClellan Summation Index,\n",
        "equal to the t = 0 (initial value) MCSI value for that\n",
        "specific period’s McClellan Oscillator\n",
        "CDMCO=Current Day’s McClellan Oscillator\n",
        "​'''\n",
        "df['msci']=df['mcclellan']+df['mc_summation'].shift(1)"
      ],
      "execution_count": 417,
      "outputs": []
    },
    {
      "cell_type": "markdown",
      "metadata": {
        "id": "G3FSOmSFhn4f"
      },
      "source": [
        "# Mc-Clellan Oscillator For Nifty"
      ]
    },
    {
      "cell_type": "code",
      "metadata": {
        "id": "AGq_wU8PnNYQ",
        "colab": {
          "base_uri": "https://localhost:8080/",
          "height": 0
        },
        "outputId": "ff275b89-8506-4dcb-dfd2-4722f517ad42"
      },
      "source": [
        "plt.rcParams[\"figure.figsize\"] = (10,10)\n",
        "fig,ax=plt.subplots(2,1,sharex=True)\n",
        "ax[0].plot(df.loc[:,:].index,df.loc[:,'msci'],label='Summation Index')\n",
        "ax[1].plot(nifty.loc[:,:].index,nifty.loc[:,'Close'],label='Nifty')\n",
        "ax[0].axhline(y=2.5,color='r')\n",
        "ax[0].axhline(y=1.75,color='g')\n",
        "plt.suptitle('Mc-Clellan Summation Index Vs Nifty')\n",
        "yloc = YearLocator()\n",
        "mloc = MonthLocator()\n",
        "ax[0].xaxis.set_major_locator(mloc)\n",
        "ax[1].xaxis.set_major_locator(mloc)\n",
        "ax[0].legend()\n",
        "ax[1].legend()\n",
        "ax[0].grid(linewidth =2)\n",
        "ax[1].grid(linewidth =2)\n",
        "\n",
        "\n",
        "plt.show()"
      ],
      "execution_count": 418,
      "outputs": [
        {
          "output_type": "display_data",
          "data": {
            "image/png": "[encoded data removed]",
            "text/plain": [
              "<Figure size 720x720 with 2 Axes>"
            ]
          },
          "metadata": {
            "needs_background": "light"
          }
        }
      ]
    }
  ]
}