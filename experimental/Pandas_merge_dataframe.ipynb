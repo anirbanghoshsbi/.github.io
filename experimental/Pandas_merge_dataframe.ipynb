{
  "nbformat": 4,
  "nbformat_minor": 0,
  "metadata": {
    "colab": {
      "name": "Pandas_merge_dataframe.ipynb",
      "provenance": [],
      "authorship_tag": "ABX9TyOBiS8120s64RovRcvMN0FU",
      "include_colab_link": true
    },
    "kernelspec": {
      "name": "python3",
      "display_name": "Python 3"
    },
    "language_info": {
      "name": "python"
    }
  },
  "cells": [
    {
      "cell_type": "markdown",
      "metadata": {
        "id": "view-in-github",
        "colab_type": "text"
      },
      "source": [
        "<a href=\"https://colab.research.google.com/github/anirbanghoshsbi/.github.io/blob/master/experimental/Pandas_merge_dataframe.ipynb\" target=\"_parent\"><img src=\"https://colab.research.google.com/assets/colab-badge.svg\" alt=\"Open In Colab\"/></a>"
      ]
    },
    {
      "cell_type": "code",
      "execution_count": 3,
      "metadata": {
        "id": "Oz5y5tbXhqo_"
      },
      "outputs": [],
      "source": [
        "import pandas as pd\n",
        "import numpy as np\n",
        "import matplotlib.pyplot as plt\n",
        "import datetime"
      ]
    },
    {
      "cell_type": "code",
      "source": [
        "data= pd.read_csv('/content/OANDA_USDINR, 1D.csv')\n",
        "data['Date']=data.time.apply(lambda d: datetime.datetime.fromtimestamp(int(d)).strftime('%d-%m-%Y'))"
      ],
      "metadata": {
        "id": "HUuiil7AhrlI"
      },
      "execution_count": 4,
      "outputs": []
    },
    {
      "cell_type": "code",
      "source": [
        "data['Date']=pd.to_datetime(data['Date'])"
      ],
      "metadata": {
        "id": "IpISzRAVjmI4"
      },
      "execution_count": 19,
      "outputs": []
    },
    {
      "cell_type": "code",
      "source": [
        "!pip install yfinance "
      ],
      "metadata": {
        "id": "xzFoD7Zfh_xo"
      },
      "execution_count": null,
      "outputs": []
    },
    {
      "cell_type": "code",
      "source": [
        "import yfinance as yf"
      ],
      "metadata": {
        "id": "q6-tIl9giA_A"
      },
      "execution_count": 7,
      "outputs": []
    },
    {
      "cell_type": "code",
      "source": [
        "nifty=yf.download('^nsei','2020-02-01').reset_index()"
      ],
      "metadata": {
        "colab": {
          "base_uri": "https://localhost:8080/"
        },
        "id": "YeYEdWIQiSZI",
        "outputId": "90a8e416-c248-4e8f-acc2-0c9bba476d1b"
      },
      "execution_count": 11,
      "outputs": [
        {
          "output_type": "stream",
          "name": "stdout",
          "text": [
            "\r[*********************100%***********************]  1 of 1 completed\n"
          ]
        }
      ]
    },
    {
      "cell_type": "code",
      "source": [
        "nifty['Date']=pd.to_datetime(nifty['Date'])"
      ],
      "metadata": {
        "id": "Ugzz4l42ibMP"
      },
      "execution_count": 20,
      "outputs": []
    },
    {
      "cell_type": "code",
      "source": [
        "data.columns"
      ],
      "metadata": {
        "colab": {
          "base_uri": "https://localhost:8080/"
        },
        "id": "zPp-Mmzwidmv",
        "outputId": "dab12156-b036-4912-9bda-3b877db6cb78"
      },
      "execution_count": 21,
      "outputs": [
        {
          "output_type": "execute_result",
          "data": {
            "text/plain": [
              "Index(['time', 'open', 'high', 'low', 'close', 'Volume', 'Volume MA', 'Date'], dtype='object')"
            ]
          },
          "metadata": {},
          "execution_count": 21
        }
      ]
    },
    {
      "cell_type": "code",
      "source": [
        "nifty.merge(data,on='Date')"
      ],
      "metadata": {
        "colab": {
          "base_uri": "https://localhost:8080/",
          "height": 679
        },
        "id": "XWuGAG8Migpf",
        "outputId": "e71ff293-e52f-4cd3-cca5-0c2df6819562"
      },
      "execution_count": 22,
      "outputs": [
        {
          "output_type": "execute_result",
          "data": {
            "text/html": [
              "\n",
              "  <div id=\"df-27113c9b-c840-4051-b9c0-f81c308ad7b6\">\n",
              "    <div class=\"colab-df-container\">\n",
              "      <div>\n",
              "<style scoped>\n",
              "    .dataframe tbody tr th:only-of-type {\n",
              "        vertical-align: middle;\n",
              "    }\n",
              "\n",
              "    .dataframe tbody tr th {\n",
              "        vertical-align: top;\n",
              "    }\n",
              "\n",
              "    .dataframe thead th {\n",
              "        text-align: right;\n",
              "    }\n",
              "</style>\n",
              "<table border=\"1\" class=\"dataframe\">\n",
              "  <thead>\n",
              "    <tr style=\"text-align: right;\">\n",
              "      <th></th>\n",
              "      <th>Date</th>\n",
              "      <th>Open</th>\n",
              "      <th>High</th>\n",
              "      <th>Low</th>\n",
              "      <th>Close</th>\n",
              "      <th>Adj Close</th>\n",
              "      <th>Volume_x</th>\n",
              "      <th>time</th>\n",
              "      <th>open</th>\n",
              "      <th>high</th>\n",
              "      <th>low</th>\n",
              "      <th>close</th>\n",
              "      <th>Volume_y</th>\n",
              "      <th>Volume MA</th>\n",
              "    </tr>\n",
              "  </thead>\n",
              "  <tbody>\n",
              "    <tr>\n",
              "      <th>0</th>\n",
              "      <td>2020-02-03</td>\n",
              "      <td>11627.450195</td>\n",
              "      <td>11749.849609</td>\n",
              "      <td>11614.500000</td>\n",
              "      <td>11707.900391</td>\n",
              "      <td>11707.900391</td>\n",
              "      <td>669800</td>\n",
              "      <td>1583186400</td>\n",
              "      <td>72.586</td>\n",
              "      <td>73.538</td>\n",
              "      <td>72.490</td>\n",
              "      <td>73.408</td>\n",
              "      <td>9628</td>\n",
              "      <td>3234.15</td>\n",
              "    </tr>\n",
              "    <tr>\n",
              "      <th>1</th>\n",
              "      <td>2020-02-04</td>\n",
              "      <td>11786.250000</td>\n",
              "      <td>11986.150391</td>\n",
              "      <td>11783.400391</td>\n",
              "      <td>11979.650391</td>\n",
              "      <td>11979.650391</td>\n",
              "      <td>560400</td>\n",
              "      <td>1585861200</td>\n",
              "      <td>75.913</td>\n",
              "      <td>76.398</td>\n",
              "      <td>75.484</td>\n",
              "      <td>76.375</td>\n",
              "      <td>6402</td>\n",
              "      <td>6085.85</td>\n",
              "    </tr>\n",
              "    <tr>\n",
              "      <th>2</th>\n",
              "      <td>2020-02-06</td>\n",
              "      <td>12120.000000</td>\n",
              "      <td>12160.599609</td>\n",
              "      <td>12084.650391</td>\n",
              "      <td>12137.950195</td>\n",
              "      <td>12137.950195</td>\n",
              "      <td>565100</td>\n",
              "      <td>1591131600</td>\n",
              "      <td>74.756</td>\n",
              "      <td>75.278</td>\n",
              "      <td>74.653</td>\n",
              "      <td>75.046</td>\n",
              "      <td>4224</td>\n",
              "      <td>3878.35</td>\n",
              "    </tr>\n",
              "    <tr>\n",
              "      <th>3</th>\n",
              "      <td>2020-02-07</td>\n",
              "      <td>12151.150391</td>\n",
              "      <td>12154.700195</td>\n",
              "      <td>12073.950195</td>\n",
              "      <td>12098.349609</td>\n",
              "      <td>12098.349609</td>\n",
              "      <td>473500</td>\n",
              "      <td>1593723600</td>\n",
              "      <td>74.457</td>\n",
              "      <td>74.544</td>\n",
              "      <td>74.266</td>\n",
              "      <td>74.405</td>\n",
              "      <td>2130</td>\n",
              "      <td>3076.05</td>\n",
              "    </tr>\n",
              "    <tr>\n",
              "      <th>4</th>\n",
              "      <td>2020-02-11</td>\n",
              "      <td>12108.400391</td>\n",
              "      <td>12172.299805</td>\n",
              "      <td>12099.000000</td>\n",
              "      <td>12107.900391</td>\n",
              "      <td>12107.900391</td>\n",
              "      <td>480000</td>\n",
              "      <td>1604354400</td>\n",
              "      <td>74.490</td>\n",
              "      <td>74.702</td>\n",
              "      <td>74.216</td>\n",
              "      <td>74.653</td>\n",
              "      <td>3338</td>\n",
              "      <td>2785.90</td>\n",
              "    </tr>\n",
              "    <tr>\n",
              "      <th>...</th>\n",
              "      <td>...</td>\n",
              "      <td>...</td>\n",
              "      <td>...</td>\n",
              "      <td>...</td>\n",
              "      <td>...</td>\n",
              "      <td>...</td>\n",
              "      <td>...</td>\n",
              "      <td>...</td>\n",
              "      <td>...</td>\n",
              "      <td>...</td>\n",
              "      <td>...</td>\n",
              "      <td>...</td>\n",
              "      <td>...</td>\n",
              "      <td>...</td>\n",
              "    </tr>\n",
              "    <tr>\n",
              "      <th>359</th>\n",
              "      <td>2021-12-23</td>\n",
              "      <td>17066.800781</td>\n",
              "      <td>17118.650391</td>\n",
              "      <td>17015.550781</td>\n",
              "      <td>17072.599609</td>\n",
              "      <td>17072.599609</td>\n",
              "      <td>197000</td>\n",
              "      <td>1640296800</td>\n",
              "      <td>75.019</td>\n",
              "      <td>75.152</td>\n",
              "      <td>74.962</td>\n",
              "      <td>75.055</td>\n",
              "      <td>2068</td>\n",
              "      <td>4796.45</td>\n",
              "    </tr>\n",
              "    <tr>\n",
              "      <th>360</th>\n",
              "      <td>2021-12-27</td>\n",
              "      <td>16937.750000</td>\n",
              "      <td>17112.050781</td>\n",
              "      <td>16833.199219</td>\n",
              "      <td>17086.250000</td>\n",
              "      <td>17086.250000</td>\n",
              "      <td>144800</td>\n",
              "      <td>1640642400</td>\n",
              "      <td>74.903</td>\n",
              "      <td>74.950</td>\n",
              "      <td>74.554</td>\n",
              "      <td>74.705</td>\n",
              "      <td>2089</td>\n",
              "      <td>4599.20</td>\n",
              "    </tr>\n",
              "    <tr>\n",
              "      <th>361</th>\n",
              "      <td>2021-12-28</td>\n",
              "      <td>17177.599609</td>\n",
              "      <td>17250.250000</td>\n",
              "      <td>17161.150391</td>\n",
              "      <td>17233.250000</td>\n",
              "      <td>17233.250000</td>\n",
              "      <td>176000</td>\n",
              "      <td>1640728800</td>\n",
              "      <td>74.705</td>\n",
              "      <td>74.804</td>\n",
              "      <td>74.480</td>\n",
              "      <td>74.485</td>\n",
              "      <td>2625</td>\n",
              "      <td>4548.05</td>\n",
              "    </tr>\n",
              "    <tr>\n",
              "      <th>362</th>\n",
              "      <td>2021-12-29</td>\n",
              "      <td>17220.099609</td>\n",
              "      <td>17285.949219</td>\n",
              "      <td>17176.650391</td>\n",
              "      <td>17213.599609</td>\n",
              "      <td>17213.599609</td>\n",
              "      <td>161700</td>\n",
              "      <td>1640815200</td>\n",
              "      <td>74.485</td>\n",
              "      <td>74.602</td>\n",
              "      <td>74.204</td>\n",
              "      <td>74.432</td>\n",
              "      <td>1635</td>\n",
              "      <td>4480.80</td>\n",
              "    </tr>\n",
              "    <tr>\n",
              "      <th>363</th>\n",
              "      <td>2021-12-30</td>\n",
              "      <td>17201.449219</td>\n",
              "      <td>17264.050781</td>\n",
              "      <td>17146.349609</td>\n",
              "      <td>17203.949219</td>\n",
              "      <td>17203.949219</td>\n",
              "      <td>320800</td>\n",
              "      <td>1640901600</td>\n",
              "      <td>74.432</td>\n",
              "      <td>74.521</td>\n",
              "      <td>74.050</td>\n",
              "      <td>74.487</td>\n",
              "      <td>2010</td>\n",
              "      <td>4418.60</td>\n",
              "    </tr>\n",
              "  </tbody>\n",
              "</table>\n",
              "<p>364 rows × 14 columns</p>\n",
              "</div>\n",
              "      <button class=\"colab-df-convert\" onclick=\"convertToInteractive('df-27113c9b-c840-4051-b9c0-f81c308ad7b6')\"\n",
              "              title=\"Convert this dataframe to an interactive table.\"\n",
              "              style=\"display:none;\">\n",
              "        \n",
              "  <svg xmlns=\"http://www.w3.org/2000/svg\" height=\"24px\"viewBox=\"0 0 24 24\"\n",
              "       width=\"24px\">\n",
              "    <path d=\"M0 0h24v24H0V0z\" fill=\"none\"/>\n",
              "    <path d=\"M18.56 5.44l.94 2.06.94-2.06 2.06-.94-2.06-.94-.94-2.06-.94 2.06-2.06.94zm-11 1L8.5 8.5l.94-2.06 2.06-.94-2.06-.94L8.5 2.5l-.94 2.06-2.06.94zm10 10l.94 2.06.94-2.06 2.06-.94-2.06-.94-.94-2.06-.94 2.06-2.06.94z\"/><path d=\"M17.41 7.96l-1.37-1.37c-.4-.4-.92-.59-1.43-.59-.52 0-1.04.2-1.43.59L10.3 9.45l-7.72 7.72c-.78.78-.78 2.05 0 2.83L4 21.41c.39.39.9.59 1.41.59.51 0 1.02-.2 1.41-.59l7.78-7.78 2.81-2.81c.8-.78.8-2.07 0-2.86zM5.41 20L4 18.59l7.72-7.72 1.47 1.35L5.41 20z\"/>\n",
              "  </svg>\n",
              "      </button>\n",
              "      \n",
              "  <style>\n",
              "    .colab-df-container {\n",
              "      display:flex;\n",
              "      flex-wrap:wrap;\n",
              "      gap: 12px;\n",
              "    }\n",
              "\n",
              "    .colab-df-convert {\n",
              "      background-color: #E8F0FE;\n",
              "      border: none;\n",
              "      border-radius: 50%;\n",
              "      cursor: pointer;\n",
              "      display: none;\n",
              "      fill: #1967D2;\n",
              "      height: 32px;\n",
              "      padding: 0 0 0 0;\n",
              "      width: 32px;\n",
              "    }\n",
              "\n",
              "    .colab-df-convert:hover {\n",
              "      background-color: #E2EBFA;\n",
              "      box-shadow: 0px 1px 2px rgba(60, 64, 67, 0.3), 0px 1px 3px 1px rgba(60, 64, 67, 0.15);\n",
              "      fill: #174EA6;\n",
              "    }\n",
              "\n",
              "    [theme=dark] .colab-df-convert {\n",
              "      background-color: #3B4455;\n",
              "      fill: #D2E3FC;\n",
              "    }\n",
              "\n",
              "    [theme=dark] .colab-df-convert:hover {\n",
              "      background-color: #434B5C;\n",
              "      box-shadow: 0px 1px 3px 1px rgba(0, 0, 0, 0.15);\n",
              "      filter: drop-shadow(0px 1px 2px rgba(0, 0, 0, 0.3));\n",
              "      fill: #FFFFFF;\n",
              "    }\n",
              "  </style>\n",
              "\n",
              "      <script>\n",
              "        const buttonEl =\n",
              "          document.querySelector('#df-27113c9b-c840-4051-b9c0-f81c308ad7b6 button.colab-df-convert');\n",
              "        buttonEl.style.display =\n",
              "          google.colab.kernel.accessAllowed ? 'block' : 'none';\n",
              "\n",
              "        async function convertToInteractive(key) {\n",
              "          const element = document.querySelector('#df-27113c9b-c840-4051-b9c0-f81c308ad7b6');\n",
              "          const dataTable =\n",
              "            await google.colab.kernel.invokeFunction('convertToInteractive',\n",
              "                                                     [key], {});\n",
              "          if (!dataTable) return;\n",
              "\n",
              "          const docLinkHtml = 'Like what you see? Visit the ' +\n",
              "            '<a target=\"_blank\" href=https://colab.research.google.com/notebooks/data_table.ipynb>data table notebook</a>'\n",
              "            + ' to learn more about interactive tables.';\n",
              "          element.innerHTML = '';\n",
              "          dataTable['output_type'] = 'display_data';\n",
              "          await google.colab.output.renderOutput(dataTable, element);\n",
              "          const docLink = document.createElement('div');\n",
              "          docLink.innerHTML = docLinkHtml;\n",
              "          element.appendChild(docLink);\n",
              "        }\n",
              "      </script>\n",
              "    </div>\n",
              "  </div>\n",
              "  "
            ],
            "text/plain": [
              "          Date          Open          High  ...   close  Volume_y  Volume MA\n",
              "0   2020-02-03  11627.450195  11749.849609  ...  73.408      9628    3234.15\n",
              "1   2020-02-04  11786.250000  11986.150391  ...  76.375      6402    6085.85\n",
              "2   2020-02-06  12120.000000  12160.599609  ...  75.046      4224    3878.35\n",
              "3   2020-02-07  12151.150391  12154.700195  ...  74.405      2130    3076.05\n",
              "4   2020-02-11  12108.400391  12172.299805  ...  74.653      3338    2785.90\n",
              "..         ...           ...           ...  ...     ...       ...        ...\n",
              "359 2021-12-23  17066.800781  17118.650391  ...  75.055      2068    4796.45\n",
              "360 2021-12-27  16937.750000  17112.050781  ...  74.705      2089    4599.20\n",
              "361 2021-12-28  17177.599609  17250.250000  ...  74.485      2625    4548.05\n",
              "362 2021-12-29  17220.099609  17285.949219  ...  74.432      1635    4480.80\n",
              "363 2021-12-30  17201.449219  17264.050781  ...  74.487      2010    4418.60\n",
              "\n",
              "[364 rows x 14 columns]"
            ]
          },
          "metadata": {},
          "execution_count": 22
        }
      ]
    },
    {
      "cell_type": "code",
      "source": [
        "#https://stackoverflow.com/questions/53645882/pandas-merging-101"
      ],
      "metadata": {
        "id": "S2hCvSv6kEgf"
      },
      "execution_count": null,
      "outputs": []
    }
  ]
}