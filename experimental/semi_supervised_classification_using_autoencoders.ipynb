{
  "cells": [
    {
      "cell_type": "markdown",
      "metadata": {
        "id": "view-in-github",
        "colab_type": "text"
      },
      "source": [
        "<a href=\"https://colab.research.google.com/github/anirbanghoshsbi/.github.io/blob/master/experimental/semi_supervised_classification_using_autoencoders.ipynb\" target=\"_parent\"><img src=\"https://colab.research.google.com/assets/colab-badge.svg\" alt=\"Open In Colab\"/></a>"
      ]
    },
    {
      "metadata": {
        "_uuid": "8f2839f25d086af736a60e9eeb907d3b93b6e0e5",
        "_cell_guid": "b1076dfc-b9ad-4769-8c92-a6c4dae69d19",
        "trusted": true,
        "id": "vyfFxQInw8IW"
      },
      "cell_type": "markdown",
      "source": [
        "<h1 align=\"center\">Semi Supervised Classification using AutoEncoders</h1>\n",
        "\n",
        "## Introduction\n",
        "\n",
        "By definition, machine learning can be defined as a complex process of learning the best possible and most relevant patterns, relationships, or associations from a dataset which can be used to predict the outcomes on unseen data. Broadly, their exists three different machine learning processes: \n",
        "\n",
        "**1. Supervised Learning** is a process of training a machine learning model on a labelled dataset ie. a dataset in which the target variable is known. In this technique, the model aims to find the relationships among the independent and dependent variable. Examples of supervised learning are classification, regression and forecasting. \n",
        "\n",
        "**2. Unsupervised Learning** is a process of training a machine learning model on a dataset in which target variable is not known. In this technique, the model aims to find the most relevant patterns in the data or the segments of data. Examples of unsupervised learning are clustering, segmentations, dimensionality reduction etc. \n",
        "\n",
        "**3. Semi-Supervised Learning** is combination of supervised and unsupervised learning processes in which the unlabelled data is used for training a model as well. In this approach, the properties of unspervised learning are used to learn the best possible representation of data and the properties of supervised learning are used to learn the relationships in the representations which are then used to make predictions. \n",
        "\n",
        "<p align=\"center\">In this kernel, I have explained how to perform classification task using semi supervised learning approach. This approach makes use of autoencoders to learn the representation of the data then a simple linear classifier is trained to classify the dataset into respective classes.  \n",
        " \n",
        "<br>\n",
        "<h1 align=\"center\">Fraud Detection using Semi Supervised Learning</h1>  \n",
        "\n",
        "I am using the dataset of [Credit Card Fraud Detection](https://www.kaggle.com/mlg-ulb/creditcardfraud) by ULB machine learning group. Later, I am also applying the same technique on [Titanic](https://www.kaggle.com/c/titanic) dataset. A number of kagglers have shared different approaches such as dataset balancing, anomaly detection, boosting models, deep learning etc but this approach is different. \n",
        "\n",
        "### Contents \n",
        "\n",
        "1. Dataset Preparation  \n",
        "2. Visualize Fraud Vs Non Fraud Transactions  \n",
        "3. AutoEncoders : Latent Representation Extraction  \n",
        "4. Obtain the Latent Representations  \n",
        "5. Visualize Latent Representations : Fraud vs Non Fraud  \n",
        "6. Simple Linear Classifier  \n",
        "7. Applying the same technique on Titanic Dataset\n",
        " \n",
        "## 1. Dataset Preparation\n",
        "\n",
        "First, we will load all the required libraries and load the dataset using pandas dataframe. \n",
        " \n",
        "\n"
      ]
    },
    {
      "metadata": {
        "_cell_guid": "79c7e3d0-c299-4dcb-8224-4455121ee9b0",
        "_uuid": "d629ff2d2480ee46fbb7e2d37f6b5fab8052498a",
        "trusted": true,
        "_kg_hide-input": true,
        "colab": {
          "base_uri": "https://localhost:8080/",
          "height": 478
        },
        "id": "j0QE3_SPw8Ie",
        "outputId": "debfa192-827e-489b-db25-a109f1cf9427"
      },
      "cell_type": "code",
      "source": [
        "from keras.layers import Input, Dense\n",
        "from keras.models import Model, Sequential\n",
        "from keras import regularizers\n",
        "from sklearn.model_selection import train_test_split \n",
        "from sklearn.linear_model import LogisticRegression\n",
        "from sklearn.metrics import classification_report, accuracy_score\n",
        "from sklearn.manifold import TSNE\n",
        "from sklearn import preprocessing \n",
        "import matplotlib.pyplot as plt\n",
        "import pandas as pd \n",
        "import numpy as np\n",
        "import seaborn as sns\n",
        "sns.set(style=\"whitegrid\")\n",
        "np.random.seed(203)\n",
        "import datetime\n",
        "\n",
        "\n",
        "data = pd.read_csv(\"/content/NSE_NIFTY, 1D.csv\")\n",
        "data['date']=data.time.apply(lambda d: datetime.datetime.fromtimestamp(int(d)).strftime('%d-%m-%Y'))\n",
        "# define the number of days out you want to predict\n",
        "days_out =14\n",
        "# create a new column that will house the flag, and for each group calculate the diff compared to 30 days ago. Then use Numpy to define the sign.\n",
        "data.head()"
      ],
      "execution_count": 112,
      "outputs": [
        {
          "output_type": "execute_result",
          "data": {
            "text/html": [
              "\n",
              "  <div id=\"df-4578cdde-6d63-4363-8b7d-e1e0368d726a\">\n",
              "    <div class=\"colab-df-container\">\n",
              "      <div>\n",
              "<style scoped>\n",
              "    .dataframe tbody tr th:only-of-type {\n",
              "        vertical-align: middle;\n",
              "    }\n",
              "\n",
              "    .dataframe tbody tr th {\n",
              "        vertical-align: top;\n",
              "    }\n",
              "\n",
              "    .dataframe thead th {\n",
              "        text-align: right;\n",
              "    }\n",
              "</style>\n",
              "<table border=\"1\" class=\"dataframe\">\n",
              "  <thead>\n",
              "    <tr style=\"text-align: right;\">\n",
              "      <th></th>\n",
              "      <th>time</th>\n",
              "      <th>open</th>\n",
              "      <th>high</th>\n",
              "      <th>low</th>\n",
              "      <th>close</th>\n",
              "      <th>IN10, TVC: Open</th>\n",
              "      <th>IN10, TVC: High</th>\n",
              "      <th>IN10, TVC: Low</th>\n",
              "      <th>IN10, TVC: Close</th>\n",
              "      <th>USDINR, IDC: Open</th>\n",
              "      <th>USDINR, IDC: High</th>\n",
              "      <th>USDINR, IDC: Low</th>\n",
              "      <th>USDINR, IDC: Close</th>\n",
              "      <th>BDI, INDEX: Open</th>\n",
              "      <th>BDI, INDEX: High</th>\n",
              "      <th>BDI, INDEX: Low</th>\n",
              "      <th>BDI, INDEX: Close</th>\n",
              "      <th>Volume</th>\n",
              "      <th>Volume MA</th>\n",
              "      <th>date</th>\n",
              "    </tr>\n",
              "  </thead>\n",
              "  <tbody>\n",
              "    <tr>\n",
              "      <th>0</th>\n",
              "      <td>1114659900</td>\n",
              "      <td>1935.65</td>\n",
              "      <td>1950.25</td>\n",
              "      <td>1921.05</td>\n",
              "      <td>1941.30</td>\n",
              "      <td>NaN</td>\n",
              "      <td>NaN</td>\n",
              "      <td>NaN</td>\n",
              "      <td>NaN</td>\n",
              "      <td>43.695</td>\n",
              "      <td>43.725</td>\n",
              "      <td>43.65</td>\n",
              "      <td>43.695</td>\n",
              "      <td>3921.0</td>\n",
              "      <td>3921.0</td>\n",
              "      <td>3921.0</td>\n",
              "      <td>3921.0</td>\n",
              "      <td>NaN</td>\n",
              "      <td>NaN</td>\n",
              "      <td>28-04-2005</td>\n",
              "    </tr>\n",
              "    <tr>\n",
              "      <th>1</th>\n",
              "      <td>1114746300</td>\n",
              "      <td>1943.20</td>\n",
              "      <td>1943.20</td>\n",
              "      <td>1896.30</td>\n",
              "      <td>1902.50</td>\n",
              "      <td>NaN</td>\n",
              "      <td>NaN</td>\n",
              "      <td>NaN</td>\n",
              "      <td>NaN</td>\n",
              "      <td>43.695</td>\n",
              "      <td>43.740</td>\n",
              "      <td>43.38</td>\n",
              "      <td>43.380</td>\n",
              "      <td>3850.0</td>\n",
              "      <td>3850.0</td>\n",
              "      <td>3850.0</td>\n",
              "      <td>3850.0</td>\n",
              "      <td>NaN</td>\n",
              "      <td>NaN</td>\n",
              "      <td>29-04-2005</td>\n",
              "    </tr>\n",
              "    <tr>\n",
              "      <th>2</th>\n",
              "      <td>1115005500</td>\n",
              "      <td>1903.10</td>\n",
              "      <td>1925.60</td>\n",
              "      <td>1898.15</td>\n",
              "      <td>1916.75</td>\n",
              "      <td>NaN</td>\n",
              "      <td>NaN</td>\n",
              "      <td>NaN</td>\n",
              "      <td>NaN</td>\n",
              "      <td>43.440</td>\n",
              "      <td>43.585</td>\n",
              "      <td>43.44</td>\n",
              "      <td>43.540</td>\n",
              "      <td>NaN</td>\n",
              "      <td>NaN</td>\n",
              "      <td>NaN</td>\n",
              "      <td>NaN</td>\n",
              "      <td>NaN</td>\n",
              "      <td>NaN</td>\n",
              "      <td>02-05-2005</td>\n",
              "    </tr>\n",
              "    <tr>\n",
              "      <th>3</th>\n",
              "      <td>1115091900</td>\n",
              "      <td>1916.95</td>\n",
              "      <td>1940.10</td>\n",
              "      <td>1911.00</td>\n",
              "      <td>1920.70</td>\n",
              "      <td>NaN</td>\n",
              "      <td>NaN</td>\n",
              "      <td>NaN</td>\n",
              "      <td>NaN</td>\n",
              "      <td>43.555</td>\n",
              "      <td>43.600</td>\n",
              "      <td>43.51</td>\n",
              "      <td>43.550</td>\n",
              "      <td>3815.0</td>\n",
              "      <td>3815.0</td>\n",
              "      <td>3815.0</td>\n",
              "      <td>3815.0</td>\n",
              "      <td>NaN</td>\n",
              "      <td>NaN</td>\n",
              "      <td>03-05-2005</td>\n",
              "    </tr>\n",
              "    <tr>\n",
              "      <th>4</th>\n",
              "      <td>1115178300</td>\n",
              "      <td>1920.50</td>\n",
              "      <td>1944.45</td>\n",
              "      <td>1920.15</td>\n",
              "      <td>1942.60</td>\n",
              "      <td>NaN</td>\n",
              "      <td>NaN</td>\n",
              "      <td>NaN</td>\n",
              "      <td>NaN</td>\n",
              "      <td>43.575</td>\n",
              "      <td>43.575</td>\n",
              "      <td>43.42</td>\n",
              "      <td>43.460</td>\n",
              "      <td>3835.0</td>\n",
              "      <td>3835.0</td>\n",
              "      <td>3835.0</td>\n",
              "      <td>3835.0</td>\n",
              "      <td>NaN</td>\n",
              "      <td>NaN</td>\n",
              "      <td>04-05-2005</td>\n",
              "    </tr>\n",
              "  </tbody>\n",
              "</table>\n",
              "</div>\n",
              "      <button class=\"colab-df-convert\" onclick=\"convertToInteractive('df-4578cdde-6d63-4363-8b7d-e1e0368d726a')\"\n",
              "              title=\"Convert this dataframe to an interactive table.\"\n",
              "              style=\"display:none;\">\n",
              "        \n",
              "  <svg xmlns=\"http://www.w3.org/2000/svg\" height=\"24px\"viewBox=\"0 0 24 24\"\n",
              "       width=\"24px\">\n",
              "    <path d=\"M0 0h24v24H0V0z\" fill=\"none\"/>\n",
              "    <path d=\"M18.56 5.44l.94 2.06.94-2.06 2.06-.94-2.06-.94-.94-2.06-.94 2.06-2.06.94zm-11 1L8.5 8.5l.94-2.06 2.06-.94-2.06-.94L8.5 2.5l-.94 2.06-2.06.94zm10 10l.94 2.06.94-2.06 2.06-.94-2.06-.94-.94-2.06-.94 2.06-2.06.94z\"/><path d=\"M17.41 7.96l-1.37-1.37c-.4-.4-.92-.59-1.43-.59-.52 0-1.04.2-1.43.59L10.3 9.45l-7.72 7.72c-.78.78-.78 2.05 0 2.83L4 21.41c.39.39.9.59 1.41.59.51 0 1.02-.2 1.41-.59l7.78-7.78 2.81-2.81c.8-.78.8-2.07 0-2.86zM5.41 20L4 18.59l7.72-7.72 1.47 1.35L5.41 20z\"/>\n",
              "  </svg>\n",
              "      </button>\n",
              "      \n",
              "  <style>\n",
              "    .colab-df-container {\n",
              "      display:flex;\n",
              "      flex-wrap:wrap;\n",
              "      gap: 12px;\n",
              "    }\n",
              "\n",
              "    .colab-df-convert {\n",
              "      background-color: #E8F0FE;\n",
              "      border: none;\n",
              "      border-radius: 50%;\n",
              "      cursor: pointer;\n",
              "      display: none;\n",
              "      fill: #1967D2;\n",
              "      height: 32px;\n",
              "      padding: 0 0 0 0;\n",
              "      width: 32px;\n",
              "    }\n",
              "\n",
              "    .colab-df-convert:hover {\n",
              "      background-color: #E2EBFA;\n",
              "      box-shadow: 0px 1px 2px rgba(60, 64, 67, 0.3), 0px 1px 3px 1px rgba(60, 64, 67, 0.15);\n",
              "      fill: #174EA6;\n",
              "    }\n",
              "\n",
              "    [theme=dark] .colab-df-convert {\n",
              "      background-color: #3B4455;\n",
              "      fill: #D2E3FC;\n",
              "    }\n",
              "\n",
              "    [theme=dark] .colab-df-convert:hover {\n",
              "      background-color: #434B5C;\n",
              "      box-shadow: 0px 1px 3px 1px rgba(0, 0, 0, 0.15);\n",
              "      filter: drop-shadow(0px 1px 2px rgba(0, 0, 0, 0.3));\n",
              "      fill: #FFFFFF;\n",
              "    }\n",
              "  </style>\n",
              "\n",
              "      <script>\n",
              "        const buttonEl =\n",
              "          document.querySelector('#df-4578cdde-6d63-4363-8b7d-e1e0368d726a button.colab-df-convert');\n",
              "        buttonEl.style.display =\n",
              "          google.colab.kernel.accessAllowed ? 'block' : 'none';\n",
              "\n",
              "        async function convertToInteractive(key) {\n",
              "          const element = document.querySelector('#df-4578cdde-6d63-4363-8b7d-e1e0368d726a');\n",
              "          const dataTable =\n",
              "            await google.colab.kernel.invokeFunction('convertToInteractive',\n",
              "                                                     [key], {});\n",
              "          if (!dataTable) return;\n",
              "\n",
              "          const docLinkHtml = 'Like what you see? Visit the ' +\n",
              "            '<a target=\"_blank\" href=https://colab.research.google.com/notebooks/data_table.ipynb>data table notebook</a>'\n",
              "            + ' to learn more about interactive tables.';\n",
              "          element.innerHTML = '';\n",
              "          dataTable['output_type'] = 'display_data';\n",
              "          await google.colab.output.renderOutput(dataTable, element);\n",
              "          const docLink = document.createElement('div');\n",
              "          docLink.innerHTML = docLinkHtml;\n",
              "          element.appendChild(docLink);\n",
              "        }\n",
              "      </script>\n",
              "    </div>\n",
              "  </div>\n",
              "  "
            ],
            "text/plain": [
              "         time     open     high  ...  Volume  Volume MA        date\n",
              "0  1114659900  1935.65  1950.25  ...     NaN        NaN  28-04-2005\n",
              "1  1114746300  1943.20  1943.20  ...     NaN        NaN  29-04-2005\n",
              "2  1115005500  1903.10  1925.60  ...     NaN        NaN  02-05-2005\n",
              "3  1115091900  1916.95  1940.10  ...     NaN        NaN  03-05-2005\n",
              "4  1115178300  1920.50  1944.45  ...     NaN        NaN  04-05-2005\n",
              "\n",
              "[5 rows x 20 columns]"
            ]
          },
          "metadata": {},
          "execution_count": 112
        }
      ]
    },
    {
      "metadata": {
        "_uuid": "31d24b43cc68d57d8b0f788b79a3b505d9f241fa",
        "id": "GUF2vcMxw8Ig"
      },
      "cell_type": "markdown",
      "source": [
        "The dataset consists of 28 anonymized variables, 1 \"amount\" variable, 1 \"time\" variable and 1 target variable - Class. Let's look at the distribution of target. "
      ]
    },
    {
      "cell_type": "code",
      "source": [
        "data['Signal_Flag'] = data['close'].transform(lambda x : np.sign(x.diff(days_out)))\n",
        "data['Signal_Flag'] = np.where(data['Signal_Flag']>0,1,0)"
      ],
      "metadata": {
        "id": "6GwWGUtyxzqI"
      },
      "execution_count": 113,
      "outputs": []
    },
    {
      "metadata": {
        "trusted": true,
        "_uuid": "b6297199e793b1e42cf70bd5e77523b60211303a",
        "_kg_hide-input": true,
        "colab": {
          "base_uri": "https://localhost:8080/",
          "height": 112
        },
        "id": "38iQGQdcw8Ih",
        "outputId": "59605826-1ddf-416c-b0fc-d3cb6af41e88"
      },
      "cell_type": "code",
      "source": [
        "vc = data['Signal_Flag'].value_counts().to_frame().reset_index()\n",
        "vc['percent'] = vc['Signal_Flag'].apply(lambda x : round(100*float(x) / len(data), 2))\n",
        "vc = vc.rename(columns = {\"index\" : \"Target\", \"Class\" : \"Count\"})\n",
        "vc"
      ],
      "execution_count": 114,
      "outputs": [
        {
          "output_type": "execute_result",
          "data": {
            "text/html": [
              "\n",
              "  <div id=\"df-68bee70a-029b-414a-b579-fe2eacd9143f\">\n",
              "    <div class=\"colab-df-container\">\n",
              "      <div>\n",
              "<style scoped>\n",
              "    .dataframe tbody tr th:only-of-type {\n",
              "        vertical-align: middle;\n",
              "    }\n",
              "\n",
              "    .dataframe tbody tr th {\n",
              "        vertical-align: top;\n",
              "    }\n",
              "\n",
              "    .dataframe thead th {\n",
              "        text-align: right;\n",
              "    }\n",
              "</style>\n",
              "<table border=\"1\" class=\"dataframe\">\n",
              "  <thead>\n",
              "    <tr style=\"text-align: right;\">\n",
              "      <th></th>\n",
              "      <th>Target</th>\n",
              "      <th>Signal_Flag</th>\n",
              "      <th>percent</th>\n",
              "    </tr>\n",
              "  </thead>\n",
              "  <tbody>\n",
              "    <tr>\n",
              "      <th>0</th>\n",
              "      <td>1</td>\n",
              "      <td>2568</td>\n",
              "      <td>62.12</td>\n",
              "    </tr>\n",
              "    <tr>\n",
              "      <th>1</th>\n",
              "      <td>0</td>\n",
              "      <td>1566</td>\n",
              "      <td>37.88</td>\n",
              "    </tr>\n",
              "  </tbody>\n",
              "</table>\n",
              "</div>\n",
              "      <button class=\"colab-df-convert\" onclick=\"convertToInteractive('df-68bee70a-029b-414a-b579-fe2eacd9143f')\"\n",
              "              title=\"Convert this dataframe to an interactive table.\"\n",
              "              style=\"display:none;\">\n",
              "        \n",
              "  <svg xmlns=\"http://www.w3.org/2000/svg\" height=\"24px\"viewBox=\"0 0 24 24\"\n",
              "       width=\"24px\">\n",
              "    <path d=\"M0 0h24v24H0V0z\" fill=\"none\"/>\n",
              "    <path d=\"M18.56 5.44l.94 2.06.94-2.06 2.06-.94-2.06-.94-.94-2.06-.94 2.06-2.06.94zm-11 1L8.5 8.5l.94-2.06 2.06-.94-2.06-.94L8.5 2.5l-.94 2.06-2.06.94zm10 10l.94 2.06.94-2.06 2.06-.94-2.06-.94-.94-2.06-.94 2.06-2.06.94z\"/><path d=\"M17.41 7.96l-1.37-1.37c-.4-.4-.92-.59-1.43-.59-.52 0-1.04.2-1.43.59L10.3 9.45l-7.72 7.72c-.78.78-.78 2.05 0 2.83L4 21.41c.39.39.9.59 1.41.59.51 0 1.02-.2 1.41-.59l7.78-7.78 2.81-2.81c.8-.78.8-2.07 0-2.86zM5.41 20L4 18.59l7.72-7.72 1.47 1.35L5.41 20z\"/>\n",
              "  </svg>\n",
              "      </button>\n",
              "      \n",
              "  <style>\n",
              "    .colab-df-container {\n",
              "      display:flex;\n",
              "      flex-wrap:wrap;\n",
              "      gap: 12px;\n",
              "    }\n",
              "\n",
              "    .colab-df-convert {\n",
              "      background-color: #E8F0FE;\n",
              "      border: none;\n",
              "      border-radius: 50%;\n",
              "      cursor: pointer;\n",
              "      display: none;\n",
              "      fill: #1967D2;\n",
              "      height: 32px;\n",
              "      padding: 0 0 0 0;\n",
              "      width: 32px;\n",
              "    }\n",
              "\n",
              "    .colab-df-convert:hover {\n",
              "      background-color: #E2EBFA;\n",
              "      box-shadow: 0px 1px 2px rgba(60, 64, 67, 0.3), 0px 1px 3px 1px rgba(60, 64, 67, 0.15);\n",
              "      fill: #174EA6;\n",
              "    }\n",
              "\n",
              "    [theme=dark] .colab-df-convert {\n",
              "      background-color: #3B4455;\n",
              "      fill: #D2E3FC;\n",
              "    }\n",
              "\n",
              "    [theme=dark] .colab-df-convert:hover {\n",
              "      background-color: #434B5C;\n",
              "      box-shadow: 0px 1px 3px 1px rgba(0, 0, 0, 0.15);\n",
              "      filter: drop-shadow(0px 1px 2px rgba(0, 0, 0, 0.3));\n",
              "      fill: #FFFFFF;\n",
              "    }\n",
              "  </style>\n",
              "\n",
              "      <script>\n",
              "        const buttonEl =\n",
              "          document.querySelector('#df-68bee70a-029b-414a-b579-fe2eacd9143f button.colab-df-convert');\n",
              "        buttonEl.style.display =\n",
              "          google.colab.kernel.accessAllowed ? 'block' : 'none';\n",
              "\n",
              "        async function convertToInteractive(key) {\n",
              "          const element = document.querySelector('#df-68bee70a-029b-414a-b579-fe2eacd9143f');\n",
              "          const dataTable =\n",
              "            await google.colab.kernel.invokeFunction('convertToInteractive',\n",
              "                                                     [key], {});\n",
              "          if (!dataTable) return;\n",
              "\n",
              "          const docLinkHtml = 'Like what you see? Visit the ' +\n",
              "            '<a target=\"_blank\" href=https://colab.research.google.com/notebooks/data_table.ipynb>data table notebook</a>'\n",
              "            + ' to learn more about interactive tables.';\n",
              "          element.innerHTML = '';\n",
              "          dataTable['output_type'] = 'display_data';\n",
              "          await google.colab.output.renderOutput(dataTable, element);\n",
              "          const docLink = document.createElement('div');\n",
              "          docLink.innerHTML = docLinkHtml;\n",
              "          element.appendChild(docLink);\n",
              "        }\n",
              "      </script>\n",
              "    </div>\n",
              "  </div>\n",
              "  "
            ],
            "text/plain": [
              "   Target  Signal_Flag  percent\n",
              "0       1         2568    62.12\n",
              "1       0         1566    37.88"
            ]
          },
          "metadata": {},
          "execution_count": 114
        }
      ]
    },
    {
      "metadata": {
        "_uuid": "e12fdaef51899f0ea1f29c1ee06a7f9905f15efd",
        "id": "r7o-mOHqw8Ih"
      },
      "cell_type": "markdown",
      "source": [
        "One of the biggest challenge of this problem is that the **target is highly imbalanced** as only **0.17 %** cases are fraud transactions. But the advantage of the representation learning approach is that it is still able to handle such imbalance nature of the problems. We will look how.  For our use-case let's take only about 1000 rows of non-fraud transactions. \n",
        "\n",
        "## Consider only 1000 rows of non fraud cases"
      ]
    },
    {
      "metadata": {
        "trusted": true,
        "_uuid": "2cc83013814c8335c944bea30a3d26f8632e8e50",
        "id": "LLvIa6Cpw8Ii"
      },
      "cell_type": "code",
      "source": [
        "up_day = data[data['Signal_Flag'] == 1].fillna(0)\n",
        "down_day = data[data['Signal_Flag'] ==0].fillna(0)\n",
        "\n",
        "df = up_day.append(down_day).sample(frac=0.8).reset_index(drop=True)\n",
        "test= up_day.append(down_day).sample(frac=0.2).reset_index(drop=True)\n",
        "X = df.drop(['date','Signal_Flag'], axis = 1).values\n",
        "Y = df['Signal_Flag'].values"
      ],
      "execution_count": 115,
      "outputs": []
    },
    {
      "metadata": {
        "_uuid": "11469d9b644aecfba1fd99771ebfd842e3d2dae8",
        "id": "FzNystrbw8Ii"
      },
      "cell_type": "markdown",
      "source": [
        "## 2. Visualize Fraud and NonFraud Transactions \n",
        "\n",
        "Let's visualize the nature of fraud and non-fraud transactions using T-SNE. T-SNE (t-Distributed Stochastic Neighbor Embedding) is a dataset decomposition technique which reduced the dimentions of data and produces only top n components with maximum information.  \n",
        "\n",
        "Every dot in the following represents a transaction. Non Fraud transactions are represented as Green while Fraud transactions are represented as Red. The two axis are the components extracted by tsne. "
      ]
    },
    {
      "metadata": {
        "_kg_hide-input": true,
        "trusted": true,
        "_uuid": "eebf4244b1895411e2eab804a09121420b887972",
        "colab": {
          "base_uri": "https://localhost:8080/",
          "height": 574
        },
        "id": "V57Wcx4nw8Ii",
        "outputId": "1d057db5-340b-4974-86c1-bbf41163d047"
      },
      "cell_type": "code",
      "source": [
        "def tsne_plot(x1, y1, name=\"graph.png\"):\n",
        "    tsne = TSNE(n_components=2, random_state=0)\n",
        "    X_t = tsne.fit_transform(x1)\n",
        "\n",
        "    plt.figure(figsize=(12, 8))\n",
        "    plt.scatter(X_t[np.where(y1 == 0), 0], X_t[np.where(y1 == 0), 1], marker='o', color='g', linewidth='1', alpha=0.8, label='Up Day')\n",
        "    plt.scatter(X_t[np.where(y1 == 1), 0], X_t[np.where(y1 == 1), 1], marker='o', color='r', linewidth='1', alpha=0.8, label='Down Day')\n",
        "\n",
        "    plt.legend(loc='best');\n",
        "    plt.savefig(name);\n",
        "    plt.show();\n",
        "    \n",
        "tsne_plot(X, Y, \"original.png\")"
      ],
      "execution_count": 116,
      "outputs": [
        {
          "output_type": "stream",
          "name": "stderr",
          "text": [
            "/usr/local/lib/python3.7/dist-packages/sklearn/manifold/_t_sne.py:783: FutureWarning: The default initialization in TSNE will change from 'random' to 'pca' in 1.2.\n",
            "  FutureWarning,\n",
            "/usr/local/lib/python3.7/dist-packages/sklearn/manifold/_t_sne.py:793: FutureWarning: The default learning rate in TSNE will change from 200.0 to 'auto' in 1.2.\n",
            "  FutureWarning,\n"
          ]
        },
        {
          "output_type": "display_data",
          "data": {
            "image/png": "[encoded data removed]",
            "text/plain": [
              "<Figure size 864x576 with 1 Axes>"
            ]
          },
          "metadata": {}
        }
      ]
    },
    {
      "metadata": {
        "_uuid": "90872adfd25e4b2925ad3fb89c03ebc1c6eff585",
        "id": "OnFTE5iKw8Ii"
      },
      "cell_type": "markdown",
      "source": [
        "From the above graph we can observe that there are many non_fraud transactions which are very close to fraud transactions, thus are difficult to accurately classify from a model. \n",
        "\n",
        "## 3. AutoEncoders to the rescue \n",
        "\n",
        "<br>\n",
        "**What are Autoencoders?** - Autoencoders are a special type of neural network architectures in which the output is same as the input. Autoencoders are trained in an unsupervised manner in order to learn the exteremely low level repersentations of the input data. These low level features are then deformed back to project the actual data. An autoencoder is a regression task where the network is asked to predict its input (in other words, model the identity function). These networks has a tight bottleneck of a few neurons in the middle, forcing them to create effective representations that compress the input into a low-dimensional code that can be used by the decoder to reproduce the original input. \n",
        "\n",
        "**More about Autoencoders** - If you want to gain more understanding about autoencoders, you can refer to the following kernel : https://www.kaggle.com/shivamb/how-autoencoders-work-intro-and-usecases\n",
        "\n",
        "![](https://i.imgur.com/Rrmaise.png)\n",
        "\n",
        "We will create an autoencoder model in which we only show the model non-fraud cases. The model will try to learn the best representation of non-fraud cases. The same model will be used to generate the representations of fraud cases and we expect them to be different from non-fraud ones. \n",
        "\n",
        "Create a network with one input layer and one output layer having identical dimentions ie. the shape of non-fraud cases. We will use keras package. "
      ]
    },
    {
      "metadata": {
        "trusted": true,
        "_uuid": "2bd0b3f316c15b36a9e3641097b7c211501d65d0",
        "id": "PWMRFC2Tw8Ij"
      },
      "cell_type": "code",
      "source": [
        "## input layer \n",
        "input_layer = Input(shape=(X.shape[1],))\n",
        "\n",
        "## encoding part\n",
        "encoded = Dense(100, activation='tanh', activity_regularizer=regularizers.l1(10e-5))(input_layer)\n",
        "encoded = Dense(50, activation='relu')(encoded)\n",
        "\n",
        "## decoding part\n",
        "decoded = Dense(50, activation='tanh')(encoded)\n",
        "decoded = Dense(100, activation='tanh')(decoded)\n",
        "\n",
        "## output layer\n",
        "output_layer = Dense(X.shape[1], activation='relu')(decoded)"
      ],
      "execution_count": 117,
      "outputs": []
    },
    {
      "metadata": {
        "_uuid": "609e28ca8121751dc742ab61ac693afe4b787add",
        "id": "rVpN_ZRLw8Ij"
      },
      "cell_type": "markdown",
      "source": [
        "Create the model architecture by compiling input layer and output layers. Also add the optimizer and loss function, I am using \"adadelta\" as the optimizer and \"mse\" as the loss function."
      ]
    },
    {
      "metadata": {
        "trusted": true,
        "_uuid": "07e57e257f2f0ce03f9d1ccf3c72018f1e3598eb",
        "id": "x4hb-6Qsw8Ij"
      },
      "cell_type": "code",
      "source": [
        "autoencoder = Model(input_layer, output_layer)\n",
        "autoencoder.compile(optimizer=\"adadelta\", loss=\"mse\")"
      ],
      "execution_count": 118,
      "outputs": []
    },
    {
      "metadata": {
        "_uuid": "bbc57b57e6a1c17c2887921cf56a0c73beae1872",
        "id": "FzYlOsHnw8Ik"
      },
      "cell_type": "markdown",
      "source": [
        "Before training, let's perform min max scaling. "
      ]
    },
    {
      "metadata": {
        "trusted": true,
        "_uuid": "5dd72f5f24de29dabd74919c13f53a3bd5c76343",
        "id": "eFieSX9pw8Ik"
      },
      "cell_type": "code",
      "source": [
        "x = data.drop(['date','Signal_Flag'], axis=1).fillna(0)\n",
        "y = data['Signal_Flag'].values\n",
        "actuals = test['Signal_Flag'].values\n",
        "test=test.drop(['date','Signal_Flag'],axis=1)\n",
        "x_scale = preprocessing.MinMaxScaler().fit_transform(x.values)\n",
        "test_x_scale = preprocessing.MinMaxScaler().fit_transform(test.values)\n",
        "x_up, x_down = x_scale[y == 1], x_scale[y == 0]"
      ],
      "execution_count": 119,
      "outputs": []
    },
    {
      "metadata": {
        "_uuid": "40c2b5323c91bf45a9964a95dbf4d7015431f617",
        "id": "SieOJ--Qw8Ik"
      },
      "cell_type": "markdown",
      "source": [
        "The beauty of this approach is that we do not need too many samples of data for learning the good representations. We will use **only 2000 rows** of non fraud cases to train the autoencoder. Additionally, We do not need to run this model for a large number of epochs. \n",
        "\n",
        "**Explanation:** The choice of small samples from the original dataset is based on the intuition that one class characteristics (non fraud) will differ from that of the other (fraud). To distinguish these characteristics we need to show the autoencoders only one class of data. This is because the autoencoder will try to learn only one class and automaticlly distinuish the other class. "
      ]
    },
    {
      "metadata": {
        "trusted": true,
        "_uuid": "53ddb5aac591a59efb65ae1ae7d68414cac862f1",
        "colab": {
          "base_uri": "https://localhost:8080/"
        },
        "id": "7QcJ_4xAw8Ik",
        "outputId": "c76a2768-5190-42d1-c230-19dcaedc4256"
      },
      "cell_type": "code",
      "source": [
        "autoencoder.fit(x_up, x_up, \n",
        "                batch_size = 64, epochs = 10, \n",
        "                shuffle = False, validation_split = 0.20);"
      ],
      "execution_count": 120,
      "outputs": [
        {
          "output_type": "stream",
          "name": "stdout",
          "text": [
            "Epoch 1/10\n",
            "33/33 [==============================] - 1s 12ms/step - loss: 0.1701 - val_loss: 0.4149\n",
            "Epoch 2/10\n",
            "33/33 [==============================] - 0s 7ms/step - loss: 0.1695 - val_loss: 0.4138\n",
            "Epoch 3/10\n",
            "33/33 [==============================] - 0s 6ms/step - loss: 0.1690 - val_loss: 0.4128\n",
            "Epoch 4/10\n",
            "33/33 [==============================] - 0s 7ms/step - loss: 0.1685 - val_loss: 0.4119\n",
            "Epoch 5/10\n",
            "33/33 [==============================] - 0s 6ms/step - loss: 0.1680 - val_loss: 0.4110\n",
            "Epoch 6/10\n",
            "33/33 [==============================] - 0s 6ms/step - loss: 0.1675 - val_loss: 0.4101\n",
            "Epoch 7/10\n",
            "33/33 [==============================] - 0s 6ms/step - loss: 0.1670 - val_loss: 0.4093\n",
            "Epoch 8/10\n",
            "33/33 [==============================] - 0s 6ms/step - loss: 0.1665 - val_loss: 0.4085\n",
            "Epoch 9/10\n",
            "33/33 [==============================] - 0s 6ms/step - loss: 0.1660 - val_loss: 0.4077\n",
            "Epoch 10/10\n",
            "33/33 [==============================] - 0s 6ms/step - loss: 0.1655 - val_loss: 0.4069\n"
          ]
        }
      ]
    },
    {
      "metadata": {
        "_uuid": "a4fa0ded1e3dcbbb8489633fab737ef8f76e015f",
        "id": "vx_HrWl2w8Il"
      },
      "cell_type": "markdown",
      "source": [
        "## 4. Obtain the Latent Representations \n",
        "\n",
        "Now, the model is trained. We are intereseted in obtaining **latent representation of the input** learned by the model. This can be accessed by the weights of the trained model. We will create another network containing sequential layers, and we will only add the trained weights till the third layer where latent representation exists. "
      ]
    },
    {
      "metadata": {
        "trusted": true,
        "_uuid": "924e89c74cb0b5e58dc1c597f521199e0cbf6480",
        "id": "MxDKslYSw8Il"
      },
      "cell_type": "code",
      "source": [
        "hidden_representation = Sequential()\n",
        "hidden_representation.add(autoencoder.layers[0])\n",
        "hidden_representation.add(autoencoder.layers[1])\n",
        "hidden_representation.add(autoencoder.layers[2])"
      ],
      "execution_count": 121,
      "outputs": []
    },
    {
      "metadata": {
        "_uuid": "d41a12fa8f376756290cb96aa155f88daff83efe",
        "id": "b2mOKxeXw8Il"
      },
      "cell_type": "markdown",
      "source": [
        "Generate the hidden representations of two classes : non-fraud and fraud by predicting the raw inputs using the above model."
      ]
    },
    {
      "metadata": {
        "trusted": true,
        "_uuid": "68d84866ed99a90282e832cd813dec11aed32561",
        "id": "rzg5xiXow8Im"
      },
      "cell_type": "code",
      "source": [
        "norm_hid_rep = hidden_representation.predict(x_up)\n",
        "fraud_hid_rep = hidden_representation.predict(x_down)"
      ],
      "execution_count": 123,
      "outputs": []
    },
    {
      "metadata": {
        "_uuid": "49178e07df9b34143b0219f2dec5fd1587bc44cd",
        "id": "E-YgDkQrw8Im"
      },
      "cell_type": "markdown",
      "source": [
        "## 5. Visualize the latent representations : Fraud Vs Non Fraud\n",
        "\n",
        "Now we will create a training dataset using the latent representations obtained and let's visualize the nature of fraud vs non-fraud cases. "
      ]
    },
    {
      "metadata": {
        "trusted": true,
        "_uuid": "10eebe15aa8ee9919713d6c398fe64cb10d07ce0",
        "colab": {
          "base_uri": "https://localhost:8080/",
          "height": 574
        },
        "id": "fwhMPdtbw8Im",
        "outputId": "c36bd3fb-669b-4ac2-8609-ecee7ab97886"
      },
      "cell_type": "code",
      "source": [
        "rep_x = np.append(norm_hid_rep, fraud_hid_rep, axis = 0)\n",
        "y_n = np.zeros(norm_hid_rep.shape[0])\n",
        "y_f = np.ones(fraud_hid_rep.shape[0])\n",
        "rep_y = np.append(y_n, y_f)\n",
        "tsne_plot(rep_x, rep_y, \"latent_representation.png\")"
      ],
      "execution_count": 124,
      "outputs": [
        {
          "output_type": "stream",
          "name": "stderr",
          "text": [
            "/usr/local/lib/python3.7/dist-packages/sklearn/manifold/_t_sne.py:783: FutureWarning: The default initialization in TSNE will change from 'random' to 'pca' in 1.2.\n",
            "  FutureWarning,\n",
            "/usr/local/lib/python3.7/dist-packages/sklearn/manifold/_t_sne.py:793: FutureWarning: The default learning rate in TSNE will change from 200.0 to 'auto' in 1.2.\n",
            "  FutureWarning,\n"
          ]
        },
        {
          "output_type": "display_data",
          "data": {
            "image/png": "[encoded data removed]",
            "text/plain": [
              "<Figure size 864x576 with 1 Axes>"
            ]
          },
          "metadata": {}
        }
      ]
    },
    {
      "metadata": {
        "_uuid": "871ed3ef0b7ff354ba2391a8759e7181ed26b5e2",
        "id": "t9BC82Hiw8In"
      },
      "cell_type": "markdown",
      "source": [
        "What a perfect graph, we can observe that now fraud and non-fraud transactions are pretty visibile and are linearly separable. Now we dont need any complex model to classify this, even the simpler models can be used to predict.  Here is the before and after view of Fraud and Non Fraud transactions."
      ]
    },
    {
      "metadata": {
        "_uuid": "8c3615441819dc2466c043cff6d40535a9dbbdee",
        "id": "-EatZLVPw8In"
      },
      "cell_type": "markdown",
      "source": [
        "Now, we can just train a simple linear classifier on the dataset. \n",
        "\n",
        "## 6. Simple Linear Classifier"
      ]
    },
    {
      "metadata": {
        "trusted": true,
        "_uuid": "9e4b7db9546a4a2ac9dfdb518efd262980b85e6c",
        "colab": {
          "base_uri": "https://localhost:8080/"
        },
        "id": "QRLpOWUzw8In",
        "outputId": "7f84d7af-1f03-4cdd-be54-5ec2c12cd5d1"
      },
      "cell_type": "code",
      "source": [
        "train_x, val_x, train_y, val_y = train_test_split(rep_x, rep_y, test_size=0.25,shuffle=False)\n",
        "clf = LogisticRegression(solver=\"lbfgs\").fit(train_x, train_y)\n",
        "pred_y = clf.predict(val_x)\n",
        "\n",
        "print (\"\")\n",
        "print (\"Classification Report: \")\n",
        "print (classification_report(val_y, pred_y))\n",
        "\n",
        "print (\"\")\n",
        "print (\"Accuracy Score: \", accuracy_score(val_y, pred_y))"
      ],
      "execution_count": 126,
      "outputs": [
        {
          "output_type": "stream",
          "name": "stdout",
          "text": [
            "\n",
            "Classification Report: \n",
            "              precision    recall  f1-score   support\n",
            "\n",
            "         0.0       0.00      0.00      0.00       0.0\n",
            "         1.0       0.00      0.00      0.00    1034.0\n",
            "\n",
            "    accuracy                           0.00    1034.0\n",
            "   macro avg       0.00      0.00      0.00    1034.0\n",
            "weighted avg       0.00      0.00      0.00    1034.0\n",
            "\n",
            "\n",
            "Accuracy Score:  0.0\n"
          ]
        },
        {
          "output_type": "stream",
          "name": "stderr",
          "text": [
            "/usr/local/lib/python3.7/dist-packages/sklearn/metrics/_classification.py:1318: UndefinedMetricWarning: Precision and F-score are ill-defined and being set to 0.0 in labels with no predicted samples. Use `zero_division` parameter to control this behavior.\n",
            "  _warn_prf(average, modifier, msg_start, len(result))\n",
            "/usr/local/lib/python3.7/dist-packages/sklearn/metrics/_classification.py:1318: UndefinedMetricWarning: Recall and F-score are ill-defined and being set to 0.0 in labels with no true samples. Use `zero_division` parameter to control this behavior.\n",
            "  _warn_prf(average, modifier, msg_start, len(result))\n",
            "/usr/local/lib/python3.7/dist-packages/sklearn/metrics/_classification.py:1318: UndefinedMetricWarning: Precision and F-score are ill-defined and being set to 0.0 in labels with no predicted samples. Use `zero_division` parameter to control this behavior.\n",
            "  _warn_prf(average, modifier, msg_start, len(result))\n",
            "/usr/local/lib/python3.7/dist-packages/sklearn/metrics/_classification.py:1318: UndefinedMetricWarning: Recall and F-score are ill-defined and being set to 0.0 in labels with no true samples. Use `zero_division` parameter to control this behavior.\n",
            "  _warn_prf(average, modifier, msg_start, len(result))\n",
            "/usr/local/lib/python3.7/dist-packages/sklearn/metrics/_classification.py:1318: UndefinedMetricWarning: Precision and F-score are ill-defined and being set to 0.0 in labels with no predicted samples. Use `zero_division` parameter to control this behavior.\n",
            "  _warn_prf(average, modifier, msg_start, len(result))\n",
            "/usr/local/lib/python3.7/dist-packages/sklearn/metrics/_classification.py:1318: UndefinedMetricWarning: Recall and F-score are ill-defined and being set to 0.0 in labels with no true samples. Use `zero_division` parameter to control this behavior.\n",
            "  _warn_prf(average, modifier, msg_start, len(result))\n"
          ]
        }
      ]
    },
    {
      "cell_type": "code",
      "source": [
        "test_x_scale.shape"
      ],
      "metadata": {
        "colab": {
          "base_uri": "https://localhost:8080/"
        },
        "id": "wjwmKzVA-H5N",
        "outputId": "3cc96b79-5e1e-4f81-f835-fdcad64d9145"
      },
      "execution_count": 127,
      "outputs": [
        {
          "output_type": "execute_result",
          "data": {
            "text/plain": [
              "(827, 19)"
            ]
          },
          "metadata": {},
          "execution_count": 127
        }
      ]
    },
    {
      "cell_type": "code",
      "source": [
        ""
      ],
      "metadata": {
        "id": "mcJAVDKG-zb9"
      },
      "execution_count": 127,
      "outputs": []
    },
    {
      "cell_type": "code",
      "source": [
        "\n",
        "test_rep_x = hidden_representation.predict(test_x_scale)\n",
        "dd=pd.DataFrame({'actual':actuals,'pred':[int(x) for x in clf.predict(test_rep_x)]})\n",
        "print (\"\")\n",
        "print (\"Classification Report: \")\n",
        "print (classification_report(dd['actual'], dd['pred']))\n",
        "\n",
        "print (\"\")\n",
        "#print (\"Accuracy Score: \", accuracy_score(val_y, pred_y))"
      ],
      "metadata": {
        "colab": {
          "base_uri": "https://localhost:8080/"
        },
        "id": "Tn8cqmKO6QMI",
        "outputId": "d787f603-02d0-4600-eba3-c8260b221305"
      },
      "execution_count": 131,
      "outputs": [
        {
          "output_type": "stream",
          "name": "stdout",
          "text": [
            "\n",
            "Classification Report: \n",
            "              precision    recall  f1-score   support\n",
            "\n",
            "           0       0.38      0.56      0.45       323\n",
            "           1       0.60      0.42      0.49       504\n",
            "\n",
            "    accuracy                           0.47       827\n",
            "   macro avg       0.49      0.49      0.47       827\n",
            "weighted avg       0.51      0.47      0.48       827\n",
            "\n",
            "\n"
          ]
        }
      ]
    }
  ],
  "metadata": {
    "kernelspec": {
      "display_name": "Python 3",
      "language": "python",
      "name": "python3"
    },
    "language_info": {
      "name": "python",
      "version": "3.6.6",
      "mimetype": "text/x-python",
      "codemirror_mode": {
        "name": "ipython",
        "version": 3
      },
      "pygments_lexer": "ipython3",
      "nbconvert_exporter": "python",
      "file_extension": ".py"
    },
    "colab": {
      "name": "semi-supervised-classification-using-autoencoders.ipynb",
      "provenance": [],
      "include_colab_link": true
    }
  },
  "nbformat": 4,
  "nbformat_minor": 0
}