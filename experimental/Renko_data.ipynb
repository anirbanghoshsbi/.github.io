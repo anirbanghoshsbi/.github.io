{
  "nbformat": 4,
  "nbformat_minor": 0,
  "metadata": {
    "colab": {
      "name": "Renko_data.ipynb",
      "provenance": [],
      "authorship_tag": "ABX9TyMfYIn2LyWXZnzSracNZOqm",
      "include_colab_link": true
    },
    "kernelspec": {
      "name": "python3",
      "display_name": "Python 3"
    },
    "language_info": {
      "name": "python"
    }
  },
  "cells": [
    {
      "cell_type": "markdown",
      "metadata": {
        "id": "view-in-github",
        "colab_type": "text"
      },
      "source": [
        "<a href=\"https://colab.research.google.com/github/anirbanghoshsbi/.github.io/blob/master/experimental/Renko_data.ipynb\" target=\"_parent\"><img src=\"https://colab.research.google.com/assets/colab-badge.svg\" alt=\"Open In Colab\"/></a>"
      ]
    },
    {
      "cell_type": "code",
      "source": [
        "def make_preds(new_data, trained_model,model_name):\n",
        "      '''\n",
        "      new_data : df except the prediction column\n",
        "      trained_model : trained model for actual prediction\n",
        "      df : dataframe with the date column\n",
        "      returns a df\n",
        "      '''\n",
        "      pred1 = pd.DataFrame(trained_model.predict(new_data))\n",
        "      #ppp =df.reset_index()\n",
        "      #pred1 = pd.concat([pred1 , ppp.Date],axis=1)\n",
        "      #pred1= pred1.set_index('Date')\n",
        "      pred1.columns = ['preds'+str(model_name)]\n",
        "      return pred1"
      ],
      "metadata": {
        "id": "Xn9ijONCZQOI"
      },
      "execution_count": 342,
      "outputs": []
    },
    {
      "cell_type": "code",
      "source": [
        "import numpy as np\n",
        "import matplotlib.pyplot as plt\n",
        "import matplotlib.patches as patches\n",
        "\n",
        "\n",
        "class renko:      \n",
        "    def __init__(self):\n",
        "        self.source_prices = []\n",
        "        self.renko_prices = []\n",
        "        self.renko_directions = []\n",
        "    \n",
        "    # Setting brick size. Auto mode is preferred, it uses history\n",
        "    def set_brick_size(self, HLC_history = None, auto = False, brick_size = 50.0):\n",
        "        if auto == True:\n",
        "            self.brick_size = self.__get_optimal_brick_size(HLC_history.iloc[:, [0, 1, 2]])\n",
        "        else:\n",
        "            self.brick_size = brick_size\n",
        "        return self.brick_size\n",
        "    \n",
        "    def __renko_rule(self, last_price):\n",
        "        # Get the gap between two prices\n",
        "        gap_div = int(float(last_price - self.renko_prices[-1]) / self.brick_size)\n",
        "        is_new_brick = False\n",
        "        start_brick = 0\n",
        "        num_new_bars = 0\n",
        "\n",
        "        # When we have some gap in prices\n",
        "        if gap_div != 0:\n",
        "            # Forward any direction (up or down)\n",
        "            if (gap_div > 0 and (self.renko_directions[-1] > 0 or self.renko_directions[-1] == 0)) or (gap_div < 0 and (self.renko_directions[-1] < 0 or self.renko_directions[-1] == 0)):\n",
        "                num_new_bars = gap_div\n",
        "                is_new_brick = True\n",
        "                start_brick = 0\n",
        "            # Backward direction (up -> down or down -> up)\n",
        "            elif np.abs(gap_div) >= 2: # Should be double gap at least\n",
        "                num_new_bars = gap_div\n",
        "                num_new_bars -= np.sign(gap_div)\n",
        "                start_brick = 2\n",
        "                is_new_brick = True\n",
        "                self.renko_prices.append(self.renko_prices[-1] + 2 * self.brick_size * np.sign(gap_div))\n",
        "                self.renko_directions.append(np.sign(gap_div))\n",
        "            #else:\n",
        "                #num_new_bars = 0\n",
        "\n",
        "            if is_new_brick:\n",
        "                # Add each brick\n",
        "                for d in range(start_brick, np.abs(gap_div)):\n",
        "                    self.renko_prices.append(self.renko_prices[-1] + self.brick_size * np.sign(gap_div))\n",
        "                    self.renko_directions.append(np.sign(gap_div))\n",
        "        \n",
        "        return num_new_bars\n",
        "                \n",
        "    # Getting renko on history\n",
        "    def build_history(self, prices):\n",
        "        if len(prices) > 0:\n",
        "            # Init by start values\n",
        "            self.source_prices = prices\n",
        "            self.renko_prices.append(prices.iloc[0])\n",
        "            self.renko_directions.append(0)\n",
        "        \n",
        "            # For each price in history\n",
        "            for p in self.source_prices[1:]:\n",
        "                self.__renko_rule(p)\n",
        "        \n",
        "        return len(self.renko_prices)\n",
        "    \n",
        "    # Getting next renko value for last price\n",
        "    def do_next(self, last_price):\n",
        "        if len(self.renko_prices) == 0:\n",
        "            self.source_prices.append(last_price)\n",
        "            self.renko_prices.append(last_price)\n",
        "            self.renko_directions.append(0)\n",
        "            return 1\n",
        "        else:\n",
        "            self.source_prices.append(last_price)\n",
        "            return self.__renko_rule(last_price)\n",
        "    \n",
        "\n",
        "\n",
        "    def evaluate(self, method = 'simple'):\n",
        "        balance = 0\n",
        "        sign_changes = 0\n",
        "        price_ratio = len(self.source_prices) / len(self.renko_prices)\n",
        "\n",
        "        if method == 'simple':\n",
        "            for i in range(2, len(self.renko_directions)):\n",
        "                if self.renko_directions[i] == self.renko_directions[i - 1]:\n",
        "                    balance = balance + 1\n",
        "                else:\n",
        "                    balance = balance - 2\n",
        "                    sign_changes = sign_changes + 1\n",
        "\n",
        "            if sign_changes == 0:\n",
        "                sign_changes = 1\n",
        "\n",
        "            score = balance / sign_changes\n",
        "            if score >= 0 and price_ratio >= 1:\n",
        "                score = np.log(score + 1) * np.log(price_ratio)\n",
        "            else:\n",
        "                score = -1.0\n",
        "\n",
        "            return {'balance': balance, 'sign_changes:': sign_changes, \n",
        "                    'price_ratio': price_ratio, 'score': score}\n",
        "    \n",
        "    def get_renko_prices(self):\n",
        "        return self.renko_prices\n",
        "    \n",
        "    def get_renko_directions(self):\n",
        "        return self.renko_directions\n",
        "    \n",
        "    def plot_renko(self, col_up = 'g', col_down = 'r'):\n",
        "        fig, ax = plt.subplots(1, figsize=(20, 10))\n",
        "        ax.set_title('Renko chart')\n",
        "        ax.set_xlabel('Renko bars')\n",
        "        ax.set_ylabel('Price')\n",
        "\n",
        "        # Calculate the limits of axes\n",
        "        ax.set_xlim(0.0, \n",
        "                    len(self.renko_prices) + 1.0)\n",
        "        ax.set_ylim(np.min(self.renko_prices) - 3.0 * self.brick_size, \n",
        "                    np.max(self.renko_prices) + 3.0 * self.brick_size)\n",
        "        \n",
        "        # Plot each renko bar\n",
        "        for i in range(1, len(self.renko_prices)):\n",
        "            # Set basic params for patch rectangle\n",
        "            col = col_up if self.renko_directions[i] == 1 else col_down\n",
        "            x = i\n",
        "            y = self.renko_prices[i] - self.brick_size if self.renko_directions[i] == 1 else self.renko_prices[i]\n",
        "            height = self.brick_size\n",
        "                \n",
        "            # Draw bar with params\n",
        "            ax.add_patch(\n",
        "                patches.Rectangle(\n",
        "                    (x, y),   # (x,y)\n",
        "                    1.0,     # width\n",
        "                    self.brick_size, # height\n",
        "                    facecolor = col\n",
        "                )\n",
        "            )\n",
        "        \n",
        "        plt.show()"
      ],
      "metadata": {
        "id": "Rm1UFLY1KSr8"
      },
      "execution_count": 343,
      "outputs": []
    },
    {
      "cell_type": "code",
      "source": [
        "def rsi(df, periods = 14, ema = True):\n",
        "    \"\"\"\n",
        "    Returns a pd.Series with the relative strength index.\n",
        "    \"\"\"\n",
        "    close_delta = df['renko'].diff()\n",
        "\n",
        "    # Make two series: one for lower closes and one for higher closes\n",
        "    up = close_delta.clip(lower=0)\n",
        "    down = -1 * close_delta.clip(upper=0)\n",
        "    \n",
        "    if ema == True:\n",
        "\t    # Use exponential moving average\n",
        "        ma_up = up.ewm(com = periods - 1, adjust=True, min_periods = periods).mean()\n",
        "        ma_down = down.ewm(com = periods - 1, adjust=True, min_periods = periods).mean()\n",
        "    else:\n",
        "        # Use simple moving average\n",
        "        ma_up = up.rolling(window = periods, adjust=False).mean()\n",
        "        ma_down = down.rolling(window = periods, adjust=False).mean()\n",
        "        \n",
        "    rsi = ma_up / ma_down\n",
        "    rsi = 100 - (100/(1 + rsi))\n",
        "    return rsi"
      ],
      "metadata": {
        "id": "gt7Sta3YSUOK"
      },
      "execution_count": 344,
      "outputs": []
    },
    {
      "cell_type": "code",
      "execution_count": 345,
      "metadata": {
        "id": "Vs1FR3nOJglT"
      },
      "outputs": [],
      "source": [
        "import pandas as pd\n",
        "import numpy as np\n"
      ]
    },
    {
      "cell_type": "code",
      "source": [
        "data_complete=pd.read_csv('https://raw.githubusercontent.com/anirbanghoshsbi/data/main/data_minute_2021.csv')"
      ],
      "metadata": {
        "id": "sINyfW1JJ-C0"
      },
      "execution_count": 346,
      "outputs": []
    },
    {
      "cell_type": "code",
      "source": [
        "data_complete.shape"
      ],
      "metadata": {
        "colab": {
          "base_uri": "https://localhost:8080/"
        },
        "id": "LB92qvtsV99l",
        "outputId": "c8d1ce2d-9ed1-450b-d59c-fb92b9595837"
      },
      "execution_count": 347,
      "outputs": [
        {
          "output_type": "execute_result",
          "data": {
            "text/plain": [
              "(92614, 7)"
            ]
          },
          "metadata": {},
          "execution_count": 347
        }
      ]
    },
    {
      "cell_type": "code",
      "source": [
        "training_len=int(len(data_complete)*0.8)\n",
        "data=data_complete[:training_len]\n",
        "test_data=data_complete[training_len:]               "
      ],
      "metadata": {
        "id": "pIrbq09EVgyd"
      },
      "execution_count": 348,
      "outputs": []
    },
    {
      "cell_type": "code",
      "source": [
        "# Get optimal brick size based\n",
        "optimal_brick = renko().set_brick_size(HLC_history = data[[\"High\", \"Low\", \"Close\"]])\n",
        "\n",
        "# Build Renko chart\n",
        "renko_obj_atr = renko()\n",
        "print('Set brick size to optimal: ', renko_obj_atr.set_brick_size())\n",
        "renko_obj_atr.build_history(prices = data.Close)"
      ],
      "metadata": {
        "colab": {
          "base_uri": "https://localhost:8080/"
        },
        "id": "9tkLQgJ_JqTi",
        "outputId": "9692af1f-bf5a-4dec-cab9-65fe4aaacc66"
      },
      "execution_count": 349,
      "outputs": [
        {
          "output_type": "stream",
          "name": "stdout",
          "text": [
            "Set brick size to optimal:  50.0\n"
          ]
        },
        {
          "output_type": "execute_result",
          "data": {
            "text/plain": [
              "620"
            ]
          },
          "metadata": {},
          "execution_count": 349
        }
      ]
    },
    {
      "cell_type": "code",
      "source": [
        "print('Renko bar prices: ', renko_obj_atr.get_renko_prices())\n",
        "print('Renko bar directions: ', renko_obj_atr.get_renko_directions())\n",
        "print('Renko bar evaluation: ', renko_obj_atr.evaluate())"
      ],
      "metadata": {
        "colab": {
          "base_uri": "https://localhost:8080/"
        },
        "id": "r93HaiRvLZux",
        "outputId": "bcfd1ea8-fab5-48be-fa16-847d6ab41177"
      },
      "execution_count": 350,
      "outputs": [
        {
          "output_type": "stream",
          "name": "stdout",
          "text": [
            "Renko bar prices:  [14014.85, 14064.85, 14114.85, 14164.85, 14214.85, 14114.85, 14064.85, 14164.85, 14214.85, 14264.85, 14314.85, 14364.85, 14414.85, 14464.85, 14514.85, 14564.85, 14614.85, 14514.85, 14464.85, 14564.85, 14464.85, 14414.85, 14364.85, 14314.85, 14264.85, 14364.85, 14264.85, 14364.85, 14414.85, 14464.85, 14514.85, 14564.85, 14614.85, 14664.85, 14714.85, 14614.85, 14564.85, 14514.85, 14464.85, 14414.85, 14364.85, 14464.85, 14364.85, 14314.85, 14414.85, 14314.85, 14264.85, 14214.85, 14164.85, 14114.85, 14064.85, 14014.85, 13964.85, 13914.85, 13864.85, 13814.85, 13764.85, 13864.85, 13914.85, 13814.85, 13764.85, 13714.85, 13664.85, 13614.85, 13714.85, 13764.85, 13814.85, 13864.85, 13914.85, 13964.85, 14014.85, 14064.85, 14114.85, 14164.85, 14214.85, 14264.85, 14314.85, 14364.85, 14414.85, 14464.85, 14514.85, 14564.85, 14614.85, 14664.85, 14714.85, 14614.85, 14564.85, 14514.85, 14614.85, 14664.85, 14714.85, 14764.85, 14814.85, 14864.85, 14764.85, 14864.85, 14914.85, 14964.85, 15014.85, 15064.85, 15114.85, 15164.85, 15214.85, 15114.85, 15064.85, 15014.85, 15114.85, 15014.85, 15114.85, 15164.85, 15214.85, 15114.85, 15214.85, 15264.85, 15314.85, 15364.85, 15414.85, 15314.85, 15264.85, 15214.85, 15164.85, 15114.85, 15064.85, 15014.85, 14964.85, 14914.85, 14864.85, 14814.85, 14764.85, 14714.85, 14664.85, 14764.85, 14664.85, 14764.85, 14814.85, 14714.85, 14814.85, 14864.85, 14914.85, 14964.85, 15014.85, 15064.85, 15114.85, 15164.85, 15064.85, 15014.85, 14964.85, 14914.85, 14864.85, 14814.85, 14764.85, 14714.85, 14664.85, 14614.85, 14564.85, 14664.85, 14564.85, 14514.85, 14614.85, 14664.85, 14714.85, 14764.85, 14664.85, 14764.85, 14814.85, 14864.85, 14914.85, 14814.85, 14914.85, 14964.85, 15014.85, 15064.85, 15114.85, 15164.85, 15214.85, 15114.85, 15064.85, 15014.85, 15114.85, 15164.85, 15064.85, 15014.85, 14964.85, 15064.85, 14964.85, 14914.85, 15014.85, 15064.85, 14964.85, 15064.85, 14964.85, 15064.85, 15114.85, 15164.85, 15214.85, 15264.85, 15314.85, 15214.85, 15164.85, 15114.85, 15064.85, 15014.85, 14964.85, 14914.85, 14864.85, 14814.85, 14764.85, 14864.85, 14914.85, 14964.85, 15014.85, 14914.85, 14864.85, 14814.85, 14764.85, 14714.85, 14814.85, 14714.85, 14664.85, 14614.85, 14564.85, 14514.85, 14464.85, 14414.85, 14364.85, 14464.85, 14514.85, 14564.85, 14614.85, 14514.85, 14614.85, 14664.85, 14714.85, 14764.85, 14664.85, 14614.85, 14714.85, 14764.85, 14814.85, 14864.85, 14764.85, 14714.85, 14664.85, 14614.85, 14564.85, 14514.85, 14464.85, 14414.85, 14364.85, 14314.85, 14414.85, 14464.85, 14364.85, 14314.85, 14414.85, 14464.85, 14514.85, 14564.85, 14614.85, 14664.85, 14714.85, 14764.85, 14814.85, 14864.85, 14764.85, 14714.85, 14814.85, 14864.85, 14764.85, 14714.85, 14664.85, 14614.85, 14564.85, 14514.85, 14464.85, 14564.85, 14614.85, 14664.85, 14714.85, 14764.85, 14664.85, 14764.85, 14814.85, 14864.85, 14914.85, 14964.85, 14864.85, 14814.85, 14764.85, 14714.85, 14664.85, 14614.85, 14564.85, 14514.85, 14464.85, 14414.85, 14364.85, 14314.85, 14264.85, 14364.85, 14414.85, 14464.85, 14514.85, 14414.85, 14364.85, 14464.85, 14514.85, 14564.85, 14614.85, 14664.85, 14564.85, 14514.85, 14464.85, 14414.85, 14364.85, 14314.85, 14264.85, 14214.85, 14314.85, 14364.85, 14414.85, 14464.85, 14514.85, 14414.85, 14364.85, 14314.85, 14264.85, 14214.85, 14164.85, 14264.85, 14314.85, 14364.85, 14414.85, 14314.85, 14414.85, 14464.85, 14514.85, 14564.85, 14614.85, 14664.85, 14714.85, 14764.85, 14814.85, 14864.85, 14914.85, 14964.85, 15014.85, 14914.85, 14864.85, 14814.85, 14764.85, 14714.85, 14664.85, 14614.85, 14564.85, 14514.85, 14464.85, 14564.85, 14614.85, 14664.85, 14714.85, 14614.85, 14564.85, 14514.85, 14464.85, 14564.85, 14614.85, 14664.85, 14714.85, 14764.85, 14814.85, 14864.85, 14914.85, 14814.85, 14764.85, 14714.85, 14664.85, 14614.85, 14714.85, 14764.85, 14814.85, 14864.85, 14914.85, 14964.85, 15014.85, 15064.85, 15114.85, 15014.85, 14964.85, 14914.85, 15014.85, 15064.85, 15114.85, 15164.85, 15214.85, 15264.85, 15314.85, 15364.85, 15414.85, 15464.85, 15514.85, 15564.85, 15614.85, 15514.85, 15464.85, 15564.85, 15614.85, 15664.85, 15714.85, 15764.85, 15664.85, 15614.85, 15714.85, 15764.85, 15814.85, 15714.85, 15664.85, 15614.85, 15714.85, 15764.85, 15814.85, 15864.85, 15764.85, 15714.85, 15664.85, 15614.85, 15564.85, 15514.85, 15464.85, 15564.85, 15614.85, 15664.85, 15714.85, 15614.85, 15564.85, 15664.85, 15714.85, 15764.85, 15814.85, 15864.85, 15764.85, 15714.85, 15814.85, 15864.85, 15764.85, 15714.85, 15664.85, 15764.85, 15814.85, 15864.85, 15764.85, 15714.85, 15664.85, 15764.85, 15664.85, 15764.85, 15814.85, 15864.85, 15914.85, 15814.85, 15764.85, 15714.85, 15664.85, 15614.85, 15714.85, 15764.85, 15814.85, 15864.85, 15764.85, 15714.85, 15664.85, 15614.85, 15564.85, 15664.85, 15714.85, 15764.85, 15814.85, 15864.85, 15914.85, 15964.85, 16014.85, 16064.85, 16114.85, 16164.85, 16214.85, 16264.85, 16314.85, 16214.85, 16314.85, 16214.85, 16314.85, 16214.85, 16314.85, 16364.85, 16414.85, 16464.85, 16514.85, 16564.85, 16614.85, 16664.85, 16564.85, 16514.85, 16464.85, 16414.85, 16514.85, 16564.85, 16464.85, 16414.85, 16514.85, 16564.85, 16614.85, 16664.85, 16714.85, 16764.85, 16814.85, 16864.85, 16914.85, 16964.85, 17014.85, 17064.85, 17114.85, 17164.85, 17214.85, 17114.85, 17064.85, 17164.85, 17214.85, 17264.85, 17314.85, 17364.85, 17414.85, 17314.85, 17414.85, 17314.85, 17264.85, 17364.85, 17414.85, 17464.85, 17514.85, 17564.85, 17614.85, 17664.85, 17714.85, 17764.85, 17664.85, 17614.85, 17564.85, 17514.85, 17464.85, 17564.85, 17614.85, 17514.85, 17464.85, 17414.85, 17364.85, 17464.85, 17514.85, 17564.85, 17614.85, 17664.85, 17714.85, 17764.85, 17814.85, 17864.85, 17914.85, 17814.85, 17764.85, 17714.85, 17664.85, 17614.85, 17714.85, 17764.85, 17664.85, 17614.85, 17714.85, 17764.85, 17664.85, 17614.85, 17564.85, 17514.85, 17464.85, 17564.85, 17614.85, 17664.85, 17714.85, 17764.85, 17814.85, 17864.85, 17764.85, 17714.85, 17664.85, 17764.85, 17814.85, 17864.85, 17914.85, 17964.85, 18014.85, 17914.85, 18014.85, 18064.85, 18114.85, 18164.85, 18214.85, 18264.85, 18314.85, 18364.85, 18414.85, 18464.85, 18514.85, 18564.85, 18464.85, 18414.85, 18514.85, 18564.85, 18464.85, 18414.85, 18364.85, 18314.85, 18264.85, 18214.85]\n",
            "Renko bar directions:  [0, 1, 1, 1, 1, -1, -1, 1, 1, 1, 1, 1, 1, 1, 1, 1, 1, -1, -1, 1, -1, -1, -1, -1, -1, 1, -1, 1, 1, 1, 1, 1, 1, 1, 1, -1, -1, -1, -1, -1, -1, 1, -1, -1, 1, -1, -1, -1, -1, -1, -1, -1, -1, -1, -1, -1, -1, 1, 1, -1, -1, -1, -1, -1, 1, 1, 1, 1, 1, 1, 1, 1, 1, 1, 1, 1, 1, 1, 1, 1, 1, 1, 1, 1, 1, -1, -1, -1, 1, 1, 1, 1, 1, 1, -1, 1, 1, 1, 1, 1, 1, 1, 1, -1, -1, -1, 1, -1, 1, 1, 1, -1, 1, 1, 1, 1, 1, -1, -1, -1, -1, -1, -1, -1, -1, -1, -1, -1, -1, -1, -1, 1, -1, 1, 1, -1, 1, 1, 1, 1, 1, 1, 1, 1, -1, -1, -1, -1, -1, -1, -1, -1, -1, -1, -1, 1, -1, -1, 1, 1, 1, 1, -1, 1, 1, 1, 1, -1, 1, 1, 1, 1, 1, 1, 1, -1, -1, -1, 1, 1, -1, -1, -1, 1, -1, -1, 1, 1, -1, 1, -1, 1, 1, 1, 1, 1, 1, -1, -1, -1, -1, -1, -1, -1, -1, -1, -1, 1, 1, 1, 1, -1, -1, -1, -1, -1, 1, -1, -1, -1, -1, -1, -1, -1, -1, 1, 1, 1, 1, -1, 1, 1, 1, 1, -1, -1, 1, 1, 1, 1, -1, -1, -1, -1, -1, -1, -1, -1, -1, -1, 1, 1, -1, -1, 1, 1, 1, 1, 1, 1, 1, 1, 1, 1, -1, -1, 1, 1, -1, -1, -1, -1, -1, -1, -1, 1, 1, 1, 1, 1, -1, 1, 1, 1, 1, 1, -1, -1, -1, -1, -1, -1, -1, -1, -1, -1, -1, -1, -1, 1, 1, 1, 1, -1, -1, 1, 1, 1, 1, 1, -1, -1, -1, -1, -1, -1, -1, -1, 1, 1, 1, 1, 1, -1, -1, -1, -1, -1, -1, 1, 1, 1, 1, -1, 1, 1, 1, 1, 1, 1, 1, 1, 1, 1, 1, 1, 1, -1, -1, -1, -1, -1, -1, -1, -1, -1, -1, 1, 1, 1, 1, -1, -1, -1, -1, 1, 1, 1, 1, 1, 1, 1, 1, -1, -1, -1, -1, -1, 1, 1, 1, 1, 1, 1, 1, 1, 1, -1, -1, -1, 1, 1, 1, 1, 1, 1, 1, 1, 1, 1, 1, 1, 1, -1, -1, 1, 1, 1, 1, 1, -1, -1, 1, 1, 1, -1, -1, -1, 1, 1, 1, 1, -1, -1, -1, -1, -1, -1, -1, 1, 1, 1, 1, -1, -1, 1, 1, 1, 1, 1, -1, -1, 1, 1, -1, -1, -1, 1, 1, 1, -1, -1, -1, 1, -1, 1, 1, 1, 1, -1, -1, -1, -1, -1, 1, 1, 1, 1, -1, -1, -1, -1, -1, 1, 1, 1, 1, 1, 1, 1, 1, 1, 1, 1, 1, 1, 1, -1, 1, -1, 1, -1, 1, 1, 1, 1, 1, 1, 1, 1, -1, -1, -1, -1, 1, 1, -1, -1, 1, 1, 1, 1, 1, 1, 1, 1, 1, 1, 1, 1, 1, 1, 1, -1, -1, 1, 1, 1, 1, 1, 1, -1, 1, -1, -1, 1, 1, 1, 1, 1, 1, 1, 1, 1, -1, -1, -1, -1, -1, 1, 1, -1, -1, -1, -1, 1, 1, 1, 1, 1, 1, 1, 1, 1, 1, -1, -1, -1, -1, -1, 1, 1, -1, -1, 1, 1, -1, -1, -1, -1, -1, 1, 1, 1, 1, 1, 1, 1, -1, -1, -1, 1, 1, 1, 1, 1, 1, -1, 1, 1, 1, 1, 1, 1, 1, 1, 1, 1, 1, 1, -1, -1, 1, 1, -1, -1, -1, -1, -1, -1]\n",
            "Renko bar evaluation:  {'balance': 189, 'sign_changes:': 143, 'price_ratio': 119.5016129032258, 'score': 4.028952534742754}\n"
          ]
        }
      ]
    },
    {
      "cell_type": "code",
      "source": [
        "renko_2021=pd.DataFrame({'renko':renko_obj_atr.get_renko_prices(),'Direction':renko_obj_atr.get_renko_directions()})"
      ],
      "metadata": {
        "id": "TytjlT-pLcnx"
      },
      "execution_count": 351,
      "outputs": []
    },
    {
      "cell_type": "code",
      "source": [
        "renko_2021.renko.plot(figsize=(10,5))"
      ],
      "metadata": {
        "colab": {
          "base_uri": "https://localhost:8080/",
          "height": 337
        },
        "id": "tD6BYzl1N4fx",
        "outputId": "2a1205ed-b638-4ce9-d0cc-0814ce1c0b18"
      },
      "execution_count": 352,
      "outputs": [
        {
          "output_type": "execute_result",
          "data": {
            "text/plain": [
              "<matplotlib.axes._subplots.AxesSubplot at 0x7f45797c8ed0>"
            ]
          },
          "metadata": {},
          "execution_count": 352
        },
        {
          "output_type": "display_data",
          "data": {
            "image/png": "[encoded data removed]",
            "text/plain": [
              "<Figure size 720x360 with 1 Axes>"
            ]
          },
          "metadata": {
            "needs_background": "light"
          }
        }
      ]
    },
    {
      "cell_type": "code",
      "source": [
        "renko_2021['day5_pct_chg']=renko_2021.renko.pct_change(5)\n",
        "renko_2021['day10_pct_chg']=renko_2021.renko.pct_change(10)\n",
        "renko_2021['day15_pct_chg']=renko_2021.renko.pct_change(15)\n",
        "renko_2021['day20_pct_chg']=renko_2021.renko.pct_change(20)"
      ],
      "metadata": {
        "id": "oLj0T-NXN5tB"
      },
      "execution_count": 353,
      "outputs": []
    },
    {
      "cell_type": "code",
      "source": [
        "renko_2021['ema13']=renko_2021.renko.rolling(window=13).mean()"
      ],
      "metadata": {
        "id": "OcvPDNTYO5wJ"
      },
      "execution_count": 354,
      "outputs": []
    },
    {
      "cell_type": "code",
      "source": [
        "renko_2021['ema26']=renko_2021.renko.rolling(window=26).mean()"
      ],
      "metadata": {
        "id": "fvMt-ZPYO8uo"
      },
      "execution_count": 355,
      "outputs": []
    },
    {
      "cell_type": "code",
      "source": [
        "renko_2021['macd']=renko_2021['ema13']-renko_2021['ema26']"
      ],
      "metadata": {
        "id": "nVPJpFkkPwfY"
      },
      "execution_count": 356,
      "outputs": []
    },
    {
      "cell_type": "code",
      "source": [
        "renko_2021['rsi']=rsi(renko_2021, periods = 14, ema = True)"
      ],
      "metadata": {
        "id": "asJ6bcHUQoJo"
      },
      "execution_count": 357,
      "outputs": []
    },
    {
      "cell_type": "code",
      "source": [
        "renko_2021.tail(2)"
      ],
      "metadata": {
        "colab": {
          "base_uri": "https://localhost:8080/",
          "height": 176
        },
        "id": "1oX5xQHpSxAY",
        "outputId": "c3f0093e-5792-494b-c8c4-a6a571e99b33"
      },
      "execution_count": 358,
      "outputs": [
        {
          "output_type": "execute_result",
          "data": {
            "text/html": [
              "\n",
              "  <div id=\"df-5bd2ecbf-7e7a-4059-848c-d79caae3e6a8\">\n",
              "    <div class=\"colab-df-container\">\n",
              "      <div>\n",
              "<style scoped>\n",
              "    .dataframe tbody tr th:only-of-type {\n",
              "        vertical-align: middle;\n",
              "    }\n",
              "\n",
              "    .dataframe tbody tr th {\n",
              "        vertical-align: top;\n",
              "    }\n",
              "\n",
              "    .dataframe thead th {\n",
              "        text-align: right;\n",
              "    }\n",
              "</style>\n",
              "<table border=\"1\" class=\"dataframe\">\n",
              "  <thead>\n",
              "    <tr style=\"text-align: right;\">\n",
              "      <th></th>\n",
              "      <th>renko</th>\n",
              "      <th>Direction</th>\n",
              "      <th>day5_pct_chg</th>\n",
              "      <th>day10_pct_chg</th>\n",
              "      <th>day15_pct_chg</th>\n",
              "      <th>day20_pct_chg</th>\n",
              "      <th>ema13</th>\n",
              "      <th>ema26</th>\n",
              "      <th>macd</th>\n",
              "      <th>rsi</th>\n",
              "    </tr>\n",
              "  </thead>\n",
              "  <tbody>\n",
              "    <tr>\n",
              "      <th>618</th>\n",
              "      <td>18264.85</td>\n",
              "      <td>-1</td>\n",
              "      <td>-0.016160</td>\n",
              "      <td>-0.013503</td>\n",
              "      <td>0.00000</td>\n",
              "      <td>0.013877</td>\n",
              "      <td>18441.773077</td>\n",
              "      <td>18266.773077</td>\n",
              "      <td>175.000000</td>\n",
              "      <td>50.959627</td>\n",
              "    </tr>\n",
              "    <tr>\n",
              "      <th>619</th>\n",
              "      <td>18214.85</td>\n",
              "      <td>-1</td>\n",
              "      <td>-0.013539</td>\n",
              "      <td>-0.018853</td>\n",
              "      <td>-0.00546</td>\n",
              "      <td>0.008303</td>\n",
              "      <td>18426.388462</td>\n",
              "      <td>18280.234615</td>\n",
              "      <td>146.153846</td>\n",
              "      <td>47.904210</td>\n",
              "    </tr>\n",
              "  </tbody>\n",
              "</table>\n",
              "</div>\n",
              "      <button class=\"colab-df-convert\" onclick=\"convertToInteractive('df-5bd2ecbf-7e7a-4059-848c-d79caae3e6a8')\"\n",
              "              title=\"Convert this dataframe to an interactive table.\"\n",
              "              style=\"display:none;\">\n",
              "        \n",
              "  <svg xmlns=\"http://www.w3.org/2000/svg\" height=\"24px\"viewBox=\"0 0 24 24\"\n",
              "       width=\"24px\">\n",
              "    <path d=\"M0 0h24v24H0V0z\" fill=\"none\"/>\n",
              "    <path d=\"M18.56 5.44l.94 2.06.94-2.06 2.06-.94-2.06-.94-.94-2.06-.94 2.06-2.06.94zm-11 1L8.5 8.5l.94-2.06 2.06-.94-2.06-.94L8.5 2.5l-.94 2.06-2.06.94zm10 10l.94 2.06.94-2.06 2.06-.94-2.06-.94-.94-2.06-.94 2.06-2.06.94z\"/><path d=\"M17.41 7.96l-1.37-1.37c-.4-.4-.92-.59-1.43-.59-.52 0-1.04.2-1.43.59L10.3 9.45l-7.72 7.72c-.78.78-.78 2.05 0 2.83L4 21.41c.39.39.9.59 1.41.59.51 0 1.02-.2 1.41-.59l7.78-7.78 2.81-2.81c.8-.78.8-2.07 0-2.86zM5.41 20L4 18.59l7.72-7.72 1.47 1.35L5.41 20z\"/>\n",
              "  </svg>\n",
              "      </button>\n",
              "      \n",
              "  <style>\n",
              "    .colab-df-container {\n",
              "      display:flex;\n",
              "      flex-wrap:wrap;\n",
              "      gap: 12px;\n",
              "    }\n",
              "\n",
              "    .colab-df-convert {\n",
              "      background-color: #E8F0FE;\n",
              "      border: none;\n",
              "      border-radius: 50%;\n",
              "      cursor: pointer;\n",
              "      display: none;\n",
              "      fill: #1967D2;\n",
              "      height: 32px;\n",
              "      padding: 0 0 0 0;\n",
              "      width: 32px;\n",
              "    }\n",
              "\n",
              "    .colab-df-convert:hover {\n",
              "      background-color: #E2EBFA;\n",
              "      box-shadow: 0px 1px 2px rgba(60, 64, 67, 0.3), 0px 1px 3px 1px rgba(60, 64, 67, 0.15);\n",
              "      fill: #174EA6;\n",
              "    }\n",
              "\n",
              "    [theme=dark] .colab-df-convert {\n",
              "      background-color: #3B4455;\n",
              "      fill: #D2E3FC;\n",
              "    }\n",
              "\n",
              "    [theme=dark] .colab-df-convert:hover {\n",
              "      background-color: #434B5C;\n",
              "      box-shadow: 0px 1px 3px 1px rgba(0, 0, 0, 0.15);\n",
              "      filter: drop-shadow(0px 1px 2px rgba(0, 0, 0, 0.3));\n",
              "      fill: #FFFFFF;\n",
              "    }\n",
              "  </style>\n",
              "\n",
              "      <script>\n",
              "        const buttonEl =\n",
              "          document.querySelector('#df-5bd2ecbf-7e7a-4059-848c-d79caae3e6a8 button.colab-df-convert');\n",
              "        buttonEl.style.display =\n",
              "          google.colab.kernel.accessAllowed ? 'block' : 'none';\n",
              "\n",
              "        async function convertToInteractive(key) {\n",
              "          const element = document.querySelector('#df-5bd2ecbf-7e7a-4059-848c-d79caae3e6a8');\n",
              "          const dataTable =\n",
              "            await google.colab.kernel.invokeFunction('convertToInteractive',\n",
              "                                                     [key], {});\n",
              "          if (!dataTable) return;\n",
              "\n",
              "          const docLinkHtml = 'Like what you see? Visit the ' +\n",
              "            '<a target=\"_blank\" href=https://colab.research.google.com/notebooks/data_table.ipynb>data table notebook</a>'\n",
              "            + ' to learn more about interactive tables.';\n",
              "          element.innerHTML = '';\n",
              "          dataTable['output_type'] = 'display_data';\n",
              "          await google.colab.output.renderOutput(dataTable, element);\n",
              "          const docLink = document.createElement('div');\n",
              "          docLink.innerHTML = docLinkHtml;\n",
              "          element.appendChild(docLink);\n",
              "        }\n",
              "      </script>\n",
              "    </div>\n",
              "  </div>\n",
              "  "
            ],
            "text/plain": [
              "        renko  Direction  day5_pct_chg  ...         ema26        macd        rsi\n",
              "618  18264.85         -1     -0.016160  ...  18266.773077  175.000000  50.959627\n",
              "619  18214.85         -1     -0.013539  ...  18280.234615  146.153846  47.904210\n",
              "\n",
              "[2 rows x 10 columns]"
            ]
          },
          "metadata": {},
          "execution_count": 358
        }
      ]
    },
    {
      "cell_type": "code",
      "source": [
        "train=int(len(renko_2021)*.75)\n",
        "df_train= renko_2021[:train]\n",
        "df_test= renko_2021[train:]"
      ],
      "metadata": {
        "id": "CcwsAFP8SzT-"
      },
      "execution_count": 359,
      "outputs": []
    },
    {
      "cell_type": "code",
      "source": [
        "# create a new column that will house the flag, and for each group calculate the diff compared to 30 days ago. Then use Numpy to define the sign.\n",
        "df_train['Signal_Flag'] = df_train['renko'].transform(lambda x : np.sign(x.diff(15)))\n",
        "\n",
        "df_train = df_train.dropna()"
      ],
      "metadata": {
        "colab": {
          "base_uri": "https://localhost:8080/"
        },
        "id": "5YUN3HVmTKPP",
        "outputId": "08240663-041f-4904-a1d0-6ab4743f1c4d"
      },
      "execution_count": 360,
      "outputs": [
        {
          "output_type": "stream",
          "name": "stderr",
          "text": [
            "/usr/local/lib/python3.7/dist-packages/ipykernel_launcher.py:2: SettingWithCopyWarning: \n",
            "A value is trying to be set on a copy of a slice from a DataFrame.\n",
            "Try using .loc[row_indexer,col_indexer] = value instead\n",
            "\n",
            "See the caveats in the documentation: https://pandas.pydata.org/pandas-docs/stable/user_guide/indexing.html#returning-a-view-versus-a-copy\n",
            "  \n"
          ]
        }
      ]
    },
    {
      "cell_type": "code",
      "source": [
        "# create a new column that will house the flag, and for each group calculate the diff compared to 30 days ago. Then use Numpy to define the sign.\n",
        "df_test['Signal_Flag'] = df_test['renko'].transform(lambda x : np.sign(x.diff(15)))\n",
        "#df_test['Signal_Flag']=np.where(df_test['Signal_Flag']==0,-1,df_test['Signal_Flag'])\n",
        "df_test = df_test.dropna()"
      ],
      "metadata": {
        "colab": {
          "base_uri": "https://localhost:8080/"
        },
        "id": "3gNw9WpDUi2y",
        "outputId": "3efbffeb-14fc-45a1-85e8-60cc1dff639e"
      },
      "execution_count": 361,
      "outputs": [
        {
          "output_type": "stream",
          "name": "stderr",
          "text": [
            "/usr/local/lib/python3.7/dist-packages/ipykernel_launcher.py:2: SettingWithCopyWarning: \n",
            "A value is trying to be set on a copy of a slice from a DataFrame.\n",
            "Try using .loc[row_indexer,col_indexer] = value instead\n",
            "\n",
            "See the caveats in the documentation: https://pandas.pydata.org/pandas-docs/stable/user_guide/indexing.html#returning-a-view-versus-a-copy\n",
            "  \n"
          ]
        }
      ]
    },
    {
      "cell_type": "code",
      "source": [
        "df_test['Signal_Flag'].value_counts()"
      ],
      "metadata": {
        "colab": {
          "base_uri": "https://localhost:8080/"
        },
        "id": "K7S1Q_GIaE3T",
        "outputId": "84fc6043-fc45-4250-ddba-c37bbb05028a"
      },
      "execution_count": 362,
      "outputs": [
        {
          "output_type": "execute_result",
          "data": {
            "text/plain": [
              " 1.0    119\n",
              "-1.0     15\n",
              " 0.0      6\n",
              "Name: Signal_Flag, dtype: int64"
            ]
          },
          "metadata": {},
          "execution_count": 362
        }
      ]
    },
    {
      "cell_type": "code",
      "source": [
        "X_train = df_train.drop(['Signal_Flag'],axis=1)\n",
        "y_train = df_train['Signal_Flag']\n",
        "X_test = df_test.drop(['Signal_Flag'],axis=1)\n",
        "y_test = df_test['Signal_Flag']"
      ],
      "metadata": {
        "id": "ueQjUYeMUi0Q"
      },
      "execution_count": 363,
      "outputs": []
    },
    {
      "cell_type": "code",
      "source": [
        "from sklearn.model_selection import GridSearchCV\n",
        "from sklearn.ensemble import RandomForestClassifier\n",
        "from sklearn.metrics import accuracy_score,f1_score\n",
        "# Create a Random Forest Classifier\n",
        "rand_frst_clf = RandomForestClassifier(n_estimators = 600,max_depth=20,min_samples_leaf=4,class_weight=None,max_features='log2',min_samples_split=40, criterion = \"gini\", bootstrap=True,random_state = 42)\n",
        "# Fit the data to the model\n",
        "rand_frst_clf.fit(X_train, y_train)\n",
        "\n",
        "# Make predictions\n",
        "y_pred = rand_frst_clf.predict(X_test)"
      ],
      "metadata": {
        "id": "YeNae37UUix_"
      },
      "execution_count": 364,
      "outputs": []
    },
    {
      "cell_type": "code",
      "source": [
        "print('Correct Prediction RForest (%): ', f1_score(y_test, rand_frst_clf.predict(X_test), average='macro') * 100.0)"
      ],
      "metadata": {
        "colab": {
          "base_uri": "https://localhost:8080/"
        },
        "id": "fNmnt5wvUive",
        "outputId": "7261bf6d-1ac2-4a42-a0c2-102eac1e0dab"
      },
      "execution_count": 365,
      "outputs": [
        {
          "output_type": "stream",
          "name": "stdout",
          "text": [
            "Correct Prediction RForest (%):  100.0\n"
          ]
        }
      ]
    },
    {
      "cell_type": "code",
      "source": [
        "feature_imp = pd.Series(rand_frst_clf.feature_importances_, index=X_train.columns).sort_values(ascending=False)\n",
        "feature_imp*100\n"
      ],
      "metadata": {
        "colab": {
          "base_uri": "https://localhost:8080/"
        },
        "id": "4GplBjNDUis9",
        "outputId": "a5e6c186-0235-4079-869c-3cc7069ed79b"
      },
      "execution_count": 366,
      "outputs": [
        {
          "output_type": "execute_result",
          "data": {
            "text/plain": [
              "day15_pct_chg    50.185387\n",
              "rsi              17.718786\n",
              "day10_pct_chg    14.483351\n",
              "day20_pct_chg     9.498769\n",
              "macd              4.895491\n",
              "day5_pct_chg      1.491117\n",
              "renko             0.928014\n",
              "ema26             0.303773\n",
              "ema13             0.289673\n",
              "Direction         0.205640\n",
              "dtype: float64"
            ]
          },
          "metadata": {},
          "execution_count": 366
        }
      ]
    },
    {
      "cell_type": "markdown",
      "source": [
        "Test Module"
      ],
      "metadata": {
        "id": "QnuOvZndWUC0"
      }
    },
    {
      "cell_type": "code",
      "source": [
        "# Get optimal brick size based\n",
        "optimal_brick = renko().set_brick_size(HLC_history = test_data[[\"High\", \"Low\", \"Close\"]])\n",
        "\n",
        "# Build Renko chart\n",
        "renko_obj_atr = renko()\n",
        "print('Set brick size to optimal: ', renko_obj_atr.set_brick_size())\n",
        "renko_obj_atr.build_history(prices = test_data.Close)"
      ],
      "metadata": {
        "colab": {
          "base_uri": "https://localhost:8080/"
        },
        "id": "hmpqAKWkVO3F",
        "outputId": "a7170d76-7bed-49b4-937b-ca03f21464d2"
      },
      "execution_count": 367,
      "outputs": [
        {
          "output_type": "stream",
          "name": "stdout",
          "text": [
            "Set brick size to optimal:  50.0\n"
          ]
        },
        {
          "output_type": "execute_result",
          "data": {
            "text/plain": [
              "245"
            ]
          },
          "metadata": {},
          "execution_count": 367
        }
      ]
    },
    {
      "cell_type": "code",
      "source": [
        "renko_2021_test=pd.DataFrame({'renko':renko_obj_atr.get_renko_prices(),'Direction':renko_obj_atr.get_renko_directions()})"
      ],
      "metadata": {
        "id": "pAx_1C0hWqH2"
      },
      "execution_count": 368,
      "outputs": []
    },
    {
      "cell_type": "code",
      "source": [
        "renko_2021_test.renko.plot(figsize=(10,5))"
      ],
      "metadata": {
        "colab": {
          "base_uri": "https://localhost:8080/",
          "height": 337
        },
        "id": "ZjlbuYFyXEuP",
        "outputId": "df0f471a-0038-435e-c6dc-4956cacd4ec7"
      },
      "execution_count": 369,
      "outputs": [
        {
          "output_type": "execute_result",
          "data": {
            "text/plain": [
              "<matplotlib.axes._subplots.AxesSubplot at 0x7f45795738d0>"
            ]
          },
          "metadata": {},
          "execution_count": 369
        },
        {
          "output_type": "display_data",
          "data": {
            "image/png": "[encoded data removed]",
            "text/plain": [
              "<Figure size 720x360 with 1 Axes>"
            ]
          },
          "metadata": {
            "needs_background": "light"
          }
        }
      ]
    },
    {
      "cell_type": "code",
      "source": [
        "renko_2021_test['day5_pct_chg']=renko_2021_test.renko.pct_change(5)\n",
        "renko_2021_test['day10_pct_chg']=renko_2021_test.renko.pct_change(10)\n",
        "renko_2021_test['day15_pct_chg']=renko_2021_test.renko.pct_change(15)\n",
        "renko_2021_test['day20_pct_chg']=renko_2021_test.renko.pct_change(20)"
      ],
      "metadata": {
        "id": "9RbxEIxSXGbu"
      },
      "execution_count": 370,
      "outputs": []
    },
    {
      "cell_type": "code",
      "source": [
        "renko_2021_test['ema13']=renko_2021_test.renko.rolling(window=13).mean()\n",
        "renko_2021_test['ema26']=renko_2021_test.renko.rolling(window=26).mean()\n",
        "renko_2021_test['macd']=renko_2021_test['ema13']-renko_2021_test['ema26']"
      ],
      "metadata": {
        "id": "VQ143b5TXirN"
      },
      "execution_count": 371,
      "outputs": []
    },
    {
      "cell_type": "code",
      "source": [
        "renko_2021_test['rsi']=rsi(renko_2021_test, periods = 14, ema = True)"
      ],
      "metadata": {
        "id": "Jee9SfBrXwRF"
      },
      "execution_count": 372,
      "outputs": []
    },
    {
      "cell_type": "code",
      "source": [
        "renko_2021_test['Signal_Flag'] = renko_2021_test['renko'].transform(lambda x : np.sign(x.diff(15)))\n",
        "renko_2021_test['Signal_Flag']=np.where(renko_2021_test['Signal_Flag']==0,-1,renko_2021_test['Signal_Flag'])\n",
        "renko_2021_test.dropna(inplace=True)"
      ],
      "metadata": {
        "id": "NV_vcWzhYN_P"
      },
      "execution_count": 373,
      "outputs": []
    },
    {
      "cell_type": "code",
      "source": [
        "new_data = renko_2021_test.drop(['Signal_Flag'],axis=1)\n",
        "actuals= renko_2021_test['Signal_Flag']"
      ],
      "metadata": {
        "id": "WPS70mUYYN84"
      },
      "execution_count": 374,
      "outputs": []
    },
    {
      "cell_type": "code",
      "source": [
        "model='random_forest'"
      ],
      "metadata": {
        "id": "XhzeHpD0YN60"
      },
      "execution_count": 375,
      "outputs": []
    },
    {
      "cell_type": "code",
      "source": [
        "preds=make_preds(new_data ,rand_frst_clf,model)\n"
      ],
      "metadata": {
        "id": "NyzzjurwYN4K"
      },
      "execution_count": 376,
      "outputs": []
    },
    {
      "cell_type": "code",
      "source": [
        "preds.plot()"
      ],
      "metadata": {
        "colab": {
          "base_uri": "https://localhost:8080/",
          "height": 282
        },
        "id": "OFVUjpZQYN1k",
        "outputId": "8769015d-e971-4a59-98b9-90593cc01cb8"
      },
      "execution_count": 377,
      "outputs": [
        {
          "output_type": "execute_result",
          "data": {
            "text/plain": [
              "<matplotlib.axes._subplots.AxesSubplot at 0x7f4579543a90>"
            ]
          },
          "metadata": {},
          "execution_count": 377
        },
        {
          "output_type": "display_data",
          "data": {
            "image/png": "[encoded data removed]",
            "text/plain": [
              "<Figure size 432x288 with 1 Axes>"
            ]
          },
          "metadata": {
            "needs_background": "light"
          }
        }
      ]
    },
    {
      "cell_type": "code",
      "source": [
        "renko_2021_test.renko.plot()"
      ],
      "metadata": {
        "colab": {
          "base_uri": "https://localhost:8080/",
          "height": 282
        },
        "id": "ppUYkhOMZ0eU",
        "outputId": "c8d9c3b2-43ee-4905-fcdd-a3a628300c74"
      },
      "execution_count": 378,
      "outputs": [
        {
          "output_type": "execute_result",
          "data": {
            "text/plain": [
              "<matplotlib.axes._subplots.AxesSubplot at 0x7f4579590550>"
            ]
          },
          "metadata": {},
          "execution_count": 378
        },
        {
          "output_type": "display_data",
          "data": {
            "image/png": "[encoded data removed]",
            "text/plain": [
              "<Figure size 432x288 with 1 Axes>"
            ]
          },
          "metadata": {
            "needs_background": "light"
          }
        }
      ]
    },
    {
      "cell_type": "code",
      "source": [
        "#preds=np.where(preds>0,1,-1)"
      ],
      "metadata": {
        "id": "XFPCYt1YbPkj"
      },
      "execution_count": 379,
      "outputs": []
    },
    {
      "cell_type": "code",
      "source": [
        "len(preds) , len(renko_2021_test)"
      ],
      "metadata": {
        "colab": {
          "base_uri": "https://localhost:8080/"
        },
        "id": "AEt_W-VxebAi",
        "outputId": "c0eb6139-97a0-4927-cd18-003d6fe9b769"
      },
      "execution_count": 380,
      "outputs": [
        {
          "output_type": "execute_result",
          "data": {
            "text/plain": [
              "(220, 220)"
            ]
          },
          "metadata": {},
          "execution_count": 380
        }
      ]
    },
    {
      "cell_type": "code",
      "source": [
        "fig, ax = plt.subplots(2,1,figsize=(15,7))\n",
        "ax[0].plot(preds,color='g')\n",
        "#plt.plot(df_new['Adj Close'].values - mean, 'red', lw=1.5)\n",
        "ax[1].plot(renko_2021_test.renko,color='r')\n",
        "\n",
        "\n",
        "plt.show()"
      ],
      "metadata": {
        "colab": {
          "base_uri": "https://localhost:8080/",
          "height": 400
        },
        "id": "88CZS-cubVRD",
        "outputId": "e57fc4c5-9fea-48d8-8dd0-ca76d6f8af96"
      },
      "execution_count": 381,
      "outputs": [
        {
          "output_type": "display_data",
          "data": {
            "image/png": "[encoded data removed]",
            "text/plain": [
              "<Figure size 1080x504 with 2 Axes>"
            ]
          },
          "metadata": {
            "needs_background": "light"
          }
        }
      ]
    },
    {
      "cell_type": "code",
      "source": [
        ""
      ],
      "metadata": {
        "id": "SXSGMW0lekhD"
      },
      "execution_count": 381,
      "outputs": []
    }
  ]
}