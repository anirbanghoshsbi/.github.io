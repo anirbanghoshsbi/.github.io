{
  "nbformat": 4,
  "nbformat_minor": 0,
  "metadata": {
    "colab": {
      "name": "Elder Impulse System.ipynb",
      "provenance": [],
      "authorship_tag": "ABX9TyMeXN5hi2wgsypBSkHqLEhG",
      "include_colab_link": true
    },
    "kernelspec": {
      "name": "python3",
      "display_name": "Python 3"
    },
    "language_info": {
      "name": "python"
    }
  },
  "cells": [
    {
      "cell_type": "markdown",
      "metadata": {
        "id": "view-in-github",
        "colab_type": "text"
      },
      "source": [
        "<a href=\"https://colab.research.google.com/github/anirbanghoshsbi/.github.io/blob/master/experimental/Elder_Impulse_System.ipynb\" target=\"_parent\"><img src=\"https://colab.research.google.com/assets/colab-badge.svg\" alt=\"Open In Colab\"/></a>"
      ]
    },
    {
      "cell_type": "code",
      "metadata": {
        "colab": {
          "base_uri": "https://localhost:8080/"
        },
        "id": "WZFs0OGEqT6Y",
        "outputId": "8e4bf668-ae1a-4d07-aeee-521778ccc330"
      },
      "source": [
        "!pip install yfinance\n",
        "!pip install pandas-ta==0.2.45b"
      ],
      "execution_count": 1,
      "outputs": [
        {
          "output_type": "stream",
          "name": "stdout",
          "text": [
            "Collecting yfinance\n",
            "  Downloading yfinance-0.1.64.tar.gz (26 kB)\n",
            "Requirement already satisfied: pandas>=0.24 in /usr/local/lib/python3.7/dist-packages (from yfinance) (1.1.5)\n",
            "Requirement already satisfied: numpy>=1.15 in /usr/local/lib/python3.7/dist-packages (from yfinance) (1.19.5)\n",
            "Requirement already satisfied: requests>=2.20 in /usr/local/lib/python3.7/dist-packages (from yfinance) (2.23.0)\n",
            "Requirement already satisfied: multitasking>=0.0.7 in /usr/local/lib/python3.7/dist-packages (from yfinance) (0.0.9)\n",
            "Collecting lxml>=4.5.1\n",
            "  Downloading lxml-4.6.3-cp37-cp37m-manylinux2014_x86_64.whl (6.3 MB)\n",
            "\u001b[K     |████████████████████████████████| 6.3 MB 8.3 MB/s \n",
            "\u001b[?25hRequirement already satisfied: pytz>=2017.2 in /usr/local/lib/python3.7/dist-packages (from pandas>=0.24->yfinance) (2018.9)\n",
            "Requirement already satisfied: python-dateutil>=2.7.3 in /usr/local/lib/python3.7/dist-packages (from pandas>=0.24->yfinance) (2.8.2)\n",
            "Requirement already satisfied: six>=1.5 in /usr/local/lib/python3.7/dist-packages (from python-dateutil>=2.7.3->pandas>=0.24->yfinance) (1.15.0)\n",
            "Requirement already satisfied: idna<3,>=2.5 in /usr/local/lib/python3.7/dist-packages (from requests>=2.20->yfinance) (2.10)\n",
            "Requirement already satisfied: chardet<4,>=3.0.2 in /usr/local/lib/python3.7/dist-packages (from requests>=2.20->yfinance) (3.0.4)\n",
            "Requirement already satisfied: certifi>=2017.4.17 in /usr/local/lib/python3.7/dist-packages (from requests>=2.20->yfinance) (2021.5.30)\n",
            "Requirement already satisfied: urllib3!=1.25.0,!=1.25.1,<1.26,>=1.21.1 in /usr/local/lib/python3.7/dist-packages (from requests>=2.20->yfinance) (1.24.3)\n",
            "Building wheels for collected packages: yfinance\n",
            "  Building wheel for yfinance (setup.py) ... \u001b[?25l\u001b[?25hdone\n",
            "  Created wheel for yfinance: filename=yfinance-0.1.64-py2.py3-none-any.whl size=24109 sha256=b515e2ce11dfba1e305da1a7f204f3332d20cafa948811c5428e4f2ec54f6358\n",
            "  Stored in directory: /root/.cache/pip/wheels/86/fe/9b/a4d3d78796b699e37065e5b6c27b75cff448ddb8b24943c288\n",
            "Successfully built yfinance\n",
            "Installing collected packages: lxml, yfinance\n",
            "  Attempting uninstall: lxml\n",
            "    Found existing installation: lxml 4.2.6\n",
            "    Uninstalling lxml-4.2.6:\n",
            "      Successfully uninstalled lxml-4.2.6\n",
            "Successfully installed lxml-4.6.3 yfinance-0.1.64\n",
            "Collecting pandas-ta==0.2.45b\n",
            "  Downloading pandas_ta-0.2.45b.tar.gz (88 kB)\n",
            "\u001b[K     |████████████████████████████████| 88 kB 4.0 MB/s \n",
            "\u001b[?25hRequirement already satisfied: pandas in /usr/local/lib/python3.7/dist-packages (from pandas-ta==0.2.45b) (1.1.5)\n",
            "Requirement already satisfied: numpy>=1.15.4 in /usr/local/lib/python3.7/dist-packages (from pandas->pandas-ta==0.2.45b) (1.19.5)\n",
            "Requirement already satisfied: pytz>=2017.2 in /usr/local/lib/python3.7/dist-packages (from pandas->pandas-ta==0.2.45b) (2018.9)\n",
            "Requirement already satisfied: python-dateutil>=2.7.3 in /usr/local/lib/python3.7/dist-packages (from pandas->pandas-ta==0.2.45b) (2.8.2)\n",
            "Requirement already satisfied: six>=1.5 in /usr/local/lib/python3.7/dist-packages (from python-dateutil>=2.7.3->pandas->pandas-ta==0.2.45b) (1.15.0)\n",
            "Building wheels for collected packages: pandas-ta\n",
            "  Building wheel for pandas-ta (setup.py) ... \u001b[?25l\u001b[?25hdone\n",
            "  Created wheel for pandas-ta: filename=pandas_ta-0.2.45b0-py3-none-any.whl size=175303 sha256=b9b2827f4974681f138cb0924128407b919b754ab3998a0907edf0242e7d811c\n",
            "  Stored in directory: /root/.cache/pip/wheels/b1/49/60/e674e28ae57160651c6198b76e1714a0b175e44e022fcd5137\n",
            "Successfully built pandas-ta\n",
            "Installing collected packages: pandas-ta\n",
            "Successfully installed pandas-ta-0.2.45b0\n"
          ]
        }
      ]
    },
    {
      "cell_type": "code",
      "metadata": {
        "id": "gp0vSmhzqL2N"
      },
      "source": [
        "import pandas as pd\n",
        "import numpy as np\n",
        "import yfinance as yf\n",
        "import pandas_ta as ta\n",
        "import warnings \n",
        "warnings.filterwarnings(\"ignore\")"
      ],
      "execution_count": 2,
      "outputs": []
    },
    {
      "cell_type": "code",
      "metadata": {
        "id": "qwWu7HlNskmH"
      },
      "source": [
        "START = \"2020-01-01\"  #yyyy-mm-dd\n",
        "#END = '2020-05-01'"
      ],
      "execution_count": 3,
      "outputs": []
    },
    {
      "cell_type": "code",
      "metadata": {
        "colab": {
          "base_uri": "https://localhost:8080/"
        },
        "id": "mQFEPZZTr1mQ",
        "outputId": "d4e346c8-4f17-421c-9b4e-66ea9b3b899b"
      },
      "source": [
        "tker = '^nsei' #'^nsei'\n",
        "nifty =yf.download(tker,start=START)\n",
        "nifty=nifty.dropna()\n",
        "nifty=nifty.iloc[:,:4]\n"
      ],
      "execution_count": 4,
      "outputs": [
        {
          "output_type": "stream",
          "name": "stdout",
          "text": [
            "\r[*********************100%***********************]  1 of 1 completed\n"
          ]
        }
      ]
    },
    {
      "cell_type": "markdown",
      "metadata": {
        "id": "COT7Za7ZqYy5"
      },
      "source": [
        "ElderImpulse\n",
        "Impulse System for the price bars\n",
        "\n",
        "Bullish price bar: (13-period EMA > previous 13-period EMA) and (MACD-Histogram > previous period's MACD-Histogram)\n",
        "Bearish price bar: (13-period EMA < previous 13-period EMA) and (MACD-Histogram < previous period's MACD-Histogram)\n",
        "Neutral price bar: when conditions for a bullish price bar or bearish price bar are not met."
      ]
    },
    {
      "cell_type": "code",
      "metadata": {
        "colab": {
          "base_uri": "https://localhost:8080/"
        },
        "id": "LX06c37wqZej",
        "outputId": "2bd7ff26-cb1a-4020-dab6-bcab72c91821"
      },
      "source": [
        "nifty.ta.macd(append=True)\n",
        "nifty.ta.ema(length=13,append=True)\n",
        "nifty.ta.ema(length=50,append=True)\n",
        "print()"
      ],
      "execution_count": 5,
      "outputs": [
        {
          "output_type": "stream",
          "name": "stdout",
          "text": [
            "\n"
          ]
        }
      ]
    },
    {
      "cell_type": "code",
      "metadata": {
        "id": "p8Bb4p-KwxiK"
      },
      "source": [
        "nifty['Impulse']=0"
      ],
      "execution_count": 6,
      "outputs": []
    },
    {
      "cell_type": "code",
      "metadata": {
        "id": "f0ljlpJms1fW"
      },
      "source": [
        "for i in range(len(nifty)):\n",
        "  if (nifty['EMA_13'].iloc[i]>nifty['EMA_13'].iloc[i-1] and nifty['MACDh_12_26_9'].iloc[i]>nifty['MACDh_12_26_9'].iloc[i-1]):\n",
        "    nifty['Impulse'].iloc[i]=1\n",
        "  elif (nifty['EMA_13'].iloc[i]<nifty['EMA_13'].iloc[i-1] and nifty['MACDh_12_26_9'].iloc[i]<nifty['MACDh_12_26_9'].iloc[i-1]):\n",
        "    nifty['Impulse'].iloc[i]=-1\n",
        "  else:\n",
        "    nifty['Impulse'].iloc[i]=0    "
      ],
      "execution_count": 7,
      "outputs": []
    },
    {
      "cell_type": "code",
      "metadata": {
        "colab": {
          "base_uri": "https://localhost:8080/"
        },
        "id": "QYOCPhMvs0Bb",
        "outputId": "7f228531-db39-4f00-cc4d-891861622801"
      },
      "source": [
        "nifty['Impulse'].value_counts()"
      ],
      "execution_count": 8,
      "outputs": [
        {
          "output_type": "execute_result",
          "data": {
            "text/plain": [
              " 0    202\n",
              " 1    168\n",
              "-1     83\n",
              "Name: Impulse, dtype: int64"
            ]
          },
          "metadata": {},
          "execution_count": 8
        }
      ]
    },
    {
      "cell_type": "code",
      "metadata": {
        "id": "onJi0dpLu_vb",
        "colab": {
          "base_uri": "https://localhost:8080/",
          "height": 146
        },
        "outputId": "3de23d2b-5340-4095-aefd-8cd785380756"
      },
      "source": [
        "nifty[-1:]"
      ],
      "execution_count": 9,
      "outputs": [
        {
          "output_type": "execute_result",
          "data": {
            "text/html": [
              "<div>\n",
              "<style scoped>\n",
              "    .dataframe tbody tr th:only-of-type {\n",
              "        vertical-align: middle;\n",
              "    }\n",
              "\n",
              "    .dataframe tbody tr th {\n",
              "        vertical-align: top;\n",
              "    }\n",
              "\n",
              "    .dataframe thead th {\n",
              "        text-align: right;\n",
              "    }\n",
              "</style>\n",
              "<table border=\"1\" class=\"dataframe\">\n",
              "  <thead>\n",
              "    <tr style=\"text-align: right;\">\n",
              "      <th></th>\n",
              "      <th>open</th>\n",
              "      <th>high</th>\n",
              "      <th>low</th>\n",
              "      <th>close</th>\n",
              "      <th>MACD_12_26_9</th>\n",
              "      <th>MACDh_12_26_9</th>\n",
              "      <th>MACDs_12_26_9</th>\n",
              "      <th>EMA_13</th>\n",
              "      <th>EMA_50</th>\n",
              "      <th>Impulse</th>\n",
              "    </tr>\n",
              "    <tr>\n",
              "      <th>date</th>\n",
              "      <th></th>\n",
              "      <th></th>\n",
              "      <th></th>\n",
              "      <th></th>\n",
              "      <th></th>\n",
              "      <th></th>\n",
              "      <th></th>\n",
              "      <th></th>\n",
              "      <th></th>\n",
              "      <th></th>\n",
              "    </tr>\n",
              "  </thead>\n",
              "  <tbody>\n",
              "    <tr>\n",
              "      <th>2021-10-28</th>\n",
              "      <td>18187.650391</td>\n",
              "      <td>18190.699219</td>\n",
              "      <td>17799.449219</td>\n",
              "      <td>17857.25</td>\n",
              "      <td>178.643978</td>\n",
              "      <td>-51.652845</td>\n",
              "      <td>230.296823</td>\n",
              "      <td>18095.312358</td>\n",
              "      <td>17542.427446</td>\n",
              "      <td>-1</td>\n",
              "    </tr>\n",
              "  </tbody>\n",
              "</table>\n",
              "</div>"
            ],
            "text/plain": [
              "                    open          high  ...        EMA_50  Impulse\n",
              "date                                    ...                       \n",
              "2021-10-28  18187.650391  18190.699219  ...  17542.427446       -1\n",
              "\n",
              "[1 rows x 10 columns]"
            ]
          },
          "metadata": {},
          "execution_count": 9
        }
      ]
    },
    {
      "cell_type": "code",
      "metadata": {
        "id": "FPUhbIiNsNJv"
      },
      "source": [
        "nifty['signal50']=0"
      ],
      "execution_count": 10,
      "outputs": []
    },
    {
      "cell_type": "code",
      "metadata": {
        "id": "3DP9Wz78dJoW"
      },
      "source": [
        "for i in range(len(nifty)):\n",
        "  if (nifty['close'].iloc[i]>nifty['EMA_50'].iloc[i]):\n",
        "    nifty['signal50'].iloc[i]=1\n",
        "  elif (nifty['close'].iloc[i]<nifty['EMA_50'].iloc[i]):\n",
        "    nifty['signal50'].iloc[i]=-1\n",
        "  else:\n",
        "    nifty['signal50'].iloc[i]=0 "
      ],
      "execution_count": 12,
      "outputs": []
    },
    {
      "cell_type": "code",
      "metadata": {
        "colab": {
          "base_uri": "https://localhost:8080/",
          "height": 194
        },
        "id": "ij3EFQ3EsbLq",
        "outputId": "d3911727-2c98-44a3-a0f4-d9afe8bb3137"
      },
      "source": [
        "nifty.tail(2)"
      ],
      "execution_count": 13,
      "outputs": [
        {
          "output_type": "execute_result",
          "data": {
            "text/html": [
              "<div>\n",
              "<style scoped>\n",
              "    .dataframe tbody tr th:only-of-type {\n",
              "        vertical-align: middle;\n",
              "    }\n",
              "\n",
              "    .dataframe tbody tr th {\n",
              "        vertical-align: top;\n",
              "    }\n",
              "\n",
              "    .dataframe thead th {\n",
              "        text-align: right;\n",
              "    }\n",
              "</style>\n",
              "<table border=\"1\" class=\"dataframe\">\n",
              "  <thead>\n",
              "    <tr style=\"text-align: right;\">\n",
              "      <th></th>\n",
              "      <th>open</th>\n",
              "      <th>high</th>\n",
              "      <th>low</th>\n",
              "      <th>close</th>\n",
              "      <th>MACD_12_26_9</th>\n",
              "      <th>MACDh_12_26_9</th>\n",
              "      <th>MACDs_12_26_9</th>\n",
              "      <th>EMA_13</th>\n",
              "      <th>EMA_50</th>\n",
              "      <th>Impulse</th>\n",
              "      <th>signal50</th>\n",
              "    </tr>\n",
              "    <tr>\n",
              "      <th>date</th>\n",
              "      <th></th>\n",
              "      <th></th>\n",
              "      <th></th>\n",
              "      <th></th>\n",
              "      <th></th>\n",
              "      <th></th>\n",
              "      <th></th>\n",
              "      <th></th>\n",
              "      <th></th>\n",
              "      <th></th>\n",
              "      <th></th>\n",
              "    </tr>\n",
              "  </thead>\n",
              "  <tbody>\n",
              "    <tr>\n",
              "      <th>2021-10-27</th>\n",
              "      <td>18295.849609</td>\n",
              "      <td>18342.050781</td>\n",
              "      <td>18167.900391</td>\n",
              "      <td>18210.949219</td>\n",
              "      <td>218.016511</td>\n",
              "      <td>-25.193523</td>\n",
              "      <td>243.210034</td>\n",
              "      <td>18134.989417</td>\n",
              "      <td>17529.577546</td>\n",
              "      <td>0</td>\n",
              "      <td>1</td>\n",
              "    </tr>\n",
              "    <tr>\n",
              "      <th>2021-10-28</th>\n",
              "      <td>18187.650391</td>\n",
              "      <td>18190.699219</td>\n",
              "      <td>17799.449219</td>\n",
              "      <td>17857.250000</td>\n",
              "      <td>178.643978</td>\n",
              "      <td>-51.652845</td>\n",
              "      <td>230.296823</td>\n",
              "      <td>18095.312358</td>\n",
              "      <td>17542.427446</td>\n",
              "      <td>-1</td>\n",
              "      <td>1</td>\n",
              "    </tr>\n",
              "  </tbody>\n",
              "</table>\n",
              "</div>"
            ],
            "text/plain": [
              "                    open          high  ...  Impulse  signal50\n",
              "date                                    ...                   \n",
              "2021-10-27  18295.849609  18342.050781  ...        0         1\n",
              "2021-10-28  18187.650391  18190.699219  ...       -1         1\n",
              "\n",
              "[2 rows x 11 columns]"
            ]
          },
          "metadata": {},
          "execution_count": 13
        }
      ]
    },
    {
      "cell_type": "code",
      "metadata": {
        "id": "lGRR1GIBscgb"
      },
      "source": [
        "nifty[['Impulse','signal50']].to_csv('impulse.csv')"
      ],
      "execution_count": 14,
      "outputs": []
    }
  ]
}