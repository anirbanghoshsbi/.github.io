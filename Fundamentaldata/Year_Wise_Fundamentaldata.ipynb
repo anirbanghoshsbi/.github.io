{
  "nbformat": 4,
  "nbformat_minor": 0,
  "metadata": {
    "colab": {
      "name": "Year_Wise Fundamentaldata.ipynb",
      "provenance": [],
      "authorship_tag": "ABX9TyNIrKhkbsRMFaORpNcNLayK",
      "include_colab_link": true
    },
    "kernelspec": {
      "name": "python3",
      "display_name": "Python 3"
    },
    "language_info": {
      "name": "python"
    }
  },
  "cells": [
    {
      "cell_type": "markdown",
      "metadata": {
        "id": "view-in-github",
        "colab_type": "text"
      },
      "source": [
        "<a href=\"https://colab.research.google.com/github/anirbanghoshsbi/.github.io/blob/master/Fundamentaldata/Year_Wise_Fundamentaldata.ipynb\" target=\"_parent\"><img src=\"https://colab.research.google.com/assets/colab-badge.svg\" alt=\"Open In Colab\"/></a>"
      ]
    },
    {
      "cell_type": "code",
      "metadata": {
        "id": "RL8bSlAAj9iy"
      },
      "source": [
        "import pandas as pd\n",
        "import numpy as np\n"
      ],
      "execution_count": 1,
      "outputs": []
    },
    {
      "cell_type": "code",
      "metadata": {
        "id": "31VYO-lakC5k"
      },
      "source": [
        "data = pd.read_csv('https://raw.githubusercontent.com/anirbanghoshsbi/.github.io/master/Fundamentaldata/df.csv')"
      ],
      "execution_count": 2,
      "outputs": []
    },
    {
      "cell_type": "code",
      "metadata": {
        "colab": {
          "base_uri": "https://localhost:8080/",
          "height": 234
        },
        "id": "PqhPq3AlkJD0",
        "outputId": "3e8c332e-7b38-4a43-c0e6-1c8623aadc15"
      },
      "source": [
        "data.head(2)"
      ],
      "execution_count": 5,
      "outputs": [
        {
          "output_type": "execute_result",
          "data": {
            "text/html": [
              "<div>\n",
              "<style scoped>\n",
              "    .dataframe tbody tr th:only-of-type {\n",
              "        vertical-align: middle;\n",
              "    }\n",
              "\n",
              "    .dataframe tbody tr th {\n",
              "        vertical-align: top;\n",
              "    }\n",
              "\n",
              "    .dataframe thead th {\n",
              "        text-align: right;\n",
              "    }\n",
              "</style>\n",
              "<table border=\"1\" class=\"dataframe\">\n",
              "  <thead>\n",
              "    <tr style=\"text-align: right;\">\n",
              "      <th></th>\n",
              "      <th>Unnamed: 0</th>\n",
              "      <th>key stats</th>\n",
              "      <th>mar21</th>\n",
              "      <th>mar20</th>\n",
              "      <th>mar19</th>\n",
              "      <th>mar18</th>\n",
              "      <th>mar17</th>\n",
              "      <th>company</th>\n",
              "      <th>mar16</th>\n",
              "      <th>mar15</th>\n",
              "      <th>mar14</th>\n",
              "      <th>mar13</th>\n",
              "      <th>mar12</th>\n",
              "    </tr>\n",
              "  </thead>\n",
              "  <tbody>\n",
              "    <tr>\n",
              "      <th>0</th>\n",
              "      <td>0</td>\n",
              "      <td>Key Financial Ratios of Adani Ports and Specia...</td>\n",
              "      <td>Mar 21</td>\n",
              "      <td>Mar 20</td>\n",
              "      <td>Mar 19</td>\n",
              "      <td>Mar 18</td>\n",
              "      <td>Mar 17</td>\n",
              "      <td>ADANIPORTS.NS</td>\n",
              "      <td>Mar 16</td>\n",
              "      <td>Mar 15</td>\n",
              "      <td>Mar 14</td>\n",
              "      <td>Mar 13</td>\n",
              "      <td>Mar 12</td>\n",
              "    </tr>\n",
              "    <tr>\n",
              "      <th>1</th>\n",
              "      <td>1</td>\n",
              "      <td>Per Share Ratios</td>\n",
              "      <td>NaN</td>\n",
              "      <td>NaN</td>\n",
              "      <td>NaN</td>\n",
              "      <td>NaN</td>\n",
              "      <td>NaN</td>\n",
              "      <td>ADANIPORTS.NS</td>\n",
              "      <td>NaN</td>\n",
              "      <td>NaN</td>\n",
              "      <td>NaN</td>\n",
              "      <td>NaN</td>\n",
              "      <td>NaN</td>\n",
              "    </tr>\n",
              "  </tbody>\n",
              "</table>\n",
              "</div>"
            ],
            "text/plain": [
              "   Unnamed: 0  ...   mar12\n",
              "0           0  ...  Mar 12\n",
              "1           1  ...     NaN\n",
              "\n",
              "[2 rows x 13 columns]"
            ]
          },
          "metadata": {},
          "execution_count": 5
        }
      ]
    },
    {
      "cell_type": "code",
      "metadata": {
        "id": "7t8SWaGIkKTE"
      },
      "source": [
        "data_slice=data[['key stats','mar21','company']]"
      ],
      "execution_count": 6,
      "outputs": []
    },
    {
      "cell_type": "code",
      "metadata": {
        "id": "DnJvgvGYkgyK"
      },
      "source": [
        "data_slice.to_csv('df.csv')"
      ],
      "execution_count": 10,
      "outputs": []
    },
    {
      "cell_type": "code",
      "metadata": {
        "id": "E6j7iJa6n4u-"
      },
      "source": [
        "key_var=data_slice['key stats'].tolist()"
      ],
      "execution_count": 17,
      "outputs": []
    },
    {
      "cell_type": "code",
      "metadata": {
        "id": "ZYehWU_9owXK"
      },
      "source": [
        "# extract the data columns names\n",
        "data_columns=key_var[1:40]"
      ],
      "execution_count": 27,
      "outputs": []
    },
    {
      "cell_type": "code",
      "metadata": {
        "colab": {
          "base_uri": "https://localhost:8080/"
        },
        "id": "tVguWjuYquA6",
        "outputId": "c1813010-b8c6-45ae-ba7a-9c5933ec13a6"
      },
      "source": [
        "len(data_slice['mar21'].tolist())"
      ],
      "execution_count": 37,
      "outputs": [
        {
          "output_type": "execute_result",
          "data": {
            "text/plain": [
              "1874"
            ]
          },
          "metadata": {},
          "execution_count": 37
        }
      ]
    },
    {
      "cell_type": "code",
      "metadata": {
        "id": "rD1-LYRCkiba"
      },
      "source": [
        "nlst=[]\n",
        "for i in range(1,1874,40):\n",
        "  print(i)\n",
        "  name=str(i)\n",
        "  var = name+f'_data'\n",
        "  var=data_slice['mar21'].tolist()[i:i+39]\n",
        "  nlst.append(var)"
      ],
      "execution_count": null,
      "outputs": []
    },
    {
      "cell_type": "code",
      "metadata": {
        "id": "wbp_kMLepfuq"
      },
      "source": [
        "lst=[]\n",
        "lst.append(data_columns)"
      ],
      "execution_count": 34,
      "outputs": []
    },
    {
      "cell_type": "code",
      "metadata": {
        "id": "XFwN7BumpxzB"
      },
      "source": [
        "lst.append(data_val)"
      ],
      "execution_count": 35,
      "outputs": []
    },
    {
      "cell_type": "code",
      "metadata": {
        "id": "DAaPFLJup1th"
      },
      "source": [
        "df=pd.DataFrame(nlst)"
      ],
      "execution_count": 43,
      "outputs": []
    },
    {
      "cell_type": "code",
      "metadata": {
        "id": "7XO_9UT-p8_x"
      },
      "source": [
        "df.columns=data_columns"
      ],
      "execution_count": 44,
      "outputs": []
    },
    {
      "cell_type": "code",
      "metadata": {
        "colab": {
          "base_uri": "https://localhost:8080/",
          "height": 201
        },
        "id": "-_KxhmGHtG76",
        "outputId": "818bd397-882e-4ed5-84b4-3f18a752c324"
      },
      "source": [
        "df.head(2)"
      ],
      "execution_count": 45,
      "outputs": [
        {
          "output_type": "execute_result",
          "data": {
            "text/html": [
              "<div>\n",
              "<style scoped>\n",
              "    .dataframe tbody tr th:only-of-type {\n",
              "        vertical-align: middle;\n",
              "    }\n",
              "\n",
              "    .dataframe tbody tr th {\n",
              "        vertical-align: top;\n",
              "    }\n",
              "\n",
              "    .dataframe thead th {\n",
              "        text-align: right;\n",
              "    }\n",
              "</style>\n",
              "<table border=\"1\" class=\"dataframe\">\n",
              "  <thead>\n",
              "    <tr style=\"text-align: right;\">\n",
              "      <th></th>\n",
              "      <th>Per Share Ratios</th>\n",
              "      <th>Basic EPS (Rs.)</th>\n",
              "      <th>Diluted EPS (Rs.)</th>\n",
              "      <th>Cash EPS (Rs.)</th>\n",
              "      <th>Book Value [ExclRevalReserve]/Share (Rs.)</th>\n",
              "      <th>Book Value [InclRevalReserve]/Share (Rs.)</th>\n",
              "      <th>Dividend / Share(Rs.)</th>\n",
              "      <th>Revenue from Operations/Share (Rs.)</th>\n",
              "      <th>PBDIT/Share (Rs.)</th>\n",
              "      <th>PBIT/Share (Rs.)</th>\n",
              "      <th>PBT/Share (Rs.)</th>\n",
              "      <th>Net Profit/Share (Rs.)</th>\n",
              "      <th>Profitability Ratios</th>\n",
              "      <th>PBDIT Margin (%)</th>\n",
              "      <th>PBIT Margin (%)</th>\n",
              "      <th>PBT Margin (%)</th>\n",
              "      <th>Net Profit Margin (%)</th>\n",
              "      <th>Return on Networth / Equity (%)</th>\n",
              "      <th>Return on Capital Employed (%)</th>\n",
              "      <th>Return on Assets (%)</th>\n",
              "      <th>Total Debt/Equity (X)</th>\n",
              "      <th>Asset Turnover Ratio (%)</th>\n",
              "      <th>Liquidity Ratios</th>\n",
              "      <th>Current Ratio (X)</th>\n",
              "      <th>Quick Ratio (X)</th>\n",
              "      <th>Inventory Turnover Ratio (X)</th>\n",
              "      <th>Dividend Payout Ratio (NP) (%)</th>\n",
              "      <th>Dividend Payout Ratio (CP) (%)</th>\n",
              "      <th>Earnings Retention Ratio (%)</th>\n",
              "      <th>Cash Earnings Retention Ratio (%)</th>\n",
              "      <th>Valuation Ratios</th>\n",
              "      <th>Enterprise Value (Cr.)</th>\n",
              "      <th>EV/Net Operating Revenue (X)</th>\n",
              "      <th>EV/EBITDA (X)</th>\n",
              "      <th>MarketCap/Net Operating Revenue (X)</th>\n",
              "      <th>Retention Ratios (%)</th>\n",
              "      <th>Price/BV (X)</th>\n",
              "      <th>Price/Net Operating Revenue</th>\n",
              "      <th>Earnings Yield</th>\n",
              "    </tr>\n",
              "  </thead>\n",
              "  <tbody>\n",
              "    <tr>\n",
              "      <th>0</th>\n",
              "      <td>NaN</td>\n",
              "      <td>9.49</td>\n",
              "      <td>9.49</td>\n",
              "      <td>12.54</td>\n",
              "      <td>106.48</td>\n",
              "      <td>106.48</td>\n",
              "      <td>5.00</td>\n",
              "      <td>21.54</td>\n",
              "      <td>28.82</td>\n",
              "      <td>25.77</td>\n",
              "      <td>14.32</td>\n",
              "      <td>9.49</td>\n",
              "      <td>NaN</td>\n",
              "      <td>133.77</td>\n",
              "      <td>119.63</td>\n",
              "      <td>66.47</td>\n",
              "      <td>44.04</td>\n",
              "      <td>8.91</td>\n",
              "      <td>9.79</td>\n",
              "      <td>3.29</td>\n",
              "      <td>1.51</td>\n",
              "      <td>7.47</td>\n",
              "      <td>NaN</td>\n",
              "      <td>1.56</td>\n",
              "      <td>1.55</td>\n",
              "      <td>58.98</td>\n",
              "      <td>0.00</td>\n",
              "      <td>0.00</td>\n",
              "      <td>0.00</td>\n",
              "      <td>0.00</td>\n",
              "      <td>NaN</td>\n",
              "      <td>172000.61</td>\n",
              "      <td>39.30</td>\n",
              "      <td>29.37</td>\n",
              "      <td>32.62</td>\n",
              "      <td>0.00</td>\n",
              "      <td>6.60</td>\n",
              "      <td>32.62</td>\n",
              "      <td>0.01</td>\n",
              "    </tr>\n",
              "    <tr>\n",
              "      <th>1</th>\n",
              "      <td>NaN</td>\n",
              "      <td>31.82</td>\n",
              "      <td>31.82</td>\n",
              "      <td>39.09</td>\n",
              "      <td>126.05</td>\n",
              "      <td>126.05</td>\n",
              "      <td>17.85</td>\n",
              "      <td>193.04</td>\n",
              "      <td>50.66</td>\n",
              "      <td>43.39</td>\n",
              "      <td>42.64</td>\n",
              "      <td>31.82</td>\n",
              "      <td>NaN</td>\n",
              "      <td>26.24</td>\n",
              "      <td>22.47</td>\n",
              "      <td>22.09</td>\n",
              "      <td>16.48</td>\n",
              "      <td>25.24</td>\n",
              "      <td>31.99</td>\n",
              "      <td>17.36</td>\n",
              "      <td>0.00</td>\n",
              "      <td>105.31</td>\n",
              "      <td>NaN</td>\n",
              "      <td>2.18</td>\n",
              "      <td>1.49</td>\n",
              "      <td>5.93</td>\n",
              "      <td>10.52</td>\n",
              "      <td>8.56</td>\n",
              "      <td>89.48</td>\n",
              "      <td>91.44</td>\n",
              "      <td>NaN</td>\n",
              "      <td>243204.46</td>\n",
              "      <td>13.13</td>\n",
              "      <td>50.05</td>\n",
              "      <td>13.14</td>\n",
              "      <td>89.47</td>\n",
              "      <td>20.12</td>\n",
              "      <td>13.14</td>\n",
              "      <td>0.01</td>\n",
              "    </tr>\n",
              "  </tbody>\n",
              "</table>\n",
              "</div>"
            ],
            "text/plain": [
              "  Per Share Ratios Basic EPS (Rs.)  ... Price/Net Operating Revenue Earnings Yield\n",
              "0              NaN            9.49  ...                       32.62           0.01\n",
              "1              NaN           31.82  ...                       13.14           0.01\n",
              "\n",
              "[2 rows x 39 columns]"
            ]
          },
          "metadata": {},
          "execution_count": 45
        }
      ]
    },
    {
      "cell_type": "code",
      "metadata": {
        "id": "yYipMbpdtIGK"
      },
      "source": [
        "df['company_name']=data_slice['company'].unique().tolist()"
      ],
      "execution_count": 52,
      "outputs": []
    },
    {
      "cell_type": "code",
      "metadata": {
        "colab": {
          "base_uri": "https://localhost:8080/"
        },
        "id": "OngYwpg5tamy",
        "outputId": "5cc05316-83f4-4810-956d-2973a1be1eb5"
      },
      "source": [
        "df.shape"
      ],
      "execution_count": 54,
      "outputs": [
        {
          "output_type": "execute_result",
          "data": {
            "text/plain": [
              "(47, 40)"
            ]
          },
          "metadata": {},
          "execution_count": 54
        }
      ]
    },
    {
      "cell_type": "code",
      "metadata": {
        "id": "EOi6q6rFtxkx"
      },
      "source": [
        ""
      ],
      "execution_count": null,
      "outputs": []
    }
  ]
}