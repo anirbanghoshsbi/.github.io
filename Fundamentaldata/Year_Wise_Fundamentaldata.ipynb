{
  "nbformat": 4,
  "nbformat_minor": 0,
  "metadata": {
    "colab": {
      "name": "Year_Wise Fundamentaldata.ipynb",
      "provenance": [],
      "authorship_tag": "ABX9TyMjgDnR+nB/xFdSsd6HpOtX",
      "include_colab_link": true
    },
    "kernelspec": {
      "name": "python3",
      "display_name": "Python 3"
    },
    "language_info": {
      "name": "python"
    }
  },
  "cells": [
    {
      "cell_type": "markdown",
      "metadata": {
        "id": "view-in-github",
        "colab_type": "text"
      },
      "source": [
        "<a href=\"https://colab.research.google.com/github/anirbanghoshsbi/.github.io/blob/master/Fundamentaldata/Year_Wise_Fundamentaldata.ipynb\" target=\"_parent\"><img src=\"https://colab.research.google.com/assets/colab-badge.svg\" alt=\"Open In Colab\"/></a>"
      ]
    },
    {
      "cell_type": "code",
      "metadata": {
        "id": "RL8bSlAAj9iy"
      },
      "source": [
        "import pandas as pd\n",
        "import numpy as np\n"
      ],
      "execution_count": 100,
      "outputs": []
    },
    {
      "cell_type": "code",
      "metadata": {
        "id": "31VYO-lakC5k"
      },
      "source": [
        "data = pd.read_csv('https://raw.githubusercontent.com/anirbanghoshsbi/.github.io/master/Fundamentaldata/df.csv')"
      ],
      "execution_count": 101,
      "outputs": []
    },
    {
      "cell_type": "code",
      "metadata": {
        "colab": {
          "base_uri": "https://localhost:8080/",
          "height": 234
        },
        "id": "PqhPq3AlkJD0",
        "outputId": "03f8ccdb-f255-4c7d-ab62-03a8a5e19a67"
      },
      "source": [
        "data.head(2)"
      ],
      "execution_count": 102,
      "outputs": [
        {
          "output_type": "execute_result",
          "data": {
            "text/html": [
              "<div>\n",
              "<style scoped>\n",
              "    .dataframe tbody tr th:only-of-type {\n",
              "        vertical-align: middle;\n",
              "    }\n",
              "\n",
              "    .dataframe tbody tr th {\n",
              "        vertical-align: top;\n",
              "    }\n",
              "\n",
              "    .dataframe thead th {\n",
              "        text-align: right;\n",
              "    }\n",
              "</style>\n",
              "<table border=\"1\" class=\"dataframe\">\n",
              "  <thead>\n",
              "    <tr style=\"text-align: right;\">\n",
              "      <th></th>\n",
              "      <th>Unnamed: 0</th>\n",
              "      <th>key stats</th>\n",
              "      <th>mar21</th>\n",
              "      <th>mar20</th>\n",
              "      <th>mar19</th>\n",
              "      <th>mar18</th>\n",
              "      <th>mar17</th>\n",
              "      <th>company</th>\n",
              "      <th>mar16</th>\n",
              "      <th>mar15</th>\n",
              "      <th>mar14</th>\n",
              "      <th>mar13</th>\n",
              "      <th>mar12</th>\n",
              "    </tr>\n",
              "  </thead>\n",
              "  <tbody>\n",
              "    <tr>\n",
              "      <th>0</th>\n",
              "      <td>0</td>\n",
              "      <td>Key Financial Ratios of Adani Ports and Specia...</td>\n",
              "      <td>Mar 21</td>\n",
              "      <td>Mar 20</td>\n",
              "      <td>Mar 19</td>\n",
              "      <td>Mar 18</td>\n",
              "      <td>Mar 17</td>\n",
              "      <td>ADANIPORTS.NS</td>\n",
              "      <td>Mar 16</td>\n",
              "      <td>Mar 15</td>\n",
              "      <td>Mar 14</td>\n",
              "      <td>Mar 13</td>\n",
              "      <td>Mar 12</td>\n",
              "    </tr>\n",
              "    <tr>\n",
              "      <th>1</th>\n",
              "      <td>1</td>\n",
              "      <td>Per Share Ratios</td>\n",
              "      <td>NaN</td>\n",
              "      <td>NaN</td>\n",
              "      <td>NaN</td>\n",
              "      <td>NaN</td>\n",
              "      <td>NaN</td>\n",
              "      <td>ADANIPORTS.NS</td>\n",
              "      <td>NaN</td>\n",
              "      <td>NaN</td>\n",
              "      <td>NaN</td>\n",
              "      <td>NaN</td>\n",
              "      <td>NaN</td>\n",
              "    </tr>\n",
              "  </tbody>\n",
              "</table>\n",
              "</div>"
            ],
            "text/plain": [
              "   Unnamed: 0  ...   mar12\n",
              "0           0  ...  Mar 12\n",
              "1           1  ...     NaN\n",
              "\n",
              "[2 rows x 13 columns]"
            ]
          },
          "metadata": {},
          "execution_count": 102
        }
      ]
    },
    {
      "cell_type": "code",
      "metadata": {
        "id": "7t8SWaGIkKTE"
      },
      "source": [
        "data_slice=data[['key stats','mar21','company']]"
      ],
      "execution_count": 103,
      "outputs": []
    },
    {
      "cell_type": "code",
      "metadata": {
        "id": "DnJvgvGYkgyK"
      },
      "source": [
        "data_slice.to_csv('df.csv')"
      ],
      "execution_count": 104,
      "outputs": []
    },
    {
      "cell_type": "code",
      "metadata": {
        "id": "E6j7iJa6n4u-"
      },
      "source": [
        "key_var=data_slice['key stats'].tolist()"
      ],
      "execution_count": 105,
      "outputs": []
    },
    {
      "cell_type": "code",
      "metadata": {
        "id": "ZYehWU_9owXK"
      },
      "source": [
        "# extract the data columns names\n",
        "data_columns=key_var[1:40]"
      ],
      "execution_count": 106,
      "outputs": []
    },
    {
      "cell_type": "code",
      "metadata": {
        "colab": {
          "base_uri": "https://localhost:8080/"
        },
        "id": "tVguWjuYquA6",
        "outputId": "1e66e1f3-a5e8-4ba1-82cd-ff0a91645647"
      },
      "source": [
        "len(data_slice['mar21'].tolist())"
      ],
      "execution_count": 107,
      "outputs": [
        {
          "output_type": "execute_result",
          "data": {
            "text/plain": [
              "1874"
            ]
          },
          "metadata": {},
          "execution_count": 107
        }
      ]
    },
    {
      "cell_type": "code",
      "metadata": {
        "colab": {
          "base_uri": "https://localhost:8080/"
        },
        "id": "rD1-LYRCkiba",
        "outputId": "b673afb2-033e-47ef-8e18-474590b34c1f"
      },
      "source": [
        "nlst=[]\n",
        "for i in range(1,1874,40):\n",
        "  print(i)\n",
        "  name=str(i)\n",
        "  var = name+f'_data'\n",
        "  var=data_slice['mar21'].tolist()[i:i+39]\n",
        "  nlst.append(var)"
      ],
      "execution_count": 108,
      "outputs": [
        {
          "output_type": "stream",
          "name": "stdout",
          "text": [
            "1\n",
            "41\n",
            "81\n",
            "121\n",
            "161\n",
            "201\n",
            "241\n",
            "281\n",
            "321\n",
            "361\n",
            "401\n",
            "441\n",
            "481\n",
            "521\n",
            "561\n",
            "601\n",
            "641\n",
            "681\n",
            "721\n",
            "761\n",
            "801\n",
            "841\n",
            "881\n",
            "921\n",
            "961\n",
            "1001\n",
            "1041\n",
            "1081\n",
            "1121\n",
            "1161\n",
            "1201\n",
            "1241\n",
            "1281\n",
            "1321\n",
            "1361\n",
            "1401\n",
            "1441\n",
            "1481\n",
            "1521\n",
            "1561\n",
            "1601\n",
            "1641\n",
            "1681\n",
            "1721\n",
            "1761\n",
            "1801\n",
            "1841\n"
          ]
        }
      ]
    },
    {
      "cell_type": "code",
      "metadata": {
        "id": "DAaPFLJup1th"
      },
      "source": [
        "df=pd.DataFrame(nlst)"
      ],
      "execution_count": 109,
      "outputs": []
    },
    {
      "cell_type": "code",
      "metadata": {
        "id": "7XO_9UT-p8_x"
      },
      "source": [
        "df.columns=data_columns"
      ],
      "execution_count": 110,
      "outputs": []
    },
    {
      "cell_type": "code",
      "metadata": {
        "colab": {
          "base_uri": "https://localhost:8080/",
          "height": 201
        },
        "id": "-_KxhmGHtG76",
        "outputId": "4caf9ab4-c369-4977-c499-a4cafe32411a"
      },
      "source": [
        "df.head(2)"
      ],
      "execution_count": 111,
      "outputs": [
        {
          "output_type": "execute_result",
          "data": {
            "text/html": [
              "<div>\n",
              "<style scoped>\n",
              "    .dataframe tbody tr th:only-of-type {\n",
              "        vertical-align: middle;\n",
              "    }\n",
              "\n",
              "    .dataframe tbody tr th {\n",
              "        vertical-align: top;\n",
              "    }\n",
              "\n",
              "    .dataframe thead th {\n",
              "        text-align: right;\n",
              "    }\n",
              "</style>\n",
              "<table border=\"1\" class=\"dataframe\">\n",
              "  <thead>\n",
              "    <tr style=\"text-align: right;\">\n",
              "      <th></th>\n",
              "      <th>Per Share Ratios</th>\n",
              "      <th>Basic EPS (Rs.)</th>\n",
              "      <th>Diluted EPS (Rs.)</th>\n",
              "      <th>Cash EPS (Rs.)</th>\n",
              "      <th>Book Value [ExclRevalReserve]/Share (Rs.)</th>\n",
              "      <th>Book Value [InclRevalReserve]/Share (Rs.)</th>\n",
              "      <th>Dividend / Share(Rs.)</th>\n",
              "      <th>Revenue from Operations/Share (Rs.)</th>\n",
              "      <th>PBDIT/Share (Rs.)</th>\n",
              "      <th>PBIT/Share (Rs.)</th>\n",
              "      <th>PBT/Share (Rs.)</th>\n",
              "      <th>Net Profit/Share (Rs.)</th>\n",
              "      <th>Profitability Ratios</th>\n",
              "      <th>PBDIT Margin (%)</th>\n",
              "      <th>PBIT Margin (%)</th>\n",
              "      <th>PBT Margin (%)</th>\n",
              "      <th>Net Profit Margin (%)</th>\n",
              "      <th>Return on Networth / Equity (%)</th>\n",
              "      <th>Return on Capital Employed (%)</th>\n",
              "      <th>Return on Assets (%)</th>\n",
              "      <th>Total Debt/Equity (X)</th>\n",
              "      <th>Asset Turnover Ratio (%)</th>\n",
              "      <th>Liquidity Ratios</th>\n",
              "      <th>Current Ratio (X)</th>\n",
              "      <th>Quick Ratio (X)</th>\n",
              "      <th>Inventory Turnover Ratio (X)</th>\n",
              "      <th>Dividend Payout Ratio (NP) (%)</th>\n",
              "      <th>Dividend Payout Ratio (CP) (%)</th>\n",
              "      <th>Earnings Retention Ratio (%)</th>\n",
              "      <th>Cash Earnings Retention Ratio (%)</th>\n",
              "      <th>Valuation Ratios</th>\n",
              "      <th>Enterprise Value (Cr.)</th>\n",
              "      <th>EV/Net Operating Revenue (X)</th>\n",
              "      <th>EV/EBITDA (X)</th>\n",
              "      <th>MarketCap/Net Operating Revenue (X)</th>\n",
              "      <th>Retention Ratios (%)</th>\n",
              "      <th>Price/BV (X)</th>\n",
              "      <th>Price/Net Operating Revenue</th>\n",
              "      <th>Earnings Yield</th>\n",
              "    </tr>\n",
              "  </thead>\n",
              "  <tbody>\n",
              "    <tr>\n",
              "      <th>0</th>\n",
              "      <td>NaN</td>\n",
              "      <td>9.49</td>\n",
              "      <td>9.49</td>\n",
              "      <td>12.54</td>\n",
              "      <td>106.48</td>\n",
              "      <td>106.48</td>\n",
              "      <td>5.00</td>\n",
              "      <td>21.54</td>\n",
              "      <td>28.82</td>\n",
              "      <td>25.77</td>\n",
              "      <td>14.32</td>\n",
              "      <td>9.49</td>\n",
              "      <td>NaN</td>\n",
              "      <td>133.77</td>\n",
              "      <td>119.63</td>\n",
              "      <td>66.47</td>\n",
              "      <td>44.04</td>\n",
              "      <td>8.91</td>\n",
              "      <td>9.79</td>\n",
              "      <td>3.29</td>\n",
              "      <td>1.51</td>\n",
              "      <td>7.47</td>\n",
              "      <td>NaN</td>\n",
              "      <td>1.56</td>\n",
              "      <td>1.55</td>\n",
              "      <td>58.98</td>\n",
              "      <td>0.00</td>\n",
              "      <td>0.00</td>\n",
              "      <td>0.00</td>\n",
              "      <td>0.00</td>\n",
              "      <td>NaN</td>\n",
              "      <td>172000.61</td>\n",
              "      <td>39.30</td>\n",
              "      <td>29.37</td>\n",
              "      <td>32.62</td>\n",
              "      <td>0.00</td>\n",
              "      <td>6.60</td>\n",
              "      <td>32.62</td>\n",
              "      <td>0.01</td>\n",
              "    </tr>\n",
              "    <tr>\n",
              "      <th>1</th>\n",
              "      <td>NaN</td>\n",
              "      <td>31.82</td>\n",
              "      <td>31.82</td>\n",
              "      <td>39.09</td>\n",
              "      <td>126.05</td>\n",
              "      <td>126.05</td>\n",
              "      <td>17.85</td>\n",
              "      <td>193.04</td>\n",
              "      <td>50.66</td>\n",
              "      <td>43.39</td>\n",
              "      <td>42.64</td>\n",
              "      <td>31.82</td>\n",
              "      <td>NaN</td>\n",
              "      <td>26.24</td>\n",
              "      <td>22.47</td>\n",
              "      <td>22.09</td>\n",
              "      <td>16.48</td>\n",
              "      <td>25.24</td>\n",
              "      <td>31.99</td>\n",
              "      <td>17.36</td>\n",
              "      <td>0.00</td>\n",
              "      <td>105.31</td>\n",
              "      <td>NaN</td>\n",
              "      <td>2.18</td>\n",
              "      <td>1.49</td>\n",
              "      <td>5.93</td>\n",
              "      <td>10.52</td>\n",
              "      <td>8.56</td>\n",
              "      <td>89.48</td>\n",
              "      <td>91.44</td>\n",
              "      <td>NaN</td>\n",
              "      <td>243204.46</td>\n",
              "      <td>13.13</td>\n",
              "      <td>50.05</td>\n",
              "      <td>13.14</td>\n",
              "      <td>89.47</td>\n",
              "      <td>20.12</td>\n",
              "      <td>13.14</td>\n",
              "      <td>0.01</td>\n",
              "    </tr>\n",
              "  </tbody>\n",
              "</table>\n",
              "</div>"
            ],
            "text/plain": [
              "  Per Share Ratios Basic EPS (Rs.)  ... Price/Net Operating Revenue Earnings Yield\n",
              "0              NaN            9.49  ...                       32.62           0.01\n",
              "1              NaN           31.82  ...                       13.14           0.01\n",
              "\n",
              "[2 rows x 39 columns]"
            ]
          },
          "metadata": {},
          "execution_count": 111
        }
      ]
    },
    {
      "cell_type": "code",
      "metadata": {
        "id": "yYipMbpdtIGK"
      },
      "source": [
        "df['company_name']=data_slice['company'].unique().tolist()"
      ],
      "execution_count": 112,
      "outputs": []
    },
    {
      "cell_type": "code",
      "metadata": {
        "colab": {
          "base_uri": "https://localhost:8080/",
          "height": 201
        },
        "id": "OngYwpg5tamy",
        "outputId": "15328cc1-8004-4a49-fd8f-18a01552a4a7"
      },
      "source": [
        "df.head(2)"
      ],
      "execution_count": 113,
      "outputs": [
        {
          "output_type": "execute_result",
          "data": {
            "text/html": [
              "<div>\n",
              "<style scoped>\n",
              "    .dataframe tbody tr th:only-of-type {\n",
              "        vertical-align: middle;\n",
              "    }\n",
              "\n",
              "    .dataframe tbody tr th {\n",
              "        vertical-align: top;\n",
              "    }\n",
              "\n",
              "    .dataframe thead th {\n",
              "        text-align: right;\n",
              "    }\n",
              "</style>\n",
              "<table border=\"1\" class=\"dataframe\">\n",
              "  <thead>\n",
              "    <tr style=\"text-align: right;\">\n",
              "      <th></th>\n",
              "      <th>Per Share Ratios</th>\n",
              "      <th>Basic EPS (Rs.)</th>\n",
              "      <th>Diluted EPS (Rs.)</th>\n",
              "      <th>Cash EPS (Rs.)</th>\n",
              "      <th>Book Value [ExclRevalReserve]/Share (Rs.)</th>\n",
              "      <th>Book Value [InclRevalReserve]/Share (Rs.)</th>\n",
              "      <th>Dividend / Share(Rs.)</th>\n",
              "      <th>Revenue from Operations/Share (Rs.)</th>\n",
              "      <th>PBDIT/Share (Rs.)</th>\n",
              "      <th>PBIT/Share (Rs.)</th>\n",
              "      <th>PBT/Share (Rs.)</th>\n",
              "      <th>Net Profit/Share (Rs.)</th>\n",
              "      <th>Profitability Ratios</th>\n",
              "      <th>PBDIT Margin (%)</th>\n",
              "      <th>PBIT Margin (%)</th>\n",
              "      <th>PBT Margin (%)</th>\n",
              "      <th>Net Profit Margin (%)</th>\n",
              "      <th>Return on Networth / Equity (%)</th>\n",
              "      <th>Return on Capital Employed (%)</th>\n",
              "      <th>Return on Assets (%)</th>\n",
              "      <th>Total Debt/Equity (X)</th>\n",
              "      <th>Asset Turnover Ratio (%)</th>\n",
              "      <th>Liquidity Ratios</th>\n",
              "      <th>Current Ratio (X)</th>\n",
              "      <th>Quick Ratio (X)</th>\n",
              "      <th>Inventory Turnover Ratio (X)</th>\n",
              "      <th>Dividend Payout Ratio (NP) (%)</th>\n",
              "      <th>Dividend Payout Ratio (CP) (%)</th>\n",
              "      <th>Earnings Retention Ratio (%)</th>\n",
              "      <th>Cash Earnings Retention Ratio (%)</th>\n",
              "      <th>Valuation Ratios</th>\n",
              "      <th>Enterprise Value (Cr.)</th>\n",
              "      <th>EV/Net Operating Revenue (X)</th>\n",
              "      <th>EV/EBITDA (X)</th>\n",
              "      <th>MarketCap/Net Operating Revenue (X)</th>\n",
              "      <th>Retention Ratios (%)</th>\n",
              "      <th>Price/BV (X)</th>\n",
              "      <th>Price/Net Operating Revenue</th>\n",
              "      <th>Earnings Yield</th>\n",
              "      <th>company_name</th>\n",
              "    </tr>\n",
              "  </thead>\n",
              "  <tbody>\n",
              "    <tr>\n",
              "      <th>0</th>\n",
              "      <td>NaN</td>\n",
              "      <td>9.49</td>\n",
              "      <td>9.49</td>\n",
              "      <td>12.54</td>\n",
              "      <td>106.48</td>\n",
              "      <td>106.48</td>\n",
              "      <td>5.00</td>\n",
              "      <td>21.54</td>\n",
              "      <td>28.82</td>\n",
              "      <td>25.77</td>\n",
              "      <td>14.32</td>\n",
              "      <td>9.49</td>\n",
              "      <td>NaN</td>\n",
              "      <td>133.77</td>\n",
              "      <td>119.63</td>\n",
              "      <td>66.47</td>\n",
              "      <td>44.04</td>\n",
              "      <td>8.91</td>\n",
              "      <td>9.79</td>\n",
              "      <td>3.29</td>\n",
              "      <td>1.51</td>\n",
              "      <td>7.47</td>\n",
              "      <td>NaN</td>\n",
              "      <td>1.56</td>\n",
              "      <td>1.55</td>\n",
              "      <td>58.98</td>\n",
              "      <td>0.00</td>\n",
              "      <td>0.00</td>\n",
              "      <td>0.00</td>\n",
              "      <td>0.00</td>\n",
              "      <td>NaN</td>\n",
              "      <td>172000.61</td>\n",
              "      <td>39.30</td>\n",
              "      <td>29.37</td>\n",
              "      <td>32.62</td>\n",
              "      <td>0.00</td>\n",
              "      <td>6.60</td>\n",
              "      <td>32.62</td>\n",
              "      <td>0.01</td>\n",
              "      <td>ADANIPORTS.NS</td>\n",
              "    </tr>\n",
              "    <tr>\n",
              "      <th>1</th>\n",
              "      <td>NaN</td>\n",
              "      <td>31.82</td>\n",
              "      <td>31.82</td>\n",
              "      <td>39.09</td>\n",
              "      <td>126.05</td>\n",
              "      <td>126.05</td>\n",
              "      <td>17.85</td>\n",
              "      <td>193.04</td>\n",
              "      <td>50.66</td>\n",
              "      <td>43.39</td>\n",
              "      <td>42.64</td>\n",
              "      <td>31.82</td>\n",
              "      <td>NaN</td>\n",
              "      <td>26.24</td>\n",
              "      <td>22.47</td>\n",
              "      <td>22.09</td>\n",
              "      <td>16.48</td>\n",
              "      <td>25.24</td>\n",
              "      <td>31.99</td>\n",
              "      <td>17.36</td>\n",
              "      <td>0.00</td>\n",
              "      <td>105.31</td>\n",
              "      <td>NaN</td>\n",
              "      <td>2.18</td>\n",
              "      <td>1.49</td>\n",
              "      <td>5.93</td>\n",
              "      <td>10.52</td>\n",
              "      <td>8.56</td>\n",
              "      <td>89.48</td>\n",
              "      <td>91.44</td>\n",
              "      <td>NaN</td>\n",
              "      <td>243204.46</td>\n",
              "      <td>13.13</td>\n",
              "      <td>50.05</td>\n",
              "      <td>13.14</td>\n",
              "      <td>89.47</td>\n",
              "      <td>20.12</td>\n",
              "      <td>13.14</td>\n",
              "      <td>0.01</td>\n",
              "      <td>ASIANPAINT.NS</td>\n",
              "    </tr>\n",
              "  </tbody>\n",
              "</table>\n",
              "</div>"
            ],
            "text/plain": [
              "  Per Share Ratios Basic EPS (Rs.)  ... Earnings Yield   company_name\n",
              "0              NaN            9.49  ...           0.01  ADANIPORTS.NS\n",
              "1              NaN           31.82  ...           0.01  ASIANPAINT.NS\n",
              "\n",
              "[2 rows x 40 columns]"
            ]
          },
          "metadata": {},
          "execution_count": 113
        }
      ]
    },
    {
      "cell_type": "code",
      "metadata": {
        "colab": {
          "base_uri": "https://localhost:8080/",
          "height": 201
        },
        "id": "uC0vGPE4vY9a",
        "outputId": "08d50361-abb1-454c-b128-a82ca3db3094"
      },
      "source": [
        "df.head(2)"
      ],
      "execution_count": 114,
      "outputs": [
        {
          "output_type": "execute_result",
          "data": {
            "text/html": [
              "<div>\n",
              "<style scoped>\n",
              "    .dataframe tbody tr th:only-of-type {\n",
              "        vertical-align: middle;\n",
              "    }\n",
              "\n",
              "    .dataframe tbody tr th {\n",
              "        vertical-align: top;\n",
              "    }\n",
              "\n",
              "    .dataframe thead th {\n",
              "        text-align: right;\n",
              "    }\n",
              "</style>\n",
              "<table border=\"1\" class=\"dataframe\">\n",
              "  <thead>\n",
              "    <tr style=\"text-align: right;\">\n",
              "      <th></th>\n",
              "      <th>Per Share Ratios</th>\n",
              "      <th>Basic EPS (Rs.)</th>\n",
              "      <th>Diluted EPS (Rs.)</th>\n",
              "      <th>Cash EPS (Rs.)</th>\n",
              "      <th>Book Value [ExclRevalReserve]/Share (Rs.)</th>\n",
              "      <th>Book Value [InclRevalReserve]/Share (Rs.)</th>\n",
              "      <th>Dividend / Share(Rs.)</th>\n",
              "      <th>Revenue from Operations/Share (Rs.)</th>\n",
              "      <th>PBDIT/Share (Rs.)</th>\n",
              "      <th>PBIT/Share (Rs.)</th>\n",
              "      <th>PBT/Share (Rs.)</th>\n",
              "      <th>Net Profit/Share (Rs.)</th>\n",
              "      <th>Profitability Ratios</th>\n",
              "      <th>PBDIT Margin (%)</th>\n",
              "      <th>PBIT Margin (%)</th>\n",
              "      <th>PBT Margin (%)</th>\n",
              "      <th>Net Profit Margin (%)</th>\n",
              "      <th>Return on Networth / Equity (%)</th>\n",
              "      <th>Return on Capital Employed (%)</th>\n",
              "      <th>Return on Assets (%)</th>\n",
              "      <th>Total Debt/Equity (X)</th>\n",
              "      <th>Asset Turnover Ratio (%)</th>\n",
              "      <th>Liquidity Ratios</th>\n",
              "      <th>Current Ratio (X)</th>\n",
              "      <th>Quick Ratio (X)</th>\n",
              "      <th>Inventory Turnover Ratio (X)</th>\n",
              "      <th>Dividend Payout Ratio (NP) (%)</th>\n",
              "      <th>Dividend Payout Ratio (CP) (%)</th>\n",
              "      <th>Earnings Retention Ratio (%)</th>\n",
              "      <th>Cash Earnings Retention Ratio (%)</th>\n",
              "      <th>Valuation Ratios</th>\n",
              "      <th>Enterprise Value (Cr.)</th>\n",
              "      <th>EV/Net Operating Revenue (X)</th>\n",
              "      <th>EV/EBITDA (X)</th>\n",
              "      <th>MarketCap/Net Operating Revenue (X)</th>\n",
              "      <th>Retention Ratios (%)</th>\n",
              "      <th>Price/BV (X)</th>\n",
              "      <th>Price/Net Operating Revenue</th>\n",
              "      <th>Earnings Yield</th>\n",
              "      <th>company_name</th>\n",
              "    </tr>\n",
              "  </thead>\n",
              "  <tbody>\n",
              "    <tr>\n",
              "      <th>0</th>\n",
              "      <td>NaN</td>\n",
              "      <td>9.49</td>\n",
              "      <td>9.49</td>\n",
              "      <td>12.54</td>\n",
              "      <td>106.48</td>\n",
              "      <td>106.48</td>\n",
              "      <td>5.00</td>\n",
              "      <td>21.54</td>\n",
              "      <td>28.82</td>\n",
              "      <td>25.77</td>\n",
              "      <td>14.32</td>\n",
              "      <td>9.49</td>\n",
              "      <td>NaN</td>\n",
              "      <td>133.77</td>\n",
              "      <td>119.63</td>\n",
              "      <td>66.47</td>\n",
              "      <td>44.04</td>\n",
              "      <td>8.91</td>\n",
              "      <td>9.79</td>\n",
              "      <td>3.29</td>\n",
              "      <td>1.51</td>\n",
              "      <td>7.47</td>\n",
              "      <td>NaN</td>\n",
              "      <td>1.56</td>\n",
              "      <td>1.55</td>\n",
              "      <td>58.98</td>\n",
              "      <td>0.00</td>\n",
              "      <td>0.00</td>\n",
              "      <td>0.00</td>\n",
              "      <td>0.00</td>\n",
              "      <td>NaN</td>\n",
              "      <td>172000.61</td>\n",
              "      <td>39.30</td>\n",
              "      <td>29.37</td>\n",
              "      <td>32.62</td>\n",
              "      <td>0.00</td>\n",
              "      <td>6.60</td>\n",
              "      <td>32.62</td>\n",
              "      <td>0.01</td>\n",
              "      <td>ADANIPORTS.NS</td>\n",
              "    </tr>\n",
              "    <tr>\n",
              "      <th>1</th>\n",
              "      <td>NaN</td>\n",
              "      <td>31.82</td>\n",
              "      <td>31.82</td>\n",
              "      <td>39.09</td>\n",
              "      <td>126.05</td>\n",
              "      <td>126.05</td>\n",
              "      <td>17.85</td>\n",
              "      <td>193.04</td>\n",
              "      <td>50.66</td>\n",
              "      <td>43.39</td>\n",
              "      <td>42.64</td>\n",
              "      <td>31.82</td>\n",
              "      <td>NaN</td>\n",
              "      <td>26.24</td>\n",
              "      <td>22.47</td>\n",
              "      <td>22.09</td>\n",
              "      <td>16.48</td>\n",
              "      <td>25.24</td>\n",
              "      <td>31.99</td>\n",
              "      <td>17.36</td>\n",
              "      <td>0.00</td>\n",
              "      <td>105.31</td>\n",
              "      <td>NaN</td>\n",
              "      <td>2.18</td>\n",
              "      <td>1.49</td>\n",
              "      <td>5.93</td>\n",
              "      <td>10.52</td>\n",
              "      <td>8.56</td>\n",
              "      <td>89.48</td>\n",
              "      <td>91.44</td>\n",
              "      <td>NaN</td>\n",
              "      <td>243204.46</td>\n",
              "      <td>13.13</td>\n",
              "      <td>50.05</td>\n",
              "      <td>13.14</td>\n",
              "      <td>89.47</td>\n",
              "      <td>20.12</td>\n",
              "      <td>13.14</td>\n",
              "      <td>0.01</td>\n",
              "      <td>ASIANPAINT.NS</td>\n",
              "    </tr>\n",
              "  </tbody>\n",
              "</table>\n",
              "</div>"
            ],
            "text/plain": [
              "  Per Share Ratios Basic EPS (Rs.)  ... Earnings Yield   company_name\n",
              "0              NaN            9.49  ...           0.01  ADANIPORTS.NS\n",
              "1              NaN           31.82  ...           0.01  ASIANPAINT.NS\n",
              "\n",
              "[2 rows x 40 columns]"
            ]
          },
          "metadata": {},
          "execution_count": 114
        }
      ]
    },
    {
      "cell_type": "code",
      "metadata": {
        "id": "oYK2sZKSwJnK"
      },
      "source": [
        ""
      ],
      "execution_count": 114,
      "outputs": []
    }
  ]
}