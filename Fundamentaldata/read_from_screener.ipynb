{
  "nbformat": 4,
  "nbformat_minor": 0,
  "metadata": {
    "colab": {
      "name": "read_from_screener.ipynb",
      "provenance": [],
      "collapsed_sections": [],
      "authorship_tag": "ABX9TyMqbILckSfOcImAMl4WCfhj",
      "include_colab_link": true
    },
    "kernelspec": {
      "name": "python3",
      "display_name": "Python 3"
    },
    "language_info": {
      "name": "python"
    }
  },
  "cells": [
    {
      "cell_type": "markdown",
      "metadata": {
        "id": "view-in-github",
        "colab_type": "text"
      },
      "source": [
        "<a href=\"https://colab.research.google.com/github/anirbanghoshsbi/.github.io/blob/master/Fundamentaldata/read_from_screener.ipynb\" target=\"_parent\"><img src=\"https://colab.research.google.com/assets/colab-badge.svg\" alt=\"Open In Colab\"/></a>"
      ]
    },
    {
      "cell_type": "code",
      "execution_count": 1,
      "metadata": {
        "id": "mThuRWvZ4Fkn"
      },
      "outputs": [],
      "source": [
        "import pandas as pd\n",
        "import os\n",
        "from urllib.error import HTTPError"
      ]
    },
    {
      "cell_type": "code",
      "source": [
        "symbols=pd.read_csv('https://raw.githubusercontent.com/anirbanghoshsbi/nifty500/main/ind_nifty500list.csv')"
      ],
      "metadata": {
        "id": "oboq1QTy4IJH"
      },
      "execution_count": 2,
      "outputs": []
    },
    {
      "cell_type": "code",
      "source": [
        "symbols['data']=symbols.Symbol\n",
        "ticker=symbols.data.tolist()\n",
        "ticker=[item for item in ticker if item!='ANGELBRKG']"
      ],
      "metadata": {
        "id": "HLXGYY_qAwPS"
      },
      "execution_count": 3,
      "outputs": []
    },
    {
      "cell_type": "code",
      "source": [
        "ticker=ticker[342:]"
      ],
      "metadata": {
        "id": "_qbrpT_oH5K9"
      },
      "execution_count": 16,
      "outputs": []
    },
    {
      "cell_type": "code",
      "source": [
        "try:\n",
        "  for company_name in ticker:\n",
        "    path = f'/content/nifty_F_data/{company_name}/'\n",
        "\n",
        "    # Check whether the specified path exists or not\n",
        "    isExist = os.path.exists(path)\n",
        "\n",
        "    if not isExist:\n",
        "    \n",
        "      # Create a new directory because it does not exist \n",
        "      os.makedirs(path)\n",
        "      print(f\"The new directory is created! {path}\")\n",
        "\n",
        "    dataframe=pd.read_html(f'https://www.screener.in/company/{company_name}/consolidated/')\n",
        "    i=0\n",
        "    for df in dataframe:\n",
        "      filename=path+f'_str({i})'\n",
        "      #print(filename)\n",
        "      f = open(filename, 'a')\n",
        "      df.to_csv(f)\n",
        "      i=i+1\n",
        "      #print('file written')\n",
        "      f.close()\n",
        "except HTTPError:\n",
        "  pass"
      ],
      "metadata": {
        "colab": {
          "base_uri": "https://localhost:8080/"
        },
        "id": "mdBWxdhC4XvP",
        "outputId": "d2ef3df3-a6bd-4894-be17-8951a72c09dd"
      },
      "execution_count": 17,
      "outputs": [
        {
          "output_type": "stream",
          "name": "stdout",
          "text": [
            "The new directory is created! /content/nifty_F_data/PIIND/\n",
            "The new directory is created! /content/nifty_F_data/PNBHOUSING/\n",
            "The new directory is created! /content/nifty_F_data/PNCINFRA/\n",
            "The new directory is created! /content/nifty_F_data/PVR/\n",
            "The new directory is created! /content/nifty_F_data/PAGEIND/\n",
            "The new directory is created! /content/nifty_F_data/PERSISTENT/\n",
            "The new directory is created! /content/nifty_F_data/PETRONET/\n",
            "The new directory is created! /content/nifty_F_data/PFIZER/\n",
            "The new directory is created! /content/nifty_F_data/PHILIPCARB/\n",
            "The new directory is created! /content/nifty_F_data/PHOENIXLTD/\n",
            "The new directory is created! /content/nifty_F_data/PIDILITIND/\n",
            "The new directory is created! /content/nifty_F_data/PEL/\n",
            "The new directory is created! /content/nifty_F_data/POLYMED/\n",
            "The new directory is created! /content/nifty_F_data/POLYCAB/\n",
            "The new directory is created! /content/nifty_F_data/POLYPLEX/\n",
            "The new directory is created! /content/nifty_F_data/PFC/\n",
            "The new directory is created! /content/nifty_F_data/POWERGRID/\n",
            "The new directory is created! /content/nifty_F_data/PRESTIGE/\n",
            "The new directory is created! /content/nifty_F_data/PRINCEPIPE/\n",
            "The new directory is created! /content/nifty_F_data/PRSMJOHNSN/\n",
            "The new directory is created! /content/nifty_F_data/PGHL/\n",
            "The new directory is created! /content/nifty_F_data/PGHH/\n",
            "The new directory is created! /content/nifty_F_data/PNB/\n",
            "The new directory is created! /content/nifty_F_data/QUESS/\n",
            "The new directory is created! /content/nifty_F_data/RBLBANK/\n",
            "The new directory is created! /content/nifty_F_data/RECLTD/\n",
            "The new directory is created! /content/nifty_F_data/RITES/\n",
            "The new directory is created! /content/nifty_F_data/RADICO/\n",
            "The new directory is created! /content/nifty_F_data/RVNL/\n",
            "The new directory is created! /content/nifty_F_data/RAIN/\n",
            "The new directory is created! /content/nifty_F_data/RAJESHEXPO/\n",
            "The new directory is created! /content/nifty_F_data/RALLIS/\n",
            "The new directory is created! /content/nifty_F_data/RCF/\n",
            "The new directory is created! /content/nifty_F_data/RATNAMANI/\n",
            "The new directory is created! /content/nifty_F_data/RAYMOND/\n",
            "The new directory is created! /content/nifty_F_data/REDINGTON/\n",
            "The new directory is created! /content/nifty_F_data/RELAXO/\n",
            "The new directory is created! /content/nifty_F_data/RELIANCE/\n",
            "The new directory is created! /content/nifty_F_data/RESPONIND/\n",
            "The new directory is created! /content/nifty_F_data/ROSSARI/\n",
            "The new directory is created! /content/nifty_F_data/ROUTE/\n",
            "The new directory is created! /content/nifty_F_data/SBICARD/\n",
            "The new directory is created! /content/nifty_F_data/SBILIFE/\n",
            "The new directory is created! /content/nifty_F_data/SIS/\n",
            "The new directory is created! /content/nifty_F_data/SJVN/\n",
            "The new directory is created! /content/nifty_F_data/SKFINDIA/\n",
            "The new directory is created! /content/nifty_F_data/SRF/\n",
            "The new directory is created! /content/nifty_F_data/SANOFI/\n",
            "The new directory is created! /content/nifty_F_data/SCHAEFFLER/\n",
            "The new directory is created! /content/nifty_F_data/SCHNEIDER/\n",
            "The new directory is created! /content/nifty_F_data/SEQUENT/\n",
            "The new directory is created! /content/nifty_F_data/SHARDACROP/\n",
            "The new directory is created! /content/nifty_F_data/SFL/\n",
            "The new directory is created! /content/nifty_F_data/SHILPAMED/\n",
            "The new directory is created! /content/nifty_F_data/SCI/\n",
            "The new directory is created! /content/nifty_F_data/SHOPERSTOP/\n",
            "The new directory is created! /content/nifty_F_data/SHREECEM/\n",
            "The new directory is created! /content/nifty_F_data/SHRIRAMCIT/\n",
            "The new directory is created! /content/nifty_F_data/SRTRANSFIN/\n",
            "The new directory is created! /content/nifty_F_data/SIEMENS/\n",
            "The new directory is created! /content/nifty_F_data/SOBHA/\n",
            "The new directory is created! /content/nifty_F_data/SOLARINDS/\n",
            "The new directory is created! /content/nifty_F_data/SOLARA/\n",
            "The new directory is created! /content/nifty_F_data/SONATSOFTW/\n",
            "The new directory is created! /content/nifty_F_data/SPANDANA/\n",
            "The new directory is created! /content/nifty_F_data/SPICEJET/\n",
            "The new directory is created! /content/nifty_F_data/STARCEMENT/\n",
            "The new directory is created! /content/nifty_F_data/SBIN/\n",
            "The new directory is created! /content/nifty_F_data/SAIL/\n",
            "The new directory is created! /content/nifty_F_data/SWSOLAR/\n",
            "The new directory is created! /content/nifty_F_data/STLTECH/\n",
            "The new directory is created! /content/nifty_F_data/STAR/\n",
            "The new directory is created! /content/nifty_F_data/SUDARSCHEM/\n",
            "The new directory is created! /content/nifty_F_data/SUMICHEM/\n",
            "The new directory is created! /content/nifty_F_data/SPARC/\n",
            "The new directory is created! /content/nifty_F_data/SUNPHARMA/\n",
            "The new directory is created! /content/nifty_F_data/SUNTV/\n",
            "The new directory is created! /content/nifty_F_data/SUNCLAYLTD/\n",
            "The new directory is created! /content/nifty_F_data/SUNDARMFIN/\n",
            "The new directory is created! /content/nifty_F_data/SUNDRMFAST/\n",
            "The new directory is created! /content/nifty_F_data/SUNTECK/\n",
            "The new directory is created! /content/nifty_F_data/SUPRAJIT/\n",
            "The new directory is created! /content/nifty_F_data/SUPREMEIND/\n",
            "The new directory is created! /content/nifty_F_data/SUPPETRO/\n",
            "The new directory is created! /content/nifty_F_data/SUVENPHAR/\n",
            "The new directory is created! /content/nifty_F_data/SUZLON/\n",
            "The new directory is created! /content/nifty_F_data/SWANENERGY/\n",
            "The new directory is created! /content/nifty_F_data/SYMPHONY/\n",
            "The new directory is created! /content/nifty_F_data/SYNGENE/\n",
            "The new directory is created! /content/nifty_F_data/TCIEXP/\n",
            "The new directory is created! /content/nifty_F_data/TCNSBRANDS/\n",
            "The new directory is created! /content/nifty_F_data/TTKPRESTIG/\n",
            "The new directory is created! /content/nifty_F_data/TV18BRDCST/\n",
            "The new directory is created! /content/nifty_F_data/TVSMOTOR/\n",
            "The new directory is created! /content/nifty_F_data/TANLA/\n",
            "The new directory is created! /content/nifty_F_data/TASTYBITE/\n",
            "The new directory is created! /content/nifty_F_data/TATACHEM/\n",
            "The new directory is created! /content/nifty_F_data/TATACOFFEE/\n",
            "The new directory is created! /content/nifty_F_data/TATACOMM/\n",
            "The new directory is created! /content/nifty_F_data/TCS/\n",
            "The new directory is created! /content/nifty_F_data/TATACONSUM/\n",
            "The new directory is created! /content/nifty_F_data/TATAELXSI/\n",
            "The new directory is created! /content/nifty_F_data/TATAINVEST/\n",
            "The new directory is created! /content/nifty_F_data/TATAMTRDVR/\n",
            "The new directory is created! /content/nifty_F_data/TATAMOTORS/\n",
            "The new directory is created! /content/nifty_F_data/TATAPOWER/\n",
            "The new directory is created! /content/nifty_F_data/TATASTEEL/\n",
            "The new directory is created! /content/nifty_F_data/TEAMLEASE/\n",
            "The new directory is created! /content/nifty_F_data/TECHM/\n",
            "The new directory is created! /content/nifty_F_data/NIACL/\n",
            "The new directory is created! /content/nifty_F_data/RAMCOCEM/\n",
            "The new directory is created! /content/nifty_F_data/THERMAX/\n",
            "The new directory is created! /content/nifty_F_data/THYROCARE/\n",
            "The new directory is created! /content/nifty_F_data/TIMKEN/\n",
            "The new directory is created! /content/nifty_F_data/TITAN/\n",
            "The new directory is created! /content/nifty_F_data/TORNTPHARM/\n",
            "The new directory is created! /content/nifty_F_data/TORNTPOWER/\n",
            "The new directory is created! /content/nifty_F_data/TRENT/\n",
            "The new directory is created! /content/nifty_F_data/TRIDENT/\n",
            "The new directory is created! /content/nifty_F_data/TRITURBINE/\n",
            "The new directory is created! /content/nifty_F_data/TIINDIA/\n",
            "The new directory is created! /content/nifty_F_data/UCOBANK/\n",
            "The new directory is created! /content/nifty_F_data/UFLEX/\n",
            "The new directory is created! /content/nifty_F_data/UPL/\n",
            "The new directory is created! /content/nifty_F_data/UTIAMC/\n",
            "The new directory is created! /content/nifty_F_data/UJJIVAN/\n",
            "The new directory is created! /content/nifty_F_data/UJJIVANSFB/\n",
            "The new directory is created! /content/nifty_F_data/ULTRACEMCO/\n",
            "The new directory is created! /content/nifty_F_data/UNIONBANK/\n",
            "The new directory is created! /content/nifty_F_data/UBL/\n",
            "The new directory is created! /content/nifty_F_data/MCDOWELL-N/\n",
            "The new directory is created! /content/nifty_F_data/VGUARD/\n",
            "The new directory is created! /content/nifty_F_data/VMART/\n",
            "The new directory is created! /content/nifty_F_data/VIPIND/\n",
            "The new directory is created! /content/nifty_F_data/VSTIND/\n",
            "The new directory is created! /content/nifty_F_data/VAIBHAVGBL/\n",
            "The new directory is created! /content/nifty_F_data/VAKRANGEE/\n",
            "The new directory is created! /content/nifty_F_data/VALIANTORG/\n",
            "The new directory is created! /content/nifty_F_data/VTL/\n",
            "The new directory is created! /content/nifty_F_data/VARROC/\n",
            "The new directory is created! /content/nifty_F_data/VBL/\n",
            "The new directory is created! /content/nifty_F_data/VEDL/\n",
            "The new directory is created! /content/nifty_F_data/VENKEYS/\n",
            "The new directory is created! /content/nifty_F_data/VINATIORGA/\n",
            "The new directory is created! /content/nifty_F_data/IDEA/\n",
            "The new directory is created! /content/nifty_F_data/VOLTAS/\n",
            "The new directory is created! /content/nifty_F_data/WABCOINDIA/\n",
            "The new directory is created! /content/nifty_F_data/WELCORP/\n",
            "The new directory is created! /content/nifty_F_data/WELSPUNIND/\n",
            "The new directory is created! /content/nifty_F_data/WESTLIFE/\n",
            "The new directory is created! /content/nifty_F_data/WHIRLPOOL/\n",
            "The new directory is created! /content/nifty_F_data/WIPRO/\n",
            "The new directory is created! /content/nifty_F_data/WOCKPHARMA/\n",
            "The new directory is created! /content/nifty_F_data/YESBANK/\n",
            "The new directory is created! /content/nifty_F_data/ZEEL/\n",
            "The new directory is created! /content/nifty_F_data/ZENSARTECH/\n",
            "The new directory is created! /content/nifty_F_data/ZYDUSWELL/\n",
            "The new directory is created! /content/nifty_F_data/ECLERX/\n"
          ]
        }
      ]
    },
    {
      "cell_type": "code",
      "source": [
        "pd.read_csv('/content/nifty_F_data/POWERINDIA/_str(6)',index_col=1).T[1:]"
      ],
      "metadata": {
        "colab": {
          "base_uri": "https://localhost:8080/",
          "height": 87
        },
        "id": "uSoShP1V46lu",
        "outputId": "3d748473-a193-4f7c-cd6b-ed508b6e7afc"
      },
      "execution_count": 18,
      "outputs": [
        {
          "output_type": "execute_result",
          "data": {
            "text/html": [
              "<div>\n",
              "<style scoped>\n",
              "    .dataframe tbody tr th:only-of-type {\n",
              "        vertical-align: middle;\n",
              "    }\n",
              "\n",
              "    .dataframe tbody tr th {\n",
              "        vertical-align: top;\n",
              "    }\n",
              "\n",
              "    .dataframe thead th {\n",
              "        text-align: right;\n",
              "    }\n",
              "</style>\n",
              "<table border=\"1\" class=\"dataframe\">\n",
              "  <thead>\n",
              "    <tr style=\"text-align: right;\">\n",
              "      <th>Share Capital +</th>\n",
              "      <th>Reserves</th>\n",
              "      <th>Borrowings</th>\n",
              "      <th>Other Liabilities +</th>\n",
              "      <th>Total Liabilities</th>\n",
              "      <th>Fixed Assets +</th>\n",
              "      <th>CWIP</th>\n",
              "      <th>Investments</th>\n",
              "      <th>Other Assets +</th>\n",
              "      <th>Total Assets</th>\n",
              "    </tr>\n",
              "  </thead>\n",
              "  <tbody>\n",
              "  </tbody>\n",
              "</table>\n",
              "</div>"
            ],
            "text/plain": [
              "Empty DataFrame\n",
              "Columns: [Reserves, Borrowings, Other Liabilities +, Total Liabilities, Fixed Assets +, CWIP, Investments, Other Assets +, Total Assets]\n",
              "Index: []"
            ]
          },
          "metadata": {},
          "execution_count": 18
        }
      ]
    },
    {
      "cell_type": "code",
      "source": [
        "abcd"
      ],
      "metadata": {
        "id": "_QoGamWNThNV",
        "outputId": "fcf0635a-872e-4014-ddbc-07419377118a",
        "colab": {
          "base_uri": "https://localhost:8080/",
          "height": 166
        }
      },
      "execution_count": 19,
      "outputs": [
        {
          "output_type": "error",
          "ename": "NameError",
          "evalue": "ignored",
          "traceback": [
            "\u001b[0;31m---------------------------------------------------------------------------\u001b[0m",
            "\u001b[0;31mNameError\u001b[0m                                 Traceback (most recent call last)",
            "\u001b[0;32m<ipython-input-19-3330b4373640>\u001b[0m in \u001b[0;36m<module>\u001b[0;34m()\u001b[0m\n\u001b[0;32m----> 1\u001b[0;31m \u001b[0mabcd\u001b[0m\u001b[0;34m\u001b[0m\u001b[0;34m\u001b[0m\u001b[0m\n\u001b[0m",
            "\u001b[0;31mNameError\u001b[0m: name 'abcd' is not defined"
          ]
        }
      ]
    },
    {
      "cell_type": "code",
      "source": [
        "import shutil\n",
        "shutil.make_archive('/content/nifty_F_data', 'zip', '/content/nifty_F_data')"
      ],
      "metadata": {
        "colab": {
          "base_uri": "https://localhost:8080/",
          "height": 35
        },
        "id": "uCBhDmEY5Rt9",
        "outputId": "dbff9646-d54d-4b9c-8bb0-6d16dfca6e20"
      },
      "execution_count": 20,
      "outputs": [
        {
          "output_type": "execute_result",
          "data": {
            "application/vnd.google.colaboratory.intrinsic+json": {
              "type": "string"
            },
            "text/plain": [
              "'/content/nifty_F_data.zip'"
            ]
          },
          "metadata": {},
          "execution_count": 20
        }
      ]
    },
    {
      "cell_type": "code",
      "source": [
        "!unzip '/content/nifty_F_data.zip' -d \"/content/output_folder/\""
      ],
      "metadata": {
        "id": "OYVsbsgsPphG"
      },
      "execution_count": null,
      "outputs": []
    }
  ]
}