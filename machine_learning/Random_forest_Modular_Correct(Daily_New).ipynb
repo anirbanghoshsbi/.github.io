{
  "nbformat": 4,
  "nbformat_minor": 0,
  "metadata": {
    "colab": {
      "name": "Random_forest_Modular Correct(Daily_New).ipynb",
      "provenance": [],
      "collapsed_sections": [],
      "authorship_tag": "ABX9TyN7IxvYCVoz7HNEuTEEkqRi",
      "include_colab_link": true
    },
    "kernelspec": {
      "name": "python3",
      "display_name": "Python 3"
    }
  },
  "cells": [
    {
      "cell_type": "markdown",
      "metadata": {
        "id": "view-in-github",
        "colab_type": "text"
      },
      "source": [
        "<a href=\"https://colab.research.google.com/github/anirbanghoshsbi/.github.io/blob/master/machine_learning/Random_forest_Modular_Correct(Daily_New).ipynb\" target=\"_parent\"><img src=\"https://colab.research.google.com/assets/colab-badge.svg\" alt=\"Open In Colab\"/></a>"
      ]
    },
    {
      "cell_type": "code",
      "metadata": {
        "id": "7iumSlW8ZsXW",
        "colab": {
          "base_uri": "https://localhost:8080/"
        },
        "outputId": "5a45e473-1a01-428c-d84f-6ec8d197d1a7"
      },
      "source": [
        "! git clone https://github.com/anirbanghoshsbi/pandas-technical-indicators.git"
      ],
      "execution_count": 1,
      "outputs": [
        {
          "output_type": "stream",
          "name": "stdout",
          "text": [
            "Cloning into 'pandas-technical-indicators'...\n",
            "remote: Enumerating objects: 202, done.\u001b[K\n",
            "remote: Counting objects: 100% (175/175), done.\u001b[K\n",
            "remote: Compressing objects: 100% (175/175), done.\u001b[K\n",
            "remote: Total 202 (delta 105), reused 0 (delta 0), pack-reused 27\u001b[K\n",
            "Receiving objects: 100% (202/202), 58.64 KiB | 1.01 MiB/s, done.\n",
            "Resolving deltas: 100% (117/117), done.\n"
          ]
        }
      ]
    },
    {
      "cell_type": "code",
      "metadata": {
        "id": "DDCq1984hu1G",
        "colab": {
          "base_uri": "https://localhost:8080/"
        },
        "outputId": "3d19a2cb-00a0-4175-ba2a-bc81f743f56d"
      },
      "source": [
        "!pwd"
      ],
      "execution_count": 2,
      "outputs": [
        {
          "output_type": "stream",
          "name": "stdout",
          "text": [
            "/content\n"
          ]
        }
      ]
    },
    {
      "cell_type": "code",
      "metadata": {
        "id": "dVi77hxqZ4WA",
        "colab": {
          "base_uri": "https://localhost:8080/"
        },
        "outputId": "fa203bc0-86fc-4c0a-f5ec-48d30628fef1"
      },
      "source": [
        "%cd pandas-technical-indicators"
      ],
      "execution_count": 3,
      "outputs": [
        {
          "output_type": "stream",
          "name": "stdout",
          "text": [
            "/content/pandas-technical-indicators\n"
          ]
        }
      ]
    },
    {
      "cell_type": "code",
      "metadata": {
        "id": "s86Pickln1eL",
        "colab": {
          "base_uri": "https://localhost:8080/"
        },
        "outputId": "0ab00d16-fd89-4a82-a72e-f263e6234943"
      },
      "source": [
        "!pip install yfinance"
      ],
      "execution_count": 4,
      "outputs": [
        {
          "output_type": "stream",
          "name": "stdout",
          "text": [
            "Collecting yfinance\n",
            "  Downloading yfinance-0.1.66-py2.py3-none-any.whl (25 kB)\n",
            "Collecting lxml>=4.5.1\n",
            "  Downloading lxml-4.6.4-cp37-cp37m-manylinux_2_17_x86_64.manylinux2014_x86_64.manylinux_2_24_x86_64.whl (6.3 MB)\n",
            "\u001b[K     |████████████████████████████████| 6.3 MB 11.3 MB/s \n",
            "\u001b[?25hRequirement already satisfied: numpy>=1.15 in /usr/local/lib/python3.7/dist-packages (from yfinance) (1.19.5)\n",
            "Requirement already satisfied: multitasking>=0.0.7 in /usr/local/lib/python3.7/dist-packages (from yfinance) (0.0.9)\n",
            "Requirement already satisfied: requests>=2.20 in /usr/local/lib/python3.7/dist-packages (from yfinance) (2.23.0)\n",
            "Requirement already satisfied: pandas>=0.24 in /usr/local/lib/python3.7/dist-packages (from yfinance) (1.1.5)\n",
            "Requirement already satisfied: pytz>=2017.2 in /usr/local/lib/python3.7/dist-packages (from pandas>=0.24->yfinance) (2018.9)\n",
            "Requirement already satisfied: python-dateutil>=2.7.3 in /usr/local/lib/python3.7/dist-packages (from pandas>=0.24->yfinance) (2.8.2)\n",
            "Requirement already satisfied: six>=1.5 in /usr/local/lib/python3.7/dist-packages (from python-dateutil>=2.7.3->pandas>=0.24->yfinance) (1.15.0)\n",
            "Requirement already satisfied: urllib3!=1.25.0,!=1.25.1,<1.26,>=1.21.1 in /usr/local/lib/python3.7/dist-packages (from requests>=2.20->yfinance) (1.24.3)\n",
            "Requirement already satisfied: idna<3,>=2.5 in /usr/local/lib/python3.7/dist-packages (from requests>=2.20->yfinance) (2.10)\n",
            "Requirement already satisfied: certifi>=2017.4.17 in /usr/local/lib/python3.7/dist-packages (from requests>=2.20->yfinance) (2021.10.8)\n",
            "Requirement already satisfied: chardet<4,>=3.0.2 in /usr/local/lib/python3.7/dist-packages (from requests>=2.20->yfinance) (3.0.4)\n",
            "Installing collected packages: lxml, yfinance\n",
            "  Attempting uninstall: lxml\n",
            "    Found existing installation: lxml 4.2.6\n",
            "    Uninstalling lxml-4.2.6:\n",
            "      Successfully uninstalled lxml-4.2.6\n",
            "Successfully installed lxml-4.6.4 yfinance-0.1.66\n"
          ]
        }
      ]
    },
    {
      "cell_type": "code",
      "metadata": {
        "id": "RyVFrI_Bf-KO"
      },
      "source": [
        "# Import libraries\n",
        "import os\n",
        "import sys\n",
        "import requests\n",
        "import yfinance as yf\n",
        "import numpy as np\n",
        "import pandas as pd\n",
        "import matplotlib.pyplot as plt\n",
        "from sklearn.model_selection import GridSearchCV\n",
        "from sklearn.ensemble import RandomForestClassifier\n",
        "from sklearn.metrics import accuracy_score,f1_score\n"
      ],
      "execution_count": 38,
      "outputs": []
    },
    {
      "cell_type": "code",
      "metadata": {
        "id": "uyD5aiNXiEmy"
      },
      "source": [
        "import technical_indicators as ta\n",
        "import random_forest as rf\n",
        "import confusionMatrix as cm\n",
        "import easy_line_ploting as linplt"
      ],
      "execution_count": 6,
      "outputs": []
    },
    {
      "cell_type": "code",
      "metadata": {
        "id": "LZieTvwGoEBB"
      },
      "source": [
        "tickr ='^nsei'   #'^NSEI' #^NSEBANK  #^cnxit #^GSPC #^YHOH714"
      ],
      "execution_count": 7,
      "outputs": []
    },
    {
      "cell_type": "code",
      "metadata": {
        "id": "niADW_0DobXw"
      },
      "source": [
        "df_old = pd.DataFrame()"
      ],
      "execution_count": 8,
      "outputs": []
    },
    {
      "cell_type": "code",
      "metadata": {
        "id": "yrZase4sSRTa",
        "colab": {
          "base_uri": "https://localhost:8080/"
        },
        "outputId": "ca34fd0a-7fb7-4d90-c647-dfe0d89c01e9"
      },
      "source": [
        "df_old = yf.download(tickr,'2015-01-01','2020-06-01')"
      ],
      "execution_count": 9,
      "outputs": [
        {
          "output_type": "stream",
          "name": "stdout",
          "text": [
            "\r[*********************100%***********************]  1 of 1 completed\n"
          ]
        }
      ]
    },
    {
      "cell_type": "code",
      "metadata": {
        "id": "N1lEf14ukSSU",
        "colab": {
          "base_uri": "https://localhost:8080/"
        },
        "outputId": "66dc754c-bb66-4184-d1f6-8188f338940d"
      },
      "source": [
        "df_old.shape"
      ],
      "execution_count": 10,
      "outputs": [
        {
          "output_type": "execute_result",
          "data": {
            "text/plain": [
              "(1322, 6)"
            ]
          },
          "metadata": {},
          "execution_count": 10
        }
      ]
    },
    {
      "cell_type": "markdown",
      "metadata": {
        "id": "AriDY7WbeeH_"
      },
      "source": [
        "# INPUT"
      ]
    },
    {
      "cell_type": "code",
      "metadata": {
        "id": "bjIdsTx2aHPA"
      },
      "source": [
        "# INPUT .........\n",
        "\n",
        "#  ********************************* #\n",
        "\n",
        "t=4\n",
        "days_out=30\n",
        "\n",
        "\n",
        "#  ********************************* #"
      ],
      "execution_count": 11,
      "outputs": []
    },
    {
      "cell_type": "code",
      "metadata": {
        "id": "Mhd4krB5aq5c"
      },
      "source": [
        "def get_indicators(data ,days_out,t=2):\n",
        "    data = ta.relative_strength_index(data,days_out)\n",
        "    #data=ta.exponential_moving_average(data,10*t)\n",
        "    #data=ta.exponential_moving_average(data,50*t)\n",
        "    data=ta.momentum(data,7*t)\n",
        "    data=ta.rate_of_change(data,7*t)\n",
        "    #data=ta.exponential_moving_average(data,7*t)\n",
        "    \n",
        "    #data=ta.exponential_moving_average(data , 10*t)\n",
        "    #data=ta.exponential_moving_average(data ,20*t)\n",
        "    #data=ta.force_index(data ,days_out)\n",
        "    data = ta.on_balance_volume(data , days_out)\n",
        "    data = ta.standard_deviation(data , days_out)\n",
        "    data = ta.stochastic_oscillator_d(data ,days_out)\n",
        "    data = ta.stochastic_oscillator_k(data)\n",
        "    data = ta.macd(data , 24 , 50)\n",
        "    #data = ta.ppsr(data)\n",
        "    #data = ta.trix(data,days_out)\n",
        "    data = ta.vortex_indicator(data , days_out)\n",
        "    #data = ta.find_window_high_low(data,days_out)\n",
        "    #data = ta.keltner_channel(data , 13)\n",
        "    #data['change_in_price'] = data['Close'].diff()\n",
        "    \n",
        "    return data\n"
      ],
      "execution_count": 12,
      "outputs": []
    },
    {
      "cell_type": "markdown",
      "metadata": {
        "id": "IiEWz6iCUhfV"
      },
      "source": [
        "# Check This For Weekly or Daily "
      ]
    },
    {
      "cell_type": "code",
      "metadata": {
        "id": "frwJ96MDT1yi"
      },
      "source": [
        "############################ Comment or Uncomment Based on Daily or Weekly ##########\n",
        "\n",
        "#df_old=df_old.resample('W').last()"
      ],
      "execution_count": 13,
      "outputs": []
    },
    {
      "cell_type": "code",
      "metadata": {
        "id": "kXZ4fKIxB54C"
      },
      "source": [
        "train=int(len(df_old)*.75)\n",
        "df_train= df_old[:train]\n",
        "df_test= df_old[train+50:]"
      ],
      "execution_count": 14,
      "outputs": []
    },
    {
      "cell_type": "code",
      "metadata": {
        "colab": {
          "base_uri": "https://localhost:8080/"
        },
        "id": "X21qcDmBCyTS",
        "outputId": "8d13b834-0541-4b0a-e07f-16f2660aaea0"
      },
      "source": [
        "df_train.shape , df_test.shape"
      ],
      "execution_count": 15,
      "outputs": [
        {
          "output_type": "execute_result",
          "data": {
            "text/plain": [
              "((991, 6), (281, 6))"
            ]
          },
          "metadata": {},
          "execution_count": 15
        }
      ]
    },
    {
      "cell_type": "code",
      "metadata": {
        "id": "YzTu94FVUxAL"
      },
      "source": [
        "df_train = get_indicators(df_train,days_out,t)\n",
        "df_test= get_indicators(df_test,days_out,t)"
      ],
      "execution_count": 16,
      "outputs": []
    },
    {
      "cell_type": "code",
      "metadata": {
        "id": "ujPVXaf_fEdF",
        "colab": {
          "base_uri": "https://localhost:8080/",
          "height": 140
        },
        "outputId": "26c734cc-edea-4daf-a929-2e9ed9814ec6"
      },
      "source": [
        "df_old.tail(2)"
      ],
      "execution_count": 17,
      "outputs": [
        {
          "output_type": "execute_result",
          "data": {
            "text/html": [
              "<div>\n",
              "<style scoped>\n",
              "    .dataframe tbody tr th:only-of-type {\n",
              "        vertical-align: middle;\n",
              "    }\n",
              "\n",
              "    .dataframe tbody tr th {\n",
              "        vertical-align: top;\n",
              "    }\n",
              "\n",
              "    .dataframe thead th {\n",
              "        text-align: right;\n",
              "    }\n",
              "</style>\n",
              "<table border=\"1\" class=\"dataframe\">\n",
              "  <thead>\n",
              "    <tr style=\"text-align: right;\">\n",
              "      <th></th>\n",
              "      <th>Open</th>\n",
              "      <th>High</th>\n",
              "      <th>Low</th>\n",
              "      <th>Close</th>\n",
              "      <th>Adj Close</th>\n",
              "      <th>Volume</th>\n",
              "    </tr>\n",
              "    <tr>\n",
              "      <th>Date</th>\n",
              "      <th></th>\n",
              "      <th></th>\n",
              "      <th></th>\n",
              "      <th></th>\n",
              "      <th></th>\n",
              "      <th></th>\n",
              "    </tr>\n",
              "  </thead>\n",
              "  <tbody>\n",
              "    <tr>\n",
              "      <th>2020-05-28</th>\n",
              "      <td>9364.950195</td>\n",
              "      <td>9511.250000</td>\n",
              "      <td>9336.500000</td>\n",
              "      <td>9490.099609</td>\n",
              "      <td>9490.099609</td>\n",
              "      <td>837900</td>\n",
              "    </tr>\n",
              "    <tr>\n",
              "      <th>2020-05-29</th>\n",
              "      <td>9422.200195</td>\n",
              "      <td>9598.849609</td>\n",
              "      <td>9376.900391</td>\n",
              "      <td>9580.299805</td>\n",
              "      <td>9580.299805</td>\n",
              "      <td>967000</td>\n",
              "    </tr>\n",
              "  </tbody>\n",
              "</table>\n",
              "</div>"
            ],
            "text/plain": [
              "                   Open         High  ...    Adj Close  Volume\n",
              "Date                                  ...                     \n",
              "2020-05-28  9364.950195  9511.250000  ...  9490.099609  837900\n",
              "2020-05-29  9422.200195  9598.849609  ...  9580.299805  967000\n",
              "\n",
              "[2 rows x 6 columns]"
            ]
          },
          "metadata": {},
          "execution_count": 17
        }
      ]
    },
    {
      "cell_type": "code",
      "metadata": {
        "id": "leTjYgsQU6Sf"
      },
      "source": [
        "# create a new column that will house the flag, and for each group calculate the diff compared to 30 days ago. Then use Numpy to define the sign.\n",
        "df_train['Signal_Flag'] = df_train['Close'].transform(lambda x : np.sign(x.diff(days_out)))\n",
        "\n",
        "df_train = df_train.dropna()"
      ],
      "execution_count": 18,
      "outputs": []
    },
    {
      "cell_type": "code",
      "metadata": {
        "id": "3r9lKsrFDEpc"
      },
      "source": [
        "# create a new column that will house the flag, and for each group calculate the diff compared to 30 days ago. Then use Numpy to define the sign.\n",
        "df_test['Signal_Flag'] = df_test['Close'].transform(lambda x : np.sign(x.diff(days_out)))\n",
        "\n",
        "df_test = df_test.dropna()"
      ],
      "execution_count": 19,
      "outputs": []
    },
    {
      "cell_type": "code",
      "metadata": {
        "id": "5awcJoZK6fII",
        "colab": {
          "base_uri": "https://localhost:8080/"
        },
        "outputId": "fee7bd47-85c4-4100-bd4c-77e84bcb7132"
      },
      "source": [
        "df_train.columns"
      ],
      "execution_count": 20,
      "outputs": [
        {
          "output_type": "execute_result",
          "data": {
            "text/plain": [
              "Index(['Open', 'High', 'Low', 'Close', 'Adj Close', 'Volume', 'RSI_30',\n",
              "       'Momentum_28', 'ROC_28', 'OBV_30', 'STD_30', 'SO%d_30', 'SO%k',\n",
              "       'MACD_24_50', 'MACDsign_24_50', 'MACDdiff_24_50', 'Vortex_30',\n",
              "       'Signal_Flag'],\n",
              "      dtype='object')"
            ]
          },
          "metadata": {},
          "execution_count": 20
        }
      ]
    },
    {
      "cell_type": "code",
      "metadata": {
        "id": "p0molCB2i9tk"
      },
      "source": [
        "X_train = df_train.drop(['Open','High','Low','Close','Adj Close','Signal_Flag'],axis=1)\n",
        "y_train = df_train['Signal_Flag']\n",
        "X_test = df_test.drop(['Open','High','Low','Close','Adj Close','Signal_Flag'],axis=1)\n",
        "y_test = df_test['Signal_Flag']"
      ],
      "execution_count": 21,
      "outputs": []
    },
    {
      "cell_type": "code",
      "metadata": {
        "id": "ZWERVve8Xbcb",
        "outputId": "d02fedf9-65f5-4eab-e337-7c198fd9ee38",
        "colab": {
          "base_uri": "https://localhost:8080/"
        }
      },
      "source": [
        "############## JUST REMOVE # TO COMPUTE THE BEST PARAMETERS #######################\n",
        "\n",
        "rf.best_param_rf(X_train , y_train , 100)"
      ],
      "execution_count": 22,
      "outputs": [
        {
          "output_type": "stream",
          "name": "stdout",
          "text": [
            "{'n_estimators': [200, 400, 600, 800, 1000, 1200, 1400, 1600, 1800], 'max_features': ['auto', 'sqrt', None, 'log2'], 'max_depth': [10, 20, 30, 40, 50, 60, 70, 80, 90, 100, None], 'min_samples_split': [2, 5, 10, 20, 30, 40], 'min_samples_leaf': [1, 2, 7, 12, 14, 16, 20], 'bootstrap': [True, False]}\n",
            "Fitting 3 folds for each of 100 candidates, totalling 300 fits\n"
          ]
        },
        {
          "output_type": "stream",
          "name": "stderr",
          "text": [
            "[Parallel(n_jobs=-1)]: Using backend LokyBackend with 2 concurrent workers.\n",
            "[Parallel(n_jobs=-1)]: Done  37 tasks      | elapsed:   53.6s\n",
            "[Parallel(n_jobs=-1)]: Done 158 tasks      | elapsed:  4.6min\n",
            "[Parallel(n_jobs=-1)]: Done 300 out of 300 | elapsed:  9.0min finished\n"
          ]
        },
        {
          "output_type": "execute_result",
          "data": {
            "text/plain": [
              "{'Best Score': 0.9625346964575261,\n",
              " 'Best parameters': {'bootstrap': True,\n",
              "  'ccp_alpha': 0.0,\n",
              "  'class_weight': None,\n",
              "  'criterion': 'gini',\n",
              "  'max_depth': 20,\n",
              "  'max_features': 'log2',\n",
              "  'max_leaf_nodes': None,\n",
              "  'max_samples': None,\n",
              "  'min_impurity_decrease': 0.0,\n",
              "  'min_impurity_split': None,\n",
              "  'min_samples_leaf': 2,\n",
              "  'min_samples_split': 40,\n",
              "  'min_weight_fraction_leaf': 0.0,\n",
              "  'n_estimators': 600,\n",
              "  'n_jobs': None,\n",
              "  'oob_score': False,\n",
              "  'random_state': None,\n",
              "  'verbose': 0,\n",
              "  'warm_start': False}}"
            ]
          },
          "metadata": {},
          "execution_count": 22
        }
      ]
    },
    {
      "cell_type": "code",
      "metadata": {
        "id": "OHmEi8PGZURg",
        "colab": {
          "base_uri": "https://localhost:8080/",
          "height": 151
        },
        "outputId": "264c25cf-deec-43b0-c957-10dbcea8e176"
      },
      "source": [
        "'''\n",
        "{'n_estimators': [200, 400, 600, 800, 1000, 1200, 1400, 1600, 1800], 'max_features': ['auto', 'sqrt', None, 'log2'], 'max_depth': [10, 20, 30, 40, 50, 60, 70, 80, 90, 100, None], 'min_samples_split': [2, 5, 10, 20, 30, 40], 'min_samples_leaf': [1, 2, 7, 12, 14, 16, 20], 'bootstrap': [True, False]}\n",
        "Fitting 3 folds for each of 100 candidates, totalling 300 fits\n",
        "[Parallel(n_jobs=-1)]: Using backend LokyBackend with 2 concurrent workers.\n",
        "[Parallel(n_jobs=-1)]: Done  37 tasks      | elapsed:  2.9min\n",
        "[Parallel(n_jobs=-1)]: Done 158 tasks      | elapsed: 13.9min\n",
        "[Parallel(n_jobs=-1)]: Done 300 out of 300 | elapsed: 27.2min finished\n",
        "{'Best Score': 0.941923774954628,\n",
        " 'Best parameters': {'bootstrap': True,\n",
        "  'ccp_alpha': 0.0,\n",
        "  'class_weight': None,\n",
        "  'criterion': 'gini',\n",
        "  'max_depth': 20,\n",
        "  'max_features': None,\n",
        "  'max_leaf_nodes': None,\n",
        "  'max_samples': None,\n",
        "  'min_impurity_decrease': 0.0,\n",
        "  'min_impurity_split': None,\n",
        "  'min_samples_leaf': 12,\n",
        "  'min_samples_split': 2,\n",
        "  'min_weight_fraction_leaf': 0.0,\n",
        "  'n_estimators': 800,\n",
        "  'n_jobs': None,\n",
        "  'oob_score': False,\n",
        "  'random_state': None,\n",
        "  'verbose': 0,\n",
        "  'warm_start': False}}\n",
        "  '''"
      ],
      "execution_count": 23,
      "outputs": [
        {
          "output_type": "execute_result",
          "data": {
            "application/vnd.google.colaboratory.intrinsic+json": {
              "type": "string"
            },
            "text/plain": [
              "\"\\n{'n_estimators': [200, 400, 600, 800, 1000, 1200, 1400, 1600, 1800], 'max_features': ['auto', 'sqrt', None, 'log2'], 'max_depth': [10, 20, 30, 40, 50, 60, 70, 80, 90, 100, None], 'min_samples_split': [2, 5, 10, 20, 30, 40], 'min_samples_leaf': [1, 2, 7, 12, 14, 16, 20], 'bootstrap': [True, False]}\\nFitting 3 folds for each of 100 candidates, totalling 300 fits\\n[Parallel(n_jobs=-1)]: Using backend LokyBackend with 2 concurrent workers.\\n[Parallel(n_jobs=-1)]: Done  37 tasks      | elapsed:  2.9min\\n[Parallel(n_jobs=-1)]: Done 158 tasks      | elapsed: 13.9min\\n[Parallel(n_jobs=-1)]: Done 300 out of 300 | elapsed: 27.2min finished\\n{'Best Score': 0.941923774954628,\\n 'Best parameters': {'bootstrap': True,\\n  'ccp_alpha': 0.0,\\n  'class_weight': None,\\n  'criterion': 'gini',\\n  'max_depth': 20,\\n  'max_features': None,\\n  'max_leaf_nodes': None,\\n  'max_samples': None,\\n  'min_impurity_decrease': 0.0,\\n  'min_impurity_split': None,\\n  'min_samples_leaf': 12,\\n  'min_samples_split': 2,\\n  'min_weight_fraction_leaf': 0.0,\\n  'n_estimators': 800,\\n  'n_jobs': None,\\n  'oob_score': False,\\n  'random_state': None,\\n  'verbose': 0,\\n  'warm_start': False}}\\n  \""
            ]
          },
          "metadata": {},
          "execution_count": 23
        }
      ]
    },
    {
      "cell_type": "code",
      "metadata": {
        "id": "i1aOgSGeZVKY"
      },
      "source": [
        "# Create a Random Forest Classifier\n",
        "rand_frst_clf = RandomForestClassifier(n_estimators = 800,max_depth=20,min_samples_leaf=12,class_weight=None,max_features='auto',min_samples_split=2, criterion = \"gini\", bootstrap=True,random_state = 42)\n",
        "# Fit the data to the model\n",
        "rand_frst_clf.fit(X_train, y_train)\n",
        "\n",
        "# Make predictions\n",
        "y_pred = rand_frst_clf.predict(X_test)\n",
        "# class_weight={-1:1.25,1:1},"
      ],
      "execution_count": 24,
      "outputs": []
    },
    {
      "cell_type": "code",
      "metadata": {
        "id": "kbmmu9jhDB5C",
        "colab": {
          "base_uri": "https://localhost:8080/"
        },
        "outputId": "7fd46de9-b718-41fc-e21f-97847e932d73"
      },
      "source": [
        "y_train.value_counts()"
      ],
      "execution_count": 25,
      "outputs": [
        {
          "output_type": "execute_result",
          "data": {
            "text/plain": [
              " 1.0    609\n",
              "-1.0    325\n",
              "Name: Signal_Flag, dtype: int64"
            ]
          },
          "metadata": {},
          "execution_count": 25
        }
      ]
    },
    {
      "cell_type": "code",
      "metadata": {
        "id": "6qFbdzuGbX8z",
        "colab": {
          "base_uri": "https://localhost:8080/"
        },
        "outputId": "0718fcaf-5d3b-449a-edee-c5cca19a11a7"
      },
      "source": [
        "# Print the Accuracy of our Model.\n",
        "print('Correct Prediction RForest (%): ', f1_score(y_test, rand_frst_clf.predict(X_test), average='macro') * 100.0)"
      ],
      "execution_count": 26,
      "outputs": [
        {
          "output_type": "stream",
          "name": "stdout",
          "text": [
            "Correct Prediction RForest (%):  96.86994710050904\n"
          ]
        }
      ]
    },
    {
      "cell_type": "code",
      "metadata": {
        "id": "ypD41sbwq5SZ",
        "colab": {
          "base_uri": "https://localhost:8080/",
          "height": 361
        },
        "outputId": "2717e4c4-ca72-41ff-b48f-906398a13076"
      },
      "source": [
        "cm.confus_matrix(y_test,y_pred,rand_frst_clf,X_test,y_test,plot=True )\n",
        "\n",
        "#cm.confus_matrix(actual_results , predictions,model ,<test data ( or new_data for prediction except target VAR)>, <actaul Target VAR> , <plot=True>)"
      ],
      "execution_count": 27,
      "outputs": [
        {
          "output_type": "stream",
          "name": "stdout",
          "text": [
            "Accuracy: 96.875\n",
            "Percision: 95.76271186440678\n",
            "Recall: 98.26086956521739\n",
            "Specificity: 95.41284403669725\n"
          ]
        },
        {
          "output_type": "display_data",
          "data": {
            "image/png": "[encoded data removed]",
            "text/plain": [
              "<Figure size 432x288 with 2 Axes>"
            ]
          },
          "metadata": {
            "needs_background": "light"
          }
        }
      ]
    },
    {
      "cell_type": "code",
      "metadata": {
        "id": "9ZW0UmaGcFtD"
      },
      "source": [
        "feature_imp = pd.Series(rand_frst_clf.feature_importances_, index=X_train.columns).sort_values(ascending=False)\n",
        "feature_imp*100\n",
        "feats=X_train.columns"
      ],
      "execution_count": 28,
      "outputs": []
    },
    {
      "cell_type": "markdown",
      "metadata": {
        "id": "WJqADARAnkvy"
      },
      "source": [
        "# Logistic Regression"
      ]
    },
    {
      "cell_type": "code",
      "metadata": {
        "id": "NSJXMdw_oLLJ"
      },
      "source": [
        "from sklearn import preprocessing\n",
        "from sklearn.linear_model import LogisticRegression\n",
        "#from sklearn.cross_validation import train_test_split\n",
        "from sklearn import metrics \n",
        "from sklearn.metrics import classification_report\n",
        "from sklearn.preprocessing import StandardScaler"
      ],
      "execution_count": 29,
      "outputs": []
    },
    {
      "cell_type": "code",
      "metadata": {
        "id": "4i58AtCKnkNh"
      },
      "source": [
        "LogReg = LogisticRegression()\n",
        "sc = StandardScaler()\n",
        "X_train = sc.fit_transform(X_train)\n",
        "X_test = sc.transform(X_test)\n",
        "LogReg.fit(X_train, y_train)\n",
        "y_predL = LogReg.predict(X_test)"
      ],
      "execution_count": 30,
      "outputs": []
    },
    {
      "cell_type": "code",
      "metadata": {
        "colab": {
          "base_uri": "https://localhost:8080/"
        },
        "id": "m02MrLj6oZuv",
        "outputId": "881fa60f-440e-488a-cf85-1ff85471ddbe"
      },
      "source": [
        "# Print the Accuracy of our Model.\n",
        "print('Correct Prediction Logistic Regression (%): ', f1_score(y_test, LogReg.predict(X_test), average='macro') * 100.0)"
      ],
      "execution_count": 31,
      "outputs": [
        {
          "output_type": "stream",
          "name": "stdout",
          "text": [
            "Correct Prediction Logistic Regression (%):  95.53429027113238\n"
          ]
        }
      ]
    },
    {
      "cell_type": "code",
      "metadata": {
        "colab": {
          "base_uri": "https://localhost:8080/",
          "height": 361
        },
        "id": "EvkMzfr0oldc",
        "outputId": "fb8c915a-2552-4445-9c12-271ddca56408"
      },
      "source": [
        "cm.confus_matrix(y_test,y_predL,LogReg,X_test,y_test,plot=True )"
      ],
      "execution_count": 32,
      "outputs": [
        {
          "output_type": "stream",
          "name": "stdout",
          "text": [
            "Accuracy: 95.53571428571429\n",
            "Percision: 96.46017699115043\n",
            "Recall: 94.78260869565217\n",
            "Specificity: 96.3302752293578\n"
          ]
        },
        {
          "output_type": "display_data",
          "data": {
            "image/png": "[encoded data removed]",
            "text/plain": [
              "<Figure size 432x288 with 2 Axes>"
            ]
          },
          "metadata": {
            "needs_background": "light"
          }
        }
      ]
    },
    {
      "cell_type": "markdown",
      "metadata": {
        "id": "zuGYXmlC1t6Q"
      },
      "source": [
        "# Support Vector Classifier"
      ]
    },
    {
      "cell_type": "code",
      "metadata": {
        "id": "0f8YLxD51tdV"
      },
      "source": [
        "from sklearn.svm import SVC\n",
        "sc = StandardScaler()\n",
        "X_train = sc.fit_transform(X_train)\n",
        "X_test = sc.transform(X_test)\n",
        "svc_classifier = SVC(kernel = 'linear', random_state = 0)\n",
        "svc_classifier.fit(X_train, y_train)\n",
        "y_predS = svc_classifier.predict(X_test)"
      ],
      "execution_count": 33,
      "outputs": []
    },
    {
      "cell_type": "code",
      "metadata": {
        "colab": {
          "base_uri": "https://localhost:8080/"
        },
        "id": "CWb-Wpw54cNp",
        "outputId": "50fa7228-37bc-443d-995c-fbf89c3a6a98"
      },
      "source": [
        "# Print the Accuracy of our Model.\n",
        "print('Correct Prediction Logistic Regression (%): ', f1_score(y_test, svc_classifier.predict(X_test), average='macro') * 100.0)"
      ],
      "execution_count": 34,
      "outputs": [
        {
          "output_type": "stream",
          "name": "stdout",
          "text": [
            "Correct Prediction Logistic Regression (%):  95.98013997726864\n"
          ]
        }
      ]
    },
    {
      "cell_type": "code",
      "metadata": {
        "colab": {
          "base_uri": "https://localhost:8080/",
          "height": 361
        },
        "id": "GAp-vvMK4iye",
        "outputId": "902ccaf0-2263-4d25-9092-1390fc479155"
      },
      "source": [
        "cm.confus_matrix(y_test,y_predS,svc_classifier,X_test,y_test,plot=True )"
      ],
      "execution_count": 35,
      "outputs": [
        {
          "output_type": "stream",
          "name": "stdout",
          "text": [
            "Accuracy: 95.98214285714286\n",
            "Percision: 96.49122807017544\n",
            "Recall: 95.65217391304348\n",
            "Specificity: 96.3302752293578\n"
          ]
        },
        {
          "output_type": "display_data",
          "data": {
            "image/png": "[encoded data removed]",
            "text/plain": [
              "<Figure size 432x288 with 2 Axes>"
            ]
          },
          "metadata": {
            "needs_background": "light"
          }
        }
      ]
    },
    {
      "cell_type": "markdown",
      "metadata": {
        "id": "Jdt3m634YMgs"
      },
      "source": [
        "# XGBoost Classifier"
      ]
    },
    {
      "cell_type": "code",
      "metadata": {
        "id": "-SHPvKGAaniB"
      },
      "source": [
        "import xgboost as xgb"
      ],
      "execution_count": 36,
      "outputs": []
    },
    {
      "cell_type": "code",
      "metadata": {
        "id": "gWBdYcNgYMAu",
        "colab": {
          "base_uri": "https://localhost:8080/"
        },
        "outputId": "e13580d9-acec-4a90-e906-5957a3986a1c"
      },
      "source": [
        "\n",
        "param_test1 = {\n",
        " 'max_depth':range(3,6,2),'learning_rate':[0.001,0.01,0.1],\n",
        " 'min_child_weight':range(1,4,2),'reg_alpha':[0, 0.001, 0.005, 0.01],'subsample':[i/100.0 for i in range(75,90,5)],\n",
        " 'colsample_bytree':[i/100.0 for i in range(75,85,5)],'gamma':[i/10.0 for i in range(0,2)],\n",
        " 'n_estimators': [100,200,300]\n",
        "}\n",
        "gsearch1 = GridSearchCV(estimator = xgb.XGBClassifier( learning_rate =0.1, n_estimators=140, max_depth=5,\n",
        " min_child_weight=1, gamma=0, subsample=0.8, colsample_bytree=0.8,reg_alpha=1e-5,\n",
        " objective= 'binary:logistic', nthread=4, scale_pos_weight=1, seed=27), \n",
        " param_grid = param_test1, scoring='roc_auc',n_jobs=4,verbose=2,cv=5)\n",
        " \n",
        "gsearch1.fit(X_train,y_train)\n",
        "gsearch1.best_params_, gsearch1.best_score_\n"
      ],
      "execution_count": 40,
      "outputs": [
        {
          "output_type": "stream",
          "name": "stdout",
          "text": [
            "Fitting 5 folds for each of 1728 candidates, totalling 8640 fits\n"
          ]
        },
        {
          "output_type": "stream",
          "name": "stderr",
          "text": [
            "[Parallel(n_jobs=4)]: Using backend LokyBackend with 4 concurrent workers.\n",
            "[Parallel(n_jobs=4)]: Done  33 tasks      | elapsed:    5.3s\n",
            "[Parallel(n_jobs=4)]: Done 154 tasks      | elapsed:   28.1s\n",
            "[Parallel(n_jobs=4)]: Done 357 tasks      | elapsed:  1.1min\n",
            "[Parallel(n_jobs=4)]: Done 640 tasks      | elapsed:  2.1min\n",
            "[Parallel(n_jobs=4)]: Done 1005 tasks      | elapsed:  3.2min\n",
            "[Parallel(n_jobs=4)]: Done 1450 tasks      | elapsed:  4.8min\n",
            "[Parallel(n_jobs=4)]: Done 1977 tasks      | elapsed:  6.1min\n",
            "[Parallel(n_jobs=4)]: Done 2584 tasks      | elapsed:  7.7min\n",
            "[Parallel(n_jobs=4)]: Done 3273 tasks      | elapsed: 10.0min\n",
            "[Parallel(n_jobs=4)]: Done 4042 tasks      | elapsed: 12.2min\n",
            "[Parallel(n_jobs=4)]: Done 4893 tasks      | elapsed: 14.8min\n",
            "[Parallel(n_jobs=4)]: Done 5824 tasks      | elapsed: 17.8min\n",
            "[Parallel(n_jobs=4)]: Done 6837 tasks      | elapsed: 20.5min\n",
            "[Parallel(n_jobs=4)]: Done 7930 tasks      | elapsed: 24.2min\n",
            "[Parallel(n_jobs=4)]: Done 8640 out of 8640 | elapsed: 25.9min finished\n"
          ]
        },
        {
          "output_type": "execute_result",
          "data": {
            "text/plain": [
              "({'colsample_bytree': 0.75,\n",
              "  'gamma': 0.0,\n",
              "  'learning_rate': 0.1,\n",
              "  'max_depth': 3,\n",
              "  'min_child_weight': 1,\n",
              "  'n_estimators': 100,\n",
              "  'reg_alpha': 0.01,\n",
              "  'subsample': 0.75},\n",
              " 0.9968901441330651)"
            ]
          },
          "metadata": {},
          "execution_count": 40
        }
      ]
    },
    {
      "cell_type": "code",
      "metadata": {
        "id": "G1D9jL6HYVOA"
      },
      "source": [
        "xgb_classifier = xgb.XGBClassifier(\n",
        " learning_rate =0.1,\n",
        " n_estimators=100,\n",
        " max_depth=5,\n",
        " min_child_weight=1,\n",
        " gamma=0,\n",
        " subsample=0.8,\n",
        " colsample_bytree=0.8,\n",
        " objective= 'binary:logistic',\n",
        " nthread=4,\n",
        " scale_pos_weight=1,\n",
        " seed=27)\n",
        "xgb_classifier.fit(X_train, y_train)\n",
        "y_predX = xgb_classifier.predict(X_test)\n",
        "print(\"Accuracy for XGBoost Model: %.2f\" % (f1_score(y_test, y_predX) * 100))"
      ],
      "execution_count": null,
      "outputs": []
    },
    {
      "cell_type": "code",
      "metadata": {
        "id": "0LCS_7KoYVKN"
      },
      "source": [
        "cm.confus_matrix(y_test,y_predX,xgb_classifier,X_test,y_test,plot=True )"
      ],
      "execution_count": null,
      "outputs": []
    },
    {
      "cell_type": "code",
      "metadata": {
        "id": "np0Tuc77YVGP"
      },
      "source": [
        "feature_imp_XGB = pd.Series(xgb_classifier.feature_importances_, index=feats).sort_values(ascending=False)\n",
        "feature_imp_XGB*100"
      ],
      "execution_count": null,
      "outputs": []
    },
    {
      "cell_type": "code",
      "metadata": {
        "id": "5U5QBT-uYU8C"
      },
      "source": [
        "features = {'Random Forest' : feature_imp,'XGBoost': feature_imp_XGB}\n",
        "feats=pd.DataFrame(features)"
      ],
      "execution_count": null,
      "outputs": []
    },
    {
      "cell_type": "code",
      "metadata": {
        "id": "jOlY_jexmFUu"
      },
      "source": [
        "feats.sort_values(by=['XGBoost'],ascending=False)"
      ],
      "execution_count": null,
      "outputs": []
    },
    {
      "cell_type": "markdown",
      "metadata": {
        "id": "BoxnJKnwbt7B"
      },
      "source": [
        "# Make Actual Prediction"
      ]
    },
    {
      "cell_type": "code",
      "metadata": {
        "id": "ReJPSujUojrN"
      },
      "source": [
        "df = pd.DataFrame()"
      ],
      "execution_count": null,
      "outputs": []
    },
    {
      "cell_type": "code",
      "metadata": {
        "id": "76FGeOYNbwnP"
      },
      "source": [
        "df = yf.download(tickr,'2021-02-01')"
      ],
      "execution_count": null,
      "outputs": []
    },
    {
      "cell_type": "code",
      "metadata": {
        "id": "w71VAMYZ697D"
      },
      "source": [
        "df.tail(3)"
      ],
      "execution_count": null,
      "outputs": []
    },
    {
      "cell_type": "markdown",
      "metadata": {
        "id": "_sFWYd2PUVPf"
      },
      "source": [
        "# Check This For Weekly or Daily"
      ]
    },
    {
      "cell_type": "code",
      "metadata": {
        "id": "UXpnbrzqULqw"
      },
      "source": [
        "####################### Comment or Uncomment Based on Weekly or Daily ##################\n",
        "#df=df.resample('W').last()"
      ],
      "execution_count": null,
      "outputs": []
    },
    {
      "cell_type": "code",
      "metadata": {
        "id": "3MWQLzt1c1LA"
      },
      "source": [
        "df = get_indicators(df,days_out,t)\n",
        "#df= impulse(df)"
      ],
      "execution_count": null,
      "outputs": []
    },
    {
      "cell_type": "code",
      "metadata": {
        "id": "nJFlxkSlyiQ_"
      },
      "source": [
        "df.tail(2)"
      ],
      "execution_count": null,
      "outputs": []
    },
    {
      "cell_type": "code",
      "metadata": {
        "id": "iR-V0O2kylk_"
      },
      "source": [
        "df_old.head(2)"
      ],
      "execution_count": null,
      "outputs": []
    },
    {
      "cell_type": "code",
      "metadata": {
        "id": "Jfx1v8ngd_FD"
      },
      "source": [
        "# create a new column that will house the flag, and for each group calculate the diff compared to 30 days ago. Then use Numpy to define the sign.\n",
        "df['Signal_Flag'] = df['Close'].transform(lambda x : np.sign(x.diff(days_out)))"
      ],
      "execution_count": null,
      "outputs": []
    },
    {
      "cell_type": "code",
      "metadata": {
        "id": "4aEsKfDIhjsz"
      },
      "source": [
        "ta.correlation_map(df,25)"
      ],
      "execution_count": null,
      "outputs": []
    },
    {
      "cell_type": "code",
      "metadata": {
        "id": "-UwWva6lXY6S"
      },
      "source": [
        "df.shape"
      ],
      "execution_count": null,
      "outputs": []
    },
    {
      "cell_type": "code",
      "metadata": {
        "id": "A9paVLZJeiSD"
      },
      "source": [
        "df=df.dropna()"
      ],
      "execution_count": null,
      "outputs": []
    },
    {
      "cell_type": "code",
      "metadata": {
        "id": "WKAVb3znXM7v"
      },
      "source": [
        "df.shape"
      ],
      "execution_count": null,
      "outputs": []
    },
    {
      "cell_type": "code",
      "metadata": {
        "id": "3jX9CX2_d_LS"
      },
      "source": [
        "new_data = df.drop(['Open','High','Low','Close','Adj Close','Signal_Flag'],axis=1)\n",
        "actuals= df['Signal_Flag']\n"
      ],
      "execution_count": null,
      "outputs": []
    },
    {
      "cell_type": "markdown",
      "metadata": {
        "id": "8Uzw3G5zpoMM"
      },
      "source": [
        "# Make Predictions Using Random Forest"
      ]
    },
    {
      "cell_type": "code",
      "metadata": {
        "id": "wa1f-QvouP5d"
      },
      "source": [
        "model='random_forest'"
      ],
      "execution_count": null,
      "outputs": []
    },
    {
      "cell_type": "code",
      "metadata": {
        "id": "8LCnyg-LcPRP"
      },
      "source": [
        "preds=rf.make_preds(new_data ,rand_frst_clf,model,df)"
      ],
      "execution_count": null,
      "outputs": []
    },
    {
      "cell_type": "code",
      "metadata": {
        "id": "guxxcWukXLib"
      },
      "source": [
        "print(\"days_out : \",days_out)"
      ],
      "execution_count": null,
      "outputs": []
    },
    {
      "cell_type": "code",
      "metadata": {
        "id": "-UkBLu21DR8t"
      },
      "source": [
        "preds.head(2)"
      ],
      "execution_count": null,
      "outputs": []
    },
    {
      "cell_type": "code",
      "metadata": {
        "id": "TFthvv0ZX7mc"
      },
      "source": [
        "linplt.lineplot(2,15,6,df,preds['predsrandom_forest'], no_of_datapoints=100) # no_of_datapoints=100"
      ],
      "execution_count": null,
      "outputs": []
    },
    {
      "cell_type": "code",
      "metadata": {
        "id": "b2htzEbTeENT"
      },
      "source": [
        "pred = pd.DataFrame(rf.make_preds(new_data , rand_frst_clf, model,df))"
      ],
      "execution_count": null,
      "outputs": []
    },
    {
      "cell_type": "code",
      "metadata": {
        "id": "osCd_8uTeGZJ"
      },
      "source": [
        "pred.head(2)"
      ],
      "execution_count": null,
      "outputs": []
    },
    {
      "cell_type": "code",
      "metadata": {
        "id": "U_X5SjUWcFmU"
      },
      "source": [
        "pred = pd.concat([pred ,df.Close],axis=1)\n",
        "#pred.columns=['Date','preds','Close']\n",
        "#pred= pred.set_index('Date')"
      ],
      "execution_count": null,
      "outputs": []
    },
    {
      "cell_type": "code",
      "metadata": {
        "id": "KC6Mxoe9cW2h"
      },
      "source": [
        "l= len(pred)"
      ],
      "execution_count": null,
      "outputs": []
    },
    {
      "cell_type": "code",
      "metadata": {
        "id": "ukpjklABcbCi"
      },
      "source": [
        "#fig, ax = plt.subplots(1,1,figsize=(20,7))\n",
        "#Identifying the buy/sell zone\n",
        "pred['Buy_ind'] = np.where((pred['predsrandom_forest']==1), 1, 0)\n",
        "pred['Sell_ind'] = np.where((pred['predsrandom_forest']==-1), 0, 1)"
      ],
      "execution_count": null,
      "outputs": []
    },
    {
      "cell_type": "code",
      "metadata": {
        "id": "WXpmKy9ofraW"
      },
      "source": [
        "pred=pred.reset_index()"
      ],
      "execution_count": null,
      "outputs": []
    },
    {
      "cell_type": "markdown",
      "metadata": {
        "id": "IkbFXKs0b7J5"
      },
      "source": [
        "# Make Prediction Using XGBoost"
      ]
    },
    {
      "cell_type": "code",
      "metadata": {
        "id": "SWESOvq7b6gO"
      },
      "source": [
        "model='_XGB'"
      ],
      "execution_count": null,
      "outputs": []
    },
    {
      "cell_type": "code",
      "metadata": {
        "id": "0zrIQkuycGRm"
      },
      "source": [
        "predX=rf.make_preds(new_data.values ,xgb_classifier,model,df)"
      ],
      "execution_count": null,
      "outputs": []
    },
    {
      "cell_type": "code",
      "metadata": {
        "id": "WnTAaRF9eWrL"
      },
      "source": [
        "predX= pd.concat([predX ,df.Close],axis=1)"
      ],
      "execution_count": null,
      "outputs": []
    },
    {
      "cell_type": "code",
      "metadata": {
        "id": "7qEu2cHBcgqv"
      },
      "source": [
        "predX.head(2)"
      ],
      "execution_count": null,
      "outputs": []
    },
    {
      "cell_type": "code",
      "metadata": {
        "id": "GTTnvw16gvSL"
      },
      "source": [
        "#Identifying the buy/sell zone\n",
        "predX['Buy_ind_XGB'] = np.where((predX['preds_XGB']==1), 1, 0)\n",
        "predX['Sell_ind_XGB'] = np.where((predX['preds_XGB']==-1), 0, 1)"
      ],
      "execution_count": null,
      "outputs": []
    },
    {
      "cell_type": "code",
      "metadata": {
        "id": "JMHJRXv_cf7I"
      },
      "source": [
        "linplt.lineplot(2,15,6,df,predX['preds_XGB'], no_of_datapoints=100) # no_of_datapoints=100"
      ],
      "execution_count": null,
      "outputs": []
    },
    {
      "cell_type": "code",
      "metadata": {
        "id": "GHkqCNwNgaMV"
      },
      "source": [
        "predX=predX.reset_index()"
      ],
      "execution_count": null,
      "outputs": []
    },
    {
      "cell_type": "code",
      "metadata": {
        "id": "Nsag77GJguf2"
      },
      "source": [
        ""
      ],
      "execution_count": null,
      "outputs": []
    },
    {
      "cell_type": "markdown",
      "metadata": {
        "id": "C9sV7hhLp02W"
      },
      "source": [
        "# Make Prediction Using Logistics Regression"
      ]
    },
    {
      "cell_type": "code",
      "metadata": {
        "id": "YQs-q72RvBHG"
      },
      "source": [
        "model='_Logistic_Regression'"
      ],
      "execution_count": null,
      "outputs": []
    },
    {
      "cell_type": "code",
      "metadata": {
        "id": "4On1jbFNp0To"
      },
      "source": [
        "preds_logreg=pd.DataFrame(rf.make_preds(new_data , LogReg,model, df))"
      ],
      "execution_count": null,
      "outputs": []
    },
    {
      "cell_type": "code",
      "metadata": {
        "id": "Tg3NaZBcsGji"
      },
      "source": [
        "preds_logreg.head(2)"
      ],
      "execution_count": null,
      "outputs": []
    },
    {
      "cell_type": "code",
      "metadata": {
        "id": "LzXWC145vnMt"
      },
      "source": [
        "predL = pd.concat([preds_logreg ,df.Close],axis=1)"
      ],
      "execution_count": null,
      "outputs": []
    },
    {
      "cell_type": "code",
      "metadata": {
        "id": "h1SCiMGDw2_e"
      },
      "source": [
        "predL=predL.reset_index()"
      ],
      "execution_count": null,
      "outputs": []
    },
    {
      "cell_type": "code",
      "metadata": {
        "id": "LUPfFV2av3h-"
      },
      "source": [
        "#Identifying the buy/sell zone\n",
        "predL['Buy_ind_Logreg'] = np.where((predL['preds_Logistic_Regression']==1), 1, 0)\n",
        "predL['Sell_ind_Logreg'] = np.where((predL['preds_Logistic_Regression']==-1), 0, 1)"
      ],
      "execution_count": null,
      "outputs": []
    },
    {
      "cell_type": "code",
      "metadata": {
        "id": "BCYplXm6rrJ2"
      },
      "source": [
        "linplt.lineplot(2,15,6,df,preds_logreg['preds_Logistic_Regression'], no_of_datapoints=100) # no_of_datapoints=100"
      ],
      "execution_count": null,
      "outputs": []
    },
    {
      "cell_type": "markdown",
      "metadata": {
        "id": "ALC2LrOhN3DA"
      },
      "source": [
        "# Make Predictions using Support Vector Classifier"
      ]
    },
    {
      "cell_type": "code",
      "metadata": {
        "id": "rvtXRuarN2p_"
      },
      "source": [
        "model='_SVC'"
      ],
      "execution_count": null,
      "outputs": []
    },
    {
      "cell_type": "code",
      "metadata": {
        "id": "F41RhEr4ODL6"
      },
      "source": [
        "preds_svc=pd.DataFrame(rf.make_preds(new_data ,svc_classifier,model, df))"
      ],
      "execution_count": null,
      "outputs": []
    },
    {
      "cell_type": "code",
      "metadata": {
        "id": "3nr_E4hpODpm"
      },
      "source": [
        "predS = pd.concat([preds_svc,df.Close],axis=1)"
      ],
      "execution_count": null,
      "outputs": []
    },
    {
      "cell_type": "code",
      "metadata": {
        "id": "B-JOMO0vOq5v"
      },
      "source": [
        "predS=predS.reset_index()"
      ],
      "execution_count": null,
      "outputs": []
    },
    {
      "cell_type": "code",
      "metadata": {
        "id": "eg8ZTgL3OyaO"
      },
      "source": [
        "#Identifying the buy/sell zone\n",
        "predS['Buy_ind_SVC'] = np.where((predS['preds_SVC']==1), 1, 0)\n",
        "predS['Sell_ind_SVC'] = np.where((predS['preds_SVC']==-1), 0, 1)"
      ],
      "execution_count": null,
      "outputs": []
    },
    {
      "cell_type": "markdown",
      "metadata": {
        "id": "mL46GAa7XcOd"
      },
      "source": [
        ""
      ]
    },
    {
      "cell_type": "markdown",
      "metadata": {
        "id": "Efh_OxeHhml-"
      },
      "source": [
        "# PREDICTIONS"
      ]
    },
    {
      "cell_type": "code",
      "metadata": {
        "id": "ZH82_DsxcfY_"
      },
      "source": [
        "plt.figure(figsize=(20,7))\n",
        "## plotting the buy and sell signals on graph\n",
        "plt.plot(df.index.values[-l:],df['Close'].values[-l:],'-',linewidth=1)\n",
        "plt.scatter(pred.loc[pred['Buy_ind'] ==1 , 'Date'].values,pred.loc[pred['Buy_ind'] ==1, 'Close'].values, label='skitscat', color='green', s=50, marker=\"^\")\n",
        "plt.scatter(pred.loc[pred['Sell_ind'] ==0 , 'Date'].values,pred.loc[pred['Sell_ind'] ==0, 'Close'].values, label='skitscat', color='red', s=50, marker=\"v\")\n",
        "\n",
        "## Adding labels\n",
        "plt.xlabel('Date')  \n",
        "plt.ylabel('Close Price')  \n",
        "plt.title('TA Nifty price with buy and sell signal (Random Forest)') \n",
        "\n",
        "plt.savefig('a.png')\n",
        "plt.show();"
      ],
      "execution_count": null,
      "outputs": []
    },
    {
      "cell_type": "code",
      "metadata": {
        "id": "k25KiIZ-hc9Y"
      },
      "source": [
        "plt.figure(figsize=(20,7))\n",
        "## plotting the buy and sell signals on graph\n",
        "plt.plot(df.index.values[-l:],df['Close'].values[-l:],'-',linewidth=1)\n",
        "plt.scatter(predX.loc[predX['Buy_ind_XGB'] ==1 , 'Date'].values,predX.loc[predX['Buy_ind_XGB'] ==1, 'Close'].values, label='skitscat', color='green', s=50, marker=\"^\")\n",
        "plt.scatter(predX.loc[predX['Sell_ind_XGB'] ==0 , 'Date'].values,predX.loc[predX['Sell_ind_XGB'] ==0, 'Close'].values, label='skitscat', color='red', s=50, marker=\"v\")\n",
        "\n",
        "## Adding labels\n",
        "plt.xlabel('Date')  \n",
        "plt.ylabel('Close Price')  \n",
        "plt.title('TA Nifty price with buy and sell signal (XGBoost)') \n",
        "\n",
        "plt.savefig('a.png')\n",
        "plt.show();"
      ],
      "execution_count": null,
      "outputs": []
    },
    {
      "cell_type": "code",
      "metadata": {
        "id": "Or1Zz7L8wRDE"
      },
      "source": [
        "plt.figure(figsize=(20,7))\n",
        "## plotting the buy and sell signals on graph\n",
        "plt.plot(df.index.values[-l:],df['Close'].values[-l:],'-',linewidth=1)\n",
        "plt.scatter(predL.loc[predL['Buy_ind_Logreg'] ==1 , 'Date'].values,predL.loc[predL['Buy_ind_Logreg'] ==1, 'Close'].values, label='skitscat', color='green', s=50, marker=\"^\")\n",
        "plt.scatter(predL.loc[predL['Sell_ind_Logreg'] ==0 , 'Date'].values,predL.loc[predL['Sell_ind_Logreg'] ==0, 'Close'].values, label='skitscat', color='red', s=50, marker=\"v\")\n",
        "\n",
        "## Adding labels\n",
        "plt.xlabel('Date')  \n",
        "plt.ylabel('Close Price')  \n",
        "plt.title('TA Nifty price with buy and sell signal (Logistic Regression)') \n",
        "\n",
        "plt.savefig('a.png')\n",
        "plt.show();"
      ],
      "execution_count": null,
      "outputs": []
    },
    {
      "cell_type": "code",
      "metadata": {
        "id": "MxPhKvSeP2QW"
      },
      "source": [
        "plt.figure(figsize=(20,7))\n",
        "## plotting the buy and sell signals on graph\n",
        "plt.plot(df.index.values[-l:],df['Close'].values[-l:],'-',linewidth=1)\n",
        "plt.scatter(predS.loc[predS['Buy_ind_SVC'] ==1 , 'Date'].values,predS.loc[predS['Buy_ind_SVC'] ==1, 'Close'].values, label='skitscat', color='green', s=50, marker=\"^\")\n",
        "plt.scatter(predS.loc[predS['Sell_ind_SVC'] ==0 , 'Date'].values,predS.loc[predS['Sell_ind_SVC'] ==0, 'Close'].values, label='skitscat', color='red', s=50, marker=\"v\")\n",
        "\n",
        "## Adding labels\n",
        "plt.xlabel('Date')  \n",
        "plt.ylabel('Close Price')  \n",
        "plt.title('TA Nifty price with buy and sell signal (Support Vector Classifier)') \n",
        "\n",
        "plt.savefig('a.png')\n",
        "plt.show();"
      ],
      "execution_count": null,
      "outputs": []
    },
    {
      "cell_type": "code",
      "metadata": {
        "id": "-H4OjdaiyZJe"
      },
      "source": [
        "pred['ensemble'] = pred['predsrandom_forest']*1+predL['preds_Logistic_Regression']*1+predS['preds_SVC']*1+predX['preds_XGB']*1"
      ],
      "execution_count": null,
      "outputs": []
    },
    {
      "cell_type": "code",
      "metadata": {
        "id": "UmO2H-9KyZGr"
      },
      "source": [
        "linplt.lineplot(2,15,6,df,pred['ensemble'], no_of_datapoints=450) # no_of_datapoints=100"
      ],
      "execution_count": null,
      "outputs": []
    },
    {
      "cell_type": "code",
      "metadata": {
        "id": "UvVG-upQeqjm"
      },
      "source": [
        "#pred['Signal_from_close']=np.where((pred.Close>pred.Close.shift(1)),1,0)"
      ],
      "execution_count": null,
      "outputs": []
    },
    {
      "cell_type": "code",
      "metadata": {
        "id": "XTO_i4ra0Dqj"
      },
      "source": [
        "#Identifying the buy/sell zone\n",
        "pred['Buy_ensemble'] = np.where((pred['ensemble']>=0), 1, 0)\n",
        "pred['Sell_ensemble'] = np.where((pred['ensemble']<0), 0, 1)\n",
        "#pred['Neutral'] = np.where((pred['ensemble']==-0.5),0,1)\n",
        "pred['signal4theday']= np.where((pred['ensemble']>=0),1,0)"
      ],
      "execution_count": null,
      "outputs": []
    },
    {
      "cell_type": "code",
      "metadata": {
        "id": "26nQ1F1TfYnD"
      },
      "source": [
        "pred['signalF']=pred['signal4theday']"
      ],
      "execution_count": null,
      "outputs": []
    },
    {
      "cell_type": "code",
      "metadata": {
        "id": "COSYY2JJVxyx"
      },
      "source": [
        "pred.to_csv('rf_ta.csv')"
      ],
      "execution_count": null,
      "outputs": []
    },
    {
      "cell_type": "code",
      "metadata": {
        "id": "w38AdCOfo7Zh"
      },
      "source": [
        "def plot_me_buy_sell_signal(pred,small_period,large_period):\n",
        "  buy=[]\n",
        "  sell=[]\n",
        "  for i in range(len(pred)):\n",
        "    if pred.loc[:, 'Close'].ewm(span=small_period).mean().iloc[i]>pred.loc[:, 'Close'].ewm(span=large_period).mean().iloc[i] and \\\n",
        "    pred.loc[:, 'Close'].ewm(span=small_period).mean().iloc[i-1]<pred.loc[:, 'Close'].ewm(span=large_period).mean().iloc[i-1]:\n",
        "      buy.append(i)\n",
        "    elif pred.loc[:, 'Close'].ewm(span=small_period).mean().iloc[i]<pred.loc[:, 'Close'].ewm(span=large_period).mean().iloc[i] and \\\n",
        "    pred.loc[:, 'Close'].ewm(span=small_period).mean().iloc[i-1]>pred.loc[:, 'Close'].ewm(span=large_period).mean().iloc[i-1]:\n",
        "      sell.append(i)\n",
        "  \n",
        "  return buy,sell"
      ],
      "execution_count": null,
      "outputs": []
    },
    {
      "cell_type": "code",
      "metadata": {
        "id": "EHIY3-yEpx3X"
      },
      "source": [
        "buy,sell=plot_me_buy_sell_signal(pred,10,30)"
      ],
      "execution_count": null,
      "outputs": []
    },
    {
      "cell_type": "code",
      "metadata": {
        "id": "CSGcDOCn0NpF"
      },
      "source": [
        "plt.figure(figsize=(28,16))\n",
        "## plotting the buy and sell signals on graph\n",
        "plt.plot(df.index.values[-l:],df['Close'].values[-l:],'-',linewidth=2)\n",
        "plt.scatter(pred.loc[pred['Buy_ensemble'] ==1 , 'Date'].values,pred.loc[pred['Buy_ensemble'] ==1, 'Close'].values, label='Up', color='green', s=35, marker=\"^\")\n",
        "plt.scatter(pred.loc[pred['Sell_ensemble'] ==0 , 'Date'].values,pred.loc[pred['Sell_ensemble'] ==0, 'Close'].values, label='Down', color='red', s=35, marker=\"v\")\n",
        "#plt.scatter(pred.loc[pred['Neutral'] ==0 , 'Date'].values,pred.loc[pred['Neutral'] ==0, 'Close'].values, label='skitscat', color='blue', s=50, marker=\"*\")\n",
        "plt.scatter(df.iloc[buy][:].index,df.iloc[buy][:].Close,marker='*',s=305,color='y',label='Buy')\n",
        "plt.scatter(df.iloc[sell][:].index,df.iloc[sell][:].Close,marker='*',s=305,color='r',label='Sell')\n",
        "#plt.plot(df.index,df['EMA_50'].values[-l:],label='EMA 50')\n",
        "#plt.plot(df.index,df['EMA_10'].values[-l:], label='EMA 10')\n",
        "\n",
        "## Adding labels\n",
        "plt.xlabel('Date')  \n",
        "plt.ylabel('Close Price') \n",
        "plt.legend(loc='upper left') \n",
        "plt.title('TA Nifty price with buy and sell signal ENSEMBLE') \n",
        "plt.show();"
      ],
      "execution_count": null,
      "outputs": []
    },
    {
      "cell_type": "code",
      "metadata": {
        "id": "si6TCKd1myfT"
      },
      "source": [
        "cm.confus_matrix(df.Signal_Flag,preds,rand_frst_clf,new_data,actuals,plot=True )\n"
      ],
      "execution_count": null,
      "outputs": []
    },
    {
      "cell_type": "code",
      "metadata": {
        "id": "kRm8CQAFiOhB"
      },
      "source": [
        "cm.confus_matrix(y_test,y_pred,rand_frst_clf,X_test,y_test,plot=True, test=False)\n"
      ],
      "execution_count": null,
      "outputs": []
    },
    {
      "cell_type": "code",
      "metadata": {
        "id": "EVff8g9S7E6t"
      },
      "source": [
        "# saving the dataframe\n",
        "pred[['Date','signalF','Close']].to_csv('/content/rf_TA.csv')"
      ],
      "execution_count": null,
      "outputs": []
    },
    {
      "cell_type": "code",
      "metadata": {
        "id": "LBeZ4RAmyYkr"
      },
      "source": [
        "pred.head(1)"
      ],
      "execution_count": null,
      "outputs": []
    },
    {
      "cell_type": "code",
      "metadata": {
        "id": "E0Y0BEwNGDt_"
      },
      "source": [
        "pred.set_index('Date',inplace=True)"
      ],
      "execution_count": null,
      "outputs": []
    },
    {
      "cell_type": "code",
      "metadata": {
        "id": "ara5hxEnQCtL"
      },
      "source": [
        "pred.tail(2)"
      ],
      "execution_count": null,
      "outputs": []
    },
    {
      "cell_type": "code",
      "metadata": {
        "id": "ZfBt7fcoIWPg"
      },
      "source": [
        "pred['actual']=np.where(pred.Close>pred.Close.shift(1),1,0)\n",
        "pred['dummy']= np.where(pred.signal4theday==0,0,1)\n",
        "pred['dummyS']=pred['dummy'].shift(1)\n",
        "pred=pred.dropna()"
      ],
      "execution_count": null,
      "outputs": []
    },
    {
      "cell_type": "code",
      "metadata": {
        "id": "BRRIEVlNI2pX"
      },
      "source": [
        "pred.signalF.value_counts()"
      ],
      "execution_count": null,
      "outputs": []
    },
    {
      "cell_type": "code",
      "metadata": {
        "id": "xT3GyXXGMYS2"
      },
      "source": [
        "print(f\"Class 0 has {round(pred.dummyS.value_counts()[0]/(pred.dummyS.value_counts()[0]+pred.dummyS.value_counts()[1])*100)}% samples\")"
      ],
      "execution_count": null,
      "outputs": []
    },
    {
      "cell_type": "code",
      "metadata": {
        "id": "HOQQVccwAUPs"
      },
      "source": [
        "print(f\"Class 1 has {round(pred.dummyS.value_counts()[1]/(pred.dummyS.value_counts()[0]+pred.dummyS.value_counts()[1])*100)}% samples\")"
      ],
      "execution_count": null,
      "outputs": []
    },
    {
      "cell_type": "code",
      "metadata": {
        "id": "MlCfQT1-SBc6"
      },
      "source": [
        "from sklearn.metrics import confusion_matrix, plot_confusion_matrix\n",
        "\n",
        "rf_matrix = confusion_matrix(pred.actual, pred.dummyS)\n",
        "\n",
        "true_negatives = rf_matrix[0][0]\n",
        "false_negatives = rf_matrix[1][0]\n",
        "true_positives = rf_matrix[1][1]\n",
        "false_positives = rf_matrix[0][1]\n",
        "from sklearn.metrics import average_precision_score,f1_score\n",
        "average_precision = average_precision_score(pred.actual, pred.dummyS)\n",
        "f1=f1_score(pred.actual, pred.dummyS,average=None)\n",
        "accuracy = (true_negatives + true_positives) / (true_negatives + true_positives + false_negatives + false_positives)\n",
        "percision = true_positives / (true_positives + false_positives)\n",
        "recall = true_positives / (true_positives + false_negatives)\n",
        "specificity = true_negatives / (true_negatives + false_positives)\n",
        "f1score= 2*recall*percision/(percision+recall)\n",
        "print('Accuracy: {}'.format(float(accuracy)))\n",
        "print('Percision: {}'.format(float(percision)))\n",
        "print('Recall: {}'.format(float(recall)))\n",
        "print('Specificity: {}'.format(float(specificity)))\n",
        "print('F1-Score: {}'.format(float(f1score)))\n",
        "print('Average Precision : {}'.format(float(average_precision)))\n",
        "print(f'f1 score class wise for down : {round(f1[0]*100)}.00% ,up : {round(f1[1]*100)}.00%')\n",
        "accuracy_pos = (true_positives) / (true_negatives + true_positives + false_negatives + false_positives)\n",
        "accuracy_neg = (true_negatives) / (true_negatives + true_positives + false_negatives + false_positives)\n",
        "print('Accuracy positive: {}'.format(float(accuracy_pos)))\n",
        "print('Accuracy negative {}'.format(float(accuracy_neg)))"
      ],
      "execution_count": null,
      "outputs": []
    },
    {
      "cell_type": "code",
      "metadata": {
        "id": "mMyFfrgU03ME"
      },
      "source": [
        "y_true = pred.actual\n",
        "y_pred = pred.dummyS\n",
        "target_names = ['class 1', 'class 2']\n",
        "print(classification_report(y_true, y_pred, target_names=target_names))"
      ],
      "execution_count": null,
      "outputs": []
    },
    {
      "cell_type": "code",
      "metadata": {
        "id": "sIGKvS0zGAEs"
      },
      "source": [
        "# Calculate daily returns\n",
        "pred['Return'] = pred.Close.pct_change()\n",
        "\n",
        "# Calculate strategy returns\n",
        "pred['Strategy_Return'] = pred.Return * pred.dummy.shift(1)\n",
        "\n",
        "# Calculate geometric returns\n",
        "geometric_returns = (pred.Strategy_Return+1).cumprod()\n",
        "\n",
        "# Plot geometric returns\n",
        "geometric_returns.plot(figsize=(10, 7),color='g')\n",
        "plt.ylabel(\"Strategy Returns (%)\")\n",
        "plt.xlabel(\"Date\")\n",
        "plt.show()"
      ],
      "execution_count": null,
      "outputs": []
    },
    {
      "cell_type": "code",
      "metadata": {
        "id": "7xWx3-voG8h9"
      },
      "source": [
        "# Calculate daily returns\n",
        "pred['Return'] = pred.Close.pct_change()\n",
        "\n",
        "# Calculate strategy returns\n",
        "pred['Strategy_F'] = pred.Return * pred.signalF.shift(1)\n",
        "\n",
        "# Calculate geometric returns\n",
        "geometric_returns = (pred.Strategy_F+1).cumprod()\n",
        "\n",
        "# Plot geometric returns\n",
        "geometric_returns.plot(figsize=(10, 7),color='g')\n",
        "plt.ylabel(\"Strategy Returns (%)\")\n",
        "plt.xlabel(\"Date\")\n",
        "plt.show()"
      ],
      "execution_count": null,
      "outputs": []
    },
    {
      "cell_type": "code",
      "metadata": {
        "id": "pc0cUuMWG_xU"
      },
      "source": [
        ""
      ],
      "execution_count": null,
      "outputs": []
    }
  ]
}