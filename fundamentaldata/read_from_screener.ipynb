{
  "nbformat": 4,
  "nbformat_minor": 0,
  "metadata": {
    "colab": {
      "name": "read_from_screener.ipynb",
      "provenance": [],
      "authorship_tag": "ABX9TyMu+hyc3C1htb5BRMjKwhKk",
      "include_colab_link": true
    },
    "kernelspec": {
      "name": "python3",
      "display_name": "Python 3"
    },
    "language_info": {
      "name": "python"
    }
  },
  "cells": [
    {
      "cell_type": "markdown",
      "metadata": {
        "id": "view-in-github",
        "colab_type": "text"
      },
      "source": [
        "<a href=\"https://colab.research.google.com/github/anirbanghoshsbi/.github.io/blob/master/fundamentaldata/read_from_screener.ipynb\" target=\"_parent\"><img src=\"https://colab.research.google.com/assets/colab-badge.svg\" alt=\"Open In Colab\"/></a>"
      ]
    },
    {
      "cell_type": "code",
      "execution_count": 1,
      "metadata": {
        "id": "mThuRWvZ4Fkn"
      },
      "outputs": [],
      "source": [
        "import pandas as pd"
      ]
    },
    {
      "cell_type": "code",
      "source": [
        "dataframe=pd.read_html('https://www.screener.in/company/RELIANCE/consolidated/')"
      ],
      "metadata": {
        "id": "oboq1QTy4IJH"
      },
      "execution_count": 4,
      "outputs": []
    },
    {
      "cell_type": "code",
      "source": [
        "i=0\n",
        "for df in dataframe:\n",
        "  filename=f'_str({i})'\n",
        "  f = open(filename, 'a')\n",
        "  df.to_csv(f)\n",
        "  i=i+1\n",
        "  f.close()"
      ],
      "metadata": {
        "id": "mdBWxdhC4XvP"
      },
      "execution_count": 24,
      "outputs": []
    },
    {
      "cell_type": "code",
      "source": [
        "dataframe[9]"
      ],
      "metadata": {
        "colab": {
          "base_uri": "https://localhost:8080/",
          "height": 223
        },
        "id": "uSoShP1V46lu",
        "outputId": "f3a7ee38-81ef-4f3b-e57e-202dcf5aa97d"
      },
      "execution_count": 18,
      "outputs": [
        {
          "output_type": "execute_result",
          "data": {
            "text/html": [
              "<div>\n",
              "<style scoped>\n",
              "    .dataframe tbody tr th:only-of-type {\n",
              "        vertical-align: middle;\n",
              "    }\n",
              "\n",
              "    .dataframe tbody tr th {\n",
              "        vertical-align: top;\n",
              "    }\n",
              "\n",
              "    .dataframe thead th {\n",
              "        text-align: right;\n",
              "    }\n",
              "</style>\n",
              "<table border=\"1\" class=\"dataframe\">\n",
              "  <thead>\n",
              "    <tr style=\"text-align: right;\">\n",
              "      <th></th>\n",
              "      <th>Unnamed: 0</th>\n",
              "      <th>Dec 2018</th>\n",
              "      <th>Mar 2019</th>\n",
              "      <th>Jun 2019</th>\n",
              "      <th>Sep 2019</th>\n",
              "      <th>Dec 2019</th>\n",
              "      <th>Mar 2020</th>\n",
              "      <th>Jun 2020</th>\n",
              "      <th>Sep 2020</th>\n",
              "      <th>Dec 2020</th>\n",
              "      <th>Mar 2021</th>\n",
              "      <th>Jun 2021</th>\n",
              "      <th>Sep 2021</th>\n",
              "    </tr>\n",
              "  </thead>\n",
              "  <tbody>\n",
              "    <tr>\n",
              "      <th>0</th>\n",
              "      <td>Promoters +</td>\n",
              "      <td>47.19</td>\n",
              "      <td>47.27</td>\n",
              "      <td>47.29</td>\n",
              "      <td>50.05</td>\n",
              "      <td>50.03</td>\n",
              "      <td>50.07</td>\n",
              "      <td>50.37</td>\n",
              "      <td>50.49</td>\n",
              "      <td>50.54</td>\n",
              "      <td>50.58</td>\n",
              "      <td>50.59</td>\n",
              "      <td>50.61</td>\n",
              "    </tr>\n",
              "    <tr>\n",
              "      <th>1</th>\n",
              "      <td>FIIs +</td>\n",
              "      <td>24.02</td>\n",
              "      <td>24.39</td>\n",
              "      <td>24.40</td>\n",
              "      <td>23.76</td>\n",
              "      <td>24.54</td>\n",
              "      <td>24.08</td>\n",
              "      <td>24.75</td>\n",
              "      <td>25.23</td>\n",
              "      <td>25.18</td>\n",
              "      <td>25.66</td>\n",
              "      <td>25.11</td>\n",
              "      <td>25.41</td>\n",
              "    </tr>\n",
              "    <tr>\n",
              "      <th>2</th>\n",
              "      <td>DIIs +</td>\n",
              "      <td>12.30</td>\n",
              "      <td>11.86</td>\n",
              "      <td>11.72</td>\n",
              "      <td>14.36</td>\n",
              "      <td>13.75</td>\n",
              "      <td>13.78</td>\n",
              "      <td>13.58</td>\n",
              "      <td>13.15</td>\n",
              "      <td>12.90</td>\n",
              "      <td>12.62</td>\n",
              "      <td>13.09</td>\n",
              "      <td>13.20</td>\n",
              "    </tr>\n",
              "    <tr>\n",
              "      <th>3</th>\n",
              "      <td>Government +</td>\n",
              "      <td>0.17</td>\n",
              "      <td>0.18</td>\n",
              "      <td>0.18</td>\n",
              "      <td>0.19</td>\n",
              "      <td>0.19</td>\n",
              "      <td>0.20</td>\n",
              "      <td>0.21</td>\n",
              "      <td>0.20</td>\n",
              "      <td>0.20</td>\n",
              "      <td>0.20</td>\n",
              "      <td>0.18</td>\n",
              "      <td>0.18</td>\n",
              "    </tr>\n",
              "    <tr>\n",
              "      <th>4</th>\n",
              "      <td>Public +</td>\n",
              "      <td>16.31</td>\n",
              "      <td>16.29</td>\n",
              "      <td>16.42</td>\n",
              "      <td>11.65</td>\n",
              "      <td>11.49</td>\n",
              "      <td>11.87</td>\n",
              "      <td>11.10</td>\n",
              "      <td>10.93</td>\n",
              "      <td>11.19</td>\n",
              "      <td>10.94</td>\n",
              "      <td>11.03</td>\n",
              "      <td>10.60</td>\n",
              "    </tr>\n",
              "  </tbody>\n",
              "</table>\n",
              "</div>"
            ],
            "text/plain": [
              "     Unnamed: 0  Dec 2018  Mar 2019  ...  Mar 2021  Jun 2021  Sep 2021\n",
              "0   Promoters +     47.19     47.27  ...     50.58     50.59     50.61\n",
              "1        FIIs +     24.02     24.39  ...     25.66     25.11     25.41\n",
              "2        DIIs +     12.30     11.86  ...     12.62     13.09     13.20\n",
              "3  Government +      0.17      0.18  ...      0.20      0.18      0.18\n",
              "4      Public +     16.31     16.29  ...     10.94     11.03     10.60\n",
              "\n",
              "[5 rows x 13 columns]"
            ]
          },
          "metadata": {},
          "execution_count": 18
        }
      ]
    },
    {
      "cell_type": "code",
      "source": [
        ""
      ],
      "metadata": {
        "id": "uCBhDmEY5Rt9"
      },
      "execution_count": null,
      "outputs": []
    }
  ]
}