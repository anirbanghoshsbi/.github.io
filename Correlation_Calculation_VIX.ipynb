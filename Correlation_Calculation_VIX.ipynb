{
  "nbformat": 4,
  "nbformat_minor": 0,
  "metadata": {
    "colab": {
      "name": "Correlation_Calculation_VIX.ipynb",
      "provenance": [],
      "authorship_tag": "ABX9TyMz6hieNr05B1yqc6+ncf5N",
      "include_colab_link": true
    },
    "kernelspec": {
      "name": "python3",
      "display_name": "Python 3"
    },
    "language_info": {
      "name": "python"
    }
  },
  "cells": [
    {
      "cell_type": "markdown",
      "metadata": {
        "id": "view-in-github",
        "colab_type": "text"
      },
      "source": [
        "<a href=\"https://colab.research.google.com/github/anirbanghoshsbi/.github.io/blob/master/Correlation_Calculation_VIX.ipynb\" target=\"_parent\"><img src=\"https://colab.research.google.com/assets/colab-badge.svg\" alt=\"Open In Colab\"/></a>"
      ]
    },
    {
      "cell_type": "code",
      "metadata": {
        "id": "kKyr_k7Vk0IK"
      },
      "source": [
        "import warnings\n",
        "warnings.simplefilter(action='ignore', category=Warning)\n",
        "import pandas as pd\n"
      ],
      "execution_count": 36,
      "outputs": []
    },
    {
      "cell_type": "code",
      "metadata": {
        "id": "ojDPF1n9fyO1"
      },
      "source": [
        "import numpy as np\n",
        "import matplotlib.pyplot as plt\n",
        "import seaborn as sns\n",
        "from scipy.stats import pearsonr"
      ],
      "execution_count": 37,
      "outputs": []
    },
    {
      "cell_type": "code",
      "metadata": {
        "id": "Hs3_caB0f5oV"
      },
      "source": [
        "data = pd.read_csv('/content/NSE_INDIAVIX, 1D.csv')"
      ],
      "execution_count": 38,
      "outputs": []
    },
    {
      "cell_type": "code",
      "metadata": {
        "id": "hPMrYQ4of5l5"
      },
      "source": [
        "import datetime\n",
        "data['date']=data.time.apply(lambda d: datetime.datetime.fromtimestamp(int(d)).strftime('%d-%m-%Y'))"
      ],
      "execution_count": 39,
      "outputs": []
    },
    {
      "cell_type": "code",
      "metadata": {
        "colab": {
          "base_uri": "https://localhost:8080/",
          "height": 210
        },
        "id": "en_uvEKgf5jU",
        "outputId": "1b471ea9-4188-4744-f7ce-c34f068b8599"
      },
      "source": [
        "data.tail(2)"
      ],
      "execution_count": 40,
      "outputs": [
        {
          "output_type": "execute_result",
          "data": {
            "text/html": [
              "<div>\n",
              "<style scoped>\n",
              "    .dataframe tbody tr th:only-of-type {\n",
              "        vertical-align: middle;\n",
              "    }\n",
              "\n",
              "    .dataframe tbody tr th {\n",
              "        vertical-align: top;\n",
              "    }\n",
              "\n",
              "    .dataframe thead th {\n",
              "        text-align: right;\n",
              "    }\n",
              "</style>\n",
              "<table border=\"1\" class=\"dataframe\">\n",
              "  <thead>\n",
              "    <tr style=\"text-align: right;\">\n",
              "      <th></th>\n",
              "      <th>time</th>\n",
              "      <th>open</th>\n",
              "      <th>high</th>\n",
              "      <th>low</th>\n",
              "      <th>close</th>\n",
              "      <th>NIFTY, NSE: Open</th>\n",
              "      <th>NIFTY, NSE: High</th>\n",
              "      <th>NIFTY, NSE: Low</th>\n",
              "      <th>NIFTY, NSE: Close</th>\n",
              "      <th>Volume</th>\n",
              "      <th>Volume MA</th>\n",
              "      <th>date</th>\n",
              "    </tr>\n",
              "  </thead>\n",
              "  <tbody>\n",
              "    <tr>\n",
              "      <th>1778</th>\n",
              "      <td>1627616700</td>\n",
              "      <td>12.9450</td>\n",
              "      <td>13.32</td>\n",
              "      <td>12.1750</td>\n",
              "      <td>12.8025</td>\n",
              "      <td>15800.6</td>\n",
              "      <td>15862.8</td>\n",
              "      <td>15744.85</td>\n",
              "      <td>15763.05</td>\n",
              "      <td>NaN</td>\n",
              "      <td>NaN</td>\n",
              "      <td>30-07-2021</td>\n",
              "    </tr>\n",
              "    <tr>\n",
              "      <th>1779</th>\n",
              "      <td>1627875900</td>\n",
              "      <td>12.8025</td>\n",
              "      <td>13.09</td>\n",
              "      <td>11.5175</td>\n",
              "      <td>12.8050</td>\n",
              "      <td>15874.9</td>\n",
              "      <td>15892.9</td>\n",
              "      <td>15834.65</td>\n",
              "      <td>15885.15</td>\n",
              "      <td>NaN</td>\n",
              "      <td>NaN</td>\n",
              "      <td>02-08-2021</td>\n",
              "    </tr>\n",
              "  </tbody>\n",
              "</table>\n",
              "</div>"
            ],
            "text/plain": [
              "            time     open   high  ...  Volume  Volume MA        date\n",
              "1778  1627616700  12.9450  13.32  ...     NaN        NaN  30-07-2021\n",
              "1779  1627875900  12.8025  13.09  ...     NaN        NaN  02-08-2021\n",
              "\n",
              "[2 rows x 12 columns]"
            ]
          },
          "metadata": {
            "tags": []
          },
          "execution_count": 40
        }
      ]
    },
    {
      "cell_type": "code",
      "metadata": {
        "id": "dRO76y2ef5gz"
      },
      "source": [
        "del data['time']"
      ],
      "execution_count": 41,
      "outputs": []
    },
    {
      "cell_type": "code",
      "metadata": {
        "id": "xV9_Aesrf5eq"
      },
      "source": [
        "data= data.set_index('date')"
      ],
      "execution_count": 42,
      "outputs": []
    },
    {
      "cell_type": "code",
      "metadata": {
        "colab": {
          "base_uri": "https://localhost:8080/",
          "height": 333
        },
        "id": "ULmsVmqYf5cE",
        "outputId": "e2175561-194d-41f4-9e96-d5af3f33875f"
      },
      "source": [
        "data.tail(5)"
      ],
      "execution_count": 43,
      "outputs": [
        {
          "output_type": "execute_result",
          "data": {
            "text/html": [
              "<div>\n",
              "<style scoped>\n",
              "    .dataframe tbody tr th:only-of-type {\n",
              "        vertical-align: middle;\n",
              "    }\n",
              "\n",
              "    .dataframe tbody tr th {\n",
              "        vertical-align: top;\n",
              "    }\n",
              "\n",
              "    .dataframe thead th {\n",
              "        text-align: right;\n",
              "    }\n",
              "</style>\n",
              "<table border=\"1\" class=\"dataframe\">\n",
              "  <thead>\n",
              "    <tr style=\"text-align: right;\">\n",
              "      <th></th>\n",
              "      <th>open</th>\n",
              "      <th>high</th>\n",
              "      <th>low</th>\n",
              "      <th>close</th>\n",
              "      <th>NIFTY, NSE: Open</th>\n",
              "      <th>NIFTY, NSE: High</th>\n",
              "      <th>NIFTY, NSE: Low</th>\n",
              "      <th>NIFTY, NSE: Close</th>\n",
              "      <th>Volume</th>\n",
              "      <th>Volume MA</th>\n",
              "    </tr>\n",
              "    <tr>\n",
              "      <th>date</th>\n",
              "      <th></th>\n",
              "      <th></th>\n",
              "      <th></th>\n",
              "      <th></th>\n",
              "      <th></th>\n",
              "      <th></th>\n",
              "      <th></th>\n",
              "      <th></th>\n",
              "      <th></th>\n",
              "      <th></th>\n",
              "    </tr>\n",
              "  </thead>\n",
              "  <tbody>\n",
              "    <tr>\n",
              "      <th>27-07-2021</th>\n",
              "      <td>12.4500</td>\n",
              "      <td>13.5250</td>\n",
              "      <td>12.1025</td>\n",
              "      <td>13.2325</td>\n",
              "      <td>15860.50</td>\n",
              "      <td>15881.55</td>\n",
              "      <td>15701.00</td>\n",
              "      <td>15746.45</td>\n",
              "      <td>NaN</td>\n",
              "      <td>NaN</td>\n",
              "    </tr>\n",
              "    <tr>\n",
              "      <th>28-07-2021</th>\n",
              "      <td>13.2325</td>\n",
              "      <td>15.9800</td>\n",
              "      <td>11.3550</td>\n",
              "      <td>13.6925</td>\n",
              "      <td>15761.55</td>\n",
              "      <td>15767.50</td>\n",
              "      <td>15513.45</td>\n",
              "      <td>15709.40</td>\n",
              "      <td>NaN</td>\n",
              "      <td>NaN</td>\n",
              "    </tr>\n",
              "    <tr>\n",
              "      <th>29-07-2021</th>\n",
              "      <td>13.6925</td>\n",
              "      <td>13.6925</td>\n",
              "      <td>12.4350</td>\n",
              "      <td>12.9450</td>\n",
              "      <td>15762.70</td>\n",
              "      <td>15817.35</td>\n",
              "      <td>15737.80</td>\n",
              "      <td>15778.45</td>\n",
              "      <td>NaN</td>\n",
              "      <td>NaN</td>\n",
              "    </tr>\n",
              "    <tr>\n",
              "      <th>30-07-2021</th>\n",
              "      <td>12.9450</td>\n",
              "      <td>13.3200</td>\n",
              "      <td>12.1750</td>\n",
              "      <td>12.8025</td>\n",
              "      <td>15800.60</td>\n",
              "      <td>15862.80</td>\n",
              "      <td>15744.85</td>\n",
              "      <td>15763.05</td>\n",
              "      <td>NaN</td>\n",
              "      <td>NaN</td>\n",
              "    </tr>\n",
              "    <tr>\n",
              "      <th>02-08-2021</th>\n",
              "      <td>12.8025</td>\n",
              "      <td>13.0900</td>\n",
              "      <td>11.5175</td>\n",
              "      <td>12.8050</td>\n",
              "      <td>15874.90</td>\n",
              "      <td>15892.90</td>\n",
              "      <td>15834.65</td>\n",
              "      <td>15885.15</td>\n",
              "      <td>NaN</td>\n",
              "      <td>NaN</td>\n",
              "    </tr>\n",
              "  </tbody>\n",
              "</table>\n",
              "</div>"
            ],
            "text/plain": [
              "               open     high      low  ...  NIFTY, NSE: Close  Volume  Volume MA\n",
              "date                                   ...                                      \n",
              "27-07-2021  12.4500  13.5250  12.1025  ...           15746.45     NaN        NaN\n",
              "28-07-2021  13.2325  15.9800  11.3550  ...           15709.40     NaN        NaN\n",
              "29-07-2021  13.6925  13.6925  12.4350  ...           15778.45     NaN        NaN\n",
              "30-07-2021  12.9450  13.3200  12.1750  ...           15763.05     NaN        NaN\n",
              "02-08-2021  12.8025  13.0900  11.5175  ...           15885.15     NaN        NaN\n",
              "\n",
              "[5 rows x 10 columns]"
            ]
          },
          "metadata": {
            "tags": []
          },
          "execution_count": 43
        }
      ]
    },
    {
      "cell_type": "code",
      "metadata": {
        "id": "oXJBxpS3f5Zl"
      },
      "source": [
        "data_subset = data[['close','NIFTY, NSE: Close']]"
      ],
      "execution_count": 44,
      "outputs": []
    },
    {
      "cell_type": "code",
      "metadata": {
        "colab": {
          "base_uri": "https://localhost:8080/",
          "height": 140
        },
        "id": "7lfuH9Zyf5XZ",
        "outputId": "32712403-4183-4af3-af44-47d6352e9f70"
      },
      "source": [
        "data_subset.tail(2)"
      ],
      "execution_count": 45,
      "outputs": [
        {
          "output_type": "execute_result",
          "data": {
            "text/html": [
              "<div>\n",
              "<style scoped>\n",
              "    .dataframe tbody tr th:only-of-type {\n",
              "        vertical-align: middle;\n",
              "    }\n",
              "\n",
              "    .dataframe tbody tr th {\n",
              "        vertical-align: top;\n",
              "    }\n",
              "\n",
              "    .dataframe thead th {\n",
              "        text-align: right;\n",
              "    }\n",
              "</style>\n",
              "<table border=\"1\" class=\"dataframe\">\n",
              "  <thead>\n",
              "    <tr style=\"text-align: right;\">\n",
              "      <th></th>\n",
              "      <th>close</th>\n",
              "      <th>NIFTY, NSE: Close</th>\n",
              "    </tr>\n",
              "    <tr>\n",
              "      <th>date</th>\n",
              "      <th></th>\n",
              "      <th></th>\n",
              "    </tr>\n",
              "  </thead>\n",
              "  <tbody>\n",
              "    <tr>\n",
              "      <th>30-07-2021</th>\n",
              "      <td>12.8025</td>\n",
              "      <td>15763.05</td>\n",
              "    </tr>\n",
              "    <tr>\n",
              "      <th>02-08-2021</th>\n",
              "      <td>12.8050</td>\n",
              "      <td>15885.15</td>\n",
              "    </tr>\n",
              "  </tbody>\n",
              "</table>\n",
              "</div>"
            ],
            "text/plain": [
              "              close  NIFTY, NSE: Close\n",
              "date                                  \n",
              "30-07-2021  12.8025           15763.05\n",
              "02-08-2021  12.8050           15885.15"
            ]
          },
          "metadata": {
            "tags": []
          },
          "execution_count": 45
        }
      ]
    },
    {
      "cell_type": "code",
      "metadata": {
        "id": "78Y2O7cwf5Up"
      },
      "source": [
        "data_subset.columns=['close_crude','close_nifty']"
      ],
      "execution_count": 46,
      "outputs": []
    },
    {
      "cell_type": "code",
      "metadata": {
        "id": "-G3dt9cZf5SX"
      },
      "source": [
        "data_subset['close_percent_crude']=data_subset['close_crude'].pct_change(60)\n",
        "data_subset['close_percent_nifty']=data_subset['close_nifty'].pct_change(60)"
      ],
      "execution_count": 47,
      "outputs": []
    },
    {
      "cell_type": "code",
      "metadata": {
        "id": "50p1CBQoiiKQ"
      },
      "source": [
        "data_subset.dropna(inplace=True)"
      ],
      "execution_count": 48,
      "outputs": []
    },
    {
      "cell_type": "code",
      "metadata": {
        "colab": {
          "base_uri": "https://localhost:8080/",
          "height": 443
        },
        "id": "oBsRXsamf5Py",
        "outputId": "713aacdc-187c-4d01-d54b-c102463eba81"
      },
      "source": [
        "g=sns.jointplot(x='close_percent_crude',y='close_percent_nifty',data=data_subset,kind='reg').plot_joint(sns.kdeplot,n_levels=6)\n",
        "r, p = pearsonr(data_subset['close_percent_crude'], data_subset['close_percent_nifty'])\n",
        "phantom, = g.ax_joint.plot([], [], linestyle=\"\", alpha=0)\n",
        "g.ax_joint.legend([phantom],['r={:f}, p={:f}'.format(r,p)])\n",
        "plt.suptitle(f'Correlation for last 60 days is {round(r*100)}%')\n",
        "plt.show()"
      ],
      "execution_count": 49,
      "outputs": [
        {
          "output_type": "display_data",
          "data": {
            "image/png": "[encoded data removed]",
            "text/plain": [
              "<Figure size 432x432 with 3 Axes>"
            ]
          },
          "metadata": {
            "tags": [],
            "needs_background": "light"
          }
        }
      ]
    },
    {
      "cell_type": "code",
      "metadata": {
        "id": "1PcnYupyf5Ni"
      },
      "source": [
        ""
      ],
      "execution_count": 49,
      "outputs": []
    },
    {
      "cell_type": "code",
      "metadata": {
        "id": "LhbPu_2Bf5LG"
      },
      "source": [
        ""
      ],
      "execution_count": 49,
      "outputs": []
    },
    {
      "cell_type": "code",
      "metadata": {
        "id": "fBKfCufBf5Ic"
      },
      "source": [
        ""
      ],
      "execution_count": 49,
      "outputs": []
    },
    {
      "cell_type": "code",
      "metadata": {
        "id": "K-4XTJwzf5Fn"
      },
      "source": [
        ""
      ],
      "execution_count": 49,
      "outputs": []
    }
  ]
}