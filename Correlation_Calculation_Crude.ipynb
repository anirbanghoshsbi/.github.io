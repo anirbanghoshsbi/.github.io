{
  "nbformat": 4,
  "nbformat_minor": 0,
  "metadata": {
    "colab": {
      "name": "Correlation_Calculation_Crude.ipynb",
      "provenance": [],
      "authorship_tag": "ABX9TyPeduU/LsnHp8/nlOBG8H4d",
      "include_colab_link": true
    },
    "kernelspec": {
      "name": "python3",
      "display_name": "Python 3"
    },
    "language_info": {
      "name": "python"
    }
  },
  "cells": [
    {
      "cell_type": "markdown",
      "metadata": {
        "id": "view-in-github",
        "colab_type": "text"
      },
      "source": [
        "<a href=\"https://colab.research.google.com/github/anirbanghoshsbi/.github.io/blob/master/Correlation_Calculation_Crude.ipynb\" target=\"_parent\"><img src=\"https://colab.research.google.com/assets/colab-badge.svg\" alt=\"Open In Colab\"/></a>"
      ]
    },
    {
      "cell_type": "code",
      "metadata": {
        "id": "kKyr_k7Vk0IK"
      },
      "source": [
        "import warnings\n",
        "warnings.simplefilter(action='ignore', category=Warning)\n",
        "import pandas as pd\n"
      ],
      "execution_count": 8,
      "outputs": []
    },
    {
      "cell_type": "code",
      "metadata": {
        "id": "ojDPF1n9fyO1"
      },
      "source": [
        "import numpy as np\n",
        "import matplotlib.pyplot as plt\n",
        "import seaborn as sns\n",
        "from scipy.stats import pearsonr"
      ],
      "execution_count": 9,
      "outputs": []
    },
    {
      "cell_type": "code",
      "metadata": {
        "id": "Hs3_caB0f5oV"
      },
      "source": [
        "data = pd.read_csv('/content/MCX_CRUDEOIL1!, 1D.csv')"
      ],
      "execution_count": 10,
      "outputs": []
    },
    {
      "cell_type": "code",
      "metadata": {
        "id": "hPMrYQ4of5l5"
      },
      "source": [
        "import datetime\n",
        "data['date']=data.time.apply(lambda d: datetime.datetime.fromtimestamp(int(d)).strftime('%d-%m-%Y'))"
      ],
      "execution_count": 11,
      "outputs": []
    },
    {
      "cell_type": "code",
      "metadata": {
        "colab": {
          "base_uri": "https://localhost:8080/",
          "height": 210
        },
        "id": "en_uvEKgf5jU",
        "outputId": "ed9462ac-df69-449d-f2cc-177f90f25d26"
      },
      "source": [
        "data.tail(2)"
      ],
      "execution_count": 12,
      "outputs": [
        {
          "output_type": "execute_result",
          "data": {
            "text/html": [
              "<div>\n",
              "<style scoped>\n",
              "    .dataframe tbody tr th:only-of-type {\n",
              "        vertical-align: middle;\n",
              "    }\n",
              "\n",
              "    .dataframe tbody tr th {\n",
              "        vertical-align: top;\n",
              "    }\n",
              "\n",
              "    .dataframe thead th {\n",
              "        text-align: right;\n",
              "    }\n",
              "</style>\n",
              "<table border=\"1\" class=\"dataframe\">\n",
              "  <thead>\n",
              "    <tr style=\"text-align: right;\">\n",
              "      <th></th>\n",
              "      <th>time</th>\n",
              "      <th>open</th>\n",
              "      <th>high</th>\n",
              "      <th>low</th>\n",
              "      <th>close</th>\n",
              "      <th>NIFTY, NSE: Open</th>\n",
              "      <th>NIFTY, NSE: High</th>\n",
              "      <th>NIFTY, NSE: Low</th>\n",
              "      <th>NIFTY, NSE: Close</th>\n",
              "      <th>Volume</th>\n",
              "      <th>Volume MA</th>\n",
              "      <th>date</th>\n",
              "    </tr>\n",
              "  </thead>\n",
              "  <tbody>\n",
              "    <tr>\n",
              "      <th>977</th>\n",
              "      <td>1627615800</td>\n",
              "      <td>5445</td>\n",
              "      <td>5524</td>\n",
              "      <td>5430</td>\n",
              "      <td>5517</td>\n",
              "      <td>15800.6</td>\n",
              "      <td>15862.8</td>\n",
              "      <td>15744.85</td>\n",
              "      <td>15763.05</td>\n",
              "      <td>38061</td>\n",
              "      <td>61836.10</td>\n",
              "      <td>30-07-2021</td>\n",
              "    </tr>\n",
              "    <tr>\n",
              "      <th>978</th>\n",
              "      <td>1627875000</td>\n",
              "      <td>5494</td>\n",
              "      <td>5494</td>\n",
              "      <td>5254</td>\n",
              "      <td>5298</td>\n",
              "      <td>15874.9</td>\n",
              "      <td>15892.9</td>\n",
              "      <td>15834.65</td>\n",
              "      <td>15885.15</td>\n",
              "      <td>75654</td>\n",
              "      <td>63564.35</td>\n",
              "      <td>02-08-2021</td>\n",
              "    </tr>\n",
              "  </tbody>\n",
              "</table>\n",
              "</div>"
            ],
            "text/plain": [
              "           time  open  high  ...  Volume  Volume MA        date\n",
              "977  1627615800  5445  5524  ...   38061   61836.10  30-07-2021\n",
              "978  1627875000  5494  5494  ...   75654   63564.35  02-08-2021\n",
              "\n",
              "[2 rows x 12 columns]"
            ]
          },
          "metadata": {
            "tags": []
          },
          "execution_count": 12
        }
      ]
    },
    {
      "cell_type": "code",
      "metadata": {
        "id": "dRO76y2ef5gz"
      },
      "source": [
        "del data['time']"
      ],
      "execution_count": 13,
      "outputs": []
    },
    {
      "cell_type": "code",
      "metadata": {
        "id": "xV9_Aesrf5eq"
      },
      "source": [
        "data= data.set_index('date')"
      ],
      "execution_count": 14,
      "outputs": []
    },
    {
      "cell_type": "code",
      "metadata": {
        "colab": {
          "base_uri": "https://localhost:8080/",
          "height": 333
        },
        "id": "ULmsVmqYf5cE",
        "outputId": "1bf5aeae-65af-46ba-f6c2-6f2ff2b59668"
      },
      "source": [
        "data.tail(5)"
      ],
      "execution_count": 15,
      "outputs": [
        {
          "output_type": "execute_result",
          "data": {
            "text/html": [
              "<div>\n",
              "<style scoped>\n",
              "    .dataframe tbody tr th:only-of-type {\n",
              "        vertical-align: middle;\n",
              "    }\n",
              "\n",
              "    .dataframe tbody tr th {\n",
              "        vertical-align: top;\n",
              "    }\n",
              "\n",
              "    .dataframe thead th {\n",
              "        text-align: right;\n",
              "    }\n",
              "</style>\n",
              "<table border=\"1\" class=\"dataframe\">\n",
              "  <thead>\n",
              "    <tr style=\"text-align: right;\">\n",
              "      <th></th>\n",
              "      <th>open</th>\n",
              "      <th>high</th>\n",
              "      <th>low</th>\n",
              "      <th>close</th>\n",
              "      <th>NIFTY, NSE: Open</th>\n",
              "      <th>NIFTY, NSE: High</th>\n",
              "      <th>NIFTY, NSE: Low</th>\n",
              "      <th>NIFTY, NSE: Close</th>\n",
              "      <th>Volume</th>\n",
              "      <th>Volume MA</th>\n",
              "    </tr>\n",
              "    <tr>\n",
              "      <th>date</th>\n",
              "      <th></th>\n",
              "      <th></th>\n",
              "      <th></th>\n",
              "      <th></th>\n",
              "      <th></th>\n",
              "      <th></th>\n",
              "      <th></th>\n",
              "      <th></th>\n",
              "      <th></th>\n",
              "      <th></th>\n",
              "    </tr>\n",
              "  </thead>\n",
              "  <tbody>\n",
              "    <tr>\n",
              "      <th>27-07-2021</th>\n",
              "      <td>5374</td>\n",
              "      <td>5392</td>\n",
              "      <td>5308</td>\n",
              "      <td>5334</td>\n",
              "      <td>15860.50</td>\n",
              "      <td>15881.55</td>\n",
              "      <td>15701.00</td>\n",
              "      <td>15746.45</td>\n",
              "      <td>44782</td>\n",
              "      <td>65543.10</td>\n",
              "    </tr>\n",
              "    <tr>\n",
              "      <th>28-07-2021</th>\n",
              "      <td>5359</td>\n",
              "      <td>5415</td>\n",
              "      <td>5344</td>\n",
              "      <td>5403</td>\n",
              "      <td>15761.55</td>\n",
              "      <td>15767.50</td>\n",
              "      <td>15513.45</td>\n",
              "      <td>15709.40</td>\n",
              "      <td>41088</td>\n",
              "      <td>64450.80</td>\n",
              "    </tr>\n",
              "    <tr>\n",
              "      <th>29-07-2021</th>\n",
              "      <td>5410</td>\n",
              "      <td>5464</td>\n",
              "      <td>5394</td>\n",
              "      <td>5447</td>\n",
              "      <td>15762.70</td>\n",
              "      <td>15817.35</td>\n",
              "      <td>15737.80</td>\n",
              "      <td>15778.45</td>\n",
              "      <td>34260</td>\n",
              "      <td>62396.40</td>\n",
              "    </tr>\n",
              "    <tr>\n",
              "      <th>30-07-2021</th>\n",
              "      <td>5445</td>\n",
              "      <td>5524</td>\n",
              "      <td>5430</td>\n",
              "      <td>5517</td>\n",
              "      <td>15800.60</td>\n",
              "      <td>15862.80</td>\n",
              "      <td>15744.85</td>\n",
              "      <td>15763.05</td>\n",
              "      <td>38061</td>\n",
              "      <td>61836.10</td>\n",
              "    </tr>\n",
              "    <tr>\n",
              "      <th>02-08-2021</th>\n",
              "      <td>5494</td>\n",
              "      <td>5494</td>\n",
              "      <td>5254</td>\n",
              "      <td>5298</td>\n",
              "      <td>15874.90</td>\n",
              "      <td>15892.90</td>\n",
              "      <td>15834.65</td>\n",
              "      <td>15885.15</td>\n",
              "      <td>75654</td>\n",
              "      <td>63564.35</td>\n",
              "    </tr>\n",
              "  </tbody>\n",
              "</table>\n",
              "</div>"
            ],
            "text/plain": [
              "            open  high   low  ...  NIFTY, NSE: Close  Volume  Volume MA\n",
              "date                          ...                                      \n",
              "27-07-2021  5374  5392  5308  ...           15746.45   44782   65543.10\n",
              "28-07-2021  5359  5415  5344  ...           15709.40   41088   64450.80\n",
              "29-07-2021  5410  5464  5394  ...           15778.45   34260   62396.40\n",
              "30-07-2021  5445  5524  5430  ...           15763.05   38061   61836.10\n",
              "02-08-2021  5494  5494  5254  ...           15885.15   75654   63564.35\n",
              "\n",
              "[5 rows x 10 columns]"
            ]
          },
          "metadata": {
            "tags": []
          },
          "execution_count": 15
        }
      ]
    },
    {
      "cell_type": "code",
      "metadata": {
        "id": "oXJBxpS3f5Zl"
      },
      "source": [
        "data_subset = data[['close','NIFTY, NSE: Close']]"
      ],
      "execution_count": 16,
      "outputs": []
    },
    {
      "cell_type": "code",
      "metadata": {
        "colab": {
          "base_uri": "https://localhost:8080/",
          "height": 140
        },
        "id": "7lfuH9Zyf5XZ",
        "outputId": "522edda8-0b16-4ff6-cedb-f37997578de2"
      },
      "source": [
        "data_subset.tail(2)"
      ],
      "execution_count": 17,
      "outputs": [
        {
          "output_type": "execute_result",
          "data": {
            "text/html": [
              "<div>\n",
              "<style scoped>\n",
              "    .dataframe tbody tr th:only-of-type {\n",
              "        vertical-align: middle;\n",
              "    }\n",
              "\n",
              "    .dataframe tbody tr th {\n",
              "        vertical-align: top;\n",
              "    }\n",
              "\n",
              "    .dataframe thead th {\n",
              "        text-align: right;\n",
              "    }\n",
              "</style>\n",
              "<table border=\"1\" class=\"dataframe\">\n",
              "  <thead>\n",
              "    <tr style=\"text-align: right;\">\n",
              "      <th></th>\n",
              "      <th>close</th>\n",
              "      <th>NIFTY, NSE: Close</th>\n",
              "    </tr>\n",
              "    <tr>\n",
              "      <th>date</th>\n",
              "      <th></th>\n",
              "      <th></th>\n",
              "    </tr>\n",
              "  </thead>\n",
              "  <tbody>\n",
              "    <tr>\n",
              "      <th>30-07-2021</th>\n",
              "      <td>5517</td>\n",
              "      <td>15763.05</td>\n",
              "    </tr>\n",
              "    <tr>\n",
              "      <th>02-08-2021</th>\n",
              "      <td>5298</td>\n",
              "      <td>15885.15</td>\n",
              "    </tr>\n",
              "  </tbody>\n",
              "</table>\n",
              "</div>"
            ],
            "text/plain": [
              "            close  NIFTY, NSE: Close\n",
              "date                                \n",
              "30-07-2021   5517           15763.05\n",
              "02-08-2021   5298           15885.15"
            ]
          },
          "metadata": {
            "tags": []
          },
          "execution_count": 17
        }
      ]
    },
    {
      "cell_type": "code",
      "metadata": {
        "id": "78Y2O7cwf5Up"
      },
      "source": [
        "data_subset.columns=['close_eem','close_nifty']"
      ],
      "execution_count": 18,
      "outputs": []
    },
    {
      "cell_type": "code",
      "metadata": {
        "id": "-G3dt9cZf5SX"
      },
      "source": [
        "data_subset['close_percent_eem']=data_subset['close_eem'].pct_change(60)\n",
        "data_subset['close_percent_nifty']=data_subset['close_nifty'].pct_change(60)"
      ],
      "execution_count": 19,
      "outputs": []
    },
    {
      "cell_type": "code",
      "metadata": {
        "id": "50p1CBQoiiKQ"
      },
      "source": [
        "data_subset.dropna(inplace=True)"
      ],
      "execution_count": 20,
      "outputs": []
    },
    {
      "cell_type": "code",
      "metadata": {
        "colab": {
          "base_uri": "https://localhost:8080/",
          "height": 443
        },
        "id": "oBsRXsamf5Py",
        "outputId": "afa51667-642c-4649-8dc9-0e0e6fe327bc"
      },
      "source": [
        "g=sns.jointplot(x='close_percent_eem',y='close_percent_nifty',data=data_subset,kind='reg').plot_joint(sns.kdeplot,n_levels=6)\n",
        "r, p = pearsonr(data_subset['close_percent_eem'], data_subset['close_percent_nifty'])\n",
        "phantom, = g.ax_joint.plot([], [], linestyle=\"\", alpha=0)\n",
        "g.ax_joint.legend([phantom],['r={:f}, p={:f}'.format(r,p)])\n",
        "plt.suptitle(f'Correlation for last 60 days is {round(r*100)}%')\n",
        "plt.show()"
      ],
      "execution_count": 21,
      "outputs": [
        {
          "output_type": "display_data",
          "data": {
            "image/png": "[encoded data removed]",
            "text/plain": [
              "<Figure size 432x432 with 3 Axes>"
            ]
          },
          "metadata": {
            "tags": [],
            "needs_background": "light"
          }
        }
      ]
    },
    {
      "cell_type": "code",
      "metadata": {
        "id": "1PcnYupyf5Ni"
      },
      "source": [
        ""
      ],
      "execution_count": 21,
      "outputs": []
    },
    {
      "cell_type": "code",
      "metadata": {
        "id": "LhbPu_2Bf5LG"
      },
      "source": [
        ""
      ],
      "execution_count": 21,
      "outputs": []
    },
    {
      "cell_type": "code",
      "metadata": {
        "id": "fBKfCufBf5Ic"
      },
      "source": [
        ""
      ],
      "execution_count": 21,
      "outputs": []
    },
    {
      "cell_type": "code",
      "metadata": {
        "id": "K-4XTJwzf5Fn"
      },
      "source": [
        ""
      ],
      "execution_count": 21,
      "outputs": []
    }
  ]
}