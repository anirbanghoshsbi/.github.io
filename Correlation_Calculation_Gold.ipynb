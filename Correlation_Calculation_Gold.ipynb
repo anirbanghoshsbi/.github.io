{
  "nbformat": 4,
  "nbformat_minor": 0,
  "metadata": {
    "colab": {
      "name": "Correlation_Calculation_Gold.ipynb",
      "provenance": [],
      "authorship_tag": "ABX9TyOdPzFiOmm24ZNT026fCzef",
      "include_colab_link": true
    },
    "kernelspec": {
      "name": "python3",
      "display_name": "Python 3"
    },
    "language_info": {
      "name": "python"
    }
  },
  "cells": [
    {
      "cell_type": "markdown",
      "metadata": {
        "id": "view-in-github",
        "colab_type": "text"
      },
      "source": [
        "<a href=\"https://colab.research.google.com/github/anirbanghoshsbi/.github.io/blob/master/Correlation_Calculation_Gold.ipynb\" target=\"_parent\"><img src=\"https://colab.research.google.com/assets/colab-badge.svg\" alt=\"Open In Colab\"/></a>"
      ]
    },
    {
      "cell_type": "code",
      "metadata": {
        "id": "kKyr_k7Vk0IK"
      },
      "source": [
        "import warnings\n",
        "warnings.simplefilter(action='ignore', category=Warning)\n",
        "import pandas as pd\n"
      ],
      "execution_count": 50,
      "outputs": []
    },
    {
      "cell_type": "code",
      "metadata": {
        "id": "ojDPF1n9fyO1"
      },
      "source": [
        "import numpy as np\n",
        "import matplotlib.pyplot as plt\n",
        "import seaborn as sns\n",
        "from scipy.stats import pearsonr"
      ],
      "execution_count": 51,
      "outputs": []
    },
    {
      "cell_type": "code",
      "metadata": {
        "id": "Hs3_caB0f5oV"
      },
      "source": [
        "data = pd.read_csv('/content/MCX_GOLD1!, 1D.csv')"
      ],
      "execution_count": 52,
      "outputs": []
    },
    {
      "cell_type": "code",
      "metadata": {
        "id": "hPMrYQ4of5l5"
      },
      "source": [
        "import datetime\n",
        "data['date']=data.time.apply(lambda d: datetime.datetime.fromtimestamp(int(d)).strftime('%d-%m-%Y'))"
      ],
      "execution_count": 53,
      "outputs": []
    },
    {
      "cell_type": "code",
      "metadata": {
        "colab": {
          "base_uri": "https://localhost:8080/",
          "height": 210
        },
        "id": "en_uvEKgf5jU",
        "outputId": "e70ebaee-1eca-4530-dd86-b574b6b95a57"
      },
      "source": [
        "data.tail(2)"
      ],
      "execution_count": 54,
      "outputs": [
        {
          "output_type": "execute_result",
          "data": {
            "text/html": [
              "<div>\n",
              "<style scoped>\n",
              "    .dataframe tbody tr th:only-of-type {\n",
              "        vertical-align: middle;\n",
              "    }\n",
              "\n",
              "    .dataframe tbody tr th {\n",
              "        vertical-align: top;\n",
              "    }\n",
              "\n",
              "    .dataframe thead th {\n",
              "        text-align: right;\n",
              "    }\n",
              "</style>\n",
              "<table border=\"1\" class=\"dataframe\">\n",
              "  <thead>\n",
              "    <tr style=\"text-align: right;\">\n",
              "      <th></th>\n",
              "      <th>time</th>\n",
              "      <th>open</th>\n",
              "      <th>high</th>\n",
              "      <th>low</th>\n",
              "      <th>close</th>\n",
              "      <th>NIFTY, NSE: Open</th>\n",
              "      <th>NIFTY, NSE: High</th>\n",
              "      <th>NIFTY, NSE: Low</th>\n",
              "      <th>NIFTY, NSE: Close</th>\n",
              "      <th>Volume</th>\n",
              "      <th>Volume MA</th>\n",
              "      <th>date</th>\n",
              "    </tr>\n",
              "  </thead>\n",
              "  <tbody>\n",
              "    <tr>\n",
              "      <th>1597</th>\n",
              "      <td>1627615800</td>\n",
              "      <td>48281</td>\n",
              "      <td>48304</td>\n",
              "      <td>47751</td>\n",
              "      <td>47846</td>\n",
              "      <td>15800.6</td>\n",
              "      <td>15862.8</td>\n",
              "      <td>15744.85</td>\n",
              "      <td>15763.05</td>\n",
              "      <td>1546</td>\n",
              "      <td>6789.1</td>\n",
              "      <td>30-07-2021</td>\n",
              "    </tr>\n",
              "    <tr>\n",
              "      <th>1598</th>\n",
              "      <td>1627875000</td>\n",
              "      <td>47951</td>\n",
              "      <td>48150</td>\n",
              "      <td>47816</td>\n",
              "      <td>48086</td>\n",
              "      <td>15874.9</td>\n",
              "      <td>15892.9</td>\n",
              "      <td>15834.65</td>\n",
              "      <td>15885.15</td>\n",
              "      <td>5348</td>\n",
              "      <td>6885.2</td>\n",
              "      <td>02-08-2021</td>\n",
              "    </tr>\n",
              "  </tbody>\n",
              "</table>\n",
              "</div>"
            ],
            "text/plain": [
              "            time   open   high  ...  Volume  Volume MA        date\n",
              "1597  1627615800  48281  48304  ...    1546     6789.1  30-07-2021\n",
              "1598  1627875000  47951  48150  ...    5348     6885.2  02-08-2021\n",
              "\n",
              "[2 rows x 12 columns]"
            ]
          },
          "metadata": {
            "tags": []
          },
          "execution_count": 54
        }
      ]
    },
    {
      "cell_type": "code",
      "metadata": {
        "id": "dRO76y2ef5gz"
      },
      "source": [
        "del data['time']"
      ],
      "execution_count": 55,
      "outputs": []
    },
    {
      "cell_type": "code",
      "metadata": {
        "id": "xV9_Aesrf5eq"
      },
      "source": [
        "data= data.set_index('date')"
      ],
      "execution_count": 56,
      "outputs": []
    },
    {
      "cell_type": "code",
      "metadata": {
        "colab": {
          "base_uri": "https://localhost:8080/",
          "height": 333
        },
        "id": "ULmsVmqYf5cE",
        "outputId": "e59e3268-5c37-4bcb-d7d0-d3eaff20d52c"
      },
      "source": [
        "data.tail(5)"
      ],
      "execution_count": 57,
      "outputs": [
        {
          "output_type": "execute_result",
          "data": {
            "text/html": [
              "<div>\n",
              "<style scoped>\n",
              "    .dataframe tbody tr th:only-of-type {\n",
              "        vertical-align: middle;\n",
              "    }\n",
              "\n",
              "    .dataframe tbody tr th {\n",
              "        vertical-align: top;\n",
              "    }\n",
              "\n",
              "    .dataframe thead th {\n",
              "        text-align: right;\n",
              "    }\n",
              "</style>\n",
              "<table border=\"1\" class=\"dataframe\">\n",
              "  <thead>\n",
              "    <tr style=\"text-align: right;\">\n",
              "      <th></th>\n",
              "      <th>open</th>\n",
              "      <th>high</th>\n",
              "      <th>low</th>\n",
              "      <th>close</th>\n",
              "      <th>NIFTY, NSE: Open</th>\n",
              "      <th>NIFTY, NSE: High</th>\n",
              "      <th>NIFTY, NSE: Low</th>\n",
              "      <th>NIFTY, NSE: Close</th>\n",
              "      <th>Volume</th>\n",
              "      <th>Volume MA</th>\n",
              "    </tr>\n",
              "    <tr>\n",
              "      <th>date</th>\n",
              "      <th></th>\n",
              "      <th></th>\n",
              "      <th></th>\n",
              "      <th></th>\n",
              "      <th></th>\n",
              "      <th></th>\n",
              "      <th></th>\n",
              "      <th></th>\n",
              "      <th></th>\n",
              "      <th></th>\n",
              "    </tr>\n",
              "  </thead>\n",
              "  <tbody>\n",
              "    <tr>\n",
              "      <th>27-07-2021</th>\n",
              "      <td>47446</td>\n",
              "      <td>47642</td>\n",
              "      <td>47367</td>\n",
              "      <td>47573</td>\n",
              "      <td>15860.50</td>\n",
              "      <td>15881.55</td>\n",
              "      <td>15701.00</td>\n",
              "      <td>15746.45</td>\n",
              "      <td>7103</td>\n",
              "      <td>7192.95</td>\n",
              "    </tr>\n",
              "    <tr>\n",
              "      <th>28-07-2021</th>\n",
              "      <td>47610</td>\n",
              "      <td>47689</td>\n",
              "      <td>47470</td>\n",
              "      <td>47577</td>\n",
              "      <td>15761.55</td>\n",
              "      <td>15767.50</td>\n",
              "      <td>15513.45</td>\n",
              "      <td>15709.40</td>\n",
              "      <td>4486</td>\n",
              "      <td>7099.90</td>\n",
              "    </tr>\n",
              "    <tr>\n",
              "      <th>29-07-2021</th>\n",
              "      <td>47720</td>\n",
              "      <td>48310</td>\n",
              "      <td>47690</td>\n",
              "      <td>48281</td>\n",
              "      <td>15762.70</td>\n",
              "      <td>15817.35</td>\n",
              "      <td>15737.80</td>\n",
              "      <td>15778.45</td>\n",
              "      <td>5823</td>\n",
              "      <td>7076.10</td>\n",
              "    </tr>\n",
              "    <tr>\n",
              "      <th>30-07-2021</th>\n",
              "      <td>48281</td>\n",
              "      <td>48304</td>\n",
              "      <td>47751</td>\n",
              "      <td>47846</td>\n",
              "      <td>15800.60</td>\n",
              "      <td>15862.80</td>\n",
              "      <td>15744.85</td>\n",
              "      <td>15763.05</td>\n",
              "      <td>1546</td>\n",
              "      <td>6789.10</td>\n",
              "    </tr>\n",
              "    <tr>\n",
              "      <th>02-08-2021</th>\n",
              "      <td>47951</td>\n",
              "      <td>48150</td>\n",
              "      <td>47816</td>\n",
              "      <td>48086</td>\n",
              "      <td>15874.90</td>\n",
              "      <td>15892.90</td>\n",
              "      <td>15834.65</td>\n",
              "      <td>15885.15</td>\n",
              "      <td>5348</td>\n",
              "      <td>6885.20</td>\n",
              "    </tr>\n",
              "  </tbody>\n",
              "</table>\n",
              "</div>"
            ],
            "text/plain": [
              "             open   high    low  ...  NIFTY, NSE: Close  Volume  Volume MA\n",
              "date                             ...                                      \n",
              "27-07-2021  47446  47642  47367  ...           15746.45    7103    7192.95\n",
              "28-07-2021  47610  47689  47470  ...           15709.40    4486    7099.90\n",
              "29-07-2021  47720  48310  47690  ...           15778.45    5823    7076.10\n",
              "30-07-2021  48281  48304  47751  ...           15763.05    1546    6789.10\n",
              "02-08-2021  47951  48150  47816  ...           15885.15    5348    6885.20\n",
              "\n",
              "[5 rows x 10 columns]"
            ]
          },
          "metadata": {
            "tags": []
          },
          "execution_count": 57
        }
      ]
    },
    {
      "cell_type": "code",
      "metadata": {
        "id": "oXJBxpS3f5Zl"
      },
      "source": [
        "data_subset = data[['close','NIFTY, NSE: Close']]"
      ],
      "execution_count": 58,
      "outputs": []
    },
    {
      "cell_type": "code",
      "metadata": {
        "colab": {
          "base_uri": "https://localhost:8080/",
          "height": 140
        },
        "id": "7lfuH9Zyf5XZ",
        "outputId": "c051bd83-d47f-4c4a-e0cd-1f6fdbb6c10d"
      },
      "source": [
        "data_subset.tail(2)"
      ],
      "execution_count": 59,
      "outputs": [
        {
          "output_type": "execute_result",
          "data": {
            "text/html": [
              "<div>\n",
              "<style scoped>\n",
              "    .dataframe tbody tr th:only-of-type {\n",
              "        vertical-align: middle;\n",
              "    }\n",
              "\n",
              "    .dataframe tbody tr th {\n",
              "        vertical-align: top;\n",
              "    }\n",
              "\n",
              "    .dataframe thead th {\n",
              "        text-align: right;\n",
              "    }\n",
              "</style>\n",
              "<table border=\"1\" class=\"dataframe\">\n",
              "  <thead>\n",
              "    <tr style=\"text-align: right;\">\n",
              "      <th></th>\n",
              "      <th>close</th>\n",
              "      <th>NIFTY, NSE: Close</th>\n",
              "    </tr>\n",
              "    <tr>\n",
              "      <th>date</th>\n",
              "      <th></th>\n",
              "      <th></th>\n",
              "    </tr>\n",
              "  </thead>\n",
              "  <tbody>\n",
              "    <tr>\n",
              "      <th>30-07-2021</th>\n",
              "      <td>47846</td>\n",
              "      <td>15763.05</td>\n",
              "    </tr>\n",
              "    <tr>\n",
              "      <th>02-08-2021</th>\n",
              "      <td>48086</td>\n",
              "      <td>15885.15</td>\n",
              "    </tr>\n",
              "  </tbody>\n",
              "</table>\n",
              "</div>"
            ],
            "text/plain": [
              "            close  NIFTY, NSE: Close\n",
              "date                                \n",
              "30-07-2021  47846           15763.05\n",
              "02-08-2021  48086           15885.15"
            ]
          },
          "metadata": {
            "tags": []
          },
          "execution_count": 59
        }
      ]
    },
    {
      "cell_type": "code",
      "metadata": {
        "id": "78Y2O7cwf5Up"
      },
      "source": [
        "data_subset.columns=['close_crude','close_nifty']"
      ],
      "execution_count": 60,
      "outputs": []
    },
    {
      "cell_type": "code",
      "metadata": {
        "id": "-G3dt9cZf5SX"
      },
      "source": [
        "data_subset['close_percent_crude']=data_subset['close_crude'].pct_change(60)\n",
        "data_subset['close_percent_nifty']=data_subset['close_nifty'].pct_change(60)"
      ],
      "execution_count": 61,
      "outputs": []
    },
    {
      "cell_type": "code",
      "metadata": {
        "id": "50p1CBQoiiKQ"
      },
      "source": [
        "data_subset.dropna(inplace=True)"
      ],
      "execution_count": 62,
      "outputs": []
    },
    {
      "cell_type": "code",
      "metadata": {
        "colab": {
          "base_uri": "https://localhost:8080/",
          "height": 443
        },
        "id": "oBsRXsamf5Py",
        "outputId": "ed33a884-5805-4048-bb8a-1a98a97df240"
      },
      "source": [
        "g=sns.jointplot(x='close_percent_crude',y='close_percent_nifty',data=data_subset,kind='reg').plot_joint(sns.kdeplot,n_levels=6)\n",
        "r, p = pearsonr(data_subset['close_percent_crude'], data_subset['close_percent_nifty'])\n",
        "phantom, = g.ax_joint.plot([], [], linestyle=\"\", alpha=0)\n",
        "g.ax_joint.legend([phantom],['r={:f}, p={:f}'.format(r,p)])\n",
        "plt.suptitle(f'Correlation for last 60 days is {round(r*100)}%')\n",
        "plt.show()"
      ],
      "execution_count": 63,
      "outputs": [
        {
          "output_type": "display_data",
          "data": {
            "image/png": "[encoded data removed]",
            "text/plain": [
              "<Figure size 432x432 with 3 Axes>"
            ]
          },
          "metadata": {
            "tags": [],
            "needs_background": "light"
          }
        }
      ]
    },
    {
      "cell_type": "code",
      "metadata": {
        "id": "1PcnYupyf5Ni"
      },
      "source": [
        ""
      ],
      "execution_count": 63,
      "outputs": []
    },
    {
      "cell_type": "code",
      "metadata": {
        "id": "LhbPu_2Bf5LG"
      },
      "source": [
        ""
      ],
      "execution_count": 63,
      "outputs": []
    },
    {
      "cell_type": "code",
      "metadata": {
        "id": "fBKfCufBf5Ic"
      },
      "source": [
        ""
      ],
      "execution_count": 63,
      "outputs": []
    },
    {
      "cell_type": "code",
      "metadata": {
        "id": "K-4XTJwzf5Fn"
      },
      "source": [
        ""
      ],
      "execution_count": 63,
      "outputs": []
    }
  ]
}