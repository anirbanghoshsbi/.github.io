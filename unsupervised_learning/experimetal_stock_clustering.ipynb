{
  "nbformat": 4,
  "nbformat_minor": 0,
  "metadata": {
    "colab": {
      "name": "experimetal_stock_clustering.ipynb",
      "provenance": [],
      "authorship_tag": "ABX9TyNc5yqzpwC6SZvWPskoIZXq",
      "include_colab_link": true
    },
    "kernelspec": {
      "name": "python3",
      "display_name": "Python 3"
    },
    "language_info": {
      "name": "python"
    }
  },
  "cells": [
    {
      "cell_type": "markdown",
      "metadata": {
        "id": "view-in-github",
        "colab_type": "text"
      },
      "source": [
        "<a href=\"https://colab.research.google.com/github/anirbanghoshsbi/.github.io/blob/master/unsupervised_learning/experimetal_stock_clustering.ipynb\" target=\"_parent\"><img src=\"https://colab.research.google.com/assets/colab-badge.svg\" alt=\"Open In Colab\"/></a>"
      ]
    },
    {
      "cell_type": "code",
      "metadata": {
        "id": "n449cY2iUZgs",
        "outputId": "45696a39-0d61-407e-97f4-588e560f25aa",
        "colab": {
          "base_uri": "https://localhost:8080/"
        }
      },
      "source": [
        "!pip install yfinance"
      ],
      "execution_count": 1,
      "outputs": [
        {
          "output_type": "stream",
          "name": "stdout",
          "text": [
            "Collecting yfinance\n",
            "  Downloading yfinance-0.1.69-py2.py3-none-any.whl (26 kB)\n",
            "Collecting requests>=2.26\n",
            "  Downloading requests-2.27.1-py2.py3-none-any.whl (63 kB)\n",
            "\u001b[K     |████████████████████████████████| 63 kB 1.1 MB/s \n",
            "\u001b[?25hCollecting lxml>=4.5.1\n",
            "  Downloading lxml-4.7.1-cp37-cp37m-manylinux_2_17_x86_64.manylinux2014_x86_64.manylinux_2_24_x86_64.whl (6.4 MB)\n",
            "\u001b[K     |████████████████████████████████| 6.4 MB 10.3 MB/s \n",
            "\u001b[?25hRequirement already satisfied: pandas>=0.24 in /usr/local/lib/python3.7/dist-packages (from yfinance) (1.1.5)\n",
            "Requirement already satisfied: multitasking>=0.0.7 in /usr/local/lib/python3.7/dist-packages (from yfinance) (0.0.10)\n",
            "Requirement already satisfied: numpy>=1.15 in /usr/local/lib/python3.7/dist-packages (from yfinance) (1.19.5)\n",
            "Requirement already satisfied: python-dateutil>=2.7.3 in /usr/local/lib/python3.7/dist-packages (from pandas>=0.24->yfinance) (2.8.2)\n",
            "Requirement already satisfied: pytz>=2017.2 in /usr/local/lib/python3.7/dist-packages (from pandas>=0.24->yfinance) (2018.9)\n",
            "Requirement already satisfied: six>=1.5 in /usr/local/lib/python3.7/dist-packages (from python-dateutil>=2.7.3->pandas>=0.24->yfinance) (1.15.0)\n",
            "Requirement already satisfied: idna<4,>=2.5 in /usr/local/lib/python3.7/dist-packages (from requests>=2.26->yfinance) (2.10)\n",
            "Requirement already satisfied: charset-normalizer~=2.0.0 in /usr/local/lib/python3.7/dist-packages (from requests>=2.26->yfinance) (2.0.10)\n",
            "Requirement already satisfied: urllib3<1.27,>=1.21.1 in /usr/local/lib/python3.7/dist-packages (from requests>=2.26->yfinance) (1.24.3)\n",
            "Requirement already satisfied: certifi>=2017.4.17 in /usr/local/lib/python3.7/dist-packages (from requests>=2.26->yfinance) (2021.10.8)\n",
            "Installing collected packages: requests, lxml, yfinance\n",
            "  Attempting uninstall: requests\n",
            "    Found existing installation: requests 2.23.0\n",
            "    Uninstalling requests-2.23.0:\n",
            "      Successfully uninstalled requests-2.23.0\n",
            "  Attempting uninstall: lxml\n",
            "    Found existing installation: lxml 4.2.6\n",
            "    Uninstalling lxml-4.2.6:\n",
            "      Successfully uninstalled lxml-4.2.6\n",
            "\u001b[31mERROR: pip's dependency resolver does not currently take into account all the packages that are installed. This behaviour is the source of the following dependency conflicts.\n",
            "google-colab 1.0.0 requires requests~=2.23.0, but you have requests 2.27.1 which is incompatible.\n",
            "datascience 0.10.6 requires folium==0.2.1, but you have folium 0.8.3 which is incompatible.\u001b[0m\n",
            "Successfully installed lxml-4.7.1 requests-2.27.1 yfinance-0.1.69\n"
          ]
        }
      ]
    },
    {
      "cell_type": "code",
      "metadata": {
        "id": "1YnVPr3DUjks"
      },
      "source": [
        "import pandas as pd\n",
        "import numpy as np\n",
        "import matplotlib.pyplot as plt\n"
      ],
      "execution_count": 2,
      "outputs": []
    },
    {
      "cell_type": "code",
      "metadata": {
        "colab": {
          "base_uri": "https://localhost:8080/"
        },
        "id": "LVq6CWcLUjhY",
        "outputId": "4e1d7a00-75a5-4d9f-9d7c-6c3e43d6953e"
      },
      "source": [
        "import yfinance as yf\n",
        "tickers =['IDEA.ns',\n",
        " 'IRCTC.ns',\n",
        " 'NAM-INDIA.ns',\n",
        " 'NATIONALUM.ns',\n",
        " 'GLENMARK.ns',\n",
        " 'UBL.ns',\n",
        " 'IBULHSGFIN.ns',\n",
        " 'HAVELLS.ns',\n",
        " 'DIVISLAB.ns',\n",
        " 'NMDC.ns',\n",
        " 'GRANULES.ns',\n",
        " 'MCDOWELL-N.ns',\n",
        " 'BHARTIARTL.ns',\n",
        " 'PEL.ns',\n",
        " 'BALKRISIND.ns',\n",
        " 'BATAINDIA.ns',\n",
        " 'INDUSTOWER.ns',\n",
        " 'DLF.ns',\n",
        " 'JINDALSTEL.ns',\n",
        " 'INDHOTEL.ns',\n",
        " 'ULTRACEMCO.ns',\n",
        " 'AUROPHARMA.ns',\n",
        " 'BHEL.ns',\n",
        " 'TATASTEEL.ns',\n",
        " 'BIOCON.ns',\n",
        " 'LUPIN.ns',\n",
        " 'POWERGRID.ns',\n",
        " 'PFC.ns',\n",
        " 'RELIANCE.ns',\n",
        " 'SRF.ns',\n",
        " 'IDFCFIRSTB.ns',\n",
        " 'GODREJPROP.ns',\n",
        " 'NAVINFLUOR.ns',\n",
        " 'VEDL.ns',\n",
        " 'RAMCOCEM.ns',\n",
        " 'JUBLFOOD.ns',\n",
        " 'HINDALCO.ns',\n",
        " 'PNB.ns',\n",
        " 'ACC.ns',\n",
        " 'MRF.ns',\n",
        " 'SAIL.ns',\n",
        " 'GRASIM.ns',\n",
        " 'SUNPHARMA.ns',\n",
        " 'ITC.ns',\n",
        " 'METROPOLIS.ns',\n",
        " 'ICICIPRULI.ns',\n",
        " 'VOLTAS.ns',\n",
        " 'HDFCLIFE.ns',\n",
        " 'CADILAHC.ns',\n",
        " 'APOLLOHOSP.ns',\n",
        " 'EXIDEIND.ns',\n",
        " 'M&MFIN.ns',\n",
        " 'ALKEM.ns',\n",
        " 'MFSL.ns',\n",
        " 'HEROMOTOCO.ns',\n",
        " 'MOTHERSUMI.ns',\n",
        " 'APLLTD.ns',\n",
        " 'RECLTD.ns',\n",
        " 'LT.ns',\n",
        " 'HINDPETRO.ns',\n",
        " 'GUJGASLTD.ns',\n",
        " 'PETRONET.ns',\n",
        " 'BPCL.ns',\n",
        " 'JSWSTEEL.ns',\n",
        " 'DEEPAKNTR.ns',\n",
        " 'SUNTV.ns',\n",
        " 'MPHASIS.ns',\n",
        " 'AARTIIND.ns',\n",
        " 'CANBK.ns',\n",
        " 'PIIND.ns',\n",
        " 'BERGEPAINT.ns',\n",
        " 'GODREJCP.ns',\n",
        " 'PFIZER.ns',\n",
        " 'TATACHEM.ns',\n",
        " 'GAIL.ns',\n",
        " 'CUB.ns',\n",
        " 'TATAMOTORS.ns',\n",
        " 'TVSMOTOR.ns',\n",
        " 'HINDUNILVR.ns',\n",
        " 'DRREDDY.ns',\n",
        " 'ASIANPAINT.ns',\n",
        " 'WIPRO.ns',\n",
        " 'CIPLA.ns',\n",
        " 'MINDTREE.ns',\n",
        " 'HDFCBANK.ns',\n",
        " 'M&M.ns',\n",
        " 'BEL.ns',\n",
        " 'PAGEIND.ns',\n",
        " 'PVR.ns',\n",
        " 'GMRINFRA.ns',\n",
        " 'BAJFINANCE.ns',\n",
        " 'UPL.ns',\n",
        " 'TORNTPOWER.ns',\n",
        " 'NESTLEIND.ns',\n",
        " 'HDFC.ns',\n",
        " 'IOC.ns',\n",
        " 'RBLBANK.ns',\n",
        " 'MARUTI.ns',\n",
        " 'BAJAJ-AUTO.ns',\n",
        " 'TATAPOWER.ns',\n",
        " 'KOTAKBANK.ns',\n",
        " 'MUTHOOTFIN.ns',\n",
        " 'APOLLOTYRE.ns',\n",
        " 'CHOLAFIN.ns',\n",
        " 'SBIN.ns',\n",
        " 'TCS.ns',\n",
        " 'PIDILITIND.ns',\n",
        " 'COLPAL.ns',\n",
        " 'SBILIFE.ns',\n",
        " 'BHARATFORG.ns',\n",
        " 'ONGC.ns',\n",
        " 'BOSCHLTD.ns',\n",
        " 'TITAN.ns',\n",
        " 'LALPATHLAB.ns',\n",
        " 'AXISBANK.ns',\n",
        " 'LICHSGFIN.ns',\n",
        " 'TORNTPHARM.ns',\n",
        " 'ZEEL.ns',\n",
        " 'L&TFH.ns',\n",
        " 'DABUR.ns',\n",
        " 'BRITANNIA.ns',\n",
        " 'ABFRL.ns',\n",
        " 'AMBUJACEM.ns',\n",
        " 'ESCORTS.ns',\n",
        " 'COALINDIA.ns',\n",
        " 'AMARAJABAT.ns',\n",
        " 'HDFCAMC.ns',\n",
        " 'FEDERALBNK.ns',\n",
        " 'ASHOKLEY.ns',\n",
        " 'NTPC.ns',\n",
        " 'SRTRANSFIN.ns',\n",
        " 'INDIGO.ns',\n",
        " 'TECHM.ns',\n",
        " 'COFORGE.ns',\n",
        " 'ADANIENT.ns',\n",
        " 'MANAPPURAM.ns',\n",
        " 'MGL.ns',\n",
        " 'ICICIBANK.ns',\n",
        " 'SIEMENS.ns',\n",
        " 'CONCOR.ns',\n",
        " 'INDUSINDBK.ns',\n",
        " 'SHREECEM.ns',\n",
        " 'TATACONSUM.ns',\n",
        " 'MARICO.ns',\n",
        " 'IGL.ns',\n",
        " 'ADANIPORTS.ns',\n",
        " 'BAJAJFINSV.ns',\n",
        " 'INFY.ns',\n",
        " 'COROMANDEL.ns',\n",
        " 'CUMMINSIND.ns',\n",
        " 'AUBANK.ns',\n",
        " 'ICICIGI.ns',\n",
        " 'NAUKRI.ns',\n",
        " 'EICHERMOT.ns',\n",
        " 'LTTS.ns',\n",
        " 'BANKBARODA.ns',\n",
        " 'TRENT.ns',\n",
        " 'LTI.ns',\n",
        " 'BANDHANBNK.ns',\n",
        " 'HCLTECH.ns']\n",
        "start_date = '2018-01-01'\n",
        "\n",
        "df = yf.download(tickers, start_date)[['Adj Close']]"
      ],
      "execution_count": 3,
      "outputs": [
        {
          "output_type": "stream",
          "name": "stdout",
          "text": [
            "[*********************100%***********************]  160 of 160 completed\n"
          ]
        }
      ]
    },
    {
      "cell_type": "code",
      "metadata": {
        "id": "mQkYMcjRVAwQ"
      },
      "source": [
        "returns = df.pct_change().mean() * (10*12)\n",
        "std = df.pct_change().std() * np.sqrt((10*12))\n",
        "ret_var = pd.concat([returns, std], axis = 1).dropna()\n",
        "ret_var.columns = [\"Returns\",\"Standard Deviation\"]"
      ],
      "execution_count": 4,
      "outputs": []
    },
    {
      "cell_type": "code",
      "metadata": {
        "colab": {
          "base_uri": "https://localhost:8080/",
          "height": 279
        },
        "id": "AqBaCPCpVAtl",
        "outputId": "5a60d22b-ad44-4e3f-d323-974efa0eb84c"
      },
      "source": [
        "from sklearn.cluster import KMeans\n",
        "X =  ret_var.values\n",
        "sse = []\n",
        "for k in range(1,15):\n",
        "    kmeans = KMeans(n_clusters = k)\n",
        "    kmeans.fit(X)\n",
        "    sse.append(kmeans.inertia_)\n",
        "plt.plot(range(1,15), sse)\n",
        "plt.xlabel(\"Value of k\")\n",
        "plt.ylabel(\"Distortion\")\n",
        "plt.show()"
      ],
      "execution_count": 5,
      "outputs": [
        {
          "output_type": "display_data",
          "data": {
            "image/png": "[encoded data removed]",
            "text/plain": [
              "<Figure size 432x288 with 1 Axes>"
            ]
          },
          "metadata": {
            "needs_background": "light"
          }
        }
      ]
    },
    {
      "cell_type": "code",
      "metadata": {
        "id": "-Gux0lRMVArC"
      },
      "source": [
        "stdOrder = ret_var.sort_values('Standard Deviation',ascending=False)\n",
        "first_symbol = stdOrder.index[0]\n",
        "ret_var.drop(first_symbol,inplace=True)\n",
        "X = ret_var.values"
      ],
      "execution_count": 6,
      "outputs": []
    },
    {
      "cell_type": "code",
      "metadata": {
        "colab": {
          "base_uri": "https://localhost:8080/",
          "height": 279
        },
        "id": "WCa42HvJVAoq",
        "outputId": "e4da8f71-fdaf-4750-a2a6-63ca94d40027"
      },
      "source": [
        "kmeans =KMeans(n_clusters = 8).fit(X)\n",
        "centroids = kmeans.cluster_centers_\n",
        "plt.scatter(X[:,0],X[:,1], c = kmeans.labels_, cmap =\"viridis\")\n",
        "plt.xlabel(\"y\")\n",
        "plt.scatter(centroids[:,0], centroids[:,1],color=\"red\",marker=\"*\")\n",
        "plt.show()"
      ],
      "execution_count": 7,
      "outputs": [
        {
          "output_type": "display_data",
          "data": {
            "image/png": "[encoded data removed]",
            "text/plain": [
              "<Figure size 432x288 with 1 Axes>"
            ]
          },
          "metadata": {
            "needs_background": "light"
          }
        }
      ]
    },
    {
      "cell_type": "code",
      "metadata": {
        "colab": {
          "base_uri": "https://localhost:8080/",
          "height": 455
        },
        "id": "CfEs05wVVAm0",
        "outputId": "66f41596-0500-46eb-8b51-e96f949c95e0"
      },
      "source": [
        "stocks = pd.DataFrame(ret_var.index)\n",
        "cluster_labels = pd.DataFrame(kmeans.labels_)\n",
        "stockClusters = pd.concat([stocks, cluster_labels],axis = 1)\n",
        "stockClusters.columns = ['Symbol','Cluster']\n",
        "x_df = pd.DataFrame(X, columns = [\"Returns\", \"Volatitity\"])\n",
        "closerv = pd.concat([stockClusters,x_df],axis=1)\n",
        "closerv = closerv.set_index(\"Symbol\")\n",
        "closerv"
      ],
      "execution_count": 8,
      "outputs": [
        {
          "output_type": "execute_result",
          "data": {
            "text/html": [
              "\n",
              "  <div id=\"df-c5dce01c-57a5-4601-a270-cdccbc505f79\">\n",
              "    <div class=\"colab-df-container\">\n",
              "      <div>\n",
              "<style scoped>\n",
              "    .dataframe tbody tr th:only-of-type {\n",
              "        vertical-align: middle;\n",
              "    }\n",
              "\n",
              "    .dataframe tbody tr th {\n",
              "        vertical-align: top;\n",
              "    }\n",
              "\n",
              "    .dataframe thead th {\n",
              "        text-align: right;\n",
              "    }\n",
              "</style>\n",
              "<table border=\"1\" class=\"dataframe\">\n",
              "  <thead>\n",
              "    <tr style=\"text-align: right;\">\n",
              "      <th></th>\n",
              "      <th>Cluster</th>\n",
              "      <th>Returns</th>\n",
              "      <th>Volatitity</th>\n",
              "    </tr>\n",
              "    <tr>\n",
              "      <th>Symbol</th>\n",
              "      <th></th>\n",
              "      <th></th>\n",
              "      <th></th>\n",
              "    </tr>\n",
              "  </thead>\n",
              "  <tbody>\n",
              "    <tr>\n",
              "      <th>(Adj Close, AARTIIND.NS)</th>\n",
              "      <td>2</td>\n",
              "      <td>0.196505</td>\n",
              "      <td>0.237219</td>\n",
              "    </tr>\n",
              "    <tr>\n",
              "      <th>(Adj Close, ABFRL.NS)</th>\n",
              "      <td>7</td>\n",
              "      <td>0.111892</td>\n",
              "      <td>0.280557</td>\n",
              "    </tr>\n",
              "    <tr>\n",
              "      <th>(Adj Close, ACC.NS)</th>\n",
              "      <td>6</td>\n",
              "      <td>0.069170</td>\n",
              "      <td>0.210215</td>\n",
              "    </tr>\n",
              "    <tr>\n",
              "      <th>(Adj Close, ADANIENT.NS)</th>\n",
              "      <td>5</td>\n",
              "      <td>0.431627</td>\n",
              "      <td>0.363541</td>\n",
              "    </tr>\n",
              "    <tr>\n",
              "      <th>(Adj Close, ADANIPORTS.NS)</th>\n",
              "      <td>7</td>\n",
              "      <td>0.117205</td>\n",
              "      <td>0.260050</td>\n",
              "    </tr>\n",
              "    <tr>\n",
              "      <th>...</th>\n",
              "      <td>...</td>\n",
              "      <td>...</td>\n",
              "      <td>...</td>\n",
              "    </tr>\n",
              "    <tr>\n",
              "      <th>(Adj Close, UPL.NS)</th>\n",
              "      <td>7</td>\n",
              "      <td>0.101169</td>\n",
              "      <td>0.270219</td>\n",
              "    </tr>\n",
              "    <tr>\n",
              "      <th>(Adj Close, VEDL.NS)</th>\n",
              "      <td>7</td>\n",
              "      <td>0.104421</td>\n",
              "      <td>0.320815</td>\n",
              "    </tr>\n",
              "    <tr>\n",
              "      <th>(Adj Close, VOLTAS.NS)</th>\n",
              "      <td>6</td>\n",
              "      <td>0.112209</td>\n",
              "      <td>0.218487</td>\n",
              "    </tr>\n",
              "    <tr>\n",
              "      <th>(Adj Close, WIPRO.NS)</th>\n",
              "      <td>1</td>\n",
              "      <td>0.141955</td>\n",
              "      <td>0.201008</td>\n",
              "    </tr>\n",
              "    <tr>\n",
              "      <th>(Adj Close, ZEEL.NS)</th>\n",
              "      <td>3</td>\n",
              "      <td>0.017614</td>\n",
              "      <td>0.415101</td>\n",
              "    </tr>\n",
              "  </tbody>\n",
              "</table>\n",
              "<p>159 rows × 3 columns</p>\n",
              "</div>\n",
              "      <button class=\"colab-df-convert\" onclick=\"convertToInteractive('df-c5dce01c-57a5-4601-a270-cdccbc505f79')\"\n",
              "              title=\"Convert this dataframe to an interactive table.\"\n",
              "              style=\"display:none;\">\n",
              "        \n",
              "  <svg xmlns=\"http://www.w3.org/2000/svg\" height=\"24px\"viewBox=\"0 0 24 24\"\n",
              "       width=\"24px\">\n",
              "    <path d=\"M0 0h24v24H0V0z\" fill=\"none\"/>\n",
              "    <path d=\"M18.56 5.44l.94 2.06.94-2.06 2.06-.94-2.06-.94-.94-2.06-.94 2.06-2.06.94zm-11 1L8.5 8.5l.94-2.06 2.06-.94-2.06-.94L8.5 2.5l-.94 2.06-2.06.94zm10 10l.94 2.06.94-2.06 2.06-.94-2.06-.94-.94-2.06-.94 2.06-2.06.94z\"/><path d=\"M17.41 7.96l-1.37-1.37c-.4-.4-.92-.59-1.43-.59-.52 0-1.04.2-1.43.59L10.3 9.45l-7.72 7.72c-.78.78-.78 2.05 0 2.83L4 21.41c.39.39.9.59 1.41.59.51 0 1.02-.2 1.41-.59l7.78-7.78 2.81-2.81c.8-.78.8-2.07 0-2.86zM5.41 20L4 18.59l7.72-7.72 1.47 1.35L5.41 20z\"/>\n",
              "  </svg>\n",
              "      </button>\n",
              "      \n",
              "  <style>\n",
              "    .colab-df-container {\n",
              "      display:flex;\n",
              "      flex-wrap:wrap;\n",
              "      gap: 12px;\n",
              "    }\n",
              "\n",
              "    .colab-df-convert {\n",
              "      background-color: #E8F0FE;\n",
              "      border: none;\n",
              "      border-radius: 50%;\n",
              "      cursor: pointer;\n",
              "      display: none;\n",
              "      fill: #1967D2;\n",
              "      height: 32px;\n",
              "      padding: 0 0 0 0;\n",
              "      width: 32px;\n",
              "    }\n",
              "\n",
              "    .colab-df-convert:hover {\n",
              "      background-color: #E2EBFA;\n",
              "      box-shadow: 0px 1px 2px rgba(60, 64, 67, 0.3), 0px 1px 3px 1px rgba(60, 64, 67, 0.15);\n",
              "      fill: #174EA6;\n",
              "    }\n",
              "\n",
              "    [theme=dark] .colab-df-convert {\n",
              "      background-color: #3B4455;\n",
              "      fill: #D2E3FC;\n",
              "    }\n",
              "\n",
              "    [theme=dark] .colab-df-convert:hover {\n",
              "      background-color: #434B5C;\n",
              "      box-shadow: 0px 1px 3px 1px rgba(0, 0, 0, 0.15);\n",
              "      filter: drop-shadow(0px 1px 2px rgba(0, 0, 0, 0.3));\n",
              "      fill: #FFFFFF;\n",
              "    }\n",
              "  </style>\n",
              "\n",
              "      <script>\n",
              "        const buttonEl =\n",
              "          document.querySelector('#df-c5dce01c-57a5-4601-a270-cdccbc505f79 button.colab-df-convert');\n",
              "        buttonEl.style.display =\n",
              "          google.colab.kernel.accessAllowed ? 'block' : 'none';\n",
              "\n",
              "        async function convertToInteractive(key) {\n",
              "          const element = document.querySelector('#df-c5dce01c-57a5-4601-a270-cdccbc505f79');\n",
              "          const dataTable =\n",
              "            await google.colab.kernel.invokeFunction('convertToInteractive',\n",
              "                                                     [key], {});\n",
              "          if (!dataTable) return;\n",
              "\n",
              "          const docLinkHtml = 'Like what you see? Visit the ' +\n",
              "            '<a target=\"_blank\" href=https://colab.research.google.com/notebooks/data_table.ipynb>data table notebook</a>'\n",
              "            + ' to learn more about interactive tables.';\n",
              "          element.innerHTML = '';\n",
              "          dataTable['output_type'] = 'display_data';\n",
              "          await google.colab.output.renderOutput(dataTable, element);\n",
              "          const docLink = document.createElement('div');\n",
              "          docLink.innerHTML = docLinkHtml;\n",
              "          element.appendChild(docLink);\n",
              "        }\n",
              "      </script>\n",
              "    </div>\n",
              "  </div>\n",
              "  "
            ],
            "text/plain": [
              "                            Cluster   Returns  Volatitity\n",
              "Symbol                                                   \n",
              "(Adj Close, AARTIIND.NS)          2  0.196505    0.237219\n",
              "(Adj Close, ABFRL.NS)             7  0.111892    0.280557\n",
              "(Adj Close, ACC.NS)               6  0.069170    0.210215\n",
              "(Adj Close, ADANIENT.NS)          5  0.431627    0.363541\n",
              "(Adj Close, ADANIPORTS.NS)        7  0.117205    0.260050\n",
              "...                             ...       ...         ...\n",
              "(Adj Close, UPL.NS)               7  0.101169    0.270219\n",
              "(Adj Close, VEDL.NS)              7  0.104421    0.320815\n",
              "(Adj Close, VOLTAS.NS)            6  0.112209    0.218487\n",
              "(Adj Close, WIPRO.NS)             1  0.141955    0.201008\n",
              "(Adj Close, ZEEL.NS)              3  0.017614    0.415101\n",
              "\n",
              "[159 rows x 3 columns]"
            ]
          },
          "metadata": {},
          "execution_count": 8
        }
      ]
    },
    {
      "cell_type": "markdown",
      "metadata": {
        "id": "AJu_l1rZVWP0"
      },
      "source": [
        "To understand the k-means performance, we resort to the silhouette method, which examines the mean intracluster and the mean near-cluster distance for each sample. The value obtained is considered the silhouette score; it measures the separation. A silhouette score ranges from -1 to 1. Specifically, -1 shows poor model performance, and 1 shows optimal model performance. Listing 5-7 finds the score."
      ]
    },
    {
      "cell_type": "code",
      "metadata": {
        "id": "beVrNmQ_VAhv",
        "outputId": "3b7fa2c9-cd7c-4498-ec6f-e8c4d065d751",
        "colab": {
          "base_uri": "https://localhost:8080/",
          "height": 973
        }
      },
      "source": [
        "for j in range(0,3):\n",
        "  lst=closerv[closerv['Cluster']==j].reset_index()['Symbol'].tolist()\n",
        "  stocklst=[]\n",
        "  for i in lst:\n",
        "    stocklst.append(str(i[1]))\n",
        "    \n",
        "  print(stocklst)   \n",
        "  data=yf.download(stocklst,'2018-01-01')['Adj Close']\n",
        "  fig, ax = plt.subplots()\n",
        "  data['sum']=data.sum(axis=1)\n",
        "  \n",
        "  data['sum'].plot(); \n",
        "  print('Cluster : ' , j) "
      ],
      "execution_count": 32,
      "outputs": [
        {
          "output_type": "stream",
          "name": "stdout",
          "text": [
            "['AMARAJABAT.NS', 'BAJAJ-AUTO.NS', 'BOSCHLTD.NS', 'CADILAHC.NS', 'COALINDIA.NS', 'CUB.NS', 'CUMMINSIND.NS', 'EICHERMOT.NS', 'EXIDEIND.NS', 'GAIL.NS', 'HEROMOTOCO.NS', 'IOC.NS', 'ITC.NS', 'LUPIN.NS', 'MARUTI.NS', 'MGL.NS', 'MRF.NS', 'NTPC.NS', 'PETRONET.NS', 'SUNTV.NS', 'TVSMOTOR.NS']\n",
            "[*********************100%***********************]  21 of 21 completed\n",
            "Cluster :  0\n",
            "['ASIANPAINT.NS', 'BALKRISIND.NS', 'BATAINDIA.NS', 'BERGEPAINT.NS', 'DIVISLAB.NS', 'HAVELLS.NS', 'HCLTECH.NS', 'ICICIBANK.NS', 'INFY.NS', 'NESTLEIND.NS', 'PFIZER.NS', 'PIDILITIND.NS', 'PIIND.NS', 'RELIANCE.NS', 'TATACONSUM.NS', 'TCS.NS', 'TECHM.NS', 'TITAN.NS', 'TORNTPHARM.NS', 'TORNTPOWER.NS', 'WIPRO.NS']\n",
            "[*********************100%***********************]  21 of 21 completed\n",
            "Cluster :  1\n",
            "['AARTIIND.NS', 'APOLLOHOSP.NS', 'BAJAJFINSV.NS', 'BAJFINANCE.NS', 'GUJGASLTD.NS', 'JUBLFOOD.NS', 'LALPATHLAB.NS', 'LTI.NS', 'LTTS.NS', 'METROPOLIS.NS', 'MINDTREE.NS', 'MPHASIS.NS', 'MUTHOOTFIN.NS', 'NAUKRI.NS', 'NAVINFLUOR.NS', 'SRF.NS', 'TRENT.NS']\n",
            "[*********************100%***********************]  17 of 17 completed\n",
            "Cluster :  2\n"
          ]
        },
        {
          "output_type": "display_data",
          "data": {
            "image/png": "[encoded data removed]",
            "text/plain": [
              "<Figure size 432x288 with 1 Axes>"
            ]
          },
          "metadata": {
            "needs_background": "light"
          }
        },
        {
          "output_type": "display_data",
          "data": {
            "image/png": "[encoded data removed]",
            "text/plain": [
              "<Figure size 432x288 with 1 Axes>"
            ]
          },
          "metadata": {
            "needs_background": "light"
          }
        },
        {
          "output_type": "display_data",
          "data": {
            "image/png": "[encoded data removed]",
            "text/plain": [
              "<Figure size 432x288 with 1 Axes>"
            ]
          },
          "metadata": {
            "needs_background": "light"
          }
        }
      ]
    },
    {
      "cell_type": "code",
      "metadata": {
        "id": "d2V4ZUbkVAew"
      },
      "source": [
        ""
      ],
      "execution_count": 17,
      "outputs": []
    },
    {
      "cell_type": "code",
      "source": [
        ""
      ],
      "metadata": {
        "id": "Mw5OWgceOpql"
      },
      "execution_count": 18,
      "outputs": []
    },
    {
      "cell_type": "code",
      "source": [
        ""
      ],
      "metadata": {
        "id": "tN9DUSatOqLk",
        "outputId": "d84d450b-94ce-40b0-c027-0acfed3387d5",
        "colab": {
          "base_uri": "https://localhost:8080/"
        }
      },
      "execution_count": 19,
      "outputs": [
        {
          "output_type": "stream",
          "name": "stdout",
          "text": [
            "[*********************100%***********************]  21 of 21 completed\n"
          ]
        }
      ]
    },
    {
      "cell_type": "code",
      "source": [
        ""
      ],
      "metadata": {
        "id": "EASZLIz0OzB7"
      },
      "execution_count": 20,
      "outputs": []
    },
    {
      "cell_type": "code",
      "source": [
        ""
      ],
      "metadata": {
        "id": "mYoFNjIDO2EF",
        "outputId": "37db81b5-9fd0-4be8-8da8-d106f12bd61f",
        "colab": {
          "base_uri": "https://localhost:8080/",
          "height": 277
        }
      },
      "execution_count": 21,
      "outputs": [
        {
          "output_type": "display_data",
          "data": {
            "image/png": "[encoded data removed]",
            "text/plain": [
              "<Figure size 432x288 with 1 Axes>"
            ]
          },
          "metadata": {
            "needs_background": "light"
          }
        }
      ]
    }
  ]
}