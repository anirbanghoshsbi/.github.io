{
  "nbformat": 4,
  "nbformat_minor": 0,
  "metadata": {
    "colab": {
      "name": "sklearn for support resistance.ipynb",
      "provenance": [],
      "authorship_tag": "ABX9TyNnIULnjnsHyR0v8Qf9ZhXz",
      "include_colab_link": true
    },
    "kernelspec": {
      "name": "python3",
      "display_name": "Python 3"
    },
    "language_info": {
      "name": "python"
    }
  },
  "cells": [
    {
      "cell_type": "markdown",
      "metadata": {
        "id": "view-in-github",
        "colab_type": "text"
      },
      "source": [
        "<a href=\"https://colab.research.google.com/github/anirbanghoshsbi/.github.io/blob/master/unsupervised_learning/kmeans_intraday_data.ipynb\" target=\"_parent\"><img src=\"https://colab.research.google.com/assets/colab-badge.svg\" alt=\"Open In Colab\"/></a>"
      ]
    },
    {
      "cell_type": "code",
      "source": [
        "!pip install kneed"
      ],
      "metadata": {
        "id": "CuKsMT8Atv8-",
        "colab": {
          "base_uri": "https://localhost:8080/"
        },
        "outputId": "cc84812d-e38f-4047-b18e-ba95740d1677"
      },
      "execution_count": 107,
      "outputs": [
        {
          "output_type": "stream",
          "name": "stdout",
          "text": [
            "Requirement already satisfied: kneed in /usr/local/lib/python3.7/dist-packages (0.7.0)\n",
            "Requirement already satisfied: numpy>=1.14.2 in /usr/local/lib/python3.7/dist-packages (from kneed) (1.19.5)\n",
            "Requirement already satisfied: scipy in /usr/local/lib/python3.7/dist-packages (from kneed) (1.4.1)\n",
            "Requirement already satisfied: matplotlib in /usr/local/lib/python3.7/dist-packages (from kneed) (3.2.2)\n",
            "Requirement already satisfied: python-dateutil>=2.1 in /usr/local/lib/python3.7/dist-packages (from matplotlib->kneed) (2.8.2)\n",
            "Requirement already satisfied: kiwisolver>=1.0.1 in /usr/local/lib/python3.7/dist-packages (from matplotlib->kneed) (1.3.2)\n",
            "Requirement already satisfied: cycler>=0.10 in /usr/local/lib/python3.7/dist-packages (from matplotlib->kneed) (0.11.0)\n",
            "Requirement already satisfied: pyparsing!=2.0.4,!=2.1.2,!=2.1.6,>=2.0.1 in /usr/local/lib/python3.7/dist-packages (from matplotlib->kneed) (3.0.6)\n",
            "Requirement already satisfied: six>=1.5 in /usr/local/lib/python3.7/dist-packages (from python-dateutil>=2.1->matplotlib->kneed) (1.15.0)\n"
          ]
        }
      ]
    },
    {
      "cell_type": "code",
      "source": [
        "#!pip install yfinance "
      ],
      "metadata": {
        "id": "AEg7RkxXtp6X"
      },
      "execution_count": 108,
      "outputs": []
    },
    {
      "cell_type": "code",
      "source": [
        "import pandas as pd\n",
        "import numpy as np\n",
        "from sklearn.preprocessing import StandardScaler"
      ],
      "metadata": {
        "id": "RUTkYQU7uDC-"
      },
      "execution_count": 109,
      "outputs": []
    },
    {
      "cell_type": "code",
      "source": [
        "sc=StandardScaler()"
      ],
      "metadata": {
        "id": "l1jurmydC3zz"
      },
      "execution_count": 110,
      "outputs": []
    },
    {
      "cell_type": "code",
      "source": [
        "days_out=15"
      ],
      "metadata": {
        "id": "Ao2XAOAtEDhV"
      },
      "execution_count": 111,
      "outputs": []
    },
    {
      "cell_type": "code",
      "execution_count": 112,
      "metadata": {
        "id": "j8Py_v5Htmuk"
      },
      "outputs": [],
      "source": [
        "#import yfinance as yf\n",
        "#df =yf.download('^nsei','2007-01-01')\n",
        "df=pd.read_csv('/content/nifty_cash_from_aug.csv')\n",
        "df.columns=['S.no','Date','Open','High','Low','Close','Vol']\n",
        "dummy = df['Close'].pct_change(days_out).dropna() #  -df['Close'].rolling(window=200).mean()).dropna()\n",
        "dummy = np.where(abs(dummy)>0.01,dummy,0)\n",
        "X=sc.fit_transform(dummy.reshape(-1,1))\n",
        "from sklearn.cluster import KMeans \n",
        "from kneed import DataGenerator, KneeLocator"
      ]
    },
    {
      "cell_type": "code",
      "source": [
        "sum_of_squared_distances = []\n",
        "K = range(1,15)\n",
        "for k in K:\n",
        "    km = KMeans(n_clusters=k)\n",
        "    km = km.fit(X)\n",
        "    sum_of_squared_distances.append(km.inertia_)\n",
        "kn = KneeLocator(K, sum_of_squared_distances,S=1.0, curve=\"convex\", direction=\"decreasing\")\n",
        "kn.plot_knee()\n",
        "#plt.plot(sum_of_squared_distances)"
      ],
      "metadata": {
        "colab": {
          "base_uri": "https://localhost:8080/",
          "height": 390
        },
        "id": "9fKUq-RIuNaD",
        "outputId": "85c83bb6-a58c-4ec1-cd34-ff5d368ade9a"
      },
      "execution_count": 113,
      "outputs": [
        {
          "output_type": "display_data",
          "data": {
            "image/png": "[encoded data removed]",
            "text/plain": [
              "<Figure size 432x432 with 1 Axes>"
            ]
          },
          "metadata": {
            "needs_background": "light"
          }
        }
      ]
    },
    {
      "cell_type": "code",
      "source": [
        "kn.knee"
      ],
      "metadata": {
        "colab": {
          "base_uri": "https://localhost:8080/"
        },
        "id": "z-Z4f2j-u_h2",
        "outputId": "617c7de5-2373-409d-92ec-a6e2294e313b"
      },
      "execution_count": 114,
      "outputs": [
        {
          "output_type": "execute_result",
          "data": {
            "text/plain": [
              "3"
            ]
          },
          "metadata": {},
          "execution_count": 114
        }
      ]
    },
    {
      "cell_type": "code",
      "source": [
        "kmeans = KMeans(n_clusters= kn.knee).fit(X.reshape(-1,1))\n",
        "c = kmeans.predict(X.reshape(-1,1))\n",
        "minmax = []\n",
        "for i in range(kn.knee):\n",
        "    minmax.append([-np.inf,np.inf])\n",
        "for i in range(len(X)):\n",
        "    cluster = c[i]\n",
        "    if X[i] > minmax[cluster][0]:\n",
        "        minmax[cluster][0] = X[i]\n",
        "    if X[i] < minmax[cluster][1]:\n",
        "        minmax[cluster][1] = X[i]"
      ],
      "metadata": {
        "id": "-JiwsCM0uYnH"
      },
      "execution_count": 115,
      "outputs": []
    },
    {
      "cell_type": "code",
      "source": [
        "pd.Series(c).to_csv('cluster5.csv')"
      ],
      "metadata": {
        "id": "Y-ZtUMtWHitH"
      },
      "execution_count": 116,
      "outputs": []
    },
    {
      "cell_type": "code",
      "source": [
        "minmax"
      ],
      "metadata": {
        "id": "ys1SBiw_GjXV",
        "outputId": "d6997056-b5e2-4b71-b8ed-197d8ebbf0bb",
        "colab": {
          "base_uri": "https://localhost:8080/"
        }
      },
      "execution_count": 117,
      "outputs": [
        {
          "output_type": "execute_result",
          "data": {
            "text/plain": [
              "[[array([-0.03898694]), array([-0.03898694])],\n",
              " [array([-1.33362531]), array([-4.67309318])],\n",
              " [array([3.69560977]), array([1.25747841])]]"
            ]
          },
          "metadata": {},
          "execution_count": 117
        }
      ]
    },
    {
      "cell_type": "code",
      "source": [
        "from matplotlib import pyplot as plt\n",
        "plt.figure(figsize=(10,5))\n",
        "for i in range(len(X[:])):\n",
        "    colors = ['b','g','r','c','y']\n",
        "    c = kmeans.predict(X[i].reshape(-1,1))[0]\n",
        "    color = colors[c]\n",
        "    plt.scatter(i,X[i],c = color,s = 1)\n",
        "    plt.scatter(len(X)-1,X[len(X)-1],c='y')"
      ],
      "metadata": {
        "colab": {
          "base_uri": "https://localhost:8080/",
          "height": 320
        },
        "id": "w6TQ5J0PHma8",
        "outputId": "6c22c2eb-dd07-46eb-b17d-a9750e4ca286"
      },
      "execution_count": 118,
      "outputs": [
        {
          "output_type": "display_data",
          "data": {
            "image/png": "[encoded data removed]",
            "text/plain": [
              "<Figure size 720x360 with 1 Axes>"
            ]
          },
          "metadata": {
            "needs_background": "light"
          }
        }
      ]
    },
    {
      "cell_type": "code",
      "source": [
        "df_new=df[-1500:].copy()\n",
        "X_new=X[-1500:]"
      ],
      "metadata": {
        "id": "F8gAzbRNK7HR"
      },
      "execution_count": 119,
      "outputs": []
    },
    {
      "cell_type": "code",
      "source": [
        "plt.figure(figsize=(10,5))\n",
        "for i in range(len(df_new)):\n",
        "    colors = ['b','g','r','c','y']\n",
        "    c = kmeans.predict(X_new[i].reshape(-1,1))[0]\n",
        "    color = colors[c]\n",
        "    plt.scatter(i,df_new['Close'].iloc[i],c = color,s = 1)\n",
        "plt.savefig('cluster_strangle.png')  "
      ],
      "metadata": {
        "colab": {
          "base_uri": "https://localhost:8080/",
          "height": 320
        },
        "id": "4_y2P3xL1jCy",
        "outputId": "f8c97c70-aa1d-43fe-fb18-c31d5b731f1a"
      },
      "execution_count": 120,
      "outputs": [
        {
          "output_type": "display_data",
          "data": {
            "image/png": "[encoded data removed]",
            "text/plain": [
              "<Figure size 720x360 with 1 Axes>"
            ]
          },
          "metadata": {
            "needs_background": "light"
          }
        }
      ]
    },
    {
      "cell_type": "code",
      "source": [
        "c"
      ],
      "metadata": {
        "id": "YpZQiO91d2Yc",
        "outputId": "c218cba2-6d31-4114-e17f-71d590f2abc3",
        "colab": {
          "base_uri": "https://localhost:8080/"
        }
      },
      "execution_count": 121,
      "outputs": [
        {
          "output_type": "execute_result",
          "data": {
            "text/plain": [
              "0"
            ]
          },
          "metadata": {},
          "execution_count": 121
        }
      ]
    },
    {
      "cell_type": "code",
      "source": [
        "sc.inverse_transform(X[[-1]])"
      ],
      "metadata": {
        "id": "_cc1kg-Y1hTD",
        "outputId": "a238127e-e63f-4671-f767-8f582fac8593",
        "colab": {
          "base_uri": "https://localhost:8080/"
        }
      },
      "execution_count": 122,
      "outputs": [
        {
          "output_type": "execute_result",
          "data": {
            "text/plain": [
              "array([[0.]])"
            ]
          },
          "metadata": {},
          "execution_count": 122
        }
      ]
    },
    {
      "cell_type": "code",
      "source": [
        ""
      ],
      "metadata": {
        "id": "31jMWNlvBawI"
      },
      "execution_count": 122,
      "outputs": []
    },
    {
      "cell_type": "code",
      "source": [
        ""
      ],
      "metadata": {
        "id": "meVb8hLyBaSJ"
      },
      "execution_count": 122,
      "outputs": []
    },
    {
      "cell_type": "code",
      "source": [
        "'''    \n",
        "for i in range(len(minmax)):\n",
        "    plt.hlines(minmax[i][0],xmin = 0,xmax = len(X),colors = 'g')\n",
        "    plt.hlines(minmax[i][1],xmin = 0,xmax = len(X),colors = 'r')\n",
        "'''    "
      ],
      "metadata": {
        "id": "xqQBNTAlxUKs",
        "outputId": "61dec5df-c9be-4141-a5de-33c6f5c3b45d",
        "colab": {
          "base_uri": "https://localhost:8080/",
          "height": 52
        }
      },
      "execution_count": 123,
      "outputs": [
        {
          "output_type": "execute_result",
          "data": {
            "application/vnd.google.colaboratory.intrinsic+json": {
              "type": "string"
            },
            "text/plain": [
              "\"    \\nfor i in range(len(minmax)):\\n    plt.hlines(minmax[i][0],xmin = 0,xmax = len(X),colors = 'g')\\n    plt.hlines(minmax[i][1],xmin = 0,xmax = len(X),colors = 'r')\\n\""
            ]
          },
          "metadata": {},
          "execution_count": 123
        }
      ]
    }
  ]
}