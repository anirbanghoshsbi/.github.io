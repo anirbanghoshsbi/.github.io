{
  "nbformat": 4,
  "nbformat_minor": 0,
  "metadata": {
    "colab": {
      "name": "Download_SUB_sector_by_name.ipynb",
      "provenance": [],
      "authorship_tag": "ABX9TyMkEYlFLCzVlbUJexMiLTwP",
      "include_colab_link": true
    },
    "kernelspec": {
      "name": "python3",
      "display_name": "Python 3"
    },
    "language_info": {
      "name": "python"
    }
  },
  "cells": [
    {
      "cell_type": "markdown",
      "metadata": {
        "id": "view-in-github",
        "colab_type": "text"
      },
      "source": [
        "<a href=\"https://colab.research.google.com/github/anirbanghoshsbi/.github.io/blob/master/Download_SUB_sector_by_name.ipynb\" target=\"_parent\"><img src=\"https://colab.research.google.com/assets/colab-badge.svg\" alt=\"Open In Colab\"/></a>"
      ]
    },
    {
      "cell_type": "code",
      "metadata": {
        "id": "bsx6QOk7LmmH"
      },
      "source": [
        "import pandas as pd"
      ],
      "execution_count": 1,
      "outputs": []
    },
    {
      "cell_type": "code",
      "metadata": {
        "id": "tGf-zLl-LqJI"
      },
      "source": [
        "data = pd.read_html('https://www.moneycontrol.com/stocks/marketinfo/marketcap/bse/finance-stock-broking.html')"
      ],
      "execution_count": 15,
      "outputs": []
    },
    {
      "cell_type": "code",
      "metadata": {
        "id": "9jRuzUntLxwV"
      },
      "source": [
        "data_clean=pd.DataFrame()\n",
        "data_clean['Company Name']=data[1]['Company Name'].apply(lambda x: x.replace('Add to Watchlist', ' '))"
      ],
      "execution_count": 18,
      "outputs": []
    },
    {
      "cell_type": "code",
      "metadata": {
        "id": "7xtrupGnM9-i"
      },
      "source": [
        "data_clean['Company Name']=data_clean['Company Name'].apply(lambda x : x.replace('Add to Portfolio',' '))"
      ],
      "execution_count": 21,
      "outputs": []
    },
    {
      "cell_type": "code",
      "metadata": {
        "id": "xcNUrIriQ1l6"
      },
      "source": [
        "lst=data_clean['Company Name'].tolist()"
      ],
      "execution_count": 26,
      "outputs": []
    },
    {
      "cell_type": "code",
      "metadata": {
        "id": "Bpob3ktyN3Jv"
      },
      "source": [
        "bse_metadata=pd.read_csv('https://raw.githubusercontent.com/anirbanghoshsbi/data/main/BSE_metadata.csv')"
      ],
      "execution_count": 23,
      "outputs": []
    },
    {
      "cell_type": "code",
      "metadata": {
        "colab": {
          "base_uri": "https://localhost:8080/",
          "height": 143
        },
        "id": "BzWZKv4AMJfn",
        "outputId": "06b84c70-9018-4b28-ef53-7e6bb54ea9a8"
      },
      "source": [
        "bse_metadata.head(2)"
      ],
      "execution_count": 24,
      "outputs": [
        {
          "output_type": "execute_result",
          "data": {
            "text/html": [
              "<div>\n",
              "<style scoped>\n",
              "    .dataframe tbody tr th:only-of-type {\n",
              "        vertical-align: middle;\n",
              "    }\n",
              "\n",
              "    .dataframe tbody tr th {\n",
              "        vertical-align: top;\n",
              "    }\n",
              "\n",
              "    .dataframe thead th {\n",
              "        text-align: right;\n",
              "    }\n",
              "</style>\n",
              "<table border=\"1\" class=\"dataframe\">\n",
              "  <thead>\n",
              "    <tr style=\"text-align: right;\">\n",
              "      <th></th>\n",
              "      <th>code</th>\n",
              "      <th>name</th>\n",
              "      <th>description</th>\n",
              "      <th>refreshed_at</th>\n",
              "      <th>from_date</th>\n",
              "      <th>to_date</th>\n",
              "    </tr>\n",
              "  </thead>\n",
              "  <tbody>\n",
              "    <tr>\n",
              "      <th>0</th>\n",
              "      <td>BOM500002</td>\n",
              "      <td>ABB India Limited EOD Prices</td>\n",
              "      <td>End of Day prices and additional trading infor...</td>\n",
              "      <td>2021-06-04 14:10:05</td>\n",
              "      <td>1992-03-02</td>\n",
              "      <td>2021-06-04</td>\n",
              "    </tr>\n",
              "    <tr>\n",
              "      <th>1</th>\n",
              "      <td>BOM500003</td>\n",
              "      <td>AEGIS LOGISTICS LTD. EOD Prices</td>\n",
              "      <td>End of Day prices and additional trading infor...</td>\n",
              "      <td>2021-06-04 14:10:05</td>\n",
              "      <td>1992-03-02</td>\n",
              "      <td>2021-06-04</td>\n",
              "    </tr>\n",
              "  </tbody>\n",
              "</table>\n",
              "</div>"
            ],
            "text/plain": [
              "        code                             name  ...   from_date     to_date\n",
              "0  BOM500002     ABB India Limited EOD Prices  ...  1992-03-02  2021-06-04\n",
              "1  BOM500003  AEGIS LOGISTICS LTD. EOD Prices  ...  1992-03-02  2021-06-04\n",
              "\n",
              "[2 rows x 6 columns]"
            ]
          },
          "metadata": {
            "tags": []
          },
          "execution_count": 24
        }
      ]
    },
    {
      "cell_type": "markdown",
      "metadata": {
        "id": "Lp6e0SP_iYKS"
      },
      "source": [
        "# Write to a Dictionary "
      ]
    },
    {
      "cell_type": "code",
      "metadata": {
        "id": "DxorsZkfTYpA"
      },
      "source": [
        "dict_data={}\n",
        "\n",
        "for name,row in bse_metadata.iterrows():\n",
        "   dict_data[row[0]]=row[1]\n",
        "  "
      ],
      "execution_count": 62,
      "outputs": []
    },
    {
      "cell_type": "code",
      "metadata": {
        "id": "JFwErFMeT6Lq"
      },
      "source": [
        "lst=[i.strip() for i in lst]  "
      ],
      "execution_count": 57,
      "outputs": []
    },
    {
      "cell_type": "code",
      "metadata": {
        "id": "HCI76RXXUXd_"
      },
      "source": [
        "stock_broker={}\n",
        "for key,value in dict_data.items():\n",
        "  for i in range(len(lst)):\n",
        "    #print(i)\n",
        "    #print(lst[i].lower())\n",
        "    #print(dict_data[key].lower())\n",
        "    if lst[i].lower() in dict_data[key].lower():\n",
        "        stock_broker[key]=dict_data[key]\n"
      ],
      "execution_count": 71,
      "outputs": []
    },
    {
      "cell_type": "markdown",
      "metadata": {
        "id": "FxrVDy8kiDOq"
      },
      "source": [
        "# Read from Saved Dictionary "
      ]
    },
    {
      "cell_type": "code",
      "metadata": {
        "id": "uLkgCeHZU1QT"
      },
      "source": [
        "with open('/content/stock_broker_sector.txt' ,'w') as f:\n",
        "  f.write(str(stock_broker))\n"
      ],
      "execution_count": 78,
      "outputs": []
    },
    {
      "cell_type": "code",
      "metadata": {
        "id": "dQl2cgk8g26j"
      },
      "source": [
        "import ast\n",
        "with open('https://raw.githubusercontent.com/anirbanghoshsbi/data/main/stock_broker_sector.txt' ,'r') as f:\n",
        "  stock=f.read()"
      ],
      "execution_count": 86,
      "outputs": []
    },
    {
      "cell_type": "code",
      "metadata": {
        "id": "iqvA60pjhIUu"
      },
      "source": [
        "stock=ast.literal_eval(stock)"
      ],
      "execution_count": 87,
      "outputs": []
    },
    {
      "cell_type": "code",
      "metadata": {
        "colab": {
          "base_uri": "https://localhost:8080/",
          "height": 35
        },
        "id": "uF7CBDh3hJEH",
        "outputId": "9a038c85-8936-4447-98db-d68bb2475545"
      },
      "source": [
        "stock['BOM500337']"
      ],
      "execution_count": 90,
      "outputs": [
        {
          "output_type": "execute_result",
          "data": {
            "application/vnd.google.colaboratory.intrinsic+json": {
              "type": "string"
            },
            "text/plain": [
              "'PRIME SECURITIES LTD. EOD Prices'"
            ]
          },
          "metadata": {
            "tags": []
          },
          "execution_count": 90
        }
      ]
    },
    {
      "cell_type": "code",
      "metadata": {
        "id": "zked9zHih8mH"
      },
      "source": [
        ""
      ],
      "execution_count": null,
      "outputs": []
    }
  ]
}
