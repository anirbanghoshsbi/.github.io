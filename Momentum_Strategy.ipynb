{
  "nbformat": 4,
  "nbformat_minor": 0,
  "metadata": {
    "colab": {
      "name": "Momentum_Strategy.ipynb",
      "provenance": [],
      "collapsed_sections": [],
      "authorship_tag": "ABX9TyPMT9zA1+TtsuO2F6/yyz34",
      "include_colab_link": true
    },
    "kernelspec": {
      "name": "python3",
      "display_name": "Python 3"
    },
    "language_info": {
      "name": "python"
    }
  },
  "cells": [
    {
      "cell_type": "markdown",
      "metadata": {
        "id": "view-in-github",
        "colab_type": "text"
      },
      "source": [
        "<a href=\"https://colab.research.google.com/github/anirbanghoshsbi/.github.io/blob/master/Momentum_Strategy.ipynb\" target=\"_parent\"><img src=\"https://colab.research.google.com/assets/colab-badge.svg\" alt=\"Open In Colab\"/></a>"
      ]
    },
    {
      "cell_type": "code",
      "metadata": {
        "id": "zXYlvXIPVleT",
        "colab": {
          "base_uri": "https://localhost:8080/"
        },
        "outputId": "0c8ee52c-e194-4d48-ae82-ef69ac29012d"
      },
      "source": [
        "!pip install yfinance"
      ],
      "execution_count": 1,
      "outputs": [
        {
          "output_type": "stream",
          "name": "stdout",
          "text": [
            "Collecting yfinance\n",
            "  Downloading yfinance-0.1.67-py2.py3-none-any.whl (25 kB)\n",
            "Requirement already satisfied: numpy>=1.15 in /usr/local/lib/python3.7/dist-packages (from yfinance) (1.19.5)\n",
            "Collecting lxml>=4.5.1\n",
            "  Downloading lxml-4.6.4-cp37-cp37m-manylinux_2_17_x86_64.manylinux2014_x86_64.manylinux_2_24_x86_64.whl (6.3 MB)\n",
            "\u001b[K     |████████████████████████████████| 6.3 MB 33.2 MB/s \n",
            "\u001b[?25hRequirement already satisfied: requests>=2.20 in /usr/local/lib/python3.7/dist-packages (from yfinance) (2.23.0)\n",
            "Requirement already satisfied: multitasking>=0.0.7 in /usr/local/lib/python3.7/dist-packages (from yfinance) (0.0.10)\n",
            "Requirement already satisfied: pandas>=0.24 in /usr/local/lib/python3.7/dist-packages (from yfinance) (1.1.5)\n",
            "Requirement already satisfied: python-dateutil>=2.7.3 in /usr/local/lib/python3.7/dist-packages (from pandas>=0.24->yfinance) (2.8.2)\n",
            "Requirement already satisfied: pytz>=2017.2 in /usr/local/lib/python3.7/dist-packages (from pandas>=0.24->yfinance) (2018.9)\n",
            "Requirement already satisfied: six>=1.5 in /usr/local/lib/python3.7/dist-packages (from python-dateutil>=2.7.3->pandas>=0.24->yfinance) (1.15.0)\n",
            "Requirement already satisfied: idna<3,>=2.5 in /usr/local/lib/python3.7/dist-packages (from requests>=2.20->yfinance) (2.10)\n",
            "Requirement already satisfied: chardet<4,>=3.0.2 in /usr/local/lib/python3.7/dist-packages (from requests>=2.20->yfinance) (3.0.4)\n",
            "Requirement already satisfied: urllib3!=1.25.0,!=1.25.1,<1.26,>=1.21.1 in /usr/local/lib/python3.7/dist-packages (from requests>=2.20->yfinance) (1.24.3)\n",
            "Requirement already satisfied: certifi>=2017.4.17 in /usr/local/lib/python3.7/dist-packages (from requests>=2.20->yfinance) (2021.10.8)\n",
            "Installing collected packages: lxml, yfinance\n",
            "  Attempting uninstall: lxml\n",
            "    Found existing installation: lxml 4.2.6\n",
            "    Uninstalling lxml-4.2.6:\n",
            "      Successfully uninstalled lxml-4.2.6\n",
            "Successfully installed lxml-4.6.4 yfinance-0.1.67\n"
          ]
        }
      ]
    },
    {
      "cell_type": "code",
      "metadata": {
        "id": "9EEstG84__n2"
      },
      "source": [
        "# import necessary packages\n",
        "import yfinance as yf\n",
        "import pandas as pd\n",
        "import numpy as np\n",
        "import pandas_datareader.data as reader\n",
        "import datetime as dt\n",
        "from pandas.tseries.offsets import MonthEnd"
      ],
      "execution_count": 2,
      "outputs": []
    },
    {
      "cell_type": "code",
      "metadata": {
        "id": "U8P95Apktyn9"
      },
      "source": [
        "symbols=pd.read_csv('https://raw.githubusercontent.com/anirbanghoshsbi/nifty500/main/ind_nifty500list.csv')"
      ],
      "execution_count": 3,
      "outputs": []
    },
    {
      "cell_type": "code",
      "metadata": {
        "id": "kGA1UR6fsmq7"
      },
      "source": [
        "symbols['data']=symbols.Symbol+'.NS'\n"
      ],
      "execution_count": 4,
      "outputs": []
    },
    {
      "cell_type": "code",
      "metadata": {
        "id": "TfRjNy9PsyIE"
      },
      "source": [
        "ticker=symbols.data.tolist()"
      ],
      "execution_count": 5,
      "outputs": []
    },
    {
      "cell_type": "code",
      "metadata": {
        "id": "k7XL8_BKAnFE"
      },
      "source": [
        "# Get ticker symbol for NSE 50 stocks\n",
        "#symbols=pd.read_html('https://in.finance.yahoo.com/quote/%5ENSEI/components?p=%5ENSEI')[0]\n",
        "#ticker=symbols.Symbol.to_list()\n"
      ],
      "execution_count": 6,
      "outputs": []
    },
    {
      "cell_type": "code",
      "metadata": {
        "id": "ghs0vScR4ijh"
      },
      "source": [
        "#symbols=pd.read_html('https://www.moneycontrol.com/financials/tatasteel/balance-sheetVI/TIS#TIS')"
      ],
      "execution_count": 7,
      "outputs": []
    },
    {
      "cell_type": "code",
      "metadata": {
        "id": "Wc_gi8y34oDX"
      },
      "source": [
        "#symbols[0]"
      ],
      "execution_count": 8,
      "outputs": []
    },
    {
      "cell_type": "code",
      "metadata": {
        "colab": {
          "base_uri": "https://localhost:8080/"
        },
        "id": "yuXSVp1aFikf",
        "outputId": "b1e76f88-50f8-4a27-cbc2-b768969237ac"
      },
      "source": [
        "#Get the NSE Component prices\n",
        "start_date = dt.datetime(2018,1,31)\n",
        "end_date= dt.datetime(2021,12,11)\n",
        "df =yf.download(ticker,start_date,end_date)['Adj Close']"
      ],
      "execution_count": 9,
      "outputs": [
        {
          "output_type": "stream",
          "name": "stdout",
          "text": [
            "[*********************100%***********************]  501 of 501 completed\n",
            "\n",
            "1 Failed download:\n",
            "- ORIENTREF.NS: No data found, symbol may be delisted\n"
          ]
        }
      ]
    },
    {
      "cell_type": "code",
      "source": [
        "df.to_csv('data_500.csv')"
      ],
      "metadata": {
        "id": "Rur42Kjumb0S"
      },
      "execution_count": 690,
      "outputs": []
    },
    {
      "cell_type": "code",
      "metadata": {
        "id": "Ud7yi3azJAx-"
      },
      "source": [
        "# Get daily return and then cummulate it to monthly/Quartelry/Half yealrly /Annually return\n",
        "monthly_return = df.pct_change().resample('M').agg(lambda x:(x+1).prod()-1)\n",
        "#quarterly_return = df.pct_change().resample('Q').agg(lambda x:(x+1).prod()-1)\n",
        "#halfyearly_return = df.pct_change().resample('H').agg(lambda x:(x+1).prod()-1)\n",
        "#annual_return= df.pct_change().resample('Y').agg(lambda x:(x+1).prod()-1)\n"
      ],
      "execution_count": 10,
      "outputs": []
    },
    {
      "cell_type": "code",
      "metadata": {
        "id": "t0gB6vI2J0J9"
      },
      "source": [
        "#Calculate returns over last 11 months to 6 months\n",
        "past_11 = (monthly_return+1).rolling(11).apply(np.prod)-1\n",
        "past_10 = (monthly_return+1).rolling(10).apply(np.prod)-1\n",
        "past_9 = (monthly_return+1).rolling(9).apply(np.prod)-1\n",
        "past_8 = (monthly_return+1).rolling(8).apply(np.prod)-1\n",
        "past_7 = (monthly_return+1).rolling(7).apply(np.prod)-1\n",
        "past_6 = (monthly_return+1).rolling(6).apply(np.prod)-1"
      ],
      "execution_count": 11,
      "outputs": []
    },
    {
      "cell_type": "code",
      "source": [
        "#past_q_1= (quarterly_return+1).rolling(3).apply(np.prod)-1\n",
        "#past_q_2= (quarterly_return+1).rolling(6).apply(np.prod)-1\n",
        "#past_q_3= (quarterly_return+1).rolling(9).apply(np.prod)-1"
      ],
      "metadata": {
        "id": "Gmb_OOiftBXL"
      },
      "execution_count": 12,
      "outputs": []
    },
    {
      "cell_type": "code",
      "metadata": {
        "id": "B3Iskk9FNi_y"
      },
      "source": [
        "formation=dt.datetime(2021,10,31)"
      ],
      "execution_count": 652,
      "outputs": []
    },
    {
      "cell_type": "code",
      "metadata": {
        "id": "MJqcyQMHMf9B"
      },
      "source": [
        "from pandas.tseries.offsets import MonthEnd\n",
        "end_measurement11= formation- MonthEnd(1)\n",
        "end_measurement10 = formation-MonthEnd(2)\n",
        "\n",
        "end_measurement09 = formation-MonthEnd(3)\n",
        "end_measurement08 = formation-MonthEnd(4)\n",
        "end_measurement07 = formation-MonthEnd(5)\n",
        "end_measurement06 = formation-MonthEnd(6)"
      ],
      "execution_count": 653,
      "outputs": []
    },
    {
      "cell_type": "code",
      "metadata": {
        "colab": {
          "base_uri": "https://localhost:8080/"
        },
        "id": "w6awDUNKNU8A",
        "outputId": "b120751e-5258-479b-8c63-9893982efa97"
      },
      "source": [
        "end_measurement11"
      ],
      "execution_count": 654,
      "outputs": [
        {
          "output_type": "execute_result",
          "data": {
            "text/plain": [
              "Timestamp('2021-09-30 00:00:00')"
            ]
          },
          "metadata": {},
          "execution_count": 654
        }
      ]
    },
    {
      "cell_type": "code",
      "source": [
        "past_11.tail(2)"
      ],
      "metadata": {
        "colab": {
          "base_uri": "https://localhost:8080/",
          "height": 227
        },
        "id": "Cs2vXBxXvhS0",
        "outputId": "71b6b6a7-36aa-461d-a6ca-825a28d6e2cd"
      },
      "execution_count": 655,
      "outputs": [
        {
          "output_type": "execute_result",
          "data": {
            "text/html": [
              "<div>\n",
              "<style scoped>\n",
              "    .dataframe tbody tr th:only-of-type {\n",
              "        vertical-align: middle;\n",
              "    }\n",
              "\n",
              "    .dataframe tbody tr th {\n",
              "        vertical-align: top;\n",
              "    }\n",
              "\n",
              "    .dataframe thead th {\n",
              "        text-align: right;\n",
              "    }\n",
              "</style>\n",
              "<table border=\"1\" class=\"dataframe\">\n",
              "  <thead>\n",
              "    <tr style=\"text-align: right;\">\n",
              "      <th></th>\n",
              "      <th>3MINDIA.NS</th>\n",
              "      <th>AARTIDRUGS.NS</th>\n",
              "      <th>AARTIIND.NS</th>\n",
              "      <th>AAVAS.NS</th>\n",
              "      <th>ABB.NS</th>\n",
              "      <th>ABBOTINDIA.NS</th>\n",
              "      <th>ABCAPITAL.NS</th>\n",
              "      <th>ABFRL.NS</th>\n",
              "      <th>ACC.NS</th>\n",
              "      <th>ADANIENT.NS</th>\n",
              "      <th>ADANIGREEN.NS</th>\n",
              "      <th>ADANIPORTS.NS</th>\n",
              "      <th>ADANITRANS.NS</th>\n",
              "      <th>ADVENZYMES.NS</th>\n",
              "      <th>AEGISCHEM.NS</th>\n",
              "      <th>AFFLE.NS</th>\n",
              "      <th>AIAENG.NS</th>\n",
              "      <th>AJANTPHARM.NS</th>\n",
              "      <th>AKZOINDIA.NS</th>\n",
              "      <th>ALEMBICLTD.NS</th>\n",
              "      <th>ALKEM.NS</th>\n",
              "      <th>ALKYLAMINE.NS</th>\n",
              "      <th>ALOKINDS.NS</th>\n",
              "      <th>AMARAJABAT.NS</th>\n",
              "      <th>AMBER.NS</th>\n",
              "      <th>AMBUJACEM.NS</th>\n",
              "      <th>ANGELBRKG.NS</th>\n",
              "      <th>APLAPOLLO.NS</th>\n",
              "      <th>APLLTD.NS</th>\n",
              "      <th>APOLLOHOSP.NS</th>\n",
              "      <th>APOLLOTYRE.NS</th>\n",
              "      <th>ASAHIINDIA.NS</th>\n",
              "      <th>ASHOKA.NS</th>\n",
              "      <th>ASHOKLEY.NS</th>\n",
              "      <th>ASIANPAINT.NS</th>\n",
              "      <th>ASTERDM.NS</th>\n",
              "      <th>ASTRAL.NS</th>\n",
              "      <th>ASTRAZEN.NS</th>\n",
              "      <th>ATGL.NS</th>\n",
              "      <th>ATUL.NS</th>\n",
              "      <th>...</th>\n",
              "      <th>TRENT.NS</th>\n",
              "      <th>TRIDENT.NS</th>\n",
              "      <th>TRITURBINE.NS</th>\n",
              "      <th>TTKPRESTIG.NS</th>\n",
              "      <th>TV18BRDCST.NS</th>\n",
              "      <th>TVSMOTOR.NS</th>\n",
              "      <th>UBL.NS</th>\n",
              "      <th>UCOBANK.NS</th>\n",
              "      <th>UFLEX.NS</th>\n",
              "      <th>UJJIVAN.NS</th>\n",
              "      <th>UJJIVANSFB.NS</th>\n",
              "      <th>ULTRACEMCO.NS</th>\n",
              "      <th>UNIONBANK.NS</th>\n",
              "      <th>UPL.NS</th>\n",
              "      <th>UTIAMC.NS</th>\n",
              "      <th>VAIBHAVGBL.NS</th>\n",
              "      <th>VAKRANGEE.NS</th>\n",
              "      <th>VALIANTORG.NS</th>\n",
              "      <th>VARROC.NS</th>\n",
              "      <th>VBL.NS</th>\n",
              "      <th>VEDL.NS</th>\n",
              "      <th>VENKEYS.NS</th>\n",
              "      <th>VGUARD.NS</th>\n",
              "      <th>VINATIORGA.NS</th>\n",
              "      <th>VIPIND.NS</th>\n",
              "      <th>VMART.NS</th>\n",
              "      <th>VOLTAS.NS</th>\n",
              "      <th>VSTIND.NS</th>\n",
              "      <th>VTL.NS</th>\n",
              "      <th>WABCOINDIA.NS</th>\n",
              "      <th>WELCORP.NS</th>\n",
              "      <th>WELSPUNIND.NS</th>\n",
              "      <th>WESTLIFE.NS</th>\n",
              "      <th>WHIRLPOOL.NS</th>\n",
              "      <th>WIPRO.NS</th>\n",
              "      <th>WOCKPHARMA.NS</th>\n",
              "      <th>YESBANK.NS</th>\n",
              "      <th>ZEEL.NS</th>\n",
              "      <th>ZENSARTECH.NS</th>\n",
              "      <th>ZYDUSWELL.NS</th>\n",
              "    </tr>\n",
              "    <tr>\n",
              "      <th>Date</th>\n",
              "      <th></th>\n",
              "      <th></th>\n",
              "      <th></th>\n",
              "      <th></th>\n",
              "      <th></th>\n",
              "      <th></th>\n",
              "      <th></th>\n",
              "      <th></th>\n",
              "      <th></th>\n",
              "      <th></th>\n",
              "      <th></th>\n",
              "      <th></th>\n",
              "      <th></th>\n",
              "      <th></th>\n",
              "      <th></th>\n",
              "      <th></th>\n",
              "      <th></th>\n",
              "      <th></th>\n",
              "      <th></th>\n",
              "      <th></th>\n",
              "      <th></th>\n",
              "      <th></th>\n",
              "      <th></th>\n",
              "      <th></th>\n",
              "      <th></th>\n",
              "      <th></th>\n",
              "      <th></th>\n",
              "      <th></th>\n",
              "      <th></th>\n",
              "      <th></th>\n",
              "      <th></th>\n",
              "      <th></th>\n",
              "      <th></th>\n",
              "      <th></th>\n",
              "      <th></th>\n",
              "      <th></th>\n",
              "      <th></th>\n",
              "      <th></th>\n",
              "      <th></th>\n",
              "      <th></th>\n",
              "      <th></th>\n",
              "      <th></th>\n",
              "      <th></th>\n",
              "      <th></th>\n",
              "      <th></th>\n",
              "      <th></th>\n",
              "      <th></th>\n",
              "      <th></th>\n",
              "      <th></th>\n",
              "      <th></th>\n",
              "      <th></th>\n",
              "      <th></th>\n",
              "      <th></th>\n",
              "      <th></th>\n",
              "      <th></th>\n",
              "      <th></th>\n",
              "      <th></th>\n",
              "      <th></th>\n",
              "      <th></th>\n",
              "      <th></th>\n",
              "      <th></th>\n",
              "      <th></th>\n",
              "      <th></th>\n",
              "      <th></th>\n",
              "      <th></th>\n",
              "      <th></th>\n",
              "      <th></th>\n",
              "      <th></th>\n",
              "      <th></th>\n",
              "      <th></th>\n",
              "      <th></th>\n",
              "      <th></th>\n",
              "      <th></th>\n",
              "      <th></th>\n",
              "      <th></th>\n",
              "      <th></th>\n",
              "      <th></th>\n",
              "      <th></th>\n",
              "      <th></th>\n",
              "      <th></th>\n",
              "      <th></th>\n",
              "    </tr>\n",
              "  </thead>\n",
              "  <tbody>\n",
              "    <tr>\n",
              "      <th>2021-11-30</th>\n",
              "      <td>0.201812</td>\n",
              "      <td>-0.281359</td>\n",
              "      <td>0.522199</td>\n",
              "      <td>0.660847</td>\n",
              "      <td>0.713492</td>\n",
              "      <td>0.221247</td>\n",
              "      <td>0.283529</td>\n",
              "      <td>0.540459</td>\n",
              "      <td>0.424116</td>\n",
              "      <td>2.469823</td>\n",
              "      <td>0.230667</td>\n",
              "      <td>0.423547</td>\n",
              "      <td>3.113143</td>\n",
              "      <td>-0.019455</td>\n",
              "      <td>-0.082506</td>\n",
              "      <td>0.518905</td>\n",
              "      <td>-0.034364</td>\n",
              "      <td>0.279290</td>\n",
              "      <td>-0.122354</td>\n",
              "      <td>-0.055428</td>\n",
              "      <td>0.240542</td>\n",
              "      <td>1.087818</td>\n",
              "      <td>-0.083691</td>\n",
              "      <td>-0.317478</td>\n",
              "      <td>0.287593</td>\n",
              "      <td>0.510700</td>\n",
              "      <td>2.291607</td>\n",
              "      <td>1.092865</td>\n",
              "      <td>-0.208193</td>\n",
              "      <td>1.358762</td>\n",
              "      <td>0.166132</td>\n",
              "      <td>0.750823</td>\n",
              "      <td>0.038316</td>\n",
              "      <td>0.266463</td>\n",
              "      <td>0.144128</td>\n",
              "      <td>0.157673</td>\n",
              "      <td>0.645264</td>\n",
              "      <td>-0.320409</td>\n",
              "      <td>3.260259</td>\n",
              "      <td>0.356834</td>\n",
              "      <td>...</td>\n",
              "      <td>0.476238</td>\n",
              "      <td>4.417585</td>\n",
              "      <td>1.315048</td>\n",
              "      <td>0.618932</td>\n",
              "      <td>0.333333</td>\n",
              "      <td>0.423581</td>\n",
              "      <td>0.268488</td>\n",
              "      <td>0.019685</td>\n",
              "      <td>0.307087</td>\n",
              "      <td>-0.509325</td>\n",
              "      <td>-0.536896</td>\n",
              "      <td>0.412597</td>\n",
              "      <td>0.362916</td>\n",
              "      <td>0.479562</td>\n",
              "      <td>1.010173</td>\n",
              "      <td>0.013332</td>\n",
              "      <td>-0.504088</td>\n",
              "      <td>-0.343253</td>\n",
              "      <td>-0.257549</td>\n",
              "      <td>0.464560</td>\n",
              "      <td>1.231798</td>\n",
              "      <td>0.433047</td>\n",
              "      <td>0.327173</td>\n",
              "      <td>0.563673</td>\n",
              "      <td>0.533882</td>\n",
              "      <td>0.552695</td>\n",
              "      <td>0.469277</td>\n",
              "      <td>-0.101047</td>\n",
              "      <td>0.922626</td>\n",
              "      <td>0.462904</td>\n",
              "      <td>0.288034</td>\n",
              "      <td>1.034020</td>\n",
              "      <td>0.201797</td>\n",
              "      <td>-0.221562</td>\n",
              "      <td>0.653547</td>\n",
              "      <td>-0.203092</td>\n",
              "      <td>-0.305322</td>\n",
              "      <td>0.472177</td>\n",
              "      <td>0.899905</td>\n",
              "      <td>-0.010993</td>\n",
              "    </tr>\n",
              "    <tr>\n",
              "      <th>2021-12-31</th>\n",
              "      <td>0.318146</td>\n",
              "      <td>-0.142263</td>\n",
              "      <td>0.688176</td>\n",
              "      <td>0.429069</td>\n",
              "      <td>0.642916</td>\n",
              "      <td>0.323797</td>\n",
              "      <td>0.537747</td>\n",
              "      <td>0.809793</td>\n",
              "      <td>0.454683</td>\n",
              "      <td>2.437393</td>\n",
              "      <td>0.382128</td>\n",
              "      <td>0.516732</td>\n",
              "      <td>3.073020</td>\n",
              "      <td>0.124618</td>\n",
              "      <td>-0.142491</td>\n",
              "      <td>0.486492</td>\n",
              "      <td>-0.041759</td>\n",
              "      <td>0.201203</td>\n",
              "      <td>-0.054338</td>\n",
              "      <td>0.108905</td>\n",
              "      <td>0.147009</td>\n",
              "      <td>0.687897</td>\n",
              "      <td>0.098824</td>\n",
              "      <td>-0.284304</td>\n",
              "      <td>0.266596</td>\n",
              "      <td>0.557421</td>\n",
              "      <td>2.248839</td>\n",
              "      <td>1.173385</td>\n",
              "      <td>-0.136623</td>\n",
              "      <td>1.049195</td>\n",
              "      <td>0.120557</td>\n",
              "      <td>0.803937</td>\n",
              "      <td>0.111556</td>\n",
              "      <td>0.165749</td>\n",
              "      <td>0.372172</td>\n",
              "      <td>0.226254</td>\n",
              "      <td>0.770056</td>\n",
              "      <td>-0.132930</td>\n",
              "      <td>3.790306</td>\n",
              "      <td>0.400254</td>\n",
              "      <td>...</td>\n",
              "      <td>0.667806</td>\n",
              "      <td>2.890961</td>\n",
              "      <td>1.224758</td>\n",
              "      <td>0.849662</td>\n",
              "      <td>0.776786</td>\n",
              "      <td>0.223760</td>\n",
              "      <td>0.228285</td>\n",
              "      <td>0.070039</td>\n",
              "      <td>0.521800</td>\n",
              "      <td>-0.425076</td>\n",
              "      <td>-0.453782</td>\n",
              "      <td>0.403493</td>\n",
              "      <td>0.568438</td>\n",
              "      <td>0.331351</td>\n",
              "      <td>0.831899</td>\n",
              "      <td>0.136414</td>\n",
              "      <td>-0.289955</td>\n",
              "      <td>-0.205213</td>\n",
              "      <td>-0.208428</td>\n",
              "      <td>0.492665</td>\n",
              "      <td>1.305403</td>\n",
              "      <td>0.720016</td>\n",
              "      <td>0.042055</td>\n",
              "      <td>0.558085</td>\n",
              "      <td>0.619223</td>\n",
              "      <td>0.484201</td>\n",
              "      <td>0.391213</td>\n",
              "      <td>-0.032173</td>\n",
              "      <td>0.932249</td>\n",
              "      <td>0.480956</td>\n",
              "      <td>0.587683</td>\n",
              "      <td>1.201532</td>\n",
              "      <td>0.257419</td>\n",
              "      <td>-0.246733</td>\n",
              "      <td>0.527279</td>\n",
              "      <td>-0.088244</td>\n",
              "      <td>-0.082540</td>\n",
              "      <td>0.710968</td>\n",
              "      <td>0.873493</td>\n",
              "      <td>0.031790</td>\n",
              "    </tr>\n",
              "  </tbody>\n",
              "</table>\n",
              "<p>2 rows × 501 columns</p>\n",
              "</div>"
            ],
            "text/plain": [
              "            3MINDIA.NS  AARTIDRUGS.NS  ...  ZENSARTECH.NS  ZYDUSWELL.NS\n",
              "Date                                   ...                             \n",
              "2021-11-30    0.201812      -0.281359  ...       0.899905     -0.010993\n",
              "2021-12-31    0.318146      -0.142263  ...       0.873493      0.031790\n",
              "\n",
              "[2 rows x 501 columns]"
            ]
          },
          "metadata": {},
          "execution_count": 655
        }
      ]
    },
    {
      "cell_type": "code",
      "metadata": {
        "id": "ELqVPHQNLaWH"
      },
      "source": [
        "ret_12 = past_11.loc[end_measurement11]"
      ],
      "execution_count": 656,
      "outputs": []
    },
    {
      "cell_type": "code",
      "metadata": {
        "id": "NlizzJyVMILC"
      },
      "source": [
        "ret_11 = past_10.loc[end_measurement10]\n",
        "ret_10 = past_9.loc[end_measurement09]\n",
        "ret_09 = past_8.loc[end_measurement08]\n",
        "ret_08 = past_7.loc[end_measurement07]\n",
        "ret_07 = past_6.loc[end_measurement06]\n"
      ],
      "execution_count": 657,
      "outputs": []
    },
    {
      "cell_type": "code",
      "metadata": {
        "id": "8oSd-q_2NH7l"
      },
      "source": [
        "ret_12=ret_12.reset_index()\n",
        "ret_11=ret_11.reset_index()\n",
        "ret_10=ret_10.reset_index()\n",
        "ret_09=ret_09.reset_index()\n",
        "ret_08=ret_08.reset_index()\n",
        "ret_07=ret_07.reset_index()"
      ],
      "execution_count": 658,
      "outputs": []
    },
    {
      "cell_type": "code",
      "metadata": {
        "id": "QjNpGu-lNM6u"
      },
      "source": [
        "ret_12['quintile'] = pd.qcut(ret_12.iloc[:,1],10,labels=False)\n",
        "ret_11['quintile'] = pd.qcut(ret_11.iloc[:,1],10,labels=False)\n",
        "ret_10['quintile'] = pd.qcut(ret_10.iloc[:,1],10,labels=False)\n",
        "ret_09['quintile'] = pd.qcut(ret_09.iloc[:,1],10,labels=False)\n",
        "ret_08['quintile'] = pd.qcut(ret_08.iloc[:,1],10,labels=False)\n",
        "ret_07['quintile'] = pd.qcut(ret_07.iloc[:,1],10,labels=False)"
      ],
      "execution_count": 659,
      "outputs": []
    },
    {
      "cell_type": "code",
      "metadata": {
        "id": "TNVjnOXwNt-c"
      },
      "source": [
        "winners12= ret_12[ret_12.quintile==9]\n",
        "winners11= ret_11[ret_11.quintile==9]\n",
        "winners10= ret_10[ret_10.quintile==9]\n",
        "winners9= ret_09[ret_09.quintile==9]\n",
        "winners08= ret_08[ret_08.quintile==9]\n",
        "winners07= ret_07[ret_07.quintile==9]"
      ],
      "execution_count": 660,
      "outputs": []
    },
    {
      "cell_type": "code",
      "metadata": {
        "id": "RWAKva32OJNE"
      },
      "source": [
        "# Getting Common Winners\n",
        "\n",
        "from functools import reduce # python 3 only\n",
        "final_winner=reduce(np.intersect1d, [winners12.index,winners11.index,\\\n",
        "                                      winners10.index,winners9.index,\\\n",
        "                                      winners08.index,winners07.index])\n",
        "\n",
        "final_winner=final_winner.tolist()"
      ],
      "execution_count": 661,
      "outputs": []
    },
    {
      "cell_type": "code",
      "metadata": {
        "id": "BVykNDQoPWoT",
        "outputId": "38b63fd5-75f2-45d1-89fa-4982047a5f79",
        "colab": {
          "base_uri": "https://localhost:8080/"
        }
      },
      "source": [
        "cols=[]\n",
        "for ind in final_winner:\n",
        "  print(df.columns[ind])\n",
        "  cols.append(df.columns[ind])"
      ],
      "execution_count": 662,
      "outputs": [
        {
          "output_type": "stream",
          "name": "stdout",
          "text": [
            "ADANIENT.NS\n",
            "ADANITRANS.NS\n",
            "ALKYLAMINE.NS\n",
            "ATGL.NS\n",
            "BALAMINES.NS\n",
            "DEEPAKNTR.NS\n",
            "GRAPHITE.NS\n",
            "HAPPSTMNDS.NS\n",
            "HEG.NS\n",
            "HINDCOPPER.NS\n",
            "IIFL.NS\n",
            "INTELLECT.NS\n",
            "KPITTECH.NS\n",
            "MMTC.NS\n",
            "NATIONALUM.NS\n",
            "PRINCEPIPE.NS\n",
            "SAIL.NS\n",
            "SUPPETRO.NS\n",
            "TATAELXSI.NS\n",
            "TATASTEEL.NS\n",
            "VEDL.NS\n"
          ]
        }
      ]
    },
    {
      "cell_type": "code",
      "source": [
        "(df['2020-03-30':'2020-03-30']['AAVAS.NS'][0]-df['2020-02-28':'2020-02-28']['AAVAS.NS'][0])/df['2020-02-28':'2020-02-28']['AAVAS.NS'][0]"
      ],
      "metadata": {
        "id": "7rYHtjgRlnjg",
        "outputId": "77f670b8-5d1e-4ee1-a431-771830bad688",
        "colab": {
          "base_uri": "https://localhost:8080/"
        }
      },
      "execution_count": 697,
      "outputs": [
        {
          "output_type": "execute_result",
          "data": {
            "text/plain": [
              "-0.4031721584176865"
            ]
          },
          "metadata": {},
          "execution_count": 697
        }
      ]
    },
    {
      "cell_type": "code",
      "metadata": {
        "id": "tl1JtSWAYryu",
        "colab": {
          "base_uri": "https://localhost:8080/",
          "height": 354
        },
        "outputId": "f938d205-d9bc-419c-9a95-51507f710536"
      },
      "source": [
        "df[cols].plot();"
      ],
      "execution_count": 663,
      "outputs": [
        {
          "output_type": "display_data",
          "data": {
            "image/png": "[encoded data removed]",
            "text/plain": [
              "<Figure size 432x288 with 1 Axes>"
            ]
          },
          "metadata": {
            "needs_background": "light"
          }
        }
      ]
    },
    {
      "cell_type": "code",
      "source": [
        "features={'scripname':cols}\n",
        "final_data=pd.DataFrame(features)"
      ],
      "metadata": {
        "id": "isOvLrshdXIh"
      },
      "execution_count": 664,
      "outputs": []
    },
    {
      "cell_type": "code",
      "source": [
        "final_data['Date']=formation"
      ],
      "metadata": {
        "id": "INh391kofteU"
      },
      "execution_count": 665,
      "outputs": []
    },
    {
      "cell_type": "code",
      "source": [
        "final_data.to_csv('data.csv')"
      ],
      "metadata": {
        "id": "yaNAOvCtf7m3"
      },
      "execution_count": 666,
      "outputs": []
    },
    {
      "cell_type": "code",
      "source": [
        "len(cols)"
      ],
      "metadata": {
        "id": "9PTZbqrOs_PW",
        "outputId": "babfbf16-6e9c-48b9-e728-573650c32f1b",
        "colab": {
          "base_uri": "https://localhost:8080/"
        }
      },
      "execution_count": 667,
      "outputs": [
        {
          "output_type": "execute_result",
          "data": {
            "text/plain": [
              "21"
            ]
          },
          "metadata": {},
          "execution_count": 667
        }
      ]
    },
    {
      "cell_type": "code",
      "source": [
        "from sklearn.decomposition import PCA\n",
        "from sklearn.impute import SimpleImputer"
      ],
      "metadata": {
        "id": "bJ1oqlaJyMRR"
      },
      "execution_count": 668,
      "outputs": []
    },
    {
      "cell_type": "code",
      "source": [
        " imp_mean = SimpleImputer(missing_values=np.nan, strategy='mean')"
      ],
      "metadata": {
        "id": "QkU3W40xzlzr"
      },
      "execution_count": 669,
      "outputs": []
    },
    {
      "cell_type": "code",
      "source": [
        "imp_mean.fit(df[cols])"
      ],
      "metadata": {
        "id": "w1_S3T8RzIrH",
        "outputId": "45cdccea-d538-42b9-89e0-92713e11b76c",
        "colab": {
          "base_uri": "https://localhost:8080/"
        }
      },
      "execution_count": 670,
      "outputs": [
        {
          "output_type": "execute_result",
          "data": {
            "text/plain": [
              "SimpleImputer()"
            ]
          },
          "metadata": {},
          "execution_count": 670
        }
      ]
    },
    {
      "cell_type": "code",
      "source": [
        "data_imputed=imp_mean.fit_transform(df[cols])"
      ],
      "metadata": {
        "id": "tGSOwp-Fzsc6"
      },
      "execution_count": 671,
      "outputs": []
    },
    {
      "cell_type": "code",
      "source": [
        "pca=PCA(1).fit(data_imputed.T)"
      ],
      "metadata": {
        "id": "5r5W_-kqyyJT"
      },
      "execution_count": 672,
      "outputs": []
    },
    {
      "cell_type": "code",
      "source": [
        "index=pca.components_[0].T"
      ],
      "metadata": {
        "id": "SwwoRGUpy2vT"
      },
      "execution_count": 673,
      "outputs": []
    },
    {
      "cell_type": "code",
      "source": [
        "final=pd.DataFrame({'Date':df.index,'Index_Value':index})"
      ],
      "metadata": {
        "id": "RYMSUV6vy60T"
      },
      "execution_count": 674,
      "outputs": []
    },
    {
      "cell_type": "code",
      "source": [
        "final=final.set_index('Date')"
      ],
      "metadata": {
        "id": "_r5V9HgEy9N_"
      },
      "execution_count": 675,
      "outputs": []
    },
    {
      "cell_type": "code",
      "source": [
        "final['Index_Value'].plot();"
      ],
      "metadata": {
        "id": "zPwhlr4Ly-4o",
        "outputId": "043ec950-15d2-4bda-cb67-6dfd302e557e",
        "colab": {
          "base_uri": "https://localhost:8080/",
          "height": 277
        }
      },
      "execution_count": 676,
      "outputs": [
        {
          "output_type": "display_data",
          "data": {
            "image/png": "[encoded data removed]",
            "text/plain": [
              "<Figure size 432x288 with 1 Axes>"
            ]
          },
          "metadata": {
            "needs_background": "light"
          }
        }
      ]
    },
    {
      "cell_type": "code",
      "source": [
        "stock_data=pd.DataFrame({'stockname':cols,'ROE':np.nan,'Debt_to_Equity':np.nan,'CFO':np.nan,'Earnings':np.nan})"
      ],
      "metadata": {
        "id": "htLV536Qunfj"
      },
      "execution_count": 677,
      "outputs": []
    },
    {
      "cell_type": "code",
      "source": [
        "stock_data.head(2)"
      ],
      "metadata": {
        "id": "0hygnJ91vG5q",
        "outputId": "3cdbc5db-4901-4c7e-cada-e9a27c1e5d98",
        "colab": {
          "base_uri": "https://localhost:8080/",
          "height": 112
        }
      },
      "execution_count": 678,
      "outputs": [
        {
          "output_type": "execute_result",
          "data": {
            "text/html": [
              "<div>\n",
              "<style scoped>\n",
              "    .dataframe tbody tr th:only-of-type {\n",
              "        vertical-align: middle;\n",
              "    }\n",
              "\n",
              "    .dataframe tbody tr th {\n",
              "        vertical-align: top;\n",
              "    }\n",
              "\n",
              "    .dataframe thead th {\n",
              "        text-align: right;\n",
              "    }\n",
              "</style>\n",
              "<table border=\"1\" class=\"dataframe\">\n",
              "  <thead>\n",
              "    <tr style=\"text-align: right;\">\n",
              "      <th></th>\n",
              "      <th>stockname</th>\n",
              "      <th>ROE</th>\n",
              "      <th>Debt_to_Equity</th>\n",
              "      <th>CFO</th>\n",
              "      <th>Earnings</th>\n",
              "    </tr>\n",
              "  </thead>\n",
              "  <tbody>\n",
              "    <tr>\n",
              "      <th>0</th>\n",
              "      <td>ADANIENT.NS</td>\n",
              "      <td>NaN</td>\n",
              "      <td>NaN</td>\n",
              "      <td>NaN</td>\n",
              "      <td>NaN</td>\n",
              "    </tr>\n",
              "    <tr>\n",
              "      <th>1</th>\n",
              "      <td>ADANITRANS.NS</td>\n",
              "      <td>NaN</td>\n",
              "      <td>NaN</td>\n",
              "      <td>NaN</td>\n",
              "      <td>NaN</td>\n",
              "    </tr>\n",
              "  </tbody>\n",
              "</table>\n",
              "</div>"
            ],
            "text/plain": [
              "       stockname  ROE  Debt_to_Equity  CFO  Earnings\n",
              "0    ADANIENT.NS  NaN             NaN  NaN       NaN\n",
              "1  ADANITRANS.NS  NaN             NaN  NaN       NaN"
            ]
          },
          "metadata": {},
          "execution_count": 678
        }
      ]
    },
    {
      "cell_type": "code",
      "source": [
        ""
      ],
      "metadata": {
        "id": "ZiSgWdg_vIYZ"
      },
      "execution_count": 678,
      "outputs": []
    }
  ]
}