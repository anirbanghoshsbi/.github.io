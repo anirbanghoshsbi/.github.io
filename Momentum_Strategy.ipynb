{
  "nbformat": 4,
  "nbformat_minor": 0,
  "metadata": {
    "colab": {
      "name": "Momentum_Strategy.ipynb",
      "provenance": [],
      "collapsed_sections": [],
      "authorship_tag": "ABX9TyPRqBcE5z1kh54d6msdTMta",
      "include_colab_link": true
    },
    "kernelspec": {
      "name": "python3",
      "display_name": "Python 3"
    },
    "language_info": {
      "name": "python"
    }
  },
  "cells": [
    {
      "cell_type": "markdown",
      "metadata": {
        "id": "view-in-github",
        "colab_type": "text"
      },
      "source": [
        "<a href=\"https://colab.research.google.com/github/anirbanghoshsbi/.github.io/blob/master/Momentum_Strategy.ipynb\" target=\"_parent\"><img src=\"https://colab.research.google.com/assets/colab-badge.svg\" alt=\"Open In Colab\"/></a>"
      ]
    },
    {
      "cell_type": "code",
      "metadata": {
        "id": "zXYlvXIPVleT",
        "outputId": "c690ddb4-6b26-4361-a37e-51f6ae2f7b26",
        "colab": {
          "base_uri": "https://localhost:8080/"
        }
      },
      "source": [
        "!pip install yfinance"
      ],
      "execution_count": 11,
      "outputs": [
        {
          "output_type": "stream",
          "name": "stdout",
          "text": [
            "Requirement already satisfied: yfinance in /usr/local/lib/python3.7/dist-packages (0.1.70)\n",
            "Requirement already satisfied: multitasking>=0.0.7 in /usr/local/lib/python3.7/dist-packages (from yfinance) (0.0.10)\n",
            "Requirement already satisfied: requests>=2.26 in /usr/local/lib/python3.7/dist-packages (from yfinance) (2.27.1)\n",
            "Requirement already satisfied: pandas>=0.24.0 in /usr/local/lib/python3.7/dist-packages (from yfinance) (1.3.5)\n",
            "Requirement already satisfied: lxml>=4.5.1 in /usr/local/lib/python3.7/dist-packages (from yfinance) (4.8.0)\n",
            "Requirement already satisfied: numpy>=1.15 in /usr/local/lib/python3.7/dist-packages (from yfinance) (1.21.5)\n",
            "Requirement already satisfied: pytz>=2017.3 in /usr/local/lib/python3.7/dist-packages (from pandas>=0.24.0->yfinance) (2018.9)\n",
            "Requirement already satisfied: python-dateutil>=2.7.3 in /usr/local/lib/python3.7/dist-packages (from pandas>=0.24.0->yfinance) (2.8.2)\n",
            "Requirement already satisfied: six>=1.5 in /usr/local/lib/python3.7/dist-packages (from python-dateutil>=2.7.3->pandas>=0.24.0->yfinance) (1.15.0)\n",
            "Requirement already satisfied: certifi>=2017.4.17 in /usr/local/lib/python3.7/dist-packages (from requests>=2.26->yfinance) (2021.10.8)\n",
            "Requirement already satisfied: idna<4,>=2.5 in /usr/local/lib/python3.7/dist-packages (from requests>=2.26->yfinance) (2.10)\n",
            "Requirement already satisfied: urllib3<1.27,>=1.21.1 in /usr/local/lib/python3.7/dist-packages (from requests>=2.26->yfinance) (1.24.3)\n",
            "Requirement already satisfied: charset-normalizer~=2.0.0 in /usr/local/lib/python3.7/dist-packages (from requests>=2.26->yfinance) (2.0.12)\n"
          ]
        }
      ]
    },
    {
      "cell_type": "code",
      "metadata": {
        "id": "9EEstG84__n2"
      },
      "source": [
        "# import necessary packages\n",
        "import yfinance as yf\n",
        "import pandas as pd\n",
        "import numpy as np\n",
        "import pandas_datareader.data as reader\n",
        "import datetime as dt\n",
        "from pandas.tseries.offsets import MonthEnd"
      ],
      "execution_count": 12,
      "outputs": []
    },
    {
      "cell_type": "code",
      "metadata": {
        "id": "U8P95Apktyn9"
      },
      "source": [
        "symbols=pd.read_csv('https://raw.githubusercontent.com/anirbanghoshsbi/nifty500/main/ind_nifty500list.csv')"
      ],
      "execution_count": 13,
      "outputs": []
    },
    {
      "cell_type": "code",
      "metadata": {
        "id": "kGA1UR6fsmq7"
      },
      "source": [
        "symbols['data']=symbols.Symbol+'.NS'\n"
      ],
      "execution_count": 14,
      "outputs": []
    },
    {
      "cell_type": "code",
      "metadata": {
        "id": "TfRjNy9PsyIE"
      },
      "source": [
        "ticker=symbols.data.tolist()"
      ],
      "execution_count": 15,
      "outputs": []
    },
    {
      "cell_type": "code",
      "metadata": {
        "id": "k7XL8_BKAnFE"
      },
      "source": [
        "# Get ticker symbol for NSE 50 stocks\n",
        "#symbols=pd.read_html('https://in.finance.yahoo.com/quote/%5ENSEI/components?p=%5ENSEI')[0]\n",
        "#ticker=symbols.Symbol.to_list()\n"
      ],
      "execution_count": 16,
      "outputs": []
    },
    {
      "cell_type": "code",
      "metadata": {
        "id": "ghs0vScR4ijh"
      },
      "source": [
        "#symbols=pd.read_html('https://www.moneycontrol.com/financials/tatasteel/balance-sheetVI/TIS#TIS')"
      ],
      "execution_count": 17,
      "outputs": []
    },
    {
      "cell_type": "code",
      "metadata": {
        "id": "Wc_gi8y34oDX"
      },
      "source": [
        "#symbols[0]"
      ],
      "execution_count": 18,
      "outputs": []
    },
    {
      "cell_type": "code",
      "metadata": {
        "colab": {
          "base_uri": "https://localhost:8080/"
        },
        "id": "yuXSVp1aFikf",
        "outputId": "4dec9eba-8584-4c39-de2f-fe1fe42a242b"
      },
      "source": [
        "#Get the NSE Component prices\n",
        "start_date = dt.datetime(2018,1,31)\n",
        "end_date= dt.datetime(2021,12,11)\n",
        "df =yf.download(ticker,start_date,end_date)['Adj Close']"
      ],
      "execution_count": 19,
      "outputs": [
        {
          "output_type": "stream",
          "name": "stdout",
          "text": [
            "[*********************100%***********************]  501 of 501 completed\n",
            "\n",
            "2 Failed downloads:\n",
            "- ANGELBRKG.NS: No data found, symbol may be delisted\n",
            "- ORIENTREF.NS: No data found, symbol may be delisted\n"
          ]
        }
      ]
    },
    {
      "cell_type": "code",
      "source": [
        "df.to_csv('data_500.csv')"
      ],
      "metadata": {
        "id": "Rur42Kjumb0S"
      },
      "execution_count": 20,
      "outputs": []
    },
    {
      "cell_type": "code",
      "metadata": {
        "id": "Ud7yi3azJAx-"
      },
      "source": [
        "# Get daily return and then cummulate it to monthly/Quartelry/Half yealrly /Annually return\n",
        "monthly_return = df.pct_change().resample('M').agg(lambda x:(x+1).prod()-1)\n",
        "#quarterly_return = df.pct_change().resample('Q').agg(lambda x:(x+1).prod()-1)\n",
        "#halfyearly_return = df.pct_change().resample('H').agg(lambda x:(x+1).prod()-1)\n",
        "#annual_return= df.pct_change().resample('Y').agg(lambda x:(x+1).prod()-1)\n"
      ],
      "execution_count": 21,
      "outputs": []
    },
    {
      "cell_type": "code",
      "metadata": {
        "id": "t0gB6vI2J0J9"
      },
      "source": [
        "#Calculate returns over last 11 months to 6 months\n",
        "past_11 = (monthly_return+1).rolling(11).apply(np.prod)-1\n",
        "past_10 = (monthly_return+1).rolling(10).apply(np.prod)-1\n",
        "past_9 = (monthly_return+1).rolling(9).apply(np.prod)-1\n",
        "past_8 = (monthly_return+1).rolling(8).apply(np.prod)-1\n",
        "past_7 = (monthly_return+1).rolling(7).apply(np.prod)-1\n",
        "past_6 = (monthly_return+1).rolling(6).apply(np.prod)-1"
      ],
      "execution_count": 22,
      "outputs": []
    },
    {
      "cell_type": "code",
      "source": [
        "#past_q_1= (quarterly_return+1).rolling(3).apply(np.prod)-1\n",
        "#past_q_2= (quarterly_return+1).rolling(6).apply(np.prod)-1\n",
        "#past_q_3= (quarterly_return+1).rolling(9).apply(np.prod)-1"
      ],
      "metadata": {
        "id": "Gmb_OOiftBXL"
      },
      "execution_count": 23,
      "outputs": []
    },
    {
      "cell_type": "code",
      "metadata": {
        "id": "B3Iskk9FNi_y"
      },
      "source": [
        "formation=dt.datetime(2021,10,31)"
      ],
      "execution_count": 24,
      "outputs": []
    },
    {
      "cell_type": "code",
      "metadata": {
        "id": "MJqcyQMHMf9B"
      },
      "source": [
        "from pandas.tseries.offsets import MonthEnd\n",
        "end_measurement11= formation- MonthEnd(1)\n",
        "end_measurement10 = formation-MonthEnd(2)\n",
        "\n",
        "end_measurement09 = formation-MonthEnd(3)\n",
        "end_measurement08 = formation-MonthEnd(4)\n",
        "end_measurement07 = formation-MonthEnd(5)\n",
        "end_measurement06 = formation-MonthEnd(6)"
      ],
      "execution_count": 25,
      "outputs": []
    },
    {
      "cell_type": "code",
      "metadata": {
        "colab": {
          "base_uri": "https://localhost:8080/"
        },
        "id": "w6awDUNKNU8A",
        "outputId": "c9d6a0ad-e05f-40f3-f51a-f0aa6be4422d"
      },
      "source": [
        "end_measurement11"
      ],
      "execution_count": 26,
      "outputs": [
        {
          "output_type": "execute_result",
          "data": {
            "text/plain": [
              "Timestamp('2021-09-30 00:00:00')"
            ]
          },
          "metadata": {},
          "execution_count": 26
        }
      ]
    },
    {
      "cell_type": "code",
      "source": [
        "past_11.tail(2)"
      ],
      "metadata": {
        "colab": {
          "base_uri": "https://localhost:8080/",
          "height": 272
        },
        "id": "Cs2vXBxXvhS0",
        "outputId": "a3579d94-3eb2-4b1f-d124-3a14d313c3aa"
      },
      "execution_count": 27,
      "outputs": [
        {
          "output_type": "execute_result",
          "data": {
            "text/html": [
              "\n",
              "  <div id=\"df-ba4d4143-1470-4afe-90dc-297ef9cecfb7\">\n",
              "    <div class=\"colab-df-container\">\n",
              "      <div>\n",
              "<style scoped>\n",
              "    .dataframe tbody tr th:only-of-type {\n",
              "        vertical-align: middle;\n",
              "    }\n",
              "\n",
              "    .dataframe tbody tr th {\n",
              "        vertical-align: top;\n",
              "    }\n",
              "\n",
              "    .dataframe thead th {\n",
              "        text-align: right;\n",
              "    }\n",
              "</style>\n",
              "<table border=\"1\" class=\"dataframe\">\n",
              "  <thead>\n",
              "    <tr style=\"text-align: right;\">\n",
              "      <th></th>\n",
              "      <th>3MINDIA.NS</th>\n",
              "      <th>AARTIDRUGS.NS</th>\n",
              "      <th>AARTIIND.NS</th>\n",
              "      <th>AAVAS.NS</th>\n",
              "      <th>ABB.NS</th>\n",
              "      <th>ABBOTINDIA.NS</th>\n",
              "      <th>ABCAPITAL.NS</th>\n",
              "      <th>ABFRL.NS</th>\n",
              "      <th>ACC.NS</th>\n",
              "      <th>ADANIENT.NS</th>\n",
              "      <th>...</th>\n",
              "      <th>WELCORP.NS</th>\n",
              "      <th>WELSPUNIND.NS</th>\n",
              "      <th>WESTLIFE.NS</th>\n",
              "      <th>WHIRLPOOL.NS</th>\n",
              "      <th>WIPRO.NS</th>\n",
              "      <th>WOCKPHARMA.NS</th>\n",
              "      <th>YESBANK.NS</th>\n",
              "      <th>ZEEL.NS</th>\n",
              "      <th>ZENSARTECH.NS</th>\n",
              "      <th>ZYDUSWELL.NS</th>\n",
              "    </tr>\n",
              "    <tr>\n",
              "      <th>Date</th>\n",
              "      <th></th>\n",
              "      <th></th>\n",
              "      <th></th>\n",
              "      <th></th>\n",
              "      <th></th>\n",
              "      <th></th>\n",
              "      <th></th>\n",
              "      <th></th>\n",
              "      <th></th>\n",
              "      <th></th>\n",
              "      <th></th>\n",
              "      <th></th>\n",
              "      <th></th>\n",
              "      <th></th>\n",
              "      <th></th>\n",
              "      <th></th>\n",
              "      <th></th>\n",
              "      <th></th>\n",
              "      <th></th>\n",
              "      <th></th>\n",
              "      <th></th>\n",
              "    </tr>\n",
              "  </thead>\n",
              "  <tbody>\n",
              "    <tr>\n",
              "      <th>2021-11-30</th>\n",
              "      <td>0.201812</td>\n",
              "      <td>-0.281359</td>\n",
              "      <td>0.522199</td>\n",
              "      <td>0.660847</td>\n",
              "      <td>0.713492</td>\n",
              "      <td>0.221247</td>\n",
              "      <td>0.283529</td>\n",
              "      <td>0.540459</td>\n",
              "      <td>0.424116</td>\n",
              "      <td>2.469823</td>\n",
              "      <td>...</td>\n",
              "      <td>0.288034</td>\n",
              "      <td>1.034020</td>\n",
              "      <td>0.201797</td>\n",
              "      <td>-0.221562</td>\n",
              "      <td>0.653547</td>\n",
              "      <td>-0.203092</td>\n",
              "      <td>-0.305322</td>\n",
              "      <td>0.472177</td>\n",
              "      <td>0.899905</td>\n",
              "      <td>-0.010993</td>\n",
              "    </tr>\n",
              "    <tr>\n",
              "      <th>2021-12-31</th>\n",
              "      <td>0.318146</td>\n",
              "      <td>-0.142263</td>\n",
              "      <td>0.688176</td>\n",
              "      <td>0.429069</td>\n",
              "      <td>0.642916</td>\n",
              "      <td>0.323797</td>\n",
              "      <td>0.537747</td>\n",
              "      <td>0.809793</td>\n",
              "      <td>0.454683</td>\n",
              "      <td>2.437393</td>\n",
              "      <td>...</td>\n",
              "      <td>0.587683</td>\n",
              "      <td>1.201532</td>\n",
              "      <td>0.257419</td>\n",
              "      <td>-0.246733</td>\n",
              "      <td>0.527279</td>\n",
              "      <td>-0.088244</td>\n",
              "      <td>-0.082540</td>\n",
              "      <td>0.710968</td>\n",
              "      <td>0.873493</td>\n",
              "      <td>0.031790</td>\n",
              "    </tr>\n",
              "  </tbody>\n",
              "</table>\n",
              "<p>2 rows × 501 columns</p>\n",
              "</div>\n",
              "      <button class=\"colab-df-convert\" onclick=\"convertToInteractive('df-ba4d4143-1470-4afe-90dc-297ef9cecfb7')\"\n",
              "              title=\"Convert this dataframe to an interactive table.\"\n",
              "              style=\"display:none;\">\n",
              "        \n",
              "  <svg xmlns=\"http://www.w3.org/2000/svg\" height=\"24px\"viewBox=\"0 0 24 24\"\n",
              "       width=\"24px\">\n",
              "    <path d=\"M0 0h24v24H0V0z\" fill=\"none\"/>\n",
              "    <path d=\"M18.56 5.44l.94 2.06.94-2.06 2.06-.94-2.06-.94-.94-2.06-.94 2.06-2.06.94zm-11 1L8.5 8.5l.94-2.06 2.06-.94-2.06-.94L8.5 2.5l-.94 2.06-2.06.94zm10 10l.94 2.06.94-2.06 2.06-.94-2.06-.94-.94-2.06-.94 2.06-2.06.94z\"/><path d=\"M17.41 7.96l-1.37-1.37c-.4-.4-.92-.59-1.43-.59-.52 0-1.04.2-1.43.59L10.3 9.45l-7.72 7.72c-.78.78-.78 2.05 0 2.83L4 21.41c.39.39.9.59 1.41.59.51 0 1.02-.2 1.41-.59l7.78-7.78 2.81-2.81c.8-.78.8-2.07 0-2.86zM5.41 20L4 18.59l7.72-7.72 1.47 1.35L5.41 20z\"/>\n",
              "  </svg>\n",
              "      </button>\n",
              "      \n",
              "  <style>\n",
              "    .colab-df-container {\n",
              "      display:flex;\n",
              "      flex-wrap:wrap;\n",
              "      gap: 12px;\n",
              "    }\n",
              "\n",
              "    .colab-df-convert {\n",
              "      background-color: #E8F0FE;\n",
              "      border: none;\n",
              "      border-radius: 50%;\n",
              "      cursor: pointer;\n",
              "      display: none;\n",
              "      fill: #1967D2;\n",
              "      height: 32px;\n",
              "      padding: 0 0 0 0;\n",
              "      width: 32px;\n",
              "    }\n",
              "\n",
              "    .colab-df-convert:hover {\n",
              "      background-color: #E2EBFA;\n",
              "      box-shadow: 0px 1px 2px rgba(60, 64, 67, 0.3), 0px 1px 3px 1px rgba(60, 64, 67, 0.15);\n",
              "      fill: #174EA6;\n",
              "    }\n",
              "\n",
              "    [theme=dark] .colab-df-convert {\n",
              "      background-color: #3B4455;\n",
              "      fill: #D2E3FC;\n",
              "    }\n",
              "\n",
              "    [theme=dark] .colab-df-convert:hover {\n",
              "      background-color: #434B5C;\n",
              "      box-shadow: 0px 1px 3px 1px rgba(0, 0, 0, 0.15);\n",
              "      filter: drop-shadow(0px 1px 2px rgba(0, 0, 0, 0.3));\n",
              "      fill: #FFFFFF;\n",
              "    }\n",
              "  </style>\n",
              "\n",
              "      <script>\n",
              "        const buttonEl =\n",
              "          document.querySelector('#df-ba4d4143-1470-4afe-90dc-297ef9cecfb7 button.colab-df-convert');\n",
              "        buttonEl.style.display =\n",
              "          google.colab.kernel.accessAllowed ? 'block' : 'none';\n",
              "\n",
              "        async function convertToInteractive(key) {\n",
              "          const element = document.querySelector('#df-ba4d4143-1470-4afe-90dc-297ef9cecfb7');\n",
              "          const dataTable =\n",
              "            await google.colab.kernel.invokeFunction('convertToInteractive',\n",
              "                                                     [key], {});\n",
              "          if (!dataTable) return;\n",
              "\n",
              "          const docLinkHtml = 'Like what you see? Visit the ' +\n",
              "            '<a target=\"_blank\" href=https://colab.research.google.com/notebooks/data_table.ipynb>data table notebook</a>'\n",
              "            + ' to learn more about interactive tables.';\n",
              "          element.innerHTML = '';\n",
              "          dataTable['output_type'] = 'display_data';\n",
              "          await google.colab.output.renderOutput(dataTable, element);\n",
              "          const docLink = document.createElement('div');\n",
              "          docLink.innerHTML = docLinkHtml;\n",
              "          element.appendChild(docLink);\n",
              "        }\n",
              "      </script>\n",
              "    </div>\n",
              "  </div>\n",
              "  "
            ],
            "text/plain": [
              "            3MINDIA.NS  AARTIDRUGS.NS  AARTIIND.NS  AAVAS.NS    ABB.NS  \\\n",
              "Date                                                                     \n",
              "2021-11-30    0.201812      -0.281359     0.522199  0.660847  0.713492   \n",
              "2021-12-31    0.318146      -0.142263     0.688176  0.429069  0.642916   \n",
              "\n",
              "            ABBOTINDIA.NS  ABCAPITAL.NS  ABFRL.NS    ACC.NS  ADANIENT.NS  ...  \\\n",
              "Date                                                                      ...   \n",
              "2021-11-30       0.221247      0.283529  0.540459  0.424116     2.469823  ...   \n",
              "2021-12-31       0.323797      0.537747  0.809793  0.454683     2.437393  ...   \n",
              "\n",
              "            WELCORP.NS  WELSPUNIND.NS  WESTLIFE.NS  WHIRLPOOL.NS  WIPRO.NS  \\\n",
              "Date                                                                         \n",
              "2021-11-30    0.288034       1.034020     0.201797     -0.221562  0.653547   \n",
              "2021-12-31    0.587683       1.201532     0.257419     -0.246733  0.527279   \n",
              "\n",
              "            WOCKPHARMA.NS  YESBANK.NS   ZEEL.NS  ZENSARTECH.NS  ZYDUSWELL.NS  \n",
              "Date                                                                          \n",
              "2021-11-30      -0.203092   -0.305322  0.472177       0.899905     -0.010993  \n",
              "2021-12-31      -0.088244   -0.082540  0.710968       0.873493      0.031790  \n",
              "\n",
              "[2 rows x 501 columns]"
            ]
          },
          "metadata": {},
          "execution_count": 27
        }
      ]
    },
    {
      "cell_type": "code",
      "metadata": {
        "id": "ELqVPHQNLaWH"
      },
      "source": [
        "ret_12 = past_11.loc[end_measurement11]"
      ],
      "execution_count": 28,
      "outputs": []
    },
    {
      "cell_type": "code",
      "metadata": {
        "id": "NlizzJyVMILC"
      },
      "source": [
        "ret_11 = past_10.loc[end_measurement10]\n",
        "ret_10 = past_9.loc[end_measurement09]\n",
        "ret_09 = past_8.loc[end_measurement08]\n",
        "ret_08 = past_7.loc[end_measurement07]\n",
        "ret_07 = past_6.loc[end_measurement06]\n"
      ],
      "execution_count": 29,
      "outputs": []
    },
    {
      "cell_type": "code",
      "metadata": {
        "id": "8oSd-q_2NH7l"
      },
      "source": [
        "ret_12=ret_12.reset_index()\n",
        "ret_11=ret_11.reset_index()\n",
        "ret_10=ret_10.reset_index()\n",
        "ret_09=ret_09.reset_index()\n",
        "ret_08=ret_08.reset_index()\n",
        "ret_07=ret_07.reset_index()"
      ],
      "execution_count": 30,
      "outputs": []
    },
    {
      "cell_type": "code",
      "metadata": {
        "id": "QjNpGu-lNM6u"
      },
      "source": [
        "ret_12['quintile'] = pd.qcut(ret_12.iloc[:,1],10,labels=False)\n",
        "ret_11['quintile'] = pd.qcut(ret_11.iloc[:,1],10,labels=False)\n",
        "ret_10['quintile'] = pd.qcut(ret_10.iloc[:,1],10,labels=False)\n",
        "ret_09['quintile'] = pd.qcut(ret_09.iloc[:,1],10,labels=False)\n",
        "ret_08['quintile'] = pd.qcut(ret_08.iloc[:,1],10,labels=False)\n",
        "ret_07['quintile'] = pd.qcut(ret_07.iloc[:,1],10,labels=False)"
      ],
      "execution_count": 31,
      "outputs": []
    },
    {
      "cell_type": "code",
      "metadata": {
        "id": "TNVjnOXwNt-c"
      },
      "source": [
        "winners12= ret_12[ret_12.quintile==9]\n",
        "winners11= ret_11[ret_11.quintile==9]\n",
        "winners10= ret_10[ret_10.quintile==9]\n",
        "winners9= ret_09[ret_09.quintile==9]\n",
        "winners08= ret_08[ret_08.quintile==9]\n",
        "winners07= ret_07[ret_07.quintile==9]"
      ],
      "execution_count": 32,
      "outputs": []
    },
    {
      "cell_type": "code",
      "metadata": {
        "id": "RWAKva32OJNE"
      },
      "source": [
        "# Getting Common Winners\n",
        "\n",
        "from functools import reduce # python 3 only\n",
        "final_winner=reduce(np.intersect1d, [winners12.index,winners11.index,\\\n",
        "                                      winners10.index,winners9.index,\\\n",
        "                                      winners08.index,winners07.index])\n",
        "\n",
        "final_winner=final_winner.tolist()"
      ],
      "execution_count": 33,
      "outputs": []
    },
    {
      "cell_type": "code",
      "metadata": {
        "id": "BVykNDQoPWoT",
        "outputId": "ea3a8d24-dee3-4db4-dabb-1e87f55a589c",
        "colab": {
          "base_uri": "https://localhost:8080/"
        }
      },
      "source": [
        "cols=[]\n",
        "for ind in final_winner:\n",
        "  print(df.columns[ind])\n",
        "  cols.append(df.columns[ind])"
      ],
      "execution_count": 34,
      "outputs": [
        {
          "output_type": "stream",
          "name": "stdout",
          "text": [
            "ADANIENT.NS\n",
            "ADANITRANS.NS\n",
            "ALKYLAMINE.NS\n",
            "ATGL.NS\n",
            "BALAMINES.NS\n",
            "DEEPAKNTR.NS\n",
            "GRAPHITE.NS\n",
            "HAPPSTMNDS.NS\n",
            "HEG.NS\n",
            "HINDCOPPER.NS\n",
            "IIFL.NS\n",
            "INTELLECT.NS\n",
            "KPITTECH.NS\n",
            "MMTC.NS\n",
            "NATIONALUM.NS\n",
            "PRINCEPIPE.NS\n",
            "SAIL.NS\n",
            "SUPPETRO.NS\n",
            "TATAELXSI.NS\n",
            "TATASTEEL.NS\n",
            "VEDL.NS\n"
          ]
        }
      ]
    },
    {
      "cell_type": "code",
      "source": [
        "(df['2020-03-30':'2020-03-30']['AAVAS.NS'][0]-df['2020-02-28':'2020-02-28']['AAVAS.NS'][0])/df['2020-02-28':'2020-02-28']['AAVAS.NS'][0]"
      ],
      "metadata": {
        "id": "7rYHtjgRlnjg",
        "outputId": "77f670b8-5d1e-4ee1-a431-771830bad688",
        "colab": {
          "base_uri": "https://localhost:8080/"
        }
      },
      "execution_count": null,
      "outputs": [
        {
          "output_type": "execute_result",
          "data": {
            "text/plain": [
              "-0.4031721584176865"
            ]
          },
          "metadata": {},
          "execution_count": 697
        }
      ]
    },
    {
      "cell_type": "code",
      "metadata": {
        "id": "tl1JtSWAYryu",
        "colab": {
          "base_uri": "https://localhost:8080/",
          "height": 354
        },
        "outputId": "3eaebfaa-ad94-4a0a-cd70-dbba3420dcdf"
      },
      "source": [
        "df[cols].plot();"
      ],
      "execution_count": 35,
      "outputs": [
        {
          "output_type": "display_data",
          "data": {
            "image/png": "[encoded data removed]",
            "text/plain": [
              "<Figure size 432x288 with 1 Axes>"
            ]
          },
          "metadata": {
            "needs_background": "light"
          }
        }
      ]
    },
    {
      "cell_type": "code",
      "source": [
        "features={'scripname':cols}\n",
        "final_data=pd.DataFrame(features)"
      ],
      "metadata": {
        "id": "isOvLrshdXIh"
      },
      "execution_count": null,
      "outputs": []
    },
    {
      "cell_type": "code",
      "source": [
        "final_data['Date']=formation"
      ],
      "metadata": {
        "id": "INh391kofteU"
      },
      "execution_count": null,
      "outputs": []
    },
    {
      "cell_type": "code",
      "source": [
        "final_data.to_csv('data.csv')"
      ],
      "metadata": {
        "id": "yaNAOvCtf7m3"
      },
      "execution_count": null,
      "outputs": []
    },
    {
      "cell_type": "code",
      "source": [
        "len(cols)"
      ],
      "metadata": {
        "id": "9PTZbqrOs_PW",
        "outputId": "babfbf16-6e9c-48b9-e728-573650c32f1b",
        "colab": {
          "base_uri": "https://localhost:8080/"
        }
      },
      "execution_count": null,
      "outputs": [
        {
          "output_type": "execute_result",
          "data": {
            "text/plain": [
              "21"
            ]
          },
          "metadata": {},
          "execution_count": 667
        }
      ]
    },
    {
      "cell_type": "code",
      "source": [
        "from sklearn.decomposition import PCA\n",
        "from sklearn.impute import SimpleImputer"
      ],
      "metadata": {
        "id": "bJ1oqlaJyMRR"
      },
      "execution_count": null,
      "outputs": []
    },
    {
      "cell_type": "code",
      "source": [
        " imp_mean = SimpleImputer(missing_values=np.nan, strategy='mean')"
      ],
      "metadata": {
        "id": "QkU3W40xzlzr"
      },
      "execution_count": null,
      "outputs": []
    },
    {
      "cell_type": "code",
      "source": [
        "imp_mean.fit(df[cols])"
      ],
      "metadata": {
        "id": "w1_S3T8RzIrH",
        "outputId": "45cdccea-d538-42b9-89e0-92713e11b76c",
        "colab": {
          "base_uri": "https://localhost:8080/"
        }
      },
      "execution_count": null,
      "outputs": [
        {
          "output_type": "execute_result",
          "data": {
            "text/plain": [
              "SimpleImputer()"
            ]
          },
          "metadata": {},
          "execution_count": 670
        }
      ]
    },
    {
      "cell_type": "code",
      "source": [
        "data_imputed=imp_mean.fit_transform(df[cols])"
      ],
      "metadata": {
        "id": "tGSOwp-Fzsc6"
      },
      "execution_count": null,
      "outputs": []
    },
    {
      "cell_type": "code",
      "source": [
        "pca=PCA(1).fit(data_imputed.T)"
      ],
      "metadata": {
        "id": "5r5W_-kqyyJT"
      },
      "execution_count": null,
      "outputs": []
    },
    {
      "cell_type": "code",
      "source": [
        "index=pca.components_[0].T"
      ],
      "metadata": {
        "id": "SwwoRGUpy2vT"
      },
      "execution_count": null,
      "outputs": []
    },
    {
      "cell_type": "code",
      "source": [
        "final=pd.DataFrame({'Date':df.index,'Index_Value':index})"
      ],
      "metadata": {
        "id": "RYMSUV6vy60T"
      },
      "execution_count": null,
      "outputs": []
    },
    {
      "cell_type": "code",
      "source": [
        "final=final.set_index('Date')"
      ],
      "metadata": {
        "id": "_r5V9HgEy9N_"
      },
      "execution_count": null,
      "outputs": []
    },
    {
      "cell_type": "code",
      "source": [
        "final['Index_Value'].plot();"
      ],
      "metadata": {
        "id": "zPwhlr4Ly-4o",
        "outputId": "043ec950-15d2-4bda-cb67-6dfd302e557e",
        "colab": {
          "base_uri": "https://localhost:8080/",
          "height": 277
        }
      },
      "execution_count": null,
      "outputs": [
        {
          "output_type": "display_data",
          "data": {
            "image/png": "[encoded data removed]",
            "text/plain": [
              "<Figure size 432x288 with 1 Axes>"
            ]
          },
          "metadata": {
            "needs_background": "light"
          }
        }
      ]
    },
    {
      "cell_type": "code",
      "source": [
        "stock_data=pd.DataFrame({'stockname':cols,'ROE':np.nan,'Debt_to_Equity':np.nan,'CFO':np.nan,'Earnings':np.nan})"
      ],
      "metadata": {
        "id": "htLV536Qunfj"
      },
      "execution_count": null,
      "outputs": []
    },
    {
      "cell_type": "code",
      "source": [
        "stock_data.head(2)"
      ],
      "metadata": {
        "id": "0hygnJ91vG5q",
        "outputId": "3cdbc5db-4901-4c7e-cada-e9a27c1e5d98",
        "colab": {
          "base_uri": "https://localhost:8080/",
          "height": 112
        }
      },
      "execution_count": null,
      "outputs": [
        {
          "output_type": "execute_result",
          "data": {
            "text/html": [
              "<div>\n",
              "<style scoped>\n",
              "    .dataframe tbody tr th:only-of-type {\n",
              "        vertical-align: middle;\n",
              "    }\n",
              "\n",
              "    .dataframe tbody tr th {\n",
              "        vertical-align: top;\n",
              "    }\n",
              "\n",
              "    .dataframe thead th {\n",
              "        text-align: right;\n",
              "    }\n",
              "</style>\n",
              "<table border=\"1\" class=\"dataframe\">\n",
              "  <thead>\n",
              "    <tr style=\"text-align: right;\">\n",
              "      <th></th>\n",
              "      <th>stockname</th>\n",
              "      <th>ROE</th>\n",
              "      <th>Debt_to_Equity</th>\n",
              "      <th>CFO</th>\n",
              "      <th>Earnings</th>\n",
              "    </tr>\n",
              "  </thead>\n",
              "  <tbody>\n",
              "    <tr>\n",
              "      <th>0</th>\n",
              "      <td>ADANIENT.NS</td>\n",
              "      <td>NaN</td>\n",
              "      <td>NaN</td>\n",
              "      <td>NaN</td>\n",
              "      <td>NaN</td>\n",
              "    </tr>\n",
              "    <tr>\n",
              "      <th>1</th>\n",
              "      <td>ADANITRANS.NS</td>\n",
              "      <td>NaN</td>\n",
              "      <td>NaN</td>\n",
              "      <td>NaN</td>\n",
              "      <td>NaN</td>\n",
              "    </tr>\n",
              "  </tbody>\n",
              "</table>\n",
              "</div>"
            ],
            "text/plain": [
              "       stockname  ROE  Debt_to_Equity  CFO  Earnings\n",
              "0    ADANIENT.NS  NaN             NaN  NaN       NaN\n",
              "1  ADANITRANS.NS  NaN             NaN  NaN       NaN"
            ]
          },
          "metadata": {},
          "execution_count": 678
        }
      ]
    },
    {
      "cell_type": "code",
      "source": [
        "lst=['ADANIENT.NS','ADANITRANS.NS','ALKYLAMINE.NS','ATGL.NS','BALAMINES.NS','DEEPAKNTR.NS','GRAPHITE.NS','HAPPSTMNDS.NS','HEG.NS','HINDCOPPER.NS','IIFL.NS','INTELLECT.NS','KPITTECH.NS','MMTC.NS','NATIONALUM.NS','PRINCEPIPE.NS','SAIL.NS','SUPPETRO.NS','TATAELXSI.NS','TATASTEEL.NS','VEDL.NS']"
      ],
      "metadata": {
        "id": "ZiSgWdg_vIYZ"
      },
      "execution_count": null,
      "outputs": []
    },
    {
      "cell_type": "code",
      "source": [
        "start_date = dt.datetime(2021,1,1)\n",
        "end_date= dt.datetime(2021,12,11)\n",
        "df =yf.download(lst,start_date,end_date)['Adj Close']"
      ],
      "metadata": {
        "id": "HhNzbUuHfYFj",
        "outputId": "637153fe-5784-423a-c1f3-c3dcc628f07c",
        "colab": {
          "base_uri": "https://localhost:8080/"
        }
      },
      "execution_count": null,
      "outputs": [
        {
          "output_type": "stream",
          "name": "stdout",
          "text": [
            "[*********************100%***********************]  21 of 21 completed\n"
          ]
        }
      ]
    },
    {
      "cell_type": "code",
      "source": [
        "def cal_fin_index(lst,df):\n",
        "  i=0\n",
        "  diction={}\n",
        "  for item in lst:\n",
        "    var = str(item)+'_i'\n",
        "    #print(df[item].head(1))\n",
        "    df[var]=df[item].transform(lambda x : np.sign(x.diff(1)))\n",
        "    #print(df[var].head(2))\n",
        "    percent_positive=len(df[df[var]==1])/len(df)\n",
        "    percent_negative=len(df[df[var]==0])/len(df)\n",
        "    yearly_return=(df[item].iloc[-1]-df[item].iloc[0])/df[item].iloc[0]\n",
        "    dummy=yearly_return*(percent_negative-percent_positive)\n",
        "    diction[var]=dummy\n",
        "    i=i+1\n",
        "  return diction"
      ],
      "metadata": {
        "id": "GO8HyROIk7ov"
      },
      "execution_count": null,
      "outputs": []
    },
    {
      "cell_type": "code",
      "source": [
        "diction=cal_fin_index(lst,df)"
      ],
      "metadata": {
        "id": "3nfXhZiOmWho"
      },
      "execution_count": null,
      "outputs": []
    },
    {
      "cell_type": "code",
      "source": [
        "#a = {k: v for k, v in sorted(diction.items(), key=lambda x: x[1])}\n",
        "print(sorted(diction.items(), key =lambda kv:(kv[1], kv[0])))   \n"
      ],
      "metadata": {
        "id": "27flg48Pmkdy",
        "outputId": "e389aab9-0cdd-4946-bd6c-5999ddca08d3",
        "colab": {
          "base_uri": "https://localhost:8080/"
        }
      },
      "execution_count": null,
      "outputs": [
        {
          "output_type": "stream",
          "name": "stdout",
          "text": [
            "[('ATGL.NS_i', -2.260404334856289), ('ADANITRANS.NS_i', -1.8500991414069814), ('HAPPSTMNDS.NS_i', -1.4803549398529836), ('ADANIENT.NS_i', -1.4532233967773334), ('KPITTECH.NS_i', -1.347449549610892), ('BALAMINES.NS_i', -1.2743267466170367), ('TATAELXSI.NS_i', -1.1959546575649769), ('IIFL.NS_i', -0.7771027430828967), ('VEDL.NS_i', -0.7351526222279069), ('NATIONALUM.NS_i', -0.7267953495248706), ('DEEPAKNTR.NS_i', -0.7063678543748577), ('PRINCEPIPE.NS_i', -0.6490419845770385), ('INTELLECT.NS_i', -0.6300356879804998), ('SUPPETRO.NS_i', -0.5303211357356754), ('ALKYLAMINE.NS_i', -0.5008929486084245), ('HINDCOPPER.NS_i', -0.48281822472804325), ('TATASTEEL.NS_i', -0.4811941581007884), ('HEG.NS_i', -0.44201916206719005), ('SAIL.NS_i', -0.3072285448620379), ('MMTC.NS_i', -0.2298589714606944), ('GRAPHITE.NS_i', -0.19812322946502903)]\n"
          ]
        }
      ]
    },
    {
      "cell_type": "code",
      "source": [
        ""
      ],
      "metadata": {
        "id": "p46HoGvFoGgZ"
      },
      "execution_count": null,
      "outputs": []
    }
  ]
}