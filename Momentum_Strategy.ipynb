{
  "nbformat": 4,
  "nbformat_minor": 0,
  "metadata": {
    "colab": {
      "name": "Momentum_Strategy.ipynb",
      "provenance": [],
      "collapsed_sections": [],
      "authorship_tag": "ABX9TyMwIRlDyaRwjIXiFB2dY7Tt",
      "include_colab_link": true
    },
    "kernelspec": {
      "name": "python3",
      "display_name": "Python 3"
    },
    "language_info": {
      "name": "python"
    }
  },
  "cells": [
    {
      "cell_type": "markdown",
      "metadata": {
        "id": "view-in-github",
        "colab_type": "text"
      },
      "source": [
        "<a href=\"https://colab.research.google.com/github/anirbanghoshsbi/.github.io/blob/master/Momentum_Strategy.ipynb\" target=\"_parent\"><img src=\"https://colab.research.google.com/assets/colab-badge.svg\" alt=\"Open In Colab\"/></a>"
      ]
    },
    {
      "cell_type": "code",
      "metadata": {
        "id": "zXYlvXIPVleT",
        "outputId": "d87eb14f-a510-4eeb-bc59-b58077fab1b0",
        "colab": {
          "base_uri": "https://localhost:8080/"
        }
      },
      "source": [
        "!pip install yfinance"
      ],
      "execution_count": 63,
      "outputs": [
        {
          "output_type": "stream",
          "name": "stdout",
          "text": [
            "Looking in indexes: https://pypi.org/simple, https://us-python.pkg.dev/colab-wheels/public/simple/\n",
            "Requirement already satisfied: yfinance in /usr/local/lib/python3.7/dist-packages (0.1.74)\n",
            "Requirement already satisfied: pandas>=0.24.0 in /usr/local/lib/python3.7/dist-packages (from yfinance) (1.3.5)\n",
            "Requirement already satisfied: lxml>=4.5.1 in /usr/local/lib/python3.7/dist-packages (from yfinance) (4.9.1)\n",
            "Requirement already satisfied: multitasking>=0.0.7 in /usr/local/lib/python3.7/dist-packages (from yfinance) (0.0.11)\n",
            "Requirement already satisfied: requests>=2.26 in /usr/local/lib/python3.7/dist-packages (from yfinance) (2.28.1)\n",
            "Requirement already satisfied: numpy>=1.15 in /usr/local/lib/python3.7/dist-packages (from yfinance) (1.21.6)\n",
            "Requirement already satisfied: python-dateutil>=2.7.3 in /usr/local/lib/python3.7/dist-packages (from pandas>=0.24.0->yfinance) (2.8.2)\n",
            "Requirement already satisfied: pytz>=2017.3 in /usr/local/lib/python3.7/dist-packages (from pandas>=0.24.0->yfinance) (2022.2.1)\n",
            "Requirement already satisfied: six>=1.5 in /usr/local/lib/python3.7/dist-packages (from python-dateutil>=2.7.3->pandas>=0.24.0->yfinance) (1.15.0)\n",
            "Requirement already satisfied: idna<4,>=2.5 in /usr/local/lib/python3.7/dist-packages (from requests>=2.26->yfinance) (2.10)\n",
            "Requirement already satisfied: charset-normalizer<3,>=2 in /usr/local/lib/python3.7/dist-packages (from requests>=2.26->yfinance) (2.1.1)\n",
            "Requirement already satisfied: certifi>=2017.4.17 in /usr/local/lib/python3.7/dist-packages (from requests>=2.26->yfinance) (2022.6.15)\n",
            "Requirement already satisfied: urllib3<1.27,>=1.21.1 in /usr/local/lib/python3.7/dist-packages (from requests>=2.26->yfinance) (1.24.3)\n"
          ]
        }
      ]
    },
    {
      "cell_type": "code",
      "metadata": {
        "id": "9EEstG84__n2"
      },
      "source": [
        "# import necessary packages\n",
        "import yfinance as yf\n",
        "import pandas as pd\n",
        "import numpy as np\n",
        "import pandas_datareader.data as reader\n",
        "import datetime as dt\n",
        "from pandas.tseries.offsets import MonthEnd"
      ],
      "execution_count": 64,
      "outputs": []
    },
    {
      "cell_type": "code",
      "metadata": {
        "id": "U8P95Apktyn9"
      },
      "source": [
        "symbols=pd.read_csv('https://raw.githubusercontent.com/anirbanghoshsbi/nifty500/main/ind_nifty500list.csv')"
      ],
      "execution_count": 65,
      "outputs": []
    },
    {
      "cell_type": "code",
      "metadata": {
        "id": "kGA1UR6fsmq7"
      },
      "source": [
        "symbols['data']=symbols.Symbol+'.NS'\n"
      ],
      "execution_count": 66,
      "outputs": []
    },
    {
      "cell_type": "code",
      "metadata": {
        "id": "TfRjNy9PsyIE"
      },
      "source": [
        "ticker=symbols.data.tolist()"
      ],
      "execution_count": 67,
      "outputs": []
    },
    {
      "cell_type": "code",
      "metadata": {
        "id": "k7XL8_BKAnFE"
      },
      "source": [
        "# Get ticker symbol for NSE 50 stocks\n",
        "#symbols=pd.read_html('https://in.finance.yahoo.com/quote/%5ENSEI/components?p=%5ENSEI')[0]\n",
        "#ticker=symbols.Symbol.to_list()\n"
      ],
      "execution_count": 68,
      "outputs": []
    },
    {
      "cell_type": "code",
      "metadata": {
        "id": "ghs0vScR4ijh"
      },
      "source": [
        "#symbols=pd.read_html('https://www.moneycontrol.com/financials/tatasteel/balance-sheetVI/TIS#TIS')"
      ],
      "execution_count": 69,
      "outputs": []
    },
    {
      "cell_type": "code",
      "metadata": {
        "id": "Wc_gi8y34oDX"
      },
      "source": [
        "#symbols[0]"
      ],
      "execution_count": 70,
      "outputs": []
    },
    {
      "cell_type": "code",
      "metadata": {
        "colab": {
          "base_uri": "https://localhost:8080/"
        },
        "id": "yuXSVp1aFikf",
        "outputId": "fbbc56e6-e013-4f79-9626-bce35696173e"
      },
      "source": [
        "#Get the NSE Component prices\n",
        "start_date = dt.datetime(2018,1,31)\n",
        "end_date= dt.datetime(2022,7,31)\n",
        "df =yf.download(ticker,start_date,end_date)['Adj Close']"
      ],
      "execution_count": 71,
      "outputs": [
        {
          "output_type": "stream",
          "name": "stdout",
          "text": [
            "[*********************100%***********************]  501 of 501 completed\n",
            "\n",
            "8 Failed downloads:\n",
            "- WABCOINDIA.NS: No data found, symbol may be delisted\n",
            "- SUPPETRO.NS: No data found, symbol may be delisted\n",
            "- ANGELBRKG.NS: No data found, symbol may be delisted\n",
            "- BURGERKING.NS: No data found, symbol may be delisted\n",
            "- PHILIPCARB.NS: No data found, symbol may be delisted\n",
            "- ORIENTREF.NS: No data found, symbol may be delisted\n",
            "- MOTHERSUMI.NS: No data found, symbol may be delisted\n",
            "- CADILAHC.NS: No data found, symbol may be delisted\n"
          ]
        }
      ]
    },
    {
      "cell_type": "code",
      "source": [
        "df.to_csv('data_500.csv')"
      ],
      "metadata": {
        "id": "Rur42Kjumb0S"
      },
      "execution_count": 72,
      "outputs": []
    },
    {
      "cell_type": "code",
      "metadata": {
        "id": "Ud7yi3azJAx-"
      },
      "source": [
        "# Get daily return and then cummulate it to monthly/Quartelry/Half yealrly /Annually return\n",
        "monthly_return = df.pct_change().resample('M').agg(lambda x:(x+1).prod()-1)\n",
        "#quarterly_return = df.pct_change().resample('Q').agg(lambda x:(x+1).prod()-1)\n",
        "#halfyearly_return = df.pct_change().resample('H').agg(lambda x:(x+1).prod()-1)\n",
        "#annual_return= df.pct_change().resample('Y').agg(lambda x:(x+1).prod()-1)\n"
      ],
      "execution_count": 73,
      "outputs": []
    },
    {
      "cell_type": "code",
      "metadata": {
        "id": "t0gB6vI2J0J9"
      },
      "source": [
        "#Calculate returns over last 11 months to 6 months\n",
        "past_11 = (monthly_return+1).rolling(11).apply(np.prod)-1\n",
        "past_10 = (monthly_return+1).rolling(10).apply(np.prod)-1\n",
        "past_9 = (monthly_return+1).rolling(9).apply(np.prod)-1\n",
        "past_8 = (monthly_return+1).rolling(8).apply(np.prod)-1\n",
        "past_7 = (monthly_return+1).rolling(7).apply(np.prod)-1\n",
        "past_6 = (monthly_return+1).rolling(6).apply(np.prod)-1"
      ],
      "execution_count": 74,
      "outputs": []
    },
    {
      "cell_type": "code",
      "source": [
        "#past_q_1= (quarterly_return+1).rolling(3).apply(np.prod)-1\n",
        "#past_q_2= (quarterly_return+1).rolling(6).apply(np.prod)-1\n",
        "#past_q_3= (quarterly_return+1).rolling(9).apply(np.prod)-1"
      ],
      "metadata": {
        "id": "Gmb_OOiftBXL"
      },
      "execution_count": 75,
      "outputs": []
    },
    {
      "cell_type": "code",
      "metadata": {
        "id": "B3Iskk9FNi_y"
      },
      "source": [
        "formation=dt.datetime(2022,8,31)"
      ],
      "execution_count": 76,
      "outputs": []
    },
    {
      "cell_type": "code",
      "metadata": {
        "id": "MJqcyQMHMf9B"
      },
      "source": [
        "from pandas.tseries.offsets import MonthEnd\n",
        "end_measurement11= formation- MonthEnd(1)\n",
        "end_measurement10 = formation-MonthEnd(2)\n",
        "\n",
        "end_measurement09 = formation-MonthEnd(3)\n",
        "end_measurement08 = formation-MonthEnd(4)\n",
        "end_measurement07 = formation-MonthEnd(5)\n",
        "end_measurement06 = formation-MonthEnd(6)"
      ],
      "execution_count": 77,
      "outputs": []
    },
    {
      "cell_type": "code",
      "metadata": {
        "colab": {
          "base_uri": "https://localhost:8080/"
        },
        "id": "w6awDUNKNU8A",
        "outputId": "745b312c-699a-4604-b5fd-195328db68bd"
      },
      "source": [
        "end_measurement11"
      ],
      "execution_count": 78,
      "outputs": [
        {
          "output_type": "execute_result",
          "data": {
            "text/plain": [
              "Timestamp('2022-07-31 00:00:00')"
            ]
          },
          "metadata": {},
          "execution_count": 78
        }
      ]
    },
    {
      "cell_type": "code",
      "source": [
        "past_11.tail(2)"
      ],
      "metadata": {
        "colab": {
          "base_uri": "https://localhost:8080/",
          "height": 272
        },
        "id": "Cs2vXBxXvhS0",
        "outputId": "1b0e31dc-80ba-45da-a1c7-cef17d51d622"
      },
      "execution_count": 79,
      "outputs": [
        {
          "output_type": "execute_result",
          "data": {
            "text/plain": [
              "            3MINDIA.NS  AARTIDRUGS.NS  AARTIIND.NS  AAVAS.NS    ABB.NS  \\\n",
              "Date                                                                     \n",
              "2022-06-30   -0.113818      -0.393730    -0.249790 -0.200757  0.360923   \n",
              "2022-07-31   -0.067591      -0.318829    -0.165336 -0.010063  0.450529   \n",
              "\n",
              "            ABBOTINDIA.NS  ABCAPITAL.NS  ABFRL.NS    ACC.NS  ADANIENT.NS  ...  \\\n",
              "Date                                                                      ...   \n",
              "2022-06-30      -0.013273     -0.227979  0.057079 -0.089114     0.542616  ...   \n",
              "2022-07-31       0.038553     -0.013908  0.290966 -0.051415     0.618980  ...   \n",
              "\n",
              "            WELCORP.NS  WELSPUNIND.NS  WESTLIFE.NS  WHIRLPOOL.NS  WIPRO.NS  \\\n",
              "Date                                                                         \n",
              "2022-06-30    0.677289      -0.478468    -0.112361     -0.289168 -0.284345   \n",
              "2022-07-31    0.940923      -0.448784     0.061302     -0.164788 -0.332361   \n",
              "\n",
              "            WOCKPHARMA.NS  YESBANK.NS   ZEEL.NS  ZENSARTECH.NS  ZYDUSWELL.NS  \n",
              "Date                                                                          \n",
              "2022-06-30      -0.605915   -0.007843  0.071387      -0.340251     -0.235474  \n",
              "2022-07-31      -0.454602    0.384259  0.459969      -0.437933     -0.298517  \n",
              "\n",
              "[2 rows x 501 columns]"
            ],
            "text/html": [
              "\n",
              "  <div id=\"df-633911d0-2a80-42e7-8352-72b0337cbc2c\">\n",
              "    <div class=\"colab-df-container\">\n",
              "      <div>\n",
              "<style scoped>\n",
              "    .dataframe tbody tr th:only-of-type {\n",
              "        vertical-align: middle;\n",
              "    }\n",
              "\n",
              "    .dataframe tbody tr th {\n",
              "        vertical-align: top;\n",
              "    }\n",
              "\n",
              "    .dataframe thead th {\n",
              "        text-align: right;\n",
              "    }\n",
              "</style>\n",
              "<table border=\"1\" class=\"dataframe\">\n",
              "  <thead>\n",
              "    <tr style=\"text-align: right;\">\n",
              "      <th></th>\n",
              "      <th>3MINDIA.NS</th>\n",
              "      <th>AARTIDRUGS.NS</th>\n",
              "      <th>AARTIIND.NS</th>\n",
              "      <th>AAVAS.NS</th>\n",
              "      <th>ABB.NS</th>\n",
              "      <th>ABBOTINDIA.NS</th>\n",
              "      <th>ABCAPITAL.NS</th>\n",
              "      <th>ABFRL.NS</th>\n",
              "      <th>ACC.NS</th>\n",
              "      <th>ADANIENT.NS</th>\n",
              "      <th>...</th>\n",
              "      <th>WELCORP.NS</th>\n",
              "      <th>WELSPUNIND.NS</th>\n",
              "      <th>WESTLIFE.NS</th>\n",
              "      <th>WHIRLPOOL.NS</th>\n",
              "      <th>WIPRO.NS</th>\n",
              "      <th>WOCKPHARMA.NS</th>\n",
              "      <th>YESBANK.NS</th>\n",
              "      <th>ZEEL.NS</th>\n",
              "      <th>ZENSARTECH.NS</th>\n",
              "      <th>ZYDUSWELL.NS</th>\n",
              "    </tr>\n",
              "    <tr>\n",
              "      <th>Date</th>\n",
              "      <th></th>\n",
              "      <th></th>\n",
              "      <th></th>\n",
              "      <th></th>\n",
              "      <th></th>\n",
              "      <th></th>\n",
              "      <th></th>\n",
              "      <th></th>\n",
              "      <th></th>\n",
              "      <th></th>\n",
              "      <th></th>\n",
              "      <th></th>\n",
              "      <th></th>\n",
              "      <th></th>\n",
              "      <th></th>\n",
              "      <th></th>\n",
              "      <th></th>\n",
              "      <th></th>\n",
              "      <th></th>\n",
              "      <th></th>\n",
              "      <th></th>\n",
              "    </tr>\n",
              "  </thead>\n",
              "  <tbody>\n",
              "    <tr>\n",
              "      <th>2022-06-30</th>\n",
              "      <td>-0.113818</td>\n",
              "      <td>-0.393730</td>\n",
              "      <td>-0.249790</td>\n",
              "      <td>-0.200757</td>\n",
              "      <td>0.360923</td>\n",
              "      <td>-0.013273</td>\n",
              "      <td>-0.227979</td>\n",
              "      <td>0.057079</td>\n",
              "      <td>-0.089114</td>\n",
              "      <td>0.542616</td>\n",
              "      <td>...</td>\n",
              "      <td>0.677289</td>\n",
              "      <td>-0.478468</td>\n",
              "      <td>-0.112361</td>\n",
              "      <td>-0.289168</td>\n",
              "      <td>-0.284345</td>\n",
              "      <td>-0.605915</td>\n",
              "      <td>-0.007843</td>\n",
              "      <td>0.071387</td>\n",
              "      <td>-0.340251</td>\n",
              "      <td>-0.235474</td>\n",
              "    </tr>\n",
              "    <tr>\n",
              "      <th>2022-07-31</th>\n",
              "      <td>-0.067591</td>\n",
              "      <td>-0.318829</td>\n",
              "      <td>-0.165336</td>\n",
              "      <td>-0.010063</td>\n",
              "      <td>0.450529</td>\n",
              "      <td>0.038553</td>\n",
              "      <td>-0.013908</td>\n",
              "      <td>0.290966</td>\n",
              "      <td>-0.051415</td>\n",
              "      <td>0.618980</td>\n",
              "      <td>...</td>\n",
              "      <td>0.940923</td>\n",
              "      <td>-0.448784</td>\n",
              "      <td>0.061302</td>\n",
              "      <td>-0.164788</td>\n",
              "      <td>-0.332361</td>\n",
              "      <td>-0.454602</td>\n",
              "      <td>0.384259</td>\n",
              "      <td>0.459969</td>\n",
              "      <td>-0.437933</td>\n",
              "      <td>-0.298517</td>\n",
              "    </tr>\n",
              "  </tbody>\n",
              "</table>\n",
              "<p>2 rows × 501 columns</p>\n",
              "</div>\n",
              "      <button class=\"colab-df-convert\" onclick=\"convertToInteractive('df-633911d0-2a80-42e7-8352-72b0337cbc2c')\"\n",
              "              title=\"Convert this dataframe to an interactive table.\"\n",
              "              style=\"display:none;\">\n",
              "        \n",
              "  <svg xmlns=\"http://www.w3.org/2000/svg\" height=\"24px\"viewBox=\"0 0 24 24\"\n",
              "       width=\"24px\">\n",
              "    <path d=\"M0 0h24v24H0V0z\" fill=\"none\"/>\n",
              "    <path d=\"M18.56 5.44l.94 2.06.94-2.06 2.06-.94-2.06-.94-.94-2.06-.94 2.06-2.06.94zm-11 1L8.5 8.5l.94-2.06 2.06-.94-2.06-.94L8.5 2.5l-.94 2.06-2.06.94zm10 10l.94 2.06.94-2.06 2.06-.94-2.06-.94-.94-2.06-.94 2.06-2.06.94z\"/><path d=\"M17.41 7.96l-1.37-1.37c-.4-.4-.92-.59-1.43-.59-.52 0-1.04.2-1.43.59L10.3 9.45l-7.72 7.72c-.78.78-.78 2.05 0 2.83L4 21.41c.39.39.9.59 1.41.59.51 0 1.02-.2 1.41-.59l7.78-7.78 2.81-2.81c.8-.78.8-2.07 0-2.86zM5.41 20L4 18.59l7.72-7.72 1.47 1.35L5.41 20z\"/>\n",
              "  </svg>\n",
              "      </button>\n",
              "      \n",
              "  <style>\n",
              "    .colab-df-container {\n",
              "      display:flex;\n",
              "      flex-wrap:wrap;\n",
              "      gap: 12px;\n",
              "    }\n",
              "\n",
              "    .colab-df-convert {\n",
              "      background-color: #E8F0FE;\n",
              "      border: none;\n",
              "      border-radius: 50%;\n",
              "      cursor: pointer;\n",
              "      display: none;\n",
              "      fill: #1967D2;\n",
              "      height: 32px;\n",
              "      padding: 0 0 0 0;\n",
              "      width: 32px;\n",
              "    }\n",
              "\n",
              "    .colab-df-convert:hover {\n",
              "      background-color: #E2EBFA;\n",
              "      box-shadow: 0px 1px 2px rgba(60, 64, 67, 0.3), 0px 1px 3px 1px rgba(60, 64, 67, 0.15);\n",
              "      fill: #174EA6;\n",
              "    }\n",
              "\n",
              "    [theme=dark] .colab-df-convert {\n",
              "      background-color: #3B4455;\n",
              "      fill: #D2E3FC;\n",
              "    }\n",
              "\n",
              "    [theme=dark] .colab-df-convert:hover {\n",
              "      background-color: #434B5C;\n",
              "      box-shadow: 0px 1px 3px 1px rgba(0, 0, 0, 0.15);\n",
              "      filter: drop-shadow(0px 1px 2px rgba(0, 0, 0, 0.3));\n",
              "      fill: #FFFFFF;\n",
              "    }\n",
              "  </style>\n",
              "\n",
              "      <script>\n",
              "        const buttonEl =\n",
              "          document.querySelector('#df-633911d0-2a80-42e7-8352-72b0337cbc2c button.colab-df-convert');\n",
              "        buttonEl.style.display =\n",
              "          google.colab.kernel.accessAllowed ? 'block' : 'none';\n",
              "\n",
              "        async function convertToInteractive(key) {\n",
              "          const element = document.querySelector('#df-633911d0-2a80-42e7-8352-72b0337cbc2c');\n",
              "          const dataTable =\n",
              "            await google.colab.kernel.invokeFunction('convertToInteractive',\n",
              "                                                     [key], {});\n",
              "          if (!dataTable) return;\n",
              "\n",
              "          const docLinkHtml = 'Like what you see? Visit the ' +\n",
              "            '<a target=\"_blank\" href=https://colab.research.google.com/notebooks/data_table.ipynb>data table notebook</a>'\n",
              "            + ' to learn more about interactive tables.';\n",
              "          element.innerHTML = '';\n",
              "          dataTable['output_type'] = 'display_data';\n",
              "          await google.colab.output.renderOutput(dataTable, element);\n",
              "          const docLink = document.createElement('div');\n",
              "          docLink.innerHTML = docLinkHtml;\n",
              "          element.appendChild(docLink);\n",
              "        }\n",
              "      </script>\n",
              "    </div>\n",
              "  </div>\n",
              "  "
            ]
          },
          "metadata": {},
          "execution_count": 79
        }
      ]
    },
    {
      "cell_type": "code",
      "metadata": {
        "id": "ELqVPHQNLaWH"
      },
      "source": [
        "ret_12 = past_11.loc[end_measurement11]"
      ],
      "execution_count": 80,
      "outputs": []
    },
    {
      "cell_type": "code",
      "metadata": {
        "id": "NlizzJyVMILC"
      },
      "source": [
        "ret_11 = past_10.loc[end_measurement10]\n",
        "ret_10 = past_9.loc[end_measurement09]\n",
        "ret_09 = past_8.loc[end_measurement08]\n",
        "ret_08 = past_7.loc[end_measurement07]\n",
        "ret_07 = past_6.loc[end_measurement06]\n"
      ],
      "execution_count": 81,
      "outputs": []
    },
    {
      "cell_type": "code",
      "metadata": {
        "id": "8oSd-q_2NH7l"
      },
      "source": [
        "ret_12=ret_12.reset_index()\n",
        "ret_11=ret_11.reset_index()\n",
        "ret_10=ret_10.reset_index()\n",
        "ret_09=ret_09.reset_index()\n",
        "ret_08=ret_08.reset_index()\n",
        "ret_07=ret_07.reset_index()"
      ],
      "execution_count": 82,
      "outputs": []
    },
    {
      "cell_type": "code",
      "metadata": {
        "id": "QjNpGu-lNM6u"
      },
      "source": [
        "ret_12['quintile'] = pd.qcut(ret_12.iloc[:,1],10,labels=False)\n",
        "ret_11['quintile'] = pd.qcut(ret_11.iloc[:,1],10,labels=False)\n",
        "ret_10['quintile'] = pd.qcut(ret_10.iloc[:,1],10,labels=False)\n",
        "ret_09['quintile'] = pd.qcut(ret_09.iloc[:,1],10,labels=False)\n",
        "ret_08['quintile'] = pd.qcut(ret_08.iloc[:,1],10,labels=False)\n",
        "ret_07['quintile'] = pd.qcut(ret_07.iloc[:,1],10,labels=False)"
      ],
      "execution_count": 83,
      "outputs": []
    },
    {
      "cell_type": "code",
      "metadata": {
        "id": "TNVjnOXwNt-c"
      },
      "source": [
        "winners12= ret_12[ret_12.quintile==9]\n",
        "winners11= ret_11[ret_11.quintile==9]\n",
        "winners10= ret_10[ret_10.quintile==9]\n",
        "winners9= ret_09[ret_09.quintile==9]\n",
        "winners08= ret_08[ret_08.quintile==9]\n",
        "winners07= ret_07[ret_07.quintile==9]"
      ],
      "execution_count": 84,
      "outputs": []
    },
    {
      "cell_type": "code",
      "metadata": {
        "id": "RWAKva32OJNE"
      },
      "source": [
        "# Getting Common Winners\n",
        "\n",
        "from functools import reduce # python 3 only\n",
        "final_winner=reduce(np.intersect1d, [winners12.index,winners11.index,\\\n",
        "                                      winners10.index,winners9.index,\\\n",
        "                                      winners08.index,winners07.index])\n",
        "\n",
        "final_winner=final_winner.tolist()"
      ],
      "execution_count": 85,
      "outputs": []
    },
    {
      "cell_type": "code",
      "metadata": {
        "id": "BVykNDQoPWoT",
        "outputId": "b847c817-b653-4acc-fbd9-8cebd2a81dcd",
        "colab": {
          "base_uri": "https://localhost:8080/"
        }
      },
      "source": [
        "cols=[]\n",
        "for ind in final_winner:\n",
        "  print(df.columns[ind])\n",
        "  cols.append(df.columns[ind])"
      ],
      "execution_count": 86,
      "outputs": [
        {
          "output_type": "stream",
          "name": "stdout",
          "text": [
            "ADANIGREEN.NS\n",
            "CHALET.NS\n",
            "FLUOROCHEM.NS\n",
            "GNFC.NS\n",
            "GUJALKALI.NS\n",
            "INDHOTEL.NS\n",
            "INGERRAND.NS\n",
            "INOXLEISUR.NS\n",
            "KPITTECH.NS\n",
            "KPRMILL.NS\n",
            "MAHSEAMLES.NS\n",
            "MINDACORP.NS\n",
            "RAYMOND.NS\n",
            "SHARDACROP.NS\n",
            "SHOPERSTOP.NS\n",
            "SOLARINDS.NS\n",
            "TATAELXSI.NS\n",
            "TATAMOTORS.NS\n",
            "TATAMTRDVR.NS\n",
            "TATAPOWER.NS\n",
            "TRIDENT.NS\n"
          ]
        }
      ]
    },
    {
      "cell_type": "code",
      "source": [
        "(df['2020-03-30':'2020-03-30']['AAVAS.NS'][0]-df['2020-02-28':'2020-02-28']['AAVAS.NS'][0])/df['2020-02-28':'2020-02-28']['AAVAS.NS'][0]"
      ],
      "metadata": {
        "id": "7rYHtjgRlnjg",
        "outputId": "1d7445df-06ab-4924-cd5c-af049e95ee48",
        "colab": {
          "base_uri": "https://localhost:8080/"
        }
      },
      "execution_count": 88,
      "outputs": [
        {
          "output_type": "execute_result",
          "data": {
            "text/plain": [
              "-0.4031721584176865"
            ]
          },
          "metadata": {},
          "execution_count": 88
        }
      ]
    },
    {
      "cell_type": "code",
      "source": [
        "features={'scripname':cols}\n",
        "final_data=pd.DataFrame(features)"
      ],
      "metadata": {
        "id": "isOvLrshdXIh"
      },
      "execution_count": 90,
      "outputs": []
    },
    {
      "cell_type": "code",
      "source": [
        "final_data['Date']=formation"
      ],
      "metadata": {
        "id": "INh391kofteU"
      },
      "execution_count": 91,
      "outputs": []
    },
    {
      "cell_type": "code",
      "source": [
        "final_data.to_csv('data.csv')"
      ],
      "metadata": {
        "id": "yaNAOvCtf7m3"
      },
      "execution_count": 92,
      "outputs": []
    },
    {
      "cell_type": "code",
      "source": [
        "len(cols)"
      ],
      "metadata": {
        "id": "9PTZbqrOs_PW",
        "outputId": "a4c70aac-1e76-4c5c-802b-3af1b0ca4cc5",
        "colab": {
          "base_uri": "https://localhost:8080/"
        }
      },
      "execution_count": 93,
      "outputs": [
        {
          "output_type": "execute_result",
          "data": {
            "text/plain": [
              "21"
            ]
          },
          "metadata": {},
          "execution_count": 93
        }
      ]
    },
    {
      "cell_type": "code",
      "source": [
        "from sklearn.decomposition import PCA\n",
        "from sklearn.impute import SimpleImputer"
      ],
      "metadata": {
        "id": "bJ1oqlaJyMRR"
      },
      "execution_count": 94,
      "outputs": []
    },
    {
      "cell_type": "code",
      "source": [
        " imp_mean = SimpleImputer(missing_values=np.nan, strategy='mean')"
      ],
      "metadata": {
        "id": "QkU3W40xzlzr"
      },
      "execution_count": 95,
      "outputs": []
    },
    {
      "cell_type": "code",
      "source": [
        "imp_mean.fit(df[cols])"
      ],
      "metadata": {
        "id": "w1_S3T8RzIrH",
        "outputId": "0d1870a5-e046-46ac-ac9c-704164bed842",
        "colab": {
          "base_uri": "https://localhost:8080/"
        }
      },
      "execution_count": 96,
      "outputs": [
        {
          "output_type": "execute_result",
          "data": {
            "text/plain": [
              "SimpleImputer()"
            ]
          },
          "metadata": {},
          "execution_count": 96
        }
      ]
    },
    {
      "cell_type": "code",
      "source": [
        "data_imputed=imp_mean.fit_transform(df[cols])"
      ],
      "metadata": {
        "id": "tGSOwp-Fzsc6"
      },
      "execution_count": 97,
      "outputs": []
    },
    {
      "cell_type": "code",
      "source": [
        "pca=PCA(1).fit(data_imputed.T)"
      ],
      "metadata": {
        "id": "5r5W_-kqyyJT"
      },
      "execution_count": 98,
      "outputs": []
    },
    {
      "cell_type": "code",
      "source": [
        "index=pca.components_[0].T"
      ],
      "metadata": {
        "id": "SwwoRGUpy2vT"
      },
      "execution_count": 99,
      "outputs": []
    },
    {
      "cell_type": "code",
      "source": [
        "final=pd.DataFrame({'Date':df.index,'Index_Value':index})"
      ],
      "metadata": {
        "id": "RYMSUV6vy60T"
      },
      "execution_count": 100,
      "outputs": []
    },
    {
      "cell_type": "code",
      "source": [
        "final=final.set_index('Date')"
      ],
      "metadata": {
        "id": "_r5V9HgEy9N_"
      },
      "execution_count": 101,
      "outputs": []
    },
    {
      "cell_type": "code",
      "source": [
        "final['Index_Value'].plot();"
      ],
      "metadata": {
        "id": "zPwhlr4Ly-4o",
        "outputId": "f6dbf7c5-2dad-48c7-ca26-0dadbac85190",
        "colab": {
          "base_uri": "https://localhost:8080/",
          "height": 277
        }
      },
      "execution_count": 102,
      "outputs": [
        {
          "output_type": "display_data",
          "data": {
            "text/plain": [
              "<Figure size 432x288 with 1 Axes>"
            ],
            "image/png": "[encoded data removed]"
          },
          "metadata": {
            "needs_background": "light"
          }
        }
      ]
    },
    {
      "cell_type": "code",
      "source": [
        "stock_data=pd.DataFrame({'stockname':cols,'ROE':np.nan,'Debt_to_Equity':np.nan,'CFO':np.nan,'Earnings':np.nan})"
      ],
      "metadata": {
        "id": "htLV536Qunfj"
      },
      "execution_count": 103,
      "outputs": []
    },
    {
      "cell_type": "code",
      "source": [
        "stock_data.head(2)"
      ],
      "metadata": {
        "id": "0hygnJ91vG5q",
        "outputId": "818c61df-1726-4154-f745-0c2cdc29f7b2",
        "colab": {
          "base_uri": "https://localhost:8080/",
          "height": 112
        }
      },
      "execution_count": 104,
      "outputs": [
        {
          "output_type": "execute_result",
          "data": {
            "text/plain": [
              "       stockname  ROE  Debt_to_Equity  CFO  Earnings\n",
              "0  ADANIGREEN.NS  NaN             NaN  NaN       NaN\n",
              "1      CHALET.NS  NaN             NaN  NaN       NaN"
            ],
            "text/html": [
              "\n",
              "  <div id=\"df-87653158-f21b-4b90-b9d2-e77ec290b7d9\">\n",
              "    <div class=\"colab-df-container\">\n",
              "      <div>\n",
              "<style scoped>\n",
              "    .dataframe tbody tr th:only-of-type {\n",
              "        vertical-align: middle;\n",
              "    }\n",
              "\n",
              "    .dataframe tbody tr th {\n",
              "        vertical-align: top;\n",
              "    }\n",
              "\n",
              "    .dataframe thead th {\n",
              "        text-align: right;\n",
              "    }\n",
              "</style>\n",
              "<table border=\"1\" class=\"dataframe\">\n",
              "  <thead>\n",
              "    <tr style=\"text-align: right;\">\n",
              "      <th></th>\n",
              "      <th>stockname</th>\n",
              "      <th>ROE</th>\n",
              "      <th>Debt_to_Equity</th>\n",
              "      <th>CFO</th>\n",
              "      <th>Earnings</th>\n",
              "    </tr>\n",
              "  </thead>\n",
              "  <tbody>\n",
              "    <tr>\n",
              "      <th>0</th>\n",
              "      <td>ADANIGREEN.NS</td>\n",
              "      <td>NaN</td>\n",
              "      <td>NaN</td>\n",
              "      <td>NaN</td>\n",
              "      <td>NaN</td>\n",
              "    </tr>\n",
              "    <tr>\n",
              "      <th>1</th>\n",
              "      <td>CHALET.NS</td>\n",
              "      <td>NaN</td>\n",
              "      <td>NaN</td>\n",
              "      <td>NaN</td>\n",
              "      <td>NaN</td>\n",
              "    </tr>\n",
              "  </tbody>\n",
              "</table>\n",
              "</div>\n",
              "      <button class=\"colab-df-convert\" onclick=\"convertToInteractive('df-87653158-f21b-4b90-b9d2-e77ec290b7d9')\"\n",
              "              title=\"Convert this dataframe to an interactive table.\"\n",
              "              style=\"display:none;\">\n",
              "        \n",
              "  <svg xmlns=\"http://www.w3.org/2000/svg\" height=\"24px\"viewBox=\"0 0 24 24\"\n",
              "       width=\"24px\">\n",
              "    <path d=\"M0 0h24v24H0V0z\" fill=\"none\"/>\n",
              "    <path d=\"M18.56 5.44l.94 2.06.94-2.06 2.06-.94-2.06-.94-.94-2.06-.94 2.06-2.06.94zm-11 1L8.5 8.5l.94-2.06 2.06-.94-2.06-.94L8.5 2.5l-.94 2.06-2.06.94zm10 10l.94 2.06.94-2.06 2.06-.94-2.06-.94-.94-2.06-.94 2.06-2.06.94z\"/><path d=\"M17.41 7.96l-1.37-1.37c-.4-.4-.92-.59-1.43-.59-.52 0-1.04.2-1.43.59L10.3 9.45l-7.72 7.72c-.78.78-.78 2.05 0 2.83L4 21.41c.39.39.9.59 1.41.59.51 0 1.02-.2 1.41-.59l7.78-7.78 2.81-2.81c.8-.78.8-2.07 0-2.86zM5.41 20L4 18.59l7.72-7.72 1.47 1.35L5.41 20z\"/>\n",
              "  </svg>\n",
              "      </button>\n",
              "      \n",
              "  <style>\n",
              "    .colab-df-container {\n",
              "      display:flex;\n",
              "      flex-wrap:wrap;\n",
              "      gap: 12px;\n",
              "    }\n",
              "\n",
              "    .colab-df-convert {\n",
              "      background-color: #E8F0FE;\n",
              "      border: none;\n",
              "      border-radius: 50%;\n",
              "      cursor: pointer;\n",
              "      display: none;\n",
              "      fill: #1967D2;\n",
              "      height: 32px;\n",
              "      padding: 0 0 0 0;\n",
              "      width: 32px;\n",
              "    }\n",
              "\n",
              "    .colab-df-convert:hover {\n",
              "      background-color: #E2EBFA;\n",
              "      box-shadow: 0px 1px 2px rgba(60, 64, 67, 0.3), 0px 1px 3px 1px rgba(60, 64, 67, 0.15);\n",
              "      fill: #174EA6;\n",
              "    }\n",
              "\n",
              "    [theme=dark] .colab-df-convert {\n",
              "      background-color: #3B4455;\n",
              "      fill: #D2E3FC;\n",
              "    }\n",
              "\n",
              "    [theme=dark] .colab-df-convert:hover {\n",
              "      background-color: #434B5C;\n",
              "      box-shadow: 0px 1px 3px 1px rgba(0, 0, 0, 0.15);\n",
              "      filter: drop-shadow(0px 1px 2px rgba(0, 0, 0, 0.3));\n",
              "      fill: #FFFFFF;\n",
              "    }\n",
              "  </style>\n",
              "\n",
              "      <script>\n",
              "        const buttonEl =\n",
              "          document.querySelector('#df-87653158-f21b-4b90-b9d2-e77ec290b7d9 button.colab-df-convert');\n",
              "        buttonEl.style.display =\n",
              "          google.colab.kernel.accessAllowed ? 'block' : 'none';\n",
              "\n",
              "        async function convertToInteractive(key) {\n",
              "          const element = document.querySelector('#df-87653158-f21b-4b90-b9d2-e77ec290b7d9');\n",
              "          const dataTable =\n",
              "            await google.colab.kernel.invokeFunction('convertToInteractive',\n",
              "                                                     [key], {});\n",
              "          if (!dataTable) return;\n",
              "\n",
              "          const docLinkHtml = 'Like what you see? Visit the ' +\n",
              "            '<a target=\"_blank\" href=https://colab.research.google.com/notebooks/data_table.ipynb>data table notebook</a>'\n",
              "            + ' to learn more about interactive tables.';\n",
              "          element.innerHTML = '';\n",
              "          dataTable['output_type'] = 'display_data';\n",
              "          await google.colab.output.renderOutput(dataTable, element);\n",
              "          const docLink = document.createElement('div');\n",
              "          docLink.innerHTML = docLinkHtml;\n",
              "          element.appendChild(docLink);\n",
              "        }\n",
              "      </script>\n",
              "    </div>\n",
              "  </div>\n",
              "  "
            ]
          },
          "metadata": {},
          "execution_count": 104
        }
      ]
    },
    {
      "cell_type": "code",
      "source": [
        "lst=['ADANIENT.NS','ADANITRANS.NS','ALKYLAMINE.NS','ATGL.NS','BALAMINES.NS','DEEPAKNTR.NS','GRAPHITE.NS','HAPPSTMNDS.NS','HEG.NS','HINDCOPPER.NS','IIFL.NS','INTELLECT.NS','KPITTECH.NS','MMTC.NS','NATIONALUM.NS','PRINCEPIPE.NS','SAIL.NS','SUPPETRO.NS','TATAELXSI.NS','TATASTEEL.NS','VEDL.NS']"
      ],
      "metadata": {
        "id": "ZiSgWdg_vIYZ"
      },
      "execution_count": 105,
      "outputs": []
    },
    {
      "cell_type": "code",
      "source": [
        "start_date = dt.datetime(2021,1,1)\n",
        "end_date= dt.datetime(2021,12,11)\n",
        "df =yf.download(lst,start_date,end_date)['Adj Close']"
      ],
      "metadata": {
        "id": "HhNzbUuHfYFj",
        "outputId": "593f8190-d63a-4222-8506-f0aedb083c6c",
        "colab": {
          "base_uri": "https://localhost:8080/"
        }
      },
      "execution_count": 106,
      "outputs": [
        {
          "output_type": "stream",
          "name": "stdout",
          "text": [
            "[*********************100%***********************]  21 of 21 completed\n",
            "\n",
            "1 Failed download:\n",
            "- SUPPETRO.NS: No data found, symbol may be delisted\n"
          ]
        }
      ]
    },
    {
      "cell_type": "code",
      "source": [
        "def cal_fin_index(lst,df):\n",
        "  i=0\n",
        "  diction={}\n",
        "  for item in lst:\n",
        "    var = str(item)+'_i'\n",
        "    #print(df[item].head(1))\n",
        "    df[var]=df[item].transform(lambda x : np.sign(x.diff(1)))\n",
        "    #print(df[var].head(2))\n",
        "    percent_positive=len(df[df[var]==1])/len(df)\n",
        "    percent_negative=len(df[df[var]==0])/len(df)\n",
        "    yearly_return=(df[item].iloc[-1]-df[item].iloc[0])/df[item].iloc[0]\n",
        "    dummy=yearly_return*(percent_negative-percent_positive)\n",
        "    diction[var]=dummy\n",
        "    i=i+1\n",
        "  return diction"
      ],
      "metadata": {
        "id": "GO8HyROIk7ov"
      },
      "execution_count": 107,
      "outputs": []
    },
    {
      "cell_type": "code",
      "source": [
        "diction=cal_fin_index(lst,df)"
      ],
      "metadata": {
        "id": "3nfXhZiOmWho"
      },
      "execution_count": 108,
      "outputs": []
    },
    {
      "cell_type": "code",
      "source": [
        "#a = {k: v for k, v in sorted(diction.items(), key=lambda x: x[1])}\n",
        "print(sorted(diction.items(), key =lambda kv:(kv[1], kv[0])))   \n"
      ],
      "metadata": {
        "id": "27flg48Pmkdy",
        "outputId": "51a9c7b5-a016-42f1-d54c-7d3edafb2b82",
        "colab": {
          "base_uri": "https://localhost:8080/"
        }
      },
      "execution_count": 109,
      "outputs": [
        {
          "output_type": "stream",
          "name": "stdout",
          "text": [
            "[('ATGL.NS_i', -2.2604042972046132), ('ADANITRANS.NS_i', -1.8500991414069814), ('HAPPSTMNDS.NS_i', -1.48035497506676), ('ADANIENT.NS_i', -1.453223414286331), ('KPITTECH.NS_i', -1.3474496775434164), ('BALAMINES.NS_i', -1.274326582898597), ('TATAELXSI.NS_i', -1.1959546895378075), ('IIFL.NS_i', -0.7771027748206992), ('VEDL.NS_i', -0.7351527267013571), ('NATIONALUM.NS_i', -0.7267953212228973), ('DEEPAKNTR.NS_i', -0.7063678109598441), ('PRINCEPIPE.NS_i', -0.6490421367003033), ('INTELLECT.NS_i', -0.6300357087396453), ('ALKYLAMINE.NS_i', -0.5008928964596459), ('HINDCOPPER.NS_i', -0.48281822472804325), ('TATASTEEL.NS_i', -0.4811941785703881), ('HEG.NS_i', -0.4420191458948865), ('SAIL.NS_i', -0.3072284979893144), ('MMTC.NS_i', -0.2298589714606944), ('GRAPHITE.NS_i', -0.1981232089914632), ('SUPPETRO.NS_i', nan)]\n"
          ]
        }
      ]
    },
    {
      "cell_type": "code",
      "source": [],
      "metadata": {
        "id": "p46HoGvFoGgZ"
      },
      "execution_count": 109,
      "outputs": []
    }
  ]
}