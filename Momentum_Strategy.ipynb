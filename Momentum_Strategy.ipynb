{
  "nbformat": 4,
  "nbformat_minor": 0,
  "metadata": {
    "colab": {
      "name": "Momentum_Strategy.ipynb",
      "provenance": [],
      "authorship_tag": "ABX9TyPr4C//jVDvVX+HV99zGNmc",
      "include_colab_link": true
    },
    "kernelspec": {
      "name": "python3",
      "display_name": "Python 3"
    },
    "language_info": {
      "name": "python"
    }
  },
  "cells": [
    {
      "cell_type": "markdown",
      "metadata": {
        "id": "view-in-github",
        "colab_type": "text"
      },
      "source": [
        "<a href=\"https://colab.research.google.com/github/anirbanghoshsbi/.github.io/blob/master/Momentum_Strategy.ipynb\" target=\"_parent\"><img src=\"https://colab.research.google.com/assets/colab-badge.svg\" alt=\"Open In Colab\"/></a>"
      ]
    },
    {
      "cell_type": "code",
      "metadata": {
        "id": "zXYlvXIPVleT"
      },
      "source": [
        "#!pip install yfinance"
      ],
      "execution_count": null,
      "outputs": []
    },
    {
      "cell_type": "code",
      "metadata": {
        "id": "9EEstG84__n2"
      },
      "source": [
        "# import necessary packages\n",
        "import yfinance as yf\n",
        "import pandas as pd\n",
        "import numpy as np\n",
        "import datetime as dt\n",
        "from pandas.tseries.offsets import MonthEnd"
      ],
      "execution_count": 133,
      "outputs": []
    },
    {
      "cell_type": "code",
      "metadata": {
        "id": "U8P95Apktyn9"
      },
      "source": [
        "symbols=pd.read_csv('https://raw.githubusercontent.com/anirbanghoshsbi/nifty500/main/ind_nifty500list.csv')"
      ],
      "execution_count": 134,
      "outputs": []
    },
    {
      "cell_type": "code",
      "metadata": {
        "id": "kGA1UR6fsmq7"
      },
      "source": [
        "symbols['data']=symbols.Symbol+'.NS'\n"
      ],
      "execution_count": 135,
      "outputs": []
    },
    {
      "cell_type": "code",
      "metadata": {
        "id": "TfRjNy9PsyIE"
      },
      "source": [
        "ticker=symbols.data.tolist()"
      ],
      "execution_count": 136,
      "outputs": []
    },
    {
      "cell_type": "code",
      "metadata": {
        "id": "k7XL8_BKAnFE"
      },
      "source": [
        "# Get ticker symbol for NSE 50 stocks\n",
        "#symbols=pd.read_html('https://in.finance.yahoo.com/quote/%5ENSEI/components?p=%5ENSEI')[0]\n",
        "#ticker=symbols.Symbol.to_list()\n"
      ],
      "execution_count": 137,
      "outputs": []
    },
    {
      "cell_type": "code",
      "metadata": {
        "id": "ghs0vScR4ijh"
      },
      "source": [
        "#symbols=pd.read_html('https://www.moneycontrol.com/financials/tatasteel/balance-sheetVI/TIS#TIS')"
      ],
      "execution_count": 138,
      "outputs": []
    },
    {
      "cell_type": "code",
      "metadata": {
        "id": "Wc_gi8y34oDX"
      },
      "source": [
        "#symbols[0]"
      ],
      "execution_count": 139,
      "outputs": []
    },
    {
      "cell_type": "code",
      "metadata": {
        "colab": {
          "base_uri": "https://localhost:8080/"
        },
        "id": "yuXSVp1aFikf",
        "outputId": "69072b50-f680-41cd-842a-668282eb5e6d"
      },
      "source": [
        "#Get the NSE Component prices\n",
        "start_date = dt.datetime(2018,1,31)\n",
        "end_date= dt.datetime(2022,9,30)\n",
        "formation=dt.datetime(2022,10,1)\n",
        "df =yf.download(ticker,start_date,end_date)['Adj Close']"
      ],
      "execution_count": 140,
      "outputs": [
        {
          "output_type": "stream",
          "name": "stdout",
          "text": [
            "[*********************100%***********************]  501 of 501 completed\n",
            "\n",
            "10 Failed downloads:\n",
            "- ORIENTREF.NS: No timezone found, symbol may be delisted\n",
            "- ANGELBRKG.NS: No timezone found, symbol may be delisted\n",
            "- WABCOINDIA.NS: No timezone found, symbol may be delisted\n",
            "- MINDAIND.NS: No timezone found, symbol may be delisted\n",
            "- MOTHERSUMI.NS: No timezone found, symbol may be delisted\n",
            "- MINDTREE.NS: No timezone found, symbol may be delisted\n",
            "- CADILAHC.NS: No timezone found, symbol may be delisted\n",
            "- SUPPETRO.NS: No timezone found, symbol may be delisted\n",
            "- BURGERKING.NS: No timezone found, symbol may be delisted\n",
            "- PHILIPCARB.NS: No timezone found, symbol may be delisted\n"
          ]
        }
      ]
    },
    {
      "cell_type": "code",
      "source": [
        "df.to_csv('data_500.csv')"
      ],
      "metadata": {
        "id": "Rur42Kjumb0S"
      },
      "execution_count": 141,
      "outputs": []
    },
    {
      "cell_type": "code",
      "metadata": {
        "id": "Ud7yi3azJAx-"
      },
      "source": [
        "# Get daily return and then cummulate it to monthly/Quartelry/Half yealrly /Annually return\n",
        "monthly_return = df.pct_change().resample('M').agg(lambda x:(x+1).prod()-1)\n",
        "#quarterly_return = df.pct_change().resample('Q').agg(lambda x:(x+1).prod()-1)\n",
        "#halfyearly_return = df.pct_change().resample('H').agg(lambda x:(x+1).prod()-1)\n",
        "#annual_return= df.pct_change().resample('Y').agg(lambda x:(x+1).prod()-1)\n"
      ],
      "execution_count": 142,
      "outputs": []
    },
    {
      "cell_type": "code",
      "metadata": {
        "id": "t0gB6vI2J0J9"
      },
      "source": [
        "#Calculate returns over last 11 months to 6 months\n",
        "past_11 = (monthly_return+1).rolling(11).apply(np.prod)-1\n",
        "past_10 = (monthly_return+1).rolling(10).apply(np.prod)-1\n",
        "past_9 = (monthly_return+1).rolling(9).apply(np.prod)-1\n",
        "past_8 = (monthly_return+1).rolling(8).apply(np.prod)-1\n",
        "past_7 = (monthly_return+1).rolling(7).apply(np.prod)-1\n",
        "past_6 = (monthly_return+1).rolling(6).apply(np.prod)-1"
      ],
      "execution_count": 143,
      "outputs": []
    },
    {
      "cell_type": "code",
      "source": [
        "#past_q_1= (quarterly_return+1).rolling(3).apply(np.prod)-1\n",
        "#past_q_2= (quarterly_return+1).rolling(6).apply(np.prod)-1\n",
        "#past_q_3= (quarterly_return+1).rolling(9).apply(np.prod)-1"
      ],
      "metadata": {
        "id": "Gmb_OOiftBXL"
      },
      "execution_count": 144,
      "outputs": []
    },
    {
      "cell_type": "code",
      "metadata": {
        "id": "MJqcyQMHMf9B"
      },
      "source": [
        "from pandas.tseries.offsets import MonthEnd\n",
        "end_measurement11= formation- MonthEnd(1)\n",
        "end_measurement10 = formation-MonthEnd(2)\n",
        "\n",
        "end_measurement09 = formation-MonthEnd(3)\n",
        "end_measurement08 = formation-MonthEnd(4)\n",
        "end_measurement07 = formation-MonthEnd(5)\n",
        "end_measurement06 = formation-MonthEnd(6)"
      ],
      "execution_count": 145,
      "outputs": []
    },
    {
      "cell_type": "code",
      "metadata": {
        "colab": {
          "base_uri": "https://localhost:8080/"
        },
        "id": "w6awDUNKNU8A",
        "outputId": "e8a59f91-8a9b-44e9-9129-dc6211d3030e"
      },
      "source": [
        "end_measurement11"
      ],
      "execution_count": 146,
      "outputs": [
        {
          "output_type": "execute_result",
          "data": {
            "text/plain": [
              "Timestamp('2022-09-30 00:00:00')"
            ]
          },
          "metadata": {},
          "execution_count": 146
        }
      ]
    },
    {
      "cell_type": "code",
      "source": [
        "past_11.tail(2)"
      ],
      "metadata": {
        "colab": {
          "base_uri": "https://localhost:8080/",
          "height": 271
        },
        "id": "Cs2vXBxXvhS0",
        "outputId": "9c0443b0-4dd5-4511-a476-b5d338c1ee0d"
      },
      "execution_count": 147,
      "outputs": [
        {
          "output_type": "execute_result",
          "data": {
            "text/plain": [
              "                           3MINDIA.NS  AARTIDRUGS.NS  AARTIIND.NS  AAVAS.NS  \\\n",
              "Date                                                                          \n",
              "2022-08-31 00:00:00+05:30   -0.061136      -0.288115    -0.104763 -0.111484   \n",
              "2022-09-30 00:00:00+05:30   -0.051737      -0.206234    -0.235970 -0.228242   \n",
              "\n",
              "                             ABB.NS  ABBOTINDIA.NS  ABCAPITAL.NS  ABFRL.NS  \\\n",
              "Date                                                                         \n",
              "2022-08-31 00:00:00+05:30  0.752954      -0.074979      0.013304  0.241932   \n",
              "2022-09-30 00:00:00+05:30  0.420441      -0.031074      0.134436  0.285741   \n",
              "\n",
              "                             ACC.NS  ADANIENT.NS  ...  WELCORP.NS  \\\n",
              "Date                                              ...               \n",
              "2022-08-31 00:00:00+05:30  0.048316     1.176765  ...    0.596343   \n",
              "2022-09-30 00:00:00+05:30  0.045615     1.439010  ...    1.052305   \n",
              "\n",
              "                           WELSPUNIND.NS  WESTLIFE.NS  WHIRLPOOL.NS  WIPRO.NS  \\\n",
              "Date                                                                            \n",
              "2022-08-31 00:00:00+05:30      -0.544214     0.143122     -0.199071 -0.341316   \n",
              "2022-09-30 00:00:00+05:30      -0.467273     0.200414     -0.256030 -0.386602   \n",
              "\n",
              "                           WOCKPHARMA.NS  YESBANK.NS   ZEEL.NS  ZENSARTECH.NS  \\\n",
              "Date                                                                            \n",
              "2022-08-31 00:00:00+05:30      -0.470148    0.310757 -0.152210      -0.508346   \n",
              "2022-09-30 00:00:00+05:30      -0.435531    0.210937 -0.156558      -0.537205   \n",
              "\n",
              "                           ZYDUSWELL.NS  \n",
              "Date                                     \n",
              "2022-08-31 00:00:00+05:30     -0.321649  \n",
              "2022-09-30 00:00:00+05:30     -0.216159  \n",
              "\n",
              "[2 rows x 501 columns]"
            ],
            "text/html": [
              "\n",
              "  <div id=\"df-395158d7-84b9-43ff-bfc7-9a991ffeb12b\">\n",
              "    <div class=\"colab-df-container\">\n",
              "      <div>\n",
              "<style scoped>\n",
              "    .dataframe tbody tr th:only-of-type {\n",
              "        vertical-align: middle;\n",
              "    }\n",
              "\n",
              "    .dataframe tbody tr th {\n",
              "        vertical-align: top;\n",
              "    }\n",
              "\n",
              "    .dataframe thead th {\n",
              "        text-align: right;\n",
              "    }\n",
              "</style>\n",
              "<table border=\"1\" class=\"dataframe\">\n",
              "  <thead>\n",
              "    <tr style=\"text-align: right;\">\n",
              "      <th></th>\n",
              "      <th>3MINDIA.NS</th>\n",
              "      <th>AARTIDRUGS.NS</th>\n",
              "      <th>AARTIIND.NS</th>\n",
              "      <th>AAVAS.NS</th>\n",
              "      <th>ABB.NS</th>\n",
              "      <th>ABBOTINDIA.NS</th>\n",
              "      <th>ABCAPITAL.NS</th>\n",
              "      <th>ABFRL.NS</th>\n",
              "      <th>ACC.NS</th>\n",
              "      <th>ADANIENT.NS</th>\n",
              "      <th>...</th>\n",
              "      <th>WELCORP.NS</th>\n",
              "      <th>WELSPUNIND.NS</th>\n",
              "      <th>WESTLIFE.NS</th>\n",
              "      <th>WHIRLPOOL.NS</th>\n",
              "      <th>WIPRO.NS</th>\n",
              "      <th>WOCKPHARMA.NS</th>\n",
              "      <th>YESBANK.NS</th>\n",
              "      <th>ZEEL.NS</th>\n",
              "      <th>ZENSARTECH.NS</th>\n",
              "      <th>ZYDUSWELL.NS</th>\n",
              "    </tr>\n",
              "    <tr>\n",
              "      <th>Date</th>\n",
              "      <th></th>\n",
              "      <th></th>\n",
              "      <th></th>\n",
              "      <th></th>\n",
              "      <th></th>\n",
              "      <th></th>\n",
              "      <th></th>\n",
              "      <th></th>\n",
              "      <th></th>\n",
              "      <th></th>\n",
              "      <th></th>\n",
              "      <th></th>\n",
              "      <th></th>\n",
              "      <th></th>\n",
              "      <th></th>\n",
              "      <th></th>\n",
              "      <th></th>\n",
              "      <th></th>\n",
              "      <th></th>\n",
              "      <th></th>\n",
              "      <th></th>\n",
              "    </tr>\n",
              "  </thead>\n",
              "  <tbody>\n",
              "    <tr>\n",
              "      <th>2022-08-31 00:00:00+05:30</th>\n",
              "      <td>-0.061136</td>\n",
              "      <td>-0.288115</td>\n",
              "      <td>-0.104763</td>\n",
              "      <td>-0.111484</td>\n",
              "      <td>0.752954</td>\n",
              "      <td>-0.074979</td>\n",
              "      <td>0.013304</td>\n",
              "      <td>0.241932</td>\n",
              "      <td>0.048316</td>\n",
              "      <td>1.176765</td>\n",
              "      <td>...</td>\n",
              "      <td>0.596343</td>\n",
              "      <td>-0.544214</td>\n",
              "      <td>0.143122</td>\n",
              "      <td>-0.199071</td>\n",
              "      <td>-0.341316</td>\n",
              "      <td>-0.470148</td>\n",
              "      <td>0.310757</td>\n",
              "      <td>-0.152210</td>\n",
              "      <td>-0.508346</td>\n",
              "      <td>-0.321649</td>\n",
              "    </tr>\n",
              "    <tr>\n",
              "      <th>2022-09-30 00:00:00+05:30</th>\n",
              "      <td>-0.051737</td>\n",
              "      <td>-0.206234</td>\n",
              "      <td>-0.235970</td>\n",
              "      <td>-0.228242</td>\n",
              "      <td>0.420441</td>\n",
              "      <td>-0.031074</td>\n",
              "      <td>0.134436</td>\n",
              "      <td>0.285741</td>\n",
              "      <td>0.045615</td>\n",
              "      <td>1.439010</td>\n",
              "      <td>...</td>\n",
              "      <td>1.052305</td>\n",
              "      <td>-0.467273</td>\n",
              "      <td>0.200414</td>\n",
              "      <td>-0.256030</td>\n",
              "      <td>-0.386602</td>\n",
              "      <td>-0.435531</td>\n",
              "      <td>0.210937</td>\n",
              "      <td>-0.156558</td>\n",
              "      <td>-0.537205</td>\n",
              "      <td>-0.216159</td>\n",
              "    </tr>\n",
              "  </tbody>\n",
              "</table>\n",
              "<p>2 rows × 501 columns</p>\n",
              "</div>\n",
              "      <button class=\"colab-df-convert\" onclick=\"convertToInteractive('df-395158d7-84b9-43ff-bfc7-9a991ffeb12b')\"\n",
              "              title=\"Convert this dataframe to an interactive table.\"\n",
              "              style=\"display:none;\">\n",
              "        \n",
              "  <svg xmlns=\"http://www.w3.org/2000/svg\" height=\"24px\"viewBox=\"0 0 24 24\"\n",
              "       width=\"24px\">\n",
              "    <path d=\"M0 0h24v24H0V0z\" fill=\"none\"/>\n",
              "    <path d=\"M18.56 5.44l.94 2.06.94-2.06 2.06-.94-2.06-.94-.94-2.06-.94 2.06-2.06.94zm-11 1L8.5 8.5l.94-2.06 2.06-.94-2.06-.94L8.5 2.5l-.94 2.06-2.06.94zm10 10l.94 2.06.94-2.06 2.06-.94-2.06-.94-.94-2.06-.94 2.06-2.06.94z\"/><path d=\"M17.41 7.96l-1.37-1.37c-.4-.4-.92-.59-1.43-.59-.52 0-1.04.2-1.43.59L10.3 9.45l-7.72 7.72c-.78.78-.78 2.05 0 2.83L4 21.41c.39.39.9.59 1.41.59.51 0 1.02-.2 1.41-.59l7.78-7.78 2.81-2.81c.8-.78.8-2.07 0-2.86zM5.41 20L4 18.59l7.72-7.72 1.47 1.35L5.41 20z\"/>\n",
              "  </svg>\n",
              "      </button>\n",
              "      \n",
              "  <style>\n",
              "    .colab-df-container {\n",
              "      display:flex;\n",
              "      flex-wrap:wrap;\n",
              "      gap: 12px;\n",
              "    }\n",
              "\n",
              "    .colab-df-convert {\n",
              "      background-color: #E8F0FE;\n",
              "      border: none;\n",
              "      border-radius: 50%;\n",
              "      cursor: pointer;\n",
              "      display: none;\n",
              "      fill: #1967D2;\n",
              "      height: 32px;\n",
              "      padding: 0 0 0 0;\n",
              "      width: 32px;\n",
              "    }\n",
              "\n",
              "    .colab-df-convert:hover {\n",
              "      background-color: #E2EBFA;\n",
              "      box-shadow: 0px 1px 2px rgba(60, 64, 67, 0.3), 0px 1px 3px 1px rgba(60, 64, 67, 0.15);\n",
              "      fill: #174EA6;\n",
              "    }\n",
              "\n",
              "    [theme=dark] .colab-df-convert {\n",
              "      background-color: #3B4455;\n",
              "      fill: #D2E3FC;\n",
              "    }\n",
              "\n",
              "    [theme=dark] .colab-df-convert:hover {\n",
              "      background-color: #434B5C;\n",
              "      box-shadow: 0px 1px 3px 1px rgba(0, 0, 0, 0.15);\n",
              "      filter: drop-shadow(0px 1px 2px rgba(0, 0, 0, 0.3));\n",
              "      fill: #FFFFFF;\n",
              "    }\n",
              "  </style>\n",
              "\n",
              "      <script>\n",
              "        const buttonEl =\n",
              "          document.querySelector('#df-395158d7-84b9-43ff-bfc7-9a991ffeb12b button.colab-df-convert');\n",
              "        buttonEl.style.display =\n",
              "          google.colab.kernel.accessAllowed ? 'block' : 'none';\n",
              "\n",
              "        async function convertToInteractive(key) {\n",
              "          const element = document.querySelector('#df-395158d7-84b9-43ff-bfc7-9a991ffeb12b');\n",
              "          const dataTable =\n",
              "            await google.colab.kernel.invokeFunction('convertToInteractive',\n",
              "                                                     [key], {});\n",
              "          if (!dataTable) return;\n",
              "\n",
              "          const docLinkHtml = 'Like what you see? Visit the ' +\n",
              "            '<a target=\"_blank\" href=https://colab.research.google.com/notebooks/data_table.ipynb>data table notebook</a>'\n",
              "            + ' to learn more about interactive tables.';\n",
              "          element.innerHTML = '';\n",
              "          dataTable['output_type'] = 'display_data';\n",
              "          await google.colab.output.renderOutput(dataTable, element);\n",
              "          const docLink = document.createElement('div');\n",
              "          docLink.innerHTML = docLinkHtml;\n",
              "          element.appendChild(docLink);\n",
              "        }\n",
              "      </script>\n",
              "    </div>\n",
              "  </div>\n",
              "  "
            ]
          },
          "metadata": {},
          "execution_count": 147
        }
      ]
    },
    {
      "cell_type": "code",
      "metadata": {
        "id": "ELqVPHQNLaWH",
        "outputId": "843d66ab-d58d-456a-9133-8defb0950e8f",
        "colab": {
          "base_uri": "https://localhost:8080/"
        }
      },
      "source": [
        "ret_12 = past_11.loc[end_measurement11]"
      ],
      "execution_count": 148,
      "outputs": [
        {
          "output_type": "stream",
          "name": "stderr",
          "text": [
            "<ipython-input-148-fb7a2e9ba45d>:1: FutureWarning: Indexing a timezone-aware DatetimeIndex with a timezone-naive datetime is deprecated and will raise KeyError in a future version.  Use a timezone-aware object instead.\n",
            "  ret_12 = past_11.loc[end_measurement11]\n"
          ]
        }
      ]
    },
    {
      "cell_type": "code",
      "metadata": {
        "id": "NlizzJyVMILC",
        "outputId": "2920239b-2533-41bd-9514-5b44e2f168a3",
        "colab": {
          "base_uri": "https://localhost:8080/"
        }
      },
      "source": [
        "ret_11 = past_10.loc[end_measurement10]\n",
        "ret_10 = past_9.loc[end_measurement09]\n",
        "ret_09 = past_8.loc[end_measurement08]\n",
        "ret_08 = past_7.loc[end_measurement07]\n",
        "ret_07 = past_6.loc[end_measurement06]\n"
      ],
      "execution_count": 149,
      "outputs": [
        {
          "output_type": "stream",
          "name": "stderr",
          "text": [
            "<ipython-input-149-520d826942cc>:1: FutureWarning: Indexing a timezone-aware DatetimeIndex with a timezone-naive datetime is deprecated and will raise KeyError in a future version.  Use a timezone-aware object instead.\n",
            "  ret_11 = past_10.loc[end_measurement10]\n",
            "<ipython-input-149-520d826942cc>:2: FutureWarning: Indexing a timezone-aware DatetimeIndex with a timezone-naive datetime is deprecated and will raise KeyError in a future version.  Use a timezone-aware object instead.\n",
            "  ret_10 = past_9.loc[end_measurement09]\n",
            "<ipython-input-149-520d826942cc>:3: FutureWarning: Indexing a timezone-aware DatetimeIndex with a timezone-naive datetime is deprecated and will raise KeyError in a future version.  Use a timezone-aware object instead.\n",
            "  ret_09 = past_8.loc[end_measurement08]\n",
            "<ipython-input-149-520d826942cc>:4: FutureWarning: Indexing a timezone-aware DatetimeIndex with a timezone-naive datetime is deprecated and will raise KeyError in a future version.  Use a timezone-aware object instead.\n",
            "  ret_08 = past_7.loc[end_measurement07]\n",
            "<ipython-input-149-520d826942cc>:5: FutureWarning: Indexing a timezone-aware DatetimeIndex with a timezone-naive datetime is deprecated and will raise KeyError in a future version.  Use a timezone-aware object instead.\n",
            "  ret_07 = past_6.loc[end_measurement06]\n"
          ]
        }
      ]
    },
    {
      "cell_type": "code",
      "metadata": {
        "id": "8oSd-q_2NH7l"
      },
      "source": [
        "ret_12=ret_12.reset_index()\n",
        "ret_11=ret_11.reset_index()\n",
        "ret_10=ret_10.reset_index()\n",
        "ret_09=ret_09.reset_index()\n",
        "ret_08=ret_08.reset_index()\n",
        "ret_07=ret_07.reset_index()"
      ],
      "execution_count": 150,
      "outputs": []
    },
    {
      "cell_type": "code",
      "metadata": {
        "id": "QjNpGu-lNM6u"
      },
      "source": [
        "ret_12['quintile'] = pd.qcut(ret_12.iloc[:,1],10,labels=False)\n",
        "ret_11['quintile'] = pd.qcut(ret_11.iloc[:,1],10,labels=False)\n",
        "ret_10['quintile'] = pd.qcut(ret_10.iloc[:,1],10,labels=False)\n",
        "ret_09['quintile'] = pd.qcut(ret_09.iloc[:,1],10,labels=False)\n",
        "ret_08['quintile'] = pd.qcut(ret_08.iloc[:,1],10,labels=False)\n",
        "ret_07['quintile'] = pd.qcut(ret_07.iloc[:,1],10,labels=False)"
      ],
      "execution_count": 151,
      "outputs": []
    },
    {
      "cell_type": "code",
      "metadata": {
        "id": "TNVjnOXwNt-c"
      },
      "source": [
        "winners12= ret_12[ret_12.quintile==9]\n",
        "winners11= ret_11[ret_11.quintile==9]\n",
        "winners10= ret_10[ret_10.quintile==9]\n",
        "winners9= ret_09[ret_09.quintile==9]\n",
        "winners08= ret_08[ret_08.quintile==9]\n",
        "winners07= ret_07[ret_07.quintile==9]"
      ],
      "execution_count": 152,
      "outputs": []
    },
    {
      "cell_type": "code",
      "metadata": {
        "id": "RWAKva32OJNE"
      },
      "source": [
        "# Getting Common Winners\n",
        "\n",
        "from functools import reduce # python 3 only\n",
        "final_winner=reduce(np.intersect1d, [winners12.index,winners11.index,\\\n",
        "                                      winners10.index,winners9.index,\\\n",
        "                                      winners08.index,winners07.index])\n",
        "\n",
        "final_winner=final_winner.tolist()"
      ],
      "execution_count": 153,
      "outputs": []
    },
    {
      "cell_type": "code",
      "metadata": {
        "id": "BVykNDQoPWoT",
        "outputId": "15c25179-fa0b-44fa-f984-034f16806908",
        "colab": {
          "base_uri": "https://localhost:8080/"
        }
      },
      "source": [
        "cols=[]\n",
        "for ind in final_winner:\n",
        "  print(df.columns[ind])\n",
        "  cols.append(df.columns[ind])"
      ],
      "execution_count": 154,
      "outputs": [
        {
          "output_type": "stream",
          "name": "stdout",
          "text": [
            "ADANIENT.NS\n",
            "ADANIGREEN.NS\n",
            "ATGL.NS\n",
            "BDL.NS\n",
            "CREDITACC.NS\n",
            "ELGIEQUIP.NS\n",
            "FINEORG.NS\n",
            "FLUOROCHEM.NS\n",
            "GAEL.NS\n",
            "INDHOTEL.NS\n",
            "INGERRAND.NS\n",
            "JKPAPER.NS\n",
            "KEI.NS\n",
            "KPITTECH.NS\n",
            "POWERINDIA.NS\n",
            "RAYMOND.NS\n",
            "SCHAEFFLER.NS\n",
            "SHARDACROP.NS\n",
            "SHOPERSTOP.NS\n",
            "SWANENERGY.NS\n",
            "TATAELXSI.NS\n",
            "THERMAX.NS\n",
            "WELCORP.NS\n"
          ]
        }
      ]
    },
    {
      "cell_type": "code",
      "source": [
        "features={'scripname':cols}\n",
        "final_data=pd.DataFrame(features)"
      ],
      "metadata": {
        "id": "isOvLrshdXIh"
      },
      "execution_count": 155,
      "outputs": []
    },
    {
      "cell_type": "code",
      "source": [
        "final_data['Date']=formation"
      ],
      "metadata": {
        "id": "INh391kofteU"
      },
      "execution_count": 156,
      "outputs": []
    },
    {
      "cell_type": "code",
      "source": [
        "final_data.to_csv('data.csv')"
      ],
      "metadata": {
        "id": "yaNAOvCtf7m3"
      },
      "execution_count": 157,
      "outputs": []
    },
    {
      "cell_type": "code",
      "source": [
        "len(cols)"
      ],
      "metadata": {
        "id": "9PTZbqrOs_PW",
        "outputId": "f383f0c9-a5ad-4a8c-e0e0-0691fca51ffc",
        "colab": {
          "base_uri": "https://localhost:8080/"
        }
      },
      "execution_count": 158,
      "outputs": [
        {
          "output_type": "execute_result",
          "data": {
            "text/plain": [
              "23"
            ]
          },
          "metadata": {},
          "execution_count": 158
        }
      ]
    },
    {
      "cell_type": "code",
      "source": [
        "final_ticker_list=pd.read_csv('data.csv')"
      ],
      "metadata": {
        "id": "aDDndwmBhX8e"
      },
      "execution_count": 159,
      "outputs": []
    },
    {
      "cell_type": "code",
      "source": [
        "final_ticker=final_ticker_list.scripname.tolist()"
      ],
      "metadata": {
        "id": "GbX1UsPlikA1"
      },
      "execution_count": 160,
      "outputs": []
    },
    {
      "cell_type": "code",
      "source": [
        "#Get the NSE Component prices\n",
        "start_date = dt.datetime(2022,10,1)\n",
        "end_date= dt.datetime(2022,10,31)\n",
        "df_invest =yf.download(final_ticker,start_date,end_date)['Adj Close']"
      ],
      "metadata": {
        "id": "p46HoGvFoGgZ",
        "outputId": "cc371b17-b687-4788-8401-9780307c80ab",
        "colab": {
          "base_uri": "https://localhost:8080/"
        }
      },
      "execution_count": 161,
      "outputs": [
        {
          "output_type": "stream",
          "name": "stdout",
          "text": [
            "[*********************100%***********************]  23 of 23 completed\n"
          ]
        }
      ]
    },
    {
      "cell_type": "code",
      "source": [
        "# How many stocks are in your portfolio?\n",
        "numstocks = len(df_invest)\n",
        "\n",
        "# Create an array of equal weights across all assets\n",
        "portfolio_weights_ew =np.repeat(1,numstocks)\n",
        "\n",
        "# Calculate the equally-weighted portfolio returns\n",
        "df_invest['Portfolio_EW'] = df_invest.iloc[:, 0:numstocks].mul(portfolio_weights_ew, axis=1).sum(axis=1)\n",
        "#cumulative_returns_plot(['Portfolio', 'Portfolio_EW'])"
      ],
      "metadata": {
        "id": "CyrwiTWSi7dX"
      },
      "execution_count": 162,
      "outputs": []
    },
    {
      "cell_type": "code",
      "source": [
        "df_invest['Portfolio_EW'].plot();"
      ],
      "metadata": {
        "id": "0mr6q-IwkrQ9",
        "outputId": "964113ca-3ce0-4bd2-a861-66c538eca941",
        "colab": {
          "base_uri": "https://localhost:8080/",
          "height": 285
        }
      },
      "execution_count": 163,
      "outputs": [
        {
          "output_type": "display_data",
          "data": {
            "text/plain": [
              "<Figure size 432x288 with 1 Axes>"
            ],
            "image/png": "[encoded data removed]"
          },
          "metadata": {
            "needs_background": "light"
          }
        }
      ]
    },
    {
      "cell_type": "code",
      "source": [
        "print(f'return : {(np.round(np.subtract(df_invest.iloc[:,-1][-1],df_invest.iloc[:,-1][0])/df_invest.iloc[:,-1][0]*100))} % in the next 30 days')"
      ],
      "metadata": {
        "id": "U9Hi78RJlJlN",
        "outputId": "6aec32b8-5539-4f1a-a7e3-bca1e313181c",
        "colab": {
          "base_uri": "https://localhost:8080/"
        }
      },
      "execution_count": 164,
      "outputs": [
        {
          "output_type": "stream",
          "name": "stdout",
          "text": [
            "return : -0.0 % in the next 30 days\n"
          ]
        }
      ]
    },
    {
      "cell_type": "code",
      "source": [],
      "metadata": {
        "id": "S09XkKeGloFA"
      },
      "execution_count": 164,
      "outputs": []
    }
  ]
}