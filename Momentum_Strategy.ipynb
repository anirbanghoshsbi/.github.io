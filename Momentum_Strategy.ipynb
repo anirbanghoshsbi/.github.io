{
  "nbformat": 4,
  "nbformat_minor": 0,
  "metadata": {
    "colab": {
      "name": "Momentum_Strategy.ipynb",
      "provenance": [],
      "collapsed_sections": [],
      "authorship_tag": "ABX9TyNHNCVhByBqqkWyvliCihnQ",
      "include_colab_link": true
    },
    "kernelspec": {
      "name": "python3",
      "display_name": "Python 3"
    },
    "language_info": {
      "name": "python"
    }
  },
  "cells": [
    {
      "cell_type": "markdown",
      "metadata": {
        "id": "view-in-github",
        "colab_type": "text"
      },
      "source": [
        "<a href=\"https://colab.research.google.com/github/anirbanghoshsbi/.github.io/blob/master/Momentum_Strategy.ipynb\" target=\"_parent\"><img src=\"https://colab.research.google.com/assets/colab-badge.svg\" alt=\"Open In Colab\"/></a>"
      ]
    },
    {
      "cell_type": "code",
      "metadata": {
        "id": "zXYlvXIPVleT",
        "colab": {
          "base_uri": "https://localhost:8080/"
        },
        "outputId": "e7b8407b-cd20-4316-b1c5-0a0c8b514761"
      },
      "source": [
        "!pip install yfinance"
      ],
      "execution_count": 41,
      "outputs": [
        {
          "output_type": "stream",
          "name": "stdout",
          "text": [
            "Requirement already satisfied: yfinance in /usr/local/lib/python3.7/dist-packages (0.1.67)\n",
            "Requirement already satisfied: lxml>=4.5.1 in /usr/local/lib/python3.7/dist-packages (from yfinance) (4.6.4)\n",
            "Requirement already satisfied: pandas>=0.24 in /usr/local/lib/python3.7/dist-packages (from yfinance) (1.1.5)\n",
            "Requirement already satisfied: multitasking>=0.0.7 in /usr/local/lib/python3.7/dist-packages (from yfinance) (0.0.10)\n",
            "Requirement already satisfied: numpy>=1.15 in /usr/local/lib/python3.7/dist-packages (from yfinance) (1.19.5)\n",
            "Requirement already satisfied: requests>=2.20 in /usr/local/lib/python3.7/dist-packages (from yfinance) (2.23.0)\n",
            "Requirement already satisfied: pytz>=2017.2 in /usr/local/lib/python3.7/dist-packages (from pandas>=0.24->yfinance) (2018.9)\n",
            "Requirement already satisfied: python-dateutil>=2.7.3 in /usr/local/lib/python3.7/dist-packages (from pandas>=0.24->yfinance) (2.8.2)\n",
            "Requirement already satisfied: six>=1.5 in /usr/local/lib/python3.7/dist-packages (from python-dateutil>=2.7.3->pandas>=0.24->yfinance) (1.15.0)\n",
            "Requirement already satisfied: urllib3!=1.25.0,!=1.25.1,<1.26,>=1.21.1 in /usr/local/lib/python3.7/dist-packages (from requests>=2.20->yfinance) (1.24.3)\n",
            "Requirement already satisfied: chardet<4,>=3.0.2 in /usr/local/lib/python3.7/dist-packages (from requests>=2.20->yfinance) (3.0.4)\n",
            "Requirement already satisfied: idna<3,>=2.5 in /usr/local/lib/python3.7/dist-packages (from requests>=2.20->yfinance) (2.10)\n",
            "Requirement already satisfied: certifi>=2017.4.17 in /usr/local/lib/python3.7/dist-packages (from requests>=2.20->yfinance) (2021.10.8)\n"
          ]
        }
      ]
    },
    {
      "cell_type": "code",
      "metadata": {
        "id": "9EEstG84__n2"
      },
      "source": [
        "# import necessary packages\n",
        "import yfinance as yf\n",
        "import pandas as pd\n",
        "import numpy as np\n",
        "import pandas_datareader.data as reader\n",
        "import datetime as dt\n",
        "from pandas.tseries.offsets import MonthEnd"
      ],
      "execution_count": 42,
      "outputs": []
    },
    {
      "cell_type": "code",
      "metadata": {
        "id": "U8P95Apktyn9"
      },
      "source": [
        "symbols=pd.read_csv('https://raw.githubusercontent.com/anirbanghoshsbi/nifty500/main/ind_nifty500list.csv')"
      ],
      "execution_count": 43,
      "outputs": []
    },
    {
      "cell_type": "code",
      "metadata": {
        "id": "kGA1UR6fsmq7"
      },
      "source": [
        "symbols['data']=symbols.Symbol+'.NS'\n"
      ],
      "execution_count": 44,
      "outputs": []
    },
    {
      "cell_type": "code",
      "metadata": {
        "id": "TfRjNy9PsyIE"
      },
      "source": [
        "ticker=symbols.data.tolist()"
      ],
      "execution_count": 45,
      "outputs": []
    },
    {
      "cell_type": "code",
      "metadata": {
        "id": "k7XL8_BKAnFE"
      },
      "source": [
        "# Get ticker symbol for NSE 50 stocks\n",
        "#symbols=pd.read_html('https://in.finance.yahoo.com/quote/%5ENSEI/components?p=%5ENSEI')[0]\n",
        "#ticker=symbols.Symbol.to_list()\n"
      ],
      "execution_count": 46,
      "outputs": []
    },
    {
      "cell_type": "code",
      "metadata": {
        "id": "ghs0vScR4ijh"
      },
      "source": [
        "#symbols=pd.read_html('https://www.moneycontrol.com/financials/tatasteel/balance-sheetVI/TIS#TIS')"
      ],
      "execution_count": 47,
      "outputs": []
    },
    {
      "cell_type": "code",
      "metadata": {
        "id": "Wc_gi8y34oDX"
      },
      "source": [
        "#symbols[0]"
      ],
      "execution_count": 48,
      "outputs": []
    },
    {
      "cell_type": "code",
      "metadata": {
        "colab": {
          "base_uri": "https://localhost:8080/"
        },
        "id": "yuXSVp1aFikf",
        "outputId": "13e10724-5855-4ef6-fa3e-707e0ddac15b"
      },
      "source": [
        "#Get the NSE Component prices\n",
        "start_date = dt.datetime(2018,1,31)\n",
        "end_date= dt.datetime(2021,11,30)\n",
        "df =yf.download(ticker,start_date,end_date)['Adj Close']"
      ],
      "execution_count": 49,
      "outputs": [
        {
          "output_type": "stream",
          "name": "stdout",
          "text": [
            "[*********************100%***********************]  501 of 501 completed\n",
            "\n",
            "18 Failed downloads:\n",
            "- SUMICHEM.NS: Data doesn't exist for startDate = 1517356800, endDate = 1575676800\n",
            "- MAZDOCK.NS: Data doesn't exist for startDate = 1517356800, endDate = 1575676800\n",
            "- MAXHEALTH.NS: Data doesn't exist for startDate = 1517356800, endDate = 1575676800\n",
            "- VALIANTORG.NS: Data doesn't exist for startDate = 1517356800, endDate = 1575676800\n",
            "- UTIAMC.NS: Data doesn't exist for startDate = 1517356800, endDate = 1575676800\n",
            "- POWERINDIA.NS: Data doesn't exist for startDate = 1517356800, endDate = 1575676800\n",
            "- PRINCEPIPE.NS: Data doesn't exist for startDate = 1517356800, endDate = 1575676800\n",
            "- BURGERKING.NS: Data doesn't exist for startDate = 1517356800, endDate = 1575676800\n",
            "- SBICARD.NS: Data doesn't exist for startDate = 1517356800, endDate = 1575676800\n",
            "- HEMIPROP.NS: Data doesn't exist for startDate = 1517356800, endDate = 1575676800\n",
            "- ROUTE.NS: Data doesn't exist for startDate = 1517356800, endDate = 1575676800\n",
            "- CAMS.NS: Data doesn't exist for startDate = 1517356800, endDate = 1575676800\n",
            "- HAPPSTMNDS.NS: Data doesn't exist for startDate = 1517356800, endDate = 1575676800\n",
            "- ROSSARI.NS: Data doesn't exist for startDate = 1517356800, endDate = 1575676800\n",
            "- ANGELBRKG.NS: Data doesn't exist for startDate = 1517356800, endDate = 1575676800\n",
            "- UJJIVANSFB.NS: Data doesn't exist for startDate = 1517356800, endDate = 1575676800\n",
            "- SUVENPHAR.NS: Data doesn't exist for startDate = 1517356800, endDate = 1575676800\n",
            "- ORIENTREF.NS: No data found, symbol may be delisted\n"
          ]
        }
      ]
    },
    {
      "cell_type": "code",
      "metadata": {
        "id": "Ud7yi3azJAx-"
      },
      "source": [
        "# Get daily return and then cummulate it to monthly/Quartelry/Half yealrly /Annually return\n",
        "monthly_return = df.pct_change().resample('M').agg(lambda x:(x+1).prod()-1)\n",
        "#quarterly_return = df.pct_change().resample('Q').agg(lambda x:(x+1).prod()-1)\n",
        "#halfyearly_return = df.pct_change().resample('H').agg(lambda x:(x+1).prod()-1)\n",
        "#annual_return= df.pct_change().resample('Y').agg(lambda x:(x+1).prod()-1)\n"
      ],
      "execution_count": 50,
      "outputs": []
    },
    {
      "cell_type": "code",
      "metadata": {
        "id": "t0gB6vI2J0J9"
      },
      "source": [
        "#Calculate returns over last 11 months to 6 months\n",
        "past_11 = (monthly_return+1).rolling(11).apply(np.prod)-1\n",
        "past_10 = (monthly_return+1).rolling(10).apply(np.prod)-1\n",
        "past_9 = (monthly_return+1).rolling(9).apply(np.prod)-1\n",
        "past_8 = (monthly_return+1).rolling(8).apply(np.prod)-1\n",
        "past_7 = (monthly_return+1).rolling(7).apply(np.prod)-1\n",
        "past_6 = (monthly_return+1).rolling(6).apply(np.prod)-1"
      ],
      "execution_count": 51,
      "outputs": []
    },
    {
      "cell_type": "code",
      "source": [
        "#past_q_1= (quarterly_return+1).rolling(3).apply(np.prod)-1\n",
        "#past_q_2= (quarterly_return+1).rolling(6).apply(np.prod)-1\n",
        "#past_q_3= (quarterly_return+1).rolling(9).apply(np.prod)-1"
      ],
      "metadata": {
        "id": "Gmb_OOiftBXL"
      },
      "execution_count": 52,
      "outputs": []
    },
    {
      "cell_type": "code",
      "metadata": {
        "id": "B3Iskk9FNi_y"
      },
      "source": [
        "formation=dt.datetime(2021,11,30)"
      ],
      "execution_count": 53,
      "outputs": []
    },
    {
      "cell_type": "code",
      "metadata": {
        "id": "MJqcyQMHMf9B"
      },
      "source": [
        "from pandas.tseries.offsets import MonthEnd\n",
        "end_measurement11= formation- MonthEnd(1)\n",
        "end_measurement10 = formation-MonthEnd(2)\n",
        "\n",
        "end_measurement09 = formation-MonthEnd(3)\n",
        "end_measurement08 = formation-MonthEnd(4)\n",
        "end_measurement07 = formation-MonthEnd(5)\n",
        "end_measurement06 = formation-MonthEnd(6)"
      ],
      "execution_count": 54,
      "outputs": []
    },
    {
      "cell_type": "code",
      "metadata": {
        "colab": {
          "base_uri": "https://localhost:8080/"
        },
        "id": "w6awDUNKNU8A",
        "outputId": "7afaf623-a5c8-4cf8-a091-5b4e7cf00212"
      },
      "source": [
        "end_measurement11"
      ],
      "execution_count": 55,
      "outputs": [
        {
          "output_type": "execute_result",
          "data": {
            "text/plain": [
              "Timestamp('2019-11-30 00:00:00')"
            ]
          },
          "metadata": {},
          "execution_count": 55
        }
      ]
    },
    {
      "cell_type": "code",
      "source": [
        "past_11.tail(2)"
      ],
      "metadata": {
        "colab": {
          "base_uri": "https://localhost:8080/",
          "height": 227
        },
        "id": "Cs2vXBxXvhS0",
        "outputId": "1fbb7742-7935-456b-96c2-d8eb5926efca"
      },
      "execution_count": 56,
      "outputs": [
        {
          "output_type": "execute_result",
          "data": {
            "text/html": [
              "<div>\n",
              "<style scoped>\n",
              "    .dataframe tbody tr th:only-of-type {\n",
              "        vertical-align: middle;\n",
              "    }\n",
              "\n",
              "    .dataframe tbody tr th {\n",
              "        vertical-align: top;\n",
              "    }\n",
              "\n",
              "    .dataframe thead th {\n",
              "        text-align: right;\n",
              "    }\n",
              "</style>\n",
              "<table border=\"1\" class=\"dataframe\">\n",
              "  <thead>\n",
              "    <tr style=\"text-align: right;\">\n",
              "      <th></th>\n",
              "      <th>3MINDIA.NS</th>\n",
              "      <th>AARTIDRUGS.NS</th>\n",
              "      <th>AARTIIND.NS</th>\n",
              "      <th>AAVAS.NS</th>\n",
              "      <th>ABB.NS</th>\n",
              "      <th>ABBOTINDIA.NS</th>\n",
              "      <th>ABCAPITAL.NS</th>\n",
              "      <th>ABFRL.NS</th>\n",
              "      <th>ACC.NS</th>\n",
              "      <th>ADANIENT.NS</th>\n",
              "      <th>ADANIGREEN.NS</th>\n",
              "      <th>ADANIPORTS.NS</th>\n",
              "      <th>ADANITRANS.NS</th>\n",
              "      <th>ADVENZYMES.NS</th>\n",
              "      <th>AEGISCHEM.NS</th>\n",
              "      <th>AFFLE.NS</th>\n",
              "      <th>AIAENG.NS</th>\n",
              "      <th>AJANTPHARM.NS</th>\n",
              "      <th>AKZOINDIA.NS</th>\n",
              "      <th>ALEMBICLTD.NS</th>\n",
              "      <th>ALKEM.NS</th>\n",
              "      <th>ALKYLAMINE.NS</th>\n",
              "      <th>ALOKINDS.NS</th>\n",
              "      <th>AMARAJABAT.NS</th>\n",
              "      <th>AMBER.NS</th>\n",
              "      <th>AMBUJACEM.NS</th>\n",
              "      <th>ANGELBRKG.NS</th>\n",
              "      <th>APLAPOLLO.NS</th>\n",
              "      <th>APLLTD.NS</th>\n",
              "      <th>APOLLOHOSP.NS</th>\n",
              "      <th>APOLLOTYRE.NS</th>\n",
              "      <th>ASAHIINDIA.NS</th>\n",
              "      <th>ASHOKA.NS</th>\n",
              "      <th>ASHOKLEY.NS</th>\n",
              "      <th>ASIANPAINT.NS</th>\n",
              "      <th>ASTERDM.NS</th>\n",
              "      <th>ASTRAL.NS</th>\n",
              "      <th>ASTRAZEN.NS</th>\n",
              "      <th>ATGL.NS</th>\n",
              "      <th>ATUL.NS</th>\n",
              "      <th>...</th>\n",
              "      <th>TRENT.NS</th>\n",
              "      <th>TRIDENT.NS</th>\n",
              "      <th>TRITURBINE.NS</th>\n",
              "      <th>TTKPRESTIG.NS</th>\n",
              "      <th>TV18BRDCST.NS</th>\n",
              "      <th>TVSMOTOR.NS</th>\n",
              "      <th>UBL.NS</th>\n",
              "      <th>UCOBANK.NS</th>\n",
              "      <th>UFLEX.NS</th>\n",
              "      <th>UJJIVAN.NS</th>\n",
              "      <th>UJJIVANSFB.NS</th>\n",
              "      <th>ULTRACEMCO.NS</th>\n",
              "      <th>UNIONBANK.NS</th>\n",
              "      <th>UPL.NS</th>\n",
              "      <th>UTIAMC.NS</th>\n",
              "      <th>VAIBHAVGBL.NS</th>\n",
              "      <th>VAKRANGEE.NS</th>\n",
              "      <th>VALIANTORG.NS</th>\n",
              "      <th>VARROC.NS</th>\n",
              "      <th>VBL.NS</th>\n",
              "      <th>VEDL.NS</th>\n",
              "      <th>VENKEYS.NS</th>\n",
              "      <th>VGUARD.NS</th>\n",
              "      <th>VINATIORGA.NS</th>\n",
              "      <th>VIPIND.NS</th>\n",
              "      <th>VMART.NS</th>\n",
              "      <th>VOLTAS.NS</th>\n",
              "      <th>VSTIND.NS</th>\n",
              "      <th>VTL.NS</th>\n",
              "      <th>WABCOINDIA.NS</th>\n",
              "      <th>WELCORP.NS</th>\n",
              "      <th>WELSPUNIND.NS</th>\n",
              "      <th>WESTLIFE.NS</th>\n",
              "      <th>WHIRLPOOL.NS</th>\n",
              "      <th>WIPRO.NS</th>\n",
              "      <th>WOCKPHARMA.NS</th>\n",
              "      <th>YESBANK.NS</th>\n",
              "      <th>ZEEL.NS</th>\n",
              "      <th>ZENSARTECH.NS</th>\n",
              "      <th>ZYDUSWELL.NS</th>\n",
              "    </tr>\n",
              "    <tr>\n",
              "      <th>Date</th>\n",
              "      <th></th>\n",
              "      <th></th>\n",
              "      <th></th>\n",
              "      <th></th>\n",
              "      <th></th>\n",
              "      <th></th>\n",
              "      <th></th>\n",
              "      <th></th>\n",
              "      <th></th>\n",
              "      <th></th>\n",
              "      <th></th>\n",
              "      <th></th>\n",
              "      <th></th>\n",
              "      <th></th>\n",
              "      <th></th>\n",
              "      <th></th>\n",
              "      <th></th>\n",
              "      <th></th>\n",
              "      <th></th>\n",
              "      <th></th>\n",
              "      <th></th>\n",
              "      <th></th>\n",
              "      <th></th>\n",
              "      <th></th>\n",
              "      <th></th>\n",
              "      <th></th>\n",
              "      <th></th>\n",
              "      <th></th>\n",
              "      <th></th>\n",
              "      <th></th>\n",
              "      <th></th>\n",
              "      <th></th>\n",
              "      <th></th>\n",
              "      <th></th>\n",
              "      <th></th>\n",
              "      <th></th>\n",
              "      <th></th>\n",
              "      <th></th>\n",
              "      <th></th>\n",
              "      <th></th>\n",
              "      <th></th>\n",
              "      <th></th>\n",
              "      <th></th>\n",
              "      <th></th>\n",
              "      <th></th>\n",
              "      <th></th>\n",
              "      <th></th>\n",
              "      <th></th>\n",
              "      <th></th>\n",
              "      <th></th>\n",
              "      <th></th>\n",
              "      <th></th>\n",
              "      <th></th>\n",
              "      <th></th>\n",
              "      <th></th>\n",
              "      <th></th>\n",
              "      <th></th>\n",
              "      <th></th>\n",
              "      <th></th>\n",
              "      <th></th>\n",
              "      <th></th>\n",
              "      <th></th>\n",
              "      <th></th>\n",
              "      <th></th>\n",
              "      <th></th>\n",
              "      <th></th>\n",
              "      <th></th>\n",
              "      <th></th>\n",
              "      <th></th>\n",
              "      <th></th>\n",
              "      <th></th>\n",
              "      <th></th>\n",
              "      <th></th>\n",
              "      <th></th>\n",
              "      <th></th>\n",
              "      <th></th>\n",
              "      <th></th>\n",
              "      <th></th>\n",
              "      <th></th>\n",
              "      <th></th>\n",
              "      <th></th>\n",
              "    </tr>\n",
              "  </thead>\n",
              "  <tbody>\n",
              "    <tr>\n",
              "      <th>2019-11-30</th>\n",
              "      <td>0.068062</td>\n",
              "      <td>-0.096374</td>\n",
              "      <td>0.211272</td>\n",
              "      <td>1.067930</td>\n",
              "      <td>0.093642</td>\n",
              "      <td>0.678946</td>\n",
              "      <td>0.094500</td>\n",
              "      <td>0.112346</td>\n",
              "      <td>0.028342</td>\n",
              "      <td>0.338844</td>\n",
              "      <td>2.275986</td>\n",
              "      <td>-0.014055</td>\n",
              "      <td>0.563256</td>\n",
              "      <td>-0.059578</td>\n",
              "      <td>-0.035031</td>\n",
              "      <td>0.741487</td>\n",
              "      <td>-0.014464</td>\n",
              "      <td>-0.147876</td>\n",
              "      <td>0.121796</td>\n",
              "      <td>0.108273</td>\n",
              "      <td>0.050380</td>\n",
              "      <td>0.348438</td>\n",
              "      <td>-0.230769</td>\n",
              "      <td>0.026671</td>\n",
              "      <td>0.142094</td>\n",
              "      <td>-0.084381</td>\n",
              "      <td>0.0</td>\n",
              "      <td>0.358727</td>\n",
              "      <td>-0.069988</td>\n",
              "      <td>0.149963</td>\n",
              "      <td>-0.259936</td>\n",
              "      <td>-0.187661</td>\n",
              "      <td>-0.223875</td>\n",
              "      <td>-0.161764</td>\n",
              "      <td>0.251614</td>\n",
              "      <td>0.032840</td>\n",
              "      <td>0.258024</td>\n",
              "      <td>0.826038</td>\n",
              "      <td>0.603194</td>\n",
              "      <td>0.185397</td>\n",
              "      <td>...</td>\n",
              "      <td>0.441094</td>\n",
              "      <td>0.045819</td>\n",
              "      <td>-0.146902</td>\n",
              "      <td>-0.068704</td>\n",
              "      <td>-0.361257</td>\n",
              "      <td>-0.162173</td>\n",
              "      <td>-0.085052</td>\n",
              "      <td>-0.125616</td>\n",
              "      <td>-0.280150</td>\n",
              "      <td>0.225021</td>\n",
              "      <td>0.0</td>\n",
              "      <td>0.069924</td>\n",
              "      <td>-0.266007</td>\n",
              "      <td>0.142951</td>\n",
              "      <td>0.0</td>\n",
              "      <td>0.162444</td>\n",
              "      <td>0.25112</td>\n",
              "      <td>0.0</td>\n",
              "      <td>-0.382191</td>\n",
              "      <td>0.388387</td>\n",
              "      <td>-0.277375</td>\n",
              "      <td>-0.238472</td>\n",
              "      <td>0.046181</td>\n",
              "      <td>0.215979</td>\n",
              "      <td>-0.157693</td>\n",
              "      <td>-0.321844</td>\n",
              "      <td>0.282989</td>\n",
              "      <td>0.361634</td>\n",
              "      <td>-0.181219</td>\n",
              "      <td>-0.104049</td>\n",
              "      <td>0.002777</td>\n",
              "      <td>-0.107550</td>\n",
              "      <td>0.339656</td>\n",
              "      <td>0.550885</td>\n",
              "      <td>-0.039359</td>\n",
              "      <td>-0.507406</td>\n",
              "      <td>-0.613993</td>\n",
              "      <td>-0.378730</td>\n",
              "      <td>-0.179004</td>\n",
              "      <td>0.069591</td>\n",
              "    </tr>\n",
              "    <tr>\n",
              "      <th>2019-12-31</th>\n",
              "      <td>0.075458</td>\n",
              "      <td>-0.108440</td>\n",
              "      <td>-0.003735</td>\n",
              "      <td>1.058793</td>\n",
              "      <td>0.144914</td>\n",
              "      <td>0.591515</td>\n",
              "      <td>0.274074</td>\n",
              "      <td>0.077088</td>\n",
              "      <td>0.061190</td>\n",
              "      <td>0.510232</td>\n",
              "      <td>2.550562</td>\n",
              "      <td>0.081774</td>\n",
              "      <td>0.494377</td>\n",
              "      <td>-0.024298</td>\n",
              "      <td>0.017243</td>\n",
              "      <td>0.681509</td>\n",
              "      <td>0.031369</td>\n",
              "      <td>-0.027455</td>\n",
              "      <td>0.104785</td>\n",
              "      <td>0.280510</td>\n",
              "      <td>0.114117</td>\n",
              "      <td>0.387786</td>\n",
              "      <td>-0.181818</td>\n",
              "      <td>-0.005887</td>\n",
              "      <td>0.415275</td>\n",
              "      <td>-0.036069</td>\n",
              "      <td>0.0</td>\n",
              "      <td>0.425349</td>\n",
              "      <td>-0.047658</td>\n",
              "      <td>0.109565</td>\n",
              "      <td>-0.115749</td>\n",
              "      <td>-0.189356</td>\n",
              "      <td>-0.222222</td>\n",
              "      <td>0.021434</td>\n",
              "      <td>0.224059</td>\n",
              "      <td>0.001936</td>\n",
              "      <td>0.273593</td>\n",
              "      <td>0.656757</td>\n",
              "      <td>0.632074</td>\n",
              "      <td>0.167115</td>\n",
              "      <td>...</td>\n",
              "      <td>0.425527</td>\n",
              "      <td>0.071278</td>\n",
              "      <td>-0.102222</td>\n",
              "      <td>-0.123044</td>\n",
              "      <td>-0.325153</td>\n",
              "      <td>-0.109172</td>\n",
              "      <td>-0.144937</td>\n",
              "      <td>-0.144357</td>\n",
              "      <td>-0.221528</td>\n",
              "      <td>0.258595</td>\n",
              "      <td>0.0</td>\n",
              "      <td>0.184453</td>\n",
              "      <td>-0.335952</td>\n",
              "      <td>0.079697</td>\n",
              "      <td>0.0</td>\n",
              "      <td>0.285894</td>\n",
              "      <td>-0.02177</td>\n",
              "      <td>0.0</td>\n",
              "      <td>-0.348778</td>\n",
              "      <td>0.299180</td>\n",
              "      <td>-0.273185</td>\n",
              "      <td>-0.309673</td>\n",
              "      <td>0.155915</td>\n",
              "      <td>0.264743</td>\n",
              "      <td>-0.102599</td>\n",
              "      <td>-0.331586</td>\n",
              "      <td>0.292534</td>\n",
              "      <td>0.344013</td>\n",
              "      <td>-0.132281</td>\n",
              "      <td>0.000594</td>\n",
              "      <td>0.283185</td>\n",
              "      <td>-0.171406</td>\n",
              "      <td>0.259174</td>\n",
              "      <td>0.565042</td>\n",
              "      <td>-0.129650</td>\n",
              "      <td>-0.446936</td>\n",
              "      <td>-0.703564</td>\n",
              "      <td>-0.235665</td>\n",
              "      <td>-0.162440</td>\n",
              "      <td>0.132880</td>\n",
              "    </tr>\n",
              "  </tbody>\n",
              "</table>\n",
              "<p>2 rows × 501 columns</p>\n",
              "</div>"
            ],
            "text/plain": [
              "            3MINDIA.NS  AARTIDRUGS.NS  ...  ZENSARTECH.NS  ZYDUSWELL.NS\n",
              "Date                                   ...                             \n",
              "2019-11-30    0.068062      -0.096374  ...      -0.179004      0.069591\n",
              "2019-12-31    0.075458      -0.108440  ...      -0.162440      0.132880\n",
              "\n",
              "[2 rows x 501 columns]"
            ]
          },
          "metadata": {},
          "execution_count": 56
        }
      ]
    },
    {
      "cell_type": "code",
      "metadata": {
        "id": "ELqVPHQNLaWH"
      },
      "source": [
        "ret_12 = past_11.loc[end_measurement11]"
      ],
      "execution_count": 57,
      "outputs": []
    },
    {
      "cell_type": "code",
      "metadata": {
        "id": "NlizzJyVMILC"
      },
      "source": [
        "ret_11 = past_10.loc[end_measurement10]\n",
        "ret_10 = past_9.loc[end_measurement09]\n",
        "ret_09 = past_8.loc[end_measurement08]\n",
        "ret_08 = past_7.loc[end_measurement07]\n",
        "ret_07 = past_6.loc[end_measurement06]\n"
      ],
      "execution_count": 58,
      "outputs": []
    },
    {
      "cell_type": "code",
      "metadata": {
        "id": "8oSd-q_2NH7l"
      },
      "source": [
        "ret_12=ret_12.reset_index()\n",
        "ret_11=ret_11.reset_index()\n",
        "ret_10=ret_10.reset_index()\n",
        "ret_09=ret_09.reset_index()\n",
        "ret_08=ret_08.reset_index()\n",
        "ret_07=ret_07.reset_index()"
      ],
      "execution_count": 59,
      "outputs": []
    },
    {
      "cell_type": "code",
      "metadata": {
        "id": "QjNpGu-lNM6u"
      },
      "source": [
        "ret_12['quintile'] = pd.qcut(ret_12.iloc[:,1],10,labels=False)\n",
        "ret_11['quintile'] = pd.qcut(ret_11.iloc[:,1],10,labels=False)\n",
        "ret_10['quintile'] = pd.qcut(ret_10.iloc[:,1],10,labels=False)\n",
        "ret_09['quintile'] = pd.qcut(ret_09.iloc[:,1],10,labels=False)\n",
        "ret_08['quintile'] = pd.qcut(ret_08.iloc[:,1],10,labels=False)\n",
        "ret_07['quintile'] = pd.qcut(ret_07.iloc[:,1],10,labels=False)"
      ],
      "execution_count": 60,
      "outputs": []
    },
    {
      "cell_type": "code",
      "metadata": {
        "id": "TNVjnOXwNt-c"
      },
      "source": [
        "winners12= ret_12[ret_12.quintile==9]\n",
        "winners11= ret_11[ret_11.quintile==9]\n",
        "winners10= ret_10[ret_10.quintile==9]\n",
        "winners9= ret_09[ret_09.quintile==9]\n",
        "winners08= ret_08[ret_08.quintile==9]\n",
        "winners07= ret_07[ret_07.quintile==9]"
      ],
      "execution_count": 61,
      "outputs": []
    },
    {
      "cell_type": "code",
      "metadata": {
        "id": "RWAKva32OJNE"
      },
      "source": [
        "# Getting Common Winners\n",
        "\n",
        "from functools import reduce # python 3 only\n",
        "final_winner=reduce(np.intersect1d, [winners12.index,winners11.index,\\\n",
        "                                      winners10.index,winners9.index,\\\n",
        "                                      winners08.index,winners07.index])\n",
        "\n",
        "final_winner=final_winner.tolist()"
      ],
      "execution_count": 62,
      "outputs": []
    },
    {
      "cell_type": "code",
      "metadata": {
        "id": "BVykNDQoPWoT",
        "outputId": "e1bbe648-2383-4c7b-ed91-14a5ccb8b149",
        "colab": {
          "base_uri": "https://localhost:8080/"
        }
      },
      "source": [
        "cols=[]\n",
        "for ind in final_winner:\n",
        "  print(df.columns[ind])\n",
        "  cols.append(df.columns[ind])"
      ],
      "execution_count": 63,
      "outputs": [
        {
          "output_type": "stream",
          "name": "stdout",
          "text": [
            "AAVAS.NS\n",
            "ASTRAZEN.NS\n",
            "BAJFINANCE.NS\n",
            "BALRAMCHIN.NS\n",
            "CREDITACC.NS\n",
            "DEEPAKNTR.NS\n",
            "GRSE.NS\n",
            "GUJGASLTD.NS\n",
            "HDFCAMC.NS\n",
            "ICICIGI.NS\n",
            "JKCEMENT.NS\n",
            "MANAPPURAM.NS\n",
            "NAM-INDIA.NS\n",
            "NAUKRI.NS\n",
            "PGHL.NS\n",
            "PIIND.NS\n",
            "SRF.NS\n",
            "TANLA.NS\n"
          ]
        }
      ]
    },
    {
      "cell_type": "code",
      "metadata": {
        "id": "tl1JtSWAYryu",
        "colab": {
          "base_uri": "https://localhost:8080/",
          "height": 309
        },
        "outputId": "507a72ec-08ef-46d3-bd6f-8fd574b98cc9"
      },
      "source": [
        "df[cols].plot();"
      ],
      "execution_count": 64,
      "outputs": [
        {
          "output_type": "display_data",
          "data": {
            "image/png": "[encoded data removed]",
            "text/plain": [
              "<Figure size 432x288 with 1 Axes>"
            ]
          },
          "metadata": {
            "needs_background": "light"
          }
        }
      ]
    },
    {
      "cell_type": "code",
      "source": [
        "len(cols)"
      ],
      "metadata": {
        "id": "9PTZbqrOs_PW",
        "outputId": "62e21014-d246-4802-e6fc-4d2e93b3f58c",
        "colab": {
          "base_uri": "https://localhost:8080/"
        }
      },
      "execution_count": 65,
      "outputs": [
        {
          "output_type": "execute_result",
          "data": {
            "text/plain": [
              "18"
            ]
          },
          "metadata": {},
          "execution_count": 65
        }
      ]
    },
    {
      "cell_type": "code",
      "source": [
        "from sklearn.decomposition import PCA\n",
        "from sklearn.impute import SimpleImputer"
      ],
      "metadata": {
        "id": "bJ1oqlaJyMRR"
      },
      "execution_count": 66,
      "outputs": []
    },
    {
      "cell_type": "code",
      "source": [
        " imp_mean = SimpleImputer(missing_values=np.nan, strategy='mean')"
      ],
      "metadata": {
        "id": "QkU3W40xzlzr"
      },
      "execution_count": 67,
      "outputs": []
    },
    {
      "cell_type": "code",
      "source": [
        "imp_mean.fit(df[cols])"
      ],
      "metadata": {
        "id": "w1_S3T8RzIrH",
        "outputId": "244e98b7-fd6d-44a8-ad46-954255c13f6d",
        "colab": {
          "base_uri": "https://localhost:8080/"
        }
      },
      "execution_count": 68,
      "outputs": [
        {
          "output_type": "execute_result",
          "data": {
            "text/plain": [
              "SimpleImputer()"
            ]
          },
          "metadata": {},
          "execution_count": 68
        }
      ]
    },
    {
      "cell_type": "code",
      "source": [
        "data_imputed=imp_mean.fit_transform(df[cols])"
      ],
      "metadata": {
        "id": "tGSOwp-Fzsc6"
      },
      "execution_count": 69,
      "outputs": []
    },
    {
      "cell_type": "code",
      "source": [
        "pca=PCA(1).fit(data_imputed.T)"
      ],
      "metadata": {
        "id": "5r5W_-kqyyJT"
      },
      "execution_count": 70,
      "outputs": []
    },
    {
      "cell_type": "code",
      "source": [
        "index=pca.components_[0].T"
      ],
      "metadata": {
        "id": "SwwoRGUpy2vT"
      },
      "execution_count": 71,
      "outputs": []
    },
    {
      "cell_type": "code",
      "source": [
        "final=pd.DataFrame({'Date':df.index,'Index_Value':index})"
      ],
      "metadata": {
        "id": "RYMSUV6vy60T"
      },
      "execution_count": 72,
      "outputs": []
    },
    {
      "cell_type": "code",
      "source": [
        "final=final.set_index('Date')"
      ],
      "metadata": {
        "id": "_r5V9HgEy9N_"
      },
      "execution_count": 73,
      "outputs": []
    },
    {
      "cell_type": "code",
      "source": [
        "final['Index_Value'].plot();"
      ],
      "metadata": {
        "id": "zPwhlr4Ly-4o",
        "outputId": "de44cbcf-f7dd-4657-d621-f0a051bc7b1b",
        "colab": {
          "base_uri": "https://localhost:8080/",
          "height": 277
        }
      },
      "execution_count": 74,
      "outputs": [
        {
          "output_type": "display_data",
          "data": {
            "image/png": "[encoded data removed]",
            "text/plain": [
              "<Figure size 432x288 with 1 Axes>"
            ]
          },
          "metadata": {
            "needs_background": "light"
          }
        }
      ]
    },
    {
      "cell_type": "code",
      "source": [
        "stock_data=pd.DataFrame({'stockname':cols,'ROE':np.nan,'Debt_to_Equity':np.nan,'CFO':np.nan,'Earnings':np.nan})"
      ],
      "metadata": {
        "id": "htLV536Qunfj"
      },
      "execution_count": 75,
      "outputs": []
    },
    {
      "cell_type": "code",
      "source": [
        "stock_data.head(2)"
      ],
      "metadata": {
        "id": "0hygnJ91vG5q",
        "outputId": "125963e6-5415-4421-e5e4-3b3b8c9b894a",
        "colab": {
          "base_uri": "https://localhost:8080/",
          "height": 112
        }
      },
      "execution_count": 76,
      "outputs": [
        {
          "output_type": "execute_result",
          "data": {
            "text/html": [
              "<div>\n",
              "<style scoped>\n",
              "    .dataframe tbody tr th:only-of-type {\n",
              "        vertical-align: middle;\n",
              "    }\n",
              "\n",
              "    .dataframe tbody tr th {\n",
              "        vertical-align: top;\n",
              "    }\n",
              "\n",
              "    .dataframe thead th {\n",
              "        text-align: right;\n",
              "    }\n",
              "</style>\n",
              "<table border=\"1\" class=\"dataframe\">\n",
              "  <thead>\n",
              "    <tr style=\"text-align: right;\">\n",
              "      <th></th>\n",
              "      <th>stockname</th>\n",
              "      <th>ROE</th>\n",
              "      <th>Debt_to_Equity</th>\n",
              "      <th>CFO</th>\n",
              "      <th>Earnings</th>\n",
              "    </tr>\n",
              "  </thead>\n",
              "  <tbody>\n",
              "    <tr>\n",
              "      <th>0</th>\n",
              "      <td>AAVAS.NS</td>\n",
              "      <td>NaN</td>\n",
              "      <td>NaN</td>\n",
              "      <td>NaN</td>\n",
              "      <td>NaN</td>\n",
              "    </tr>\n",
              "    <tr>\n",
              "      <th>1</th>\n",
              "      <td>ASTRAZEN.NS</td>\n",
              "      <td>NaN</td>\n",
              "      <td>NaN</td>\n",
              "      <td>NaN</td>\n",
              "      <td>NaN</td>\n",
              "    </tr>\n",
              "  </tbody>\n",
              "</table>\n",
              "</div>"
            ],
            "text/plain": [
              "     stockname  ROE  Debt_to_Equity  CFO  Earnings\n",
              "0     AAVAS.NS  NaN             NaN  NaN       NaN\n",
              "1  ASTRAZEN.NS  NaN             NaN  NaN       NaN"
            ]
          },
          "metadata": {},
          "execution_count": 76
        }
      ]
    },
    {
      "cell_type": "code",
      "source": [
        ""
      ],
      "metadata": {
        "id": "ZiSgWdg_vIYZ"
      },
      "execution_count": 76,
      "outputs": []
    }
  ]
}