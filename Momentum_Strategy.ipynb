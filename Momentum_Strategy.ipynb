{
  "nbformat": 4,
  "nbformat_minor": 0,
  "metadata": {
    "colab": {
      "name": "Momentum_Strategy.ipynb",
      "provenance": [],
      "collapsed_sections": [],
      "authorship_tag": "ABX9TyO5ypeB9lRxXKh+rZ1NB9dO",
      "include_colab_link": true
    },
    "kernelspec": {
      "name": "python3",
      "display_name": "Python 3"
    },
    "language_info": {
      "name": "python"
    }
  },
  "cells": [
    {
      "cell_type": "markdown",
      "metadata": {
        "id": "view-in-github",
        "colab_type": "text"
      },
      "source": [
        "<a href=\"https://colab.research.google.com/github/anirbanghoshsbi/.github.io/blob/master/Momentum_Strategy.ipynb\" target=\"_parent\"><img src=\"https://colab.research.google.com/assets/colab-badge.svg\" alt=\"Open In Colab\"/></a>"
      ]
    },
    {
      "cell_type": "code",
      "metadata": {
        "id": "zXYlvXIPVleT",
        "colab": {
          "base_uri": "https://localhost:8080/"
        },
        "outputId": "0db529c3-6fd9-40ed-e2af-5aa514ea76f8"
      },
      "source": [
        "!pip install yfinance"
      ],
      "execution_count": 20,
      "outputs": [
        {
          "output_type": "stream",
          "name": "stdout",
          "text": [
            "Requirement already satisfied: yfinance in /usr/local/lib/python3.7/dist-packages (0.1.67)\n",
            "Requirement already satisfied: numpy>=1.15 in /usr/local/lib/python3.7/dist-packages (from yfinance) (1.19.5)\n",
            "Requirement already satisfied: lxml>=4.5.1 in /usr/local/lib/python3.7/dist-packages (from yfinance) (4.6.4)\n",
            "Requirement already satisfied: multitasking>=0.0.7 in /usr/local/lib/python3.7/dist-packages (from yfinance) (0.0.10)\n",
            "Requirement already satisfied: requests>=2.20 in /usr/local/lib/python3.7/dist-packages (from yfinance) (2.23.0)\n",
            "Requirement already satisfied: pandas>=0.24 in /usr/local/lib/python3.7/dist-packages (from yfinance) (1.1.5)\n",
            "Requirement already satisfied: python-dateutil>=2.7.3 in /usr/local/lib/python3.7/dist-packages (from pandas>=0.24->yfinance) (2.8.2)\n",
            "Requirement already satisfied: pytz>=2017.2 in /usr/local/lib/python3.7/dist-packages (from pandas>=0.24->yfinance) (2018.9)\n",
            "Requirement already satisfied: six>=1.5 in /usr/local/lib/python3.7/dist-packages (from python-dateutil>=2.7.3->pandas>=0.24->yfinance) (1.15.0)\n",
            "Requirement already satisfied: urllib3!=1.25.0,!=1.25.1,<1.26,>=1.21.1 in /usr/local/lib/python3.7/dist-packages (from requests>=2.20->yfinance) (1.24.3)\n",
            "Requirement already satisfied: certifi>=2017.4.17 in /usr/local/lib/python3.7/dist-packages (from requests>=2.20->yfinance) (2021.10.8)\n",
            "Requirement already satisfied: chardet<4,>=3.0.2 in /usr/local/lib/python3.7/dist-packages (from requests>=2.20->yfinance) (3.0.4)\n",
            "Requirement already satisfied: idna<3,>=2.5 in /usr/local/lib/python3.7/dist-packages (from requests>=2.20->yfinance) (2.10)\n"
          ]
        }
      ]
    },
    {
      "cell_type": "code",
      "metadata": {
        "id": "9EEstG84__n2"
      },
      "source": [
        "# import necessary packages\n",
        "import yfinance as yf\n",
        "import pandas as pd\n",
        "import numpy as np\n",
        "import pandas_datareader.data as reader\n",
        "import datetime as dt\n",
        "from pandas.tseries.offsets import MonthEnd"
      ],
      "execution_count": 21,
      "outputs": []
    },
    {
      "cell_type": "code",
      "metadata": {
        "id": "U8P95Apktyn9"
      },
      "source": [
        "symbols=pd.read_csv('https://raw.githubusercontent.com/anirbanghoshsbi/nifty500/main/ind_nifty500list.csv')"
      ],
      "execution_count": 22,
      "outputs": []
    },
    {
      "cell_type": "code",
      "metadata": {
        "id": "kGA1UR6fsmq7"
      },
      "source": [
        "symbols['data']=symbols.Symbol+'.NS'\n"
      ],
      "execution_count": 23,
      "outputs": []
    },
    {
      "cell_type": "code",
      "metadata": {
        "id": "TfRjNy9PsyIE"
      },
      "source": [
        "ticker=symbols.data.tolist()"
      ],
      "execution_count": 24,
      "outputs": []
    },
    {
      "cell_type": "code",
      "metadata": {
        "id": "k7XL8_BKAnFE"
      },
      "source": [
        "# Get ticker symbol for NSE 50 stocks\n",
        "#symbols=pd.read_html('https://in.finance.yahoo.com/quote/%5ENSEI/components?p=%5ENSEI')[0]\n",
        "#ticker=symbols.Symbol.to_list()\n"
      ],
      "execution_count": 25,
      "outputs": []
    },
    {
      "cell_type": "code",
      "metadata": {
        "id": "ghs0vScR4ijh"
      },
      "source": [
        "#symbols=pd.read_html('https://www.moneycontrol.com/financials/tatasteel/balance-sheetVI/TIS#TIS')"
      ],
      "execution_count": 26,
      "outputs": []
    },
    {
      "cell_type": "code",
      "metadata": {
        "id": "Wc_gi8y34oDX"
      },
      "source": [
        "#symbols[0]"
      ],
      "execution_count": 27,
      "outputs": []
    },
    {
      "cell_type": "code",
      "metadata": {
        "colab": {
          "base_uri": "https://localhost:8080/"
        },
        "id": "yuXSVp1aFikf",
        "outputId": "751645a9-25e5-43b4-bf44-9baeb8c10253"
      },
      "source": [
        "#Get the NSE Component prices\n",
        "start_date = dt.datetime(2018,1,31)\n",
        "end_date= dt.datetime(2021,12,7)\n",
        "df =yf.download(ticker,start_date,end_date)['Adj Close']"
      ],
      "execution_count": 28,
      "outputs": [
        {
          "output_type": "stream",
          "name": "stdout",
          "text": [
            "[*********************100%***********************]  501 of 501 completed\n",
            "\n",
            "1 Failed download:\n",
            "- ORIENTREF.NS: No data found, symbol may be delisted\n"
          ]
        }
      ]
    },
    {
      "cell_type": "code",
      "metadata": {
        "id": "Ud7yi3azJAx-"
      },
      "source": [
        "# Get daily return and then cummulate it to monthly/Quartelry/Half yealrly /Annually return\n",
        "monthly_return = df.pct_change().resample('M').agg(lambda x:(x+1).prod()-1)\n",
        "#quarterly_return = df.pct_change().resample('Q').agg(lambda x:(x+1).prod()-1)\n",
        "#halfyearly_return = df.pct_change().resample('H').agg(lambda x:(x+1).prod()-1)\n",
        "#annual_return= df.pct_change().resample('Y').agg(lambda x:(x+1).prod()-1)\n"
      ],
      "execution_count": 29,
      "outputs": []
    },
    {
      "cell_type": "code",
      "metadata": {
        "id": "t0gB6vI2J0J9"
      },
      "source": [
        "#Calculate returns over last 11 months to 6 months\n",
        "past_11 = (monthly_return+1).rolling(11).apply(np.prod)-1\n",
        "past_10 = (monthly_return+1).rolling(10).apply(np.prod)-1\n",
        "past_9 = (monthly_return+1).rolling(9).apply(np.prod)-1\n",
        "past_8 = (monthly_return+1).rolling(8).apply(np.prod)-1\n",
        "past_7 = (monthly_return+1).rolling(7).apply(np.prod)-1\n",
        "past_6 = (monthly_return+1).rolling(6).apply(np.prod)-1"
      ],
      "execution_count": 30,
      "outputs": []
    },
    {
      "cell_type": "code",
      "source": [
        "#past_q_1= (quarterly_return+1).rolling(3).apply(np.prod)-1\n",
        "#past_q_2= (quarterly_return+1).rolling(6).apply(np.prod)-1\n",
        "#past_q_3= (quarterly_return+1).rolling(9).apply(np.prod)-1"
      ],
      "metadata": {
        "id": "Gmb_OOiftBXL"
      },
      "execution_count": 31,
      "outputs": []
    },
    {
      "cell_type": "code",
      "metadata": {
        "id": "B3Iskk9FNi_y"
      },
      "source": [
        "formation=dt.datetime(2021,11,30)"
      ],
      "execution_count": 32,
      "outputs": []
    },
    {
      "cell_type": "code",
      "metadata": {
        "id": "MJqcyQMHMf9B"
      },
      "source": [
        "from pandas.tseries.offsets import MonthEnd\n",
        "end_measurement11= formation- MonthEnd(1)\n",
        "end_measurement10 = formation-MonthEnd(2)\n",
        "\n",
        "end_measurement09 = formation-MonthEnd(3)\n",
        "end_measurement08 = formation-MonthEnd(4)\n",
        "end_measurement07 = formation-MonthEnd(5)\n",
        "end_measurement06 = formation-MonthEnd(6)"
      ],
      "execution_count": 33,
      "outputs": []
    },
    {
      "cell_type": "code",
      "metadata": {
        "colab": {
          "base_uri": "https://localhost:8080/"
        },
        "id": "w6awDUNKNU8A",
        "outputId": "22e64997-e9c0-4a55-ea47-4a28e07ac062"
      },
      "source": [
        "end_measurement11"
      ],
      "execution_count": 34,
      "outputs": [
        {
          "output_type": "execute_result",
          "data": {
            "text/plain": [
              "Timestamp('2021-10-31 00:00:00')"
            ]
          },
          "metadata": {},
          "execution_count": 34
        }
      ]
    },
    {
      "cell_type": "code",
      "source": [
        "past_11.tail(2)"
      ],
      "metadata": {
        "id": "Cs2vXBxXvhS0",
        "outputId": "be261b35-1867-41e5-c3e5-f949f829b4d3",
        "colab": {
          "base_uri": "https://localhost:8080/",
          "height": 227
        }
      },
      "execution_count": 35,
      "outputs": [
        {
          "output_type": "execute_result",
          "data": {
            "text/html": [
              "<div>\n",
              "<style scoped>\n",
              "    .dataframe tbody tr th:only-of-type {\n",
              "        vertical-align: middle;\n",
              "    }\n",
              "\n",
              "    .dataframe tbody tr th {\n",
              "        vertical-align: top;\n",
              "    }\n",
              "\n",
              "    .dataframe thead th {\n",
              "        text-align: right;\n",
              "    }\n",
              "</style>\n",
              "<table border=\"1\" class=\"dataframe\">\n",
              "  <thead>\n",
              "    <tr style=\"text-align: right;\">\n",
              "      <th></th>\n",
              "      <th>3MINDIA.NS</th>\n",
              "      <th>AARTIDRUGS.NS</th>\n",
              "      <th>AARTIIND.NS</th>\n",
              "      <th>AAVAS.NS</th>\n",
              "      <th>ABB.NS</th>\n",
              "      <th>ABBOTINDIA.NS</th>\n",
              "      <th>ABCAPITAL.NS</th>\n",
              "      <th>ABFRL.NS</th>\n",
              "      <th>ACC.NS</th>\n",
              "      <th>ADANIENT.NS</th>\n",
              "      <th>ADANIGREEN.NS</th>\n",
              "      <th>ADANIPORTS.NS</th>\n",
              "      <th>ADANITRANS.NS</th>\n",
              "      <th>ADVENZYMES.NS</th>\n",
              "      <th>AEGISCHEM.NS</th>\n",
              "      <th>AFFLE.NS</th>\n",
              "      <th>AIAENG.NS</th>\n",
              "      <th>AJANTPHARM.NS</th>\n",
              "      <th>AKZOINDIA.NS</th>\n",
              "      <th>ALEMBICLTD.NS</th>\n",
              "      <th>ALKEM.NS</th>\n",
              "      <th>ALKYLAMINE.NS</th>\n",
              "      <th>ALOKINDS.NS</th>\n",
              "      <th>AMARAJABAT.NS</th>\n",
              "      <th>AMBER.NS</th>\n",
              "      <th>AMBUJACEM.NS</th>\n",
              "      <th>ANGELBRKG.NS</th>\n",
              "      <th>APLAPOLLO.NS</th>\n",
              "      <th>APLLTD.NS</th>\n",
              "      <th>APOLLOHOSP.NS</th>\n",
              "      <th>APOLLOTYRE.NS</th>\n",
              "      <th>ASAHIINDIA.NS</th>\n",
              "      <th>ASHOKA.NS</th>\n",
              "      <th>ASHOKLEY.NS</th>\n",
              "      <th>ASIANPAINT.NS</th>\n",
              "      <th>ASTERDM.NS</th>\n",
              "      <th>ASTRAL.NS</th>\n",
              "      <th>ASTRAZEN.NS</th>\n",
              "      <th>ATGL.NS</th>\n",
              "      <th>ATUL.NS</th>\n",
              "      <th>...</th>\n",
              "      <th>TRENT.NS</th>\n",
              "      <th>TRIDENT.NS</th>\n",
              "      <th>TRITURBINE.NS</th>\n",
              "      <th>TTKPRESTIG.NS</th>\n",
              "      <th>TV18BRDCST.NS</th>\n",
              "      <th>TVSMOTOR.NS</th>\n",
              "      <th>UBL.NS</th>\n",
              "      <th>UCOBANK.NS</th>\n",
              "      <th>UFLEX.NS</th>\n",
              "      <th>UJJIVAN.NS</th>\n",
              "      <th>UJJIVANSFB.NS</th>\n",
              "      <th>ULTRACEMCO.NS</th>\n",
              "      <th>UNIONBANK.NS</th>\n",
              "      <th>UPL.NS</th>\n",
              "      <th>UTIAMC.NS</th>\n",
              "      <th>VAIBHAVGBL.NS</th>\n",
              "      <th>VAKRANGEE.NS</th>\n",
              "      <th>VALIANTORG.NS</th>\n",
              "      <th>VARROC.NS</th>\n",
              "      <th>VBL.NS</th>\n",
              "      <th>VEDL.NS</th>\n",
              "      <th>VENKEYS.NS</th>\n",
              "      <th>VGUARD.NS</th>\n",
              "      <th>VINATIORGA.NS</th>\n",
              "      <th>VIPIND.NS</th>\n",
              "      <th>VMART.NS</th>\n",
              "      <th>VOLTAS.NS</th>\n",
              "      <th>VSTIND.NS</th>\n",
              "      <th>VTL.NS</th>\n",
              "      <th>WABCOINDIA.NS</th>\n",
              "      <th>WELCORP.NS</th>\n",
              "      <th>WELSPUNIND.NS</th>\n",
              "      <th>WESTLIFE.NS</th>\n",
              "      <th>WHIRLPOOL.NS</th>\n",
              "      <th>WIPRO.NS</th>\n",
              "      <th>WOCKPHARMA.NS</th>\n",
              "      <th>YESBANK.NS</th>\n",
              "      <th>ZEEL.NS</th>\n",
              "      <th>ZENSARTECH.NS</th>\n",
              "      <th>ZYDUSWELL.NS</th>\n",
              "    </tr>\n",
              "    <tr>\n",
              "      <th>Date</th>\n",
              "      <th></th>\n",
              "      <th></th>\n",
              "      <th></th>\n",
              "      <th></th>\n",
              "      <th></th>\n",
              "      <th></th>\n",
              "      <th></th>\n",
              "      <th></th>\n",
              "      <th></th>\n",
              "      <th></th>\n",
              "      <th></th>\n",
              "      <th></th>\n",
              "      <th></th>\n",
              "      <th></th>\n",
              "      <th></th>\n",
              "      <th></th>\n",
              "      <th></th>\n",
              "      <th></th>\n",
              "      <th></th>\n",
              "      <th></th>\n",
              "      <th></th>\n",
              "      <th></th>\n",
              "      <th></th>\n",
              "      <th></th>\n",
              "      <th></th>\n",
              "      <th></th>\n",
              "      <th></th>\n",
              "      <th></th>\n",
              "      <th></th>\n",
              "      <th></th>\n",
              "      <th></th>\n",
              "      <th></th>\n",
              "      <th></th>\n",
              "      <th></th>\n",
              "      <th></th>\n",
              "      <th></th>\n",
              "      <th></th>\n",
              "      <th></th>\n",
              "      <th></th>\n",
              "      <th></th>\n",
              "      <th></th>\n",
              "      <th></th>\n",
              "      <th></th>\n",
              "      <th></th>\n",
              "      <th></th>\n",
              "      <th></th>\n",
              "      <th></th>\n",
              "      <th></th>\n",
              "      <th></th>\n",
              "      <th></th>\n",
              "      <th></th>\n",
              "      <th></th>\n",
              "      <th></th>\n",
              "      <th></th>\n",
              "      <th></th>\n",
              "      <th></th>\n",
              "      <th></th>\n",
              "      <th></th>\n",
              "      <th></th>\n",
              "      <th></th>\n",
              "      <th></th>\n",
              "      <th></th>\n",
              "      <th></th>\n",
              "      <th></th>\n",
              "      <th></th>\n",
              "      <th></th>\n",
              "      <th></th>\n",
              "      <th></th>\n",
              "      <th></th>\n",
              "      <th></th>\n",
              "      <th></th>\n",
              "      <th></th>\n",
              "      <th></th>\n",
              "      <th></th>\n",
              "      <th></th>\n",
              "      <th></th>\n",
              "      <th></th>\n",
              "      <th></th>\n",
              "      <th></th>\n",
              "      <th></th>\n",
              "      <th></th>\n",
              "    </tr>\n",
              "  </thead>\n",
              "  <tbody>\n",
              "    <tr>\n",
              "      <th>2021-11-30</th>\n",
              "      <td>0.201812</td>\n",
              "      <td>-0.281359</td>\n",
              "      <td>0.522199</td>\n",
              "      <td>0.660847</td>\n",
              "      <td>0.713492</td>\n",
              "      <td>0.221247</td>\n",
              "      <td>0.283529</td>\n",
              "      <td>0.540459</td>\n",
              "      <td>0.424116</td>\n",
              "      <td>2.469823</td>\n",
              "      <td>0.230667</td>\n",
              "      <td>0.423547</td>\n",
              "      <td>3.113143</td>\n",
              "      <td>-0.019455</td>\n",
              "      <td>-0.082506</td>\n",
              "      <td>0.518905</td>\n",
              "      <td>-0.034364</td>\n",
              "      <td>0.279290</td>\n",
              "      <td>-0.122354</td>\n",
              "      <td>-0.055428</td>\n",
              "      <td>0.240542</td>\n",
              "      <td>1.087818</td>\n",
              "      <td>-0.083691</td>\n",
              "      <td>-0.317478</td>\n",
              "      <td>0.287593</td>\n",
              "      <td>0.510700</td>\n",
              "      <td>2.291607</td>\n",
              "      <td>1.092865</td>\n",
              "      <td>-0.208193</td>\n",
              "      <td>1.358762</td>\n",
              "      <td>0.166132</td>\n",
              "      <td>0.750823</td>\n",
              "      <td>0.038316</td>\n",
              "      <td>0.266463</td>\n",
              "      <td>0.144128</td>\n",
              "      <td>0.157673</td>\n",
              "      <td>0.645264</td>\n",
              "      <td>-0.320409</td>\n",
              "      <td>3.260259</td>\n",
              "      <td>0.356834</td>\n",
              "      <td>...</td>\n",
              "      <td>0.476238</td>\n",
              "      <td>4.417585</td>\n",
              "      <td>1.315048</td>\n",
              "      <td>0.618932</td>\n",
              "      <td>0.333333</td>\n",
              "      <td>0.423581</td>\n",
              "      <td>0.268488</td>\n",
              "      <td>0.019685</td>\n",
              "      <td>0.307087</td>\n",
              "      <td>-0.509325</td>\n",
              "      <td>-0.536896</td>\n",
              "      <td>0.412597</td>\n",
              "      <td>0.362916</td>\n",
              "      <td>0.479562</td>\n",
              "      <td>1.010173</td>\n",
              "      <td>0.013332</td>\n",
              "      <td>-0.504088</td>\n",
              "      <td>-0.343253</td>\n",
              "      <td>-0.257549</td>\n",
              "      <td>0.464560</td>\n",
              "      <td>1.231798</td>\n",
              "      <td>0.433047</td>\n",
              "      <td>0.327173</td>\n",
              "      <td>0.563673</td>\n",
              "      <td>0.533882</td>\n",
              "      <td>0.552695</td>\n",
              "      <td>0.469277</td>\n",
              "      <td>-0.101047</td>\n",
              "      <td>0.922626</td>\n",
              "      <td>0.462904</td>\n",
              "      <td>0.288034</td>\n",
              "      <td>1.034020</td>\n",
              "      <td>0.201797</td>\n",
              "      <td>-0.221562</td>\n",
              "      <td>0.653547</td>\n",
              "      <td>-0.203092</td>\n",
              "      <td>-0.305322</td>\n",
              "      <td>0.472177</td>\n",
              "      <td>0.899905</td>\n",
              "      <td>-0.010993</td>\n",
              "    </tr>\n",
              "    <tr>\n",
              "      <th>2021-12-31</th>\n",
              "      <td>0.361068</td>\n",
              "      <td>-0.214731</td>\n",
              "      <td>0.655395</td>\n",
              "      <td>0.463366</td>\n",
              "      <td>0.490661</td>\n",
              "      <td>0.327450</td>\n",
              "      <td>0.450495</td>\n",
              "      <td>0.709527</td>\n",
              "      <td>0.392960</td>\n",
              "      <td>2.250158</td>\n",
              "      <td>0.371977</td>\n",
              "      <td>0.429308</td>\n",
              "      <td>3.072911</td>\n",
              "      <td>0.046414</td>\n",
              "      <td>-0.144443</td>\n",
              "      <td>0.462630</td>\n",
              "      <td>-0.066514</td>\n",
              "      <td>0.170919</td>\n",
              "      <td>-0.045362</td>\n",
              "      <td>0.064058</td>\n",
              "      <td>0.145531</td>\n",
              "      <td>0.658342</td>\n",
              "      <td>0.009412</td>\n",
              "      <td>-0.304645</td>\n",
              "      <td>0.241244</td>\n",
              "      <td>0.526492</td>\n",
              "      <td>2.248839</td>\n",
              "      <td>0.994485</td>\n",
              "      <td>-0.142108</td>\n",
              "      <td>1.070486</td>\n",
              "      <td>0.057085</td>\n",
              "      <td>0.752401</td>\n",
              "      <td>0.110412</td>\n",
              "      <td>0.086909</td>\n",
              "      <td>0.269839</td>\n",
              "      <td>0.214579</td>\n",
              "      <td>0.711943</td>\n",
              "      <td>-0.145309</td>\n",
              "      <td>3.097484</td>\n",
              "      <td>0.395057</td>\n",
              "      <td>...</td>\n",
              "      <td>0.606710</td>\n",
              "      <td>2.332569</td>\n",
              "      <td>1.197054</td>\n",
              "      <td>0.698843</td>\n",
              "      <td>0.457143</td>\n",
              "      <td>0.185913</td>\n",
              "      <td>0.154242</td>\n",
              "      <td>0.011673</td>\n",
              "      <td>0.435328</td>\n",
              "      <td>-0.438532</td>\n",
              "      <td>-0.466387</td>\n",
              "      <td>0.360891</td>\n",
              "      <td>0.441224</td>\n",
              "      <td>0.293619</td>\n",
              "      <td>0.870950</td>\n",
              "      <td>-0.005310</td>\n",
              "      <td>-0.345607</td>\n",
              "      <td>-0.223432</td>\n",
              "      <td>-0.321033</td>\n",
              "      <td>0.483035</td>\n",
              "      <td>1.213107</td>\n",
              "      <td>0.683111</td>\n",
              "      <td>0.018213</td>\n",
              "      <td>0.551693</td>\n",
              "      <td>0.554901</td>\n",
              "      <td>0.522975</td>\n",
              "      <td>0.364017</td>\n",
              "      <td>-0.062963</td>\n",
              "      <td>0.878126</td>\n",
              "      <td>0.504876</td>\n",
              "      <td>0.433241</td>\n",
              "      <td>1.097743</td>\n",
              "      <td>0.216667</td>\n",
              "      <td>-0.222706</td>\n",
              "      <td>0.494377</td>\n",
              "      <td>-0.109448</td>\n",
              "      <td>-0.200000</td>\n",
              "      <td>0.641791</td>\n",
              "      <td>0.852818</td>\n",
              "      <td>0.002888</td>\n",
              "    </tr>\n",
              "  </tbody>\n",
              "</table>\n",
              "<p>2 rows × 501 columns</p>\n",
              "</div>"
            ],
            "text/plain": [
              "            3MINDIA.NS  AARTIDRUGS.NS  ...  ZENSARTECH.NS  ZYDUSWELL.NS\n",
              "Date                                   ...                             \n",
              "2021-11-30    0.201812      -0.281359  ...       0.899905     -0.010993\n",
              "2021-12-31    0.361068      -0.214731  ...       0.852818      0.002888\n",
              "\n",
              "[2 rows x 501 columns]"
            ]
          },
          "metadata": {},
          "execution_count": 35
        }
      ]
    },
    {
      "cell_type": "code",
      "metadata": {
        "id": "ELqVPHQNLaWH"
      },
      "source": [
        "ret_12 = past_11.loc[end_measurement11]"
      ],
      "execution_count": 36,
      "outputs": []
    },
    {
      "cell_type": "code",
      "metadata": {
        "id": "NlizzJyVMILC"
      },
      "source": [
        "ret_11 = past_10.loc[end_measurement10]\n",
        "ret_10 = past_9.loc[end_measurement09]\n",
        "ret_09 = past_8.loc[end_measurement08]\n",
        "ret_08 = past_7.loc[end_measurement07]\n",
        "ret_07 = past_6.loc[end_measurement06]\n"
      ],
      "execution_count": 37,
      "outputs": []
    },
    {
      "cell_type": "code",
      "metadata": {
        "id": "8oSd-q_2NH7l"
      },
      "source": [
        "ret_12=ret_12.reset_index()\n",
        "ret_11=ret_11.reset_index()\n",
        "ret_10=ret_10.reset_index()\n",
        "ret_09=ret_09.reset_index()\n",
        "ret_08=ret_08.reset_index()\n",
        "ret_07=ret_07.reset_index()"
      ],
      "execution_count": 38,
      "outputs": []
    },
    {
      "cell_type": "code",
      "metadata": {
        "id": "QjNpGu-lNM6u"
      },
      "source": [
        "ret_12['quintile'] = pd.qcut(ret_12.iloc[:,1],10,labels=False)\n",
        "ret_11['quintile'] = pd.qcut(ret_11.iloc[:,1],10,labels=False)\n",
        "ret_10['quintile'] = pd.qcut(ret_10.iloc[:,1],10,labels=False)\n",
        "ret_09['quintile'] = pd.qcut(ret_09.iloc[:,1],10,labels=False)\n",
        "ret_08['quintile'] = pd.qcut(ret_08.iloc[:,1],10,labels=False)\n",
        "ret_07['quintile'] = pd.qcut(ret_07.iloc[:,1],10,labels=False)"
      ],
      "execution_count": 39,
      "outputs": []
    },
    {
      "cell_type": "code",
      "source": [
        ""
      ],
      "metadata": {
        "id": "l3_Nri4MtrND"
      },
      "execution_count": 39,
      "outputs": []
    },
    {
      "cell_type": "code",
      "metadata": {
        "id": "TNVjnOXwNt-c"
      },
      "source": [
        "winners12= ret_12[ret_12.quintile==9]\n",
        "winners11= ret_11[ret_11.quintile==9]\n",
        "winners10= ret_10[ret_10.quintile==9]\n",
        "winners9= ret_09[ret_09.quintile==9]\n",
        "winners08= ret_08[ret_08.quintile==9]\n",
        "winners07= ret_07[ret_07.quintile==9]"
      ],
      "execution_count": 40,
      "outputs": []
    },
    {
      "cell_type": "code",
      "metadata": {
        "id": "qYoex_FzXEa_"
      },
      "source": [
        ""
      ],
      "execution_count": 40,
      "outputs": []
    },
    {
      "cell_type": "code",
      "metadata": {
        "id": "RWAKva32OJNE"
      },
      "source": [
        "# Getting Common Winners\n",
        "\n",
        "from functools import reduce # python 3 only\n",
        "final_winner=reduce(np.intersect1d, [winners12.index,winners11.index,\\\n",
        "                                      winners10.index,winners9.index,\\\n",
        "                                      winners08.index,winners07.index])\n",
        "\n",
        "final_winner=final_winner.tolist()"
      ],
      "execution_count": 41,
      "outputs": []
    },
    {
      "cell_type": "code",
      "metadata": {
        "id": "BVykNDQoPWoT"
      },
      "source": [
        "cols=[]\n",
        "for ind in final_winner:\n",
        "  print(df.columns[ind])\n",
        "  cols.append(df.columns[ind])"
      ],
      "execution_count": null,
      "outputs": []
    },
    {
      "cell_type": "code",
      "metadata": {
        "id": "tl1JtSWAYryu"
      },
      "source": [
        "df[cols]"
      ],
      "execution_count": null,
      "outputs": []
    }
  ]
}