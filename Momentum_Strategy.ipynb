{
  "nbformat": 4,
  "nbformat_minor": 0,
  "metadata": {
    "colab": {
      "name": "Momentum_Strategy.ipynb",
      "provenance": [],
      "collapsed_sections": [],
      "authorship_tag": "ABX9TyNLZWxtD2RCcLBTOsdKK/SJ",
      "include_colab_link": true
    },
    "kernelspec": {
      "name": "python3",
      "display_name": "Python 3"
    },
    "language_info": {
      "name": "python"
    }
  },
  "cells": [
    {
      "cell_type": "markdown",
      "metadata": {
        "id": "view-in-github",
        "colab_type": "text"
      },
      "source": [
        "<a href=\"https://colab.research.google.com/github/anirbanghoshsbi/.github.io/blob/master/Momentum_Strategy.ipynb\" target=\"_parent\"><img src=\"https://colab.research.google.com/assets/colab-badge.svg\" alt=\"Open In Colab\"/></a>"
      ]
    },
    {
      "cell_type": "code",
      "metadata": {
        "id": "zXYlvXIPVleT",
        "outputId": "368e31f4-ac4f-4d77-90b9-4f5206a28f63",
        "colab": {
          "base_uri": "https://localhost:8080/"
        }
      },
      "source": [
        "!pip install yfinance"
      ],
      "execution_count": 1,
      "outputs": [
        {
          "output_type": "stream",
          "text": [
            "Collecting yfinance\n",
            "  Downloading yfinance-0.1.63.tar.gz (26 kB)\n",
            "Requirement already satisfied: pandas>=0.24 in /usr/local/lib/python3.7/dist-packages (from yfinance) (1.1.5)\n",
            "Requirement already satisfied: numpy>=1.15 in /usr/local/lib/python3.7/dist-packages (from yfinance) (1.19.5)\n",
            "Requirement already satisfied: requests>=2.20 in /usr/local/lib/python3.7/dist-packages (from yfinance) (2.23.0)\n",
            "Requirement already satisfied: multitasking>=0.0.7 in /usr/local/lib/python3.7/dist-packages (from yfinance) (0.0.9)\n",
            "Collecting lxml>=4.5.1\n",
            "  Downloading lxml-4.6.3-cp37-cp37m-manylinux2014_x86_64.whl (6.3 MB)\n",
            "\u001b[K     |████████████████████████████████| 6.3 MB 6.8 MB/s \n",
            "\u001b[?25hRequirement already satisfied: pytz>=2017.2 in /usr/local/lib/python3.7/dist-packages (from pandas>=0.24->yfinance) (2018.9)\n",
            "Requirement already satisfied: python-dateutil>=2.7.3 in /usr/local/lib/python3.7/dist-packages (from pandas>=0.24->yfinance) (2.8.2)\n",
            "Requirement already satisfied: six>=1.5 in /usr/local/lib/python3.7/dist-packages (from python-dateutil>=2.7.3->pandas>=0.24->yfinance) (1.15.0)\n",
            "Requirement already satisfied: urllib3!=1.25.0,!=1.25.1,<1.26,>=1.21.1 in /usr/local/lib/python3.7/dist-packages (from requests>=2.20->yfinance) (1.24.3)\n",
            "Requirement already satisfied: certifi>=2017.4.17 in /usr/local/lib/python3.7/dist-packages (from requests>=2.20->yfinance) (2021.5.30)\n",
            "Requirement already satisfied: chardet<4,>=3.0.2 in /usr/local/lib/python3.7/dist-packages (from requests>=2.20->yfinance) (3.0.4)\n",
            "Requirement already satisfied: idna<3,>=2.5 in /usr/local/lib/python3.7/dist-packages (from requests>=2.20->yfinance) (2.10)\n",
            "Building wheels for collected packages: yfinance\n",
            "  Building wheel for yfinance (setup.py) ... \u001b[?25l\u001b[?25hdone\n",
            "  Created wheel for yfinance: filename=yfinance-0.1.63-py2.py3-none-any.whl size=23918 sha256=28833213ec8022a06894b009d002010b3d634cb16c59e54d9721ec82c41f77da\n",
            "  Stored in directory: /root/.cache/pip/wheels/fe/87/8b/7ec24486e001d3926537f5f7801f57a74d181be25b11157983\n",
            "Successfully built yfinance\n",
            "Installing collected packages: lxml, yfinance\n",
            "  Attempting uninstall: lxml\n",
            "    Found existing installation: lxml 4.2.6\n",
            "    Uninstalling lxml-4.2.6:\n",
            "      Successfully uninstalled lxml-4.2.6\n",
            "Successfully installed lxml-4.6.3 yfinance-0.1.63\n"
          ],
          "name": "stdout"
        }
      ]
    },
    {
      "cell_type": "code",
      "metadata": {
        "id": "9EEstG84__n2"
      },
      "source": [
        "# import necessary packages\n",
        "import yfinance as yf\n",
        "import pandas as pd\n",
        "import numpy as np\n",
        "import pandas_datareader.data as reader\n",
        "import datetime as dt\n",
        "from pandas.tseries.offsets import MonthEnd"
      ],
      "execution_count": 2,
      "outputs": []
    },
    {
      "cell_type": "code",
      "metadata": {
        "id": "U8P95Apktyn9"
      },
      "source": [
        "symbols=pd.read_csv('https://raw.githubusercontent.com/anirbanghoshsbi/nifty500/main/ind_nifty500list.csv')"
      ],
      "execution_count": 3,
      "outputs": []
    },
    {
      "cell_type": "code",
      "metadata": {
        "id": "kGA1UR6fsmq7"
      },
      "source": [
        "symbols['data']=symbols.Symbol+'.NS'\n"
      ],
      "execution_count": 4,
      "outputs": []
    },
    {
      "cell_type": "code",
      "metadata": {
        "id": "TfRjNy9PsyIE"
      },
      "source": [
        "ticker=symbols.data.tolist()"
      ],
      "execution_count": 5,
      "outputs": []
    },
    {
      "cell_type": "code",
      "metadata": {
        "id": "k7XL8_BKAnFE"
      },
      "source": [
        "# Get ticker symbol for NSE 50 stocks\n",
        "#symbols=pd.read_html('https://in.finance.yahoo.com/quote/%5ENSEI/components?p=%5ENSEI')[0]\n",
        "#ticker=symbols.Symbol.to_list()\n"
      ],
      "execution_count": 6,
      "outputs": []
    },
    {
      "cell_type": "code",
      "metadata": {
        "id": "ghs0vScR4ijh"
      },
      "source": [
        "#symbols=pd.read_html('https://www.moneycontrol.com/financials/tatasteel/balance-sheetVI/TIS#TIS')"
      ],
      "execution_count": 7,
      "outputs": []
    },
    {
      "cell_type": "code",
      "metadata": {
        "id": "Wc_gi8y34oDX"
      },
      "source": [
        "#symbols[0]"
      ],
      "execution_count": 8,
      "outputs": []
    },
    {
      "cell_type": "code",
      "metadata": {
        "colab": {
          "base_uri": "https://localhost:8080/"
        },
        "id": "yuXSVp1aFikf",
        "outputId": "b499fdb8-7b00-4911-a731-86442ba4f0b2"
      },
      "source": [
        "#Get the NSE Component prices\n",
        "start_date = dt.datetime(2018,1,31)\n",
        "end_date= dt.datetime(2021,6,30)\n",
        "df =yf.download(ticker,start_date,end_date)['Adj Close']"
      ],
      "execution_count": 9,
      "outputs": [
        {
          "output_type": "stream",
          "text": [
            "[*********************100%***********************]  501 of 501 completed\n"
          ],
          "name": "stdout"
        }
      ]
    },
    {
      "cell_type": "code",
      "metadata": {
        "id": "Ud7yi3azJAx-"
      },
      "source": [
        "# Get daily return and then cummulate it to monthly return\n",
        "monthly_return = df.pct_change().resample('M').agg(lambda x:(x+1).prod()-1)"
      ],
      "execution_count": 10,
      "outputs": []
    },
    {
      "cell_type": "code",
      "metadata": {
        "id": "t0gB6vI2J0J9"
      },
      "source": [
        "#Calculate returns over last 11 months to 6 months\n",
        "past_11 = (monthly_return+1).rolling(11).apply(np.prod)-1\n",
        "past_10 = (monthly_return+1).rolling(10).apply(np.prod)-1\n",
        "past_9 = (monthly_return+1).rolling(9).apply(np.prod)-1\n",
        "past_8 = (monthly_return+1).rolling(8).apply(np.prod)-1\n",
        "past_7 = (monthly_return+1).rolling(7).apply(np.prod)-1\n",
        "past_6 = (monthly_return+1).rolling(6).apply(np.prod)-1"
      ],
      "execution_count": 11,
      "outputs": []
    },
    {
      "cell_type": "code",
      "metadata": {
        "id": "B3Iskk9FNi_y"
      },
      "source": [
        "formation=dt.datetime(2021,5,31)"
      ],
      "execution_count": 12,
      "outputs": []
    },
    {
      "cell_type": "code",
      "metadata": {
        "id": "MJqcyQMHMf9B"
      },
      "source": [
        "from pandas.tseries.offsets import MonthEnd\n",
        "end_measurement11= formation- MonthEnd(1)\n",
        "end_measurement10 = formation-MonthEnd(2)\n",
        "\n",
        "end_measurement09 = formation-MonthEnd(3)\n",
        "end_measurement08 = formation-MonthEnd(4)\n",
        "end_measurement07 = formation-MonthEnd(5)\n",
        "end_measurement06 = formation-MonthEnd(6)"
      ],
      "execution_count": 13,
      "outputs": []
    },
    {
      "cell_type": "code",
      "metadata": {
        "colab": {
          "base_uri": "https://localhost:8080/"
        },
        "id": "w6awDUNKNU8A",
        "outputId": "f6d8f3b1-b81f-4901-8d49-cc3178d7a218"
      },
      "source": [
        "end_measurement11"
      ],
      "execution_count": 14,
      "outputs": [
        {
          "output_type": "execute_result",
          "data": {
            "text/plain": [
              "Timestamp('2021-04-30 00:00:00')"
            ]
          },
          "metadata": {},
          "execution_count": 14
        }
      ]
    },
    {
      "cell_type": "code",
      "metadata": {
        "id": "ELqVPHQNLaWH"
      },
      "source": [
        "ret_12 = past_11.loc[end_measurement11]"
      ],
      "execution_count": 15,
      "outputs": []
    },
    {
      "cell_type": "code",
      "metadata": {
        "id": "NlizzJyVMILC"
      },
      "source": [
        "ret_11 = past_10.loc[end_measurement10]\n",
        "ret_10 = past_9.loc[end_measurement09]\n",
        "ret_09 = past_8.loc[end_measurement08]\n",
        "ret_08 = past_7.loc[end_measurement07]\n",
        "ret_07 = past_6.loc[end_measurement06]\n"
      ],
      "execution_count": 16,
      "outputs": []
    },
    {
      "cell_type": "code",
      "metadata": {
        "id": "8oSd-q_2NH7l"
      },
      "source": [
        "ret_12=ret_12.reset_index()\n",
        "ret_11=ret_11.reset_index()\n",
        "ret_10=ret_10.reset_index()\n",
        "ret_09=ret_09.reset_index()\n",
        "ret_08=ret_08.reset_index()\n",
        "ret_07=ret_07.reset_index()"
      ],
      "execution_count": 17,
      "outputs": []
    },
    {
      "cell_type": "code",
      "metadata": {
        "id": "QjNpGu-lNM6u"
      },
      "source": [
        "ret_12['quintile'] = pd.qcut(ret_12.iloc[:,1],10,labels=False)\n",
        "ret_11['quintile'] = pd.qcut(ret_11.iloc[:,1],10,labels=False)\n",
        "ret_10['quintile'] = pd.qcut(ret_10.iloc[:,1],10,labels=False)\n",
        "ret_09['quintile'] = pd.qcut(ret_09.iloc[:,1],10,labels=False)\n",
        "ret_08['quintile'] = pd.qcut(ret_08.iloc[:,1],10,labels=False)\n",
        "ret_07['quintile'] = pd.qcut(ret_07.iloc[:,1],10,labels=False)"
      ],
      "execution_count": 18,
      "outputs": []
    },
    {
      "cell_type": "code",
      "metadata": {
        "id": "TNVjnOXwNt-c"
      },
      "source": [
        "winners12= ret_12[ret_12.quintile==9]\n",
        "winners11= ret_11[ret_11.quintile==9]\n",
        "winners10= ret_10[ret_10.quintile==9]\n",
        "winners9= ret_09[ret_09.quintile==9]\n",
        "winners08= ret_08[ret_08.quintile==9]\n",
        "winners07= ret_07[ret_07.quintile==9]"
      ],
      "execution_count": 19,
      "outputs": []
    },
    {
      "cell_type": "code",
      "metadata": {
        "id": "qYoex_FzXEa_"
      },
      "source": [
        ""
      ],
      "execution_count": 19,
      "outputs": []
    },
    {
      "cell_type": "code",
      "metadata": {
        "id": "RWAKva32OJNE"
      },
      "source": [
        "# Getting Common Winners\n",
        "\n",
        "from functools import reduce # python 3 only\n",
        "final_winner=reduce(np.intersect1d, [winners12.index,winners11.index,\\\n",
        "                                      winners10.index,winners9.index,\\\n",
        "                                      winners08.index,winners07.index])\n",
        "\n",
        "final_winner=final_winner.tolist()"
      ],
      "execution_count": 20,
      "outputs": []
    },
    {
      "cell_type": "code",
      "metadata": {
        "id": "BVykNDQoPWoT",
        "colab": {
          "base_uri": "https://localhost:8080/"
        },
        "outputId": "a54656fe-00cc-4942-d74d-161414358781"
      },
      "source": [
        "for ind in final_winner:\n",
        "  print(df.columns[ind])"
      ],
      "execution_count": 21,
      "outputs": [
        {
          "output_type": "stream",
          "text": [
            "ADANIENT.NS\n",
            "ADANIGREEN.NS\n",
            "ADANITRANS.NS\n",
            "APLAPOLLO.NS\n",
            "ATGL.NS\n",
            "BALAMINES.NS\n",
            "BSOFT.NS\n",
            "CHOLAFIN.NS\n",
            "CYIENT.NS\n",
            "DIXON.NS\n",
            "FSL.NS\n",
            "ICIL.NS\n",
            "IDFC.NS\n",
            "INTELLECT.NS\n",
            "JSLHISAR.NS\n",
            "KPITTECH.NS\n",
            "LAURUSLABS.NS\n",
            "PERSISTENT.NS\n",
            "PRINCEPIPE.NS\n",
            "PRSMJOHNSN.NS\n",
            "SUVENPHAR.NS\n",
            "TANLA.NS\n"
          ],
          "name": "stdout"
        }
      ]
    },
    {
      "cell_type": "code",
      "metadata": {
        "id": "tl1JtSWAYryu"
      },
      "source": [
        ""
      ],
      "execution_count": 21,
      "outputs": []
    }
  ]
}