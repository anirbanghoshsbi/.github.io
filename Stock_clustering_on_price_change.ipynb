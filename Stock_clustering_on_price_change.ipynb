{
  "nbformat": 4,
  "nbformat_minor": 0,
  "metadata": {
    "colab": {
      "name": "Stock_clustering_on_price_change.ipynb",
      "provenance": [],
      "authorship_tag": "ABX9TyOabdh2ehVoxCGjVqTnB5sU",
      "include_colab_link": true
    },
    "kernelspec": {
      "name": "python3",
      "display_name": "Python 3"
    },
    "language_info": {
      "name": "python"
    }
  },
  "cells": [
    {
      "cell_type": "markdown",
      "metadata": {
        "id": "view-in-github",
        "colab_type": "text"
      },
      "source": [
        "<a href=\"https://colab.research.google.com/github/anirbanghoshsbi/.github.io/blob/master/Stock_clustering_on_price_change.ipynb\" target=\"_parent\"><img src=\"https://colab.research.google.com/assets/colab-badge.svg\" alt=\"Open In Colab\"/></a>"
      ]
    },
    {
      "cell_type": "markdown",
      "metadata": {
        "id": "Rxxyjg3WIfdV"
      },
      "source": [
        "**https://pythonforfinance.net/2018/02/08/stock-clusters-using-k-means-algorithm-in-python/**"
      ]
    },
    {
      "cell_type": "code",
      "metadata": {
        "id": "EjI65W3kIfJJ"
      },
      "source": [
        ""
      ],
      "execution_count": null,
      "outputs": []
    },
    {
      "cell_type": "code",
      "metadata": {
        "colab": {
          "base_uri": "https://localhost:8080/"
        },
        "id": "JUM8cygs4iW8",
        "outputId": "38bd8bbc-b73b-4a27-dbd4-69061f899311"
      },
      "source": [
        "!pip install yfinance\n"
      ],
      "execution_count": 1,
      "outputs": [
        {
          "output_type": "stream",
          "name": "stdout",
          "text": [
            "Collecting yfinance\n",
            "  Downloading yfinance-0.1.69-py2.py3-none-any.whl (26 kB)\n",
            "Requirement already satisfied: numpy>=1.15 in /usr/local/lib/python3.7/dist-packages (from yfinance) (1.19.5)\n",
            "Requirement already satisfied: multitasking>=0.0.7 in /usr/local/lib/python3.7/dist-packages (from yfinance) (0.0.10)\n",
            "Collecting requests>=2.26\n",
            "  Downloading requests-2.27.1-py2.py3-none-any.whl (63 kB)\n",
            "\u001b[?25l\r\u001b[K     |█████▏                          | 10 kB 25.7 MB/s eta 0:00:01\r\u001b[K     |██████████▍                     | 20 kB 28.7 MB/s eta 0:00:01\r\u001b[K     |███████████████▋                | 30 kB 32.8 MB/s eta 0:00:01\r\u001b[K     |████████████████████▊           | 40 kB 11.0 MB/s eta 0:00:01\r\u001b[K     |██████████████████████████      | 51 kB 12.8 MB/s eta 0:00:01\r\u001b[K     |███████████████████████████████▏| 61 kB 6.6 MB/s eta 0:00:01\r\u001b[K     |████████████████████████████████| 63 kB 1.3 MB/s \n",
            "\u001b[?25hRequirement already satisfied: pandas>=0.24 in /usr/local/lib/python3.7/dist-packages (from yfinance) (1.1.5)\n",
            "Collecting lxml>=4.5.1\n",
            "  Downloading lxml-4.7.1-cp37-cp37m-manylinux_2_17_x86_64.manylinux2014_x86_64.manylinux_2_24_x86_64.whl (6.4 MB)\n",
            "\u001b[K     |████████████████████████████████| 6.4 MB 10.3 MB/s \n",
            "\u001b[?25hRequirement already satisfied: pytz>=2017.2 in /usr/local/lib/python3.7/dist-packages (from pandas>=0.24->yfinance) (2018.9)\n",
            "Requirement already satisfied: python-dateutil>=2.7.3 in /usr/local/lib/python3.7/dist-packages (from pandas>=0.24->yfinance) (2.8.2)\n",
            "Requirement already satisfied: six>=1.5 in /usr/local/lib/python3.7/dist-packages (from python-dateutil>=2.7.3->pandas>=0.24->yfinance) (1.15.0)\n",
            "Requirement already satisfied: certifi>=2017.4.17 in /usr/local/lib/python3.7/dist-packages (from requests>=2.26->yfinance) (2021.10.8)\n",
            "Requirement already satisfied: idna<4,>=2.5 in /usr/local/lib/python3.7/dist-packages (from requests>=2.26->yfinance) (2.10)\n",
            "Requirement already satisfied: charset-normalizer~=2.0.0 in /usr/local/lib/python3.7/dist-packages (from requests>=2.26->yfinance) (2.0.10)\n",
            "Requirement already satisfied: urllib3<1.27,>=1.21.1 in /usr/local/lib/python3.7/dist-packages (from requests>=2.26->yfinance) (1.24.3)\n",
            "Installing collected packages: requests, lxml, yfinance\n",
            "  Attempting uninstall: requests\n",
            "    Found existing installation: requests 2.23.0\n",
            "    Uninstalling requests-2.23.0:\n",
            "      Successfully uninstalled requests-2.23.0\n",
            "  Attempting uninstall: lxml\n",
            "    Found existing installation: lxml 4.2.6\n",
            "    Uninstalling lxml-4.2.6:\n",
            "      Successfully uninstalled lxml-4.2.6\n",
            "\u001b[31mERROR: pip's dependency resolver does not currently take into account all the packages that are installed. This behaviour is the source of the following dependency conflicts.\n",
            "google-colab 1.0.0 requires requests~=2.23.0, but you have requests 2.27.1 which is incompatible.\n",
            "datascience 0.10.6 requires folium==0.2.1, but you have folium 0.8.3 which is incompatible.\u001b[0m\n",
            "Successfully installed lxml-4.7.1 requests-2.27.1 yfinance-0.1.69\n"
          ]
        }
      ]
    },
    {
      "cell_type": "code",
      "metadata": {
        "id": "iaCxDZk14hcy"
      },
      "source": [
        "import yfinance as yf\n",
        "from matplotlib import pyplot as plt\n",
        "import pandas as pd\n",
        "import numpy as np\n",
        "import datetime"
      ],
      "execution_count": 2,
      "outputs": []
    },
    {
      "cell_type": "code",
      "metadata": {
        "id": "LdR3C85GAk9f"
      },
      "source": [
        "ticker = pd.read_csv('https://raw.githubusercontent.com/anirbanghoshsbi/data/main/ind_nifty50list.csv')\n",
        "ticker['Symbol']=ticker['Symbol'].apply(lambda x:str(x)+'.ns')"
      ],
      "execution_count": 3,
      "outputs": []
    },
    {
      "cell_type": "code",
      "metadata": {
        "id": "lugQJTQ0AvZ2"
      },
      "source": [
        "companies_dict=dict(ticker[['Company Name','Symbol']].values)"
      ],
      "execution_count": 4,
      "outputs": []
    },
    {
      "cell_type": "code",
      "metadata": {
        "id": "-Q7Qip9j5w4m"
      },
      "source": [
        "companies = sorted(companies_dict.items(), key=lambda x: x[1])"
      ],
      "execution_count": 5,
      "outputs": []
    },
    {
      "cell_type": "code",
      "metadata": {
        "colab": {
          "base_uri": "https://localhost:8080/"
        },
        "id": "MHXTXOyR4zMe",
        "outputId": "95d4e808-43c6-4ffa-82a1-0c5cd3f02725"
      },
      "source": [
        "# Define which online source to use\n",
        "#data_source = 'yahoo'\n",
        "\n",
        "# define start and end dates\n",
        "start_date = '2017-01-01'\n",
        "\n",
        "# Use pandas_datareader.data.DataReader to load the desired data list(companies_dict.values()) used for python 3 compatibility\n",
        "panel_data = yf.download(list(companies_dict.values()),start_date)\n",
        "\n",
        "\n"
      ],
      "execution_count": 6,
      "outputs": [
        {
          "output_type": "stream",
          "name": "stdout",
          "text": [
            "[*********************100%***********************]  50 of 50 completed\n",
            "[DatetimeIndex(['2017-01-02', '2017-01-03', '2017-01-04', '2017-01-05',\n",
            "               '2017-01-06', '2017-01-09', '2017-01-10', '2017-01-11',\n",
            "               '2017-01-12', '2017-01-13',\n",
            "               ...\n",
            "               '2022-01-04', '2022-01-05', '2022-01-06', '2022-01-07',\n",
            "               '2022-01-10', '2022-01-11', '2022-01-12', '2022-01-13',\n",
            "               '2022-01-14', '2022-01-17'],\n",
            "              dtype='datetime64[ns]', name='Date', length=1247, freq=None), MultiIndex([('Adj Close', 'ADANIPORTS.NS'),\n",
            "            ('Adj Close', 'ASIANPAINT.NS'),\n",
            "            ('Adj Close',   'AXISBANK.NS'),\n",
            "            ('Adj Close', 'BAJAJ-AUTO.NS'),\n",
            "            ('Adj Close', 'BAJAJFINSV.NS'),\n",
            "            ('Adj Close', 'BAJFINANCE.NS'),\n",
            "            ('Adj Close', 'BHARTIARTL.NS'),\n",
            "            ('Adj Close',       'BPCL.NS'),\n",
            "            ('Adj Close',  'BRITANNIA.NS'),\n",
            "            ('Adj Close',      'CIPLA.NS'),\n",
            "            ...\n",
            "            (   'Volume',  'SUNPHARMA.NS'),\n",
            "            (   'Volume', 'TATACONSUM.NS'),\n",
            "            (   'Volume', 'TATAMOTORS.NS'),\n",
            "            (   'Volume',  'TATASTEEL.NS'),\n",
            "            (   'Volume',        'TCS.NS'),\n",
            "            (   'Volume',      'TECHM.NS'),\n",
            "            (   'Volume',      'TITAN.NS'),\n",
            "            (   'Volume', 'ULTRACEMCO.NS'),\n",
            "            (   'Volume',        'UPL.NS'),\n",
            "            (   'Volume',      'WIPRO.NS')],\n",
            "           length=300)]\n"
          ]
        }
      ]
    },
    {
      "cell_type": "code",
      "metadata": {
        "id": "FMtnSU5e48kQ"
      },
      "source": [
        "# Find Stock Open and Close Values\n",
        "stock_close = panel_data['Close']\n",
        "stock_open = panel_data['Open']\n",
        "\n"
      ],
      "execution_count": null,
      "outputs": []
    },
    {
      "cell_type": "code",
      "metadata": {
        "id": "iYerStyd-ksI"
      },
      "source": [
        "# Calculate daily stock movement\n",
        "stock_close = np.array(stock_close).T\n",
        "stock_open = np.array(stock_open).T\n",
        "\n",
        "row, col = stock_close.shape\n",
        "\n",
        "# create movements dataset filled with 0's\n",
        "movements = np.zeros([row, col])\n",
        "\n",
        "for i in range(0, row):\n",
        " movements[i,:] = np.subtract(stock_close[i,:], stock_open[i,:])"
      ],
      "execution_count": 8,
      "outputs": []
    },
    {
      "cell_type": "code",
      "metadata": {
        "id": "x0IC29fc4-4u"
      },
      "source": [
        ""
      ],
      "execution_count": null,
      "outputs": []
    },
    {
      "cell_type": "code",
      "metadata": {
        "colab": {
          "base_uri": "https://localhost:8080/",
          "height": 365
        },
        "id": "lFvL9rEJ4-2Z",
        "outputId": "9130f1a6-ba4d-44fb-be94-55706d255311"
      },
      "source": [
        "plt.figure(figsize=(18,16))\n",
        "ax1 = plt.subplot(221)\n",
        "plt.plot(movements[0][:])\n",
        "plt.title(companies[0])\n",
        "\n",
        "plt.subplot(222, sharey=ax1)\n",
        "plt.plot(movements[1][:])\n",
        "plt.title(companies[1])\n",
        "plt.show()"
      ],
      "execution_count": 10,
      "outputs": [
        {
          "output_type": "display_data",
          "data": {
            "image/png": "[encoded data removed]",
            "text/plain": [
              "<Figure size 1296x1152 with 2 Axes>"
            ]
          },
          "metadata": {
            "needs_background": "light"
          }
        }
      ]
    },
    {
      "cell_type": "code",
      "metadata": {
        "colab": {
          "base_uri": "https://localhost:8080/"
        },
        "id": "AKeZAYgI8diH",
        "outputId": "4c4e8de9-33d6-4a0d-c792-75d3847d1bf9"
      },
      "source": [
        "np.isnan(movements).any()"
      ],
      "execution_count": 11,
      "outputs": [
        {
          "output_type": "execute_result",
          "data": {
            "text/plain": [
              "True"
            ]
          },
          "metadata": {},
          "execution_count": 11
        }
      ]
    },
    {
      "cell_type": "code",
      "metadata": {
        "id": "DpQjBRij8lou"
      },
      "source": [
        "movements[np.isnan(movements)] = np.median(movements[~np.isnan(movements)])"
      ],
      "execution_count": 12,
      "outputs": []
    },
    {
      "cell_type": "code",
      "metadata": {
        "colab": {
          "base_uri": "https://localhost:8080/"
        },
        "id": "k6lvAcxt5Cu_",
        "outputId": "fed11a63-bcfe-417b-f483-18e7e666dba6"
      },
      "source": [
        "# import Normalizer\n",
        "from sklearn.preprocessing import Normalizer\n",
        "# create the Normalizer\n",
        "normalizer = Normalizer()\n",
        "\n",
        "new = normalizer.fit_transform(movements)\n",
        "\n",
        "print(new.max())\n",
        "print(new.min())\n",
        "print(new.mean())"
      ],
      "execution_count": 13,
      "outputs": [
        {
          "output_type": "stream",
          "name": "stdout",
          "text": [
            "0.2400752563198705\n",
            "-0.2862141554318234\n",
            "-0.001561039948858838\n"
          ]
        }
      ]
    },
    {
      "cell_type": "code",
      "metadata": {
        "id": "1TJb1SvR5Csb"
      },
      "source": [
        "# import machine learning libraries\n",
        "from sklearn.pipeline import make_pipeline\n",
        "from sklearn.cluster import KMeans\n",
        "\n",
        "# define normalizer\n",
        "normalizer = Normalizer()\n",
        "\n",
        "# create a K-means model with 10 clusters\n",
        "kmeans = KMeans(n_clusters=10, max_iter=1000)\n",
        "\n",
        "# make a pipeline chaining normalizer and kmeans\n",
        "pipeline = make_pipeline(normalizer,kmeans)"
      ],
      "execution_count": 14,
      "outputs": []
    },
    {
      "cell_type": "code",
      "metadata": {
        "colab": {
          "base_uri": "https://localhost:8080/"
        },
        "id": "Ve6JCyy25Cp7",
        "outputId": "3be98e44-cd54-43fe-bfb0-f447255fd149"
      },
      "source": [
        "# fit pipeline to daily stock movements\n",
        "pipeline.fit(movements)"
      ],
      "execution_count": 15,
      "outputs": [
        {
          "output_type": "execute_result",
          "data": {
            "text/plain": [
              "Pipeline(steps=[('normalizer', Normalizer()),\n",
              "                ('kmeans', KMeans(max_iter=1000, n_clusters=10))])"
            ]
          },
          "metadata": {},
          "execution_count": 15
        }
      ]
    },
    {
      "cell_type": "code",
      "metadata": {
        "colab": {
          "base_uri": "https://localhost:8080/"
        },
        "id": "oaPz0n0f5Cnb",
        "outputId": "57d4a017-7e1d-4a2e-8965-188de1870a35"
      },
      "source": [
        "# predict cluster labels\n",
        "labels = pipeline.predict(movements)\n",
        "\n",
        "# create a DataFrame aligning labels & companies\n",
        "df = pd.DataFrame({'labels': labels, 'companies': companies})\n",
        "\n",
        "# display df sorted by cluster labels\n",
        "print(df.sort_values('labels'))"
      ],
      "execution_count": 16,
      "outputs": [
        {
          "output_type": "stream",
          "name": "stdout",
          "text": [
            "    labels                                          companies\n",
            "35       0  (Power Grid Corporation of India Ltd., POWERGR...\n",
            "33       0                               (NTPC Ltd., NTPC.ns)\n",
            "1        1                 (Asian Paints Ltd., ASIANPAINT.ns)\n",
            "21       1           (Hindustan Unilever Ltd., HINDUNILVR.ns)\n",
            "32       1                  (Nestle India Ltd., NESTLEIND.ns)\n",
            "8        1          (Britannia Industries Ltd., BRITANNIA.ns)\n",
            "43       2                    (Tata Steel Ltd., TATASTEEL.ns)\n",
            "20       2            (Hindalco Industries Ltd., HINDALCO.ns)\n",
            "27       2                      (JSW Steel Ltd., JSWSTEEL.ns)\n",
            "28       3           (Kotak Mahindra Bank Ltd., KOTAKBANK.ns)\n",
            "5        3                (Bajaj Finance Ltd., BAJFINANCE.ns)\n",
            "4        3                (Bajaj Finserv Ltd., BAJAJFINSV.ns)\n",
            "29       3                      (Larsen & Toubro Ltd., LT.ns)\n",
            "2        3                      (Axis Bank Ltd., AXISBANK.ns)\n",
            "23       3                (IndusInd Bank Ltd., INDUSINDBK.ns)\n",
            "38       3                     (State Bank of India, SBIN.ns)\n",
            "22       3                    (ICICI Bank Ltd., ICICIBANK.ns)\n",
            "16       3  (Housing Development Finance Corporation Ltd.,...\n",
            "17       3                      (HDFC Bank Ltd., HDFCBANK.ns)\n",
            "18       3    (HDFC Life Insurance Company Ltd., HDFCLIFE.ns)\n",
            "37       3      (SBI Life Insurance Company Ltd., SBILIFE.ns)\n",
            "31       4              (Maruti Suzuki India Ltd., MARUTI.ns)\n",
            "30       4                 (Mahindra & Mahindra Ltd., M&M.ns)\n",
            "13       4                 (Eicher Motors Ltd., EICHERMOT.ns)\n",
            "41       4       (Tata Consumer Products Ltd., TATACONSUM.ns)\n",
            "42       4                  (Tata Motors Ltd., TATAMOTORS.ns)\n",
            "46       4                     (Titan Company Ltd., TITAN.ns)\n",
            "3        4                   (Bajaj Auto Ltd., BAJAJ-AUTO.ns)\n",
            "19       4                (Hero MotoCorp Ltd., HEROMOTOCO.ns)\n",
            "44       5           (Tata Consultancy Services Ltd., TCS.ns)\n",
            "45       5                     (Tech Mahindra Ltd., TECHM.ns)\n",
            "24       5                            (Infosys Ltd., INFY.ns)\n",
            "49       5                             (Wipro Ltd., WIPRO.ns)\n",
            "15       5                (HCL Technologies Ltd., HCLTECH.ns)\n",
            "12       6        (Dr. Reddy's Laboratories Ltd., DRREDDY.ns)\n",
            "9        6                             (Cipla Ltd., CIPLA.ns)\n",
            "11       6            (Divi's Laboratories Ltd., DIVISLAB.ns)\n",
            "40       6  (Sun Pharmaceutical Industries Ltd., SUNPHARMA...\n",
            "7        7       (Bharat Petroleum Corporation Ltd., BPCL.ns)\n",
            "10       7                    (Coal India Ltd., COALINDIA.ns)\n",
            "25       7              (Indian Oil Corporation Ltd., IOC.ns)\n",
            "34       7      (Oil & Natural Gas Corporation Ltd., ONGC.ns)\n",
            "36       8            (Reliance Industries Ltd., RELIANCE.ns)\n",
            "26       9                                 (ITC Ltd., ITC.ns)\n",
            "14       9                (Grasim Industries Ltd., GRASIM.ns)\n",
            "48       9                                 (UPL Ltd., UPL.ns)\n",
            "6        9                (Bharti Airtel Ltd., BHARTIARTL.ns)\n",
            "47       9             (UltraTech Cement Ltd., ULTRACEMCO.ns)\n",
            "39       9                   (Shree Cement Ltd., SHREECEM.ns)\n",
            "0        9  (Adani Ports and Special Economic Zone Ltd., A...\n"
          ]
        }
      ]
    },
    {
      "cell_type": "code",
      "metadata": {
        "colab": {
          "base_uri": "https://localhost:8080/"
        },
        "id": "UDkg4zls5ODq",
        "outputId": "5121caa4-612b-48c1-cfab-0c328824f322"
      },
      "source": [
        "# PCA\n",
        "from sklearn.decomposition import PCA \n",
        "\n",
        "# visualize the results\n",
        "reduced_data = PCA(n_components = 2).fit_transform(new)\n",
        "\n",
        "# run kmeans on reduced data\n",
        "kmeans = KMeans(n_clusters=10)\n",
        "kmeans.fit(reduced_data)\n",
        "labels = kmeans.predict(reduced_data)\n",
        "\n",
        "# create DataFrame aligning labels & companies\n",
        "df = pd.DataFrame({'labels': labels, 'companies': companies})\n",
        "\n",
        "# Display df sorted by cluster labels\n",
        "print(df.sort_values('labels'))"
      ],
      "execution_count": 17,
      "outputs": [
        {
          "output_type": "stream",
          "name": "stdout",
          "text": [
            "    labels                                          companies\n",
            "29       0                      (Larsen & Toubro Ltd., LT.ns)\n",
            "2        0                      (Axis Bank Ltd., AXISBANK.ns)\n",
            "4        0                (Bajaj Finserv Ltd., BAJAJFINSV.ns)\n",
            "5        0                (Bajaj Finance Ltd., BAJFINANCE.ns)\n",
            "23       0                (IndusInd Bank Ltd., INDUSINDBK.ns)\n",
            "22       0                    (ICICI Bank Ltd., ICICIBANK.ns)\n",
            "38       0                     (State Bank of India, SBIN.ns)\n",
            "9        1                             (Cipla Ltd., CIPLA.ns)\n",
            "11       1            (Divi's Laboratories Ltd., DIVISLAB.ns)\n",
            "12       1        (Dr. Reddy's Laboratories Ltd., DRREDDY.ns)\n",
            "0        2  (Adani Ports and Special Economic Zone Ltd., A...\n",
            "48       2                                 (UPL Ltd., UPL.ns)\n",
            "7        2       (Bharat Petroleum Corporation Ltd., BPCL.ns)\n",
            "14       2                (Grasim Industries Ltd., GRASIM.ns)\n",
            "21       3           (Hindustan Unilever Ltd., HINDUNILVR.ns)\n",
            "32       3                  (Nestle India Ltd., NESTLEIND.ns)\n",
            "8        3          (Britannia Industries Ltd., BRITANNIA.ns)\n",
            "1        3                 (Asian Paints Ltd., ASIANPAINT.ns)\n",
            "42       4                  (Tata Motors Ltd., TATAMOTORS.ns)\n",
            "20       4            (Hindalco Industries Ltd., HINDALCO.ns)\n",
            "10       4                    (Coal India Ltd., COALINDIA.ns)\n",
            "25       4              (Indian Oil Corporation Ltd., IOC.ns)\n",
            "27       4                      (JSW Steel Ltd., JSWSTEEL.ns)\n",
            "34       4      (Oil & Natural Gas Corporation Ltd., ONGC.ns)\n",
            "43       4                    (Tata Steel Ltd., TATASTEEL.ns)\n",
            "41       5       (Tata Consumer Products Ltd., TATACONSUM.ns)\n",
            "18       5    (HDFC Life Insurance Company Ltd., HDFCLIFE.ns)\n",
            "46       5                     (Titan Company Ltd., TITAN.ns)\n",
            "37       5      (SBI Life Insurance Company Ltd., SBILIFE.ns)\n",
            "36       5            (Reliance Industries Ltd., RELIANCE.ns)\n",
            "44       6           (Tata Consultancy Services Ltd., TCS.ns)\n",
            "45       6                     (Tech Mahindra Ltd., TECHM.ns)\n",
            "24       6                            (Infosys Ltd., INFY.ns)\n",
            "49       6                             (Wipro Ltd., WIPRO.ns)\n",
            "15       6                (HCL Technologies Ltd., HCLTECH.ns)\n",
            "40       7  (Sun Pharmaceutical Industries Ltd., SUNPHARMA...\n",
            "33       7                               (NTPC Ltd., NTPC.ns)\n",
            "35       7  (Power Grid Corporation of India Ltd., POWERGR...\n",
            "26       8                                 (ITC Ltd., ITC.ns)\n",
            "19       8                (Hero MotoCorp Ltd., HEROMOTOCO.ns)\n",
            "39       8                   (Shree Cement Ltd., SHREECEM.ns)\n",
            "31       8              (Maruti Suzuki India Ltd., MARUTI.ns)\n",
            "30       8                 (Mahindra & Mahindra Ltd., M&M.ns)\n",
            "13       8                 (Eicher Motors Ltd., EICHERMOT.ns)\n",
            "6        8                (Bharti Airtel Ltd., BHARTIARTL.ns)\n",
            "3        8                   (Bajaj Auto Ltd., BAJAJ-AUTO.ns)\n",
            "47       8             (UltraTech Cement Ltd., ULTRACEMCO.ns)\n",
            "16       9  (Housing Development Finance Corporation Ltd.,...\n",
            "28       9           (Kotak Mahindra Bank Ltd., KOTAKBANK.ns)\n",
            "17       9                      (HDFC Bank Ltd., HDFCBANK.ns)\n"
          ]
        }
      ]
    },
    {
      "cell_type": "code",
      "metadata": {
        "id": "aOldDdXA5N_r"
      },
      "source": [
        "lst=df[df['labels']==3]['companies'].tolist()"
      ],
      "execution_count": 44,
      "outputs": []
    },
    {
      "cell_type": "code",
      "metadata": {
        "id": "ctw09AQg5N9H"
      },
      "source": [
        "stocklst=[]\n",
        "for i in lst:\n",
        "   stocklst.append(str(i[1]))"
      ],
      "execution_count": 45,
      "outputs": []
    },
    {
      "cell_type": "code",
      "source": [
        "data=yf.download(stocklst,'2018-01-01')['Adj Close']"
      ],
      "metadata": {
        "id": "VNztS_dKMhus",
        "outputId": "f4b42fd8-92b9-4ebe-f3a2-08de642b1ffd",
        "colab": {
          "base_uri": "https://localhost:8080/"
        }
      },
      "execution_count": 46,
      "outputs": [
        {
          "output_type": "stream",
          "name": "stdout",
          "text": [
            "[*********************100%***********************]  4 of 4 completed\n"
          ]
        }
      ]
    },
    {
      "cell_type": "code",
      "source": [
        "data['sum']=data.sum(axis=1)"
      ],
      "metadata": {
        "id": "igl4npY_MvpD"
      },
      "execution_count": 47,
      "outputs": []
    },
    {
      "cell_type": "code",
      "source": [
        "data['sum'].plot();"
      ],
      "metadata": {
        "id": "j0AZ2UdeMy7b",
        "outputId": "8924ee5c-0342-4f05-bdd3-9f69ca109d92",
        "colab": {
          "base_uri": "https://localhost:8080/",
          "height": 277
        }
      },
      "execution_count": 48,
      "outputs": [
        {
          "output_type": "display_data",
          "data": {
            "image/png": "[encoded data removed]",
            "text/plain": [
              "<Figure size 432x288 with 1 Axes>"
            ]
          },
          "metadata": {
            "needs_background": "light"
          }
        }
      ]
    },
    {
      "cell_type": "code",
      "source": [
        ""
      ],
      "metadata": {
        "id": "fvGjbJs9M-1M"
      },
      "execution_count": 43,
      "outputs": []
    }
  ]
}