{
  "nbformat": 4,
  "nbformat_minor": 0,
  "metadata": {
    "colab": {
      "name": "Stock_clustering_on_price_change.ipynb",
      "provenance": [],
      "authorship_tag": "ABX9TyNIRImITb1Nj/d9gyvLe5ev",
      "include_colab_link": true
    },
    "kernelspec": {
      "name": "python3",
      "display_name": "Python 3"
    },
    "language_info": {
      "name": "python"
    }
  },
  "cells": [
    {
      "cell_type": "markdown",
      "metadata": {
        "id": "view-in-github",
        "colab_type": "text"
      },
      "source": [
        "<a href=\"https://colab.research.google.com/github/anirbanghoshsbi/.github.io/blob/master/Stock_clustering_on_price_change.ipynb\" target=\"_parent\"><img src=\"https://colab.research.google.com/assets/colab-badge.svg\" alt=\"Open In Colab\"/></a>"
      ]
    },
    {
      "cell_type": "markdown",
      "metadata": {
        "id": "Rxxyjg3WIfdV"
      },
      "source": [
        "**https://pythonforfinance.net/2018/02/08/stock-clusters-using-k-means-algorithm-in-python/**"
      ]
    },
    {
      "cell_type": "code",
      "metadata": {
        "id": "EjI65W3kIfJJ"
      },
      "source": [
        ""
      ],
      "execution_count": null,
      "outputs": []
    },
    {
      "cell_type": "code",
      "metadata": {
        "colab": {
          "base_uri": "https://localhost:8080/"
        },
        "id": "JUM8cygs4iW8",
        "outputId": "cf2a1b9a-de7e-4e72-f2e3-b9f4f9e39b8a"
      },
      "source": [
        "!pip install yfinance\n"
      ],
      "execution_count": 106,
      "outputs": [
        {
          "output_type": "stream",
          "name": "stdout",
          "text": [
            "Requirement already satisfied: yfinance in /usr/local/lib/python3.7/dist-packages (0.1.67)\n",
            "Requirement already satisfied: multitasking>=0.0.7 in /usr/local/lib/python3.7/dist-packages (from yfinance) (0.0.10)\n",
            "Requirement already satisfied: lxml>=4.5.1 in /usr/local/lib/python3.7/dist-packages (from yfinance) (4.6.4)\n",
            "Requirement already satisfied: numpy>=1.15 in /usr/local/lib/python3.7/dist-packages (from yfinance) (1.19.5)\n",
            "Requirement already satisfied: pandas>=0.24 in /usr/local/lib/python3.7/dist-packages (from yfinance) (1.1.5)\n",
            "Requirement already satisfied: requests>=2.20 in /usr/local/lib/python3.7/dist-packages (from yfinance) (2.23.0)\n",
            "Requirement already satisfied: python-dateutil>=2.7.3 in /usr/local/lib/python3.7/dist-packages (from pandas>=0.24->yfinance) (2.8.2)\n",
            "Requirement already satisfied: pytz>=2017.2 in /usr/local/lib/python3.7/dist-packages (from pandas>=0.24->yfinance) (2018.9)\n",
            "Requirement already satisfied: six>=1.5 in /usr/local/lib/python3.7/dist-packages (from python-dateutil>=2.7.3->pandas>=0.24->yfinance) (1.15.0)\n",
            "Requirement already satisfied: certifi>=2017.4.17 in /usr/local/lib/python3.7/dist-packages (from requests>=2.20->yfinance) (2021.10.8)\n",
            "Requirement already satisfied: chardet<4,>=3.0.2 in /usr/local/lib/python3.7/dist-packages (from requests>=2.20->yfinance) (3.0.4)\n",
            "Requirement already satisfied: idna<3,>=2.5 in /usr/local/lib/python3.7/dist-packages (from requests>=2.20->yfinance) (2.10)\n",
            "Requirement already satisfied: urllib3!=1.25.0,!=1.25.1,<1.26,>=1.21.1 in /usr/local/lib/python3.7/dist-packages (from requests>=2.20->yfinance) (1.24.3)\n"
          ]
        }
      ]
    },
    {
      "cell_type": "code",
      "metadata": {
        "id": "iaCxDZk14hcy"
      },
      "source": [
        "import yfinance as yf\n",
        "from matplotlib import pyplot as plt\n",
        "import pandas as pd\n",
        "import numpy as np\n",
        "import datetime"
      ],
      "execution_count": 107,
      "outputs": []
    },
    {
      "cell_type": "code",
      "metadata": {
        "id": "LdR3C85GAk9f"
      },
      "source": [
        "ticker = pd.read_csv('https://raw.githubusercontent.com/anirbanghoshsbi/data/main/ind_nifty50list.csv')\n",
        "ticker['Symbol']=ticker['Symbol'].apply(lambda x:str(x)+'.ns')"
      ],
      "execution_count": 108,
      "outputs": []
    },
    {
      "cell_type": "code",
      "metadata": {
        "id": "lugQJTQ0AvZ2"
      },
      "source": [
        "companies_dict=dict(ticker[['Company Name','Symbol']].values)"
      ],
      "execution_count": 109,
      "outputs": []
    },
    {
      "cell_type": "code",
      "metadata": {
        "id": "-Q7Qip9j5w4m"
      },
      "source": [
        "companies = sorted(companies_dict.items(), key=lambda x: x[1])"
      ],
      "execution_count": 110,
      "outputs": []
    },
    {
      "cell_type": "code",
      "metadata": {
        "colab": {
          "base_uri": "https://localhost:8080/"
        },
        "id": "MHXTXOyR4zMe",
        "outputId": "319276d6-2234-40d1-e275-fe71dd2046dc"
      },
      "source": [
        "# Define which online source to use\n",
        "#data_source = 'yahoo'\n",
        "\n",
        "# define start and end dates\n",
        "start_date = '2017-01-01'\n",
        "\n",
        "# Use pandas_datareader.data.DataReader to load the desired data list(companies_dict.values()) used for python 3 compatibility\n",
        "panel_data = yf.download(list(companies_dict.values()),start_date)\n",
        "\n",
        "print(panel_data.axes)\n"
      ],
      "execution_count": 111,
      "outputs": [
        {
          "output_type": "stream",
          "name": "stdout",
          "text": [
            "[*********************100%***********************]  50 of 50 completed\n",
            "[DatetimeIndex(['2017-01-02', '2017-01-03', '2017-01-04', '2017-01-05',\n",
            "               '2017-01-06', '2017-01-09', '2017-01-10', '2017-01-11',\n",
            "               '2017-01-12', '2017-01-13',\n",
            "               ...\n",
            "               '2021-11-16', '2021-11-17', '2021-11-18', '2021-11-22',\n",
            "               '2021-11-23', '2021-11-24', '2021-11-25', '2021-11-26',\n",
            "               '2021-11-29', '2021-11-30'],\n",
            "              dtype='datetime64[ns]', name='Date', length=1210, freq=None), MultiIndex([('Adj Close', 'ADANIPORTS.NS'),\n",
            "            ('Adj Close', 'ASIANPAINT.NS'),\n",
            "            ('Adj Close',   'AXISBANK.NS'),\n",
            "            ('Adj Close', 'BAJAJ-AUTO.NS'),\n",
            "            ('Adj Close', 'BAJAJFINSV.NS'),\n",
            "            ('Adj Close', 'BAJFINANCE.NS'),\n",
            "            ('Adj Close', 'BHARTIARTL.NS'),\n",
            "            ('Adj Close',       'BPCL.NS'),\n",
            "            ('Adj Close',  'BRITANNIA.NS'),\n",
            "            ('Adj Close',      'CIPLA.NS'),\n",
            "            ...\n",
            "            (   'Volume',  'SUNPHARMA.NS'),\n",
            "            (   'Volume', 'TATACONSUM.NS'),\n",
            "            (   'Volume', 'TATAMOTORS.NS'),\n",
            "            (   'Volume',  'TATASTEEL.NS'),\n",
            "            (   'Volume',        'TCS.NS'),\n",
            "            (   'Volume',      'TECHM.NS'),\n",
            "            (   'Volume',      'TITAN.NS'),\n",
            "            (   'Volume', 'ULTRACEMCO.NS'),\n",
            "            (   'Volume',        'UPL.NS'),\n",
            "            (   'Volume',      'WIPRO.NS')],\n",
            "           length=300)]\n"
          ]
        }
      ]
    },
    {
      "cell_type": "code",
      "metadata": {
        "colab": {
          "base_uri": "https://localhost:8080/"
        },
        "id": "FMtnSU5e48kQ",
        "outputId": "6263519f-639b-4482-e07e-8ec7d7bb479f"
      },
      "source": [
        "# Find Stock Open and Close Values\n",
        "stock_close = panel_data['Close']\n",
        "stock_open = panel_data['Open']\n",
        "\n",
        "print(stock_close.iloc[0])\n"
      ],
      "execution_count": 112,
      "outputs": [
        {
          "output_type": "stream",
          "name": "stdout",
          "text": [
            "ADANIPORTS.NS      273.799988\n",
            "ASIANPAINT.NS      904.650024\n",
            "AXISBANK.NS        447.750000\n",
            "BAJAJ-AUTO.NS     2598.500000\n",
            "BAJAJFINSV.NS     2949.649902\n",
            "BAJFINANCE.NS      870.049988\n",
            "BHARTIARTL.NS      285.553467\n",
            "BPCL.NS            427.000000\n",
            "BRITANNIA.NS      1443.224976\n",
            "CIPLA.NS           566.000000\n",
            "COALINDIA.NS       300.049988\n",
            "DIVISLAB.NS        797.849976\n",
            "DRREDDY.NS        3083.399902\n",
            "EICHERMOT.NS      2252.395020\n",
            "GRASIM.NS          676.443481\n",
            "HCLTECH.NS         414.250000\n",
            "HDFC.NS           1217.099976\n",
            "HDFCBANK.NS        598.549988\n",
            "HDFCLIFE.NS               NaN\n",
            "HEROMOTOCO.NS     3030.550049\n",
            "HINDALCO.NS        158.850006\n",
            "HINDUNILVR.NS      825.349976\n",
            "ICICIBANK.NS       229.045456\n",
            "INDUSINDBK.NS     1087.449951\n",
            "INFY.NS            500.549988\n",
            "IOC.NS             163.725006\n",
            "ITC.NS             240.949997\n",
            "JSWSTEEL.NS        163.429993\n",
            "KOTAKBANK.NS       714.799988\n",
            "LT.NS              906.400024\n",
            "M&M.NS             614.900024\n",
            "MARUTI.NS         5466.000000\n",
            "NESTLEIND.NS      5974.399902\n",
            "NTPC.NS            137.333328\n",
            "ONGC.NS            192.250000\n",
            "POWERGRID.NS       137.737534\n",
            "RELIANCE.NS        537.455444\n",
            "SBILIFE.NS                NaN\n",
            "SBIN.NS            243.600006\n",
            "SHREECEM.NS      14517.599609\n",
            "SUNPHARMA.NS       634.049988\n",
            "TATACONSUM.NS      123.550003\n",
            "TATAMOTORS.NS      487.049988\n",
            "TATASTEEL.NS       387.525635\n",
            "TCS.NS            1180.675049\n",
            "TECHM.NS           488.000000\n",
            "TITAN.NS           333.950012\n",
            "ULTRACEMCO.NS     3371.350098\n",
            "UPL.NS             439.100006\n",
            "WIPRO.NS           176.831299\n",
            "Name: 2017-01-02 00:00:00, dtype: float64\n"
          ]
        }
      ]
    },
    {
      "cell_type": "code",
      "metadata": {
        "id": "iYerStyd-ksI"
      },
      "source": [
        "# Calculate daily stock movement\n",
        "stock_close = np.array(stock_close).T\n",
        "stock_open = np.array(stock_open).T\n",
        "\n",
        "row, col = stock_close.shape\n",
        "\n",
        "# create movements dataset filled with 0's\n",
        "movements = np.zeros([row, col])\n",
        "\n",
        "for i in range(0, row):\n",
        " movements[i,:] = np.subtract(stock_close[i,:], stock_open[i,:])"
      ],
      "execution_count": 113,
      "outputs": []
    },
    {
      "cell_type": "code",
      "metadata": {
        "colab": {
          "base_uri": "https://localhost:8080/"
        },
        "id": "x0IC29fc4-4u",
        "outputId": "a333e2ca-486c-403e-c80a-93e55b52a544"
      },
      "source": [
        "for i in range(0, len(companies)):\n",
        " print('Company: {}, Change: {}'.format(companies[i][0], sum(movements[i][:])))\n"
      ],
      "execution_count": 114,
      "outputs": [
        {
          "output_type": "stream",
          "name": "stdout",
          "text": [
            "Company: Adani Ports and Special Economic Zone Ltd., Change: -624.6506195068359\n",
            "Company: Asian Paints Ltd., Change: -1003.80126953125\n",
            "Company: Axis Bank Ltd., Change: -731.8001708984375\n",
            "Company: Bajaj Auto Ltd., Change: -4200.2947998046875\n",
            "Company: Bajaj Finserv Ltd., Change: -2449.864013671875\n",
            "Company: Bajaj Finance Ltd., Change: -1251.1539916992188\n",
            "Company: Bharti Airtel Ltd., Change: -568.0668640136719\n",
            "Company: Bharat Petroleum Corporation Ltd., Change: -891.0501098632812\n",
            "Company: Britannia Industries Ltd., Change: -4532.3427734375\n",
            "Company: Cipla Ltd., Change: -1418.0498962402344\n",
            "Company: Coal India Ltd., Change: -447.6504821777344\n",
            "Company: Divi's Laboratories Ltd., Change: -986.6996459960938\n",
            "Company: Dr. Reddy's Laboratories Ltd., Change: -6115.0948486328125\n",
            "Company: Eicher Motors Ltd., Change: -4562.0811767578125\n",
            "Company: Grasim Industries Ltd., Change: -448.9352111816406\n",
            "Company: HCL Technologies Ltd., Change: -584.6251525878906\n",
            "Company: Housing Development Finance Corporation Ltd., Change: -1356.501953125\n",
            "Company: HDFC Bank Ltd., Change: -663.0242309570312\n",
            "Company: HDFC Life Insurance Company Ltd., Change: nan\n",
            "Company: Hero MotoCorp Ltd., Change: -7137.4466552734375\n",
            "Company: Hindalco Industries Ltd., Change: -201.85037994384766\n",
            "Company: Hindustan Unilever Ltd., Change: -1312.6519165039062\n",
            "Company: ICICI Bank Ltd., Change: -97.16368103027344\n",
            "Company: IndusInd Bank Ltd., Change: -2299.4996643066406\n",
            "Company: Infosys Ltd., Change: 68.3245849609375\n",
            "Company: Indian Oil Corporation Ltd., Change: -409.3249282836914\n",
            "Company: ITC Ltd., Change: -572.400146484375\n",
            "Company: JSW Steel Ltd., Change: -151.2150115966797\n",
            "Company: Kotak Mahindra Bank Ltd., Change: -519.2017211914062\n",
            "Company: Larsen & Toubro Ltd., Change: -1753.1650390625\n",
            "Company: Mahindra & Mahindra Ltd., Change: -1278.4500732421875\n",
            "Company: Maruti Suzuki India Ltd., Change: -11290.06005859375\n",
            "Company: Nestle India Ltd., Change: -10065.69189453125\n",
            "Company: NTPC Ltd., Change: -185.31629180908203\n",
            "Company: Oil & Natural Gas Corporation Ltd., Change: -446.8000373840332\n",
            "Company: Power Grid Corporation of India Ltd., Change: -150.6368865966797\n",
            "Company: Reliance Industries Ltd., Change: -1793.1173400878906\n",
            "Company: SBI Life Insurance Company Ltd., Change: nan\n",
            "Company: State Bank of India, Change: -502.5002899169922\n",
            "Company: Shree Cement Ltd., Change: -16209.78515625\n",
            "Company: Sun Pharmaceutical Industries Ltd., Change: -1068.200439453125\n",
            "Company: Tata Consumer Products Ltd., Change: -293.2005386352539\n",
            "Company: Tata Motors Ltd., Change: -885.4498672485352\n",
            "Company: Tata Steel Ltd., Change: -903.4636993408203\n",
            "Company: Tata Consultancy Services Ltd., Change: -1047.62158203125\n",
            "Company: Tech Mahindra Ltd., Change: -106.74993896484375\n",
            "Company: Titan Company Ltd., Change: -518.7506713867188\n",
            "Company: UltraTech Cement Ltd., Change: -5103.4453125\n",
            "Company: UPL Ltd., Change: -1018.301513671875\n",
            "Company: Wipro Ltd., Change: -149.40672302246094\n"
          ]
        }
      ]
    },
    {
      "cell_type": "code",
      "metadata": {
        "colab": {
          "base_uri": "https://localhost:8080/",
          "height": 459
        },
        "id": "lFvL9rEJ4-2Z",
        "outputId": "8a1dee62-5307-4fc7-8944-f404b7a2e55b"
      },
      "source": [
        "plt.figure(figsize=(18,16))\n",
        "ax1 = plt.subplot(221)\n",
        "plt.plot(movements[0][:])\n",
        "plt.title(companies[0])\n",
        "\n",
        "plt.subplot(222, sharey=ax1)\n",
        "plt.plot(movements[1][:])\n",
        "plt.title(companies[1])\n",
        "plt.show()"
      ],
      "execution_count": 115,
      "outputs": [
        {
          "output_type": "display_data",
          "data": {
            "image/png": "[encoded data removed]",
            "text/plain": [
              "<Figure size 1296x1152 with 2 Axes>"
            ]
          },
          "metadata": {
            "needs_background": "light"
          }
        }
      ]
    },
    {
      "cell_type": "code",
      "metadata": {
        "colab": {
          "base_uri": "https://localhost:8080/"
        },
        "id": "AKeZAYgI8diH",
        "outputId": "190815be-3d5b-4b20-cd39-329bad4a9383"
      },
      "source": [
        "np.isnan(movements).any()"
      ],
      "execution_count": 116,
      "outputs": [
        {
          "output_type": "execute_result",
          "data": {
            "text/plain": [
              "True"
            ]
          },
          "metadata": {},
          "execution_count": 116
        }
      ]
    },
    {
      "cell_type": "code",
      "metadata": {
        "id": "DpQjBRij8lou"
      },
      "source": [
        "movements[np.isnan(movements)] = np.median(movements[~np.isnan(movements)])"
      ],
      "execution_count": 117,
      "outputs": []
    },
    {
      "cell_type": "code",
      "metadata": {
        "colab": {
          "base_uri": "https://localhost:8080/"
        },
        "id": "k6lvAcxt5Cu_",
        "outputId": "a6a90e41-ed09-4afe-807d-9c40a404dfda"
      },
      "source": [
        "# import Normalizer\n",
        "from sklearn.preprocessing import Normalizer\n",
        "# create the Normalizer\n",
        "normalizer = Normalizer()\n",
        "\n",
        "new = normalizer.fit_transform(movements)\n",
        "\n",
        "print(new.max())\n",
        "print(new.min())\n",
        "print(new.mean())"
      ],
      "execution_count": 118,
      "outputs": [
        {
          "output_type": "stream",
          "name": "stdout",
          "text": [
            "0.24409989088297596\n",
            "-0.2901808372419687\n",
            "-0.0016492201054437478\n"
          ]
        }
      ]
    },
    {
      "cell_type": "code",
      "metadata": {
        "id": "1TJb1SvR5Csb"
      },
      "source": [
        "# import machine learning libraries\n",
        "from sklearn.pipeline import make_pipeline\n",
        "from sklearn.cluster import KMeans\n",
        "\n",
        "# define normalizer\n",
        "normalizer = Normalizer()\n",
        "\n",
        "# create a K-means model with 10 clusters\n",
        "kmeans = KMeans(n_clusters=10, max_iter=1000)\n",
        "\n",
        "# make a pipeline chaining normalizer and kmeans\n",
        "pipeline = make_pipeline(normalizer,kmeans)"
      ],
      "execution_count": 119,
      "outputs": []
    },
    {
      "cell_type": "code",
      "metadata": {
        "colab": {
          "base_uri": "https://localhost:8080/"
        },
        "id": "Ve6JCyy25Cp7",
        "outputId": "8c88d41a-1ec0-4947-d69e-96b4e646c70a"
      },
      "source": [
        "# fit pipeline to daily stock movements\n",
        "pipeline.fit(movements)"
      ],
      "execution_count": 120,
      "outputs": [
        {
          "output_type": "execute_result",
          "data": {
            "text/plain": [
              "Pipeline(steps=[('normalizer', Normalizer()),\n",
              "                ('kmeans', KMeans(max_iter=1000, n_clusters=10))])"
            ]
          },
          "metadata": {},
          "execution_count": 120
        }
      ]
    },
    {
      "cell_type": "code",
      "metadata": {
        "colab": {
          "base_uri": "https://localhost:8080/"
        },
        "id": "oaPz0n0f5Cnb",
        "outputId": "ae988642-e69a-4762-d469-7b2b69d443b4"
      },
      "source": [
        "# predict cluster labels\n",
        "labels = pipeline.predict(movements)\n",
        "\n",
        "# create a DataFrame aligning labels & companies\n",
        "df = pd.DataFrame({'labels': labels, 'companies': companies})\n",
        "\n",
        "# display df sorted by cluster labels\n",
        "print(df.sort_values('labels'))"
      ],
      "execution_count": 121,
      "outputs": [
        {
          "output_type": "stream",
          "name": "stdout",
          "text": [
            "    labels                                          companies\n",
            "36       0            (Reliance Industries Ltd., RELIANCE.ns)\n",
            "28       0           (Kotak Mahindra Bank Ltd., KOTAKBANK.ns)\n",
            "23       0                (IndusInd Bank Ltd., INDUSINDBK.ns)\n",
            "22       0                    (ICICI Bank Ltd., ICICIBANK.ns)\n",
            "18       0    (HDFC Life Insurance Company Ltd., HDFCLIFE.ns)\n",
            "17       0                      (HDFC Bank Ltd., HDFCBANK.ns)\n",
            "16       0  (Housing Development Finance Corporation Ltd.,...\n",
            "46       1                     (Titan Company Ltd., TITAN.ns)\n",
            "3        1                   (Bajaj Auto Ltd., BAJAJ-AUTO.ns)\n",
            "31       1              (Maruti Suzuki India Ltd., MARUTI.ns)\n",
            "30       1                 (Mahindra & Mahindra Ltd., M&M.ns)\n",
            "19       1                (Hero MotoCorp Ltd., HEROMOTOCO.ns)\n",
            "13       1                 (Eicher Motors Ltd., EICHERMOT.ns)\n",
            "24       2                            (Infosys Ltd., INFY.ns)\n",
            "45       2                     (Tech Mahindra Ltd., TECHM.ns)\n",
            "44       2           (Tata Consultancy Services Ltd., TCS.ns)\n",
            "49       2                             (Wipro Ltd., WIPRO.ns)\n",
            "15       2                (HCL Technologies Ltd., HCLTECH.ns)\n",
            "14       3                (Grasim Industries Ltd., GRASIM.ns)\n",
            "47       3             (UltraTech Cement Ltd., ULTRACEMCO.ns)\n",
            "39       3                   (Shree Cement Ltd., SHREECEM.ns)\n",
            "6        3                (Bharti Airtel Ltd., BHARTIARTL.ns)\n",
            "0        3  (Adani Ports and Special Economic Zone Ltd., A...\n",
            "9        4                             (Cipla Ltd., CIPLA.ns)\n",
            "12       4        (Dr. Reddy's Laboratories Ltd., DRREDDY.ns)\n",
            "40       4  (Sun Pharmaceutical Industries Ltd., SUNPHARMA...\n",
            "11       4            (Divi's Laboratories Ltd., DIVISLAB.ns)\n",
            "4        5                (Bajaj Finserv Ltd., BAJAJFINSV.ns)\n",
            "41       5       (Tata Consumer Products Ltd., TATACONSUM.ns)\n",
            "37       5      (SBI Life Insurance Company Ltd., SBILIFE.ns)\n",
            "5        5                (Bajaj Finance Ltd., BAJFINANCE.ns)\n",
            "21       6           (Hindustan Unilever Ltd., HINDUNILVR.ns)\n",
            "32       6                  (Nestle India Ltd., NESTLEIND.ns)\n",
            "1        6                 (Asian Paints Ltd., ASIANPAINT.ns)\n",
            "8        6          (Britannia Industries Ltd., BRITANNIA.ns)\n",
            "43       7                    (Tata Steel Ltd., TATASTEEL.ns)\n",
            "42       7                  (Tata Motors Ltd., TATAMOTORS.ns)\n",
            "27       7                      (JSW Steel Ltd., JSWSTEEL.ns)\n",
            "10       7                    (Coal India Ltd., COALINDIA.ns)\n",
            "20       7            (Hindalco Industries Ltd., HINDALCO.ns)\n",
            "38       8                     (State Bank of India, SBIN.ns)\n",
            "26       8                                 (ITC Ltd., ITC.ns)\n",
            "2        8                      (Axis Bank Ltd., AXISBANK.ns)\n",
            "48       8                                 (UPL Ltd., UPL.ns)\n",
            "29       8                      (Larsen & Toubro Ltd., LT.ns)\n",
            "7        9       (Bharat Petroleum Corporation Ltd., BPCL.ns)\n",
            "35       9  (Power Grid Corporation of India Ltd., POWERGR...\n",
            "34       9      (Oil & Natural Gas Corporation Ltd., ONGC.ns)\n",
            "25       9              (Indian Oil Corporation Ltd., IOC.ns)\n",
            "33       9                               (NTPC Ltd., NTPC.ns)\n"
          ]
        }
      ]
    },
    {
      "cell_type": "code",
      "metadata": {
        "colab": {
          "base_uri": "https://localhost:8080/"
        },
        "id": "UDkg4zls5ODq",
        "outputId": "b8463744-62bd-4307-cfa1-a7c6da0e40da"
      },
      "source": [
        "# PCA\n",
        "from sklearn.decomposition import PCA \n",
        "\n",
        "# visualize the results\n",
        "reduced_data = PCA(n_components = 2).fit_transform(new)\n",
        "\n",
        "# run kmeans on reduced data\n",
        "kmeans = KMeans(n_clusters=10)\n",
        "kmeans.fit(reduced_data)\n",
        "labels = kmeans.predict(reduced_data)\n",
        "\n",
        "# create DataFrame aligning labels & companies\n",
        "df = pd.DataFrame({'labels': labels, 'companies': companies})\n",
        "\n",
        "# Display df sorted by cluster labels\n",
        "print(df.sort_values('labels'))"
      ],
      "execution_count": 122,
      "outputs": [
        {
          "output_type": "stream",
          "name": "stdout",
          "text": [
            "    labels                                          companies\n",
            "21       0           (Hindustan Unilever Ltd., HINDUNILVR.ns)\n",
            "1        0                 (Asian Paints Ltd., ASIANPAINT.ns)\n",
            "32       0                  (Nestle India Ltd., NESTLEIND.ns)\n",
            "8        0          (Britannia Industries Ltd., BRITANNIA.ns)\n",
            "48       1                                 (UPL Ltd., UPL.ns)\n",
            "26       1                                 (ITC Ltd., ITC.ns)\n",
            "14       1                (Grasim Industries Ltd., GRASIM.ns)\n",
            "0        1  (Adani Ports and Special Economic Zone Ltd., A...\n",
            "7        1       (Bharat Petroleum Corporation Ltd., BPCL.ns)\n",
            "22       2                    (ICICI Bank Ltd., ICICIBANK.ns)\n",
            "5        2                (Bajaj Finance Ltd., BAJFINANCE.ns)\n",
            "4        2                (Bajaj Finserv Ltd., BAJAJFINSV.ns)\n",
            "2        2                      (Axis Bank Ltd., AXISBANK.ns)\n",
            "23       2                (IndusInd Bank Ltd., INDUSINDBK.ns)\n",
            "9        3                             (Cipla Ltd., CIPLA.ns)\n",
            "11       3            (Divi's Laboratories Ltd., DIVISLAB.ns)\n",
            "12       3        (Dr. Reddy's Laboratories Ltd., DRREDDY.ns)\n",
            "34       4      (Oil & Natural Gas Corporation Ltd., ONGC.ns)\n",
            "27       4                      (JSW Steel Ltd., JSWSTEEL.ns)\n",
            "43       4                    (Tata Steel Ltd., TATASTEEL.ns)\n",
            "25       4              (Indian Oil Corporation Ltd., IOC.ns)\n",
            "33       4                               (NTPC Ltd., NTPC.ns)\n",
            "20       4            (Hindalco Industries Ltd., HINDALCO.ns)\n",
            "10       4                    (Coal India Ltd., COALINDIA.ns)\n",
            "42       4                  (Tata Motors Ltd., TATAMOTORS.ns)\n",
            "19       5                (Hero MotoCorp Ltd., HEROMOTOCO.ns)\n",
            "39       5                   (Shree Cement Ltd., SHREECEM.ns)\n",
            "37       5      (SBI Life Insurance Company Ltd., SBILIFE.ns)\n",
            "36       5            (Reliance Industries Ltd., RELIANCE.ns)\n",
            "3        5                   (Bajaj Auto Ltd., BAJAJ-AUTO.ns)\n",
            "6        5                (Bharti Airtel Ltd., BHARTIARTL.ns)\n",
            "41       5       (Tata Consumer Products Ltd., TATACONSUM.ns)\n",
            "46       5                     (Titan Company Ltd., TITAN.ns)\n",
            "18       5    (HDFC Life Insurance Company Ltd., HDFCLIFE.ns)\n",
            "30       6                 (Mahindra & Mahindra Ltd., M&M.ns)\n",
            "29       6                      (Larsen & Toubro Ltd., LT.ns)\n",
            "47       6             (UltraTech Cement Ltd., ULTRACEMCO.ns)\n",
            "38       6                     (State Bank of India, SBIN.ns)\n",
            "31       6              (Maruti Suzuki India Ltd., MARUTI.ns)\n",
            "13       6                 (Eicher Motors Ltd., EICHERMOT.ns)\n",
            "44       7           (Tata Consultancy Services Ltd., TCS.ns)\n",
            "45       7                     (Tech Mahindra Ltd., TECHM.ns)\n",
            "24       7                            (Infosys Ltd., INFY.ns)\n",
            "15       7                (HCL Technologies Ltd., HCLTECH.ns)\n",
            "49       7                             (Wipro Ltd., WIPRO.ns)\n",
            "28       8           (Kotak Mahindra Bank Ltd., KOTAKBANK.ns)\n",
            "17       8                      (HDFC Bank Ltd., HDFCBANK.ns)\n",
            "16       8  (Housing Development Finance Corporation Ltd.,...\n",
            "35       9  (Power Grid Corporation of India Ltd., POWERGR...\n",
            "40       9  (Sun Pharmaceutical Industries Ltd., SUNPHARMA...\n"
          ]
        }
      ]
    },
    {
      "cell_type": "code",
      "metadata": {
        "colab": {
          "base_uri": "https://localhost:8080/",
          "height": 624
        },
        "id": "mm4arrVJ5OCB",
        "outputId": "813aa1c4-2f65-4507-b39a-838f4063910d"
      },
      "source": [
        "# Define step size of mesh\n",
        "h = 0.01\n",
        "\n",
        "# plot the decision boundary\n",
        "x_min, x_max = reduced_data[:, 0].min() - 1, reduced_data[:,0].max() + 1\n",
        "y_min, y_max = reduced_data[:, 1].min() - 1, reduced_data[:,1].max() + 1\n",
        "xx, yy = np.meshgrid(np.arange(x_min, x_max, h), np.arange(y_min, y_max, h))\n",
        "\n",
        "# Obtain abels for each point in the mesh using our trained model\n",
        "Z = kmeans.predict(np.c_[xx.ravel(), yy.ravel()])\n",
        "\n",
        "# Put the result into a color plot\n",
        "Z = Z.reshape(xx.shape)\n",
        "\n",
        "# define colorplot\n",
        "cmap = plt.cm.Paired\n",
        "\n",
        "# plot figure\n",
        "plt.clf()\n",
        "plt.figure(figsize=(10,10))\n",
        "plt.imshow(Z, interpolation='nearest',\n",
        " extent = (xx.min(), xx.max(), yy.min(), yy.max()),\n",
        " cmap = cmap,\n",
        " aspect = 'auto', origin='lower')\n",
        "plt.plot(reduced_data[:, 0], reduced_data[:, 1], 'k.', markersize=5)\n",
        "\n",
        "\n",
        "# plot the centroid of each cluster as a white X\n",
        "centroids = kmeans.cluster_centers_\n",
        "plt.scatter(centroids[:, 0], centroids[:, 1],\n",
        " marker='x', s=169, linewidth=3,\n",
        " color='w', zorder=10)\n",
        "\n",
        "plt.title('K-Means Clustering on Stock Market Movements (PCA-Reduced Data)')\n",
        "plt.xlim(x_min, x_max)\n",
        "plt.ylim(y_min, y_max)\n",
        "plt.show()\n"
      ],
      "execution_count": 123,
      "outputs": [
        {
          "output_type": "display_data",
          "data": {
            "text/plain": [
              "<Figure size 432x288 with 0 Axes>"
            ]
          },
          "metadata": {}
        },
        {
          "output_type": "display_data",
          "data": {
            "image/png": "[encoded data removed]",
            "text/plain": [
              "<Figure size 720x720 with 1 Axes>"
            ]
          },
          "metadata": {
            "needs_background": "light"
          }
        }
      ]
    },
    {
      "cell_type": "code",
      "metadata": {
        "id": "aOldDdXA5N_r"
      },
      "source": [
        ""
      ],
      "execution_count": 123,
      "outputs": []
    },
    {
      "cell_type": "code",
      "metadata": {
        "id": "ctw09AQg5N9H"
      },
      "source": [
        ""
      ],
      "execution_count": 123,
      "outputs": []
    },
    {
      "cell_type": "code",
      "metadata": {
        "id": "DYVavo4c5N6o"
      },
      "source": [
        ""
      ],
      "execution_count": 123,
      "outputs": []
    }
  ]
}