{
  "nbformat": 4,
  "nbformat_minor": 0,
  "metadata": {
    "colab": {
      "name": "Untitled31.ipynb",
      "provenance": [],
      "authorship_tag": "ABX9TyM1BtqWVbIUUpOkzpVf9A5l",
      "include_colab_link": true
    },
    "kernelspec": {
      "name": "python3",
      "display_name": "Python 3"
    },
    "language_info": {
      "name": "python"
    }
  },
  "cells": [
    {
      "cell_type": "markdown",
      "metadata": {
        "id": "view-in-github",
        "colab_type": "text"
      },
      "source": [
        "<a href=\"https://colab.research.google.com/github/anirbanghoshsbi/.github.io/blob/master/Untitled31.ipynb\" target=\"_parent\"><img src=\"https://colab.research.google.com/assets/colab-badge.svg\" alt=\"Open In Colab\"/></a>"
      ]
    },
    {
      "cell_type": "code",
      "execution_count": 370,
      "metadata": {
        "id": "bX9RTKD_AJwQ"
      },
      "outputs": [],
      "source": [
        "import pandas as pd\n",
        "import numpy as np\n",
        "import re\n",
        "import warnings\n",
        "warnings.filterwarnings(\"ignore\")"
      ]
    },
    {
      "cell_type": "code",
      "source": [
        "#!unzip '/content/nifty_F_data.zip' -d \"/content/new_fldr/\""
      ],
      "metadata": {
        "id": "FQ20DIYyANew"
      },
      "execution_count": 214,
      "outputs": []
    },
    {
      "cell_type": "code",
      "source": [
        "top='/content/new_fldr'"
      ],
      "metadata": {
        "id": "86kDDHdFU1-I"
      },
      "execution_count": 215,
      "outputs": []
    },
    {
      "cell_type": "code",
      "source": [
        "company_name=[]\n",
        "import os\n",
        "for root, dirs, files in os.walk(top, topdown=False):\n",
        "    for name in dirs:\n",
        "        company_name.append(os.path.join(root, name).split('/')[-1])"
      ],
      "metadata": {
        "id": "OWHKGBhZUyPo"
      },
      "execution_count": 216,
      "outputs": []
    },
    {
      "cell_type": "code",
      "source": [
        "rejct=['GAEL','UJJIVANSFB','PFIZER','NESTLEIND','MAHABANK','BAJFINANCE','IDFC','HATSUN','CHOLAFIN'\\\n",
        "       ,'ABBOTINDIA','SBICARD','BASF','RELAXO','GILLETTE','IOB','TCIEXP','SPICEJET','POWERINDIA'\\\n",
        "       ,'M&MFIN','SCHAEFFLER','PNBHOUSING','PNB','SHRIRAMCIT','BHARATRAS','HDFCAMC','HUDCO',\\\n",
        "       'INDIANB','HDFC','HDFCBANK','LAOPALA','BANKINDIA','TCNSBRANDS','VINATIORGA','LICHSGFIN','JSLHISAR',\\\n",
        "       'ICICIGI','TASTYBITE','TIMKEN','GULFOILLUB','IOLCP','ADANITRANS','PRINCEPIPE','CASTROLIND',\\\n",
        "       'TATAMTRDVR','YESBANK','RBLBANK','ICICIBANK','CREDITACC','SANOFI','BURGERKING','SKFINDIA','SPARC',\\\n",
        "       'IRCTC','CANFINHOME','MGL','VMART','WABCOINDIA','HEIDELBERG','HONAUT','JCHAC','SUNDARMFIN','HINDZINC',\\\n",
        "       'KARURVYSYA','KPITTECH','PGHL','IDBI','KOTAKBANK','BANDHANBNK','VENKEYS','CENTRALBK','MANAPPURAM',\\\n",
        "       'INGERRAND','DCBBANK','MAHSCOOTER','BSE','SBIN','PGHH','UCOBANK','SRTRANSFIN','CSBBANK','TIINDIA',\\\n",
        "       'CANBK','CDSL','SCHNEIDER','SCHNEIDER']"
      ],
      "metadata": {
        "id": "UfkMg5yWeefo"
      },
      "execution_count": 503,
      "outputs": []
    },
    {
      "cell_type": "code",
      "source": [
        "company_name=[company for company in company_name if company != 'PAGEIND']\n",
        "company_name=[company for company in company_name if company != 'AUBANK']\n",
        "company_name=[company for company in company_name if company != 'INDUSINDBK']\n",
        "company_name=[company for company in company_name if company != 'ORIENTELEC']\n",
        "company_name=[company for company in company_name if company != 'ASTRAZEN']\n",
        "company_name=[company for company in company_name if company not in rejct]"
      ],
      "metadata": {
        "id": "_4tvwzXrdBCQ"
      },
      "execution_count": 504,
      "outputs": []
    },
    {
      "cell_type": "code",
      "source": [
        "def calc_DSRI(df):\n",
        "  ''' file name ---> _str(8)'''\n",
        "  working_capital_cycle = pd.read_csv(df).T[1:]\n",
        "  #print('done')\n",
        "  working_capital_cycle.set_axis(['Debtor Days','Inventory Days','Days Payable','Cash Conversion Cycle','Working Cap Days','ROCE'],axis='columns',inplace=True)\n",
        "  WC=working_capital_cycle[1:]\n",
        "  WC=WC.reset_index()\n",
        "  WC.rename(columns={'index':'Date'},inplace=True)\n",
        "  WC=WC.set_index('Date')\n",
        "  #print(WC.head(1))\n",
        "  WC['Debtor Days']=WC['Debtor Days'].apply(lambda x:int(x))\n",
        "  WC['DSRI']=WC['Debtor Days']/WC['Debtor Days'].shift(1)\n",
        "  return WC"
      ],
      "metadata": {
        "id": "bWTA4tbfE5fI"
      },
      "execution_count": 217,
      "outputs": []
    },
    {
      "cell_type": "code",
      "source": [
        "def calc_GMI_sales_DEPI(df):\n",
        "  ''' file name ---> _str(1)'''\n",
        "  bs = pd.read_csv(df).T[1:]\n",
        "  columns =['Sales', 'Expenses', 'Operating Profit', 'OPM',\\\n",
        "        'Other Income', 'Interest', 'Depreciation', 'Profit before tax',\\\n",
        "        'Tax', 'Net Profit', 'EPS in Rs', 'Dividend Payout']\n",
        "  bs=bs[1:]\n",
        "  bs.columns=columns  \n",
        "  bs=bs.reset_index()\n",
        "  bs=bs.rename(columns={'index':'Date'})\n",
        "  bs=bs.set_index('Date')\n",
        "  bs['Operating Profit']=bs['Operating Profit'].apply(lambda x:int(x))\n",
        "  bs['Sales']=bs['Sales'].apply(lambda x:int(x))\n",
        "  bs['Depreciation']=bs['Depreciation'].apply(lambda x:int(x))\n",
        "  bs['GMI']=bs['Operating Profit'].shift(1)/bs['Operating Profit']\n",
        "  bs['SGI']=bs['Sales']/bs['Sales'].shift(1)\n",
        "  bs['DEPI']=bs['Depreciation'].shift(1)/bs['Depreciation']\n",
        "  bs['delta_Margin']=bs['Operating Profit']/bs['Sales']\n",
        "  \n",
        "  return bs"
      ],
      "metadata": {
        "id": "Om_lV5scNPXA"
      },
      "execution_count": 218,
      "outputs": []
    },
    {
      "cell_type": "code",
      "source": [
        ""
      ],
      "metadata": {
        "id": "tS4Mp2eaSqV7"
      },
      "execution_count": 218,
      "outputs": []
    },
    {
      "cell_type": "code",
      "source": [
        "def get_column_header(path):\n",
        "  bal = pd.read_csv(path).T[1:]\n",
        "  my_list=np.squeeze(bal.head(1).values).tolist()\n",
        "  cols=[re.sub('[^a-zA-Z0-9]+', '', _) for _ in my_list]\n",
        "  return cols"
      ],
      "metadata": {
        "id": "mS2lyEnwOd54"
      },
      "execution_count": 219,
      "outputs": []
    },
    {
      "cell_type": "code",
      "source": [
        "def calc_LVGI(df):\n",
        "  ''' file name ---> _str(6)'''\n",
        "  bal = pd.read_csv(df).T[1:]\n",
        "  columns= get_column_header(df)\n",
        "  bal.columns=columns \n",
        "  bal=bal[1:] \n",
        "  bal=bal.reset_index()\n",
        "  bal=bal.rename(columns={'index':'Date'})\n",
        "  bal=bal.set_index('Date')\n",
        "  #print(bal.head(2))\n",
        "  bal['Borrowings']=bal['Borrowings'].astype('int')\n",
        "  bal['ShareCapital']=bal['ShareCapital'].astype('int')\n",
        "  bal['Reserves']=bal['Reserves'].astype('int')\n",
        "  #print(bal['ShareCapital'].shape,bal['Reserves'].shape)\n",
        "  bal['Equity']=bal['ShareCapital']+bal['Reserves']\n",
        "  bal['DE']=bal['Borrowings']/bal['Equity']\n",
        "  bal['LVGI']=bal['DE']/bal['DE'].shift(1)\n",
        "  bal['AQI']=bal['OtherAssets'].astype('int')/bal['TotalAssets'].astype('int')\n",
        "  return bal"
      ],
      "metadata": {
        "id": "KvGi5a0OP_BZ"
      },
      "execution_count": 220,
      "outputs": []
    },
    {
      "cell_type": "code",
      "source": [
        "def calc_TATA(path7,path1,path6):\n",
        "  ''' pass path7= _str(7), path1= _str(1), path6= _str(6)'''\n",
        "  cfo = pd.read_csv(path7).T[1:]\n",
        "  columns=['Cash from Operating Activity',\\\n",
        "          'Cash from Investing Activity',\\\n",
        "          'Cash from Financing Activity', 'Net Cash Flow']\n",
        "  cfo=cfo[1:]\n",
        "  cfo=cfo.reset_index()\n",
        "  cfo.rename(columns={'index':'Date'},inplace=True)\n",
        "  cfo=cfo.set_index('Date')\n",
        "  cfo.columns=columns\n",
        "  snap=calc_GMI_sales_DEPI(path1)\n",
        "  snap2=calc_LVGI(path6)\n",
        "  cfo=pd.concat([cfo,snap['Net Profit'],snap2['TotalAssets']],axis=1)\n",
        "  #print(cfo.head(2))\n",
        "  cfo=cfo.fillna(0)\n",
        "  cfo['Total Accruals']=cfo['Net Profit'].apply(lambda x:int(x))-cfo['Cash from Operating Activity'].apply(lambda x:int(x))\n",
        "  cfo['TotalAssets']=cfo['TotalAssets'].apply(lambda x:int(x))\n",
        "  cfo['TATA']=cfo['Total Accruals']/cfo['TotalAssets']\n",
        "  cfo=cfo.drop(['Net Profit','TotalAssets'],axis=1)\n",
        "  return cfo"
      ],
      "metadata": {
        "id": "2HhzCPuOZ0N8"
      },
      "execution_count": 221,
      "outputs": []
    },
    {
      "cell_type": "code",
      "source": [
        "def get_final_dataframe(path1,path6,path7,path8):\n",
        "  cfo=calc_TATA(path7, path1, path6)\n",
        "  lgvi=calc_LVGI(path6)\n",
        "  dsri=calc_DSRI(path8)\n",
        "  gmi=calc_GMI_sales_DEPI(path1)\n",
        "  final_dataframe=pd.concat([cfo,lgvi,dsri,gmi],axis=1)\n",
        "  return final_dataframe"
      ],
      "metadata": {
        "id": "Xq1lrYpwbG4_"
      },
      "execution_count": 222,
      "outputs": []
    },
    {
      "cell_type": "code",
      "source": [
        "def geo_mean(iterable):\n",
        "    return np.exp(np.log(iterable).mean())"
      ],
      "metadata": {
        "id": "kfvy7EU9im3L"
      },
      "execution_count": 223,
      "outputs": []
    },
    {
      "cell_type": "markdown",
      "source": [
        "# Work in Progress "
      ],
      "metadata": {
        "id": "xBYZWPU4xkHM"
      }
    },
    {
      "cell_type": "code",
      "source": [
        "def wonderful_business(df):\n",
        "  df['return_on_asset']=df['Net Profit'].apply(lambda x:float(x))/df['TotalAssets'].apply(lambda x:float(x))\n",
        "  df['Asset_Turn_Over_ratio'] =df['Net Profit'].apply(lambda x:float(x))/((df['TotalAssets'].shift(1).apply(lambda x:float(x)))+(df['TotalAssets'].apply(lambda x:float(x))))/2\n",
        "  return df"
      ],
      "metadata": {
        "id": "7l3fllfUatbM"
      },
      "execution_count": 224,
      "outputs": []
    },
    {
      "cell_type": "code",
      "source": [
        "def PMGr(df):\n",
        "  df['Operating Profit']=df['Operating Profit'].apply(lambda x:float(x))\n",
        "  df['GM']=df['Operating Profit'].shift(1)/df['Operating Profit']\n",
        "  #print('\\n Margin Growth \\n ')\n",
        "  margin_growth = geo_mean(final_dataframe['GM'][-9:-1].apply(lambda x:float(x)))\n",
        "  #print(geo_mean(final_dataframe['GM'][-9:-1].apply(lambda x:float(x))))\n",
        "  df['Price_Stability']=df['GM'].mean(axis=0)/df['GM'].std(axis=0)\n",
        "  margin_stability=df['Price_Stability'][-1]\n",
        "  #print('\\n Margin Stability \\n ')\n",
        "  #print(df['Price_Stability'][-1])\n",
        "  return df,margin_growth , margin_stability"
      ],
      "metadata": {
        "id": "6YTaVaLxIy9z"
      },
      "execution_count": 225,
      "outputs": []
    },
    {
      "cell_type": "code",
      "source": [
        "def get_shares(path9):\n",
        "  share=pd.read_csv(path9).T[1:]\n",
        "  cols=get_column_header(path9)\n",
        "  share.columns=cols\n",
        "  share=share[1:]\n",
        "  share['total']=share.sum(axis=1).values\n",
        "  equity_repurchase=np.where(share['total'][-1]<share['total'][-2],1,0).tolist()\n",
        "  return equity_repurchase"
      ],
      "metadata": {
        "id": "JZj6NFTHYKPo"
      },
      "execution_count": 226,
      "outputs": []
    },
    {
      "cell_type": "code",
      "source": [
        "for serial,item in enumerate(company_name[:4]):\n",
        "  print(item,serial)"
      ],
      "metadata": {
        "id": "p75TqPIhabc4",
        "outputId": "c081187c-0ca9-4dc5-dc6a-822a21866fd2",
        "colab": {
          "base_uri": "https://localhost:8080/"
        }
      },
      "execution_count": 227,
      "outputs": [
        {
          "output_type": "stream",
          "name": "stdout",
          "text": [
            "TATACOFFEE 0\n",
            "JSWENERGY 1\n",
            "TRIDENT 2\n",
            "SJVN 3\n"
          ]
        }
      ]
    },
    {
      "cell_type": "code",
      "source": [
        "final_placeholder=[]\n",
        "for serial,item in enumerate(company_name):\n",
        "    print(item,serial)\n",
        "    path7 = f'/content/new_fldr/{company_name[serial]}/_str(7)'\n",
        "    path1 = f'/content/new_fldr/{company_name[serial]}/_str(1)'\n",
        "    path6 = f'/content/new_fldr/{company_name[serial]}/_str(6)'\n",
        "    path8=  f'/content/new_fldr/{company_name[serial]}/_str(8)'\n",
        "    path9=  f'/content/new_fldr/{company_name[serial]}/_str(9)'\n",
        "    final_dataframe=get_final_dataframe(path1,path6,path7,path8)\n",
        "    final_dataframe=wonderful_business(final_dataframe)\n",
        "    d,margin_growth,margin_safety=PMGr(final_dataframe)\n",
        "    roa_pos=np.where(d['return_on_asset'][-3]>0,1,0).tolist()\n",
        "    accrual_pos=np.where((d['Net Cash Flow'][-3]/d['TotalAssets'][-3])>0,1,0).tolist()\n",
        "    fs_roa=np.where(d['return_on_asset'][-3]>d['return_on_asset'][-4],1,0).tolist()\n",
        "    fcfta=np.where((d['Net Cash Flow'][-3]/d['TotalAssets'][-3])>(d['Net Cash Flow'][-4]/d['TotalAssets'][-4]),1,0).tolist()\n",
        "    f_accrual=np.where(fcfta>fs_roa,1,0).tolist()\n",
        "    lever=np.where(d['DE'][-3]>d['DE'][-4],0,1).tolist()\n",
        "    liquid=np.where(d['Cash Conversion Cycle'][-3]<d['Cash Conversion Cycle'][-4],1,0).tolist()\n",
        "    equity_repurchase=get_shares(path9)\n",
        "    asset_turn=np.where(d['Asset_Turn_Over_ratio'].shift()>0,1,0)[-1].tolist()\n",
        "    fs_margin= np.where(d['delta_Margin'][-3]>d['delta_Margin'][-4],1,0)\n",
        "    ratios=pd.DataFrame({'Ratio_name':['margin_growth','margin_safety','ROA_pos','fcfta','accrual_pos','fs_roa','f_accrual','lever','liquid','equity_repurchase','asset_turn','fs_margin'],'Ratio_value':[margin_growth,margin_safety,roa_pos,fcfta,accrual_pos,fs_roa,f_accrual,lever,liquid,equity_repurchase,asset_turn,fs_margin]})\n",
        "    ratios['company_name']=company_name[serial]\n",
        "    final_placeholder.append(ratios)"
      ],
      "metadata": {
        "id": "5FqyZUnagUbx",
        "outputId": "6eb8b49a-b6d1-4c81-99d1-dd887e232e10",
        "colab": {
          "base_uri": "https://localhost:8080/",
          "height": 1000
        }
      },
      "execution_count": 505,
      "outputs": [
        {
          "output_type": "stream",
          "name": "stdout",
          "text": [
            "TATACOFFEE 0\n",
            "JSWENERGY 1\n",
            "TRIDENT 2\n",
            "SJVN 3\n",
            "CONCOR 4\n",
            "EIHOTEL 5\n",
            "BOSCHLTD 6\n",
            "VBL 7\n",
            "OIL 8\n",
            "FCONSUMER 9\n",
            "BHARTIARTL 10\n",
            "ALKEM 11\n",
            "KAJARIACER 12\n",
            "NOCIL 13\n",
            "ALOKINDS 14\n",
            "BLUESTARCO 15\n",
            "GSFC 16\n",
            "NHPC 17\n",
            "HAVELLS 18\n",
            "GLAXO 19\n",
            "SHOPERSTOP 20\n",
            "IIFL 21\n",
            "NCC 22\n",
            "SOBHA 23\n",
            "GRASIM 24\n",
            "DELTACORP 25\n",
            "BHARATFORG 26\n",
            "SPANDANA 27\n",
            "GRINDWELL 28\n",
            "IPCALAB 29\n",
            "SUNDRMFAST 30\n",
            "BATAINDIA 31\n",
            "BALMLAWRIE 32\n",
            "EXIDEIND 33\n",
            "SHARDACROP 34\n",
            "KEC 35\n",
            "PHILIPCARB 36\n",
            "JINDALSTEL 37\n",
            "FINEORG 38\n",
            "MHRIL 39\n",
            "CUMMINSIND 40\n",
            "ENDURANCE 41\n",
            "HCLTECH 42\n",
            "MRF 43\n",
            "MAXHEALTH 44\n",
            "AARTIDRUGS 45\n",
            "ASAHIINDIA 46\n",
            "MARUTI 47\n",
            "FRETAIL 48\n",
            "KSB 49\n",
            "RAJESHEXPO 50\n",
            "THERMAX 51\n",
            "DBL 52\n",
            "DCAL 53\n",
            "PVR 54\n",
            "ASTERDM 55\n",
            "NMDC 56\n",
            "VAIBHAVGBL 57\n",
            "GRANULES 58\n",
            "TATAELXSI 59\n",
            "METROPOLIS 60\n",
            "ACC 61\n",
            "AFFLE 62\n",
            "CHALET 63\n",
            "SUNTECK 64\n",
            "NETWORK18 65\n",
            "TATASTEEL 66\n",
            "NAM-INDIA 67\n",
            "KNRCON 68\n",
            "BLUEDART 69\n",
            "TRITURBINE 70\n",
            "BALRAMCHIN 71\n",
            "PERSISTENT 72\n",
            "MOIL 73\n",
            "GPPL 74\n",
            "GODREJCP 75\n",
            "ASIANPAINT 76\n",
            "KSCL 77\n",
            "FDC 78\n",
            "CADILAHC 79\n",
            "TATACOMM 80\n",
            "BERGEPAINT 81\n",
            "COROMANDEL 82\n",
            "PFC 83\n",
            "ASHOKA 84\n",
            "BIOCON 85\n",
            "CYIENT 86\n",
            "EIDPARRY 87\n",
            "AMARAJABAT 88\n",
            "QUESS 89\n",
            "VAKRANGEE 90\n",
            "NILKAMAL 91\n",
            "PIIND 92\n",
            "DMART 93\n",
            "BAJAJFINSV 94\n",
            "EMAMILTD 95\n",
            "GUJALKALI 96\n",
            "HAL 97\n",
            "DALBHARAT 98\n",
            "INOXLEISUR 99\n",
            "IIFLWAM 100\n",
            "ABCAPITAL 101\n",
            "INDIACEM 102\n",
            "EICHERMOT 103\n",
            "SUNPHARMA 104\n",
            "MCDOWELL-N 105\n",
            "ALKYLAMINE 106\n",
            "APOLLOTYRE 107\n",
            "STARCEMENT 108\n",
            "SUPRAJIT 109\n",
            "3MINDIA 110\n",
            "KPRMILL 111\n",
            "ENGINERSIN 112\n",
            "BALKRISIND 113\n",
            "CERA 114\n",
            "INDIGO 115\n",
            "CEATLTD 116\n",
            "CAPLIPOINT 117\n",
            "ATGL 118\n",
            "LALPATHLAB 119\n",
            "BAJAJCON 120\n",
            "DHANI 121\n",
            "TORNTPHARM 122\n",
            "RCF 123\n",
            "GREAVESCOT 124\n",
            "M&M 125\n",
            "INDOCO 126\n",
            "UPL 127\n",
            "BAJAJHLDNG 128\n",
            "TECHM 129\n",
            "ZENSARTECH 130\n",
            "NBCC 131\n",
            "KRBL 132\n",
            "ECLERX 133\n",
            "DRREDDY 134\n",
            "KANSAINER 135\n",
            "MRPL 136\n",
            "RECLTD 137\n",
            "GUJGASLTD 138\n",
            "NFL 139\n",
            "JMFINANCIL 140\n",
            "STAR 141\n",
            "AIAENG 142\n",
            "AVANTIFEED 143\n",
            "AAVAS 144\n",
            "RAYMOND 145\n",
            "RAMCOCEM 146\n",
            "SUZLON 147\n",
            "ROUTE 148\n",
            "ROSSARI 149\n",
            "BAJAJ-AUTO 150\n",
            "NTPC 151\n",
            "LINDEINDIA 152\n",
            "GODFRYPHLP 153\n",
            "INFIBEAM 154\n",
            "JSWSTEEL 155\n",
            "VSTIND 156\n",
            "GARFIBRES 157\n",
            "PRESTIGE 158\n",
            "MMTC 159\n",
            "CROMPTON 160\n",
            "HUHTAMAKI 161\n",
            "TV18BRDCST 162\n",
            "OFSS 163\n",
            "MAZDOCK 164\n",
            "IEX 165\n",
            "TVSMOTOR 166\n",
            "HEROMOTOCO 167\n",
            "ABFRL 168\n",
            "VEDL 169\n",
            "ASHOKLEY 170\n",
            "IGL 171\n",
            "BAJAJELEC 172\n",
            "ZYDUSWELL 173\n",
            "WELSPUNIND 174\n",
            "TATACHEM 175\n",
            "L&TFH 176\n",
            "UBL 177\n",
            "DEEPAKNTR 178\n",
            "JKCEMENT 179\n",
            "IFBIND 180\n",
            "RAIN 181\n",
            "TTKPRESTIG 182\n",
            "BALAMINES 183\n",
            "DHANUKA 184\n",
            "WELCORP 185\n",
            "ITI 186\n",
            "HAPPSTMNDS 187\n",
            "SWANENERGY 188\n",
            "AJANTPHARM 189\n",
            "NIACL 190\n",
            "FINPIPE 191\n",
            "CAMS 192\n",
            "VIPIND 193\n",
            "SUPREMEIND 194\n",
            "ADANIGREEN 195\n",
            "JUBLFOOD 196\n",
            "MCX 197\n",
            "HFCL 198\n",
            "GSPL 199\n",
            "PEL 200\n",
            "AMBUJACEM 201\n",
            "CRISIL 202\n",
            "JUSTDIAL 203\n",
            "MPHASIS 204\n",
            "PNCINFRA 205\n",
            "SIS 206\n",
            "BLISSGVS 207\n",
            "LT 208\n",
            "MARICO 209\n",
            "TATAMOTORS 210\n",
            "ITC 211\n",
            "AEGISCHEM 212\n",
            "GNFC 213\n",
            "ADANIPORTS 214\n",
            "GICRE 215\n",
            "COLPAL 216\n",
            "KEI 217\n",
            "ALEMBICLTD 218\n",
            "VALIANTORG 219\n",
            "EDELWEISS 220\n",
            "IOC 221\n",
            "HSCL 222\n",
            "COFORGE 223\n",
            "TEAMLEASE 224\n",
            "UJJIVAN 225\n",
            "LUXIND 226\n",
            "VARROC 227\n",
            "MOTHERSUMI 228\n",
            "SONATSOFTW 229\n",
            "PETRONET 230\n",
            "FSL 231\n",
            "JYOTHYLAB 232\n",
            "DIXON 233\n",
            "WESTLIFE 234\n",
            "SUNCLAYLTD 235\n",
            "LTI 236\n",
            "DABUR 237\n",
            "ADVENZYMES 238\n",
            "CENTURYTEX 239\n",
            "PIDILITIND 240\n",
            "APOLLOHOSP 241\n",
            "CCL 242\n",
            "GMRINFRA 243\n",
            "TATAPOWER 244\n",
            "TATACONSUM 245\n",
            "APLLTD 246\n",
            "BEML 247\n",
            "BRIGADE 248\n",
            "NLCINDIA 249\n",
            "SCI 250\n",
            "SUDARSCHEM 251\n",
            "BEL 252\n",
            "CHAMBLFERT 253\n",
            "BPCL 254\n",
            "THYROCARE 255\n",
            "BHEL 256\n",
            "SUPPETRO 257\n",
            "EPL 258\n",
            "HINDCOPPER 259\n",
            "CIPLA 260\n",
            "POLYMED 261\n",
            "PHOENIXLTD 262\n",
            "EQUITAS 263\n",
            "UTIAMC 264\n",
            "WHIRLPOOL 265\n",
            "DLF 266\n",
            "SWSOLAR 267\n",
            "INDUSTOWER 268\n",
            "STLTECH 269\n",
            "SHREECEM 270\n",
            "LUPIN 271\n",
            "HINDALCO 272\n",
            "GESHIP 273\n",
            "RVNL 274\n",
            "JINDALSAW 275\n",
            "MINDAIND 276\n",
            "MINDTREE 277\n",
            "JKTYRE 278\n",
            "LTTS 279\n",
            "ATUL 280\n",
            "FLUOROCHEM 281\n",
            "RALLIS 282\n",
            "RITES 283\n",
            "GODREJIND 284\n",
            "RADICO 285\n",
            "SAIL 286\n",
            "JAMNAAUTO 287\n",
            "MOTILALOFS 288\n",
            "NESCO 289\n",
            "NATCOPHARM 290\n",
            "IDEA 291\n",
            "ESCORTS 292\n",
            "GAIL 293\n",
            "NAVINFLUOR 294\n",
            "MAHLOG 295\n",
            "RATNAMANI 296\n",
            "RESPONIND 297\n",
            "VGUARD 298\n",
            "IRB 299\n",
            "MIDHANI 300\n",
            "ICIL 301\n",
            "ONGC 302\n",
            "SIEMENS 303\n",
            "LAURUSLABS 304\n",
            "POWERGRID 305\n",
            "GEPIL 306\n",
            "COALINDIA 307\n",
            "JTEKTINDIA 308\n",
            "SOLARINDS 309\n",
            "JKPAPER 310\n",
            "NATIONALUM 311\n",
            "NAUKRI 312\n",
            "TORNTPOWER 313\n",
            "BRITANNIA 314\n",
            "SRF 315\n",
            "ZEEL 316\n",
            "JBCHEPHARM 317\n",
            "TITAN 318\n",
            "APLAPOLLO 319\n",
            "SUVENPHAR 320\n",
            "REDINGTON 321\n",
            "BBTC 322\n",
            "MAHINDCIE 323\n",
            "GALAXYSURF 324\n",
            "FINCABLES 325\n",
            "HINDUNILVR 326\n",
            "HINDPETRO 327\n",
            "TATAINVEST 328\n",
            "POLYCAB 329\n",
            "CARBORUNIV 330\n",
            "MASFIN 331\n",
            "SUMICHEM 332\n",
            "KALPATPOWR 333\n",
            "UFLEX 334\n",
            "OBEROIRLTY 335\n",
            "LAXMIMACH 336\n",
            "IRCON 337\n",
            "ASTRAL 338\n",
            "ULTRACEMCO 339\n",
            "HEG 340\n",
            "SYNGENE 341\n",
            "IBREALEST 342\n",
            "JSL 343\n",
            "ISEC 344\n",
            "AUROPHARMA 345\n",
            "NH 346\n",
            "MINDACORP 347\n",
            "INDIAMART 348\n",
            "CENTURYPLY 349\n",
            "ADANIENT 350\n",
            "MAHSEAMLES 351\n",
            "CGCL 352\n",
            "ELGIEQUIP 353\n",
            "IBULHSGFIN 354\n"
          ]
        },
        {
          "output_type": "error",
          "ename": "ValueError",
          "evalue": "ignored",
          "traceback": [
            "\u001b[0;31m---------------------------------------------------------------------------\u001b[0m",
            "\u001b[0;31mValueError\u001b[0m                                Traceback (most recent call last)",
            "\u001b[0;32m<ipython-input-505-ed043247b367>\u001b[0m in \u001b[0;36m<module>\u001b[0;34m()\u001b[0m\n\u001b[1;32m      7\u001b[0m     \u001b[0mpath8\u001b[0m\u001b[0;34m=\u001b[0m  \u001b[0;34mf'/content/new_fldr/{company_name[serial]}/_str(8)'\u001b[0m\u001b[0;34m\u001b[0m\u001b[0;34m\u001b[0m\u001b[0m\n\u001b[1;32m      8\u001b[0m     \u001b[0mpath9\u001b[0m\u001b[0;34m=\u001b[0m  \u001b[0;34mf'/content/new_fldr/{company_name[serial]}/_str(9)'\u001b[0m\u001b[0;34m\u001b[0m\u001b[0;34m\u001b[0m\u001b[0m\n\u001b[0;32m----> 9\u001b[0;31m     \u001b[0mfinal_dataframe\u001b[0m\u001b[0;34m=\u001b[0m\u001b[0mget_final_dataframe\u001b[0m\u001b[0;34m(\u001b[0m\u001b[0mpath1\u001b[0m\u001b[0;34m,\u001b[0m\u001b[0mpath6\u001b[0m\u001b[0;34m,\u001b[0m\u001b[0mpath7\u001b[0m\u001b[0;34m,\u001b[0m\u001b[0mpath8\u001b[0m\u001b[0;34m)\u001b[0m\u001b[0;34m\u001b[0m\u001b[0;34m\u001b[0m\u001b[0m\n\u001b[0m\u001b[1;32m     10\u001b[0m     \u001b[0mfinal_dataframe\u001b[0m\u001b[0;34m=\u001b[0m\u001b[0mwonderful_business\u001b[0m\u001b[0;34m(\u001b[0m\u001b[0mfinal_dataframe\u001b[0m\u001b[0;34m)\u001b[0m\u001b[0;34m\u001b[0m\u001b[0;34m\u001b[0m\u001b[0m\n\u001b[1;32m     11\u001b[0m     \u001b[0md\u001b[0m\u001b[0;34m,\u001b[0m\u001b[0mmargin_growth\u001b[0m\u001b[0;34m,\u001b[0m\u001b[0mmargin_safety\u001b[0m\u001b[0;34m=\u001b[0m\u001b[0mPMGr\u001b[0m\u001b[0;34m(\u001b[0m\u001b[0mfinal_dataframe\u001b[0m\u001b[0;34m)\u001b[0m\u001b[0;34m\u001b[0m\u001b[0;34m\u001b[0m\u001b[0m\n",
            "\u001b[0;32m<ipython-input-222-d6aecbde3d51>\u001b[0m in \u001b[0;36mget_final_dataframe\u001b[0;34m(path1, path6, path7, path8)\u001b[0m\n\u001b[1;32m      2\u001b[0m   \u001b[0mcfo\u001b[0m\u001b[0;34m=\u001b[0m\u001b[0mcalc_TATA\u001b[0m\u001b[0;34m(\u001b[0m\u001b[0mpath7\u001b[0m\u001b[0;34m,\u001b[0m \u001b[0mpath1\u001b[0m\u001b[0;34m,\u001b[0m \u001b[0mpath6\u001b[0m\u001b[0;34m)\u001b[0m\u001b[0;34m\u001b[0m\u001b[0;34m\u001b[0m\u001b[0m\n\u001b[1;32m      3\u001b[0m   \u001b[0mlgvi\u001b[0m\u001b[0;34m=\u001b[0m\u001b[0mcalc_LVGI\u001b[0m\u001b[0;34m(\u001b[0m\u001b[0mpath6\u001b[0m\u001b[0;34m)\u001b[0m\u001b[0;34m\u001b[0m\u001b[0;34m\u001b[0m\u001b[0m\n\u001b[0;32m----> 4\u001b[0;31m   \u001b[0mdsri\u001b[0m\u001b[0;34m=\u001b[0m\u001b[0mcalc_DSRI\u001b[0m\u001b[0;34m(\u001b[0m\u001b[0mpath8\u001b[0m\u001b[0;34m)\u001b[0m\u001b[0;34m\u001b[0m\u001b[0;34m\u001b[0m\u001b[0m\n\u001b[0m\u001b[1;32m      5\u001b[0m   \u001b[0mgmi\u001b[0m\u001b[0;34m=\u001b[0m\u001b[0mcalc_GMI_sales_DEPI\u001b[0m\u001b[0;34m(\u001b[0m\u001b[0mpath1\u001b[0m\u001b[0;34m)\u001b[0m\u001b[0;34m\u001b[0m\u001b[0;34m\u001b[0m\u001b[0m\n\u001b[1;32m      6\u001b[0m   \u001b[0mfinal_dataframe\u001b[0m\u001b[0;34m=\u001b[0m\u001b[0mpd\u001b[0m\u001b[0;34m.\u001b[0m\u001b[0mconcat\u001b[0m\u001b[0;34m(\u001b[0m\u001b[0;34m[\u001b[0m\u001b[0mcfo\u001b[0m\u001b[0;34m,\u001b[0m\u001b[0mlgvi\u001b[0m\u001b[0;34m,\u001b[0m\u001b[0mdsri\u001b[0m\u001b[0;34m,\u001b[0m\u001b[0mgmi\u001b[0m\u001b[0;34m]\u001b[0m\u001b[0;34m,\u001b[0m\u001b[0maxis\u001b[0m\u001b[0;34m=\u001b[0m\u001b[0;36m1\u001b[0m\u001b[0;34m)\u001b[0m\u001b[0;34m\u001b[0m\u001b[0;34m\u001b[0m\u001b[0m\n",
            "\u001b[0;32m<ipython-input-217-278b77201dbb>\u001b[0m in \u001b[0;36mcalc_DSRI\u001b[0;34m(df)\u001b[0m\n\u001b[1;32m      3\u001b[0m   \u001b[0mworking_capital_cycle\u001b[0m \u001b[0;34m=\u001b[0m \u001b[0mpd\u001b[0m\u001b[0;34m.\u001b[0m\u001b[0mread_csv\u001b[0m\u001b[0;34m(\u001b[0m\u001b[0mdf\u001b[0m\u001b[0;34m)\u001b[0m\u001b[0;34m.\u001b[0m\u001b[0mT\u001b[0m\u001b[0;34m[\u001b[0m\u001b[0;36m1\u001b[0m\u001b[0;34m:\u001b[0m\u001b[0;34m]\u001b[0m\u001b[0;34m\u001b[0m\u001b[0;34m\u001b[0m\u001b[0m\n\u001b[1;32m      4\u001b[0m   \u001b[0;31m#print('done')\u001b[0m\u001b[0;34m\u001b[0m\u001b[0;34m\u001b[0m\u001b[0;34m\u001b[0m\u001b[0m\n\u001b[0;32m----> 5\u001b[0;31m   \u001b[0mworking_capital_cycle\u001b[0m\u001b[0;34m.\u001b[0m\u001b[0mset_axis\u001b[0m\u001b[0;34m(\u001b[0m\u001b[0;34m[\u001b[0m\u001b[0;34m'Debtor Days'\u001b[0m\u001b[0;34m,\u001b[0m\u001b[0;34m'Inventory Days'\u001b[0m\u001b[0;34m,\u001b[0m\u001b[0;34m'Days Payable'\u001b[0m\u001b[0;34m,\u001b[0m\u001b[0;34m'Cash Conversion Cycle'\u001b[0m\u001b[0;34m,\u001b[0m\u001b[0;34m'Working Cap Days'\u001b[0m\u001b[0;34m,\u001b[0m\u001b[0;34m'ROCE'\u001b[0m\u001b[0;34m]\u001b[0m\u001b[0;34m,\u001b[0m\u001b[0maxis\u001b[0m\u001b[0;34m=\u001b[0m\u001b[0;34m'columns'\u001b[0m\u001b[0;34m,\u001b[0m\u001b[0minplace\u001b[0m\u001b[0;34m=\u001b[0m\u001b[0;32mTrue\u001b[0m\u001b[0;34m)\u001b[0m\u001b[0;34m\u001b[0m\u001b[0;34m\u001b[0m\u001b[0m\n\u001b[0m\u001b[1;32m      6\u001b[0m   \u001b[0mWC\u001b[0m\u001b[0;34m=\u001b[0m\u001b[0mworking_capital_cycle\u001b[0m\u001b[0;34m[\u001b[0m\u001b[0;36m1\u001b[0m\u001b[0;34m:\u001b[0m\u001b[0;34m]\u001b[0m\u001b[0;34m\u001b[0m\u001b[0;34m\u001b[0m\u001b[0m\n\u001b[1;32m      7\u001b[0m   \u001b[0mWC\u001b[0m\u001b[0;34m=\u001b[0m\u001b[0mWC\u001b[0m\u001b[0;34m.\u001b[0m\u001b[0mreset_index\u001b[0m\u001b[0;34m(\u001b[0m\u001b[0;34m)\u001b[0m\u001b[0;34m\u001b[0m\u001b[0;34m\u001b[0m\u001b[0m\n",
            "\u001b[0;32m/usr/local/lib/python3.7/dist-packages/pandas/core/frame.py\u001b[0m in \u001b[0;36mset_axis\u001b[0;34m(self, labels, axis, inplace)\u001b[0m\n\u001b[1;32m   4013\u001b[0m     \u001b[0;34m@\u001b[0m\u001b[0mAppender\u001b[0m\u001b[0;34m(\u001b[0m\u001b[0mNDFrame\u001b[0m\u001b[0;34m.\u001b[0m\u001b[0mset_axis\u001b[0m\u001b[0;34m.\u001b[0m\u001b[0m__doc__\u001b[0m\u001b[0;34m)\u001b[0m\u001b[0;34m\u001b[0m\u001b[0;34m\u001b[0m\u001b[0m\n\u001b[1;32m   4014\u001b[0m     \u001b[0;32mdef\u001b[0m \u001b[0mset_axis\u001b[0m\u001b[0;34m(\u001b[0m\u001b[0mself\u001b[0m\u001b[0;34m,\u001b[0m \u001b[0mlabels\u001b[0m\u001b[0;34m,\u001b[0m \u001b[0maxis\u001b[0m\u001b[0;34m:\u001b[0m \u001b[0mAxis\u001b[0m \u001b[0;34m=\u001b[0m \u001b[0;36m0\u001b[0m\u001b[0;34m,\u001b[0m \u001b[0minplace\u001b[0m\u001b[0;34m:\u001b[0m \u001b[0mbool\u001b[0m \u001b[0;34m=\u001b[0m \u001b[0;32mFalse\u001b[0m\u001b[0;34m)\u001b[0m\u001b[0;34m:\u001b[0m\u001b[0;34m\u001b[0m\u001b[0;34m\u001b[0m\u001b[0m\n\u001b[0;32m-> 4015\u001b[0;31m         \u001b[0;32mreturn\u001b[0m \u001b[0msuper\u001b[0m\u001b[0;34m(\u001b[0m\u001b[0;34m)\u001b[0m\u001b[0;34m.\u001b[0m\u001b[0mset_axis\u001b[0m\u001b[0;34m(\u001b[0m\u001b[0mlabels\u001b[0m\u001b[0;34m,\u001b[0m \u001b[0maxis\u001b[0m\u001b[0;34m=\u001b[0m\u001b[0maxis\u001b[0m\u001b[0;34m,\u001b[0m \u001b[0minplace\u001b[0m\u001b[0;34m=\u001b[0m\u001b[0minplace\u001b[0m\u001b[0;34m)\u001b[0m\u001b[0;34m\u001b[0m\u001b[0;34m\u001b[0m\u001b[0m\n\u001b[0m\u001b[1;32m   4016\u001b[0m \u001b[0;34m\u001b[0m\u001b[0m\n\u001b[1;32m   4017\u001b[0m     \u001b[0;34m@\u001b[0m\u001b[0mSubstitution\u001b[0m\u001b[0;34m(\u001b[0m\u001b[0;34m**\u001b[0m\u001b[0m_shared_doc_kwargs\u001b[0m\u001b[0;34m)\u001b[0m\u001b[0;34m\u001b[0m\u001b[0;34m\u001b[0m\u001b[0m\n",
            "\u001b[0;32m/usr/local/lib/python3.7/dist-packages/pandas/core/generic.py\u001b[0m in \u001b[0;36mset_axis\u001b[0;34m(self, labels, axis, inplace)\u001b[0m\n\u001b[1;32m    554\u001b[0m         \"\"\"\n\u001b[1;32m    555\u001b[0m         \u001b[0;32mif\u001b[0m \u001b[0minplace\u001b[0m\u001b[0;34m:\u001b[0m\u001b[0;34m\u001b[0m\u001b[0;34m\u001b[0m\u001b[0m\n\u001b[0;32m--> 556\u001b[0;31m             \u001b[0msetattr\u001b[0m\u001b[0;34m(\u001b[0m\u001b[0mself\u001b[0m\u001b[0;34m,\u001b[0m \u001b[0mself\u001b[0m\u001b[0;34m.\u001b[0m\u001b[0m_get_axis_name\u001b[0m\u001b[0;34m(\u001b[0m\u001b[0maxis\u001b[0m\u001b[0;34m)\u001b[0m\u001b[0;34m,\u001b[0m \u001b[0mlabels\u001b[0m\u001b[0;34m)\u001b[0m\u001b[0;34m\u001b[0m\u001b[0;34m\u001b[0m\u001b[0m\n\u001b[0m\u001b[1;32m    557\u001b[0m         \u001b[0;32melse\u001b[0m\u001b[0;34m:\u001b[0m\u001b[0;34m\u001b[0m\u001b[0;34m\u001b[0m\u001b[0m\n\u001b[1;32m    558\u001b[0m             \u001b[0mobj\u001b[0m \u001b[0;34m=\u001b[0m \u001b[0mself\u001b[0m\u001b[0;34m.\u001b[0m\u001b[0mcopy\u001b[0m\u001b[0;34m(\u001b[0m\u001b[0;34m)\u001b[0m\u001b[0;34m\u001b[0m\u001b[0;34m\u001b[0m\u001b[0m\n",
            "\u001b[0;32m/usr/local/lib/python3.7/dist-packages/pandas/core/generic.py\u001b[0m in \u001b[0;36m__setattr__\u001b[0;34m(self, name, value)\u001b[0m\n\u001b[1;32m   5152\u001b[0m         \u001b[0;32mtry\u001b[0m\u001b[0;34m:\u001b[0m\u001b[0;34m\u001b[0m\u001b[0;34m\u001b[0m\u001b[0m\n\u001b[1;32m   5153\u001b[0m             \u001b[0mobject\u001b[0m\u001b[0;34m.\u001b[0m\u001b[0m__getattribute__\u001b[0m\u001b[0;34m(\u001b[0m\u001b[0mself\u001b[0m\u001b[0;34m,\u001b[0m \u001b[0mname\u001b[0m\u001b[0;34m)\u001b[0m\u001b[0;34m\u001b[0m\u001b[0;34m\u001b[0m\u001b[0m\n\u001b[0;32m-> 5154\u001b[0;31m             \u001b[0;32mreturn\u001b[0m \u001b[0mobject\u001b[0m\u001b[0;34m.\u001b[0m\u001b[0m__setattr__\u001b[0m\u001b[0;34m(\u001b[0m\u001b[0mself\u001b[0m\u001b[0;34m,\u001b[0m \u001b[0mname\u001b[0m\u001b[0;34m,\u001b[0m \u001b[0mvalue\u001b[0m\u001b[0;34m)\u001b[0m\u001b[0;34m\u001b[0m\u001b[0;34m\u001b[0m\u001b[0m\n\u001b[0m\u001b[1;32m   5155\u001b[0m         \u001b[0;32mexcept\u001b[0m \u001b[0mAttributeError\u001b[0m\u001b[0;34m:\u001b[0m\u001b[0;34m\u001b[0m\u001b[0;34m\u001b[0m\u001b[0m\n\u001b[1;32m   5156\u001b[0m             \u001b[0;32mpass\u001b[0m\u001b[0;34m\u001b[0m\u001b[0;34m\u001b[0m\u001b[0m\n",
            "\u001b[0;32mpandas/_libs/properties.pyx\u001b[0m in \u001b[0;36mpandas._libs.properties.AxisProperty.__set__\u001b[0;34m()\u001b[0m\n",
            "\u001b[0;32m/usr/local/lib/python3.7/dist-packages/pandas/core/generic.py\u001b[0m in \u001b[0;36m_set_axis\u001b[0;34m(self, axis, labels)\u001b[0m\n\u001b[1;32m    562\u001b[0m     \u001b[0;32mdef\u001b[0m \u001b[0m_set_axis\u001b[0m\u001b[0;34m(\u001b[0m\u001b[0mself\u001b[0m\u001b[0;34m,\u001b[0m \u001b[0maxis\u001b[0m\u001b[0;34m:\u001b[0m \u001b[0mint\u001b[0m\u001b[0;34m,\u001b[0m \u001b[0mlabels\u001b[0m\u001b[0;34m:\u001b[0m \u001b[0mIndex\u001b[0m\u001b[0;34m)\u001b[0m \u001b[0;34m->\u001b[0m \u001b[0;32mNone\u001b[0m\u001b[0;34m:\u001b[0m\u001b[0;34m\u001b[0m\u001b[0;34m\u001b[0m\u001b[0m\n\u001b[1;32m    563\u001b[0m         \u001b[0mlabels\u001b[0m \u001b[0;34m=\u001b[0m \u001b[0mensure_index\u001b[0m\u001b[0;34m(\u001b[0m\u001b[0mlabels\u001b[0m\u001b[0;34m)\u001b[0m\u001b[0;34m\u001b[0m\u001b[0;34m\u001b[0m\u001b[0m\n\u001b[0;32m--> 564\u001b[0;31m         \u001b[0mself\u001b[0m\u001b[0;34m.\u001b[0m\u001b[0m_mgr\u001b[0m\u001b[0;34m.\u001b[0m\u001b[0mset_axis\u001b[0m\u001b[0;34m(\u001b[0m\u001b[0maxis\u001b[0m\u001b[0;34m,\u001b[0m \u001b[0mlabels\u001b[0m\u001b[0;34m)\u001b[0m\u001b[0;34m\u001b[0m\u001b[0;34m\u001b[0m\u001b[0m\n\u001b[0m\u001b[1;32m    565\u001b[0m         \u001b[0mself\u001b[0m\u001b[0;34m.\u001b[0m\u001b[0m_clear_item_cache\u001b[0m\u001b[0;34m(\u001b[0m\u001b[0;34m)\u001b[0m\u001b[0;34m\u001b[0m\u001b[0;34m\u001b[0m\u001b[0m\n\u001b[1;32m    566\u001b[0m \u001b[0;34m\u001b[0m\u001b[0m\n",
            "\u001b[0;32m/usr/local/lib/python3.7/dist-packages/pandas/core/internals/managers.py\u001b[0m in \u001b[0;36mset_axis\u001b[0;34m(self, axis, new_labels)\u001b[0m\n\u001b[1;32m    225\u001b[0m         \u001b[0;32mif\u001b[0m \u001b[0mnew_len\u001b[0m \u001b[0;34m!=\u001b[0m \u001b[0mold_len\u001b[0m\u001b[0;34m:\u001b[0m\u001b[0;34m\u001b[0m\u001b[0;34m\u001b[0m\u001b[0m\n\u001b[1;32m    226\u001b[0m             raise ValueError(\n\u001b[0;32m--> 227\u001b[0;31m                 \u001b[0;34mf\"Length mismatch: Expected axis has {old_len} elements, new \"\u001b[0m\u001b[0;34m\u001b[0m\u001b[0;34m\u001b[0m\u001b[0m\n\u001b[0m\u001b[1;32m    228\u001b[0m                 \u001b[0;34mf\"values have {new_len} elements\"\u001b[0m\u001b[0;34m\u001b[0m\u001b[0;34m\u001b[0m\u001b[0m\n\u001b[1;32m    229\u001b[0m             )\n",
            "\u001b[0;31mValueError\u001b[0m: Length mismatch: Expected axis has 1 elements, new values have 6 elements"
          ]
        }
      ]
    },
    {
      "cell_type": "code",
      "source": [
        "final_placeholder[4]"
      ],
      "metadata": {
        "id": "TnkPqHZ8gNkj"
      },
      "execution_count": null,
      "outputs": []
    },
    {
      "cell_type": "code",
      "source": [
        ""
      ],
      "metadata": {
        "id": "RmUcSGwjrkVm"
      },
      "execution_count": null,
      "outputs": []
    },
    {
      "cell_type": "code",
      "source": [
        ""
      ],
      "metadata": {
        "id": "YuYqVYFtsDbm"
      },
      "execution_count": null,
      "outputs": []
    },
    {
      "cell_type": "code",
      "source": [
        ""
      ],
      "metadata": {
        "id": "hbDdLKZGarVh"
      },
      "execution_count": null,
      "outputs": []
    },
    {
      "cell_type": "code",
      "source": [
        ""
      ],
      "metadata": {
        "id": "GkiM14nJdM5Z"
      },
      "execution_count": null,
      "outputs": []
    },
    {
      "cell_type": "code",
      "source": [
        ""
      ],
      "metadata": {
        "id": "oS8u1bJvevGC"
      },
      "execution_count": null,
      "outputs": []
    },
    {
      "cell_type": "code",
      "source": [
        ""
      ],
      "metadata": {
        "id": "C2xfzTWqWqdn"
      },
      "execution_count": null,
      "outputs": []
    }
  ]
}