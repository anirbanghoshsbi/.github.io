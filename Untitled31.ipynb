{
  "nbformat": 4,
  "nbformat_minor": 0,
  "metadata": {
    "colab": {
      "name": "Untitled31.ipynb",
      "provenance": [],
      "authorship_tag": "ABX9TyOgtXD3mBddT0ecQILkgh8z",
      "include_colab_link": true
    },
    "kernelspec": {
      "name": "python3",
      "display_name": "Python 3"
    },
    "language_info": {
      "name": "python"
    }
  },
  "cells": [
    {
      "cell_type": "markdown",
      "metadata": {
        "id": "view-in-github",
        "colab_type": "text"
      },
      "source": [
        "<a href=\"https://colab.research.google.com/github/anirbanghoshsbi/.github.io/blob/master/Untitled31.ipynb\" target=\"_parent\"><img src=\"https://colab.research.google.com/assets/colab-badge.svg\" alt=\"Open In Colab\"/></a>"
      ]
    },
    {
      "cell_type": "code",
      "execution_count": 228,
      "metadata": {
        "id": "bX9RTKD_AJwQ"
      },
      "outputs": [],
      "source": [
        "import pandas as pd\n",
        "import numpy as np\n",
        "import re\n"
      ]
    },
    {
      "cell_type": "code",
      "source": [
        "#!unzip '/content/nifty_F_data.zip' -d \"/content/new_fldr/\""
      ],
      "metadata": {
        "id": "FQ20DIYyANew"
      },
      "execution_count": 229,
      "outputs": []
    },
    {
      "cell_type": "code",
      "source": [
        "def calc_DSRI(df):\n",
        "  ''' file name ---> _str(8)'''\n",
        "  working_capital_cycle = pd.read_csv(df).T[1:]\n",
        "  print('done')\n",
        "  working_capital_cycle.set_axis(['Debtor Days','Inventory Days','Days Payable','Cash Conversion Cycle','Working Cap Days','ROCE'],axis='columns',inplace=True)\n",
        "  WC=working_capital_cycle[1:]\n",
        "  WC=WC.reset_index()\n",
        "  WC.rename(columns={'index':'Date'},inplace=True)\n",
        "  WC=WC.set_index('Date')\n",
        "  print(WC.head(1))\n",
        "  WC['Debtor Days']=WC['Debtor Days'].apply(lambda x:int(x))\n",
        "  WC['DSRI']=WC['Debtor Days']/WC['Debtor Days'].shift(1)\n",
        "  return WC"
      ],
      "metadata": {
        "id": "bWTA4tbfE5fI"
      },
      "execution_count": 230,
      "outputs": []
    },
    {
      "cell_type": "code",
      "source": [
        "def calc_GMI_sales_DEPI(df):\n",
        "  ''' file name ---> _str(1)'''\n",
        "  bs = pd.read_csv(df).T[1:]\n",
        "  columns =['Sales', 'Expenses', 'Operating Profit', 'OPM',\\\n",
        "        'Other Income', 'Interest', 'Depreciation', 'Profit before tax',\\\n",
        "        'Tax', 'Net Profit', 'EPS in Rs', 'Dividend Payout']\n",
        "  bs=bs[1:]\n",
        "  bs.columns=columns  \n",
        "  bs=bs.reset_index()\n",
        "  bs=bs.rename(columns={'index':'Date'})\n",
        "  bs=bs.set_index('Date')\n",
        "  bs['Operating Profit']=bs['Operating Profit'].apply(lambda x:int(x))\n",
        "  bs['Sales']=bs['Sales'].apply(lambda x:int(x))\n",
        "  bs['Depreciation']=bs['Depreciation'].apply(lambda x:int(x))\n",
        "  bs['GMI']=bs['Operating Profit'].shift(1)/bs['Operating Profit']\n",
        "  bs['SGI']=bs['Sales']/bs['Sales'].shift(1)\n",
        "  bs['DEPI']=bs['Depreciation'].shift(1)/bs['Depreciation']\n",
        "  bs['delta_Margin']=bs['Operating Profit']/bs['Sales']\n",
        "  \n",
        "  return bs"
      ],
      "metadata": {
        "id": "Om_lV5scNPXA"
      },
      "execution_count": 231,
      "outputs": []
    },
    {
      "cell_type": "code",
      "source": [
        "path='/content/new_fldr/3MINDIA/_str(6)'"
      ],
      "metadata": {
        "id": "LNCFtkP2LlXF"
      },
      "execution_count": 232,
      "outputs": []
    },
    {
      "cell_type": "code",
      "source": [
        "def get_column_header(path):\n",
        "  bal = pd.read_csv(path).T[1:]\n",
        "  my_list=np.squeeze(bal.head(1).values).tolist()\n",
        "  cols=[re.sub('[^a-zA-Z0-9]+', '', _) for _ in my_list]\n",
        "  return cols"
      ],
      "metadata": {
        "id": "mS2lyEnwOd54"
      },
      "execution_count": 233,
      "outputs": []
    },
    {
      "cell_type": "code",
      "source": [
        "def calc_LVGI(df):\n",
        "  ''' file name ---> _str(6)'''\n",
        "  bal = pd.read_csv(df).T[1:]\n",
        "  columns= get_column_header(path)\n",
        "  bal.columns=columns \n",
        "  bal=bal[1:] \n",
        "  bal=bal.reset_index()\n",
        "  bal=bal.rename(columns={'index':'Date'})\n",
        "  bal=bal.set_index('Date')\n",
        "  #print(bal.head(2))\n",
        "  bal['Borrowings']=bal['Borrowings'].astype('int')\n",
        "  bal['ShareCapital']=bal['ShareCapital'].astype('int')\n",
        "  bal['Reserves']=bal['Reserves'].astype('int')\n",
        "  #print(bal['ShareCapital'].shape,bal['Reserves'].shape)\n",
        "  bal['Equity']=bal['ShareCapital']+bal['Reserves']\n",
        "  bal['DE']=bal['Borrowings']/bal['Equity']\n",
        "  bal['LVGI']=bal['DE']/bal['DE'].shift(1)\n",
        "  bal['AQI']=bal['OtherAssets'].astype('int')/bal['TotalAssets'].astype('int')\n",
        "  return bal"
      ],
      "metadata": {
        "id": "KvGi5a0OP_BZ"
      },
      "execution_count": 234,
      "outputs": []
    },
    {
      "cell_type": "code",
      "source": [
        "path7 = '/content/new_fldr/3MINDIA/_str(7)'\n",
        "path1 = '/content/new_fldr/3MINDIA/_str(1)'\n",
        "path6 = '/content/new_fldr/3MINDIA/_str(6)'\n",
        "path8=  '/content/new_fldr/3MINDIA/_str(8)'"
      ],
      "metadata": {
        "id": "tS4Mp2eaSqV7"
      },
      "execution_count": 235,
      "outputs": []
    },
    {
      "cell_type": "code",
      "source": [
        "def calc_TATA(path7,path1,path6):\n",
        "  ''' pass path7= _str(7), path1= _str(1), path6= _str(6)'''\n",
        "  cfo = pd.read_csv(path7).T[1:]\n",
        "  columns=['Cash from Operating Activity',\\\n",
        "          'Cash from Investing Activity',\\\n",
        "          'Cash from Financing Activity', 'Net Cash Flow']\n",
        "  cfo=cfo[1:]\n",
        "  cfo=cfo.reset_index()\n",
        "  cfo.rename(columns={'index':'Date'},inplace=True)\n",
        "  cfo=cfo.set_index('Date')\n",
        "  cfo.columns=columns\n",
        "  snap=calc_GMI_sales_DEPI(path1)\n",
        "  snap2=calc_LVGI(path6)\n",
        "  cfo=pd.concat([cfo,snap['Net Profit'],snap2['TotalAssets']],axis=1)\n",
        "  #print(cfo.head(2))\n",
        "  cfo=cfo.fillna(0)\n",
        "  cfo['Total Accruals']=cfo['Net Profit'].apply(lambda x:int(x))-cfo['Cash from Operating Activity'].apply(lambda x:int(x))\n",
        "  cfo['TotalAssets']=cfo['TotalAssets'].apply(lambda x:int(x))\n",
        "  cfo['TATA']=cfo['Total Accruals']/cfo['TotalAssets']\n",
        "  cfo=cfo.drop(['Net Profit','TotalAssets'],axis=1)\n",
        "  return cfo"
      ],
      "metadata": {
        "id": "2HhzCPuOZ0N8"
      },
      "execution_count": 236,
      "outputs": []
    },
    {
      "cell_type": "code",
      "source": [
        "def get_final_dataframe(path1,path6,path7,path8):\n",
        "  cfo=calc_TATA(path7, path1, path6)\n",
        "  lgvi=calc_LVGI(path6)\n",
        "  dsri=calc_DSRI(path8)\n",
        "  gmi=calc_GMI_sales_DEPI(path1)\n",
        "  final_dataframe=pd.concat([cfo,lgvi,dsri,gmi],axis=1)\n",
        "  return final_dataframe"
      ],
      "metadata": {
        "id": "Xq1lrYpwbG4_"
      },
      "execution_count": 237,
      "outputs": []
    },
    {
      "cell_type": "code",
      "source": [
        "final_dataframe=get_final_dataframe(path1,path6,path7,path8)"
      ],
      "metadata": {
        "colab": {
          "base_uri": "https://localhost:8080/"
        },
        "id": "Xy4pJXNja_Ik",
        "outputId": "b8575dfb-9926-4ab5-8ec1-f993361678a7"
      },
      "execution_count": 238,
      "outputs": [
        {
          "output_type": "stream",
          "name": "stdout",
          "text": [
            "done\n",
            "         Debtor Days Inventory Days  ... Working Cap Days ROCE\n",
            "Date                                 ...                      \n",
            "Mar 2018          77             96  ...              -25  NaN\n",
            "\n",
            "[1 rows x 6 columns]\n"
          ]
        }
      ]
    },
    {
      "cell_type": "code",
      "source": [
        "final_dataframe.columns"
      ],
      "metadata": {
        "colab": {
          "base_uri": "https://localhost:8080/"
        },
        "id": "Dnkgf8gpvkNC",
        "outputId": "ce4973d4-8258-4682-d4d5-1a5acdb53c19"
      },
      "execution_count": 239,
      "outputs": [
        {
          "output_type": "execute_result",
          "data": {
            "text/plain": [
              "Index(['Cash from Operating Activity', 'Cash from Investing Activity',\n",
              "       'Cash from Financing Activity', 'Net Cash Flow', 'Total Accruals',\n",
              "       'TATA', 'ShareCapital', 'Reserves', 'Borrowings', 'OtherLiabilities',\n",
              "       'TotalLiabilities', 'FixedAssets', 'CWIP', 'Investments', 'OtherAssets',\n",
              "       'TotalAssets', 'Equity', 'DE', 'LVGI', 'AQI', 'Debtor Days',\n",
              "       'Inventory Days', 'Days Payable', 'Cash Conversion Cycle',\n",
              "       'Working Cap Days', 'ROCE', 'DSRI', 'Sales', 'Expenses',\n",
              "       'Operating Profit', 'OPM', 'Other Income', 'Interest', 'Depreciation',\n",
              "       'Profit before tax', 'Tax', 'Net Profit', 'EPS in Rs',\n",
              "       'Dividend Payout', 'GMI', 'SGI', 'DEPI', 'delta_Margin'],\n",
              "      dtype='object')"
            ]
          },
          "metadata": {},
          "execution_count": 239
        }
      ]
    },
    {
      "cell_type": "code",
      "source": [
        "def geo_mean(iterable):\n",
        "    return np.exp(np.log(iterable).mean())"
      ],
      "metadata": {
        "id": "kfvy7EU9im3L"
      },
      "execution_count": 240,
      "outputs": []
    },
    {
      "cell_type": "markdown",
      "source": [
        "# Work in Progress "
      ],
      "metadata": {
        "id": "xBYZWPU4xkHM"
      }
    },
    {
      "cell_type": "code",
      "source": [
        "def wonderful_business(df):\n",
        "  df['return_on_asset']=df['Net Profit'].apply(lambda x:float(x))/df['TotalAssets'].apply(lambda x:float(x))\n",
        "  df['Asset_Turn_Over_ratio'] =df['Net Profit'].apply(lambda x:float(x))/((df['TotalAssets'].shift(1).apply(lambda x:float(x)))+(df['TotalAssets'].apply(lambda x:float(x))))/2\n",
        "  return df"
      ],
      "metadata": {
        "id": "7l3fllfUatbM"
      },
      "execution_count": 241,
      "outputs": []
    },
    {
      "cell_type": "code",
      "source": [
        "final_dataframe=wonderful_business(final_dataframe)"
      ],
      "metadata": {
        "id": "GJWcrcvpw4LX"
      },
      "execution_count": 242,
      "outputs": []
    },
    {
      "cell_type": "code",
      "source": [
        "geo_mean(final_dataframe['return_on_asset'][-9:-1].apply(lambda x:float(x))) #geometric mean"
      ],
      "metadata": {
        "colab": {
          "base_uri": "https://localhost:8080/"
        },
        "id": "083uni3dat11",
        "outputId": "6262418c-12b2-4e25-8022-80a6341be174"
      },
      "execution_count": 243,
      "outputs": [
        {
          "output_type": "execute_result",
          "data": {
            "text/plain": [
              "0.11988540300805121"
            ]
          },
          "metadata": {},
          "execution_count": 243
        }
      ]
    },
    {
      "cell_type": "code",
      "source": [
        "final_dataframe['return_on_asset'][-9:-1].apply(lambda x:float(x)).mean() #arithmetic mean"
      ],
      "metadata": {
        "colab": {
          "base_uri": "https://localhost:8080/"
        },
        "id": "9TXsT3aakh5K",
        "outputId": "269d4f65-8848-4a0e-8816-7adf8225830d"
      },
      "execution_count": 244,
      "outputs": [
        {
          "output_type": "execute_result",
          "data": {
            "text/plain": [
              "0.12844791188666072"
            ]
          },
          "metadata": {},
          "execution_count": 244
        }
      ]
    },
    {
      "cell_type": "code",
      "source": [
        "def PMGr(df):\n",
        "  df['Operating Profit']=df['Operating Profit'].apply(lambda x:float(x))\n",
        "  df['GM']=df['Operating Profit'].shift(1)/df['Operating Profit']\n",
        "  print('\\n Margin Growth \\n ')\n",
        "  print(geo_mean(final_dataframe['GM'][-9:-1].apply(lambda x:float(x))))\n",
        "  df['Price_Stability']=df['GM'].mean(axis=0)/df['GM'].std(axis=0)\n",
        "  print('\\n Margin Stability \\n ')\n",
        "  print(df['Price_Stability'][-1])\n",
        "  return df"
      ],
      "metadata": {
        "id": "6YTaVaLxIy9z"
      },
      "execution_count": 245,
      "outputs": []
    },
    {
      "cell_type": "code",
      "source": [
        "d=PMGr(final_dataframe)"
      ],
      "metadata": {
        "colab": {
          "base_uri": "https://localhost:8080/"
        },
        "id": "sQy4zSMvJ1R9",
        "outputId": "680fb515-bae0-445f-a654-492e09bc8edd"
      },
      "execution_count": 246,
      "outputs": [
        {
          "output_type": "stream",
          "name": "stdout",
          "text": [
            "\n",
            " Margin Growth \n",
            " \n",
            "1.1055757894630756\n",
            "\n",
            " Margin Stability \n",
            " \n",
            "2.7445734088177907\n"
          ]
        }
      ]
    },
    {
      "cell_type": "code",
      "source": [
        "path9='/content/new_fldr/AARTIIND/_str(9)'"
      ],
      "metadata": {
        "id": "72_CVcidqmOB"
      },
      "execution_count": 247,
      "outputs": []
    },
    {
      "cell_type": "code",
      "source": [
        "share=pd.read_csv(path9).T[1:]"
      ],
      "metadata": {
        "id": "TcJBTPNWnsKH"
      },
      "execution_count": 248,
      "outputs": []
    },
    {
      "cell_type": "code",
      "source": [
        "cols=get_column_header(path9)"
      ],
      "metadata": {
        "id": "srbLZJkPqu62"
      },
      "execution_count": 249,
      "outputs": []
    },
    {
      "cell_type": "code",
      "source": [
        "share.columns=cols"
      ],
      "metadata": {
        "id": "_dffnze2rB0u"
      },
      "execution_count": 250,
      "outputs": []
    },
    {
      "cell_type": "code",
      "source": [
        "share=share[1:]"
      ],
      "metadata": {
        "id": "VzK_eLpArOa2"
      },
      "execution_count": 251,
      "outputs": []
    },
    {
      "cell_type": "markdown",
      "source": [
        ""
      ],
      "metadata": {
        "id": "fh8IBLmueMBv"
      }
    },
    {
      "cell_type": "code",
      "source": [
        "share['total']=share.sum(axis=1).values"
      ],
      "metadata": {
        "id": "-nTMPQ__rcsu",
        "outputId": "a9ea9d02-3e31-41d2-bf5e-e7540d377e8f",
        "colab": {
          "base_uri": "https://localhost:8080/"
        }
      },
      "execution_count": 252,
      "outputs": [
        {
          "output_type": "stream",
          "name": "stderr",
          "text": [
            "/usr/local/lib/python3.7/dist-packages/ipykernel_launcher.py:1: SettingWithCopyWarning: \n",
            "A value is trying to be set on a copy of a slice from a DataFrame.\n",
            "Try using .loc[row_indexer,col_indexer] = value instead\n",
            "\n",
            "See the caveats in the documentation: https://pandas.pydata.org/pandas-docs/stable/user_guide/indexing.html#returning-a-view-versus-a-copy\n",
            "  \"\"\"Entry point for launching an IPython kernel.\n"
          ]
        }
      ]
    },
    {
      "cell_type": "code",
      "source": [
        "share"
      ],
      "metadata": {
        "id": "CL122SC7ftWR",
        "outputId": "39c389f9-d439-4090-b0e9-91c3253aeecd",
        "colab": {
          "base_uri": "https://localhost:8080/",
          "height": 426
        }
      },
      "execution_count": 253,
      "outputs": [
        {
          "output_type": "execute_result",
          "data": {
            "text/html": [
              "<div>\n",
              "<style scoped>\n",
              "    .dataframe tbody tr th:only-of-type {\n",
              "        vertical-align: middle;\n",
              "    }\n",
              "\n",
              "    .dataframe tbody tr th {\n",
              "        vertical-align: top;\n",
              "    }\n",
              "\n",
              "    .dataframe thead th {\n",
              "        text-align: right;\n",
              "    }\n",
              "</style>\n",
              "<table border=\"1\" class=\"dataframe\">\n",
              "  <thead>\n",
              "    <tr style=\"text-align: right;\">\n",
              "      <th></th>\n",
              "      <th>Promoters</th>\n",
              "      <th>FIIs</th>\n",
              "      <th>DIIs</th>\n",
              "      <th>Public</th>\n",
              "      <th>total</th>\n",
              "    </tr>\n",
              "  </thead>\n",
              "  <tbody>\n",
              "    <tr>\n",
              "      <th>Dec 2018</th>\n",
              "      <td>52.74</td>\n",
              "      <td>4.45</td>\n",
              "      <td>14.35</td>\n",
              "      <td>28.47</td>\n",
              "      <td>100.01</td>\n",
              "    </tr>\n",
              "    <tr>\n",
              "      <th>Mar 2019</th>\n",
              "      <td>49.36</td>\n",
              "      <td>7.43</td>\n",
              "      <td>15.91</td>\n",
              "      <td>27.3</td>\n",
              "      <td>100.00</td>\n",
              "    </tr>\n",
              "    <tr>\n",
              "      <th>Jun 2019</th>\n",
              "      <td>48.97</td>\n",
              "      <td>7.75</td>\n",
              "      <td>15.92</td>\n",
              "      <td>27.36</td>\n",
              "      <td>100.00</td>\n",
              "    </tr>\n",
              "    <tr>\n",
              "      <th>Sep 2019</th>\n",
              "      <td>48.29</td>\n",
              "      <td>7.67</td>\n",
              "      <td>16.42</td>\n",
              "      <td>27.63</td>\n",
              "      <td>100.01</td>\n",
              "    </tr>\n",
              "    <tr>\n",
              "      <th>Dec 2019</th>\n",
              "      <td>48.25</td>\n",
              "      <td>7.49</td>\n",
              "      <td>16.65</td>\n",
              "      <td>27.62</td>\n",
              "      <td>100.01</td>\n",
              "    </tr>\n",
              "    <tr>\n",
              "      <th>Mar 2020</th>\n",
              "      <td>47.75</td>\n",
              "      <td>8.28</td>\n",
              "      <td>16.56</td>\n",
              "      <td>27.41</td>\n",
              "      <td>100.00</td>\n",
              "    </tr>\n",
              "    <tr>\n",
              "      <th>Jun 2020</th>\n",
              "      <td>47.45</td>\n",
              "      <td>7.37</td>\n",
              "      <td>16.22</td>\n",
              "      <td>28.96</td>\n",
              "      <td>100.00</td>\n",
              "    </tr>\n",
              "    <tr>\n",
              "      <th>Sep 2020</th>\n",
              "      <td>47.55</td>\n",
              "      <td>7.52</td>\n",
              "      <td>15.78</td>\n",
              "      <td>29.15</td>\n",
              "      <td>100.00</td>\n",
              "    </tr>\n",
              "    <tr>\n",
              "      <th>Dec 2020</th>\n",
              "      <td>47.34</td>\n",
              "      <td>9</td>\n",
              "      <td>14.61</td>\n",
              "      <td>29.06</td>\n",
              "      <td>100.01</td>\n",
              "    </tr>\n",
              "    <tr>\n",
              "      <th>Mar 2021</th>\n",
              "      <td>46.82</td>\n",
              "      <td>8.66</td>\n",
              "      <td>15.64</td>\n",
              "      <td>28.87</td>\n",
              "      <td>99.99</td>\n",
              "    </tr>\n",
              "    <tr>\n",
              "      <th>Jun 2021</th>\n",
              "      <td>44.9</td>\n",
              "      <td>11.9</td>\n",
              "      <td>13.62</td>\n",
              "      <td>29.57</td>\n",
              "      <td>99.99</td>\n",
              "    </tr>\n",
              "    <tr>\n",
              "      <th>Sep 2021</th>\n",
              "      <td>44.21</td>\n",
              "      <td>11.86</td>\n",
              "      <td>14.75</td>\n",
              "      <td>29.18</td>\n",
              "      <td>100.00</td>\n",
              "    </tr>\n",
              "  </tbody>\n",
              "</table>\n",
              "</div>"
            ],
            "text/plain": [
              "         Promoters   FIIs   DIIs Public   total\n",
              "Dec 2018     52.74   4.45  14.35  28.47  100.01\n",
              "Mar 2019     49.36   7.43  15.91   27.3  100.00\n",
              "Jun 2019     48.97   7.75  15.92  27.36  100.00\n",
              "Sep 2019     48.29   7.67  16.42  27.63  100.01\n",
              "Dec 2019     48.25   7.49  16.65  27.62  100.01\n",
              "Mar 2020     47.75   8.28  16.56  27.41  100.00\n",
              "Jun 2020     47.45   7.37  16.22  28.96  100.00\n",
              "Sep 2020     47.55   7.52  15.78  29.15  100.00\n",
              "Dec 2020     47.34      9  14.61  29.06  100.01\n",
              "Mar 2021     46.82   8.66  15.64  28.87   99.99\n",
              "Jun 2021      44.9   11.9  13.62  29.57   99.99\n",
              "Sep 2021     44.21  11.86  14.75  29.18  100.00"
            ]
          },
          "metadata": {},
          "execution_count": 253
        }
      ]
    },
    {
      "cell_type": "code",
      "source": [
        "roa_pos=np.where(d['return_on_asset'][-3]>0,1,0).tolist()"
      ],
      "metadata": {
        "id": "5FqyZUnagUbx"
      },
      "execution_count": 254,
      "outputs": []
    },
    {
      "cell_type": "code",
      "source": [
        "accrual_pos=np.where((d['Net Cash Flow'][-3]/d['TotalAssets'][-3])>0,1,0).tolist()"
      ],
      "metadata": {
        "id": "TnkPqHZ8gNkj"
      },
      "execution_count": 255,
      "outputs": []
    },
    {
      "cell_type": "code",
      "source": [
        "fs_roa=np.where(d['return_on_asset'][-3]>d['return_on_asset'][-4],1,0).tolist()"
      ],
      "metadata": {
        "id": "RmUcSGwjrkVm"
      },
      "execution_count": 256,
      "outputs": []
    },
    {
      "cell_type": "code",
      "source": [
        "fcfta=np.where((d['Net Cash Flow'][-3]/d['TotalAssets'][-3])>(d['Net Cash Flow'][-4]/d['TotalAssets'][-4]),1,0).tolist()"
      ],
      "metadata": {
        "id": "YuYqVYFtsDbm"
      },
      "execution_count": 257,
      "outputs": []
    },
    {
      "cell_type": "code",
      "source": [
        "f_accrual=np.where(fcfta>fs_roa,1,0).tolist()"
      ],
      "metadata": {
        "id": "hbDdLKZGarVh"
      },
      "execution_count": 258,
      "outputs": []
    },
    {
      "cell_type": "code",
      "source": [
        "f_accrual"
      ],
      "metadata": {
        "id": "XHhe7yETcfjp",
        "outputId": "4672f3b0-03ef-4a12-d333-4da3a24a8fec",
        "colab": {
          "base_uri": "https://localhost:8080/"
        }
      },
      "execution_count": 259,
      "outputs": [
        {
          "output_type": "execute_result",
          "data": {
            "text/plain": [
              "1"
            ]
          },
          "metadata": {},
          "execution_count": 259
        }
      ]
    },
    {
      "cell_type": "code",
      "source": [
        "lever=np.where(d['DE'][-3]>d['DE'][-4],0,1).tolist()"
      ],
      "metadata": {
        "id": "GkiM14nJdM5Z"
      },
      "execution_count": 260,
      "outputs": []
    },
    {
      "cell_type": "code",
      "source": [
        "lever"
      ],
      "metadata": {
        "id": "9gP8Iy-geuaJ",
        "outputId": "527ea2ed-a905-4c25-b880-2eec330181dd",
        "colab": {
          "base_uri": "https://localhost:8080/"
        }
      },
      "execution_count": 261,
      "outputs": [
        {
          "output_type": "execute_result",
          "data": {
            "text/plain": [
              "1"
            ]
          },
          "metadata": {},
          "execution_count": 261
        }
      ]
    },
    {
      "cell_type": "code",
      "source": [
        "liquid=np.where(d['Cash Conversion Cycle'][-3]<d['Cash Conversion Cycle'][-4],1,0).tolist()"
      ],
      "metadata": {
        "id": "oS8u1bJvevGC"
      },
      "execution_count": 262,
      "outputs": []
    },
    {
      "cell_type": "code",
      "source": [
        "equity_repurchase=np.where(share['total'][-1]<share['total'][-2],1,0).tolist()"
      ],
      "metadata": {
        "id": "Is6qZiqAfbG6"
      },
      "execution_count": 263,
      "outputs": []
    },
    {
      "cell_type": "code",
      "source": [
        "asset_turn=np.where(d['Asset_Turn_Over_ratio'].shift()>0,1,0)[-1].tolist()"
      ],
      "metadata": {
        "id": "emNGT-7JjwWi"
      },
      "execution_count": 264,
      "outputs": []
    },
    {
      "cell_type": "code",
      "source": [
        "fs_margin= np.where(d['delta_Margin'][-3]>d['delta_Margin'][-4],1,0)"
      ],
      "metadata": {
        "id": "OdyPPbSAlAui"
      },
      "execution_count": 265,
      "outputs": []
    },
    {
      "cell_type": "code",
      "source": [
        "print(f'roa_pos {roa_pos}, fcfta {fcfta},accrual_pos {accrual_pos} , fs_roa {fs_roa} ,f_accrual {f_accrual},lever {lever},liquid {liquid},equity_repurchase {equity_repurchase},asset_turn {asset_turn} ,fs_margin {fs_margin}')"
      ],
      "metadata": {
        "id": "huMFKipAlUni",
        "outputId": "33518c85-3d41-4663-dc4b-3e211332e8ea",
        "colab": {
          "base_uri": "https://localhost:8080/"
        }
      },
      "execution_count": 266,
      "outputs": [
        {
          "output_type": "stream",
          "name": "stdout",
          "text": [
            "roa_pos 1 fcfta 1,accrual_pos 1 , fs_roa 0 ,f_accrual 1,lever 1,liquid 1,equity_repurchase 0,asset_turn 0 ,fs_margin 0\n"
          ]
        }
      ]
    },
    {
      "cell_type": "code",
      "source": [
        "roa_pos+fcfta+accrual_pos+fs_roa+f_accrual+lever+liquid+equity_repurchase+asset_turn+fs_margin"
      ],
      "metadata": {
        "id": "-xhxQtTRmpBN",
        "outputId": "92fd84cc-4679-40b8-d1be-af9928a493f2",
        "colab": {
          "base_uri": "https://localhost:8080/"
        }
      },
      "execution_count": 267,
      "outputs": [
        {
          "output_type": "execute_result",
          "data": {
            "text/plain": [
              "6"
            ]
          },
          "metadata": {},
          "execution_count": 267
        }
      ]
    },
    {
      "cell_type": "code",
      "source": [
        "A=pd.DataFrame({'A':[1,2,3,4],'B':[10,12,14,16]})"
      ],
      "metadata": {
        "id": "VANpdWqOhcTZ"
      },
      "execution_count": 268,
      "outputs": []
    },
    {
      "cell_type": "code",
      "source": [
        "A"
      ],
      "metadata": {
        "id": "mxjVd-bojCGh",
        "outputId": "d15bc002-c82d-4aae-f1ee-c49f6e5ea93c",
        "colab": {
          "base_uri": "https://localhost:8080/",
          "height": 174
        }
      },
      "execution_count": 269,
      "outputs": [
        {
          "output_type": "execute_result",
          "data": {
            "text/html": [
              "<div>\n",
              "<style scoped>\n",
              "    .dataframe tbody tr th:only-of-type {\n",
              "        vertical-align: middle;\n",
              "    }\n",
              "\n",
              "    .dataframe tbody tr th {\n",
              "        vertical-align: top;\n",
              "    }\n",
              "\n",
              "    .dataframe thead th {\n",
              "        text-align: right;\n",
              "    }\n",
              "</style>\n",
              "<table border=\"1\" class=\"dataframe\">\n",
              "  <thead>\n",
              "    <tr style=\"text-align: right;\">\n",
              "      <th></th>\n",
              "      <th>A</th>\n",
              "      <th>B</th>\n",
              "    </tr>\n",
              "  </thead>\n",
              "  <tbody>\n",
              "    <tr>\n",
              "      <th>0</th>\n",
              "      <td>1</td>\n",
              "      <td>10</td>\n",
              "    </tr>\n",
              "    <tr>\n",
              "      <th>1</th>\n",
              "      <td>2</td>\n",
              "      <td>12</td>\n",
              "    </tr>\n",
              "    <tr>\n",
              "      <th>2</th>\n",
              "      <td>3</td>\n",
              "      <td>14</td>\n",
              "    </tr>\n",
              "    <tr>\n",
              "      <th>3</th>\n",
              "      <td>4</td>\n",
              "      <td>16</td>\n",
              "    </tr>\n",
              "  </tbody>\n",
              "</table>\n",
              "</div>"
            ],
            "text/plain": [
              "   A   B\n",
              "0  1  10\n",
              "1  2  12\n",
              "2  3  14\n",
              "3  4  16"
            ]
          },
          "metadata": {},
          "execution_count": 269
        }
      ]
    },
    {
      "cell_type": "code",
      "source": [
        "A['A']/(A['B'].shift(1)+A['B'])"
      ],
      "metadata": {
        "id": "FMt274cVjDB5",
        "outputId": "88b7654d-c61c-4d9f-e540-ce8a1d7b1bc8",
        "colab": {
          "base_uri": "https://localhost:8080/"
        }
      },
      "execution_count": 270,
      "outputs": [
        {
          "output_type": "execute_result",
          "data": {
            "text/plain": [
              "0         NaN\n",
              "1    0.090909\n",
              "2    0.115385\n",
              "3    0.133333\n",
              "dtype: float64"
            ]
          },
          "metadata": {},
          "execution_count": 270
        }
      ]
    },
    {
      "cell_type": "code",
      "source": [
        ""
      ],
      "metadata": {
        "id": "Wdn9tZp9jKPK"
      },
      "execution_count": 270,
      "outputs": []
    }
  ]
}