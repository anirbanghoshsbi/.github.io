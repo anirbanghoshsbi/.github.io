{
  "nbformat": 4,
  "nbformat_minor": 0,
  "metadata": {
    "colab": {
      "name": "Untitled31.ipynb",
      "provenance": [],
      "authorship_tag": "ABX9TyOh+w2K1V369NLSu6xeDZrE",
      "include_colab_link": true
    },
    "kernelspec": {
      "name": "python3",
      "display_name": "Python 3"
    },
    "language_info": {
      "name": "python"
    }
  },
  "cells": [
    {
      "cell_type": "markdown",
      "metadata": {
        "id": "view-in-github",
        "colab_type": "text"
      },
      "source": [
        "<a href=\"https://colab.research.google.com/github/anirbanghoshsbi/.github.io/blob/master/Untitled31.ipynb\" target=\"_parent\"><img src=\"https://colab.research.google.com/assets/colab-badge.svg\" alt=\"Open In Colab\"/></a>"
      ]
    },
    {
      "cell_type": "code",
      "execution_count": 1,
      "metadata": {
        "id": "bX9RTKD_AJwQ"
      },
      "outputs": [],
      "source": [
        "import pandas as pd\n",
        "import numpy as np"
      ]
    },
    {
      "cell_type": "code",
      "source": [
        "!unzip '/content/niftyTRY.zip' -d \"/content/output_folder/\""
      ],
      "metadata": {
        "id": "FQ20DIYyANew"
      },
      "execution_count": null,
      "outputs": []
    },
    {
      "cell_type": "code",
      "source": [
        "def calc_DSRI(df):\n",
        "  ''' file name ---> _str(8)'''\n",
        "  working_capital_cycle = pd.read_csv(df).T[1:]\n",
        "  working_capital_cycle.set_axis(['Debtor Days','Inventory Days','Days Payable','Cash Conversion Cycle','Working Cap Days','ROCE'],axis='columns',inplace=True)\n",
        "  WC=working_capital_cycle[1:]\n",
        "  WC=WC.reset_index()\n",
        "  WC.rename(columns={'index':'Date'},inplace=True)\n",
        "  WC=WC.set_index('Date')\n",
        "  WC['DSRI']=WC['Debtor Days'].apply(lambda x:int(x))\n",
        "  WC['DSRI']=WC['Debtor Days']/WC['Debtor Days'].shift(1)\n",
        "  return WC"
      ],
      "metadata": {
        "id": "bWTA4tbfE5fI"
      },
      "execution_count": 34,
      "outputs": []
    },
    {
      "cell_type": "code",
      "source": [
        "def calc_GMI_sales_DEPI(df):\n",
        "  ''' file name ---> _str(1)'''\n",
        "  bs = pd.read_csv(df).T[1:]\n",
        "  columns =['Sales', 'Expenses', 'Operating Profit', 'OPM',\\\n",
        "        'Other Income', 'Interest', 'Depreciation', 'Profit before tax',\\\n",
        "        'Tax', 'Net Profit', 'EPS in Rs', 'Dividend Payout']\n",
        "  bs=bs[1:]\n",
        "  bs.columns=columns  \n",
        "  bs=bs.reset_index()\n",
        "  bs=bs.rename(columns={'index':'Date'})\n",
        "  bs=bs.set_index('Date')\n",
        "  bs['Operating Profit']=bs['Operating Profit'].apply(lambda x:int(x))\n",
        "  bs['Sales']=bs['Sales'].apply(lambda x:int(x))\n",
        "  bs['Depreciation']=bs['Depreciation'].apply(lambda x:int(x))\n",
        "  bs['GMI']=bs['Operating Profit'].shift(1)/bs['Operating Profit']\n",
        "  bs['SGI']=bs['Sales']/bs['Sales'].shift(1)\n",
        "  bs['DEPI']=bs['Depreciation'].shift(1)/bs['Depreciation']\n",
        "  return bs"
      ],
      "metadata": {
        "id": "Om_lV5scNPXA"
      },
      "execution_count": 126,
      "outputs": []
    },
    {
      "cell_type": "code",
      "source": [
        "path='/content/output_folder/AARTIDRUGS/_str(6)'"
      ],
      "metadata": {
        "id": "LNCFtkP2LlXF"
      },
      "execution_count": 130,
      "outputs": []
    },
    {
      "cell_type": "code",
      "source": [
        "def calc_LVGI(df):\n",
        "  ''' file name ---> _str(6)'''\n",
        "  bal = pd.read_csv(df).T[1:]\n",
        "  columns= ['Share Capital', 'Reserves', 'Borrowings',\\\n",
        "        'Other Liabilities', 'Total Liabilities',\\\n",
        "        'Fixed Assets', 'CWIP', 'Investments', 'Other Assets',\\\n",
        "        'Total Assets']\n",
        "  \n",
        "  bal.columns=columns \n",
        "  bal=bal[1:] \n",
        "  bal=bal.reset_index()\n",
        "  bal=bal.rename(columns={'index':'Date'})\n",
        "  bal=bal.set_index('Date')\n",
        "  bal['Borrowings']=bal['Borrowings'].apply(lambda x:int(x))\n",
        "  bal['Equity']=bal['Share Capital'].apply(lambda x:int(x))+bal['Reserves'].apply(lambda x:int(x))\n",
        "  bal['DE']=bal['Borrowings']/bal['Equity']\n",
        "  bal['LVGI']=bal['DE']/bal['DE'].shift(1)\n",
        "  bal['AQI']=bal['Other Assets'].apply(lambda x:int(x))/bal['Total Assets'].apply(lambda x:int(x))\n",
        "  return bal"
      ],
      "metadata": {
        "id": "KvGi5a0OP_BZ"
      },
      "execution_count": 131,
      "outputs": []
    },
    {
      "cell_type": "code",
      "source": [
        "calc_LVGI(path)  "
      ],
      "metadata": {
        "id": "yfVBb28-R-Oo"
      },
      "execution_count": null,
      "outputs": []
    },
    {
      "cell_type": "code",
      "source": [
        "b"
      ],
      "metadata": {
        "id": "HSx59LZDSqBH"
      },
      "execution_count": null,
      "outputs": []
    },
    {
      "cell_type": "code",
      "source": [
        "path7 = '/content/output_folder/AARTIDRUGS/_str(7)'\n",
        "path1 = '/content/output_folder/AARTIDRUGS/_str(1)'\n",
        "path6 = '/content/output_folder/AARTIDRUGS/_str(6)'"
      ],
      "metadata": {
        "id": "tS4Mp2eaSqV7"
      },
      "execution_count": 172,
      "outputs": []
    },
    {
      "cell_type": "code",
      "source": [
        "def calc_TATA(path7,path1,path6):\n",
        "  ''' pass path7= _str(7), path1= _str(1), path6= _str(6)'''\n",
        "  cfo = pd.read_csv(path7).T[1:]\n",
        "  columns=['Cash from Operating Activity',\\\n",
        "          'Cash from Investing Activity',\\\n",
        "          'Cash from Financing Activity', 'Net Cash Flow']\n",
        "  cfo=cfo[1:]\n",
        "  cfo=cfo.reset_index()\n",
        "  cfo.rename(columns={'index':'Date'},inplace=True)\n",
        "  cfo=cfo.set_index('Date')\n",
        "  cfo.columns=columns\n",
        "  snap=calc_GMI_sales_DEPI(path1)\n",
        "  snap2=calc_LVGI(path6)\n",
        "  cfo=pd.concat([cfo,snap['Net Profit'],snap2['Total Assets']],axis=1)\n",
        "  #print(cfo.head(2))\n",
        "  cfo=cfo.fillna(0)\n",
        "  cfo['Total Accruals']=cfo['Net Profit'].apply(lambda x:int(x))-cfo['Cash from Operating Activity'].apply(lambda x:int(x))\n",
        "  cfo['Total Assets']=cfo['Total Assets'].apply(lambda x:int(x))\n",
        "  cfo['TATA']=cfo['Total Accruals']/cfo['Total Assets']\n",
        "  return cfo"
      ],
      "metadata": {
        "id": "2HhzCPuOZ0N8"
      },
      "execution_count": 186,
      "outputs": []
    },
    {
      "cell_type": "code",
      "source": [
        "cfo=calc_TATA(path7, path1, path6)"
      ],
      "metadata": {
        "id": "Xq1lrYpwbG4_"
      },
      "execution_count": 187,
      "outputs": []
    },
    {
      "cell_type": "code",
      "source": [
        "cfo"
      ],
      "metadata": {
        "colab": {
          "base_uri": "https://localhost:8080/",
          "height": 748
        },
        "id": "Xy4pJXNja_Ik",
        "outputId": "9187a2f1-d3da-422e-9ce1-c975cf612811"
      },
      "execution_count": 188,
      "outputs": [
        {
          "output_type": "execute_result",
          "data": {
            "text/html": [
              "<div>\n",
              "<style scoped>\n",
              "    .dataframe tbody tr th:only-of-type {\n",
              "        vertical-align: middle;\n",
              "    }\n",
              "\n",
              "    .dataframe tbody tr th {\n",
              "        vertical-align: top;\n",
              "    }\n",
              "\n",
              "    .dataframe thead th {\n",
              "        text-align: right;\n",
              "    }\n",
              "</style>\n",
              "<table border=\"1\" class=\"dataframe\">\n",
              "  <thead>\n",
              "    <tr style=\"text-align: right;\">\n",
              "      <th></th>\n",
              "      <th>Cash from Operating Activity</th>\n",
              "      <th>Cash from Investing Activity</th>\n",
              "      <th>Cash from Financing Activity</th>\n",
              "      <th>Net Cash Flow</th>\n",
              "      <th>Net Profit</th>\n",
              "      <th>Total Assets</th>\n",
              "      <th>Total Accruals</th>\n",
              "      <th>TATA</th>\n",
              "    </tr>\n",
              "  </thead>\n",
              "  <tbody>\n",
              "    <tr>\n",
              "      <th>Mar 2007</th>\n",
              "      <td>29</td>\n",
              "      <td>-25</td>\n",
              "      <td>-6</td>\n",
              "      <td>-2</td>\n",
              "      <td>14</td>\n",
              "      <td>366</td>\n",
              "      <td>-15</td>\n",
              "      <td>-0.040984</td>\n",
              "    </tr>\n",
              "    <tr>\n",
              "      <th>Mar 2008</th>\n",
              "      <td>29</td>\n",
              "      <td>-33</td>\n",
              "      <td>3</td>\n",
              "      <td>-1</td>\n",
              "      <td>14</td>\n",
              "      <td>417</td>\n",
              "      <td>-15</td>\n",
              "      <td>-0.035971</td>\n",
              "    </tr>\n",
              "    <tr>\n",
              "      <th>Mar 2009</th>\n",
              "      <td>61</td>\n",
              "      <td>-8</td>\n",
              "      <td>-54</td>\n",
              "      <td>-1</td>\n",
              "      <td>16</td>\n",
              "      <td>403</td>\n",
              "      <td>-45</td>\n",
              "      <td>-0.111663</td>\n",
              "    </tr>\n",
              "    <tr>\n",
              "      <th>Mar 2010</th>\n",
              "      <td>59</td>\n",
              "      <td>-30</td>\n",
              "      <td>-24</td>\n",
              "      <td>5</td>\n",
              "      <td>28</td>\n",
              "      <td>419</td>\n",
              "      <td>-31</td>\n",
              "      <td>-0.073986</td>\n",
              "    </tr>\n",
              "    <tr>\n",
              "      <th>Mar 2011</th>\n",
              "      <td>21</td>\n",
              "      <td>-76</td>\n",
              "      <td>53</td>\n",
              "      <td>-3</td>\n",
              "      <td>24</td>\n",
              "      <td>523</td>\n",
              "      <td>3</td>\n",
              "      <td>0.005736</td>\n",
              "    </tr>\n",
              "    <tr>\n",
              "      <th>Mar 2015</th>\n",
              "      <td>105</td>\n",
              "      <td>-107</td>\n",
              "      <td>1</td>\n",
              "      <td>-1</td>\n",
              "      <td>77</td>\n",
              "      <td>1004</td>\n",
              "      <td>-28</td>\n",
              "      <td>-0.027888</td>\n",
              "    </tr>\n",
              "    <tr>\n",
              "      <th>Mar 2016</th>\n",
              "      <td>133</td>\n",
              "      <td>-99</td>\n",
              "      <td>-33</td>\n",
              "      <td>1</td>\n",
              "      <td>69</td>\n",
              "      <td>1102</td>\n",
              "      <td>-64</td>\n",
              "      <td>-0.058076</td>\n",
              "    </tr>\n",
              "    <tr>\n",
              "      <th>Mar 2017</th>\n",
              "      <td>175</td>\n",
              "      <td>-107</td>\n",
              "      <td>-68</td>\n",
              "      <td>0</td>\n",
              "      <td>82</td>\n",
              "      <td>1191</td>\n",
              "      <td>-93</td>\n",
              "      <td>-0.078086</td>\n",
              "    </tr>\n",
              "    <tr>\n",
              "      <th>Mar 2018</th>\n",
              "      <td>70</td>\n",
              "      <td>-74</td>\n",
              "      <td>4</td>\n",
              "      <td>0</td>\n",
              "      <td>82</td>\n",
              "      <td>1389</td>\n",
              "      <td>12</td>\n",
              "      <td>0.008639</td>\n",
              "    </tr>\n",
              "    <tr>\n",
              "      <th>Mar 2019</th>\n",
              "      <td>143</td>\n",
              "      <td>-62</td>\n",
              "      <td>-80</td>\n",
              "      <td>1</td>\n",
              "      <td>90</td>\n",
              "      <td>1455</td>\n",
              "      <td>-53</td>\n",
              "      <td>-0.036426</td>\n",
              "    </tr>\n",
              "    <tr>\n",
              "      <th>Mar 2020</th>\n",
              "      <td>251</td>\n",
              "      <td>-33</td>\n",
              "      <td>-215</td>\n",
              "      <td>2</td>\n",
              "      <td>141</td>\n",
              "      <td>1576</td>\n",
              "      <td>-110</td>\n",
              "      <td>-0.069797</td>\n",
              "    </tr>\n",
              "    <tr>\n",
              "      <th>Mar 2021</th>\n",
              "      <td>155</td>\n",
              "      <td>-72</td>\n",
              "      <td>-81</td>\n",
              "      <td>2</td>\n",
              "      <td>280</td>\n",
              "      <td>1766</td>\n",
              "      <td>125</td>\n",
              "      <td>0.070781</td>\n",
              "    </tr>\n",
              "    <tr>\n",
              "      <th>TTM</th>\n",
              "      <td>0</td>\n",
              "      <td>0</td>\n",
              "      <td>0</td>\n",
              "      <td>0</td>\n",
              "      <td>211</td>\n",
              "      <td>0</td>\n",
              "      <td>211</td>\n",
              "      <td>inf</td>\n",
              "    </tr>\n",
              "    <tr>\n",
              "      <th>Sep 2021</th>\n",
              "      <td>0</td>\n",
              "      <td>0</td>\n",
              "      <td>0</td>\n",
              "      <td>0</td>\n",
              "      <td>0</td>\n",
              "      <td>1891</td>\n",
              "      <td>0</td>\n",
              "      <td>0.000000</td>\n",
              "    </tr>\n",
              "  </tbody>\n",
              "</table>\n",
              "</div>"
            ],
            "text/plain": [
              "          Cash from Operating Activity  ...      TATA\n",
              "Mar 2007                            29  ... -0.040984\n",
              "Mar 2008                            29  ... -0.035971\n",
              "Mar 2009                            61  ... -0.111663\n",
              "Mar 2010                            59  ... -0.073986\n",
              "Mar 2011                            21  ...  0.005736\n",
              "Mar 2015                           105  ... -0.027888\n",
              "Mar 2016                           133  ... -0.058076\n",
              "Mar 2017                           175  ... -0.078086\n",
              "Mar 2018                            70  ...  0.008639\n",
              "Mar 2019                           143  ... -0.036426\n",
              "Mar 2020                           251  ... -0.069797\n",
              "Mar 2021                           155  ...  0.070781\n",
              "TTM                                  0  ...       inf\n",
              "Sep 2021                             0  ...  0.000000\n",
              "\n",
              "[14 rows x 8 columns]"
            ]
          },
          "metadata": {},
          "execution_count": 188
        }
      ]
    },
    {
      "cell_type": "code",
      "source": [
        "def geo_mean(iterable):\n",
        "    return np.exp(np.log(iterable).mean())"
      ],
      "metadata": {
        "id": "kfvy7EU9im3L"
      },
      "execution_count": 189,
      "outputs": []
    },
    {
      "cell_type": "code",
      "source": [
        "def wonderful_business(cfo):\n",
        "  cfo['return_on_asset']=cfo['Net Profit'].apply(lambda x:float(x))/cfo['Total Assets'].apply(lambda x:float(x))\n",
        "  "
      ],
      "metadata": {
        "colab": {
          "base_uri": "https://localhost:8080/",
          "height": 131
        },
        "id": "7l3fllfUatbM",
        "outputId": "751d0b5a-95f4-46e6-f366-77a233b186d1"
      },
      "execution_count": 193,
      "outputs": [
        {
          "output_type": "error",
          "ename": "SyntaxError",
          "evalue": "ignored",
          "traceback": [
            "\u001b[0;36m  File \u001b[0;32m\"<ipython-input-193-6e184b6bc966>\"\u001b[0;36m, line \u001b[0;32m3\u001b[0m\n\u001b[0;31m    print(f'Geometric Mean {geo_mean(cfo['Net Profit'])}')\u001b[0m\n\u001b[0m                                            ^\u001b[0m\n\u001b[0;31mSyntaxError\u001b[0m\u001b[0;31m:\u001b[0m invalid syntax\n"
          ]
        }
      ]
    },
    {
      "cell_type": "code",
      "source": [
        "cfo['Net Profit']"
      ],
      "metadata": {
        "colab": {
          "base_uri": "https://localhost:8080/"
        },
        "id": "JIg3GzA-jhwA",
        "outputId": "d9575fc6-1283-4350-baed-4310155c3753"
      },
      "execution_count": 200,
      "outputs": [
        {
          "output_type": "execute_result",
          "data": {
            "text/plain": [
              "Mar 2007     14\n",
              "Mar 2008     14\n",
              "Mar 2009     16\n",
              "Mar 2010     28\n",
              "Mar 2011     24\n",
              "Mar 2015     77\n",
              "Mar 2016     69\n",
              "Mar 2017     82\n",
              "Mar 2018     82\n",
              "Mar 2019     90\n",
              "Mar 2020    141\n",
              "Mar 2021    280\n",
              "TTM         211\n",
              "Sep 2021      0\n",
              "Name: Net Profit, dtype: object"
            ]
          },
          "metadata": {},
          "execution_count": 200
        }
      ]
    },
    {
      "cell_type": "code",
      "source": [
        "geo_mean(cfo['Net Profit'][-9:-1].apply(lambda x:float(x))) #geometric mean"
      ],
      "metadata": {
        "colab": {
          "base_uri": "https://localhost:8080/"
        },
        "id": "083uni3dat11",
        "outputId": "2a245ef2-86cb-4578-aa4c-6b66a0449e63"
      },
      "execution_count": 202,
      "outputs": [
        {
          "output_type": "execute_result",
          "data": {
            "text/plain": [
              "113.10549472029925"
            ]
          },
          "metadata": {},
          "execution_count": 202
        }
      ]
    },
    {
      "cell_type": "code",
      "source": [
        "cfo['Net Profit'][-9:-1].apply(lambda x:float(x)).mean() #arithmetic mean"
      ],
      "metadata": {
        "colab": {
          "base_uri": "https://localhost:8080/"
        },
        "id": "9TXsT3aakh5K",
        "outputId": "9f9866ad-e2e7-4bee-c09b-283f92f0aff3"
      },
      "execution_count": 203,
      "outputs": [
        {
          "output_type": "execute_result",
          "data": {
            "text/plain": [
              "129.0"
            ]
          },
          "metadata": {},
          "execution_count": 203
        }
      ]
    },
    {
      "cell_type": "code",
      "source": [
        ""
      ],
      "metadata": {
        "id": "vARzEz3Sl-Ev"
      },
      "execution_count": null,
      "outputs": []
    }
  ]
}