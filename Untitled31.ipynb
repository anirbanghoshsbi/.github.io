{
  "nbformat": 4,
  "nbformat_minor": 0,
  "metadata": {
    "colab": {
      "name": "Untitled31.ipynb",
      "provenance": [],
      "authorship_tag": "ABX9TyNja8zypsa0p3a/AbtXc4H/",
      "include_colab_link": true
    },
    "kernelspec": {
      "name": "python3",
      "display_name": "Python 3"
    },
    "language_info": {
      "name": "python"
    }
  },
  "cells": [
    {
      "cell_type": "markdown",
      "metadata": {
        "id": "view-in-github",
        "colab_type": "text"
      },
      "source": [
        "<a href=\"https://colab.research.google.com/github/anirbanghoshsbi/.github.io/blob/master/Untitled31.ipynb\" target=\"_parent\"><img src=\"https://colab.research.google.com/assets/colab-badge.svg\" alt=\"Open In Colab\"/></a>"
      ]
    },
    {
      "cell_type": "code",
      "execution_count": 1,
      "metadata": {
        "id": "bX9RTKD_AJwQ"
      },
      "outputs": [],
      "source": [
        "import pandas as pd\n",
        "import numpy as np\n",
        "import re\n",
        "import warnings\n",
        "warnings.filterwarnings(\"ignore\")"
      ]
    },
    {
      "cell_type": "code",
      "source": [
        "!unzip '/content/nifty_F_data.zip' -d \"/content/new_fldr/\""
      ],
      "metadata": {
        "id": "FQ20DIYyANew"
      },
      "execution_count": null,
      "outputs": []
    },
    {
      "cell_type": "code",
      "source": [
        "top='/content/new_fldr'"
      ],
      "metadata": {
        "id": "86kDDHdFU1-I"
      },
      "execution_count": 3,
      "outputs": []
    },
    {
      "cell_type": "code",
      "source": [
        "company_name=[]\n",
        "import os\n",
        "for root, dirs, files in os.walk(top, topdown=False):\n",
        "    for name in dirs:\n",
        "        company_name.append(os.path.join(root, name).split('/')[-1])"
      ],
      "metadata": {
        "id": "OWHKGBhZUyPo"
      },
      "execution_count": 4,
      "outputs": []
    },
    {
      "cell_type": "code",
      "source": [
        "rejct=['GAEL','UJJIVANSFB','PFIZER','NESTLEIND','MAHABANK','BAJFINANCE','IDFC','HATSUN','CHOLAFIN'\\\n",
        "       ,'ABBOTINDIA','SBICARD','BASF','RELAXO','GILLETTE','IOB','TCIEXP','SPICEJET','POWERINDIA'\\\n",
        "       ,'M&MFIN','SCHAEFFLER','PNBHOUSING','PNB','SHRIRAMCIT','BHARATRAS','HDFCAMC','HUDCO',\\\n",
        "       'INDIANB','HDFC','HDFCBANK','LAOPALA','BANKINDIA','TCNSBRANDS','VINATIORGA','LICHSGFIN','JSLHISAR',\\\n",
        "       'ICICIGI','TASTYBITE','TIMKEN','GULFOILLUB','IOLCP','ADANITRANS','PRINCEPIPE','CASTROLIND',\\\n",
        "       'TATAMTRDVR','YESBANK','RBLBANK','ICICIBANK','CREDITACC','SANOFI','BURGERKING','SKFINDIA','SPARC',\\\n",
        "       'IRCTC','CANFINHOME','MGL','VMART','WABCOINDIA','HEIDELBERG','HONAUT','JCHAC','SUNDARMFIN','HINDZINC',\\\n",
        "       'KARURVYSYA','KPITTECH','PGHL','IDBI','KOTAKBANK','BANDHANBNK','VENKEYS','CENTRALBK','MANAPPURAM',\\\n",
        "       'INGERRAND','DCBBANK','MAHSCOOTER','BSE','SBIN','PGHH','UCOBANK','SRTRANSFIN','CSBBANK','TIINDIA',\\\n",
        "       'CANBK','CDSL','SCHNEIDER','IBULHSGFIN','BDL','CUB','BAYERCROP','IDFCFIRSTB','SBILIFE','HEMIPROP',\\\n",
        "       'AXISBANK','ABB','GRSE','ORIENTREF','FEDERALBNK','BANKBARODA','UNIONBANK']"
      ],
      "metadata": {
        "id": "UfkMg5yWeefo"
      },
      "execution_count": 59,
      "outputs": []
    },
    {
      "cell_type": "code",
      "source": [
        "company_name=[company for company in company_name if company != 'PAGEIND']\n",
        "company_name=[company for company in company_name if company != 'AUBANK']\n",
        "company_name=[company for company in company_name if company != 'INDUSINDBK']\n",
        "company_name=[company for company in company_name if company != 'ORIENTELEC']\n",
        "company_name=[company for company in company_name if company != 'ASTRAZEN']\n",
        "company_name=[company for company in company_name if company not in rejct]"
      ],
      "metadata": {
        "id": "_4tvwzXrdBCQ"
      },
      "execution_count": 60,
      "outputs": []
    },
    {
      "cell_type": "code",
      "source": [
        "def calc_DSRI(df):\n",
        "  ''' file name ---> _str(8)'''\n",
        "  working_capital_cycle = pd.read_csv(df).T[1:]\n",
        "  #print('done')\n",
        "  working_capital_cycle.set_axis(['Debtor Days','Inventory Days','Days Payable','Cash Conversion Cycle','Working Cap Days','ROCE'],axis='columns',inplace=True)\n",
        "  WC=working_capital_cycle[1:]\n",
        "  WC=WC.reset_index()\n",
        "  WC.rename(columns={'index':'Date'},inplace=True)\n",
        "  WC=WC.set_index('Date')\n",
        "  #print(WC.head(1))\n",
        "  WC['Debtor Days']=WC['Debtor Days'].apply(lambda x:int(x))\n",
        "  WC['DSRI']=WC['Debtor Days']/WC['Debtor Days'].shift(1)\n",
        "  return WC"
      ],
      "metadata": {
        "id": "bWTA4tbfE5fI"
      },
      "execution_count": 7,
      "outputs": []
    },
    {
      "cell_type": "code",
      "source": [
        "def calc_GMI_sales_DEPI(df):\n",
        "  ''' file name ---> _str(1)'''\n",
        "  bs = pd.read_csv(df).T[1:]\n",
        "  columns =['Sales', 'Expenses', 'Operating Profit', 'OPM',\\\n",
        "        'Other Income', 'Interest', 'Depreciation', 'Profit before tax',\\\n",
        "        'Tax', 'Net Profit', 'EPS in Rs', 'Dividend Payout']\n",
        "  bs=bs[1:]\n",
        "  bs.columns=columns  \n",
        "  bs=bs.reset_index()\n",
        "  bs=bs.rename(columns={'index':'Date'})\n",
        "  bs=bs.set_index('Date')\n",
        "  bs['Operating Profit']=bs['Operating Profit'].apply(lambda x:int(x))\n",
        "  bs['Sales']=bs['Sales'].apply(lambda x:int(x))\n",
        "  bs['Depreciation']=bs['Depreciation'].apply(lambda x:int(x))\n",
        "  bs['GMI']=bs['Operating Profit'].shift(1)/bs['Operating Profit']\n",
        "  bs['SGI']=bs['Sales']/bs['Sales'].shift(1)\n",
        "  bs['DEPI']=bs['Depreciation'].shift(1)/bs['Depreciation']\n",
        "  bs['delta_Margin']=bs['Operating Profit']/bs['Sales']\n",
        "  \n",
        "  return bs"
      ],
      "metadata": {
        "id": "Om_lV5scNPXA"
      },
      "execution_count": 8,
      "outputs": []
    },
    {
      "cell_type": "code",
      "source": [
        ""
      ],
      "metadata": {
        "id": "tS4Mp2eaSqV7"
      },
      "execution_count": 8,
      "outputs": []
    },
    {
      "cell_type": "code",
      "source": [
        "def get_column_header(path):\n",
        "  bal = pd.read_csv(path).T[1:]\n",
        "  my_list=np.squeeze(bal.head(1).values).tolist()\n",
        "  cols=[re.sub('[^a-zA-Z0-9]+', '', _) for _ in my_list]\n",
        "  return cols"
      ],
      "metadata": {
        "id": "mS2lyEnwOd54"
      },
      "execution_count": 9,
      "outputs": []
    },
    {
      "cell_type": "code",
      "source": [
        "def calc_LVGI(df):\n",
        "  ''' file name ---> _str(6)'''\n",
        "  bal = pd.read_csv(df).T[1:]\n",
        "  columns= get_column_header(df)\n",
        "  bal.columns=columns \n",
        "  bal=bal[1:] \n",
        "  bal=bal.reset_index()\n",
        "  bal=bal.rename(columns={'index':'Date'})\n",
        "  bal=bal.set_index('Date')\n",
        "  #print(bal.head(2))\n",
        "  bal['Borrowings']=bal['Borrowings'].astype('int')\n",
        "  bal['ShareCapital']=bal['ShareCapital'].astype('int')\n",
        "  bal['Reserves']=bal['Reserves'].astype('int')\n",
        "  #print(bal['ShareCapital'].shape,bal['Reserves'].shape)\n",
        "  bal['Equity']=bal['ShareCapital']+bal['Reserves']\n",
        "  bal['DE']=bal['Borrowings']/bal['Equity']\n",
        "  bal['LVGI']=bal['DE']/bal['DE'].shift(1)\n",
        "  bal['AQI']=bal['OtherAssets'].astype('int')/bal['TotalAssets'].astype('int')\n",
        "  return bal"
      ],
      "metadata": {
        "id": "KvGi5a0OP_BZ"
      },
      "execution_count": 10,
      "outputs": []
    },
    {
      "cell_type": "code",
      "source": [
        "def calc_TATA(path7,path1,path6):\n",
        "  ''' pass path7= _str(7), path1= _str(1), path6= _str(6)'''\n",
        "  cfo = pd.read_csv(path7).T[1:]\n",
        "  columns=['Cash from Operating Activity',\\\n",
        "          'Cash from Investing Activity',\\\n",
        "          'Cash from Financing Activity', 'Net Cash Flow']\n",
        "  cfo=cfo[1:]\n",
        "  cfo=cfo.reset_index()\n",
        "  cfo.rename(columns={'index':'Date'},inplace=True)\n",
        "  cfo=cfo.set_index('Date')\n",
        "  cfo.columns=columns\n",
        "  snap=calc_GMI_sales_DEPI(path1)\n",
        "  snap2=calc_LVGI(path6)\n",
        "  cfo=pd.concat([cfo,snap['Net Profit'],snap2['TotalAssets']],axis=1)\n",
        "  #print(cfo.head(2))\n",
        "  cfo=cfo.fillna(0)\n",
        "  cfo['Total Accruals']=cfo['Net Profit'].apply(lambda x:int(x))-cfo['Cash from Operating Activity'].apply(lambda x:int(x))\n",
        "  cfo['TotalAssets']=cfo['TotalAssets'].apply(lambda x:int(x))\n",
        "  cfo['TATA']=cfo['Total Accruals']/cfo['TotalAssets']\n",
        "  cfo=cfo.drop(['Net Profit','TotalAssets'],axis=1)\n",
        "  return cfo"
      ],
      "metadata": {
        "id": "2HhzCPuOZ0N8"
      },
      "execution_count": 11,
      "outputs": []
    },
    {
      "cell_type": "code",
      "source": [
        "def get_final_dataframe(path1,path6,path7,path8):\n",
        "  cfo=calc_TATA(path7, path1, path6)\n",
        "  lgvi=calc_LVGI(path6)\n",
        "  dsri=calc_DSRI(path8)\n",
        "  gmi=calc_GMI_sales_DEPI(path1)\n",
        "  final_dataframe=pd.concat([cfo,lgvi,dsri,gmi],axis=1)\n",
        "  return final_dataframe"
      ],
      "metadata": {
        "id": "Xq1lrYpwbG4_"
      },
      "execution_count": 12,
      "outputs": []
    },
    {
      "cell_type": "code",
      "source": [
        "def geo_mean(iterable):\n",
        "    return np.exp(np.log(iterable).mean())"
      ],
      "metadata": {
        "id": "kfvy7EU9im3L"
      },
      "execution_count": 13,
      "outputs": []
    },
    {
      "cell_type": "markdown",
      "source": [
        "# Work in Progress "
      ],
      "metadata": {
        "id": "xBYZWPU4xkHM"
      }
    },
    {
      "cell_type": "code",
      "source": [
        "def wonderful_business(df):\n",
        "  df['return_on_asset']=df['Net Profit'].apply(lambda x:float(x))/df['TotalAssets'].apply(lambda x:float(x))\n",
        "  df['Asset_Turn_Over_ratio'] =df['Net Profit'].apply(lambda x:float(x))/((df['TotalAssets'].shift(1).apply(lambda x:float(x)))+(df['TotalAssets'].apply(lambda x:float(x))))/2\n",
        "  return df"
      ],
      "metadata": {
        "id": "7l3fllfUatbM"
      },
      "execution_count": 14,
      "outputs": []
    },
    {
      "cell_type": "code",
      "source": [
        "def PMGr(df):\n",
        "  df['Operating Profit']=df['Operating Profit'].apply(lambda x:float(x))\n",
        "  df['GM']=df['Operating Profit'].shift(1)/df['Operating Profit']\n",
        "  #print('\\n Margin Growth \\n ')\n",
        "  margin_growth = geo_mean(final_dataframe['GM'][-9:-1].apply(lambda x:float(x)))\n",
        "  #print(geo_mean(final_dataframe['GM'][-9:-1].apply(lambda x:float(x))))\n",
        "  df['Price_Stability']=df['GM'].mean(axis=0)/df['GM'].std(axis=0)\n",
        "  margin_stability=df['Price_Stability'][-1]\n",
        "  #print('\\n Margin Stability \\n ')\n",
        "  #print(df['Price_Stability'][-1])\n",
        "  return df,margin_growth , margin_stability"
      ],
      "metadata": {
        "id": "6YTaVaLxIy9z"
      },
      "execution_count": 15,
      "outputs": []
    },
    {
      "cell_type": "code",
      "source": [
        "def get_shares(path9):\n",
        "  share=pd.read_csv(path9).T[1:]\n",
        "  cols=get_column_header(path9)\n",
        "  share.columns=cols\n",
        "  share=share[1:]\n",
        "  share['total']=share.sum(axis=1).values\n",
        "  equity_repurchase=np.where(share['total'][-1]<share['total'][-2],1,0).tolist()\n",
        "  return equity_repurchase"
      ],
      "metadata": {
        "id": "JZj6NFTHYKPo"
      },
      "execution_count": 16,
      "outputs": []
    },
    {
      "cell_type": "code",
      "source": [
        "for serial,item in enumerate(company_name[:4]):\n",
        "  print(item,serial)"
      ],
      "metadata": {
        "id": "p75TqPIhabc4",
        "outputId": "dda6c372-6c87-42e3-9dde-6e59a753a0a0",
        "colab": {
          "base_uri": "https://localhost:8080/"
        }
      },
      "execution_count": 17,
      "outputs": [
        {
          "output_type": "stream",
          "name": "stdout",
          "text": [
            "TATACOFFEE 0\n",
            "JSWENERGY 1\n",
            "TRIDENT 2\n",
            "SJVN 3\n"
          ]
        }
      ]
    },
    {
      "cell_type": "code",
      "source": [
        "final_placeholder={}\n",
        "for serial,item in enumerate(company_name):\n",
        "    print(item,serial)\n",
        "    path7 = f'/content/new_fldr/{company_name[serial]}/_str(7)'\n",
        "    path1 = f'/content/new_fldr/{company_name[serial]}/_str(1)'\n",
        "    path6 = f'/content/new_fldr/{company_name[serial]}/_str(6)'\n",
        "    path8=  f'/content/new_fldr/{company_name[serial]}/_str(8)'\n",
        "    path9=  f'/content/new_fldr/{company_name[serial]}/_str(9)'\n",
        "    final_dataframe=get_final_dataframe(path1,path6,path7,path8)\n",
        "    final_dataframe=wonderful_business(final_dataframe)\n",
        "    d,margin_growth,margin_safety=PMGr(final_dataframe)\n",
        "    roa_pos=np.where(d['return_on_asset'][-3]>0,1,0).tolist()\n",
        "    accrual_pos=np.where((d['Net Cash Flow'][-3]/d['TotalAssets'][-3])>0,1,0).tolist()\n",
        "    fs_roa=np.where(d['return_on_asset'][-3]>d['return_on_asset'][-4],1,0).tolist()\n",
        "    fcfta=np.where((d['Net Cash Flow'][-3]/d['TotalAssets'][-3])>(d['Net Cash Flow'][-4]/d['TotalAssets'][-4]),1,0).tolist()\n",
        "    f_accrual=np.where(fcfta>fs_roa,1,0).tolist()\n",
        "    lever=np.where(d['DE'][-3]>d['DE'][-4],0,1).tolist()\n",
        "    liquid=np.where(d['Cash Conversion Cycle'][-3]<d['Cash Conversion Cycle'][-4],1,0).tolist()\n",
        "    equity_repurchase=get_shares(path9)\n",
        "    asset_turn=np.where(d['Asset_Turn_Over_ratio'].shift()>0,1,0)[-1].tolist()\n",
        "    fs_margin= np.where(d['delta_Margin'][-3]>d['delta_Margin'][-4],1,0)\n",
        "    ratios=pd.DataFrame({'Ratio_name':['margin_growth','margin_safety','ROA_pos','fcfta','accrual_pos','fs_roa','f_accrual','lever','liquid','equity_repurchase','asset_turn','fs_margin'],'Ratio_value':[margin_growth,margin_safety,roa_pos,fcfta,accrual_pos,fs_roa,f_accrual,lever,liquid,equity_repurchase,asset_turn,fs_margin]})\n",
        "    ratios['company_name']=company_name[serial]\n",
        "    final_placeholder[item]=ratios \n",
        "print('Done')"
      ],
      "metadata": {
        "id": "5FqyZUnagUbx"
      },
      "execution_count": null,
      "outputs": []
    },
    {
      "cell_type": "code",
      "source": [
        "final_placeholder['ADANIGREEN']"
      ],
      "metadata": {
        "id": "aPw8gIxIJ61o"
      },
      "execution_count": null,
      "outputs": []
    },
    {
      "cell_type": "code",
      "source": [
        "with open('final.csv', 'w') as f:\n",
        "    for key in final_placeholder.keys():\n",
        "        f.write(\"%s,%s\\n\"%(key,final_placeholder[key]))"
      ],
      "metadata": {
        "id": "jdo89JSJJ8ox"
      },
      "execution_count": 80,
      "outputs": []
    },
    {
      "cell_type": "code",
      "source": [
        ""
      ],
      "metadata": {
        "id": "DmASbvL1LoPS"
      },
      "execution_count": null,
      "outputs": []
    }
  ]
}