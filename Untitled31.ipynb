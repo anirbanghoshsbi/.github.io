{
  "nbformat": 4,
  "nbformat_minor": 0,
  "metadata": {
    "colab": {
      "name": "Untitled31.ipynb",
      "provenance": [],
      "authorship_tag": "ABX9TyOlnGveuTSuDtHD/DG1iVRd",
      "include_colab_link": true
    },
    "kernelspec": {
      "name": "python3",
      "display_name": "Python 3"
    },
    "language_info": {
      "name": "python"
    }
  },
  "cells": [
    {
      "cell_type": "markdown",
      "metadata": {
        "id": "view-in-github",
        "colab_type": "text"
      },
      "source": [
        "<a href=\"https://colab.research.google.com/github/anirbanghoshsbi/.github.io/blob/master/Untitled31.ipynb\" target=\"_parent\"><img src=\"https://colab.research.google.com/assets/colab-badge.svg\" alt=\"Open In Colab\"/></a>"
      ]
    },
    {
      "cell_type": "code",
      "execution_count": 290,
      "metadata": {
        "id": "bX9RTKD_AJwQ"
      },
      "outputs": [],
      "source": [
        "import pandas as pd\n",
        "import numpy as np\n",
        "import re\n"
      ]
    },
    {
      "cell_type": "code",
      "source": [
        "#!unzip '/content/nifty_F_data.zip' -d \"/content/new_fldr/\""
      ],
      "metadata": {
        "id": "FQ20DIYyANew"
      },
      "execution_count": 291,
      "outputs": []
    },
    {
      "cell_type": "code",
      "source": [
        "def calc_DSRI(df):\n",
        "  ''' file name ---> _str(8)'''\n",
        "  working_capital_cycle = pd.read_csv(df).T[1:]\n",
        "  print('done')\n",
        "  working_capital_cycle.set_axis(['Debtor Days','Inventory Days','Days Payable','Cash Conversion Cycle','Working Cap Days','ROCE'],axis='columns',inplace=True)\n",
        "  WC=working_capital_cycle[1:]\n",
        "  WC=WC.reset_index()\n",
        "  WC.rename(columns={'index':'Date'},inplace=True)\n",
        "  WC=WC.set_index('Date')\n",
        "  print(WC.head(1))\n",
        "  WC['Debtor Days']=WC['Debtor Days'].apply(lambda x:int(x))\n",
        "  WC['DSRI']=WC['Debtor Days']/WC['Debtor Days'].shift(1)\n",
        "  return WC"
      ],
      "metadata": {
        "id": "bWTA4tbfE5fI"
      },
      "execution_count": 292,
      "outputs": []
    },
    {
      "cell_type": "code",
      "source": [
        "def calc_GMI_sales_DEPI(df):\n",
        "  ''' file name ---> _str(1)'''\n",
        "  bs = pd.read_csv(df).T[1:]\n",
        "  columns =['Sales', 'Expenses', 'Operating Profit', 'OPM',\\\n",
        "        'Other Income', 'Interest', 'Depreciation', 'Profit before tax',\\\n",
        "        'Tax', 'Net Profit', 'EPS in Rs', 'Dividend Payout']\n",
        "  bs=bs[1:]\n",
        "  bs.columns=columns  \n",
        "  bs=bs.reset_index()\n",
        "  bs=bs.rename(columns={'index':'Date'})\n",
        "  bs=bs.set_index('Date')\n",
        "  bs['Operating Profit']=bs['Operating Profit'].apply(lambda x:int(x))\n",
        "  bs['Sales']=bs['Sales'].apply(lambda x:int(x))\n",
        "  bs['Depreciation']=bs['Depreciation'].apply(lambda x:int(x))\n",
        "  bs['GMI']=bs['Operating Profit'].shift(1)/bs['Operating Profit']\n",
        "  bs['SGI']=bs['Sales']/bs['Sales'].shift(1)\n",
        "  bs['DEPI']=bs['Depreciation'].shift(1)/bs['Depreciation']\n",
        "  return bs"
      ],
      "metadata": {
        "id": "Om_lV5scNPXA"
      },
      "execution_count": 293,
      "outputs": []
    },
    {
      "cell_type": "code",
      "source": [
        "path='/content/new_fldr/3MINDIA/_str(6)'"
      ],
      "metadata": {
        "id": "LNCFtkP2LlXF"
      },
      "execution_count": 294,
      "outputs": []
    },
    {
      "cell_type": "code",
      "source": [
        "def get_column_header(path):\n",
        "  bal = pd.read_csv(path).T[1:]\n",
        "  my_list=np.squeeze(bal.head(1).values).tolist()\n",
        "  cols=[re.sub('[^a-zA-Z0-9]+', '', _) for _ in my_list]\n",
        "  return cols"
      ],
      "metadata": {
        "id": "mS2lyEnwOd54"
      },
      "execution_count": 295,
      "outputs": []
    },
    {
      "cell_type": "code",
      "source": [
        "def calc_LVGI(df):\n",
        "  ''' file name ---> _str(6)'''\n",
        "  bal = pd.read_csv(df).T[1:]\n",
        "  columns= get_column_header(path)\n",
        "  bal.columns=columns \n",
        "  bal=bal[1:] \n",
        "  bal=bal.reset_index()\n",
        "  bal=bal.rename(columns={'index':'Date'})\n",
        "  bal=bal.set_index('Date')\n",
        "  #print(bal.head(2))\n",
        "  bal['Borrowings']=bal['Borrowings'].astype('int')\n",
        "  bal['ShareCapital']=bal['ShareCapital'].astype('int')\n",
        "  bal['Reserves']=bal['Reserves'].astype('int')\n",
        "  #print(bal['ShareCapital'].shape,bal['Reserves'].shape)\n",
        "  bal['Equity']=bal['ShareCapital']+bal['Reserves']\n",
        "  bal['DE']=bal['Borrowings']/bal['Equity']\n",
        "  bal['LVGI']=bal['DE']/bal['DE'].shift(1)\n",
        "  bal['AQI']=bal['OtherAssets'].astype('int')/bal['TotalAssets'].astype('int')\n",
        "  return bal"
      ],
      "metadata": {
        "id": "KvGi5a0OP_BZ"
      },
      "execution_count": 296,
      "outputs": []
    },
    {
      "cell_type": "code",
      "source": [
        "path7 = '/content/new_fldr/3MINDIA/_str(7)'\n",
        "path1 = '/content/new_fldr/3MINDIA/_str(1)'\n",
        "path6 = '/content/new_fldr/3MINDIA/_str(6)'\n",
        "path8=  '/content/new_fldr/3MINDIA/_str(8)'"
      ],
      "metadata": {
        "id": "tS4Mp2eaSqV7"
      },
      "execution_count": 297,
      "outputs": []
    },
    {
      "cell_type": "code",
      "source": [
        "def calc_TATA(path7,path1,path6):\n",
        "  ''' pass path7= _str(7), path1= _str(1), path6= _str(6)'''\n",
        "  cfo = pd.read_csv(path7).T[1:]\n",
        "  columns=['Cash from Operating Activity',\\\n",
        "          'Cash from Investing Activity',\\\n",
        "          'Cash from Financing Activity', 'Net Cash Flow']\n",
        "  cfo=cfo[1:]\n",
        "  cfo=cfo.reset_index()\n",
        "  cfo.rename(columns={'index':'Date'},inplace=True)\n",
        "  cfo=cfo.set_index('Date')\n",
        "  cfo.columns=columns\n",
        "  snap=calc_GMI_sales_DEPI(path1)\n",
        "  snap2=calc_LVGI(path6)\n",
        "  cfo=pd.concat([cfo,snap['Net Profit'],snap2['TotalAssets']],axis=1)\n",
        "  #print(cfo.head(2))\n",
        "  cfo=cfo.fillna(0)\n",
        "  cfo['Total Accruals']=cfo['Net Profit'].apply(lambda x:int(x))-cfo['Cash from Operating Activity'].apply(lambda x:int(x))\n",
        "  cfo['TotalAssets']=cfo['TotalAssets'].apply(lambda x:int(x))\n",
        "  cfo['TATA']=cfo['Total Accruals']/cfo['TotalAssets']\n",
        "  cfo=cfo.drop(['Net Profit','TotalAssets'],axis=1)\n",
        "  return cfo"
      ],
      "metadata": {
        "id": "2HhzCPuOZ0N8"
      },
      "execution_count": 298,
      "outputs": []
    },
    {
      "cell_type": "code",
      "source": [
        "def get_final_dataframe(path1,path6,path7,path8):\n",
        "  cfo=calc_TATA(path7, path1, path6)\n",
        "  lgvi=calc_LVGI(path6)\n",
        "  dsri=calc_DSRI(path8)\n",
        "  gmi=calc_GMI_sales_DEPI(path1)\n",
        "  final_dataframe=pd.concat([cfo,lgvi,dsri,gmi],axis=1)\n",
        "  return final_dataframe"
      ],
      "metadata": {
        "id": "Xq1lrYpwbG4_"
      },
      "execution_count": 299,
      "outputs": []
    },
    {
      "cell_type": "code",
      "source": [
        "final_dataframe=get_final_dataframe(path1,path6,path7,path8)"
      ],
      "metadata": {
        "colab": {
          "base_uri": "https://localhost:8080/"
        },
        "id": "Xy4pJXNja_Ik",
        "outputId": "27298944-e69f-4e5b-db52-66da37cb9fc7"
      },
      "execution_count": 300,
      "outputs": [
        {
          "output_type": "stream",
          "name": "stdout",
          "text": [
            "done\n",
            "         Debtor Days Inventory Days  ... Working Cap Days ROCE\n",
            "Date                                 ...                      \n",
            "Mar 2018          77             96  ...              -25  NaN\n",
            "\n",
            "[1 rows x 6 columns]\n"
          ]
        }
      ]
    },
    {
      "cell_type": "code",
      "source": [
        "final_dataframe.columns"
      ],
      "metadata": {
        "colab": {
          "base_uri": "https://localhost:8080/"
        },
        "id": "Dnkgf8gpvkNC",
        "outputId": "8b2e65bd-f538-4428-b0ea-dc470267edcf"
      },
      "execution_count": 301,
      "outputs": [
        {
          "output_type": "execute_result",
          "data": {
            "text/plain": [
              "Index(['Cash from Operating Activity', 'Cash from Investing Activity',\n",
              "       'Cash from Financing Activity', 'Net Cash Flow', 'Total Accruals',\n",
              "       'TATA', 'ShareCapital', 'Reserves', 'Borrowings', 'OtherLiabilities',\n",
              "       'TotalLiabilities', 'FixedAssets', 'CWIP', 'Investments', 'OtherAssets',\n",
              "       'TotalAssets', 'Equity', 'DE', 'LVGI', 'AQI', 'Debtor Days',\n",
              "       'Inventory Days', 'Days Payable', 'Cash Conversion Cycle',\n",
              "       'Working Cap Days', 'ROCE', 'DSRI', 'Sales', 'Expenses',\n",
              "       'Operating Profit', 'OPM', 'Other Income', 'Interest', 'Depreciation',\n",
              "       'Profit before tax', 'Tax', 'Net Profit', 'EPS in Rs',\n",
              "       'Dividend Payout', 'GMI', 'SGI', 'DEPI'],\n",
              "      dtype='object')"
            ]
          },
          "metadata": {},
          "execution_count": 301
        }
      ]
    },
    {
      "cell_type": "code",
      "source": [
        "def geo_mean(iterable):\n",
        "    return np.exp(np.log(iterable).mean())"
      ],
      "metadata": {
        "id": "kfvy7EU9im3L"
      },
      "execution_count": 302,
      "outputs": []
    },
    {
      "cell_type": "markdown",
      "source": [
        "# Work in Progress "
      ],
      "metadata": {
        "id": "xBYZWPU4xkHM"
      }
    },
    {
      "cell_type": "code",
      "source": [
        "def wonderful_business(df):\n",
        "  df['return_on_asset']=df['Net Profit'].apply(lambda x:float(x))/df['TotalAssets'].apply(lambda x:float(x))\n",
        "  return df"
      ],
      "metadata": {
        "id": "7l3fllfUatbM"
      },
      "execution_count": 303,
      "outputs": []
    },
    {
      "cell_type": "code",
      "source": [
        "final_dataframe=wonderful_business(final_dataframe)"
      ],
      "metadata": {
        "id": "GJWcrcvpw4LX"
      },
      "execution_count": 304,
      "outputs": []
    },
    {
      "cell_type": "code",
      "source": [
        "geo_mean(final_dataframe['return_on_asset'][-9:-1].apply(lambda x:float(x))) #geometric mean"
      ],
      "metadata": {
        "colab": {
          "base_uri": "https://localhost:8080/"
        },
        "id": "083uni3dat11",
        "outputId": "755a34ee-e9ae-48f5-fa3b-9296b20249a3"
      },
      "execution_count": 305,
      "outputs": [
        {
          "output_type": "execute_result",
          "data": {
            "text/plain": [
              "0.11988540300805121"
            ]
          },
          "metadata": {},
          "execution_count": 305
        }
      ]
    },
    {
      "cell_type": "code",
      "source": [
        "final_dataframe['return_on_asset'][-9:-1].apply(lambda x:float(x)).mean() #arithmetic mean"
      ],
      "metadata": {
        "colab": {
          "base_uri": "https://localhost:8080/"
        },
        "id": "9TXsT3aakh5K",
        "outputId": "77a53ac6-a520-4075-acab-42c65b4a53ee"
      },
      "execution_count": 306,
      "outputs": [
        {
          "output_type": "execute_result",
          "data": {
            "text/plain": [
              "0.12844791188666072"
            ]
          },
          "metadata": {},
          "execution_count": 306
        }
      ]
    },
    {
      "cell_type": "code",
      "source": [
        "def PMGr(df):\n",
        "  df['Operating Profit']=df['Operating Profit'].apply(lambda x:float(x))\n",
        "  df['GM']=df['Operating Profit'].shift(1)/df['Operating Profit']\n",
        "  print('\\n Margin Growth \\n ')\n",
        "  print(geo_mean(final_dataframe['GM'][-9:-1].apply(lambda x:float(x))))\n",
        "  df['Price_Stability']=df['GM'].mean(axis=0)/df['GM'].std(axis=0)\n",
        "  print('\\n Margin Stability \\n ')\n",
        "  print(df['Price_Stability'][-1])\n",
        "  return df"
      ],
      "metadata": {
        "id": "6YTaVaLxIy9z"
      },
      "execution_count": 307,
      "outputs": []
    },
    {
      "cell_type": "code",
      "source": [
        "d=PMGr(final_dataframe)"
      ],
      "metadata": {
        "colab": {
          "base_uri": "https://localhost:8080/"
        },
        "id": "sQy4zSMvJ1R9",
        "outputId": "5c7031c1-35c1-4f04-87be-237b38d3fc7a"
      },
      "execution_count": 310,
      "outputs": [
        {
          "output_type": "stream",
          "name": "stdout",
          "text": [
            "\n",
            " Margin Growth \n",
            " \n",
            "1.1055757894630756\n",
            "\n",
            " Margin Stability \n",
            " \n",
            "2.7445734088177907\n"
          ]
        }
      ]
    },
    {
      "cell_type": "code",
      "source": [
        "d[-4:-2]"
      ],
      "metadata": {
        "id": "V7tJDNwPjkHX",
        "outputId": "675faa0d-e172-4daa-c466-ecfc734aa169",
        "colab": {
          "base_uri": "https://localhost:8080/",
          "height": 201
        }
      },
      "execution_count": 313,
      "outputs": [
        {
          "output_type": "execute_result",
          "data": {
            "text/html": [
              "<div>\n",
              "<style scoped>\n",
              "    .dataframe tbody tr th:only-of-type {\n",
              "        vertical-align: middle;\n",
              "    }\n",
              "\n",
              "    .dataframe tbody tr th {\n",
              "        vertical-align: top;\n",
              "    }\n",
              "\n",
              "    .dataframe thead th {\n",
              "        text-align: right;\n",
              "    }\n",
              "</style>\n",
              "<table border=\"1\" class=\"dataframe\">\n",
              "  <thead>\n",
              "    <tr style=\"text-align: right;\">\n",
              "      <th></th>\n",
              "      <th>Cash from Operating Activity</th>\n",
              "      <th>Cash from Investing Activity</th>\n",
              "      <th>Cash from Financing Activity</th>\n",
              "      <th>Net Cash Flow</th>\n",
              "      <th>Total Accruals</th>\n",
              "      <th>TATA</th>\n",
              "      <th>ShareCapital</th>\n",
              "      <th>Reserves</th>\n",
              "      <th>Borrowings</th>\n",
              "      <th>OtherLiabilities</th>\n",
              "      <th>TotalLiabilities</th>\n",
              "      <th>FixedAssets</th>\n",
              "      <th>CWIP</th>\n",
              "      <th>Investments</th>\n",
              "      <th>OtherAssets</th>\n",
              "      <th>TotalAssets</th>\n",
              "      <th>Equity</th>\n",
              "      <th>DE</th>\n",
              "      <th>LVGI</th>\n",
              "      <th>AQI</th>\n",
              "      <th>Debtor Days</th>\n",
              "      <th>Inventory Days</th>\n",
              "      <th>Days Payable</th>\n",
              "      <th>Cash Conversion Cycle</th>\n",
              "      <th>Working Cap Days</th>\n",
              "      <th>ROCE</th>\n",
              "      <th>DSRI</th>\n",
              "      <th>Sales</th>\n",
              "      <th>Expenses</th>\n",
              "      <th>Operating Profit</th>\n",
              "      <th>OPM</th>\n",
              "      <th>Other Income</th>\n",
              "      <th>Interest</th>\n",
              "      <th>Depreciation</th>\n",
              "      <th>Profit before tax</th>\n",
              "      <th>Tax</th>\n",
              "      <th>Net Profit</th>\n",
              "      <th>EPS in Rs</th>\n",
              "      <th>Dividend Payout</th>\n",
              "      <th>GMI</th>\n",
              "      <th>SGI</th>\n",
              "      <th>DEPI</th>\n",
              "      <th>return_on_asset</th>\n",
              "      <th>GM</th>\n",
              "      <th>Price_Stability</th>\n",
              "    </tr>\n",
              "  </thead>\n",
              "  <tbody>\n",
              "    <tr>\n",
              "      <th>Mar 2020</th>\n",
              "      <td>245</td>\n",
              "      <td>3</td>\n",
              "      <td>-25</td>\n",
              "      <td>223</td>\n",
              "      <td>77</td>\n",
              "      <td>0.032476</td>\n",
              "      <td>11.0</td>\n",
              "      <td>1740.0</td>\n",
              "      <td>42.0</td>\n",
              "      <td>578</td>\n",
              "      <td>2371</td>\n",
              "      <td>306</td>\n",
              "      <td>7</td>\n",
              "      <td>0</td>\n",
              "      <td>2058</td>\n",
              "      <td>2371</td>\n",
              "      <td>1751.0</td>\n",
              "      <td>0.023986</td>\n",
              "      <td>2.455168</td>\n",
              "      <td>0.867988</td>\n",
              "      <td>65.0</td>\n",
              "      <td>92</td>\n",
              "      <td>66</td>\n",
              "      <td>92</td>\n",
              "      <td>66</td>\n",
              "      <td>27%</td>\n",
              "      <td>0.915493</td>\n",
              "      <td>2987.0</td>\n",
              "      <td>2537</td>\n",
              "      <td>450.0</td>\n",
              "      <td>15%</td>\n",
              "      <td>46</td>\n",
              "      <td>4</td>\n",
              "      <td>59.0</td>\n",
              "      <td>433</td>\n",
              "      <td>26%</td>\n",
              "      <td>322</td>\n",
              "      <td>285.99</td>\n",
              "      <td>0%</td>\n",
              "      <td>1.191111</td>\n",
              "      <td>0.990056</td>\n",
              "      <td>0.745763</td>\n",
              "      <td>0.135808</td>\n",
              "      <td>1.191111</td>\n",
              "      <td>2.744573</td>\n",
              "    </tr>\n",
              "    <tr>\n",
              "      <th>Mar 2021</th>\n",
              "      <td>321</td>\n",
              "      <td>-14</td>\n",
              "      <td>-25</td>\n",
              "      <td>282</td>\n",
              "      <td>-159</td>\n",
              "      <td>-0.059955</td>\n",
              "      <td>11.0</td>\n",
              "      <td>1899.0</td>\n",
              "      <td>23.0</td>\n",
              "      <td>718</td>\n",
              "      <td>2652</td>\n",
              "      <td>266</td>\n",
              "      <td>24</td>\n",
              "      <td>0</td>\n",
              "      <td>2362</td>\n",
              "      <td>2652</td>\n",
              "      <td>1910.0</td>\n",
              "      <td>0.012042</td>\n",
              "      <td>0.502032</td>\n",
              "      <td>0.890649</td>\n",
              "      <td>68.0</td>\n",
              "      <td>104</td>\n",
              "      <td>94</td>\n",
              "      <td>79</td>\n",
              "      <td>56</td>\n",
              "      <td>12%</td>\n",
              "      <td>1.046154</td>\n",
              "      <td>2605.0</td>\n",
              "      <td>2345</td>\n",
              "      <td>259.0</td>\n",
              "      <td>10%</td>\n",
              "      <td>25</td>\n",
              "      <td>2</td>\n",
              "      <td>62.0</td>\n",
              "      <td>220</td>\n",
              "      <td>26%</td>\n",
              "      <td>162</td>\n",
              "      <td>144.14</td>\n",
              "      <td>0%</td>\n",
              "      <td>1.737452</td>\n",
              "      <td>0.872112</td>\n",
              "      <td>0.951613</td>\n",
              "      <td>0.061086</td>\n",
              "      <td>1.737452</td>\n",
              "      <td>2.744573</td>\n",
              "    </tr>\n",
              "  </tbody>\n",
              "</table>\n",
              "</div>"
            ],
            "text/plain": [
              "          Cash from Operating Activity  ...  Price_Stability\n",
              "Mar 2020                           245  ...         2.744573\n",
              "Mar 2021                           321  ...         2.744573\n",
              "\n",
              "[2 rows x 45 columns]"
            ]
          },
          "metadata": {},
          "execution_count": 313
        }
      ]
    },
    {
      "cell_type": "code",
      "source": [
        "path9='/content/new_fldr/AARTIIND/_str(9)'"
      ],
      "metadata": {
        "id": "72_CVcidqmOB"
      },
      "execution_count": 314,
      "outputs": []
    },
    {
      "cell_type": "code",
      "source": [
        "share=pd.read_csv(path9).T[1:]"
      ],
      "metadata": {
        "id": "TcJBTPNWnsKH"
      },
      "execution_count": 321,
      "outputs": []
    },
    {
      "cell_type": "code",
      "source": [
        "cols=get_column_header(path9)"
      ],
      "metadata": {
        "id": "srbLZJkPqu62"
      },
      "execution_count": 322,
      "outputs": []
    },
    {
      "cell_type": "code",
      "source": [
        "share.columns=cols\n"
      ],
      "metadata": {
        "id": "_dffnze2rB0u"
      },
      "execution_count": 323,
      "outputs": []
    },
    {
      "cell_type": "code",
      "source": [
        "share=share[1:]"
      ],
      "metadata": {
        "id": "VzK_eLpArOa2"
      },
      "execution_count": 325,
      "outputs": []
    },
    {
      "cell_type": "code",
      "source": [
        "share['total']=share.sum(axis=1).values"
      ],
      "metadata": {
        "id": "-nTMPQ__rcsu"
      },
      "execution_count": null,
      "outputs": []
    },
    {
      "cell_type": "code",
      "source": [
        "share"
      ],
      "metadata": {
        "id": "RmUcSGwjrkVm",
        "outputId": "5429d5eb-4262-49d3-d173-9a5d3200d856",
        "colab": {
          "base_uri": "https://localhost:8080/",
          "height": 426
        }
      },
      "execution_count": 331,
      "outputs": [
        {
          "output_type": "execute_result",
          "data": {
            "text/html": [
              "<div>\n",
              "<style scoped>\n",
              "    .dataframe tbody tr th:only-of-type {\n",
              "        vertical-align: middle;\n",
              "    }\n",
              "\n",
              "    .dataframe tbody tr th {\n",
              "        vertical-align: top;\n",
              "    }\n",
              "\n",
              "    .dataframe thead th {\n",
              "        text-align: right;\n",
              "    }\n",
              "</style>\n",
              "<table border=\"1\" class=\"dataframe\">\n",
              "  <thead>\n",
              "    <tr style=\"text-align: right;\">\n",
              "      <th></th>\n",
              "      <th>Promoters</th>\n",
              "      <th>FIIs</th>\n",
              "      <th>DIIs</th>\n",
              "      <th>Public</th>\n",
              "      <th>total</th>\n",
              "    </tr>\n",
              "  </thead>\n",
              "  <tbody>\n",
              "    <tr>\n",
              "      <th>Dec 2018</th>\n",
              "      <td>52.74</td>\n",
              "      <td>4.45</td>\n",
              "      <td>14.35</td>\n",
              "      <td>28.47</td>\n",
              "      <td>200.02</td>\n",
              "    </tr>\n",
              "    <tr>\n",
              "      <th>Mar 2019</th>\n",
              "      <td>49.36</td>\n",
              "      <td>7.43</td>\n",
              "      <td>15.91</td>\n",
              "      <td>27.3</td>\n",
              "      <td>200.00</td>\n",
              "    </tr>\n",
              "    <tr>\n",
              "      <th>Jun 2019</th>\n",
              "      <td>48.97</td>\n",
              "      <td>7.75</td>\n",
              "      <td>15.92</td>\n",
              "      <td>27.36</td>\n",
              "      <td>200.00</td>\n",
              "    </tr>\n",
              "    <tr>\n",
              "      <th>Sep 2019</th>\n",
              "      <td>48.29</td>\n",
              "      <td>7.67</td>\n",
              "      <td>16.42</td>\n",
              "      <td>27.63</td>\n",
              "      <td>200.02</td>\n",
              "    </tr>\n",
              "    <tr>\n",
              "      <th>Dec 2019</th>\n",
              "      <td>48.25</td>\n",
              "      <td>7.49</td>\n",
              "      <td>16.65</td>\n",
              "      <td>27.62</td>\n",
              "      <td>200.02</td>\n",
              "    </tr>\n",
              "    <tr>\n",
              "      <th>Mar 2020</th>\n",
              "      <td>47.75</td>\n",
              "      <td>8.28</td>\n",
              "      <td>16.56</td>\n",
              "      <td>27.41</td>\n",
              "      <td>200.00</td>\n",
              "    </tr>\n",
              "    <tr>\n",
              "      <th>Jun 2020</th>\n",
              "      <td>47.45</td>\n",
              "      <td>7.37</td>\n",
              "      <td>16.22</td>\n",
              "      <td>28.96</td>\n",
              "      <td>200.00</td>\n",
              "    </tr>\n",
              "    <tr>\n",
              "      <th>Sep 2020</th>\n",
              "      <td>47.55</td>\n",
              "      <td>7.52</td>\n",
              "      <td>15.78</td>\n",
              "      <td>29.15</td>\n",
              "      <td>200.00</td>\n",
              "    </tr>\n",
              "    <tr>\n",
              "      <th>Dec 2020</th>\n",
              "      <td>47.34</td>\n",
              "      <td>9</td>\n",
              "      <td>14.61</td>\n",
              "      <td>29.06</td>\n",
              "      <td>200.02</td>\n",
              "    </tr>\n",
              "    <tr>\n",
              "      <th>Mar 2021</th>\n",
              "      <td>46.82</td>\n",
              "      <td>8.66</td>\n",
              "      <td>15.64</td>\n",
              "      <td>28.87</td>\n",
              "      <td>199.98</td>\n",
              "    </tr>\n",
              "    <tr>\n",
              "      <th>Jun 2021</th>\n",
              "      <td>44.9</td>\n",
              "      <td>11.9</td>\n",
              "      <td>13.62</td>\n",
              "      <td>29.57</td>\n",
              "      <td>199.98</td>\n",
              "    </tr>\n",
              "    <tr>\n",
              "      <th>Sep 2021</th>\n",
              "      <td>44.21</td>\n",
              "      <td>11.86</td>\n",
              "      <td>14.75</td>\n",
              "      <td>29.18</td>\n",
              "      <td>200.00</td>\n",
              "    </tr>\n",
              "  </tbody>\n",
              "</table>\n",
              "</div>"
            ],
            "text/plain": [
              "         Promoters   FIIs   DIIs Public   total\n",
              "Dec 2018     52.74   4.45  14.35  28.47  200.02\n",
              "Mar 2019     49.36   7.43  15.91   27.3  200.00\n",
              "Jun 2019     48.97   7.75  15.92  27.36  200.00\n",
              "Sep 2019     48.29   7.67  16.42  27.63  200.02\n",
              "Dec 2019     48.25   7.49  16.65  27.62  200.02\n",
              "Mar 2020     47.75   8.28  16.56  27.41  200.00\n",
              "Jun 2020     47.45   7.37  16.22  28.96  200.00\n",
              "Sep 2020     47.55   7.52  15.78  29.15  200.00\n",
              "Dec 2020     47.34      9  14.61  29.06  200.02\n",
              "Mar 2021     46.82   8.66  15.64  28.87  199.98\n",
              "Jun 2021      44.9   11.9  13.62  29.57  199.98\n",
              "Sep 2021     44.21  11.86  14.75  29.18  200.00"
            ]
          },
          "metadata": {},
          "execution_count": 331
        }
      ]
    },
    {
      "cell_type": "code",
      "source": [
        ""
      ],
      "metadata": {
        "id": "YuYqVYFtsDbm"
      },
      "execution_count": null,
      "outputs": []
    }
  ]
}