{
  "nbformat": 4,
  "nbformat_minor": 0,
  "metadata": {
    "colab": {
      "name": "read_from_screener.ipynb",
      "provenance": [],
      "collapsed_sections": [],
      "authorship_tag": "ABX9TyOSiL4VTcvBJmeafK657iEe",
      "include_colab_link": true
    },
    "kernelspec": {
      "name": "python3",
      "display_name": "Python 3"
    },
    "language_info": {
      "name": "python"
    }
  },
  "cells": [
    {
      "cell_type": "markdown",
      "metadata": {
        "id": "view-in-github",
        "colab_type": "text"
      },
      "source": [
        "<a href=\"https://colab.research.google.com/github/anirbanghoshsbi/.github.io/blob/master/read_from_screener.ipynb\" target=\"_parent\"><img src=\"https://colab.research.google.com/assets/colab-badge.svg\" alt=\"Open In Colab\"/></a>"
      ]
    },
    {
      "cell_type": "code",
      "execution_count": 44,
      "metadata": {
        "id": "mThuRWvZ4Fkn"
      },
      "outputs": [],
      "source": [
        "import pandas as pd\n",
        "import os\n",
        "from urllib.error import HTTPError"
      ]
    },
    {
      "cell_type": "code",
      "source": [
        "symbols=pd.read_csv('https://raw.githubusercontent.com/anirbanghoshsbi/nifty500/main/ind_nifty500list.csv')"
      ],
      "metadata": {
        "id": "oboq1QTy4IJH"
      },
      "execution_count": 45,
      "outputs": []
    },
    {
      "cell_type": "code",
      "source": [
        "symbols['data']=symbols.Symbol\n",
        "ticker=symbols.data.tolist()\n",
        "ticker=[item for item in ticker if item!='ANGELBRKG']"
      ],
      "metadata": {
        "id": "HLXGYY_qAwPS"
      },
      "execution_count": 75,
      "outputs": []
    },
    {
      "cell_type": "code",
      "source": [
        "ticker=ticker[490:]"
      ],
      "metadata": {
        "id": "_qbrpT_oH5K9"
      },
      "execution_count": 76,
      "outputs": []
    },
    {
      "cell_type": "code",
      "source": [
        "try:\n",
        "  for company_name in ticker:\n",
        "    path = f'/content/niftyTRY/{company_name}/'\n",
        "\n",
        "    # Check whether the specified path exists or not\n",
        "    isExist = os.path.exists(path)\n",
        "\n",
        "    if not isExist:\n",
        "    \n",
        "      # Create a new directory because it does not exist \n",
        "      os.makedirs(path)\n",
        "      print(f\"The new directory is created! {path}\")\n",
        "\n",
        "    dataframe=pd.read_html(f'https://www.screener.in/company/{company_name}/consolidated/')\n",
        "    i=0\n",
        "    for df in dataframe:\n",
        "      filename=path+f'_str({i})'\n",
        "      #print(filename)\n",
        "      f = open(filename, 'a')\n",
        "      df.to_csv(f)\n",
        "      i=i+1\n",
        "      #print('file written')\n",
        "      f.close()\n",
        "except HTTPError:\n",
        "  pass"
      ],
      "metadata": {
        "colab": {
          "base_uri": "https://localhost:8080/"
        },
        "id": "mdBWxdhC4XvP",
        "outputId": "dd6501c1-7de7-46ca-ab9d-87fae9a6eeb8"
      },
      "execution_count": 77,
      "outputs": [
        {
          "output_type": "stream",
          "name": "stdout",
          "text": [
            "The new directory is created! /content/niftyTRY/WELSPUNIND/\n",
            "The new directory is created! /content/niftyTRY/WESTLIFE/\n",
            "The new directory is created! /content/niftyTRY/WHIRLPOOL/\n",
            "The new directory is created! /content/niftyTRY/WIPRO/\n",
            "The new directory is created! /content/niftyTRY/WOCKPHARMA/\n",
            "The new directory is created! /content/niftyTRY/YESBANK/\n",
            "The new directory is created! /content/niftyTRY/ZEEL/\n",
            "The new directory is created! /content/niftyTRY/ZENSARTECH/\n",
            "The new directory is created! /content/niftyTRY/ZYDUSWELL/\n",
            "The new directory is created! /content/niftyTRY/ECLERX/\n"
          ]
        }
      ]
    },
    {
      "cell_type": "code",
      "source": [
        "pd.read_csv('/content/niftyTRY/3MINDIA/_str(0)',index_col=1).T[1:]"
      ],
      "metadata": {
        "colab": {
          "base_uri": "https://localhost:8080/",
          "height": 480
        },
        "id": "uSoShP1V46lu",
        "outputId": "f6b8632c-44b5-479e-f7a7-686160308b41"
      },
      "execution_count": 95,
      "outputs": [
        {
          "output_type": "execute_result",
          "data": {
            "text/html": [
              "<div>\n",
              "<style scoped>\n",
              "    .dataframe tbody tr th:only-of-type {\n",
              "        vertical-align: middle;\n",
              "    }\n",
              "\n",
              "    .dataframe tbody tr th {\n",
              "        vertical-align: top;\n",
              "    }\n",
              "\n",
              "    .dataframe thead th {\n",
              "        text-align: right;\n",
              "    }\n",
              "</style>\n",
              "<table border=\"1\" class=\"dataframe\">\n",
              "  <thead>\n",
              "    <tr style=\"text-align: right;\">\n",
              "      <th>Unnamed: 0.1</th>\n",
              "      <th>Sales +</th>\n",
              "      <th>Expenses +</th>\n",
              "      <th>Operating Profit</th>\n",
              "      <th>OPM %</th>\n",
              "      <th>Other Income</th>\n",
              "      <th>Interest</th>\n",
              "      <th>Depreciation</th>\n",
              "      <th>Profit before tax</th>\n",
              "      <th>Tax %</th>\n",
              "      <th>Net Profit</th>\n",
              "      <th>EPS in Rs</th>\n",
              "      <th>Raw PDF</th>\n",
              "    </tr>\n",
              "  </thead>\n",
              "  <tbody>\n",
              "    <tr>\n",
              "      <th>Dec 2018</th>\n",
              "      <td>792</td>\n",
              "      <td>624</td>\n",
              "      <td>167</td>\n",
              "      <td>21%</td>\n",
              "      <td>13</td>\n",
              "      <td>0</td>\n",
              "      <td>11</td>\n",
              "      <td>169</td>\n",
              "      <td>35%</td>\n",
              "      <td>110</td>\n",
              "      <td>97.82</td>\n",
              "      <td>NaN</td>\n",
              "    </tr>\n",
              "    <tr>\n",
              "      <th>Mar 2019</th>\n",
              "      <td>743</td>\n",
              "      <td>640</td>\n",
              "      <td>103</td>\n",
              "      <td>14%</td>\n",
              "      <td>2</td>\n",
              "      <td>1</td>\n",
              "      <td>11</td>\n",
              "      <td>94</td>\n",
              "      <td>36%</td>\n",
              "      <td>60</td>\n",
              "      <td>53.55</td>\n",
              "      <td>NaN</td>\n",
              "    </tr>\n",
              "    <tr>\n",
              "      <th>Jun 2019</th>\n",
              "      <td>804</td>\n",
              "      <td>656</td>\n",
              "      <td>148</td>\n",
              "      <td>18%</td>\n",
              "      <td>6</td>\n",
              "      <td>1</td>\n",
              "      <td>15</td>\n",
              "      <td>139</td>\n",
              "      <td>35%</td>\n",
              "      <td>90</td>\n",
              "      <td>80.01</td>\n",
              "      <td>NaN</td>\n",
              "    </tr>\n",
              "    <tr>\n",
              "      <th>Sep 2019</th>\n",
              "      <td>764</td>\n",
              "      <td>634</td>\n",
              "      <td>130</td>\n",
              "      <td>17%</td>\n",
              "      <td>11</td>\n",
              "      <td>1</td>\n",
              "      <td>14</td>\n",
              "      <td>126</td>\n",
              "      <td>20%</td>\n",
              "      <td>100</td>\n",
              "      <td>88.78</td>\n",
              "      <td>NaN</td>\n",
              "    </tr>\n",
              "    <tr>\n",
              "      <th>Dec 2019</th>\n",
              "      <td>745</td>\n",
              "      <td>648</td>\n",
              "      <td>98</td>\n",
              "      <td>13%</td>\n",
              "      <td>14</td>\n",
              "      <td>1</td>\n",
              "      <td>15</td>\n",
              "      <td>96</td>\n",
              "      <td>25%</td>\n",
              "      <td>72</td>\n",
              "      <td>63.84</td>\n",
              "      <td>NaN</td>\n",
              "    </tr>\n",
              "    <tr>\n",
              "      <th>Mar 2020</th>\n",
              "      <td>673</td>\n",
              "      <td>597</td>\n",
              "      <td>76</td>\n",
              "      <td>11%</td>\n",
              "      <td>12</td>\n",
              "      <td>1</td>\n",
              "      <td>16</td>\n",
              "      <td>72</td>\n",
              "      <td>16%</td>\n",
              "      <td>60</td>\n",
              "      <td>53.36</td>\n",
              "      <td>NaN</td>\n",
              "    </tr>\n",
              "    <tr>\n",
              "      <th>Jun 2020</th>\n",
              "      <td>346</td>\n",
              "      <td>395</td>\n",
              "      <td>-48</td>\n",
              "      <td>-14%</td>\n",
              "      <td>6</td>\n",
              "      <td>1</td>\n",
              "      <td>15</td>\n",
              "      <td>-58</td>\n",
              "      <td>26%</td>\n",
              "      <td>-43</td>\n",
              "      <td>-37.74</td>\n",
              "      <td>NaN</td>\n",
              "    </tr>\n",
              "    <tr>\n",
              "      <th>Sep 2020</th>\n",
              "      <td>690</td>\n",
              "      <td>577</td>\n",
              "      <td>113</td>\n",
              "      <td>16%</td>\n",
              "      <td>6</td>\n",
              "      <td>0</td>\n",
              "      <td>17</td>\n",
              "      <td>102</td>\n",
              "      <td>27%</td>\n",
              "      <td>75</td>\n",
              "      <td>66.61</td>\n",
              "      <td>NaN</td>\n",
              "    </tr>\n",
              "    <tr>\n",
              "      <th>Dec 2020</th>\n",
              "      <td>741</td>\n",
              "      <td>650</td>\n",
              "      <td>92</td>\n",
              "      <td>12%</td>\n",
              "      <td>6</td>\n",
              "      <td>1</td>\n",
              "      <td>16</td>\n",
              "      <td>81</td>\n",
              "      <td>26%</td>\n",
              "      <td>59</td>\n",
              "      <td>52.72</td>\n",
              "      <td>NaN</td>\n",
              "    </tr>\n",
              "    <tr>\n",
              "      <th>Mar 2021</th>\n",
              "      <td>827</td>\n",
              "      <td>725</td>\n",
              "      <td>102</td>\n",
              "      <td>12%</td>\n",
              "      <td>7</td>\n",
              "      <td>0</td>\n",
              "      <td>14</td>\n",
              "      <td>95</td>\n",
              "      <td>26%</td>\n",
              "      <td>70</td>\n",
              "      <td>62.56</td>\n",
              "      <td>NaN</td>\n",
              "    </tr>\n",
              "    <tr>\n",
              "      <th>Jun 2021</th>\n",
              "      <td>744</td>\n",
              "      <td>696</td>\n",
              "      <td>48</td>\n",
              "      <td>6%</td>\n",
              "      <td>8</td>\n",
              "      <td>1</td>\n",
              "      <td>15</td>\n",
              "      <td>41</td>\n",
              "      <td>26%</td>\n",
              "      <td>30</td>\n",
              "      <td>26.72</td>\n",
              "      <td>NaN</td>\n",
              "    </tr>\n",
              "    <tr>\n",
              "      <th>Sep 2021</th>\n",
              "      <td>840</td>\n",
              "      <td>748</td>\n",
              "      <td>92</td>\n",
              "      <td>11%</td>\n",
              "      <td>8</td>\n",
              "      <td>1</td>\n",
              "      <td>13</td>\n",
              "      <td>87</td>\n",
              "      <td>26%</td>\n",
              "      <td>64</td>\n",
              "      <td>57.01</td>\n",
              "      <td>NaN</td>\n",
              "    </tr>\n",
              "  </tbody>\n",
              "</table>\n",
              "</div>"
            ],
            "text/plain": [
              "Unnamed: 0.1 Sales + Expenses + Operating Profit  ... Net Profit EPS in Rs Raw PDF\n",
              "Dec 2018         792        624              167  ...        110     97.82     NaN\n",
              "Mar 2019         743        640              103  ...         60     53.55     NaN\n",
              "Jun 2019         804        656              148  ...         90     80.01     NaN\n",
              "Sep 2019         764        634              130  ...        100     88.78     NaN\n",
              "Dec 2019         745        648               98  ...         72     63.84     NaN\n",
              "Mar 2020         673        597               76  ...         60     53.36     NaN\n",
              "Jun 2020         346        395              -48  ...        -43    -37.74     NaN\n",
              "Sep 2020         690        577              113  ...         75     66.61     NaN\n",
              "Dec 2020         741        650               92  ...         59     52.72     NaN\n",
              "Mar 2021         827        725              102  ...         70     62.56     NaN\n",
              "Jun 2021         744        696               48  ...         30     26.72     NaN\n",
              "Sep 2021         840        748               92  ...         64     57.01     NaN\n",
              "\n",
              "[12 rows x 12 columns]"
            ]
          },
          "metadata": {},
          "execution_count": 95
        }
      ]
    },
    {
      "cell_type": "code",
      "source": [
        "import shutil\n",
        "shutil.make_archive('/content/niftyTRY', 'zip', '/content/niftyTRY')"
      ],
      "metadata": {
        "colab": {
          "base_uri": "https://localhost:8080/",
          "height": 35
        },
        "id": "uCBhDmEY5Rt9",
        "outputId": "acc4a8af-198a-4b95-bcfb-375a478038fb"
      },
      "execution_count": 79,
      "outputs": [
        {
          "output_type": "execute_result",
          "data": {
            "application/vnd.google.colaboratory.intrinsic+json": {
              "type": "string"
            },
            "text/plain": [
              "'/content/niftyTRY.zip'"
            ]
          },
          "metadata": {},
          "execution_count": 79
        }
      ]
    }
  ]
}