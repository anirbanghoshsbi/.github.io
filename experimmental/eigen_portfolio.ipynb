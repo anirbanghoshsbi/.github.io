{
  "cells": [
    {
      "cell_type": "markdown",
      "metadata": {
        "id": "view-in-github",
        "colab_type": "text"
      },
      "source": [
        "<a href=\"https://colab.research.google.com/github/anirbanghoshsbi/.github.io/blob/master/experimmental/eigen_portfolio.ipynb\" target=\"_parent\"><img src=\"https://colab.research.google.com/assets/colab-badge.svg\" alt=\"Open In Colab\"/></a>"
      ]
    },
    {
      "cell_type": "code",
      "source": [
        "#!pip install quandl"
      ],
      "metadata": {
        "id": "NqgDoa4RPw73"
      },
      "execution_count": null,
      "outputs": []
    },
    {
      "cell_type": "code",
      "execution_count": 17,
      "metadata": {
        "id": "wnrj6RVAPuWb"
      },
      "outputs": [],
      "source": [
        "import quandl\n",
        "import math\n",
        "import pandas as pd\n",
        "import numpy as np\n",
        "import datetime as dt\n",
        "import matplotlib.pyplot as plt\n",
        "%matplotlib inline\n",
        "from matplotlib import style\n",
        "import seaborn as sns\n",
        "from scipy.stats import randint as sp_randint\n",
        "from quandl.errors.quandl_error import NotFoundError\n",
        "from sklearn.decomposition import PCA"
      ]
    },
    {
      "cell_type": "code",
      "source": [
        "def download_from_BSE(datadump,startdate):\n",
        "    data= {}\n",
        "    df=pd.DataFrame()\n",
        "    \n",
        "    print(f'len of datadump {len(datadump)}')\n",
        "    try:\n",
        "      for i in range(len(datadump)):\n",
        "          data[datadump[i]]= quandl.get('BSE/BOM'+datadump[i],start_date=startdate, authtoken=\"1Mz3xLNFNdUpKENCkArB\")['Close']\n",
        "          \n",
        "          \n",
        "      i=0\n",
        "      for key , value in data.items():\n",
        "        df.insert(i, key, value)\n",
        "        i=i+1\n",
        "    except NotFoundError:\n",
        "      print('Not Found')\n",
        "\n",
        "    return df"
      ],
      "metadata": {
        "id": "5pEzsmsiQoo2"
      },
      "execution_count": 18,
      "outputs": []
    },
    {
      "cell_type": "code",
      "source": [
        "def get_bse_sector_list(data):\n",
        "\n",
        " \n",
        "  url_github='https://raw.githubusercontent.com/anirbanghoshsbi/data/main/'\n",
        "  files= {1:'LargeCap.csv',2:'MidCap.csv',3:'SmallCap.csv'}\n",
        "  if data=='LargeCap':\n",
        "    url=url_github+files[1]\n",
        "  if data=='MidCap':\n",
        "    url=url_github+files[2]\n",
        "  if data == 'SmallCap':\n",
        "    url=url_github+files[3]\n",
        "  #if data=='Energy':\n",
        "  #  url =url_github+files[9]\n",
        "  dataframe = pd.read_csv(url,sep=',') \n",
        "  scrip_code=dataframe['Scrip Code'].tolist()\n",
        "  scrip_code = [str(i) for i in scrip_code]\n",
        "  return scrip_code"
      ],
      "metadata": {
        "id": "E1R80wkCQwBU"
      },
      "execution_count": 19,
      "outputs": []
    },
    {
      "cell_type": "code",
      "source": [
        "#@title Rejected Scrips\n",
        "rejectlst= ['543253','543213','543210','543233','543252','543249','543212','543242','543248','543066','543232','542759','543223','543238',\\\n",
        "            '543243','543235','543245','543220','543237','543240','543227','543228','543066',\\\n",
        "            ]"
      ],
      "metadata": {
        "id": "dk80CHL8QsK0"
      },
      "execution_count": 20,
      "outputs": []
    },
    {
      "cell_type": "code",
      "source": [
        "data='LargeCap'\n",
        "startdate='2019-01-01'"
      ],
      "metadata": {
        "id": "Ft3CoGqnRZlW"
      },
      "execution_count": 21,
      "outputs": []
    },
    {
      "cell_type": "code",
      "source": [
        "datadump=get_bse_sector_list(data)\n",
        "datadump=[i for i in datadump if i not in rejectlst]\n",
        "data=download_from_BSE(datadump,startdate)\n",
        "data_copy=data.copy()\n",
        "print(data.shape)"
      ],
      "metadata": {
        "id": "g2bye6ALQ8IX",
        "outputId": "0e21b313-5839-46db-a825-d594438b26ac",
        "colab": {
          "base_uri": "https://localhost:8080/"
        }
      },
      "execution_count": 22,
      "outputs": [
        {
          "output_type": "stream",
          "name": "stdout",
          "text": [
            "len of datadump 80\n",
            "(743, 80)\n"
          ]
        }
      ]
    },
    {
      "cell_type": "code",
      "source": [
        "data_copy.tail(2)"
      ],
      "metadata": {
        "id": "WL-wwtL7Q_O1",
        "outputId": "03694050-67f5-4357-c080-38777d276971",
        "colab": {
          "base_uri": "https://localhost:8080/",
          "height": 242
        }
      },
      "execution_count": 40,
      "outputs": [
        {
          "output_type": "execute_result",
          "data": {
            "text/html": [
              "\n",
              "  <div id=\"df-357741e1-909a-4dea-9316-032051a5313a\">\n",
              "    <div class=\"colab-df-container\">\n",
              "      <div>\n",
              "<style scoped>\n",
              "    .dataframe tbody tr th:only-of-type {\n",
              "        vertical-align: middle;\n",
              "    }\n",
              "\n",
              "    .dataframe tbody tr th {\n",
              "        vertical-align: top;\n",
              "    }\n",
              "\n",
              "    .dataframe thead th {\n",
              "        text-align: right;\n",
              "    }\n",
              "</style>\n",
              "<table border=\"1\" class=\"dataframe\">\n",
              "  <thead>\n",
              "    <tr style=\"text-align: right;\">\n",
              "      <th></th>\n",
              "      <th>500325</th>\n",
              "      <th>532454</th>\n",
              "      <th>532488</th>\n",
              "      <th>500470</th>\n",
              "      <th>532538</th>\n",
              "      <th>500875</th>\n",
              "      <th>500510</th>\n",
              "      <th>517354</th>\n",
              "      <th>532898</th>\n",
              "      <th>500302</th>\n",
              "      <th>526371</th>\n",
              "      <th>534816</th>\n",
              "      <th>500440</th>\n",
              "      <th>500300</th>\n",
              "      <th>524804</th>\n",
              "      <th>524715</th>\n",
              "      <th>532868</th>\n",
              "      <th>500180</th>\n",
              "      <th>540376</th>\n",
              "      <th>500820</th>\n",
              "      <th>500257</th>\n",
              "      <th>500228</th>\n",
              "      <th>500295</th>\n",
              "      <th>540777</th>\n",
              "      <th>507685</th>\n",
              "      <th>500182</th>\n",
              "      <th>517334</th>\n",
              "      <th>500570</th>\n",
              "      <th>500087</th>\n",
              "      <th>500696</th>\n",
              "      <th>540133</th>\n",
              "      <th>500124</th>\n",
              "      <th>532461</th>\n",
              "      <th>532424</th>\n",
              "      <th>500790</th>\n",
              "      <th>532321</th>\n",
              "      <th>500104</th>\n",
              "      <th>500547</th>\n",
              "      <th>532155</th>\n",
              "      <th>532522</th>\n",
              "      <th>512070</th>\n",
              "      <th>500034</th>\n",
              "      <th>500247</th>\n",
              "      <th>540755</th>\n",
              "      <th>541729</th>\n",
              "      <th>570001</th>\n",
              "      <th>500520</th>\n",
              "      <th>532500</th>\n",
              "      <th>530965</th>\n",
              "      <th>500312</th>\n",
              "      <th>500331</th>\n",
              "      <th>500530</th>\n",
              "      <th>540719</th>\n",
              "      <th>500188</th>\n",
              "      <th>532977</th>\n",
              "      <th>539448</th>\n",
              "      <th>500425</th>\n",
              "      <th>500550</th>\n",
              "      <th>500825</th>\n",
              "      <th>500096</th>\n",
              "      <th>533278</th>\n",
              "      <th>500114</th>\n",
              "      <th>532134</th>\n",
              "      <th>500387</th>\n",
              "      <th>531642</th>\n",
              "      <th>500010</th>\n",
              "      <th>500112</th>\n",
              "      <th>532755</th>\n",
              "      <th>540716</th>\n",
              "      <th>532555</th>\n",
              "      <th>532187</th>\n",
              "      <th>505200</th>\n",
              "      <th>532540</th>\n",
              "      <th>541153</th>\n",
              "      <th>532215</th>\n",
              "      <th>532921</th>\n",
              "      <th>532978</th>\n",
              "      <th>532281</th>\n",
              "      <th>532174</th>\n",
              "      <th>500209</th>\n",
              "    </tr>\n",
              "    <tr>\n",
              "      <th>Date</th>\n",
              "      <th></th>\n",
              "      <th></th>\n",
              "      <th></th>\n",
              "      <th></th>\n",
              "      <th></th>\n",
              "      <th></th>\n",
              "      <th></th>\n",
              "      <th></th>\n",
              "      <th></th>\n",
              "      <th></th>\n",
              "      <th></th>\n",
              "      <th></th>\n",
              "      <th></th>\n",
              "      <th></th>\n",
              "      <th></th>\n",
              "      <th></th>\n",
              "      <th></th>\n",
              "      <th></th>\n",
              "      <th></th>\n",
              "      <th></th>\n",
              "      <th></th>\n",
              "      <th></th>\n",
              "      <th></th>\n",
              "      <th></th>\n",
              "      <th></th>\n",
              "      <th></th>\n",
              "      <th></th>\n",
              "      <th></th>\n",
              "      <th></th>\n",
              "      <th></th>\n",
              "      <th></th>\n",
              "      <th></th>\n",
              "      <th></th>\n",
              "      <th></th>\n",
              "      <th></th>\n",
              "      <th></th>\n",
              "      <th></th>\n",
              "      <th></th>\n",
              "      <th></th>\n",
              "      <th></th>\n",
              "      <th></th>\n",
              "      <th></th>\n",
              "      <th></th>\n",
              "      <th></th>\n",
              "      <th></th>\n",
              "      <th></th>\n",
              "      <th></th>\n",
              "      <th></th>\n",
              "      <th></th>\n",
              "      <th></th>\n",
              "      <th></th>\n",
              "      <th></th>\n",
              "      <th></th>\n",
              "      <th></th>\n",
              "      <th></th>\n",
              "      <th></th>\n",
              "      <th></th>\n",
              "      <th></th>\n",
              "      <th></th>\n",
              "      <th></th>\n",
              "      <th></th>\n",
              "      <th></th>\n",
              "      <th></th>\n",
              "      <th></th>\n",
              "      <th></th>\n",
              "      <th></th>\n",
              "      <th></th>\n",
              "      <th></th>\n",
              "      <th></th>\n",
              "      <th></th>\n",
              "      <th></th>\n",
              "      <th></th>\n",
              "      <th></th>\n",
              "      <th></th>\n",
              "      <th></th>\n",
              "      <th></th>\n",
              "      <th></th>\n",
              "      <th></th>\n",
              "      <th></th>\n",
              "      <th></th>\n",
              "    </tr>\n",
              "  </thead>\n",
              "  <tbody>\n",
              "    <tr>\n",
              "      <th>2021-12-28</th>\n",
              "      <td>2397.70</td>\n",
              "      <td>680.05</td>\n",
              "      <td>4524.70</td>\n",
              "      <td>1127.4</td>\n",
              "      <td>7405.20</td>\n",
              "      <td>219.95</td>\n",
              "      <td>1899.40</td>\n",
              "      <td>1400.00</td>\n",
              "      <td>205.45</td>\n",
              "      <td>2599.00</td>\n",
              "      <td>132.7</td>\n",
              "      <td>247.65</td>\n",
              "      <td>457.8</td>\n",
              "      <td>1621.4</td>\n",
              "      <td>725.15</td>\n",
              "      <td>815.0</td>\n",
              "      <td>385.75</td>\n",
              "      <td>1460.90</td>\n",
              "      <td>4722.05</td>\n",
              "      <td>3367.15</td>\n",
              "      <td>916.7</td>\n",
              "      <td>658.0</td>\n",
              "      <td>344.9</td>\n",
              "      <td>642.15</td>\n",
              "      <td>705.4</td>\n",
              "      <td>2418.35</td>\n",
              "      <td>218.1</td>\n",
              "      <td>480.1</td>\n",
              "      <td>933.40</td>\n",
              "      <td>2310.20</td>\n",
              "      <td>563.75</td>\n",
              "      <td>4743.40</td>\n",
              "      <td>37.20</td>\n",
              "      <td>968.1</td>\n",
              "      <td>19353.10</td>\n",
              "      <td>458.10</td>\n",
              "      <td>294.3</td>\n",
              "      <td>380.40</td>\n",
              "      <td>133.05</td>\n",
              "      <td>217.35</td>\n",
              "      <td>762.1</td>\n",
              "      <td>6904.85</td>\n",
              "      <td>1775.65</td>\n",
              "      <td>135.80</td>\n",
              "      <td>2418.40</td>\n",
              "      <td>236.3</td>\n",
              "      <td>838.70</td>\n",
              "      <td>7297.1</td>\n",
              "      <td>112.25</td>\n",
              "      <td>139.45</td>\n",
              "      <td>2472.05</td>\n",
              "      <td>16695.35</td>\n",
              "      <td>1178.50</td>\n",
              "      <td>317.0</td>\n",
              "      <td>3176.5</td>\n",
              "      <td>2001.8</td>\n",
              "      <td>380.1</td>\n",
              "      <td>2405.25</td>\n",
              "      <td>3548.55</td>\n",
              "      <td>562.45</td>\n",
              "      <td>148.9</td>\n",
              "      <td>2380.30</td>\n",
              "      <td>80.80</td>\n",
              "      <td>26740.95</td>\n",
              "      <td>500.2</td>\n",
              "      <td>2566.60</td>\n",
              "      <td>460.95</td>\n",
              "      <td>1806.25</td>\n",
              "      <td>1387.85</td>\n",
              "      <td>124.15</td>\n",
              "      <td>852.70</td>\n",
              "      <td>2479.30</td>\n",
              "      <td>3707.30</td>\n",
              "      <td>253.65</td>\n",
              "      <td>675.4</td>\n",
              "      <td>729.10</td>\n",
              "      <td>16102.15</td>\n",
              "      <td>1284.3</td>\n",
              "      <td>736.05</td>\n",
              "      <td>1887.45</td>\n",
              "    </tr>\n",
              "    <tr>\n",
              "      <th>2021-12-29</th>\n",
              "      <td>2403.05</td>\n",
              "      <td>676.65</td>\n",
              "      <td>4619.75</td>\n",
              "      <td>1116.1</td>\n",
              "      <td>7427.55</td>\n",
              "      <td>216.80</td>\n",
              "      <td>1892.35</td>\n",
              "      <td>1393.55</td>\n",
              "      <td>204.35</td>\n",
              "      <td>2614.35</td>\n",
              "      <td>131.4</td>\n",
              "      <td>244.80</td>\n",
              "      <td>454.1</td>\n",
              "      <td>1603.3</td>\n",
              "      <td>726.65</td>\n",
              "      <td>838.3</td>\n",
              "      <td>385.65</td>\n",
              "      <td>1453.65</td>\n",
              "      <td>4682.25</td>\n",
              "      <td>3369.00</td>\n",
              "      <td>928.9</td>\n",
              "      <td>655.5</td>\n",
              "      <td>339.4</td>\n",
              "      <td>644.55</td>\n",
              "      <td>703.4</td>\n",
              "      <td>2435.80</td>\n",
              "      <td>218.4</td>\n",
              "      <td>475.8</td>\n",
              "      <td>935.25</td>\n",
              "      <td>2307.25</td>\n",
              "      <td>555.30</td>\n",
              "      <td>4830.55</td>\n",
              "      <td>37.15</td>\n",
              "      <td>960.8</td>\n",
              "      <td>19404.05</td>\n",
              "      <td>469.45</td>\n",
              "      <td>292.3</td>\n",
              "      <td>381.45</td>\n",
              "      <td>132.30</td>\n",
              "      <td>217.10</td>\n",
              "      <td>758.1</td>\n",
              "      <td>6912.15</td>\n",
              "      <td>1764.65</td>\n",
              "      <td>134.95</td>\n",
              "      <td>2419.85</td>\n",
              "      <td>233.3</td>\n",
              "      <td>832.35</td>\n",
              "      <td>7344.6</td>\n",
              "      <td>111.50</td>\n",
              "      <td>138.85</td>\n",
              "      <td>2450.30</td>\n",
              "      <td>16656.55</td>\n",
              "      <td>1181.05</td>\n",
              "      <td>315.7</td>\n",
              "      <td>3262.4</td>\n",
              "      <td>2009.3</td>\n",
              "      <td>375.5</td>\n",
              "      <td>2380.05</td>\n",
              "      <td>3556.05</td>\n",
              "      <td>566.70</td>\n",
              "      <td>146.8</td>\n",
              "      <td>2401.55</td>\n",
              "      <td>80.95</td>\n",
              "      <td>26660.15</td>\n",
              "      <td>502.6</td>\n",
              "      <td>2563.05</td>\n",
              "      <td>454.25</td>\n",
              "      <td>1786.65</td>\n",
              "      <td>1382.75</td>\n",
              "      <td>123.05</td>\n",
              "      <td>869.65</td>\n",
              "      <td>2562.45</td>\n",
              "      <td>3693.15</td>\n",
              "      <td>250.05</td>\n",
              "      <td>670.3</td>\n",
              "      <td>722.65</td>\n",
              "      <td>16241.75</td>\n",
              "      <td>1292.0</td>\n",
              "      <td>735.65</td>\n",
              "      <td>1885.05</td>\n",
              "    </tr>\n",
              "  </tbody>\n",
              "</table>\n",
              "</div>\n",
              "      <button class=\"colab-df-convert\" onclick=\"convertToInteractive('df-357741e1-909a-4dea-9316-032051a5313a')\"\n",
              "              title=\"Convert this dataframe to an interactive table.\"\n",
              "              style=\"display:none;\">\n",
              "        \n",
              "  <svg xmlns=\"http://www.w3.org/2000/svg\" height=\"24px\"viewBox=\"0 0 24 24\"\n",
              "       width=\"24px\">\n",
              "    <path d=\"M0 0h24v24H0V0z\" fill=\"none\"/>\n",
              "    <path d=\"M18.56 5.44l.94 2.06.94-2.06 2.06-.94-2.06-.94-.94-2.06-.94 2.06-2.06.94zm-11 1L8.5 8.5l.94-2.06 2.06-.94-2.06-.94L8.5 2.5l-.94 2.06-2.06.94zm10 10l.94 2.06.94-2.06 2.06-.94-2.06-.94-.94-2.06-.94 2.06-2.06.94z\"/><path d=\"M17.41 7.96l-1.37-1.37c-.4-.4-.92-.59-1.43-.59-.52 0-1.04.2-1.43.59L10.3 9.45l-7.72 7.72c-.78.78-.78 2.05 0 2.83L4 21.41c.39.39.9.59 1.41.59.51 0 1.02-.2 1.41-.59l7.78-7.78 2.81-2.81c.8-.78.8-2.07 0-2.86zM5.41 20L4 18.59l7.72-7.72 1.47 1.35L5.41 20z\"/>\n",
              "  </svg>\n",
              "      </button>\n",
              "      \n",
              "  <style>\n",
              "    .colab-df-container {\n",
              "      display:flex;\n",
              "      flex-wrap:wrap;\n",
              "      gap: 12px;\n",
              "    }\n",
              "\n",
              "    .colab-df-convert {\n",
              "      background-color: #E8F0FE;\n",
              "      border: none;\n",
              "      border-radius: 50%;\n",
              "      cursor: pointer;\n",
              "      display: none;\n",
              "      fill: #1967D2;\n",
              "      height: 32px;\n",
              "      padding: 0 0 0 0;\n",
              "      width: 32px;\n",
              "    }\n",
              "\n",
              "    .colab-df-convert:hover {\n",
              "      background-color: #E2EBFA;\n",
              "      box-shadow: 0px 1px 2px rgba(60, 64, 67, 0.3), 0px 1px 3px 1px rgba(60, 64, 67, 0.15);\n",
              "      fill: #174EA6;\n",
              "    }\n",
              "\n",
              "    [theme=dark] .colab-df-convert {\n",
              "      background-color: #3B4455;\n",
              "      fill: #D2E3FC;\n",
              "    }\n",
              "\n",
              "    [theme=dark] .colab-df-convert:hover {\n",
              "      background-color: #434B5C;\n",
              "      box-shadow: 0px 1px 3px 1px rgba(0, 0, 0, 0.15);\n",
              "      filter: drop-shadow(0px 1px 2px rgba(0, 0, 0, 0.3));\n",
              "      fill: #FFFFFF;\n",
              "    }\n",
              "  </style>\n",
              "\n",
              "      <script>\n",
              "        const buttonEl =\n",
              "          document.querySelector('#df-357741e1-909a-4dea-9316-032051a5313a button.colab-df-convert');\n",
              "        buttonEl.style.display =\n",
              "          google.colab.kernel.accessAllowed ? 'block' : 'none';\n",
              "\n",
              "        async function convertToInteractive(key) {\n",
              "          const element = document.querySelector('#df-357741e1-909a-4dea-9316-032051a5313a');\n",
              "          const dataTable =\n",
              "            await google.colab.kernel.invokeFunction('convertToInteractive',\n",
              "                                                     [key], {});\n",
              "          if (!dataTable) return;\n",
              "\n",
              "          const docLinkHtml = 'Like what you see? Visit the ' +\n",
              "            '<a target=\"_blank\" href=https://colab.research.google.com/notebooks/data_table.ipynb>data table notebook</a>'\n",
              "            + ' to learn more about interactive tables.';\n",
              "          element.innerHTML = '';\n",
              "          dataTable['output_type'] = 'display_data';\n",
              "          await google.colab.output.renderOutput(dataTable, element);\n",
              "          const docLink = document.createElement('div');\n",
              "          docLink.innerHTML = docLinkHtml;\n",
              "          element.appendChild(docLink);\n",
              "        }\n",
              "      </script>\n",
              "    </div>\n",
              "  </div>\n",
              "  "
            ],
            "text/plain": [
              "             500325  532454   532488  500470  ...    532978  532281  532174   500209\n",
              "Date                                          ...                                   \n",
              "2021-12-28  2397.70  680.05  4524.70  1127.4  ...  16102.15  1284.3  736.05  1887.45\n",
              "2021-12-29  2403.05  676.65  4619.75  1116.1  ...  16241.75  1292.0  735.65  1885.05\n",
              "\n",
              "[2 rows x 80 columns]"
            ]
          },
          "metadata": {},
          "execution_count": 40
        }
      ]
    },
    {
      "cell_type": "code",
      "execution_count": 23,
      "metadata": {
        "id": "xjOjT-DOPuWi"
      },
      "outputs": [],
      "source": [
        "style.use(\"ggplot\")"
      ]
    },
    {
      "cell_type": "code",
      "execution_count": 24,
      "metadata": {
        "id": "6ki6_e1LPuWo"
      },
      "outputs": [],
      "source": [
        "# Daily Linear Returns (%)\n",
        "datareturns = data.pct_change(1)"
      ]
    },
    {
      "cell_type": "code",
      "execution_count": 25,
      "metadata": {
        "id": "HIGz6SJBPuWp"
      },
      "outputs": [],
      "source": [
        "# Data Raw\n",
        "data_raw = datareturns\n",
        "data_raw.dropna(how='all', inplace=True)"
      ]
    },
    {
      "cell_type": "code",
      "execution_count": 26,
      "metadata": {
        "id": "lEfrwUT2PuWp"
      },
      "outputs": [],
      "source": [
        "# Normalizing the Log returns\n",
        "data = (data_raw - data_raw.mean()) / data_raw.std()\n",
        "\n",
        "# Getting rid of the NaN values.\n",
        "data.dropna(how='any', inplace=True)\n",
        "data_raw.dropna(how='any', inplace=True)"
      ]
    },
    {
      "cell_type": "code",
      "execution_count": 28,
      "metadata": {
        "id": "5p5WMWhUPuWr",
        "outputId": "da87eccd-f90a-49b5-ce2a-2bd2c72bbc9a",
        "colab": {
          "base_uri": "https://localhost:8080/",
          "height": 354
        }
      },
      "outputs": [
        {
          "output_type": "stream",
          "name": "stderr",
          "text": [
            "No handles with labels found to put in legend.\n"
          ]
        },
        {
          "output_type": "display_data",
          "data": {
            "image/png": "[encoded data removed]",
            "text/plain": [
              "<Figure size 1152x360 with 1 Axes>"
            ]
          },
          "metadata": {}
        }
      ],
      "source": [
        "# Visualizing Log Returns for the DJIA \n",
        "plt.figure(figsize=(16, 5))\n",
        "plt.title(\"Nifty Large Cap Linear Returns (%)\")\n",
        "#data.DJIA.plot()\n",
        "plt.grid(True);\n",
        "plt.legend()\n",
        "plt.show()"
      ]
    },
    {
      "cell_type": "code",
      "execution_count": 41,
      "metadata": {
        "id": "38CTSPkqPuWt"
      },
      "outputs": [],
      "source": [
        "# Taking away the market benchmark DJIA\n",
        "stock_tickers = data.columns.values\n",
        "n_tickers = len(stock_tickers)"
      ]
    },
    {
      "cell_type": "code",
      "source": [
        "n_tickers"
      ],
      "metadata": {
        "id": "DPULqituSNuF",
        "outputId": "5eb0d189-6d85-4e8e-d099-a68c2ec27b12",
        "colab": {
          "base_uri": "https://localhost:8080/"
        }
      },
      "execution_count": 42,
      "outputs": [
        {
          "output_type": "execute_result",
          "data": {
            "text/plain": [
              "80"
            ]
          },
          "metadata": {},
          "execution_count": 42
        }
      ]
    },
    {
      "cell_type": "code",
      "execution_count": 43,
      "metadata": {
        "id": "asSvi8JtPuWu"
      },
      "outputs": [],
      "source": [
        "# Dividing the dataset into training and testing sets\n",
        "percentage = int(len(data) * 0.8)\n",
        "X_train = data[:percentage]\n",
        "X_test = data[percentage:]\n",
        "\n",
        "X_train_raw = data_raw[:percentage]\n",
        "X_test_raw = data_raw[percentage:]"
      ]
    },
    {
      "cell_type": "code",
      "execution_count": 44,
      "metadata": {
        "id": "1UgEVb2gPuWv",
        "outputId": "dde11905-c02b-42f0-edaa-16d1bba66e36",
        "colab": {
          "base_uri": "https://localhost:8080/"
        }
      },
      "outputs": [
        {
          "output_type": "execute_result",
          "data": {
            "text/plain": [
              "PCA()"
            ]
          },
          "metadata": {},
          "execution_count": 44
        }
      ],
      "source": [
        "# Applying Principle Component Analysis\n",
        "# Creating covariance matrix and training data on PCA.\n",
        "cov_matrix = X_train.loc[:,X_train.columns != 'DJIA'].cov()\n",
        "pca = PCA()\n",
        "pca.fit(cov_matrix)"
      ]
    },
    {
      "cell_type": "code",
      "execution_count": 45,
      "metadata": {
        "id": "mbs1-a2uPuWv",
        "outputId": "8b1d9802-841d-48bb-ba49-fa14a366718d",
        "colab": {
          "base_uri": "https://localhost:8080/",
          "height": 322
        }
      },
      "outputs": [
        {
          "output_type": "stream",
          "name": "stdout",
          "text": [
            "31 principal components explain 95.00% of variance\n"
          ]
        },
        {
          "output_type": "display_data",
          "data": {
            "image/png": "[encoded data removed]",
            "text/plain": [
              "<Figure size 432x288 with 1 Axes>"
            ]
          },
          "metadata": {}
        }
      ],
      "source": [
        "def plotPCA(plot=False):\n",
        "\n",
        "    # Visualizing Variance against number of principal components.\n",
        "    cov_matrix_raw = X_train_raw.loc[:,X_train_raw.columns != 'DJIA'].cov()\n",
        "\n",
        "    var_threshold = 0.95\n",
        "    var_explained = np.cumsum(pca.explained_variance_ratio_)\n",
        "    num_comp = np.where(np.logical_not(var_explained < var_threshold))[0][0] + 1  \n",
        "\n",
        "    if plot:\n",
        "        print('%d principal components explain %.2f%% of variance' %(num_comp, 100* var_threshold))\n",
        "\n",
        "        # PCA percent variance explained.\n",
        "        bar_width = 0.9\n",
        "        n_asset = stock_tickers.shape[0]\n",
        "        x_indx = np.arange(n_asset)\n",
        "        fig, ax = plt.subplots()\n",
        "\n",
        "        # Eigenvalues measured as percentage of explained variance.\n",
        "        rects = ax.bar(x_indx, pca.explained_variance_ratio_[:n_asset], bar_width)\n",
        "        ax.set_xticks(x_indx + bar_width / 2)\n",
        "        ax.set_xticklabels(list(range(n_asset)), rotation=45)\n",
        "        ax.set_title('Percent variance explained')\n",
        "        ax.set_ylabel('Explained Variance')\n",
        "        ax.set_xlabel('Principal Components')\n",
        "        plt.show()\n",
        "\n",
        "plotPCA(plot=True)"
      ]
    },
    {
      "cell_type": "code",
      "execution_count": 46,
      "metadata": {
        "id": "SP0cSEVHPuWw"
      },
      "outputs": [],
      "source": [
        "projected = pca.fit_transform(cov_matrix)\n",
        "pcs = pca.components_"
      ]
    },
    {
      "cell_type": "code",
      "execution_count": 47,
      "metadata": {
        "id": "Kt8iU1mwPuWw"
      },
      "outputs": [],
      "source": [
        "# Sharpe Ratio\n",
        "def sharpe_ratio(ts_returns, periods_per_year=252):\n",
        "    '''\n",
        "    Sharpe ratio is the average return earned in excess of the risk-free rate per unit of volatility or total risk.\n",
        "    It calculares the annualized return, annualized volatility, and annualized sharpe ratio.\n",
        "    \n",
        "    ts_returns are  returns of a signle eigen portfolio.\n",
        "    '''\n",
        "    n_years = ts_returns.shape[0]/periods_per_year\n",
        "    annualized_return = np.power(np.prod(1+ts_returns),(1/n_years))-1\n",
        "    annualized_vol = ts_returns.std() * np.sqrt(periods_per_year)\n",
        "    annualized_sharpe = annualized_return / annualized_vol\n",
        "\n",
        "    return annualized_return, annualized_vol, annualized_sharpe"
      ]
    },
    {
      "cell_type": "code",
      "execution_count": 48,
      "metadata": {
        "id": "7VYndCFiPuWx",
        "outputId": "6a3e1468-9554-4836-87d7-8e67cff9aec6",
        "colab": {
          "base_uri": "https://localhost:8080/",
          "height": 542
        }
      },
      "outputs": [
        {
          "output_type": "stream",
          "name": "stderr",
          "text": [
            "/usr/local/lib/python3.7/dist-packages/ipykernel_launcher.py:10: RuntimeWarning: invalid value encountered in power\n",
            "  # Remove the CWD from sys.path while we load stuff.\n"
          ]
        },
        {
          "output_type": "stream",
          "name": "stdout",
          "text": [
            "Eigen portfolio #42 with the highest Sharpe. Return nan%, vol = 697.65%, Sharpe = nan\n",
            "           Return         Vol         Sharpe\n",
            "27  2.182743e+266  425.130267  5.134293e+263\n",
            "31   3.674136e+01    1.408645   2.608277e+01\n",
            "6    4.328555e+01    2.470670   1.751976e+01\n",
            "15   2.821302e+00    0.631055   4.470769e+00\n",
            "13   1.709531e+00    0.398437   4.290593e+00\n",
            "45   1.681127e+00    0.441747   3.805635e+00\n",
            "7    1.402016e+00    0.484121   2.896006e+00\n",
            "22   2.847386e+00    1.043851   2.727771e+00\n",
            "19   1.238468e+00    0.468810   2.641730e+00\n",
            "37   8.934897e-01    0.383260   2.331291e+00\n"
          ]
        },
        {
          "output_type": "display_data",
          "data": {
            "image/png": "[encoded data removed]",
            "text/plain": [
              "<Figure size 864x288 with 1 Axes>"
            ]
          },
          "metadata": {}
        }
      ],
      "source": [
        "def optimizedPortfolio():\n",
        "    n_portfolios = len(pcs)\n",
        "    annualized_ret = np.array([0.] * n_portfolios)\n",
        "    sharpe_metric = np.array([0.] * n_portfolios)\n",
        "    annualized_vol = np.array([0.] * n_portfolios)\n",
        "    highest_sharpe = 0 \n",
        "\n",
        "    for i in range(n_portfolios):\n",
        "        \n",
        "        pc_w = pcs[:, i] / sum(pcs[:, i])\n",
        "        eigen_prtfi = pd.DataFrame(data ={'weights': pc_w.squeeze()*100}, index = stock_tickers[:80])\n",
        "        eigen_prtfi.sort_values(by=['weights'], ascending=False, inplace=True)\n",
        "        \n",
        "        eigen_prti_returns = np.dot(X_test_raw.loc[:, eigen_prtfi.index], eigen_prtfi / n_portfolios)\n",
        "        eigen_prti_returns = pd.Series(eigen_prti_returns.squeeze(), index=X_test.index)\n",
        "        er, vol, sharpe = sharpe_ratio(eigen_prti_returns)\n",
        "        annualized_ret[i] = er\n",
        "        annualized_vol[i] = vol\n",
        "        sharpe_metric[i] = sharpe\n",
        "\n",
        "    # find portfolio with the highest Sharpe ratio\n",
        "    highest_sharpe = np.argmax(sharpe_metric)\n",
        "\n",
        "    print('Eigen portfolio #%d with the highest Sharpe. Return %.2f%%, vol = %.2f%%, Sharpe = %.2f' % \n",
        "          (highest_sharpe,\n",
        "           annualized_ret[highest_sharpe]*100, \n",
        "           annualized_vol[highest_sharpe]*100, \n",
        "           sharpe_metric[highest_sharpe]))\n",
        "\n",
        "\n",
        "    fig, ax = plt.subplots()\n",
        "    fig.set_size_inches(12, 4)\n",
        "    ax.plot(sharpe_metric, linewidth=3)\n",
        "    ax.set_title('Sharpe ratio of eigen-portfolios')\n",
        "    ax.set_ylabel('Sharpe ratio')\n",
        "    ax.set_xlabel('Portfolios')\n",
        "\n",
        "    results = pd.DataFrame(data={'Return': annualized_ret, 'Vol': annualized_vol, 'Sharpe': sharpe_metric})\n",
        "    results.dropna(inplace=True)\n",
        "    results.sort_values(by=['Sharpe'], ascending=False, inplace=True)\n",
        "    print(results.head(10))\n",
        "\n",
        "    plt.show()\n",
        "\n",
        "optimizedPortfolio()"
      ]
    },
    {
      "cell_type": "code",
      "execution_count": 49,
      "metadata": {
        "id": "qzbY12UrPuWy",
        "outputId": "6acd2873-d3da-4920-f08a-6fc51c14d070",
        "colab": {
          "base_uri": "https://localhost:8080/",
          "height": 2243
        }
      },
      "outputs": [
        {
          "output_type": "stream",
          "name": "stdout",
          "text": [
            "Sum of weights of current eigen-portfolio: 100.00\n"
          ]
        },
        {
          "output_type": "display_data",
          "data": {
            "image/png": "[encoded data removed]",
            "text/plain": [
              "<Figure size 864x432 with 1 Axes>"
            ]
          },
          "metadata": {}
        },
        {
          "output_type": "execute_result",
          "data": {
            "text/html": [
              "\n",
              "  <div id=\"df-e7033c36-2b38-4d82-ab0e-26050bbeb5e4\">\n",
              "    <div class=\"colab-df-container\">\n",
              "      <div>\n",
              "<style scoped>\n",
              "    .dataframe tbody tr th:only-of-type {\n",
              "        vertical-align: middle;\n",
              "    }\n",
              "\n",
              "    .dataframe tbody tr th {\n",
              "        vertical-align: top;\n",
              "    }\n",
              "\n",
              "    .dataframe thead th {\n",
              "        text-align: right;\n",
              "    }\n",
              "</style>\n",
              "<table border=\"1\" class=\"dataframe\">\n",
              "  <thead>\n",
              "    <tr style=\"text-align: right;\">\n",
              "      <th></th>\n",
              "      <th>weights</th>\n",
              "    </tr>\n",
              "  </thead>\n",
              "  <tbody>\n",
              "    <tr>\n",
              "      <th>541153</th>\n",
              "      <td>73.727727</td>\n",
              "    </tr>\n",
              "    <tr>\n",
              "      <th>500550</th>\n",
              "      <td>63.631953</td>\n",
              "    </tr>\n",
              "    <tr>\n",
              "      <th>532215</th>\n",
              "      <td>58.737043</td>\n",
              "    </tr>\n",
              "    <tr>\n",
              "      <th>524715</th>\n",
              "      <td>46.215439</td>\n",
              "    </tr>\n",
              "    <tr>\n",
              "      <th>532921</th>\n",
              "      <td>45.987804</td>\n",
              "    </tr>\n",
              "    <tr>\n",
              "      <th>...</th>\n",
              "      <td>...</td>\n",
              "    </tr>\n",
              "    <tr>\n",
              "      <th>512070</th>\n",
              "      <td>-37.541410</td>\n",
              "    </tr>\n",
              "    <tr>\n",
              "      <th>540719</th>\n",
              "      <td>-40.173036</td>\n",
              "    </tr>\n",
              "    <tr>\n",
              "      <th>532187</th>\n",
              "      <td>-47.668342</td>\n",
              "    </tr>\n",
              "    <tr>\n",
              "      <th>500112</th>\n",
              "      <td>-51.526252</td>\n",
              "    </tr>\n",
              "    <tr>\n",
              "      <th>505200</th>\n",
              "      <td>-69.362615</td>\n",
              "    </tr>\n",
              "  </tbody>\n",
              "</table>\n",
              "<p>80 rows × 1 columns</p>\n",
              "</div>\n",
              "      <button class=\"colab-df-convert\" onclick=\"convertToInteractive('df-e7033c36-2b38-4d82-ab0e-26050bbeb5e4')\"\n",
              "              title=\"Convert this dataframe to an interactive table.\"\n",
              "              style=\"display:none;\">\n",
              "        \n",
              "  <svg xmlns=\"http://www.w3.org/2000/svg\" height=\"24px\"viewBox=\"0 0 24 24\"\n",
              "       width=\"24px\">\n",
              "    <path d=\"M0 0h24v24H0V0z\" fill=\"none\"/>\n",
              "    <path d=\"M18.56 5.44l.94 2.06.94-2.06 2.06-.94-2.06-.94-.94-2.06-.94 2.06-2.06.94zm-11 1L8.5 8.5l.94-2.06 2.06-.94-2.06-.94L8.5 2.5l-.94 2.06-2.06.94zm10 10l.94 2.06.94-2.06 2.06-.94-2.06-.94-.94-2.06-.94 2.06-2.06.94z\"/><path d=\"M17.41 7.96l-1.37-1.37c-.4-.4-.92-.59-1.43-.59-.52 0-1.04.2-1.43.59L10.3 9.45l-7.72 7.72c-.78.78-.78 2.05 0 2.83L4 21.41c.39.39.9.59 1.41.59.51 0 1.02-.2 1.41-.59l7.78-7.78 2.81-2.81c.8-.78.8-2.07 0-2.86zM5.41 20L4 18.59l7.72-7.72 1.47 1.35L5.41 20z\"/>\n",
              "  </svg>\n",
              "      </button>\n",
              "      \n",
              "  <style>\n",
              "    .colab-df-container {\n",
              "      display:flex;\n",
              "      flex-wrap:wrap;\n",
              "      gap: 12px;\n",
              "    }\n",
              "\n",
              "    .colab-df-convert {\n",
              "      background-color: #E8F0FE;\n",
              "      border: none;\n",
              "      border-radius: 50%;\n",
              "      cursor: pointer;\n",
              "      display: none;\n",
              "      fill: #1967D2;\n",
              "      height: 32px;\n",
              "      padding: 0 0 0 0;\n",
              "      width: 32px;\n",
              "    }\n",
              "\n",
              "    .colab-df-convert:hover {\n",
              "      background-color: #E2EBFA;\n",
              "      box-shadow: 0px 1px 2px rgba(60, 64, 67, 0.3), 0px 1px 3px 1px rgba(60, 64, 67, 0.15);\n",
              "      fill: #174EA6;\n",
              "    }\n",
              "\n",
              "    [theme=dark] .colab-df-convert {\n",
              "      background-color: #3B4455;\n",
              "      fill: #D2E3FC;\n",
              "    }\n",
              "\n",
              "    [theme=dark] .colab-df-convert:hover {\n",
              "      background-color: #434B5C;\n",
              "      box-shadow: 0px 1px 3px 1px rgba(0, 0, 0, 0.15);\n",
              "      filter: drop-shadow(0px 1px 2px rgba(0, 0, 0, 0.3));\n",
              "      fill: #FFFFFF;\n",
              "    }\n",
              "  </style>\n",
              "\n",
              "      <script>\n",
              "        const buttonEl =\n",
              "          document.querySelector('#df-e7033c36-2b38-4d82-ab0e-26050bbeb5e4 button.colab-df-convert');\n",
              "        buttonEl.style.display =\n",
              "          google.colab.kernel.accessAllowed ? 'block' : 'none';\n",
              "\n",
              "        async function convertToInteractive(key) {\n",
              "          const element = document.querySelector('#df-e7033c36-2b38-4d82-ab0e-26050bbeb5e4');\n",
              "          const dataTable =\n",
              "            await google.colab.kernel.invokeFunction('convertToInteractive',\n",
              "                                                     [key], {});\n",
              "          if (!dataTable) return;\n",
              "\n",
              "          const docLinkHtml = 'Like what you see? Visit the ' +\n",
              "            '<a target=\"_blank\" href=https://colab.research.google.com/notebooks/data_table.ipynb>data table notebook</a>'\n",
              "            + ' to learn more about interactive tables.';\n",
              "          element.innerHTML = '';\n",
              "          dataTable['output_type'] = 'display_data';\n",
              "          await google.colab.output.renderOutput(dataTable, element);\n",
              "          const docLink = document.createElement('div');\n",
              "          docLink.innerHTML = docLinkHtml;\n",
              "          element.appendChild(docLink);\n",
              "        }\n",
              "      </script>\n",
              "    </div>\n",
              "  </div>\n",
              "  "
            ],
            "text/plain": [
              "          weights\n",
              "541153  73.727727\n",
              "500550  63.631953\n",
              "532215  58.737043\n",
              "524715  46.215439\n",
              "532921  45.987804\n",
              "...           ...\n",
              "512070 -37.541410\n",
              "540719 -40.173036\n",
              "532187 -47.668342\n",
              "500112 -51.526252\n",
              "505200 -69.362615\n",
              "\n",
              "[80 rows x 1 columns]"
            ]
          },
          "metadata": {},
          "execution_count": 49
        }
      ],
      "source": [
        "def PCWeights():\n",
        "    '''\n",
        "    Principal Components (PC) weights for each 28 PCs\n",
        "    '''\n",
        "    weights = pd.DataFrame()\n",
        "\n",
        "    for i in range(len(pcs)):\n",
        "        weights[\"weights_{}\".format(i)] = pcs[:, i] / sum(pcs[:, i])\n",
        "\n",
        "    weights = weights.values.T\n",
        "    return weights\n",
        "\n",
        "weights = PCWeights()\n",
        "portfolio = portfolio = pd.DataFrame()\n",
        "\n",
        "def plotEigen(weights, plot=False, portfolio=portfolio):\n",
        "    portfolio = pd.DataFrame(data ={'weights': weights.squeeze()*100}, index = stock_tickers) \n",
        "    portfolio.sort_values(by=['weights'], ascending=False, inplace=True)\n",
        "    \n",
        "    if plot:\n",
        "        print('Sum of weights of current eigen-portfolio: %.2f' % np.sum(portfolio))\n",
        "        portfolio.plot(title='Current Eigen-Portfolio Weights', \n",
        "            figsize=(12,6), \n",
        "            xticks=range(0, len(stock_tickers),1), \n",
        "            rot=45, \n",
        "            linewidth=3\n",
        "            )\n",
        "        plt.show()\n",
        "\n",
        "    return portfolio\n",
        "\n",
        "# Weights are stored in arrays, where 0 is the first PC's weights.\n",
        "plotEigen(weights=weights[4], plot=True)"
      ]
    },
    {
      "cell_type": "code",
      "execution_count": 51,
      "metadata": {
        "id": "6SWLGfyTPuWy",
        "outputId": "83e5a9c3-71c3-4057-93a8-12cd8ae819c4",
        "colab": {
          "base_uri": "https://localhost:8080/",
          "height": 472
        }
      },
      "outputs": [
        {
          "output_type": "stream",
          "name": "stdout",
          "text": [
            "Current Eigen-Portfolio:\n",
            "Return = 28.46%\n",
            "Volatility = 85.38%\n",
            "Sharpe = 0.33\n"
          ]
        },
        {
          "output_type": "display_data",
          "data": {
            "image/png": "[encoded data removed]",
            "text/plain": [
              "<Figure size 864x432 with 1 Axes>"
            ]
          },
          "metadata": {}
        }
      ],
      "source": [
        "def plotSharpe(eigen):\n",
        "\n",
        "    '''\n",
        "\n",
        "    Plots Principle components returns against real returns.\n",
        "    \n",
        "    '''\n",
        "\n",
        "    eigen_portfolio_returns = np.dot(X_test_raw.loc[:, eigen.index], eigen / len(pcs))\n",
        "    eigen_portfolio_returns = pd.Series(eigen_portfolio_returns.squeeze(), index=X_test.index)\n",
        "    returns, vol, sharpe = sharpe_ratio(eigen_portfolio_returns)\n",
        "    print('Current Eigen-Portfolio:\\nReturn = %.2f%%\\nVolatility = %.2f%%\\nSharpe = %.2f' % (returns*100, vol*100, sharpe))\n",
        "    year_frac = (eigen_portfolio_returns.index[-1] - eigen_portfolio_returns.index[0]).days / 252\n",
        "\n",
        "    df_plot = pd.DataFrame({'PC': eigen_portfolio_returns}, index=X_test.index) #'DJIA': X_test_raw.loc[:, 'DJIA']\n",
        "    np.cumprod(df_plot + 1).plot(title='Returns of the market-cap weighted index vs. First eigen-portfolio', \n",
        "                             figsize=(12,6), linewidth=3)\n",
        "    plt.show()\n",
        "\n",
        "plotSharpe(eigen=plotEigen(weights=weights[4]))"
      ]
    },
    {
      "cell_type": "code",
      "execution_count": null,
      "metadata": {
        "id": "Ck6cFGaSPuWz"
      },
      "outputs": [],
      "source": [
        ""
      ]
    }
  ],
  "metadata": {
    "kernelspec": {
      "display_name": "Python 3",
      "language": "python",
      "name": "python3"
    },
    "language_info": {
      "codemirror_mode": {
        "name": "ipython",
        "version": 3
      },
      "file_extension": ".py",
      "mimetype": "text/x-python",
      "name": "python",
      "nbconvert_exporter": "python",
      "pygments_lexer": "ipython3",
      "version": "3.6.4"
    },
    "colab": {
      "name": "ml.ipynb",
      "provenance": [],
      "include_colab_link": true
    }
  },
  "nbformat": 4,
  "nbformat_minor": 0
}