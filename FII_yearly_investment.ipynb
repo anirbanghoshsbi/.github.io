{
  "nbformat": 4,
  "nbformat_minor": 0,
  "metadata": {
    "colab": {
      "name": "FII_yearly_investment.ipynb",
      "provenance": [],
      "authorship_tag": "ABX9TyPuusUOWcqN4tW0AUXFDuPc",
      "include_colab_link": true
    },
    "kernelspec": {
      "name": "python3",
      "display_name": "Python 3"
    },
    "language_info": {
      "name": "python"
    }
  },
  "cells": [
    {
      "cell_type": "markdown",
      "metadata": {
        "id": "view-in-github",
        "colab_type": "text"
      },
      "source": [
        "<a href=\"https://colab.research.google.com/github/anirbanghoshsbi/.github.io/blob/master/FII_yearly_investment.ipynb\" target=\"_parent\"><img src=\"https://colab.research.google.com/assets/colab-badge.svg\" alt=\"Open In Colab\"/></a>"
      ]
    },
    {
      "cell_type": "code",
      "metadata": {
        "id": "9_Kam_jgxlij"
      },
      "source": [
        "import pandas as pd"
      ],
      "execution_count": 1,
      "outputs": []
    },
    {
      "cell_type": "code",
      "metadata": {
        "id": "8tLGonQsxnnz"
      },
      "source": [
        "data =  pd.read_html('https://www.fpi.nsdl.co.in/web/Reports/Yearwise.aspx?RptType=5')"
      ],
      "execution_count": 2,
      "outputs": []
    },
    {
      "cell_type": "code",
      "metadata": {
        "id": "RlQcXbB8yLSV"
      },
      "source": [
        "df=data[1]"
      ],
      "execution_count": 3,
      "outputs": []
    },
    {
      "cell_type": "markdown",
      "metadata": {
        "id": "B6KM_qQVOUzd"
      },
      "source": [
        "# Yearly"
      ]
    },
    {
      "cell_type": "code",
      "metadata": {
        "id": "TTZPN4bU1XmM"
      },
      "source": [
        "df.columns = df.columns.droplevel([0,1])"
      ],
      "execution_count": 4,
      "outputs": []
    },
    {
      "cell_type": "code",
      "metadata": {
        "colab": {
          "base_uri": "https://localhost:8080/"
        },
        "id": "afU5Pu1uyiXZ",
        "outputId": "86ae9012-e433-4768-ffae-d06d03f1b78d"
      },
      "source": [
        "df.columns"
      ],
      "execution_count": 5,
      "outputs": [
        {
          "output_type": "execute_result",
          "data": {
            "text/plain": [
              "Index(['Financial Year', 'Equity', 'Debt', 'Debt-VRR', 'Hybrid', 'Total'], dtype='object')"
            ]
          },
          "metadata": {},
          "execution_count": 5
        }
      ]
    },
    {
      "cell_type": "code",
      "metadata": {
        "colab": {
          "base_uri": "https://localhost:8080/",
          "height": 110
        },
        "id": "vIRTF5U41vmR",
        "outputId": "32d30e00-332f-4d0a-d0ee-57c4e6b7e86b"
      },
      "source": [
        "df.head(2)"
      ],
      "execution_count": 6,
      "outputs": [
        {
          "output_type": "execute_result",
          "data": {
            "text/html": [
              "<div>\n",
              "<style scoped>\n",
              "    .dataframe tbody tr th:only-of-type {\n",
              "        vertical-align: middle;\n",
              "    }\n",
              "\n",
              "    .dataframe tbody tr th {\n",
              "        vertical-align: top;\n",
              "    }\n",
              "\n",
              "    .dataframe thead th {\n",
              "        text-align: right;\n",
              "    }\n",
              "</style>\n",
              "<table border=\"1\" class=\"dataframe\">\n",
              "  <thead>\n",
              "    <tr style=\"text-align: right;\">\n",
              "      <th></th>\n",
              "      <th>Financial Year</th>\n",
              "      <th>Equity</th>\n",
              "      <th>Debt</th>\n",
              "      <th>Debt-VRR</th>\n",
              "      <th>Hybrid</th>\n",
              "      <th>Total</th>\n",
              "    </tr>\n",
              "  </thead>\n",
              "  <tbody>\n",
              "    <tr>\n",
              "      <th>0</th>\n",
              "      <td>1992-93</td>\n",
              "      <td>13</td>\n",
              "      <td>0</td>\n",
              "      <td>0</td>\n",
              "      <td>0</td>\n",
              "      <td>13</td>\n",
              "    </tr>\n",
              "    <tr>\n",
              "      <th>1</th>\n",
              "      <td>1993-94</td>\n",
              "      <td>5127</td>\n",
              "      <td>0</td>\n",
              "      <td>0</td>\n",
              "      <td>0</td>\n",
              "      <td>5127</td>\n",
              "    </tr>\n",
              "  </tbody>\n",
              "</table>\n",
              "</div>"
            ],
            "text/plain": [
              "  Financial Year Equity Debt Debt-VRR Hybrid Total\n",
              "0        1992-93     13    0        0      0    13\n",
              "1        1993-94   5127    0        0      0  5127"
            ]
          },
          "metadata": {},
          "execution_count": 6
        }
      ]
    },
    {
      "cell_type": "code",
      "metadata": {
        "id": "67mbGFni3pFY"
      },
      "source": [
        "df=df[:-1]"
      ],
      "execution_count": 7,
      "outputs": []
    },
    {
      "cell_type": "code",
      "metadata": {
        "colab": {
          "base_uri": "https://localhost:8080/",
          "height": 110
        },
        "id": "hKvUZTP83yOZ",
        "outputId": "40217a41-0c36-48b9-b7b9-e1cb78eec558"
      },
      "source": [
        "df.tail(2)"
      ],
      "execution_count": 8,
      "outputs": [
        {
          "output_type": "execute_result",
          "data": {
            "text/html": [
              "<div>\n",
              "<style scoped>\n",
              "    .dataframe tbody tr th:only-of-type {\n",
              "        vertical-align: middle;\n",
              "    }\n",
              "\n",
              "    .dataframe tbody tr th {\n",
              "        vertical-align: top;\n",
              "    }\n",
              "\n",
              "    .dataframe thead th {\n",
              "        text-align: right;\n",
              "    }\n",
              "</style>\n",
              "<table border=\"1\" class=\"dataframe\">\n",
              "  <thead>\n",
              "    <tr style=\"text-align: right;\">\n",
              "      <th></th>\n",
              "      <th>Financial Year</th>\n",
              "      <th>Equity</th>\n",
              "      <th>Debt</th>\n",
              "      <th>Debt-VRR</th>\n",
              "      <th>Hybrid</th>\n",
              "      <th>Total</th>\n",
              "    </tr>\n",
              "  </thead>\n",
              "  <tbody>\n",
              "    <tr>\n",
              "      <th>28</th>\n",
              "      <td>2021-22 **</td>\n",
              "      <td>591</td>\n",
              "      <td>7875</td>\n",
              "      <td>10532</td>\n",
              "      <td>935</td>\n",
              "      <td>19933</td>\n",
              "    </tr>\n",
              "    <tr>\n",
              "      <th>29</th>\n",
              "      <td>Total</td>\n",
              "      <td>1038908</td>\n",
              "      <td>297027</td>\n",
              "      <td>51128</td>\n",
              "      <td>22406</td>\n",
              "      <td>1409470</td>\n",
              "    </tr>\n",
              "  </tbody>\n",
              "</table>\n",
              "</div>"
            ],
            "text/plain": [
              "   Financial Year   Equity    Debt Debt-VRR Hybrid    Total\n",
              "28     2021-22 **      591    7875    10532    935    19933\n",
              "29          Total  1038908  297027    51128  22406  1409470"
            ]
          },
          "metadata": {},
          "execution_count": 8
        }
      ]
    },
    {
      "cell_type": "code",
      "metadata": {
        "id": "09uO5X-K2pW6"
      },
      "source": [
        "equity = df.Equity.astype('float')"
      ],
      "execution_count": 9,
      "outputs": []
    },
    {
      "cell_type": "code",
      "metadata": {
        "id": "A9C-7-123X1L"
      },
      "source": [
        "date=pd.date_range(start=\"1993-01-01\",end=\"2022-01-01\",freq='AS')"
      ],
      "execution_count": 10,
      "outputs": []
    },
    {
      "cell_type": "code",
      "metadata": {
        "id": "FHmzVtpm5sQS"
      },
      "source": [
        "final_equity= pd.DataFrame([date,equity]).T"
      ],
      "execution_count": 11,
      "outputs": []
    },
    {
      "cell_type": "code",
      "metadata": {
        "id": "-IKxCZ3M6Cq_"
      },
      "source": [
        "final_equity.columns=['Date','Equity']"
      ],
      "execution_count": 12,
      "outputs": []
    },
    {
      "cell_type": "code",
      "metadata": {
        "id": "mDHdkRT96jMa"
      },
      "source": [
        "final_equity.set_index('Date',inplace=True)"
      ],
      "execution_count": 13,
      "outputs": []
    },
    {
      "cell_type": "code",
      "metadata": {
        "colab": {
          "base_uri": "https://localhost:8080/",
          "height": 391
        },
        "id": "qiyCvyMF61T6",
        "outputId": "323b4fa1-484a-4b7f-f305-15aed1760542"
      },
      "source": [
        "final_equity[:-1].plot.bar()"
      ],
      "execution_count": 14,
      "outputs": [
        {
          "output_type": "execute_result",
          "data": {
            "text/plain": [
              "<matplotlib.axes._subplots.AxesSubplot at 0x7f8a4ea9be10>"
            ]
          },
          "metadata": {},
          "execution_count": 14
        },
        {
          "output_type": "display_data",
          "data": {
            "image/png": "[encoded data removed]",
            "text/plain": [
              "<Figure size 432x288 with 1 Axes>"
            ]
          },
          "metadata": {
            "needs_background": "light"
          }
        }
      ]
    },
    {
      "cell_type": "markdown",
      "metadata": {
        "id": "fwCGKIqZOQkB"
      },
      "source": [
        "# Monthly"
      ]
    },
    {
      "cell_type": "markdown",
      "metadata": {
        "id": "0UqxQVd_BGp4"
      },
      "source": [
        "https://www.fpi.nsdl.co.in/web/Reports/Yearwise.aspx?RptType=6"
      ]
    },
    {
      "cell_type": "code",
      "metadata": {
        "id": "eFE6Dstn81Ob"
      },
      "source": [
        "monthly=pd.Series([19473,25787,10482,9659,-2954,17215,-11308,2083,5214])  # CHANGE HERE MANUALLY\n",
        "# "
      ],
      "execution_count": 15,
      "outputs": []
    },
    {
      "cell_type": "code",
      "metadata": {
        "id": "qVh2ay_M-_-z"
      },
      "source": [
        "date=pd.date_range(start=\"2021-01-01\",end=\"2021-10-01\",freq='M')"
      ],
      "execution_count": 16,
      "outputs": []
    },
    {
      "cell_type": "code",
      "metadata": {
        "colab": {
          "base_uri": "https://localhost:8080/"
        },
        "id": "zo9Yl07__BGK",
        "outputId": "81ecfc75-9ae8-4acf-96fa-bcd6229e4748"
      },
      "source": [
        "date"
      ],
      "execution_count": 17,
      "outputs": [
        {
          "output_type": "execute_result",
          "data": {
            "text/plain": [
              "DatetimeIndex(['2021-01-31', '2021-02-28', '2021-03-31', '2021-04-30',\n",
              "               '2021-05-31', '2021-06-30', '2021-07-31', '2021-08-31',\n",
              "               '2021-09-30'],\n",
              "              dtype='datetime64[ns]', freq='M')"
            ]
          },
          "metadata": {},
          "execution_count": 17
        }
      ]
    },
    {
      "cell_type": "code",
      "metadata": {
        "id": "7angaIit_QKU"
      },
      "source": [
        "monthly_equity= pd.DataFrame([date,monthly]).T\n",
        "monthly_equity.columns=['Date','Month_End_Equity']"
      ],
      "execution_count": 18,
      "outputs": []
    },
    {
      "cell_type": "code",
      "metadata": {
        "id": "e7vuaoqL_-4H"
      },
      "source": [
        "monthly_equity.set_index('Date',inplace=True)"
      ],
      "execution_count": 19,
      "outputs": []
    },
    {
      "cell_type": "code",
      "metadata": {
        "colab": {
          "base_uri": "https://localhost:8080/",
          "height": 391
        },
        "id": "ByGI81a6ABIW",
        "outputId": "3e0048a6-9e59-40c7-853b-95e0ef464dd2"
      },
      "source": [
        "monthly_equity.plot.bar()"
      ],
      "execution_count": 20,
      "outputs": [
        {
          "output_type": "execute_result",
          "data": {
            "text/plain": [
              "<matplotlib.axes._subplots.AxesSubplot at 0x7f8a4e934cd0>"
            ]
          },
          "metadata": {},
          "execution_count": 20
        },
        {
          "output_type": "display_data",
          "data": {
            "image/png": "[encoded data removed]",
            "text/plain": [
              "<Figure size 432x288 with 1 Axes>"
            ]
          },
          "metadata": {
            "needs_background": "light"
          }
        }
      ]
    },
    {
      "cell_type": "markdown",
      "metadata": {
        "id": "w6DtwWNFBAxf"
      },
      "source": [
        "# Sector Wise data"
      ]
    },
    {
      "cell_type": "code",
      "metadata": {
        "id": "SFBCjbrZBDYL"
      },
      "source": [
        "sector=pd.read_html('https://www.fpi.nsdl.co.in/web/StaticReports/Fortnightly_Sector_wise_FII_Investment_Data/FIIInvestSector_July312021.html')"
      ],
      "execution_count": 21,
      "outputs": []
    },
    {
      "cell_type": "code",
      "metadata": {
        "id": "ItsPr5DiBY30"
      },
      "source": [
        "sector_equity=sector[0].iloc[:,[1,2,12,22,32]]"
      ],
      "execution_count": 22,
      "outputs": []
    },
    {
      "cell_type": "code",
      "metadata": {
        "id": "PZLgwIuhBY2A"
      },
      "source": [
        "sector_equity=sector_equity.drop([1]).reset_index(drop=True)"
      ],
      "execution_count": 23,
      "outputs": []
    },
    {
      "cell_type": "code",
      "metadata": {
        "colab": {
          "base_uri": "https://localhost:8080/"
        },
        "id": "xwKGcyfaFiZM",
        "outputId": "b7ace465-a618-497f-c51c-7feba58f3a33"
      },
      "source": [
        "sector_equity.columns"
      ],
      "execution_count": 24,
      "outputs": [
        {
          "output_type": "execute_result",
          "data": {
            "text/plain": [
              "Int64Index([1, 2, 12, 22, 32], dtype='int64')"
            ]
          },
          "metadata": {},
          "execution_count": 24
        }
      ]
    },
    {
      "cell_type": "code",
      "metadata": {
        "id": "czOppoveBYzH"
      },
      "source": [
        "sector_equity.columns=['sector','month_first_half_capital','inv_month_1st_half','inv_month_2nd_half','month_second_half_capital']"
      ],
      "execution_count": 25,
      "outputs": []
    },
    {
      "cell_type": "code",
      "metadata": {
        "id": "0eK9igeaBYwa"
      },
      "source": [
        "sector_equity=sector_equity[2:-1].reset_index(drop=True)"
      ],
      "execution_count": 26,
      "outputs": []
    },
    {
      "cell_type": "code",
      "metadata": {
        "id": "MIEvz3KcBYrS"
      },
      "source": [
        "sector_equity['month_first_half_capital']=sector_equity['month_first_half_capital'].astype('float')"
      ],
      "execution_count": 27,
      "outputs": []
    },
    {
      "cell_type": "code",
      "metadata": {
        "id": "ZAN8i7oYKNQ3"
      },
      "source": [
        "sector_equity['inv_month_1st_half']=sector_equity['inv_month_1st_half'].astype('float')"
      ],
      "execution_count": 28,
      "outputs": []
    },
    {
      "cell_type": "code",
      "metadata": {
        "id": "JfPVXu6qKXbg"
      },
      "source": [
        "sector_equity['inv_month_2nd_half']=sector_equity['inv_month_2nd_half'].astype('float')"
      ],
      "execution_count": 29,
      "outputs": []
    },
    {
      "cell_type": "code",
      "metadata": {
        "id": "lm3CFlyBKeq3"
      },
      "source": [
        "sector_equity['month_second_half_capital']=sector_equity['month_second_half_capital'].astype('float')"
      ],
      "execution_count": 30,
      "outputs": []
    },
    {
      "cell_type": "code",
      "metadata": {
        "id": "nQ7fdLTZKp-_"
      },
      "source": [
        "sector_equity.set_index('sector',inplace=True)"
      ],
      "execution_count": 31,
      "outputs": []
    },
    {
      "cell_type": "code",
      "metadata": {
        "colab": {
          "base_uri": "https://localhost:8080/",
          "height": 477
        },
        "id": "8U4zd2B3BD0w",
        "outputId": "897ebe63-f806-4eb7-887a-0af69e75e5bc"
      },
      "source": [
        "sector_equity[['month_first_half_capital','month_second_half_capital']].plot.bar(figsize=(25,10))"
      ],
      "execution_count": 32,
      "outputs": [
        {
          "output_type": "execute_result",
          "data": {
            "text/plain": [
              "<matplotlib.axes._subplots.AxesSubplot at 0x7f8a4e412410>"
            ]
          },
          "metadata": {},
          "execution_count": 32
        },
        {
          "output_type": "display_data",
          "data": {
            "image/png": "[encoded data removed]",
            "text/plain": [
              "<Figure size 1800x720 with 1 Axes>"
            ]
          },
          "metadata": {
            "needs_background": "light"
          }
        }
      ]
    },
    {
      "cell_type": "code",
      "metadata": {
        "colab": {
          "base_uri": "https://localhost:8080/",
          "height": 1000
        },
        "id": "fls8VHnIBDtL",
        "outputId": "a5f2b92e-590d-4034-f9a5-5a7bd1c63c62"
      },
      "source": [
        "sector_equity"
      ],
      "execution_count": 33,
      "outputs": [
        {
          "output_type": "execute_result",
          "data": {
            "text/html": [
              "<div>\n",
              "<style scoped>\n",
              "    .dataframe tbody tr th:only-of-type {\n",
              "        vertical-align: middle;\n",
              "    }\n",
              "\n",
              "    .dataframe tbody tr th {\n",
              "        vertical-align: top;\n",
              "    }\n",
              "\n",
              "    .dataframe thead th {\n",
              "        text-align: right;\n",
              "    }\n",
              "</style>\n",
              "<table border=\"1\" class=\"dataframe\">\n",
              "  <thead>\n",
              "    <tr style=\"text-align: right;\">\n",
              "      <th></th>\n",
              "      <th>month_first_half_capital</th>\n",
              "      <th>inv_month_1st_half</th>\n",
              "      <th>inv_month_2nd_half</th>\n",
              "      <th>month_second_half_capital</th>\n",
              "    </tr>\n",
              "    <tr>\n",
              "      <th>sector</th>\n",
              "      <th></th>\n",
              "      <th></th>\n",
              "      <th></th>\n",
              "      <th></th>\n",
              "    </tr>\n",
              "  </thead>\n",
              "  <tbody>\n",
              "    <tr>\n",
              "      <th>Automobiles &amp; Auto Components</th>\n",
              "      <td>199211.0</td>\n",
              "      <td>-748.0</td>\n",
              "      <td>-1503.0</td>\n",
              "      <td>191015.0</td>\n",
              "    </tr>\n",
              "    <tr>\n",
              "      <th>Total Financial Services</th>\n",
              "      <td>1450942.0</td>\n",
              "      <td>-4150.0</td>\n",
              "      <td>-6617.0</td>\n",
              "      <td>1396742.0</td>\n",
              "    </tr>\n",
              "    <tr>\n",
              "      <th>Banks</th>\n",
              "      <td>843662.0</td>\n",
              "      <td>-2430.0</td>\n",
              "      <td>-4911.0</td>\n",
              "      <td>802059.0</td>\n",
              "    </tr>\n",
              "    <tr>\n",
              "      <th>Other Financial Services1</th>\n",
              "      <td>607281.0</td>\n",
              "      <td>-1720.0</td>\n",
              "      <td>-1706.0</td>\n",
              "      <td>594683.0</td>\n",
              "    </tr>\n",
              "    <tr>\n",
              "      <th>Capital Goods</th>\n",
              "      <td>153963.0</td>\n",
              "      <td>-372.0</td>\n",
              "      <td>421.0</td>\n",
              "      <td>150962.0</td>\n",
              "    </tr>\n",
              "    <tr>\n",
              "      <th>Chemicals &amp; Petrochemicals</th>\n",
              "      <td>82318.0</td>\n",
              "      <td>-86.0</td>\n",
              "      <td>-97.0</td>\n",
              "      <td>82703.0</td>\n",
              "    </tr>\n",
              "    <tr>\n",
              "      <th>Coal</th>\n",
              "      <td>5942.0</td>\n",
              "      <td>-73.0</td>\n",
              "      <td>71.0</td>\n",
              "      <td>5865.0</td>\n",
              "    </tr>\n",
              "    <tr>\n",
              "      <th>Commercial Services &amp; Supplies</th>\n",
              "      <td>37754.0</td>\n",
              "      <td>-205.0</td>\n",
              "      <td>12.0</td>\n",
              "      <td>37887.0</td>\n",
              "    </tr>\n",
              "    <tr>\n",
              "      <th>Construction Materials</th>\n",
              "      <td>97012.0</td>\n",
              "      <td>-373.0</td>\n",
              "      <td>-244.0</td>\n",
              "      <td>100142.0</td>\n",
              "    </tr>\n",
              "    <tr>\n",
              "      <th>Consumer Durables</th>\n",
              "      <td>125538.0</td>\n",
              "      <td>1033.0</td>\n",
              "      <td>542.0</td>\n",
              "      <td>128050.0</td>\n",
              "    </tr>\n",
              "    <tr>\n",
              "      <th>Diversified2</th>\n",
              "      <td>12031.0</td>\n",
              "      <td>75.0</td>\n",
              "      <td>68.0</td>\n",
              "      <td>13507.0</td>\n",
              "    </tr>\n",
              "    <tr>\n",
              "      <th>Diversified Consumer Services</th>\n",
              "      <td>3405.0</td>\n",
              "      <td>12.0</td>\n",
              "      <td>0.0</td>\n",
              "      <td>3648.0</td>\n",
              "    </tr>\n",
              "    <tr>\n",
              "      <th>Food &amp; Drugs Retailing</th>\n",
              "      <td>2.0</td>\n",
              "      <td>0.0</td>\n",
              "      <td>0.0</td>\n",
              "      <td>4.0</td>\n",
              "    </tr>\n",
              "    <tr>\n",
              "      <th>Food, Beverages &amp; Tobacco</th>\n",
              "      <td>116742.0</td>\n",
              "      <td>-426.0</td>\n",
              "      <td>-1111.0</td>\n",
              "      <td>114964.0</td>\n",
              "    </tr>\n",
              "    <tr>\n",
              "      <th>Forest Materials</th>\n",
              "      <td>1913.0</td>\n",
              "      <td>-18.0</td>\n",
              "      <td>3.0</td>\n",
              "      <td>2076.0</td>\n",
              "    </tr>\n",
              "    <tr>\n",
              "      <th>General Industrials</th>\n",
              "      <td>37127.0</td>\n",
              "      <td>122.0</td>\n",
              "      <td>-42.0</td>\n",
              "      <td>37741.0</td>\n",
              "    </tr>\n",
              "    <tr>\n",
              "      <th>Hardware Technology &amp; Equipment</th>\n",
              "      <td>36.0</td>\n",
              "      <td>0.0</td>\n",
              "      <td>0.0</td>\n",
              "      <td>35.0</td>\n",
              "    </tr>\n",
              "    <tr>\n",
              "      <th>Healthcare Equipment &amp; Supplies</th>\n",
              "      <td>1414.0</td>\n",
              "      <td>7.0</td>\n",
              "      <td>19.0</td>\n",
              "      <td>1451.0</td>\n",
              "    </tr>\n",
              "    <tr>\n",
              "      <th>Healthcare Services</th>\n",
              "      <td>53982.0</td>\n",
              "      <td>243.0</td>\n",
              "      <td>-48.0</td>\n",
              "      <td>56871.0</td>\n",
              "    </tr>\n",
              "    <tr>\n",
              "      <th>Hotels, Restaurants &amp; Tourism</th>\n",
              "      <td>26371.0</td>\n",
              "      <td>-33.0</td>\n",
              "      <td>24.0</td>\n",
              "      <td>30167.0</td>\n",
              "    </tr>\n",
              "    <tr>\n",
              "      <th>Household &amp; Personal Products</th>\n",
              "      <td>166065.0</td>\n",
              "      <td>219.0</td>\n",
              "      <td>292.0</td>\n",
              "      <td>165211.0</td>\n",
              "    </tr>\n",
              "    <tr>\n",
              "      <th>Insurance</th>\n",
              "      <td>116095.0</td>\n",
              "      <td>-339.0</td>\n",
              "      <td>-313.0</td>\n",
              "      <td>115366.0</td>\n",
              "    </tr>\n",
              "    <tr>\n",
              "      <th>Media</th>\n",
              "      <td>20656.0</td>\n",
              "      <td>-41.0</td>\n",
              "      <td>-51.0</td>\n",
              "      <td>19776.0</td>\n",
              "    </tr>\n",
              "    <tr>\n",
              "      <th>Metals &amp; Mining</th>\n",
              "      <td>104700.0</td>\n",
              "      <td>1623.0</td>\n",
              "      <td>55.0</td>\n",
              "      <td>115448.0</td>\n",
              "    </tr>\n",
              "    <tr>\n",
              "      <th>Oil &amp; Gas</th>\n",
              "      <td>402535.0</td>\n",
              "      <td>392.0</td>\n",
              "      <td>-4.0</td>\n",
              "      <td>394264.0</td>\n",
              "    </tr>\n",
              "    <tr>\n",
              "      <th>Pharmaceuticals &amp; Biotechnology</th>\n",
              "      <td>183285.0</td>\n",
              "      <td>98.0</td>\n",
              "      <td>-542.0</td>\n",
              "      <td>180700.0</td>\n",
              "    </tr>\n",
              "    <tr>\n",
              "      <th>Real Estate Investment</th>\n",
              "      <td>0.0</td>\n",
              "      <td>0.0</td>\n",
              "      <td>0.0</td>\n",
              "      <td>0.0</td>\n",
              "    </tr>\n",
              "    <tr>\n",
              "      <th>Realty</th>\n",
              "      <td>50105.0</td>\n",
              "      <td>-78.0</td>\n",
              "      <td>0.0</td>\n",
              "      <td>50794.0</td>\n",
              "    </tr>\n",
              "    <tr>\n",
              "      <th>Retailing</th>\n",
              "      <td>65349.0</td>\n",
              "      <td>-36.0</td>\n",
              "      <td>5491.0</td>\n",
              "      <td>76012.0</td>\n",
              "    </tr>\n",
              "    <tr>\n",
              "      <th>Software &amp; Services</th>\n",
              "      <td>619169.0</td>\n",
              "      <td>-1900.0</td>\n",
              "      <td>-1559.0</td>\n",
              "      <td>625884.0</td>\n",
              "    </tr>\n",
              "    <tr>\n",
              "      <th>Telecom Services</th>\n",
              "      <td>84009.0</td>\n",
              "      <td>-461.0</td>\n",
              "      <td>48.0</td>\n",
              "      <td>87189.0</td>\n",
              "    </tr>\n",
              "    <tr>\n",
              "      <th>Telecommunications Equipment</th>\n",
              "      <td>304.0</td>\n",
              "      <td>-6.0</td>\n",
              "      <td>-1.0</td>\n",
              "      <td>306.0</td>\n",
              "    </tr>\n",
              "    <tr>\n",
              "      <th>Textiles, Apparels &amp; Accessories</th>\n",
              "      <td>50600.0</td>\n",
              "      <td>430.0</td>\n",
              "      <td>293.0</td>\n",
              "      <td>51330.0</td>\n",
              "    </tr>\n",
              "    <tr>\n",
              "      <th>Transportation</th>\n",
              "      <td>59291.0</td>\n",
              "      <td>-381.0</td>\n",
              "      <td>-563.0</td>\n",
              "      <td>55869.0</td>\n",
              "    </tr>\n",
              "    <tr>\n",
              "      <th>Airlines</th>\n",
              "      <td>13635.0</td>\n",
              "      <td>20.0</td>\n",
              "      <td>-50.0</td>\n",
              "      <td>12255.0</td>\n",
              "    </tr>\n",
              "    <tr>\n",
              "      <th>Logistics</th>\n",
              "      <td>2857.0</td>\n",
              "      <td>30.0</td>\n",
              "      <td>-65.0</td>\n",
              "      <td>3154.0</td>\n",
              "    </tr>\n",
              "    <tr>\n",
              "      <th>Marine Port &amp; Services</th>\n",
              "      <td>23535.0</td>\n",
              "      <td>-276.0</td>\n",
              "      <td>-296.0</td>\n",
              "      <td>22319.0</td>\n",
              "    </tr>\n",
              "    <tr>\n",
              "      <th>Roads &amp; Highways</th>\n",
              "      <td>2744.0</td>\n",
              "      <td>-12.0</td>\n",
              "      <td>-41.0</td>\n",
              "      <td>2631.0</td>\n",
              "    </tr>\n",
              "    <tr>\n",
              "      <th>Shipping</th>\n",
              "      <td>1472.0</td>\n",
              "      <td>-18.0</td>\n",
              "      <td>-33.0</td>\n",
              "      <td>1295.0</td>\n",
              "    </tr>\n",
              "    <tr>\n",
              "      <th>Surface Transportation</th>\n",
              "      <td>88.0</td>\n",
              "      <td>-2.0</td>\n",
              "      <td>-3.0</td>\n",
              "      <td>88.0</td>\n",
              "    </tr>\n",
              "    <tr>\n",
              "      <th>Transport Related Services</th>\n",
              "      <td>10176.0</td>\n",
              "      <td>-131.0</td>\n",
              "      <td>-49.0</td>\n",
              "      <td>9755.0</td>\n",
              "    </tr>\n",
              "    <tr>\n",
              "      <th>Airport Services</th>\n",
              "      <td>4785.0</td>\n",
              "      <td>9.0</td>\n",
              "      <td>-26.0</td>\n",
              "      <td>4372.0</td>\n",
              "    </tr>\n",
              "    <tr>\n",
              "      <th>Utilities3</th>\n",
              "      <td>120599.0</td>\n",
              "      <td>-215.0</td>\n",
              "      <td>-780.0</td>\n",
              "      <td>109509.0</td>\n",
              "    </tr>\n",
              "    <tr>\n",
              "      <th>Sovereign</th>\n",
              "      <td>0.0</td>\n",
              "      <td>0.0</td>\n",
              "      <td>0.0</td>\n",
              "      <td>0.0</td>\n",
              "    </tr>\n",
              "    <tr>\n",
              "      <th>Others4</th>\n",
              "      <td>28140.0</td>\n",
              "      <td>789.0</td>\n",
              "      <td>-273.0</td>\n",
              "      <td>27929.0</td>\n",
              "    </tr>\n",
              "  </tbody>\n",
              "</table>\n",
              "</div>"
            ],
            "text/plain": [
              "                                  month_first_half_capital  ...  month_second_half_capital\n",
              "sector                                                      ...                           \n",
              "Automobiles & Auto Components                     199211.0  ...                   191015.0\n",
              "Total Financial Services                         1450942.0  ...                  1396742.0\n",
              "Banks                                             843662.0  ...                   802059.0\n",
              "Other Financial Services1                         607281.0  ...                   594683.0\n",
              "Capital Goods                                     153963.0  ...                   150962.0\n",
              "Chemicals & Petrochemicals                         82318.0  ...                    82703.0\n",
              "Coal                                                5942.0  ...                     5865.0\n",
              "Commercial Services & Supplies                     37754.0  ...                    37887.0\n",
              "Construction Materials                             97012.0  ...                   100142.0\n",
              "Consumer Durables                                 125538.0  ...                   128050.0\n",
              "Diversified2                                       12031.0  ...                    13507.0\n",
              "Diversified Consumer Services                       3405.0  ...                     3648.0\n",
              "Food & Drugs Retailing                                 2.0  ...                        4.0\n",
              "Food, Beverages & Tobacco                         116742.0  ...                   114964.0\n",
              "Forest Materials                                    1913.0  ...                     2076.0\n",
              "General Industrials                                37127.0  ...                    37741.0\n",
              "Hardware Technology & Equipment                       36.0  ...                       35.0\n",
              "Healthcare Equipment & Supplies                     1414.0  ...                     1451.0\n",
              "Healthcare Services                                53982.0  ...                    56871.0\n",
              "Hotels, Restaurants & Tourism                      26371.0  ...                    30167.0\n",
              "Household & Personal Products                     166065.0  ...                   165211.0\n",
              "Insurance                                         116095.0  ...                   115366.0\n",
              "Media                                              20656.0  ...                    19776.0\n",
              "Metals & Mining                                   104700.0  ...                   115448.0\n",
              "Oil & Gas                                         402535.0  ...                   394264.0\n",
              "Pharmaceuticals & Biotechnology                   183285.0  ...                   180700.0\n",
              "Real Estate Investment                                 0.0  ...                        0.0\n",
              "Realty                                             50105.0  ...                    50794.0\n",
              "Retailing                                          65349.0  ...                    76012.0\n",
              "Software & Services                               619169.0  ...                   625884.0\n",
              "Telecom Services                                   84009.0  ...                    87189.0\n",
              "Telecommunications Equipment                         304.0  ...                      306.0\n",
              "Textiles, Apparels & Accessories                   50600.0  ...                    51330.0\n",
              "Transportation                                     59291.0  ...                    55869.0\n",
              "Airlines                                           13635.0  ...                    12255.0\n",
              "Logistics                                           2857.0  ...                     3154.0\n",
              "Marine Port & Services                             23535.0  ...                    22319.0\n",
              "Roads & Highways                                    2744.0  ...                     2631.0\n",
              "Shipping                                            1472.0  ...                     1295.0\n",
              "Surface Transportation                                88.0  ...                       88.0\n",
              "Transport Related Services                         10176.0  ...                     9755.0\n",
              "Airport Services                                    4785.0  ...                     4372.0\n",
              "Utilities3                                        120599.0  ...                   109509.0\n",
              "Sovereign                                              0.0  ...                        0.0\n",
              "Others4                                            28140.0  ...                    27929.0\n",
              "\n",
              "[45 rows x 4 columns]"
            ]
          },
          "metadata": {},
          "execution_count": 33
        }
      ]
    },
    {
      "cell_type": "code",
      "metadata": {
        "id": "HSfkanBBNnJM"
      },
      "source": [
        ""
      ],
      "execution_count": 33,
      "outputs": []
    }
  ]
}