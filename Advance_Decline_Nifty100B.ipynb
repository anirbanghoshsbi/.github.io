{
  "nbformat": 4,
  "nbformat_minor": 0,
  "metadata": {
    "colab": {
      "name": "Advance Decline Nifty.ipynb",
      "provenance": [],
      "authorship_tag": "ABX9TyMi/YIhGiBsXRM8kfZfexh5",
      "include_colab_link": true
    },
    "kernelspec": {
      "name": "python3",
      "display_name": "Python 3"
    }
  },
  "cells": [
    {
      "cell_type": "markdown",
      "metadata": {
        "id": "view-in-github",
        "colab_type": "text"
      },
      "source": [
        "<a href=\"https://colab.research.google.com/github/anirbanghoshsbi/.github.io/blob/master/Advance_Decline_Nifty100B.ipynb\" target=\"_parent\"><img src=\"https://colab.research.google.com/assets/colab-badge.svg\" alt=\"Open In Colab\"/></a>"
      ]
    },
    {
      "cell_type": "code",
      "metadata": {
        "id": "GY481djqJP1G"
      },
      "source": [
        "import pandas as pd\n",
        "import numpy as np\n",
        "# Plotting graphs\n",
        "import matplotlib.pyplot as plt\n",
        "from matplotlib.dates import MonthLocator, YearLocator"
      ],
      "execution_count": 1,
      "outputs": []
    },
    {
      "cell_type": "code",
      "metadata": {
        "id": "7LPga9yQJZCM",
        "colab": {
          "base_uri": "https://localhost:8080/"
        },
        "outputId": "f459dcc9-be77-41f0-8ee5-c64ac214811f"
      },
      "source": [
        "!pip install yfinance --upgrade --no-cache-dir\n",
        "from pandas_datareader import data as pdr\n",
        "import yfinance as yf\n",
        "yf.pdr_override()"
      ],
      "execution_count": 2,
      "outputs": [
        {
          "output_type": "stream",
          "name": "stdout",
          "text": [
            "Collecting yfinance\n",
            "  Downloading yfinance-0.1.63.tar.gz (26 kB)\n",
            "Requirement already satisfied: pandas>=0.24 in /usr/local/lib/python3.7/dist-packages (from yfinance) (1.1.5)\n",
            "Requirement already satisfied: numpy>=1.15 in /usr/local/lib/python3.7/dist-packages (from yfinance) (1.19.5)\n",
            "Requirement already satisfied: requests>=2.20 in /usr/local/lib/python3.7/dist-packages (from yfinance) (2.23.0)\n",
            "Requirement already satisfied: multitasking>=0.0.7 in /usr/local/lib/python3.7/dist-packages (from yfinance) (0.0.9)\n",
            "Collecting lxml>=4.5.1\n",
            "  Downloading lxml-4.6.3-cp37-cp37m-manylinux2014_x86_64.whl (6.3 MB)\n",
            "\u001b[K     |████████████████████████████████| 6.3 MB 7.7 MB/s \n",
            "\u001b[?25hRequirement already satisfied: python-dateutil>=2.7.3 in /usr/local/lib/python3.7/dist-packages (from pandas>=0.24->yfinance) (2.8.2)\n",
            "Requirement already satisfied: pytz>=2017.2 in /usr/local/lib/python3.7/dist-packages (from pandas>=0.24->yfinance) (2018.9)\n",
            "Requirement already satisfied: six>=1.5 in /usr/local/lib/python3.7/dist-packages (from python-dateutil>=2.7.3->pandas>=0.24->yfinance) (1.15.0)\n",
            "Requirement already satisfied: urllib3!=1.25.0,!=1.25.1,<1.26,>=1.21.1 in /usr/local/lib/python3.7/dist-packages (from requests>=2.20->yfinance) (1.24.3)\n",
            "Requirement already satisfied: idna<3,>=2.5 in /usr/local/lib/python3.7/dist-packages (from requests>=2.20->yfinance) (2.10)\n",
            "Requirement already satisfied: certifi>=2017.4.17 in /usr/local/lib/python3.7/dist-packages (from requests>=2.20->yfinance) (2021.5.30)\n",
            "Requirement already satisfied: chardet<4,>=3.0.2 in /usr/local/lib/python3.7/dist-packages (from requests>=2.20->yfinance) (3.0.4)\n",
            "Building wheels for collected packages: yfinance\n",
            "  Building wheel for yfinance (setup.py) ... \u001b[?25l\u001b[?25hdone\n",
            "  Created wheel for yfinance: filename=yfinance-0.1.63-py2.py3-none-any.whl size=23918 sha256=0ddfd84473127d97279c38b406146f522f4cf9dd6a502fb34b5f45d9c086c27b\n",
            "  Stored in directory: /tmp/pip-ephem-wheel-cache-aku2qj4b/wheels/fe/87/8b/7ec24486e001d3926537f5f7801f57a74d181be25b11157983\n",
            "Successfully built yfinance\n",
            "Installing collected packages: lxml, yfinance\n",
            "  Attempting uninstall: lxml\n",
            "    Found existing installation: lxml 4.2.6\n",
            "    Uninstalling lxml-4.2.6:\n",
            "      Successfully uninstalled lxml-4.2.6\n",
            "Successfully installed lxml-4.6.3 yfinance-0.1.63\n"
          ]
        }
      ]
    },
    {
      "cell_type": "code",
      "metadata": {
        "id": "2_vXVQfUJZEw"
      },
      "source": [
        "nifty10= ['HDFCBANK.NS' ,'RELIANCE.NS' ,'HDFC.NS' ,'INFY.NS' ,'ICICIBANK.NS' ,'TCS.NS' ,'ITC.NS' ,'KOTAKBANK.NS' ,'LT.NS' , 'AXISBANK.NS']"
      ],
      "execution_count": 3,
      "outputs": []
    },
    {
      "cell_type": "code",
      "metadata": {
        "id": "lh5E4jtiarg2"
      },
      "source": [
        "nifty20=['NESTLEIND.NS','MARUTI.NS','GAIL.NS','TATASTEEL.NS','TITAN.NS','BHARTIARTL.NS','BAJAJFINSV.NS','NTPC.NS','BRITANNIA.NS','COALINDIA.NS','HINDALCO.NS','INDUSINDBK.NS','ONGC.NS','ULTRACEMCO.NS','HEROMOTOCO.NS','TECHM.NS','BAJFINANCE.NS','ZEEL.NS','WIPRO.NS','BAJAJ-AUTO.NS','SHREECEM.NS','CIPLA.NS','GRASIM.NS','M&M.NS','SBIN.NS']"
      ],
      "execution_count": 4,
      "outputs": []
    },
    {
      "cell_type": "code",
      "metadata": {
        "id": "RxWcvwaxH-Ha"
      },
      "source": [
        "nifty100='ongc.ns,indigo.ns,tcs.ns,\\\n",
        "tatamotors.ns,hdfcbank.ns,ofss.ns,\\\n",
        "wipro.ns,infy.ns,hindzinc.ns,\\\n",
        "nestleind.ns,adaniports.ns,\\\n",
        "marico.ns,pghh.ns,\\\n",
        "techm.ns,BAJAJ-AUTO.NS,\\\n",
        "HINDUNILVR.NS,HCLTECH.NS,\\\n",
        "HEROMOTOCO.NS,\\\n",
        "RELIANCE.NS,\\\n",
        "BPCL.NS,BRITANNIA.NS,\\\n",
        "POWERGRID.NS,\\\n",
        "TORNTPHARM.NS,\\\n",
        "COLPAL.NS,\\\n",
        "BHARTIARTL.NS,ICICIGI.NS,ITC.NS,IOC.NS,\\\n",
        "AXISBANK.NS,DRREDDY.NS,HDFCLIFE.NS,\\\n",
        "TATASTEEL.NS,UPL.NS,ABBOTINDIA.NS,\\\n",
        "HDFC.NS,SBILIFE.NS,DMART.NS,\\\n",
        "GODREJCP.NS,\\\n",
        "UBL.NS,\\\n",
        "ASIANPAINT.NS,\\\n",
        "DABUR.NS,\\\n",
        "PIDILITIND.NS,\\\n",
        "TITAN.NS,\\\n",
        "COALINDIA.NS,\\\n",
        "GAIL.NS,\\\n",
        "PETRONET.NS,HDFCAMC.NS,HAVELLS.NS,\\\n",
        "ICICIBANK.NS,MARUTI.NS,BAJAJHLDNG.NS,NAUKRI.NS,\\\n",
        "HINDPETRO.NS,LT.NS,GRASIM.NS,\\\n",
        "CONCOR.NS,JSWSTEEL.NS,M&M.NS,\\\n",
        "ULTRACEMCO.NS,BIOCON.NS,IGL.NS,PFC.NS,\\\n",
        "HINDALCO.NS,CADILAHC.NS,KOTAKBANK.NS,\\\n",
        "BANDHANBNK.NS,NHPC.NS,\\\n",
        "DIVISLAB.NS,\\\n",
        "CIPLA.NS,\\\n",
        "BERGEPAINT.NS,\\\n",
        "ZEEL.NS,\\\n",
        "SHREECEM.NS,\\\n",
        "BAJFINANCE.NS,\\\n",
        "LUPIN.NS,\\\n",
        "SIEMENS.NS,BANKBARODA.NS,\\\n",
        "NTPC.NS,GICRE.NS,MUTHOOTFIN.NS,ACC.NS,INDUSINDBK.NS,\\\n",
        "AMBUJACEM.NS,BAJAJFINSV.NS,PNB.NS,EICHERMOT.NS,PAGEIND.NS,\\\n",
        "SBIN.NS,MOTHERSUMI.NS,ICICIPRULI.NS,SUNPHARMA.NS,MCDOWELL-N.NS,\\\n",
        "AUROPHARMA.NS,\\\n",
        "ADANITRANS.NS,BOSCHLTD.NS,\\\n",
        "DLF.NS,SRTRANSFIN.NS,PEL.NS,NMDC.NS'\n",
        "nifty100 = nifty100.split(',')\n",
        "# ,infratel.ns"
      ],
      "execution_count": 5,
      "outputs": []
    },
    {
      "cell_type": "code",
      "metadata": {
        "id": "DnWySwg4JZGt"
      },
      "source": [
        "START = \"2016-01-01\"  #yyyy-mm-dd\n",
        "lst= []"
      ],
      "execution_count": 6,
      "outputs": []
    },
    {
      "cell_type": "code",
      "metadata": {
        "id": "YqYNpHCZdPKU",
        "colab": {
          "base_uri": "https://localhost:8080/"
        },
        "outputId": "f72d87dc-99e5-4b67-b55f-ad30ea55f0ce"
      },
      "source": [
        "nifty= yf.download('^NSEI', start=START)"
      ],
      "execution_count": 7,
      "outputs": [
        {
          "output_type": "stream",
          "name": "stdout",
          "text": [
            "\r[*********************100%***********************]  1 of 1 completed\n"
          ]
        }
      ]
    },
    {
      "cell_type": "code",
      "metadata": {
        "id": "WYfbjNSdcxb4"
      },
      "source": [
        "#set.intersection(set(nifty20),set(nifty10))"
      ],
      "execution_count": 8,
      "outputs": []
    },
    {
      "cell_type": "code",
      "metadata": {
        "colab": {
          "base_uri": "https://localhost:8080/"
        },
        "id": "ZuUG5r97IHyd",
        "outputId": "6fae0383-9419-4813-ca62-168b12ca0660"
      },
      "source": [
        "for i in range(len(nifty100)):\n",
        "  dfi = pdr.get_data_yahoo(nifty100[i], start=START)\n",
        "  dfi = dfi.dropna()\n",
        "  dfi = dfi.iloc[:,:4]\n",
        "  lst.append(dfi)\n",
        "\n",
        "#df1.head(3)\n",
        "print('\\n All Completed \\n')"
      ],
      "execution_count": 9,
      "outputs": [
        {
          "output_type": "stream",
          "name": "stdout",
          "text": [
            "[*********************100%***********************]  1 of 1 completed\n",
            "[*********************100%***********************]  1 of 1 completed\n",
            "[*********************100%***********************]  1 of 1 completed\n",
            "[*********************100%***********************]  1 of 1 completed\n",
            "[*********************100%***********************]  1 of 1 completed\n",
            "[*********************100%***********************]  1 of 1 completed\n",
            "[*********************100%***********************]  1 of 1 completed\n",
            "[*********************100%***********************]  1 of 1 completed\n",
            "[*********************100%***********************]  1 of 1 completed\n",
            "[*********************100%***********************]  1 of 1 completed\n",
            "[*********************100%***********************]  1 of 1 completed\n",
            "[*********************100%***********************]  1 of 1 completed\n",
            "[*********************100%***********************]  1 of 1 completed\n",
            "[*********************100%***********************]  1 of 1 completed\n",
            "[*********************100%***********************]  1 of 1 completed\n",
            "[*********************100%***********************]  1 of 1 completed\n",
            "[*********************100%***********************]  1 of 1 completed\n",
            "[*********************100%***********************]  1 of 1 completed\n",
            "[*********************100%***********************]  1 of 1 completed\n",
            "[*********************100%***********************]  1 of 1 completed\n",
            "[*********************100%***********************]  1 of 1 completed\n",
            "[*********************100%***********************]  1 of 1 completed\n",
            "[*********************100%***********************]  1 of 1 completed\n",
            "[*********************100%***********************]  1 of 1 completed\n",
            "[*********************100%***********************]  1 of 1 completed\n",
            "[*********************100%***********************]  1 of 1 completed\n",
            "[*********************100%***********************]  1 of 1 completed\n",
            "[*********************100%***********************]  1 of 1 completed\n",
            "[*********************100%***********************]  1 of 1 completed\n",
            "[*********************100%***********************]  1 of 1 completed\n",
            "[*********************100%***********************]  1 of 1 completed\n",
            "[*********************100%***********************]  1 of 1 completed\n",
            "[*********************100%***********************]  1 of 1 completed\n",
            "[*********************100%***********************]  1 of 1 completed\n",
            "[*********************100%***********************]  1 of 1 completed\n",
            "[*********************100%***********************]  1 of 1 completed\n",
            "[*********************100%***********************]  1 of 1 completed\n",
            "[*********************100%***********************]  1 of 1 completed\n",
            "[*********************100%***********************]  1 of 1 completed\n",
            "[*********************100%***********************]  1 of 1 completed\n",
            "[*********************100%***********************]  1 of 1 completed\n",
            "[*********************100%***********************]  1 of 1 completed\n",
            "[*********************100%***********************]  1 of 1 completed\n",
            "[*********************100%***********************]  1 of 1 completed\n",
            "[*********************100%***********************]  1 of 1 completed\n",
            "[*********************100%***********************]  1 of 1 completed\n",
            "[*********************100%***********************]  1 of 1 completed\n",
            "[*********************100%***********************]  1 of 1 completed\n",
            "[*********************100%***********************]  1 of 1 completed\n",
            "[*********************100%***********************]  1 of 1 completed\n",
            "[*********************100%***********************]  1 of 1 completed\n",
            "[*********************100%***********************]  1 of 1 completed\n",
            "[*********************100%***********************]  1 of 1 completed\n",
            "[*********************100%***********************]  1 of 1 completed\n",
            "[*********************100%***********************]  1 of 1 completed\n",
            "[*********************100%***********************]  1 of 1 completed\n",
            "[*********************100%***********************]  1 of 1 completed\n",
            "[*********************100%***********************]  1 of 1 completed\n",
            "[*********************100%***********************]  1 of 1 completed\n",
            "[*********************100%***********************]  1 of 1 completed\n",
            "[*********************100%***********************]  1 of 1 completed\n",
            "[*********************100%***********************]  1 of 1 completed\n",
            "[*********************100%***********************]  1 of 1 completed\n",
            "[*********************100%***********************]  1 of 1 completed\n",
            "[*********************100%***********************]  1 of 1 completed\n",
            "[*********************100%***********************]  1 of 1 completed\n",
            "[*********************100%***********************]  1 of 1 completed\n",
            "[*********************100%***********************]  1 of 1 completed\n",
            "[*********************100%***********************]  1 of 1 completed\n",
            "[*********************100%***********************]  1 of 1 completed\n",
            "[*********************100%***********************]  1 of 1 completed\n",
            "[*********************100%***********************]  1 of 1 completed\n",
            "[*********************100%***********************]  1 of 1 completed\n",
            "[*********************100%***********************]  1 of 1 completed\n",
            "[*********************100%***********************]  1 of 1 completed\n",
            "[*********************100%***********************]  1 of 1 completed\n",
            "[*********************100%***********************]  1 of 1 completed\n",
            "[*********************100%***********************]  1 of 1 completed\n",
            "[*********************100%***********************]  1 of 1 completed\n",
            "[*********************100%***********************]  1 of 1 completed\n",
            "[*********************100%***********************]  1 of 1 completed\n",
            "[*********************100%***********************]  1 of 1 completed\n",
            "[*********************100%***********************]  1 of 1 completed\n",
            "[*********************100%***********************]  1 of 1 completed\n",
            "[*********************100%***********************]  1 of 1 completed\n",
            "[*********************100%***********************]  1 of 1 completed\n",
            "[*********************100%***********************]  1 of 1 completed\n",
            "[*********************100%***********************]  1 of 1 completed\n",
            "[*********************100%***********************]  1 of 1 completed\n",
            "[*********************100%***********************]  1 of 1 completed\n",
            "[*********************100%***********************]  1 of 1 completed\n",
            "[*********************100%***********************]  1 of 1 completed\n",
            "[*********************100%***********************]  1 of 1 completed\n",
            "[*********************100%***********************]  1 of 1 completed\n",
            "[*********************100%***********************]  1 of 1 completed\n",
            "[*********************100%***********************]  1 of 1 completed\n",
            "[*********************100%***********************]  1 of 1 completed\n",
            "[*********************100%***********************]  1 of 1 completed\n",
            "\n",
            " All Completed \n",
            "\n"
          ]
        }
      ]
    },
    {
      "cell_type": "code",
      "metadata": {
        "id": "1KZVbFO0IK_p"
      },
      "source": [
        "nlst=[]\n",
        "for i in range(len(nifty100)):\n",
        "  nlst.append(lst[i].Close)"
      ],
      "execution_count": 10,
      "outputs": []
    },
    {
      "cell_type": "code",
      "metadata": {
        "id": "fUWFjuzIINhB"
      },
      "source": [
        "df = pd.DataFrame(nlst).T"
      ],
      "execution_count": 11,
      "outputs": []
    },
    {
      "cell_type": "code",
      "metadata": {
        "id": "sTIAGlDTIOkp"
      },
      "source": [
        "namelist =[]\n",
        "for i in range(1 , len(nifty100)+1):\n",
        "  namelist.append('Close'+str(i))"
      ],
      "execution_count": 12,
      "outputs": []
    },
    {
      "cell_type": "code",
      "metadata": {
        "id": "M39sw-8YIStK"
      },
      "source": [
        "df.columns=namelist"
      ],
      "execution_count": 13,
      "outputs": []
    },
    {
      "cell_type": "code",
      "metadata": {
        "id": "5QDlMdhHDKg9"
      },
      "source": [
        "data_copy=df.copy()"
      ],
      "execution_count": 14,
      "outputs": []
    },
    {
      "cell_type": "code",
      "metadata": {
        "id": "tjPVAXpwLHxi",
        "colab": {
          "base_uri": "https://localhost:8080/",
          "height": 365
        },
        "outputId": "3286eb28-c3c6-46a2-8fea-a91f7119a67f"
      },
      "source": [
        "df.head()"
      ],
      "execution_count": 15,
      "outputs": [
        {
          "output_type": "execute_result",
          "data": {
            "text/html": [
              "<div>\n",
              "<style scoped>\n",
              "    .dataframe tbody tr th:only-of-type {\n",
              "        vertical-align: middle;\n",
              "    }\n",
              "\n",
              "    .dataframe tbody tr th {\n",
              "        vertical-align: top;\n",
              "    }\n",
              "\n",
              "    .dataframe thead th {\n",
              "        text-align: right;\n",
              "    }\n",
              "</style>\n",
              "<table border=\"1\" class=\"dataframe\">\n",
              "  <thead>\n",
              "    <tr style=\"text-align: right;\">\n",
              "      <th></th>\n",
              "      <th>Close1</th>\n",
              "      <th>Close2</th>\n",
              "      <th>Close3</th>\n",
              "      <th>Close4</th>\n",
              "      <th>Close5</th>\n",
              "      <th>Close6</th>\n",
              "      <th>Close7</th>\n",
              "      <th>Close8</th>\n",
              "      <th>Close9</th>\n",
              "      <th>Close10</th>\n",
              "      <th>Close11</th>\n",
              "      <th>Close12</th>\n",
              "      <th>Close13</th>\n",
              "      <th>Close14</th>\n",
              "      <th>Close15</th>\n",
              "      <th>Close16</th>\n",
              "      <th>Close17</th>\n",
              "      <th>Close18</th>\n",
              "      <th>Close19</th>\n",
              "      <th>Close20</th>\n",
              "      <th>Close21</th>\n",
              "      <th>Close22</th>\n",
              "      <th>Close23</th>\n",
              "      <th>Close24</th>\n",
              "      <th>Close25</th>\n",
              "      <th>Close26</th>\n",
              "      <th>Close27</th>\n",
              "      <th>Close28</th>\n",
              "      <th>Close29</th>\n",
              "      <th>Close30</th>\n",
              "      <th>Close31</th>\n",
              "      <th>Close32</th>\n",
              "      <th>Close33</th>\n",
              "      <th>Close34</th>\n",
              "      <th>Close35</th>\n",
              "      <th>Close36</th>\n",
              "      <th>Close37</th>\n",
              "      <th>Close38</th>\n",
              "      <th>Close39</th>\n",
              "      <th>Close40</th>\n",
              "      <th>...</th>\n",
              "      <th>Close59</th>\n",
              "      <th>Close60</th>\n",
              "      <th>Close61</th>\n",
              "      <th>Close62</th>\n",
              "      <th>Close63</th>\n",
              "      <th>Close64</th>\n",
              "      <th>Close65</th>\n",
              "      <th>Close66</th>\n",
              "      <th>Close67</th>\n",
              "      <th>Close68</th>\n",
              "      <th>Close69</th>\n",
              "      <th>Close70</th>\n",
              "      <th>Close71</th>\n",
              "      <th>Close72</th>\n",
              "      <th>Close73</th>\n",
              "      <th>Close74</th>\n",
              "      <th>Close75</th>\n",
              "      <th>Close76</th>\n",
              "      <th>Close77</th>\n",
              "      <th>Close78</th>\n",
              "      <th>Close79</th>\n",
              "      <th>Close80</th>\n",
              "      <th>Close81</th>\n",
              "      <th>Close82</th>\n",
              "      <th>Close83</th>\n",
              "      <th>Close84</th>\n",
              "      <th>Close85</th>\n",
              "      <th>Close86</th>\n",
              "      <th>Close87</th>\n",
              "      <th>Close88</th>\n",
              "      <th>Close89</th>\n",
              "      <th>Close90</th>\n",
              "      <th>Close91</th>\n",
              "      <th>Close92</th>\n",
              "      <th>Close93</th>\n",
              "      <th>Close94</th>\n",
              "      <th>Close95</th>\n",
              "      <th>Close96</th>\n",
              "      <th>Close97</th>\n",
              "      <th>Close98</th>\n",
              "    </tr>\n",
              "    <tr>\n",
              "      <th>Date</th>\n",
              "      <th></th>\n",
              "      <th></th>\n",
              "      <th></th>\n",
              "      <th></th>\n",
              "      <th></th>\n",
              "      <th></th>\n",
              "      <th></th>\n",
              "      <th></th>\n",
              "      <th></th>\n",
              "      <th></th>\n",
              "      <th></th>\n",
              "      <th></th>\n",
              "      <th></th>\n",
              "      <th></th>\n",
              "      <th></th>\n",
              "      <th></th>\n",
              "      <th></th>\n",
              "      <th></th>\n",
              "      <th></th>\n",
              "      <th></th>\n",
              "      <th></th>\n",
              "      <th></th>\n",
              "      <th></th>\n",
              "      <th></th>\n",
              "      <th></th>\n",
              "      <th></th>\n",
              "      <th></th>\n",
              "      <th></th>\n",
              "      <th></th>\n",
              "      <th></th>\n",
              "      <th></th>\n",
              "      <th></th>\n",
              "      <th></th>\n",
              "      <th></th>\n",
              "      <th></th>\n",
              "      <th></th>\n",
              "      <th></th>\n",
              "      <th></th>\n",
              "      <th></th>\n",
              "      <th></th>\n",
              "      <th></th>\n",
              "      <th></th>\n",
              "      <th></th>\n",
              "      <th></th>\n",
              "      <th></th>\n",
              "      <th></th>\n",
              "      <th></th>\n",
              "      <th></th>\n",
              "      <th></th>\n",
              "      <th></th>\n",
              "      <th></th>\n",
              "      <th></th>\n",
              "      <th></th>\n",
              "      <th></th>\n",
              "      <th></th>\n",
              "      <th></th>\n",
              "      <th></th>\n",
              "      <th></th>\n",
              "      <th></th>\n",
              "      <th></th>\n",
              "      <th></th>\n",
              "      <th></th>\n",
              "      <th></th>\n",
              "      <th></th>\n",
              "      <th></th>\n",
              "      <th></th>\n",
              "      <th></th>\n",
              "      <th></th>\n",
              "      <th></th>\n",
              "      <th></th>\n",
              "      <th></th>\n",
              "      <th></th>\n",
              "      <th></th>\n",
              "      <th></th>\n",
              "      <th></th>\n",
              "      <th></th>\n",
              "      <th></th>\n",
              "      <th></th>\n",
              "      <th></th>\n",
              "      <th></th>\n",
              "      <th></th>\n",
              "    </tr>\n",
              "  </thead>\n",
              "  <tbody>\n",
              "    <tr>\n",
              "      <th>2016-01-01</th>\n",
              "      <td>161.666672</td>\n",
              "      <td>1343.449951</td>\n",
              "      <td>1208.199951</td>\n",
              "      <td>401.899994</td>\n",
              "      <td>544.375000</td>\n",
              "      <td>3801.750000</td>\n",
              "      <td>208.668808</td>\n",
              "      <td>552.625000</td>\n",
              "      <td>149.149994</td>\n",
              "      <td>5785.149902</td>\n",
              "      <td>267.549988</td>\n",
              "      <td>227.149994</td>\n",
              "      <td>5603.250000</td>\n",
              "      <td>520.049988</td>\n",
              "      <td>2518.000000</td>\n",
              "      <td>856.549988</td>\n",
              "      <td>422.924988</td>\n",
              "      <td>2686.050049</td>\n",
              "      <td>502.907928</td>\n",
              "      <td>298.683319</td>\n",
              "      <td>1493.199951</td>\n",
              "      <td>105.750023</td>\n",
              "      <td>1478.900024</td>\n",
              "      <td>976.750000</td>\n",
              "      <td>312.639740</td>\n",
              "      <td>NaN</td>\n",
              "      <td>218.333328</td>\n",
              "      <td>108.312500</td>\n",
              "      <td>449.899994</td>\n",
              "      <td>3108.600098</td>\n",
              "      <td>NaN</td>\n",
              "      <td>245.234406</td>\n",
              "      <td>293.566681</td>\n",
              "      <td>5895.950195</td>\n",
              "      <td>1258.449951</td>\n",
              "      <td>NaN</td>\n",
              "      <td>NaN</td>\n",
              "      <td>447.350006</td>\n",
              "      <td>943.700012</td>\n",
              "      <td>878.750000</td>\n",
              "      <td>...</td>\n",
              "      <td>2824.000000</td>\n",
              "      <td>86.866669</td>\n",
              "      <td>105.389999</td>\n",
              "      <td>101.250000</td>\n",
              "      <td>84.900002</td>\n",
              "      <td>332.700012</td>\n",
              "      <td>727.250000</td>\n",
              "      <td>NaN</td>\n",
              "      <td>21.200001</td>\n",
              "      <td>1162.500000</td>\n",
              "      <td>655.349976</td>\n",
              "      <td>186.571426</td>\n",
              "      <td>432.899994</td>\n",
              "      <td>11383.549805</td>\n",
              "      <td>609.585022</td>\n",
              "      <td>1845.250000</td>\n",
              "      <td>1202.650024</td>\n",
              "      <td>159.050003</td>\n",
              "      <td>120.416664</td>\n",
              "      <td>NaN</td>\n",
              "      <td>178.750000</td>\n",
              "      <td>1373.650024</td>\n",
              "      <td>963.849976</td>\n",
              "      <td>205.649994</td>\n",
              "      <td>1983.800049</td>\n",
              "      <td>117.599998</td>\n",
              "      <td>1737.084961</td>\n",
              "      <td>13510.349609</td>\n",
              "      <td>227.800003</td>\n",
              "      <td>132.000000</td>\n",
              "      <td>NaN</td>\n",
              "      <td>815.549988</td>\n",
              "      <td>602.099976</td>\n",
              "      <td>881.400024</td>\n",
              "      <td>41.049999</td>\n",
              "      <td>19199.099609</td>\n",
              "      <td>121.550003</td>\n",
              "      <td>865.700012</td>\n",
              "      <td>980.159790</td>\n",
              "      <td>91.250000</td>\n",
              "    </tr>\n",
              "    <tr>\n",
              "      <th>2016-01-04</th>\n",
              "      <td>158.699997</td>\n",
              "      <td>1262.099976</td>\n",
              "      <td>1184.800049</td>\n",
              "      <td>377.049988</td>\n",
              "      <td>535.250000</td>\n",
              "      <td>3746.399902</td>\n",
              "      <td>209.137558</td>\n",
              "      <td>539.450012</td>\n",
              "      <td>145.050003</td>\n",
              "      <td>5669.799805</td>\n",
              "      <td>257.950012</td>\n",
              "      <td>225.300003</td>\n",
              "      <td>5600.000000</td>\n",
              "      <td>516.400024</td>\n",
              "      <td>2483.350098</td>\n",
              "      <td>859.000000</td>\n",
              "      <td>422.975006</td>\n",
              "      <td>2637.800049</td>\n",
              "      <td>492.977081</td>\n",
              "      <td>297.149994</td>\n",
              "      <td>1486.300049</td>\n",
              "      <td>105.712524</td>\n",
              "      <td>1448.349976</td>\n",
              "      <td>974.299988</td>\n",
              "      <td>300.060699</td>\n",
              "      <td>NaN</td>\n",
              "      <td>216.733337</td>\n",
              "      <td>106.612503</td>\n",
              "      <td>438.399994</td>\n",
              "      <td>3056.000000</td>\n",
              "      <td>NaN</td>\n",
              "      <td>244.758041</td>\n",
              "      <td>289.233337</td>\n",
              "      <td>5930.899902</td>\n",
              "      <td>1216.699951</td>\n",
              "      <td>NaN</td>\n",
              "      <td>NaN</td>\n",
              "      <td>443.250000</td>\n",
              "      <td>939.950012</td>\n",
              "      <td>880.799988</td>\n",
              "      <td>...</td>\n",
              "      <td>2749.149902</td>\n",
              "      <td>89.033333</td>\n",
              "      <td>103.849998</td>\n",
              "      <td>98.175003</td>\n",
              "      <td>80.750000</td>\n",
              "      <td>320.799988</td>\n",
              "      <td>705.299988</td>\n",
              "      <td>NaN</td>\n",
              "      <td>21.500000</td>\n",
              "      <td>1149.699951</td>\n",
              "      <td>645.650024</td>\n",
              "      <td>188.178574</td>\n",
              "      <td>421.950012</td>\n",
              "      <td>11059.299805</td>\n",
              "      <td>605.244995</td>\n",
              "      <td>1795.150024</td>\n",
              "      <td>1190.250000</td>\n",
              "      <td>151.199997</td>\n",
              "      <td>119.416664</td>\n",
              "      <td>NaN</td>\n",
              "      <td>178.350006</td>\n",
              "      <td>1344.000000</td>\n",
              "      <td>934.200012</td>\n",
              "      <td>202.149994</td>\n",
              "      <td>1959.500000</td>\n",
              "      <td>112.800003</td>\n",
              "      <td>1749.530029</td>\n",
              "      <td>13558.049805</td>\n",
              "      <td>220.699997</td>\n",
              "      <td>127.088890</td>\n",
              "      <td>NaN</td>\n",
              "      <td>799.099976</td>\n",
              "      <td>595.489990</td>\n",
              "      <td>844.299988</td>\n",
              "      <td>38.650002</td>\n",
              "      <td>18815.650391</td>\n",
              "      <td>118.400002</td>\n",
              "      <td>840.900024</td>\n",
              "      <td>959.974304</td>\n",
              "      <td>89.949997</td>\n",
              "    </tr>\n",
              "    <tr>\n",
              "      <th>2016-01-05</th>\n",
              "      <td>161.233337</td>\n",
              "      <td>1252.949951</td>\n",
              "      <td>1174.474976</td>\n",
              "      <td>374.450012</td>\n",
              "      <td>531.200012</td>\n",
              "      <td>3739.449951</td>\n",
              "      <td>208.837555</td>\n",
              "      <td>537.025024</td>\n",
              "      <td>151.250000</td>\n",
              "      <td>5662.399902</td>\n",
              "      <td>255.699997</td>\n",
              "      <td>229.649994</td>\n",
              "      <td>5523.649902</td>\n",
              "      <td>521.900024</td>\n",
              "      <td>2502.350098</td>\n",
              "      <td>847.950012</td>\n",
              "      <td>421.399994</td>\n",
              "      <td>2616.850098</td>\n",
              "      <td>497.855835</td>\n",
              "      <td>300.883331</td>\n",
              "      <td>1483.349976</td>\n",
              "      <td>104.362526</td>\n",
              "      <td>1435.949951</td>\n",
              "      <td>974.250000</td>\n",
              "      <td>296.984802</td>\n",
              "      <td>NaN</td>\n",
              "      <td>216.566666</td>\n",
              "      <td>110.662498</td>\n",
              "      <td>436.450012</td>\n",
              "      <td>3070.649902</td>\n",
              "      <td>NaN</td>\n",
              "      <td>261.335663</td>\n",
              "      <td>290.200012</td>\n",
              "      <td>5878.100098</td>\n",
              "      <td>1209.400024</td>\n",
              "      <td>NaN</td>\n",
              "      <td>NaN</td>\n",
              "      <td>438.633331</td>\n",
              "      <td>950.099976</td>\n",
              "      <td>900.650024</td>\n",
              "      <td>...</td>\n",
              "      <td>2733.050049</td>\n",
              "      <td>89.025002</td>\n",
              "      <td>111.290001</td>\n",
              "      <td>100.849998</td>\n",
              "      <td>82.599998</td>\n",
              "      <td>313.600006</td>\n",
              "      <td>707.750000</td>\n",
              "      <td>NaN</td>\n",
              "      <td>22.000000</td>\n",
              "      <td>1147.500000</td>\n",
              "      <td>640.849976</td>\n",
              "      <td>183.892853</td>\n",
              "      <td>425.049988</td>\n",
              "      <td>11124.299805</td>\n",
              "      <td>599.784973</td>\n",
              "      <td>1783.050049</td>\n",
              "      <td>1195.800049</td>\n",
              "      <td>148.100006</td>\n",
              "      <td>118.541664</td>\n",
              "      <td>NaN</td>\n",
              "      <td>177.449997</td>\n",
              "      <td>1341.300049</td>\n",
              "      <td>935.250000</td>\n",
              "      <td>204.000000</td>\n",
              "      <td>1946.000000</td>\n",
              "      <td>110.599998</td>\n",
              "      <td>1715.989990</td>\n",
              "      <td>13828.549805</td>\n",
              "      <td>217.750000</td>\n",
              "      <td>128.688889</td>\n",
              "      <td>NaN</td>\n",
              "      <td>800.500000</td>\n",
              "      <td>589.000000</td>\n",
              "      <td>863.500000</td>\n",
              "      <td>38.799999</td>\n",
              "      <td>18632.699219</td>\n",
              "      <td>118.400002</td>\n",
              "      <td>864.900024</td>\n",
              "      <td>956.626221</td>\n",
              "      <td>93.250000</td>\n",
              "    </tr>\n",
              "    <tr>\n",
              "      <th>2016-01-06</th>\n",
              "      <td>158.366669</td>\n",
              "      <td>1235.400024</td>\n",
              "      <td>1190.800049</td>\n",
              "      <td>365.899994</td>\n",
              "      <td>533.549988</td>\n",
              "      <td>3737.250000</td>\n",
              "      <td>208.162552</td>\n",
              "      <td>534.674988</td>\n",
              "      <td>145.699997</td>\n",
              "      <td>5719.500000</td>\n",
              "      <td>251.800003</td>\n",
              "      <td>226.850006</td>\n",
              "      <td>5640.149902</td>\n",
              "      <td>525.099976</td>\n",
              "      <td>2485.500000</td>\n",
              "      <td>843.049988</td>\n",
              "      <td>420.700012</td>\n",
              "      <td>2578.199951</td>\n",
              "      <td>511.253815</td>\n",
              "      <td>304.100006</td>\n",
              "      <td>1500.849976</td>\n",
              "      <td>104.625023</td>\n",
              "      <td>1442.849976</td>\n",
              "      <td>949.450012</td>\n",
              "      <td>295.837067</td>\n",
              "      <td>NaN</td>\n",
              "      <td>210.066666</td>\n",
              "      <td>112.712502</td>\n",
              "      <td>430.700012</td>\n",
              "      <td>3046.250000</td>\n",
              "      <td>NaN</td>\n",
              "      <td>256.047974</td>\n",
              "      <td>295.566681</td>\n",
              "      <td>5783.600098</td>\n",
              "      <td>1209.300049</td>\n",
              "      <td>NaN</td>\n",
              "      <td>NaN</td>\n",
              "      <td>435.383331</td>\n",
              "      <td>941.849976</td>\n",
              "      <td>886.400024</td>\n",
              "      <td>...</td>\n",
              "      <td>2735.300049</td>\n",
              "      <td>87.291664</td>\n",
              "      <td>113.540001</td>\n",
              "      <td>100.349998</td>\n",
              "      <td>80.550003</td>\n",
              "      <td>320.750000</td>\n",
              "      <td>703.599976</td>\n",
              "      <td>NaN</td>\n",
              "      <td>21.850000</td>\n",
              "      <td>1137.199951</td>\n",
              "      <td>652.099976</td>\n",
              "      <td>181.178574</td>\n",
              "      <td>423.149994</td>\n",
              "      <td>11452.349609</td>\n",
              "      <td>610.724976</td>\n",
              "      <td>1753.199951</td>\n",
              "      <td>1205.300049</td>\n",
              "      <td>148.699997</td>\n",
              "      <td>117.875000</td>\n",
              "      <td>NaN</td>\n",
              "      <td>177.199997</td>\n",
              "      <td>1320.349976</td>\n",
              "      <td>943.950012</td>\n",
              "      <td>203.050003</td>\n",
              "      <td>1938.550049</td>\n",
              "      <td>109.599998</td>\n",
              "      <td>1752.505005</td>\n",
              "      <td>13670.150391</td>\n",
              "      <td>216.850006</td>\n",
              "      <td>124.933334</td>\n",
              "      <td>NaN</td>\n",
              "      <td>791.950012</td>\n",
              "      <td>579.729980</td>\n",
              "      <td>867.200012</td>\n",
              "      <td>38.349998</td>\n",
              "      <td>18721.750000</td>\n",
              "      <td>114.750000</td>\n",
              "      <td>872.599976</td>\n",
              "      <td>961.624084</td>\n",
              "      <td>90.599998</td>\n",
              "    </tr>\n",
              "    <tr>\n",
              "      <th>2016-01-07</th>\n",
              "      <td>151.066666</td>\n",
              "      <td>1250.550049</td>\n",
              "      <td>1185.625000</td>\n",
              "      <td>343.549988</td>\n",
              "      <td>528.099976</td>\n",
              "      <td>3687.149902</td>\n",
              "      <td>206.193802</td>\n",
              "      <td>525.400024</td>\n",
              "      <td>139.100006</td>\n",
              "      <td>5638.950195</td>\n",
              "      <td>245.000000</td>\n",
              "      <td>223.699997</td>\n",
              "      <td>5613.200195</td>\n",
              "      <td>510.799988</td>\n",
              "      <td>2419.250000</td>\n",
              "      <td>820.250000</td>\n",
              "      <td>412.524994</td>\n",
              "      <td>2520.100098</td>\n",
              "      <td>501.867798</td>\n",
              "      <td>294.750000</td>\n",
              "      <td>1473.275024</td>\n",
              "      <td>103.575027</td>\n",
              "      <td>1425.000000</td>\n",
              "      <td>915.549988</td>\n",
              "      <td>295.974792</td>\n",
              "      <td>NaN</td>\n",
              "      <td>206.399994</td>\n",
              "      <td>110.387497</td>\n",
              "      <td>409.250000</td>\n",
              "      <td>2991.800049</td>\n",
              "      <td>NaN</td>\n",
              "      <td>238.088882</td>\n",
              "      <td>278.266663</td>\n",
              "      <td>5656.149902</td>\n",
              "      <td>1179.449951</td>\n",
              "      <td>NaN</td>\n",
              "      <td>NaN</td>\n",
              "      <td>420.299988</td>\n",
              "      <td>924.750000</td>\n",
              "      <td>872.349976</td>\n",
              "      <td>...</td>\n",
              "      <td>2667.699951</td>\n",
              "      <td>85.216667</td>\n",
              "      <td>112.050003</td>\n",
              "      <td>94.199997</td>\n",
              "      <td>76.650002</td>\n",
              "      <td>306.850006</td>\n",
              "      <td>691.650024</td>\n",
              "      <td>NaN</td>\n",
              "      <td>20.600000</td>\n",
              "      <td>1126.949951</td>\n",
              "      <td>637.450012</td>\n",
              "      <td>180.750000</td>\n",
              "      <td>415.399994</td>\n",
              "      <td>10978.950195</td>\n",
              "      <td>610.630005</td>\n",
              "      <td>1717.500000</td>\n",
              "      <td>1132.050049</td>\n",
              "      <td>139.500000</td>\n",
              "      <td>114.875000</td>\n",
              "      <td>NaN</td>\n",
              "      <td>178.000000</td>\n",
              "      <td>1300.500000</td>\n",
              "      <td>925.500000</td>\n",
              "      <td>197.600006</td>\n",
              "      <td>1927.050049</td>\n",
              "      <td>105.050003</td>\n",
              "      <td>1703.564941</td>\n",
              "      <td>13193.500000</td>\n",
              "      <td>209.550003</td>\n",
              "      <td>118.955559</td>\n",
              "      <td>NaN</td>\n",
              "      <td>783.799988</td>\n",
              "      <td>556.460022</td>\n",
              "      <td>841.500000</td>\n",
              "      <td>37.150002</td>\n",
              "      <td>18306.949219</td>\n",
              "      <td>106.800003</td>\n",
              "      <td>821.549988</td>\n",
              "      <td>939.012451</td>\n",
              "      <td>88.050003</td>\n",
              "    </tr>\n",
              "  </tbody>\n",
              "</table>\n",
              "<p>5 rows × 98 columns</p>\n",
              "</div>"
            ],
            "text/plain": [
              "                Close1       Close2  ...     Close97    Close98\n",
              "Date                                 ...                       \n",
              "2016-01-01  161.666672  1343.449951  ...  980.159790  91.250000\n",
              "2016-01-04  158.699997  1262.099976  ...  959.974304  89.949997\n",
              "2016-01-05  161.233337  1252.949951  ...  956.626221  93.250000\n",
              "2016-01-06  158.366669  1235.400024  ...  961.624084  90.599998\n",
              "2016-01-07  151.066666  1250.550049  ...  939.012451  88.050003\n",
              "\n",
              "[5 rows x 98 columns]"
            ]
          },
          "metadata": {},
          "execution_count": 15
        }
      ]
    },
    {
      "cell_type": "code",
      "metadata": {
        "id": "cfbmcWkIMkNk"
      },
      "source": [
        "df['diff1'] = (df['Close1'].diff() > 0 ).astype(int) + (df['Close2'].diff() >0).astype(int)+ (df['Close3'].diff()>0).astype(int)+(df['Close4'].diff()>0).astype(int) + (df['Close5'].diff()>0).astype(int)+ (df['Close6'].diff()>0).astype(int)+ (df['Close7'].diff()>0).astype(int)+(df['Close8'].diff()>0).astype(int)+ (df['Close9'].diff()>0).astype(int)+ (df['Close10'].diff()>0).astype(int)"
      ],
      "execution_count": 16,
      "outputs": []
    },
    {
      "cell_type": "code",
      "metadata": {
        "id": "KfQETiwOiC97"
      },
      "source": [
        "df['diff2'] = (df['Close11'].diff() > 0 ).astype(int) + (df['Close12'].diff() >0).astype(int)+ (df['Close13'].diff()>0).astype(int)+(df['Close14'].diff()>0).astype(int) + (df['Close15'].diff()>0).astype(int)+ (df['Close16'].diff()>0).astype(int)+ (df['Close17'].diff()>0).astype(int)+(df['Close18'].diff()>0).astype(int)+ (df['Close19'].diff()>0).astype(int)+ (df['Close20'].diff()>0).astype(int)"
      ],
      "execution_count": 17,
      "outputs": []
    },
    {
      "cell_type": "code",
      "metadata": {
        "id": "ZzdDwYaqiSrp"
      },
      "source": [
        "df['diff3'] = (df['Close21'].diff() > 0 ).astype(int) + (df['Close22'].diff() >0).astype(int)+ (df['Close23'].diff()>0).astype(int)+(df['Close24'].diff()>0).astype(int) + (df['Close25'].diff()>0).astype(int)+ (df['Close26'].diff()>0).astype(int)+ (df['Close27'].diff()>0).astype(int)+(df['Close28'].diff()>0).astype(int)+ (df['Close29'].diff()>0).astype(int)+ (df['Close30'].diff()>0).astype(int)"
      ],
      "execution_count": 18,
      "outputs": []
    },
    {
      "cell_type": "code",
      "metadata": {
        "id": "hgPyfE1WifIx"
      },
      "source": [
        "df['diff4'] = (df['Close31'].diff() > 0 ).astype(int) + (df['Close32'].diff() >0).astype(int)+ (df['Close33'].diff()>0).astype(int)+(df['Close34'].diff()>0).astype(int) + (df['Close35'].diff()>0).astype(int)"
      ],
      "execution_count": 19,
      "outputs": []
    },
    {
      "cell_type": "code",
      "metadata": {
        "id": "GZHNkRMfNJ8P"
      },
      "source": [
        "df['diff5'] = (df['Close36'].diff() > 0 ).astype(int) + (df['Close37'].diff() >0).astype(int)+ (df['Close38'].diff()>0).astype(int)+(df['Close39'].diff()>0).astype(int) + (df['Close40'].diff()>0).astype(int)+\\\n",
        "              (df['Close41'].diff() > 0 ).astype(int) + (df['Close42'].diff() >0).astype(int)+ (df['Close43'].diff()>0).astype(int)+(df['Close44'].diff()>0).astype(int) + (df['Close45'].diff()>0).astype(int)+\\\n",
        "              (df['Close46'].diff() > 0 ).astype(int) + (df['Close47'].diff() >0).astype(int)+ (df['Close48'].diff()>0).astype(int)+(df['Close49'].diff()>0).astype(int) + (df['Close50'].diff()>0).astype(int)+\\\n",
        "              (df['Close51'].diff() > 0 ).astype(int) + (df['Close52'].diff() >0).astype(int)+ (df['Close53'].diff()>0).astype(int)+(df['Close54'].diff()>0).astype(int) + (df['Close55'].diff()>0).astype(int)+\\\n",
        "              (df['Close56'].diff() > 0 ).astype(int) + (df['Close57'].diff() >0).astype(int)+ (df['Close58'].diff()>0).astype(int)+(df['Close59'].diff()>0).astype(int) + (df['Close60'].diff()>0).astype(int)+\\\n",
        "              (df['Close61'].diff() > 0 ).astype(int) + (df['Close62'].diff() >0).astype(int)+ (df['Close63'].diff()>0).astype(int)+(df['Close64'].diff()>0).astype(int) + (df['Close65'].diff()>0).astype(int)+\\\n",
        "              (df['Close66'].diff() > 0 ).astype(int) + (df['Close67'].diff() >0).astype(int)+ (df['Close68'].diff()>0).astype(int)+(df['Close69'].diff()>0).astype(int) + (df['Close70'].diff()>0).astype(int)+\\\n",
        "              (df['Close71'].diff() > 0 ).astype(int) + (df['Close72'].diff() >0).astype(int)+ (df['Close73'].diff()>0).astype(int)+(df['Close74'].diff()>0).astype(int) + (df['Close75'].diff()>0).astype(int)+\\\n",
        "              (df['Close76'].diff() > 0 ).astype(int) + (df['Close77'].diff() >0).astype(int)+ (df['Close78'].diff()>0).astype(int)+(df['Close79'].diff()>0).astype(int) + (df['Close80'].diff()>0).astype(int)+\\\n",
        "              (df['Close81'].diff() > 0 ).astype(int) + (df['Close82'].diff() >0).astype(int)+ (df['Close83'].diff()>0).astype(int)+(df['Close84'].diff()>0).astype(int) + (df['Close85'].diff()>0).astype(int)+\\\n",
        "              (df['Close86'].diff() > 0 ).astype(int) + (df['Close87'].diff() >0).astype(int)+ (df['Close88'].diff()>0).astype(int)+(df['Close89'].diff()>0).astype(int) + (df['Close90'].diff()>0).astype(int)+\\\n",
        "              (df['Close91'].diff() > 0 ).astype(int) + (df['Close92'].diff() >0).astype(int)+ (df['Close93'].diff()>0).astype(int)+(df['Close94'].diff()>0).astype(int) + (df['Close95'].diff()>0).astype(int)+\\\n",
        "              (df['Close96'].diff()>0).astype(int) + (df['Close97'].diff()>0).astype(int)+(df['Close98'].diff()>0).astype(int)"
      ],
      "execution_count": 20,
      "outputs": []
    },
    {
      "cell_type": "code",
      "metadata": {
        "id": "D842_0CAQl5x"
      },
      "source": [
        "df['diff']=df['diff1'].astype(int) + df['diff2'].astype(int) +df['diff3'].astype(int) +df['diff4'].astype(int)+df['diff5'].astype(int)"
      ],
      "execution_count": 21,
      "outputs": []
    },
    {
      "cell_type": "code",
      "metadata": {
        "id": "lgOeuvMJQuCL",
        "colab": {
          "base_uri": "https://localhost:8080/"
        },
        "outputId": "5a8383ce-9b78-4cf7-ac22-14b951cae02e"
      },
      "source": [
        "df['diff'].max()"
      ],
      "execution_count": 22,
      "outputs": [
        {
          "output_type": "execute_result",
          "data": {
            "text/plain": [
              "94"
            ]
          },
          "metadata": {},
          "execution_count": 22
        }
      ]
    },
    {
      "cell_type": "code",
      "metadata": {
        "id": "mN9fOl7KTrZE",
        "colab": {
          "base_uri": "https://localhost:8080/",
          "height": 35
        },
        "outputId": "db8ea324-2b6a-4aaf-f649-65dd511367e3"
      },
      "source": [
        "import datetime\n",
        "start_date = '2017-01-01'\n",
        "end_date = str(datetime.datetime.today()).split()[0]\n",
        "#datetime.date.today()\n",
        "end_date"
      ],
      "execution_count": 23,
      "outputs": [
        {
          "output_type": "execute_result",
          "data": {
            "application/vnd.google.colaboratory.intrinsic+json": {
              "type": "string"
            },
            "text/plain": [
              "'2021-09-20'"
            ]
          },
          "metadata": {},
          "execution_count": 23
        }
      ]
    },
    {
      "cell_type": "code",
      "metadata": {
        "id": "-1c4khlMUZBk"
      },
      "source": [
        "df['ema50AD']=df['diff'].ewm(span=50, adjust=False).mean()\n",
        "df['ema100AD']=df['diff'].ewm(span=100, adjust=False).mean()\n",
        "df['smooth_ema50']=df['ema50AD'].ewm(span=5, adjust=False).mean()\n",
        "df['smooth_ema100']=df['ema100AD'].ewm(span=10, adjust=False).mean()"
      ],
      "execution_count": 24,
      "outputs": []
    },
    {
      "cell_type": "code",
      "metadata": {
        "id": "bkA4VrfVTvZb",
        "colab": {
          "base_uri": "https://localhost:8080/",
          "height": 563
        },
        "outputId": "944b45dc-94cd-46e2-9087-f7eb9636fbfb"
      },
      "source": [
        "fig, ax = plt.subplots(3,1,figsize=(15,9),sharex=True)\n",
        "ax[0].plot(nifty.loc[start_date:end_date, :].index, nifty.loc[start_date:end_date, 'Close'],'b-', linewidth=1, markersize=3, label='Price Low')\n",
        "ax[0].plot(nifty.loc[start_date:end_date, :].index, nifty.loc[start_date:end_date, 'Close'].rolling(window=50).mean(),'r')\n",
        "#ax.plot(df.loc[start_date:end_date, :].index, df.loc[start_date:end_date, 'ema10Low'], label='ema10Low')\n",
        "ax[1].plot(df.loc[start_date:end_date, :].index, df.loc[start_date:end_date, 'smooth_ema50'], label='ema50 Smooth')\n",
        "ax[1].plot(df.loc[start_date:end_date, :].index, df.loc[start_date:end_date, 'smooth_ema100'], label='ema100 Smooth')\n",
        "ax[2].plot(df.loc[start_date:end_date, :].index, df.loc[start_date:end_date, 'ema50AD'], label='ema50 Adv Dec')\n",
        "ax[2].plot(df.loc[start_date:end_date, :].index, df.loc[start_date:end_date, 'ema100AD'], label='ema100 Adv Dec')\n",
        "ax[1].axhline(y=45)\n",
        "ax[1].legend(loc='best')\n",
        "ax[2].legend(loc='best')\n",
        "ax[1].set_ylabel('Adv/Dec')\n",
        "fig.suptitle('EMA Advance Decline')\n",
        "plt.show()"
      ],
      "execution_count": 25,
      "outputs": [
        {
          "output_type": "display_data",
          "data": {
            "image/png": "[encoded data removed]",
            "text/plain": [
              "<Figure size 1080x648 with 3 Axes>"
            ]
          },
          "metadata": {
            "needs_background": "light"
          }
        }
      ]
    },
    {
      "cell_type": "code",
      "metadata": {
        "id": "jz5TEGUNHTSV"
      },
      "source": [
        "df['advances'] = df['diff']"
      ],
      "execution_count": 26,
      "outputs": []
    },
    {
      "cell_type": "code",
      "metadata": {
        "id": "1G178C-HiQrp"
      },
      "source": [
        "df['declines']= len(nifty100)-df['advances']"
      ],
      "execution_count": 27,
      "outputs": []
    },
    {
      "cell_type": "code",
      "metadata": {
        "id": "5sgc1EVoiShr"
      },
      "source": [
        "#mc-clellan oscillator \n",
        "# ratio adjusted advances=(advances - declines)/(advances+declines)\n",
        "df['advances_ratio'] = (df['advances'] - df['declines'])/(df['advances']+df['declines'])"
      ],
      "execution_count": 28,
      "outputs": []
    },
    {
      "cell_type": "code",
      "metadata": {
        "id": "32Psg4uij2kv"
      },
      "source": [
        "df['ema19'] = df['advances_ratio'].ewm(span=19).mean()\n",
        "df['ema39'] = df['advances_ratio'].ewm(span=39).mean()"
      ],
      "execution_count": 29,
      "outputs": []
    },
    {
      "cell_type": "code",
      "metadata": {
        "id": "A2wk_FyfiebK"
      },
      "source": [
        "'''\n",
        "McClellan Oscillator: 19-day EMA of RANA - 39-day EMA of RANA\n",
        "\n",
        "19-day EMA* = (Current Day RANA - Prior Day EMA) * .10 + Prior Day EMA)\n",
        "39-day EMA* = (Current Day RANA - Prior Day EMA) * .05 + Prior Day EMA)\n",
        "'''\n",
        "\n",
        "df['mcclellan19'] = (df['advances_ratio']-df['ema19'].shift(1))*0.1+df['ema19'].shift(1)"
      ],
      "execution_count": 30,
      "outputs": []
    },
    {
      "cell_type": "code",
      "metadata": {
        "id": "ndiTbPqAkpTD"
      },
      "source": [
        "df['mcclellan39'] = (df['advances_ratio']-df['ema39'].shift(1))*0.05+df['ema39'].shift(1)"
      ],
      "execution_count": 31,
      "outputs": []
    },
    {
      "cell_type": "code",
      "metadata": {
        "id": "fBdTHhEak-vD"
      },
      "source": [
        "df['mcclellan']=df['mcclellan19']-df['mcclellan39']"
      ],
      "execution_count": 32,
      "outputs": []
    },
    {
      "cell_type": "code",
      "metadata": {
        "id": "Z_fAaxuclNeL"
      },
      "source": [
        "df['mc_summation']=df['mcclellan'].cumsum()"
      ],
      "execution_count": 33,
      "outputs": []
    },
    {
      "cell_type": "code",
      "metadata": {
        "id": "zOIH6trfmwG4"
      },
      "source": [
        "'''\n",
        "MCSI=PDMCSI+CDMCO\n",
        "where:\n",
        "MCSI=McClellan Summation Index\n",
        "PDMCSI=Previous Day’s McClellan Summation Index,\n",
        "equal to the t = 0 (initial value) MCSI value for that\n",
        "specific period’s McClellan Oscillator\n",
        "CDMCO=Current Day’s McClellan Oscillator\n",
        "​'''\n",
        "df['msci']=df['mcclellan']+df['mc_summation'].shift(1)"
      ],
      "execution_count": 34,
      "outputs": []
    },
    {
      "cell_type": "markdown",
      "metadata": {
        "id": "G3FSOmSFhn4f"
      },
      "source": [
        "# Mc-Clellan Oscillator For Nifty"
      ]
    },
    {
      "cell_type": "code",
      "metadata": {
        "id": "AGq_wU8PnNYQ",
        "colab": {
          "base_uri": "https://localhost:8080/",
          "height": 663
        },
        "outputId": "4f9658a1-ddd1-4bec-d605-6b9674f5f7cc"
      },
      "source": [
        "plt.rcParams[\"figure.figsize\"] = (10,10)\n",
        "fig,ax=plt.subplots(2,1,sharex=True)\n",
        "ax[0].plot(df.loc[:,:].index,df.loc[:,'msci'],label='Summation Index')\n",
        "ax[1].plot(nifty.loc[:,:].index,nifty.loc[:,'Close'],label='Nifty')\n",
        "ax[0].axhline(y=2.5,color='r')\n",
        "ax[0].axhline(y=1.75,color='g')\n",
        "plt.suptitle('Mc-Clellan Summation Index Vs Nifty')\n",
        "yloc = YearLocator()\n",
        "mloc = MonthLocator()\n",
        "ax[0].xaxis.set_major_locator(mloc)\n",
        "ax[1].xaxis.set_major_locator(mloc)\n",
        "ax[0].legend()\n",
        "ax[1].legend()\n",
        "ax[0].grid(linewidth =2)\n",
        "ax[1].grid(linewidth =2)\n",
        "\n",
        "\n",
        "plt.show()"
      ],
      "execution_count": 35,
      "outputs": [
        {
          "output_type": "display_data",
          "data": {
            "image/png": "[encoded data removed]",
            "text/plain": [
              "<Figure size 720x720 with 2 Axes>"
            ]
          },
          "metadata": {
            "needs_background": "light"
          }
        }
      ]
    }
  ]
}