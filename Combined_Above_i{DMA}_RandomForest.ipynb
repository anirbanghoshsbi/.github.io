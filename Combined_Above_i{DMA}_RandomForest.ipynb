{
  "nbformat": 4,
  "nbformat_minor": 0,
  "metadata": {
    "colab": {
      "name": "Combined Above_i{DMA}_RandomForest.ipynb",
      "provenance": [],
      "collapsed_sections": [],
      "authorship_tag": "ABX9TyM20MYBPfcgDSpgOYqktE4W",
      "include_colab_link": true
    },
    "kernelspec": {
      "name": "python3",
      "display_name": "Python 3"
    }
  },
  "cells": [
    {
      "cell_type": "markdown",
      "metadata": {
        "id": "view-in-github",
        "colab_type": "text"
      },
      "source": [
        "<a href=\"https://colab.research.google.com/github/anirbanghoshsbi/.github.io/blob/master/Combined_Above_i%7BDMA%7D_RandomForest.ipynb\" target=\"_parent\"><img src=\"https://colab.research.google.com/assets/colab-badge.svg\" alt=\"Open In Colab\"/></a>"
      ]
    },
    {
      "cell_type": "code",
      "metadata": {
        "id": "XzJUKx8m84df",
        "colab": {
          "base_uri": "https://localhost:8080/"
        },
        "outputId": "9b1fedbf-0b8b-464e-edee-e9b0d6ce34d0"
      },
      "source": [
        "!pip install yfinance "
      ],
      "execution_count": 1,
      "outputs": [
        {
          "output_type": "stream",
          "text": [
            "Collecting yfinance\n",
            "  Downloading yfinance-0.1.63.tar.gz (26 kB)\n",
            "Requirement already satisfied: pandas>=0.24 in /usr/local/lib/python3.7/dist-packages (from yfinance) (1.1.5)\n",
            "Requirement already satisfied: numpy>=1.15 in /usr/local/lib/python3.7/dist-packages (from yfinance) (1.19.5)\n",
            "Requirement already satisfied: requests>=2.20 in /usr/local/lib/python3.7/dist-packages (from yfinance) (2.23.0)\n",
            "Requirement already satisfied: multitasking>=0.0.7 in /usr/local/lib/python3.7/dist-packages (from yfinance) (0.0.9)\n",
            "Collecting lxml>=4.5.1\n",
            "  Downloading lxml-4.6.3-cp37-cp37m-manylinux2014_x86_64.whl (6.3 MB)\n",
            "\u001b[K     |████████████████████████████████| 6.3 MB 7.6 MB/s \n",
            "\u001b[?25hRequirement already satisfied: pytz>=2017.2 in /usr/local/lib/python3.7/dist-packages (from pandas>=0.24->yfinance) (2018.9)\n",
            "Requirement already satisfied: python-dateutil>=2.7.3 in /usr/local/lib/python3.7/dist-packages (from pandas>=0.24->yfinance) (2.8.1)\n",
            "Requirement already satisfied: six>=1.5 in /usr/local/lib/python3.7/dist-packages (from python-dateutil>=2.7.3->pandas>=0.24->yfinance) (1.15.0)\n",
            "Requirement already satisfied: urllib3!=1.25.0,!=1.25.1,<1.26,>=1.21.1 in /usr/local/lib/python3.7/dist-packages (from requests>=2.20->yfinance) (1.24.3)\n",
            "Requirement already satisfied: chardet<4,>=3.0.2 in /usr/local/lib/python3.7/dist-packages (from requests>=2.20->yfinance) (3.0.4)\n",
            "Requirement already satisfied: idna<3,>=2.5 in /usr/local/lib/python3.7/dist-packages (from requests>=2.20->yfinance) (2.10)\n",
            "Requirement already satisfied: certifi>=2017.4.17 in /usr/local/lib/python3.7/dist-packages (from requests>=2.20->yfinance) (2021.5.30)\n",
            "Building wheels for collected packages: yfinance\n",
            "  Building wheel for yfinance (setup.py) ... \u001b[?25l\u001b[?25hdone\n",
            "  Created wheel for yfinance: filename=yfinance-0.1.63-py2.py3-none-any.whl size=23919 sha256=4c96e2ebc7818d54339ba74f291648f01ea401b2529866bc6eaca44d375e91a1\n",
            "  Stored in directory: /root/.cache/pip/wheels/fe/87/8b/7ec24486e001d3926537f5f7801f57a74d181be25b11157983\n",
            "Successfully built yfinance\n",
            "Installing collected packages: lxml, yfinance\n",
            "  Attempting uninstall: lxml\n",
            "    Found existing installation: lxml 4.2.6\n",
            "    Uninstalling lxml-4.2.6:\n",
            "      Successfully uninstalled lxml-4.2.6\n",
            "Successfully installed lxml-4.6.3 yfinance-0.1.63\n"
          ],
          "name": "stdout"
        }
      ]
    },
    {
      "cell_type": "code",
      "metadata": {
        "id": "hr4xsGCC6Xcy"
      },
      "source": [
        "##### SET THIS IN THE BEGINNING ###########\n",
        "\n",
        "#data='lix15'\n",
        "data = 'nifty100'\n",
        "ema_interval= 50 #30#40#50 (Number of stocks above  EMA)"
      ],
      "execution_count": 2,
      "outputs": []
    },
    {
      "cell_type": "code",
      "metadata": {
        "id": "4Emn8S9AUoT9"
      },
      "source": [
        "### Set Start of Train Date Below ####\n",
        "START = \"2013-01-01\"  #yyyy-mm-dd\n",
        "END = '2019-06-01'\n",
        "####Set Start of Test Date Below ####\n",
        "\n",
        "START_testdate= '2020-02-01'"
      ],
      "execution_count": 3,
      "outputs": []
    },
    {
      "cell_type": "code",
      "metadata": {
        "id": "xS0cKMCfIr5O"
      },
      "source": [
        "import pandas as pd\n",
        "import numpy as np\n",
        "# Plotting graphs\n",
        "import matplotlib.pyplot as plt\n",
        "import datetime\n",
        "# Import libraries\n",
        "import os\n",
        "import sys\n",
        "import requests\n",
        "from sklearn.ensemble import RandomForestClassifier\n",
        "from sklearn.model_selection import train_test_split\n",
        "from sklearn.model_selection import RandomizedSearchCV\n",
        "from sklearn.metrics import plot_roc_curve\n",
        "from sklearn.metrics import accuracy_score, classification_report\n",
        "from pandas_datareader import data as pdr\n",
        "import yfinance as yf\n",
        "yf.pdr_override()"
      ],
      "execution_count": 4,
      "outputs": []
    },
    {
      "cell_type": "code",
      "metadata": {
        "id": "XgWMxhWr2lt0"
      },
      "source": [
        "lix15= ['bhartiartl.ns','hindalco.ns','ioc.ns','indusindbk.ns','ongc.ns','powergrid.ns','sbin.ns','sunpharma.ns','tatamotors.ns','tatasteel.ns','ULTRACEMCO.ns']"
      ],
      "execution_count": 5,
      "outputs": []
    },
    {
      "cell_type": "code",
      "metadata": {
        "id": "wPsl1pv1p9Sq"
      },
      "source": [
        "nifty100='ongc.ns,indigo.ns,tcs.ns,\\\n",
        "tatamotors.ns,hdfcbank.ns,ofss.ns,\\\n",
        "wipro.ns,infy.ns,hindzinc.ns,\\\n",
        "nestleind.ns,adaniports.ns,\\\n",
        "marico.ns,pghh.ns,\\\n",
        "techm.ns,BAJAJ-AUTO.NS,\\\n",
        "HINDUNILVR.NS,HCLTECH.NS,\\\n",
        "HEROMOTOCO.NS,\\\n",
        "RELIANCE.NS,\\\n",
        "BPCL.NS,BRITANNIA.NS,\\\n",
        "POWERGRID.NS,\\\n",
        "TORNTPHARM.NS,\\\n",
        "COLPAL.NS,\\\n",
        "BHARTIARTL.NS,ICICIGI.NS,ITC.NS,IOC.NS,\\\n",
        "AXISBANK.NS,DRREDDY.NS,HDFCLIFE.NS,\\\n",
        "TATASTEEL.NS,UPL.NS,ABBOTINDIA.NS,\\\n",
        "HDFC.NS,SBILIFE.NS,DMART.NS,\\\n",
        "GODREJCP.NS,\\\n",
        "UBL.NS,\\\n",
        "ASIANPAINT.NS,\\\n",
        "DABUR.NS,\\\n",
        "PIDILITIND.NS,\\\n",
        "TITAN.NS,\\\n",
        "COALINDIA.NS,\\\n",
        "GAIL.NS,\\\n",
        "PETRONET.NS,HDFCAMC.NS,HAVELLS.NS,\\\n",
        "ICICIBANK.NS,MARUTI.NS,BAJAJHLDNG.NS,NAUKRI.NS,\\\n",
        "HINDPETRO.NS,LT.NS,GRASIM.NS,\\\n",
        "CONCOR.NS,JSWSTEEL.NS,M&M.NS,\\\n",
        "ULTRACEMCO.NS,BIOCON.NS,IGL.NS,PFC.NS,\\\n",
        "HINDALCO.NS,CADILAHC.NS,KOTAKBANK.NS,\\\n",
        "BANDHANBNK.NS,NHPC.NS,\\\n",
        "DIVISLAB.NS,\\\n",
        "CIPLA.NS,\\\n",
        "BERGEPAINT.NS,\\\n",
        "ZEEL.NS,\\\n",
        "SHREECEM.NS,\\\n",
        "BAJFINANCE.NS,\\\n",
        "LUPIN.NS,\\\n",
        "SIEMENS.NS,BANKBARODA.NS,\\\n",
        "NTPC.NS,GICRE.NS,MUTHOOTFIN.NS,ACC.NS,INDUSINDBK.NS,\\\n",
        "AMBUJACEM.NS,BAJAJFINSV.NS,PNB.NS,EICHERMOT.NS,PAGEIND.NS,\\\n",
        "SBIN.NS,MOTHERSUMI.NS,ICICIPRULI.NS,SUNPHARMA.NS,MCDOWELL-N.NS,\\\n",
        "AUROPHARMA.NS,\\\n",
        "ADANITRANS.NS,BOSCHLTD.NS,\\\n",
        "DLF.NS,SRTRANSFIN.NS,PEL.NS,NMDC.NS'\n",
        "nifty100 = nifty100.split(',')\n",
        "# ,infratel.ns"
      ],
      "execution_count": 6,
      "outputs": []
    },
    {
      "cell_type": "code",
      "metadata": {
        "id": "48dvyr69wbhO"
      },
      "source": [
        "if data=='lix15':\n",
        "  ticker = lix15 \n",
        "else:\n",
        "  ticker= nifty100"
      ],
      "execution_count": 7,
      "outputs": []
    },
    {
      "cell_type": "code",
      "metadata": {
        "id": "wrWQlOcDIwvn"
      },
      "source": [
        "lst= []"
      ],
      "execution_count": 8,
      "outputs": []
    },
    {
      "cell_type": "code",
      "metadata": {
        "id": "FPRVFzHMIw2I",
        "colab": {
          "base_uri": "https://localhost:8080/"
        },
        "outputId": "168d7d93-607f-4cb2-c3e9-349088a7ad67"
      },
      "source": [
        "for i in range(len(ticker)):\n",
        "  dfi = yf.download(ticker[i], start=START , end = END)\n",
        "  \n",
        "  dfi = dfi.dropna()\n",
        "  dfi = dfi.iloc[:,:4]\n",
        "  #df.head(3)\n",
        "  #print('Done : '+ nifty10[i])\n",
        "  #print(df.head(2))\n",
        "  lst.append(dfi)\n",
        "\n",
        "#df1.head(3)\n",
        "print('\\n All Completed \\n')"
      ],
      "execution_count": 9,
      "outputs": [
        {
          "output_type": "stream",
          "text": [
            "[*********************100%***********************]  1 of 1 completed\n",
            "[*********************100%***********************]  1 of 1 completed\n",
            "[*********************100%***********************]  1 of 1 completed\n",
            "[*********************100%***********************]  1 of 1 completed\n",
            "[*********************100%***********************]  1 of 1 completed\n",
            "[*********************100%***********************]  1 of 1 completed\n",
            "[*********************100%***********************]  1 of 1 completed\n",
            "[*********************100%***********************]  1 of 1 completed\n",
            "[*********************100%***********************]  1 of 1 completed\n",
            "[*********************100%***********************]  1 of 1 completed\n",
            "[*********************100%***********************]  1 of 1 completed\n",
            "[*********************100%***********************]  1 of 1 completed\n",
            "[*********************100%***********************]  1 of 1 completed\n",
            "[*********************100%***********************]  1 of 1 completed\n",
            "[*********************100%***********************]  1 of 1 completed\n",
            "[*********************100%***********************]  1 of 1 completed\n",
            "[*********************100%***********************]  1 of 1 completed\n",
            "[*********************100%***********************]  1 of 1 completed\n",
            "[*********************100%***********************]  1 of 1 completed\n",
            "[*********************100%***********************]  1 of 1 completed\n",
            "[*********************100%***********************]  1 of 1 completed\n",
            "[*********************100%***********************]  1 of 1 completed\n",
            "[*********************100%***********************]  1 of 1 completed\n",
            "[*********************100%***********************]  1 of 1 completed\n",
            "[*********************100%***********************]  1 of 1 completed\n",
            "[*********************100%***********************]  1 of 1 completed\n",
            "[*********************100%***********************]  1 of 1 completed\n",
            "[*********************100%***********************]  1 of 1 completed\n",
            "[*********************100%***********************]  1 of 1 completed\n",
            "[*********************100%***********************]  1 of 1 completed\n",
            "[*********************100%***********************]  1 of 1 completed\n",
            "[*********************100%***********************]  1 of 1 completed\n",
            "[*********************100%***********************]  1 of 1 completed\n",
            "[*********************100%***********************]  1 of 1 completed\n",
            "[*********************100%***********************]  1 of 1 completed\n",
            "[*********************100%***********************]  1 of 1 completed\n",
            "[*********************100%***********************]  1 of 1 completed\n",
            "[*********************100%***********************]  1 of 1 completed\n",
            "[*********************100%***********************]  1 of 1 completed\n",
            "[*********************100%***********************]  1 of 1 completed\n",
            "[*********************100%***********************]  1 of 1 completed\n",
            "[*********************100%***********************]  1 of 1 completed\n",
            "[*********************100%***********************]  1 of 1 completed\n",
            "[*********************100%***********************]  1 of 1 completed\n",
            "[*********************100%***********************]  1 of 1 completed\n",
            "[*********************100%***********************]  1 of 1 completed\n",
            "[*********************100%***********************]  1 of 1 completed\n",
            "[*********************100%***********************]  1 of 1 completed\n",
            "[*********************100%***********************]  1 of 1 completed\n",
            "[*********************100%***********************]  1 of 1 completed\n",
            "[*********************100%***********************]  1 of 1 completed\n",
            "[*********************100%***********************]  1 of 1 completed\n",
            "[*********************100%***********************]  1 of 1 completed\n",
            "[*********************100%***********************]  1 of 1 completed\n",
            "[*********************100%***********************]  1 of 1 completed\n",
            "[*********************100%***********************]  1 of 1 completed\n",
            "[*********************100%***********************]  1 of 1 completed\n",
            "[*********************100%***********************]  1 of 1 completed\n",
            "[*********************100%***********************]  1 of 1 completed\n",
            "[*********************100%***********************]  1 of 1 completed\n",
            "[*********************100%***********************]  1 of 1 completed\n",
            "[*********************100%***********************]  1 of 1 completed\n",
            "[*********************100%***********************]  1 of 1 completed\n",
            "[*********************100%***********************]  1 of 1 completed\n",
            "[*********************100%***********************]  1 of 1 completed\n",
            "[*********************100%***********************]  1 of 1 completed\n",
            "[*********************100%***********************]  1 of 1 completed\n",
            "[*********************100%***********************]  1 of 1 completed\n",
            "[*********************100%***********************]  1 of 1 completed\n",
            "[*********************100%***********************]  1 of 1 completed\n",
            "[*********************100%***********************]  1 of 1 completed\n",
            "[*********************100%***********************]  1 of 1 completed\n",
            "[*********************100%***********************]  1 of 1 completed\n",
            "[*********************100%***********************]  1 of 1 completed\n",
            "[*********************100%***********************]  1 of 1 completed\n",
            "[*********************100%***********************]  1 of 1 completed\n",
            "[*********************100%***********************]  1 of 1 completed\n",
            "[*********************100%***********************]  1 of 1 completed\n",
            "[*********************100%***********************]  1 of 1 completed\n",
            "[*********************100%***********************]  1 of 1 completed\n",
            "[*********************100%***********************]  1 of 1 completed\n",
            "[*********************100%***********************]  1 of 1 completed\n",
            "[*********************100%***********************]  1 of 1 completed\n",
            "[*********************100%***********************]  1 of 1 completed\n",
            "[*********************100%***********************]  1 of 1 completed\n",
            "[*********************100%***********************]  1 of 1 completed\n",
            "[*********************100%***********************]  1 of 1 completed\n",
            "[*********************100%***********************]  1 of 1 completed\n",
            "[*********************100%***********************]  1 of 1 completed\n",
            "[*********************100%***********************]  1 of 1 completed\n",
            "[*********************100%***********************]  1 of 1 completed\n",
            "[*********************100%***********************]  1 of 1 completed\n",
            "[*********************100%***********************]  1 of 1 completed\n",
            "[*********************100%***********************]  1 of 1 completed\n",
            "[*********************100%***********************]  1 of 1 completed\n",
            "[*********************100%***********************]  1 of 1 completed\n",
            "[*********************100%***********************]  1 of 1 completed\n",
            "[*********************100%***********************]  1 of 1 completed\n",
            "\n",
            " All Completed \n",
            "\n"
          ],
          "name": "stdout"
        }
      ]
    },
    {
      "cell_type": "code",
      "metadata": {
        "id": "G4J9Tyt9Iwx5",
        "colab": {
          "base_uri": "https://localhost:8080/"
        },
        "outputId": "09add7e4-67ef-407e-8f19-2a0e79640a75"
      },
      "source": [
        "tker = '^NSEI'\n",
        "nifty = yf.download(tker, start=START, end=END)\n",
        "nifty=nifty.dropna()\n",
        "nifty=nifty.iloc[:,:4]"
      ],
      "execution_count": 10,
      "outputs": [
        {
          "output_type": "stream",
          "text": [
            "\r[*********************100%***********************]  1 of 1 completed\n"
          ],
          "name": "stdout"
        }
      ]
    },
    {
      "cell_type": "code",
      "metadata": {
        "id": "AyiVHPaUyLtQ"
      },
      "source": [
        "nlst=[]\n",
        "for i in range(len(ticker)):\n",
        "  nlst.append(lst[i].Close)"
      ],
      "execution_count": 11,
      "outputs": []
    },
    {
      "cell_type": "code",
      "metadata": {
        "id": "zN5y5i3-AOqw"
      },
      "source": [
        "def get_sum(nlst,ema_interval):\n",
        "  df = pd.DataFrame(nlst).T\n",
        "  namelist =[]\n",
        "  for i in range(1,len(ticker)+1):\n",
        "    namelist.append('Close'+str(i))\n",
        "  df.columns = namelist\n",
        "  for name in namelist:\n",
        "    name=str(name)\n",
        "    var = name+f'ema{ema_interval}'\n",
        "    df[var] = df[name].ewm(span=ema_interval, adjust=False).mean()  \n",
        "  lst_= []\n",
        "  for name in namelist:\n",
        "    name=str(name)\n",
        "    varname = name+f'ema{ema_interval}'\n",
        "    lst_.append((df[varname].diff() > 0 ).astype(int))\n",
        "  df1 = pd.DataFrame(lst_).T\n",
        "  fin_var='sum'+str(ema_interval)\n",
        "  df1[fin_var]=df1.sum(axis=1)\n",
        "  final_df=df1[[fin_var]]\n",
        "  return final_df"
      ],
      "execution_count": 12,
      "outputs": []
    },
    {
      "cell_type": "code",
      "metadata": {
        "id": "2cJmS3EwBLBL"
      },
      "source": [
        "df0=get_sum(nlst,5)\n",
        "df=get_sum(nlst,10)\n",
        "df5=get_sum(nlst,15)\n",
        "df1=get_sum(nlst,20)\n",
        "df25=get_sum(nlst,25)\n",
        "df2=get_sum(nlst,30)\n",
        "df35=get_sum(nlst,35)\n",
        "df3=get_sum(nlst,19)\n",
        "df45=get_sum(nlst,21)\n",
        "df4=get_sum(nlst,22)"
      ],
      "execution_count": 13,
      "outputs": []
    },
    {
      "cell_type": "code",
      "metadata": {
        "id": "QurXepz-C39Y"
      },
      "source": [
        "dataframe_f = pd.concat([df0,df,df1,df25,df35,df45,df5,df2,df3,df4],axis=1)"
      ],
      "execution_count": 14,
      "outputs": []
    },
    {
      "cell_type": "code",
      "metadata": {
        "id": "PDwwl2LpDDR7",
        "colab": {
          "base_uri": "https://localhost:8080/",
          "height": 140
        },
        "outputId": "fe75aaeb-9a46-4ba6-c98e-fc208fc29943"
      },
      "source": [
        "dataframe_f.tail(2)"
      ],
      "execution_count": 15,
      "outputs": [
        {
          "output_type": "execute_result",
          "data": {
            "text/html": [
              "<div>\n",
              "<style scoped>\n",
              "    .dataframe tbody tr th:only-of-type {\n",
              "        vertical-align: middle;\n",
              "    }\n",
              "\n",
              "    .dataframe tbody tr th {\n",
              "        vertical-align: top;\n",
              "    }\n",
              "\n",
              "    .dataframe thead th {\n",
              "        text-align: right;\n",
              "    }\n",
              "</style>\n",
              "<table border=\"1\" class=\"dataframe\">\n",
              "  <thead>\n",
              "    <tr style=\"text-align: right;\">\n",
              "      <th></th>\n",
              "      <th>sum5</th>\n",
              "      <th>sum10</th>\n",
              "      <th>sum20</th>\n",
              "      <th>sum25</th>\n",
              "      <th>sum35</th>\n",
              "      <th>sum21</th>\n",
              "      <th>sum15</th>\n",
              "      <th>sum30</th>\n",
              "      <th>sum19</th>\n",
              "      <th>sum22</th>\n",
              "    </tr>\n",
              "    <tr>\n",
              "      <th>Date</th>\n",
              "      <th></th>\n",
              "      <th></th>\n",
              "      <th></th>\n",
              "      <th></th>\n",
              "      <th></th>\n",
              "      <th></th>\n",
              "      <th></th>\n",
              "      <th></th>\n",
              "      <th></th>\n",
              "      <th></th>\n",
              "    </tr>\n",
              "  </thead>\n",
              "  <tbody>\n",
              "    <tr>\n",
              "      <th>2019-05-30</th>\n",
              "      <td>62</td>\n",
              "      <td>69</td>\n",
              "      <td>66</td>\n",
              "      <td>63</td>\n",
              "      <td>63</td>\n",
              "      <td>66</td>\n",
              "      <td>67</td>\n",
              "      <td>63</td>\n",
              "      <td>67</td>\n",
              "      <td>64</td>\n",
              "    </tr>\n",
              "    <tr>\n",
              "      <th>2019-05-31</th>\n",
              "      <td>65</td>\n",
              "      <td>69</td>\n",
              "      <td>69</td>\n",
              "      <td>69</td>\n",
              "      <td>69</td>\n",
              "      <td>69</td>\n",
              "      <td>70</td>\n",
              "      <td>70</td>\n",
              "      <td>69</td>\n",
              "      <td>69</td>\n",
              "    </tr>\n",
              "  </tbody>\n",
              "</table>\n",
              "</div>"
            ],
            "text/plain": [
              "            sum5  sum10  sum20  sum25  sum35  sum21  sum15  sum30  sum19  sum22\n",
              "Date                                                                           \n",
              "2019-05-30    62     69     66     63     63     66     67     63     67     64\n",
              "2019-05-31    65     69     69     69     69     69     70     70     69     69"
            ]
          },
          "metadata": {
            "tags": []
          },
          "execution_count": 15
        }
      ]
    },
    {
      "cell_type": "code",
      "metadata": {
        "id": "6Et9pqjEJhKN"
      },
      "source": [
        "# I Just need the Close\n",
        "price_data = dataframe_f.copy()"
      ],
      "execution_count": 16,
      "outputs": []
    },
    {
      "cell_type": "code",
      "metadata": {
        "id": "mBGSlIJ9JhR1"
      },
      "source": [
        "price_data=pd.concat([price_data,nifty['Close']],axis=1)"
      ],
      "execution_count": 17,
      "outputs": []
    },
    {
      "cell_type": "code",
      "metadata": {
        "id": "34jscDSYJhdD"
      },
      "source": [
        "features = dataframe_f.columns.tolist()"
      ],
      "execution_count": 18,
      "outputs": []
    },
    {
      "cell_type": "markdown",
      "metadata": {
        "id": "7-Ll-YzAwLUC"
      },
      "source": [
        "# Days Out"
      ]
    },
    {
      "cell_type": "code",
      "metadata": {
        "id": "NU0rhsvqJhg6"
      },
      "source": [
        "# define the number of days out you want to predict\n",
        "days_out =14\n",
        "\n",
        "# create a new column that will house the flag, and for each group calculate the diff compared to 30 days ago. Then use Numpy to define the sign.\n",
        "price_data['Signal_Flag'] = price_data['Close'].transform(lambda x : np.sign(x.diff(days_out)))\n",
        "#price_data['Signal_Flag_INR'] = price_data['INRClose'].transform(lambda x : np.sign(x.diff(days_out)))\n",
        "# print the first 50 rows"
      ],
      "execution_count": 19,
      "outputs": []
    },
    {
      "cell_type": "code",
      "metadata": {
        "id": "ueCzWqogJhaD",
        "colab": {
          "base_uri": "https://localhost:8080/",
          "height": 242
        },
        "outputId": "084547a4-c17a-416e-d55c-096ce397155b"
      },
      "source": [
        "# Create a column we wish to predict\n",
        "'''\n",
        "    In this case, let's create an output column that will be 1 if the closing price at time 't' is greater than 't-1' and 0 otherwise.\n",
        "    In other words, if the today's closing price is greater than yesterday's closing price it would be 1.\n",
        "'''\n",
        "\n",
        "# Group by the `Symbol` column, then grab the `Close` column.\n",
        "close_groups = price_data['Close']\n",
        "\n",
        "# Apply the lambda function which will return -1.0 for down, 1.0 for up and 0.0 for no change.\n",
        "close_groups = close_groups.transform(lambda x : np.sign(x.diff(days_out)))\n",
        "\n",
        "# add the data to the main dataframe.\n",
        "price_data['Prediction'] = close_groups\n",
        "\n",
        "# for simplicity in later sections I'm going to make a change to our prediction column. To keep this as a binary classifier I'll change flat days and consider them up days.\n",
        "price_data.loc[price_data['Prediction'] == 0.0] = 1.0\n",
        "\n",
        "# print the head\n",
        "price_data.tail(3)"
      ],
      "execution_count": 20,
      "outputs": [
        {
          "output_type": "execute_result",
          "data": {
            "text/html": [
              "<div>\n",
              "<style scoped>\n",
              "    .dataframe tbody tr th:only-of-type {\n",
              "        vertical-align: middle;\n",
              "    }\n",
              "\n",
              "    .dataframe tbody tr th {\n",
              "        vertical-align: top;\n",
              "    }\n",
              "\n",
              "    .dataframe thead th {\n",
              "        text-align: right;\n",
              "    }\n",
              "</style>\n",
              "<table border=\"1\" class=\"dataframe\">\n",
              "  <thead>\n",
              "    <tr style=\"text-align: right;\">\n",
              "      <th></th>\n",
              "      <th>sum5</th>\n",
              "      <th>sum10</th>\n",
              "      <th>sum20</th>\n",
              "      <th>sum25</th>\n",
              "      <th>sum35</th>\n",
              "      <th>sum21</th>\n",
              "      <th>sum15</th>\n",
              "      <th>sum30</th>\n",
              "      <th>sum19</th>\n",
              "      <th>sum22</th>\n",
              "      <th>Close</th>\n",
              "      <th>Signal_Flag</th>\n",
              "      <th>Prediction</th>\n",
              "    </tr>\n",
              "    <tr>\n",
              "      <th>Date</th>\n",
              "      <th></th>\n",
              "      <th></th>\n",
              "      <th></th>\n",
              "      <th></th>\n",
              "      <th></th>\n",
              "      <th></th>\n",
              "      <th></th>\n",
              "      <th></th>\n",
              "      <th></th>\n",
              "      <th></th>\n",
              "      <th></th>\n",
              "      <th></th>\n",
              "      <th></th>\n",
              "    </tr>\n",
              "  </thead>\n",
              "  <tbody>\n",
              "    <tr>\n",
              "      <th>2019-05-29</th>\n",
              "      <td>60</td>\n",
              "      <td>67</td>\n",
              "      <td>68</td>\n",
              "      <td>66</td>\n",
              "      <td>65</td>\n",
              "      <td>68</td>\n",
              "      <td>71</td>\n",
              "      <td>64</td>\n",
              "      <td>68</td>\n",
              "      <td>68</td>\n",
              "      <td>11861.099609</td>\n",
              "      <td>1.0</td>\n",
              "      <td>1.0</td>\n",
              "    </tr>\n",
              "    <tr>\n",
              "      <th>2019-05-30</th>\n",
              "      <td>62</td>\n",
              "      <td>69</td>\n",
              "      <td>66</td>\n",
              "      <td>63</td>\n",
              "      <td>63</td>\n",
              "      <td>66</td>\n",
              "      <td>67</td>\n",
              "      <td>63</td>\n",
              "      <td>67</td>\n",
              "      <td>64</td>\n",
              "      <td>11945.900391</td>\n",
              "      <td>1.0</td>\n",
              "      <td>1.0</td>\n",
              "    </tr>\n",
              "    <tr>\n",
              "      <th>2019-05-31</th>\n",
              "      <td>65</td>\n",
              "      <td>69</td>\n",
              "      <td>69</td>\n",
              "      <td>69</td>\n",
              "      <td>69</td>\n",
              "      <td>69</td>\n",
              "      <td>70</td>\n",
              "      <td>70</td>\n",
              "      <td>69</td>\n",
              "      <td>69</td>\n",
              "      <td>11922.799805</td>\n",
              "      <td>1.0</td>\n",
              "      <td>1.0</td>\n",
              "    </tr>\n",
              "  </tbody>\n",
              "</table>\n",
              "</div>"
            ],
            "text/plain": [
              "            sum5  sum10  sum20  ...         Close  Signal_Flag  Prediction\n",
              "Date                            ...                                       \n",
              "2019-05-29    60     67     68  ...  11861.099609          1.0         1.0\n",
              "2019-05-30    62     69     66  ...  11945.900391          1.0         1.0\n",
              "2019-05-31    65     69     69  ...  11922.799805          1.0         1.0\n",
              "\n",
              "[3 rows x 13 columns]"
            ]
          },
          "metadata": {
            "tags": []
          },
          "execution_count": 20
        }
      ]
    },
    {
      "cell_type": "code",
      "metadata": {
        "id": "f81k4Q__Ohzh",
        "colab": {
          "base_uri": "https://localhost:8080/"
        },
        "outputId": "df60d59a-3390-49d8-9b78-04e0845c9b8c"
      },
      "source": [
        "# We need to remove all rows that have an NaN value.\n",
        "print('Before NaN Drop we have {} rows and {}  columns in original dataset'.format(price_data.shape[0], price_data.shape[1]))\n",
        "\n",
        "# Any row that has a `NaN` value will be dropped.\n",
        "price_data = price_data.dropna()\n",
        "\n",
        "# Display how much we have left now.\n",
        "print('After NaN Drop we have {} rows and {} columns in original dataset'.format(price_data.shape[0], price_data.shape[1]))\n",
        "\n",
        "# Print the head.\n"
      ],
      "execution_count": 21,
      "outputs": [
        {
          "output_type": "stream",
          "text": [
            "Before NaN Drop we have 1579 rows and 13  columns in original dataset\n",
            "After NaN Drop we have 1544 rows and 13 columns in original dataset\n"
          ],
          "name": "stdout"
        }
      ]
    },
    {
      "cell_type": "code",
      "metadata": {
        "id": "Ekqv1ZhSOnj3",
        "colab": {
          "base_uri": "https://localhost:8080/"
        },
        "outputId": "932d699e-c0c3-4f63-ab1c-3818e6c1ee9b"
      },
      "source": [
        "# Number of trees is not a parameter that should be tuned, but just set large enough usually. There is no risk of overfitting in random forest with growing number of # trees, as they are trained independently from each other. \n",
        "n_estimators = list(range(200, 2000, 200))\n",
        "\n",
        "# Number of features to consider at every split\n",
        "max_features = ['auto', 'sqrt', None, 'log2']\n",
        "\n",
        "# Maximum number of levels in tree\n",
        "# Max depth is a parameter that most of the times should be set as high as possible, but possibly better performance can be achieved by setting it lower.\n",
        "max_depth = list(range(10, 110, 10))\n",
        "max_depth.append(None)\n",
        "\n",
        "# Minimum number of samples required to split a node\n",
        "# Higher values prevent a model from learning relations which might be highly specific to the particular sample selected for a tree. Too high values can also lead to # under-fitting hence depending on the level of underfitting or overfitting, you can tune the values for min_samples_split.\n",
        "min_samples_split = [2, 5, 10, 20, 30, 40]\n",
        "\n",
        "# Minimum number of samples required at each leaf node\n",
        "min_samples_leaf = [1, 2, 7, 12, 14, 16 ,20]\n",
        "\n",
        "# Method of selecting samples for training each tree\n",
        "bootstrap = [True, False]\n",
        "\n",
        "# Create the random grid\n",
        "random_grid = {'n_estimators': n_estimators,\n",
        "               'max_features': max_features,\n",
        "               'max_depth': max_depth,\n",
        "               'min_samples_split': min_samples_split,\n",
        "               'min_samples_leaf': min_samples_leaf,\n",
        "               'bootstrap': bootstrap}\n",
        "\n",
        "print(random_grid)"
      ],
      "execution_count": 22,
      "outputs": [
        {
          "output_type": "stream",
          "text": [
            "{'n_estimators': [200, 400, 600, 800, 1000, 1200, 1400, 1600, 1800], 'max_features': ['auto', 'sqrt', None, 'log2'], 'max_depth': [10, 20, 30, 40, 50, 60, 70, 80, 90, 100, None], 'min_samples_split': [2, 5, 10, 20, 30, 40], 'min_samples_leaf': [1, 2, 7, 12, 14, 16, 20], 'bootstrap': [True, False]}\n"
          ],
          "name": "stdout"
        }
      ]
    },
    {
      "cell_type": "code",
      "metadata": {
        "id": "QHDZ-3j3Ongc",
        "colab": {
          "base_uri": "https://localhost:8080/",
          "height": 85
        },
        "outputId": "5dbd46dd-e44b-451c-c8e2-47f171d5130e"
      },
      "source": [
        "X_Cols = price_data[features]\n",
        "Y_Cols = price_data['Prediction']\n",
        "#,'log5vol','log5','RSI','Price_Rate_Of_Change','log5volM','log5M','MMI_roc'\n",
        "# Split X and y into X_train and X_test\n",
        "samp_train= int(len(price_data)*.75) -50\n",
        "samp_test= samp_train+50\n",
        "X_train = X_Cols[:samp_train]\n",
        "X_test = X_Cols[samp_test:]\n",
        "y_train = Y_Cols[:samp_train]\n",
        "y_test = Y_Cols[samp_test:]\n",
        "\n",
        "\n",
        "#X_train, X_test, y_train, y_test = train_test_split(X_Cols, Y_Cols, random_state = 0)\n",
        "\n",
        "\n",
        "# New Random Forest Classifier to house optimal parameters\n",
        "rf = RandomForestClassifier()\n",
        "\n",
        "# Specfiy the details of our Randomized Search\n",
        "rf_random = RandomizedSearchCV(estimator = rf, param_distributions = random_grid, n_iter = 100, cv = 3, verbose=2, random_state=42, n_jobs = -1)\n",
        "'''\n",
        "# Fit the random search model############################~~~~~~~~~~~~~~~~~~################\n",
        "rf_random.fit(X_train, y_train)\n",
        "print(f\"Best score: {rf_random.best_score_}\")\n",
        "print(\"Best parameters set:\")\n",
        "best_parameters = rf_random.best_estimator_.get_params()\n",
        "for param_name in sorted(random_grid.keys()):\n",
        "  print(f\"\\t{param_name}: {best_parameters[param_name]}\")\n",
        "'''\n"
      ],
      "execution_count": 23,
      "outputs": [
        {
          "output_type": "execute_result",
          "data": {
            "application/vnd.google.colaboratory.intrinsic+json": {
              "type": "string"
            },
            "text/plain": [
              "'\\n# Fit the random search model############################~~~~~~~~~~~~~~~~~~################\\nrf_random.fit(X_train, y_train)\\nprint(f\"Best score: {rf_random.best_score_}\")\\nprint(\"Best parameters set:\")\\nbest_parameters = rf_random.best_estimator_.get_params()\\nfor param_name in sorted(random_grid.keys()):\\n  print(f\"\\t{param_name}: {best_parameters[param_name]}\")\\n'"
            ]
          },
          "metadata": {
            "tags": []
          },
          "execution_count": 23
        }
      ]
    },
    {
      "cell_type": "code",
      "metadata": {
        "id": "E0M4IaajOh4t"
      },
      "source": [
        "# Create a Random Forest Classifier\n",
        "rand_frst_clf = RandomForestClassifier(n_estimators = 1200,max_depth=80,min_samples_leaf=1,max_features = \"auto\",min_samples_split=40, criterion = \"gini\", bootstrap=True,random_state = 42)\n"
      ],
      "execution_count": 24,
      "outputs": []
    },
    {
      "cell_type": "code",
      "metadata": {
        "colab": {
          "base_uri": "https://localhost:8080/"
        },
        "id": "9CICRlPPIe2W",
        "outputId": "3aebb08e-ff2c-41a7-9b79-3dcb504faaa3"
      },
      "source": [
        "samp_train,samp_test"
      ],
      "execution_count": 25,
      "outputs": [
        {
          "output_type": "execute_result",
          "data": {
            "text/plain": [
              "(1108, 1158)"
            ]
          },
          "metadata": {
            "tags": []
          },
          "execution_count": 25
        }
      ]
    },
    {
      "cell_type": "code",
      "metadata": {
        "id": "Ycz6zEiJO9zl",
        "colab": {
          "base_uri": "https://localhost:8080/",
          "height": 202
        },
        "outputId": "57caabe5-ceac-444d-de87-8a1eaa9b0e6a"
      },
      "source": [
        "# Fit the data to the model\n",
        "rand_frst_clf.fit(X_train, y_train)\n",
        "\n",
        "# Make predictions\n",
        "y_pred = rand_frst_clf.predict(X_test)\n",
        "\n",
        "# Define the traget names\n",
        "target_names = ['Down Day', 'Up Day']\n",
        "\n",
        "# Build a classifcation report\n",
        "report = classification_report(y_true = y_test, y_pred = y_pred, target_names = target_names, output_dict = True)\n",
        "\n",
        "# Add it to a data frame, transpose it for readability.\n",
        "report_df = pd.DataFrame(report).transpose()\n",
        "report_df"
      ],
      "execution_count": 26,
      "outputs": [
        {
          "output_type": "execute_result",
          "data": {
            "text/html": [
              "<div>\n",
              "<style scoped>\n",
              "    .dataframe tbody tr th:only-of-type {\n",
              "        vertical-align: middle;\n",
              "    }\n",
              "\n",
              "    .dataframe tbody tr th {\n",
              "        vertical-align: top;\n",
              "    }\n",
              "\n",
              "    .dataframe thead th {\n",
              "        text-align: right;\n",
              "    }\n",
              "</style>\n",
              "<table border=\"1\" class=\"dataframe\">\n",
              "  <thead>\n",
              "    <tr style=\"text-align: right;\">\n",
              "      <th></th>\n",
              "      <th>precision</th>\n",
              "      <th>recall</th>\n",
              "      <th>f1-score</th>\n",
              "      <th>support</th>\n",
              "    </tr>\n",
              "  </thead>\n",
              "  <tbody>\n",
              "    <tr>\n",
              "      <th>Down Day</th>\n",
              "      <td>0.712575</td>\n",
              "      <td>0.777778</td>\n",
              "      <td>0.743750</td>\n",
              "      <td>153.000000</td>\n",
              "    </tr>\n",
              "    <tr>\n",
              "      <th>Up Day</th>\n",
              "      <td>0.844749</td>\n",
              "      <td>0.793991</td>\n",
              "      <td>0.818584</td>\n",
              "      <td>233.000000</td>\n",
              "    </tr>\n",
              "    <tr>\n",
              "      <th>accuracy</th>\n",
              "      <td>0.787565</td>\n",
              "      <td>0.787565</td>\n",
              "      <td>0.787565</td>\n",
              "      <td>0.787565</td>\n",
              "    </tr>\n",
              "    <tr>\n",
              "      <th>macro avg</th>\n",
              "      <td>0.778662</td>\n",
              "      <td>0.785885</td>\n",
              "      <td>0.781167</td>\n",
              "      <td>386.000000</td>\n",
              "    </tr>\n",
              "    <tr>\n",
              "      <th>weighted avg</th>\n",
              "      <td>0.792359</td>\n",
              "      <td>0.787565</td>\n",
              "      <td>0.788922</td>\n",
              "      <td>386.000000</td>\n",
              "    </tr>\n",
              "  </tbody>\n",
              "</table>\n",
              "</div>"
            ],
            "text/plain": [
              "              precision    recall  f1-score     support\n",
              "Down Day       0.712575  0.777778  0.743750  153.000000\n",
              "Up Day         0.844749  0.793991  0.818584  233.000000\n",
              "accuracy       0.787565  0.787565  0.787565    0.787565\n",
              "macro avg      0.778662  0.785885  0.781167  386.000000\n",
              "weighted avg   0.792359  0.787565  0.788922  386.000000"
            ]
          },
          "metadata": {
            "tags": []
          },
          "execution_count": 26
        }
      ]
    },
    {
      "cell_type": "code",
      "metadata": {
        "id": "s7U2mw_TO9wW",
        "colab": {
          "base_uri": "https://localhost:8080/",
          "height": 362
        },
        "outputId": "0630dc26-e7cc-4aec-98c4-5c9c72245f2f"
      },
      "source": [
        "from sklearn.metrics import confusion_matrix, plot_confusion_matrix\n",
        "\n",
        "rf_matrix = confusion_matrix(y_test, y_pred)\n",
        "\n",
        "true_negatives = rf_matrix[0][0]\n",
        "false_negatives = rf_matrix[1][0]\n",
        "true_positives = rf_matrix[1][1]\n",
        "false_positives = rf_matrix[0][1]\n",
        "\n",
        "accuracy = (true_negatives + true_positives) / (true_negatives + true_positives + false_negatives + false_positives)\n",
        "percision = true_positives / (true_positives + false_positives)\n",
        "recall = true_positives / (true_positives + false_negatives)\n",
        "specificity = true_negatives / (true_negatives + false_positives)\n",
        "\n",
        "print('Accuracy: {}'.format(float(accuracy)))\n",
        "print('Percision: {}'.format(float(percision)))\n",
        "print('Recall: {}'.format(float(recall)))\n",
        "print('Specificity: {}'.format(float(specificity)))\n",
        "\n",
        "disp = plot_confusion_matrix(rand_frst_clf, X_test, y_test, display_labels = ['Down Day', 'Up Day'], normalize = 'true', cmap=plt.cm.Blues)\n",
        "disp.ax_.set_title('Confusion Matrix - Normalized')\n",
        "plt.show()"
      ],
      "execution_count": 27,
      "outputs": [
        {
          "output_type": "stream",
          "text": [
            "Accuracy: 0.7875647668393783\n",
            "Percision: 0.8447488584474886\n",
            "Recall: 0.7939914163090128\n",
            "Specificity: 0.7777777777777778\n"
          ],
          "name": "stdout"
        },
        {
          "output_type": "display_data",
          "data": {
            "image/png": "[encoded data removed]",
            "text/plain": [
              "<Figure size 432x288 with 2 Axes>"
            ]
          },
          "metadata": {
            "tags": [],
            "needs_background": "light"
          }
        }
      ]
    },
    {
      "cell_type": "code",
      "metadata": {
        "id": "_9NIrqUSPDkT",
        "colab": {
          "base_uri": "https://localhost:8080/"
        },
        "outputId": "bbc81b6d-e799-4938-9736-6a933f887584"
      },
      "source": [
        "feature_imp = pd.Series(rand_frst_clf.feature_importances_, index=X_Cols.columns).sort_values(ascending=False)\n",
        "feature_imp"
      ],
      "execution_count": 28,
      "outputs": [
        {
          "output_type": "execute_result",
          "data": {
            "text/plain": [
              "sum22    0.171964\n",
              "sum19    0.160299\n",
              "sum25    0.145039\n",
              "sum21    0.144601\n",
              "sum20    0.126319\n",
              "sum30    0.094829\n",
              "sum15    0.062136\n",
              "sum35    0.039004\n",
              "sum5     0.034118\n",
              "sum10    0.021691\n",
              "dtype: float64"
            ]
          },
          "metadata": {
            "tags": []
          },
          "execution_count": 28
        }
      ]
    },
    {
      "cell_type": "code",
      "metadata": {
        "id": "cw0GDvmrOhv6"
      },
      "source": [
        "\n"
      ],
      "execution_count": 28,
      "outputs": []
    },
    {
      "cell_type": "code",
      "metadata": {
        "id": "Opt2DxoKSpE-",
        "colab": {
          "base_uri": "https://localhost:8080/"
        },
        "outputId": "8fcc2477-d31d-44ba-e120-27bee96958c3"
      },
      "source": [
        "Ticker = '^NSEI'\n",
        "nifty_n = yf.download(Ticker, start=START_testdate)\n",
        "nifty_n=nifty_n.dropna()\n",
        "nifty_n=nifty_n.iloc[:,:4]"
      ],
      "execution_count": 29,
      "outputs": [
        {
          "output_type": "stream",
          "text": [
            "\r[*********************100%***********************]  1 of 1 completed\n"
          ],
          "name": "stdout"
        }
      ]
    },
    {
      "cell_type": "code",
      "metadata": {
        "id": "sH0oZvCTMoIG",
        "colab": {
          "base_uri": "https://localhost:8080/",
          "height": 140
        },
        "outputId": "fb29abdf-dd08-4337-9243-6cc3443e3130"
      },
      "source": [
        "nifty_n.tail(2)"
      ],
      "execution_count": 30,
      "outputs": [
        {
          "output_type": "execute_result",
          "data": {
            "text/html": [
              "<div>\n",
              "<style scoped>\n",
              "    .dataframe tbody tr th:only-of-type {\n",
              "        vertical-align: middle;\n",
              "    }\n",
              "\n",
              "    .dataframe tbody tr th {\n",
              "        vertical-align: top;\n",
              "    }\n",
              "\n",
              "    .dataframe thead th {\n",
              "        text-align: right;\n",
              "    }\n",
              "</style>\n",
              "<table border=\"1\" class=\"dataframe\">\n",
              "  <thead>\n",
              "    <tr style=\"text-align: right;\">\n",
              "      <th></th>\n",
              "      <th>Open</th>\n",
              "      <th>High</th>\n",
              "      <th>Low</th>\n",
              "      <th>Close</th>\n",
              "    </tr>\n",
              "    <tr>\n",
              "      <th>Date</th>\n",
              "      <th></th>\n",
              "      <th></th>\n",
              "      <th></th>\n",
              "      <th></th>\n",
              "    </tr>\n",
              "  </thead>\n",
              "  <tbody>\n",
              "    <tr>\n",
              "      <th>2021-08-10</th>\n",
              "      <td>16274.799805</td>\n",
              "      <td>16359.25</td>\n",
              "      <td>16202.250000</td>\n",
              "      <td>16280.099609</td>\n",
              "    </tr>\n",
              "    <tr>\n",
              "      <th>2021-08-11</th>\n",
              "      <td>16327.299805</td>\n",
              "      <td>16338.75</td>\n",
              "      <td>16162.549805</td>\n",
              "      <td>16282.250000</td>\n",
              "    </tr>\n",
              "  </tbody>\n",
              "</table>\n",
              "</div>"
            ],
            "text/plain": [
              "                    Open      High           Low         Close\n",
              "Date                                                          \n",
              "2021-08-10  16274.799805  16359.25  16202.250000  16280.099609\n",
              "2021-08-11  16327.299805  16338.75  16162.549805  16282.250000"
            ]
          },
          "metadata": {
            "tags": []
          },
          "execution_count": 30
        }
      ]
    },
    {
      "cell_type": "code",
      "metadata": {
        "id": "VUlacFVHJhYT",
        "colab": {
          "base_uri": "https://localhost:8080/"
        },
        "outputId": "f5bf2f1b-a952-4355-c4b3-3d3cb37506a6"
      },
      "source": [
        "lst1=[]\n",
        "for i in range(len(ticker)):\n",
        "  dfn = yf.download(ticker[i], start=START_testdate)\n",
        "  dfn = dfn.dropna()\n",
        "  dfn = dfn.iloc[:,:4]\n",
        "  #df.head(3)\n",
        "  #print('Done : '+ nifty10[i])\n",
        "  #print(df.head(2))\n",
        "  lst1.append(dfn)\n",
        "\n",
        "#df1.head(3)\n",
        "print('\\n All Completed \\n')\n",
        "#df1.head(3)\n"
      ],
      "execution_count": 31,
      "outputs": [
        {
          "output_type": "stream",
          "text": [
            "[*********************100%***********************]  1 of 1 completed\n",
            "[*********************100%***********************]  1 of 1 completed\n",
            "[*********************100%***********************]  1 of 1 completed\n",
            "[*********************100%***********************]  1 of 1 completed\n",
            "[*********************100%***********************]  1 of 1 completed\n",
            "[*********************100%***********************]  1 of 1 completed\n",
            "[*********************100%***********************]  1 of 1 completed\n",
            "[*********************100%***********************]  1 of 1 completed\n",
            "[*********************100%***********************]  1 of 1 completed\n",
            "[*********************100%***********************]  1 of 1 completed\n",
            "[*********************100%***********************]  1 of 1 completed\n",
            "[*********************100%***********************]  1 of 1 completed\n",
            "[*********************100%***********************]  1 of 1 completed\n",
            "[*********************100%***********************]  1 of 1 completed\n",
            "[*********************100%***********************]  1 of 1 completed\n",
            "[*********************100%***********************]  1 of 1 completed\n",
            "[*********************100%***********************]  1 of 1 completed\n",
            "[*********************100%***********************]  1 of 1 completed\n",
            "[*********************100%***********************]  1 of 1 completed\n",
            "[*********************100%***********************]  1 of 1 completed\n",
            "[*********************100%***********************]  1 of 1 completed\n",
            "[*********************100%***********************]  1 of 1 completed\n",
            "[*********************100%***********************]  1 of 1 completed\n",
            "[*********************100%***********************]  1 of 1 completed\n",
            "[*********************100%***********************]  1 of 1 completed\n",
            "[*********************100%***********************]  1 of 1 completed\n",
            "[*********************100%***********************]  1 of 1 completed\n",
            "[*********************100%***********************]  1 of 1 completed\n",
            "[*********************100%***********************]  1 of 1 completed\n",
            "[*********************100%***********************]  1 of 1 completed\n",
            "[*********************100%***********************]  1 of 1 completed\n",
            "[*********************100%***********************]  1 of 1 completed\n",
            "[*********************100%***********************]  1 of 1 completed\n",
            "[*********************100%***********************]  1 of 1 completed\n",
            "[*********************100%***********************]  1 of 1 completed\n",
            "[*********************100%***********************]  1 of 1 completed\n",
            "[*********************100%***********************]  1 of 1 completed\n",
            "[*********************100%***********************]  1 of 1 completed\n",
            "[*********************100%***********************]  1 of 1 completed\n",
            "[*********************100%***********************]  1 of 1 completed\n",
            "[*********************100%***********************]  1 of 1 completed\n",
            "[*********************100%***********************]  1 of 1 completed\n",
            "[*********************100%***********************]  1 of 1 completed\n",
            "[*********************100%***********************]  1 of 1 completed\n",
            "[*********************100%***********************]  1 of 1 completed\n",
            "[*********************100%***********************]  1 of 1 completed\n",
            "[*********************100%***********************]  1 of 1 completed\n",
            "[*********************100%***********************]  1 of 1 completed\n",
            "[*********************100%***********************]  1 of 1 completed\n",
            "[*********************100%***********************]  1 of 1 completed\n",
            "[*********************100%***********************]  1 of 1 completed\n",
            "[*********************100%***********************]  1 of 1 completed\n",
            "[*********************100%***********************]  1 of 1 completed\n",
            "[*********************100%***********************]  1 of 1 completed\n",
            "[*********************100%***********************]  1 of 1 completed\n",
            "[*********************100%***********************]  1 of 1 completed\n",
            "[*********************100%***********************]  1 of 1 completed\n",
            "[*********************100%***********************]  1 of 1 completed\n",
            "[*********************100%***********************]  1 of 1 completed\n",
            "[*********************100%***********************]  1 of 1 completed\n",
            "[*********************100%***********************]  1 of 1 completed\n",
            "[*********************100%***********************]  1 of 1 completed\n",
            "[*********************100%***********************]  1 of 1 completed\n",
            "[*********************100%***********************]  1 of 1 completed\n",
            "[*********************100%***********************]  1 of 1 completed\n",
            "[*********************100%***********************]  1 of 1 completed\n",
            "[*********************100%***********************]  1 of 1 completed\n",
            "[*********************100%***********************]  1 of 1 completed\n",
            "[*********************100%***********************]  1 of 1 completed\n",
            "[*********************100%***********************]  1 of 1 completed\n",
            "[*********************100%***********************]  1 of 1 completed\n",
            "[*********************100%***********************]  1 of 1 completed\n",
            "[*********************100%***********************]  1 of 1 completed\n",
            "[*********************100%***********************]  1 of 1 completed\n",
            "[*********************100%***********************]  1 of 1 completed\n",
            "[*********************100%***********************]  1 of 1 completed\n",
            "[*********************100%***********************]  1 of 1 completed\n",
            "[*********************100%***********************]  1 of 1 completed\n",
            "[*********************100%***********************]  1 of 1 completed\n",
            "[*********************100%***********************]  1 of 1 completed\n",
            "[*********************100%***********************]  1 of 1 completed\n",
            "[*********************100%***********************]  1 of 1 completed\n",
            "[*********************100%***********************]  1 of 1 completed\n",
            "[*********************100%***********************]  1 of 1 completed\n",
            "[*********************100%***********************]  1 of 1 completed\n",
            "[*********************100%***********************]  1 of 1 completed\n",
            "[*********************100%***********************]  1 of 1 completed\n",
            "[*********************100%***********************]  1 of 1 completed\n",
            "[*********************100%***********************]  1 of 1 completed\n",
            "[*********************100%***********************]  1 of 1 completed\n",
            "[*********************100%***********************]  1 of 1 completed\n",
            "[*********************100%***********************]  1 of 1 completed\n",
            "[*********************100%***********************]  1 of 1 completed\n",
            "[*********************100%***********************]  1 of 1 completed\n",
            "[*********************100%***********************]  1 of 1 completed\n",
            "[*********************100%***********************]  1 of 1 completed\n",
            "[*********************100%***********************]  1 of 1 completed\n",
            "[*********************100%***********************]  1 of 1 completed\n",
            "\n",
            " All Completed \n",
            "\n"
          ],
          "name": "stdout"
        }
      ]
    },
    {
      "cell_type": "code",
      "metadata": {
        "id": "ldFHI4kzHbdH"
      },
      "source": [
        "nlst=[]\n",
        "for i in range(len(ticker)):\n",
        "  nlst.append(lst1[i].Close)"
      ],
      "execution_count": 32,
      "outputs": []
    },
    {
      "cell_type": "code",
      "metadata": {
        "id": "05kYT_pVzdTF"
      },
      "source": [
        "dfn=get_sum(nlst,10)\n",
        "df1n=get_sum(nlst,20)\n",
        "df2n=get_sum(nlst,30)\n",
        "df3n=get_sum(nlst,19)\n",
        "df4n=get_sum(nlst,21)\n",
        "df5n=get_sum(nlst,5)\n",
        "df15n=get_sum(nlst,15)\n",
        "df25n=get_sum(nlst,25)\n",
        "df35n=get_sum(nlst,35)\n",
        "df45n=get_sum(nlst,22)\n",
        "\n",
        "\n",
        "df_new=pd.concat([dfn,df1n,df2n,df3n,df4n,df5n,df15n,df25n,df35n,df45n],axis=1)"
      ],
      "execution_count": 33,
      "outputs": []
    },
    {
      "cell_type": "code",
      "metadata": {
        "id": "PMscQlNtJhHF"
      },
      "source": [
        "price_data_new = df_new.copy()\n",
        "price_data_new=pd.concat([price_data_new,nifty_n['Close']],axis=1)"
      ],
      "execution_count": 34,
      "outputs": []
    },
    {
      "cell_type": "code",
      "metadata": {
        "id": "GV7-qkZOFxhc",
        "colab": {
          "base_uri": "https://localhost:8080/",
          "height": 140
        },
        "outputId": "1dcdd57a-22d2-4aa3-f5e9-375e036cb6c4"
      },
      "source": [
        "price_data_new.tail(2)"
      ],
      "execution_count": 35,
      "outputs": [
        {
          "output_type": "execute_result",
          "data": {
            "text/html": [
              "<div>\n",
              "<style scoped>\n",
              "    .dataframe tbody tr th:only-of-type {\n",
              "        vertical-align: middle;\n",
              "    }\n",
              "\n",
              "    .dataframe tbody tr th {\n",
              "        vertical-align: top;\n",
              "    }\n",
              "\n",
              "    .dataframe thead th {\n",
              "        text-align: right;\n",
              "    }\n",
              "</style>\n",
              "<table border=\"1\" class=\"dataframe\">\n",
              "  <thead>\n",
              "    <tr style=\"text-align: right;\">\n",
              "      <th></th>\n",
              "      <th>sum10</th>\n",
              "      <th>sum20</th>\n",
              "      <th>sum30</th>\n",
              "      <th>sum19</th>\n",
              "      <th>sum21</th>\n",
              "      <th>sum5</th>\n",
              "      <th>sum15</th>\n",
              "      <th>sum25</th>\n",
              "      <th>sum35</th>\n",
              "      <th>sum22</th>\n",
              "      <th>Close</th>\n",
              "    </tr>\n",
              "    <tr>\n",
              "      <th>Date</th>\n",
              "      <th></th>\n",
              "      <th></th>\n",
              "      <th></th>\n",
              "      <th></th>\n",
              "      <th></th>\n",
              "      <th></th>\n",
              "      <th></th>\n",
              "      <th></th>\n",
              "      <th></th>\n",
              "      <th></th>\n",
              "      <th></th>\n",
              "    </tr>\n",
              "  </thead>\n",
              "  <tbody>\n",
              "    <tr>\n",
              "      <th>2021-08-10</th>\n",
              "      <td>36</td>\n",
              "      <td>40</td>\n",
              "      <td>45</td>\n",
              "      <td>38</td>\n",
              "      <td>40</td>\n",
              "      <td>34</td>\n",
              "      <td>38</td>\n",
              "      <td>43</td>\n",
              "      <td>45</td>\n",
              "      <td>41</td>\n",
              "      <td>16280.099609</td>\n",
              "    </tr>\n",
              "    <tr>\n",
              "      <th>2021-08-11</th>\n",
              "      <td>44</td>\n",
              "      <td>44</td>\n",
              "      <td>49</td>\n",
              "      <td>44</td>\n",
              "      <td>46</td>\n",
              "      <td>41</td>\n",
              "      <td>43</td>\n",
              "      <td>50</td>\n",
              "      <td>49</td>\n",
              "      <td>46</td>\n",
              "      <td>16282.250000</td>\n",
              "    </tr>\n",
              "  </tbody>\n",
              "</table>\n",
              "</div>"
            ],
            "text/plain": [
              "            sum10  sum20  sum30  sum19  ...  sum25  sum35  sum22         Close\n",
              "Date                                    ...                                   \n",
              "2021-08-10     36     40     45     38  ...     43     45     41  16280.099609\n",
              "2021-08-11     44     44     49     44  ...     50     49     46  16282.250000\n",
              "\n",
              "[2 rows x 11 columns]"
            ]
          },
          "metadata": {
            "tags": []
          },
          "execution_count": 35
        }
      ]
    },
    {
      "cell_type": "code",
      "metadata": {
        "id": "d5MY6JmaOMEP"
      },
      "source": [
        "# Group by the `Symbol` column, then grab the `Close` column.\n",
        "close_groups = price_data_new['Close']\n",
        "\n",
        "# Apply the lambda function which will return -1.0 for down, 1.0 for up and 0.0 for no change.\n",
        "close_groups = close_groups.transform(lambda x : np.sign(x.diff(days_out)))\n",
        "\n",
        "# add the data to the main dataframe.\n",
        "price_data_new['Prediction'] = close_groups\n",
        "price_data_new = price_data_new.dropna()"
      ],
      "execution_count": 36,
      "outputs": []
    },
    {
      "cell_type": "code",
      "metadata": {
        "id": "eY8t427vW7-n",
        "colab": {
          "base_uri": "https://localhost:8080/",
          "height": 110
        },
        "outputId": "26131f1b-e134-4484-ac8b-8c097db16694"
      },
      "source": [
        "ppp =price_data_new.reset_index()\n",
        "ppp.head(2)"
      ],
      "execution_count": 37,
      "outputs": [
        {
          "output_type": "execute_result",
          "data": {
            "text/html": [
              "<div>\n",
              "<style scoped>\n",
              "    .dataframe tbody tr th:only-of-type {\n",
              "        vertical-align: middle;\n",
              "    }\n",
              "\n",
              "    .dataframe tbody tr th {\n",
              "        vertical-align: top;\n",
              "    }\n",
              "\n",
              "    .dataframe thead th {\n",
              "        text-align: right;\n",
              "    }\n",
              "</style>\n",
              "<table border=\"1\" class=\"dataframe\">\n",
              "  <thead>\n",
              "    <tr style=\"text-align: right;\">\n",
              "      <th></th>\n",
              "      <th>Date</th>\n",
              "      <th>sum10</th>\n",
              "      <th>sum20</th>\n",
              "      <th>sum30</th>\n",
              "      <th>sum19</th>\n",
              "      <th>sum21</th>\n",
              "      <th>sum5</th>\n",
              "      <th>sum15</th>\n",
              "      <th>sum25</th>\n",
              "      <th>sum35</th>\n",
              "      <th>sum22</th>\n",
              "      <th>Close</th>\n",
              "      <th>Prediction</th>\n",
              "    </tr>\n",
              "  </thead>\n",
              "  <tbody>\n",
              "    <tr>\n",
              "      <th>0</th>\n",
              "      <td>2020-02-24</td>\n",
              "      <td>21</td>\n",
              "      <td>25</td>\n",
              "      <td>27</td>\n",
              "      <td>24</td>\n",
              "      <td>25</td>\n",
              "      <td>16</td>\n",
              "      <td>25</td>\n",
              "      <td>27</td>\n",
              "      <td>33</td>\n",
              "      <td>26</td>\n",
              "      <td>11829.400391</td>\n",
              "      <td>1.0</td>\n",
              "    </tr>\n",
              "    <tr>\n",
              "      <th>1</th>\n",
              "      <td>2020-02-25</td>\n",
              "      <td>16</td>\n",
              "      <td>25</td>\n",
              "      <td>31</td>\n",
              "      <td>23</td>\n",
              "      <td>26</td>\n",
              "      <td>14</td>\n",
              "      <td>18</td>\n",
              "      <td>29</td>\n",
              "      <td>31</td>\n",
              "      <td>27</td>\n",
              "      <td>11797.900391</td>\n",
              "      <td>-1.0</td>\n",
              "    </tr>\n",
              "  </tbody>\n",
              "</table>\n",
              "</div>"
            ],
            "text/plain": [
              "        Date  sum10  sum20  sum30  ...  sum35  sum22         Close  Prediction\n",
              "0 2020-02-24     21     25     27  ...     33     26  11829.400391         1.0\n",
              "1 2020-02-25     16     25     31  ...     31     27  11797.900391        -1.0\n",
              "\n",
              "[2 rows x 13 columns]"
            ]
          },
          "metadata": {
            "tags": []
          },
          "execution_count": 37
        }
      ]
    },
    {
      "cell_type": "code",
      "metadata": {
        "id": "YZzPIxZWOMJS"
      },
      "source": [
        "pred = pd.DataFrame(rand_frst_clf.predict(price_data_new[features]))\n",
        "pred = pd.concat([pred , ppp.Date,ppp.Close],axis=1)\n",
        "pred.columns=['pred','Date','Close']\n",
        "pred= pred.set_index('Date')"
      ],
      "execution_count": 38,
      "outputs": []
    },
    {
      "cell_type": "code",
      "metadata": {
        "id": "YHDIgAP4182i"
      },
      "source": [
        "l=len(pred)\n"
      ],
      "execution_count": 39,
      "outputs": []
    },
    {
      "cell_type": "markdown",
      "metadata": {
        "id": "DCvOl8bNrbhk"
      },
      "source": [
        "# PREDICTIONS"
      ]
    },
    {
      "cell_type": "code",
      "metadata": {
        "id": "Y4oxYJkz2cfN",
        "colab": {
          "base_uri": "https://localhost:8080/",
          "height": 342
        },
        "outputId": "4b897bb6-5eec-42c7-fdf8-52dc4246c927"
      },
      "source": [
        "fig, ax = plt.subplots(2,1,figsize=(20,7))\n",
        "ax[0].plot(nifty_n.index.values[-l:],nifty_n['Close'].values[-l:],'*-',linewidth=1 )\n",
        "ax[1].plot(nifty_n.index.values[-l:],pred.pred.values[-l:],'*-',linewidth=1 )\n",
        "\n",
        "\n",
        "if data=='lix15':\n",
        "  plt.suptitle('Random Forest Advance Decline Line **LIX15**')\n",
        "  plt.savefig('LIX.png')\n",
        "else:\n",
        "  plt.suptitle('Random Forest Advance Decline Line **NIFTY100**')\n",
        "  plt.savefig('n100.png') \n",
        "plt.show()   "
      ],
      "execution_count": 40,
      "outputs": [
        {
          "output_type": "display_data",
          "data": {
            "image/png": "[encoded data removed]",
            "text/plain": [
              "<Figure size 1440x504 with 2 Axes>"
            ]
          },
          "metadata": {
            "tags": [],
            "needs_background": "light"
          }
        }
      ]
    },
    {
      "cell_type": "code",
      "metadata": {
        "id": "nkFHMjy6OMN9",
        "colab": {
          "base_uri": "https://localhost:8080/"
        },
        "outputId": "0843bb2f-c906-43bd-ac18-72e3a75f0f41"
      },
      "source": [
        "pred.pred.tail(3)"
      ],
      "execution_count": 41,
      "outputs": [
        {
          "output_type": "execute_result",
          "data": {
            "text/plain": [
              "Date\n",
              "2021-08-09    1.0\n",
              "2021-08-10   -1.0\n",
              "2021-08-11    1.0\n",
              "Name: pred, dtype: float64"
            ]
          },
          "metadata": {
            "tags": []
          },
          "execution_count": 41
        }
      ]
    },
    {
      "cell_type": "code",
      "metadata": {
        "id": "IuO-sQjfOMS0",
        "colab": {
          "base_uri": "https://localhost:8080/"
        },
        "outputId": "42ad344b-f387-40e4-8709-f0dae59623c9"
      },
      "source": [
        "days_out"
      ],
      "execution_count": 42,
      "outputs": [
        {
          "output_type": "execute_result",
          "data": {
            "text/plain": [
              "14"
            ]
          },
          "metadata": {
            "tags": []
          },
          "execution_count": 42
        }
      ]
    },
    {
      "cell_type": "code",
      "metadata": {
        "id": "Hmhm4AEIYyaL"
      },
      "source": [
        "pred=pred.reset_index()"
      ],
      "execution_count": 43,
      "outputs": []
    },
    {
      "cell_type": "code",
      "metadata": {
        "id": "DXZoforrYxlr"
      },
      "source": [
        "#\n",
        "#fig, ax = plt.subplots(1,1,figsize=(20,7))\n",
        "#Identifying the buy/sell zone\n",
        "pred['Buy_ind'] = np.where((pred['pred']==1), 1, 0)\n",
        "pred['Sell_ind'] = np.where((pred['pred']==-1), 0, 1)"
      ],
      "execution_count": 44,
      "outputs": []
    },
    {
      "cell_type": "code",
      "metadata": {
        "id": "LFUpHtw2Y7Ut"
      },
      "source": [
        "nifty_n['50_EMA'] = nifty_n[\"Close\"].rolling(50).mean()"
      ],
      "execution_count": 45,
      "outputs": []
    },
    {
      "cell_type": "code",
      "metadata": {
        "id": "UhkKOdrXOMMl",
        "colab": {
          "base_uri": "https://localhost:8080/",
          "height": 324
        },
        "outputId": "a31230db-b9d1-4467-c1c0-08ce6e18d7e7"
      },
      "source": [
        "plt.figure(figsize=(20,7))\n",
        "## plotting the buy and sell signals on graph\n",
        "plt.plot(nifty_n.index.values[-l:],nifty_n['Close'].values[-l:],'-',linewidth=1)\n",
        "plt.scatter(pred.loc[pred['Buy_ind'] ==1 , 'Date'].values,pred.loc[pred['Buy_ind'] ==1, 'Close'].values, label='skitscat', color='green', s=25, marker=\"^\")\n",
        "plt.scatter(pred.loc[pred['Sell_ind'] ==0 , 'Date'].values,pred.loc[pred['Sell_ind'] ==0, 'Close'].values, label='skitscat', color='red', s=25, marker=\"v\")\n",
        "plt.plot(nifty_n.index.values[-l:],nifty_n['50_EMA'].values[-l:])\n",
        "## Adding labels\n",
        "plt.xlabel('Date')  \n",
        "plt.ylabel('Close Price')  \n",
        "plt.title('AD Nifty price with buy and sell signal ' ) \n",
        "\n",
        "plt.savefig('a.png')\n",
        "plt.show();\n"
      ],
      "execution_count": 46,
      "outputs": [
        {
          "output_type": "display_data",
          "data": {
            "image/png": "[encoded data removed]",
            "text/plain": [
              "<Figure size 1440x504 with 1 Axes>"
            ]
          },
          "metadata": {
            "tags": [],
            "needs_background": "light"
          }
        }
      ]
    },
    {
      "cell_type": "code",
      "metadata": {
        "id": "5DeWu3OF6wUw",
        "colab": {
          "base_uri": "https://localhost:8080/",
          "height": 172
        },
        "outputId": "0ff05edc-281d-4ead-f8f9-b471af4c67f7"
      },
      "source": [
        "nifty_n.tail(3)"
      ],
      "execution_count": 47,
      "outputs": [
        {
          "output_type": "execute_result",
          "data": {
            "text/html": [
              "<div>\n",
              "<style scoped>\n",
              "    .dataframe tbody tr th:only-of-type {\n",
              "        vertical-align: middle;\n",
              "    }\n",
              "\n",
              "    .dataframe tbody tr th {\n",
              "        vertical-align: top;\n",
              "    }\n",
              "\n",
              "    .dataframe thead th {\n",
              "        text-align: right;\n",
              "    }\n",
              "</style>\n",
              "<table border=\"1\" class=\"dataframe\">\n",
              "  <thead>\n",
              "    <tr style=\"text-align: right;\">\n",
              "      <th></th>\n",
              "      <th>Open</th>\n",
              "      <th>High</th>\n",
              "      <th>Low</th>\n",
              "      <th>Close</th>\n",
              "      <th>50_EMA</th>\n",
              "    </tr>\n",
              "    <tr>\n",
              "      <th>Date</th>\n",
              "      <th></th>\n",
              "      <th></th>\n",
              "      <th></th>\n",
              "      <th></th>\n",
              "      <th></th>\n",
              "    </tr>\n",
              "  </thead>\n",
              "  <tbody>\n",
              "    <tr>\n",
              "      <th>2021-08-09</th>\n",
              "      <td>16281.349609</td>\n",
              "      <td>16320.75</td>\n",
              "      <td>16179.049805</td>\n",
              "      <td>16258.250000</td>\n",
              "      <td>15804.689980</td>\n",
              "    </tr>\n",
              "    <tr>\n",
              "      <th>2021-08-10</th>\n",
              "      <td>16274.799805</td>\n",
              "      <td>16359.25</td>\n",
              "      <td>16202.250000</td>\n",
              "      <td>16280.099609</td>\n",
              "      <td>15818.635977</td>\n",
              "    </tr>\n",
              "    <tr>\n",
              "      <th>2021-08-11</th>\n",
              "      <td>16327.299805</td>\n",
              "      <td>16338.75</td>\n",
              "      <td>16162.549805</td>\n",
              "      <td>16282.250000</td>\n",
              "      <td>15832.783984</td>\n",
              "    </tr>\n",
              "  </tbody>\n",
              "</table>\n",
              "</div>"
            ],
            "text/plain": [
              "                    Open      High           Low         Close        50_EMA\n",
              "Date                                                                        \n",
              "2021-08-09  16281.349609  16320.75  16179.049805  16258.250000  15804.689980\n",
              "2021-08-10  16274.799805  16359.25  16202.250000  16280.099609  15818.635977\n",
              "2021-08-11  16327.299805  16338.75  16162.549805  16282.250000  15832.783984"
            ]
          },
          "metadata": {
            "tags": []
          },
          "execution_count": 47
        }
      ]
    },
    {
      "cell_type": "code",
      "metadata": {
        "id": "5KKUIitJ61e0",
        "colab": {
          "base_uri": "https://localhost:8080/"
        },
        "outputId": "886ddc83-751d-437a-ef4c-c7541a6d825a"
      },
      "source": [
        "pred.pred.value_counts()"
      ],
      "execution_count": 48,
      "outputs": [
        {
          "output_type": "execute_result",
          "data": {
            "text/plain": [
              " 1.0    262\n",
              "-1.0    100\n",
              "Name: pred, dtype: int64"
            ]
          },
          "metadata": {
            "tags": []
          },
          "execution_count": 48
        }
      ]
    },
    {
      "cell_type": "code",
      "metadata": {
        "id": "K3Rq1cXbaIwP"
      },
      "source": [
        "pred['actual']=np.where(pred.Close>pred.Close.shift(1),1,-1)\n",
        "pred['dummyS']=pred['pred'].shift(1)\n",
        "pred=pred.dropna()"
      ],
      "execution_count": 49,
      "outputs": []
    },
    {
      "cell_type": "code",
      "metadata": {
        "colab": {
          "base_uri": "https://localhost:8080/"
        },
        "id": "gH4ero_eaItJ",
        "outputId": "e7c735fa-13fc-4f00-f38e-220cb0b7109a"
      },
      "source": [
        "from sklearn.metrics import confusion_matrix, plot_confusion_matrix\n",
        "\n",
        "rf_matrix = confusion_matrix(pred.actual, pred.dummyS)\n",
        "\n",
        "true_negatives = rf_matrix[0][0]\n",
        "false_negatives = rf_matrix[1][0]\n",
        "true_positives = rf_matrix[1][1]\n",
        "false_positives = rf_matrix[0][1]\n",
        "from sklearn.metrics import average_precision_score\n",
        "average_precision = average_precision_score(pred.actual, pred.dummyS)\n",
        "\n",
        "accuracy = (true_negatives + true_positives) / (true_negatives + true_positives + false_negatives + false_positives)\n",
        "percision = true_positives / (true_positives + false_positives)\n",
        "recall = true_positives / (true_positives + false_negatives)\n",
        "specificity = true_negatives / (true_negatives + false_positives)\n",
        "f1score= 2*recall*percision/(percision+recall)\n",
        "print('Accuracy: {}'.format(float(accuracy)))\n",
        "print('Percision: {}'.format(float(percision)))\n",
        "print('Recall: {}'.format(float(recall)))\n",
        "print('Specificity: {}'.format(float(specificity)))\n",
        "print('F1-Score: {}'.format(float(f1score)))\n",
        "print('Average Precision : {}'.format(float(average_precision)))"
      ],
      "execution_count": 50,
      "outputs": [
        {
          "output_type": "stream",
          "text": [
            "Accuracy: 0.5650969529085873\n",
            "Percision: 0.6091954022988506\n",
            "Recall: 0.7429906542056075\n",
            "Specificity: 0.30612244897959184\n",
            "F1-Score: 0.6694736842105263\n",
            "Average Precision : 0.6049810611301903\n"
          ],
          "name": "stdout"
        }
      ]
    },
    {
      "cell_type": "code",
      "metadata": {
        "id": "u5Ew_31zaIqF"
      },
      "source": [
        ""
      ],
      "execution_count": 50,
      "outputs": []
    },
    {
      "cell_type": "code",
      "metadata": {
        "id": "tvooPUUJaIeF"
      },
      "source": [
        ""
      ],
      "execution_count": 50,
      "outputs": []
    },
    {
      "cell_type": "code",
      "metadata": {
        "id": "nd7OrjEg64gb"
      },
      "source": [
        "# saving the dataframe\n",
        "pred.to_csv('rf_50DMA.csv')"
      ],
      "execution_count": 51,
      "outputs": []
    }
  ]
}