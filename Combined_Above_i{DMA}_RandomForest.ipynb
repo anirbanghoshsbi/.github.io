{
  "nbformat": 4,
  "nbformat_minor": 0,
  "metadata": {
    "colab": {
      "name": "Combined Above_i{DMA}_RandomForest.ipynb",
      "provenance": [],
      "collapsed_sections": [],
      "authorship_tag": "ABX9TyP1mbPToVAcSt9rFbIeqHMn",
      "include_colab_link": true
    },
    "kernelspec": {
      "name": "python3",
      "display_name": "Python 3"
    }
  },
  "cells": [
    {
      "cell_type": "markdown",
      "metadata": {
        "id": "view-in-github",
        "colab_type": "text"
      },
      "source": [
        "<a href=\"https://colab.research.google.com/github/anirbanghoshsbi/.github.io/blob/master/Combined_Above_i%7BDMA%7D_RandomForest.ipynb\" target=\"_parent\"><img src=\"https://colab.research.google.com/assets/colab-badge.svg\" alt=\"Open In Colab\"/></a>"
      ]
    },
    {
      "cell_type": "code",
      "metadata": {
        "id": "XzJUKx8m84df",
        "colab": {
          "base_uri": "https://localhost:8080/"
        },
        "outputId": "cd5792fd-1391-40ee-b5cd-4781a57c414d"
      },
      "source": [
        "!pip install yfinance "
      ],
      "execution_count": 1,
      "outputs": [
        {
          "output_type": "stream",
          "name": "stdout",
          "text": [
            "Collecting yfinance\n",
            "  Downloading yfinance-0.1.63.tar.gz (26 kB)\n",
            "Requirement already satisfied: pandas>=0.24 in /usr/local/lib/python3.7/dist-packages (from yfinance) (1.1.5)\n",
            "Requirement already satisfied: numpy>=1.15 in /usr/local/lib/python3.7/dist-packages (from yfinance) (1.19.5)\n",
            "Requirement already satisfied: requests>=2.20 in /usr/local/lib/python3.7/dist-packages (from yfinance) (2.23.0)\n",
            "Requirement already satisfied: multitasking>=0.0.7 in /usr/local/lib/python3.7/dist-packages (from yfinance) (0.0.9)\n",
            "Collecting lxml>=4.5.1\n",
            "  Downloading lxml-4.6.3-cp37-cp37m-manylinux2014_x86_64.whl (6.3 MB)\n",
            "\u001b[K     |████████████████████████████████| 6.3 MB 26.1 MB/s \n",
            "\u001b[?25hRequirement already satisfied: pytz>=2017.2 in /usr/local/lib/python3.7/dist-packages (from pandas>=0.24->yfinance) (2018.9)\n",
            "Requirement already satisfied: python-dateutil>=2.7.3 in /usr/local/lib/python3.7/dist-packages (from pandas>=0.24->yfinance) (2.8.2)\n",
            "Requirement already satisfied: six>=1.5 in /usr/local/lib/python3.7/dist-packages (from python-dateutil>=2.7.3->pandas>=0.24->yfinance) (1.15.0)\n",
            "Requirement already satisfied: certifi>=2017.4.17 in /usr/local/lib/python3.7/dist-packages (from requests>=2.20->yfinance) (2021.5.30)\n",
            "Requirement already satisfied: urllib3!=1.25.0,!=1.25.1,<1.26,>=1.21.1 in /usr/local/lib/python3.7/dist-packages (from requests>=2.20->yfinance) (1.24.3)\n",
            "Requirement already satisfied: idna<3,>=2.5 in /usr/local/lib/python3.7/dist-packages (from requests>=2.20->yfinance) (2.10)\n",
            "Requirement already satisfied: chardet<4,>=3.0.2 in /usr/local/lib/python3.7/dist-packages (from requests>=2.20->yfinance) (3.0.4)\n",
            "Building wheels for collected packages: yfinance\n",
            "  Building wheel for yfinance (setup.py) ... \u001b[?25l\u001b[?25hdone\n",
            "  Created wheel for yfinance: filename=yfinance-0.1.63-py2.py3-none-any.whl size=23918 sha256=fb9ff6dcfef0104b61d4957c1acfa3715b5064006f040ee726fb7679c2f33fab\n",
            "  Stored in directory: /root/.cache/pip/wheels/fe/87/8b/7ec24486e001d3926537f5f7801f57a74d181be25b11157983\n",
            "Successfully built yfinance\n",
            "Installing collected packages: lxml, yfinance\n",
            "  Attempting uninstall: lxml\n",
            "    Found existing installation: lxml 4.2.6\n",
            "    Uninstalling lxml-4.2.6:\n",
            "      Successfully uninstalled lxml-4.2.6\n",
            "Successfully installed lxml-4.6.3 yfinance-0.1.63\n"
          ]
        }
      ]
    },
    {
      "cell_type": "code",
      "metadata": {
        "id": "hr4xsGCC6Xcy"
      },
      "source": [
        "##### SET THIS IN THE BEGINNING ###########\n",
        "\n",
        "#data='lix15'\n",
        "data = 'nifty100'\n",
        "ema_interval= 50 #30#40#50 (Number of stocks above  EMA)"
      ],
      "execution_count": 2,
      "outputs": []
    },
    {
      "cell_type": "code",
      "metadata": {
        "id": "4Emn8S9AUoT9"
      },
      "source": [
        "### Set Start of Train Date Below ####\n",
        "START = \"2013-01-01\"  #yyyy-mm-dd\n",
        "END = '2019-06-01'\n",
        "####Set Start of Test Date Below ####\n",
        "\n",
        "START_testdate= '2020-02-01'"
      ],
      "execution_count": 3,
      "outputs": []
    },
    {
      "cell_type": "code",
      "metadata": {
        "id": "xS0cKMCfIr5O"
      },
      "source": [
        "import pandas as pd\n",
        "import numpy as np\n",
        "# Plotting graphs\n",
        "import matplotlib.pyplot as plt\n",
        "import datetime\n",
        "# Import libraries\n",
        "import os\n",
        "import sys\n",
        "import requests\n",
        "from sklearn.ensemble import RandomForestClassifier\n",
        "from sklearn.model_selection import train_test_split\n",
        "from sklearn.model_selection import RandomizedSearchCV\n",
        "from sklearn.metrics import plot_roc_curve\n",
        "from sklearn.metrics import accuracy_score, classification_report\n",
        "from pandas_datareader import data as pdr\n",
        "import yfinance as yf\n",
        "yf.pdr_override()"
      ],
      "execution_count": 4,
      "outputs": []
    },
    {
      "cell_type": "code",
      "metadata": {
        "id": "XgWMxhWr2lt0"
      },
      "source": [
        "lix15= ['bhartiartl.ns','hindalco.ns','ioc.ns','indusindbk.ns','ongc.ns','powergrid.ns','sbin.ns','sunpharma.ns','tatamotors.ns','tatasteel.ns','ULTRACEMCO.ns']"
      ],
      "execution_count": 5,
      "outputs": []
    },
    {
      "cell_type": "code",
      "metadata": {
        "id": "wPsl1pv1p9Sq"
      },
      "source": [
        "nifty100='ongc.ns,indigo.ns,tcs.ns,\\\n",
        "tatamotors.ns,hdfcbank.ns,ofss.ns,\\\n",
        "wipro.ns,infy.ns,hindzinc.ns,\\\n",
        "nestleind.ns,adaniports.ns,\\\n",
        "marico.ns,pghh.ns,\\\n",
        "techm.ns,BAJAJ-AUTO.NS,\\\n",
        "HINDUNILVR.NS,HCLTECH.NS,\\\n",
        "HEROMOTOCO.NS,\\\n",
        "RELIANCE.NS,\\\n",
        "BPCL.NS,BRITANNIA.NS,\\\n",
        "POWERGRID.NS,\\\n",
        "TORNTPHARM.NS,\\\n",
        "COLPAL.NS,\\\n",
        "BHARTIARTL.NS,ICICIGI.NS,ITC.NS,IOC.NS,\\\n",
        "AXISBANK.NS,DRREDDY.NS,HDFCLIFE.NS,\\\n",
        "TATASTEEL.NS,UPL.NS,ABBOTINDIA.NS,\\\n",
        "HDFC.NS,SBILIFE.NS,DMART.NS,\\\n",
        "GODREJCP.NS,\\\n",
        "UBL.NS,\\\n",
        "ASIANPAINT.NS,\\\n",
        "DABUR.NS,\\\n",
        "PIDILITIND.NS,\\\n",
        "TITAN.NS,\\\n",
        "COALINDIA.NS,\\\n",
        "GAIL.NS,\\\n",
        "PETRONET.NS,HDFCAMC.NS,HAVELLS.NS,\\\n",
        "ICICIBANK.NS,MARUTI.NS,BAJAJHLDNG.NS,NAUKRI.NS,\\\n",
        "HINDPETRO.NS,LT.NS,GRASIM.NS,\\\n",
        "CONCOR.NS,JSWSTEEL.NS,M&M.NS,\\\n",
        "ULTRACEMCO.NS,BIOCON.NS,IGL.NS,PFC.NS,\\\n",
        "HINDALCO.NS,CADILAHC.NS,KOTAKBANK.NS,\\\n",
        "BANDHANBNK.NS,NHPC.NS,\\\n",
        "DIVISLAB.NS,\\\n",
        "CIPLA.NS,\\\n",
        "BERGEPAINT.NS,\\\n",
        "ZEEL.NS,\\\n",
        "SHREECEM.NS,\\\n",
        "BAJFINANCE.NS,\\\n",
        "LUPIN.NS,\\\n",
        "SIEMENS.NS,BANKBARODA.NS,\\\n",
        "NTPC.NS,GICRE.NS,MUTHOOTFIN.NS,ACC.NS,INDUSINDBK.NS,\\\n",
        "AMBUJACEM.NS,BAJAJFINSV.NS,PNB.NS,EICHERMOT.NS,PAGEIND.NS,\\\n",
        "SBIN.NS,MOTHERSUMI.NS,ICICIPRULI.NS,SUNPHARMA.NS,MCDOWELL-N.NS,\\\n",
        "AUROPHARMA.NS,\\\n",
        "ADANITRANS.NS,BOSCHLTD.NS,\\\n",
        "DLF.NS,SRTRANSFIN.NS,PEL.NS,NMDC.NS'\n",
        "nifty100 = nifty100.split(',')\n",
        "# ,infratel.ns"
      ],
      "execution_count": 6,
      "outputs": []
    },
    {
      "cell_type": "code",
      "metadata": {
        "id": "48dvyr69wbhO"
      },
      "source": [
        "if data=='lix15':\n",
        "  ticker = lix15 \n",
        "else:\n",
        "  ticker= nifty100"
      ],
      "execution_count": 7,
      "outputs": []
    },
    {
      "cell_type": "code",
      "metadata": {
        "id": "wrWQlOcDIwvn"
      },
      "source": [
        "lst= []"
      ],
      "execution_count": 8,
      "outputs": []
    },
    {
      "cell_type": "code",
      "metadata": {
        "id": "FPRVFzHMIw2I",
        "colab": {
          "base_uri": "https://localhost:8080/"
        },
        "outputId": "4949b6b5-9758-4cb7-f3e7-95fbf3767eca"
      },
      "source": [
        "for i in range(len(ticker)):\n",
        "  dfi = yf.download(ticker[i], start=START , end = END)\n",
        "  \n",
        "  dfi = dfi.dropna()\n",
        "  dfi = dfi.iloc[:,:4]\n",
        "  #df.head(3)\n",
        "  #print('Done : '+ nifty10[i])\n",
        "  #print(df.head(2))\n",
        "  lst.append(dfi)\n",
        "\n",
        "#df1.head(3)\n",
        "print('\\n All Completed \\n')"
      ],
      "execution_count": 9,
      "outputs": [
        {
          "output_type": "stream",
          "name": "stdout",
          "text": [
            "[*********************100%***********************]  1 of 1 completed\n",
            "[*********************100%***********************]  1 of 1 completed\n",
            "[*********************100%***********************]  1 of 1 completed\n",
            "[*********************100%***********************]  1 of 1 completed\n",
            "[*********************100%***********************]  1 of 1 completed\n",
            "[*********************100%***********************]  1 of 1 completed\n",
            "[*********************100%***********************]  1 of 1 completed\n",
            "[*********************100%***********************]  1 of 1 completed\n",
            "[*********************100%***********************]  1 of 1 completed\n",
            "[*********************100%***********************]  1 of 1 completed\n",
            "[*********************100%***********************]  1 of 1 completed\n",
            "[*********************100%***********************]  1 of 1 completed\n",
            "[*********************100%***********************]  1 of 1 completed\n",
            "[*********************100%***********************]  1 of 1 completed\n",
            "[*********************100%***********************]  1 of 1 completed\n",
            "[*********************100%***********************]  1 of 1 completed\n",
            "[*********************100%***********************]  1 of 1 completed\n",
            "[*********************100%***********************]  1 of 1 completed\n",
            "[*********************100%***********************]  1 of 1 completed\n",
            "[*********************100%***********************]  1 of 1 completed\n",
            "[*********************100%***********************]  1 of 1 completed\n",
            "[*********************100%***********************]  1 of 1 completed\n",
            "[*********************100%***********************]  1 of 1 completed\n",
            "[*********************100%***********************]  1 of 1 completed\n",
            "[*********************100%***********************]  1 of 1 completed\n",
            "[*********************100%***********************]  1 of 1 completed\n",
            "[*********************100%***********************]  1 of 1 completed\n",
            "[*********************100%***********************]  1 of 1 completed\n",
            "[*********************100%***********************]  1 of 1 completed\n",
            "[*********************100%***********************]  1 of 1 completed\n",
            "[*********************100%***********************]  1 of 1 completed\n",
            "[*********************100%***********************]  1 of 1 completed\n",
            "[*********************100%***********************]  1 of 1 completed\n",
            "[*********************100%***********************]  1 of 1 completed\n",
            "[*********************100%***********************]  1 of 1 completed\n",
            "[*********************100%***********************]  1 of 1 completed\n",
            "[*********************100%***********************]  1 of 1 completed\n",
            "[*********************100%***********************]  1 of 1 completed\n",
            "[*********************100%***********************]  1 of 1 completed\n",
            "[*********************100%***********************]  1 of 1 completed\n",
            "[*********************100%***********************]  1 of 1 completed\n",
            "[*********************100%***********************]  1 of 1 completed\n",
            "[*********************100%***********************]  1 of 1 completed\n",
            "[*********************100%***********************]  1 of 1 completed\n",
            "[*********************100%***********************]  1 of 1 completed\n",
            "[*********************100%***********************]  1 of 1 completed\n",
            "[*********************100%***********************]  1 of 1 completed\n",
            "[*********************100%***********************]  1 of 1 completed\n",
            "[*********************100%***********************]  1 of 1 completed\n",
            "[*********************100%***********************]  1 of 1 completed\n",
            "[*********************100%***********************]  1 of 1 completed\n",
            "[*********************100%***********************]  1 of 1 completed\n",
            "[*********************100%***********************]  1 of 1 completed\n",
            "[*********************100%***********************]  1 of 1 completed\n",
            "[*********************100%***********************]  1 of 1 completed\n",
            "[*********************100%***********************]  1 of 1 completed\n",
            "[*********************100%***********************]  1 of 1 completed\n",
            "[*********************100%***********************]  1 of 1 completed\n",
            "[*********************100%***********************]  1 of 1 completed\n",
            "[*********************100%***********************]  1 of 1 completed\n",
            "[*********************100%***********************]  1 of 1 completed\n",
            "[*********************100%***********************]  1 of 1 completed\n",
            "[*********************100%***********************]  1 of 1 completed\n",
            "[*********************100%***********************]  1 of 1 completed\n",
            "[*********************100%***********************]  1 of 1 completed\n",
            "[*********************100%***********************]  1 of 1 completed\n",
            "[*********************100%***********************]  1 of 1 completed\n",
            "[*********************100%***********************]  1 of 1 completed\n",
            "[*********************100%***********************]  1 of 1 completed\n",
            "[*********************100%***********************]  1 of 1 completed\n",
            "[*********************100%***********************]  1 of 1 completed\n",
            "[*********************100%***********************]  1 of 1 completed\n",
            "[*********************100%***********************]  1 of 1 completed\n",
            "[*********************100%***********************]  1 of 1 completed\n",
            "[*********************100%***********************]  1 of 1 completed\n",
            "[*********************100%***********************]  1 of 1 completed\n",
            "[*********************100%***********************]  1 of 1 completed\n",
            "[*********************100%***********************]  1 of 1 completed\n",
            "[*********************100%***********************]  1 of 1 completed\n",
            "[*********************100%***********************]  1 of 1 completed\n",
            "[*********************100%***********************]  1 of 1 completed\n",
            "[*********************100%***********************]  1 of 1 completed\n",
            "[*********************100%***********************]  1 of 1 completed\n",
            "[*********************100%***********************]  1 of 1 completed\n",
            "[*********************100%***********************]  1 of 1 completed\n",
            "[*********************100%***********************]  1 of 1 completed\n",
            "[*********************100%***********************]  1 of 1 completed\n",
            "[*********************100%***********************]  1 of 1 completed\n",
            "[*********************100%***********************]  1 of 1 completed\n",
            "[*********************100%***********************]  1 of 1 completed\n",
            "[*********************100%***********************]  1 of 1 completed\n",
            "[*********************100%***********************]  1 of 1 completed\n",
            "[*********************100%***********************]  1 of 1 completed\n",
            "[*********************100%***********************]  1 of 1 completed\n",
            "[*********************100%***********************]  1 of 1 completed\n",
            "[*********************100%***********************]  1 of 1 completed\n",
            "[*********************100%***********************]  1 of 1 completed\n",
            "[*********************100%***********************]  1 of 1 completed\n",
            "\n",
            " All Completed \n",
            "\n"
          ]
        }
      ]
    },
    {
      "cell_type": "code",
      "metadata": {
        "id": "G4J9Tyt9Iwx5",
        "colab": {
          "base_uri": "https://localhost:8080/"
        },
        "outputId": "d4499391-6f45-4541-810c-1a81efd8e2d0"
      },
      "source": [
        "tker = '^NSEI'\n",
        "nifty = yf.download(tker, start=START, end=END)\n",
        "nifty=nifty.dropna()\n",
        "nifty=nifty.iloc[:,:4]"
      ],
      "execution_count": 10,
      "outputs": [
        {
          "output_type": "stream",
          "name": "stdout",
          "text": [
            "\r[*********************100%***********************]  1 of 1 completed\n"
          ]
        }
      ]
    },
    {
      "cell_type": "code",
      "metadata": {
        "id": "AyiVHPaUyLtQ"
      },
      "source": [
        "nlst=[]\n",
        "for i in range(len(ticker)):\n",
        "  nlst.append(lst[i].Close)"
      ],
      "execution_count": 11,
      "outputs": []
    },
    {
      "cell_type": "code",
      "metadata": {
        "id": "zN5y5i3-AOqw"
      },
      "source": [
        "def get_sum(nlst,ema_interval):\n",
        "  df = pd.DataFrame(nlst).T\n",
        "  namelist =[]\n",
        "  for i in range(1,len(ticker)+1):\n",
        "    namelist.append('Close'+str(i))\n",
        "  df.columns = namelist\n",
        "  for name in namelist:\n",
        "    name=str(name)\n",
        "    var = name+f'ema{ema_interval}'\n",
        "    df[var] = df[name].ewm(span=ema_interval, adjust=False).mean()  \n",
        "  lst_= []\n",
        "  for name in namelist:\n",
        "    name=str(name)\n",
        "    varname = name+f'ema{ema_interval}'\n",
        "    lst_.append((df[varname].diff() > 0 ).astype(int))\n",
        "  df1 = pd.DataFrame(lst_).T\n",
        "  fin_var='sum'+str(ema_interval)\n",
        "  df1[fin_var]=df1.sum(axis=1)\n",
        "  final_df=df1[[fin_var]]\n",
        "  return final_df"
      ],
      "execution_count": 12,
      "outputs": []
    },
    {
      "cell_type": "code",
      "metadata": {
        "id": "2cJmS3EwBLBL"
      },
      "source": [
        "df0=get_sum(nlst,5)\n",
        "df=get_sum(nlst,10)\n",
        "df5=get_sum(nlst,15)\n",
        "df1=get_sum(nlst,20)\n",
        "df25=get_sum(nlst,25)\n",
        "df2=get_sum(nlst,30)\n",
        "df35=get_sum(nlst,35)\n",
        "df3=get_sum(nlst,19)\n",
        "df45=get_sum(nlst,21)\n",
        "df4=get_sum(nlst,22)"
      ],
      "execution_count": 13,
      "outputs": []
    },
    {
      "cell_type": "code",
      "metadata": {
        "id": "QurXepz-C39Y"
      },
      "source": [
        "dataframe_f = pd.concat([df0,df,df1,df25,df35,df45,df5,df2,df3,df4],axis=1)"
      ],
      "execution_count": 14,
      "outputs": []
    },
    {
      "cell_type": "code",
      "metadata": {
        "id": "dv-ZWUwSTkOn"
      },
      "source": [
        "dataframe_f['std']=np.std(dataframe_f.values,axis=1)"
      ],
      "execution_count": 15,
      "outputs": []
    },
    {
      "cell_type": "code",
      "metadata": {
        "id": "PDwwl2LpDDR7"
      },
      "source": [
        "dataframe_f.tail(2)\n",
        "dataframe_f['composite']=dataframe_f.sum(axis=1)"
      ],
      "execution_count": 16,
      "outputs": []
    },
    {
      "cell_type": "code",
      "metadata": {
        "id": "h5U80w2IP9IM"
      },
      "source": [
        "dataframe_f['total'] = dataframe_f['composite'].rolling(14).mean().diff(1)/dataframe_f['composite'].rolling(14).mean()"
      ],
      "execution_count": 17,
      "outputs": []
    },
    {
      "cell_type": "code",
      "metadata": {
        "id": "kKzMMmLyTIKE",
        "colab": {
          "base_uri": "https://localhost:8080/"
        },
        "outputId": "7f34f053-cbf2-4f98-f799-a23943d042c2"
      },
      "source": [
        "dataframe_f['log_rtn'] = np.log(dataframe_f['composite']).diff()\n",
        "\n",
        "# Var Swap (returns are not demeaned)\n",
        "dataframe_f['real_var'] = np.square(dataframe_f['log_rtn']).rolling(14).sum() * 0.11\n",
        "dataframe_f['real_vol'] = np.sqrt(dataframe_f['real_var'])"
      ],
      "execution_count": 18,
      "outputs": [
        {
          "output_type": "stream",
          "name": "stderr",
          "text": [
            "/usr/local/lib/python3.7/dist-packages/pandas/core/series.py:726: RuntimeWarning: divide by zero encountered in log\n",
            "  result = getattr(ufunc, method)(*inputs, **kwargs)\n"
          ]
        }
      ]
    },
    {
      "cell_type": "code",
      "metadata": {
        "id": "bmGpRDZ-TcGA",
        "colab": {
          "base_uri": "https://localhost:8080/",
          "height": 194
        },
        "outputId": "5d0b6c0d-15d7-4261-8680-837da7880d0e"
      },
      "source": [
        "dataframe_f.tail(2)"
      ],
      "execution_count": 19,
      "outputs": [
        {
          "output_type": "execute_result",
          "data": {
            "text/html": [
              "<div>\n",
              "<style scoped>\n",
              "    .dataframe tbody tr th:only-of-type {\n",
              "        vertical-align: middle;\n",
              "    }\n",
              "\n",
              "    .dataframe tbody tr th {\n",
              "        vertical-align: top;\n",
              "    }\n",
              "\n",
              "    .dataframe thead th {\n",
              "        text-align: right;\n",
              "    }\n",
              "</style>\n",
              "<table border=\"1\" class=\"dataframe\">\n",
              "  <thead>\n",
              "    <tr style=\"text-align: right;\">\n",
              "      <th></th>\n",
              "      <th>sum5</th>\n",
              "      <th>sum10</th>\n",
              "      <th>sum20</th>\n",
              "      <th>sum25</th>\n",
              "      <th>sum35</th>\n",
              "      <th>sum21</th>\n",
              "      <th>sum15</th>\n",
              "      <th>sum30</th>\n",
              "      <th>sum19</th>\n",
              "      <th>sum22</th>\n",
              "      <th>std</th>\n",
              "      <th>composite</th>\n",
              "      <th>total</th>\n",
              "      <th>log_rtn</th>\n",
              "      <th>real_var</th>\n",
              "      <th>real_vol</th>\n",
              "    </tr>\n",
              "    <tr>\n",
              "      <th>Date</th>\n",
              "      <th></th>\n",
              "      <th></th>\n",
              "      <th></th>\n",
              "      <th></th>\n",
              "      <th></th>\n",
              "      <th></th>\n",
              "      <th></th>\n",
              "      <th></th>\n",
              "      <th></th>\n",
              "      <th></th>\n",
              "      <th></th>\n",
              "      <th></th>\n",
              "      <th></th>\n",
              "      <th></th>\n",
              "      <th></th>\n",
              "      <th></th>\n",
              "    </tr>\n",
              "  </thead>\n",
              "  <tbody>\n",
              "    <tr>\n",
              "      <th>2019-05-30</th>\n",
              "      <td>62</td>\n",
              "      <td>69</td>\n",
              "      <td>66</td>\n",
              "      <td>63</td>\n",
              "      <td>63</td>\n",
              "      <td>66</td>\n",
              "      <td>67</td>\n",
              "      <td>63</td>\n",
              "      <td>67</td>\n",
              "      <td>64</td>\n",
              "      <td>2.19089</td>\n",
              "      <td>652.19089</td>\n",
              "      <td>0.065404</td>\n",
              "      <td>-0.023707</td>\n",
              "      <td>0.156681</td>\n",
              "      <td>0.395829</td>\n",
              "    </tr>\n",
              "    <tr>\n",
              "      <th>2019-05-31</th>\n",
              "      <td>65</td>\n",
              "      <td>69</td>\n",
              "      <td>69</td>\n",
              "      <td>69</td>\n",
              "      <td>69</td>\n",
              "      <td>69</td>\n",
              "      <td>70</td>\n",
              "      <td>70</td>\n",
              "      <td>69</td>\n",
              "      <td>69</td>\n",
              "      <td>1.32665</td>\n",
              "      <td>689.32665</td>\n",
              "      <td>0.077402</td>\n",
              "      <td>0.055378</td>\n",
              "      <td>0.113474</td>\n",
              "      <td>0.336859</td>\n",
              "    </tr>\n",
              "  </tbody>\n",
              "</table>\n",
              "</div>"
            ],
            "text/plain": [
              "            sum5  sum10  sum20  sum25  ...     total   log_rtn  real_var  real_vol\n",
              "Date                                   ...                                        \n",
              "2019-05-30    62     69     66     63  ...  0.065404 -0.023707  0.156681  0.395829\n",
              "2019-05-31    65     69     69     69  ...  0.077402  0.055378  0.113474  0.336859\n",
              "\n",
              "[2 rows x 16 columns]"
            ]
          },
          "metadata": {},
          "execution_count": 19
        }
      ]
    },
    {
      "cell_type": "code",
      "metadata": {
        "id": "6Et9pqjEJhKN"
      },
      "source": [
        "# I Just need the Close\n",
        "price_data = dataframe_f.copy()"
      ],
      "execution_count": 20,
      "outputs": []
    },
    {
      "cell_type": "code",
      "metadata": {
        "id": "mBGSlIJ9JhR1"
      },
      "source": [
        "price_data=pd.concat([price_data,nifty['Close']],axis=1)"
      ],
      "execution_count": 21,
      "outputs": []
    },
    {
      "cell_type": "code",
      "metadata": {
        "id": "iyrTw_f3NrYp"
      },
      "source": [
        ""
      ],
      "execution_count": 21,
      "outputs": []
    },
    {
      "cell_type": "code",
      "metadata": {
        "id": "2EhPGv9ON6Kx",
        "colab": {
          "base_uri": "https://localhost:8080/",
          "height": 194
        },
        "outputId": "52b3b975-2ca6-433a-f5cc-03cfef702f95"
      },
      "source": [
        "dataframe_f.tail(2)"
      ],
      "execution_count": 22,
      "outputs": [
        {
          "output_type": "execute_result",
          "data": {
            "text/html": [
              "<div>\n",
              "<style scoped>\n",
              "    .dataframe tbody tr th:only-of-type {\n",
              "        vertical-align: middle;\n",
              "    }\n",
              "\n",
              "    .dataframe tbody tr th {\n",
              "        vertical-align: top;\n",
              "    }\n",
              "\n",
              "    .dataframe thead th {\n",
              "        text-align: right;\n",
              "    }\n",
              "</style>\n",
              "<table border=\"1\" class=\"dataframe\">\n",
              "  <thead>\n",
              "    <tr style=\"text-align: right;\">\n",
              "      <th></th>\n",
              "      <th>sum5</th>\n",
              "      <th>sum10</th>\n",
              "      <th>sum20</th>\n",
              "      <th>sum25</th>\n",
              "      <th>sum35</th>\n",
              "      <th>sum21</th>\n",
              "      <th>sum15</th>\n",
              "      <th>sum30</th>\n",
              "      <th>sum19</th>\n",
              "      <th>sum22</th>\n",
              "      <th>std</th>\n",
              "      <th>composite</th>\n",
              "      <th>total</th>\n",
              "      <th>log_rtn</th>\n",
              "      <th>real_var</th>\n",
              "      <th>real_vol</th>\n",
              "    </tr>\n",
              "    <tr>\n",
              "      <th>Date</th>\n",
              "      <th></th>\n",
              "      <th></th>\n",
              "      <th></th>\n",
              "      <th></th>\n",
              "      <th></th>\n",
              "      <th></th>\n",
              "      <th></th>\n",
              "      <th></th>\n",
              "      <th></th>\n",
              "      <th></th>\n",
              "      <th></th>\n",
              "      <th></th>\n",
              "      <th></th>\n",
              "      <th></th>\n",
              "      <th></th>\n",
              "      <th></th>\n",
              "    </tr>\n",
              "  </thead>\n",
              "  <tbody>\n",
              "    <tr>\n",
              "      <th>2019-05-30</th>\n",
              "      <td>62</td>\n",
              "      <td>69</td>\n",
              "      <td>66</td>\n",
              "      <td>63</td>\n",
              "      <td>63</td>\n",
              "      <td>66</td>\n",
              "      <td>67</td>\n",
              "      <td>63</td>\n",
              "      <td>67</td>\n",
              "      <td>64</td>\n",
              "      <td>2.19089</td>\n",
              "      <td>652.19089</td>\n",
              "      <td>0.065404</td>\n",
              "      <td>-0.023707</td>\n",
              "      <td>0.156681</td>\n",
              "      <td>0.395829</td>\n",
              "    </tr>\n",
              "    <tr>\n",
              "      <th>2019-05-31</th>\n",
              "      <td>65</td>\n",
              "      <td>69</td>\n",
              "      <td>69</td>\n",
              "      <td>69</td>\n",
              "      <td>69</td>\n",
              "      <td>69</td>\n",
              "      <td>70</td>\n",
              "      <td>70</td>\n",
              "      <td>69</td>\n",
              "      <td>69</td>\n",
              "      <td>1.32665</td>\n",
              "      <td>689.32665</td>\n",
              "      <td>0.077402</td>\n",
              "      <td>0.055378</td>\n",
              "      <td>0.113474</td>\n",
              "      <td>0.336859</td>\n",
              "    </tr>\n",
              "  </tbody>\n",
              "</table>\n",
              "</div>"
            ],
            "text/plain": [
              "            sum5  sum10  sum20  sum25  ...     total   log_rtn  real_var  real_vol\n",
              "Date                                   ...                                        \n",
              "2019-05-30    62     69     66     63  ...  0.065404 -0.023707  0.156681  0.395829\n",
              "2019-05-31    65     69     69     69  ...  0.077402  0.055378  0.113474  0.336859\n",
              "\n",
              "[2 rows x 16 columns]"
            ]
          },
          "metadata": {},
          "execution_count": 22
        }
      ]
    },
    {
      "cell_type": "code",
      "metadata": {
        "id": "34jscDSYJhdD"
      },
      "source": [
        "features = dataframe_f.columns.tolist()"
      ],
      "execution_count": 23,
      "outputs": []
    },
    {
      "cell_type": "markdown",
      "metadata": {
        "id": "7-Ll-YzAwLUC"
      },
      "source": [
        "# Days Out"
      ]
    },
    {
      "cell_type": "code",
      "metadata": {
        "id": "NU0rhsvqJhg6"
      },
      "source": [
        "# define the number of days out you want to predict\n",
        "days_out =14\n",
        "\n",
        "# create a new column that will house the flag, and for each group calculate the diff compared to 30 days ago. Then use Numpy to define the sign.\n",
        "price_data['Signal_Flag'] = price_data['Close'].transform(lambda x : np.sign(x.diff(days_out)))\n",
        "#price_data['Signal_Flag_INR'] = price_data['INRClose'].transform(lambda x : np.sign(x.diff(days_out)))\n",
        "# print the first 50 rows"
      ],
      "execution_count": 24,
      "outputs": []
    },
    {
      "cell_type": "code",
      "metadata": {
        "id": "ueCzWqogJhaD",
        "colab": {
          "base_uri": "https://localhost:8080/",
          "height": 242
        },
        "outputId": "cdcbf574-1675-4d20-82b6-2b47c107e151"
      },
      "source": [
        "# Create a column we wish to predict\n",
        "'''\n",
        "    In this case, let's create an output column that will be 1 if the closing price at time 't' is greater than 't-1' and 0 otherwise.\n",
        "    In other words, if the today's closing price is greater than yesterday's closing price it would be 1.\n",
        "'''\n",
        "\n",
        "# Group by the `Symbol` column, then grab the `Close` column.\n",
        "close_groups = price_data['Close']\n",
        "\n",
        "# Apply the lambda function which will return -1.0 for down, 1.0 for up and 0.0 for no change.\n",
        "close_groups = close_groups.transform(lambda x : np.sign(x.diff(days_out)))\n",
        "\n",
        "# add the data to the main dataframe.\n",
        "price_data['Prediction'] = close_groups\n",
        "\n",
        "# for simplicity in later sections I'm going to make a change to our prediction column. To keep this as a binary classifier I'll change flat days and consider them up days.\n",
        "price_data.loc[price_data['Prediction'] == 0.0] = 1.0\n",
        "\n",
        "# print the head\n",
        "price_data.tail(3)"
      ],
      "execution_count": 25,
      "outputs": [
        {
          "output_type": "execute_result",
          "data": {
            "text/html": [
              "<div>\n",
              "<style scoped>\n",
              "    .dataframe tbody tr th:only-of-type {\n",
              "        vertical-align: middle;\n",
              "    }\n",
              "\n",
              "    .dataframe tbody tr th {\n",
              "        vertical-align: top;\n",
              "    }\n",
              "\n",
              "    .dataframe thead th {\n",
              "        text-align: right;\n",
              "    }\n",
              "</style>\n",
              "<table border=\"1\" class=\"dataframe\">\n",
              "  <thead>\n",
              "    <tr style=\"text-align: right;\">\n",
              "      <th></th>\n",
              "      <th>sum5</th>\n",
              "      <th>sum10</th>\n",
              "      <th>sum20</th>\n",
              "      <th>sum25</th>\n",
              "      <th>sum35</th>\n",
              "      <th>sum21</th>\n",
              "      <th>sum15</th>\n",
              "      <th>sum30</th>\n",
              "      <th>sum19</th>\n",
              "      <th>sum22</th>\n",
              "      <th>std</th>\n",
              "      <th>composite</th>\n",
              "      <th>total</th>\n",
              "      <th>log_rtn</th>\n",
              "      <th>real_var</th>\n",
              "      <th>real_vol</th>\n",
              "      <th>Close</th>\n",
              "      <th>Signal_Flag</th>\n",
              "      <th>Prediction</th>\n",
              "    </tr>\n",
              "    <tr>\n",
              "      <th>Date</th>\n",
              "      <th></th>\n",
              "      <th></th>\n",
              "      <th></th>\n",
              "      <th></th>\n",
              "      <th></th>\n",
              "      <th></th>\n",
              "      <th></th>\n",
              "      <th></th>\n",
              "      <th></th>\n",
              "      <th></th>\n",
              "      <th></th>\n",
              "      <th></th>\n",
              "      <th></th>\n",
              "      <th></th>\n",
              "      <th></th>\n",
              "      <th></th>\n",
              "      <th></th>\n",
              "      <th></th>\n",
              "      <th></th>\n",
              "    </tr>\n",
              "  </thead>\n",
              "  <tbody>\n",
              "    <tr>\n",
              "      <th>2019-05-29</th>\n",
              "      <td>60</td>\n",
              "      <td>67</td>\n",
              "      <td>68</td>\n",
              "      <td>66</td>\n",
              "      <td>65</td>\n",
              "      <td>68</td>\n",
              "      <td>71</td>\n",
              "      <td>64</td>\n",
              "      <td>68</td>\n",
              "      <td>68</td>\n",
              "      <td>2.837252</td>\n",
              "      <td>667.837252</td>\n",
              "      <td>0.071018</td>\n",
              "      <td>-0.088135</td>\n",
              "      <td>0.156834</td>\n",
              "      <td>0.396023</td>\n",
              "      <td>11861.099609</td>\n",
              "      <td>1.0</td>\n",
              "      <td>1.0</td>\n",
              "    </tr>\n",
              "    <tr>\n",
              "      <th>2019-05-30</th>\n",
              "      <td>62</td>\n",
              "      <td>69</td>\n",
              "      <td>66</td>\n",
              "      <td>63</td>\n",
              "      <td>63</td>\n",
              "      <td>66</td>\n",
              "      <td>67</td>\n",
              "      <td>63</td>\n",
              "      <td>67</td>\n",
              "      <td>64</td>\n",
              "      <td>2.190890</td>\n",
              "      <td>652.190890</td>\n",
              "      <td>0.065404</td>\n",
              "      <td>-0.023707</td>\n",
              "      <td>0.156681</td>\n",
              "      <td>0.395829</td>\n",
              "      <td>11945.900391</td>\n",
              "      <td>1.0</td>\n",
              "      <td>1.0</td>\n",
              "    </tr>\n",
              "    <tr>\n",
              "      <th>2019-05-31</th>\n",
              "      <td>65</td>\n",
              "      <td>69</td>\n",
              "      <td>69</td>\n",
              "      <td>69</td>\n",
              "      <td>69</td>\n",
              "      <td>69</td>\n",
              "      <td>70</td>\n",
              "      <td>70</td>\n",
              "      <td>69</td>\n",
              "      <td>69</td>\n",
              "      <td>1.326650</td>\n",
              "      <td>689.326650</td>\n",
              "      <td>0.077402</td>\n",
              "      <td>0.055378</td>\n",
              "      <td>0.113474</td>\n",
              "      <td>0.336859</td>\n",
              "      <td>11922.799805</td>\n",
              "      <td>1.0</td>\n",
              "      <td>1.0</td>\n",
              "    </tr>\n",
              "  </tbody>\n",
              "</table>\n",
              "</div>"
            ],
            "text/plain": [
              "            sum5  sum10  sum20  ...         Close  Signal_Flag  Prediction\n",
              "Date                            ...                                       \n",
              "2019-05-29    60     67     68  ...  11861.099609          1.0         1.0\n",
              "2019-05-30    62     69     66  ...  11945.900391          1.0         1.0\n",
              "2019-05-31    65     69     69  ...  11922.799805          1.0         1.0\n",
              "\n",
              "[3 rows x 19 columns]"
            ]
          },
          "metadata": {},
          "execution_count": 25
        }
      ]
    },
    {
      "cell_type": "code",
      "metadata": {
        "id": "f81k4Q__Ohzh",
        "colab": {
          "base_uri": "https://localhost:8080/"
        },
        "outputId": "6a9b6829-bba8-4a96-8045-d98ee2df89f1"
      },
      "source": [
        "# We need to remove all rows that have an NaN value.\n",
        "print('Before NaN Drop we have {} rows and {}  columns in original dataset'.format(price_data.shape[0], price_data.shape[1]))\n",
        "\n",
        "# Any row that has a `NaN` value will be dropped.\n",
        "price_data = price_data.dropna()\n",
        "\n",
        "# Display how much we have left now.\n",
        "print('After NaN Drop we have {} rows and {} columns in original dataset'.format(price_data.shape[0], price_data.shape[1]))\n",
        "\n",
        "# Print the head.\n"
      ],
      "execution_count": 26,
      "outputs": [
        {
          "output_type": "stream",
          "name": "stdout",
          "text": [
            "Before NaN Drop we have 1579 rows and 19  columns in original dataset\n",
            "After NaN Drop we have 1544 rows and 19 columns in original dataset\n"
          ]
        }
      ]
    },
    {
      "cell_type": "code",
      "metadata": {
        "id": "Ekqv1ZhSOnj3",
        "colab": {
          "base_uri": "https://localhost:8080/"
        },
        "outputId": "eba74012-d358-4909-80c0-669833e75f45"
      },
      "source": [
        "# Number of trees is not a parameter that should be tuned, but just set large enough usually. There is no risk of overfitting in random forest with growing number of # trees, as they are trained independently from each other. \n",
        "n_estimators = list(range(200, 2000, 200))\n",
        "\n",
        "# Number of features to consider at every split\n",
        "max_features = ['auto', 'sqrt', None, 'log2']\n",
        "\n",
        "# Maximum number of levels in tree\n",
        "# Max depth is a parameter that most of the times should be set as high as possible, but possibly better performance can be achieved by setting it lower.\n",
        "max_depth = list(range(10, 110, 10))\n",
        "max_depth.append(None)\n",
        "\n",
        "# Minimum number of samples required to split a node\n",
        "# Higher values prevent a model from learning relations which might be highly specific to the particular sample selected for a tree. Too high values can also lead to # under-fitting hence depending on the level of underfitting or overfitting, you can tune the values for min_samples_split.\n",
        "min_samples_split = [2, 5, 10, 20, 30, 40]\n",
        "\n",
        "# Minimum number of samples required at each leaf node\n",
        "min_samples_leaf = [1, 2, 7, 12, 14, 16 ,20]\n",
        "\n",
        "# Method of selecting samples for training each tree\n",
        "bootstrap = [True, False]\n",
        "\n",
        "# Create the random grid\n",
        "random_grid = {'n_estimators': n_estimators,\n",
        "               'max_features': max_features,\n",
        "               'max_depth': max_depth,\n",
        "               'min_samples_split': min_samples_split,\n",
        "               'min_samples_leaf': min_samples_leaf,\n",
        "               'bootstrap': bootstrap}\n",
        "\n",
        "print(random_grid)"
      ],
      "execution_count": 27,
      "outputs": [
        {
          "output_type": "stream",
          "name": "stdout",
          "text": [
            "{'n_estimators': [200, 400, 600, 800, 1000, 1200, 1400, 1600, 1800], 'max_features': ['auto', 'sqrt', None, 'log2'], 'max_depth': [10, 20, 30, 40, 50, 60, 70, 80, 90, 100, None], 'min_samples_split': [2, 5, 10, 20, 30, 40], 'min_samples_leaf': [1, 2, 7, 12, 14, 16, 20], 'bootstrap': [True, False]}\n"
          ]
        }
      ]
    },
    {
      "cell_type": "code",
      "metadata": {
        "id": "QHDZ-3j3Ongc",
        "colab": {
          "base_uri": "https://localhost:8080/",
          "height": 85
        },
        "outputId": "4959cd50-4a7a-490a-d2b0-7b356a211f06"
      },
      "source": [
        "X_Cols = price_data[features]\n",
        "Y_Cols = price_data['Prediction']\n",
        "#,'log5vol','log5','RSI','Price_Rate_Of_Change','log5volM','log5M','MMI_roc'\n",
        "# Split X and y into X_train and X_test\n",
        "samp_train= int(len(price_data)*.75) -50\n",
        "samp_test= samp_train+50\n",
        "X_train = X_Cols[:samp_train]\n",
        "X_test = X_Cols[samp_test:]\n",
        "y_train = Y_Cols[:samp_train]\n",
        "y_test = Y_Cols[samp_test:]\n",
        "\n",
        "\n",
        "#X_train, X_test, y_train, y_test = train_test_split(X_Cols, Y_Cols, random_state = 0)\n",
        "\n",
        "\n",
        "# New Random Forest Classifier to house optimal parameters\n",
        "rf = RandomForestClassifier()\n",
        "\n",
        "# Specfiy the details of our Randomized Search\n",
        "rf_random = RandomizedSearchCV(estimator = rf, param_distributions = random_grid, n_iter = 100, cv = 3, verbose=2, random_state=42, n_jobs = -1)\n",
        "'''\n",
        "# Fit the random search model############################~~~~~~~~~~~~~~~~~~################\n",
        "rf_random.fit(X_train, y_train)\n",
        "print(f\"Best score: {rf_random.best_score_}\")\n",
        "print(\"Best parameters set:\")\n",
        "best_parameters = rf_random.best_estimator_.get_params()\n",
        "for param_name in sorted(random_grid.keys()):\n",
        "  print(f\"\\t{param_name}: {best_parameters[param_name]}\")\n",
        "'''\n"
      ],
      "execution_count": 28,
      "outputs": [
        {
          "output_type": "execute_result",
          "data": {
            "application/vnd.google.colaboratory.intrinsic+json": {
              "type": "string"
            },
            "text/plain": [
              "'\\n# Fit the random search model############################~~~~~~~~~~~~~~~~~~################\\nrf_random.fit(X_train, y_train)\\nprint(f\"Best score: {rf_random.best_score_}\")\\nprint(\"Best parameters set:\")\\nbest_parameters = rf_random.best_estimator_.get_params()\\nfor param_name in sorted(random_grid.keys()):\\n  print(f\"\\t{param_name}: {best_parameters[param_name]}\")\\n'"
            ]
          },
          "metadata": {},
          "execution_count": 28
        }
      ]
    },
    {
      "cell_type": "code",
      "metadata": {
        "id": "E0M4IaajOh4t"
      },
      "source": [
        "# Create a Random Forest Classifier\n",
        "rand_frst_clf = RandomForestClassifier(n_estimators = 1200,max_depth=80,min_samples_leaf=1,max_features = \"auto\",min_samples_split=40, criterion = \"gini\", bootstrap=True,random_state = 42)\n"
      ],
      "execution_count": 29,
      "outputs": []
    },
    {
      "cell_type": "code",
      "metadata": {
        "colab": {
          "base_uri": "https://localhost:8080/"
        },
        "id": "9CICRlPPIe2W",
        "outputId": "19df6b91-d2d6-4514-8604-2b82cc485a50"
      },
      "source": [
        "samp_train,samp_test"
      ],
      "execution_count": 30,
      "outputs": [
        {
          "output_type": "execute_result",
          "data": {
            "text/plain": [
              "(1108, 1158)"
            ]
          },
          "metadata": {},
          "execution_count": 30
        }
      ]
    },
    {
      "cell_type": "code",
      "metadata": {
        "id": "Ycz6zEiJO9zl",
        "colab": {
          "base_uri": "https://localhost:8080/",
          "height": 202
        },
        "outputId": "c50e17c7-aa49-4b41-fa9f-adeece7e8fbb"
      },
      "source": [
        "# Fit the data to the model\n",
        "rand_frst_clf.fit(X_train, y_train)\n",
        "\n",
        "# Make predictions\n",
        "y_pred = rand_frst_clf.predict(X_test)\n",
        "\n",
        "# Define the traget names\n",
        "target_names = ['Down Day', 'Up Day']\n",
        "\n",
        "# Build a classifcation report\n",
        "report = classification_report(y_true = y_test, y_pred = y_pred, target_names = target_names, output_dict = True)\n",
        "\n",
        "# Add it to a data frame, transpose it for readability.\n",
        "report_df = pd.DataFrame(report).transpose()\n",
        "report_df"
      ],
      "execution_count": 31,
      "outputs": [
        {
          "output_type": "execute_result",
          "data": {
            "text/html": [
              "<div>\n",
              "<style scoped>\n",
              "    .dataframe tbody tr th:only-of-type {\n",
              "        vertical-align: middle;\n",
              "    }\n",
              "\n",
              "    .dataframe tbody tr th {\n",
              "        vertical-align: top;\n",
              "    }\n",
              "\n",
              "    .dataframe thead th {\n",
              "        text-align: right;\n",
              "    }\n",
              "</style>\n",
              "<table border=\"1\" class=\"dataframe\">\n",
              "  <thead>\n",
              "    <tr style=\"text-align: right;\">\n",
              "      <th></th>\n",
              "      <th>precision</th>\n",
              "      <th>recall</th>\n",
              "      <th>f1-score</th>\n",
              "      <th>support</th>\n",
              "    </tr>\n",
              "  </thead>\n",
              "  <tbody>\n",
              "    <tr>\n",
              "      <th>Down Day</th>\n",
              "      <td>0.744048</td>\n",
              "      <td>0.816993</td>\n",
              "      <td>0.778816</td>\n",
              "      <td>153.000000</td>\n",
              "    </tr>\n",
              "    <tr>\n",
              "      <th>Up Day</th>\n",
              "      <td>0.871560</td>\n",
              "      <td>0.815451</td>\n",
              "      <td>0.842572</td>\n",
              "      <td>233.000000</td>\n",
              "    </tr>\n",
              "    <tr>\n",
              "      <th>accuracy</th>\n",
              "      <td>0.816062</td>\n",
              "      <td>0.816062</td>\n",
              "      <td>0.816062</td>\n",
              "      <td>0.816062</td>\n",
              "    </tr>\n",
              "    <tr>\n",
              "      <th>macro avg</th>\n",
              "      <td>0.807804</td>\n",
              "      <td>0.816222</td>\n",
              "      <td>0.810694</td>\n",
              "      <td>386.000000</td>\n",
              "    </tr>\n",
              "    <tr>\n",
              "      <th>weighted avg</th>\n",
              "      <td>0.821017</td>\n",
              "      <td>0.816062</td>\n",
              "      <td>0.817301</td>\n",
              "      <td>386.000000</td>\n",
              "    </tr>\n",
              "  </tbody>\n",
              "</table>\n",
              "</div>"
            ],
            "text/plain": [
              "              precision    recall  f1-score     support\n",
              "Down Day       0.744048  0.816993  0.778816  153.000000\n",
              "Up Day         0.871560  0.815451  0.842572  233.000000\n",
              "accuracy       0.816062  0.816062  0.816062    0.816062\n",
              "macro avg      0.807804  0.816222  0.810694  386.000000\n",
              "weighted avg   0.821017  0.816062  0.817301  386.000000"
            ]
          },
          "metadata": {},
          "execution_count": 31
        }
      ]
    },
    {
      "cell_type": "code",
      "metadata": {
        "id": "s7U2mw_TO9wW",
        "colab": {
          "base_uri": "https://localhost:8080/",
          "height": 362
        },
        "outputId": "e4c983e8-ba1c-4d4e-b7ea-6ab892f58ee8"
      },
      "source": [
        "from sklearn.metrics import confusion_matrix, plot_confusion_matrix\n",
        "\n",
        "rf_matrix = confusion_matrix(y_test, y_pred)\n",
        "\n",
        "true_negatives = rf_matrix[0][0]\n",
        "false_negatives = rf_matrix[1][0]\n",
        "true_positives = rf_matrix[1][1]\n",
        "false_positives = rf_matrix[0][1]\n",
        "\n",
        "accuracy = (true_negatives + true_positives) / (true_negatives + true_positives + false_negatives + false_positives)\n",
        "percision = true_positives / (true_positives + false_positives)\n",
        "recall = true_positives / (true_positives + false_negatives)\n",
        "specificity = true_negatives / (true_negatives + false_positives)\n",
        "\n",
        "print('Accuracy: {}'.format(float(accuracy)))\n",
        "print('Percision: {}'.format(float(percision)))\n",
        "print('Recall: {}'.format(float(recall)))\n",
        "print('Specificity: {}'.format(float(specificity)))\n",
        "\n",
        "disp = plot_confusion_matrix(rand_frst_clf, X_test, y_test, display_labels = ['Down Day', 'Up Day'], normalize = 'true', cmap=plt.cm.Blues)\n",
        "disp.ax_.set_title('Confusion Matrix - Normalized')\n",
        "plt.show()"
      ],
      "execution_count": 32,
      "outputs": [
        {
          "output_type": "stream",
          "name": "stdout",
          "text": [
            "Accuracy: 0.8160621761658031\n",
            "Percision: 0.8715596330275229\n",
            "Recall: 0.8154506437768241\n",
            "Specificity: 0.8169934640522876\n"
          ]
        },
        {
          "output_type": "display_data",
          "data": {
            "image/png": "[encoded data removed]",
            "text/plain": [
              "<Figure size 432x288 with 2 Axes>"
            ]
          },
          "metadata": {
            "needs_background": "light"
          }
        }
      ]
    },
    {
      "cell_type": "code",
      "metadata": {
        "id": "_9NIrqUSPDkT",
        "colab": {
          "base_uri": "https://localhost:8080/"
        },
        "outputId": "2880f115-4475-464e-93d3-0e76071445fd"
      },
      "source": [
        "feature_imp = pd.Series(rand_frst_clf.feature_importances_, index=X_Cols.columns).sort_values(ascending=False)\n",
        "feature_imp"
      ],
      "execution_count": 33,
      "outputs": [
        {
          "output_type": "execute_result",
          "data": {
            "text/plain": [
              "sum22        0.154905\n",
              "sum21        0.117567\n",
              "sum19        0.116323\n",
              "sum20        0.107350\n",
              "sum25        0.106381\n",
              "total        0.094214\n",
              "composite    0.067531\n",
              "sum30        0.066944\n",
              "sum15        0.042110\n",
              "sum35        0.027883\n",
              "std          0.018050\n",
              "real_vol     0.017688\n",
              "sum5         0.017487\n",
              "real_var     0.017422\n",
              "log_rtn      0.016237\n",
              "sum10        0.011909\n",
              "dtype: float64"
            ]
          },
          "metadata": {},
          "execution_count": 33
        }
      ]
    },
    {
      "cell_type": "code",
      "metadata": {
        "id": "cw0GDvmrOhv6"
      },
      "source": [
        ""
      ],
      "execution_count": 33,
      "outputs": []
    },
    {
      "cell_type": "code",
      "metadata": {
        "id": "Opt2DxoKSpE-",
        "colab": {
          "base_uri": "https://localhost:8080/"
        },
        "outputId": "0e5afe24-093d-4c95-a599-2eb4721bc314"
      },
      "source": [
        "Ticker = '^NSEI'\n",
        "nifty_n = yf.download(Ticker, start=START_testdate)\n",
        "nifty_n=nifty_n.dropna()\n",
        "nifty_n=nifty_n.iloc[:,:4]"
      ],
      "execution_count": 34,
      "outputs": [
        {
          "output_type": "stream",
          "name": "stdout",
          "text": [
            "\r[*********************100%***********************]  1 of 1 completed\n"
          ]
        }
      ]
    },
    {
      "cell_type": "code",
      "metadata": {
        "id": "sH0oZvCTMoIG",
        "colab": {
          "base_uri": "https://localhost:8080/",
          "height": 140
        },
        "outputId": "fe1aa6aa-3787-40b9-b833-33eca39770ac"
      },
      "source": [
        "nifty_n.tail(2)"
      ],
      "execution_count": 35,
      "outputs": [
        {
          "output_type": "execute_result",
          "data": {
            "text/html": [
              "<div>\n",
              "<style scoped>\n",
              "    .dataframe tbody tr th:only-of-type {\n",
              "        vertical-align: middle;\n",
              "    }\n",
              "\n",
              "    .dataframe tbody tr th {\n",
              "        vertical-align: top;\n",
              "    }\n",
              "\n",
              "    .dataframe thead th {\n",
              "        text-align: right;\n",
              "    }\n",
              "</style>\n",
              "<table border=\"1\" class=\"dataframe\">\n",
              "  <thead>\n",
              "    <tr style=\"text-align: right;\">\n",
              "      <th></th>\n",
              "      <th>Open</th>\n",
              "      <th>High</th>\n",
              "      <th>Low</th>\n",
              "      <th>Close</th>\n",
              "    </tr>\n",
              "    <tr>\n",
              "      <th>Date</th>\n",
              "      <th></th>\n",
              "      <th></th>\n",
              "      <th></th>\n",
              "      <th></th>\n",
              "    </tr>\n",
              "  </thead>\n",
              "  <tbody>\n",
              "    <tr>\n",
              "      <th>2021-09-09</th>\n",
              "      <td>17312.849609</td>\n",
              "      <td>17379.650391</td>\n",
              "      <td>17302.699219</td>\n",
              "      <td>17369.250000</td>\n",
              "    </tr>\n",
              "    <tr>\n",
              "      <th>2021-09-13</th>\n",
              "      <td>17363.550781</td>\n",
              "      <td>17378.349609</td>\n",
              "      <td>17269.150391</td>\n",
              "      <td>17355.300781</td>\n",
              "    </tr>\n",
              "  </tbody>\n",
              "</table>\n",
              "</div>"
            ],
            "text/plain": [
              "                    Open          High           Low         Close\n",
              "Date                                                              \n",
              "2021-09-09  17312.849609  17379.650391  17302.699219  17369.250000\n",
              "2021-09-13  17363.550781  17378.349609  17269.150391  17355.300781"
            ]
          },
          "metadata": {},
          "execution_count": 35
        }
      ]
    },
    {
      "cell_type": "code",
      "metadata": {
        "id": "VUlacFVHJhYT",
        "colab": {
          "base_uri": "https://localhost:8080/"
        },
        "outputId": "0d2a4ea9-dc40-4eec-ff15-57dc12effaf4"
      },
      "source": [
        "lst1=[]\n",
        "for i in range(len(ticker)):\n",
        "  dfn = yf.download(ticker[i], start=START_testdate)\n",
        "  dfn = dfn.dropna()\n",
        "  dfn = dfn.iloc[:,:4]\n",
        "  #df.head(3)\n",
        "  #print('Done : '+ nifty10[i])\n",
        "  #print(df.head(2))\n",
        "  lst1.append(dfn)\n",
        "\n",
        "#df1.head(3)\n",
        "print('\\n All Completed \\n')\n",
        "#df1.head(3)\n"
      ],
      "execution_count": 36,
      "outputs": [
        {
          "output_type": "stream",
          "name": "stdout",
          "text": [
            "[*********************100%***********************]  1 of 1 completed\n",
            "[*********************100%***********************]  1 of 1 completed\n",
            "[*********************100%***********************]  1 of 1 completed\n",
            "[*********************100%***********************]  1 of 1 completed\n",
            "[*********************100%***********************]  1 of 1 completed\n",
            "[*********************100%***********************]  1 of 1 completed\n",
            "[*********************100%***********************]  1 of 1 completed\n",
            "[*********************100%***********************]  1 of 1 completed\n",
            "[*********************100%***********************]  1 of 1 completed\n",
            "[*********************100%***********************]  1 of 1 completed\n",
            "[*********************100%***********************]  1 of 1 completed\n",
            "[*********************100%***********************]  1 of 1 completed\n",
            "[*********************100%***********************]  1 of 1 completed\n",
            "[*********************100%***********************]  1 of 1 completed\n",
            "[*********************100%***********************]  1 of 1 completed\n",
            "[*********************100%***********************]  1 of 1 completed\n",
            "[*********************100%***********************]  1 of 1 completed\n",
            "[*********************100%***********************]  1 of 1 completed\n",
            "[*********************100%***********************]  1 of 1 completed\n",
            "[*********************100%***********************]  1 of 1 completed\n",
            "[*********************100%***********************]  1 of 1 completed\n",
            "[*********************100%***********************]  1 of 1 completed\n",
            "[*********************100%***********************]  1 of 1 completed\n",
            "[*********************100%***********************]  1 of 1 completed\n",
            "[*********************100%***********************]  1 of 1 completed\n",
            "[*********************100%***********************]  1 of 1 completed\n",
            "[*********************100%***********************]  1 of 1 completed\n",
            "[*********************100%***********************]  1 of 1 completed\n",
            "[*********************100%***********************]  1 of 1 completed\n",
            "[*********************100%***********************]  1 of 1 completed\n",
            "[*********************100%***********************]  1 of 1 completed\n",
            "[*********************100%***********************]  1 of 1 completed\n",
            "[*********************100%***********************]  1 of 1 completed\n",
            "[*********************100%***********************]  1 of 1 completed\n",
            "[*********************100%***********************]  1 of 1 completed\n",
            "[*********************100%***********************]  1 of 1 completed\n",
            "[*********************100%***********************]  1 of 1 completed\n",
            "[*********************100%***********************]  1 of 1 completed\n",
            "[*********************100%***********************]  1 of 1 completed\n",
            "[*********************100%***********************]  1 of 1 completed\n",
            "[*********************100%***********************]  1 of 1 completed\n",
            "[*********************100%***********************]  1 of 1 completed\n",
            "[*********************100%***********************]  1 of 1 completed\n",
            "[*********************100%***********************]  1 of 1 completed\n",
            "[*********************100%***********************]  1 of 1 completed\n",
            "[*********************100%***********************]  1 of 1 completed\n",
            "[*********************100%***********************]  1 of 1 completed\n",
            "[*********************100%***********************]  1 of 1 completed\n",
            "[*********************100%***********************]  1 of 1 completed\n",
            "[*********************100%***********************]  1 of 1 completed\n",
            "[*********************100%***********************]  1 of 1 completed\n",
            "[*********************100%***********************]  1 of 1 completed\n",
            "[*********************100%***********************]  1 of 1 completed\n",
            "[*********************100%***********************]  1 of 1 completed\n",
            "[*********************100%***********************]  1 of 1 completed\n",
            "[*********************100%***********************]  1 of 1 completed\n",
            "[*********************100%***********************]  1 of 1 completed\n",
            "[*********************100%***********************]  1 of 1 completed\n",
            "[*********************100%***********************]  1 of 1 completed\n",
            "[*********************100%***********************]  1 of 1 completed\n",
            "[*********************100%***********************]  1 of 1 completed\n",
            "[*********************100%***********************]  1 of 1 completed\n",
            "[*********************100%***********************]  1 of 1 completed\n",
            "[*********************100%***********************]  1 of 1 completed\n",
            "[*********************100%***********************]  1 of 1 completed\n",
            "[*********************100%***********************]  1 of 1 completed\n",
            "[*********************100%***********************]  1 of 1 completed\n",
            "[*********************100%***********************]  1 of 1 completed\n",
            "[*********************100%***********************]  1 of 1 completed\n",
            "[*********************100%***********************]  1 of 1 completed\n",
            "[*********************100%***********************]  1 of 1 completed\n",
            "[*********************100%***********************]  1 of 1 completed\n",
            "[*********************100%***********************]  1 of 1 completed\n",
            "[*********************100%***********************]  1 of 1 completed\n",
            "[*********************100%***********************]  1 of 1 completed\n",
            "[*********************100%***********************]  1 of 1 completed\n",
            "[*********************100%***********************]  1 of 1 completed\n",
            "[*********************100%***********************]  1 of 1 completed\n",
            "[*********************100%***********************]  1 of 1 completed\n",
            "[*********************100%***********************]  1 of 1 completed\n",
            "[*********************100%***********************]  1 of 1 completed\n",
            "[*********************100%***********************]  1 of 1 completed\n",
            "[*********************100%***********************]  1 of 1 completed\n",
            "[*********************100%***********************]  1 of 1 completed\n",
            "[*********************100%***********************]  1 of 1 completed\n",
            "[*********************100%***********************]  1 of 1 completed\n",
            "[*********************100%***********************]  1 of 1 completed\n",
            "[*********************100%***********************]  1 of 1 completed\n",
            "[*********************100%***********************]  1 of 1 completed\n",
            "[*********************100%***********************]  1 of 1 completed\n",
            "[*********************100%***********************]  1 of 1 completed\n",
            "[*********************100%***********************]  1 of 1 completed\n",
            "[*********************100%***********************]  1 of 1 completed\n",
            "[*********************100%***********************]  1 of 1 completed\n",
            "[*********************100%***********************]  1 of 1 completed\n",
            "[*********************100%***********************]  1 of 1 completed\n",
            "[*********************100%***********************]  1 of 1 completed\n",
            "[*********************100%***********************]  1 of 1 completed\n",
            "\n",
            " All Completed \n",
            "\n"
          ]
        }
      ]
    },
    {
      "cell_type": "code",
      "metadata": {
        "id": "ldFHI4kzHbdH"
      },
      "source": [
        "nlst=[]\n",
        "for i in range(len(ticker)):\n",
        "  nlst.append(lst1[i].Close)"
      ],
      "execution_count": 37,
      "outputs": []
    },
    {
      "cell_type": "code",
      "metadata": {
        "id": "05kYT_pVzdTF"
      },
      "source": [
        "dfn=get_sum(nlst,10)\n",
        "df1n=get_sum(nlst,20)\n",
        "df2n=get_sum(nlst,30)\n",
        "df3n=get_sum(nlst,19)\n",
        "df4n=get_sum(nlst,21)\n",
        "df5n=get_sum(nlst,5)\n",
        "df15n=get_sum(nlst,15)\n",
        "df25n=get_sum(nlst,25)\n",
        "df35n=get_sum(nlst,35)\n",
        "df45n=get_sum(nlst,22)\n",
        "\n",
        "\n",
        "df_new=pd.concat([dfn,df1n,df2n,df3n,df4n,df5n,df15n,df25n,df35n,df45n],axis=1)"
      ],
      "execution_count": 38,
      "outputs": []
    },
    {
      "cell_type": "code",
      "metadata": {
        "id": "wqYxPft3VUyl",
        "colab": {
          "base_uri": "https://localhost:8080/"
        },
        "outputId": "b77bce5f-093f-402f-efff-91d5572db7ee"
      },
      "source": [
        "df_new['std']=np.std(df_new.values,axis=1)\n",
        "df_new['composite']=df_new.sum(axis=1)\n",
        "df_new['total'] = df_new['composite'].rolling(14).mean().diff(1)/df_new['composite'].rolling(14).mean()\n",
        "df_new['log_rtn'] = np.log(df_new['composite']).diff()\n",
        "\n",
        "# Var Swap (returns are not demeaned)\n",
        "df_new['real_var'] = np.square(df_new['log_rtn']).rolling(14).sum() * 0.11\n",
        "df_new['real_vol'] = np.sqrt(df_new['real_var'])"
      ],
      "execution_count": 39,
      "outputs": [
        {
          "output_type": "stream",
          "name": "stderr",
          "text": [
            "/usr/local/lib/python3.7/dist-packages/pandas/core/series.py:726: RuntimeWarning: divide by zero encountered in log\n",
            "  result = getattr(ufunc, method)(*inputs, **kwargs)\n"
          ]
        }
      ]
    },
    {
      "cell_type": "code",
      "metadata": {
        "id": "PMscQlNtJhHF"
      },
      "source": [
        "price_data_new = df_new.copy()\n",
        "price_data_new=pd.concat([price_data_new,nifty_n['Close']],axis=1)"
      ],
      "execution_count": 40,
      "outputs": []
    },
    {
      "cell_type": "code",
      "metadata": {
        "id": "GV7-qkZOFxhc",
        "colab": {
          "base_uri": "https://localhost:8080/",
          "height": 194
        },
        "outputId": "75f50179-7735-4532-e9d0-8260fb5c3c5c"
      },
      "source": [
        "price_data_new.tail(2)"
      ],
      "execution_count": 41,
      "outputs": [
        {
          "output_type": "execute_result",
          "data": {
            "text/html": [
              "<div>\n",
              "<style scoped>\n",
              "    .dataframe tbody tr th:only-of-type {\n",
              "        vertical-align: middle;\n",
              "    }\n",
              "\n",
              "    .dataframe tbody tr th {\n",
              "        vertical-align: top;\n",
              "    }\n",
              "\n",
              "    .dataframe thead th {\n",
              "        text-align: right;\n",
              "    }\n",
              "</style>\n",
              "<table border=\"1\" class=\"dataframe\">\n",
              "  <thead>\n",
              "    <tr style=\"text-align: right;\">\n",
              "      <th></th>\n",
              "      <th>sum10</th>\n",
              "      <th>sum20</th>\n",
              "      <th>sum30</th>\n",
              "      <th>sum19</th>\n",
              "      <th>sum21</th>\n",
              "      <th>sum5</th>\n",
              "      <th>sum15</th>\n",
              "      <th>sum25</th>\n",
              "      <th>sum35</th>\n",
              "      <th>sum22</th>\n",
              "      <th>std</th>\n",
              "      <th>composite</th>\n",
              "      <th>total</th>\n",
              "      <th>log_rtn</th>\n",
              "      <th>real_var</th>\n",
              "      <th>real_vol</th>\n",
              "      <th>Close</th>\n",
              "    </tr>\n",
              "    <tr>\n",
              "      <th>Date</th>\n",
              "      <th></th>\n",
              "      <th></th>\n",
              "      <th></th>\n",
              "      <th></th>\n",
              "      <th></th>\n",
              "      <th></th>\n",
              "      <th></th>\n",
              "      <th></th>\n",
              "      <th></th>\n",
              "      <th></th>\n",
              "      <th></th>\n",
              "      <th></th>\n",
              "      <th></th>\n",
              "      <th></th>\n",
              "      <th></th>\n",
              "      <th></th>\n",
              "      <th></th>\n",
              "    </tr>\n",
              "  </thead>\n",
              "  <tbody>\n",
              "    <tr>\n",
              "      <th>2021-09-09</th>\n",
              "      <td>80</td>\n",
              "      <td>80</td>\n",
              "      <td>80</td>\n",
              "      <td>80</td>\n",
              "      <td>79</td>\n",
              "      <td>64</td>\n",
              "      <td>79</td>\n",
              "      <td>79</td>\n",
              "      <td>78</td>\n",
              "      <td>79</td>\n",
              "      <td>4.643275</td>\n",
              "      <td>782.643275</td>\n",
              "      <td>0.038541</td>\n",
              "      <td>0.003300</td>\n",
              "      <td>0.024330</td>\n",
              "      <td>0.155982</td>\n",
              "      <td>17369.250000</td>\n",
              "    </tr>\n",
              "    <tr>\n",
              "      <th>2021-09-13</th>\n",
              "      <td>78</td>\n",
              "      <td>79</td>\n",
              "      <td>80</td>\n",
              "      <td>78</td>\n",
              "      <td>79</td>\n",
              "      <td>66</td>\n",
              "      <td>82</td>\n",
              "      <td>78</td>\n",
              "      <td>80</td>\n",
              "      <td>79</td>\n",
              "      <td>4.134005</td>\n",
              "      <td>783.134005</td>\n",
              "      <td>0.041715</td>\n",
              "      <td>0.000627</td>\n",
              "      <td>0.022781</td>\n",
              "      <td>0.150935</td>\n",
              "      <td>17355.300781</td>\n",
              "    </tr>\n",
              "  </tbody>\n",
              "</table>\n",
              "</div>"
            ],
            "text/plain": [
              "            sum10  sum20  sum30  ...  real_var  real_vol         Close\n",
              "Date                             ...                                  \n",
              "2021-09-09     80     80     80  ...  0.024330  0.155982  17369.250000\n",
              "2021-09-13     78     79     80  ...  0.022781  0.150935  17355.300781\n",
              "\n",
              "[2 rows x 17 columns]"
            ]
          },
          "metadata": {},
          "execution_count": 41
        }
      ]
    },
    {
      "cell_type": "code",
      "metadata": {
        "id": "d5MY6JmaOMEP"
      },
      "source": [
        "# Group by the `Symbol` column, then grab the `Close` column.\n",
        "close_groups = price_data_new['Close']\n",
        "\n",
        "# Apply the lambda function which will return -1.0 for down, 1.0 for up and 0.0 for no change.\n",
        "close_groups = close_groups.transform(lambda x : np.sign(x.diff(days_out)))\n",
        "\n",
        "# add the data to the main dataframe.\n",
        "price_data_new['Prediction'] = close_groups\n",
        "price_data_new = price_data_new.dropna()"
      ],
      "execution_count": 42,
      "outputs": []
    },
    {
      "cell_type": "code",
      "metadata": {
        "id": "eY8t427vW7-n",
        "colab": {
          "base_uri": "https://localhost:8080/",
          "height": 163
        },
        "outputId": "69d82a49-8e2a-4ee2-ffa6-e79f823d3f4f"
      },
      "source": [
        "ppp =price_data_new.reset_index()\n",
        "ppp.head(2)"
      ],
      "execution_count": 43,
      "outputs": [
        {
          "output_type": "execute_result",
          "data": {
            "text/html": [
              "<div>\n",
              "<style scoped>\n",
              "    .dataframe tbody tr th:only-of-type {\n",
              "        vertical-align: middle;\n",
              "    }\n",
              "\n",
              "    .dataframe tbody tr th {\n",
              "        vertical-align: top;\n",
              "    }\n",
              "\n",
              "    .dataframe thead th {\n",
              "        text-align: right;\n",
              "    }\n",
              "</style>\n",
              "<table border=\"1\" class=\"dataframe\">\n",
              "  <thead>\n",
              "    <tr style=\"text-align: right;\">\n",
              "      <th></th>\n",
              "      <th>Date</th>\n",
              "      <th>sum10</th>\n",
              "      <th>sum20</th>\n",
              "      <th>sum30</th>\n",
              "      <th>sum19</th>\n",
              "      <th>sum21</th>\n",
              "      <th>sum5</th>\n",
              "      <th>sum15</th>\n",
              "      <th>sum25</th>\n",
              "      <th>sum35</th>\n",
              "      <th>sum22</th>\n",
              "      <th>std</th>\n",
              "      <th>composite</th>\n",
              "      <th>total</th>\n",
              "      <th>log_rtn</th>\n",
              "      <th>real_var</th>\n",
              "      <th>real_vol</th>\n",
              "      <th>Close</th>\n",
              "      <th>Prediction</th>\n",
              "    </tr>\n",
              "  </thead>\n",
              "  <tbody>\n",
              "    <tr>\n",
              "      <th>0</th>\n",
              "      <td>2020-02-25</td>\n",
              "      <td>16</td>\n",
              "      <td>25</td>\n",
              "      <td>31</td>\n",
              "      <td>23</td>\n",
              "      <td>26</td>\n",
              "      <td>14</td>\n",
              "      <td>18</td>\n",
              "      <td>29</td>\n",
              "      <td>31</td>\n",
              "      <td>27</td>\n",
              "      <td>5.813777</td>\n",
              "      <td>245.813777</td>\n",
              "      <td>-0.074420</td>\n",
              "      <td>-0.029345</td>\n",
              "      <td>0.097066</td>\n",
              "      <td>0.311554</td>\n",
              "      <td>11797.900391</td>\n",
              "      <td>-1.0</td>\n",
              "    </tr>\n",
              "    <tr>\n",
              "      <th>1</th>\n",
              "      <td>2020-02-26</td>\n",
              "      <td>11</td>\n",
              "      <td>19</td>\n",
              "      <td>23</td>\n",
              "      <td>19</td>\n",
              "      <td>19</td>\n",
              "      <td>9</td>\n",
              "      <td>15</td>\n",
              "      <td>20</td>\n",
              "      <td>23</td>\n",
              "      <td>19</td>\n",
              "      <td>4.428318</td>\n",
              "      <td>181.428318</td>\n",
              "      <td>-0.084686</td>\n",
              "      <td>-0.303714</td>\n",
              "      <td>0.107021</td>\n",
              "      <td>0.327141</td>\n",
              "      <td>11678.500000</td>\n",
              "      <td>-1.0</td>\n",
              "    </tr>\n",
              "  </tbody>\n",
              "</table>\n",
              "</div>"
            ],
            "text/plain": [
              "        Date  sum10  sum20  sum30  ...  real_var  real_vol         Close  Prediction\n",
              "0 2020-02-25     16     25     31  ...  0.097066  0.311554  11797.900391        -1.0\n",
              "1 2020-02-26     11     19     23  ...  0.107021  0.327141  11678.500000        -1.0\n",
              "\n",
              "[2 rows x 19 columns]"
            ]
          },
          "metadata": {},
          "execution_count": 43
        }
      ]
    },
    {
      "cell_type": "code",
      "metadata": {
        "id": "YZzPIxZWOMJS"
      },
      "source": [
        "pred = pd.DataFrame(rand_frst_clf.predict(price_data_new[features]))\n",
        "pred = pd.concat([pred , ppp.Date,ppp.Close],axis=1)\n",
        "pred.columns=['pred','Date','Close']\n",
        "pred= pred.set_index('Date')"
      ],
      "execution_count": 44,
      "outputs": []
    },
    {
      "cell_type": "code",
      "metadata": {
        "id": "YHDIgAP4182i"
      },
      "source": [
        "l=len(pred)\n"
      ],
      "execution_count": 45,
      "outputs": []
    },
    {
      "cell_type": "markdown",
      "metadata": {
        "id": "DCvOl8bNrbhk"
      },
      "source": [
        "# PREDICTIONS"
      ]
    },
    {
      "cell_type": "code",
      "metadata": {
        "id": "Y4oxYJkz2cfN",
        "colab": {
          "base_uri": "https://localhost:8080/",
          "height": 345
        },
        "outputId": "e6776ee8-2728-4258-b8c1-50b548925768"
      },
      "source": [
        "fig, ax = plt.subplots(2,1,figsize=(20,7))\n",
        "ax[0].plot(nifty_n.index.values[-l:],nifty_n['Close'].values[-l:],'*-',linewidth=1 )\n",
        "ax[1].plot(nifty_n.index.values[-l:],pred.pred.values[-l:],'*-',linewidth=1 )\n",
        "\n",
        "\n",
        "if data=='lix15':\n",
        "  plt.suptitle('Random Forest Advance Decline Line **LIX15**')\n",
        "  plt.savefig('LIX.png')\n",
        "else:\n",
        "  plt.suptitle('Random Forest Advance Decline Line **NIFTY100**')\n",
        "  plt.savefig('n100.png') \n",
        "plt.show()   "
      ],
      "execution_count": 46,
      "outputs": [
        {
          "output_type": "display_data",
          "data": {
            "image/png": "[encoded data removed]",
            "text/plain": [
              "<Figure size 1440x504 with 2 Axes>"
            ]
          },
          "metadata": {
            "needs_background": "light"
          }
        }
      ]
    },
    {
      "cell_type": "code",
      "metadata": {
        "id": "nkFHMjy6OMN9",
        "colab": {
          "base_uri": "https://localhost:8080/",
          "height": 172
        },
        "outputId": "f0568271-815d-4998-8681-964bec2438f4"
      },
      "source": [
        "pred.tail(3)"
      ],
      "execution_count": 47,
      "outputs": [
        {
          "output_type": "execute_result",
          "data": {
            "text/html": [
              "<div>\n",
              "<style scoped>\n",
              "    .dataframe tbody tr th:only-of-type {\n",
              "        vertical-align: middle;\n",
              "    }\n",
              "\n",
              "    .dataframe tbody tr th {\n",
              "        vertical-align: top;\n",
              "    }\n",
              "\n",
              "    .dataframe thead th {\n",
              "        text-align: right;\n",
              "    }\n",
              "</style>\n",
              "<table border=\"1\" class=\"dataframe\">\n",
              "  <thead>\n",
              "    <tr style=\"text-align: right;\">\n",
              "      <th></th>\n",
              "      <th>pred</th>\n",
              "      <th>Close</th>\n",
              "    </tr>\n",
              "    <tr>\n",
              "      <th>Date</th>\n",
              "      <th></th>\n",
              "      <th></th>\n",
              "    </tr>\n",
              "  </thead>\n",
              "  <tbody>\n",
              "    <tr>\n",
              "      <th>2021-09-08</th>\n",
              "      <td>1.0</td>\n",
              "      <td>17353.500000</td>\n",
              "    </tr>\n",
              "    <tr>\n",
              "      <th>2021-09-09</th>\n",
              "      <td>1.0</td>\n",
              "      <td>17369.250000</td>\n",
              "    </tr>\n",
              "    <tr>\n",
              "      <th>2021-09-13</th>\n",
              "      <td>1.0</td>\n",
              "      <td>17355.300781</td>\n",
              "    </tr>\n",
              "  </tbody>\n",
              "</table>\n",
              "</div>"
            ],
            "text/plain": [
              "            pred         Close\n",
              "Date                          \n",
              "2021-09-08   1.0  17353.500000\n",
              "2021-09-09   1.0  17369.250000\n",
              "2021-09-13   1.0  17355.300781"
            ]
          },
          "metadata": {},
          "execution_count": 47
        }
      ]
    },
    {
      "cell_type": "code",
      "metadata": {
        "id": "hK0j3dAFVGzW"
      },
      "source": [
        "pred=pred.reset_index()\n",
        "# saving the dataframe\n",
        "pred[['Date','pred']].to_csv('dma.csv')"
      ],
      "execution_count": 48,
      "outputs": []
    },
    {
      "cell_type": "code",
      "metadata": {
        "id": "IuO-sQjfOMS0",
        "colab": {
          "base_uri": "https://localhost:8080/"
        },
        "outputId": "13e21916-c574-487f-a9ee-ce41224a4b33"
      },
      "source": [
        "days_out"
      ],
      "execution_count": 49,
      "outputs": [
        {
          "output_type": "execute_result",
          "data": {
            "text/plain": [
              "14"
            ]
          },
          "metadata": {},
          "execution_count": 49
        }
      ]
    },
    {
      "cell_type": "code",
      "metadata": {
        "id": "Hmhm4AEIYyaL"
      },
      "source": [
        "#pred=pred.reset_index()"
      ],
      "execution_count": 50,
      "outputs": []
    },
    {
      "cell_type": "code",
      "metadata": {
        "id": "DXZoforrYxlr"
      },
      "source": [
        "#\n",
        "#fig, ax = plt.subplots(1,1,figsize=(20,7))\n",
        "#Identifying the buy/sell zone\n",
        "pred['Buy_ind'] = np.where((pred['pred']==1), 1, 0)\n",
        "pred['Sell_ind'] = np.where((pred['pred']==-1), 0, 1)"
      ],
      "execution_count": 51,
      "outputs": []
    },
    {
      "cell_type": "code",
      "metadata": {
        "id": "LFUpHtw2Y7Ut"
      },
      "source": [
        "nifty_n['50_EMA'] = nifty_n[\"Close\"].rolling(50).mean()"
      ],
      "execution_count": 52,
      "outputs": []
    },
    {
      "cell_type": "code",
      "metadata": {
        "id": "UhkKOdrXOMMl",
        "colab": {
          "base_uri": "https://localhost:8080/",
          "height": 326
        },
        "outputId": "b1f2064c-c3fa-4bd1-f948-f7d718bdfb77"
      },
      "source": [
        "plt.figure(figsize=(20,7))\n",
        "## plotting the buy and sell signals on graph\n",
        "plt.plot(nifty_n.index.values[-l:],nifty_n['Close'].values[-l:],'-',linewidth=1)\n",
        "plt.scatter(pred.loc[pred['Buy_ind'] ==1 , 'Date'].values,pred.loc[pred['Buy_ind'] ==1, 'Close'].values, label='skitscat', color='green', s=25, marker=\"^\")\n",
        "plt.scatter(pred.loc[pred['Sell_ind'] ==0 , 'Date'].values,pred.loc[pred['Sell_ind'] ==0, 'Close'].values, label='skitscat', color='red', s=25, marker=\"v\")\n",
        "plt.plot(nifty_n.index.values[-l:],nifty_n['50_EMA'].values[-l:])\n",
        "## Adding labels\n",
        "plt.xlabel('Date')  \n",
        "plt.ylabel('Close Price')  \n",
        "plt.title('AD Nifty price with buy and sell signal ' ) \n",
        "\n",
        "plt.savefig('a.png')\n",
        "plt.show();\n"
      ],
      "execution_count": 53,
      "outputs": [
        {
          "output_type": "display_data",
          "data": {
            "image/png": "[encoded data removed]",
            "text/plain": [
              "<Figure size 1440x504 with 1 Axes>"
            ]
          },
          "metadata": {
            "needs_background": "light"
          }
        }
      ]
    },
    {
      "cell_type": "code",
      "metadata": {
        "id": "K3Rq1cXbaIwP"
      },
      "source": [
        "pred['actual']=np.where(pred.Close>pred.Close.shift(1),1,-1)\n",
        "pred['dummyS']=pred['pred'].shift(1)\n",
        "pred=pred.dropna()"
      ],
      "execution_count": 54,
      "outputs": []
    },
    {
      "cell_type": "code",
      "metadata": {
        "colab": {
          "base_uri": "https://localhost:8080/"
        },
        "id": "gH4ero_eaItJ",
        "outputId": "51baf7cc-6285-4b29-9156-7d4a2c09e433"
      },
      "source": [
        "from sklearn.metrics import confusion_matrix, plot_confusion_matrix\n",
        "\n",
        "rf_matrix = confusion_matrix(pred.actual, pred.dummyS)\n",
        "\n",
        "true_negatives = rf_matrix[0][0]\n",
        "false_negatives = rf_matrix[1][0]\n",
        "true_positives = rf_matrix[1][1]\n",
        "false_positives = rf_matrix[0][1]\n",
        "from sklearn.metrics import average_precision_score\n",
        "average_precision = average_precision_score(pred.actual, pred.dummyS)\n",
        "\n",
        "accuracy = (true_negatives + true_positives) / (true_negatives + true_positives + false_negatives + false_positives)\n",
        "percision = true_positives / (true_positives + false_positives)\n",
        "recall = true_positives / (true_positives + false_negatives)\n",
        "specificity = true_negatives / (true_negatives + false_positives)\n",
        "f1score= 2*recall*percision/(percision+recall)\n",
        "print('Accuracy: {}'.format(float(accuracy)))\n",
        "print('Percision: {}'.format(float(percision)))\n",
        "print('Recall: {}'.format(float(recall)))\n",
        "print('Specificity: {}'.format(float(specificity)))\n",
        "print('F1-Score: {}'.format(float(f1score)))\n",
        "print('Average Precision : {}'.format(float(average_precision)))"
      ],
      "execution_count": 55,
      "outputs": [
        {
          "output_type": "stream",
          "name": "stdout",
          "text": [
            "Accuracy: 0.5511811023622047\n",
            "Percision: 0.6074074074074074\n",
            "Recall: 0.7161572052401747\n",
            "Specificity: 0.3026315789473684\n",
            "F1-Score: 0.657314629258517\n",
            "Average Precision : 0.6056028658717515\n"
          ]
        }
      ]
    },
    {
      "cell_type": "code",
      "metadata": {
        "id": "nd7OrjEg64gb"
      },
      "source": [
        ""
      ],
      "execution_count": 55,
      "outputs": []
    }
  ]
}