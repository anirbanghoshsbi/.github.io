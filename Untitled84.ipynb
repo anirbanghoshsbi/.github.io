{
  "nbformat": 4,
  "nbformat_minor": 0,
  "metadata": {
    "colab": {
      "provenance": [],
      "authorship_tag": "ABX9TyNyRFsXSpHFSlhSu3VKxS4B",
      "include_colab_link": true
    },
    "kernelspec": {
      "name": "python3",
      "display_name": "Python 3"
    },
    "language_info": {
      "name": "python"
    }
  },
  "cells": [
    {
      "cell_type": "markdown",
      "metadata": {
        "id": "view-in-github",
        "colab_type": "text"
      },
      "source": [
        "<a href=\"https://colab.research.google.com/github/anirbanghoshsbi/.github.io/blob/master/Untitled84.ipynb\" target=\"_parent\"><img src=\"https://colab.research.google.com/assets/colab-badge.svg\" alt=\"Open In Colab\"/></a>"
      ]
    },
    {
      "cell_type": "code",
      "execution_count": 1,
      "metadata": {
        "id": "GTrvO63wLGcb"
      },
      "outputs": [],
      "source": [
        "import pandas as pd\n",
        "import yfinance as yf"
      ]
    },
    {
      "cell_type": "code",
      "source": [
        "nifty50_url = \"https://raw.githubusercontent.com/anirbanghoshsbi/data/main/ind_nifty50list.csv\"\n",
        "nifty50 = pd.read_csv(nifty50_url)\n",
        "tickers = nifty50['Symbol'].apply(lambda x: x + \".NS\").tolist()\n",
        "# Bank Nifty Stocks\n",
        "bank_nifty_stocks = tickers\n",
        "data = yf.download(bank_nifty_stocks, start='2020-01-01')"
      ],
      "metadata": {
        "colab": {
          "base_uri": "https://localhost:8080/"
        },
        "id": "iNP6fsECLRkm",
        "outputId": "d5b45f48-3595-447d-d94c-0df39c2d4b84"
      },
      "execution_count": 2,
      "outputs": [
        {
          "output_type": "stream",
          "name": "stdout",
          "text": [
            "[*********************100%%**********************]  50 of 50 completed\n"
          ]
        }
      ]
    },
    {
      "cell_type": "code",
      "source": [
        "data.columns"
      ],
      "metadata": {
        "colab": {
          "base_uri": "https://localhost:8080/"
        },
        "id": "i44xy8cILl2o",
        "outputId": "8cafed9e-eee2-4927-e481-2bcc63a9a468"
      },
      "execution_count": 6,
      "outputs": [
        {
          "output_type": "execute_result",
          "data": {
            "text/plain": [
              "MultiIndex([('Adj Close',   'ADANIENT.NS'),\n",
              "            ('Adj Close', 'ADANIPORTS.NS'),\n",
              "            ('Adj Close', 'APOLLOHOSP.NS'),\n",
              "            ('Adj Close', 'ASIANPAINT.NS'),\n",
              "            ('Adj Close',   'AXISBANK.NS'),\n",
              "            ('Adj Close', 'BAJAJ-AUTO.NS'),\n",
              "            ('Adj Close', 'BAJAJFINSV.NS'),\n",
              "            ('Adj Close', 'BAJFINANCE.NS'),\n",
              "            ('Adj Close', 'BHARTIARTL.NS'),\n",
              "            ('Adj Close',       'BPCL.NS'),\n",
              "            ...\n",
              "            (   'Volume',  'SUNPHARMA.NS'),\n",
              "            (   'Volume', 'TATACONSUM.NS'),\n",
              "            (   'Volume', 'TATAMOTORS.NS'),\n",
              "            (   'Volume',  'TATASTEEL.NS'),\n",
              "            (   'Volume',        'TCS.NS'),\n",
              "            (   'Volume',      'TECHM.NS'),\n",
              "            (   'Volume',      'TITAN.NS'),\n",
              "            (   'Volume', 'ULTRACEMCO.NS'),\n",
              "            (   'Volume',        'UPL.NS'),\n",
              "            (   'Volume',      'WIPRO.NS')],\n",
              "           length=300)"
            ]
          },
          "metadata": {},
          "execution_count": 6
        }
      ]
    },
    {
      "cell_type": "code",
      "source": [
        "import yfinance as yf\n",
        "import pandas as pd\n",
        "\n",
        "# List of stock tickers\n",
        "ticker_list = ['AAPL', 'GOOGL', 'MSFT', 'AMZN', 'FB']\n",
        "\n",
        "# Download data for each stock\n",
        "data_frames = {}\n",
        "for ticker in ticker_list:\n",
        "    data_frames[ticker] = yf.download(ticker, start='2020-01-01')\n",
        "\n",
        "# Combine data into a single multi-index DataFrame\n",
        "data = pd.concat(data_frames, axis=1)\n",
        "\n",
        "# Display the result\n",
        "print(data.head())\n"
      ],
      "metadata": {
        "colab": {
          "base_uri": "https://localhost:8080/"
        },
        "id": "a-3p12kkL2iC",
        "outputId": "54d0aca6-173e-4d4c-fd7f-5b6ff8d3cfaa"
      },
      "execution_count": 4,
      "outputs": [
        {
          "output_type": "stream",
          "name": "stdout",
          "text": [
            "x is iterable\n",
            "x is a mapping (dictionary)\n"
          ]
        }
      ]
    }
  ]
}