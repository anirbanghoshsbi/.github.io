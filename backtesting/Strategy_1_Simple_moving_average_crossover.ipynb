{
  "nbformat": 4,
  "nbformat_minor": 0,
  "metadata": {
    "kernelspec": {
      "display_name": "Python 3",
      "language": "python",
      "name": "python3"
    },
    "language_info": {
      "codemirror_mode": {
        "name": "ipython",
        "version": 3
      },
      "file_extension": ".py",
      "mimetype": "text/x-python",
      "name": "python",
      "nbconvert_exporter": "python",
      "pygments_lexer": "ipython3",
      "version": "3.7.4"
    },
    "colab": {
      "name": "Strategy 1 - Simple moving average crossover.ipynb",
      "provenance": [],
      "include_colab_link": true
    }
  },
  "cells": [
    {
      "cell_type": "markdown",
      "metadata": {
        "id": "view-in-github",
        "colab_type": "text"
      },
      "source": [
        "<a href=\"https://colab.research.google.com/github/anirbanghoshsbi/.github.io/blob/master/backtesting/Strategy_1_Simple_moving_average_crossover.ipynb\" target=\"_parent\"><img src=\"https://colab.research.google.com/assets/colab-badge.svg\" alt=\"Open In Colab\"/></a>"
      ]
    },
    {
      "cell_type": "code",
      "metadata": {
        "id": "4M4LSf2wjVnx",
        "outputId": "e32a639d-9908-4112-da40-902ccdf92da2",
        "colab": {
          "base_uri": "https://localhost:8080/"
        }
      },
      "source": [
        "!pip install yfinance"
      ],
      "execution_count": 1,
      "outputs": [
        {
          "output_type": "stream",
          "name": "stdout",
          "text": [
            "Collecting yfinance\n",
            "  Downloading yfinance-0.1.67-py2.py3-none-any.whl (25 kB)\n",
            "Requirement already satisfied: numpy>=1.15 in /usr/local/lib/python3.7/dist-packages (from yfinance) (1.19.5)\n",
            "Requirement already satisfied: requests>=2.20 in /usr/local/lib/python3.7/dist-packages (from yfinance) (2.23.0)\n",
            "Requirement already satisfied: pandas>=0.24 in /usr/local/lib/python3.7/dist-packages (from yfinance) (1.1.5)\n",
            "Requirement already satisfied: multitasking>=0.0.7 in /usr/local/lib/python3.7/dist-packages (from yfinance) (0.0.10)\n",
            "Collecting lxml>=4.5.1\n",
            "  Downloading lxml-4.6.4-cp37-cp37m-manylinux_2_17_x86_64.manylinux2014_x86_64.manylinux_2_24_x86_64.whl (6.3 MB)\n",
            "\u001b[K     |████████████████████████████████| 6.3 MB 6.5 MB/s \n",
            "\u001b[?25hRequirement already satisfied: python-dateutil>=2.7.3 in /usr/local/lib/python3.7/dist-packages (from pandas>=0.24->yfinance) (2.8.2)\n",
            "Requirement already satisfied: pytz>=2017.2 in /usr/local/lib/python3.7/dist-packages (from pandas>=0.24->yfinance) (2018.9)\n",
            "Requirement already satisfied: six>=1.5 in /usr/local/lib/python3.7/dist-packages (from python-dateutil>=2.7.3->pandas>=0.24->yfinance) (1.15.0)\n",
            "Requirement already satisfied: urllib3!=1.25.0,!=1.25.1,<1.26,>=1.21.1 in /usr/local/lib/python3.7/dist-packages (from requests>=2.20->yfinance) (1.24.3)\n",
            "Requirement already satisfied: certifi>=2017.4.17 in /usr/local/lib/python3.7/dist-packages (from requests>=2.20->yfinance) (2021.10.8)\n",
            "Requirement already satisfied: chardet<4,>=3.0.2 in /usr/local/lib/python3.7/dist-packages (from requests>=2.20->yfinance) (3.0.4)\n",
            "Requirement already satisfied: idna<3,>=2.5 in /usr/local/lib/python3.7/dist-packages (from requests>=2.20->yfinance) (2.10)\n",
            "Installing collected packages: lxml, yfinance\n",
            "  Attempting uninstall: lxml\n",
            "    Found existing installation: lxml 4.2.6\n",
            "    Uninstalling lxml-4.2.6:\n",
            "      Successfully uninstalled lxml-4.2.6\n",
            "Successfully installed lxml-4.6.4 yfinance-0.1.67\n"
          ]
        }
      ]
    },
    {
      "cell_type": "code",
      "metadata": {
        "id": "nr7ROw38jQZT"
      },
      "source": [
        "import yfinance as yf\n",
        "import numpy as np\n",
        "import pandas as pd\n",
        "import matplotlib.pyplot as plt\n",
        "import time\n",
        "import datetime\n",
        "import os\n",
        "import matplotlib.style\n",
        "from pandas.core.common import flatten\n",
        "from functools import partial, reduce"
      ],
      "execution_count": 2,
      "outputs": []
    },
    {
      "cell_type": "code",
      "metadata": {
        "colab": {
          "base_uri": "https://localhost:8080/"
        },
        "id": "poz87EUrjawY",
        "outputId": "c2a92bc3-a99f-4575-a4bf-da21a219b29f"
      },
      "source": [
        "yf.download('sbin.ns',start= \"2015-01-01\").to_csv('sbin.csv')\n",
        "yf.download('tcs.ns',start=\"2015-01-01\").to_csv('tcs.csv')\n",
        "yf.download('acc.ns',start=\"2015-01-01\").to_csv('acc.csv')"
      ],
      "execution_count": 3,
      "outputs": [
        {
          "output_type": "stream",
          "name": "stdout",
          "text": [
            "[*********************100%***********************]  1 of 1 completed\n",
            "[*********************100%***********************]  1 of 1 completed\n",
            "[*********************100%***********************]  1 of 1 completed\n"
          ]
        }
      ]
    },
    {
      "cell_type": "code",
      "metadata": {
        "id": "3HaAvA9gjQZT"
      },
      "source": [
        "plt.style.use('ggplot')"
      ],
      "execution_count": 4,
      "outputs": []
    },
    {
      "cell_type": "code",
      "metadata": {
        "id": "CaVtqGk1jQZT"
      },
      "source": [
        "path = '/content/'"
      ],
      "execution_count": 5,
      "outputs": []
    },
    {
      "cell_type": "code",
      "metadata": {
        "colab": {
          "base_uri": "https://localhost:8080/"
        },
        "id": "xoT2FucHjQZU",
        "outputId": "477aed9c-1909-430d-9f30-7ddeaef03d38"
      },
      "source": [
        "pairs_list = []\n",
        "for filename in os.listdir(path):\n",
        "    if filename.endswith('.csv'):\n",
        "        pairs_list.append(filename.split('.')[0])\n",
        "print(pairs_list)\n",
        "\n",
        "df = {}\n",
        "for pair in range(len(pairs_list)):\n",
        "    df[pair] = pd.read_csv(pairs_list[pair]+'.csv', header = 0)\n",
        "    df[pair].columns = ['Date', 'Open', 'High', 'Low', 'Close','Adj Close', 'Volume']\n",
        "    df[pair]['Date'] = df[pair]['Date'].str.split(' ').str[0:2]\n",
        "    df[pair]['Date'] = df[pair]['Date'].str.join(' ')\n",
        "    df[pair].set_index('Date', inplace = True)\n",
        "    df[pair].index = pd.to_datetime(df[pair].index)"
      ],
      "execution_count": 9,
      "outputs": [
        {
          "output_type": "stream",
          "name": "stdout",
          "text": [
            "['sbin', 'acc', 'tcs']\n"
          ]
        }
      ]
    },
    {
      "cell_type": "code",
      "metadata": {
        "colab": {
          "base_uri": "https://localhost:8080/",
          "height": 143
        },
        "id": "OtqWIiGVjw1Q",
        "outputId": "d9e7c34d-dbe0-4dc2-8296-6b2aa7ecb1ef"
      },
      "source": [
        "df[0].tail(2)"
      ],
      "execution_count": 10,
      "outputs": [
        {
          "output_type": "execute_result",
          "data": {
            "text/html": [
              "<div>\n",
              "<style scoped>\n",
              "    .dataframe tbody tr th:only-of-type {\n",
              "        vertical-align: middle;\n",
              "    }\n",
              "\n",
              "    .dataframe tbody tr th {\n",
              "        vertical-align: top;\n",
              "    }\n",
              "\n",
              "    .dataframe thead th {\n",
              "        text-align: right;\n",
              "    }\n",
              "</style>\n",
              "<table border=\"1\" class=\"dataframe\">\n",
              "  <thead>\n",
              "    <tr style=\"text-align: right;\">\n",
              "      <th></th>\n",
              "      <th>Open</th>\n",
              "      <th>High</th>\n",
              "      <th>Low</th>\n",
              "      <th>Close</th>\n",
              "      <th>Adj Close</th>\n",
              "      <th>Volume</th>\n",
              "    </tr>\n",
              "    <tr>\n",
              "      <th>Date</th>\n",
              "      <th></th>\n",
              "      <th></th>\n",
              "      <th></th>\n",
              "      <th></th>\n",
              "      <th></th>\n",
              "      <th></th>\n",
              "    </tr>\n",
              "  </thead>\n",
              "  <tbody>\n",
              "    <tr>\n",
              "      <th>2021-11-17</th>\n",
              "      <td>493.850006</td>\n",
              "      <td>505.399994</td>\n",
              "      <td>491.000000</td>\n",
              "      <td>498.149994</td>\n",
              "      <td>498.149994</td>\n",
              "      <td>20488483</td>\n",
              "    </tr>\n",
              "    <tr>\n",
              "      <th>2021-11-18</th>\n",
              "      <td>499.100006</td>\n",
              "      <td>506.200012</td>\n",
              "      <td>492.299988</td>\n",
              "      <td>503.799988</td>\n",
              "      <td>503.799988</td>\n",
              "      <td>22471070</td>\n",
              "    </tr>\n",
              "  </tbody>\n",
              "</table>\n",
              "</div>"
            ],
            "text/plain": [
              "                  Open        High  ...   Adj Close    Volume\n",
              "Date                                ...                      \n",
              "2021-11-17  493.850006  505.399994  ...  498.149994  20488483\n",
              "2021-11-18  499.100006  506.200012  ...  503.799988  22471070\n",
              "\n",
              "[2 rows x 6 columns]"
            ]
          },
          "metadata": {},
          "execution_count": 10
        }
      ]
    },
    {
      "cell_type": "code",
      "metadata": {
        "id": "61yBbQGijQZU"
      },
      "source": [
        "plt.figure(figsize = (26, 8))\n",
        "plt.plot(df[0]['Close']);"
      ],
      "execution_count": null,
      "outputs": []
    },
    {
      "cell_type": "code",
      "metadata": {
        "id": "HjZM2YvBjQZU"
      },
      "source": [
        "def SMA(df, fast, slow):\n",
        "    df['sma_fast'] = df['Close'].rolling(fast).mean()\n",
        "    df['sma_slow'] = df['Close'].rolling(slow).mean()\n",
        "    return df\n",
        "\n",
        "def ATR(df, n):\n",
        "    df = df.copy()\n",
        "    df['High-Low'] = abs(df['High'] - df['Low'])\n",
        "    df['High-PrevClose'] = abs(df['High'] - df['Close'].shift(1))\n",
        "    df['Low-PrevClose'] = abs(df['Low'] - df['Close'].shift(1))\n",
        "    df['TR'] = df[['High-Low', 'High-PrevClose', 'Low-PrevClose']].max(axis = 1, skipna = False)\n",
        "    df['ATR'] = df['TR'].rolling(n).mean()\n",
        "    df = df.drop(['High-Low', 'High-PrevClose', 'Low-PrevClose'], axis = 1)\n",
        "    return df"
      ],
      "execution_count": null,
      "outputs": []
    },
    {
      "cell_type": "code",
      "metadata": {
        "id": "OhHMsg03jQZV"
      },
      "source": [
        "#Strategy parameters\n",
        "account_size = 10000\n",
        "slippage = 2\n",
        "size = 1\n",
        "ATR_SL = 0.5\n",
        "\n",
        "for pair in range(len(pairs_list)):\n",
        "    df[pair]['ATR'] = ATR(df[pair], 20)['ATR']\n",
        "    df[pair]['sma_fast'] = SMA(df[pair], 50, 200)\n",
        "    if 'JPY' not in pairs_list[pair]:\n",
        "        df[pair]['spread'] = float(slippage) / float(10000)\n",
        "        df[pair]['size'] = float(size) * float(10000)\n",
        "        print('Pair: ', pairs_list[pair], 'a')\n",
        "    else:\n",
        "        df[pair]['spread'] = float(slippage) / float(100)\n",
        "        df[pair]['size'] = float(size) * float(100)\n",
        "        print('Pair: ', pairs_list[pair], 'b')"
      ],
      "execution_count": null,
      "outputs": []
    },
    {
      "cell_type": "code",
      "metadata": {
        "id": "Yk6q6ffrjQZV"
      },
      "source": [
        "open_trade = {}\n",
        "trade = {}\n",
        "long_take_profit = {}\n",
        "short_take_profit = {}\n",
        "long_stop_loss = {}\n",
        "short_stop_loss = {}\n",
        "long_entry_price = {}\n",
        "short_entry_price = {}\n",
        "\n",
        "for pair in range(len(pairs_list)):\n",
        "    open_trade[pair] = []\n",
        "    trade[pair] = {}\n",
        "    long_take_profit[pair] = []\n",
        "    short_take_profit[pair] = []\n",
        "    long_stop_loss[pair] = []\n",
        "    short_stop_loss[pair] = []\n",
        "    long_entry_price[pair] = []\n",
        "    short_entry_price[pair] = []\n",
        "    \n",
        "    for i in range(50, len(df[pair])):\n",
        "        #Buy\n",
        "        if df[pair]['sma_fast'][i-1] < df[pair]['sma_slow'][i-1] and df[pair]['sma_fast'][i] >= df[pair]['sma_slow'][i] and len(open_trade[pair]) == 0:\n",
        "            print(i, 'New Long trade at price:', round(df[pair]['Close'][i], 4), ' On day:', df[pair].index[i], 'Pair:', pairs_list[pair])\n",
        "            trade[pair][i] = {'ID': i,\n",
        "                             'date_of_trade': df[pair].index[i],\n",
        "                             'entry_price': df[pair]['Close'][i],\n",
        "                             'signal': 'Buy',\n",
        "                             'result': 0, \n",
        "                             'TP': df[pair]['Close'][i] + df[pair]['ATR'][i] * ATR_SL,\n",
        "                             'SL': df[pair]['Close'][i] - df[pair]['ATR'][i] * ATR_SL}\n",
        "            open_trade[pair].append(i)\n",
        "            long_take_profit[pair].append(trade[pair][i]['TP'])\n",
        "            long_stop_loss[pair].append(trade[pair][i]['SL'])\n",
        "            long_entry_price[pair].append(trade[pair][i]['entry_price'])\n",
        "        \n",
        "        #Sell\n",
        "        if df[pair]['sma_fast'][i-1] > df[pair]['sma_slow'][i-1] and df[pair]['sma_fast'][i] <= df[pair]['sma_slow'][i] and len(open_trade[pair]) == 0:\n",
        "            print(i, 'New Short trade at price:', round(df[pair]['Close'][i], 4), ' On day:', df[pair].index[i], 'Pair:', pairs_list[pair])\n",
        "            trade[pair][i] = {'ID': i,\n",
        "                             'date_of_trade': df[pair].index[i],\n",
        "                             'entry_price': df[pair]['Close'][i],\n",
        "                             'signal': 'Sell',\n",
        "                             'result': 0, \n",
        "                             'TP': df[pair]['Close'][i] - df[pair]['ATR'][i] * ATR_SL,\n",
        "                             'SL': df[pair]['Close'][i] + df[pair]['ATR'][i] * ATR_SL}\n",
        "            open_trade[pair].append(i)\n",
        "            short_take_profit[pair].append(trade[pair][i]['TP'])\n",
        "            short_stop_loss[pair].append(trade[pair][i]['SL'])\n",
        "            short_entry_price[pair].append(trade[pair][i]['entry_price'])\n",
        "            \n",
        "        #Exit trades---------------------------------------------------------------------------\n",
        "        #Buy profit\n",
        "        if any(y <= df[pair]['Close'][i] for y in long_take_profit[pair]):\n",
        "            for j in open_trade[pair]:\n",
        "                if trade[pair][j].get('result', {}) == 0 and trade[pair][j].get('signal', {}) == 'Buy':\n",
        "                    if df[pair]['Close'][i] >= trade[pair][j]['TP']:\n",
        "                        trade[pair][j].update({'result' : (trade[pair][j]['TP'] - trade[pair][j]['entry_price'] - df[pair]['spread'][i]) * df[pair]['size'][i]})\n",
        "                        print(j, \n",
        "                             'Long profit at price:', round(df[pair]['Close'][i], 4),\n",
        "                             'On day:', df[pair].index[i],\n",
        "                             'With profit:', round(trade[pair][j]['result'], 4), '\\n')\n",
        "                        open_trade[pair].remove(j)\n",
        "                        long_take_profit[pair].remove(trade[pair][j]['TP'])\n",
        "                        long_stop_loss[pair].remove(trade[pair][j]['SL'])\n",
        "        #Buy loss\n",
        "        if any(y >= df[pair]['Close'][i] for y in long_stop_loss[pair]):\n",
        "            for j in open_trade[pair]:\n",
        "                if trade[pair][j].get('result', {}) == 0 and trade[pair][j].get('signal', {}) == 'Buy':\n",
        "                    if df[pair]['Close'][i] <= trade[pair][j]['SL']:\n",
        "                        trade[pair][j].update({'result' : (trade[pair][j]['SL'] - trade[pair][j]['entry_price'] - df[pair]['spread'][i]) * df[pair]['size'][i]})\n",
        "                        print(j, \n",
        "                             'Long loss at price:', round(df[pair]['Close'][i], 4),\n",
        "                             'On day:', df[pair].index[i],\n",
        "                             'With loss:', round(trade[pair][j]['result'], 4), '\\n')\n",
        "                        open_trade[pair].remove(j)\n",
        "                        long_take_profit[pair].remove(trade[pair][j]['TP'])\n",
        "                        long_stop_loss[pair].remove(trade[pair][j]['SL'])\n",
        "                        \n",
        "        #Sell profit\n",
        "        if any(y >= df[pair]['Close'][i] for y in short_take_profit[pair]):\n",
        "            for j in open_trade[pair]:\n",
        "                if trade[pair][j].get('result', {}) == 0 and trade[pair][j].get('signal', {}) == 'Sell':\n",
        "                    if df[pair]['Close'][i] <= trade[pair][j]['TP']:\n",
        "                        trade[pair][j].update({'result' : (trade[pair][j]['entry_price'] - trade[pair][j]['TP'] - df[pair]['spread'][i]) * df[pair]['size'][i]})\n",
        "                        print(j, \n",
        "                             'Short profit at price:', round(df[pair]['Close'][i], 4),\n",
        "                             'On day:', df[pair].index[i],\n",
        "                             'With profit:', round(trade[pair][j]['result'], 4), '\\n')\n",
        "                        open_trade[pair].remove(j)\n",
        "                        short_take_profit[pair].remove(trade[pair][j]['TP'])\n",
        "                        short_stop_loss[pair].remove(trade[pair][j]['SL'])\n",
        "        #Sell loss\n",
        "        if any(y <= df[pair]['Close'][i] for y in short_stop_loss[pair]):\n",
        "            for j in open_trade[pair]:\n",
        "                if trade[pair][j].get('result', {}) == 0 and trade[pair][j].get('signal', {}) == 'Sell':\n",
        "                    if df[pair]['Close'][i] >= trade[pair][j]['SL']:\n",
        "                        trade[pair][j].update({'result' : (trade[pair][j]['entry_price'] - trade[pair][j]['SL'] - df[pair]['spread'][i]) * df[pair]['size'][i]})\n",
        "                        print(j, \n",
        "                             'Short loss at price:', round(df[pair]['Close'][i], 4),\n",
        "                             'On day:', df[pair].index[i],\n",
        "                             'With loss:', round(trade[pair][j]['result'], 4), '\\n')\n",
        "                        open_trade[pair].remove(j)\n",
        "                        short_take_profit[pair].remove(trade[pair][j]['TP'])\n",
        "                        short_stop_loss[pair].remove(trade[pair][j]['SL'])\n",
        "        #Exit after time\n",
        "        if len(open_trade[pair]) != 0:\n",
        "            for j in open_trade[pair]:\n",
        "                if (i - trade[pair][j]['ID']) >= 12 and trade[pair][j].get('result', {}) == 0 and trade[pair][j].get('signal', {}) == 'Buy':\n",
        "                    trade[pair][j].update({'result' : (df[pair]['Close'][i] - trade[pair][j]['entry_price'] - df[pair]['spread'][i]) * df[pair]['size'][i]})\n",
        "                    print(j, \n",
        "                         'Long exited after 12 hours:', round(df[pair]['Close'][i], 4),\n",
        "                         'On day:', df[pair].index[i],\n",
        "                         'With profit:', round(trade[pair][j]['result'], 4), '\\n')\n",
        "                    open_trade[pair].remove(j)\n",
        "                    long_take_profit[pair].remove(trade[pair][j]['TP'])\n",
        "                    long_stop_loss[pair].remove(trade[pair][j]['SL'])\n",
        "                elif (i - trade[pair][j]['ID']) >= 12 and trade[pair][j].get('result', {}) == 0 and trade[pair][j].get('signal', {}) == 'Sell':\n",
        "                    trade[pair][j].update({'result' : (trade[pair][j]['entry_price'] - df[pair]['Close'][i] - df[pair]['spread'][i]) * df[pair]['size'][i]})\n",
        "                    print(j, \n",
        "                         'Short exited after 12 hours:', round(df[pair]['Close'][i], 4),\n",
        "                         'On day:', df[pair].index[i],\n",
        "                         'With profit:', round(trade[pair][j]['result'], 4), '\\n')\n",
        "                    open_trade[pair].remove(j)\n",
        "                    short_take_profit[pair].remove(trade[pair][j]['TP'])\n",
        "                    short_stop_loss[pair].remove(trade[pair][j]['SL'])"
      ],
      "execution_count": null,
      "outputs": []
    },
    {
      "cell_type": "code",
      "metadata": {
        "id": "i0hY_e_VjQZW"
      },
      "source": [
        "pairs_results = {}\n",
        "profits = {}\n",
        "losses = {}\n",
        "be = {}\n",
        "\n",
        "for pair in range(len(pairs_list)):\n",
        "    profits[pair] = []\n",
        "    losses[pair] = []\n",
        "    be[pair] = []\n",
        "    \n",
        "    pairs_results[pair] = pd.DataFrame.from_dict({(i, j): trade[pair][j] for j in trade[pair].keys()}, orient = 'index')\n",
        "    pairs_results[pair] = pairs_results[pair].drop(['signal', 'ID', 'TP', 'SL'], axis = 1)\n",
        "    pairs_results[pair].set_index('date_of_trade', inplace = True)\n",
        "    pairs_results[pair]['cum_res'] = pairs_results[pair]['result'].cumsum() + account_size\n",
        "    \n",
        "    for t in trade[pair]:\n",
        "        profits[pair].append(trade[pair][t]['result']) if trade[pair][t]['result'] > 0.1 else ''\n",
        "        losses[pair].append(trade[pair][t]['result']) if trade[pair][t]['result'] < -0.1 else ''\n",
        "        be[pair].append(trade[pair][t]['result']) if -0.1 <= trade[pair][t]['result'] <= 0.1 else ''\n",
        "        \n",
        "my_reduce = partial(pd.merge, on = 'date_of_trade', how = 'outer')\n",
        "strategy_results = reduce(my_reduce, pairs_results.values())\n",
        "strategy_results = strategy_results.sort_index()\n",
        "strategy_results['final_res'] = strategy_results.filter(like = 'result', axis = 1).sum(axis = 1)\n",
        "strategy_results['cum_res'] = strategy_results['final_res'].cumsum() + account_size\n",
        "\n",
        "profits_keys = list(profits.keys())\n",
        "profits_values = [profits[x] for x in profits_keys]\n",
        "str_profits = list(flatten(profits_values))\n",
        "\n",
        "losses_keys = list(losses.keys())\n",
        "losses_values = [losses[x] for x in losses_keys]\n",
        "str_losses = list(flatten(losses_values))\n",
        "\n",
        "be_keys = list(be.keys())\n",
        "be_values = [be[x] for x in be_keys]\n",
        "str_be = list(flatten(be_values))"
      ],
      "execution_count": null,
      "outputs": []
    },
    {
      "cell_type": "code",
      "metadata": {
        "id": "okeJnt2GjQZX"
      },
      "source": [
        "\n",
        "for pair in range(len(pairs_list)):\n",
        "    plt.figure(figsize = (26, 10))\n",
        "    plt.plot(pairs_results[pair]['cum_res'], label = pairs_list[pair])\n",
        "    plt.legend()\n",
        "    plt.title('Returns of each pair', fontsize = 18)\n",
        "\n",
        "print('Strategy returns:', round(strategy_results['cum_res'][-1]) - account_size)"
      ],
      "execution_count": null,
      "outputs": []
    },
    {
      "cell_type": "code",
      "metadata": {
        "id": "ZLKZ8-i3jQZX"
      },
      "source": [
        "len(pairs_results)"
      ],
      "execution_count": null,
      "outputs": []
    },
    {
      "cell_type": "code",
      "metadata": {
        "id": "NP1D3APIqDR3"
      },
      "source": [
        "def CAGR(df, source_df):\n",
        "    df = df.copy()\n",
        "    n = len(source_df) / (252*24)\n",
        "    return round((((df['cum_res'][-1] / account_size)**(1/n)) - 1) * 100, 1)\n",
        "def sharpe_ratio(df):\n",
        "    df = df.copy()\n",
        "    returns = df['cum_res'].pct_change()\n",
        "    volatility = returns.std() * np.sqrt(252)\n",
        "    return round((returns.mean() - 0.02) / volatility, 2)\n",
        "\n",
        "def max_drawdown(df):\n",
        "    df = df.copy()\n",
        "    cum_returns = (1 + df['cum_res']).cumprod()\n",
        "    drawdown = 1 - df['cum_res'].div(df['cum_res'].cummax())\n",
        "    return round(max(drawdown.expanding().max() * 100), 2)"
      ],
      "execution_count": null,
      "outputs": []
    },
    {
      "cell_type": "code",
      "metadata": {
        "id": "0enB6v80lCiC"
      },
      "source": [
        "#Strategy performance\n",
        "print('***** STRATEGY PERFORMANCE *****')\n",
        "print('--------------------------------')\n",
        "print('CAGR:', CAGR(strategy_results, df[0]), '%')\n",
        "print('Sharpe ratio:', sharpe_ratio(strategy_results))\n",
        "print('Maximum drawdown', max_drawdown(strategy_results), '% \\n')\n",
        "print('Number of trades:', len(str_profits + str_losses + str_be))\n",
        "print('Number of profits:', len(str_profits))\n",
        "print('Number of losses:', len(str_losses))\n",
        "print('Number of breakevens:', len(str_be), '\\n')\n",
        "print('Winning percentage', (round(len(str_profits) / (len(str_profits) + len(str_losses)) * 100, 2)), '%')\n",
        "print('ROI:', round(strategy_results['cum_res'][-1]) - account_size)\n",
        "print('--------------------------------')\n",
        "print('Average profitable trade:', round(sum(str_profits) / len(str_profits), 2))\n",
        "print('Average lossing trade:', round(sum(str_losses) / len(str_losses), 2))\n",
        "print('Max profitable trade:', round(max(str_profits), 2))\n",
        "print('Max lossing trade:', round(min(str_losses), 2))"
      ],
      "execution_count": null,
      "outputs": []
    },
    {
      "cell_type": "code",
      "metadata": {
        "id": "WkCWDR55lFi1"
      },
      "source": [
        "plt.plot(pairs_results[1]['cum_res'], label = pairs_list[0]);"
      ],
      "execution_count": null,
      "outputs": []
    },
    {
      "cell_type": "code",
      "metadata": {
        "id": "gauwftLyl2iN"
      },
      "source": [
        ""
      ],
      "execution_count": null,
      "outputs": []
    }
  ]
}