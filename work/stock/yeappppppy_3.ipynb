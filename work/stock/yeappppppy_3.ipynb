{
  "nbformat": 4,
  "nbformat_minor": 0,
  "metadata": {
    "colab": {
      "provenance": [],
      "authorship_tag": "ABX9TyN6Ynkh7a0qTV9p5+tIb9/a",
      "include_colab_link": true
    },
    "kernelspec": {
      "name": "python3",
      "display_name": "Python 3"
    },
    "language_info": {
      "name": "python"
    }
  },
  "cells": [
    {
      "cell_type": "markdown",
      "metadata": {
        "id": "view-in-github",
        "colab_type": "text"
      },
      "source": [
        "<a href=\"https://colab.research.google.com/github/anirbanghoshsbi/.github.io/blob/master/work/stock/yeappppppy_3.ipynb\" target=\"_parent\"><img src=\"https://colab.research.google.com/assets/colab-badge.svg\" alt=\"Open In Colab\"/></a>"
      ]
    },
    {
      "cell_type": "code",
      "execution_count": 9,
      "metadata": {
        "colab": {
          "base_uri": "https://localhost:8080/"
        },
        "id": "dpb5NP4ecYXR",
        "outputId": "10350607-83d7-4f7c-b68f-e42f050b9f31"
      },
      "outputs": [
        {
          "output_type": "stream",
          "name": "stdout",
          "text": [
            "Confusion Matrix:\n",
            "[[129 189]\n",
            " [118 209]]\n",
            "\n",
            "Classification Report:\n",
            "              precision    recall  f1-score   support\n",
            "\n",
            "           0       0.52      0.41      0.46       318\n",
            "           1       0.53      0.64      0.58       327\n",
            "\n",
            "    accuracy                           0.52       645\n",
            "   macro avg       0.52      0.52      0.52       645\n",
            "weighted avg       0.52      0.52      0.52       645\n",
            "\n",
            "\n",
            "Feature Importance:\n",
            "             feature  importance\n",
            "3                atr    0.077616\n",
            "15        return_12m    0.075650\n",
            "14         return_9m    0.073477\n",
            "10         return_1m    0.072165\n",
            "11         return_2m    0.069896\n",
            "12         return_3m    0.067243\n",
            "1      dollar_volume    0.067157\n",
            "13         return_6m    0.066174\n",
            "7   garman_klass_vol    0.065962\n",
            "8               macd    0.065389\n",
            "9                rsi    0.064250\n",
            "5             bb_low    0.049929\n",
            "4            bb_high    0.049579\n",
            "2          adj close    0.047265\n",
            "6             bb_mid    0.046660\n",
            "0     ticker_encoded    0.041589\n"
          ]
        }
      ],
      "source": [
        "import pandas as pd\n",
        "import numpy as np\n",
        "from sklearn.model_selection import train_test_split\n",
        "from sklearn.ensemble import RandomForestClassifier\n",
        "from sklearn.metrics import classification_report, confusion_matrix\n",
        "from sklearn.preprocessing import StandardScaler\n",
        "from sklearn.preprocessing import LabelEncoder\n",
        "\n",
        "# Load the data\n",
        "df = pd.read_csv('stock_weekly_returns.csv')\n",
        "df=df.dropna()\n",
        "# Preprocess the data\n",
        "df['date'] = pd.to_datetime(df['date'])\n",
        "df['outperform'] = (df['weekly_return'] > 0).astype(int)\n",
        "# Encode ticker as numeric\n",
        "label_encoder = LabelEncoder()\n",
        "df['ticker_encoded'] = label_encoder.fit_transform(df['ticker'])\n",
        "\n",
        "# Select features for the model\n",
        "features = ['ticker_encoded','dollar_volume', 'adj close', 'atr', 'bb_high', 'bb_low', 'bb_mid',\n",
        "            'garman_klass_vol', 'macd', 'rsi', 'return_1m', 'return_2m',\n",
        "            'return_3m', 'return_6m', 'return_9m', 'return_12m']\n",
        "\n",
        "X = df[features]\n",
        "y = df['outperform']\n",
        "\n",
        "# Split the data into training and testing sets\n",
        "X_train, X_test, y_train, y_test = train_test_split(X, y, test_size=0.2, random_state=42)\n",
        "\n",
        "# Scale the features\n",
        "scaler = StandardScaler()\n",
        "X_train_scaled = scaler.fit_transform(X_train)\n",
        "X_test_scaled = scaler.transform(X_test)\n",
        "\n",
        "# Create and train the Random Forest Classifier\n",
        "rf_classifier = RandomForestClassifier(n_estimators=100, random_state=42)\n",
        "rf_classifier.fit(X_train_scaled, y_train)\n",
        "\n",
        "# Make predictions on the test set\n",
        "y_pred = rf_classifier.predict(X_test_scaled)\n",
        "\n",
        "# Get probability estimates\n",
        "y_prob = rf_classifier.predict_proba(X_test_scaled)\n",
        "\n",
        "# Create a DataFrame with test data, predictions, and probabilities\n",
        "results_df = pd.DataFrame({\n",
        "    'actual': y_test,\n",
        "    'predicted': y_pred,\n",
        "    'prob_underperform': y_prob[:, 0],\n",
        "    'prob_outperform': y_prob[:, 1],\n",
        "\n",
        "})\n",
        "\n",
        "\n",
        "\n",
        "# Evaluate the model\n",
        "print(\"Confusion Matrix:\")\n",
        "print(confusion_matrix(y_test, y_pred))\n",
        "print(\"\\nClassification Report:\")\n",
        "print(classification_report(y_test, y_pred))\n",
        "\n",
        "# Feature importance\n",
        "feature_importance = pd.DataFrame({\n",
        "    'feature': features,\n",
        "    'importance': rf_classifier.feature_importances_\n",
        "}).sort_values('importance', ascending=False)\n",
        "\n",
        "print(\"\\nFeature Importance:\")\n",
        "print(feature_importance)\n",
        "# Add original features to the results DataFrame\n",
        "results_df = pd.concat([results_df, X_test.reset_index(drop=True)], axis=1)\n",
        "\n",
        "# Function to predict for new data\n",
        "def predict_performance(new_data):\n",
        "    new_data_scaled = scaler.transform(new_data)\n",
        "    prediction = rf_classifier.predict_proba(new_data_scaled)\n",
        "    return prediction\n",
        "# Function to predict and rank stocks\n"
      ]
    },
    {
      "cell_type": "code",
      "source": [
        "import joblib\n",
        "\n",
        "\n",
        "def save_model(model, scaler, label_encoder, filename='rf_model.joblib'):\n",
        "    \"\"\"\n",
        "    Save the trained model, scaler, and label encoder to disk.\n",
        "\n",
        "    Args:\n",
        "    model (RandomForestClassifier): Trained Random Forest model\n",
        "    scaler (StandardScaler): Fitted StandardScaler\n",
        "    label_encoder (LabelEncoder): Fitted LabelEncoder\n",
        "    filename (str): Name of the file to save the model (default: 'rf_model.joblib')\n",
        "    \"\"\"\n",
        "    model_data = {\n",
        "        'model': model,\n",
        "        'scaler': scaler,\n",
        "        'label_encoder': label_encoder\n",
        "    }\n",
        "    joblib.dump(model_data, filename)\n",
        "    print(f\"Model saved to {filename}\")\n",
        "\n"
      ],
      "metadata": {
        "id": "2rZXA4mWn3Ff"
      },
      "execution_count": 10,
      "outputs": []
    },
    {
      "cell_type": "code",
      "source": [
        "save_model(rf_classifier, scaler, label_encoder)"
      ],
      "metadata": {
        "id": "OlzTOchIoaJQ",
        "outputId": "1958e808-d866-406d-aa3e-d463c1086afc",
        "colab": {
          "base_uri": "https://localhost:8080/"
        }
      },
      "execution_count": 11,
      "outputs": [
        {
          "output_type": "stream",
          "name": "stdout",
          "text": [
            "Model saved to rf_model.joblib\n"
          ]
        }
      ]
    },
    {
      "cell_type": "code",
      "source": [
        "# needed in predictions file (yet to be created)\n",
        "\n",
        "'''\n",
        "def load_model_and_predict(filename='rf_model.joblib'):\n",
        "    \"\"\"\n",
        "    Load the model from disk and use it to make predictions.\n",
        "\n",
        "    Args:\n",
        "    filename (str): Name of the file containing the saved model (default: 'rf_model.joblib')\n",
        "\n",
        "    Returns:\n",
        "    function: A function that takes new data and returns predictions\n",
        "    \"\"\"\n",
        "    model_data = joblib.load(filename)\n",
        "    model = model_data['model']\n",
        "    scaler = model_data['scaler']\n",
        "    label_encoder = model_data['label_encoder']\n",
        "\n",
        "    def predict(new_data):\n",
        "        \"\"\"\n",
        "        Make predictions using the loaded model.\n",
        "\n",
        "        Args:\n",
        "        new_data (pd.DataFrame): New data to make predictions on\n",
        "\n",
        "        Returns:\n",
        "        np.array: Probability estimates for each class\n",
        "        \"\"\"\n",
        "        # Ensure the new data has the same features as the training data\n",
        "        required_features = ['ticker', 'dollar_volume', 'adj close', 'atr', 'bb_high', 'bb_low', 'bb_mid',\n",
        "                             'garman_klass_vol', 'macd', 'rsi', 'return_1m', 'return_2m',\n",
        "                             'return_3m', 'return_6m', 'return_9m', 'return_12m']\n",
        "\n",
        "        if not all(feature in new_data.columns for feature in required_features):\n",
        "            raise ValueError(\"New data does not contain all required features\")\n",
        "\n",
        "        # Encode the ticker\n",
        "        new_data['ticker_encoded'] = label_encoder.transform(new_data['ticker'])\n",
        "\n",
        "        # Select and order the features\n",
        "        X = new_data[['ticker_encoded', 'dollar_volume', 'adj close', 'atr', 'bb_high', 'bb_low', 'bb_mid',\n",
        "                      'garman_klass_vol', 'macd', 'rsi', 'return_1m', 'return_2m',\n",
        "                      'return_3m', 'return_6m', 'return_9m', 'return_12m']]\n",
        "\n",
        "        # Scale the features\n",
        "        X_scaled = scaler.transform(X)\n",
        "\n",
        "        # Make predictions\n",
        "        predictions = model.predict_proba(X_scaled)\n",
        "\n",
        "        return predictions\n",
        "\n",
        "    print(f\"Model loaded from {filename}\")\n",
        "    return predict\n",
        "\n",
        "# Example usage:\n",
        "# save_model(rf_classifier, scaler, label_encoder)\n",
        "# predict_fn = load_model_and_predict()\n",
        "# new_data = pd.DataFrame(...)  # Your new data here\n",
        "# predictions = predict_fn(new_data)\n",
        "'''"
      ],
      "metadata": {
        "id": "mRuL90fhoC33"
      },
      "execution_count": null,
      "outputs": []
    },
    {
      "cell_type": "code",
      "source": [
        "# Example usage with test data\n",
        "outperform_ranked = predict_performance(X_test)\n",
        "print(\"Top 10 stocks predicted to outperform, ranked by confidence:\")\n",
        "print(outperform_ranked)\n"
      ],
      "metadata": {
        "colab": {
          "base_uri": "https://localhost:8080/"
        },
        "id": "uqtEiPHggTGo",
        "outputId": "bd8aea24-c047-4bdb-9ed0-e69a6aa9fa3c"
      },
      "execution_count": 2,
      "outputs": [
        {
          "output_type": "stream",
          "name": "stdout",
          "text": [
            "Top 10 stocks predicted to outperform, ranked by confidence:\n",
            "[[0.51 0.49]\n",
            " [0.52 0.48]\n",
            " [0.39 0.61]\n",
            " ...\n",
            " [0.23 0.77]\n",
            " [0.43 0.57]\n",
            " [0.45 0.55]]\n"
          ]
        }
      ]
    },
    {
      "cell_type": "code",
      "source": [
        "results_df.dropna(inplace=True)"
      ],
      "metadata": {
        "id": "-15Cf3hSneBX"
      },
      "execution_count": 3,
      "outputs": []
    },
    {
      "cell_type": "code",
      "source": [
        "results_df['final_names']=label_encoder.inverse_transform(results_df['ticker_encoded'].astype(int))"
      ],
      "metadata": {
        "id": "VcWTJuBjnt4X"
      },
      "execution_count": 4,
      "outputs": []
    },
    {
      "cell_type": "code",
      "source": [
        "results_df.head()"
      ],
      "metadata": {
        "id": "CXW0KwP8GP7J",
        "outputId": "216bb09b-8a91-43b4-83b8-7b5e6765f90a",
        "colab": {
          "base_uri": "https://localhost:8080/",
          "height": 255
        }
      },
      "execution_count": 5,
      "outputs": [
        {
          "output_type": "execute_result",
          "data": {
            "text/plain": [
              "     actual  predicted  prob_underperform  prob_outperform  ticker_encoded  \\\n",
              "346     0.0        0.0               0.52             0.48            36.0   \n",
              "393     1.0        1.0               0.40             0.60            17.0   \n",
              "194     1.0        1.0               0.45             0.55             3.0   \n",
              "30      1.0        1.0               0.47             0.53             1.0   \n",
              "102     0.0        1.0               0.43             0.57            27.0   \n",
              "\n",
              "     dollar_volume    adj close       atr   bb_high    bb_low  ...  \\\n",
              "346    2742.786011   158.556274  0.118887  5.075541  5.006788  ...   \n",
              "393    1884.253881   862.075195 -1.736243  6.775482  6.735313  ...   \n",
              "194    8360.270079  2859.040527  3.737271  8.129831  7.870972  ...   \n",
              "30     1901.757825   713.179871 -0.781763  6.643517  6.515207  ...   \n",
              "102    3073.329832   662.193176  0.122516  6.616035  6.435828  ...   \n",
              "\n",
              "     garman_klass_vol      macd        rsi  return_1m  return_2m  return_3m  \\\n",
              "346         -0.002633  0.346064  60.573719   0.046762   0.028319   0.012763   \n",
              "393         -0.006658  0.140430  57.438640  -0.011048   0.004808   0.000441   \n",
              "194          0.000040 -2.181681  41.555046   0.070796  -0.030472  -0.034577   \n",
              "30           0.000090 -0.479271  46.607396  -0.032320   0.008615   0.015651   \n",
              "102         -0.000312 -1.017297  46.692949   0.019779   0.004591  -0.026577   \n",
              "\n",
              "     return_6m  return_9m  return_12m    final_names  \n",
              "346   0.021649   0.011519    0.013826   POWERGRID.NS  \n",
              "393   0.009445   0.010169   -0.004074     HCLTECH.NS  \n",
              "194  -0.009820  -0.021830   -0.008384  ASIANPAINT.NS  \n",
              "30   -0.003144  -0.006092   -0.000109  ADANIPORTS.NS  \n",
              "102  -0.006288   0.004288   -0.003906    JSWSTEEL.NS  \n",
              "\n",
              "[5 rows x 21 columns]"
            ],
            "text/html": [
              "\n",
              "  <div id=\"df-03d3b586-5394-4eb7-9254-916e94c7646a\" class=\"colab-df-container\">\n",
              "    <div>\n",
              "<style scoped>\n",
              "    .dataframe tbody tr th:only-of-type {\n",
              "        vertical-align: middle;\n",
              "    }\n",
              "\n",
              "    .dataframe tbody tr th {\n",
              "        vertical-align: top;\n",
              "    }\n",
              "\n",
              "    .dataframe thead th {\n",
              "        text-align: right;\n",
              "    }\n",
              "</style>\n",
              "<table border=\"1\" class=\"dataframe\">\n",
              "  <thead>\n",
              "    <tr style=\"text-align: right;\">\n",
              "      <th></th>\n",
              "      <th>actual</th>\n",
              "      <th>predicted</th>\n",
              "      <th>prob_underperform</th>\n",
              "      <th>prob_outperform</th>\n",
              "      <th>ticker_encoded</th>\n",
              "      <th>dollar_volume</th>\n",
              "      <th>adj close</th>\n",
              "      <th>atr</th>\n",
              "      <th>bb_high</th>\n",
              "      <th>bb_low</th>\n",
              "      <th>...</th>\n",
              "      <th>garman_klass_vol</th>\n",
              "      <th>macd</th>\n",
              "      <th>rsi</th>\n",
              "      <th>return_1m</th>\n",
              "      <th>return_2m</th>\n",
              "      <th>return_3m</th>\n",
              "      <th>return_6m</th>\n",
              "      <th>return_9m</th>\n",
              "      <th>return_12m</th>\n",
              "      <th>final_names</th>\n",
              "    </tr>\n",
              "  </thead>\n",
              "  <tbody>\n",
              "    <tr>\n",
              "      <th>346</th>\n",
              "      <td>0.0</td>\n",
              "      <td>0.0</td>\n",
              "      <td>0.52</td>\n",
              "      <td>0.48</td>\n",
              "      <td>36.0</td>\n",
              "      <td>2742.786011</td>\n",
              "      <td>158.556274</td>\n",
              "      <td>0.118887</td>\n",
              "      <td>5.075541</td>\n",
              "      <td>5.006788</td>\n",
              "      <td>...</td>\n",
              "      <td>-0.002633</td>\n",
              "      <td>0.346064</td>\n",
              "      <td>60.573719</td>\n",
              "      <td>0.046762</td>\n",
              "      <td>0.028319</td>\n",
              "      <td>0.012763</td>\n",
              "      <td>0.021649</td>\n",
              "      <td>0.011519</td>\n",
              "      <td>0.013826</td>\n",
              "      <td>POWERGRID.NS</td>\n",
              "    </tr>\n",
              "    <tr>\n",
              "      <th>393</th>\n",
              "      <td>1.0</td>\n",
              "      <td>1.0</td>\n",
              "      <td>0.40</td>\n",
              "      <td>0.60</td>\n",
              "      <td>17.0</td>\n",
              "      <td>1884.253881</td>\n",
              "      <td>862.075195</td>\n",
              "      <td>-1.736243</td>\n",
              "      <td>6.775482</td>\n",
              "      <td>6.735313</td>\n",
              "      <td>...</td>\n",
              "      <td>-0.006658</td>\n",
              "      <td>0.140430</td>\n",
              "      <td>57.438640</td>\n",
              "      <td>-0.011048</td>\n",
              "      <td>0.004808</td>\n",
              "      <td>0.000441</td>\n",
              "      <td>0.009445</td>\n",
              "      <td>0.010169</td>\n",
              "      <td>-0.004074</td>\n",
              "      <td>HCLTECH.NS</td>\n",
              "    </tr>\n",
              "    <tr>\n",
              "      <th>194</th>\n",
              "      <td>1.0</td>\n",
              "      <td>1.0</td>\n",
              "      <td>0.45</td>\n",
              "      <td>0.55</td>\n",
              "      <td>3.0</td>\n",
              "      <td>8360.270079</td>\n",
              "      <td>2859.040527</td>\n",
              "      <td>3.737271</td>\n",
              "      <td>8.129831</td>\n",
              "      <td>7.870972</td>\n",
              "      <td>...</td>\n",
              "      <td>0.000040</td>\n",
              "      <td>-2.181681</td>\n",
              "      <td>41.555046</td>\n",
              "      <td>0.070796</td>\n",
              "      <td>-0.030472</td>\n",
              "      <td>-0.034577</td>\n",
              "      <td>-0.009820</td>\n",
              "      <td>-0.021830</td>\n",
              "      <td>-0.008384</td>\n",
              "      <td>ASIANPAINT.NS</td>\n",
              "    </tr>\n",
              "    <tr>\n",
              "      <th>30</th>\n",
              "      <td>1.0</td>\n",
              "      <td>1.0</td>\n",
              "      <td>0.47</td>\n",
              "      <td>0.53</td>\n",
              "      <td>1.0</td>\n",
              "      <td>1901.757825</td>\n",
              "      <td>713.179871</td>\n",
              "      <td>-0.781763</td>\n",
              "      <td>6.643517</td>\n",
              "      <td>6.515207</td>\n",
              "      <td>...</td>\n",
              "      <td>0.000090</td>\n",
              "      <td>-0.479271</td>\n",
              "      <td>46.607396</td>\n",
              "      <td>-0.032320</td>\n",
              "      <td>0.008615</td>\n",
              "      <td>0.015651</td>\n",
              "      <td>-0.003144</td>\n",
              "      <td>-0.006092</td>\n",
              "      <td>-0.000109</td>\n",
              "      <td>ADANIPORTS.NS</td>\n",
              "    </tr>\n",
              "    <tr>\n",
              "      <th>102</th>\n",
              "      <td>0.0</td>\n",
              "      <td>1.0</td>\n",
              "      <td>0.43</td>\n",
              "      <td>0.57</td>\n",
              "      <td>27.0</td>\n",
              "      <td>3073.329832</td>\n",
              "      <td>662.193176</td>\n",
              "      <td>0.122516</td>\n",
              "      <td>6.616035</td>\n",
              "      <td>6.435828</td>\n",
              "      <td>...</td>\n",
              "      <td>-0.000312</td>\n",
              "      <td>-1.017297</td>\n",
              "      <td>46.692949</td>\n",
              "      <td>0.019779</td>\n",
              "      <td>0.004591</td>\n",
              "      <td>-0.026577</td>\n",
              "      <td>-0.006288</td>\n",
              "      <td>0.004288</td>\n",
              "      <td>-0.003906</td>\n",
              "      <td>JSWSTEEL.NS</td>\n",
              "    </tr>\n",
              "  </tbody>\n",
              "</table>\n",
              "<p>5 rows × 21 columns</p>\n",
              "</div>\n",
              "    <div class=\"colab-df-buttons\">\n",
              "\n",
              "  <div class=\"colab-df-container\">\n",
              "    <button class=\"colab-df-convert\" onclick=\"convertToInteractive('df-03d3b586-5394-4eb7-9254-916e94c7646a')\"\n",
              "            title=\"Convert this dataframe to an interactive table.\"\n",
              "            style=\"display:none;\">\n",
              "\n",
              "  <svg xmlns=\"http://www.w3.org/2000/svg\" height=\"24px\" viewBox=\"0 -960 960 960\">\n",
              "    <path d=\"M120-120v-720h720v720H120Zm60-500h600v-160H180v160Zm220 220h160v-160H400v160Zm0 220h160v-160H400v160ZM180-400h160v-160H180v160Zm440 0h160v-160H620v160ZM180-180h160v-160H180v160Zm440 0h160v-160H620v160Z\"/>\n",
              "  </svg>\n",
              "    </button>\n",
              "\n",
              "  <style>\n",
              "    .colab-df-container {\n",
              "      display:flex;\n",
              "      gap: 12px;\n",
              "    }\n",
              "\n",
              "    .colab-df-convert {\n",
              "      background-color: #E8F0FE;\n",
              "      border: none;\n",
              "      border-radius: 50%;\n",
              "      cursor: pointer;\n",
              "      display: none;\n",
              "      fill: #1967D2;\n",
              "      height: 32px;\n",
              "      padding: 0 0 0 0;\n",
              "      width: 32px;\n",
              "    }\n",
              "\n",
              "    .colab-df-convert:hover {\n",
              "      background-color: #E2EBFA;\n",
              "      box-shadow: 0px 1px 2px rgba(60, 64, 67, 0.3), 0px 1px 3px 1px rgba(60, 64, 67, 0.15);\n",
              "      fill: #174EA6;\n",
              "    }\n",
              "\n",
              "    .colab-df-buttons div {\n",
              "      margin-bottom: 4px;\n",
              "    }\n",
              "\n",
              "    [theme=dark] .colab-df-convert {\n",
              "      background-color: #3B4455;\n",
              "      fill: #D2E3FC;\n",
              "    }\n",
              "\n",
              "    [theme=dark] .colab-df-convert:hover {\n",
              "      background-color: #434B5C;\n",
              "      box-shadow: 0px 1px 3px 1px rgba(0, 0, 0, 0.15);\n",
              "      filter: drop-shadow(0px 1px 2px rgba(0, 0, 0, 0.3));\n",
              "      fill: #FFFFFF;\n",
              "    }\n",
              "  </style>\n",
              "\n",
              "    <script>\n",
              "      const buttonEl =\n",
              "        document.querySelector('#df-03d3b586-5394-4eb7-9254-916e94c7646a button.colab-df-convert');\n",
              "      buttonEl.style.display =\n",
              "        google.colab.kernel.accessAllowed ? 'block' : 'none';\n",
              "\n",
              "      async function convertToInteractive(key) {\n",
              "        const element = document.querySelector('#df-03d3b586-5394-4eb7-9254-916e94c7646a');\n",
              "        const dataTable =\n",
              "          await google.colab.kernel.invokeFunction('convertToInteractive',\n",
              "                                                    [key], {});\n",
              "        if (!dataTable) return;\n",
              "\n",
              "        const docLinkHtml = 'Like what you see? Visit the ' +\n",
              "          '<a target=\"_blank\" href=https://colab.research.google.com/notebooks/data_table.ipynb>data table notebook</a>'\n",
              "          + ' to learn more about interactive tables.';\n",
              "        element.innerHTML = '';\n",
              "        dataTable['output_type'] = 'display_data';\n",
              "        await google.colab.output.renderOutput(dataTable, element);\n",
              "        const docLink = document.createElement('div');\n",
              "        docLink.innerHTML = docLinkHtml;\n",
              "        element.appendChild(docLink);\n",
              "      }\n",
              "    </script>\n",
              "  </div>\n",
              "\n",
              "\n",
              "<div id=\"df-fc0ed287-5ac0-4419-91aa-e12a00f1e2e4\">\n",
              "  <button class=\"colab-df-quickchart\" onclick=\"quickchart('df-fc0ed287-5ac0-4419-91aa-e12a00f1e2e4')\"\n",
              "            title=\"Suggest charts\"\n",
              "            style=\"display:none;\">\n",
              "\n",
              "<svg xmlns=\"http://www.w3.org/2000/svg\" height=\"24px\"viewBox=\"0 0 24 24\"\n",
              "     width=\"24px\">\n",
              "    <g>\n",
              "        <path d=\"M19 3H5c-1.1 0-2 .9-2 2v14c0 1.1.9 2 2 2h14c1.1 0 2-.9 2-2V5c0-1.1-.9-2-2-2zM9 17H7v-7h2v7zm4 0h-2V7h2v10zm4 0h-2v-4h2v4z\"/>\n",
              "    </g>\n",
              "</svg>\n",
              "  </button>\n",
              "\n",
              "<style>\n",
              "  .colab-df-quickchart {\n",
              "      --bg-color: #E8F0FE;\n",
              "      --fill-color: #1967D2;\n",
              "      --hover-bg-color: #E2EBFA;\n",
              "      --hover-fill-color: #174EA6;\n",
              "      --disabled-fill-color: #AAA;\n",
              "      --disabled-bg-color: #DDD;\n",
              "  }\n",
              "\n",
              "  [theme=dark] .colab-df-quickchart {\n",
              "      --bg-color: #3B4455;\n",
              "      --fill-color: #D2E3FC;\n",
              "      --hover-bg-color: #434B5C;\n",
              "      --hover-fill-color: #FFFFFF;\n",
              "      --disabled-bg-color: #3B4455;\n",
              "      --disabled-fill-color: #666;\n",
              "  }\n",
              "\n",
              "  .colab-df-quickchart {\n",
              "    background-color: var(--bg-color);\n",
              "    border: none;\n",
              "    border-radius: 50%;\n",
              "    cursor: pointer;\n",
              "    display: none;\n",
              "    fill: var(--fill-color);\n",
              "    height: 32px;\n",
              "    padding: 0;\n",
              "    width: 32px;\n",
              "  }\n",
              "\n",
              "  .colab-df-quickchart:hover {\n",
              "    background-color: var(--hover-bg-color);\n",
              "    box-shadow: 0 1px 2px rgba(60, 64, 67, 0.3), 0 1px 3px 1px rgba(60, 64, 67, 0.15);\n",
              "    fill: var(--button-hover-fill-color);\n",
              "  }\n",
              "\n",
              "  .colab-df-quickchart-complete:disabled,\n",
              "  .colab-df-quickchart-complete:disabled:hover {\n",
              "    background-color: var(--disabled-bg-color);\n",
              "    fill: var(--disabled-fill-color);\n",
              "    box-shadow: none;\n",
              "  }\n",
              "\n",
              "  .colab-df-spinner {\n",
              "    border: 2px solid var(--fill-color);\n",
              "    border-color: transparent;\n",
              "    border-bottom-color: var(--fill-color);\n",
              "    animation:\n",
              "      spin 1s steps(1) infinite;\n",
              "  }\n",
              "\n",
              "  @keyframes spin {\n",
              "    0% {\n",
              "      border-color: transparent;\n",
              "      border-bottom-color: var(--fill-color);\n",
              "      border-left-color: var(--fill-color);\n",
              "    }\n",
              "    20% {\n",
              "      border-color: transparent;\n",
              "      border-left-color: var(--fill-color);\n",
              "      border-top-color: var(--fill-color);\n",
              "    }\n",
              "    30% {\n",
              "      border-color: transparent;\n",
              "      border-left-color: var(--fill-color);\n",
              "      border-top-color: var(--fill-color);\n",
              "      border-right-color: var(--fill-color);\n",
              "    }\n",
              "    40% {\n",
              "      border-color: transparent;\n",
              "      border-right-color: var(--fill-color);\n",
              "      border-top-color: var(--fill-color);\n",
              "    }\n",
              "    60% {\n",
              "      border-color: transparent;\n",
              "      border-right-color: var(--fill-color);\n",
              "    }\n",
              "    80% {\n",
              "      border-color: transparent;\n",
              "      border-right-color: var(--fill-color);\n",
              "      border-bottom-color: var(--fill-color);\n",
              "    }\n",
              "    90% {\n",
              "      border-color: transparent;\n",
              "      border-bottom-color: var(--fill-color);\n",
              "    }\n",
              "  }\n",
              "</style>\n",
              "\n",
              "  <script>\n",
              "    async function quickchart(key) {\n",
              "      const quickchartButtonEl =\n",
              "        document.querySelector('#' + key + ' button');\n",
              "      quickchartButtonEl.disabled = true;  // To prevent multiple clicks.\n",
              "      quickchartButtonEl.classList.add('colab-df-spinner');\n",
              "      try {\n",
              "        const charts = await google.colab.kernel.invokeFunction(\n",
              "            'suggestCharts', [key], {});\n",
              "      } catch (error) {\n",
              "        console.error('Error during call to suggestCharts:', error);\n",
              "      }\n",
              "      quickchartButtonEl.classList.remove('colab-df-spinner');\n",
              "      quickchartButtonEl.classList.add('colab-df-quickchart-complete');\n",
              "    }\n",
              "    (() => {\n",
              "      let quickchartButtonEl =\n",
              "        document.querySelector('#df-fc0ed287-5ac0-4419-91aa-e12a00f1e2e4 button');\n",
              "      quickchartButtonEl.style.display =\n",
              "        google.colab.kernel.accessAllowed ? 'block' : 'none';\n",
              "    })();\n",
              "  </script>\n",
              "</div>\n",
              "\n",
              "    </div>\n",
              "  </div>\n"
            ],
            "application/vnd.google.colaboratory.intrinsic+json": {
              "type": "dataframe",
              "variable_name": "results_df"
            }
          },
          "metadata": {},
          "execution_count": 5
        }
      ]
    },
    {
      "cell_type": "code",
      "source": [
        "results_df.to_csv('results.csv', index=False)"
      ],
      "metadata": {
        "id": "e_xcZISLmwKw"
      },
      "execution_count": 6,
      "outputs": []
    },
    {
      "cell_type": "code",
      "source": [
        "#results_df.sort_values(by='prob_outperform', ascending=False)[['final_names','date']].head(10)"
      ],
      "metadata": {
        "id": "Ya2eAFZDmxN7"
      },
      "execution_count": 7,
      "outputs": []
    },
    {
      "cell_type": "markdown",
      "source": [
        "Make Predictions"
      ],
      "metadata": {
        "id": "N2F1PhpvmIuX"
      }
    },
    {
      "cell_type": "code",
      "source": [
        "df=pd.read_csv('/content/nifty_50_weekly_data_lat.csv')"
      ],
      "metadata": {
        "id": "7TNJvQvJosNX"
      },
      "execution_count": null,
      "outputs": []
    },
    {
      "cell_type": "code",
      "source": [
        "import pandas as pd\n",
        "\n",
        "# Assuming your dataframe is called 'df' and the date column is named 'date'\n",
        "df['date'] = pd.to_datetime(df['date'])  # Convert to datetime if not already\n",
        "live_data = df[df['date'] > '2023-11-01'].sort_values('date')"
      ],
      "metadata": {
        "id": "M7ybykCzpXNb"
      },
      "execution_count": null,
      "outputs": []
    },
    {
      "cell_type": "code",
      "source": [
        "live_data['date'] = pd.to_datetime(live_data['date'])\n",
        "#live_data['outperform'] = (df['weekly_return'] > 0).astype(int)\n",
        "# Encode ticker as numeric\n",
        "label_encoder = LabelEncoder()\n",
        "live_data['ticker_encoded'] = label_encoder.fit_transform(live_data['ticker'])\n",
        "model_data = live_data.drop(['ticker', 'date'], axis=1)"
      ],
      "metadata": {
        "id": "MY9bPrcRImoY"
      },
      "execution_count": null,
      "outputs": []
    },
    {
      "cell_type": "code",
      "source": [
        "model_data = model_data.reindex(columns=features)"
      ],
      "metadata": {
        "id": "9KWGjYD1KCoX"
      },
      "execution_count": null,
      "outputs": []
    },
    {
      "cell_type": "code",
      "source": [
        "final_output=predict_performance(model_data)"
      ],
      "metadata": {
        "id": "VnCo8H7UHzsA"
      },
      "execution_count": null,
      "outputs": []
    },
    {
      "cell_type": "code",
      "source": [
        "final_output"
      ],
      "metadata": {
        "id": "6k9HtlPSJd61"
      },
      "execution_count": null,
      "outputs": []
    },
    {
      "cell_type": "code",
      "source": [
        "# Create a DataFrame with test data, predictions, and probabilities\n",
        "results_live_findf = pd.DataFrame({\n",
        "    'prob_underperform_live_dataset': final_output[:, 0],\n",
        "    'prob_outperform_live_dataset': final_output[:, 1],\n",
        "})"
      ],
      "metadata": {
        "id": "d4BaWnpVLybw"
      },
      "execution_count": null,
      "outputs": []
    },
    {
      "cell_type": "code",
      "source": [
        "live_results = pd.concat([results_live_findf, live_data.reset_index(drop=True)], axis=1)"
      ],
      "metadata": {
        "id": "QNswUBRlKxQY"
      },
      "execution_count": null,
      "outputs": []
    },
    {
      "cell_type": "code",
      "source": [
        "live_results['final_names']=label_encoder.inverse_transform(live_results['ticker_encoded'].astype(int))"
      ],
      "metadata": {
        "id": "c1ABNB9DMMm_"
      },
      "execution_count": null,
      "outputs": []
    },
    {
      "cell_type": "code",
      "source": [
        "live_results.tail()"
      ],
      "metadata": {
        "id": "PCHnhBFIMPV3"
      },
      "execution_count": null,
      "outputs": []
    },
    {
      "cell_type": "code",
      "source": [
        "live_results.to_csv('live_results.csv', index=False)"
      ],
      "metadata": {
        "id": "uMoOAfDGM6dB"
      },
      "execution_count": null,
      "outputs": []
    },
    {
      "cell_type": "code",
      "source": [],
      "metadata": {
        "id": "EEm33mp2NFB7"
      },
      "execution_count": null,
      "outputs": []
    }
  ]
}