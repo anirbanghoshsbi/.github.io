{
  "nbformat": 4,
  "nbformat_minor": 0,
  "metadata": {
    "colab": {
      "provenance": [],
      "authorship_tag": "ABX9TyNSlYCH3YHBh+yP7BcFLKA4",
      "include_colab_link": true
    },
    "kernelspec": {
      "name": "python3",
      "display_name": "Python 3"
    },
    "language_info": {
      "name": "python"
    }
  },
  "cells": [
    {
      "cell_type": "markdown",
      "metadata": {
        "id": "view-in-github",
        "colab_type": "text"
      },
      "source": [
        "<a href=\"https://colab.research.google.com/github/anirbanghoshsbi/.github.io/blob/master/work/stock/labelling_stock_selection2.ipynb\" target=\"_parent\"><img src=\"https://colab.research.google.com/assets/colab-badge.svg\" alt=\"Open In Colab\"/></a>"
      ]
    },
    {
      "cell_type": "code",
      "execution_count": 1,
      "metadata": {
        "colab": {
          "base_uri": "https://localhost:8080/"
        },
        "id": "Em8WUFBPWT8-",
        "outputId": "d6618206-ce00-4800-9098-420bc186103b"
      },
      "outputs": [
        {
          "output_type": "stream",
          "name": "stdout",
          "text": [
            "        date       ticker    adj close  next_week_close  weekly_return\n",
            "0 2021-05-09  ADANIENT.NS  1295.667725      1217.313232      -0.060474\n",
            "1 2021-05-16  ADANIENT.NS  1217.313232      1311.827393       0.077642\n",
            "2 2021-05-23  ADANIENT.NS  1311.827393      1299.358398      -0.009505\n",
            "3 2021-05-30  ADANIENT.NS  1299.358398      1696.717163       0.305812\n",
            "4 2021-06-06  ADANIENT.NS  1696.717163      1597.614380      -0.058409\n",
            "\n",
            "Weekly Return Summary Statistics:\n",
            "                   mean    median       std       min       max\n",
            "ticker                                                         \n",
            "ADANIENT.NS    0.013131  0.013128  0.062439 -0.086110  0.305812\n",
            "ADANIPORTS.NS  0.002347  0.007076  0.050644 -0.173147  0.098527\n",
            "APOLLOHOSP.NS  0.005770  0.011657  0.055117 -0.140761  0.196831\n",
            "ASIANPAINT.NS  0.005961  0.013105  0.045238 -0.122163  0.099447\n",
            "AXISBANK.NS    0.001075 -0.002327  0.040433 -0.091466  0.103519\n",
            "BAJAJ-AUTO.NS  0.002192  0.000365  0.032739 -0.075903  0.071905\n",
            "BAJAJFINSV.NS  0.005734  0.000965  0.051697 -0.102940  0.179811\n",
            "BAJFINANCE.NS  0.005552  0.005790  0.046960 -0.100647  0.151935\n",
            "BHARTIARTL.NS  0.004288  0.003068  0.036384 -0.068718  0.106360\n",
            "BPCL.NS       -0.002076  0.004908  0.035507 -0.098620  0.043997\n",
            "BRITANNIA.NS   0.001760 -0.000349  0.030722 -0.077907  0.088391\n",
            "CIPLA.NS       0.003088  0.005765  0.034146 -0.070067  0.121080\n",
            "COALINDIA.NS   0.009472  0.004805  0.050056 -0.099908  0.136062\n",
            "DIVISLAB.NS    0.000547  0.009192  0.042704 -0.183539  0.092319\n",
            "DRREDDY.NS    -0.002469 -0.000696  0.037928 -0.131119  0.082766\n",
            "EICHERMOT.NS   0.004975  0.004894  0.047256 -0.110010  0.113107\n",
            "GRASIM.NS      0.002392  0.003548  0.041628 -0.089914  0.108121\n",
            "HCLTECH.NS     0.002250  0.001117  0.039980 -0.119226  0.080075\n",
            "HDFCBANK.NS    0.000883 -0.003379  0.032043 -0.074644  0.079641\n",
            "HDFCLIFE.NS   -0.002789 -0.003952  0.032424 -0.088078  0.098035\n",
            "HEROMOTOCO.NS  0.000814  0.000671  0.038433 -0.096584  0.118566\n",
            "HINDALCO.NS    0.002029  0.004877  0.056100 -0.134932  0.135418\n",
            "HINDUNILVR.NS  0.002395 -0.001212  0.035880 -0.073767  0.093982\n",
            "ICICIBANK.NS   0.005607 -0.000139  0.034664 -0.058255  0.075590\n",
            "INDUSINDBK.NS  0.003171 -0.001189  0.052940 -0.127870  0.156309\n",
            "INFY.NS        0.003202  0.008048  0.034786 -0.093277  0.063413\n",
            "ITC.NS         0.007924  0.002489  0.037094 -0.077763  0.107251\n",
            "JSWSTEEL.NS   -0.001311  0.011691  0.042975 -0.131041  0.080951\n",
            "KOTAKBANK.NS   0.000883  0.002398  0.035480 -0.065967  0.104574\n",
            "LT.NS          0.005697  0.005945  0.036711 -0.062652  0.080548\n",
            "LTIM.NS        0.005245  0.009479  0.053100 -0.156480  0.133411\n",
            "M&M.NS         0.007690  0.003971  0.040964 -0.093239  0.104450\n",
            "MARUTI.NS      0.005176  0.004843  0.041619 -0.132693  0.099097\n",
            "NESTLEIND.NS   0.002743  0.005299  0.025460 -0.072822  0.071250\n",
            "NTPC.NS        0.007923  0.007889  0.038928 -0.095330  0.125956\n",
            "ONGC.NS        0.005053  0.002370  0.048670 -0.140905  0.116600\n",
            "POWERGRID.NS   0.006021 -0.003784  0.036044 -0.058365  0.090304\n",
            "RELIANCE.NS    0.004816  0.008280  0.036807 -0.074047  0.081534\n",
            "SBILIFE.NS     0.004584  0.003301  0.032589 -0.082486  0.111121\n",
            "SBIN.NS        0.007189  0.006451  0.038164 -0.081207  0.113053\n",
            "SUNPHARMA.NS   0.005872  0.004886  0.034416 -0.061842  0.115202\n",
            "TATACONSUM.NS  0.004855  0.008766  0.036242 -0.078541  0.077954\n",
            "TATAMOTORS.NS  0.007710  0.008834  0.057163 -0.111917  0.299386\n",
            "TATASTEEL.NS   0.017723  0.002432  0.135152 -0.145439  0.992528\n",
            "TCS.NS         0.001728  0.002991  0.034556 -0.080657  0.066108\n",
            "TECHM.NS       0.002682  0.012186  0.045718 -0.130468  0.093745\n",
            "TITAN.NS       0.008754  0.007895  0.045928 -0.101477  0.107953\n",
            "ULTRACEMCO.NS  0.000876 -0.004601  0.036472 -0.079137  0.112217\n",
            "UPL.NS         0.003996  0.001844  0.046287 -0.096903  0.180966\n",
            "WIPRO.NS      -0.002087  0.003977  0.040222 -0.120946  0.098802\n",
            "\n",
            "Best performing stock based on average weekly return: TATASTEEL.NS\n",
            "\n",
            "Results saved to 'stock_weekly_returns.csv'\n"
          ]
        }
      ],
      "source": [
        "import pandas as pd\n",
        "import numpy as np\n",
        "\n",
        "# Load the data\n",
        "df = pd.read_csv('/content/nifty_50_weekly_data.csv')\n",
        "# Convert the date column to datetime\n",
        "df['date'] = pd.to_datetime(df['date'])\n",
        "\n",
        "# Sort the dataframe by ticker and date\n",
        "df = df.sort_values(['ticker', 'date'])\n",
        "\n",
        "# Group the dataframe by ticker\n",
        "grouped = df.groupby('ticker')\n",
        "\n",
        "# Function to calculate weekly returns\n",
        "def calculate_weekly_return(group):\n",
        "    # Shift the 'adj close' column by 1 day (1 month)\n",
        "    group['next_week_close'] = group['adj close'].shift(-1)\n",
        "\n",
        "    # Calculate the weekly return\n",
        "    group['weekly_return'] = (group['next_week_close'] - group['adj close']) / group['adj close']\n",
        "\n",
        "    return group\n",
        "\n",
        "# Apply the function to each group (ticker)\n",
        "df_with_returns = grouped.apply(calculate_weekly_return)\n",
        "\n",
        "# Reset the index\n",
        "df_with_returns = df_with_returns.reset_index(drop=True)\n",
        "\n",
        "# Remove rows where we couldn't calculate the weekly return (last week of data for each stock)\n",
        "df_with_returns = df_with_returns.dropna(subset=['weekly_return'])\n",
        "\n",
        "# Display the first few rows of the result\n",
        "print(df_with_returns[['date', 'ticker', 'adj close', 'next_week_close', 'weekly_return']].head())\n",
        "\n",
        "# Calculate summary statistics of weekly returns for each stock\n",
        "weekly_return_summary = df_with_returns.groupby('ticker')['weekly_return'].agg(['mean', 'median', 'std', 'min', 'max'])\n",
        "print(\"\\nWeekly Return Summary Statistics:\")\n",
        "print(weekly_return_summary)\n",
        "\n",
        "# Find the stock with the highest average weekly return\n",
        "best_performing_stock = weekly_return_summary['mean'].idxmax()\n",
        "print(f\"\\nBest performing stock based on average weekly return: {best_performing_stock}\")\n",
        "\n",
        "# Save the results to a CSV file\n",
        "df_with_returns.to_csv('stock_weekly_returns.csv', index=False)\n",
        "print(\"\\nResults saved to 'stock_weekly_returns.csv'\")"
      ]
    }
  ]
}