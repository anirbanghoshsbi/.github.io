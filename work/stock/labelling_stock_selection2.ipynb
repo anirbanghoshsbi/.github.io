{
  "nbformat": 4,
  "nbformat_minor": 0,
  "metadata": {
    "colab": {
      "provenance": [],
      "authorship_tag": "ABX9TyNSlYCH3YHBh+yP7BcFLKA4",
      "include_colab_link": true
    },
    "kernelspec": {
      "name": "python3",
      "display_name": "Python 3"
    },
    "language_info": {
      "name": "python"
    }
  },
  "cells": [
    {
      "cell_type": "markdown",
      "metadata": {
        "id": "view-in-github",
        "colab_type": "text"
      },
      "source": [
        "<a href=\"https://colab.research.google.com/github/anirbanghoshsbi/.github.io/blob/master/work/stock/labelling_stock_selection2.ipynb\" target=\"_parent\"><img src=\"https://colab.research.google.com/assets/colab-badge.svg\" alt=\"Open In Colab\"/></a>"
      ]
    },
    {
      "cell_type": "code",
      "execution_count": 2,
      "metadata": {
        "colab": {
          "base_uri": "https://localhost:8080/"
        },
        "id": "Em8WUFBPWT8-",
        "outputId": "d7cf9dec-61af-4a91-acda-769569e1aa60"
      },
      "outputs": [
        {
          "output_type": "stream",
          "name": "stdout",
          "text": [
            "        date       ticker   adj close  next_week_close  weekly_return\n",
            "0 2020-05-03  ADANIENT.NS  141.048111       136.808716      -0.030056\n",
            "1 2020-05-10  ADANIENT.NS  136.808716       140.699005       0.028436\n",
            "2 2020-05-17  ADANIENT.NS  140.699005       137.756363      -0.020914\n",
            "3 2020-05-24  ADANIENT.NS  137.756363       147.980835       0.074221\n",
            "4 2020-05-31  ADANIENT.NS  147.980835       152.070633       0.027637\n",
            "\n",
            "Weekly Return Summary Statistics:\n",
            "                   mean    median       std       min       max\n",
            "ticker                                                         \n",
            "ADANIENT.NS    0.027453  0.023090  0.064544 -0.086110  0.305812\n",
            "ADANIPORTS.NS  0.009769  0.012529  0.051029 -0.173147  0.118642\n",
            "APOLLOHOSP.NS  0.009962  0.011657  0.049259 -0.140761  0.196830\n",
            "ASIANPAINT.NS  0.005510  0.005277  0.041310 -0.122163  0.100867\n",
            "AXISBANK.NS    0.006290  0.003213  0.048601 -0.141268  0.156090\n",
            "BAJAJ-AUTO.NS  0.003910  0.004907  0.034759 -0.077860  0.142223\n",
            "BAJAJFINSV.NS  0.011082  0.005355  0.054159 -0.102940  0.188767\n",
            "BAJFINANCE.NS  0.010284  0.002638  0.056735 -0.126806  0.223530\n",
            "BHARTIARTL.NS  0.004455  0.003068  0.038137 -0.111010  0.115502\n",
            "BPCL.NS        0.000625  0.001679  0.043093 -0.122297  0.179222\n",
            "BRITANNIA.NS   0.002255  0.001349  0.028524 -0.077906  0.088391\n",
            "CIPLA.NS       0.005782  0.004243  0.035600 -0.070067  0.121080\n",
            "COALINDIA.NS   0.006732  0.004144  0.048851 -0.131313  0.136063\n",
            "DIVISLAB.NS    0.004629  0.007010  0.042736 -0.183539  0.134309\n",
            "DRREDDY.NS     0.001954  0.002247  0.039339 -0.131119  0.211684\n",
            "EICHERMOT.NS   0.008273  0.007832  0.049293 -0.110010  0.188620\n",
            "GRASIM.NS      0.010549  0.007551  0.041939 -0.089914  0.123573\n",
            "HCLTECH.NS     0.006377  0.003479  0.037956 -0.119226  0.126381\n",
            "HDFCBANK.NS    0.003723 -0.000793  0.038148 -0.077115  0.148939\n",
            "HDFCLIFE.NS    0.000964 -0.002828  0.031369 -0.088078  0.098036\n",
            "HEROMOTOCO.NS  0.002791  0.001799  0.041925 -0.100047  0.118566\n",
            "HINDALCO.NS    0.010602  0.008599  0.058373 -0.134932  0.157976\n",
            "HINDUNILVR.NS  0.001904  0.001829  0.032583 -0.073767  0.093982\n",
            "ICICIBANK.NS   0.007775  0.001766  0.044923 -0.111666  0.143669\n",
            "INDUSINDBK.NS  0.009428 -0.000206  0.071471 -0.191904  0.296174\n",
            "INFY.NS        0.006961  0.012810  0.037032 -0.093277  0.155145\n",
            "ITC.NS         0.006958  0.001911  0.042281 -0.130733  0.153014\n",
            "JSWSTEEL.NS    0.011823  0.014253  0.049844 -0.131041  0.220639\n",
            "KOTAKBANK.NS   0.003350  0.004164  0.040919 -0.102969  0.157477\n",
            "LT.NS          0.007270  0.004757  0.040139 -0.090914  0.142883\n",
            "LTIM.NS        0.009655  0.011040  0.050303 -0.156480  0.158275\n",
            "M&M.NS         0.011007  0.008967  0.044274 -0.094550  0.154616\n",
            "MARUTI.NS      0.005459  0.004461  0.041997 -0.132694  0.109064\n",
            "NESTLEIND.NS   0.001541  0.001178  0.027574 -0.076344  0.090294\n",
            "NTPC.NS        0.007033  0.004984  0.042748 -0.095330  0.198529\n",
            "ONGC.NS        0.005906  0.004049  0.048127 -0.140905  0.144586\n",
            "POWERGRID.NS   0.006698  0.002986  0.041229 -0.140462  0.122798\n",
            "RELIANCE.NS    0.005085  0.002758  0.038712 -0.101313  0.122639\n",
            "SBILIFE.NS     0.004732  0.005060  0.031824 -0.082486  0.111121\n",
            "SBIN.NS        0.010118  0.005371  0.056429 -0.125197  0.393478\n",
            "SUNPHARMA.NS   0.006649  0.006561  0.035719 -0.077913  0.115202\n",
            "TATACONSUM.NS  0.006828  0.008766  0.038187 -0.078541  0.211541\n",
            "TATAMOTORS.NS  0.013611  0.009018  0.068428 -0.139621  0.313651\n",
            "TATASTEEL.NS   0.019997  0.006888  0.103082 -0.145439  0.992528\n",
            "TCS.NS         0.004299  0.006588  0.033574 -0.080657  0.114724\n",
            "TECHM.NS       0.006430  0.009947  0.042358 -0.130468  0.097088\n",
            "TITAN.NS       0.009041  0.008719  0.043179 -0.141436  0.113427\n",
            "ULTRACEMCO.NS  0.005549  0.001348  0.040948 -0.096393  0.192379\n",
            "UPL.NS         0.005445  0.002743  0.046550 -0.132008  0.180966\n",
            "WIPRO.NS       0.006475  0.007577  0.045586 -0.120946  0.194697\n",
            "\n",
            "Best performing stock based on average weekly return: ADANIENT.NS\n",
            "\n",
            "Results saved to 'stock_weekly_returns.csv'\n"
          ]
        }
      ],
      "source": [
        "import pandas as pd\n",
        "import numpy as np\n",
        "\n",
        "# Load the data\n",
        "df = pd.read_csv('/content/nifty_50_weekly_data.csv')\n",
        "# Convert the date column to datetime\n",
        "df['date'] = pd.to_datetime(df['date'])\n",
        "\n",
        "# Sort the dataframe by ticker and date\n",
        "df = df.sort_values(['ticker', 'date'])\n",
        "\n",
        "# Group the dataframe by ticker\n",
        "grouped = df.groupby('ticker')\n",
        "\n",
        "# Function to calculate weekly returns\n",
        "def calculate_weekly_return(group):\n",
        "    # Shift the 'adj close' column by 1 day (1 month)\n",
        "    group['next_week_close'] = group['adj close'].shift(-1)\n",
        "\n",
        "    # Calculate the weekly return\n",
        "    group['weekly_return'] = (group['next_week_close'] - group['adj close']) / group['adj close']\n",
        "\n",
        "    return group\n",
        "\n",
        "# Apply the function to each group (ticker)\n",
        "df_with_returns = grouped.apply(calculate_weekly_return)\n",
        "\n",
        "# Reset the index\n",
        "df_with_returns = df_with_returns.reset_index(drop=True)\n",
        "\n",
        "# Remove rows where we couldn't calculate the weekly return (last week of data for each stock)\n",
        "df_with_returns = df_with_returns.dropna(subset=['weekly_return'])\n",
        "\n",
        "# Display the first few rows of the result\n",
        "print(df_with_returns[['date', 'ticker', 'adj close', 'next_week_close', 'weekly_return']].head())\n",
        "\n",
        "# Calculate summary statistics of weekly returns for each stock\n",
        "weekly_return_summary = df_with_returns.groupby('ticker')['weekly_return'].agg(['mean', 'median', 'std', 'min', 'max'])\n",
        "print(\"\\nWeekly Return Summary Statistics:\")\n",
        "print(weekly_return_summary)\n",
        "\n",
        "# Find the stock with the highest average weekly return\n",
        "best_performing_stock = weekly_return_summary['mean'].idxmax()\n",
        "print(f\"\\nBest performing stock based on average weekly return: {best_performing_stock}\")\n",
        "\n",
        "# Save the results to a CSV file\n",
        "df_with_returns.to_csv('stock_weekly_returns.csv', index=False)\n",
        "print(\"\\nResults saved to 'stock_weekly_returns.csv'\")"
      ]
    }
  ]
}