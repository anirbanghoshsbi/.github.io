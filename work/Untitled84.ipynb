{
  "nbformat": 4,
  "nbformat_minor": 0,
  "metadata": {
    "colab": {
      "provenance": [],
      "authorship_tag": "ABX9TyOJlYMqhXT/nm2Ulp6J56ye",
      "include_colab_link": true
    },
    "kernelspec": {
      "name": "python3",
      "display_name": "Python 3"
    },
    "language_info": {
      "name": "python"
    }
  },
  "cells": [
    {
      "cell_type": "markdown",
      "metadata": {
        "id": "view-in-github",
        "colab_type": "text"
      },
      "source": [
        "<a href=\"https://colab.research.google.com/github/anirbanghoshsbi/.github.io/blob/master/work/Untitled84.ipynb\" target=\"_parent\"><img src=\"https://colab.research.google.com/assets/colab-badge.svg\" alt=\"Open In Colab\"/></a>"
      ]
    },
    {
      "cell_type": "code",
      "source": [
        "'''\n",
        "nifty50_url = \"https://raw.githubusercontent.com/anirbanghoshsbi/data/main/ind_nifty50list.csv\"\n",
        "nifty50 = pd.read_csv(nifty50_url)\n",
        "tickers = nifty50['Symbol'].apply(lambda x: x + \".NS\").tolist()\n",
        "# Bank Nifty Stocks\n",
        "bank_nifty_stocks = tickers\n",
        "data = yf.download(bank_nifty_stocks, start='2020-01-01')\n",
        "'''"
      ],
      "metadata": {
        "colab": {
          "base_uri": "https://localhost:8080/",
          "height": 71
        },
        "id": "iNP6fsECLRkm",
        "outputId": "0e82d34d-729f-4fcf-f865-70747e13ae62"
      },
      "execution_count": 1,
      "outputs": [
        {
          "output_type": "execute_result",
          "data": {
            "text/plain": [
              "'\\nnifty50_url = \"https://raw.githubusercontent.com/anirbanghoshsbi/data/main/ind_nifty50list.csv\"\\nnifty50 = pd.read_csv(nifty50_url)\\ntickers = nifty50[\\'Symbol\\'].apply(lambda x: x + \".NS\").tolist()\\n# Bank Nifty Stocks\\nbank_nifty_stocks = tickers\\ndata = yf.download(bank_nifty_stocks, start=\\'2020-01-01\\')\\n'"
            ],
            "application/vnd.google.colaboratory.intrinsic+json": {
              "type": "string"
            }
          },
          "metadata": {},
          "execution_count": 1
        }
      ]
    },
    {
      "cell_type": "code",
      "source": [
        "import yfinance as yf\n",
        "import pandas as pd\n",
        "\n",
        "# List of stock tickers\n",
        "ticker_list = ['AAPL', 'GOOGL', 'MSFT', 'AMZN', 'F']\n",
        "\n",
        "# Download data for each stock\n",
        "data_frames = {}\n",
        "for ticker in ticker_list:\n",
        "    data_frames[ticker] = yf.download(ticker, start='2020-01-01')\n",
        "\n",
        "# Combine data into a single multi-index DataFrame\n",
        "data = pd.concat(data_frames, axis=1)\n",
        "\n",
        "# Display the result\n",
        "print(data.head())\n",
        "print(data.columns)"
      ],
      "metadata": {
        "colab": {
          "base_uri": "https://localhost:8080/"
        },
        "id": "a-3p12kkL2iC",
        "outputId": "188e596f-cfcd-47ee-f7bb-9297df5cd050"
      },
      "execution_count": 5,
      "outputs": [
        {
          "output_type": "stream",
          "name": "stdout",
          "text": [
            "[*********************100%%**********************]  1 of 1 completed\n",
            "[*********************100%%**********************]  1 of 1 completed\n",
            "[*********************100%%**********************]  1 of 1 completed\n",
            "[*********************100%%**********************]  1 of 1 completed\n",
            "[*********************100%%**********************]  1 of 1 completed\n",
            "                 AAPL                                                         \\\n",
            "                 Open       High        Low      Close  Adj Close     Volume   \n",
            "Date                                                                           \n",
            "2020-01-02  74.059998  75.150002  73.797501  75.087502  73.152641  135480400   \n",
            "2020-01-03  74.287498  75.144997  74.125000  74.357498  72.441460  146322800   \n",
            "2020-01-06  73.447502  74.989998  73.187500  74.949997  73.018684  118387200   \n",
            "2020-01-07  74.959999  75.224998  74.370003  74.597504  72.675262  108872000   \n",
            "2020-01-08  74.290001  76.110001  74.290001  75.797501  73.844345  132079200   \n",
            "\n",
            "                GOOGL                                   ...       AMZN  \\\n",
            "                 Open       High        Low      Close  ...        Low   \n",
            "Date                                                    ...              \n",
            "2020-01-02  67.420502  68.433998  67.324501  68.433998  ...  93.207497   \n",
            "2020-01-03  67.400002  68.687500  67.365997  68.075996  ...  93.224998   \n",
            "2020-01-06  67.581497  69.916000  67.550003  69.890503  ...  93.000000   \n",
            "2020-01-07  70.023003  70.175003  69.578003  69.755501  ...  94.601997   \n",
            "2020-01-08  69.740997  70.592499  69.631500  70.251999  ...  94.321999   \n",
            "\n",
            "                                               F                              \\\n",
            "                Close  Adj Close    Volume  Open  High   Low Close Adj Close   \n",
            "Date                                                                           \n",
            "2020-01-02  94.900497  94.900497  80580000  9.29  9.42  9.19  9.42  8.077005   \n",
            "2020-01-03  93.748497  93.748497  75288000  9.31  9.37  9.15  9.21  7.896944   \n",
            "2020-01-06  95.143997  95.143997  81236000  9.10  9.17  9.06  9.16  7.854074   \n",
            "2020-01-07  95.343002  95.343002  80898000  9.20  9.25  9.12  9.25  7.931241   \n",
            "2020-01-08  94.598503  94.598503  70160000  9.23  9.30  9.17  9.25  7.931241   \n",
            "\n",
            "                      \n",
            "              Volume  \n",
            "Date                  \n",
            "2020-01-02  43425700  \n",
            "2020-01-03  45040800  \n",
            "2020-01-06  43372300  \n",
            "2020-01-07  44984100  \n",
            "2020-01-08  45994900  \n",
            "\n",
            "[5 rows x 30 columns]\n",
            "MultiIndex([( 'AAPL',      'Open'),\n",
            "            ( 'AAPL',      'High'),\n",
            "            ( 'AAPL',       'Low'),\n",
            "            ( 'AAPL',     'Close'),\n",
            "            ( 'AAPL', 'Adj Close'),\n",
            "            ( 'AAPL',    'Volume'),\n",
            "            ('GOOGL',      'Open'),\n",
            "            ('GOOGL',      'High'),\n",
            "            ('GOOGL',       'Low'),\n",
            "            ('GOOGL',     'Close'),\n",
            "            ('GOOGL', 'Adj Close'),\n",
            "            ('GOOGL',    'Volume'),\n",
            "            ( 'MSFT',      'Open'),\n",
            "            ( 'MSFT',      'High'),\n",
            "            ( 'MSFT',       'Low'),\n",
            "            ( 'MSFT',     'Close'),\n",
            "            ( 'MSFT', 'Adj Close'),\n",
            "            ( 'MSFT',    'Volume'),\n",
            "            ( 'AMZN',      'Open'),\n",
            "            ( 'AMZN',      'High'),\n",
            "            ( 'AMZN',       'Low'),\n",
            "            ( 'AMZN',     'Close'),\n",
            "            ( 'AMZN', 'Adj Close'),\n",
            "            ( 'AMZN',    'Volume'),\n",
            "            (    'F',      'Open'),\n",
            "            (    'F',      'High'),\n",
            "            (    'F',       'Low'),\n",
            "            (    'F',     'Close'),\n",
            "            (    'F', 'Adj Close'),\n",
            "            (    'F',    'Volume')],\n",
            "           )\n"
          ]
        }
      ]
    },
    {
      "cell_type": "code",
      "source": [],
      "metadata": {
        "id": "HrECo1xqNrY5"
      },
      "execution_count": null,
      "outputs": []
    }
  ]
}