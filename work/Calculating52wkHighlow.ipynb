{
  "nbformat": 4,
  "nbformat_minor": 0,
  "metadata": {
    "colab": {
      "name": "Calculating52wkHighlow.ipynb",
      "provenance": [],
      "authorship_tag": "ABX9TyORq1eXeCCl/8HD5Dd7PxCd",
      "include_colab_link": true
    },
    "kernelspec": {
      "name": "python3",
      "display_name": "Python 3"
    },
    "language_info": {
      "name": "python"
    }
  },
  "cells": [
    {
      "cell_type": "markdown",
      "metadata": {
        "id": "view-in-github",
        "colab_type": "text"
      },
      "source": [
        "<a href=\"https://colab.research.google.com/github/anirbanghoshsbi/.github.io/blob/master/work/Calculating52wkHighlow.ipynb\" target=\"_parent\"><img src=\"https://colab.research.google.com/assets/colab-badge.svg\" alt=\"Open In Colab\"/></a>"
      ]
    },
    {
      "cell_type": "code",
      "metadata": {
        "id": "yqGTLrHATlsF",
        "collapsed": true
      },
      "source": [
        "#!pip install yfinance"
      ],
      "execution_count": 37,
      "outputs": []
    },
    {
      "cell_type": "code",
      "metadata": {
        "id": "PWW952OFTdDw"
      },
      "source": [
        "import pandas as pd\n",
        "import numpy as np\n",
        "import yfinance as yf"
      ],
      "execution_count": 38,
      "outputs": []
    },
    {
      "cell_type": "code",
      "metadata": {
        "id": "BEiK4-hPT6gk"
      },
      "source": [
        "ticker = pd.read_csv('https://raw.githubusercontent.com/anirbanghoshsbi/data/main/ind_nifty50list.csv')\n",
        "#ticker = pd.read_csv('/content/ind_niftyitlist.csv')\n",
        "#ticker = pd.read_csv('/content/ind_niftybanklist.csv')\n"
      ],
      "execution_count": 39,
      "outputs": []
    },
    {
      "cell_type": "code",
      "source": [
        "#ticker = pd.read_csv('/content/ind_niftyfinancelist.csv')\n",
        "#ticker2=pd.read_csv('/content/ind_niftybanklist.csv')\n",
        "#ticker=pd.concat([ticker,ticker2])"
      ],
      "metadata": {
        "id": "ZmNsYkrzQHQb"
      },
      "execution_count": 40,
      "outputs": []
    },
    {
      "cell_type": "code",
      "metadata": {
        "id": "opnrKZDsUBuY"
      },
      "source": [
        "ticker=ticker['Symbol'].tolist()\n",
        "ticker=list(set(ticker))"
      ],
      "execution_count": 41,
      "outputs": []
    },
    {
      "cell_type": "code",
      "metadata": {
        "id": "WtjJn2uJUeWU"
      },
      "source": [
        "START = \"2013-01-01\"  #yyyy-mm-dd\n",
        "#END = '2019-06-01'"
      ],
      "execution_count": 42,
      "outputs": []
    },
    {
      "cell_type": "code",
      "metadata": {
        "id": "3DdKrGvRT0ml",
        "outputId": "1806cda9-df41-42af-aa30-7d068638d4c6",
        "colab": {
          "base_uri": "https://localhost:8080/"
        },
        "collapsed": true
      },
      "source": [
        "#Download Data From Yahoo Finance\n",
        "lst=[]\n",
        "for i in range(len(ticker)):\n",
        "  dfi = yf.download(str(ticker[i])+'.ns', start=START)\n",
        "\n",
        "  dfi['result']=dfi['High'].rolling(window=30, min_periods=1).max()\n",
        "  dfi['result_low']=dfi['Low'].rolling(window=30, min_periods=1).min()\n",
        "  dfi['high52']=np.where(dfi['High']>=dfi['result'],1,0)\n",
        "  dfi['low52']=np.where(dfi['Low']<=dfi['result_low'],1,0)\n",
        "  dfi['below40'] = np.where(((dfi['Close']-dfi['result'])/dfi['Close'])<-0.05,1,0)\n",
        "  dfi['down40more']= np.where(((dfi['Close']-dfi['result'])/dfi['Close'])<-0.1,1,0)\n",
        "  dfi = dfi.dropna()\n",
        "\n",
        "  #df.head(3)\n",
        "  #print('Done : '+ nifty10[i])\n",
        "  #print(df.head(2))\n",
        "  lst.append(dfi)\n",
        "\n",
        "#df1.head(3)\n",
        "print('\\n All Completed \\n')"
      ],
      "execution_count": null,
      "outputs": [
        {
          "output_type": "stream",
          "name": "stderr",
          "text": [
            "[*********************100%%**********************]  1 of 1 completed\n",
            "[*********************100%%**********************]  1 of 1 completed\n",
            "[*********************100%%**********************]  1 of 1 completed\n",
            "[*********************100%%**********************]  1 of 1 completed\n",
            "[*********************100%%**********************]  1 of 1 completed\n",
            "[*********************100%%**********************]  1 of 1 completed\n",
            "[*********************100%%**********************]  1 of 1 completed\n",
            "[*********************100%%**********************]  1 of 1 completed\n",
            "[*********************100%%**********************]  1 of 1 completed\n",
            "[*********************100%%**********************]  1 of 1 completed\n",
            "[*********************100%%**********************]  1 of 1 completed\n",
            "[*********************100%%**********************]  1 of 1 completed\n",
            "[*********************100%%**********************]  1 of 1 completed\n",
            "[*********************100%%**********************]  1 of 1 completed\n",
            "[*********************100%%**********************]  1 of 1 completed\n",
            "[*********************100%%**********************]  1 of 1 completed\n",
            "[*********************100%%**********************]  1 of 1 completed\n",
            "[*********************100%%**********************]  1 of 1 completed\n",
            "[*********************100%%**********************]  1 of 1 completed\n",
            "[*********************100%%**********************]  1 of 1 completed\n",
            "[*********************100%%**********************]  1 of 1 completed\n",
            "[*********************100%%**********************]  1 of 1 completed\n",
            "[*********************100%%**********************]  1 of 1 completed\n",
            "[*********************100%%**********************]  1 of 1 completed\n",
            "[*********************100%%**********************]  1 of 1 completed\n",
            "[*********************100%%**********************]  1 of 1 completed\n",
            "[*********************100%%**********************]  1 of 1 completed\n",
            "[*********************100%%**********************]  1 of 1 completed\n",
            "[*********************100%%**********************]  1 of 1 completed\n",
            "[*********************100%%**********************]  1 of 1 completed\n",
            "[*********************100%%**********************]  1 of 1 completed\n",
            "[*********************100%%**********************]  1 of 1 completed\n",
            "[*********************100%%**********************]  1 of 1 completed\n",
            "[*********************100%%**********************]  1 of 1 completed\n",
            "[*********************100%%**********************]  1 of 1 completed\n",
            "[*********************100%%**********************]  1 of 1 completed\n",
            "[*********************100%%**********************]  1 of 1 completed\n",
            "[*********************100%%**********************]  1 of 1 completed\n",
            "[*********************100%%**********************]  1 of 1 completed\n",
            "[*********************100%%**********************]  1 of 1 completed"
          ]
        }
      ]
    },
    {
      "cell_type": "code",
      "metadata": {
        "id": "w2lpwZlc1Db9"
      },
      "source": [
        "nlst=[]\n",
        "for i in range(len(ticker)):\n",
        "  nlst.append(lst[i].high52)\n",
        "  nlst.append(lst[i].low52)\n",
        "  nlst.append(lst[i].below40)\n",
        "  nlst.append(lst[i].down40more)"
      ],
      "execution_count": null,
      "outputs": []
    },
    {
      "cell_type": "code",
      "metadata": {
        "id": "RDqgVQwCFM5g"
      },
      "source": [
        "df = pd.DataFrame(nlst).T\n",
        "namelist =[]\n",
        "for i in range(1,len(ticker)+1):\n",
        "  namelist.append('high_'+str(i))\n",
        "  namelist.append('low_'+str(i))\n",
        "  namelist.append('below'+str(i))\n",
        "  namelist.append('down_'+str(i))\n",
        "df.columns = namelist"
      ],
      "execution_count": null,
      "outputs": []
    },
    {
      "cell_type": "code",
      "metadata": {
        "id": "0c_En4kSF5jZ"
      },
      "source": [
        "df=df[1:].fillna(0)"
      ],
      "execution_count": null,
      "outputs": []
    },
    {
      "cell_type": "code",
      "metadata": {
        "id": "uARxhTxrG6KP"
      },
      "source": [
        "features = df.columns.tolist()"
      ],
      "execution_count": null,
      "outputs": []
    },
    {
      "cell_type": "code",
      "metadata": {
        "id": "NBdX0_Fzs-qC"
      },
      "source": [
        "feats_set1=[feats for feats in features if feats.startswith('high')]"
      ],
      "execution_count": null,
      "outputs": []
    },
    {
      "cell_type": "code",
      "metadata": {
        "id": "4llLVWo3s_x6"
      },
      "source": [
        "feats_set2=[feats for feats in features if feats.startswith('low')]"
      ],
      "execution_count": null,
      "outputs": []
    },
    {
      "cell_type": "code",
      "source": [
        "feats_set3=[feats for feats in features if feats.startswith('below')]"
      ],
      "metadata": {
        "id": "Nwix2uHFusgN"
      },
      "execution_count": null,
      "outputs": []
    },
    {
      "cell_type": "code",
      "source": [
        "feats_set4=[feats for feats in features if feats.startswith('down')]"
      ],
      "metadata": {
        "id": "sIopX6EfuTAH"
      },
      "execution_count": null,
      "outputs": []
    },
    {
      "cell_type": "code",
      "metadata": {
        "id": "O8A3sgujtfmY"
      },
      "source": [
        "df_high=df[feats_set1]"
      ],
      "execution_count": null,
      "outputs": []
    },
    {
      "cell_type": "code",
      "metadata": {
        "id": "5071ezEStu1Z"
      },
      "source": [
        "df_low=df[feats_set2]"
      ],
      "execution_count": null,
      "outputs": []
    },
    {
      "cell_type": "code",
      "source": [
        "df_below=df[feats_set3]\n",
        "df_down=df[feats_set4]"
      ],
      "metadata": {
        "id": "CiatTBncuwUE"
      },
      "execution_count": null,
      "outputs": []
    },
    {
      "cell_type": "code",
      "metadata": {
        "id": "3QHIeS9GuIuJ"
      },
      "source": [
        "df['newhigh']=df_high.sum(axis=1)"
      ],
      "execution_count": null,
      "outputs": []
    },
    {
      "cell_type": "code",
      "metadata": {
        "id": "SSfGkS1LuZqe"
      },
      "source": [
        "df['newlow']=df_low.sum(axis=1)\n",
        "df['low_40']=df_below.sum(axis=1)\n",
        "df['down'] = df_down.sum(axis=1)"
      ],
      "execution_count": null,
      "outputs": []
    },
    {
      "cell_type": "code",
      "metadata": {
        "id": "PVCPuS4NugqZ"
      },
      "source": [
        "df_new=df[['newhigh','newlow','low_40','down']]"
      ],
      "execution_count": null,
      "outputs": []
    },
    {
      "cell_type": "code",
      "metadata": {
        "id": "BHBFzMdounCc"
      },
      "source": [
        "df_new.tail(20)"
      ],
      "execution_count": null,
      "outputs": []
    },
    {
      "cell_type": "code",
      "source": [
        "df_new['nhnl']=df_new['newhigh']-df_new['newlow']\n",
        "df_new['nhnl'].tail(10).to_csv('result.csv')"
      ],
      "metadata": {
        "id": "CBrb1TjnzoVv"
      },
      "execution_count": null,
      "outputs": []
    },
    {
      "cell_type": "code",
      "source": [
        "df_new.low_40[:].plot(figsize=(17,10));"
      ],
      "metadata": {
        "id": "JqXSDIdbtHNh"
      },
      "execution_count": null,
      "outputs": []
    },
    {
      "cell_type": "code",
      "metadata": {
        "id": "xQdB7fZIupYJ"
      },
      "source": [
        "df_new.newhigh[-600:].plot(figsize=(17,10));"
      ],
      "execution_count": null,
      "outputs": []
    },
    {
      "cell_type": "code",
      "metadata": {
        "id": "hge-UZ31uwUw"
      },
      "source": [
        "df_new.newlow[:].plot(figsize=(10,5));"
      ],
      "execution_count": null,
      "outputs": []
    },
    {
      "cell_type": "code",
      "source": [
        "data = yf.download('^nsei',start=START)\n",
        "nifty=data[-600:].copy()"
      ],
      "metadata": {
        "id": "NCfpRDF4ECKE"
      },
      "execution_count": null,
      "outputs": []
    },
    {
      "cell_type": "code",
      "metadata": {
        "id": "oXn7Ry7pvrQQ"
      },
      "source": [
        "import matplotlib.pyplot as plt\n",
        "fig, ax = plt.subplots(2,1, figsize=(10,10),sharex=True)\n",
        "ax[0].plot(nifty['Adj Close'])\n",
        "ax[1]=(df_new.newhigh[-600:]-df_new.newlow[-600:]).plot(figsize=(10,5))\n",
        "std_dev=(df_new.newhigh[-600:]-df_new.newlow[-600:]).std()\n",
        "ax[1].axhline(y=0,color='r')\n",
        "ax[1].axhline(y=0+std_dev,color='g')\n",
        "ax[1].axhline(y=0+std_dev*2,color='k')\n",
        "ax[1].axhline(y=0-std_dev,color='g')\n",
        "ax[1].axhline(y=0-std_dev*2,color='k')\n",
        "ax[1].axhline(y=0-std_dev*3,color='y')\n",
        "ax[1].axhline(y=0+std_dev*3,color='y');"
      ],
      "execution_count": null,
      "outputs": []
    },
    {
      "cell_type": "code",
      "source": [
        "nifty=data.copy()"
      ],
      "metadata": {
        "id": "k4ufvwwAyh02"
      },
      "execution_count": null,
      "outputs": []
    },
    {
      "cell_type": "code",
      "source": [
        "fig, ax = plt.subplots(2,1, figsize=(17,10),sharex=True)\n",
        "ax[0].plot(nifty['Adj Close'])\n",
        "ax[1].plot(df_new.low_40.rolling(window=52).mean())\n",
        "ax[1].plot(df_new.low_40);\n",
        "plt.gca().invert_yaxis()"
      ],
      "metadata": {
        "id": "9KeJp5R3IJGZ"
      },
      "execution_count": null,
      "outputs": []
    },
    {
      "cell_type": "code",
      "source": [
        "from sklearn.preprocessing import StandardScaler\n",
        "sc =  StandardScaler()\n",
        "fit=sc.fit_transform((df_new.low_40-df_new.low_40.rolling(window=26).mean()).values.reshape(-1,1))"
      ],
      "metadata": {
        "id": "r6ZYvhVJOsEP"
      },
      "execution_count": null,
      "outputs": []
    },
    {
      "cell_type": "code",
      "source": [
        "fig, ax = plt.subplots(2,1, figsize=(10,5),sharex=True)\n",
        "ax[0].plot(nifty['Adj Close'][-400:])\n",
        "ax[0].plot(nifty['Adj Close'][-400:].rolling(window=22).mean()[-400:],color='r')\n",
        "ax[1].plot(df_new.low_40.rolling(window=26).mean()[-400:],color='r')\n",
        "ax[1].plot(df_new.low_40.ewm(span=10).mean()[-400:],color='g')\n",
        "ax[1].plot(df_new.low_40[-400:]);\n",
        "plt.gca().invert_yaxis()"
      ],
      "metadata": {
        "id": "st1jqnFu20r1"
      },
      "execution_count": null,
      "outputs": []
    },
    {
      "cell_type": "code",
      "source": [
        "fig, ax = plt.subplots(2,1, figsize=(10,5),sharex=True)\n",
        "ax[0].plot(nifty['Adj Close'][-600:].values)\n",
        "ax[0].plot(nifty['Adj Close'].rolling(window=22).mean()[-600:].values,color='r')\n",
        "ax[1].plot(fit[-600:],lw=1.5)\n",
        "ax[1].axhline(y=0)\n",
        "plt.gca().invert_yaxis()\n",
        "plt.show()"
      ],
      "metadata": {
        "id": "5zxKt5aEO_cY"
      },
      "execution_count": null,
      "outputs": []
    },
    {
      "cell_type": "code",
      "source": [
        "fig, ax = plt.subplots(2,1, figsize=(10,5),sharex=True)\n",
        "ax[0].plot(nifty['Adj Close'][-1200:-750].values)\n",
        "ax[0].plot(nifty['Adj Close'].rolling(window=22).mean()[-1200:-750].values,color='r')\n",
        "ax[1].plot(fit[-1200:-750],lw=1.5)\n",
        "ax[1].axhline(y=0)\n",
        "plt.gca().invert_yaxis()\n",
        "plt.show()"
      ],
      "metadata": {
        "id": "FDfT-Az3VT8N"
      },
      "execution_count": null,
      "outputs": []
    },
    {
      "cell_type": "code",
      "source": [
        "fig, ax = plt.subplots(2,1, figsize=(17,10),sharex=True)\n",
        "ax[0].plot(nifty['Adj Close'][-800:])\n",
        "ax[1].plot(df_new.down.rolling(window=26).mean()[-800:])\n",
        "ax[1].plot(df_new.down[-800:]);\n",
        "ax[1].axhline(y=25)\n",
        "plt.gca().invert_yaxis()"
      ],
      "metadata": {
        "id": "D6Wpnm0BxGaK"
      },
      "execution_count": null,
      "outputs": []
    },
    {
      "cell_type": "code",
      "source": [
        "fit[-10:]"
      ],
      "metadata": {
        "id": "J2raLEFOXaFc"
      },
      "execution_count": null,
      "outputs": []
    },
    {
      "cell_type": "code",
      "source": [],
      "metadata": {
        "id": "ltken-EzylPF"
      },
      "execution_count": null,
      "outputs": []
    }
  ]
}