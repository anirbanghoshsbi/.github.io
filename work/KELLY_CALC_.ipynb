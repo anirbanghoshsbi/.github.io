{
  "nbformat": 4,
  "nbformat_minor": 0,
  "metadata": {
    "colab": {
      "provenance": [],
      "authorship_tag": "ABX9TyPXlrRh9T+oxwUn+cSjmjXu",
      "include_colab_link": true
    },
    "kernelspec": {
      "name": "python3",
      "display_name": "Python 3"
    },
    "language_info": {
      "name": "python"
    }
  },
  "cells": [
    {
      "cell_type": "markdown",
      "metadata": {
        "id": "view-in-github",
        "colab_type": "text"
      },
      "source": [
        "<a href=\"https://colab.research.google.com/github/anirbanghoshsbi/.github.io/blob/master/work/KELLY_CALC_.ipynb\" target=\"_parent\"><img src=\"https://colab.research.google.com/assets/colab-badge.svg\" alt=\"Open In Colab\"/></a>"
      ]
    },
    {
      "cell_type": "code",
      "source": [
        "def calculate_kelly_position_size(win_probability, reward_to_risk_ratio, stop_loss_fraction, portfolio_size, use_leverage=False, fractional_kelly=1.0):\n",
        "    \"\"\"\n",
        "    Calculate the optimal position size using the Kelly Criterion adjusted for stop loss.\n",
        "\n",
        "    Parameters:\n",
        "    - win_probability (float): Probability of a winning trade (between 0 and 1).\n",
        "    - reward_to_risk_ratio (float): The reward-to-risk ratio for the trade.\n",
        "    - stop_loss_fraction (float): Fraction of position size at risk (stop loss, between 0 and 1).\n",
        "    - portfolio_size (float): Total capital available for trading.\n",
        "    - use_leverage (bool): Whether to allow leverage in position sizing.\n",
        "    - fractional_kelly (float): Fraction of the Kelly Criterion to use (e.g., 0.5 for half Kelly).\n",
        "\n",
        "    Returns:\n",
        "    - tuple:\n",
        "        - float: Optimal position size to allocate for the trade (in dollars).\n",
        "        - float: Optimal position size as a percentage of the portfolio size.\n",
        "    \"\"\"\n",
        "\n",
        "    # Validate inputs\n",
        "    if not (0 < win_probability < 1):\n",
        "        raise ValueError(\"Win probability must be between 0 and 1 (exclusive).\")\n",
        "    if reward_to_risk_ratio <= 0:\n",
        "        raise ValueError(\"Reward-to-risk ratio must be greater than 0.\")\n",
        "    if not (0 < stop_loss_fraction <= 1):\n",
        "        raise ValueError(\"Stop loss fraction must be between 0 and 1 (inclusive).\")\n",
        "    if portfolio_size <= 0:\n",
        "        raise ValueError(\"Portfolio size must be greater than 0.\")\n",
        "    if not (0 < fractional_kelly <= 1):\n",
        "        raise ValueError(\"Fractional Kelly must be between 0 and 1 (inclusive).\")\n",
        "\n",
        "    # Calculate the Kelly fraction (optimal fraction of portfolio to risk)\n",
        "    kelly_fraction = (win_probability * (reward_to_risk_ratio + 1) - 1) / reward_to_risk_ratio\n",
        "\n",
        "    # Ensure Kelly Fraction is non-negative\n",
        "    kelly_fraction = max(0, kelly_fraction)\n",
        "\n",
        "    # Apply the fractional Kelly scaling\n",
        "    kelly_fraction *= fractional_kelly\n",
        "\n",
        "    # Calculate the position size before leverage considerations\n",
        "    position_size = (kelly_fraction * portfolio_size) / stop_loss_fraction\n",
        "\n",
        "    if not use_leverage:\n",
        "        # Cap the position size to the available portfolio size if leverage is not used\n",
        "        position_size = min(position_size, portfolio_size)\n",
        "\n",
        "    # Calculate position size as a percentage of the portfolio\n",
        "    position_percentage = (position_size / portfolio_size) * 100\n",
        "\n",
        "    return position_size, position_percentage\n",
        "\n",
        "# Example usage\n",
        "if __name__ == \"__main__\":\n",
        "    # Example inputs\n",
        "    win_rate = 0.8              # 60% probability of winning\n",
        "    reward_risk_ratio = 1.2     # 2:1 reward-to-risk ratio\n",
        "    stop_loss = 0.4           # 2% stop loss (as a fraction of position size)\n",
        "    portfolio_size = 500_000    # $100,000 portfolio size\n",
        "    use_leverage = True       # Whether leverage is allowed\n",
        "    fractional_kelly =0.125     # Using half Kelly for risk management\n",
        "\n",
        "    # Calculate optimal position size\n",
        "    optimal_position_size, position_percentage = calculate_kelly_position_size(\n",
        "        win_probability=win_rate,\n",
        "        reward_to_risk_ratio=reward_risk_ratio,\n",
        "        stop_loss_fraction=stop_loss,\n",
        "        portfolio_size=portfolio_size,\n",
        "        use_leverage=use_leverage,\n",
        "        fractional_kelly=fractional_kelly\n",
        "    )\n",
        "\n",
        "    print(f\"Optimal Position Size: ${optimal_position_size:,.2f}\")\n",
        "    print(f\"Optimal Position Size as Percentage of Portfolio at 12.5% fractional kelly: {position_percentage:.2f}%\")\n"
      ],
      "metadata": {
        "colab": {
          "base_uri": "https://localhost:8080/"
        },
        "id": "ExmI0pHhkbf9",
        "outputId": "e119c2f8-3f57-46b5-ba16-0756bc0288cb"
      },
      "execution_count": 7,
      "outputs": [
        {
          "output_type": "stream",
          "name": "stdout",
          "text": [
            "Optimal Position Size: $98,958.33\n",
            "Optimal Position Size as Percentage of Portfolio at 12.5% fractional kelly: 19.79%\n"
          ]
        }
      ]
    },
    {
      "cell_type": "code",
      "source": [],
      "metadata": {
        "id": "SFKyezA5lGEe"
      },
      "execution_count": 1,
      "outputs": []
    }
  ]
}