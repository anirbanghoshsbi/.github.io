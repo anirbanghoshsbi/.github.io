{
  "nbformat": 4,
  "nbformat_minor": 0,
  "metadata": {
    "colab": {
      "name": "sklearn for support resistance.ipynb",
      "provenance": [],
      "authorship_tag": "ABX9TyM+aUgiUc1bxU+0HWU9oyUC",
      "include_colab_link": true
    },
    "kernelspec": {
      "name": "python3",
      "display_name": "Python 3"
    },
    "language_info": {
      "name": "python"
    }
  },
  "cells": [
    {
      "cell_type": "markdown",
      "metadata": {
        "id": "view-in-github",
        "colab_type": "text"
      },
      "source": [
        "<a href=\"https://colab.research.google.com/github/anirbanghoshsbi/.github.io/blob/master/work/unsupervised_learning/kmeans%7B50%20Days_pct_chg_nifty%7D.ipynb\" target=\"_parent\"><img src=\"https://colab.research.google.com/assets/colab-badge.svg\" alt=\"Open In Colab\"/></a>"
      ]
    },
    {
      "cell_type": "code",
      "source": [
        "!pip install kneed -q\n"
      ],
      "metadata": {
        "id": "CuKsMT8Atv8-"
      },
      "execution_count": 1,
      "outputs": []
    },
    {
      "cell_type": "code",
      "source": [
        "!pip install yfinance -q"
      ],
      "metadata": {
        "id": "AEg7RkxXtp6X",
        "outputId": "a5f7e1d6-5088-4c3d-99b4-cd629157367a",
        "colab": {
          "base_uri": "https://localhost:8080/"
        }
      },
      "execution_count": 2,
      "outputs": [
        {
          "output_type": "stream",
          "name": "stdout",
          "text": [
            "\u001b[?25l\r\u001b[K     |█████▏                          | 10 kB 17.9 MB/s eta 0:00:01\r\u001b[K     |██████████▍                     | 20 kB 21.4 MB/s eta 0:00:01\r\u001b[K     |███████████████▋                | 30 kB 25.2 MB/s eta 0:00:01\r\u001b[K     |████████████████████▉           | 40 kB 22.6 MB/s eta 0:00:01\r\u001b[K     |██████████████████████████      | 51 kB 5.0 MB/s eta 0:00:01\r\u001b[K     |███████████████████████████████▎| 61 kB 5.8 MB/s eta 0:00:01\r\u001b[K     |████████████████████████████████| 62 kB 1.0 MB/s \n",
            "\u001b[?25h"
          ]
        }
      ]
    },
    {
      "cell_type": "code",
      "source": [
        "import pandas as pd\n",
        "import numpy as np\n",
        "from sklearn.preprocessing import StandardScaler\n",
        "import warnings\n",
        "warnings.filterwarnings('ignore')"
      ],
      "metadata": {
        "id": "RUTkYQU7uDC-"
      },
      "execution_count": 3,
      "outputs": []
    },
    {
      "cell_type": "code",
      "source": [
        "sc=StandardScaler()"
      ],
      "metadata": {
        "id": "l1jurmydC3zz"
      },
      "execution_count": 4,
      "outputs": []
    },
    {
      "cell_type": "code",
      "execution_count": 5,
      "metadata": {
        "id": "j8Py_v5Htmuk",
        "colab": {
          "base_uri": "https://localhost:8080/"
        },
        "outputId": "11a5c946-7800-4b1d-ceb0-685c54e17f95"
      },
      "outputs": [
        {
          "output_type": "stream",
          "name": "stdout",
          "text": [
            "\r[*********************100%***********************]  1 of 1 completed\n"
          ]
        }
      ],
      "source": [
        "import yfinance as yf\n",
        "df =yf.download('^nsei','2012-01-01')\n",
        "X = np.array((df['Close'].pct_change(104)).dropna()) #  -df['Close'].rolling(window=200).mean()).dropna()\n",
        "X=sc.fit_transform(X.reshape(-1,1))\n",
        "from sklearn.cluster import KMeans \n",
        "from kneed import DataGenerator, KneeLocator"
      ]
    },
    {
      "cell_type": "code",
      "source": [
        "sum_of_squared_distances = []\n",
        "K = range(1,15)\n",
        "for k in K:\n",
        "    km = KMeans(n_clusters=k)\n",
        "    km = km.fit(X)\n",
        "    sum_of_squared_distances.append(km.inertia_)\n",
        "kn = KneeLocator(K, sum_of_squared_distances,S=1.0, curve=\"convex\", direction=\"decreasing\")\n",
        "kn.plot_knee()\n",
        "#plt.plot(sum_of_squared_distances)"
      ],
      "metadata": {
        "colab": {
          "base_uri": "https://localhost:8080/",
          "height": 390
        },
        "id": "9fKUq-RIuNaD",
        "outputId": "53635136-362e-4f12-b5ce-282a07b94af8"
      },
      "execution_count": 6,
      "outputs": [
        {
          "output_type": "display_data",
          "data": {
            "text/plain": [
              "<Figure size 432x432 with 1 Axes>"
            ],
            "image/png": "[encoded data removed]"
          },
          "metadata": {
            "needs_background": "light"
          }
        }
      ]
    },
    {
      "cell_type": "code",
      "source": [
        "kn.knee"
      ],
      "metadata": {
        "colab": {
          "base_uri": "https://localhost:8080/"
        },
        "id": "z-Z4f2j-u_h2",
        "outputId": "010968e2-ad9a-474d-826d-db8b7b397873"
      },
      "execution_count": 7,
      "outputs": [
        {
          "output_type": "execute_result",
          "data": {
            "text/plain": [
              "4"
            ]
          },
          "metadata": {},
          "execution_count": 7
        }
      ]
    },
    {
      "cell_type": "code",
      "source": [
        "kmeans = KMeans(n_clusters= kn.knee).fit(X.reshape(-1,1))\n",
        "c = kmeans.predict(X.reshape(-1,1))\n",
        "\n",
        "minmax = []\n",
        "for i in range(kn.knee):\n",
        "    minmax.append([-np.inf,np.inf])\n",
        "for i in range(len(X)):\n",
        "    cluster = c[i]\n",
        "    if X[i] > minmax[cluster][0]:\n",
        "        minmax[cluster][0] = X[i]\n",
        "    if X[i] < minmax[cluster][1]:\n",
        "        minmax[cluster][1] = X[i]"
      ],
      "metadata": {
        "id": "-JiwsCM0uYnH"
      },
      "execution_count": 8,
      "outputs": []
    },
    {
      "cell_type": "code",
      "source": [
        "import matplotlib\n",
        "from matplotlib import pyplot as plt\n",
        "plt.figure(figsize=(10,5))\n",
        "for i in range(len(X[:])):\n",
        "    numbers=[1,2,3,4]\n",
        "    colors = ['b','k','r','c']\n",
        "    #3---> red,2----> black,4--->cyan,1--->blue\n",
        "    c = kmeans.predict(X[i].reshape(-1,1))[0]\n",
        "    \n",
        "    color = colors[c]\n",
        "    plt.scatter(i,X[i],c = color,cmap=matplotlib.colors.ListedColormap(numbers),s = 1)\n",
        "    plt.scatter(len(X)-1,X[len(X)-1],c='y')"
      ],
      "metadata": {
        "colab": {
          "base_uri": "https://localhost:8080/",
          "height": 320
        },
        "id": "4_y2P3xL1jCy",
        "outputId": "7ce0ce96-76d3-4729-a21b-6de10353c409"
      },
      "execution_count": 9,
      "outputs": [
        {
          "output_type": "display_data",
          "data": {
            "text/plain": [
              "<Figure size 720x360 with 1 Axes>"
            ],
            "image/png": "[encoded data removed]"
          },
          "metadata": {
            "needs_background": "light"
          }
        }
      ]
    },
    {
      "cell_type": "code",
      "source": [
        "df['cluster']=np.nan\n",
        "df=df[-len(X):]\n",
        "print(df.shape)"
      ],
      "metadata": {
        "colab": {
          "base_uri": "https://localhost:8080/"
        },
        "id": "CqV9gZrrVDGu",
        "outputId": "30a3484c-4d0b-4fab-d28a-8dacdca3efca"
      },
      "execution_count": 10,
      "outputs": [
        {
          "output_type": "stream",
          "name": "stdout",
          "text": [
            "(2563, 7)\n"
          ]
        }
      ]
    },
    {
      "cell_type": "code",
      "source": [
        "for i in range(len(X[:])):\n",
        "    colors = [1,2,3,4]\n",
        "    c = kmeans.predict(X[i].reshape(-1,1))[0]\n",
        "    \n",
        "    color = colors[c]\n",
        "    df['cluster'][i]=color\n",
        "    #plt.scatter(i,X[i],c = color,s = 1)\n",
        "    #plt.scatter(len(X)-1,X[len(X)-1],c='y')"
      ],
      "metadata": {
        "id": "CbrBL_XSUlcv"
      },
      "execution_count": 11,
      "outputs": []
    },
    {
      "cell_type": "code",
      "source": [
        "df.to_csv('data.csv')"
      ],
      "metadata": {
        "id": "CJOik7M2WGen"
      },
      "execution_count": 12,
      "outputs": []
    },
    {
      "cell_type": "code",
      "source": [
        "sc.inverse_transform(X[[-1]])"
      ],
      "metadata": {
        "colab": {
          "base_uri": "https://localhost:8080/"
        },
        "id": "_cc1kg-Y1hTD",
        "outputId": "b18b64fe-859c-4051-83d8-e404a0d03e51"
      },
      "execution_count": 13,
      "outputs": [
        {
          "output_type": "execute_result",
          "data": {
            "text/plain": [
              "array([[0.19708702]])"
            ]
          },
          "metadata": {},
          "execution_count": 13
        }
      ]
    },
    {
      "cell_type": "code",
      "source": [
        "#df['cluster'].value_counts()"
      ],
      "metadata": {
        "id": "rZBqoEuRRfwf"
      },
      "execution_count": 14,
      "outputs": []
    },
    {
      "cell_type": "code",
      "source": [
        "df['percentage_change']=df['Close'].pct_change(104)"
      ],
      "metadata": {
        "id": "Q_q0Cib6ObqO"
      },
      "execution_count": 15,
      "outputs": []
    },
    {
      "cell_type": "markdown",
      "source": [
        "# Top\n",
        "##count    332.000000\n",
        "\n",
        "##mean       0.236613\n",
        "\n",
        "##std        0.053404\n",
        "\n",
        "##min        0.165785\n",
        "\n",
        "##25%        0.196565\n",
        "\n",
        "##50%        0.228774\n",
        "\n",
        "##75%        0.262859\n",
        "\n",
        "##max        0.506711"
      ],
      "metadata": {
        "id": "2R4ikv5cpwKt"
      }
    },
    {
      "cell_type": "markdown",
      "source": [
        "#next to top\n",
        "##count    1049.000000\n",
        "##mean        0.095013\n",
        "##std         0.032521\n",
        "##min         0.037438\n",
        "##25%         0.068647\n",
        "##50%         0.094532\n",
        "##75%         0.120761\n",
        "##max         0.164591"
      ],
      "metadata": {
        "id": "R87lCW2wqIr1"
      }
    },
    {
      "cell_type": "markdown",
      "source": [
        "#next to bottom\n",
        "##count    950.000000\n",
        "##mean      -0.021073\n",
        "##std        0.034550\n",
        "##min       -0.100134\n",
        "##25%       -0.046875\n",
        "##50%       -0.018104\n",
        "##75%        0.007315\n",
        "##max        0.037047"
      ],
      "metadata": {
        "id": "HfAcM0-5qbRF"
      }
    },
    {
      "cell_type": "markdown",
      "source": [
        "#bottom\n",
        "##count    120.000000\n",
        "##mean      -0.182758\n",
        "##std        0.061700\n",
        "##min       -0.343284\n",
        "##25%       -0.232899\n",
        "##50%       -0.171428\n",
        "##75%       -0.123887\n",
        "##max       -0.105458"
      ],
      "metadata": {
        "id": "cBO0goWvqxzd"
      }
    },
    {
      "cell_type": "code",
      "source": [
        "df.loc[df['cluster'] ==1]['percentage_change'].describe() #top "
      ],
      "metadata": {
        "colab": {
          "base_uri": "https://localhost:8080/"
        },
        "id": "xqQBNTAlxUKs",
        "outputId": "8c0a278c-fb82-428a-9ac0-db9783391dbc"
      },
      "execution_count": 16,
      "outputs": [
        {
          "output_type": "execute_result",
          "data": {
            "text/plain": [
              "count    120.000000\n",
              "mean      -0.182758\n",
              "std        0.061700\n",
              "min       -0.343284\n",
              "25%       -0.232899\n",
              "50%       -0.171428\n",
              "75%       -0.123887\n",
              "max       -0.105458\n",
              "Name: percentage_change, dtype: float64"
            ]
          },
          "metadata": {},
          "execution_count": 16
        }
      ]
    },
    {
      "cell_type": "code",
      "source": [
        "df.loc[df['cluster'] ==4]['percentage_change'].describe() #next to top"
      ],
      "metadata": {
        "colab": {
          "base_uri": "https://localhost:8080/"
        },
        "id": "tGku5Auce4Y3",
        "outputId": "0900b939-ba87-412e-c4f2-225d51e8e8da"
      },
      "execution_count": 17,
      "outputs": [
        {
          "output_type": "execute_result",
          "data": {
            "text/plain": [
              "count    953.000000\n",
              "mean      -0.020889\n",
              "std        0.034651\n",
              "min       -0.100134\n",
              "25%       -0.046857\n",
              "50%       -0.017935\n",
              "75%        0.007628\n",
              "max        0.037514\n",
              "Name: percentage_change, dtype: float64"
            ]
          },
          "metadata": {},
          "execution_count": 17
        }
      ]
    },
    {
      "cell_type": "code",
      "source": [
        "df.loc[df['cluster'] ==2]['percentage_change'].describe() #next to bottom"
      ],
      "metadata": {
        "colab": {
          "base_uri": "https://localhost:8080/"
        },
        "id": "RT5Wb-HJex46",
        "outputId": "c44a78c1-e792-4c1e-92b2-df6df28d6441"
      },
      "execution_count": 18,
      "outputs": [
        {
          "output_type": "execute_result",
          "data": {
            "text/plain": [
              "count    1050.000000\n",
              "mean        0.095290\n",
              "std         0.032448\n",
              "min         0.038042\n",
              "25%         0.068934\n",
              "50%         0.094755\n",
              "75%         0.120819\n",
              "max         0.164591\n",
              "Name: percentage_change, dtype: float64"
            ]
          },
          "metadata": {},
          "execution_count": 18
        }
      ]
    },
    {
      "cell_type": "code",
      "source": [
        "df.loc[df['cluster'] ==3]['percentage_change'].describe() #red (bottom)"
      ],
      "metadata": {
        "colab": {
          "base_uri": "https://localhost:8080/"
        },
        "id": "xyXDNcUKe28Y",
        "outputId": "b94938f8-c0ec-49aa-fe56-86efbfe963cf"
      },
      "execution_count": 19,
      "outputs": [
        {
          "output_type": "execute_result",
          "data": {
            "text/plain": [
              "count    336.000000\n",
              "mean       0.235982\n",
              "std        0.053413\n",
              "min        0.165785\n",
              "25%        0.195537\n",
              "50%        0.225216\n",
              "75%        0.262466\n",
              "max        0.506711\n",
              "Name: percentage_change, dtype: float64"
            ]
          },
          "metadata": {},
          "execution_count": 19
        }
      ]
    },
    {
      "cell_type": "code",
      "source": [
        "df_new=df[-700:].copy()\n",
        "X_new=X[-700:]"
      ],
      "metadata": {
        "id": "WqX1FadZ_tWI"
      },
      "execution_count": 20,
      "outputs": []
    },
    {
      "cell_type": "code",
      "source": [
        "plt.figure(figsize=(10,5))\n",
        "for i in range(len(df_new)):\n",
        "    numbers=[1,2,3,4]\n",
        "    colors = ['b','k','r','c']\n",
        "    c = kmeans.predict(X_new[i].reshape(-1,1))[0]\n",
        "    color = colors[c]\n",
        "    \n",
        "    plt.scatter(i,df_new['Close'].iloc[i],c = color,cmap=matplotlib.colors.ListedColormap(numbers),s =10)\n",
        "df_new['Close'].reset_index(drop=True).plot(color='y',lw=0.5); \n",
        "plt.savefig('cluster_image.png')"
      ],
      "metadata": {
        "colab": {
          "base_uri": "https://localhost:8080/",
          "height": 320
        },
        "id": "yi0jrrzt-ixl",
        "outputId": "3e2de5af-7f3c-4b3a-9a80-5f7bc99063b9"
      },
      "execution_count": 21,
      "outputs": [
        {
          "output_type": "display_data",
          "data": {
            "text/plain": [
              "<Figure size 720x360 with 1 Axes>"
            ],
            "image/png": "[encoded data removed]"
          },
          "metadata": {
            "needs_background": "light"
          }
        }
      ]
    },
    {
      "cell_type": "code",
      "source": [
        "df_new[['cluster','percentage_change']][-100:].plot(secondary_y=['percentage_change'],legend=False);"
      ],
      "metadata": {
        "id": "arZtp79SARSs",
        "outputId": "a250ffdd-d012-46b6-82ec-322328e84c75",
        "colab": {
          "base_uri": "https://localhost:8080/",
          "height": 277
        }
      },
      "execution_count": 22,
      "outputs": [
        {
          "output_type": "display_data",
          "data": {
            "text/plain": [
              "<Figure size 432x288 with 2 Axes>"
            ],
            "image/png": "[encoded data removed]"
          },
          "metadata": {
            "needs_background": "light"
          }
        }
      ]
    },
    {
      "cell_type": "code",
      "source": [
        "df[['cluster','percentage_change']].value_counts()"
      ],
      "metadata": {
        "colab": {
          "base_uri": "https://localhost:8080/"
        },
        "id": "zYG3Zi3xbQ-3",
        "outputId": "78f8a0c5-5bc5-4895-ac3b-0ff632ba2a00"
      },
      "execution_count": 23,
      "outputs": [
        {
          "output_type": "execute_result",
          "data": {
            "text/plain": [
              "cluster  percentage_change\n",
              "1.0      -0.343284            1\n",
              "4.0      -0.062106            1\n",
              "         -0.063143            1\n",
              "         -0.062938            1\n",
              "         -0.062889            1\n",
              "                             ..\n",
              "2.0       0.110673            1\n",
              "          0.110804            1\n",
              "          0.110833            1\n",
              "          0.110938            1\n",
              "4.0       0.037514            1\n",
              "Length: 2459, dtype: int64"
            ]
          },
          "metadata": {},
          "execution_count": 23
        }
      ]
    },
    {
      "cell_type": "code",
      "source": [
        "df_new.tail(2)"
      ],
      "metadata": {
        "colab": {
          "base_uri": "https://localhost:8080/",
          "height": 143
        },
        "id": "73qV92lne50I",
        "outputId": "13e72841-70db-4756-bf0b-0aaf49001dd8"
      },
      "execution_count": 24,
      "outputs": [
        {
          "output_type": "execute_result",
          "data": {
            "text/plain": [
              "                    Open          High           Low         Close  \\\n",
              "Date                                                                 \n",
              "2022-11-17  18358.699219  18417.599609  18312.949219  18343.900391   \n",
              "2022-11-18  18382.949219  18394.599609  18209.800781  18307.650391   \n",
              "\n",
              "               Adj Close  Volume  cluster  percentage_change  \n",
              "Date                                                          \n",
              "2022-11-17  18343.900391  200500      3.0           0.194218  \n",
              "2022-11-18  18307.650391       0      3.0           0.197087  "
            ],
            "text/html": [
              "\n",
              "  <div id=\"df-cffbc81e-c6bb-49f6-bf02-5d7c89139c9e\">\n",
              "    <div class=\"colab-df-container\">\n",
              "      <div>\n",
              "<style scoped>\n",
              "    .dataframe tbody tr th:only-of-type {\n",
              "        vertical-align: middle;\n",
              "    }\n",
              "\n",
              "    .dataframe tbody tr th {\n",
              "        vertical-align: top;\n",
              "    }\n",
              "\n",
              "    .dataframe thead th {\n",
              "        text-align: right;\n",
              "    }\n",
              "</style>\n",
              "<table border=\"1\" class=\"dataframe\">\n",
              "  <thead>\n",
              "    <tr style=\"text-align: right;\">\n",
              "      <th></th>\n",
              "      <th>Open</th>\n",
              "      <th>High</th>\n",
              "      <th>Low</th>\n",
              "      <th>Close</th>\n",
              "      <th>Adj Close</th>\n",
              "      <th>Volume</th>\n",
              "      <th>cluster</th>\n",
              "      <th>percentage_change</th>\n",
              "    </tr>\n",
              "    <tr>\n",
              "      <th>Date</th>\n",
              "      <th></th>\n",
              "      <th></th>\n",
              "      <th></th>\n",
              "      <th></th>\n",
              "      <th></th>\n",
              "      <th></th>\n",
              "      <th></th>\n",
              "      <th></th>\n",
              "    </tr>\n",
              "  </thead>\n",
              "  <tbody>\n",
              "    <tr>\n",
              "      <th>2022-11-17</th>\n",
              "      <td>18358.699219</td>\n",
              "      <td>18417.599609</td>\n",
              "      <td>18312.949219</td>\n",
              "      <td>18343.900391</td>\n",
              "      <td>18343.900391</td>\n",
              "      <td>200500</td>\n",
              "      <td>3.0</td>\n",
              "      <td>0.194218</td>\n",
              "    </tr>\n",
              "    <tr>\n",
              "      <th>2022-11-18</th>\n",
              "      <td>18382.949219</td>\n",
              "      <td>18394.599609</td>\n",
              "      <td>18209.800781</td>\n",
              "      <td>18307.650391</td>\n",
              "      <td>18307.650391</td>\n",
              "      <td>0</td>\n",
              "      <td>3.0</td>\n",
              "      <td>0.197087</td>\n",
              "    </tr>\n",
              "  </tbody>\n",
              "</table>\n",
              "</div>\n",
              "      <button class=\"colab-df-convert\" onclick=\"convertToInteractive('df-cffbc81e-c6bb-49f6-bf02-5d7c89139c9e')\"\n",
              "              title=\"Convert this dataframe to an interactive table.\"\n",
              "              style=\"display:none;\">\n",
              "        \n",
              "  <svg xmlns=\"http://www.w3.org/2000/svg\" height=\"24px\"viewBox=\"0 0 24 24\"\n",
              "       width=\"24px\">\n",
              "    <path d=\"M0 0h24v24H0V0z\" fill=\"none\"/>\n",
              "    <path d=\"M18.56 5.44l.94 2.06.94-2.06 2.06-.94-2.06-.94-.94-2.06-.94 2.06-2.06.94zm-11 1L8.5 8.5l.94-2.06 2.06-.94-2.06-.94L8.5 2.5l-.94 2.06-2.06.94zm10 10l.94 2.06.94-2.06 2.06-.94-2.06-.94-.94-2.06-.94 2.06-2.06.94z\"/><path d=\"M17.41 7.96l-1.37-1.37c-.4-.4-.92-.59-1.43-.59-.52 0-1.04.2-1.43.59L10.3 9.45l-7.72 7.72c-.78.78-.78 2.05 0 2.83L4 21.41c.39.39.9.59 1.41.59.51 0 1.02-.2 1.41-.59l7.78-7.78 2.81-2.81c.8-.78.8-2.07 0-2.86zM5.41 20L4 18.59l7.72-7.72 1.47 1.35L5.41 20z\"/>\n",
              "  </svg>\n",
              "      </button>\n",
              "      \n",
              "  <style>\n",
              "    .colab-df-container {\n",
              "      display:flex;\n",
              "      flex-wrap:wrap;\n",
              "      gap: 12px;\n",
              "    }\n",
              "\n",
              "    .colab-df-convert {\n",
              "      background-color: #E8F0FE;\n",
              "      border: none;\n",
              "      border-radius: 50%;\n",
              "      cursor: pointer;\n",
              "      display: none;\n",
              "      fill: #1967D2;\n",
              "      height: 32px;\n",
              "      padding: 0 0 0 0;\n",
              "      width: 32px;\n",
              "    }\n",
              "\n",
              "    .colab-df-convert:hover {\n",
              "      background-color: #E2EBFA;\n",
              "      box-shadow: 0px 1px 2px rgba(60, 64, 67, 0.3), 0px 1px 3px 1px rgba(60, 64, 67, 0.15);\n",
              "      fill: #174EA6;\n",
              "    }\n",
              "\n",
              "    [theme=dark] .colab-df-convert {\n",
              "      background-color: #3B4455;\n",
              "      fill: #D2E3FC;\n",
              "    }\n",
              "\n",
              "    [theme=dark] .colab-df-convert:hover {\n",
              "      background-color: #434B5C;\n",
              "      box-shadow: 0px 1px 3px 1px rgba(0, 0, 0, 0.15);\n",
              "      filter: drop-shadow(0px 1px 2px rgba(0, 0, 0, 0.3));\n",
              "      fill: #FFFFFF;\n",
              "    }\n",
              "  </style>\n",
              "\n",
              "      <script>\n",
              "        const buttonEl =\n",
              "          document.querySelector('#df-cffbc81e-c6bb-49f6-bf02-5d7c89139c9e button.colab-df-convert');\n",
              "        buttonEl.style.display =\n",
              "          google.colab.kernel.accessAllowed ? 'block' : 'none';\n",
              "\n",
              "        async function convertToInteractive(key) {\n",
              "          const element = document.querySelector('#df-cffbc81e-c6bb-49f6-bf02-5d7c89139c9e');\n",
              "          const dataTable =\n",
              "            await google.colab.kernel.invokeFunction('convertToInteractive',\n",
              "                                                     [key], {});\n",
              "          if (!dataTable) return;\n",
              "\n",
              "          const docLinkHtml = 'Like what you see? Visit the ' +\n",
              "            '<a target=\"_blank\" href=https://colab.research.google.com/notebooks/data_table.ipynb>data table notebook</a>'\n",
              "            + ' to learn more about interactive tables.';\n",
              "          element.innerHTML = '';\n",
              "          dataTable['output_type'] = 'display_data';\n",
              "          await google.colab.output.renderOutput(dataTable, element);\n",
              "          const docLink = document.createElement('div');\n",
              "          docLink.innerHTML = docLinkHtml;\n",
              "          element.appendChild(docLink);\n",
              "        }\n",
              "      </script>\n",
              "    </div>\n",
              "  </div>\n",
              "  "
            ]
          },
          "metadata": {},
          "execution_count": 24
        }
      ]
    },
    {
      "cell_type": "code",
      "source": [
        "0.037438<0.093400<0.164591"
      ],
      "metadata": {
        "colab": {
          "base_uri": "https://localhost:8080/"
        },
        "id": "W_HAD6bBgD6Q",
        "outputId": "438f8f24-902b-40b6-90be-be0738e7afe8"
      },
      "execution_count": 25,
      "outputs": [
        {
          "output_type": "execute_result",
          "data": {
            "text/plain": [
              "True"
            ]
          },
          "metadata": {},
          "execution_count": 25
        }
      ]
    },
    {
      "cell_type": "code",
      "source": [
        "0.164591"
      ],
      "metadata": {
        "id": "k0aeMYvegmVI",
        "outputId": "5ca60fd3-83a7-43e6-8ed0-a0805fec5865",
        "colab": {
          "base_uri": "https://localhost:8080/"
        }
      },
      "execution_count": 26,
      "outputs": [
        {
          "output_type": "execute_result",
          "data": {
            "text/plain": [
              "0.164591"
            ]
          },
          "metadata": {},
          "execution_count": 26
        }
      ]
    }
  ]
}