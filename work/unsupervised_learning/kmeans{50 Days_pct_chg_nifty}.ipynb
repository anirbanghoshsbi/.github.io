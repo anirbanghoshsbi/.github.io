{
  "nbformat": 4,
  "nbformat_minor": 0,
  "metadata": {
    "colab": {
      "name": "sklearn for support resistance.ipynb",
      "provenance": [],
      "authorship_tag": "ABX9TyM+aUgiUc1bxU+0HWU9oyUC",
      "include_colab_link": true
    },
    "kernelspec": {
      "name": "python3",
      "display_name": "Python 3"
    },
    "language_info": {
      "name": "python"
    }
  },
  "cells": [
    {
      "cell_type": "markdown",
      "metadata": {
        "id": "view-in-github",
        "colab_type": "text"
      },
      "source": [
        "<a href=\"https://colab.research.google.com/github/anirbanghoshsbi/.github.io/blob/master/work/unsupervised_learning/kmeans%7B50%20Days_pct_chg_nifty%7D.ipynb\" target=\"_parent\"><img src=\"https://colab.research.google.com/assets/colab-badge.svg\" alt=\"Open In Colab\"/></a>"
      ]
    },
    {
      "cell_type": "code",
      "source": [
        "!pip install kneed -q\n"
      ],
      "metadata": {
        "id": "CuKsMT8Atv8-"
      },
      "execution_count": 375,
      "outputs": []
    },
    {
      "cell_type": "code",
      "source": [
        "!pip install yfinance -q"
      ],
      "metadata": {
        "id": "AEg7RkxXtp6X"
      },
      "execution_count": 376,
      "outputs": []
    },
    {
      "cell_type": "code",
      "source": [
        "import pandas as pd\n",
        "import numpy as np\n",
        "from sklearn.preprocessing import StandardScaler\n",
        "import warnings\n",
        "warnings.filterwarnings('ignore')"
      ],
      "metadata": {
        "id": "RUTkYQU7uDC-"
      },
      "execution_count": 377,
      "outputs": []
    },
    {
      "cell_type": "code",
      "source": [
        "sc=StandardScaler()"
      ],
      "metadata": {
        "id": "l1jurmydC3zz"
      },
      "execution_count": 378,
      "outputs": []
    },
    {
      "cell_type": "code",
      "execution_count": 379,
      "metadata": {
        "id": "j8Py_v5Htmuk",
        "colab": {
          "base_uri": "https://localhost:8080/"
        },
        "outputId": "5ca684ec-3bb3-4163-875f-d1a8180c67ef"
      },
      "outputs": [
        {
          "output_type": "stream",
          "name": "stdout",
          "text": [
            "\r[*********************100%***********************]  1 of 1 completed\n"
          ]
        }
      ],
      "source": [
        "import yfinance as yf\n",
        "df =yf.download('^nsei','2012-01-01')\n",
        "X = np.array((df['Close'].pct_change(104)).dropna()) #  -df['Close'].rolling(window=200).mean()).dropna()\n",
        "X=sc.fit_transform(X.reshape(-1,1))\n",
        "from sklearn.cluster import KMeans \n",
        "from kneed import DataGenerator, KneeLocator"
      ]
    },
    {
      "cell_type": "code",
      "source": [
        "sum_of_squared_distances = []\n",
        "K = range(1,15)\n",
        "for k in K:\n",
        "    km = KMeans(n_clusters=k)\n",
        "    km = km.fit(X)\n",
        "    sum_of_squared_distances.append(km.inertia_)\n",
        "kn = KneeLocator(K, sum_of_squared_distances,S=1.0, curve=\"convex\", direction=\"decreasing\")\n",
        "kn.plot_knee()\n",
        "#plt.plot(sum_of_squared_distances)"
      ],
      "metadata": {
        "colab": {
          "base_uri": "https://localhost:8080/",
          "height": 390
        },
        "id": "9fKUq-RIuNaD",
        "outputId": "bc8d3368-3104-48cf-dd27-796803fe7009"
      },
      "execution_count": 380,
      "outputs": [
        {
          "output_type": "display_data",
          "data": {
            "text/plain": [
              "<Figure size 432x432 with 1 Axes>"
            ],
            "image/png": "[encoded data removed]"
          },
          "metadata": {
            "needs_background": "light"
          }
        }
      ]
    },
    {
      "cell_type": "code",
      "source": [
        "kn.knee"
      ],
      "metadata": {
        "colab": {
          "base_uri": "https://localhost:8080/"
        },
        "id": "z-Z4f2j-u_h2",
        "outputId": "dec78b0a-ea0a-40aa-da49-27d2684bc58f"
      },
      "execution_count": 381,
      "outputs": [
        {
          "output_type": "execute_result",
          "data": {
            "text/plain": [
              "4"
            ]
          },
          "metadata": {},
          "execution_count": 381
        }
      ]
    },
    {
      "cell_type": "code",
      "source": [
        "kmeans = KMeans(n_clusters= kn.knee).fit(X.reshape(-1,1))\n",
        "c = kmeans.predict(X.reshape(-1,1))\n",
        "\n",
        "minmax = []\n",
        "for i in range(kn.knee):\n",
        "    minmax.append([-np.inf,np.inf])\n",
        "for i in range(len(X)):\n",
        "    cluster = c[i]\n",
        "    if X[i] > minmax[cluster][0]:\n",
        "        minmax[cluster][0] = X[i]\n",
        "    if X[i] < minmax[cluster][1]:\n",
        "        minmax[cluster][1] = X[i]"
      ],
      "metadata": {
        "id": "-JiwsCM0uYnH"
      },
      "execution_count": 382,
      "outputs": []
    },
    {
      "cell_type": "code",
      "source": [
        "import matplotlib\n",
        "from matplotlib import pyplot as plt\n",
        "plt.figure(figsize=(10,5))\n",
        "for i in range(len(X[:])):\n",
        "    numbers=[1,2,3,4]\n",
        "    colors = ['b','k','r','c']\n",
        "    #3---> red,2----> black,4--->cyan,1--->blue\n",
        "    c = kmeans.predict(X[i].reshape(-1,1))[0]\n",
        "    \n",
        "    color = colors[c]\n",
        "    plt.scatter(i,X[i],c = color,cmap=matplotlib.colors.ListedColormap(numbers),s = 1)\n",
        "    plt.scatter(len(X)-1,X[len(X)-1],c='y')"
      ],
      "metadata": {
        "colab": {
          "base_uri": "https://localhost:8080/",
          "height": 320
        },
        "id": "4_y2P3xL1jCy",
        "outputId": "7ea31565-d2dd-44b6-c0eb-a701d2ad5207"
      },
      "execution_count": 383,
      "outputs": [
        {
          "output_type": "display_data",
          "data": {
            "text/plain": [
              "<Figure size 720x360 with 1 Axes>"
            ],
            "image/png": "[encoded data removed]"
          },
          "metadata": {
            "needs_background": "light"
          }
        }
      ]
    },
    {
      "cell_type": "code",
      "source": [
        "df['cluster']=np.nan\n",
        "df=df[-len(X):]\n",
        "print(df.shape)"
      ],
      "metadata": {
        "colab": {
          "base_uri": "https://localhost:8080/"
        },
        "id": "CqV9gZrrVDGu",
        "outputId": "8c191961-2c69-40ad-aded-6a7ab6fcf7d8"
      },
      "execution_count": 384,
      "outputs": [
        {
          "output_type": "stream",
          "name": "stdout",
          "text": [
            "(2555, 7)\n"
          ]
        }
      ]
    },
    {
      "cell_type": "code",
      "source": [
        "for i in range(len(X[:])):\n",
        "    colors = [1,2,3,4]\n",
        "    c = kmeans.predict(X[i].reshape(-1,1))[0]\n",
        "    \n",
        "    color = colors[c]\n",
        "    df['cluster'][i]=color\n",
        "    #plt.scatter(i,X[i],c = color,s = 1)\n",
        "    #plt.scatter(len(X)-1,X[len(X)-1],c='y')"
      ],
      "metadata": {
        "id": "CbrBL_XSUlcv"
      },
      "execution_count": 385,
      "outputs": []
    },
    {
      "cell_type": "code",
      "source": [
        "df.to_csv('data.csv')"
      ],
      "metadata": {
        "id": "CJOik7M2WGen"
      },
      "execution_count": 386,
      "outputs": []
    },
    {
      "cell_type": "code",
      "source": [
        "sc.inverse_transform(X[[-1]])"
      ],
      "metadata": {
        "colab": {
          "base_uri": "https://localhost:8080/"
        },
        "id": "_cc1kg-Y1hTD",
        "outputId": "0f147f06-331c-4218-9ba4-a73de30d12d4"
      },
      "execution_count": 387,
      "outputs": [
        {
          "output_type": "execute_result",
          "data": {
            "text/plain": [
              "array([[0.10882146]])"
            ]
          },
          "metadata": {},
          "execution_count": 387
        }
      ]
    },
    {
      "cell_type": "code",
      "source": [
        "#df['cluster'].value_counts()"
      ],
      "metadata": {
        "id": "rZBqoEuRRfwf"
      },
      "execution_count": 388,
      "outputs": []
    },
    {
      "cell_type": "code",
      "source": [
        "df['percentage_change']=df['Close'].pct_change(104)"
      ],
      "metadata": {
        "id": "Q_q0Cib6ObqO"
      },
      "execution_count": 389,
      "outputs": []
    },
    {
      "cell_type": "markdown",
      "source": [
        "# Top\n",
        "##count    332.000000\n",
        "\n",
        "##mean       0.236613\n",
        "\n",
        "##std        0.053404\n",
        "\n",
        "##min        0.165785\n",
        "\n",
        "##25%        0.196565\n",
        "\n",
        "##50%        0.228774\n",
        "\n",
        "##75%        0.262859\n",
        "\n",
        "##max        0.506711"
      ],
      "metadata": {
        "id": "2R4ikv5cpwKt"
      }
    },
    {
      "cell_type": "markdown",
      "source": [
        "#next to top\n",
        "##count    1049.000000\n",
        "##mean        0.095013\n",
        "##std         0.032521\n",
        "##min         0.037438\n",
        "##25%         0.068647\n",
        "##50%         0.094532\n",
        "##75%         0.120761\n",
        "##max         0.164591"
      ],
      "metadata": {
        "id": "R87lCW2wqIr1"
      }
    },
    {
      "cell_type": "markdown",
      "source": [
        "#next to bottom\n",
        "##count    950.000000\n",
        "##mean      -0.021073\n",
        "##std        0.034550\n",
        "##min       -0.100134\n",
        "##25%       -0.046875\n",
        "##50%       -0.018104\n",
        "##75%        0.007315\n",
        "##max        0.037047"
      ],
      "metadata": {
        "id": "HfAcM0-5qbRF"
      }
    },
    {
      "cell_type": "markdown",
      "source": [
        "#bottom\n",
        "##count    120.000000\n",
        "##mean      -0.182758\n",
        "##std        0.061700\n",
        "##min       -0.343284\n",
        "##25%       -0.232899\n",
        "##50%       -0.171428\n",
        "##75%       -0.123887\n",
        "##max       -0.105458"
      ],
      "metadata": {
        "id": "cBO0goWvqxzd"
      }
    },
    {
      "cell_type": "code",
      "source": [
        "df.loc[df['cluster'] ==1]['percentage_change'].describe() #top "
      ],
      "metadata": {
        "colab": {
          "base_uri": "https://localhost:8080/"
        },
        "id": "xqQBNTAlxUKs",
        "outputId": "417e18e1-02ed-43ee-bead-4213774c5665"
      },
      "execution_count": 390,
      "outputs": [
        {
          "output_type": "execute_result",
          "data": {
            "text/plain": [
              "count    950.000000\n",
              "mean      -0.021073\n",
              "std        0.034550\n",
              "min       -0.100134\n",
              "25%       -0.046875\n",
              "50%       -0.018104\n",
              "75%        0.007315\n",
              "max        0.037047\n",
              "Name: percentage_change, dtype: float64"
            ]
          },
          "metadata": {},
          "execution_count": 390
        }
      ]
    },
    {
      "cell_type": "code",
      "source": [
        "df.loc[df['cluster'] ==4]['percentage_change'].describe() #next to top"
      ],
      "metadata": {
        "colab": {
          "base_uri": "https://localhost:8080/"
        },
        "id": "tGku5Auce4Y3",
        "outputId": "32ff04c0-1054-4891-c199-f7f5b5a1e6e9"
      },
      "execution_count": 391,
      "outputs": [
        {
          "output_type": "execute_result",
          "data": {
            "text/plain": [
              "count    1049.000000\n",
              "mean        0.095013\n",
              "std         0.032521\n",
              "min         0.037438\n",
              "25%         0.068647\n",
              "50%         0.094532\n",
              "75%         0.120761\n",
              "max         0.164591\n",
              "Name: percentage_change, dtype: float64"
            ]
          },
          "metadata": {},
          "execution_count": 391
        }
      ]
    },
    {
      "cell_type": "code",
      "source": [
        "df.loc[df['cluster'] ==2]['percentage_change'].describe() #next to bottom"
      ],
      "metadata": {
        "colab": {
          "base_uri": "https://localhost:8080/"
        },
        "id": "RT5Wb-HJex46",
        "outputId": "f0d80d95-e610-4731-fa52-8d636e36f164"
      },
      "execution_count": 392,
      "outputs": [
        {
          "output_type": "execute_result",
          "data": {
            "text/plain": [
              "count    332.000000\n",
              "mean       0.236613\n",
              "std        0.053404\n",
              "min        0.165785\n",
              "25%        0.196565\n",
              "50%        0.228774\n",
              "75%        0.262859\n",
              "max        0.506711\n",
              "Name: percentage_change, dtype: float64"
            ]
          },
          "metadata": {},
          "execution_count": 392
        }
      ]
    },
    {
      "cell_type": "code",
      "source": [
        "df.loc[df['cluster'] ==3]['percentage_change'].describe() #red (bottom)"
      ],
      "metadata": {
        "colab": {
          "base_uri": "https://localhost:8080/"
        },
        "id": "xyXDNcUKe28Y",
        "outputId": "43694aa9-8c01-4e95-fd46-a2b8e0951eb9"
      },
      "execution_count": 393,
      "outputs": [
        {
          "output_type": "execute_result",
          "data": {
            "text/plain": [
              "count    120.000000\n",
              "mean      -0.182758\n",
              "std        0.061700\n",
              "min       -0.343284\n",
              "25%       -0.232899\n",
              "50%       -0.171428\n",
              "75%       -0.123887\n",
              "max       -0.105458\n",
              "Name: percentage_change, dtype: float64"
            ]
          },
          "metadata": {},
          "execution_count": 393
        }
      ]
    },
    {
      "cell_type": "code",
      "source": [
        "df_new=df[-700:].copy()\n",
        "X_new=X[-700:]"
      ],
      "metadata": {
        "id": "WqX1FadZ_tWI"
      },
      "execution_count": 394,
      "outputs": []
    },
    {
      "cell_type": "code",
      "source": [
        "plt.figure(figsize=(10,5))\n",
        "for i in range(len(df_new)):\n",
        "    numbers=[1,2,3,4]\n",
        "    colors = ['b','k','r','c']\n",
        "    c = kmeans.predict(X_new[i].reshape(-1,1))[0]\n",
        "    color = colors[c]\n",
        "    \n",
        "    plt.scatter(i,df_new['Close'].iloc[i],c = color,cmap=matplotlib.colors.ListedColormap(numbers),s =10)\n",
        "df_new['Close'].reset_index(drop=True).plot(color='y',lw=0.5); \n",
        "plt.savefig('cluster_image.png')"
      ],
      "metadata": {
        "colab": {
          "base_uri": "https://localhost:8080/",
          "height": 320
        },
        "id": "yi0jrrzt-ixl",
        "outputId": "cd2c2ec8-ae96-4329-cf8b-c35cc7d11eda"
      },
      "execution_count": 395,
      "outputs": [
        {
          "output_type": "display_data",
          "data": {
            "text/plain": [
              "<Figure size 720x360 with 1 Axes>"
            ],
            "image/png": "[encoded data removed]"
          },
          "metadata": {
            "needs_background": "light"
          }
        }
      ]
    },
    {
      "cell_type": "code",
      "source": [
        "df_new[['cluster','percentage_change']][-100:].plot(secondary_y=['percentage_change'],legend=False);"
      ],
      "metadata": {
        "id": "arZtp79SARSs",
        "outputId": "5409c802-db9d-4de2-b550-e2960606924d",
        "colab": {
          "base_uri": "https://localhost:8080/",
          "height": 277
        }
      },
      "execution_count": 396,
      "outputs": [
        {
          "output_type": "display_data",
          "data": {
            "text/plain": [
              "<Figure size 432x288 with 2 Axes>"
            ],
            "image/png": "[encoded data removed]"
          },
          "metadata": {
            "needs_background": "light"
          }
        }
      ]
    },
    {
      "cell_type": "code",
      "source": [
        "df[['cluster','percentage_change']].value_counts()"
      ],
      "metadata": {
        "colab": {
          "base_uri": "https://localhost:8080/"
        },
        "id": "zYG3Zi3xbQ-3",
        "outputId": "681fceaf-da9a-47d5-9043-07e6b25e960e"
      },
      "execution_count": 397,
      "outputs": [
        {
          "output_type": "execute_result",
          "data": {
            "text/plain": [
              "cluster  percentage_change\n",
              "1.0      -0.100134            1\n",
              "4.0       0.065511            1\n",
              "          0.064334            1\n",
              "          0.064626            1\n",
              "          0.064715            1\n",
              "                             ..\n",
              "1.0       0.020128            1\n",
              "          0.020270            1\n",
              "          0.020429            1\n",
              "          0.020626            1\n",
              "4.0       0.164591            1\n",
              "Length: 2451, dtype: int64"
            ]
          },
          "metadata": {},
          "execution_count": 397
        }
      ]
    },
    {
      "cell_type": "code",
      "source": [
        "df_new.tail(2)"
      ],
      "metadata": {
        "colab": {
          "base_uri": "https://localhost:8080/",
          "height": 143
        },
        "id": "73qV92lne50I",
        "outputId": "b9f05ed2-53c5-4381-fa56-159da76c6d27"
      },
      "execution_count": 398,
      "outputs": [
        {
          "output_type": "execute_result",
          "data": {
            "text/plain": [
              "                    Open          High           Low         Close  \\\n",
              "Date                                                                 \n",
              "2022-11-04  18053.400391  18135.099609  18017.150391  18117.150391   \n",
              "2022-11-07  18211.750000  18255.500000  18064.750000  18202.800781   \n",
              "\n",
              "               Adj Close  Volume  cluster  percentage_change  \n",
              "Date                                                          \n",
              "2022-11-04  18117.150391  267900      4.0           0.093400  \n",
              "2022-11-07  18202.800781  314800      4.0           0.108821  "
            ],
            "text/html": [
              "\n",
              "  <div id=\"df-bcd6dbc9-fb41-426c-8b88-0dc2475d7519\">\n",
              "    <div class=\"colab-df-container\">\n",
              "      <div>\n",
              "<style scoped>\n",
              "    .dataframe tbody tr th:only-of-type {\n",
              "        vertical-align: middle;\n",
              "    }\n",
              "\n",
              "    .dataframe tbody tr th {\n",
              "        vertical-align: top;\n",
              "    }\n",
              "\n",
              "    .dataframe thead th {\n",
              "        text-align: right;\n",
              "    }\n",
              "</style>\n",
              "<table border=\"1\" class=\"dataframe\">\n",
              "  <thead>\n",
              "    <tr style=\"text-align: right;\">\n",
              "      <th></th>\n",
              "      <th>Open</th>\n",
              "      <th>High</th>\n",
              "      <th>Low</th>\n",
              "      <th>Close</th>\n",
              "      <th>Adj Close</th>\n",
              "      <th>Volume</th>\n",
              "      <th>cluster</th>\n",
              "      <th>percentage_change</th>\n",
              "    </tr>\n",
              "    <tr>\n",
              "      <th>Date</th>\n",
              "      <th></th>\n",
              "      <th></th>\n",
              "      <th></th>\n",
              "      <th></th>\n",
              "      <th></th>\n",
              "      <th></th>\n",
              "      <th></th>\n",
              "      <th></th>\n",
              "    </tr>\n",
              "  </thead>\n",
              "  <tbody>\n",
              "    <tr>\n",
              "      <th>2022-11-04</th>\n",
              "      <td>18053.400391</td>\n",
              "      <td>18135.099609</td>\n",
              "      <td>18017.150391</td>\n",
              "      <td>18117.150391</td>\n",
              "      <td>18117.150391</td>\n",
              "      <td>267900</td>\n",
              "      <td>4.0</td>\n",
              "      <td>0.093400</td>\n",
              "    </tr>\n",
              "    <tr>\n",
              "      <th>2022-11-07</th>\n",
              "      <td>18211.750000</td>\n",
              "      <td>18255.500000</td>\n",
              "      <td>18064.750000</td>\n",
              "      <td>18202.800781</td>\n",
              "      <td>18202.800781</td>\n",
              "      <td>314800</td>\n",
              "      <td>4.0</td>\n",
              "      <td>0.108821</td>\n",
              "    </tr>\n",
              "  </tbody>\n",
              "</table>\n",
              "</div>\n",
              "      <button class=\"colab-df-convert\" onclick=\"convertToInteractive('df-bcd6dbc9-fb41-426c-8b88-0dc2475d7519')\"\n",
              "              title=\"Convert this dataframe to an interactive table.\"\n",
              "              style=\"display:none;\">\n",
              "        \n",
              "  <svg xmlns=\"http://www.w3.org/2000/svg\" height=\"24px\"viewBox=\"0 0 24 24\"\n",
              "       width=\"24px\">\n",
              "    <path d=\"M0 0h24v24H0V0z\" fill=\"none\"/>\n",
              "    <path d=\"M18.56 5.44l.94 2.06.94-2.06 2.06-.94-2.06-.94-.94-2.06-.94 2.06-2.06.94zm-11 1L8.5 8.5l.94-2.06 2.06-.94-2.06-.94L8.5 2.5l-.94 2.06-2.06.94zm10 10l.94 2.06.94-2.06 2.06-.94-2.06-.94-.94-2.06-.94 2.06-2.06.94z\"/><path d=\"M17.41 7.96l-1.37-1.37c-.4-.4-.92-.59-1.43-.59-.52 0-1.04.2-1.43.59L10.3 9.45l-7.72 7.72c-.78.78-.78 2.05 0 2.83L4 21.41c.39.39.9.59 1.41.59.51 0 1.02-.2 1.41-.59l7.78-7.78 2.81-2.81c.8-.78.8-2.07 0-2.86zM5.41 20L4 18.59l7.72-7.72 1.47 1.35L5.41 20z\"/>\n",
              "  </svg>\n",
              "      </button>\n",
              "      \n",
              "  <style>\n",
              "    .colab-df-container {\n",
              "      display:flex;\n",
              "      flex-wrap:wrap;\n",
              "      gap: 12px;\n",
              "    }\n",
              "\n",
              "    .colab-df-convert {\n",
              "      background-color: #E8F0FE;\n",
              "      border: none;\n",
              "      border-radius: 50%;\n",
              "      cursor: pointer;\n",
              "      display: none;\n",
              "      fill: #1967D2;\n",
              "      height: 32px;\n",
              "      padding: 0 0 0 0;\n",
              "      width: 32px;\n",
              "    }\n",
              "\n",
              "    .colab-df-convert:hover {\n",
              "      background-color: #E2EBFA;\n",
              "      box-shadow: 0px 1px 2px rgba(60, 64, 67, 0.3), 0px 1px 3px 1px rgba(60, 64, 67, 0.15);\n",
              "      fill: #174EA6;\n",
              "    }\n",
              "\n",
              "    [theme=dark] .colab-df-convert {\n",
              "      background-color: #3B4455;\n",
              "      fill: #D2E3FC;\n",
              "    }\n",
              "\n",
              "    [theme=dark] .colab-df-convert:hover {\n",
              "      background-color: #434B5C;\n",
              "      box-shadow: 0px 1px 3px 1px rgba(0, 0, 0, 0.15);\n",
              "      filter: drop-shadow(0px 1px 2px rgba(0, 0, 0, 0.3));\n",
              "      fill: #FFFFFF;\n",
              "    }\n",
              "  </style>\n",
              "\n",
              "      <script>\n",
              "        const buttonEl =\n",
              "          document.querySelector('#df-bcd6dbc9-fb41-426c-8b88-0dc2475d7519 button.colab-df-convert');\n",
              "        buttonEl.style.display =\n",
              "          google.colab.kernel.accessAllowed ? 'block' : 'none';\n",
              "\n",
              "        async function convertToInteractive(key) {\n",
              "          const element = document.querySelector('#df-bcd6dbc9-fb41-426c-8b88-0dc2475d7519');\n",
              "          const dataTable =\n",
              "            await google.colab.kernel.invokeFunction('convertToInteractive',\n",
              "                                                     [key], {});\n",
              "          if (!dataTable) return;\n",
              "\n",
              "          const docLinkHtml = 'Like what you see? Visit the ' +\n",
              "            '<a target=\"_blank\" href=https://colab.research.google.com/notebooks/data_table.ipynb>data table notebook</a>'\n",
              "            + ' to learn more about interactive tables.';\n",
              "          element.innerHTML = '';\n",
              "          dataTable['output_type'] = 'display_data';\n",
              "          await google.colab.output.renderOutput(dataTable, element);\n",
              "          const docLink = document.createElement('div');\n",
              "          docLink.innerHTML = docLinkHtml;\n",
              "          element.appendChild(docLink);\n",
              "        }\n",
              "      </script>\n",
              "    </div>\n",
              "  </div>\n",
              "  "
            ]
          },
          "metadata": {},
          "execution_count": 398
        }
      ]
    },
    {
      "cell_type": "code",
      "source": [
        "0.037438<0.093400<0.164591"
      ],
      "metadata": {
        "colab": {
          "base_uri": "https://localhost:8080/"
        },
        "id": "W_HAD6bBgD6Q",
        "outputId": "b5244276-d64d-4ee7-ee3f-e1d724674ae8"
      },
      "execution_count": 401,
      "outputs": [
        {
          "output_type": "execute_result",
          "data": {
            "text/plain": [
              "True"
            ]
          },
          "metadata": {},
          "execution_count": 401
        }
      ]
    },
    {
      "cell_type": "code",
      "source": [
        "0.164591"
      ],
      "metadata": {
        "id": "k0aeMYvegmVI"
      },
      "execution_count": 399,
      "outputs": []
    }
  ]
}