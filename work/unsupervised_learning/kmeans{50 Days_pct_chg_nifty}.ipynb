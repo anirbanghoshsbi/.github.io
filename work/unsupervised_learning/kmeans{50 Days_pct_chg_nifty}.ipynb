{
  "nbformat": 4,
  "nbformat_minor": 0,
  "metadata": {
    "colab": {
      "name": "sklearn for support resistance.ipynb",
      "provenance": [],
      "authorship_tag": "ABX9TyM+aUgiUc1bxU+0HWU9oyUC",
      "include_colab_link": true
    },
    "kernelspec": {
      "name": "python3",
      "display_name": "Python 3"
    },
    "language_info": {
      "name": "python"
    }
  },
  "cells": [
    {
      "cell_type": "markdown",
      "metadata": {
        "id": "view-in-github",
        "colab_type": "text"
      },
      "source": [
        "<a href=\"https://colab.research.google.com/github/anirbanghoshsbi/.github.io/blob/master/work/unsupervised_learning/kmeans%7B50%20Days_pct_chg_nifty%7D.ipynb\" target=\"_parent\"><img src=\"https://colab.research.google.com/assets/colab-badge.svg\" alt=\"Open In Colab\"/></a>"
      ]
    },
    {
      "cell_type": "code",
      "source": [
        "!pip install kneed -q\n"
      ],
      "metadata": {
        "id": "CuKsMT8Atv8-"
      },
      "execution_count": 1,
      "outputs": []
    },
    {
      "cell_type": "code",
      "source": [
        "!pip install yfinance -q"
      ],
      "metadata": {
        "id": "AEg7RkxXtp6X",
        "outputId": "6cdfe0bb-8368-498d-90b6-ca21cb7b4fbc",
        "colab": {
          "base_uri": "https://localhost:8080/"
        }
      },
      "execution_count": 2,
      "outputs": [
        {
          "output_type": "stream",
          "name": "stdout",
          "text": [
            "\u001b[?25l\r\u001b[K     |█████▏                          | 10 kB 20.3 MB/s eta 0:00:01\r\u001b[K     |██████████▍                     | 20 kB 29.3 MB/s eta 0:00:01\r\u001b[K     |███████████████▋                | 30 kB 36.2 MB/s eta 0:00:01\r\u001b[K     |████████████████████▉           | 40 kB 41.7 MB/s eta 0:00:01\r\u001b[K     |██████████████████████████      | 51 kB 43.8 MB/s eta 0:00:01\r\u001b[K     |███████████████████████████████▎| 61 kB 46.9 MB/s eta 0:00:01\r\u001b[K     |████████████████████████████████| 62 kB 1.4 MB/s \n",
            "\u001b[?25h"
          ]
        }
      ]
    },
    {
      "cell_type": "code",
      "source": [
        "import pandas as pd\n",
        "import numpy as np\n",
        "from sklearn.preprocessing import StandardScaler\n",
        "import warnings\n",
        "warnings.filterwarnings('ignore')"
      ],
      "metadata": {
        "id": "RUTkYQU7uDC-"
      },
      "execution_count": 3,
      "outputs": []
    },
    {
      "cell_type": "code",
      "source": [
        "sc=StandardScaler()"
      ],
      "metadata": {
        "id": "l1jurmydC3zz"
      },
      "execution_count": 4,
      "outputs": []
    },
    {
      "cell_type": "code",
      "execution_count": 5,
      "metadata": {
        "id": "j8Py_v5Htmuk",
        "colab": {
          "base_uri": "https://localhost:8080/"
        },
        "outputId": "c6662062-ebff-4c64-95a4-f8a0f3b35a05"
      },
      "outputs": [
        {
          "output_type": "stream",
          "name": "stdout",
          "text": [
            "\r[*********************100%***********************]  1 of 1 completed\n"
          ]
        }
      ],
      "source": [
        "import yfinance as yf\n",
        "df =yf.download('^nsei','2012-01-01')\n",
        "X = np.array((df['Close'].pct_change(104)).dropna()) #  -df['Close'].rolling(window=200).mean()).dropna()\n",
        "X=sc.fit_transform(X.reshape(-1,1))\n",
        "from sklearn.cluster import KMeans \n",
        "from kneed import DataGenerator, KneeLocator"
      ]
    },
    {
      "cell_type": "code",
      "source": [
        "sum_of_squared_distances = []\n",
        "K = range(1,15)\n",
        "for k in K:\n",
        "    km = KMeans(n_clusters=k)\n",
        "    km = km.fit(X)\n",
        "    sum_of_squared_distances.append(km.inertia_)\n",
        "kn = KneeLocator(K, sum_of_squared_distances,S=1.0, curve=\"convex\", direction=\"decreasing\")\n",
        "kn.plot_knee()\n",
        "#plt.plot(sum_of_squared_distances)"
      ],
      "metadata": {
        "colab": {
          "base_uri": "https://localhost:8080/",
          "height": 390
        },
        "id": "9fKUq-RIuNaD",
        "outputId": "ecd3ae5b-d2f9-49de-c376-ad121b6c296f"
      },
      "execution_count": 6,
      "outputs": [
        {
          "output_type": "display_data",
          "data": {
            "text/plain": [
              "<Figure size 432x432 with 1 Axes>"
            ],
            "image/png": "[encoded data removed]"
          },
          "metadata": {
            "needs_background": "light"
          }
        }
      ]
    },
    {
      "cell_type": "code",
      "source": [
        "kn.knee"
      ],
      "metadata": {
        "colab": {
          "base_uri": "https://localhost:8080/"
        },
        "id": "z-Z4f2j-u_h2",
        "outputId": "ca6d06e2-c7dc-4ecb-bc7f-a8b0777ce91a"
      },
      "execution_count": 7,
      "outputs": [
        {
          "output_type": "execute_result",
          "data": {
            "text/plain": [
              "4"
            ]
          },
          "metadata": {},
          "execution_count": 7
        }
      ]
    },
    {
      "cell_type": "code",
      "source": [
        "kmeans = KMeans(n_clusters= kn.knee).fit(X.reshape(-1,1))\n",
        "c = kmeans.predict(X.reshape(-1,1))\n",
        "\n",
        "minmax = []\n",
        "for i in range(kn.knee):\n",
        "    minmax.append([-np.inf,np.inf])\n",
        "for i in range(len(X)):\n",
        "    cluster = c[i]\n",
        "    if X[i] > minmax[cluster][0]:\n",
        "        minmax[cluster][0] = X[i]\n",
        "    if X[i] < minmax[cluster][1]:\n",
        "        minmax[cluster][1] = X[i]"
      ],
      "metadata": {
        "id": "-JiwsCM0uYnH"
      },
      "execution_count": 8,
      "outputs": []
    },
    {
      "cell_type": "code",
      "source": [
        "import matplotlib\n",
        "from matplotlib import pyplot as plt\n",
        "plt.figure(figsize=(10,5))\n",
        "for i in range(len(X[:])):\n",
        "    numbers=[1,2,3,4]\n",
        "    colors = ['b','k','r','c']\n",
        "    #3---> red,2----> black,4--->cyan,1--->blue\n",
        "    c = kmeans.predict(X[i].reshape(-1,1))[0]\n",
        "    \n",
        "    color = colors[c]\n",
        "    plt.scatter(i,X[i],c = color,cmap=matplotlib.colors.ListedColormap(numbers),s = 1)\n",
        "    plt.scatter(len(X)-1,X[len(X)-1],c='y')"
      ],
      "metadata": {
        "colab": {
          "base_uri": "https://localhost:8080/",
          "height": 320
        },
        "id": "4_y2P3xL1jCy",
        "outputId": "de0d44a7-c368-483c-e2da-eeb91927db9d"
      },
      "execution_count": 9,
      "outputs": [
        {
          "output_type": "display_data",
          "data": {
            "text/plain": [
              "<Figure size 720x360 with 1 Axes>"
            ],
            "image/png": "[encoded data removed]"
          },
          "metadata": {
            "needs_background": "light"
          }
        }
      ]
    },
    {
      "cell_type": "code",
      "source": [
        "df['cluster']=np.nan\n",
        "df=df[-len(X):]\n",
        "print(df.shape)"
      ],
      "metadata": {
        "colab": {
          "base_uri": "https://localhost:8080/"
        },
        "id": "CqV9gZrrVDGu",
        "outputId": "a11d635e-337e-46fb-b380-b836d1f84bf0"
      },
      "execution_count": 10,
      "outputs": [
        {
          "output_type": "stream",
          "name": "stdout",
          "text": [
            "(2556, 7)\n"
          ]
        }
      ]
    },
    {
      "cell_type": "code",
      "source": [
        "for i in range(len(X[:])):\n",
        "    colors = [1,2,3,4]\n",
        "    c = kmeans.predict(X[i].reshape(-1,1))[0]\n",
        "    \n",
        "    color = colors[c]\n",
        "    df['cluster'][i]=color\n",
        "    #plt.scatter(i,X[i],c = color,s = 1)\n",
        "    #plt.scatter(len(X)-1,X[len(X)-1],c='y')"
      ],
      "metadata": {
        "id": "CbrBL_XSUlcv"
      },
      "execution_count": 11,
      "outputs": []
    },
    {
      "cell_type": "code",
      "source": [
        "df.to_csv('data.csv')"
      ],
      "metadata": {
        "id": "CJOik7M2WGen"
      },
      "execution_count": 12,
      "outputs": []
    },
    {
      "cell_type": "code",
      "source": [
        "sc.inverse_transform(X[[-1]])"
      ],
      "metadata": {
        "colab": {
          "base_uri": "https://localhost:8080/"
        },
        "id": "_cc1kg-Y1hTD",
        "outputId": "71f036dd-f320-4a13-e712-7bb10d4ee449"
      },
      "execution_count": 13,
      "outputs": [
        {
          "output_type": "execute_result",
          "data": {
            "text/plain": [
              "array([[0.11009553]])"
            ]
          },
          "metadata": {},
          "execution_count": 13
        }
      ]
    },
    {
      "cell_type": "code",
      "source": [
        "#df['cluster'].value_counts()"
      ],
      "metadata": {
        "id": "rZBqoEuRRfwf"
      },
      "execution_count": 14,
      "outputs": []
    },
    {
      "cell_type": "code",
      "source": [
        "df['percentage_change']=df['Close'].pct_change(104)"
      ],
      "metadata": {
        "id": "Q_q0Cib6ObqO"
      },
      "execution_count": 15,
      "outputs": []
    },
    {
      "cell_type": "markdown",
      "source": [
        "# Top\n",
        "##count    332.000000\n",
        "\n",
        "##mean       0.236613\n",
        "\n",
        "##std        0.053404\n",
        "\n",
        "##min        0.165785\n",
        "\n",
        "##25%        0.196565\n",
        "\n",
        "##50%        0.228774\n",
        "\n",
        "##75%        0.262859\n",
        "\n",
        "##max        0.506711"
      ],
      "metadata": {
        "id": "2R4ikv5cpwKt"
      }
    },
    {
      "cell_type": "markdown",
      "source": [
        "#next to top\n",
        "##count    1049.000000\n",
        "##mean        0.095013\n",
        "##std         0.032521\n",
        "##min         0.037438\n",
        "##25%         0.068647\n",
        "##50%         0.094532\n",
        "##75%         0.120761\n",
        "##max         0.164591"
      ],
      "metadata": {
        "id": "R87lCW2wqIr1"
      }
    },
    {
      "cell_type": "markdown",
      "source": [
        "#next to bottom\n",
        "##count    950.000000\n",
        "##mean      -0.021073\n",
        "##std        0.034550\n",
        "##min       -0.100134\n",
        "##25%       -0.046875\n",
        "##50%       -0.018104\n",
        "##75%        0.007315\n",
        "##max        0.037047"
      ],
      "metadata": {
        "id": "HfAcM0-5qbRF"
      }
    },
    {
      "cell_type": "markdown",
      "source": [
        "#bottom\n",
        "##count    120.000000\n",
        "##mean      -0.182758\n",
        "##std        0.061700\n",
        "##min       -0.343284\n",
        "##25%       -0.232899\n",
        "##50%       -0.171428\n",
        "##75%       -0.123887\n",
        "##max       -0.105458"
      ],
      "metadata": {
        "id": "cBO0goWvqxzd"
      }
    },
    {
      "cell_type": "code",
      "source": [
        "df.loc[df['cluster'] ==1]['percentage_change'].describe() #top "
      ],
      "metadata": {
        "colab": {
          "base_uri": "https://localhost:8080/"
        },
        "id": "xqQBNTAlxUKs",
        "outputId": "caeea300-b5c7-49ba-db2e-4e0602dd1f2b"
      },
      "execution_count": 16,
      "outputs": [
        {
          "output_type": "execute_result",
          "data": {
            "text/plain": [
              "count    953.000000\n",
              "mean      -0.020889\n",
              "std        0.034651\n",
              "min       -0.100134\n",
              "25%       -0.046857\n",
              "50%       -0.017935\n",
              "75%        0.007628\n",
              "max        0.037514\n",
              "Name: percentage_change, dtype: float64"
            ]
          },
          "metadata": {},
          "execution_count": 16
        }
      ]
    },
    {
      "cell_type": "code",
      "source": [
        "df.loc[df['cluster'] ==4]['percentage_change'].describe() #next to top"
      ],
      "metadata": {
        "colab": {
          "base_uri": "https://localhost:8080/"
        },
        "id": "tGku5Auce4Y3",
        "outputId": "2ecf3dbe-4810-42d6-b24e-87e69a08261c"
      },
      "execution_count": 17,
      "outputs": [
        {
          "output_type": "execute_result",
          "data": {
            "text/plain": [
              "count    1047.000000\n",
              "mean        0.095192\n",
              "std         0.032409\n",
              "min         0.038042\n",
              "25%         0.068901\n",
              "50%         0.094753\n",
              "75%         0.120763\n",
              "max         0.164591\n",
              "Name: percentage_change, dtype: float64"
            ]
          },
          "metadata": {},
          "execution_count": 17
        }
      ]
    },
    {
      "cell_type": "code",
      "source": [
        "df.loc[df['cluster'] ==2]['percentage_change'].describe() #next to bottom"
      ],
      "metadata": {
        "colab": {
          "base_uri": "https://localhost:8080/"
        },
        "id": "RT5Wb-HJex46",
        "outputId": "a37c200b-1a2f-4ab3-fcad-4d26456534a9"
      },
      "execution_count": 18,
      "outputs": [
        {
          "output_type": "execute_result",
          "data": {
            "text/plain": [
              "count    332.000000\n",
              "mean       0.236613\n",
              "std        0.053404\n",
              "min        0.165785\n",
              "25%        0.196565\n",
              "50%        0.228774\n",
              "75%        0.262859\n",
              "max        0.506711\n",
              "Name: percentage_change, dtype: float64"
            ]
          },
          "metadata": {},
          "execution_count": 18
        }
      ]
    },
    {
      "cell_type": "code",
      "source": [
        "df.loc[df['cluster'] ==3]['percentage_change'].describe() #red (bottom)"
      ],
      "metadata": {
        "colab": {
          "base_uri": "https://localhost:8080/"
        },
        "id": "xyXDNcUKe28Y",
        "outputId": "9b1f29d2-c408-4d33-b035-c1e5298eb4e5"
      },
      "execution_count": 19,
      "outputs": [
        {
          "output_type": "execute_result",
          "data": {
            "text/plain": [
              "count    120.000000\n",
              "mean      -0.182758\n",
              "std        0.061700\n",
              "min       -0.343284\n",
              "25%       -0.232899\n",
              "50%       -0.171428\n",
              "75%       -0.123887\n",
              "max       -0.105458\n",
              "Name: percentage_change, dtype: float64"
            ]
          },
          "metadata": {},
          "execution_count": 19
        }
      ]
    },
    {
      "cell_type": "code",
      "source": [
        "df_new=df[-700:].copy()\n",
        "X_new=X[-700:]"
      ],
      "metadata": {
        "id": "WqX1FadZ_tWI"
      },
      "execution_count": 20,
      "outputs": []
    },
    {
      "cell_type": "code",
      "source": [
        "plt.figure(figsize=(10,5))\n",
        "for i in range(len(df_new)):\n",
        "    numbers=[1,2,3,4]\n",
        "    colors = ['b','k','r','c']\n",
        "    c = kmeans.predict(X_new[i].reshape(-1,1))[0]\n",
        "    color = colors[c]\n",
        "    \n",
        "    plt.scatter(i,df_new['Close'].iloc[i],c = color,cmap=matplotlib.colors.ListedColormap(numbers),s =10)\n",
        "df_new['Close'].reset_index(drop=True).plot(color='y',lw=0.5); \n",
        "plt.savefig('cluster_image.png')"
      ],
      "metadata": {
        "colab": {
          "base_uri": "https://localhost:8080/",
          "height": 320
        },
        "id": "yi0jrrzt-ixl",
        "outputId": "cb3974f5-6289-4844-a830-296bf5348f18"
      },
      "execution_count": 21,
      "outputs": [
        {
          "output_type": "display_data",
          "data": {
            "text/plain": [
              "<Figure size 720x360 with 1 Axes>"
            ],
            "image/png": "[encoded data removed]"
          },
          "metadata": {
            "needs_background": "light"
          }
        }
      ]
    },
    {
      "cell_type": "code",
      "source": [
        "df_new[['cluster','percentage_change']][-100:].plot(secondary_y=['percentage_change'],legend=False);"
      ],
      "metadata": {
        "id": "arZtp79SARSs",
        "outputId": "50c089db-291c-4879-9095-8b5128d27449",
        "colab": {
          "base_uri": "https://localhost:8080/",
          "height": 277
        }
      },
      "execution_count": 22,
      "outputs": [
        {
          "output_type": "display_data",
          "data": {
            "text/plain": [
              "<Figure size 432x288 with 2 Axes>"
            ],
            "image/png": "[encoded data removed]"
          },
          "metadata": {
            "needs_background": "light"
          }
        }
      ]
    },
    {
      "cell_type": "code",
      "source": [
        "df[['cluster','percentage_change']].value_counts()"
      ],
      "metadata": {
        "colab": {
          "base_uri": "https://localhost:8080/"
        },
        "id": "zYG3Zi3xbQ-3",
        "outputId": "cc7da0f8-40d1-466b-b61d-d0fe83730849"
      },
      "execution_count": 23,
      "outputs": [
        {
          "output_type": "execute_result",
          "data": {
            "text/plain": [
              "cluster  percentage_change\n",
              "1.0      -0.100134            1\n",
              "4.0       0.065526            1\n",
              "          0.064626            1\n",
              "          0.064715            1\n",
              "          0.064825            1\n",
              "                             ..\n",
              "1.0       0.020128            1\n",
              "          0.020270            1\n",
              "          0.020429            1\n",
              "          0.020626            1\n",
              "4.0       0.164591            1\n",
              "Length: 2452, dtype: int64"
            ]
          },
          "metadata": {},
          "execution_count": 23
        }
      ]
    },
    {
      "cell_type": "code",
      "source": [
        "df_new.tail(2)"
      ],
      "metadata": {
        "colab": {
          "base_uri": "https://localhost:8080/",
          "height": 143
        },
        "id": "73qV92lne50I",
        "outputId": "bdd687d1-58f1-4dc7-83d3-cd94d41bcada"
      },
      "execution_count": 24,
      "outputs": [
        {
          "output_type": "execute_result",
          "data": {
            "text/plain": [
              "                Open          High       Low         Close     Adj Close  \\\n",
              "Date                                                                       \n",
              "2022-11-07  18211.75  18255.500000  18064.75  18202.800781  18202.800781   \n",
              "2022-11-09  18288.25  18296.400391  18117.50  18157.000000  18157.000000   \n",
              "\n",
              "            Volume  cluster  percentage_change  \n",
              "Date                                            \n",
              "2022-11-07  314800      4.0           0.108821  \n",
              "2022-11-09       0      4.0           0.110096  "
            ],
            "text/html": [
              "\n",
              "  <div id=\"df-11d88ed7-43f6-4984-8497-b93a2be00bf9\">\n",
              "    <div class=\"colab-df-container\">\n",
              "      <div>\n",
              "<style scoped>\n",
              "    .dataframe tbody tr th:only-of-type {\n",
              "        vertical-align: middle;\n",
              "    }\n",
              "\n",
              "    .dataframe tbody tr th {\n",
              "        vertical-align: top;\n",
              "    }\n",
              "\n",
              "    .dataframe thead th {\n",
              "        text-align: right;\n",
              "    }\n",
              "</style>\n",
              "<table border=\"1\" class=\"dataframe\">\n",
              "  <thead>\n",
              "    <tr style=\"text-align: right;\">\n",
              "      <th></th>\n",
              "      <th>Open</th>\n",
              "      <th>High</th>\n",
              "      <th>Low</th>\n",
              "      <th>Close</th>\n",
              "      <th>Adj Close</th>\n",
              "      <th>Volume</th>\n",
              "      <th>cluster</th>\n",
              "      <th>percentage_change</th>\n",
              "    </tr>\n",
              "    <tr>\n",
              "      <th>Date</th>\n",
              "      <th></th>\n",
              "      <th></th>\n",
              "      <th></th>\n",
              "      <th></th>\n",
              "      <th></th>\n",
              "      <th></th>\n",
              "      <th></th>\n",
              "      <th></th>\n",
              "    </tr>\n",
              "  </thead>\n",
              "  <tbody>\n",
              "    <tr>\n",
              "      <th>2022-11-07</th>\n",
              "      <td>18211.75</td>\n",
              "      <td>18255.500000</td>\n",
              "      <td>18064.75</td>\n",
              "      <td>18202.800781</td>\n",
              "      <td>18202.800781</td>\n",
              "      <td>314800</td>\n",
              "      <td>4.0</td>\n",
              "      <td>0.108821</td>\n",
              "    </tr>\n",
              "    <tr>\n",
              "      <th>2022-11-09</th>\n",
              "      <td>18288.25</td>\n",
              "      <td>18296.400391</td>\n",
              "      <td>18117.50</td>\n",
              "      <td>18157.000000</td>\n",
              "      <td>18157.000000</td>\n",
              "      <td>0</td>\n",
              "      <td>4.0</td>\n",
              "      <td>0.110096</td>\n",
              "    </tr>\n",
              "  </tbody>\n",
              "</table>\n",
              "</div>\n",
              "      <button class=\"colab-df-convert\" onclick=\"convertToInteractive('df-11d88ed7-43f6-4984-8497-b93a2be00bf9')\"\n",
              "              title=\"Convert this dataframe to an interactive table.\"\n",
              "              style=\"display:none;\">\n",
              "        \n",
              "  <svg xmlns=\"http://www.w3.org/2000/svg\" height=\"24px\"viewBox=\"0 0 24 24\"\n",
              "       width=\"24px\">\n",
              "    <path d=\"M0 0h24v24H0V0z\" fill=\"none\"/>\n",
              "    <path d=\"M18.56 5.44l.94 2.06.94-2.06 2.06-.94-2.06-.94-.94-2.06-.94 2.06-2.06.94zm-11 1L8.5 8.5l.94-2.06 2.06-.94-2.06-.94L8.5 2.5l-.94 2.06-2.06.94zm10 10l.94 2.06.94-2.06 2.06-.94-2.06-.94-.94-2.06-.94 2.06-2.06.94z\"/><path d=\"M17.41 7.96l-1.37-1.37c-.4-.4-.92-.59-1.43-.59-.52 0-1.04.2-1.43.59L10.3 9.45l-7.72 7.72c-.78.78-.78 2.05 0 2.83L4 21.41c.39.39.9.59 1.41.59.51 0 1.02-.2 1.41-.59l7.78-7.78 2.81-2.81c.8-.78.8-2.07 0-2.86zM5.41 20L4 18.59l7.72-7.72 1.47 1.35L5.41 20z\"/>\n",
              "  </svg>\n",
              "      </button>\n",
              "      \n",
              "  <style>\n",
              "    .colab-df-container {\n",
              "      display:flex;\n",
              "      flex-wrap:wrap;\n",
              "      gap: 12px;\n",
              "    }\n",
              "\n",
              "    .colab-df-convert {\n",
              "      background-color: #E8F0FE;\n",
              "      border: none;\n",
              "      border-radius: 50%;\n",
              "      cursor: pointer;\n",
              "      display: none;\n",
              "      fill: #1967D2;\n",
              "      height: 32px;\n",
              "      padding: 0 0 0 0;\n",
              "      width: 32px;\n",
              "    }\n",
              "\n",
              "    .colab-df-convert:hover {\n",
              "      background-color: #E2EBFA;\n",
              "      box-shadow: 0px 1px 2px rgba(60, 64, 67, 0.3), 0px 1px 3px 1px rgba(60, 64, 67, 0.15);\n",
              "      fill: #174EA6;\n",
              "    }\n",
              "\n",
              "    [theme=dark] .colab-df-convert {\n",
              "      background-color: #3B4455;\n",
              "      fill: #D2E3FC;\n",
              "    }\n",
              "\n",
              "    [theme=dark] .colab-df-convert:hover {\n",
              "      background-color: #434B5C;\n",
              "      box-shadow: 0px 1px 3px 1px rgba(0, 0, 0, 0.15);\n",
              "      filter: drop-shadow(0px 1px 2px rgba(0, 0, 0, 0.3));\n",
              "      fill: #FFFFFF;\n",
              "    }\n",
              "  </style>\n",
              "\n",
              "      <script>\n",
              "        const buttonEl =\n",
              "          document.querySelector('#df-11d88ed7-43f6-4984-8497-b93a2be00bf9 button.colab-df-convert');\n",
              "        buttonEl.style.display =\n",
              "          google.colab.kernel.accessAllowed ? 'block' : 'none';\n",
              "\n",
              "        async function convertToInteractive(key) {\n",
              "          const element = document.querySelector('#df-11d88ed7-43f6-4984-8497-b93a2be00bf9');\n",
              "          const dataTable =\n",
              "            await google.colab.kernel.invokeFunction('convertToInteractive',\n",
              "                                                     [key], {});\n",
              "          if (!dataTable) return;\n",
              "\n",
              "          const docLinkHtml = 'Like what you see? Visit the ' +\n",
              "            '<a target=\"_blank\" href=https://colab.research.google.com/notebooks/data_table.ipynb>data table notebook</a>'\n",
              "            + ' to learn more about interactive tables.';\n",
              "          element.innerHTML = '';\n",
              "          dataTable['output_type'] = 'display_data';\n",
              "          await google.colab.output.renderOutput(dataTable, element);\n",
              "          const docLink = document.createElement('div');\n",
              "          docLink.innerHTML = docLinkHtml;\n",
              "          element.appendChild(docLink);\n",
              "        }\n",
              "      </script>\n",
              "    </div>\n",
              "  </div>\n",
              "  "
            ]
          },
          "metadata": {},
          "execution_count": 24
        }
      ]
    },
    {
      "cell_type": "code",
      "source": [
        "0.037438<0.093400<0.164591"
      ],
      "metadata": {
        "colab": {
          "base_uri": "https://localhost:8080/"
        },
        "id": "W_HAD6bBgD6Q",
        "outputId": "5a439970-282b-40b4-a04a-369fd05504de"
      },
      "execution_count": 25,
      "outputs": [
        {
          "output_type": "execute_result",
          "data": {
            "text/plain": [
              "True"
            ]
          },
          "metadata": {},
          "execution_count": 25
        }
      ]
    },
    {
      "cell_type": "code",
      "source": [
        "0.164591"
      ],
      "metadata": {
        "id": "k0aeMYvegmVI",
        "outputId": "da3086df-b2f6-4652-a264-cb0ed6f9c30f",
        "colab": {
          "base_uri": "https://localhost:8080/"
        }
      },
      "execution_count": 26,
      "outputs": [
        {
          "output_type": "execute_result",
          "data": {
            "text/plain": [
              "0.164591"
            ]
          },
          "metadata": {},
          "execution_count": 26
        }
      ]
    }
  ]
}