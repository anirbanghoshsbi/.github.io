{
  "nbformat": 4,
  "nbformat_minor": 0,
  "metadata": {
    "colab": {
      "provenance": [],
      "authorship_tag": "ABX9TyNtd3jXXYLSM9XneBoozcvl",
      "include_colab_link": true
    },
    "kernelspec": {
      "name": "python3",
      "display_name": "Python 3"
    },
    "language_info": {
      "name": "python"
    }
  },
  "cells": [
    {
      "cell_type": "markdown",
      "metadata": {
        "id": "view-in-github",
        "colab_type": "text"
      },
      "source": [
        "<a href=\"https://colab.research.google.com/github/anirbanghoshsbi/.github.io/blob/master/work/portfolio/Untitled110.ipynb\" target=\"_parent\"><img src=\"https://colab.research.google.com/assets/colab-badge.svg\" alt=\"Open In Colab\"/></a>"
      ]
    },
    {
      "cell_type": "code",
      "source": [
        "import pandas as pd\n",
        "import numpy as np"
      ],
      "metadata": {
        "id": "hUk5X65AiEAD"
      },
      "execution_count": 20,
      "outputs": []
    },
    {
      "cell_type": "code",
      "source": [
        "def data_string_to_float(number_string):\n",
        "    \"\"\"\n",
        "    The result of our regex search is a number stored as a string, but we need a float.\n",
        "        - Some of these strings say things like '25M' instead of 25000000.\n",
        "        - Some have 'N/A' in them.\n",
        "        - Some are negative (have '-' in front of the numbers).\n",
        "        - As an artifact of our regex, some values which were meant to be zero are instead '>0'.\n",
        "    We must process all of these cases accordingly.\n",
        "    :param number_string: the string output of our regex, which needs to be converted to a float.\n",
        "    :return: a float representation of the string, taking into account minus sign, unit, etc.\n",
        "    \"\"\"\n",
        "    # Deal with zeroes and the sign\n",
        "    if (\"N/A\" in number_string) or (\"NaN\" in number_string):\n",
        "        return \"N/A\"\n",
        "    elif number_string == \">0\":\n",
        "        return 0\n",
        "    elif \"B\" in number_string:\n",
        "        return float(number_string.replace(\"B\", \"\")) * 1000000000\n",
        "    elif \"M\" in number_string:\n",
        "        return float(number_string.replace(\"M\", \"\")) * 1000000\n",
        "    elif \"K\" in number_string:\n",
        "        return float(number_string.replace(\"K\", \"\")) * 1000\n",
        "    else:\n",
        "        return float(number_string)\n",
        "def status_calc(stock, sp500, outperformance=10):\n",
        "    \"\"\"A simple function to classify whether a stock outperformed the S&P500\n",
        "    :param stock: stock price\n",
        "    :param sp500: S&P500 price\n",
        "    :param outperformance: stock is classified 1 if stock price > S&P500 price + outperformance\n",
        "    :return: true/false\n",
        "    \"\"\"\n",
        "    if outperformance < 0:\n",
        "        raise ValueError(\"outperformance must be positive\")\n",
        "    return stock - sp500 >= outperformance"
      ],
      "metadata": {
        "id": "iBcVpJErh90c"
      },
      "execution_count": 21,
      "outputs": []
    },
    {
      "cell_type": "code",
      "execution_count": 22,
      "metadata": {
        "id": "UJn6ZreXhxcR"
      },
      "outputs": [],
      "source": [
        "import pandas as pd\n",
        "from sklearn.ensemble import RandomForestClassifier\n",
        "\n",
        "\n",
        "\n",
        "# The percentage by which a stock has to beat the S&P500 to be considered a 'buy'\n",
        "OUTPERFORMANCE = 10\n",
        "\n",
        "\n",
        "def build_data_set():\n",
        "    \"\"\"\n",
        "    Reads the keystats.csv file and prepares it for scikit-learn\n",
        "    :return: X_train and y_train numpy arrays\n",
        "    \"\"\"\n",
        "    training_data = pd.read_csv(\"keystats.csv\", index_col=\"Date\")\n",
        "    training_data.dropna(axis=0, how=\"any\", inplace=True)\n",
        "    features = training_data.columns[6:]\n",
        "    print(\"features \", features)\n",
        "    X_train = training_data[features].values\n",
        "    #print(\"training Data \", X_train)\n",
        "    # Generate the labels: '1' if a stock beats the S&P500 by more than 10%, else '0'.\n",
        "    y_train = list(\n",
        "        status_calc(\n",
        "            training_data[\"stock_p_change\"],\n",
        "            training_data[\"SP500_p_change\"],\n",
        "            OUTPERFORMANCE,\n",
        "        )\n",
        "    )\n",
        "\n",
        "    return X_train, y_train\n",
        "\n",
        "\n",
        "def predict_stocks():\n",
        "    X_train, y_train = build_data_set()\n",
        "    # Remove the random_state parameter to generate actual predictions\n",
        "    clf = RandomForestClassifier(n_estimators=100, random_state=0)\n",
        "    clf.fit(X_train, y_train)\n",
        "\n",
        "    # Now we get the actual data from which we want to generate predictions.\n",
        "    data = pd.read_csv(\"forward_sample.csv\", index_col=\"Date\")\n",
        "    data.dropna(axis=0, how=\"any\", inplace=True)\n",
        "    features = data.columns[6:]\n",
        "    X_test = data[features].values\n",
        "    z = data[\"Ticker\"].values\n",
        "\n",
        "    # Get the predicted tickers\n",
        "    y_pred = clf.predict(X_test)\n",
        "    if sum(y_pred) == 0:\n",
        "        print(\"No stocks predicted!\")\n",
        "    else:\n",
        "        invest_list = z[y_pred].tolist()\n",
        "        print(\n",
        "            f\"{len(invest_list)} stocks predicted to outperform the S&P500 by more than {OUTPERFORMANCE}%:\"\n",
        "        )\n",
        "        print(\" \".join(invest_list))\n",
        "        return invest_list"
      ]
    },
    {
      "cell_type": "code",
      "source": [
        "X_train, y_train = build_data_set()\n",
        "# Remove the random_state parameter to generate actual predictions\n",
        "clf = RandomForestClassifier(n_estimators=100, random_state=0)\n",
        "clf.fit(X_train, y_train)\n",
        "\n",
        "# Now we get the actual data from which we want to generate predictions.\n",
        "data = pd.read_csv(\"forward_sample.csv\", index_col=\"Date\")\n",
        "data.dropna(axis=0, how=\"any\", inplace=True)\n",
        "features = data.columns[6:]\n",
        "X_test = data[features].values\n",
        "z = data[\"Ticker\"].values"
      ],
      "metadata": {
        "colab": {
          "base_uri": "https://localhost:8080/"
        },
        "id": "zwqdnFnMh4c7",
        "outputId": "852cd235-0011-4298-f02b-899f0a6b1b6b"
      },
      "execution_count": 23,
      "outputs": [
        {
          "output_type": "stream",
          "name": "stdout",
          "text": [
            "features  Index(['Market Cap', 'Enterprise Value', 'Trailing P/E', 'Forward P/E',\n",
            "       'PEG Ratio', 'Price/Sales', 'Price/Book', 'Enterprise Value/Revenue',\n",
            "       'Enterprise Value/EBITDA', 'Profit Margin', 'Operating Margin',\n",
            "       'Return on Assets', 'Return on Equity', 'Revenue', 'Revenue Per Share',\n",
            "       'Qtrly Revenue Growth', 'Gross Profit', 'EBITDA',\n",
            "       'Net Income Avl to Common', 'Diluted EPS', 'Qtrly Earnings Growth',\n",
            "       'Total Cash', 'Total Cash Per Share', 'Total Debt', 'Total Debt/Equity',\n",
            "       'Current Ratio', 'Book Value Per Share', 'Operating Cash Flow',\n",
            "       'Levered Free Cash Flow', 'Beta', '50-Day Moving Average',\n",
            "       '200-Day Moving Average', 'Avg Vol (3 month)', 'Shares Outstanding',\n",
            "       'Float', '% Held by Insiders', '% Held by Institutions',\n",
            "       'Shares Short (as of', 'Short Ratio', 'Short % of Float',\n",
            "       'Shares Short (prior month)'],\n",
            "      dtype='object')\n"
          ]
        }
      ]
    },
    {
      "cell_type": "code",
      "source": [
        "# Get the predicted tickers\n",
        "y_pred = clf.predict(X_test)\n",
        "if sum(y_pred) == 0:\n",
        "  print(\"No stocks predicted!\")\n",
        "else:\n",
        "  invest_list = z[y_pred].tolist()\n",
        "  print(\n",
        "    f\"{len(invest_list)} stocks predicted to outperform the S&P500 by more than {OUTPERFORMANCE}%:\"\n",
        "  )\n",
        "print(\" \".join(invest_list))"
      ],
      "metadata": {
        "colab": {
          "base_uri": "https://localhost:8080/"
        },
        "id": "giIsUR8Gjk0R",
        "outputId": "ae950c97-a470-451f-b28d-93b86d62a0c3"
      },
      "execution_count": 24,
      "outputs": [
        {
          "output_type": "stream",
          "name": "stdout",
          "text": [
            "34 stocks predicted to outperform the S&P500 by more than 10%:\n",
            "ABC LSI TRV IP PH OI BAX FDX INTU SWK WGO DGX LH SNA GT BIIB DHI BWA GES GNW DNR LLL LYB R PBI BLK DLX DIS GTN AMP LMT LM PHM APD\n"
          ]
        }
      ]
    },
    {
      "cell_type": "code",
      "source": [
        "data=pd.read_csv(\"forward_sample.csv\", index_col=\"Date\")"
      ],
      "metadata": {
        "id": "M2rheGeFj-Nc"
      },
      "execution_count": 26,
      "outputs": []
    },
    {
      "cell_type": "code",
      "source": [
        "training_data = pd.read_csv(\"keystats.csv\", index_col=\"Date\")"
      ],
      "metadata": {
        "id": "txyeiI-QkAyO"
      },
      "execution_count": 30,
      "outputs": []
    },
    {
      "cell_type": "code",
      "source": [
        "training_data[training_data['Ticker'] == 'aapl']"
      ],
      "metadata": {
        "id": "dFG579_2lfJw"
      },
      "execution_count": null,
      "outputs": []
    },
    {
      "cell_type": "code",
      "source": [
        "data.columns"
      ],
      "metadata": {
        "colab": {
          "base_uri": "https://localhost:8080/"
        },
        "id": "1KovMgsyl40m",
        "outputId": "550040d8-89d9-4b2e-a968-fc2b9b1ca3ac"
      },
      "execution_count": 40,
      "outputs": [
        {
          "output_type": "execute_result",
          "data": {
            "text/plain": [
              "Index(['Unix', 'Ticker', 'Price', 'stock_p_change', 'SP500', 'SP500_p_change',\n",
              "       'Market Cap', 'Enterprise Value', 'Trailing P/E', 'Forward P/E',\n",
              "       'PEG Ratio', 'Price/Sales', 'Price/Book', 'Enterprise Value/Revenue',\n",
              "       'Enterprise Value/EBITDA', 'Profit Margin', 'Operating Margin',\n",
              "       'Return on Assets', 'Return on Equity', 'Revenue', 'Revenue Per Share',\n",
              "       'Quarterly Revenue Growth', 'Gross Profit', 'EBITDA',\n",
              "       'Net Income Avi to Common', 'Diluted EPS', 'Quarterly Earnings Growth',\n",
              "       'Total Cash', 'Total Cash Per Share', 'Total Debt', 'Total Debt/Equity',\n",
              "       'Current Ratio', 'Book Value Per Share', 'Operating Cash Flow',\n",
              "       'Levered Free Cash Flow', 'Beta', '50-Day Moving Average',\n",
              "       '200-Day Moving Average', 'Avg Vol (3 month)', 'Shares Outstanding',\n",
              "       'Float', '% Held by Insiders', '% Held by Institutions', 'Shares Short',\n",
              "       'Short Ratio', 'Short % of Float', 'Shares Short (prior month'],\n",
              "      dtype='object')"
            ]
          },
          "metadata": {},
          "execution_count": 40
        }
      ]
    },
    {
      "cell_type": "code",
      "source": [],
      "metadata": {
        "id": "Purg0aBmnKxj"
      },
      "execution_count": null,
      "outputs": []
    }
  ]
}