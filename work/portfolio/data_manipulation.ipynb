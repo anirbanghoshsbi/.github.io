{
  "nbformat": 4,
  "nbformat_minor": 0,
  "metadata": {
    "colab": {
      "provenance": [],
      "authorship_tag": "ABX9TyOBZFarQ7xS3KPNr+gpcUbD",
      "include_colab_link": true
    },
    "kernelspec": {
      "name": "python3",
      "display_name": "Python 3"
    },
    "language_info": {
      "name": "python"
    }
  },
  "cells": [
    {
      "cell_type": "markdown",
      "metadata": {
        "id": "view-in-github",
        "colab_type": "text"
      },
      "source": [
        "<a href=\"https://colab.research.google.com/github/anirbanghoshsbi/.github.io/blob/master/work/portfolio/data_manipulation.ipynb\" target=\"_parent\"><img src=\"https://colab.research.google.com/assets/colab-badge.svg\" alt=\"Open In Colab\"/></a>"
      ]
    },
    {
      "cell_type": "code",
      "execution_count": null,
      "metadata": {
        "colab": {
          "base_uri": "https://localhost:8080/"
        },
        "id": "GBh3XekJpZvl",
        "outputId": "a96cafd0-8778-4522-d17e-85fbb219f34c"
      },
      "outputs": [
        {
          "output_type": "stream",
          "name": "stdout",
          "text": [
            "Mounted at /content/gdrive\n"
          ]
        }
      ],
      "source": [
        "#!pip install pandas\n",
        "import pandas as pd\n",
        "\n",
        "from google.colab import drive\n",
        "drive.mount('/content/gdrive')\n",
        "\n",
        "\n"
      ]
    },
    {
      "cell_type": "code",
      "source": [
        "file_path = '/content/gdrive/My Drive/Stock_data/360_ONE.xlsx'\n"
      ],
      "metadata": {
        "id": "B38GavgUpb3H"
      },
      "execution_count": null,
      "outputs": []
    },
    {
      "cell_type": "code",
      "source": [
        "df = pd.read_excel(file_path,sheet_name='Data Sheet')\n"
      ],
      "metadata": {
        "id": "WElggA4Bpb5d"
      },
      "execution_count": null,
      "outputs": []
    },
    {
      "cell_type": "code",
      "source": [
        "df.columns"
      ],
      "metadata": {
        "colab": {
          "base_uri": "https://localhost:8080/"
        },
        "id": "u37EH1aBpb8O",
        "outputId": "5dcecb4c-22c2-437f-f29c-fcd134d79a87"
      },
      "execution_count": null,
      "outputs": [
        {
          "output_type": "execute_result",
          "data": {
            "text/plain": [
              "Index(['COMPANY NAME', '360 ONE WAM LTD', 'Unnamed: 2', 'Unnamed: 3',\n",
              "       'Unnamed: 4', 'Unnamed: 5', 'Unnamed: 6', 'Unnamed: 7', 'Unnamed: 8',\n",
              "       'Unnamed: 9', 'Unnamed: 10'],\n",
              "      dtype='object')"
            ]
          },
          "metadata": {},
          "execution_count": 8
        }
      ]
    },
    {
      "cell_type": "code",
      "source": [
        "# Define slices to extract rows\n",
        "slices = [slice(14, 31), slice(55, 72), slice(80, 85)]\n",
        "\n",
        "# Create a new DataFrame by combining the desired slices\n",
        "new_df = pd.concat([df.iloc[s] for s in slices])\n",
        "\n"
      ],
      "metadata": {
        "id": "AxyuhmYxpb-4"
      },
      "execution_count": null,
      "outputs": []
    },
    {
      "cell_type": "code",
      "source": [
        "# Print the new DataFrame\n",
        "new_df.T.to_csv('file.csv')"
      ],
      "metadata": {
        "id": "z-avirXCsDeT"
      },
      "execution_count": null,
      "outputs": []
    },
    {
      "cell_type": "code",
      "source": [
        "import pandas as pd\n",
        "\n",
        "def extract_and_save_rows(folder_path, file_name, slices, output_file):\n",
        "    \"\"\"\n",
        "    Reads an Excel file from a folder, extracts specified rows, and saves the\n",
        "    result as a CSV.\n",
        "\n",
        "    Args:\n",
        "        folder_path (str): Path to the folder containing the Excel file.\n",
        "        file_name (str): Name of the Excel file.\n",
        "        slices (list): List of slice objects defining the rows to extract.\n",
        "        output_file (str): Name of the output CSV file.\n",
        "    \"\"\"\n",
        "\n",
        "    from google.colab import drive\n",
        "    drive.mount('/content/gdrive')\n",
        "\n",
        "    file_path = f'/content/gdrive/My Drive/{folder_path}/{file_name}'\n",
        "    df = pd.read_excel(file_path, sheet_name='Data Sheet')\n",
        "\n",
        "    new_df = pd.concat([df.iloc[s] for s in slices])\n",
        "    new_df.T.to_csv(output_file)\n",
        "\n",
        "# Example usage\n",
        "folder_path = 'Stock_data'\n",
        "file_name = '360_ONE.xlsx'\n",
        "slices = [slice(14, 31), slice(55, 72), slice(80, 85)]\n",
        "output_file = 'extracted_rows.csv'\n",
        "\n",
        "extract_and_save_rows(folder_path, file_name, slices, output_file)\n"
      ],
      "metadata": {
        "id": "AgXnCob9vj6i"
      },
      "execution_count": null,
      "outputs": []
    }
  ]
}