{
  "nbformat": 4,
  "nbformat_minor": 0,
  "metadata": {
    "colab": {
      "provenance": [],
      "authorship_tag": "ABX9TyMmhggjYl4mco/l1POgUAIE",
      "include_colab_link": true
    },
    "kernelspec": {
      "name": "python3",
      "display_name": "Python 3"
    },
    "language_info": {
      "name": "python"
    }
  },
  "cells": [
    {
      "cell_type": "markdown",
      "metadata": {
        "id": "view-in-github",
        "colab_type": "text"
      },
      "source": [
        "<a href=\"https://colab.research.google.com/github/anirbanghoshsbi/.github.io/blob/master/work/portfolio/pca_portfolio.ipynb\" target=\"_parent\"><img src=\"https://colab.research.google.com/assets/colab-badge.svg\" alt=\"Open In Colab\"/></a>"
      ]
    },
    {
      "cell_type": "code",
      "execution_count": 19,
      "metadata": {
        "colab": {
          "base_uri": "https://localhost:8080/"
        },
        "id": "ko7NF9CArKE5",
        "outputId": "7bc301d3-144f-43c4-bec1-809273ec06fd"
      },
      "outputs": [
        {
          "output_type": "stream",
          "name": "stderr",
          "text": [
            "[*********************100%%**********************]  501 of 501 completed\n"
          ]
        }
      ],
      "source": [
        "import yfinance as yf\n",
        "import pandas as pd\n",
        "import numpy as np\n",
        "from sklearn.decomposition import PCA\n",
        "def get_nifty50_tickers():\n",
        "    #data = pd.read_csv('https://raw.githubusercontent.com/anirbanghoshsbi/data/main/STOCKS100.txt', sep='\\t')\n",
        "    data=pd.read_csv('/content/ind_nifty500list.csv')\n",
        "    nifty100 = data['Symbol'].apply(lambda x: x + \".NS\").tolist()\n",
        "    reject_lst=['MOTHERSUMI.NS', 'CADILAHC.NS', 'ADANITRANS.NS', 'SRTRANSFIN.NS', 'INFRATEL-EQ.NS','HDFC.NS']\n",
        "    nifty_final= [item for item in nifty100 if item not in reject_lst]\n",
        "\n",
        "    return nifty_final\n",
        "# Function to retrieve Nifty 50 stock data\n",
        "def get_nifty_50_data():\n",
        "\n",
        "    nifty_50_symbols=get_nifty50_tickers()\n",
        "\n",
        "    start_date = \"2023-02-01\"\n",
        "    end_date = \"2024-01-30\"\n",
        "\n",
        "    nifty_50_data = yf.download(nifty_50_symbols, start=start_date, end=end_date)[\"Adj Close\"]\n",
        "    return nifty_50_data\n",
        "\n",
        "nifty_50_data=get_nifty_50_data()"
      ]
    },
    {
      "cell_type": "code",
      "source": [
        "returns = nifty_50_data.pct_change().fillna(0)\n",
        "\n",
        "# Apply PCA for dimensionality reduction\n",
        "pca = PCA(n_components=3)\n",
        "reduced_data = pca.fit_transform(returns)"
      ],
      "metadata": {
        "id": "QwjysFM-sL6a"
      },
      "execution_count": 20,
      "outputs": []
    },
    {
      "cell_type": "code",
      "source": [
        "# Inverse transform to get stock representations in the original space\n",
        "recovered_data = pca.inverse_transform(reduced_data)\n",
        "\n",
        "# Calculate L-2 norm for each stock\n",
        "l2_norm = np.linalg.norm(returns.values - recovered_data, axis=0)\n",
        "\n",
        "# Create a DataFrame with stock symbols and their L-2 norms\n",
        "norm_df = pd.DataFrame({\"Symbol\": returns.columns, \"L2 Norm\": l2_norm})\n",
        "\n",
        "# Select top and bottom stocks based on L-2 norm differences\n",
        "max_diff_portfolio = norm_df.nlargest(10, \"L2 Norm\")[\"Symbol\"]\n",
        "min_diff_portfolio = norm_df.nsmallest(10, \"L2 Norm\")[\"Symbol\"]\n",
        "\n",
        "\n",
        "\n"
      ],
      "metadata": {
        "id": "Kga56qaysW96"
      },
      "execution_count": 21,
      "outputs": []
    },
    {
      "cell_type": "code",
      "source": [
        "print(\"Max Difference Portfolio:\", max_diff_portfolio.tolist())\n",
        "print(\"Min Difference Portfolio:\", min_diff_portfolio.tolist())\n"
      ],
      "metadata": {
        "colab": {
          "base_uri": "https://localhost:8080/"
        },
        "id": "XirKUcq6sjiZ",
        "outputId": "560dabbb-aed7-4571-f108-2ceb774b9732"
      },
      "execution_count": 22,
      "outputs": [
        {
          "output_type": "stream",
          "name": "stdout",
          "text": [
            "Max Difference Portfolio: ['NESTLEIND.NS', 'BCG.NS', 'FACT.NS', 'ALOKINDS.NS', 'ITI.NS', 'MMTC.NS', 'OLECTRA.NS', 'RVNL.NS', 'JBMA.NS', 'IRFC.NS']\n",
            "Min Difference Portfolio: ['PFIZER.NS', 'MARUTI.NS', 'GRASIM.NS', 'ICICIBANK.NS', 'HINDUNILVR.NS', 'ARE&M.NS', 'BATAINDIA.NS', 'BOSCHLTD.NS', 'VINATIORGA.NS', 'SUNPHARMA.NS']\n"
          ]
        }
      ]
    },
    {
      "cell_type": "code",
      "source": [
        "min_diff= min_diff_portfolio.tolist()"
      ],
      "metadata": {
        "id": "Eps79nxQzWAT"
      },
      "execution_count": 23,
      "outputs": []
    },
    {
      "cell_type": "code",
      "source": [
        "max_diff=max_diff_portfolio.tolist()"
      ],
      "metadata": {
        "id": "TxHG2Glfza3G"
      },
      "execution_count": 24,
      "outputs": []
    },
    {
      "cell_type": "code",
      "source": [
        "min_diff"
      ],
      "metadata": {
        "id": "rsSuAXRYHR-C",
        "outputId": "dd498be9-5793-4512-c85f-e80541b2c55e",
        "colab": {
          "base_uri": "https://localhost:8080/"
        }
      },
      "execution_count": 25,
      "outputs": [
        {
          "output_type": "execute_result",
          "data": {
            "text/plain": [
              "['PFIZER.NS',\n",
              " 'MARUTI.NS',\n",
              " 'GRASIM.NS',\n",
              " 'ICICIBANK.NS',\n",
              " 'HINDUNILVR.NS',\n",
              " 'ARE&M.NS',\n",
              " 'BATAINDIA.NS',\n",
              " 'BOSCHLTD.NS',\n",
              " 'VINATIORGA.NS',\n",
              " 'SUNPHARMA.NS']"
            ]
          },
          "metadata": {},
          "execution_count": 25
        }
      ]
    },
    {
      "cell_type": "code",
      "source": [
        "max_diff"
      ],
      "metadata": {
        "id": "B_-qhzQyHDXW",
        "outputId": "fd52eed0-8c6e-4c2a-85d3-7b8d2fd0b26b",
        "colab": {
          "base_uri": "https://localhost:8080/"
        }
      },
      "execution_count": 26,
      "outputs": [
        {
          "output_type": "execute_result",
          "data": {
            "text/plain": [
              "['NESTLEIND.NS',\n",
              " 'BCG.NS',\n",
              " 'FACT.NS',\n",
              " 'ALOKINDS.NS',\n",
              " 'ITI.NS',\n",
              " 'MMTC.NS',\n",
              " 'OLECTRA.NS',\n",
              " 'RVNL.NS',\n",
              " 'JBMA.NS',\n",
              " 'IRFC.NS']"
            ]
          },
          "metadata": {},
          "execution_count": 26
        }
      ]
    },
    {
      "cell_type": "code",
      "source": [
        "hello"
      ],
      "metadata": {
        "id": "srVR20hEHzm3",
        "outputId": "01cff20d-4830-4123-d27e-0a64c3d6e092",
        "colab": {
          "base_uri": "https://localhost:8080/",
          "height": 176
        }
      },
      "execution_count": 27,
      "outputs": [
        {
          "output_type": "error",
          "ename": "NameError",
          "evalue": "name 'hello' is not defined",
          "traceback": [
            "\u001b[0;31m---------------------------------------------------------------------------\u001b[0m",
            "\u001b[0;31mNameError\u001b[0m                                 Traceback (most recent call last)",
            "\u001b[0;32m<ipython-input-27-f572d396fae9>\u001b[0m in \u001b[0;36m<cell line: 1>\u001b[0;34m()\u001b[0m\n\u001b[0;32m----> 1\u001b[0;31m \u001b[0mhello\u001b[0m\u001b[0;34m\u001b[0m\u001b[0;34m\u001b[0m\u001b[0m\n\u001b[0m",
            "\u001b[0;31mNameError\u001b[0m: name 'hello' is not defined"
          ]
        }
      ]
    },
    {
      "cell_type": "code",
      "source": [
        "import matplotlib.pyplot as plt\n",
        "\n",
        "# List of stocks\n",
        "stock_symbols = max_diff\n",
        "# Download historical data\n",
        "start_date = \"2023-01-01\"\n",
        "end_date = \"2023-12-31\"  # Use the current date or a specific end date\n",
        "\n",
        "stock_data = yf.download(stock_symbols, start=start_date, end=end_date)[\"Adj Close\"]\n",
        "\n",
        "# Calculate daily returns\n",
        "daily_returns = stock_data.pct_change()\n",
        "\n",
        "# Calculate cumulative returns\n",
        "cumulative_returns = (1 + daily_returns).cumprod() - 1\n",
        "\n",
        "# Plot cumulative returns\n",
        "plt.figure(figsize=(10, 6))\n",
        "cumulative_returns.plot(title='Cumulative Returns of Selected Stocks (Min Difference)', xlabel='Date', ylabel='Cumulative Returns')\n",
        "plt.legend(loc='upper left', fontsize='small')\n",
        "plt.show()\n"
      ],
      "metadata": {
        "id": "UTMp3E1ktIuA"
      },
      "execution_count": null,
      "outputs": []
    },
    {
      "cell_type": "code",
      "source": [
        "# Investment amount\n",
        "initial_investment = 100\n",
        "# Calculate daily returns\n",
        "daily_returns = stock_data.pct_change()\n",
        "\n",
        "# Calculate cumulative returns\n",
        "cumulative_returns = (1 + daily_returns.dropna()).cumprod() - 1\n",
        "\n",
        "# Calculate NAV\n",
        "nav_values = initial_investment * (1 + cumulative_returns)\n",
        "# Calculate cumulative NAV for the entire portfolio\n",
        "cumulative_nav = nav_values.sum(axis=1)\n",
        "\n",
        "# Plot cumulative NAV for the entire portfolio\n",
        "plt.figure(figsize=(10, 6))\n",
        "cumulative_nav.plot(title='Cumulative Net Asset Value (NAV) Over Time (Min Difference)', xlabel='Date', ylabel='Cumulative NAV ($)')\n",
        "plt.show()"
      ],
      "metadata": {
        "id": "DLOl560pv2I3"
      },
      "execution_count": null,
      "outputs": []
    },
    {
      "cell_type": "code",
      "source": [],
      "metadata": {
        "id": "PIR6iZM-xWgI"
      },
      "execution_count": null,
      "outputs": []
    }
  ]
}