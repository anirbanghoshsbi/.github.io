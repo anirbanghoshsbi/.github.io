{
  "nbformat": 4,
  "nbformat_minor": 0,
  "metadata": {
    "colab": {
      "provenance": [],
      "authorship_tag": "ABX9TyPjuNItmTA8Psc/CUeUc1pL",
      "include_colab_link": true
    },
    "kernelspec": {
      "name": "python3",
      "display_name": "Python 3"
    },
    "language_info": {
      "name": "python"
    }
  },
  "cells": [
    {
      "cell_type": "markdown",
      "metadata": {
        "id": "view-in-github",
        "colab_type": "text"
      },
      "source": [
        "<a href=\"https://colab.research.google.com/github/anirbanghoshsbi/.github.io/blob/master/work/portfolio/top_Sectors_momentum.ipynb\" target=\"_parent\"><img src=\"https://colab.research.google.com/assets/colab-badge.svg\" alt=\"Open In Colab\"/></a>"
      ]
    },
    {
      "cell_type": "code",
      "source": [
        "import os\n",
        "\n",
        "# Get the list of files in the /content/ directory\n",
        "files = os.listdir(\"/content/\")\n",
        "\n",
        "# Filter for CSV files\n",
        "dummy_files_1 = [file for file in files if file.endswith(\".csv\")]\n",
        "dummy_files = [file for file in dummy_files_1 if not file.startswith(\"sme\")]\n",
        "csv_files = [file for file in dummy_files if not file.startswith(\"reit\")]\n",
        "# Print the names of CSV files\n"
      ],
      "metadata": {
        "id": "tcIL4aBnhOZn"
      },
      "execution_count": 63,
      "outputs": []
    },
    {
      "cell_type": "code",
      "source": [
        "import pandas as pd\n",
        "import numpy as np\n",
        "\n",
        "\n",
        "# Function to calculate returns\n",
        "def calculate_returns(df):\n",
        "    df['Monthly Return'] = df['Close'].pct_change(periods=21)\n",
        "    df['Quarterly Return'] = df['Close'].pct_change(periods=63)\n",
        "    df['Half-Yearly Return'] = df['Close'].pct_change(periods=126)\n",
        "    df['Annual Return'] = df['Close'].pct_change(periods=262)\n",
        "    return df\n",
        "\n",
        "# Create a list to store dataframes\n",
        "dataframes = []\n",
        "\n",
        "# Read each CSV file into a separate dataframe\n",
        "for item in csv_files:\n",
        "    df = pd.read_csv(item)\n",
        "    df.reset_index(inplace=True)\n",
        "    #print(item)\n",
        "\n",
        "    df.columns = ['Date', 'Open', 'High', 'Low', 'Close','dummy']  # Add column headers\n",
        "    df['Date'] = pd.to_datetime(df['Date'])  # Now convert the \"Date\" column to dates\n",
        "    df['dummy'] = item  # Ensure date format\n",
        "\n",
        "    df = calculate_returns(df)\n",
        "    dataframes.append(df)\n"
      ],
      "metadata": {
        "id": "qzP4rwPQgwgW"
      },
      "execution_count": 64,
      "outputs": []
    },
    {
      "cell_type": "code",
      "source": [
        "# Create a composite score\n",
        "for df in dataframes:\n",
        "    df['Composite Score'] = (df['Monthly Return'].iloc[-1] + df['Quarterly Return'].iloc[-1] +\n",
        "                              df['Half-Yearly Return'].iloc[-1] + df['Annual Return'].iloc[-1]) / 4\n",
        "\n",
        "# Rank dataframes based on composite score\n",
        "ranked_dataframes = sorted(dataframes, key=lambda x: x['Composite Score'].iloc[-1], reverse=True)\n",
        "\n",
        "# Access ranked dataframes\n",
        "for i, df in enumerate(ranked_dataframes):\n",
        "    print(f\"Rank {i+1}: Dataframe from file_{df.iloc[0, 5]}\")  # Assuming first column has file name\n",
        "    print(f\"Composite Score {(df['Composite Score'].iloc[-1])}\")"
      ],
      "metadata": {
        "colab": {
          "base_uri": "https://localhost:8080/"
        },
        "id": "nlpFch4Si_Go",
        "outputId": "67f784dc-84f1-47e6-f129-2c5c68d46249"
      },
      "execution_count": 65,
      "outputs": [
        {
          "output_type": "stream",
          "name": "stdout",
          "text": [
            "Rank 1: Dataframe from file_realty.csv\n",
            "Composite Score 0.43901111144006943\n",
            "Rank 2: Dataframe from file_utilities.csv\n",
            "Composite Score 0.415009814946672\n",
            "Rank 3: Dataframe from file_infrastructure.csv\n",
            "Composite Score 0.4108099395991359\n",
            "Rank 4: Dataframe from file_cpse.csv\n",
            "Composite Score 0.4067903078665962\n",
            "Rank 5: Dataframe from file_power.csv\n",
            "Composite Score 0.38549807292085253\n",
            "Rank 6: Dataframe from file_PSU.csv\n",
            "Composite Score 0.3725577017331245\n",
            "Rank 7: Dataframe from file_momentum.csv\n",
            "Composite Score 0.3075671905272636\n",
            "Rank 8: Dataframe from file_Auto.csv\n",
            "Composite Score 0.2935874977799953\n",
            "Rank 9: Dataframe from file_oilandgas.csv\n",
            "Composite Score 0.29200495292686923\n",
            "Rank 10: Dataframe from file_energy.csv\n",
            "Composite Score 0.291756406693766\n",
            "Rank 11: Dataframe from file_capital goods.csv\n",
            "Composite Score 0.2729534574605488\n",
            "Rank 12: Dataframe from file_industrial.csv\n",
            "Composite Score 0.268435660761374\n",
            "Rank 13: Dataframe from file_services.csv\n",
            "Composite Score 0.26438789057382706\n",
            "Rank 14: Dataframe from file_telecom.csv\n",
            "Composite Score 0.23369120652244074\n",
            "Rank 15: Dataframe from file_healthcare.csv\n",
            "Composite Score 0.22624706872821682\n",
            "Rank 16: Dataframe from file_greenex.csv\n",
            "Composite Score 0.21020330057922848\n",
            "Rank 17: Dataframe from file_consumerdiscretionary.csv\n",
            "Composite Score 0.19975268860811535\n",
            "Rank 18: Dataframe from file_quality.csv\n",
            "Composite Score 0.18927320177874046\n",
            "Rank 19: Dataframe from file_manufacturing.csv\n",
            "Composite Score 0.18638013687441274\n",
            "Rank 20: Dataframe from file_IPO.csv\n",
            "Composite Score 0.18568133516266547\n",
            "Rank 21: Dataframe from file_metal.csv\n",
            "Composite Score 0.18452789661602853\n",
            "Rank 22: Dataframe from file_housing.csv\n",
            "Composite Score 0.14652653866389456\n",
            "Rank 23: Dataframe from file_consumerdurables.csv\n",
            "Composite Score 0.1176164887672842\n",
            "Rank 24: Dataframe from file_carbonex.csv\n",
            "Composite Score 0.11581922519270407\n",
            "Rank 25: Dataframe from file_commodities.csv\n",
            "Composite Score 0.11260557092729406\n",
            "Rank 26: Dataframe from file_TECk.csv\n",
            "Composite Score 0.06935868531544437\n",
            "Rank 27: Dataframe from file_informationtech.csv\n",
            "Composite Score 0.05435711797275225\n",
            "Rank 28: Dataframe from file_finanacialservices.csv\n",
            "Composite Score 0.05260673184602377\n",
            "Rank 29: Dataframe from file_fmcg.csv\n",
            "Composite Score 0.04552206218308777\n",
            "Rank 30: Dataframe from file_bankex.csv\n",
            "Composite Score 0.041975148734269885\n",
            "Rank 31: Dataframe from file_privatebanks.csv\n",
            "Composite Score 0.003985942246537394\n"
          ]
        }
      ]
    },
    {
      "cell_type": "code",
      "source": [],
      "metadata": {
        "id": "IOzCpKpqqdow"
      },
      "execution_count": 65,
      "outputs": []
    }
  ]
}