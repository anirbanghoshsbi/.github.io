{
  "nbformat": 4,
  "nbformat_minor": 0,
  "metadata": {
    "colab": {
      "provenance": [],
      "authorship_tag": "ABX9TyPdclzHXFtfuIrXX+0dLDn0",
      "include_colab_link": true
    },
    "kernelspec": {
      "name": "python3",
      "display_name": "Python 3"
    },
    "language_info": {
      "name": "python"
    }
  },
  "cells": [
    {
      "cell_type": "markdown",
      "metadata": {
        "id": "view-in-github",
        "colab_type": "text"
      },
      "source": [
        "<a href=\"https://colab.research.google.com/github/anirbanghoshsbi/.github.io/blob/master/work/temp_hosting/Untitled113.ipynb\" target=\"_parent\"><img src=\"https://colab.research.google.com/assets/colab-badge.svg\" alt=\"Open In Colab\"/></a>"
      ]
    },
    {
      "cell_type": "code",
      "execution_count": 153,
      "metadata": {
        "id": "6-eBntU2QDBW"
      },
      "outputs": [],
      "source": [
        "import pandas as pd\n",
        "import yfinance as yf\n",
        "from sklearn.cluster import KMeans\n",
        "from sklearn.preprocessing import StandardScaler\n"
      ]
    },
    {
      "cell_type": "code",
      "source": [
        "\n",
        "# Download data using yfinance\n",
        "def get_data():\n",
        "    data = pd.read_csv('nifty-500.csv')\n",
        "    data = data[~data['NSE Code'].str.contains('MCX')]\n",
        "    data = data[~data['NSE Code'].str.contains('KSB')]\n",
        "    data = data[~data['NSE Code'].str.contains('BHARATFORG')]\n",
        "\n",
        "    return data\n",
        "\n",
        "data=get_data()"
      ],
      "metadata": {
        "id": "pw_orMvaQMGM"
      },
      "execution_count": 156,
      "outputs": []
    },
    {
      "cell_type": "code",
      "source": [
        "data.shape"
      ],
      "metadata": {
        "colab": {
          "base_uri": "https://localhost:8080/"
        },
        "id": "Z29NrRCWQkxF",
        "outputId": "2f65f898-aac5-40dd-da32-d03ced9c902b"
      },
      "execution_count": 157,
      "outputs": [
        {
          "output_type": "execute_result",
          "data": {
            "text/plain": [
              "(498, 21)"
            ]
          },
          "metadata": {},
          "execution_count": 157
        }
      ]
    },
    {
      "cell_type": "code",
      "source": [
        "features = [col for col in data.columns.tolist() if col not in (\"BSE Code\", \"NSE Code\",'Name','Industry','Current Price','Market Capitalization','Operating profit','asset turnover ratio', 'Price to Free Cash Flow', 'Promoter holding',\n",
        "       'Change in promoter holding')]\n"
      ],
      "metadata": {
        "id": "6_HEW7FNQlMf"
      },
      "execution_count": 158,
      "outputs": []
    },
    {
      "cell_type": "code",
      "source": [
        "data.columns"
      ],
      "metadata": {
        "colab": {
          "base_uri": "https://localhost:8080/"
        },
        "id": "ydnoKlYnb1-N",
        "outputId": "8611067c-2cf9-4f1b-ac6b-22530caabf04"
      },
      "execution_count": 159,
      "outputs": [
        {
          "output_type": "execute_result",
          "data": {
            "text/plain": [
              "Index(['Name', 'BSE Code', 'NSE Code', 'Industry', 'Current Price',\n",
              "       'Return on equity', 'Price to Earning', 'Price to Sales',\n",
              "       'Debt to equity', 'Market Capitalization', 'Price to book value',\n",
              "       'Return on capital employed', 'OPM', 'Current ratio',\n",
              "       'Operating profit', 'Sales growth', 'Asset Turnover Ratio',\n",
              "       'asset turnover ratio', 'Price to Free Cash Flow', 'Promoter holding',\n",
              "       'Change in promoter holding'],\n",
              "      dtype='object')"
            ]
          },
          "metadata": {},
          "execution_count": 159
        }
      ]
    },
    {
      "cell_type": "code",
      "source": [
        "scaled_data=data[features].fillna(0.001).values"
      ],
      "metadata": {
        "id": "QUO3mx6neCW2"
      },
      "execution_count": 160,
      "outputs": []
    },
    {
      "cell_type": "code",
      "source": [
        "# Extract the 'Cumulative Returns' column for clustering\n",
        "X = scaled_data\n",
        "\n",
        "# Perform KMeans clustering with 4 clusters\n",
        "kmeans = KMeans(n_clusters=4, random_state=42)\n",
        "data['Cluster'] = kmeans.fit_predict(X)"
      ],
      "metadata": {
        "colab": {
          "base_uri": "https://localhost:8080/"
        },
        "id": "FcQmlxrlTKwF",
        "outputId": "166c9122-c2c2-445d-820f-0d9445ce4962"
      },
      "execution_count": 164,
      "outputs": [
        {
          "output_type": "stream",
          "name": "stderr",
          "text": [
            "/usr/local/lib/python3.10/dist-packages/sklearn/cluster/_kmeans.py:870: FutureWarning: The default value of `n_init` will change from 10 to 'auto' in 1.4. Set the value of `n_init` explicitly to suppress the warning\n",
            "  warnings.warn(\n"
          ]
        }
      ]
    },
    {
      "cell_type": "code",
      "source": [
        "# Analyze and interpret clusters\n",
        "for i in range(4):\n",
        "    cluster_data = data[data['Cluster'] == i]\n",
        "    print(f\"Cluster {i}:\\n\", cluster_data[features].median())\n",
        "    print(f\"Cluster_shape {i}:\\n\", cluster_data.shape)\n"
      ],
      "metadata": {
        "colab": {
          "base_uri": "https://localhost:8080/"
        },
        "id": "GNdlLZqmVfi8",
        "outputId": "d347cbfd-f816-48ae-d6a5-367308d67494"
      },
      "execution_count": 167,
      "outputs": [
        {
          "output_type": "stream",
          "name": "stdout",
          "text": [
            "Cluster 0:\n",
            " Return on equity              14.450\n",
            "Price to Earning              24.955\n",
            "Price to Sales                 2.470\n",
            "Debt to equity                 0.300\n",
            "Price to book value            3.565\n",
            "Return on capital employed    14.080\n",
            "OPM                           18.330\n",
            "Current ratio                  1.745\n",
            "Sales growth                   9.830\n",
            "Asset Turnover Ratio           1.040\n",
            "dtype: float64\n",
            "Cluster_shape 0:\n",
            " (319, 22)\n",
            "Cluster 1:\n",
            " Return on equity                -3.140\n",
            "Price to Earning              1330.460\n",
            "Price to Sales                   4.115\n",
            "Debt to equity                   0.870\n",
            "Price to book value             18.400\n",
            "Return on capital employed       3.190\n",
            "OPM                              6.135\n",
            "Current ratio                    1.070\n",
            "Sales growth                    16.140\n",
            "Asset Turnover Ratio             1.790\n",
            "dtype: float64\n",
            "Cluster_shape 1:\n",
            " (2, 22)\n",
            "Cluster 2:\n",
            " Return on equity                5.44\n",
            "Price to Earning              257.48\n",
            "Price to Sales                  5.77\n",
            "Debt to equity                  0.42\n",
            "Price to book value             4.77\n",
            "Return on capital employed      7.81\n",
            "OPM                            10.69\n",
            "Current ratio                   1.93\n",
            "Sales growth                    8.01\n",
            "Asset Turnover Ratio            0.69\n",
            "dtype: float64\n",
            "Cluster_shape 2:\n",
            " (11, 22)\n",
            "Cluster 3:\n",
            " Return on equity              18.110\n",
            "Price to Earning              64.640\n",
            "Price to Sales                 6.810\n",
            "Debt to equity                 0.165\n",
            "Price to book value           10.325\n",
            "Return on capital employed    19.935\n",
            "OPM                           17.800\n",
            "Current ratio                  1.775\n",
            "Sales growth                  13.290\n",
            "Asset Turnover Ratio           1.110\n",
            "dtype: float64\n",
            "Cluster_shape 3:\n",
            " (166, 22)\n"
          ]
        }
      ]
    },
    {
      "cell_type": "markdown",
      "source": [
        "#cluster 0 banks and Financial services\n",
        "#cluster 1 pharmaceuticals\n",
        "#cluster 2 life insurance\n",
        "#cluster 6 is a mix of sectors"
      ],
      "metadata": {
        "id": "UBhrB_JvYJBE"
      }
    },
    {
      "cell_type": "code",
      "source": [
        "data[data['Cluster']==0].to_csv('well_established_companies.csv')"
      ],
      "metadata": {
        "id": "FywXcRvbRhS0"
      },
      "execution_count": 172,
      "outputs": []
    },
    {
      "cell_type": "markdown",
      "source": [
        "Based on the output, here are some potential insights we can derive from the clustering analysis:\n",
        "\n",
        "1. Cluster Characteristics:\n",
        "   - Cluster 0 seems to represent companies with relatively healthy financial ratios - high return on equity (14.45%), reasonable price-to-earnings (24.955), low debt-to-equity (0.3), and good operating profitability (OPM 18.33%). This cluster has the largest number of companies (319).\n",
        "   - Cluster 1 appears to be an outlier cluster with only 2 companies. These companies have a very high price-to-earnings ratio (1330.46), indicating they may be overvalued or have high growth expectations priced in.\n",
        "   - Cluster 2 contains 11 companies with poor profitability metrics - low return on equity (5.44%), high debt-to-equity (0.42), and low operating profitability (OPM 10.69%).\n",
        "   - Cluster 3 represents 166 companies with strong profitability and growth metrics - high return on equity (18.11%), high return on capital employed (19.935%), and good sales growth (13.29%).\n",
        "\n",
        "2. Investment Perspectives:\n",
        "   - Cluster 0 and Cluster 3 could be attractive for value investors, as they contain companies with strong fundamentals and reasonable valuations.\n",
        "   - Cluster 1 may interest growth investors willing to pay a premium for high-growth companies, but the high valuations also carry significant risk.\n",
        "   - Cluster 2 may be less appealing for investment, as the companies exhibit weaker profitability and higher debt levels.\n",
        "\n",
        "3. Industry/Sector Analysis:\n",
        "   - By analyzing which industries or sectors the companies in each cluster belong to, we may be able to identify potential industry trends or characteristics that contribute to the clustering of financial ratios.\n",
        "\n",
        "4. Peer Comparison:\n",
        "   - Within each cluster, companies can be compared to their peers based on the similarities in their financial metrics. This could help identify potential outperformers or underperformers within each group.\n",
        "\n",
        "Overall, this clustering analysis provides a high-level segmentation of companies based on their financial characteristics, which can be useful for investment decision-making, industry analysis, and peer comparisons. However, further analysis and due diligence would be required to make informed investment decisions.(claude ai)"
      ],
      "metadata": {
        "id": "y54Vze7VkhU_"
      }
    },
    {
      "cell_type": "markdown",
      "source": [
        "Absolutely! Here's a breakdown of the cluster profiles, leaving out the smaller, potentially outlier-driven clusters:\n",
        "\n",
        "**Cluster Profiles**\n",
        "\n",
        "* **Cluster 0 (Largest Cluster):**  Healthy profitability (ROE), moderate valuations, low-to-moderate debt, decent growth, and asset efficiency. This seems like a cluster of solid, balanced companies.\n",
        "* **Cluster 1 (Negative Profitability):** Companies facing challenges, with negative profitability, extremely high valuations (especially P/E), and moderate debt. This might indicate companies in turnaround situations or those with very unique business models where standard valuations don't apply.\n",
        "* **Cluster 2 (Low Profitability, High Valuations):**  Lower profitability, very high valuations, moderate debt, decent growth, and lower asset turnover. These companies might be speculative, where investors are betting on future potential despite lower current earnings.\n",
        "* **Cluster 3 (Strong Performers):** High profitability, relatively high valuations, low debt, decent growth, and good asset turnover. This cluster likely contains strong performers with growth expectations priced into their valuations.\n",
        "\n",
        "**Observations**\n",
        "\n",
        "* **Profitability:** Your clusters primarily differ based on profitability. Cluster 0 and Cluster 3 showcase healthy profitability, while clusters 1 and 2 exhibit struggles.\n",
        "* **Valuation:** Clusters 1 and 2 stand out with very high valuations, especially in relation to their profitability.  \n",
        "* **Focus Points:** It's helpful that you likely removed some outliers. This allows us to focus more clearly on the larger patterns.\n",
        "\n",
        "**Actions to Take**\n",
        "\n",
        "1. **Industry Analysis:**  Knowing the industries these companies represent will add a significant layer to the analysis. Different industries have naturally distinct financial profiles.\n",
        "2. **Growth Expectations:** Consider whether the high valuations in Clusters 1, 2, and 3 could be justified by above-average growth expectations. Analyze market forecasts or company projections for the industries involved in these clusters.\n",
        "3. **Qualitative Factors:** Supplement this quantitative view with qualitative research. Look into the individual stories behind companies in clusters 1 and 2 to understand their high valuations despite weak profitability.\n",
        "\n",
        "**Questions to Deepen Analysis**\n",
        "\n",
        "* Do you know the industries represented in these clusters?\n",
        "* Are you interested in exploring why Clusters 1 and 2 have high valuations despite weaker profitability?\n",
        "\n",
        "Let me know, and we can delve into specific aspects further!\n",
        "(gemini)"
      ],
      "metadata": {
        "id": "_g8XPLKXk4h-"
      }
    },
    {
      "cell_type": "code",
      "source": [],
      "metadata": {
        "id": "I_6pV-kaRlnL"
      },
      "execution_count": 166,
      "outputs": []
    }
  ]
}