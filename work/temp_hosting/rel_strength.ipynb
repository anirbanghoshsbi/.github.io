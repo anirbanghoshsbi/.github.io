{
  "nbformat": 4,
  "nbformat_minor": 0,
  "metadata": {
    "colab": {
      "provenance": [],
      "authorship_tag": "ABX9TyOsWIh9Rb9D6KzgOpewN2a6",
      "include_colab_link": true
    },
    "kernelspec": {
      "name": "python3",
      "display_name": "Python 3"
    },
    "language_info": {
      "name": "python"
    }
  },
  "cells": [
    {
      "cell_type": "markdown",
      "metadata": {
        "id": "view-in-github",
        "colab_type": "text"
      },
      "source": [
        "<a href=\"https://colab.research.google.com/github/anirbanghoshsbi/.github.io/blob/master/work/temp_hosting/rel_strength.ipynb\" target=\"_parent\"><img src=\"https://colab.research.google.com/assets/colab-badge.svg\" alt=\"Open In Colab\"/></a>"
      ]
    },
    {
      "cell_type": "code",
      "execution_count": null,
      "metadata": {
        "id": "litmO2QUM8as"
      },
      "outputs": [],
      "source": [
        "import pandas as pd\n",
        "import numpy as np\n",
        "from sklearn.cluster import KMeans\n",
        "import yfinance as yf\n",
        "# Example stock data (replace with your actual data)\n",
        "nifty50_url = \"https://raw.githubusercontent.com/anirbanghoshsbi/data/main/ind_nifty50list.csv\"\n",
        "nifty50 = pd.read_csv(nifty50_url)\n",
        "tickers = nifty50['Symbol'].apply(lambda x: x + \".NS\").tolist()\n",
        "# Bank Nifty Stocks\n",
        "nifty_stocks = tickers\n",
        "start_date = '2023-01-02'\n",
        "end_date = '2024-04-25'\n",
        "def download_data(stock_list,periods,start_date):\n",
        "    data = yf.download(stock_list, start=start_date)\n",
        "    data = data[['Adj Close']]\n",
        "    return data\n",
        "\n",
        "# Example benchmark index data (replace with your actual data)\n",
        "benchmark_index = {\n",
        "    'Index': ['MyIndex'],\n",
        "    'Value': [2000]\n",
        "}\n",
        "\n",
        "# Create DataFrames\n",
        "stock_df = download_data(nifty_stocks, start_date, end_date)\n",
        "benchmark_df = pd.DataFrame(benchmark_index)\n",
        "\n",
        "# Assuming stock_data is your DataFrame with MultiIndex columns\n",
        "\n",
        "# Reset the columns index to flatten the MultiIndex\n",
        "stock_df.columns = stock_df.columns.get_level_values(1)\n",
        "\n",
        "# Calculate percentage change for each stock\n",
        "percentage_change_data = stock_df.pct_change()*100\n",
        "\n",
        "# Create a new DataFrame to store the percentage change data\n",
        "percentage_change_df = pd.DataFrame(percentage_change_data)\n",
        "\n",
        "# Print the first few rows of the DataFrame\n",
        "\n",
        "\n",
        "'''\n",
        "benchmark_df['Percentage Change'] = benchmark_df['Value'].pct_change() * 100\n",
        "\n",
        "# Remove NaN values\n",
        "stock_df.dropna(inplace=True)\n",
        "benchmark_df.dropna(inplace=True)\n",
        "\n",
        "# Calculate beta for each stock\n",
        "covariances = []\n",
        "for i, stock in enumerate(stock_df['Stock']):\n",
        "    stock_returns = stock_df['Value'].pct_change().dropna()\n",
        "    if i == 0:  # Handle the first data point differently\n",
        "        covariance = 0  # Or use an alternative method for beta calculation\n",
        "    else:\n",
        "        covariance = np.cov(stock_returns, benchmark_df['Percentage Change'])[0, 1]\n",
        "    benchmark_variance = np.var(benchmark_df['Percentage Change'])\n",
        "    beta = covariance / benchmark_variance\n",
        "    covariances.append(beta)\n",
        "\n",
        "stock_df['Beta'] = covariances\n",
        "\n",
        "# Calculate volatility for each stock\n",
        "stock_volatility = []\n",
        "for stock in stock_df['Stock']:\n",
        "    stock_returns = stock_df['Value'].pct_change().dropna()\n",
        "    volatility = np.std(stock_returns)\n",
        "    stock_volatility.append(volatility)\n",
        "\n",
        "stock_df['Volatility'] = stock_volatility\n",
        "\n",
        "# Calculate relative strength\n",
        "stock_df['Relative Strength'] = stock_df['Percentage Change'] / benchmark_df['Percentage Change'].iloc[0]\n",
        "\n",
        "# Print the results\n",
        "print(stock_df[['Stock', 'Relative Strength', 'Volatility']])\n",
        "\n",
        "# Optional: Clustering\n",
        "X = stock_df[['Relative Strength', 'Volatility']].values\n",
        "kmeans = KMeans(n_clusters=3)\n",
        "kmeans.fit(X)\n",
        "stock_df['Cluster'] = kmeans.labels_\n",
        "\n",
        "# Print clustering results\n",
        "print(stock_df[['Stock', 'Cluster']])\n",
        "\n",
        "'''\n",
        "\n",
        "\n"
      ]
    },
    {
      "cell_type": "code",
      "source": [
        "percentage_change_df.shape"
      ],
      "metadata": {
        "id": "nWi3dK-yRQWu",
        "outputId": "1b6a1688-f395-47ca-cfdd-29d461d9fc3a",
        "colab": {
          "base_uri": "https://localhost:8080/"
        }
      },
      "execution_count": 11,
      "outputs": [
        {
          "output_type": "execute_result",
          "data": {
            "text/plain": [
              "(2, 50)"
            ]
          },
          "metadata": {},
          "execution_count": 11
        }
      ]
    },
    {
      "cell_type": "code",
      "source": [],
      "metadata": {
        "id": "L2ggRfYAR3Oj"
      },
      "execution_count": null,
      "outputs": []
    }
  ]
}