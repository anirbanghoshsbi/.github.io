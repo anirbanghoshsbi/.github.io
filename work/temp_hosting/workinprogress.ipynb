{
  "nbformat": 4,
  "nbformat_minor": 0,
  "metadata": {
    "colab": {
      "provenance": [],
      "authorship_tag": "ABX9TyN0o+VxwoqOnGfovYXKy5LN",
      "include_colab_link": true
    },
    "kernelspec": {
      "name": "python3",
      "display_name": "Python 3"
    },
    "language_info": {
      "name": "python"
    }
  },
  "cells": [
    {
      "cell_type": "markdown",
      "metadata": {
        "id": "view-in-github",
        "colab_type": "text"
      },
      "source": [
        "<a href=\"https://colab.research.google.com/github/anirbanghoshsbi/.github.io/blob/master/work/temp_hosting/workinprogress.ipynb\" target=\"_parent\"><img src=\"https://colab.research.google.com/assets/colab-badge.svg\" alt=\"Open In Colab\"/></a>"
      ]
    },
    {
      "cell_type": "code",
      "source": [
        "import yfinance as yf\n",
        "import pandas as pd\n",
        "import os\n",
        "from datetime import date, timedelta\n",
        "\n",
        "# Function to get Nifty 50 tickers\n",
        "def get_nifty50_tickers():\n",
        "    # As of November 2023, I don't have updated information on Nifty 50 constituents\n",
        "    # You'll need to update this list with the current Nifty 50 tickers\n",
        "    # You can find this information on the NSE website or other financial sources\n",
        "    nifty50_tickers = [\n",
        "        # \"RELIANCE.NS\", \"TCS.NS\", ... (add other Nifty 50 tickers here)\n",
        "    ]\n",
        "    return nifty50_tickers\n",
        "\n",
        "# Download data for each ticker and save to separate CSV files\n",
        "nifty50_tickers = get_nifty50_tickers()\n",
        "\n",
        "for ticker in nifty50_tickers:\n",
        "    try:\n",
        "        data = yf.download(ticker)  # Download data without specifying start or end date\n",
        "        data.to_csv(f\"{ticker}.csv\")  # Save to CSV with ticker as filename\n",
        "        print(f\"Data for {ticker} saved successfully.\")\n",
        "    except Exception as e:\n",
        "        print(f\"Error downloading data for {ticker}: {e}\")"
      ],
      "metadata": {
        "id": "i8blix_v6BrE"
      },
      "execution_count": null,
      "outputs": []
    },
    {
      "cell_type": "code",
      "source": [
        "# Function to get Nifty 50 tickers\n",
        "def get_nifty50_tickers():\n",
        "    # Update this list with the current Nifty 50 tickers\n",
        "    nifty50_tickers = [\n",
        "        # \"RELIANCE.NS\", \"TCS.NS\", ... (add other Nifty 50 tickers here)\n",
        "    ]\n",
        "    return nifty50_tickers\n",
        "\n",
        "# Get today's date and the date of the last available data (assuming it's yesterday)\n",
        "today = date.today()\n",
        "last_data_date = today - timedelta(days=1)\n",
        "\n",
        "# Get list of CSV files in the directory\n",
        "csv_files = [f for f in os.listdir() if f.endswith(\".csv\")]\n",
        "\n",
        "# Update each CSV file\n",
        "for filename in csv_files:\n",
        "    try:\n",
        "        # Read existing data\n",
        "        df = pd.read_csv(filename, index_col=\"Date\", parse_dates=True)\n",
        "\n",
        "        # Get the last date in the existing data\n",
        "        last_date_in_df = df.index[-1].date()\n",
        "\n",
        "        # Check if update is needed\n",
        "        if last_date_in_df < last_data_date:\n",
        "            # Download new data from yfinance\n",
        "            ticker = filename.split(\".\")[0]  # Extract ticker from filename\n",
        "            new_data = yf.download(ticker, start=last_date_in_df + timedelta(days=1), end=today)\n",
        "\n",
        "            # Append new data to existing DataFrame\n",
        "            df = pd.concat([df, new_data])\n",
        "            df.to_csv(filename, index=True)  # Save updated DataFrame to CSV\n",
        "            print(f\"Updated data for {ticker}\")\n",
        "        else:\n",
        "            print(f\"Data for {ticker} is already up-to-date.\")\n",
        "\n",
        "    except Exception as e:\n",
        "        print(f\"Error updating file {filename}: {e}\")"
      ],
      "metadata": {
        "id": "2LuYfOzS61F0"
      },
      "execution_count": null,
      "outputs": []
    },
    {
      "cell_type": "code",
      "source": [
        "import pandas as pd\n",
        "import os\n",
        "from datetime import date, timedelta\n",
        "\n",
        "# Define output columns\n",
        "output_columns = [\"Name\", \"Daily\", \"1 Week\", \"1 Month\", \"YTD\", \"1 Year\", \"3 Years\"]\n",
        "\n",
        "# Function to calculate returns\n",
        "def calculate_returns(data, periods):\n",
        "    returns = {}\n",
        "    for period, days in periods.items():\n",
        "        if len(data) >= days:\n",
        "            returns[period] = (data[\"Close\"][-1] - data[\"Close\"][-days]) / data[\"Close\"][-days]\n",
        "        else:\n",
        "            returns[period] = \"-\"  # Not enough data\n",
        "    return returns\n",
        "\n",
        "# Get list of CSV files in the directory\n",
        "csv_files = [f for f in os.listdir() if f.endswith(\".csv\")]\n",
        "\n",
        "results = []\n",
        "for filename in csv_files:\n",
        "    try:\n",
        "        # Read CSV data\n",
        "        data = pd.read_csv(filename, index_col=\"Date\", parse_dates=True)\n",
        "\n",
        "        # Calculate returns for different periods\n",
        "        periods = {\"Daily\": 1, \"1 Week\": 7, \"1 Month\": 30, \"YTD\": (date.today() - date(date.today().year, 1, 1)).days, \"1 Year\": 365, \"3 Years\": 365 * 3}\n",
        "        returns = calculate_returns(data, periods)\n",
        "\n",
        "        # Get stock name from filename (assuming filename format is \"TICKER.csv\")\n",
        "        stock_name = filename.split(\".\")[0]\n",
        "\n",
        "        # Create row for output\n",
        "        row = [stock_name] + [returns[period] for period in output_columns[1:]]\n",
        "        results.append(row)\n",
        "\n",
        "    except Exception as e:\n",
        "        print(f\"Error processing file {filename}: {e}\")\n",
        "\n",
        "# Create DataFrame and save to CSV\n",
        "output_df = pd.DataFrame(results, columns=output_columns)\n",
        "output_df.to_csv(\"Screener Results.csv\", index=False)\n",
        "print(\"Results saved to Screener Results.csv\")"
      ],
      "metadata": {
        "id": "u4hJ0khO57Cw"
      },
      "execution_count": null,
      "outputs": []
    }
  ]
}