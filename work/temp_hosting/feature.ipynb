{
  "nbformat": 4,
  "nbformat_minor": 0,
  "metadata": {
    "colab": {
      "provenance": [],
      "authorship_tag": "ABX9TyNP7uQqWWViw5P86m2PhYhK",
      "include_colab_link": true
    },
    "kernelspec": {
      "name": "python3",
      "display_name": "Python 3"
    },
    "language_info": {
      "name": "python"
    }
  },
  "cells": [
    {
      "cell_type": "markdown",
      "metadata": {
        "id": "view-in-github",
        "colab_type": "text"
      },
      "source": [
        "<a href=\"https://colab.research.google.com/github/anirbanghoshsbi/.github.io/blob/master/work/temp_hosting/feature.ipynb\" target=\"_parent\"><img src=\"https://colab.research.google.com/assets/colab-badge.svg\" alt=\"Open In Colab\"/></a>"
      ]
    },
    {
      "cell_type": "code",
      "source": [
        "!pip install vecstack==0.4.0 -q"
      ],
      "metadata": {
        "id": "M3LgrQG11hgP"
      },
      "execution_count": 1,
      "outputs": []
    },
    {
      "cell_type": "code",
      "execution_count": 2,
      "metadata": {
        "id": "xNTdRK8ecKe4"
      },
      "outputs": [],
      "source": [
        "from sklearn.model_selection import train_test_split\n",
        "from sklearn.metrics import accuracy_score\n",
        "#from sklearn.ensemble import ExtraTreesClassifier\n",
        "from sklearn.linear_model import LogisticRegression\n",
        "from sklearn import svm\n",
        "from sklearn.ensemble import RandomForestClassifier\n",
        "#from sklearn.neighbors import KNeighborsClassifier\n",
        "from sklearn.discriminant_analysis import LinearDiscriminantAnalysis as LDA\n",
        "#from xgboost import XGBClassifier\n",
        "from vecstack import stacking\n",
        "from sklearn.preprocessing import StandardScaler\n",
        "from sklearn.preprocessing import RobustScaler\n",
        "import numpy as np\n",
        "import pandas as pd\n",
        "\n",
        "from statsmodels.tsa.stattools import adfuller\n",
        "\n",
        "data = pd.read_csv('https://raw.githubusercontent.com/anirbanghoshsbi/.github.io/master/work/Composite_data.csv')"
      ]
    },
    {
      "cell_type": "code",
      "source": [
        "data_ffill=data.ffill()"
      ],
      "metadata": {
        "id": "5mRP84iXdR7k"
      },
      "execution_count": 3,
      "outputs": []
    },
    {
      "cell_type": "code",
      "source": [
        "data_ffill.set_index('date',inplace=True)"
      ],
      "metadata": {
        "id": "-8O0VyY7eBSv"
      },
      "execution_count": 4,
      "outputs": []
    },
    {
      "cell_type": "code",
      "source": [
        "data_ffill.tail(2)"
      ],
      "metadata": {
        "colab": {
          "base_uri": "https://localhost:8080/",
          "height": 232
        },
        "id": "4vpvQkrRehIx",
        "outputId": "2e248164-d89f-48b3-a464-8a4d0ed5eb13"
      },
      "execution_count": 5,
      "outputs": [
        {
          "output_type": "execute_result",
          "data": {
            "text/plain": [
              "            FIICash  DIIcash  Percentage_above_5_dma  Percentage_above_10_dma  \\\n",
              "date                                                                            \n",
              "29-04-2024    169.0    692.0                      72                       64   \n",
              "30-04-2024   1072.0   1430.0                      62                       62   \n",
              "\n",
              "            Above_15_dma  Percentage_above_20_dma      VIX  GoldPrice  IN10YR  \\\n",
              "date                                                                            \n",
              "29-04-2024            58                       54  12.2125  61.299999  99.871   \n",
              "30-04-2024            60                       60  12.8700  60.880001  99.888   \n",
              "\n",
              "            IN10YR_yield       open       high      low     close  \n",
              "date                                                               \n",
              "29-04-2024         7.200  22475.551  22655.801  22441.9  22643.40  \n",
              "30-04-2024         7.195  22679.650  22783.350  22568.4  22604.85  "
            ],
            "text/html": [
              "\n",
              "  <div id=\"df-77b1591c-a1d7-4425-ac00-fc80e1181079\" class=\"colab-df-container\">\n",
              "    <div>\n",
              "<style scoped>\n",
              "    .dataframe tbody tr th:only-of-type {\n",
              "        vertical-align: middle;\n",
              "    }\n",
              "\n",
              "    .dataframe tbody tr th {\n",
              "        vertical-align: top;\n",
              "    }\n",
              "\n",
              "    .dataframe thead th {\n",
              "        text-align: right;\n",
              "    }\n",
              "</style>\n",
              "<table border=\"1\" class=\"dataframe\">\n",
              "  <thead>\n",
              "    <tr style=\"text-align: right;\">\n",
              "      <th></th>\n",
              "      <th>FIICash</th>\n",
              "      <th>DIIcash</th>\n",
              "      <th>Percentage_above_5_dma</th>\n",
              "      <th>Percentage_above_10_dma</th>\n",
              "      <th>Above_15_dma</th>\n",
              "      <th>Percentage_above_20_dma</th>\n",
              "      <th>VIX</th>\n",
              "      <th>GoldPrice</th>\n",
              "      <th>IN10YR</th>\n",
              "      <th>IN10YR_yield</th>\n",
              "      <th>open</th>\n",
              "      <th>high</th>\n",
              "      <th>low</th>\n",
              "      <th>close</th>\n",
              "    </tr>\n",
              "    <tr>\n",
              "      <th>date</th>\n",
              "      <th></th>\n",
              "      <th></th>\n",
              "      <th></th>\n",
              "      <th></th>\n",
              "      <th></th>\n",
              "      <th></th>\n",
              "      <th></th>\n",
              "      <th></th>\n",
              "      <th></th>\n",
              "      <th></th>\n",
              "      <th></th>\n",
              "      <th></th>\n",
              "      <th></th>\n",
              "      <th></th>\n",
              "    </tr>\n",
              "  </thead>\n",
              "  <tbody>\n",
              "    <tr>\n",
              "      <th>29-04-2024</th>\n",
              "      <td>169.0</td>\n",
              "      <td>692.0</td>\n",
              "      <td>72</td>\n",
              "      <td>64</td>\n",
              "      <td>58</td>\n",
              "      <td>54</td>\n",
              "      <td>12.2125</td>\n",
              "      <td>61.299999</td>\n",
              "      <td>99.871</td>\n",
              "      <td>7.200</td>\n",
              "      <td>22475.551</td>\n",
              "      <td>22655.801</td>\n",
              "      <td>22441.9</td>\n",
              "      <td>22643.40</td>\n",
              "    </tr>\n",
              "    <tr>\n",
              "      <th>30-04-2024</th>\n",
              "      <td>1072.0</td>\n",
              "      <td>1430.0</td>\n",
              "      <td>62</td>\n",
              "      <td>62</td>\n",
              "      <td>60</td>\n",
              "      <td>60</td>\n",
              "      <td>12.8700</td>\n",
              "      <td>60.880001</td>\n",
              "      <td>99.888</td>\n",
              "      <td>7.195</td>\n",
              "      <td>22679.650</td>\n",
              "      <td>22783.350</td>\n",
              "      <td>22568.4</td>\n",
              "      <td>22604.85</td>\n",
              "    </tr>\n",
              "  </tbody>\n",
              "</table>\n",
              "</div>\n",
              "    <div class=\"colab-df-buttons\">\n",
              "\n",
              "  <div class=\"colab-df-container\">\n",
              "    <button class=\"colab-df-convert\" onclick=\"convertToInteractive('df-77b1591c-a1d7-4425-ac00-fc80e1181079')\"\n",
              "            title=\"Convert this dataframe to an interactive table.\"\n",
              "            style=\"display:none;\">\n",
              "\n",
              "  <svg xmlns=\"http://www.w3.org/2000/svg\" height=\"24px\" viewBox=\"0 -960 960 960\">\n",
              "    <path d=\"M120-120v-720h720v720H120Zm60-500h600v-160H180v160Zm220 220h160v-160H400v160Zm0 220h160v-160H400v160ZM180-400h160v-160H180v160Zm440 0h160v-160H620v160ZM180-180h160v-160H180v160Zm440 0h160v-160H620v160Z\"/>\n",
              "  </svg>\n",
              "    </button>\n",
              "\n",
              "  <style>\n",
              "    .colab-df-container {\n",
              "      display:flex;\n",
              "      gap: 12px;\n",
              "    }\n",
              "\n",
              "    .colab-df-convert {\n",
              "      background-color: #E8F0FE;\n",
              "      border: none;\n",
              "      border-radius: 50%;\n",
              "      cursor: pointer;\n",
              "      display: none;\n",
              "      fill: #1967D2;\n",
              "      height: 32px;\n",
              "      padding: 0 0 0 0;\n",
              "      width: 32px;\n",
              "    }\n",
              "\n",
              "    .colab-df-convert:hover {\n",
              "      background-color: #E2EBFA;\n",
              "      box-shadow: 0px 1px 2px rgba(60, 64, 67, 0.3), 0px 1px 3px 1px rgba(60, 64, 67, 0.15);\n",
              "      fill: #174EA6;\n",
              "    }\n",
              "\n",
              "    .colab-df-buttons div {\n",
              "      margin-bottom: 4px;\n",
              "    }\n",
              "\n",
              "    [theme=dark] .colab-df-convert {\n",
              "      background-color: #3B4455;\n",
              "      fill: #D2E3FC;\n",
              "    }\n",
              "\n",
              "    [theme=dark] .colab-df-convert:hover {\n",
              "      background-color: #434B5C;\n",
              "      box-shadow: 0px 1px 3px 1px rgba(0, 0, 0, 0.15);\n",
              "      filter: drop-shadow(0px 1px 2px rgba(0, 0, 0, 0.3));\n",
              "      fill: #FFFFFF;\n",
              "    }\n",
              "  </style>\n",
              "\n",
              "    <script>\n",
              "      const buttonEl =\n",
              "        document.querySelector('#df-77b1591c-a1d7-4425-ac00-fc80e1181079 button.colab-df-convert');\n",
              "      buttonEl.style.display =\n",
              "        google.colab.kernel.accessAllowed ? 'block' : 'none';\n",
              "\n",
              "      async function convertToInteractive(key) {\n",
              "        const element = document.querySelector('#df-77b1591c-a1d7-4425-ac00-fc80e1181079');\n",
              "        const dataTable =\n",
              "          await google.colab.kernel.invokeFunction('convertToInteractive',\n",
              "                                                    [key], {});\n",
              "        if (!dataTable) return;\n",
              "\n",
              "        const docLinkHtml = 'Like what you see? Visit the ' +\n",
              "          '<a target=\"_blank\" href=https://colab.research.google.com/notebooks/data_table.ipynb>data table notebook</a>'\n",
              "          + ' to learn more about interactive tables.';\n",
              "        element.innerHTML = '';\n",
              "        dataTable['output_type'] = 'display_data';\n",
              "        await google.colab.output.renderOutput(dataTable, element);\n",
              "        const docLink = document.createElement('div');\n",
              "        docLink.innerHTML = docLinkHtml;\n",
              "        element.appendChild(docLink);\n",
              "      }\n",
              "    </script>\n",
              "  </div>\n",
              "\n",
              "\n",
              "<div id=\"df-b900a20c-32ca-420e-a06c-562075ce9029\">\n",
              "  <button class=\"colab-df-quickchart\" onclick=\"quickchart('df-b900a20c-32ca-420e-a06c-562075ce9029')\"\n",
              "            title=\"Suggest charts\"\n",
              "            style=\"display:none;\">\n",
              "\n",
              "<svg xmlns=\"http://www.w3.org/2000/svg\" height=\"24px\"viewBox=\"0 0 24 24\"\n",
              "     width=\"24px\">\n",
              "    <g>\n",
              "        <path d=\"M19 3H5c-1.1 0-2 .9-2 2v14c0 1.1.9 2 2 2h14c1.1 0 2-.9 2-2V5c0-1.1-.9-2-2-2zM9 17H7v-7h2v7zm4 0h-2V7h2v10zm4 0h-2v-4h2v4z\"/>\n",
              "    </g>\n",
              "</svg>\n",
              "  </button>\n",
              "\n",
              "<style>\n",
              "  .colab-df-quickchart {\n",
              "      --bg-color: #E8F0FE;\n",
              "      --fill-color: #1967D2;\n",
              "      --hover-bg-color: #E2EBFA;\n",
              "      --hover-fill-color: #174EA6;\n",
              "      --disabled-fill-color: #AAA;\n",
              "      --disabled-bg-color: #DDD;\n",
              "  }\n",
              "\n",
              "  [theme=dark] .colab-df-quickchart {\n",
              "      --bg-color: #3B4455;\n",
              "      --fill-color: #D2E3FC;\n",
              "      --hover-bg-color: #434B5C;\n",
              "      --hover-fill-color: #FFFFFF;\n",
              "      --disabled-bg-color: #3B4455;\n",
              "      --disabled-fill-color: #666;\n",
              "  }\n",
              "\n",
              "  .colab-df-quickchart {\n",
              "    background-color: var(--bg-color);\n",
              "    border: none;\n",
              "    border-radius: 50%;\n",
              "    cursor: pointer;\n",
              "    display: none;\n",
              "    fill: var(--fill-color);\n",
              "    height: 32px;\n",
              "    padding: 0;\n",
              "    width: 32px;\n",
              "  }\n",
              "\n",
              "  .colab-df-quickchart:hover {\n",
              "    background-color: var(--hover-bg-color);\n",
              "    box-shadow: 0 1px 2px rgba(60, 64, 67, 0.3), 0 1px 3px 1px rgba(60, 64, 67, 0.15);\n",
              "    fill: var(--button-hover-fill-color);\n",
              "  }\n",
              "\n",
              "  .colab-df-quickchart-complete:disabled,\n",
              "  .colab-df-quickchart-complete:disabled:hover {\n",
              "    background-color: var(--disabled-bg-color);\n",
              "    fill: var(--disabled-fill-color);\n",
              "    box-shadow: none;\n",
              "  }\n",
              "\n",
              "  .colab-df-spinner {\n",
              "    border: 2px solid var(--fill-color);\n",
              "    border-color: transparent;\n",
              "    border-bottom-color: var(--fill-color);\n",
              "    animation:\n",
              "      spin 1s steps(1) infinite;\n",
              "  }\n",
              "\n",
              "  @keyframes spin {\n",
              "    0% {\n",
              "      border-color: transparent;\n",
              "      border-bottom-color: var(--fill-color);\n",
              "      border-left-color: var(--fill-color);\n",
              "    }\n",
              "    20% {\n",
              "      border-color: transparent;\n",
              "      border-left-color: var(--fill-color);\n",
              "      border-top-color: var(--fill-color);\n",
              "    }\n",
              "    30% {\n",
              "      border-color: transparent;\n",
              "      border-left-color: var(--fill-color);\n",
              "      border-top-color: var(--fill-color);\n",
              "      border-right-color: var(--fill-color);\n",
              "    }\n",
              "    40% {\n",
              "      border-color: transparent;\n",
              "      border-right-color: var(--fill-color);\n",
              "      border-top-color: var(--fill-color);\n",
              "    }\n",
              "    60% {\n",
              "      border-color: transparent;\n",
              "      border-right-color: var(--fill-color);\n",
              "    }\n",
              "    80% {\n",
              "      border-color: transparent;\n",
              "      border-right-color: var(--fill-color);\n",
              "      border-bottom-color: var(--fill-color);\n",
              "    }\n",
              "    90% {\n",
              "      border-color: transparent;\n",
              "      border-bottom-color: var(--fill-color);\n",
              "    }\n",
              "  }\n",
              "</style>\n",
              "\n",
              "  <script>\n",
              "    async function quickchart(key) {\n",
              "      const quickchartButtonEl =\n",
              "        document.querySelector('#' + key + ' button');\n",
              "      quickchartButtonEl.disabled = true;  // To prevent multiple clicks.\n",
              "      quickchartButtonEl.classList.add('colab-df-spinner');\n",
              "      try {\n",
              "        const charts = await google.colab.kernel.invokeFunction(\n",
              "            'suggestCharts', [key], {});\n",
              "      } catch (error) {\n",
              "        console.error('Error during call to suggestCharts:', error);\n",
              "      }\n",
              "      quickchartButtonEl.classList.remove('colab-df-spinner');\n",
              "      quickchartButtonEl.classList.add('colab-df-quickchart-complete');\n",
              "    }\n",
              "    (() => {\n",
              "      let quickchartButtonEl =\n",
              "        document.querySelector('#df-b900a20c-32ca-420e-a06c-562075ce9029 button');\n",
              "      quickchartButtonEl.style.display =\n",
              "        google.colab.kernel.accessAllowed ? 'block' : 'none';\n",
              "    })();\n",
              "  </script>\n",
              "</div>\n",
              "\n",
              "    </div>\n",
              "  </div>\n"
            ],
            "application/vnd.google.colaboratory.intrinsic+json": {
              "type": "dataframe",
              "summary": "{\n  \"name\": \"data_ffill\",\n  \"rows\": 2,\n  \"fields\": [\n    {\n      \"column\": \"date\",\n      \"properties\": {\n        \"dtype\": \"object\",\n        \"num_unique_values\": 2,\n        \"samples\": [\n          \"30-04-2024\",\n          \"29-04-2024\"\n        ],\n        \"semantic_type\": \"\",\n        \"description\": \"\"\n      }\n    },\n    {\n      \"column\": \"FIICash\",\n      \"properties\": {\n        \"dtype\": \"number\",\n        \"std\": 638.5174234114525,\n        \"min\": 169.0,\n        \"max\": 1072.0,\n        \"num_unique_values\": 2,\n        \"samples\": [\n          1072.0,\n          169.0\n        ],\n        \"semantic_type\": \"\",\n        \"description\": \"\"\n      }\n    },\n    {\n      \"column\": \"DIIcash\",\n      \"properties\": {\n        \"dtype\": \"number\",\n        \"std\": 521.8448045156721,\n        \"min\": 692.0,\n        \"max\": 1430.0,\n        \"num_unique_values\": 2,\n        \"samples\": [\n          1430.0,\n          692.0\n        ],\n        \"semantic_type\": \"\",\n        \"description\": \"\"\n      }\n    },\n    {\n      \"column\": \"Percentage_above_5_dma\",\n      \"properties\": {\n        \"dtype\": \"number\",\n        \"std\": 7,\n        \"min\": 62,\n        \"max\": 72,\n        \"num_unique_values\": 2,\n        \"samples\": [\n          62,\n          72\n        ],\n        \"semantic_type\": \"\",\n        \"description\": \"\"\n      }\n    },\n    {\n      \"column\": \"Percentage_above_10_dma\",\n      \"properties\": {\n        \"dtype\": \"number\",\n        \"std\": 1,\n        \"min\": 62,\n        \"max\": 64,\n        \"num_unique_values\": 2,\n        \"samples\": [\n          62,\n          64\n        ],\n        \"semantic_type\": \"\",\n        \"description\": \"\"\n      }\n    },\n    {\n      \"column\": \"Above_15_dma\",\n      \"properties\": {\n        \"dtype\": \"number\",\n        \"std\": 1,\n        \"min\": 58,\n        \"max\": 60,\n        \"num_unique_values\": 2,\n        \"samples\": [\n          60,\n          58\n        ],\n        \"semantic_type\": \"\",\n        \"description\": \"\"\n      }\n    },\n    {\n      \"column\": \"Percentage_above_20_dma\",\n      \"properties\": {\n        \"dtype\": \"number\",\n        \"std\": 4,\n        \"min\": 54,\n        \"max\": 60,\n        \"num_unique_values\": 2,\n        \"samples\": [\n          60,\n          54\n        ],\n        \"semantic_type\": \"\",\n        \"description\": \"\"\n      }\n    },\n    {\n      \"column\": \"VIX\",\n      \"properties\": {\n        \"dtype\": \"number\",\n        \"std\": 0.46492270863015417,\n        \"min\": 12.2125,\n        \"max\": 12.87,\n        \"num_unique_values\": 2,\n        \"samples\": [\n          12.87,\n          12.2125\n        ],\n        \"semantic_type\": \"\",\n        \"description\": \"\"\n      }\n    },\n    {\n      \"column\": \"GoldPrice\",\n      \"properties\": {\n        \"dtype\": \"number\",\n        \"std\": 0.2969834338847874,\n        \"min\": 60.880001,\n        \"max\": 61.299999,\n        \"num_unique_values\": 2,\n        \"samples\": [\n          60.880001,\n          61.299999\n        ],\n        \"semantic_type\": \"\",\n        \"description\": \"\"\n      }\n    },\n    {\n      \"column\": \"IN10YR\",\n      \"properties\": {\n        \"dtype\": \"number\",\n        \"std\": 0.012020815280178463,\n        \"min\": 99.871,\n        \"max\": 99.888,\n        \"num_unique_values\": 2,\n        \"samples\": [\n          99.888,\n          99.871\n        ],\n        \"semantic_type\": \"\",\n        \"description\": \"\"\n      }\n    },\n    {\n      \"column\": \"IN10YR_yield\",\n      \"properties\": {\n        \"dtype\": \"number\",\n        \"std\": 0.003535533905932662,\n        \"min\": 7.195,\n        \"max\": 7.2,\n        \"num_unique_values\": 2,\n        \"samples\": [\n          7.195,\n          7.2\n        ],\n        \"semantic_type\": \"\",\n        \"description\": \"\"\n      }\n    },\n    {\n      \"column\": \"open\",\n      \"properties\": {\n        \"dtype\": \"number\",\n        \"std\": 144.31978693339457,\n        \"min\": 22475.551,\n        \"max\": 22679.65,\n        \"num_unique_values\": 2,\n        \"samples\": [\n          22679.65,\n          22475.551\n        ],\n        \"semantic_type\": \"\",\n        \"description\": \"\"\n      }\n    },\n    {\n      \"column\": \"high\",\n      \"properties\": {\n        \"dtype\": \"number\",\n        \"std\": 90.19076283356229,\n        \"min\": 22655.801,\n        \"max\": 22783.35,\n        \"num_unique_values\": 2,\n        \"samples\": [\n          22783.35,\n          22655.801\n        ],\n        \"semantic_type\": \"\",\n        \"description\": \"\"\n      }\n    },\n    {\n      \"column\": \"low\",\n      \"properties\": {\n        \"dtype\": \"number\",\n        \"std\": 89.44900782009826,\n        \"min\": 22441.9,\n        \"max\": 22568.4,\n        \"num_unique_values\": 2,\n        \"samples\": [\n          22568.4,\n          22441.9\n        ],\n        \"semantic_type\": \"\",\n        \"description\": \"\"\n      }\n    },\n    {\n      \"column\": \"close\",\n      \"properties\": {\n        \"dtype\": \"number\",\n        \"std\": 27.258966414743465,\n        \"min\": 22604.85,\n        \"max\": 22643.4,\n        \"num_unique_values\": 2,\n        \"samples\": [\n          22604.85,\n          22643.4\n        ],\n        \"semantic_type\": \"\",\n        \"description\": \"\"\n      }\n    }\n  ]\n}"
            }
          },
          "metadata": {},
          "execution_count": 5
        }
      ]
    },
    {
      "cell_type": "code",
      "source": [
        "data_ffill.columns"
      ],
      "metadata": {
        "colab": {
          "base_uri": "https://localhost:8080/"
        },
        "id": "ir1EV34Rejdq",
        "outputId": "68c9f123-c061-4950-ebd3-258d4be1d4ce"
      },
      "execution_count": 6,
      "outputs": [
        {
          "output_type": "execute_result",
          "data": {
            "text/plain": [
              "Index(['FIICash', 'DIIcash', 'Percentage_above_5_dma',\n",
              "       'Percentage_above_10_dma', 'Above_15_dma', 'Percentage_above_20_dma',\n",
              "       'VIX', 'GoldPrice', 'IN10YR', 'IN10YR_yield', 'open', 'high', 'low',\n",
              "       'close'],\n",
              "      dtype='object')"
            ]
          },
          "metadata": {},
          "execution_count": 6
        }
      ]
    },
    {
      "cell_type": "code",
      "source": [
        "def create_moving_average(df,windows,feature_name):\n",
        "   for window in windows:\n",
        "      column_name = f'{feature_name}MA_{window}'\n",
        "      df[column_name] = df[feature_name].rolling(window=window).mean()\n",
        "      column_name = f'{feature_name}ROC_{window}'\n",
        "      df[column_name] = (df[feature_name] - df[feature_name].shift(1)) / df[feature_name].shift(1)\n",
        "\n",
        "   return df\n",
        "\n",
        "\n",
        "def create_lagged_features(df, lag, feature_name):\n",
        "    \"\"\"\n",
        "    Create lagged versions of a variable in a DataFrame.\n",
        "\n",
        "    Parameters:\n",
        "        df (DataFrame): The DataFrame containing the variable.\n",
        "        feature_name (str): The name of the column for which lagged versions will be created.\n",
        "        lag (int): The number of lags to create.\n",
        "\n",
        "    Returns:\n",
        "        DataFrame: The DataFrame with lagged features added.\n",
        "    \"\"\"\n",
        "    # Create a copy of the DataFrame to avoid modifying the original DataFrame\n",
        "    df_copy = df.copy()\n",
        "\n",
        "    # Create lagged versions of the variable\n",
        "    for i in range(1, lag + 1):\n",
        "        df_copy[f'{feature_name}_lag_{i}'] = df_copy[feature_name].shift(i)\n",
        "\n",
        "    # Drop rows with NaN values introduced by shifting\n",
        "    df_copy.dropna(inplace=True)\n",
        "\n",
        "    return df_copy\n",
        "\n",
        "\n",
        "\n",
        "\n",
        "def calculate_macd(df,feature_name,short_window=12, long_window=26, signal_window=9):\n",
        "    \"\"\"\n",
        "    Calculate the Moving Average Convergence Divergence (MACD) indicator for a DataFrame.\n",
        "\n",
        "    Parameters:\n",
        "        df (DataFrame): The DataFrame containing the price data.\n",
        "        short_window (int): The short moving average window (default: 12).\n",
        "        long_window (int): The long moving average window (default: 26).\n",
        "        signal_window (int): The signal line window (default: 9).\n",
        "\n",
        "    Returns:\n",
        "        DataFrame: The DataFrame with MACD values added.\n",
        "    \"\"\"\n",
        "    # Calculate short and long Exponential Moving Averages (EMAs)\n",
        "    short_ema = df[feature_name].ewm(span=short_window, min_periods=1, adjust=False).mean()\n",
        "    long_ema = df[feature_name].ewm(span=long_window, min_periods=1, adjust=False).mean()\n",
        "\n",
        "    # Calculate MACD line\n",
        "    macd_line = short_ema - long_ema\n",
        "\n",
        "    # Calculate signal line\n",
        "    signal_line = macd_line.ewm(span=signal_window, min_periods=1, adjust=False).mean()\n",
        "\n",
        "    # Calculate MACD histogram\n",
        "    macd_histogram = macd_line - signal_line\n",
        "\n",
        "    # Add MACD values to the DataFrame\n",
        "    df[f'{feature_name}_MACD_Line_{short_window}'] = macd_line\n",
        "    df[f'{feature_name}_Signal_Line_{short_window}'] = signal_line\n",
        "    df[f'{feature_name}_MACD_Histogram_{short_window}'] = macd_histogram\n",
        "\n",
        "    return df\n",
        "\n",
        "\n"
      ],
      "metadata": {
        "id": "tWWtrD0denQp"
      },
      "execution_count": 7,
      "outputs": []
    },
    {
      "cell_type": "code",
      "source": [
        "def calculate_historical_volatility(df,feature_name, period=14):\n",
        "    \"\"\"\n",
        "    Calculate the historical volatility for a DataFrame using only close prices.\n",
        "\n",
        "    Parameters:\n",
        "        df (DataFrame): The DataFrame containing close prices.\n",
        "        period (int): The period for calculating the historical volatility (default: 14).\n",
        "\n",
        "    Returns:\n",
        "        DataFrame: The DataFrame with historical volatility values added.\n",
        "    \"\"\"\n",
        "    # Calculate the percentage change in close prices\n",
        "    df['returns'] = df[feature_name].pct_change() * 100  # Calculate returns as percentage\n",
        "\n",
        "    # Calculate the rolling standard deviation of the returns\n",
        "    df[f'{feature_name}_historical_volatility_{period}'] = df['returns'].rolling(window=period).std()\n",
        "\n",
        "    # Drop intermediate column\n",
        "    df.drop('returns', axis=1, inplace=True)\n",
        "\n",
        "    return df\n",
        "\n",
        "\n",
        "\n",
        "def adf_test(df, window=20):\n",
        "    \"\"\"\n",
        "    Calculate Augmented Dickey-Fuller (ADF) test statistics for a DataFrame.\n",
        "\n",
        "    Parameters:\n",
        "        df (DataFrame): The DataFrame containing the time series data.\n",
        "        window (int): The window size for calculating rolling statistics (default: 20).\n",
        "\n",
        "    Returns:\n",
        "        DataFrame: The DataFrame with ADF test statistics added.\n",
        "    \"\"\"\n",
        "    # Calculate rolling mean and rolling standard deviation\n",
        "    rolling_mean = df['close'].rolling(window=window).mean()\n",
        "    rolling_std = df['close'].rolling(window=window).std()\n",
        "\n",
        "    # Perform ADF test\n",
        "    adf_results = adfuller(df['close'])\n",
        "    df['adf_test_statistic'] = adf_results[0]\n",
        "    df['adf_test_p_value'] = adf_results[1]\n",
        "\n",
        "    return df\n",
        "\n",
        "\n",
        "def calculate_trend_indicators(df,feature_name,window=5):\n",
        "    \"\"\"\n",
        "    Calculate trend indicators for a DataFrame using linear regression.\n",
        "\n",
        "    Parameters:\n",
        "        df (DataFrame): The DataFrame containing the time series data.\n",
        "        window (int): The window size for linear regression (default: 20).\n",
        "\n",
        "    Returns:\n",
        "        DataFrame: The DataFrame with trend indicators added.\n",
        "    \"\"\"\n",
        "    # Calculate linear regression coefficients\n",
        "    df[f'{feature_name}_{window}_trend_slope'] = np.nan\n",
        "    df[f'{feature_name}_{window}_trend_intercept'] = np.nan\n",
        "\n",
        "    for i in range(window, len(df)):\n",
        "        x = np.arange(window)\n",
        "        y = df[feature_name].values[i - window:i]\n",
        "        slope, intercept = np.polyfit(x, y, 1)\n",
        "        df.at[df.index[i], f'{feature_name}_{window}_trend_slope'] = slope\n",
        "        df.at[df.index[i], f'{feature_name}_{window}_trend_intercept'] = intercept\n",
        "\n",
        "    return df\n",
        "\n",
        "\n",
        "\n",
        "\n",
        "\n",
        "\n"
      ],
      "metadata": {
        "id": "Kcaefta0kxF6"
      },
      "execution_count": 8,
      "outputs": []
    },
    {
      "cell_type": "code",
      "source": [
        "feature_name=data_ffill.columns.tolist()"
      ],
      "metadata": {
        "id": "0ZZvPYrIroIp"
      },
      "execution_count": 9,
      "outputs": []
    },
    {
      "cell_type": "code",
      "source": [
        "def corr_rolling_feat_gen(df,feature_name,window_size):\n",
        "    # Calculate the rolling correlation with a specified window size\n",
        "\n",
        "    df[f'{feature_name}_Rolling_Corr_close'] = df[feature_name].rolling(window=window_size).corr(df['close'])\n",
        "    return df\n",
        "\n"
      ],
      "metadata": {
        "id": "JrAq2T08rDo5"
      },
      "execution_count": 10,
      "outputs": []
    },
    {
      "cell_type": "code",
      "source": [
        "df=data_ffill"
      ],
      "metadata": {
        "id": "4-7lE9pTsobI"
      },
      "execution_count": 11,
      "outputs": []
    },
    {
      "cell_type": "code",
      "source": [
        "window_size = [5,10,15,20,25]\n"
      ],
      "metadata": {
        "id": "4Hye4bFHgEJR"
      },
      "execution_count": 12,
      "outputs": []
    },
    {
      "cell_type": "code",
      "source": [
        "df=calculate_trend_indicators(df,'FIICash',window=5)\n",
        "df=calculate_trend_indicators(df,'DIIcash',window=5)\n",
        "df=calculate_trend_indicators(df,'Percentage_above_5_dma',window=5)\n",
        "df=calculate_trend_indicators(df,'Percentage_above_10_dma',window=5)\n",
        "df=calculate_trend_indicators(df,'Percentage_above_20_dma',window=5)\n",
        "df=calculate_trend_indicators(df,'Above_15_dma',window=5)\n",
        "df=calculate_trend_indicators(df,'VIX',window=5)\n",
        "df=calculate_trend_indicators(df,'IN10YR',window=5)\n",
        "df=calculate_trend_indicators(df,'IN10YR_yield',window=5)\n",
        "\n",
        "df=calculate_trend_indicators(df,'FIICash',window=10)\n",
        "df=calculate_trend_indicators(df,'DIIcash',window=10)\n",
        "df=calculate_trend_indicators(df,'Percentage_above_5_dma',window=10)\n",
        "df=calculate_trend_indicators(df,'Percentage_above_10_dma',window=10)\n",
        "df=calculate_trend_indicators(df,'Percentage_above_20_dma',window=10)\n",
        "df=calculate_trend_indicators(df,'Above_15_dma',window=10)\n",
        "df=calculate_trend_indicators(df,'VIX',window=10)\n",
        "df=calculate_trend_indicators(df,'IN10YR',window=10)\n",
        "df=calculate_trend_indicators(df,'IN10YR_yield',window=10)\n",
        "\n"
      ],
      "metadata": {
        "id": "s2inXTw7nhjR"
      },
      "execution_count": 13,
      "outputs": []
    },
    {
      "cell_type": "code",
      "source": [
        "df=corr_rolling_feat_gen(df,'FIICash',10)\n",
        "df=corr_rolling_feat_gen(df,'DIIcash',10)\n",
        "df=corr_rolling_feat_gen(df,'Percentage_above_5_dma',10)\n",
        "df=corr_rolling_feat_gen(df,'Percentage_above_10_dma',10)\n",
        "df=corr_rolling_feat_gen(df,'Percentage_above_20_dma',10)\n",
        "df=corr_rolling_feat_gen(df,'Above_15_dma',10)\n",
        "df=corr_rolling_feat_gen(df,'VIX',10)\n",
        "df=corr_rolling_feat_gen(df,'IN10YR',10)\n",
        "df=corr_rolling_feat_gen(df,'IN10YR_yield',10)\n"
      ],
      "metadata": {
        "id": "LZIWuKminxwz"
      },
      "execution_count": 14,
      "outputs": []
    },
    {
      "cell_type": "code",
      "source": [
        "df=calculate_historical_volatility(df,'FIICash',10)\n",
        "df=calculate_historical_volatility(df,'DIIcash',10)\n",
        "df=calculate_historical_volatility(df,'Percentage_above_5_dma',10)\n",
        "df=calculate_historical_volatility(df,'Percentage_above_10_dma',10)\n",
        "df=calculate_historical_volatility(df,'Percentage_above_20_dma',10)\n",
        "df=calculate_historical_volatility(df,'Above_15_dma',10)\n",
        "df=calculate_historical_volatility(df,'IN10YR',10)\n",
        "df=calculate_historical_volatility(df,'IN10YR_yield',10)\n",
        "\n",
        "df=calculate_historical_volatility(df,'FIICash',15)\n",
        "df=calculate_historical_volatility(df,'DIIcash',15)\n",
        "df=calculate_historical_volatility(df,'Percentage_above_5_dma',15)\n",
        "df=calculate_historical_volatility(df,'Percentage_above_10_dma',15)\n",
        "df=calculate_historical_volatility(df,'Percentage_above_20_dma',15)\n",
        "df=calculate_historical_volatility(df,'Above_15_dma',15)\n",
        "df=calculate_historical_volatility(df,'IN10YR',15)\n",
        "df=calculate_historical_volatility(df,'IN10YR_yield',15)\n",
        "\n",
        "df=calculate_historical_volatility(df,'FIICash',20)\n",
        "df=calculate_historical_volatility(df,'DIIcash',20)\n",
        "df=calculate_historical_volatility(df,'Percentage_above_5_dma',20)\n",
        "df=calculate_historical_volatility(df,'Percentage_above_10_dma',20)\n",
        "df=calculate_historical_volatility(df,'Percentage_above_20_dma',20)\n",
        "df=calculate_historical_volatility(df,'Above_15_dma',20)\n",
        "df=calculate_historical_volatility(df,'IN10YR',20)\n",
        "df=calculate_historical_volatility(df,'IN10YR_yield',20)\n"
      ],
      "metadata": {
        "id": "cW2V2WO3t0lv"
      },
      "execution_count": 15,
      "outputs": []
    },
    {
      "cell_type": "code",
      "source": [
        "df=calculate_macd(df,'FIICash',short_window=12, long_window=26, signal_window=9)\n",
        "df=calculate_macd(df,'FIICash',short_window=int(12*0.5), long_window=int(26*0.5), signal_window=int(9*0.5))\n",
        "df=calculate_macd(df,'FIICash',short_window=int(12*0.75), long_window=int(26*0.75), signal_window=int(9*0.75))\n",
        "\n",
        "df=calculate_macd(df,'FIICash',short_window=int(12*1.25), long_window=int(26*1.25), signal_window=int(9*1.25))\n",
        "df=calculate_macd(df,'FIICash',short_window=int(12*1.50), long_window=int(26*1.50), signal_window=int(9*1.25))\n",
        "df=calculate_macd(df,'FIICash',short_window=int(9*1.75), long_window=int(9*1.75), signal_window=int(9*1.75))\n",
        "df=calculate_macd(df,'FIICash',short_window=int(12*2), long_window=int(26*2), signal_window=int(9*2))\n",
        "\n",
        "\n",
        "df=calculate_macd(df,'DIIcash',short_window=12, long_window=26, signal_window=9)\n",
        "df=calculate_macd(df,'DIIcash',short_window=int(12*0.5), long_window=int(26*0.5), signal_window=int(9*0.5))\n",
        "df=calculate_macd(df,'DIIcash',short_window=int(12*0.75), long_window=int(26*0.75), signal_window=int(9*0.75))\n",
        "\n",
        "df=calculate_macd(df,'DIIcash',short_window=int(12*1.25), long_window=int(26*1.25), signal_window=int(9*1.25))\n",
        "df=calculate_macd(df,'DIIcash',short_window=int(12*1.50), long_window=int(26*1.50), signal_window=int(9*1.25))\n",
        "df=calculate_macd(df,'DIIcash',short_window=int(9*1.75), long_window=int(9*1.75), signal_window=int(9*1.75))\n",
        "df=calculate_macd(df,'DIIcash',short_window=int(12*2), long_window=int(26*2), signal_window=int(9*2))\n",
        "\n",
        "\n",
        "df=calculate_macd(df,'Percentage_above_5_dma',short_window=12, long_window=26, signal_window=9)\n",
        "df=calculate_macd(df,'Percentage_above_5_dma',short_window=int(12*0.5), long_window=int(26*0.5), signal_window=int(9*0.5))\n",
        "df=calculate_macd(df,'Percentage_above_5_dma',short_window=int(12*0.75), long_window=int(26*0.75), signal_window=int(9*0.75))\n",
        "\n",
        "df=calculate_macd(df,'Percentage_above_5_dma',short_window=int(12*1.25), long_window=int(26*1.25), signal_window=int(9*1.25))\n",
        "df=calculate_macd(df,'Percentage_above_5_dma',short_window=int(12*1.50), long_window=int(26*1.50), signal_window=int(9*1.25))\n",
        "df=calculate_macd(df,'Percentage_above_5_dma',short_window=int(9*1.75), long_window=int(9*1.75), signal_window=int(9*1.75))\n",
        "df=calculate_macd(df,'Percentage_above_5_dma',short_window=int(12*2), long_window=int(26*2), signal_window=int(9*2))\n",
        "\n",
        "\n",
        "df=calculate_macd(df,'Percentage_above_10_dma',short_window=12, long_window=26, signal_window=9)\n",
        "df=calculate_macd(df,'Percentage_above_10_dma',short_window=int(12*0.5), long_window=int(26*0.5), signal_window=int(9*0.5))\n",
        "df=calculate_macd(df,'Percentage_above_10_dma',short_window=int(12*0.75), long_window=int(26*0.75), signal_window=int(9*0.75))\n",
        "\n",
        "df=calculate_macd(df,'Percentage_above_10_dma',short_window=int(12*1.25), long_window=int(26*1.25), signal_window=int(9*1.25))\n",
        "df=calculate_macd(df,'Percentage_above_10_dma',short_window=int(12*1.50), long_window=int(26*1.50), signal_window=int(9*1.25))\n",
        "df=calculate_macd(df,'Percentage_above_10_dma',short_window=int(9*1.75), long_window=int(9*1.75), signal_window=int(9*1.75))\n",
        "df=calculate_macd(df,'Percentage_above_10_dma',short_window=int(12*2), long_window=int(26*2), signal_window=int(9*2))\n",
        "\n",
        "df=calculate_macd(df,'Percentage_above_20_dma',short_window=12, long_window=26, signal_window=9)\n",
        "df=calculate_macd(df,'Percentage_above_20_dma',short_window=int(12*0.5), long_window=int(26*0.5), signal_window=int(9*0.5))\n",
        "df=calculate_macd(df,'Percentage_above_20_dma',short_window=int(12*0.75), long_window=int(26*0.75), signal_window=int(9*0.75))\n",
        "\n",
        "df=calculate_macd(df,'Percentage_above_20_dma',short_window=int(12*1.25), long_window=int(26*1.25), signal_window=int(9*1.25))\n",
        "df=calculate_macd(df,'Percentage_above_20_dma',short_window=int(12*1.50), long_window=int(26*1.50), signal_window=int(9*1.25))\n",
        "df=calculate_macd(df,'Percentage_above_20_dma',short_window=int(9*1.75), long_window=int(9*1.75), signal_window=int(9*1.75))\n",
        "df=calculate_macd(df,'Percentage_above_20_dma',short_window=int(12*2), long_window=int(26*2), signal_window=int(9*2))\n",
        "\n",
        "df=calculate_macd(df,'Above_15_dma',short_window=12, long_window=26, signal_window=9)\n",
        "df=calculate_macd(df,'Above_15_dma',short_window=int(12*0.5), long_window=int(26*0.5), signal_window=int(9*0.5))\n",
        "df=calculate_macd(df,'Above_15_dma',short_window=int(12*0.75), long_window=int(26*0.75), signal_window=int(9*0.75))\n",
        "\n",
        "df=calculate_macd(df,'Above_15_dma',short_window=int(12*1.25), long_window=int(26*1.25), signal_window=int(9*1.25))\n",
        "df=calculate_macd(df,'Above_15_dma',short_window=int(12*1.50), long_window=int(26*1.50), signal_window=int(9*1.25))\n",
        "df=calculate_macd(df,'Above_15_dma',short_window=int(9*1.75), long_window=int(9*1.75), signal_window=int(9*1.75))\n",
        "df=calculate_macd(df,'Above_15_dma',short_window=int(12*2), long_window=int(26*2), signal_window=int(9*2))\n",
        "\n",
        "df=calculate_macd(df,'IN10YR',short_window=12, long_window=26, signal_window=9)\n",
        "df=calculate_macd(df,'IN10YR',short_window=int(12*0.5), long_window=int(26*0.5), signal_window=int(9*0.5))\n",
        "df=calculate_macd(df,'IN10YR',short_window=int(12*0.75), long_window=int(26*0.75), signal_window=int(9*0.75))\n",
        "\n",
        "df=calculate_macd(df,'IN10YR',short_window=int(12*1.25), long_window=int(26*1.25), signal_window=int(9*1.25))\n",
        "df=calculate_macd(df,'IN10YR',short_window=int(12*1.50), long_window=int(26*1.50), signal_window=int(9*1.25))\n",
        "df=calculate_macd(df,'IN10YR',short_window=int(9*1.75), long_window=int(9*1.75), signal_window=int(9*1.75))\n",
        "df=calculate_macd(df,'IN10YR',short_window=int(12*2), long_window=int(26*2), signal_window=int(9*2))\n",
        "\n",
        "df=calculate_macd(df,'IN10YR_yield',short_window=12, long_window=26, signal_window=9)\n",
        "df=calculate_macd(df,'IN10YR_yield',short_window=int(12*0.5), long_window=int(26*0.5), signal_window=int(9*0.5))\n",
        "df=calculate_macd(df,'IN10YR_yield',short_window=int(12*0.75), long_window=int(26*0.75), signal_window=int(9*0.75))\n",
        "\n",
        "df=calculate_macd(df,'IN10YR_yield',short_window=int(12*1.25), long_window=int(26*1.25), signal_window=int(9*1.25))\n",
        "df=calculate_macd(df,'IN10YR_yield',short_window=int(12*1.50), long_window=int(26*1.50), signal_window=int(9*1.25))\n",
        "df=calculate_macd(df,'IN10YR_yield',short_window=int(9*1.75), long_window=int(9*1.75), signal_window=int(9*1.75))\n",
        "df=calculate_macd(df,'IN10YR_yield',short_window=int(12*2), long_window=int(26*2), signal_window=int(9*2))\n",
        "\n"
      ],
      "metadata": {
        "id": "HmG0Oo8Lxr0E"
      },
      "execution_count": null,
      "outputs": []
    },
    {
      "cell_type": "code",
      "source": [
        "data_bfill=df.bfill()"
      ],
      "metadata": {
        "id": "XQg-3ZXm4L_Z"
      },
      "execution_count": 17,
      "outputs": []
    },
    {
      "cell_type": "code",
      "source": [
        "features=data_bfill.columns.tolist()"
      ],
      "metadata": {
        "id": "cb3mk10xz0wA"
      },
      "execution_count": 18,
      "outputs": []
    },
    {
      "cell_type": "code",
      "source": [
        "days_out=6"
      ],
      "metadata": {
        "id": "WHfhbD8_17YO"
      },
      "execution_count": 19,
      "outputs": []
    },
    {
      "cell_type": "code",
      "source": [
        "close_groups = data_bfill['close'].transform(lambda x : np.sign(x.diff(days_out)))\n",
        "data_bfill['Flag'] = close_groups"
      ],
      "metadata": {
        "colab": {
          "base_uri": "https://localhost:8080/"
        },
        "id": "4hzwDrJTz6mu",
        "outputId": "ca54d701-bc96-4656-8aff-fe2662a49f70"
      },
      "execution_count": 20,
      "outputs": [
        {
          "output_type": "stream",
          "name": "stderr",
          "text": [
            "<ipython-input-20-b22121c64faa>:2: PerformanceWarning: DataFrame is highly fragmented.  This is usually the result of calling `frame.insert` many times, which has poor performance.  Consider joining all columns at once using pd.concat(axis=1) instead. To get a de-fragmented frame, use `newframe = frame.copy()`\n",
            "  data_bfill['Flag'] = close_groups\n"
          ]
        }
      ]
    },
    {
      "cell_type": "code",
      "source": [
        "X_Cols = data_bfill[features]\n",
        "Y_Cols = data_bfill['Flag'].fillna(1)\n",
        "samp_train= int(len(data_bfill)*.80)\n",
        "\n",
        "X_train = X_Cols[:samp_train]\n",
        "X_test = X_Cols[samp_train:]\n",
        "y_train = Y_Cols[:samp_train]\n",
        "y_test = Y_Cols[samp_train:]"
      ],
      "metadata": {
        "id": "0mnn3wIrzTzd"
      },
      "execution_count": 21,
      "outputs": []
    },
    {
      "cell_type": "code",
      "source": [
        "X_train[~np.isfinite(X_train)] = 0.01  # Replace infinite values with NaN\n",
        "#max_values = np.nanmax(X_train, axis=0)  # Calculate maximum value for each column\n",
        "#X_train[np.isinf(X_train)] = max_values[np.isinf(X_train)]  # Replace infinite values with maximum value\n"
      ],
      "metadata": {
        "id": "9P0qbaZi47uu"
      },
      "execution_count": null,
      "outputs": []
    },
    {
      "cell_type": "code",
      "source": [
        "# Instantiate the RobustScaler\n",
        "scaler = RobustScaler()\n",
        "\n",
        "# Fit the scaler to the training data and transform both training and testing data\n",
        "X_train_scaled = scaler.fit_transform(X_train)\n",
        "X_test_scaled = scaler.transform(X_test)"
      ],
      "metadata": {
        "id": "39_s7Apd0aYf"
      },
      "execution_count": 23,
      "outputs": []
    },
    {
      "cell_type": "code",
      "source": [
        "models_L1 = [\n",
        "    svm.SVC(kernel='linear'),\n",
        "    RandomForestClassifier(random_state=0, n_jobs=-1,\n",
        "                           n_estimators=1000, max_depth=2,class_weight='balanced'),\n",
        "    ]"
      ],
      "metadata": {
        "id": "9BlFa-7F00tn"
      },
      "execution_count": 24,
      "outputs": []
    },
    {
      "cell_type": "code",
      "source": [
        "model_L1_0 = models_L1[0]\n",
        "_ = model_L1_0.fit(X_train_scaled, y_train)\n",
        "# save model in file if you need\n",
        "\n",
        "model_L1_1 = models_L1[1]\n",
        "_ = model_L1_1.fit(X_train, y_train)#sample_weight=sample_w\n",
        "# save model in file if you need\n",
        ""
      ],
      "metadata": {
        "id": "T6k2E-qH1AJ_"
      },
      "execution_count": 25,
      "outputs": []
    },
    {
      "cell_type": "code",
      "source": [
        "importances = model_L1_1.feature_importances_\n",
        "data = {'feature_name': features, 'importance': importances*100}\n",
        "feature_importance= pd.DataFrame(data)"
      ],
      "metadata": {
        "id": "WPMfy5Ea1Ljv"
      },
      "execution_count": 31,
      "outputs": []
    },
    {
      "cell_type": "code",
      "source": [
        "feat_importance = feature_importance.sort_values(by='importance')\n",
        "feat_importance.to_csv('feat_data.csv')"
      ],
      "metadata": {
        "id": "EgZubKd_1QEV"
      },
      "execution_count": 34,
      "outputs": []
    },
    {
      "cell_type": "code",
      "source": [
        "S_train, S_test = stacking(models_L1,                     # list of models\n",
        "                           X_train, y_train, X_test,   # data\n",
        "                           regression=False,           # classification task (if you need\n",
        "                                                       #     regression - set to True)\n",
        "                           mode='oof',                 # mode: oof for train set, predict test\n",
        "                                                       #mode='oof_pred_bag'(for training) and oof for inference\n",
        "                                                      #     set in each fold and vote\n",
        "                           needs_proba=False,          # predict class labels (if you need\n",
        "                                                       #     probabilities - set to True)\n",
        "                           save_dir=None,              # do not save result and log (to save\n",
        "                                                       #     in current dir - set to '.')\n",
        "                           metric=accuracy_score,      # metric: callable\n",
        "                           n_folds=2,                  # number of folds\n",
        "                           stratified=True,            # stratified split for folds\n",
        "                           shuffle=False,               # shuffle the data\n",
        "                           random_state=None,             # ensure reproducibility\n",
        "                           verbose=2)                  # print all info"
      ],
      "metadata": {
        "colab": {
          "base_uri": "https://localhost:8080/"
        },
        "id": "-TJWpu9x1T2-",
        "outputId": "ab215b8c-67d3-42b7-eb29-cfd2aecae3cb"
      },
      "execution_count": 28,
      "outputs": [
        {
          "output_type": "stream",
          "name": "stdout",
          "text": [
            "task:         [classification]\n",
            "n_classes:    [2]\n",
            "metric:       [accuracy_score]\n",
            "mode:         [oof]\n",
            "n_models:     [2]\n",
            "\n",
            "model  0:     [SVC]\n",
            "    fold  0:  [0.68495575]\n",
            "    fold  1:  [0.57978723]\n",
            "    ----\n",
            "    MEAN:     [0.63237149] + [0.05258426]\n",
            "    FULL:     [0.63241807]\n",
            "\n",
            "model  1:     [RandomForestClassifier]\n",
            "    fold  0:  [0.75221239]\n",
            "    fold  1:  [0.76418440]\n",
            "    ----\n",
            "    MEAN:     [0.75819839] + [0.00598600]\n",
            "    FULL:     [0.75819309]\n",
            "\n"
          ]
        }
      ]
    }
  ]
}