{
  "nbformat": 4,
  "nbformat_minor": 0,
  "metadata": {
    "colab": {
      "provenance": [],
      "authorship_tag": "ABX9TyMMcUHj3esE6LqiYnc+esPH",
      "include_colab_link": true
    },
    "kernelspec": {
      "name": "python3",
      "display_name": "Python 3"
    },
    "language_info": {
      "name": "python"
    }
  },
  "cells": [
    {
      "cell_type": "markdown",
      "metadata": {
        "id": "view-in-github",
        "colab_type": "text"
      },
      "source": [
        "<a href=\"https://colab.research.google.com/github/anirbanghoshsbi/.github.io/blob/master/work/twitter_download.ipynb\" target=\"_parent\"><img src=\"https://colab.research.google.com/assets/colab-badge.svg\" alt=\"Open In Colab\"/></a>"
      ]
    },
    {
      "cell_type": "code",
      "execution_count": 1,
      "metadata": {
        "id": "r378xcnVtcp0"
      },
      "outputs": [],
      "source": [
        "!pip install snscrape --q"
      ]
    },
    {
      "cell_type": "code",
      "source": [
        "import snscrape"
      ],
      "metadata": {
        "id": "-3Df-iIOt7px"
      },
      "execution_count": 2,
      "outputs": []
    },
    {
      "cell_type": "code",
      "source": [
        "import snscrape.modules.twitter as sntwitter"
      ],
      "metadata": {
        "id": "JiUesYYKtsty"
      },
      "execution_count": 3,
      "outputs": []
    },
    {
      "cell_type": "code",
      "source": [
        "import pandas as pd\n"
      ],
      "metadata": {
        "id": "TLpY7sdSuEFi"
      },
      "execution_count": 4,
      "outputs": []
    },
    {
      "cell_type": "code",
      "source": [
        "query = \"(from:TradingComposur) until:2022-11-23 since:2010-01-01\"\n",
        "tweets = []\n",
        "limit = 32000\n",
        "\n",
        "\n",
        "for tweet in sntwitter.TwitterSearchScraper(query).get_items():\n",
        "    \n",
        "    # print(vars(tweet))\n",
        "    # break\n",
        "    if len(tweets) == limit:\n",
        "        break\n",
        "    else:\n",
        "        tweets.append([tweet.date, tweet.username, tweet.content])"
      ],
      "metadata": {
        "id": "bAJyzqcHugKJ"
      },
      "execution_count": 9,
      "outputs": []
    },
    {
      "cell_type": "code",
      "source": [
        "df = pd.DataFrame(tweets, columns=['Date', 'User', 'Tweet'])\n"
      ],
      "metadata": {
        "id": "j3sya11Bujzx"
      },
      "execution_count": 10,
      "outputs": []
    },
    {
      "cell_type": "code",
      "source": [
        "print(df)"
      ],
      "metadata": {
        "colab": {
          "base_uri": "https://localhost:8080/"
        },
        "id": "vwJu_hBRxa44",
        "outputId": "e7e96b5e-842a-44af-f55c-ec9594d10abf"
      },
      "execution_count": 11,
      "outputs": [
        {
          "output_type": "stream",
          "name": "stdout",
          "text": [
            "                           Date             User  \\\n",
            "0     2022-11-22 22:34:11+00:00  TradingComposur   \n",
            "1     2022-11-22 19:26:11+00:00  TradingComposur   \n",
            "2     2022-11-22 16:29:12+00:00  TradingComposur   \n",
            "3     2022-11-22 13:33:11+00:00  TradingComposur   \n",
            "4     2022-11-22 10:25:23+00:00  TradingComposur   \n",
            "...                         ...              ...   \n",
            "29239 2012-07-05 14:51:04+00:00  TradingComposur   \n",
            "29240 2012-04-14 21:10:22+00:00  TradingComposur   \n",
            "29241 2012-04-14 21:09:26+00:00  TradingComposur   \n",
            "29242 2012-04-14 21:09:08+00:00  TradingComposur   \n",
            "29243 2011-10-25 16:20:19+00:00  TradingComposur   \n",
            "\n",
            "                                                   Tweet  \n",
            "0      Without a clear trading plan and a deep commit...  \n",
            "1      Gambling is simply the act of taking risks.\\n\\...  \n",
            "2      The only certainty about the market is that it...  \n",
            "3      A cardinal error that inexperienced traders of...  \n",
            "4      Often, the difference between a winning trader...  \n",
            "...                                                  ...  \n",
            "29239  @SJosephBurns Steve what's your target on it f...  \n",
            "29240  @LJacquouton waiting for someone else to make ...  \n",
            "29241               @LJacquouton @mokshaburnaby congrats  \n",
            "29242                   @LJacquouton lol funny right? :)  \n",
            "29243          @daytradingradio albert king - Guitar man  \n",
            "\n",
            "[29244 rows x 3 columns]\n"
          ]
        }
      ]
    },
    {
      "cell_type": "code",
      "source": [
        "df.to_csv('tradingcompusre.csv')"
      ],
      "metadata": {
        "id": "nxg10gKRvlJi"
      },
      "execution_count": 13,
      "outputs": []
    }
  ]
}