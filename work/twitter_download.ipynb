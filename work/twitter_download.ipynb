{
  "nbformat": 4,
  "nbformat_minor": 0,
  "metadata": {
    "colab": {
      "provenance": [],
      "authorship_tag": "ABX9TyPdICnc2AqWNQY1XXUcRdJN",
      "include_colab_link": true
    },
    "kernelspec": {
      "name": "python3",
      "display_name": "Python 3"
    },
    "language_info": {
      "name": "python"
    }
  },
  "cells": [
    {
      "cell_type": "markdown",
      "metadata": {
        "id": "view-in-github",
        "colab_type": "text"
      },
      "source": [
        "<a href=\"https://colab.research.google.com/github/anirbanghoshsbi/.github.io/blob/master/work/twitter_download.ipynb\" target=\"_parent\"><img src=\"https://colab.research.google.com/assets/colab-badge.svg\" alt=\"Open In Colab\"/></a>"
      ]
    },
    {
      "cell_type": "code",
      "execution_count": null,
      "metadata": {
        "id": "r378xcnVtcp0"
      },
      "outputs": [],
      "source": [
        "#!pip install snscrape --q"
      ]
    },
    {
      "cell_type": "code",
      "source": [
        "import snscrape"
      ],
      "metadata": {
        "id": "-3Df-iIOt7px"
      },
      "execution_count": 2,
      "outputs": []
    },
    {
      "cell_type": "code",
      "source": [
        "import snscrape.modules.twitter as sntwitter"
      ],
      "metadata": {
        "id": "JiUesYYKtsty"
      },
      "execution_count": 4,
      "outputs": []
    },
    {
      "cell_type": "code",
      "source": [
        "import pandas as pd\n"
      ],
      "metadata": {
        "id": "TLpY7sdSuEFi"
      },
      "execution_count": 5,
      "outputs": []
    },
    {
      "cell_type": "code",
      "source": [
        "query = \"(from:SteveTimoney) until:2022-11-23 since:2010-01-01\"\n",
        "tweets = []\n",
        "limit = 46000\n",
        "\n",
        "\n",
        "for tweet in sntwitter.TwitterSearchScraper(query).get_items():\n",
        "    \n",
        "    # print(vars(tweet))\n",
        "    # break\n",
        "    if len(tweets) == limit:\n",
        "        break\n",
        "    else:\n",
        "        tweets.append([tweet.date, tweet.username, tweet.content])"
      ],
      "metadata": {
        "id": "bAJyzqcHugKJ"
      },
      "execution_count": 21,
      "outputs": []
    },
    {
      "cell_type": "code",
      "source": [
        "df = pd.DataFrame(tweets, columns=['Date', 'User', 'Tweet'])\n"
      ],
      "metadata": {
        "id": "j3sya11Bujzx"
      },
      "execution_count": 22,
      "outputs": []
    },
    {
      "cell_type": "code",
      "source": [
        "print(df)"
      ],
      "metadata": {
        "colab": {
          "base_uri": "https://localhost:8080/"
        },
        "id": "vwJu_hBRxa44",
        "outputId": "8b250479-a314-4d2f-fbb7-7ffd8e4ea52c"
      },
      "execution_count": 23,
      "outputs": [
        {
          "output_type": "stream",
          "name": "stdout",
          "text": [
            "                           Date          User  \\\n",
            "0     2022-11-22 22:20:05+00:00  SteveTimoney   \n",
            "1     2022-11-22 18:44:15+00:00  SteveTimoney   \n",
            "2     2022-11-22 18:05:43+00:00  SteveTimoney   \n",
            "3     2022-11-22 18:01:39+00:00  SteveTimoney   \n",
            "4     2022-11-22 18:01:33+00:00  SteveTimoney   \n",
            "...                         ...           ...   \n",
            "43911 2020-04-26 15:26:57+00:00  SteveTimoney   \n",
            "43912 2020-04-24 21:47:22+00:00  SteveTimoney   \n",
            "43913 2020-04-23 14:58:52+00:00  SteveTimoney   \n",
            "43914 2020-04-22 13:43:48+00:00  SteveTimoney   \n",
            "43915 2017-11-16 15:44:49+00:00  SteveTimoney   \n",
            "\n",
            "                                                   Tweet  \n",
            "0                              @anthonysramblin Skittles  \n",
            "1                  @MelisOnCheddar @polak_jasper The way  \n",
            "2                      @Alexmathers84 Great conversation  \n",
            "3                 @polak_jasper One big thing at a time.  \n",
            "4                              @polak_jasper Good system  \n",
            "...                                                  ...  \n",
            "43911  @KyleTrouble How to be cool\\n\\n- Do things tha...  \n",
            "43912  @Wealth_Theory I like the Ship It process by S...  \n",
            "43913  @BrianNorgard “Luck is what happens when prepa...  \n",
            "43914  @TellYourSonThis “Never argue with a fool, onl...  \n",
            "43915  This mornings @dailystoic is a game changing t...  \n",
            "\n",
            "[43916 rows x 3 columns]\n"
          ]
        }
      ]
    },
    {
      "cell_type": "code",
      "source": [
        "df.to_csv('stevetimoney.csv')"
      ],
      "metadata": {
        "id": "nxg10gKRvlJi"
      },
      "execution_count": 24,
      "outputs": []
    }
  ]
}