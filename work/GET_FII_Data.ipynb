{
  "nbformat": 4,
  "nbformat_minor": 0,
  "metadata": {
    "colab": {
      "name": "GET FII Data.ipynb",
      "provenance": [],
      "authorship_tag": "ABX9TyPi49ptfzAeAe42tMOVyobD",
      "include_colab_link": true
    },
    "kernelspec": {
      "name": "python3",
      "display_name": "Python 3"
    },
    "language_info": {
      "name": "python"
    }
  },
  "cells": [
    {
      "cell_type": "markdown",
      "metadata": {
        "id": "view-in-github",
        "colab_type": "text"
      },
      "source": [
        "<a href=\"https://colab.research.google.com/github/anirbanghoshsbi/.github.io/blob/master/work/GET_FII_Data.ipynb\" target=\"_parent\"><img src=\"https://colab.research.google.com/assets/colab-badge.svg\" alt=\"Open In Colab\"/></a>"
      ]
    },
    {
      "cell_type": "code",
      "metadata": {
        "id": "K6JvZu6OTfFw"
      },
      "source": [
        "#!pip install yfinance --q"
      ],
      "execution_count": null,
      "outputs": []
    },
    {
      "cell_type": "code",
      "metadata": {
        "id": "x5eRvduBc3Vg"
      },
      "source": [
        "import plotly.express as px\n",
        "import plotly.graph_objects as go\n",
        "import warnings\n",
        "warnings.simplefilter(action='ignore', category=Warning)\n",
        "import yfinance as yf"
      ],
      "execution_count": null,
      "outputs": []
    },
    {
      "cell_type": "code",
      "metadata": {
        "id": "LgpTeTap-tyo"
      },
      "source": [
        "import numpy as np\n",
        "import pandas as pd\n",
        "#from pykalman import KalmanFilter\n",
        "#import pandas_ta as ta"
      ],
      "execution_count": null,
      "outputs": []
    },
    {
      "cell_type": "code",
      "metadata": {
        "id": "N44pe2UouOVB"
      },
      "source": [
        "nifty=yf.download('^NSEI',start='2018-08-07')\n",
        "nif=nifty.reset_index()"
      ],
      "execution_count": null,
      "outputs": []
    },
    {
      "cell_type": "code",
      "metadata": {
        "id": "OXX5GbW1WVXr"
      },
      "source": [
        "import matplotlib.pyplot as plt\n",
        "from matplotlib.dates import MonthLocator,YearLocator"
      ],
      "execution_count": null,
      "outputs": []
    },
    {
      "cell_type": "code",
      "metadata": {
        "id": "v2OGllVwxD6L"
      },
      "source": [
        "content_path='https://raw.githubusercontent.com/anirbanghoshsbi/data/main/'"
      ],
      "execution_count": null,
      "outputs": []
    },
    {
      "cell_type": "code",
      "source": [
        "def read_data_file(file_name, content_path):\n",
        "    return pd.read_csv(content_path + file_name, sep='\\t', header=None)\n",
        "\n",
        "def read_and_combine_data_files(file_names, content_path):\n",
        "    combined_data = []\n",
        "\n",
        "    for file_name in file_names:\n",
        "        data = read_data_file(file_name, content_path)\n",
        "        combined_data.extend(data[0].tolist())\n",
        "\n",
        "    return combined_data\n",
        "\n",
        "def create_dataframe_from_list(data, group_size):\n",
        "    df = pd.DataFrame(columns=range(group_size)) # Create an empty DataFrame with columns\n",
        "    for i in range(0, len(data), group_size):\n",
        "        df.loc[len(df)] = data[i:i + group_size] # Add rows using loc\n",
        "    return df\n",
        "\n",
        "\n",
        "content_path = 'https://raw.githubusercontent.com/anirbanghoshsbi/data/main/'\n",
        "file_names = [f'fii{i}.txt' for i in range(1, 9)]\n",
        "group_size = 7\n",
        "\n",
        "data = read_and_combine_data_files(file_names, content_path)\n",
        "df = create_dataframe_from_list(data, group_size)\n",
        "df.to_csv('fii.csv')\n",
        "\n",
        "fii_fig = pd.read_csv('/content/fii.csv')\n",
        "fii = fii_fig.copy()\n",
        "\n",
        "fii_fig = fii_fig[::-1]\n",
        "fii_fig.columns = ['Index', 'Date', 'FIIcall', 'FIIput', 'FIIFuture', 'FIIFutOI', 'FIICash', 'DIIcash']\n",
        "fii_fig.drop('Index',inplace=True,axis=1)\n"
      ],
      "metadata": {
        "id": "4aRPmOcNTjNG"
      },
      "execution_count": null,
      "outputs": []
    },
    {
      "cell_type": "code",
      "metadata": {
        "id": "V2q_BUTdJzcC"
      },
      "source": [
        "\n",
        "fii.columns =['Index','Date','FIIcall','FIIput','FIIFuture','FIIFutOI','FIICash','DIIcash']"
      ],
      "execution_count": null,
      "outputs": []
    },
    {
      "cell_type": "code",
      "metadata": {
        "id": "2NcKoS76J1Qm"
      },
      "source": [
        "#fii_fig.drop('Index',inplace=True,axis=1)"
      ],
      "execution_count": null,
      "outputs": []
    },
    {
      "cell_type": "code",
      "metadata": {
        "id": "ysKhusXrH0B_"
      },
      "source": [
        "fii_fig['Date']=pd.to_datetime(fii_fig['Date'],format='%d %b %Y') # pd.to_datetime(data[\"Time\"])"
      ],
      "execution_count": null,
      "outputs": []
    },
    {
      "cell_type": "code",
      "metadata": {
        "id": "DdDUcGB5JqW8"
      },
      "source": [
        "'''\n",
        "if len(fii) != len(nif):\n",
        "  nif=nif[:-1]\n",
        "print(len(fii),len(nif))\n",
        "'''"
      ],
      "execution_count": null,
      "outputs": []
    },
    {
      "cell_type": "code",
      "metadata": {
        "id": "g8ViwIDmJiPS"
      },
      "source": [
        "nif['Date']=pd.to_datetime(nif['Date'],format='%Y-%m-%d').dt.tz_localize(None)"
      ],
      "execution_count": null,
      "outputs": []
    },
    {
      "cell_type": "code",
      "metadata": {
        "id": "vZkn-MnJKs1Y"
      },
      "source": [
        "fii_fig=fii_fig.set_index('Date')"
      ],
      "execution_count": null,
      "outputs": []
    },
    {
      "cell_type": "code",
      "metadata": {
        "id": "PLTh0tVCKyd4"
      },
      "source": [
        "nif.set_index('Date',inplace=True)"
      ],
      "execution_count": null,
      "outputs": []
    },
    {
      "cell_type": "markdown",
      "metadata": {
        "id": "TGzOgUK7YqmX"
      },
      "source": [
        "# Change Here"
      ]
    },
    {
      "cell_type": "code",
      "metadata": {
        "id": "4IcbNsUUH5eI"
      },
      "source": [
        "fii=fii_fig\n",
        "# download nifty price and concat with fii data\n",
        "fii=fii.join(nif.Close)\n",
        "fii.Close=fii.Close.shift(1)"
      ],
      "execution_count": null,
      "outputs": []
    },
    {
      "cell_type": "code",
      "metadata": {
        "id": "5nvLFf9BaCTz"
      },
      "source": [
        "fii_fig['Cash']=fii_fig.FIICash+fii_fig.DIIcash"
      ],
      "execution_count": null,
      "outputs": []
    },
    {
      "cell_type": "code",
      "metadata": {
        "id": "_NpnifzLqIgL"
      },
      "source": [
        "fii_fig['macdfut']=fii_fig['FIIFuture'].ewm(span=150, adjust=False).mean()-fii_fig['FIIFuture'].ewm(span=300, adjust=False).mean()\n",
        "fii_fig['signalfut']=fii_fig['macdfut'].ewm(span=95,adjust=False).mean()\n",
        "fii_fig['signal10fut']=fii_fig['macdfut'].ewm(span=20,adjust=False).mean()\n",
        "fii_fig['histfut']=fii_fig['macdfut']-fii_fig['signalfut']"
      ],
      "execution_count": null,
      "outputs": []
    },
    {
      "cell_type": "code",
      "source": [
        "fii_fig['Cashfut']=fii_fig['Cash'].ewm(span=50, adjust=False).mean()-fii_fig['Cash'].ewm(span=100, adjust=False).mean()\n",
        "fii_fig['signalfutcash']=fii_fig['Cashfut'].ewm(span=22,adjust=False).mean()\n",
        "fii_fig['signal10futcash']=fii_fig['Cashfut'].ewm(span=10,adjust=False).mean()"
      ],
      "metadata": {
        "id": "t_t5d5MmtOgE"
      },
      "execution_count": null,
      "outputs": []
    },
    {
      "cell_type": "markdown",
      "metadata": {
        "id": "d9Y2133p9k0E"
      },
      "source": [
        "# Plot FII minus DII"
      ]
    },
    {
      "cell_type": "code",
      "metadata": {
        "id": "enxvvBWEVdkG"
      },
      "source": [
        "fii_fig['macdy']=fii_fig['Cash'].ewm(span=50, adjust=False).mean()-fii_fig['Cash'].ewm(span=100, adjust=False).mean()\n",
        "fii_fig['signaly']=fii_fig['macdy'].ewm(span=25,adjust=False).mean()\n",
        "fii_fig['signal10y']=fii_fig['macdy'].ewm(span=10,adjust=False).mean()\n",
        "fii_fig['histy']=fii_fig['macdy']-fii_fig['signaly']"
      ],
      "execution_count": null,
      "outputs": []
    },
    {
      "cell_type": "code",
      "metadata": {
        "id": "2I9gJGU2izjW"
      },
      "source": [
        "fii_fig['macdy']=fii_fig['Cash'].ewm(span=100, adjust=False).mean()-fii_fig['Cash'].ewm(span=250, adjust=False).mean()\n",
        "fii_fig['signaly']=fii_fig['macdy'].ewm(span=45,adjust=False).mean()\n",
        "fii_fig['signal10y']=fii_fig['macdy'].ewm(span=20,adjust=False).mean()\n",
        "fii_fig['histy']=fii_fig['macdy']-fii_fig['signaly']"
      ],
      "execution_count": null,
      "outputs": []
    },
    {
      "cell_type": "code",
      "metadata": {
        "id": "cTctWwsMW_1l"
      },
      "source": [
        "fii_fig['macd']=fii_fig['DIIcash'].ewm(span=50, adjust=False).mean()-fii_fig['DIIcash'].ewm(span=200, adjust=False).mean()\n",
        "fii_fig['signal']=fii_fig['macd'].ewm(span=35,adjust=False).mean()\n",
        "fii_fig['signal10']=fii_fig['macd'].ewm(span=10,adjust=False).mean()\n",
        "fii_fig['hist']=fii_fig['macd']-fii_fig['signal']"
      ],
      "execution_count": null,
      "outputs": []
    },
    {
      "cell_type": "code",
      "metadata": {
        "id": "ZX1u6flKXwmT"
      },
      "source": [
        "fii_fig['macdx']=fii_fig['FIICash'].ewm(span=50, adjust=False).mean()-fii_fig['FIICash'].ewm(span=200, adjust=False).mean()\n",
        "fii_fig['signalx']=fii_fig['macdx'].ewm(span=35,adjust=False).mean()\n",
        "fii_fig['signal10x']=fii_fig['macdx'].ewm(span=10,adjust=False).mean()\n",
        "fii_fig['histx']=fii_fig['macdx']-fii_fig['signalx']"
      ],
      "execution_count": null,
      "outputs": []
    },
    {
      "cell_type": "markdown",
      "metadata": {
        "id": "4eDsuM7Jp09H"
      },
      "source": [
        "# Plot FII , DII , Difference comparison"
      ]
    },
    {
      "cell_type": "code",
      "metadata": {
        "id": "l8g35fSGKupg"
      },
      "source": [
        "fii_fig['MA200']=fii_fig.FIICash.rolling(window=200).mean()\n",
        "fii_fig['MA50']=fii_fig.FIICash.rolling(window=50).mean()"
      ],
      "execution_count": null,
      "outputs": []
    },
    {
      "cell_type": "code",
      "metadata": {
        "id": "BvuLzJWrV2li"
      },
      "source": [
        "fii_fig['macd']=fii_fig['FIICash'].ewm(span=20, adjust=False).mean()-fii_fig['FIICash'].ewm(span=200, adjust=False).mean()\n",
        "fii_fig['signal']=fii_fig['macd'].ewm(span=50,adjust=False).mean()\n",
        "fii_fig['signal10']=fii_fig['macd'].ewm(span=10,adjust=False).mean()\n",
        "fii_fig['hist']=fii_fig['macd']-fii_fig['signal']\n"
      ],
      "execution_count": null,
      "outputs": []
    },
    {
      "cell_type": "code",
      "metadata": {
        "id": "_NJPnreyvWlx"
      },
      "source": [
        "fii_fig['macd_dom']=fii_fig['DIIcash'].ewm(span=20, adjust=False).mean()-fii_fig['DIIcash'].ewm(span=200, adjust=False).mean()\n",
        "fii_fig['signal_dom']=fii_fig['DIIcash'].ewm(span=10,adjust=False).mean()\n",
        "fii_fig['signal_dom_10']=fii_fig['DIIcash'].ewm(span=10,adjust=False).mean()\n",
        "fii_fig['hist_dom']=fii_fig['macd_dom']-fii_fig['signal_dom']"
      ],
      "execution_count": null,
      "outputs": []
    },
    {
      "cell_type": "code",
      "source": [
        "nif.reset_index(inplace=True)\n",
        "fii_fig.reset_index(inplace=True)\n",
        "# Convert the 'Date' column in both DataFrames to the same data type\n",
        "nif['Date'] = pd.to_datetime(nif['Date'])\n",
        "fii_fig['Date'] = pd.to_datetime(fii_fig['Date'])\n",
        "\n",
        "# Merge nif and fii_fig DataFrames on the 'Date' column\n",
        "merged_df = pd.merge(nif, fii_fig, on='Date')\n"
      ],
      "metadata": {
        "id": "JOAhZPo-VOdt"
      },
      "execution_count": null,
      "outputs": []
    },
    {
      "cell_type": "markdown",
      "metadata": {
        "id": "PedB1rWlqTcK"
      },
      "source": [
        "# Plot Smart Money (FII)"
      ]
    },
    {
      "cell_type": "code",
      "metadata": {
        "id": "llg15xItW13u"
      },
      "source": [
        "from plotly.subplots import make_subplots\n",
        "df=fii_fig.reset_index()\n",
        "nif.reset_index(inplace=True)\n",
        "fig = make_subplots(\n",
        "    rows=2, cols=1,shared_xaxes=True,vertical_spacing=0.02,\n",
        "    subplot_titles=(\"Smart Money\",\"Nifty\"))\n",
        "\n",
        "fig.add_trace(go.Scatter(x=df.Date, y=df['macd'], mode='lines', name = 'macd'),\n",
        "              row=1, col=1)\n",
        "\n",
        "fig.add_trace(go.Scatter(x=df.Date, y=df['signal'], mode='lines', name = 'signal'),\n",
        "              row=1, col=1)\n",
        "fig.add_trace(go.Scatter(x=df.Date, y=df['signal10'], mode='lines', name = 'signal10'),\n",
        "              row=1, col=1)\n",
        "fig.add_trace(go.Scatter(x=nif.Date, y=nif['Close'], mode='lines', name = 'Close'),\n",
        "              row=2, col=1)\n",
        "\n",
        "fig.update_layout(title_text=\"Smart Money And Nifty\")\n",
        "\n",
        "fig.show()"
      ],
      "execution_count": null,
      "outputs": []
    },
    {
      "cell_type": "code",
      "source": [
        "from plotly.subplots import make_subplots\n",
        "df=fii_fig.reset_index()\n",
        "nif.reset_index(inplace=True)\n",
        "fig = make_subplots(\n",
        "    rows=2, cols=1,shared_xaxes=True,vertical_spacing=0.02,\n",
        "    subplot_titles=(\"Smart Money DII\",\"Nifty\"))\n",
        "\n",
        "fig.add_trace(go.Scatter(x=df.Date, y=df['macd_dom'], mode='lines', name = 'macd'),\n",
        "              row=1, col=1)\n",
        "fig.add_trace(go.Scatter(x=df.Date,y=df['macd_dom'].rolling(window=10).mean(),mode='lines',name='moving-average 10'),\n",
        "              row=1, col=1)\n",
        "\n",
        "fig.add_trace(go.Scatter(x=nif.Date, y=nif['Close'], mode='lines', name = 'Close'),\n",
        "              row=2, col=1)\n",
        "\n",
        "fig.update_layout(title_text=\"DII Money And Nifty\")\n",
        "\n",
        "fig.show()"
      ],
      "metadata": {
        "id": "jo4LLqvhLGXJ"
      },
      "execution_count": null,
      "outputs": []
    },
    {
      "cell_type": "code",
      "source": [
        "fii_fig['macd_dom'].plot(figsize=(18,7))\n",
        "plt.axhline(y=0)\n",
        "plt.axhline(y=1000,color='g')\n",
        "plt.axhline(y=2000,color='c')\n",
        "plt.axhline(y=-1000,color='r')\n",
        "plt.suptitle('DII Purchase and Sale in (INR)')\n",
        "plt.legend()\n",
        "plt.show()"
      ],
      "metadata": {
        "id": "WJizzUoeRnQu"
      },
      "execution_count": null,
      "outputs": []
    },
    {
      "cell_type": "code",
      "source": [
        "import matplotlib.patheffects as path_effects\n",
        "\n",
        "fig = plt.figure(figsize=(15, 4))\n",
        "text = fig.text(0.5, 0.5, 'Hello Me!\\n This is the normalizing guide '\n",
        "                          '\\n where I prevent myself from going short prematurely.\\n Sell ONLY when'\n",
        "                           '\\nFII Purchase and Sale in (INR)\\n'\n",
        "                           'IS BELOW ZERO AND IS BELOW BOTH MOVING AVERAGES \\n'\n",
        "                           'if Above Zero take **ONLY BUY SIGNALS**',\n",
        "                ha='center', va='center', size=20)\n",
        "plt.plot(path_effects=[path_effects.Normal(),path_effects.Normal()])\n",
        "text.set_path_effects([path_effects.Normal()])\n"
      ],
      "metadata": {
        "id": "d68e4YX8HEBd"
      },
      "execution_count": null,
      "outputs": []
    },
    {
      "cell_type": "code",
      "source": [
        "last_250_points = merged_df.tail(500)\n",
        "\n",
        "# Calculate the 22-day moving average of 'macd_dom'\n",
        "last_250_points['macd_dom_22d_ma'] = last_250_points['macd_dom'].rolling(window=10).mean()\n",
        "\n",
        "fig, (ax1, ax2) = plt.subplots(2, 1, figsize=(10, 5), sharex=True)\n",
        "\n",
        "# Plot 'macd_dom' and its 22-day moving average in the first subplot\n",
        "ax1.plot(last_250_points['Date'], last_250_points['macd_dom'], label='macd_dom', color='b')\n",
        "ax1.plot(last_250_points['Date'], last_250_points['macd_dom_22d_ma'], label='macd_dom 22d MA', color='r')\n",
        "ax1.axhline(y=1000,color='g',linewidth=3)\n",
        "ax1.axhline(y=-1000,color='r')\n",
        "# Invert the y-axis\n",
        "ax1.invert_yaxis()\n",
        "ax1.set_title('macd_dom and its 22-day Moving Average')\n",
        "ax1.set_ylabel('Value')\n",
        "ax1.legend()\n",
        "\n",
        "# Plot 'Adj Close' in the second subplot\n",
        "ax2.plot(last_250_points['Date'], last_250_points['Adj Close'], label='Adj Close', color='g')\n",
        "ax2.set_title('Adj Close')\n",
        "ax2.set_xlabel('Date')\n",
        "ax2.set_ylabel('Price')\n",
        "yloc = YearLocator()\n",
        "mloc = MonthLocator()\n",
        "ax1.xaxis.set_major_locator(mloc)\n",
        "ax2.xaxis.set_major_locator(mloc)\n",
        "#ax[2].xaxis.set_major_locator(mloc)\n",
        "ax1.grid(linewidth =2)\n",
        "ax2.grid(linewidth =2)\n",
        "\n",
        "# Display the subplots\n",
        "plt.tight_layout()\n",
        "plt.show()\n"
      ],
      "metadata": {
        "id": "RfLQCkZxJBSL"
      },
      "execution_count": null,
      "outputs": []
    },
    {
      "cell_type": "code",
      "source": [
        "import matplotlib.pyplot as plt\n",
        "# Select the last 250 data points\n",
        "\n",
        "fig, (ax1, ax2) = plt.subplots(2, 1, figsize=(10,5), sharex=True)\n",
        "\n",
        "# Plot 'Adj Close' as a time series\n",
        "ax1.plot(last_250_points['Date'], last_250_points['Adj Close'], label='Adj Close')\n",
        "ax1.set_title('Adj Close')\n",
        "ax1.set_ylabel('Price')\n",
        "\n",
        "# Plot 'signal_dom_10' as a time series\n",
        "ax2.plot(last_250_points['Date'], last_250_points['signal'], label='signal', color='r')\n",
        "ax2.plot(last_250_points['Date'], last_250_points['signal10'], label='signal', color='b')\n",
        "ax2.plot(last_250_points['Date'], last_250_points['macd'], label='macd', color='g')\n",
        "ax2.set_title('signal')\n",
        "ax2.set_xlabel('Date')\n",
        "ax2.set_ylabel('Value')\n",
        "yloc = YearLocator()\n",
        "mloc = MonthLocator()\n",
        "ax1.xaxis.set_major_locator(mloc)\n",
        "ax2.xaxis.set_major_locator(mloc)\n",
        "ax1.grid(linewidth =2)\n",
        "ax2.grid(linewidth =2)\n",
        "\n",
        "# Display the subplots\n",
        "plt.tight_layout()\n",
        "\n",
        "plt.show()\n"
      ],
      "metadata": {
        "id": "6jH-WVm7Vmqr"
      },
      "execution_count": null,
      "outputs": []
    },
    {
      "cell_type": "code",
      "source": [
        "merged_df[['Date','FIICash', 'DIIcash']].to_csv('fii_dii.csv')"
      ],
      "metadata": {
        "id": "0C7vXfgDJskM"
      },
      "execution_count": null,
      "outputs": []
    },
    {
      "cell_type": "code",
      "source": [
        "last_250_points[['Date','FIICash', 'DIIcash']].tail(2)"
      ],
      "metadata": {
        "id": "b6Fh0RL425RT"
      },
      "execution_count": null,
      "outputs": []
    },
    {
      "cell_type": "code",
      "source": [
        "last_250_points = merged_df.tail(2000)"
      ],
      "metadata": {
        "id": "xzWl_WSG7xHR"
      },
      "execution_count": null,
      "outputs": []
    },
    {
      "cell_type": "code",
      "source": [
        "last_250_points['trade_signal']=np.where(last_250_points['macd']>last_250_points['signal10'],5,0)\n"
      ],
      "metadata": {
        "id": "_GwPXoGFqpDy"
      },
      "execution_count": null,
      "outputs": []
    },
    {
      "cell_type": "code",
      "source": [
        "last_250_points['Returns'] = last_250_points['Open'].shift(-1).pct_change() * last_250_points['trade_signal']"
      ],
      "metadata": {
        "id": "2I4IntO6qYOY"
      },
      "execution_count": null,
      "outputs": []
    },
    {
      "cell_type": "code",
      "source": [
        "initial_capital = 100000\n",
        "last_250_points['Equity'] = initial_capital * (1 + last_250_points['Returns']).cumprod()\n",
        "# Plot the Equity Curve\n",
        "plt.figure(figsize=(12, 6))  # Adjust figure size as desired\n",
        "plt.plot(last_250_points.Date, last_250_points['Equity'], label='Equity')\n",
        "plt.xlabel('Date')\n",
        "plt.ylabel('Equity')\n",
        "plt.title('Equity Curve : leverage 4')\n",
        "plt.legend()\n",
        "plt.grid(True)\n",
        "plt.xticks(rotation=45)  # Rotate x-axis labels for better readability\n",
        "plt.tight_layout()\n",
        "plt.show()"
      ],
      "metadata": {
        "id": "LtTOMTwAzrOx"
      },
      "execution_count": null,
      "outputs": []
    },
    {
      "cell_type": "code",
      "source": [
        "last_250_points['trade_signal_shrt']=np.where(last_250_points['macd']<=last_250_points['signal10'],-1,0)\n",
        "last_250_points['Returns_shrt'] = last_250_points['Open'].shift(-1).pct_change() * last_250_points['trade_signal_shrt']\n"
      ],
      "metadata": {
        "id": "zZ8glStH0OhI"
      },
      "execution_count": null,
      "outputs": []
    },
    {
      "cell_type": "code",
      "source": [
        "initial_capital = 100000\n",
        "last_250_points['Equity_shrt'] = initial_capital * (1 + last_250_points['Returns_shrt']).cumprod()\n",
        "# Plot the Equity Curve\n",
        "plt.figure(figsize=(12, 6))  # Adjust figure size as desired\n",
        "plt.plot(last_250_points.Date, last_250_points['Equity_shrt'], label='Equity')\n",
        "plt.xlabel('Date')\n",
        "plt.ylabel('Equity')\n",
        "plt.title('Equity Curve : leverage 1')\n",
        "plt.legend()\n",
        "plt.grid(True)\n",
        "plt.xticks(rotation=45)  # Rotate x-axis labels for better readability\n",
        "plt.tight_layout()\n",
        "plt.show()"
      ],
      "metadata": {
        "id": "7O5tWSUo0mTx"
      },
      "execution_count": null,
      "outputs": []
    },
    {
      "cell_type": "code",
      "source": [
        "def calculate_metrics(returns_series):\n",
        "    \"\"\"Calculates various trade metrics.\n",
        "\n",
        "    Args:\n",
        "        returns_series (pandas.Series): A Series of daily returns.\n",
        "\n",
        "    Returns:\n",
        "        dict: A dictionary containing the calculated metrics.\n",
        "    \"\"\"\n",
        "\n",
        "    annualized_return = (1 + returns_series).prod() ** (252 / len(returns_series)) - 1\n",
        "    annualized_std = returns_series.std() * np.sqrt(252)\n",
        "\n",
        "    sharpe_ratio = annualized_return / annualized_std\n",
        "\n",
        "    cumulative_returns = (1 + returns_series).cumprod()\n",
        "    cumulative_max = cumulative_returns.cummax()\n",
        "    drawdowns = cumulative_returns / cumulative_max - 1\n",
        "    max_drawdown = drawdowns.min()\n",
        "    calmar_ratio = annualized_return / abs(max_drawdown)\n",
        "\n",
        "    # Calculate CAGR\n",
        "    start_value = 1  # Initial investment\n",
        "    end_value = (1 + returns_series).cumprod().iloc[-1]\n",
        "    num_years = len(returns_series) / 252  # Assuming 252 trading days\n",
        "    cagr = (end_value / start_value) ** (1 / num_years) - 1\n",
        "    print(num_years)\n",
        "    metrics = {\n",
        "        'CAGR': cagr,\n",
        "        'Annualized Return': annualized_return,\n",
        "        'Annualized Volatility': annualized_std,\n",
        "        'Sharpe Ratio': sharpe_ratio,\n",
        "        'Calmar Ratio': calmar_ratio,\n",
        "        'Max Drawdown': max_drawdown\n",
        "    }\n",
        "\n",
        "    return metrics\n",
        "\n",
        "metrics = calculate_metrics(last_250_points['Returns'])"
      ],
      "metadata": {
        "id": "Bim1hMwz02ra"
      },
      "execution_count": null,
      "outputs": []
    },
    {
      "cell_type": "code",
      "source": [
        "for metric, value in metrics.items():\n",
        "        print(f\"{metric}: {value:.4f}\")"
      ],
      "metadata": {
        "id": "eQCYc1wkD2jn"
      },
      "execution_count": null,
      "outputs": []
    },
    {
      "cell_type": "code",
      "source": [
        "metrics = calculate_metrics(last_250_points['Returns_shrt'])"
      ],
      "metadata": {
        "id": "5828yiyJEzYd"
      },
      "execution_count": null,
      "outputs": []
    },
    {
      "cell_type": "code",
      "source": [
        "for metric, value in metrics.items():\n",
        "        print(f\"{metric}: {value:.4f}\")"
      ],
      "metadata": {
        "id": "fMPHvrBRE2bV"
      },
      "execution_count": null,
      "outputs": []
    },
    {
      "cell_type": "code",
      "source": [],
      "metadata": {
        "id": "ntgC5Nil7P2t"
      },
      "execution_count": null,
      "outputs": []
    }
  ]
}