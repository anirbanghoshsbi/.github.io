{
  "nbformat": 4,
  "nbformat_minor": 0,
  "metadata": {
    "colab": {
      "provenance": [],
      "authorship_tag": "ABX9TyNSlYCH3YHBh+yP7BcFLKA4",
      "include_colab_link": true
    },
    "kernelspec": {
      "name": "python3",
      "display_name": "Python 3"
    },
    "language_info": {
      "name": "python"
    }
  },
  "cells": [
    {
      "cell_type": "markdown",
      "metadata": {
        "id": "view-in-github",
        "colab_type": "text"
      },
      "source": [
        "<a href=\"https://colab.research.google.com/github/anirbanghoshsbi/.github.io/blob/master/work/labelling_stock_selection.ipynb\" target=\"_parent\"><img src=\"https://colab.research.google.com/assets/colab-badge.svg\" alt=\"Open In Colab\"/></a>"
      ]
    },
    {
      "cell_type": "code",
      "execution_count": 1,
      "metadata": {
        "colab": {
          "base_uri": "https://localhost:8080/"
        },
        "id": "Em8WUFBPWT8-",
        "outputId": "0bbb454f-e55a-4484-8f98-9c8011ed5dcc"
      },
      "outputs": [
        {
          "output_type": "stream",
          "name": "stdout",
          "text": [
            "        date       ticker    adj close  next_week_close  weekly_return\n",
            "0 2021-05-09  ADANIENT.NS  1295.667725      1217.313232      -0.060474\n",
            "1 2021-05-16  ADANIENT.NS  1217.313232      1311.827393       0.077642\n",
            "2 2021-05-23  ADANIENT.NS  1311.827393      1299.358398      -0.009505\n",
            "3 2021-05-30  ADANIENT.NS  1299.358398      1696.717285       0.305812\n",
            "4 2021-06-06  ADANIENT.NS  1696.717285      1597.614258      -0.058409\n",
            "\n",
            "Weekly Return Summary Statistics:\n",
            "                   mean    median       std       min       max\n",
            "ticker                                                         \n",
            "ADANIENT.NS    0.009018  0.005486  0.087441 -0.425374  0.428571\n",
            "ADANIPORTS.NS  0.002327  0.005251  0.056510 -0.229195  0.224996\n",
            "APOLLOHOSP.NS  0.004439  0.003537  0.044898 -0.140761  0.196830\n",
            "ASIANPAINT.NS  0.002891  0.004437  0.037119 -0.122163  0.099447\n",
            "AXISBANK.NS    0.003425  0.001468  0.035414 -0.091466  0.124797\n",
            "BAJAJ-AUTO.NS  0.003423  0.002534  0.030028 -0.075904  0.101882\n",
            "BAJAJFINSV.NS  0.003528  0.000965  0.043101 -0.102940  0.179811\n",
            "BAJFINANCE.NS  0.003735 -0.000249  0.039753 -0.100648  0.151935\n",
            "BHARTIARTL.NS  0.004448  0.003352  0.029638 -0.068718  0.106360\n",
            "BPCL.NS       -0.000268 -0.000305  0.033455 -0.098620  0.077749\n",
            "BRITANNIA.NS   0.002957  0.000120  0.027611 -0.077906  0.088391\n",
            "CIPLA.NS       0.002917  0.003520  0.031674 -0.086452  0.122837\n",
            "COALINDIA.NS   0.008757  0.006279  0.044504 -0.099908  0.190798\n",
            "DIVISLAB.NS    0.000535  0.005536  0.041389 -0.183539  0.134170\n",
            "DRREDDY.NS     0.001137  0.003771  0.032802 -0.131119  0.082766\n",
            "EICHERMOT.NS   0.003926  0.002452  0.040997 -0.110416  0.113107\n",
            "GRASIM.NS      0.003070  0.004263  0.034056 -0.089914  0.108121\n",
            "HCLTECH.NS     0.003928  0.002093  0.034796 -0.119226  0.080075\n",
            "HDFCBANK.NS    0.001286 -0.000037  0.028441 -0.079495  0.079641\n",
            "HDFCLIFE.NS    0.000348 -0.001386  0.035110 -0.168113  0.103565\n",
            "HEROMOTOCO.NS  0.001652  0.001351  0.034273 -0.096584  0.118566\n",
            "HINDALCO.NS    0.002594  0.003795  0.047487 -0.134932  0.135418\n",
            "HINDUNILVR.NS  0.000958 -0.002246  0.029960 -0.073767  0.093982\n",
            "ICICIBANK.NS   0.004206  0.000322  0.029359 -0.061067  0.075590\n",
            "INDUSINDBK.NS  0.004695  0.002000  0.046427 -0.127870  0.156309\n",
            "INFY.NS        0.001648  0.004261  0.034435 -0.116506  0.071982\n",
            "ITC.NS         0.007429  0.005707  0.032031 -0.077763  0.107251\n",
            "JSWSTEEL.NS    0.001337  0.006983  0.038411 -0.131041  0.080951\n",
            "KOTAKBANK.NS   0.000371  0.001751  0.029535 -0.065967  0.104574\n",
            "LT.NS          0.007014  0.005541  0.032367 -0.065783  0.080548\n",
            "LTIM.NS        0.004106  0.007295  0.044627 -0.156480  0.133411\n",
            "M&M.NS         0.006836  0.004009  0.035693 -0.093239  0.104450\n",
            "MARUTI.NS      0.004423  0.002809  0.034868 -0.132693  0.099097\n",
            "NESTLEIND.NS   0.002994  0.001029  0.023951 -0.072822  0.072218\n",
            "NTPC.NS        0.008308  0.009357  0.032905 -0.095330  0.125956\n",
            "ONGC.NS        0.006250  0.007681  0.038846 -0.140905  0.116600\n",
            "POWERGRID.NS   0.005645  0.003344  0.033936 -0.140462  0.090304\n",
            "RELIANCE.NS    0.002758  0.003591  0.031483 -0.074047  0.081534\n",
            "SBILIFE.NS     0.002514  0.001658  0.029975 -0.089742  0.111121\n",
            "SBIN.NS        0.005009  0.002862  0.034791 -0.088230  0.113053\n",
            "SUNPHARMA.NS   0.004662  0.000806  0.029198 -0.061842  0.115202\n",
            "TATACONSUM.NS  0.003490  0.003233  0.030722 -0.078541  0.090591\n",
            "TATAMOTORS.NS  0.006834  0.006538  0.047352 -0.111917  0.299386\n",
            "TATASTEEL.NS   0.011053  0.002543  0.099404 -0.145439  0.992528\n",
            "TCS.NS         0.001942  0.004617  0.029653 -0.080657  0.066108\n",
            "TECHM.NS       0.003655  0.007492  0.041399 -0.130468  0.109942\n",
            "TITAN.NS       0.007320  0.008643  0.037356 -0.101477  0.107953\n",
            "ULTRACEMCO.NS  0.002545  0.002088  0.032229 -0.079137  0.112217\n",
            "UPL.NS         0.000916  0.001373  0.038651 -0.096903  0.180966\n",
            "WIPRO.NS      -0.001095  0.001781  0.033826 -0.120946  0.098802\n",
            "\n",
            "Best performing stock based on average weekly return: TATASTEEL.NS\n",
            "\n",
            "Results saved to 'stock_weekly_returns.csv'\n"
          ]
        }
      ],
      "source": [
        "import pandas as pd\n",
        "import numpy as np\n",
        "\n",
        "# Load the data\n",
        "df = pd.read_csv('/content/nifty_50_weekly_data.csv')\n",
        "# Convert the date column to datetime\n",
        "df['date'] = pd.to_datetime(df['date'])\n",
        "\n",
        "# Sort the dataframe by ticker and date\n",
        "df = df.sort_values(['ticker', 'date'])\n",
        "\n",
        "# Group the dataframe by ticker\n",
        "grouped = df.groupby('ticker')\n",
        "\n",
        "# Function to calculate weekly returns\n",
        "def calculate_weekly_return(group):\n",
        "    # Shift the 'adj close' column by 1 day (1 month)\n",
        "    group['next_week_close'] = group['adj close'].shift(-1)\n",
        "\n",
        "    # Calculate the weekly return\n",
        "    group['weekly_return'] = (group['next_week_close'] - group['adj close']) / group['adj close']\n",
        "\n",
        "    return group\n",
        "\n",
        "# Apply the function to each group (ticker)\n",
        "df_with_returns = grouped.apply(calculate_weekly_return)\n",
        "\n",
        "# Reset the index\n",
        "df_with_returns = df_with_returns.reset_index(drop=True)\n",
        "\n",
        "# Remove rows where we couldn't calculate the weekly return (last week of data for each stock)\n",
        "df_with_returns = df_with_returns.dropna(subset=['weekly_return'])\n",
        "\n",
        "# Display the first few rows of the result\n",
        "print(df_with_returns[['date', 'ticker', 'adj close', 'next_week_close', 'weekly_return']].head())\n",
        "\n",
        "# Calculate summary statistics of weekly returns for each stock\n",
        "weekly_return_summary = df_with_returns.groupby('ticker')['weekly_return'].agg(['mean', 'median', 'std', 'min', 'max'])\n",
        "print(\"\\nWeekly Return Summary Statistics:\")\n",
        "print(weekly_return_summary)\n",
        "\n",
        "# Find the stock with the highest average weekly return\n",
        "best_performing_stock = weekly_return_summary['mean'].idxmax()\n",
        "print(f\"\\nBest performing stock based on average weekly return: {best_performing_stock}\")\n",
        "\n",
        "# Save the results to a CSV file\n",
        "df_with_returns.to_csv('stock_weekly_returns.csv', index=False)\n",
        "print(\"\\nResults saved to 'stock_weekly_returns.csv'\")"
      ]
    }
  ]
}