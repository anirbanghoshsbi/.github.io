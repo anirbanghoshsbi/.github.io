{
  "nbformat": 4,
  "nbformat_minor": 0,
  "metadata": {
    "kernelspec": {
      "display_name": "Python 3",
      "language": "python",
      "name": "python3"
    },
    "language_info": {
      "codemirror_mode": {
        "name": "ipython",
        "version": 3
      },
      "file_extension": ".py",
      "mimetype": "text/x-python",
      "name": "python",
      "nbconvert_exporter": "python",
      "pygments_lexer": "ipython3",
      "version": "3.5.2"
    },
    "colab": {
      "name": "Stacking_classification_with_trend_following_class_labels(Working).ipynb",
      "provenance": [],
      "include_colab_link": true
    }
  },
  "cells": [
    {
      "cell_type": "markdown",
      "metadata": {
        "id": "view-in-github",
        "colab_type": "text"
      },
      "source": [
        "<a href=\"https://colab.research.google.com/github/anirbanghoshsbi/.github.io/blob/master/work/work_from_here/ML_classifier_averaging.ipynb\" target=\"_parent\"><img src=\"https://colab.research.google.com/assets/colab-badge.svg\" alt=\"Open In Colab\"/></a>"
      ]
    },
    {
      "cell_type": "markdown",
      "metadata": {
        "id": "WIajvq6OJM1z"
      },
      "source": [
        "# Classification (with class labels)\n",
        "***"
      ]
    },
    {
      "cell_type": "markdown",
      "metadata": {
        "id": "wUkOmuBmJM11"
      },
      "source": [
        "# Import"
      ]
    },
    {
      "cell_type": "code",
      "metadata": {
        "id": "-RM9iOgaK4eJ",
        "outputId": "9001efbd-396a-44c6-89d7-453caa5686a1",
        "colab": {
          "base_uri": "https://localhost:8080/"
        }
      },
      "source": [
        "!pip install vecstack==0.4.0 -q\n",
        "!pip install yfinance --upgrade --no-cache-dir -q\n",
        "#!pip install -U scikit-learn==1.0"
      ],
      "execution_count": 1,
      "outputs": [
        {
          "output_type": "stream",
          "name": "stdout",
          "text": [
            "  Preparing metadata (setup.py) ... \u001b[?25l\u001b[?25hdone\n",
            "  Building wheel for vecstack (setup.py) ... \u001b[?25l\u001b[?25hdone\n",
            "\u001b[2K     \u001b[90m━━━━━━━━━━━━━━━━━━━━━━━━━━━━━━━━━━━━━━━━\u001b[0m \u001b[32m55.9/55.9 KB\u001b[0m \u001b[31m6.8 MB/s\u001b[0m eta \u001b[36m0:00:00\u001b[0m\n",
            "\u001b[2K     \u001b[90m━━━━━━━━━━━━━━━━━━━━━━━━━━━━━━━━━━━━━━\u001b[0m \u001b[32m111.0/111.0 KB\u001b[0m \u001b[31m14.2 MB/s\u001b[0m eta \u001b[36m0:00:00\u001b[0m\n",
            "\u001b[2K     \u001b[90m━━━━━━━━━━━━━━━━━━━━━━━━━━━━━━━━━━━━━━━\u001b[0m \u001b[32m62.8/62.8 KB\u001b[0m \u001b[31m160.3 MB/s\u001b[0m eta \u001b[36m0:00:00\u001b[0m\n",
            "\u001b[2K     \u001b[90m━━━━━━━━━━━━━━━━━━━━━━━━━━━━━━━━━━━━━\u001b[0m \u001b[32m129.4/129.4 KB\u001b[0m \u001b[31m244.5 MB/s\u001b[0m eta \u001b[36m0:00:00\u001b[0m\n",
            "\u001b[2K     \u001b[90m━━━━━━━━━━━━━━━━━━━━━━━━━━━━━━━━━━━━━━━━\u001b[0m \u001b[32m4.2/4.2 MB\u001b[0m \u001b[31m94.2 MB/s\u001b[0m eta \u001b[36m0:00:00\u001b[0m\n",
            "\u001b[2K     \u001b[90m━━━━━━━━━━━━━━━━━━━━━━━━━━━━━━━━━━━━━\u001b[0m \u001b[32m112.2/112.2 KB\u001b[0m \u001b[31m239.0 MB/s\u001b[0m eta \u001b[36m0:00:00\u001b[0m\n",
            "\u001b[?25h"
          ]
        }
      ]
    },
    {
      "cell_type": "code",
      "metadata": {
        "id": "qbz_VsWo8VFS",
        "outputId": "d9e840b7-d242-472c-b95f-21cf4496234f",
        "colab": {
          "base_uri": "https://localhost:8080/"
        }
      },
      "source": [
        "!pip install pandas-ta -q\n",
        "#==0.2.45b"
      ],
      "execution_count": 2,
      "outputs": [
        {
          "output_type": "stream",
          "name": "stdout",
          "text": [
            "\u001b[?25l     \u001b[90m━━━━━━━━━━━━━━━━━━━━━━━━━━━━━━━━━━━━━━━━\u001b[0m \u001b[32m0.0/115.1 KB\u001b[0m \u001b[31m?\u001b[0m eta \u001b[36m-:--:--\u001b[0m\r\u001b[2K     \u001b[90m━━━━━━━━━━━━━━━━━━━━━━━━━━━━━━━━━━━━━━━\u001b[0m \u001b[32m115.1/115.1 KB\u001b[0m \u001b[31m3.5 MB/s\u001b[0m eta \u001b[36m0:00:00\u001b[0m\n",
            "\u001b[?25h  Preparing metadata (setup.py) ... \u001b[?25l\u001b[?25hdone\n",
            "  Building wheel for pandas-ta (setup.py) ... \u001b[?25l\u001b[?25hdone\n"
          ]
        }
      ]
    },
    {
      "cell_type": "code",
      "source": [
        "def psar(barsdata, iaf = 0.02, maxaf = 0.2):\n",
        "    length = len(barsdata)\n",
        "    dates = list(barsdata['Date'])\n",
        "    high = list(barsdata['High'])\n",
        "    low = list(barsdata['Low'])\n",
        "    close = list(barsdata['Close'])\n",
        "    psar = close[0:len(close)]\n",
        "    psarbull = [None] * length\n",
        "    psarbear = [None] * length\n",
        "    bull = True\n",
        "    af = iaf\n",
        "    ep = low[0]\n",
        "    hp = high[0]\n",
        "    lp = low[0]\n",
        "    for i in range(2,length):\n",
        "        if bull:\n",
        "            psar[i] = psar[i - 1] + af * (hp - psar[i - 1])\n",
        "        else:\n",
        "            psar[i] = psar[i - 1] + af * (lp - psar[i - 1])\n",
        "        reverse = False\n",
        "        if bull:\n",
        "            if low[i] < psar[i]:\n",
        "                bull = False\n",
        "                reverse = True\n",
        "                psar[i] = hp\n",
        "                lp = low[i]\n",
        "                af = iaf\n",
        "        else:\n",
        "            if high[i] > psar[i]:\n",
        "                bull = True\n",
        "                reverse = True\n",
        "                psar[i] = lp\n",
        "                hp = high[i]\n",
        "                af = iaf\n",
        "        if not reverse:\n",
        "            if bull:\n",
        "                if high[i] > hp:\n",
        "                    hp = high[i]\n",
        "                    af = min(af + iaf, maxaf)\n",
        "                if low[i - 1] < psar[i]:\n",
        "                    psar[i] = low[i - 1]\n",
        "                if low[i - 2] < psar[i]:\n",
        "                    psar[i] = low[i - 2]\n",
        "            else:\n",
        "                if low[i] < lp:\n",
        "                    lp = low[i]\n",
        "                    af = min(af + iaf, maxaf)\n",
        "                if high[i - 1] > psar[i]:\n",
        "                    psar[i] = high[i - 1]\n",
        "                if high[i - 2] > psar[i]:\n",
        "                    psar[i] = high[i - 2]\n",
        "        if bull:\n",
        "            psarbull[i] = psar[i]\n",
        "        else:\n",
        "            psarbear[i] = psar[i]\n",
        "    return pd.DataFrame({\"dates\":dates, \"high\":high, \"low\":low, \"close\":close, \"psar\":psar, \"psarbear\":psarbear, \"psarbull\":psarbull})\n"
      ],
      "metadata": {
        "id": "AQ3D1ZxDgz79"
      },
      "execution_count": 3,
      "outputs": []
    },
    {
      "cell_type": "code",
      "metadata": {
        "id": "x01lqyKZJM12"
      },
      "source": [
        "from sklearn.model_selection import train_test_split\n",
        "from sklearn.metrics import accuracy_score\n",
        "from sklearn.ensemble import ExtraTreesClassifier\n",
        "from sklearn.linear_model import LogisticRegression\n",
        "from sklearn import svm\n",
        "from sklearn.ensemble import RandomForestClassifier\n",
        "from sklearn.neighbors import KNeighborsClassifier\n",
        "from sklearn.discriminant_analysis import LinearDiscriminantAnalysis as LDA\n",
        "from xgboost import XGBClassifier\n",
        "from vecstack import stacking\n",
        "import yfinance as yf\n",
        "import numpy as np\n",
        "import pandas as pd\n",
        "import pandas_ta as ta\n",
        "from pandas_datareader import data as pdr\n",
        "START = \"2019-11-01\"  #yyyy-mm-dd\n",
        "END = '2022-08-27' #2022-05-13 #2022-05-02\n",
        "START_testing='2022-09-01'"
      ],
      "execution_count": 4,
      "outputs": []
    },
    {
      "cell_type": "code",
      "metadata": {
        "id": "A7HuA8O1iUhw"
      },
      "source": [
        "trend_decider ='percentchange' #'percentchange' #'impulse' # 'sma'#'long' # percentchange\n",
        "period=12\n",
        "days_out=12\n",
        "dictionary_bull={True:0.75, False:0.5}\n",
        "dictionary_bear = {True:3,False:0.5}"
      ],
      "execution_count": 5,
      "outputs": []
    },
    {
      "cell_type": "markdown",
      "metadata": {
        "id": "FXRFzAV_JM13"
      },
      "source": [
        "# Prepare data"
      ]
    },
    {
      "cell_type": "code",
      "metadata": {
        "id": "RaWMWy7RJN34",
        "colab": {
          "base_uri": "https://localhost:8080/"
        },
        "outputId": "7108819a-fca6-4846-b657-66618783a765"
      },
      "source": [
        "tker = '^nsei' #'^nsei'\n",
        "nifty =yf.download(tker,start=START,end=END)\n",
        "#nifty=quandl.get('BSE/BOM500112',start_date=START,end_date=END,authtoken='1Mz3xLNFNdUpKENCkArB')\n",
        "#nifty = pdr.get_data_yahoo(tker, start=START, end=END)\n",
        "nifty=nifty.dropna()\n",
        "nifty=nifty.iloc[:,:4]"
      ],
      "execution_count": 6,
      "outputs": [
        {
          "output_type": "stream",
          "name": "stdout",
          "text": [
            "\r[*********************100%***********************]  1 of 1 completed\n"
          ]
        }
      ]
    },
    {
      "cell_type": "code",
      "metadata": {
        "colab": {
          "base_uri": "https://localhost:8080/"
        },
        "id": "uSCtRmwp6W9y",
        "outputId": "cd7cc7de-3ed4-4a0b-94e3-98ff7bef3ecd"
      },
      "source": [
        "nifty.columns"
      ],
      "execution_count": 7,
      "outputs": [
        {
          "output_type": "execute_result",
          "data": {
            "text/plain": [
              "Index(['Open', 'High', 'Low', 'Close'], dtype='object')"
            ]
          },
          "metadata": {},
          "execution_count": 7
        }
      ]
    },
    {
      "cell_type": "code",
      "metadata": {
        "id": "dZvQgkrrJosR",
        "colab": {
          "base_uri": "https://localhost:8080/"
        },
        "outputId": "1d61a2b5-aea7-467f-92cb-5a0cba0602ac"
      },
      "source": [
        "# Calculate 30 Day Moving Average, Std Deviation, Upper Band and Lower Band\n",
        "\n",
        "nifty['30 Day MA'] = nifty['Close'].rolling(window=20).mean()\n",
        "\n",
        "# set .std(ddof=0) for population std instead of sample\n",
        "nifty['30 Day STD'] = nifty['Close'].rolling(window=20).std() \n",
        "nifty['Upper Band'] = nifty['30 Day MA'] + (nifty['30 Day STD'] *1.5)\n",
        "nifty['Lower Band'] = nifty['30 Day MA'] - (nifty['30 Day STD'] *1.5)\n",
        "nifty['ADV_26'] = nifty['Close'].rolling(window=26).mean()\n",
        "nifty['ADV_13'] = nifty['Close'].rolling(window=10).mean()\n",
        "nifty.ta.macd(append=True)\n",
        "nifty.ta.vortex(length=18,append=True)\n",
        "nifty.ta.aroon(length=18,append=True)\n",
        "nifty.ta.rsi(length=18,append=True)\n",
        "print()"
      ],
      "execution_count": 8,
      "outputs": [
        {
          "output_type": "stream",
          "name": "stdout",
          "text": [
            "\n"
          ]
        }
      ]
    },
    {
      "cell_type": "code",
      "metadata": {
        "id": "bygi3wS4J7Gs"
      },
      "source": [
        "df_old = nifty.copy()\n",
        "# I Just need the Close\n",
        "price_data = df_old.copy()"
      ],
      "execution_count": 9,
      "outputs": []
    },
    {
      "cell_type": "code",
      "metadata": {
        "id": "dbY9iB7-KxVq"
      },
      "source": [
        "features = ['30 Day MA','30 Day STD','Upper Band','Lower Band','ADV_13','ADV_26','MACD_12_26_9',\\\n",
        "       'MACDh_12_26_9', 'MACDs_12_26_9','VTXP_18', 'VTXM_18', 'AROOND_18', 'AROONU_18',\n",
        "       'AROONOSC_18', 'RSI_18']"
      ],
      "execution_count": 10,
      "outputs": []
    },
    {
      "cell_type": "code",
      "metadata": {
        "colab": {
          "base_uri": "https://localhost:8080/"
        },
        "id": "gTuaR5hhDFjB",
        "outputId": "0d17e26d-9291-4616-be34-3fec5ea84d06"
      },
      "source": [
        "price_data.columns"
      ],
      "execution_count": 11,
      "outputs": [
        {
          "output_type": "execute_result",
          "data": {
            "text/plain": [
              "Index(['Open', 'High', 'Low', 'Close', '30 Day MA', '30 Day STD', 'Upper Band',\n",
              "       'Lower Band', 'ADV_26', 'ADV_13', 'MACD_12_26_9', 'MACDh_12_26_9',\n",
              "       'MACDs_12_26_9', 'VTXP_18', 'VTXM_18', 'AROOND_18', 'AROONU_18',\n",
              "       'AROONOSC_18', 'RSI_18'],\n",
              "      dtype='object')"
            ]
          },
          "metadata": {},
          "execution_count": 11
        }
      ]
    },
    {
      "cell_type": "markdown",
      "metadata": {
        "id": "9ytJOVlCaqQF"
      },
      "source": [
        "#####df = df.assign(flag=df['apm'].gt(df['apm'].shift()))"
      ]
    },
    {
      "cell_type": "code",
      "metadata": {
        "id": "fiMreZ6BYX3l"
      },
      "source": [
        "if trend_decider=='impulse':\n",
        "  price_data=price_data.assign(Flag=(price_data['MACDh_12_26_9'].lt(price_data['MACDh_12_26_9'].shift()) & price_data['ADV_13'].lt(price_data['ADV_13'].shift())))\n",
        "elif trend_decider=='sma':\n",
        "  price_data= price_data.assign(Flag=price_data['ADV_50'].lt(price_data['ADV_50'].shift()))\n",
        "elif trend_decider=='long':\n",
        "  price_data= price_data.assign(Flag=price_data['ADV_50'].lt(price_data['ADV_50'].shift(period))) \n",
        "elif trend_decider=='percentchange':\n",
        "  close_groups = price_data['Close'].transform(lambda x : np.sign(x.diff(days_out)))\n",
        "  price_data['Flag'] = close_groups  "
      ],
      "execution_count": 12,
      "outputs": []
    },
    {
      "cell_type": "code",
      "metadata": {
        "id": "ZTIVeogfokOU"
      },
      "source": [
        "price_data=price_data.assign(Strength_Flag_dummy=(price_data['MACDh_12_26_9'].gt(price_data['MACDh_12_26_9'].shift()) & price_data['ADV_13'].gt(price_data['ADV_13'].shift())))"
      ],
      "execution_count": 13,
      "outputs": []
    },
    {
      "cell_type": "code",
      "source": [
        "price_data=price_data.assign(Strength_Flag_dum=(price_data['MACDh_12_26_9'].lt(price_data['MACDh_12_26_9'].shift()) & price_data['ADV_13'].lt(price_data['ADV_13'].shift())))"
      ],
      "metadata": {
        "id": "tsxE9Mo5jM6G"
      },
      "execution_count": 14,
      "outputs": []
    },
    {
      "cell_type": "code",
      "metadata": {
        "id": "C4XBkw9zQU-D"
      },
      "source": [
        "price_data.dropna(inplace=True)"
      ],
      "execution_count": 15,
      "outputs": []
    },
    {
      "cell_type": "code",
      "source": [
        "price_data.Strength_Flag_dummy.value_counts()"
      ],
      "metadata": {
        "id": "L2-mQ_g8UmuU",
        "outputId": "8d247dbf-7a91-4e23-fc93-4a04d61b9fad",
        "colab": {
          "base_uri": "https://localhost:8080/"
        }
      },
      "execution_count": 16,
      "outputs": [
        {
          "output_type": "execute_result",
          "data": {
            "text/plain": [
              "False    457\n",
              "True     211\n",
              "Name: Strength_Flag_dummy, dtype: int64"
            ]
          },
          "metadata": {},
          "execution_count": 16
        }
      ]
    },
    {
      "cell_type": "code",
      "metadata": {
        "id": "ce-Xwmoum6cE"
      },
      "source": [
        "price_data.Strength_Flag_dummy = price_data.Strength_Flag_dummy.replace(dictionary_bull)"
      ],
      "execution_count": 17,
      "outputs": []
    },
    {
      "cell_type": "code",
      "source": [
        "price_data.Strength_Flag_dum.value_counts()"
      ],
      "metadata": {
        "colab": {
          "base_uri": "https://localhost:8080/"
        },
        "id": "RoA6oGfPjU8X",
        "outputId": "a94a2afa-d1c6-4e68-92ff-41c02c40b520"
      },
      "execution_count": 18,
      "outputs": [
        {
          "output_type": "execute_result",
          "data": {
            "text/plain": [
              "False    529\n",
              "True     139\n",
              "Name: Strength_Flag_dum, dtype: int64"
            ]
          },
          "metadata": {},
          "execution_count": 18
        }
      ]
    },
    {
      "cell_type": "code",
      "source": [
        "price_data.Strength_Flag_dum = price_data.Strength_Flag_dum.replace(dictionary_bear)"
      ],
      "metadata": {
        "id": "0Kjap4-2jZUl"
      },
      "execution_count": 19,
      "outputs": []
    },
    {
      "cell_type": "code",
      "source": [
        "price_data['Strength_Flag']=price_data.Strength_Flag_dum+price_data.Strength_Flag_dummy"
      ],
      "metadata": {
        "id": "GAvudaHXjxPN"
      },
      "execution_count": 20,
      "outputs": []
    },
    {
      "cell_type": "code",
      "metadata": {
        "id": "YLBANAd4LhKm"
      },
      "source": [
        "X_Cols = price_data[features]\n",
        "Y_Cols = price_data['Flag']\n",
        "samp_train= int(len(price_data)*.75) -100\n",
        "samp_test= samp_train+100\n",
        "X_train = X_Cols[:samp_train]\n",
        "X_test = X_Cols[samp_test:]\n",
        "y_train = Y_Cols[:samp_train]\n",
        "y_test = Y_Cols[samp_test:]"
      ],
      "execution_count": 21,
      "outputs": []
    },
    {
      "cell_type": "markdown",
      "metadata": {
        "id": "LQ9Xbp-LJM14"
      },
      "source": [
        "# Initialize 1st level models"
      ]
    },
    {
      "cell_type": "code",
      "metadata": {
        "id": "k9jM7JiKsOyZ"
      },
      "source": [
        "sample_w=price_data[:samp_train].Strength_Flag.values"
      ],
      "execution_count": 22,
      "outputs": []
    },
    {
      "cell_type": "code",
      "metadata": {
        "id": "ifO1vjloJM15"
      },
      "source": [
        "models_L1 = [\n",
        "    LogisticRegression(max_iter=1000),   \n",
        "    svm.SVC(kernel='linear'),      \n",
        "    ExtraTreesClassifier(random_state=0, n_jobs=-1,\n",
        "                         n_estimators=100, max_depth=3,class_weight='balanced' ),\n",
        "    \n",
        "    RandomForestClassifier(random_state=0, n_jobs=-1, \n",
        "                           n_estimators=200, max_depth=3,class_weight='balanced'),\n",
        "    KNeighborsClassifier(n_neighbors=5,weights='uniform', algorithm='auto', \n",
        "                          leaf_size=30, p=2, metric='minkowski', metric_params=None, n_jobs=None),\n",
        "    LDA(solver='svd', shrinkage=None, priors=None, n_components=None,\n",
        "        store_covariance=False, tol=0.0001, covariance_estimator=None),\n",
        "                       \n",
        "]"
      ],
      "execution_count": 23,
      "outputs": []
    },
    {
      "cell_type": "code",
      "metadata": {
        "colab": {
          "base_uri": "https://localhost:8080/",
          "height": 54
        },
        "id": "OM69JNutuht0",
        "outputId": "a41a7a7e-870e-4484-8aac-1dc14fd174eb"
      },
      "source": [
        "'''XGBClassifier(random_state=0, n_jobs=-1, learning_rate=0.1,sample_weight=sample_w,\n",
        "                  n_estimators=100, max_depth=3)'''"
      ],
      "execution_count": 24,
      "outputs": [
        {
          "output_type": "execute_result",
          "data": {
            "text/plain": [
              "'XGBClassifier(random_state=0, n_jobs=-1, learning_rate=0.1,sample_weight=sample_w,\\n                  n_estimators=100, max_depth=3)'"
            ],
            "application/vnd.google.colaboratory.intrinsic+json": {
              "type": "string"
            }
          },
          "metadata": {},
          "execution_count": 24
        }
      ]
    },
    {
      "cell_type": "code",
      "metadata": {
        "id": "a6f527E3WIW0",
        "outputId": "643b7351-fe2a-4a87-a204-4c135894a42d",
        "colab": {
          "base_uri": "https://localhost:8080/"
        }
      },
      "source": [
        "model_L1_0 = models_L1[0]\n",
        "_ = model_L1_0.fit(X_train, y_train)\n",
        "# save model in file if you need\n",
        "\n",
        "model_L1_1 = models_L1[1]\n",
        "_ = model_L1_1.fit(X_train, y_train,sample_weight=sample_w)\n",
        "# save model in file if you need\n",
        "\n",
        "model_L1_2 = models_L1[2]\n",
        "_ = model_L1_2.fit(X_train, y_train,sample_weight=sample_w)\n",
        "# save model in file if you need\n",
        "\n",
        "model_L1_3 = models_L1[3]\n",
        "_ = model_L1_3.fit(X_train, y_train)\n",
        "# save model in file if you need\n",
        "model_L1_4 = models_L1[4]\n",
        "_ = model_L1_4.fit(X_train, y_train)\n",
        "# save model in file if you need\n",
        "model_L1_5 = models_L1[5]\n",
        "_ = model_L1_5.fit(X_train, y_train)\n",
        "# save model in file if you need\n",
        "\n"
      ],
      "execution_count": 25,
      "outputs": [
        {
          "output_type": "stream",
          "name": "stderr",
          "text": [
            "/usr/local/lib/python3.8/dist-packages/sklearn/linear_model/_logistic.py:814: ConvergenceWarning: lbfgs failed to converge (status=1):\n",
            "STOP: TOTAL NO. of ITERATIONS REACHED LIMIT.\n",
            "\n",
            "Increase the number of iterations (max_iter) or scale the data as shown in:\n",
            "    https://scikit-learn.org/stable/modules/preprocessing.html\n",
            "Please also refer to the documentation for alternative solver options:\n",
            "    https://scikit-learn.org/stable/modules/linear_model.html#logistic-regression\n",
            "  n_iter_i = _check_optimize_result(\n"
          ]
        }
      ]
    },
    {
      "cell_type": "markdown",
      "metadata": {
        "id": "7m6O1MvnJM16"
      },
      "source": [
        "# Perform stacking"
      ]
    },
    {
      "cell_type": "code",
      "metadata": {
        "id": "_ZPqNj3-JM17",
        "colab": {
          "base_uri": "https://localhost:8080/"
        },
        "outputId": "c44667a5-7d96-4c2c-8081-a389e29a22eb"
      },
      "source": [
        "S_train, S_test = stacking(models_L1,                     # list of models\n",
        "                           X_train, y_train, X_test,   # data\n",
        "                           regression=False,           # classification task (if you need \n",
        "                                                       #     regression - set to True)\n",
        "                           mode='oof',                 # mode: oof for train set, predict test \n",
        "                                                       #mode='oof_pred_bag'(for training) and oof for inference\n",
        "                                                      #     set in each fold and vote\n",
        "                           needs_proba=False,          # predict class labels (if you need \n",
        "                                                       #     probabilities - set to True) \n",
        "                           save_dir=None,              # do not save result and log (to save \n",
        "                                                       #     in current dir - set to '.')\n",
        "                           metric=accuracy_score,      # metric: callable\n",
        "                           n_folds=4,                  # number of folds\n",
        "                           stratified=True,            # stratified split for folds\n",
        "                           shuffle=False,               # shuffle the data\n",
        "                           random_state=None,             # ensure reproducibility\n",
        "                           verbose=2)                  # print all info"
      ],
      "execution_count": 26,
      "outputs": [
        {
          "output_type": "stream",
          "name": "stdout",
          "text": [
            "task:         [classification]\n",
            "n_classes:    [3]\n",
            "metric:       [accuracy_score]\n",
            "mode:         [oof]\n",
            "n_models:     [6]\n",
            "\n",
            "model  0:     [LogisticRegression]\n",
            "    fold  0:  [0.88118812]\n"
          ]
        },
        {
          "output_type": "stream",
          "name": "stderr",
          "text": [
            "/usr/local/lib/python3.8/dist-packages/sklearn/model_selection/_split.py:676: UserWarning: The least populated class in y has only 1 members, which is less than n_splits=4.\n",
            "  warnings.warn(\n",
            "/usr/local/lib/python3.8/dist-packages/sklearn/linear_model/_logistic.py:814: ConvergenceWarning: lbfgs failed to converge (status=1):\n",
            "STOP: TOTAL NO. of ITERATIONS REACHED LIMIT.\n",
            "\n",
            "Increase the number of iterations (max_iter) or scale the data as shown in:\n",
            "    https://scikit-learn.org/stable/modules/preprocessing.html\n",
            "Please also refer to the documentation for alternative solver options:\n",
            "    https://scikit-learn.org/stable/modules/linear_model.html#logistic-regression\n",
            "  n_iter_i = _check_optimize_result(\n"
          ]
        },
        {
          "output_type": "stream",
          "name": "stdout",
          "text": [
            "    fold  1:  [0.91000000]\n"
          ]
        },
        {
          "output_type": "stream",
          "name": "stderr",
          "text": [
            "/usr/local/lib/python3.8/dist-packages/sklearn/linear_model/_logistic.py:814: ConvergenceWarning: lbfgs failed to converge (status=1):\n",
            "STOP: TOTAL NO. of ITERATIONS REACHED LIMIT.\n",
            "\n",
            "Increase the number of iterations (max_iter) or scale the data as shown in:\n",
            "    https://scikit-learn.org/stable/modules/preprocessing.html\n",
            "Please also refer to the documentation for alternative solver options:\n",
            "    https://scikit-learn.org/stable/modules/linear_model.html#logistic-regression\n",
            "  n_iter_i = _check_optimize_result(\n"
          ]
        },
        {
          "output_type": "stream",
          "name": "stdout",
          "text": [
            "    fold  2:  [0.87000000]\n"
          ]
        },
        {
          "output_type": "stream",
          "name": "stderr",
          "text": [
            "/usr/local/lib/python3.8/dist-packages/sklearn/linear_model/_logistic.py:814: ConvergenceWarning: lbfgs failed to converge (status=1):\n",
            "STOP: TOTAL NO. of ITERATIONS REACHED LIMIT.\n",
            "\n",
            "Increase the number of iterations (max_iter) or scale the data as shown in:\n",
            "    https://scikit-learn.org/stable/modules/preprocessing.html\n",
            "Please also refer to the documentation for alternative solver options:\n",
            "    https://scikit-learn.org/stable/modules/linear_model.html#logistic-regression\n",
            "  n_iter_i = _check_optimize_result(\n",
            "/usr/local/lib/python3.8/dist-packages/sklearn/model_selection/_split.py:676: UserWarning: The least populated class in y has only 1 members, which is less than n_splits=4.\n",
            "  warnings.warn(\n"
          ]
        },
        {
          "output_type": "stream",
          "name": "stdout",
          "text": [
            "    fold  3:  [0.71000000]\n",
            "    ----\n",
            "    MEAN:     [0.84279703] + [0.07804673]\n",
            "    FULL:     [0.84289277]\n",
            "\n",
            "model  1:     [SVC]\n",
            "    fold  0:  [0.86138614]\n",
            "    fold  1:  [0.92000000]\n",
            "    fold  2:  [0.86000000]\n",
            "    fold  3:  [0.10000000]\n",
            "    ----\n",
            "    MEAN:     [0.68534653] + [0.33881654]\n",
            "    FULL:     [0.68578554]\n",
            "\n",
            "model  2:     [ExtraTreesClassifier]\n"
          ]
        },
        {
          "output_type": "stream",
          "name": "stderr",
          "text": [
            "/usr/local/lib/python3.8/dist-packages/sklearn/model_selection/_split.py:676: UserWarning: The least populated class in y has only 1 members, which is less than n_splits=4.\n",
            "  warnings.warn(\n"
          ]
        },
        {
          "output_type": "stream",
          "name": "stdout",
          "text": [
            "    fold  0:  [0.73267327]\n",
            "    fold  1:  [0.82000000]\n",
            "    fold  2:  [0.89000000]\n",
            "    fold  3:  [0.53000000]\n",
            "    ----\n",
            "    MEAN:     [0.74316832] + [0.13510508]\n",
            "    FULL:     [0.74314214]\n",
            "\n",
            "model  3:     [RandomForestClassifier]\n"
          ]
        },
        {
          "output_type": "stream",
          "name": "stderr",
          "text": [
            "/usr/local/lib/python3.8/dist-packages/sklearn/model_selection/_split.py:676: UserWarning: The least populated class in y has only 1 members, which is less than n_splits=4.\n",
            "  warnings.warn(\n"
          ]
        },
        {
          "output_type": "stream",
          "name": "stdout",
          "text": [
            "    fold  0:  [0.60396040]\n",
            "    fold  1:  [0.88000000]\n",
            "    fold  2:  [0.89000000]\n",
            "    fold  3:  [0.40000000]\n",
            "    ----\n",
            "    MEAN:     [0.69349010] + [0.20466686]\n",
            "    FULL:     [0.69326683]\n",
            "\n",
            "model  4:     [KNeighborsClassifier]\n",
            "    fold  0:  [0.37623762]\n",
            "    fold  1:  [0.31000000]\n",
            "    fold  2:  [0.49000000]\n",
            "    fold  3:  [0.37000000]\n",
            "    ----\n",
            "    MEAN:     [0.38655941] + [0.06508082]\n",
            "    FULL:     [0.38653367]\n",
            "\n",
            "model  5:     [LinearDiscriminantAnalysis]\n",
            "    fold  0:  [0.85148515]\n",
            "    fold  1:  [0.83000000]\n",
            "    fold  2:  [0.84000000]\n",
            "    fold  3:  [0.51000000]\n",
            "    ----\n",
            "    MEAN:     [0.75787129] + [0.14331033]\n",
            "    FULL:     [0.75810474]\n",
            "\n"
          ]
        },
        {
          "output_type": "stream",
          "name": "stderr",
          "text": [
            "/usr/local/lib/python3.8/dist-packages/sklearn/model_selection/_split.py:676: UserWarning: The least populated class in y has only 1 members, which is less than n_splits=4.\n",
            "  warnings.warn(\n",
            "/usr/local/lib/python3.8/dist-packages/sklearn/model_selection/_split.py:676: UserWarning: The least populated class in y has only 1 members, which is less than n_splits=4.\n",
            "  warnings.warn(\n"
          ]
        }
      ]
    },
    {
      "cell_type": "markdown",
      "metadata": {
        "id": "FcFsGaXJJM1-"
      },
      "source": [
        "# Look at the result\n",
        "\n",
        "So now we have OOF from 1st level models and we can build 2nd level model.  \n",
        "But first let's look at the result.  \n",
        "We have three 1st level models, so we expect to get three columns in `S_train` and `S_test`.  "
      ]
    },
    {
      "cell_type": "code",
      "metadata": {
        "id": "aRPrZuVGJM2B"
      },
      "source": [
        "# XGboost\n",
        "model_L1_X = XGBClassifier(learning_rate =0.1,\n",
        " n_estimators=100,\n",
        " max_depth=3,\n",
        " min_child_weight=1,\n",
        " gamma=0,\n",
        " reg_alpha= 0.01,\n",
        " subsample=0.75,\n",
        " colsample_bytree=0.75,\n",
        " objective= 'binary:logistic',\n",
        " nthread=4,\n",
        " scale_pos_weight=1,\n",
        " seed=27)\n",
        "    \n",
        "# Fit 2nd level model\n",
        "dummy_train = model_L1_X.fit(X_train,y_train)\n",
        "# Predict\n",
        "#y_pred = model_L2.predict(S_test)\n",
        "\n",
        "# Final prediction score\n",
        "#print('Final prediction score: [%.8f]' % accuracy_score(y_test, y_pred))"
      ],
      "execution_count": 27,
      "outputs": []
    },
    {
      "cell_type": "markdown",
      "metadata": {
        "id": "Gz6Cwg1LJM2B"
      },
      "source": [
        "# Apply 2nd level model"
      ]
    },
    {
      "cell_type": "code",
      "source": [
        "'''\n",
        "# Initialize 2nd level model\n",
        "model_L2 = XGBClassifier(learning_rate =0.1,\n",
        " n_estimators=100,\n",
        " max_depth=3,\n",
        " min_child_weight=1,\n",
        " gamma=0,\n",
        " reg_alpha= 0.01,\n",
        " subsample=0.75,\n",
        " colsample_bytree=0.75,\n",
        " objective= 'binary:logistic',\n",
        " nthread=4,\n",
        " scale_pos_weight=1,\n",
        " seed=27)\n",
        "S_train=np.c_[S_train,dummy_train]    \n",
        "# Fit 2nd level model\n",
        "_ = model_L2.fit(S_train,y_train)\n",
        "# Predict\n",
        "y_pred = model_L2.predict(S_test)\n",
        "\n",
        "# Final prediction score\n",
        "#print('Final prediction score: [%.8f]' % accuracy_score(y_test, y_pred))\n",
        "'''"
      ],
      "metadata": {
        "id": "JhUvtN18NlgQ",
        "outputId": "f5b6c078-049c-4346-d62d-c627e9b25930",
        "colab": {
          "base_uri": "https://localhost:8080/",
          "height": 106
        }
      },
      "execution_count": 28,
      "outputs": [
        {
          "output_type": "execute_result",
          "data": {
            "text/plain": [
              "\"\\n# Initialize 2nd level model\\nmodel_L2 = XGBClassifier(learning_rate =0.1,\\n n_estimators=100,\\n max_depth=3,\\n min_child_weight=1,\\n gamma=0,\\n reg_alpha= 0.01,\\n subsample=0.75,\\n colsample_bytree=0.75,\\n objective= 'binary:logistic',\\n nthread=4,\\n scale_pos_weight=1,\\n seed=27)\\nS_train=np.c_[S_train,dummy_train]    \\n# Fit 2nd level model\\n_ = model_L2.fit(S_train,y_train)\\n# Predict\\ny_pred = model_L2.predict(S_test)\\n\\n# Final prediction score\\n#print('Final prediction score: [%.8f]' % accuracy_score(y_test, y_pred))\\n\""
            ],
            "application/vnd.google.colaboratory.intrinsic+json": {
              "type": "string"
            }
          },
          "metadata": {},
          "execution_count": 28
        }
      ]
    },
    {
      "cell_type": "code",
      "metadata": {
        "id": "hJyo5IDKSbr5"
      },
      "source": [
        "# UNDER PRODUCTION\n",
        "def data_meta(id, x, y, dummy):\n",
        "  #get prediction from model 1\n",
        "  #pred_prob_meta = model.predict_proba(x)[:,1]\n",
        "  pred_prob_meta = pd.Series(dummy, \\\n",
        "  index=x.index,\n",
        "  name=f'pred_{id}_meta')\n",
        "  pred_int_meta = pred_prob_meta > Threshold\n",
        "  y_meta = pd.Series(y & pred_int_meta, name=f'y_train_meta_{id}')\n",
        "  x_meta = x.join(pred_int_meta)\n",
        "  return x_meta, y_meta"
      ],
      "execution_count": 29,
      "outputs": []
    },
    {
      "cell_type": "markdown",
      "metadata": {
        "id": "ulins-1nSBHK"
      },
      "source": [
        "# Make Predictions"
      ]
    },
    {
      "cell_type": "code",
      "metadata": {
        "id": "zGgNR1ce6nJL",
        "outputId": "aba91366-d154-4bee-d005-7f253a3bd5bc",
        "colab": {
          "base_uri": "https://localhost:8080/"
        }
      },
      "source": [
        "nifty_test=yf.download(tker,start=START_testing)"
      ],
      "execution_count": 30,
      "outputs": [
        {
          "output_type": "stream",
          "name": "stdout",
          "text": [
            "\r[*********************100%***********************]  1 of 1 completed\n"
          ]
        }
      ]
    },
    {
      "cell_type": "code",
      "metadata": {
        "id": "vKhbIiUPShcw"
      },
      "source": [
        "#nifty_test = pdr.get_data_yahoo(tker, start=START)\n",
        "nifty_test=nifty_test.dropna()\n",
        "nifty_test=nifty_test.iloc[:,:4]"
      ],
      "execution_count": 31,
      "outputs": []
    },
    {
      "cell_type": "code",
      "metadata": {
        "id": "VAYNp7JcSnHY",
        "outputId": "5f98b026-cc65-4505-9d55-e2c8bae44a37",
        "colab": {
          "base_uri": "https://localhost:8080/",
          "height": 276
        }
      },
      "source": [
        "# Calculate 30 Day Moving Average, Std Deviation, Upper Band and Lower Band\n",
        "\n",
        "nifty_test['30 Day MA'] = nifty_test['Close'].rolling(window=20).mean()\n",
        "\n",
        "# set .std(ddof=0) for population std instead of sample\n",
        "nifty_test['30 Day STD'] = nifty_test['Close'].rolling(window=20).std() \n",
        "\n",
        "nifty_test['Upper Band'] = nifty_test['30 Day MA'] + (nifty_test['30 Day STD'] *1.5)\n",
        "nifty_test['Lower Band'] = nifty_test['30 Day MA'] - (nifty_test['30 Day STD'] *1.5)\n",
        "nifty_test['ADV_26'] = nifty_test['Close'].rolling(window=26).mean()\n",
        "nifty_test['ADV_13'] = nifty_test['Close'].rolling(window=10).mean()\n",
        "nifty_test.ta.macd(append=True)\n",
        "nifty_test.ta.vortex(length=18,append=True)\n",
        "nifty_test.ta.aroon(length=18,append=True)\n",
        "nifty_test.ta.rsi(length=18,append=True)\n",
        "df = nifty_test.copy()\n",
        "# I Just need the Close\n",
        "price_data_new = df.copy()\n",
        "\n",
        "price_data_new.head(2)"
      ],
      "execution_count": 32,
      "outputs": [
        {
          "output_type": "execute_result",
          "data": {
            "text/plain": [
              "                                   Open          High           Low  \\\n",
              "Date                                                                  \n",
              "2022-09-01 00:00:00+05:30  17485.699219  17695.599609  17468.449219   \n",
              "2022-09-02 00:00:00+05:30  17598.400391  17643.849609  17476.449219   \n",
              "\n",
              "                                  Close  30 Day MA  30 Day STD  Upper Band  \\\n",
              "Date                                                                         \n",
              "2022-09-01 00:00:00+05:30  17542.800781        NaN         NaN         NaN   \n",
              "2022-09-02 00:00:00+05:30  17539.449219        NaN         NaN         NaN   \n",
              "\n",
              "                           Lower Band  ADV_26  ADV_13  MACD_12_26_9  \\\n",
              "Date                                                                  \n",
              "2022-09-01 00:00:00+05:30         NaN     NaN     NaN           NaN   \n",
              "2022-09-02 00:00:00+05:30         NaN     NaN     NaN           NaN   \n",
              "\n",
              "                           MACDh_12_26_9  MACDs_12_26_9  VTXP_18  VTXM_18  \\\n",
              "Date                                                                        \n",
              "2022-09-01 00:00:00+05:30            NaN            NaN      NaN      NaN   \n",
              "2022-09-02 00:00:00+05:30            NaN            NaN      NaN      NaN   \n",
              "\n",
              "                           AROOND_18  AROONU_18  AROONOSC_18  RSI_18  \n",
              "Date                                                                  \n",
              "2022-09-01 00:00:00+05:30        NaN        NaN          NaN     NaN  \n",
              "2022-09-02 00:00:00+05:30        NaN        NaN          NaN     NaN  "
            ],
            "text/html": [
              "\n",
              "  <div id=\"df-95ea696d-68af-4e84-a7b1-a3cafda9133b\">\n",
              "    <div class=\"colab-df-container\">\n",
              "      <div>\n",
              "<style scoped>\n",
              "    .dataframe tbody tr th:only-of-type {\n",
              "        vertical-align: middle;\n",
              "    }\n",
              "\n",
              "    .dataframe tbody tr th {\n",
              "        vertical-align: top;\n",
              "    }\n",
              "\n",
              "    .dataframe thead th {\n",
              "        text-align: right;\n",
              "    }\n",
              "</style>\n",
              "<table border=\"1\" class=\"dataframe\">\n",
              "  <thead>\n",
              "    <tr style=\"text-align: right;\">\n",
              "      <th></th>\n",
              "      <th>Open</th>\n",
              "      <th>High</th>\n",
              "      <th>Low</th>\n",
              "      <th>Close</th>\n",
              "      <th>30 Day MA</th>\n",
              "      <th>30 Day STD</th>\n",
              "      <th>Upper Band</th>\n",
              "      <th>Lower Band</th>\n",
              "      <th>ADV_26</th>\n",
              "      <th>ADV_13</th>\n",
              "      <th>MACD_12_26_9</th>\n",
              "      <th>MACDh_12_26_9</th>\n",
              "      <th>MACDs_12_26_9</th>\n",
              "      <th>VTXP_18</th>\n",
              "      <th>VTXM_18</th>\n",
              "      <th>AROOND_18</th>\n",
              "      <th>AROONU_18</th>\n",
              "      <th>AROONOSC_18</th>\n",
              "      <th>RSI_18</th>\n",
              "    </tr>\n",
              "    <tr>\n",
              "      <th>Date</th>\n",
              "      <th></th>\n",
              "      <th></th>\n",
              "      <th></th>\n",
              "      <th></th>\n",
              "      <th></th>\n",
              "      <th></th>\n",
              "      <th></th>\n",
              "      <th></th>\n",
              "      <th></th>\n",
              "      <th></th>\n",
              "      <th></th>\n",
              "      <th></th>\n",
              "      <th></th>\n",
              "      <th></th>\n",
              "      <th></th>\n",
              "      <th></th>\n",
              "      <th></th>\n",
              "      <th></th>\n",
              "      <th></th>\n",
              "    </tr>\n",
              "  </thead>\n",
              "  <tbody>\n",
              "    <tr>\n",
              "      <th>2022-09-01 00:00:00+05:30</th>\n",
              "      <td>17485.699219</td>\n",
              "      <td>17695.599609</td>\n",
              "      <td>17468.449219</td>\n",
              "      <td>17542.800781</td>\n",
              "      <td>NaN</td>\n",
              "      <td>NaN</td>\n",
              "      <td>NaN</td>\n",
              "      <td>NaN</td>\n",
              "      <td>NaN</td>\n",
              "      <td>NaN</td>\n",
              "      <td>NaN</td>\n",
              "      <td>NaN</td>\n",
              "      <td>NaN</td>\n",
              "      <td>NaN</td>\n",
              "      <td>NaN</td>\n",
              "      <td>NaN</td>\n",
              "      <td>NaN</td>\n",
              "      <td>NaN</td>\n",
              "      <td>NaN</td>\n",
              "    </tr>\n",
              "    <tr>\n",
              "      <th>2022-09-02 00:00:00+05:30</th>\n",
              "      <td>17598.400391</td>\n",
              "      <td>17643.849609</td>\n",
              "      <td>17476.449219</td>\n",
              "      <td>17539.449219</td>\n",
              "      <td>NaN</td>\n",
              "      <td>NaN</td>\n",
              "      <td>NaN</td>\n",
              "      <td>NaN</td>\n",
              "      <td>NaN</td>\n",
              "      <td>NaN</td>\n",
              "      <td>NaN</td>\n",
              "      <td>NaN</td>\n",
              "      <td>NaN</td>\n",
              "      <td>NaN</td>\n",
              "      <td>NaN</td>\n",
              "      <td>NaN</td>\n",
              "      <td>NaN</td>\n",
              "      <td>NaN</td>\n",
              "      <td>NaN</td>\n",
              "    </tr>\n",
              "  </tbody>\n",
              "</table>\n",
              "</div>\n",
              "      <button class=\"colab-df-convert\" onclick=\"convertToInteractive('df-95ea696d-68af-4e84-a7b1-a3cafda9133b')\"\n",
              "              title=\"Convert this dataframe to an interactive table.\"\n",
              "              style=\"display:none;\">\n",
              "        \n",
              "  <svg xmlns=\"http://www.w3.org/2000/svg\" height=\"24px\"viewBox=\"0 0 24 24\"\n",
              "       width=\"24px\">\n",
              "    <path d=\"M0 0h24v24H0V0z\" fill=\"none\"/>\n",
              "    <path d=\"M18.56 5.44l.94 2.06.94-2.06 2.06-.94-2.06-.94-.94-2.06-.94 2.06-2.06.94zm-11 1L8.5 8.5l.94-2.06 2.06-.94-2.06-.94L8.5 2.5l-.94 2.06-2.06.94zm10 10l.94 2.06.94-2.06 2.06-.94-2.06-.94-.94-2.06-.94 2.06-2.06.94z\"/><path d=\"M17.41 7.96l-1.37-1.37c-.4-.4-.92-.59-1.43-.59-.52 0-1.04.2-1.43.59L10.3 9.45l-7.72 7.72c-.78.78-.78 2.05 0 2.83L4 21.41c.39.39.9.59 1.41.59.51 0 1.02-.2 1.41-.59l7.78-7.78 2.81-2.81c.8-.78.8-2.07 0-2.86zM5.41 20L4 18.59l7.72-7.72 1.47 1.35L5.41 20z\"/>\n",
              "  </svg>\n",
              "      </button>\n",
              "      \n",
              "  <style>\n",
              "    .colab-df-container {\n",
              "      display:flex;\n",
              "      flex-wrap:wrap;\n",
              "      gap: 12px;\n",
              "    }\n",
              "\n",
              "    .colab-df-convert {\n",
              "      background-color: #E8F0FE;\n",
              "      border: none;\n",
              "      border-radius: 50%;\n",
              "      cursor: pointer;\n",
              "      display: none;\n",
              "      fill: #1967D2;\n",
              "      height: 32px;\n",
              "      padding: 0 0 0 0;\n",
              "      width: 32px;\n",
              "    }\n",
              "\n",
              "    .colab-df-convert:hover {\n",
              "      background-color: #E2EBFA;\n",
              "      box-shadow: 0px 1px 2px rgba(60, 64, 67, 0.3), 0px 1px 3px 1px rgba(60, 64, 67, 0.15);\n",
              "      fill: #174EA6;\n",
              "    }\n",
              "\n",
              "    [theme=dark] .colab-df-convert {\n",
              "      background-color: #3B4455;\n",
              "      fill: #D2E3FC;\n",
              "    }\n",
              "\n",
              "    [theme=dark] .colab-df-convert:hover {\n",
              "      background-color: #434B5C;\n",
              "      box-shadow: 0px 1px 3px 1px rgba(0, 0, 0, 0.15);\n",
              "      filter: drop-shadow(0px 1px 2px rgba(0, 0, 0, 0.3));\n",
              "      fill: #FFFFFF;\n",
              "    }\n",
              "  </style>\n",
              "\n",
              "      <script>\n",
              "        const buttonEl =\n",
              "          document.querySelector('#df-95ea696d-68af-4e84-a7b1-a3cafda9133b button.colab-df-convert');\n",
              "        buttonEl.style.display =\n",
              "          google.colab.kernel.accessAllowed ? 'block' : 'none';\n",
              "\n",
              "        async function convertToInteractive(key) {\n",
              "          const element = document.querySelector('#df-95ea696d-68af-4e84-a7b1-a3cafda9133b');\n",
              "          const dataTable =\n",
              "            await google.colab.kernel.invokeFunction('convertToInteractive',\n",
              "                                                     [key], {});\n",
              "          if (!dataTable) return;\n",
              "\n",
              "          const docLinkHtml = 'Like what you see? Visit the ' +\n",
              "            '<a target=\"_blank\" href=https://colab.research.google.com/notebooks/data_table.ipynb>data table notebook</a>'\n",
              "            + ' to learn more about interactive tables.';\n",
              "          element.innerHTML = '';\n",
              "          dataTable['output_type'] = 'display_data';\n",
              "          await google.colab.output.renderOutput(dataTable, element);\n",
              "          const docLink = document.createElement('div');\n",
              "          docLink.innerHTML = docLinkHtml;\n",
              "          element.appendChild(docLink);\n",
              "        }\n",
              "      </script>\n",
              "    </div>\n",
              "  </div>\n",
              "  "
            ]
          },
          "metadata": {},
          "execution_count": 32
        }
      ]
    },
    {
      "cell_type": "code",
      "metadata": {
        "id": "PokeNbVgTyUA"
      },
      "source": [
        "# Group by the `Symbol` column, then grab the `Close` column.\n",
        "#close_groups = price_data_new['Close']\n",
        "\n",
        "# Apply the lambda function which will return -1.0 for down, 1.0 for up and 0.0 for no change.\n",
        "#close_groups = close_groups.transform(lambda x : np.sign(x.diff(days_out)))\n",
        "\n",
        "# add the data to the main dataframe.\n",
        "#price_data_new['Prediction'] = close_groups\n",
        "price_data_new = price_data_new.dropna()\n",
        "\n",
        "X_test_new =price_data_new[features]\n",
        "#Y_Cols = price_data_new['Prediction']\n",
        "\n",
        "\n"
      ],
      "execution_count": 33,
      "outputs": []
    },
    {
      "cell_type": "code",
      "metadata": {
        "id": "TuveNmcYR7Jp"
      },
      "source": [
        "#[4] Then new test set (X_test_new) comes. We load our 1st level models and predict new test set to get stacked features (S_test_new):\n",
        "y_pred_L1_0 = model_L1_0.predict(X_test_new)\n",
        "y_pred_L1_1 = model_L1_1.predict(X_test_new)\n",
        "y_pred_L1_2 = model_L1_2.predict(X_test_new)\n",
        "y_pred_L1_3 = model_L1_3.predict(X_test_new)\n",
        "y_pred_L1_4 = model_L1_4.predict(X_test_new)\n",
        "y_pred_L1_5 = model_L1_5.predict(X_test_new)\n",
        "y_pred_l1_6= model_L1_X.predict(X_test_new)\n",
        "S_test_new = np.c_[y_pred_L1_0, y_pred_L1_1,y_pred_L1_2,y_pred_L1_3,y_pred_L1_4,y_pred_L1_5,y_pred_l1_6]\n",
        "#[5] Then we load our 2nd level model and predict S_test_new to get final prediction:\n",
        "\n",
        "#y_pred_new = model_L2.predict(S_test_new)\n"
      ],
      "execution_count": 34,
      "outputs": []
    },
    {
      "cell_type": "code",
      "source": [
        "S_test_new[-5:]#.sum(axis=1)"
      ],
      "metadata": {
        "id": "gsBbeg54Tlz7",
        "outputId": "429b76c1-d35f-45d9-9d78-793ba5c9fc54",
        "colab": {
          "base_uri": "https://localhost:8080/"
        }
      },
      "execution_count": 35,
      "outputs": [
        {
          "output_type": "execute_result",
          "data": {
            "text/plain": [
              "array([[ 1.,  0., -1., -1.,  1., -1.,  1.],\n",
              "       [-1.,  0., -1., -1.,  1., -1.,  1.],\n",
              "       [-1.,  0., -1., -1.,  1., -1., -1.],\n",
              "       [-1.,  0., -1., -1.,  1., -1., -1.],\n",
              "       [-1.,  0., -1., -1.,  1., -1., -1.]])"
            ]
          },
          "metadata": {},
          "execution_count": 35
        }
      ]
    },
    {
      "cell_type": "code",
      "metadata": {
        "id": "h7EoF7_c4gfC"
      },
      "source": [
        "y_pred_new_p = S_test_new.sum(axis=1)"
      ],
      "execution_count": 36,
      "outputs": []
    },
    {
      "cell_type": "code",
      "metadata": {
        "id": "O4631FYG28qH",
        "outputId": "2bb54c93-74f5-4929-af25-3b915bd1df12",
        "colab": {
          "base_uri": "https://localhost:8080/"
        }
      },
      "source": [
        "y_pred_new_p"
      ],
      "execution_count": 37,
      "outputs": [
        {
          "output_type": "execute_result",
          "data": {
            "text/plain": [
              "array([ 2.,  4.,  6.,  6.,  6.,  6.,  6.,  6.,  6.,  6.,  6.,  6.,  6.,\n",
              "        6.,  6.,  6.,  6.,  6.,  6.,  6.,  6.,  6.,  6.,  6.,  6.,  6.,\n",
              "        6.,  6.,  6.,  6.,  6.,  6.,  6.,  6.,  6.,  0., -2.,  2.,  2.,\n",
              "       -4., -4., -5., -5., -5., -5., -5., -5., -5., -5., -5., -5., -5.,\n",
              "       -5., -5., -5., -4., -4., -4., -4., -4., -4., -4., -4.,  0.,  1.,\n",
              "       -2.,  0.,  0., -2., -4., -4., -4.])"
            ]
          },
          "metadata": {},
          "execution_count": 37
        }
      ]
    },
    {
      "cell_type": "code",
      "metadata": {
        "id": "mHgZjKCbrKws",
        "outputId": "17056112-8578-41e9-9fdb-ef5026b97b0a",
        "colab": {
          "base_uri": "https://localhost:8080/",
          "height": 123
        }
      },
      "source": [
        "'''\n",
        "price_data_new=price_data_new.assign(Strength_Flag_dummy=(price_data_new['MACDh_12_26_9'].gt(price_data_new['MACDh_12_26_9'].shift()) & price_data_new['ADV_13'].gt(price_data_new['ADV_13'].shift())))\n",
        "price_data_new=price_data_new.assign(Strength_Flag_dum=(price_data_new['MACDh_12_26_9'].lt(price_data_new['MACDh_12_26_9'].shift()) & price_data_new['ADV_13'].lt(price_data_new['ADV_13'].shift())))\n",
        "price_data_new.dropna(inplace=True)\n",
        "price_data_new.Strength_Flag_dum = price_data_new.Strength_Flag_dum.replace(dictionary_bear)\n",
        "price_data_new.Strength_Flag_dummy = price_data_new.Strength_Flag_dummy.replace(dictionary_bull)\n",
        "price_data_new['Strength_Flag']=price_data_new.Strength_Flag_dum+price_data_new.Strength_Flag_dummy\n",
        "'''"
      ],
      "execution_count": 38,
      "outputs": [
        {
          "output_type": "execute_result",
          "data": {
            "text/plain": [
              "\"\\nprice_data_new=price_data_new.assign(Strength_Flag_dummy=(price_data_new['MACDh_12_26_9'].gt(price_data_new['MACDh_12_26_9'].shift()) & price_data_new['ADV_13'].gt(price_data_new['ADV_13'].shift())))\\nprice_data_new=price_data_new.assign(Strength_Flag_dum=(price_data_new['MACDh_12_26_9'].lt(price_data_new['MACDh_12_26_9'].shift()) & price_data_new['ADV_13'].lt(price_data_new['ADV_13'].shift())))\\nprice_data_new.dropna(inplace=True)\\nprice_data_new.Strength_Flag_dum = price_data_new.Strength_Flag_dum.replace(dictionary_bear)\\nprice_data_new.Strength_Flag_dummy = price_data_new.Strength_Flag_dummy.replace(dictionary_bull)\\nprice_data_new['Strength_Flag']=price_data_new.Strength_Flag_dum+price_data_new.Strength_Flag_dummy\\n\""
            ],
            "application/vnd.google.colaboratory.intrinsic+json": {
              "type": "string"
            }
          },
          "metadata": {},
          "execution_count": 38
        }
      ]
    },
    {
      "cell_type": "code",
      "metadata": {
        "id": "vJ3THHO3rmAV"
      },
      "source": [
        "#price_data_new.Strength_Flag = price_data_new.Strength_Flag.replace(dictionary)"
      ],
      "execution_count": 39,
      "outputs": []
    },
    {
      "cell_type": "code",
      "metadata": {
        "id": "i0jAa_ICQNrr"
      },
      "source": [
        "#price_data_new.tail(2)"
      ],
      "execution_count": 40,
      "outputs": []
    },
    {
      "cell_type": "code",
      "metadata": {
        "id": "W7qDWTE4Yvjb",
        "outputId": "87c3922a-f6bd-4b26-a8f9-357b5d5858f8",
        "colab": {
          "base_uri": "https://localhost:8080/",
          "height": 89
        }
      },
      "source": [
        "'''\n",
        "if trend_decider !='percentchange':\n",
        "  #price_data_new.Flag = price_data_new.Flag.replace({True: 0, False: 1})\n",
        "  y_pred_new=y_pred_new.astype(int)\n",
        "  indices_one = y_pred_new == 1\n",
        "  indices_zero = y_pred_new == 0\n",
        "  y_pred_new[indices_one] = 0 # replacing 1s with 0s\n",
        "  y_pred_new[indices_zero] = 1 # replacing 0s with 1s\n",
        "if trend_decider =='percentchange':\n",
        "  #price_data_new.Flag = np.where(price_data_new.close>price_data_new.close.shift(1),1,-1)\n",
        "  print('done')\n",
        "'''"
      ],
      "execution_count": 41,
      "outputs": [
        {
          "output_type": "execute_result",
          "data": {
            "text/plain": [
              "\"\\nif trend_decider !='percentchange':\\n  #price_data_new.Flag = price_data_new.Flag.replace({True: 0, False: 1})\\n  y_pred_new=y_pred_new.astype(int)\\n  indices_one = y_pred_new == 1\\n  indices_zero = y_pred_new == 0\\n  y_pred_new[indices_one] = 0 # replacing 1s with 0s\\n  y_pred_new[indices_zero] = 1 # replacing 0s with 1s\\nif trend_decider =='percentchange':\\n  #price_data_new.Flag = np.where(price_data_new.close>price_data_new.close.shift(1),1,-1)\\n  print('done')\\n\""
            ],
            "application/vnd.google.colaboratory.intrinsic+json": {
              "type": "string"
            }
          },
          "metadata": {},
          "execution_count": 41
        }
      ]
    },
    {
      "cell_type": "code",
      "metadata": {
        "id": "T01QOoTOfOUT"
      },
      "source": [
        "#actuals=price_data_new['Flag'].dropna()\n",
        "#actuals.value_counts()"
      ],
      "execution_count": 42,
      "outputs": []
    },
    {
      "cell_type": "markdown",
      "source": [
        "rapida = 18\n",
        "lenta = 26\n",
        "stdv = 0.5\n",
        "df['fast'] =df['Close'].ewm(span=rapida).mean()\n",
        "df['slow'] =df['Close'].ewm(span=lenta).mean()\n",
        "df['bband']= df['fast']-df['slow']\n",
        "df['avg'] = df['bband'].rolling(window=9).mean()\n",
        "df['Sdev'] = df['bband'].rolling(window=9).std()\n",
        "df['Upper Band'] = df['avg'] + (df['Sdev'] *stdv)\n",
        "df['Lower Band'] = df['avg'] - (df['Sdev'] *stdv)"
      ],
      "metadata": {
        "id": "BSrfcAOu5Wdj"
      }
    },
    {
      "cell_type": "code",
      "source": [
        "rapida = 18*1.2\n",
        "lenta = 26*1.2\n",
        "stdv =0.8\n",
        "df['fast'] =df['Close'].ewm(span=rapida).mean()\n",
        "df['slow'] =df['Close'].ewm(span=lenta).mean()\n",
        "df['bband']= df['fast']-df['slow']\n",
        "df['avg'] = df['bband'].rolling(window=10).mean()\n",
        "df['Sdev'] = df['bband'].rolling(window=12).std()\n",
        "df['Upper Band'] = df['avg'] + (df['Sdev'] *stdv)\n",
        "df['Lower Band'] = df['avg'] - (df['Sdev'] *stdv)\n",
        "df['spread'] = df['bband'] - df['Lower Band']\n",
        "df['spread_1'] = -(df['bband'] - df['Upper Band'])"
      ],
      "metadata": {
        "id": "J08zZlXzdCev"
      },
      "execution_count": 43,
      "outputs": []
    },
    {
      "cell_type": "code",
      "source": [
        "df['dnsignal']=np.where(df['spread_1']>df['spread_1'].rolling(window=30).mean(),-1,0)\n",
        "df['upsignal']=np.where(df['spread']>df['spread'].rolling(window=30).mean(),1,0)"
      ],
      "metadata": {
        "id": "6GiN6g1XBNE9"
      },
      "execution_count": 44,
      "outputs": []
    },
    {
      "cell_type": "code",
      "source": [
        "buy= np.where(y_pred_new_p>=0)\n",
        "sell= np.where(y_pred_new_p<0) #0 if impulse !!!\n"
      ],
      "metadata": {
        "id": "TSBLV7Gl4ZJR"
      },
      "execution_count": 45,
      "outputs": []
    },
    {
      "cell_type": "code",
      "source": [
        "price_data_new.shape,y_pred_new_p.shape"
      ],
      "metadata": {
        "id": "C10IVv0s5m4N",
        "outputId": "7b710dff-e8bc-4688-e710-17bb797ebfe1",
        "colab": {
          "base_uri": "https://localhost:8080/"
        }
      },
      "execution_count": 46,
      "outputs": [
        {
          "output_type": "execute_result",
          "data": {
            "text/plain": [
              "((72, 19), (72,))"
            ]
          },
          "metadata": {},
          "execution_count": 46
        }
      ]
    },
    {
      "cell_type": "code",
      "metadata": {
        "id": "6gnZhe0zRX_h",
        "outputId": "6c34d6ab-e95d-4cd0-f1b9-cd216524bc71",
        "colab": {
          "base_uri": "https://localhost:8080/",
          "height": 326
        }
      },
      "source": [
        "import matplotlib.pyplot as plt\n",
        "fig, ax = plt.subplots(5,1, figsize=(25,7),sharex=True)\n",
        "ax[0].plot(price_data_new.loc[:, :].index, price_data_new.loc[:, 'Close'])\n",
        "ax[1].plot(price_data_new.loc[:, :].index, y_pred_new_p, label='Nifty')\n",
        "ax[0].scatter(price_data_new.iloc[buy].index,price_data_new.iloc[buy].Close,marker='^',label='Buy',color='g')\n",
        "ax[0].scatter(price_data_new.iloc[sell].index,price_data_new.iloc[sell].Close,marker='.',label='Sell',color='r')\n",
        "ax[2].plot(df[['bband']][:],color='r')\n",
        "ax[2].plot(df[['avg',]][:],color='b')\n",
        "ax[2].plot(df[['Upper Band',]][:],color='y')\n",
        "ax[2].plot(df[['Lower Band']][:],color='c')\n",
        "ax[2].axhline(y=0)\n",
        "ax[3].plot(df['upsignal'] , label='up')\n",
        "ax[4].plot(df['dnsignal'],label='dn')\n",
        "ax[0].legend(loc='upper left')\n",
        "ax[3].legend(loc='upper left')\n",
        "ax[4].legend(loc='upper left')\n",
        "ax[0].set_ylabel('Nifty')\n",
        "ax[1].legend('ML Signal')\n",
        "ax[1].legend(loc='best')\n",
        "fig.suptitle('Model : '+ trend_decider +' with period :' + str(period))\n",
        "plt.savefig('ml.png')\n",
        "plt.show()\n"
      ],
      "execution_count": 47,
      "outputs": [
        {
          "output_type": "display_data",
          "data": {
            "text/plain": [
              "<Figure size 1800x504 with 5 Axes>"
            ],
            "image/png": "[encoded data removed]"
          },
          "metadata": {
            "needs_background": "light"
          }
        }
      ]
    },
    {
      "cell_type": "code",
      "source": [
        "fig, ax = plt.subplots(3,1, figsize=(25,10),sharex=True)\n",
        "ax[0].plot(df.loc[:, 'Close'])\n",
        "ax[0].plot(df.loc[:,'Close'].rolling(window=32).mean())\n",
        "ax[1].plot(df[['bband']][:],color='r')\n",
        "ax[1].plot(df[['avg',]][:],color='b')\n",
        "ax[1].plot(df[['Upper Band',]][:],color='y')\n",
        "ax[1].plot(df[['Lower Band']][:],color='c')\n",
        "ax[2].plot(df['Upper Band']-df['Lower Band'])\n",
        "ax[2].axhline(y=20)\n",
        "plt.show()"
      ],
      "metadata": {
        "id": "nSn7ySIf2OTF",
        "outputId": "4dab3bef-bece-4b7d-cd48-29f200c8b152",
        "colab": {
          "base_uri": "https://localhost:8080/",
          "height": 405
        }
      },
      "execution_count": 48,
      "outputs": [
        {
          "output_type": "display_data",
          "data": {
            "text/plain": [
              "<Figure size 1800x720 with 3 Axes>"
            ],
            "image/png": "[encoded data removed]"
          },
          "metadata": {
            "needs_background": "light"
          }
        }
      ]
    },
    {
      "cell_type": "code",
      "source": [
        "fig, ax = plt.subplots(2,1, figsize=(25,7),sharex=True)\n",
        "ax[0].plot(pd.Series(price_data_new['Close'].values,),'*-')\n",
        "rng = np.arange(-9,8,1)\n",
        "ax[1].set_yticks(rng)\n",
        "ax[1].plot(pd.Series(S_test_new[:].sum(axis=1)),'k*-')\n",
        "ax[1].plot(pd.Series(S_test_new[:].sum(axis=1)).rolling(window=15).mean())\n",
        "ax[1].axhline(y=0);"
      ],
      "metadata": {
        "id": "jFE5-O9CHL9m",
        "outputId": "313a8b67-afce-479f-9679-bc53151ac808",
        "colab": {
          "base_uri": "https://localhost:8080/",
          "height": 294
        }
      },
      "execution_count": 49,
      "outputs": [
        {
          "output_type": "display_data",
          "data": {
            "text/plain": [
              "<Figure size 1800x504 with 2 Axes>"
            ],
            "image/png": "[encoded data removed]"
          },
          "metadata": {
            "needs_background": "light"
          }
        }
      ]
    }
  ]
}