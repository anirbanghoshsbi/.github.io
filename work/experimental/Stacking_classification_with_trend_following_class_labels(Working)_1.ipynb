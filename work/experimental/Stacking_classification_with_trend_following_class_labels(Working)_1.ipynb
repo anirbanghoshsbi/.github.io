{
  "nbformat": 4,
  "nbformat_minor": 0,
  "metadata": {
    "kernelspec": {
      "display_name": "Python 3",
      "language": "python",
      "name": "python3"
    },
    "language_info": {
      "codemirror_mode": {
        "name": "ipython",
        "version": 3
      },
      "file_extension": ".py",
      "mimetype": "text/x-python",
      "name": "python",
      "nbconvert_exporter": "python",
      "pygments_lexer": "ipython3",
      "version": "3.5.2"
    },
    "colab": {
      "name": "Stacking_classification_with_trend_following_class_labels(Working).ipynb",
      "provenance": [],
      "collapsed_sections": [],
      "include_colab_link": true
    }
  },
  "cells": [
    {
      "cell_type": "markdown",
      "metadata": {
        "id": "view-in-github",
        "colab_type": "text"
      },
      "source": [
        "<a href=\"https://colab.research.google.com/github/anirbanghoshsbi/.github.io/blob/master/work/experimental/Stacking_classification_with_trend_following_class_labels(Working)_1.ipynb\" target=\"_parent\"><img src=\"https://colab.research.google.com/assets/colab-badge.svg\" alt=\"Open In Colab\"/></a>"
      ]
    },
    {
      "cell_type": "markdown",
      "metadata": {
        "id": "WIajvq6OJM1z"
      },
      "source": [
        "# Classification (with class labels)\n",
        "***"
      ]
    },
    {
      "cell_type": "markdown",
      "metadata": {
        "id": "wUkOmuBmJM11"
      },
      "source": [
        "# Import"
      ]
    },
    {
      "cell_type": "code",
      "metadata": {
        "id": "-RM9iOgaK4eJ",
        "outputId": "3a731f9d-4a79-437a-e05a-8ac6caf60bc3",
        "colab": {
          "base_uri": "https://localhost:8080/"
        }
      },
      "source": [
        "!pip install vecstack==0.4.0 -q\n",
        "!pip install yfinance --upgrade --no-cache-dir -q\n",
        "#!pip install -U scikit-learn==1.0"
      ],
      "execution_count": 1,
      "outputs": [
        {
          "output_type": "stream",
          "name": "stdout",
          "text": [
            "  Building wheel for vecstack (setup.py) ... \u001b[?25l\u001b[?25hdone\n",
            "\u001b[K     |████████████████████████████████| 62 kB 25.1 MB/s \n",
            "\u001b[?25h"
          ]
        }
      ]
    },
    {
      "cell_type": "code",
      "metadata": {
        "id": "qbz_VsWo8VFS",
        "outputId": "20224eb8-abc9-4f27-9244-9c268cad6402",
        "colab": {
          "base_uri": "https://localhost:8080/"
        }
      },
      "source": [
        "!pip install pandas-ta -q\n",
        "#==0.2.45b"
      ],
      "execution_count": 2,
      "outputs": [
        {
          "output_type": "stream",
          "name": "stdout",
          "text": [
            "\u001b[?25l\r\u001b[K     |██▉                             | 10 kB 12.4 MB/s eta 0:00:01\r\u001b[K     |█████▊                          | 20 kB 16.1 MB/s eta 0:00:01\r\u001b[K     |████████▌                       | 30 kB 21.4 MB/s eta 0:00:01\r\u001b[K     |███████████▍                    | 40 kB 24.7 MB/s eta 0:00:01\r\u001b[K     |██████████████▎                 | 51 kB 27.9 MB/s eta 0:00:01\r\u001b[K     |█████████████████               | 61 kB 31.4 MB/s eta 0:00:01\r\u001b[K     |████████████████████            | 71 kB 32.6 MB/s eta 0:00:01\r\u001b[K     |██████████████████████▊         | 81 kB 23.8 MB/s eta 0:00:01\r\u001b[K     |█████████████████████████▋      | 92 kB 25.5 MB/s eta 0:00:01\r\u001b[K     |████████████████████████████▌   | 102 kB 25.1 MB/s eta 0:00:01\r\u001b[K     |███████████████████████████████▎| 112 kB 25.1 MB/s eta 0:00:01\r\u001b[K     |████████████████████████████████| 115 kB 25.1 MB/s \n",
            "\u001b[?25h  Building wheel for pandas-ta (setup.py) ... \u001b[?25l\u001b[?25hdone\n"
          ]
        }
      ]
    },
    {
      "cell_type": "code",
      "source": [
        "def psar(barsdata, iaf = 0.02, maxaf = 0.2):\n",
        "    length = len(barsdata)\n",
        "    dates = list(barsdata['Date'])\n",
        "    high = list(barsdata['High'])\n",
        "    low = list(barsdata['Low'])\n",
        "    close = list(barsdata['Close'])\n",
        "    psar = close[0:len(close)]\n",
        "    psarbull = [None] * length\n",
        "    psarbear = [None] * length\n",
        "    bull = True\n",
        "    af = iaf\n",
        "    ep = low[0]\n",
        "    hp = high[0]\n",
        "    lp = low[0]\n",
        "    for i in range(2,length):\n",
        "        if bull:\n",
        "            psar[i] = psar[i - 1] + af * (hp - psar[i - 1])\n",
        "        else:\n",
        "            psar[i] = psar[i - 1] + af * (lp - psar[i - 1])\n",
        "        reverse = False\n",
        "        if bull:\n",
        "            if low[i] < psar[i]:\n",
        "                bull = False\n",
        "                reverse = True\n",
        "                psar[i] = hp\n",
        "                lp = low[i]\n",
        "                af = iaf\n",
        "        else:\n",
        "            if high[i] > psar[i]:\n",
        "                bull = True\n",
        "                reverse = True\n",
        "                psar[i] = lp\n",
        "                hp = high[i]\n",
        "                af = iaf\n",
        "        if not reverse:\n",
        "            if bull:\n",
        "                if high[i] > hp:\n",
        "                    hp = high[i]\n",
        "                    af = min(af + iaf, maxaf)\n",
        "                if low[i - 1] < psar[i]:\n",
        "                    psar[i] = low[i - 1]\n",
        "                if low[i - 2] < psar[i]:\n",
        "                    psar[i] = low[i - 2]\n",
        "            else:\n",
        "                if low[i] < lp:\n",
        "                    lp = low[i]\n",
        "                    af = min(af + iaf, maxaf)\n",
        "                if high[i - 1] > psar[i]:\n",
        "                    psar[i] = high[i - 1]\n",
        "                if high[i - 2] > psar[i]:\n",
        "                    psar[i] = high[i - 2]\n",
        "        if bull:\n",
        "            psarbull[i] = psar[i]\n",
        "        else:\n",
        "            psarbear[i] = psar[i]\n",
        "    return pd.DataFrame({\"dates\":dates, \"high\":high, \"low\":low, \"close\":close, \"psar\":psar, \"psarbear\":psarbear, \"psarbull\":psarbull})\n"
      ],
      "metadata": {
        "id": "AQ3D1ZxDgz79"
      },
      "execution_count": 3,
      "outputs": []
    },
    {
      "cell_type": "code",
      "metadata": {
        "id": "x01lqyKZJM12"
      },
      "source": [
        "from sklearn.model_selection import train_test_split\n",
        "from sklearn.metrics import accuracy_score\n",
        "from sklearn.ensemble import ExtraTreesClassifier\n",
        "from sklearn.linear_model import LogisticRegression\n",
        "from sklearn import svm\n",
        "from sklearn.ensemble import RandomForestClassifier\n",
        "from sklearn.neighbors import KNeighborsClassifier\n",
        "from sklearn.discriminant_analysis import LinearDiscriminantAnalysis as LDA\n",
        "from xgboost import XGBClassifier\n",
        "from vecstack import stacking\n",
        "import yfinance as yf\n",
        "import numpy as np\n",
        "import pandas as pd\n",
        "import pandas_ta as ta\n",
        "from pandas_datareader import data as pdr\n",
        "START = \"2019-10-01\"  #yyyy-mm-dd\n",
        "END = '2022-01-01'\n",
        "START_testing='2022-02-01'"
      ],
      "execution_count": 4,
      "outputs": []
    },
    {
      "cell_type": "code",
      "metadata": {
        "id": "A7HuA8O1iUhw"
      },
      "source": [
        "trend_decider ='percentchange' #'percentchange' #'impulse' # 'sma'#'long' # percentchange\n",
        "period=12\n",
        "days_out=12\n",
        "dictionary_bull={True:0.75, False:0.5}\n",
        "dictionary_bear = {True:3,False:0.5}"
      ],
      "execution_count": 5,
      "outputs": []
    },
    {
      "cell_type": "markdown",
      "metadata": {
        "id": "FXRFzAV_JM13"
      },
      "source": [
        "# Prepare data"
      ]
    },
    {
      "cell_type": "code",
      "metadata": {
        "id": "RaWMWy7RJN34",
        "colab": {
          "base_uri": "https://localhost:8080/"
        },
        "outputId": "fad78ca8-0043-4419-cbd6-bc397522420e"
      },
      "source": [
        "tker = '^nsei' #'^nsei'\n",
        "nifty =yf.download(tker,start=START,end=END)\n",
        "#nifty=quandl.get('BSE/BOM500112',start_date=START,end_date=END,authtoken='1Mz3xLNFNdUpKENCkArB')\n",
        "#nifty = pdr.get_data_yahoo(tker, start=START, end=END)\n",
        "nifty=nifty.dropna()\n",
        "nifty=nifty.iloc[:,:4]"
      ],
      "execution_count": 6,
      "outputs": [
        {
          "output_type": "stream",
          "name": "stdout",
          "text": [
            "\r[*********************100%***********************]  1 of 1 completed\n"
          ]
        }
      ]
    },
    {
      "cell_type": "code",
      "metadata": {
        "colab": {
          "base_uri": "https://localhost:8080/"
        },
        "id": "uSCtRmwp6W9y",
        "outputId": "5e5353b6-1509-42f2-8157-52ebed76e8dc"
      },
      "source": [
        "nifty.columns"
      ],
      "execution_count": 7,
      "outputs": [
        {
          "output_type": "execute_result",
          "data": {
            "text/plain": [
              "Index(['Open', 'High', 'Low', 'Close'], dtype='object')"
            ]
          },
          "metadata": {},
          "execution_count": 7
        }
      ]
    },
    {
      "cell_type": "code",
      "metadata": {
        "id": "dZvQgkrrJosR",
        "colab": {
          "base_uri": "https://localhost:8080/"
        },
        "outputId": "c049e82c-ec47-4326-c45b-caa1a3bf2f39"
      },
      "source": [
        "# Calculate 30 Day Moving Average, Std Deviation, Upper Band and Lower Band\n",
        "\n",
        "nifty['30 Day MA'] = nifty['Close'].rolling(window=20).mean()\n",
        "\n",
        "# set .std(ddof=0) for population std instead of sample\n",
        "nifty['30 Day STD'] = nifty['Close'].rolling(window=20).std() \n",
        "nifty['Upper Band'] = nifty['30 Day MA'] + (nifty['30 Day STD'] *1.5)\n",
        "nifty['Lower Band'] = nifty['30 Day MA'] - (nifty['30 Day STD'] *1.5)\n",
        "nifty['ADV_26'] = nifty['Close'].rolling(window=26).mean()\n",
        "nifty['ADV_13'] = nifty['Close'].rolling(window=10).mean()\n",
        "nifty.ta.macd(append=True)\n",
        "nifty.ta.vortex(length=18,append=True)\n",
        "nifty.ta.aroon(length=18,append=True)\n",
        "nifty.ta.rsi(length=18,append=True)\n",
        "print()"
      ],
      "execution_count": 8,
      "outputs": [
        {
          "output_type": "stream",
          "name": "stdout",
          "text": [
            "\n"
          ]
        }
      ]
    },
    {
      "cell_type": "code",
      "metadata": {
        "id": "bygi3wS4J7Gs"
      },
      "source": [
        "df_old = nifty.copy()\n",
        "# I Just need the Close\n",
        "price_data = df_old.copy()"
      ],
      "execution_count": 9,
      "outputs": []
    },
    {
      "cell_type": "code",
      "metadata": {
        "id": "dbY9iB7-KxVq"
      },
      "source": [
        "features = ['30 Day MA','30 Day STD','Upper Band','Lower Band','ADV_13','ADV_26','MACD_12_26_9',\\\n",
        "       'MACDh_12_26_9', 'MACDs_12_26_9','VTXP_18', 'VTXM_18', 'AROOND_18', 'AROONU_18',\n",
        "       'AROONOSC_18', 'RSI_18']"
      ],
      "execution_count": 10,
      "outputs": []
    },
    {
      "cell_type": "code",
      "metadata": {
        "colab": {
          "base_uri": "https://localhost:8080/"
        },
        "id": "gTuaR5hhDFjB",
        "outputId": "f6178584-e95f-47f8-806d-23b6e606d69d"
      },
      "source": [
        "price_data.columns"
      ],
      "execution_count": 11,
      "outputs": [
        {
          "output_type": "execute_result",
          "data": {
            "text/plain": [
              "Index(['Open', 'High', 'Low', 'Close', '30 Day MA', '30 Day STD', 'Upper Band',\n",
              "       'Lower Band', 'ADV_26', 'ADV_13', 'MACD_12_26_9', 'MACDh_12_26_9',\n",
              "       'MACDs_12_26_9', 'VTXP_18', 'VTXM_18', 'AROOND_18', 'AROONU_18',\n",
              "       'AROONOSC_18', 'RSI_18'],\n",
              "      dtype='object')"
            ]
          },
          "metadata": {},
          "execution_count": 11
        }
      ]
    },
    {
      "cell_type": "markdown",
      "metadata": {
        "id": "9ytJOVlCaqQF"
      },
      "source": [
        "#####df = df.assign(flag=df['apm'].gt(df['apm'].shift()))"
      ]
    },
    {
      "cell_type": "code",
      "metadata": {
        "id": "fiMreZ6BYX3l"
      },
      "source": [
        "if trend_decider=='impulse':\n",
        "  price_data=price_data.assign(Flag=(price_data['MACDh_12_26_9'].lt(price_data['MACDh_12_26_9'].shift()) & price_data['ADV_13'].lt(price_data['ADV_13'].shift())))\n",
        "elif trend_decider=='sma':\n",
        "  price_data= price_data.assign(Flag=price_data['ADV_50'].lt(price_data['ADV_50'].shift()))\n",
        "elif trend_decider=='long':\n",
        "  price_data= price_data.assign(Flag=price_data['ADV_50'].lt(price_data['ADV_50'].shift(period))) \n",
        "elif trend_decider=='percentchange':\n",
        "  close_groups = price_data['Close'].transform(lambda x : np.sign(x.diff(days_out)))\n",
        "  price_data['Flag'] = close_groups  "
      ],
      "execution_count": 12,
      "outputs": []
    },
    {
      "cell_type": "code",
      "metadata": {
        "id": "ZTIVeogfokOU"
      },
      "source": [
        "price_data=price_data.assign(Strength_Flag_dummy=(price_data['MACDh_12_26_9'].gt(price_data['MACDh_12_26_9'].shift()) & price_data['ADV_13'].gt(price_data['ADV_13'].shift())))"
      ],
      "execution_count": 13,
      "outputs": []
    },
    {
      "cell_type": "code",
      "source": [
        "price_data=price_data.assign(Strength_Flag_dum=(price_data['MACDh_12_26_9'].lt(price_data['MACDh_12_26_9'].shift()) & price_data['ADV_13'].lt(price_data['ADV_13'].shift())))"
      ],
      "metadata": {
        "id": "tsxE9Mo5jM6G"
      },
      "execution_count": 14,
      "outputs": []
    },
    {
      "cell_type": "code",
      "metadata": {
        "id": "C4XBkw9zQU-D"
      },
      "source": [
        "price_data.dropna(inplace=True)"
      ],
      "execution_count": 15,
      "outputs": []
    },
    {
      "cell_type": "code",
      "source": [
        "price_data.Strength_Flag_dummy.value_counts()"
      ],
      "metadata": {
        "id": "L2-mQ_g8UmuU",
        "outputId": "865e098d-1be1-483a-809a-a213c0ed5652",
        "colab": {
          "base_uri": "https://localhost:8080/"
        }
      },
      "execution_count": 16,
      "outputs": [
        {
          "output_type": "execute_result",
          "data": {
            "text/plain": [
              "False    346\n",
              "True     179\n",
              "Name: Strength_Flag_dummy, dtype: int64"
            ]
          },
          "metadata": {},
          "execution_count": 16
        }
      ]
    },
    {
      "cell_type": "code",
      "metadata": {
        "id": "ce-Xwmoum6cE"
      },
      "source": [
        "price_data.Strength_Flag_dummy = price_data.Strength_Flag_dummy.replace(dictionary_bull)"
      ],
      "execution_count": 17,
      "outputs": []
    },
    {
      "cell_type": "code",
      "source": [
        "price_data.Strength_Flag_dum.value_counts()"
      ],
      "metadata": {
        "colab": {
          "base_uri": "https://localhost:8080/"
        },
        "id": "RoA6oGfPjU8X",
        "outputId": "e5ebd132-b864-4183-c5fd-29ab8d797d01"
      },
      "execution_count": 18,
      "outputs": [
        {
          "output_type": "execute_result",
          "data": {
            "text/plain": [
              "False    422\n",
              "True     103\n",
              "Name: Strength_Flag_dum, dtype: int64"
            ]
          },
          "metadata": {},
          "execution_count": 18
        }
      ]
    },
    {
      "cell_type": "code",
      "source": [
        "price_data.Strength_Flag_dum = price_data.Strength_Flag_dum.replace(dictionary_bear)"
      ],
      "metadata": {
        "id": "0Kjap4-2jZUl"
      },
      "execution_count": 19,
      "outputs": []
    },
    {
      "cell_type": "code",
      "source": [
        "price_data['Strength_Flag']=price_data.Strength_Flag_dum+price_data.Strength_Flag_dummy"
      ],
      "metadata": {
        "id": "GAvudaHXjxPN"
      },
      "execution_count": 20,
      "outputs": []
    },
    {
      "cell_type": "code",
      "metadata": {
        "id": "YLBANAd4LhKm"
      },
      "source": [
        "X_Cols = price_data[features]\n",
        "Y_Cols = price_data['Flag']\n",
        "samp_train= int(len(price_data)*.75) -100\n",
        "samp_test= samp_train+100\n",
        "X_train = X_Cols[:samp_train]\n",
        "X_test = X_Cols[samp_test:]\n",
        "y_train = Y_Cols[:samp_train]\n",
        "y_test = Y_Cols[samp_test:]"
      ],
      "execution_count": 21,
      "outputs": []
    },
    {
      "cell_type": "markdown",
      "metadata": {
        "id": "LQ9Xbp-LJM14"
      },
      "source": [
        "# Initialize 1st level models"
      ]
    },
    {
      "cell_type": "code",
      "metadata": {
        "id": "k9jM7JiKsOyZ"
      },
      "source": [
        "sample_w=price_data[:samp_train].Strength_Flag.values"
      ],
      "execution_count": 22,
      "outputs": []
    },
    {
      "cell_type": "code",
      "metadata": {
        "id": "ifO1vjloJM15"
      },
      "source": [
        "models_L1 = [\n",
        "    LogisticRegression(max_iter=1000),   \n",
        "    svm.SVC(kernel='linear'),      \n",
        "    ExtraTreesClassifier(random_state=0, n_jobs=-1,\n",
        "                         n_estimators=100, max_depth=3,class_weight='balanced' ),\n",
        "    \n",
        "    RandomForestClassifier(random_state=0, n_jobs=-1, \n",
        "                           n_estimators=200, max_depth=3,class_weight='balanced'),\n",
        "    KNeighborsClassifier(n_neighbors=5,weights='uniform', algorithm='auto', \n",
        "                          leaf_size=30, p=2, metric='minkowski', metric_params=None, n_jobs=None),\n",
        "    LDA(solver='svd', shrinkage=None, priors=None, n_components=None,\n",
        "        store_covariance=False, tol=0.0001, covariance_estimator=None),\n",
        "    XGBClassifier(learning_rate =0.1,n_estimators=100,max_depth=3,min_child_weight=1,gamma=0,reg_alpha= 0.01,subsample=0.75,colsample_bytree=0.75,objective= 'binary:logistic',nthread=4,scale_pos_weight=1,seed=27)                   \n",
        "]"
      ],
      "execution_count": 23,
      "outputs": []
    },
    {
      "cell_type": "code",
      "metadata": {
        "colab": {
          "base_uri": "https://localhost:8080/",
          "height": 53
        },
        "id": "OM69JNutuht0",
        "outputId": "9a195987-560b-4ea2-d893-242d92ca014e"
      },
      "source": [
        "'''XGBClassifier(random_state=0, n_jobs=-1, learning_rate=0.1,sample_weight=sample_w,\n",
        "                  n_estimators=100, max_depth=3)'''"
      ],
      "execution_count": 24,
      "outputs": [
        {
          "output_type": "execute_result",
          "data": {
            "text/plain": [
              "'XGBClassifier(random_state=0, n_jobs=-1, learning_rate=0.1,sample_weight=sample_w,\\n                  n_estimators=100, max_depth=3)'"
            ],
            "application/vnd.google.colaboratory.intrinsic+json": {
              "type": "string"
            }
          },
          "metadata": {},
          "execution_count": 24
        }
      ]
    },
    {
      "cell_type": "code",
      "metadata": {
        "id": "a6f527E3WIW0"
      },
      "source": [
        "model_L1_0 = models_L1[0]\n",
        "_ = model_L1_0.fit(X_train, y_train)\n",
        "# save model in file if you need\n",
        "\n",
        "model_L1_1 = models_L1[1]\n",
        "_ = model_L1_1.fit(X_train, y_train,sample_weight=sample_w)\n",
        "# save model in file if you need\n",
        "\n",
        "model_L1_2 = models_L1[2]\n",
        "_ = model_L1_2.fit(X_train, y_train,sample_weight=sample_w)\n",
        "# save model in file if you need\n",
        "\n",
        "model_L1_3 = models_L1[3]\n",
        "_ = model_L1_3.fit(X_train, y_train)\n",
        "# save model in file if you need\n",
        "model_L1_4 = models_L1[4]\n",
        "_ = model_L1_4.fit(X_train, y_train)\n",
        "# save model in file if you need\n",
        "model_L1_5 = models_L1[5]\n",
        "_ = model_L1_5.fit(X_train, y_train)\n",
        "# save model in file if you need\n",
        "model_L1_6 = models_L1[6]\n",
        "_ = model_L1_6.fit(X_train, y_train)\n"
      ],
      "execution_count": 25,
      "outputs": []
    },
    {
      "cell_type": "markdown",
      "metadata": {
        "id": "7m6O1MvnJM16"
      },
      "source": [
        "# Perform stacking"
      ]
    },
    {
      "cell_type": "code",
      "metadata": {
        "id": "_ZPqNj3-JM17",
        "colab": {
          "base_uri": "https://localhost:8080/"
        },
        "outputId": "532a1cac-9d7f-48e9-a337-57b5ed05509b"
      },
      "source": [
        "S_train, S_test = stacking(models_L1,                     # list of models\n",
        "                           X_train, y_train, X_test,   # data\n",
        "                           regression=False,           # classification task (if you need \n",
        "                                                       #     regression - set to True)\n",
        "                           mode='oof',                 # mode: oof for train set, predict test \n",
        "                                                       #mode='oof_pred_bag'(for training) and oof for inference\n",
        "                                                      #     set in each fold and vote\n",
        "                           needs_proba=False,          # predict class labels (if you need \n",
        "                                                       #     probabilities - set to True) \n",
        "                           save_dir=None,              # do not save result and log (to save \n",
        "                                                       #     in current dir - set to '.')\n",
        "                           metric=accuracy_score,      # metric: callable\n",
        "                           n_folds=4,                  # number of folds\n",
        "                           stratified=True,            # stratified split for folds\n",
        "                           shuffle=False,               # shuffle the data\n",
        "                           random_state=None,             # ensure reproducibility\n",
        "                           verbose=2)                  # print all info"
      ],
      "execution_count": 26,
      "outputs": [
        {
          "output_type": "stream",
          "name": "stdout",
          "text": [
            "task:         [classification]\n",
            "n_classes:    [2]\n",
            "metric:       [accuracy_score]\n",
            "mode:         [oof]\n",
            "n_models:     [7]\n",
            "\n",
            "model  0:     [LogisticRegression]\n",
            "    fold  0:  [0.75675676]\n",
            "    fold  1:  [0.93150685]\n",
            "    fold  2:  [0.89041096]\n",
            "    fold  3:  [0.89041096]\n",
            "    ----\n",
            "    MEAN:     [0.86727138] + [0.06597454]\n",
            "    FULL:     [0.86689420]\n",
            "\n",
            "model  1:     [SVC]\n",
            "    fold  0:  [0.44594595]\n",
            "    fold  1:  [0.86301370]\n",
            "    fold  2:  [0.87671233]\n",
            "    fold  3:  [0.89041096]\n",
            "    ----\n",
            "    MEAN:     [0.76902073] + [0.18677865]\n",
            "    FULL:     [0.76791809]\n",
            "\n",
            "model  2:     [ExtraTreesClassifier]\n",
            "    fold  0:  [0.74324324]\n",
            "    fold  1:  [0.93150685]\n",
            "    fold  2:  [0.72602740]\n",
            "    fold  3:  [0.94520548]\n",
            "    ----\n",
            "    MEAN:     [0.83649574] + [0.10215699]\n",
            "    FULL:     [0.83617747]\n",
            "\n",
            "model  3:     [RandomForestClassifier]\n",
            "    fold  0:  [0.72972973]\n",
            "    fold  1:  [0.93150685]\n",
            "    fold  2:  [0.72602740]\n",
            "    fold  3:  [0.89041096]\n",
            "    ----\n",
            "    MEAN:     [0.81941873] + [0.09269534]\n",
            "    FULL:     [0.81911263]\n",
            "\n",
            "model  4:     [KNeighborsClassifier]\n",
            "    fold  0:  [0.52702703]\n",
            "    fold  1:  [0.47945205]\n",
            "    fold  2:  [0.23287671]\n",
            "    fold  3:  [0.69863014]\n",
            "    ----\n",
            "    MEAN:     [0.48449648] + [0.16658333]\n",
            "    FULL:     [0.48464164]\n",
            "\n",
            "model  5:     [LinearDiscriminantAnalysis]\n",
            "    fold  0:  [0.71621622]\n",
            "    fold  1:  [0.80821918]\n",
            "    fold  2:  [0.75342466]\n",
            "    fold  3:  [0.84931507]\n",
            "    ----\n",
            "    MEAN:     [0.78179378] + [0.05089855]\n",
            "    FULL:     [0.78156997]\n",
            "\n",
            "model  6:     [XGBClassifier]\n",
            "    fold  0:  [0.72972973]\n",
            "    fold  1:  [0.87671233]\n",
            "    fold  2:  [0.76712329]\n",
            "    fold  3:  [0.89041096]\n",
            "    ----\n",
            "    MEAN:     [0.81599408] + [0.06901896]\n",
            "    FULL:     [0.81569966]\n",
            "\n"
          ]
        }
      ]
    },
    {
      "cell_type": "markdown",
      "metadata": {
        "id": "FcFsGaXJJM1-"
      },
      "source": [
        "# Look at the result\n",
        "\n",
        "So now we have OOF from 1st level models and we can build 2nd level model.  \n",
        "But first let's look at the result.  \n",
        "We have three 1st level models, so we expect to get three columns in `S_train` and `S_test`.  "
      ]
    },
    {
      "cell_type": "code",
      "metadata": {
        "id": "1XwAg1DzJM1_"
      },
      "source": [],
      "execution_count": 26,
      "outputs": []
    },
    {
      "cell_type": "markdown",
      "metadata": {
        "id": "Gz6Cwg1LJM2B"
      },
      "source": [
        "# Apply 2nd level model"
      ]
    },
    {
      "cell_type": "code",
      "metadata": {
        "id": "aRPrZuVGJM2B"
      },
      "source": [
        "# Initialize 2nd level model\n",
        "model_L2 = XGBClassifier(learning_rate =0.1,\n",
        " n_estimators=100,\n",
        " max_depth=3,\n",
        " min_child_weight=1,\n",
        " gamma=0,\n",
        " reg_alpha= 0.01,\n",
        " subsample=0.75,\n",
        " colsample_bytree=0.75,\n",
        " objective= 'binary:logistic',\n",
        " nthread=4,\n",
        " scale_pos_weight=1,\n",
        " seed=27)\n",
        "    \n",
        "# Fit 2nd level model\n",
        "_ = model_L2.fit(S_train, y_train)\n",
        "# Predict\n",
        "#y_pred = model_L2.predict(S_test)\n",
        "\n",
        "# Final prediction score\n",
        "#print('Final prediction score: [%.8f]' % accuracy_score(y_test, y_pred))"
      ],
      "execution_count": 27,
      "outputs": []
    },
    {
      "cell_type": "code",
      "metadata": {
        "id": "hJyo5IDKSbr5"
      },
      "source": [
        "# UNDER PRODUCTION\n",
        "def data_meta(id, x, y, dummy):\n",
        "  #get prediction from model 1\n",
        "  #pred_prob_meta = model.predict_proba(x)[:,1]\n",
        "  pred_prob_meta = pd.Series(dummy, \\\n",
        "  index=x.index,\n",
        "  name=f'pred_{id}_meta')\n",
        "  pred_int_meta = pred_prob_meta > Threshold\n",
        "  y_meta = pd.Series(y & pred_int_meta, name=f'y_train_meta_{id}')\n",
        "  x_meta = x.join(pred_int_meta)\n",
        "  return x_meta, y_meta"
      ],
      "execution_count": 28,
      "outputs": []
    },
    {
      "cell_type": "markdown",
      "metadata": {
        "id": "ulins-1nSBHK"
      },
      "source": [
        "# Make Predictions"
      ]
    },
    {
      "cell_type": "code",
      "metadata": {
        "id": "zGgNR1ce6nJL",
        "colab": {
          "base_uri": "https://localhost:8080/"
        },
        "outputId": "9e5127ca-6c11-4126-bb74-a8a9fddae727"
      },
      "source": [
        "nifty_test=yf.download(tker,start=START_testing)"
      ],
      "execution_count": 29,
      "outputs": [
        {
          "output_type": "stream",
          "name": "stdout",
          "text": [
            "\r[*********************100%***********************]  1 of 1 completed\n"
          ]
        }
      ]
    },
    {
      "cell_type": "code",
      "metadata": {
        "id": "vKhbIiUPShcw"
      },
      "source": [
        "#nifty_test = pdr.get_data_yahoo(tker, start=START)\n",
        "nifty_test=nifty_test.dropna()\n",
        "nifty_test=nifty_test.iloc[:,:4]"
      ],
      "execution_count": 30,
      "outputs": []
    },
    {
      "cell_type": "code",
      "metadata": {
        "colab": {
          "base_uri": "https://localhost:8080/",
          "height": 277
        },
        "id": "VAYNp7JcSnHY",
        "outputId": "04a53575-290b-4587-b92f-7a65303c20c3"
      },
      "source": [
        "# Calculate 30 Day Moving Average, Std Deviation, Upper Band and Lower Band\n",
        "\n",
        "nifty_test['30 Day MA'] = nifty_test['Close'].rolling(window=20).mean()\n",
        "\n",
        "# set .std(ddof=0) for population std instead of sample\n",
        "nifty_test['30 Day STD'] = nifty_test['Close'].rolling(window=20).std() \n",
        "\n",
        "nifty_test['Upper Band'] = nifty_test['30 Day MA'] + (nifty_test['30 Day STD'] *1.5)\n",
        "nifty_test['Lower Band'] = nifty_test['30 Day MA'] - (nifty_test['30 Day STD'] *1.5)\n",
        "nifty_test['ADV_26'] = nifty_test['Close'].rolling(window=26).mean()\n",
        "nifty_test['ADV_13'] = nifty_test['Close'].rolling(window=10).mean()\n",
        "nifty_test.ta.macd(append=True)\n",
        "nifty_test.ta.vortex(length=18,append=True)\n",
        "nifty_test.ta.aroon(length=18,append=True)\n",
        "nifty_test.ta.rsi(length=18,append=True)\n",
        "df = nifty_test.copy()\n",
        "# I Just need the Close\n",
        "price_data_new = df.copy()\n",
        "\n",
        "price_data_new.head(2)"
      ],
      "execution_count": 31,
      "outputs": [
        {
          "output_type": "execute_result",
          "data": {
            "text/plain": [
              "                                   Open          High           Low  \\\n",
              "Date                                                                  \n",
              "2022-02-01 00:00:00+05:30  17529.449219  17622.400391  17244.550781   \n",
              "2022-02-02 00:00:00+05:30  17706.199219  17794.599609  17674.800781   \n",
              "\n",
              "                                  Close  30 Day MA  30 Day STD  Upper Band  \\\n",
              "Date                                                                         \n",
              "2022-02-01 00:00:00+05:30  17576.849609        NaN         NaN         NaN   \n",
              "2022-02-02 00:00:00+05:30  17780.000000        NaN         NaN         NaN   \n",
              "\n",
              "                           Lower Band  ADV_26  ADV_13  MACD_12_26_9  \\\n",
              "Date                                                                  \n",
              "2022-02-01 00:00:00+05:30         NaN     NaN     NaN           NaN   \n",
              "2022-02-02 00:00:00+05:30         NaN     NaN     NaN           NaN   \n",
              "\n",
              "                           MACDh_12_26_9  MACDs_12_26_9  VTXP_18  VTXM_18  \\\n",
              "Date                                                                        \n",
              "2022-02-01 00:00:00+05:30            NaN            NaN      NaN      NaN   \n",
              "2022-02-02 00:00:00+05:30            NaN            NaN      NaN      NaN   \n",
              "\n",
              "                           AROOND_18  AROONU_18  AROONOSC_18  RSI_18  \n",
              "Date                                                                  \n",
              "2022-02-01 00:00:00+05:30        NaN        NaN          NaN     NaN  \n",
              "2022-02-02 00:00:00+05:30        NaN        NaN          NaN     NaN  "
            ],
            "text/html": [
              "\n",
              "  <div id=\"df-b0542172-20bd-4402-a78a-fe6f429a0d25\">\n",
              "    <div class=\"colab-df-container\">\n",
              "      <div>\n",
              "<style scoped>\n",
              "    .dataframe tbody tr th:only-of-type {\n",
              "        vertical-align: middle;\n",
              "    }\n",
              "\n",
              "    .dataframe tbody tr th {\n",
              "        vertical-align: top;\n",
              "    }\n",
              "\n",
              "    .dataframe thead th {\n",
              "        text-align: right;\n",
              "    }\n",
              "</style>\n",
              "<table border=\"1\" class=\"dataframe\">\n",
              "  <thead>\n",
              "    <tr style=\"text-align: right;\">\n",
              "      <th></th>\n",
              "      <th>Open</th>\n",
              "      <th>High</th>\n",
              "      <th>Low</th>\n",
              "      <th>Close</th>\n",
              "      <th>30 Day MA</th>\n",
              "      <th>30 Day STD</th>\n",
              "      <th>Upper Band</th>\n",
              "      <th>Lower Band</th>\n",
              "      <th>ADV_26</th>\n",
              "      <th>ADV_13</th>\n",
              "      <th>MACD_12_26_9</th>\n",
              "      <th>MACDh_12_26_9</th>\n",
              "      <th>MACDs_12_26_9</th>\n",
              "      <th>VTXP_18</th>\n",
              "      <th>VTXM_18</th>\n",
              "      <th>AROOND_18</th>\n",
              "      <th>AROONU_18</th>\n",
              "      <th>AROONOSC_18</th>\n",
              "      <th>RSI_18</th>\n",
              "    </tr>\n",
              "    <tr>\n",
              "      <th>Date</th>\n",
              "      <th></th>\n",
              "      <th></th>\n",
              "      <th></th>\n",
              "      <th></th>\n",
              "      <th></th>\n",
              "      <th></th>\n",
              "      <th></th>\n",
              "      <th></th>\n",
              "      <th></th>\n",
              "      <th></th>\n",
              "      <th></th>\n",
              "      <th></th>\n",
              "      <th></th>\n",
              "      <th></th>\n",
              "      <th></th>\n",
              "      <th></th>\n",
              "      <th></th>\n",
              "      <th></th>\n",
              "      <th></th>\n",
              "    </tr>\n",
              "  </thead>\n",
              "  <tbody>\n",
              "    <tr>\n",
              "      <th>2022-02-01 00:00:00+05:30</th>\n",
              "      <td>17529.449219</td>\n",
              "      <td>17622.400391</td>\n",
              "      <td>17244.550781</td>\n",
              "      <td>17576.849609</td>\n",
              "      <td>NaN</td>\n",
              "      <td>NaN</td>\n",
              "      <td>NaN</td>\n",
              "      <td>NaN</td>\n",
              "      <td>NaN</td>\n",
              "      <td>NaN</td>\n",
              "      <td>NaN</td>\n",
              "      <td>NaN</td>\n",
              "      <td>NaN</td>\n",
              "      <td>NaN</td>\n",
              "      <td>NaN</td>\n",
              "      <td>NaN</td>\n",
              "      <td>NaN</td>\n",
              "      <td>NaN</td>\n",
              "      <td>NaN</td>\n",
              "    </tr>\n",
              "    <tr>\n",
              "      <th>2022-02-02 00:00:00+05:30</th>\n",
              "      <td>17706.199219</td>\n",
              "      <td>17794.599609</td>\n",
              "      <td>17674.800781</td>\n",
              "      <td>17780.000000</td>\n",
              "      <td>NaN</td>\n",
              "      <td>NaN</td>\n",
              "      <td>NaN</td>\n",
              "      <td>NaN</td>\n",
              "      <td>NaN</td>\n",
              "      <td>NaN</td>\n",
              "      <td>NaN</td>\n",
              "      <td>NaN</td>\n",
              "      <td>NaN</td>\n",
              "      <td>NaN</td>\n",
              "      <td>NaN</td>\n",
              "      <td>NaN</td>\n",
              "      <td>NaN</td>\n",
              "      <td>NaN</td>\n",
              "      <td>NaN</td>\n",
              "    </tr>\n",
              "  </tbody>\n",
              "</table>\n",
              "</div>\n",
              "      <button class=\"colab-df-convert\" onclick=\"convertToInteractive('df-b0542172-20bd-4402-a78a-fe6f429a0d25')\"\n",
              "              title=\"Convert this dataframe to an interactive table.\"\n",
              "              style=\"display:none;\">\n",
              "        \n",
              "  <svg xmlns=\"http://www.w3.org/2000/svg\" height=\"24px\"viewBox=\"0 0 24 24\"\n",
              "       width=\"24px\">\n",
              "    <path d=\"M0 0h24v24H0V0z\" fill=\"none\"/>\n",
              "    <path d=\"M18.56 5.44l.94 2.06.94-2.06 2.06-.94-2.06-.94-.94-2.06-.94 2.06-2.06.94zm-11 1L8.5 8.5l.94-2.06 2.06-.94-2.06-.94L8.5 2.5l-.94 2.06-2.06.94zm10 10l.94 2.06.94-2.06 2.06-.94-2.06-.94-.94-2.06-.94 2.06-2.06.94z\"/><path d=\"M17.41 7.96l-1.37-1.37c-.4-.4-.92-.59-1.43-.59-.52 0-1.04.2-1.43.59L10.3 9.45l-7.72 7.72c-.78.78-.78 2.05 0 2.83L4 21.41c.39.39.9.59 1.41.59.51 0 1.02-.2 1.41-.59l7.78-7.78 2.81-2.81c.8-.78.8-2.07 0-2.86zM5.41 20L4 18.59l7.72-7.72 1.47 1.35L5.41 20z\"/>\n",
              "  </svg>\n",
              "      </button>\n",
              "      \n",
              "  <style>\n",
              "    .colab-df-container {\n",
              "      display:flex;\n",
              "      flex-wrap:wrap;\n",
              "      gap: 12px;\n",
              "    }\n",
              "\n",
              "    .colab-df-convert {\n",
              "      background-color: #E8F0FE;\n",
              "      border: none;\n",
              "      border-radius: 50%;\n",
              "      cursor: pointer;\n",
              "      display: none;\n",
              "      fill: #1967D2;\n",
              "      height: 32px;\n",
              "      padding: 0 0 0 0;\n",
              "      width: 32px;\n",
              "    }\n",
              "\n",
              "    .colab-df-convert:hover {\n",
              "      background-color: #E2EBFA;\n",
              "      box-shadow: 0px 1px 2px rgba(60, 64, 67, 0.3), 0px 1px 3px 1px rgba(60, 64, 67, 0.15);\n",
              "      fill: #174EA6;\n",
              "    }\n",
              "\n",
              "    [theme=dark] .colab-df-convert {\n",
              "      background-color: #3B4455;\n",
              "      fill: #D2E3FC;\n",
              "    }\n",
              "\n",
              "    [theme=dark] .colab-df-convert:hover {\n",
              "      background-color: #434B5C;\n",
              "      box-shadow: 0px 1px 3px 1px rgba(0, 0, 0, 0.15);\n",
              "      filter: drop-shadow(0px 1px 2px rgba(0, 0, 0, 0.3));\n",
              "      fill: #FFFFFF;\n",
              "    }\n",
              "  </style>\n",
              "\n",
              "      <script>\n",
              "        const buttonEl =\n",
              "          document.querySelector('#df-b0542172-20bd-4402-a78a-fe6f429a0d25 button.colab-df-convert');\n",
              "        buttonEl.style.display =\n",
              "          google.colab.kernel.accessAllowed ? 'block' : 'none';\n",
              "\n",
              "        async function convertToInteractive(key) {\n",
              "          const element = document.querySelector('#df-b0542172-20bd-4402-a78a-fe6f429a0d25');\n",
              "          const dataTable =\n",
              "            await google.colab.kernel.invokeFunction('convertToInteractive',\n",
              "                                                     [key], {});\n",
              "          if (!dataTable) return;\n",
              "\n",
              "          const docLinkHtml = 'Like what you see? Visit the ' +\n",
              "            '<a target=\"_blank\" href=https://colab.research.google.com/notebooks/data_table.ipynb>data table notebook</a>'\n",
              "            + ' to learn more about interactive tables.';\n",
              "          element.innerHTML = '';\n",
              "          dataTable['output_type'] = 'display_data';\n",
              "          await google.colab.output.renderOutput(dataTable, element);\n",
              "          const docLink = document.createElement('div');\n",
              "          docLink.innerHTML = docLinkHtml;\n",
              "          element.appendChild(docLink);\n",
              "        }\n",
              "      </script>\n",
              "    </div>\n",
              "  </div>\n",
              "  "
            ]
          },
          "metadata": {},
          "execution_count": 31
        }
      ]
    },
    {
      "cell_type": "code",
      "metadata": {
        "id": "PokeNbVgTyUA"
      },
      "source": [
        "# Group by the `Symbol` column, then grab the `Close` column.\n",
        "#close_groups = price_data_new['Close']\n",
        "\n",
        "# Apply the lambda function which will return -1.0 for down, 1.0 for up and 0.0 for no change.\n",
        "#close_groups = close_groups.transform(lambda x : np.sign(x.diff(days_out)))\n",
        "\n",
        "# add the data to the main dataframe.\n",
        "#price_data_new['Prediction'] = close_groups\n",
        "price_data_new = price_data_new.dropna()\n",
        "\n",
        "X_Cols = price_data_new[features]\n",
        "#Y_Cols = price_data_new['Prediction']\n",
        "\n",
        "X_test_new = X_Cols\n"
      ],
      "execution_count": 32,
      "outputs": []
    },
    {
      "cell_type": "code",
      "metadata": {
        "id": "TuveNmcYR7Jp"
      },
      "source": [
        "#[4] Then new test set (X_test_new) comes. We load our 1st level models and predict new test set to get stacked features (S_test_new):\n",
        "y_pred_L1_0 = model_L1_0.predict(X_test_new)\n",
        "y_pred_L1_1 = model_L1_1.predict(X_test_new)\n",
        "y_pred_L1_2 = model_L1_2.predict(X_test_new)\n",
        "y_pred_L1_3 = model_L1_3.predict(X_test_new)\n",
        "y_pred_L1_4 = model_L1_4.predict(X_test_new)\n",
        "y_pred_L1_5 = model_L1_5.predict(X_test_new)\n",
        "y_pred_L1_6 = model_L1_6.predict(X_test_new)\n",
        "S_test_new = np.c_[y_pred_L1_0, y_pred_L1_1,y_pred_L1_2,y_pred_L1_3,y_pred_L1_4,y_pred_L1_5,y_pred_L1_6]\n",
        "#[5] Then we load our 2nd level model and predict S_test_new to get final prediction:\n",
        "\n",
        "y_pred_new = model_L2.predict(S_test_new)\n"
      ],
      "execution_count": 33,
      "outputs": []
    },
    {
      "cell_type": "code",
      "source": [
        "S_test_new[-5:]#.sum(axis=1)"
      ],
      "metadata": {
        "id": "gsBbeg54Tlz7",
        "outputId": "d78f32a8-7735-4e11-fe9b-4e8fc9b25352",
        "colab": {
          "base_uri": "https://localhost:8080/"
        }
      },
      "execution_count": 34,
      "outputs": [
        {
          "output_type": "execute_result",
          "data": {
            "text/plain": [
              "array([[-1., -1., -1., -1.,  1., -1., -1.],\n",
              "       [-1., -1., -1., -1.,  1., -1., -1.],\n",
              "       [-1., -1., -1., -1.,  1., -1., -1.],\n",
              "       [-1., -1., -1., -1.,  1., -1., -1.],\n",
              "       [-1., -1., -1., -1.,  1., -1., -1.]])"
            ]
          },
          "metadata": {},
          "execution_count": 34
        }
      ]
    },
    {
      "cell_type": "code",
      "metadata": {
        "id": "h7EoF7_c4gfC"
      },
      "source": [
        "y_pred_new_p = model_L2.predict_proba(S_test_new)"
      ],
      "execution_count": 35,
      "outputs": []
    },
    {
      "cell_type": "code",
      "metadata": {
        "colab": {
          "base_uri": "https://localhost:8080/"
        },
        "id": "O4631FYG28qH",
        "outputId": "3bf3ed9a-bc83-4124-eb75-2bd36abf0023"
      },
      "source": [
        "y_pred_new_p=max(y_pred_new_p[-1].tolist())*100\n",
        "print(f'The Probability of the confident class is {round(y_pred_new_p,3)}% ')"
      ],
      "execution_count": 36,
      "outputs": [
        {
          "output_type": "stream",
          "name": "stdout",
          "text": [
            "The Probability of the confident class is 97.619% \n"
          ]
        }
      ]
    },
    {
      "cell_type": "code",
      "metadata": {
        "id": "GrKKuAMLcXdL"
      },
      "source": [
        "if trend_decider=='impulse':\n",
        "  price_data_new=price_data_new.assign(Flag=(price_data_new['MACDh_12_26_9'].lt(price_data_new['MACDh_12_26_9'].shift(1)) & price_data_new['ADV_13'].lt(price_data_new['ADV_13'].shift(1))))\n",
        "elif trend_decider=='sma':  \n",
        "  price_data_new= price_data_new.assign(Flag=price_data_new['ADV_50'].lt(price_data_new['ADV_50'].shift()))\n",
        "elif trend_decider=='long':\n",
        "  price_data_new= price_data_new.assign(Flag=price_data_new['ADV_50'].lt(price_data_new['ADV_50'].shift(period)))\n",
        "elif trend_decider=='percentchange':\n",
        "  close_groups = price_data_new['Close'].transform(lambda x : np.sign(x.diff(days_out)))\n",
        "  price_data_new['Flag'] = close_groups\n",
        "  price_data_new.dropna(inplace=True)"
      ],
      "execution_count": 37,
      "outputs": []
    },
    {
      "cell_type": "code",
      "source": [
        "close_groups.value_counts()"
      ],
      "metadata": {
        "colab": {
          "base_uri": "https://localhost:8080/"
        },
        "id": "jcVaNJ3ZkySd",
        "outputId": "ab5bcdd2-2207-4663-8b0e-8f4c9fa5cc5d"
      },
      "execution_count": 38,
      "outputs": [
        {
          "output_type": "execute_result",
          "data": {
            "text/plain": [
              " 1.0    67\n",
              "-1.0    61\n",
              "Name: Close, dtype: int64"
            ]
          },
          "metadata": {},
          "execution_count": 38
        }
      ]
    },
    {
      "cell_type": "code",
      "metadata": {
        "id": "mHgZjKCbrKws",
        "outputId": "1964c1a5-3233-464e-fc1a-4a76ffe9dd8c",
        "colab": {
          "base_uri": "https://localhost:8080/",
          "height": 122
        }
      },
      "source": [
        "'''\n",
        "price_data_new=price_data_new.assign(Strength_Flag_dummy=(price_data_new['MACDh_12_26_9'].gt(price_data_new['MACDh_12_26_9'].shift()) & price_data_new['ADV_13'].gt(price_data_new['ADV_13'].shift())))\n",
        "price_data_new=price_data_new.assign(Strength_Flag_dum=(price_data_new['MACDh_12_26_9'].lt(price_data_new['MACDh_12_26_9'].shift()) & price_data_new['ADV_13'].lt(price_data_new['ADV_13'].shift())))\n",
        "price_data_new.dropna(inplace=True)\n",
        "price_data_new.Strength_Flag_dum = price_data_new.Strength_Flag_dum.replace(dictionary_bear)\n",
        "price_data_new.Strength_Flag_dummy = price_data_new.Strength_Flag_dummy.replace(dictionary_bull)\n",
        "price_data_new['Strength_Flag']=price_data_new.Strength_Flag_dum+price_data_new.Strength_Flag_dummy\n",
        "'''"
      ],
      "execution_count": 39,
      "outputs": [
        {
          "output_type": "execute_result",
          "data": {
            "text/plain": [
              "\"\\nprice_data_new=price_data_new.assign(Strength_Flag_dummy=(price_data_new['MACDh_12_26_9'].gt(price_data_new['MACDh_12_26_9'].shift()) & price_data_new['ADV_13'].gt(price_data_new['ADV_13'].shift())))\\nprice_data_new=price_data_new.assign(Strength_Flag_dum=(price_data_new['MACDh_12_26_9'].lt(price_data_new['MACDh_12_26_9'].shift()) & price_data_new['ADV_13'].lt(price_data_new['ADV_13'].shift())))\\nprice_data_new.dropna(inplace=True)\\nprice_data_new.Strength_Flag_dum = price_data_new.Strength_Flag_dum.replace(dictionary_bear)\\nprice_data_new.Strength_Flag_dummy = price_data_new.Strength_Flag_dummy.replace(dictionary_bull)\\nprice_data_new['Strength_Flag']=price_data_new.Strength_Flag_dum+price_data_new.Strength_Flag_dummy\\n\""
            ],
            "application/vnd.google.colaboratory.intrinsic+json": {
              "type": "string"
            }
          },
          "metadata": {},
          "execution_count": 39
        }
      ]
    },
    {
      "cell_type": "code",
      "metadata": {
        "id": "vJ3THHO3rmAV"
      },
      "source": [
        "#price_data_new.Strength_Flag = price_data_new.Strength_Flag.replace(dictionary)"
      ],
      "execution_count": 40,
      "outputs": []
    },
    {
      "cell_type": "code",
      "metadata": {
        "id": "i0jAa_ICQNrr",
        "outputId": "e39a2cb2-77b0-4040-c64a-1158446ee099",
        "colab": {
          "base_uri": "https://localhost:8080/",
          "height": 260
        }
      },
      "source": [
        "price_data_new.tail(2)"
      ],
      "execution_count": 41,
      "outputs": [
        {
          "output_type": "execute_result",
          "data": {
            "text/plain": [
              "                                   Open          High           Low  \\\n",
              "Date                                                                  \n",
              "2022-10-11 00:00:00+05:30  17256.050781  17261.800781  16950.300781   \n",
              "2022-10-12 00:00:00+05:30  17025.550781  17142.349609  16960.050781   \n",
              "\n",
              "                                  Close     30 Day MA  30 Day STD  \\\n",
              "Date                                                                \n",
              "2022-10-11 00:00:00+05:30  16983.550781  17371.172656  393.349191   \n",
              "2022-10-12 00:00:00+05:30  17123.599609  17323.850098  360.396085   \n",
              "\n",
              "                             Upper Band   Lower Band        ADV_26  \\\n",
              "Date                                                                 \n",
              "2022-10-11 00:00:00+05:30  17961.196443  16781.14887  17459.142428   \n",
              "2022-10-12 00:00:00+05:30  17864.444225  16783.25597  17438.288537   \n",
              "\n",
              "                                 ADV_13  MACD_12_26_9  MACDh_12_26_9  \\\n",
              "Date                                                                   \n",
              "2022-10-11 00:00:00+05:30  17081.110156   -108.420775     -21.496886   \n",
              "2022-10-12 00:00:00+05:30  17092.730078   -107.009322     -16.068346   \n",
              "\n",
              "                           MACDs_12_26_9   VTXP_18   VTXM_18  AROOND_18  \\\n",
              "Date                                                                      \n",
              "2022-10-11 00:00:00+05:30     -86.923889  0.759459  1.088862  66.666667   \n",
              "2022-10-12 00:00:00+05:30     -90.940976  0.739985  1.115757  61.111111   \n",
              "\n",
              "                           AROONU_18  AROONOSC_18     RSI_18  Flag  \n",
              "Date                                                                \n",
              "2022-10-11 00:00:00+05:30   5.555556   -61.111111  43.350299  -1.0  \n",
              "2022-10-12 00:00:00+05:30   0.000000   -61.111111  46.360178  -1.0  "
            ],
            "text/html": [
              "\n",
              "  <div id=\"df-b4589454-f7cd-422e-9b53-be04d2a89d29\">\n",
              "    <div class=\"colab-df-container\">\n",
              "      <div>\n",
              "<style scoped>\n",
              "    .dataframe tbody tr th:only-of-type {\n",
              "        vertical-align: middle;\n",
              "    }\n",
              "\n",
              "    .dataframe tbody tr th {\n",
              "        vertical-align: top;\n",
              "    }\n",
              "\n",
              "    .dataframe thead th {\n",
              "        text-align: right;\n",
              "    }\n",
              "</style>\n",
              "<table border=\"1\" class=\"dataframe\">\n",
              "  <thead>\n",
              "    <tr style=\"text-align: right;\">\n",
              "      <th></th>\n",
              "      <th>Open</th>\n",
              "      <th>High</th>\n",
              "      <th>Low</th>\n",
              "      <th>Close</th>\n",
              "      <th>30 Day MA</th>\n",
              "      <th>30 Day STD</th>\n",
              "      <th>Upper Band</th>\n",
              "      <th>Lower Band</th>\n",
              "      <th>ADV_26</th>\n",
              "      <th>ADV_13</th>\n",
              "      <th>MACD_12_26_9</th>\n",
              "      <th>MACDh_12_26_9</th>\n",
              "      <th>MACDs_12_26_9</th>\n",
              "      <th>VTXP_18</th>\n",
              "      <th>VTXM_18</th>\n",
              "      <th>AROOND_18</th>\n",
              "      <th>AROONU_18</th>\n",
              "      <th>AROONOSC_18</th>\n",
              "      <th>RSI_18</th>\n",
              "      <th>Flag</th>\n",
              "    </tr>\n",
              "    <tr>\n",
              "      <th>Date</th>\n",
              "      <th></th>\n",
              "      <th></th>\n",
              "      <th></th>\n",
              "      <th></th>\n",
              "      <th></th>\n",
              "      <th></th>\n",
              "      <th></th>\n",
              "      <th></th>\n",
              "      <th></th>\n",
              "      <th></th>\n",
              "      <th></th>\n",
              "      <th></th>\n",
              "      <th></th>\n",
              "      <th></th>\n",
              "      <th></th>\n",
              "      <th></th>\n",
              "      <th></th>\n",
              "      <th></th>\n",
              "      <th></th>\n",
              "      <th></th>\n",
              "    </tr>\n",
              "  </thead>\n",
              "  <tbody>\n",
              "    <tr>\n",
              "      <th>2022-10-11 00:00:00+05:30</th>\n",
              "      <td>17256.050781</td>\n",
              "      <td>17261.800781</td>\n",
              "      <td>16950.300781</td>\n",
              "      <td>16983.550781</td>\n",
              "      <td>17371.172656</td>\n",
              "      <td>393.349191</td>\n",
              "      <td>17961.196443</td>\n",
              "      <td>16781.14887</td>\n",
              "      <td>17459.142428</td>\n",
              "      <td>17081.110156</td>\n",
              "      <td>-108.420775</td>\n",
              "      <td>-21.496886</td>\n",
              "      <td>-86.923889</td>\n",
              "      <td>0.759459</td>\n",
              "      <td>1.088862</td>\n",
              "      <td>66.666667</td>\n",
              "      <td>5.555556</td>\n",
              "      <td>-61.111111</td>\n",
              "      <td>43.350299</td>\n",
              "      <td>-1.0</td>\n",
              "    </tr>\n",
              "    <tr>\n",
              "      <th>2022-10-12 00:00:00+05:30</th>\n",
              "      <td>17025.550781</td>\n",
              "      <td>17142.349609</td>\n",
              "      <td>16960.050781</td>\n",
              "      <td>17123.599609</td>\n",
              "      <td>17323.850098</td>\n",
              "      <td>360.396085</td>\n",
              "      <td>17864.444225</td>\n",
              "      <td>16783.25597</td>\n",
              "      <td>17438.288537</td>\n",
              "      <td>17092.730078</td>\n",
              "      <td>-107.009322</td>\n",
              "      <td>-16.068346</td>\n",
              "      <td>-90.940976</td>\n",
              "      <td>0.739985</td>\n",
              "      <td>1.115757</td>\n",
              "      <td>61.111111</td>\n",
              "      <td>0.000000</td>\n",
              "      <td>-61.111111</td>\n",
              "      <td>46.360178</td>\n",
              "      <td>-1.0</td>\n",
              "    </tr>\n",
              "  </tbody>\n",
              "</table>\n",
              "</div>\n",
              "      <button class=\"colab-df-convert\" onclick=\"convertToInteractive('df-b4589454-f7cd-422e-9b53-be04d2a89d29')\"\n",
              "              title=\"Convert this dataframe to an interactive table.\"\n",
              "              style=\"display:none;\">\n",
              "        \n",
              "  <svg xmlns=\"http://www.w3.org/2000/svg\" height=\"24px\"viewBox=\"0 0 24 24\"\n",
              "       width=\"24px\">\n",
              "    <path d=\"M0 0h24v24H0V0z\" fill=\"none\"/>\n",
              "    <path d=\"M18.56 5.44l.94 2.06.94-2.06 2.06-.94-2.06-.94-.94-2.06-.94 2.06-2.06.94zm-11 1L8.5 8.5l.94-2.06 2.06-.94-2.06-.94L8.5 2.5l-.94 2.06-2.06.94zm10 10l.94 2.06.94-2.06 2.06-.94-2.06-.94-.94-2.06-.94 2.06-2.06.94z\"/><path d=\"M17.41 7.96l-1.37-1.37c-.4-.4-.92-.59-1.43-.59-.52 0-1.04.2-1.43.59L10.3 9.45l-7.72 7.72c-.78.78-.78 2.05 0 2.83L4 21.41c.39.39.9.59 1.41.59.51 0 1.02-.2 1.41-.59l7.78-7.78 2.81-2.81c.8-.78.8-2.07 0-2.86zM5.41 20L4 18.59l7.72-7.72 1.47 1.35L5.41 20z\"/>\n",
              "  </svg>\n",
              "      </button>\n",
              "      \n",
              "  <style>\n",
              "    .colab-df-container {\n",
              "      display:flex;\n",
              "      flex-wrap:wrap;\n",
              "      gap: 12px;\n",
              "    }\n",
              "\n",
              "    .colab-df-convert {\n",
              "      background-color: #E8F0FE;\n",
              "      border: none;\n",
              "      border-radius: 50%;\n",
              "      cursor: pointer;\n",
              "      display: none;\n",
              "      fill: #1967D2;\n",
              "      height: 32px;\n",
              "      padding: 0 0 0 0;\n",
              "      width: 32px;\n",
              "    }\n",
              "\n",
              "    .colab-df-convert:hover {\n",
              "      background-color: #E2EBFA;\n",
              "      box-shadow: 0px 1px 2px rgba(60, 64, 67, 0.3), 0px 1px 3px 1px rgba(60, 64, 67, 0.15);\n",
              "      fill: #174EA6;\n",
              "    }\n",
              "\n",
              "    [theme=dark] .colab-df-convert {\n",
              "      background-color: #3B4455;\n",
              "      fill: #D2E3FC;\n",
              "    }\n",
              "\n",
              "    [theme=dark] .colab-df-convert:hover {\n",
              "      background-color: #434B5C;\n",
              "      box-shadow: 0px 1px 3px 1px rgba(0, 0, 0, 0.15);\n",
              "      filter: drop-shadow(0px 1px 2px rgba(0, 0, 0, 0.3));\n",
              "      fill: #FFFFFF;\n",
              "    }\n",
              "  </style>\n",
              "\n",
              "      <script>\n",
              "        const buttonEl =\n",
              "          document.querySelector('#df-b4589454-f7cd-422e-9b53-be04d2a89d29 button.colab-df-convert');\n",
              "        buttonEl.style.display =\n",
              "          google.colab.kernel.accessAllowed ? 'block' : 'none';\n",
              "\n",
              "        async function convertToInteractive(key) {\n",
              "          const element = document.querySelector('#df-b4589454-f7cd-422e-9b53-be04d2a89d29');\n",
              "          const dataTable =\n",
              "            await google.colab.kernel.invokeFunction('convertToInteractive',\n",
              "                                                     [key], {});\n",
              "          if (!dataTable) return;\n",
              "\n",
              "          const docLinkHtml = 'Like what you see? Visit the ' +\n",
              "            '<a target=\"_blank\" href=https://colab.research.google.com/notebooks/data_table.ipynb>data table notebook</a>'\n",
              "            + ' to learn more about interactive tables.';\n",
              "          element.innerHTML = '';\n",
              "          dataTable['output_type'] = 'display_data';\n",
              "          await google.colab.output.renderOutput(dataTable, element);\n",
              "          const docLink = document.createElement('div');\n",
              "          docLink.innerHTML = docLinkHtml;\n",
              "          element.appendChild(docLink);\n",
              "        }\n",
              "      </script>\n",
              "    </div>\n",
              "  </div>\n",
              "  "
            ]
          },
          "metadata": {},
          "execution_count": 41
        }
      ]
    },
    {
      "cell_type": "code",
      "metadata": {
        "id": "W7qDWTE4Yvjb",
        "outputId": "39a2da6b-5111-4fc5-fee1-205b01c7a96f",
        "colab": {
          "base_uri": "https://localhost:8080/"
        }
      },
      "source": [
        "if trend_decider !='percentchange':\n",
        "  #price_data_new.Flag = price_data_new.Flag.replace({True: 0, False: 1})\n",
        "  y_pred_new=y_pred_new.astype(int)\n",
        "  indices_one = y_pred_new == 1\n",
        "  indices_zero = y_pred_new == 0\n",
        "  y_pred_new[indices_one] = 0 # replacing 1s with 0s\n",
        "  y_pred_new[indices_zero] = 1 # replacing 0s with 1s\n",
        "if trend_decider =='percentchange':\n",
        "  #price_data_new.Flag = np.where(price_data_new.close>price_data_new.close.shift(1),1,-1)\n",
        "  print('done')"
      ],
      "execution_count": 42,
      "outputs": [
        {
          "output_type": "stream",
          "name": "stdout",
          "text": [
            "done\n"
          ]
        }
      ]
    },
    {
      "cell_type": "code",
      "metadata": {
        "colab": {
          "base_uri": "https://localhost:8080/"
        },
        "id": "T01QOoTOfOUT",
        "outputId": "72e2bdca-7219-4ee9-ed2f-bcbbf237aa17"
      },
      "source": [
        "actuals=price_data_new['Flag'].dropna()\n",
        "actuals.value_counts()"
      ],
      "execution_count": 43,
      "outputs": [
        {
          "output_type": "execute_result",
          "data": {
            "text/plain": [
              " 1.0    67\n",
              "-1.0    61\n",
              "Name: Flag, dtype: int64"
            ]
          },
          "metadata": {},
          "execution_count": 43
        }
      ]
    },
    {
      "cell_type": "code",
      "metadata": {
        "id": "M5IAnKFgB_1D",
        "outputId": "f6c11419-2af3-4efd-fd60-b6b8460804fc",
        "colab": {
          "base_uri": "https://localhost:8080/"
        }
      },
      "source": [
        "np.where(np.isinf(price_data_new['Flag']))"
      ],
      "execution_count": 44,
      "outputs": [
        {
          "output_type": "execute_result",
          "data": {
            "text/plain": [
              "(array([], dtype=int64),)"
            ]
          },
          "metadata": {},
          "execution_count": 44
        }
      ]
    },
    {
      "cell_type": "code",
      "metadata": {
        "id": "S38sLevEFix2"
      },
      "source": [
        "price_data_new = price_data_new.fillna(lambda x: x.median())\n",
        "price_data_new = price_data_new.replace({0:1})"
      ],
      "execution_count": 45,
      "outputs": []
    },
    {
      "cell_type": "code",
      "metadata": {
        "id": "9yy5Qk7mMOOd"
      },
      "source": [
        "y_pred_new= y_pred_new[-len(price_data_new.Flag):]"
      ],
      "execution_count": 46,
      "outputs": []
    },
    {
      "cell_type": "code",
      "metadata": {
        "id": "VAEVRk29R7HF"
      },
      "source": [
        "from sklearn.metrics import average_precision_score\n",
        "average_precision = average_precision_score(price_data_new['Flag'],y_pred_new)"
      ],
      "execution_count": 47,
      "outputs": []
    },
    {
      "cell_type": "code",
      "metadata": {
        "id": "osaA1DNae1mt"
      },
      "source": [
        "from sklearn.metrics import confusion_matrix, plot_confusion_matrix\n",
        "\n",
        "rf_matrix = confusion_matrix(price_data_new.Flag, y_pred_new)\n",
        "\n",
        "true_negatives = rf_matrix[0][0]\n",
        "false_negatives = rf_matrix[1][0]\n",
        "true_positives = rf_matrix[1][1]\n",
        "false_positives = rf_matrix[0][1]\n"
      ],
      "execution_count": 48,
      "outputs": []
    },
    {
      "cell_type": "code",
      "metadata": {
        "id": "NoTAiA9VfLQ9",
        "colab": {
          "base_uri": "https://localhost:8080/"
        },
        "outputId": "913e2f6b-bb8c-4947-b8d9-675702dcacd1"
      },
      "source": [
        "accuracy = (true_negatives + true_positives) / (true_negatives + true_positives + false_negatives + false_positives)\n",
        "percision = true_positives / (true_positives + false_positives)\n",
        "recall = true_positives / (true_positives + false_negatives)\n",
        "specificity = true_negatives / (true_negatives + false_positives)\n",
        "f1score= 2*recall*percision/(percision+recall)\n",
        "print('Accuracy: {}'.format(float(accuracy)))\n",
        "print('Percision: {}'.format(float(percision)))\n",
        "print('Recall: {}'.format(float(recall)))\n",
        "print('Specificity: {}'.format(float(specificity)))\n",
        "print('F1-Score: {}'.format(float(f1score)))\n",
        "print('Average Precision : {}'.format(float(average_precision)))\n"
      ],
      "execution_count": 49,
      "outputs": [
        {
          "output_type": "stream",
          "name": "stdout",
          "text": [
            "Accuracy: 0.796875\n",
            "Percision: 1.0\n",
            "Recall: 0.6119402985074627\n",
            "Specificity: 1.0\n",
            "F1-Score: 0.7592592592592593\n",
            "Average Precision : 0.8150652985074627\n"
          ]
        }
      ]
    },
    {
      "cell_type": "code",
      "source": [
        "from sklearn.metrics import classification_report\n",
        "print(classification_report(price_data_new.Flag, y_pred_new))"
      ],
      "metadata": {
        "id": "4xaY7ndYl9KD",
        "outputId": "e209edd1-7e80-423e-fbc7-0a1a8a49a110",
        "colab": {
          "base_uri": "https://localhost:8080/"
        }
      },
      "execution_count": 50,
      "outputs": [
        {
          "output_type": "stream",
          "name": "stdout",
          "text": [
            "              precision    recall  f1-score   support\n",
            "\n",
            "        -1.0       0.70      1.00      0.82        61\n",
            "         1.0       1.00      0.61      0.76        67\n",
            "\n",
            "    accuracy                           0.80       128\n",
            "   macro avg       0.85      0.81      0.79       128\n",
            "weighted avg       0.86      0.80      0.79       128\n",
            "\n"
          ]
        }
      ]
    },
    {
      "cell_type": "code",
      "metadata": {
        "id": "ouTJ66VGTcYJ"
      },
      "source": [
        "buy= np.where(y_pred_new==1)\n",
        "sell= np.where(y_pred_new==-1) #0 if impulse !!!\n",
        "b_a=np.where(price_data_new.Flag.values==1)\n",
        "s_a=np.where(price_data_new.Flag.values==0)"
      ],
      "execution_count": 51,
      "outputs": []
    },
    {
      "cell_type": "code",
      "metadata": {
        "id": "c9Vimzk2UNmM"
      },
      "source": [
        "buy=buy[0].tolist()\n",
        "sell=sell[0].tolist()"
      ],
      "execution_count": 52,
      "outputs": []
    },
    {
      "cell_type": "code",
      "metadata": {
        "id": "yYhax08ULPzd",
        "outputId": "fc456699-9bda-4cfb-bb4a-d2141f48369e",
        "colab": {
          "base_uri": "https://localhost:8080/"
        }
      },
      "source": [
        "buy[-1]"
      ],
      "execution_count": 53,
      "outputs": [
        {
          "output_type": "execute_result",
          "data": {
            "text/plain": [
              "109"
            ]
          },
          "metadata": {},
          "execution_count": 53
        }
      ]
    },
    {
      "cell_type": "code",
      "metadata": {
        "id": "9JZHWbJEKZRN",
        "outputId": "7fffee56-1a91-4736-958f-5eced3b9630c",
        "colab": {
          "base_uri": "https://localhost:8080/"
        }
      },
      "source": [
        "len(y_pred_new)"
      ],
      "execution_count": 54,
      "outputs": [
        {
          "output_type": "execute_result",
          "data": {
            "text/plain": [
              "128"
            ]
          },
          "metadata": {},
          "execution_count": 54
        }
      ]
    },
    {
      "cell_type": "code",
      "metadata": {
        "id": "pq3nKxZAK64-",
        "outputId": "21d90d1c-ebd2-4008-faeb-ef63f637bbaa",
        "colab": {
          "base_uri": "https://localhost:8080/"
        }
      },
      "source": [
        "df.reset_index().columns"
      ],
      "execution_count": 55,
      "outputs": [
        {
          "output_type": "execute_result",
          "data": {
            "text/plain": [
              "Index(['Date', 'Open', 'High', 'Low', 'Close', '30 Day MA', '30 Day STD',\n",
              "       'Upper Band', 'Lower Band', 'ADV_26', 'ADV_13', 'MACD_12_26_9',\n",
              "       'MACDh_12_26_9', 'MACDs_12_26_9', 'VTXP_18', 'VTXM_18', 'AROOND_18',\n",
              "       'AROONU_18', 'AROONOSC_18', 'RSI_18'],\n",
              "      dtype='object')"
            ]
          },
          "metadata": {},
          "execution_count": 55
        }
      ]
    },
    {
      "cell_type": "code",
      "source": [
        "df_psar=psar(df.reset_index())#,iaf = 0.04, maxaf = 0.4"
      ],
      "metadata": {
        "id": "BBYdXoDfhD79"
      },
      "execution_count": 56,
      "outputs": []
    },
    {
      "cell_type": "code",
      "source": [
        "df_psar.set_index('dates',inplace=True)"
      ],
      "metadata": {
        "id": "TNcK00WRkitc"
      },
      "execution_count": 57,
      "outputs": []
    },
    {
      "cell_type": "markdown",
      "source": [
        "rapida = 18\n",
        "lenta = 26\n",
        "stdv = 0.5\n",
        "df['fast'] =df['Close'].ewm(span=rapida).mean()\n",
        "df['slow'] =df['Close'].ewm(span=lenta).mean()\n",
        "df['bband']= df['fast']-df['slow']\n",
        "df['avg'] = df['bband'].rolling(window=9).mean()\n",
        "df['Sdev'] = df['bband'].rolling(window=9).std()\n",
        "df['Upper Band'] = df['avg'] + (df['Sdev'] *stdv)\n",
        "df['Lower Band'] = df['avg'] - (df['Sdev'] *stdv)"
      ],
      "metadata": {
        "id": "BSrfcAOu5Wdj"
      }
    },
    {
      "cell_type": "code",
      "source": [
        "rapida = 18*1.2\n",
        "lenta = 26*1.2\n",
        "stdv =0.8\n",
        "df['fast'] =df['Close'].ewm(span=rapida).mean()\n",
        "df['slow'] =df['Close'].ewm(span=lenta).mean()\n",
        "df['bband']= df['fast']-df['slow']\n",
        "df['avg'] = df['bband'].rolling(window=10).mean()\n",
        "df['Sdev'] = df['bband'].rolling(window=12).std()\n",
        "df['Upper Band'] = df['avg'] + (df['Sdev'] *stdv)\n",
        "df['Lower Band'] = df['avg'] - (df['Sdev'] *stdv)\n",
        "df['spread'] = df['bband'] - df['Lower Band']\n",
        "df['spread_1'] = -(df['bband'] - df['Upper Band'])"
      ],
      "metadata": {
        "id": "J08zZlXzdCev"
      },
      "execution_count": 58,
      "outputs": []
    },
    {
      "cell_type": "code",
      "source": [
        "df['dnsignal']=np.where(df['spread_1']>df['spread_1'].rolling(window=30).mean(),-1,0)\n",
        "df['upsignal']=np.where(df['spread']>df['spread'].rolling(window=30).mean(),1,0)"
      ],
      "metadata": {
        "id": "6GiN6g1XBNE9"
      },
      "execution_count": 59,
      "outputs": []
    },
    {
      "cell_type": "code",
      "metadata": {
        "id": "6gnZhe0zRX_h",
        "colab": {
          "base_uri": "https://localhost:8080/",
          "height": 326
        },
        "outputId": "fc3d098d-6c4f-4c41-fead-5a8e01994d32"
      },
      "source": [
        "import matplotlib.pyplot as plt\n",
        "fig, ax = plt.subplots(5,1, figsize=(25,7),sharex=True)\n",
        "ax[0].plot(price_data_new.loc[:, :].index, price_data_new.loc[:, 'Close'])\n",
        "ax[1].plot(price_data_new.loc[:, :].index, y_pred_new, label='Nifty')\n",
        "ax[0].scatter(price_data_new.iloc[buy].index,price_data_new.iloc[buy].Close,marker='^',label='Buy',color='g')\n",
        "ax[0].scatter(price_data_new.iloc[sell].index,price_data_new.iloc[sell].Close,marker='.',label='Sell',color='r')\n",
        "ax[2].plot(df[['bband']][:],color='r')\n",
        "ax[2].plot(df[['avg',]][:],color='b')\n",
        "ax[2].plot(df[['Upper Band',]][:],color='y')\n",
        "ax[2].plot(df[['Lower Band']][:],color='c')\n",
        "ax[2].axhline(y=0)\n",
        "ax[3].plot(df['upsignal'] , label='up')\n",
        "ax[4].plot(df['dnsignal'],label='dn')\n",
        "ax[0].plot(df_psar[['psarbear']][-(len(price_data_new)):],color='r')\n",
        "ax[0].plot(df_psar[['psarbull']][-(len(price_data_new)):],color='g')\n",
        "ax[0].legend(loc='upper left')\n",
        "ax[3].legend(loc='upper left')\n",
        "ax[4].legend(loc='upper left')\n",
        "ax[0].set_ylabel('Nifty')\n",
        "ax[1].legend('ML Signal')\n",
        "ax[1].legend(loc='best')\n",
        "fig.suptitle('Model : '+ trend_decider +' with period :' + str(period))\n",
        "plt.savefig('ml.png')\n",
        "plt.show()\n"
      ],
      "execution_count": 60,
      "outputs": [
        {
          "output_type": "display_data",
          "data": {
            "text/plain": [
              "<Figure size 1800x504 with 5 Axes>"
            ],
            "image/png": "[encoded data removed]"
          },
          "metadata": {
            "needs_background": "light"
          }
        }
      ]
    },
    {
      "cell_type": "code",
      "source": [
        "fig, ax = plt.subplots(2,1, figsize=(25,10),sharex=True)\n",
        "ax[0].plot(df.loc[:, 'Close'])\n",
        "ax[0].plot(df.loc[:,'Close'].rolling(window=32).mean())\n",
        "ax[1].plot(df[['bband']][:],color='r')\n",
        "ax[1].plot(df[['avg',]][:],color='b')\n",
        "ax[1].plot(df[['Upper Band',]][:],color='y')\n",
        "ax[1].plot(df[['Lower Band']][:],color='c')\n",
        "plt.show()"
      ],
      "metadata": {
        "id": "nSn7ySIf2OTF",
        "outputId": "fda7cf49-2bbf-4838-fcd0-7adcbcb3c3d0",
        "colab": {
          "base_uri": "https://localhost:8080/",
          "height": 405
        }
      },
      "execution_count": 61,
      "outputs": [
        {
          "output_type": "display_data",
          "data": {
            "text/plain": [
              "<Figure size 1800x720 with 2 Axes>"
            ],
            "image/png": "[encoded data removed]"
          },
          "metadata": {
            "needs_background": "light"
          }
        }
      ]
    },
    {
      "cell_type": "code",
      "source": [
        "df.columns"
      ],
      "metadata": {
        "id": "kb-oq7Q52mSN",
        "outputId": "2177e8ab-6e2b-49a6-e121-d02e4a27f6ad",
        "colab": {
          "base_uri": "https://localhost:8080/"
        }
      },
      "execution_count": 62,
      "outputs": [
        {
          "output_type": "execute_result",
          "data": {
            "text/plain": [
              "Index(['Open', 'High', 'Low', 'Close', '30 Day MA', '30 Day STD', 'Upper Band',\n",
              "       'Lower Band', 'ADV_26', 'ADV_13', 'MACD_12_26_9', 'MACDh_12_26_9',\n",
              "       'MACDs_12_26_9', 'VTXP_18', 'VTXM_18', 'AROOND_18', 'AROONU_18',\n",
              "       'AROONOSC_18', 'RSI_18', 'fast', 'slow', 'bband', 'avg', 'Sdev',\n",
              "       'spread', 'spread_1', 'dnsignal', 'upsignal'],\n",
              "      dtype='object')"
            ]
          },
          "metadata": {},
          "execution_count": 62
        }
      ]
    },
    {
      "cell_type": "code",
      "metadata": {
        "id": "2CqS5WTCpl6o",
        "colab": {
          "base_uri": "https://localhost:8080/"
        },
        "outputId": "aafb0570-e515-449f-86bd-d12ab1ab5bc9"
      },
      "source": [
        "print(f'The Probability of the confident class is {round(y_pred_new_p,3)}%')"
      ],
      "execution_count": 63,
      "outputs": [
        {
          "output_type": "stream",
          "name": "stdout",
          "text": [
            "The Probability of the confident class is 97.619%\n"
          ]
        }
      ]
    },
    {
      "cell_type": "code",
      "source": [
        "fig, ax = plt.subplots(2,1, figsize=(25,7),sharex=True)\n",
        "ax[0].plot(pd.Series(price_data_new['Close'].values,),'*-')\n",
        "ax[1].plot(pd.Series(S_test_new[12:].sum(axis=1)),'k*-')\n",
        "ax[1].plot(pd.Series(S_test_new[12:].sum(axis=1)).rolling(window=15).mean())\n",
        "ax[1].axhline(y=0);"
      ],
      "metadata": {
        "colab": {
          "base_uri": "https://localhost:8080/",
          "height": 294
        },
        "id": "jFE5-O9CHL9m",
        "outputId": "cfe85a1e-566a-4a7a-a5ce-a38070e80b4f"
      },
      "execution_count": 64,
      "outputs": [
        {
          "output_type": "display_data",
          "data": {
            "text/plain": [
              "<Figure size 1800x504 with 2 Axes>"
            ],
            "image/png": "[encoded data removed]"
          },
          "metadata": {
            "needs_background": "light"
          }
        }
      ]
    },
    {
      "cell_type": "code",
      "source": [
        "S_test_new[-5:]"
      ],
      "metadata": {
        "id": "PaelWeUlZ12Y",
        "outputId": "e8a7913e-4597-4b42-9c2c-5aa343ceb746",
        "colab": {
          "base_uri": "https://localhost:8080/"
        }
      },
      "execution_count": 65,
      "outputs": [
        {
          "output_type": "execute_result",
          "data": {
            "text/plain": [
              "array([[-1., -1., -1., -1.,  1., -1., -1.],\n",
              "       [-1., -1., -1., -1.,  1., -1., -1.],\n",
              "       [-1., -1., -1., -1.,  1., -1., -1.],\n",
              "       [-1., -1., -1., -1.,  1., -1., -1.],\n",
              "       [-1., -1., -1., -1.,  1., -1., -1.]])"
            ]
          },
          "metadata": {},
          "execution_count": 65
        }
      ]
    },
    {
      "cell_type": "code",
      "source": [
        "price_data_new['predictions']=np.where(y_pred_new>0,1,0)"
      ],
      "metadata": {
        "id": "_lV05VgJHw_-"
      },
      "execution_count": 66,
      "outputs": []
    },
    {
      "cell_type": "code",
      "metadata": {
        "id": "X74oyjeQqfpv",
        "outputId": "0fa10b41-5640-43af-a9c0-f469991d4af2",
        "colab": {
          "base_uri": "https://localhost:8080/",
          "height": 424
        }
      },
      "source": [
        "# Calculate daily returns\n",
        "price_data_new['Return'] = price_data_new.Close.pct_change()\n",
        "\n",
        "# Calculate strategy returns\n",
        "price_data_new['Strategy_Return'] = price_data_new.Return * price_data_new.predictions.shift(1)\n",
        "\n",
        "# Calculate geometric returns\n",
        "geometric_returns = (price_data_new.Strategy_Return+1).cumprod()\n",
        "\n",
        "# Plot geometric returns\n",
        "geometric_returns.plot(figsize=(10, 7),color='g')\n",
        "plt.ylabel(\"Strategy Returns (%)\")\n",
        "plt.xlabel(\"Date\")\n",
        "plt.show()"
      ],
      "execution_count": 67,
      "outputs": [
        {
          "output_type": "display_data",
          "data": {
            "text/plain": [
              "<Figure size 720x504 with 1 Axes>"
            ],
            "image/png": "[encoded data removed]"
          },
          "metadata": {
            "needs_background": "light"
          }
        }
      ]
    }
  ]
}