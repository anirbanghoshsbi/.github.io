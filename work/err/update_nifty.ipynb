{
  "nbformat": 4,
  "nbformat_minor": 0,
  "metadata": {
    "colab": {
      "provenance": [],
      "authorship_tag": "ABX9TyPUHWhH0jQO/SbFMnwxNZlT",
      "include_colab_link": true
    },
    "kernelspec": {
      "name": "python3",
      "display_name": "Python 3"
    },
    "language_info": {
      "name": "python"
    }
  },
  "cells": [
    {
      "cell_type": "markdown",
      "metadata": {
        "id": "view-in-github",
        "colab_type": "text"
      },
      "source": [
        "<a href=\"https://colab.research.google.com/github/anirbanghoshsbi/.github.io/blob/master/work/err/update_nifty.ipynb\" target=\"_parent\"><img src=\"https://colab.research.google.com/assets/colab-badge.svg\" alt=\"Open In Colab\"/></a>"
      ]
    },
    {
      "cell_type": "code",
      "execution_count": 2,
      "metadata": {
        "colab": {
          "base_uri": "https://localhost:8080/"
        },
        "id": "gXcl4U4iaosq",
        "outputId": "34b4eea9-7aa4-4e05-913a-c2f1214c2f66"
      },
      "outputs": [
        {
          "output_type": "stream",
          "name": "stdout",
          "text": [
            "Database is up to date. Latest date in DB: 2025-02-21\n"
          ]
        }
      ],
      "source": [
        "import duckdb\n",
        "import pandas as pd\n",
        "import datetime\n",
        "\n",
        "# Connect to the DuckDB database\n",
        "db_path = \"nifty50_data.duckdb\"\n",
        "conn = duckdb.connect(db_path)\n",
        "\n",
        "# Step 1: Check the latest date in the database\n",
        "query = \"SELECT MAX(date) as latest_date FROM nifty50_table;\"\n",
        "latest_date = conn.execute(query).fetchone()[0]\n",
        "\n",
        "# Convert to datetime for comparison\n",
        "latest_date = pd.to_datetime(latest_date)\n",
        "\n",
        "# Step 2: Get today's date and last trading day\n",
        "today = datetime.date.today()\n",
        "\n",
        "# If today is a weekend or holiday, adjust to last working day (basic adjustment)\n",
        "if today.weekday() == 6:  # Sunday\n",
        "    last_trading_day = today - datetime.timedelta(days=2)\n",
        "elif today.weekday() == 5:  # Saturday\n",
        "    last_trading_day = today - datetime.timedelta(days=1)\n",
        "else:\n",
        "    last_trading_day = today  # Assume today is a trading day (you may need to check actual market holidays)\n",
        "\n",
        "# Step 3: Check if data is up to date\n",
        "if latest_date.date() >= last_trading_day:\n",
        "    print(f\"Database is up to date. Latest date in DB: {latest_date.date()}\")\n",
        "else:\n",
        "    print(f\"Database is outdated. Latest date in DB: {latest_date.date()}, Expected: {last_trading_day}\")\n",
        "\n",
        "    # Prompt user for manual update\n",
        "    new_data = input(\"Do you want to manually enter today's data? (yes/no): \").strip().lower()\n",
        "    if new_data == \"yes\":\n",
        "        # Collect manual data\n",
        "        new_date = last_trading_day\n",
        "        open_price = float(input(\"Enter Open Price: \"))\n",
        "        high_price = float(input(\"Enter High Price: \"))\n",
        "        low_price = float(input(\"Enter Low Price: \"))\n",
        "        close_price = float(input(\"Enter Close Price: \"))\n",
        "\n",
        "        # Insert the new data into the database\n",
        "        insert_query = f\"\"\"\n",
        "        INSERT INTO nifty50_data (date, open, high, low, close)\n",
        "        VALUES ('{new_date}', {open_price}, {high_price}, {low_price}, {close_price});\n",
        "        \"\"\"\n",
        "        conn.execute(insert_query)\n",
        "        print(f\"Data for {new_date} inserted successfully!\")\n",
        "\n",
        "# Close connection\n",
        "conn.close()\n"
      ]
    },
    {
      "cell_type": "code",
      "source": [
        "# Connect to DuckDB\n",
        "conn = duckdb.connect(db_path)\n",
        "\n",
        "# Date to delete (wrong data)\n",
        "wrong_date = \"YYYY-MM-DD\"  # Replace with the incorrect date\n",
        "\n",
        "# Delete the incorrect entry\n",
        "delete_query = f\"DELETE FROM nifty50_table WHERE date = '{wrong_date}';\"\n",
        "conn.execute(delete_query)\n",
        "print(f\"Deleted incorrect data for {wrong_date}.\")\n",
        "\n",
        "# Ask for correct values\n",
        "new_open = float(input(\"Enter correct Open Price: \"))\n",
        "new_high = float(input(\"Enter correct High Price: \"))\n",
        "new_low = float(input(\"Enter correct Low Price: \"))\n",
        "new_close = float(input(\"Enter correct Close Price: \"))\n",
        "\n",
        "# Reinsert the correct data\n",
        "insert_query = f\"\"\"\n",
        "INSERT INTO nifty50_table (date, open, high, low, close)\n",
        "VALUES ('{wrong_date}', {new_open}, {new_high}, {new_low}, {new_close});\n",
        "\"\"\"\n",
        "conn.execute(insert_query)\n",
        "print(f\"Inserted correct data for {wrong_date}.\")\n",
        "\n",
        "# Close connection\n",
        "conn.close()\n"
      ],
      "metadata": {
        "id": "j-kGLmgobrR2"
      },
      "execution_count": null,
      "outputs": []
    }
  ]
}