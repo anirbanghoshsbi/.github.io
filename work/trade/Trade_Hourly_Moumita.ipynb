{
  "nbformat": 4,
  "nbformat_minor": 0,
  "metadata": {
    "colab": {
      "provenance": [],
      "authorship_tag": "ABX9TyNqsyqbOLec71ZhOktBAeWL",
      "include_colab_link": true
    },
    "kernelspec": {
      "name": "python3",
      "display_name": "Python 3"
    },
    "language_info": {
      "name": "python"
    }
  },
  "cells": [
    {
      "cell_type": "markdown",
      "metadata": {
        "id": "view-in-github",
        "colab_type": "text"
      },
      "source": [
        "<a href=\"https://colab.research.google.com/github/anirbanghoshsbi/.github.io/blob/master/work/trade/Trade_Hourly_Moumita.ipynb\" target=\"_parent\"><img src=\"https://colab.research.google.com/assets/colab-badge.svg\" alt=\"Open In Colab\"/></a>"
      ]
    },
    {
      "cell_type": "code",
      "source": [
        "!pip install pandas-ta --q\n",
        "!pip install logzero --q\n",
        "!pip install smartapi-python==1.4.1 --q\n",
        "!pip install pyotp --q"
      ],
      "metadata": {
        "id": "yne7EPrEnqxn"
      },
      "execution_count": 49,
      "outputs": []
    },
    {
      "cell_type": "code",
      "source": [
        "from sklearn.model_selection import train_test_split\n",
        "from sklearn.metrics import accuracy_score\n",
        "from sklearn.ensemble import ExtraTreesClassifier\n",
        "from sklearn.linear_model import LogisticRegression\n",
        "from sklearn import svm\n",
        "from sklearn.ensemble import RandomForestClassifier\n",
        "from sklearn.neighbors import KNeighborsClassifier\n",
        "import numpy as np\n",
        "import pandas_ta as ta"
      ],
      "metadata": {
        "id": "-crVDiOCnTf5"
      },
      "execution_count": 50,
      "outputs": []
    },
    {
      "cell_type": "code",
      "source": [
        "# package import statement\n",
        "from SmartApi import SmartConnect #or from SmartApi.smartConnect import SmartConnect\n",
        "import pyotp\n",
        "from logzero import logger\n",
        "import time\n",
        "import os\n",
        "import urllib\n",
        "import json\n",
        "import pandas as pd\n",
        "import datetime as dt\n",
        "\n",
        "api_key = 'xOHnB7MG'\n",
        "username = 'M55123447'\n",
        "pwd = '1471'\n",
        "smartApi = SmartConnect(api_key)\n",
        "try:\n",
        "    token = \"GJZACUQI2TTAIBHBA34XNFJURQ\"\n",
        "    totp = pyotp.TOTP(token).now()\n",
        "except Exception as e:\n",
        "    logger.error(\"Invalid Token: The provided token is not valid.\")\n",
        "    raise e\n",
        "\n",
        "correlation_id = \"abcde\"\n",
        "data = smartApi.generateSession(username, pwd, totp)\n",
        "\n",
        "if data['status'] == False:\n",
        "    logger.error(data)\n",
        "\n",
        "else:\n",
        "    # login api call\n",
        "    # logger.info(f\"You Credentials: {data}\")\n",
        "    authToken = data['data']['jwtToken']\n",
        "    refreshToken = data['data']['refreshToken']\n",
        "    # fetch the feedtoken\n",
        "    feedToken = smartApi.getfeedToken()\n",
        "    # fetch User Profile\n",
        "    res = smartApi.getProfile(refreshToken)\n",
        "    smartApi.generateToken(refreshToken)\n",
        "    res=res['data']['exchanges']\n"
      ],
      "metadata": {
        "id": "YINCE3C3f-Gu"
      },
      "execution_count": 51,
      "outputs": []
    },
    {
      "cell_type": "code",
      "source": [
        "#Download Nifty50 Index Data\n",
        "params = {\n",
        "           \"exchange\": \"NSE\",\n",
        "           \"symboltoken\": '99926000',\n",
        "           \"interval\": \"ONE_HOUR\",\n",
        "           \"fromdate\": (dt.date.today() - dt.timedelta(25)).strftime('%Y-%m-%d %H:%M'),\n",
        "           \"todate\": (dt.date.today()+dt.timedelta(days=1)).strftime('%Y-%m-%d %H:%M')\n",
        "         }\n",
        "nifty_data = smartApi.getCandleData(params)\n",
        "nifty_test= pd.DataFrame(nifty_data[\"data\"],\n",
        "                               columns = [\"Date\",\"Open\",\"High\",\"Low\",\"Close\",\"Volume\"])\n",
        "nifty_test.set_index(\"Date\",inplace=True)\n",
        "nifty_test.index = pd.to_datetime(nifty_test.index)\n",
        "nifty_test.index = nifty_test.index.tz_localize(None)"
      ],
      "metadata": {
        "id": "xohDURkCmJln"
      },
      "execution_count": 52,
      "outputs": []
    },
    {
      "cell_type": "code",
      "execution_count": 53,
      "metadata": {
        "id": "kZ68Tj_5fySd"
      },
      "outputs": [],
      "source": [
        "def calculate_technical_indicators(df, fast_macd=12, slow_macd=26, signal_macd=9, vortex_length=8, aroon_length=8, rsi_length=8):\n",
        "    \"\"\"\n",
        "    Calculates and appends technical indicators to a DataFrame.\n",
        "\n",
        "    Args:\n",
        "        df (pd.DataFrame): The DataFrame containing the data.\n",
        "        fast_macd (int, optional): Fast period for MACD. Defaults to 12.\n",
        "        slow_macd (int, optional): Slow period for MACD. Defaults to 26.\n",
        "        signal_macd (int, optional): Signal period for MACD. Defaults to 9.\n",
        "        vortex_length (int, optional): Length for Vortex indicator. Defaults to 18.\n",
        "        aroon_length (int, optional): Length for Aroon indicator. Defaults to 18.\n",
        "        rsi_length (int, optional): Length for RSI indicator. Defaults to 18.\n",
        "\n",
        "    Returns:\n",
        "        pd.DataFrame: The DataFrame with the calculated indicators appended.\n",
        "    \"\"\"\n",
        "    for t in [0.25,0.5,0.75]:\n",
        "\n",
        "      df.ta.macd(fast=fast_macd, slow=slow_macd, signal=signal_macd, append=True)\n",
        "      df.ta.macd(fast=int(fast_macd * t), slow=int(slow_macd * t), signal=int(signal_macd * t), append=True)\n",
        "      df.ta.vortex(length=vortex_length, append=True)\n",
        "      df.ta.aroon(length=aroon_length, append=True)\n",
        "      df.ta.rsi(length=rsi_length, append=True)\n",
        "      df.ta.vortex(length=int(vortex_length * t), append=True)\n",
        "      df.ta.aroon(length=int(aroon_length * t), append=True)\n",
        "      df.ta.rsi(length=int(rsi_length * t), append=True)\n",
        "    return df"
      ]
    },
    {
      "cell_type": "code",
      "source": [
        "def calculate_recent_price_action_features(df):\n",
        "    \"\"\"\n",
        "    Calculate recent price action features for a given DataFrame.\n",
        "\n",
        "    Parameters:\n",
        "    df (pd.DataFrame): DataFrame with 'Date' as index and 'Close', 'Open', 'High', 'Low' columns\n",
        "\n",
        "    Returns:\n",
        "    pd.DataFrame: DataFrame with additional columns for recent price action features\n",
        "    \"\"\"\n",
        "\n",
        "    # Ensure the DataFrame is sorted by date\n",
        "    df = df.sort_index()\n",
        "\n",
        "    # 1. Previous day's return\n",
        "    df['prev_day_return'] = df['Close'].pct_change()\n",
        "\n",
        "    # 2. Weekly return (5 trading days)\n",
        "    df['weekly_return'] = df['Close'].pct_change(periods=5)\n",
        "\n",
        "    # 3. Monthly return (21 trading days)\n",
        "    df['monthly_return'] = df['Close'].pct_change(periods=21)\n",
        "\n",
        "    # 4. Price momentum (3-day, 5-day, 10-day)\n",
        "    for period in [3, 5, 10]:\n",
        "        df[f'momentum_{period}d'] = df['Close'].pct_change(periods=period)\n",
        "\n",
        "    # 5. Gap\n",
        "    df['gap'] = (df['Open'] - df['Close'].shift(1)) / df['Close'].shift(1)\n",
        "\n",
        "    # 6. Intraday price range\n",
        "    df['intraday_range'] = (df['High'] - df['Low']) / df['Close']\n",
        "\n",
        "    # 7. Distance from moving averages (5-day, 10-day MA)\n",
        "    for period in [5, 10]:\n",
        "        ma = df['Close'].rolling(window=period).mean()\n",
        "        df[f'dist_from_ma_{period}d'] = (df['Close'] - ma) / ma\n",
        "\n",
        "    # 8. Recent highs and lows (5-day window)\n",
        "    df['near_high_5d'] = df['Close'] >= df['High'].rolling(window=5).max()\n",
        "    df['near_low_5d'] = df['Close'] <= df['Low'].rolling(window=5).min()\n",
        "\n",
        "    return df"
      ],
      "metadata": {
        "id": "hX1EOes0f0JN"
      },
      "execution_count": 54,
      "outputs": []
    },
    {
      "cell_type": "code",
      "source": [
        "nifty_test=calculate_technical_indicators(nifty_test)\n",
        "nifty_test=calculate_recent_price_action_features(nifty_test)\n",
        "df = nifty_test.copy()\n",
        "# I Just need the Close\n",
        "price_data_new = df.copy()\n"
      ],
      "metadata": {
        "id": "CStv3ky9f0G2"
      },
      "execution_count": 55,
      "outputs": []
    },
    {
      "cell_type": "code",
      "source": [
        "price_data_new.shape"
      ],
      "metadata": {
        "id": "wee6iJaI0lZY",
        "outputId": "bccc2150-d448-46c2-b062-71f1a7f86e1c",
        "colab": {
          "base_uri": "https://localhost:8080/"
        }
      },
      "execution_count": 56,
      "outputs": [
        {
          "output_type": "execute_result",
          "data": {
            "text/plain": [
              "(116, 53)"
            ]
          },
          "metadata": {},
          "execution_count": 56
        }
      ]
    },
    {
      "cell_type": "code",
      "source": [
        "features = price_data_new.columns.tolist()\n",
        "# Group by the `Symbol` column, then grab the `Close` column.\n",
        "#close_groups = price_data_new['Close']\n",
        "\n",
        "# Apply the lambda function which will return -1.0 for down, 1.0 for up and 0.0 for no change.\n",
        "#close_groups = close_groups.transform(lambda x : np.sign(x.diff(days_out)))\n",
        "\n",
        "# add the data to the main dataframe.\n",
        "#price_data_new['Prediction'] = close_groups\n",
        "price_data_new = price_data_new.dropna()\n",
        "\n",
        "X_test_new =price_data_new[features]\n",
        "#Y_Cols = price_data_new['Prediction']"
      ],
      "metadata": {
        "id": "OdPAdBPxf0Ed"
      },
      "execution_count": 57,
      "outputs": []
    },
    {
      "cell_type": "code",
      "source": [
        "import requests\n",
        "import joblib"
      ],
      "metadata": {
        "id": "Us1PYV-9oRU_"
      },
      "execution_count": 58,
      "outputs": []
    },
    {
      "cell_type": "markdown",
      "source": [],
      "metadata": {
        "id": "_mDQG_ZUrzM3"
      }
    },
    {
      "cell_type": "code",
      "source": [
        "# Load model from the saved file\n",
        "!wget https://github.com/anirbanghoshsbi/.github.io/raw/master/work/models/model_L1_0.pkl -O model_L1_0.pkl\n",
        "!wget https://github.com/anirbanghoshsbi/.github.io/raw/master/work/models/model_L1_1.pkl -O model_L1_1.pkl\n",
        "!wget https://github.com/anirbanghoshsbi/.github.io/raw/master/work/models/model_L1_2.pkl -O model_L1_2.pkl\n",
        "!wget https://github.com/anirbanghoshsbi/.github.io/raw/master/work/models/model_L1_3.pkl -O model_L1_3.pkl\n",
        "!wget https://github.com/anirbanghoshsbi/.github.io/raw/master/work/models/model_L1_4.pkl -O model_L1_4.pkl\n",
        "model_1=joblib.load('model_L1_0.pkl')\n",
        "model_2=joblib.load('model_L1_1.pkl')\n",
        "model_3=joblib.load('model_L1_2.pkl')\n",
        "model_4=joblib.load('model_L1_3.pkl')\n",
        "model_5=joblib.load('model_L1_4.pkl')\n",
        "print(\"All models loaded successfully.\")\n"
      ],
      "metadata": {
        "id": "XZAnzCklpSz_",
        "outputId": "dd7cba95-88ac-4fac-b840-17b125c99d25",
        "colab": {
          "base_uri": "https://localhost:8080/"
        }
      },
      "execution_count": 59,
      "outputs": [
        {
          "output_type": "stream",
          "name": "stdout",
          "text": [
            "--2025-03-10 06:47:36--  https://github.com/anirbanghoshsbi/.github.io/raw/master/work/models/model_L1_0.pkl\n",
            "Resolving github.com (github.com)... 140.82.114.3\n",
            "Connecting to github.com (github.com)|140.82.114.3|:443... connected.\n",
            "HTTP request sent, awaiting response... 302 Found\n",
            "Location: https://raw.githubusercontent.com/anirbanghoshsbi/.github.io/master/work/models/model_L1_0.pkl [following]\n",
            "--2025-03-10 06:47:36--  https://raw.githubusercontent.com/anirbanghoshsbi/.github.io/master/work/models/model_L1_0.pkl\n",
            "Resolving raw.githubusercontent.com (raw.githubusercontent.com)... 185.199.108.133, 185.199.109.133, 185.199.110.133, ...\n",
            "Connecting to raw.githubusercontent.com (raw.githubusercontent.com)|185.199.108.133|:443... connected.\n",
            "HTTP request sent, awaiting response... 200 OK\n",
            "Length: 2415 (2.4K) [application/octet-stream]\n",
            "Saving to: ‘model_L1_0.pkl’\n",
            "\n",
            "model_L1_0.pkl      100%[===================>]   2.36K  --.-KB/s    in 0s      \n",
            "\n",
            "2025-03-10 06:47:36 (22.0 MB/s) - ‘model_L1_0.pkl’ saved [2415/2415]\n",
            "\n",
            "--2025-03-10 06:47:36--  https://github.com/anirbanghoshsbi/.github.io/raw/master/work/models/model_L1_1.pkl\n",
            "Resolving github.com (github.com)... 140.82.112.3\n",
            "Connecting to github.com (github.com)|140.82.112.3|:443... connected.\n",
            "HTTP request sent, awaiting response... 302 Found\n",
            "Location: https://raw.githubusercontent.com/anirbanghoshsbi/.github.io/master/work/models/model_L1_1.pkl [following]\n",
            "--2025-03-10 06:47:36--  https://raw.githubusercontent.com/anirbanghoshsbi/.github.io/master/work/models/model_L1_1.pkl\n",
            "Resolving raw.githubusercontent.com (raw.githubusercontent.com)... 185.199.108.133, 185.199.109.133, 185.199.110.133, ...\n",
            "Connecting to raw.githubusercontent.com (raw.githubusercontent.com)|185.199.108.133|:443... connected.\n",
            "HTTP request sent, awaiting response... 200 OK\n",
            "Length: 68475 (67K) [application/octet-stream]\n",
            "Saving to: ‘model_L1_1.pkl’\n",
            "\n",
            "model_L1_1.pkl      100%[===================>]  66.87K  --.-KB/s    in 0.02s   \n",
            "\n",
            "2025-03-10 06:47:36 (3.02 MB/s) - ‘model_L1_1.pkl’ saved [68475/68475]\n",
            "\n",
            "--2025-03-10 06:47:36--  https://github.com/anirbanghoshsbi/.github.io/raw/master/work/models/model_L1_2.pkl\n",
            "Resolving github.com (github.com)... 140.82.113.3\n",
            "Connecting to github.com (github.com)|140.82.113.3|:443... connected.\n",
            "HTTP request sent, awaiting response... 302 Found\n",
            "Location: https://raw.githubusercontent.com/anirbanghoshsbi/.github.io/master/work/models/model_L1_2.pkl [following]\n",
            "--2025-03-10 06:47:37--  https://raw.githubusercontent.com/anirbanghoshsbi/.github.io/master/work/models/model_L1_2.pkl\n",
            "Resolving raw.githubusercontent.com (raw.githubusercontent.com)... 185.199.108.133, 185.199.109.133, 185.199.110.133, ...\n",
            "Connecting to raw.githubusercontent.com (raw.githubusercontent.com)|185.199.108.133|:443... connected.\n",
            "HTTP request sent, awaiting response... 200 OK\n",
            "Length: 159385 (156K) [application/octet-stream]\n",
            "Saving to: ‘model_L1_2.pkl’\n",
            "\n",
            "model_L1_2.pkl      100%[===================>] 155.65K  --.-KB/s    in 0.03s   \n",
            "\n",
            "2025-03-10 06:47:37 (4.39 MB/s) - ‘model_L1_2.pkl’ saved [159385/159385]\n",
            "\n",
            "--2025-03-10 06:47:37--  https://github.com/anirbanghoshsbi/.github.io/raw/master/work/models/model_L1_3.pkl\n",
            "Resolving github.com (github.com)... 140.82.112.4\n",
            "Connecting to github.com (github.com)|140.82.112.4|:443... connected.\n",
            "HTTP request sent, awaiting response... 302 Found\n",
            "Location: https://raw.githubusercontent.com/anirbanghoshsbi/.github.io/master/work/models/model_L1_3.pkl [following]\n",
            "--2025-03-10 06:47:37--  https://raw.githubusercontent.com/anirbanghoshsbi/.github.io/master/work/models/model_L1_3.pkl\n",
            "Resolving raw.githubusercontent.com (raw.githubusercontent.com)... 185.199.111.133, 185.199.109.133, 185.199.108.133, ...\n",
            "Connecting to raw.githubusercontent.com (raw.githubusercontent.com)|185.199.111.133|:443... connected.\n",
            "HTTP request sent, awaiting response... 200 OK\n",
            "Length: 798921 (780K) [application/octet-stream]\n",
            "Saving to: ‘model_L1_3.pkl’\n",
            "\n",
            "model_L1_3.pkl      100%[===================>] 780.20K  --.-KB/s    in 0.06s   \n",
            "\n",
            "2025-03-10 06:47:37 (13.5 MB/s) - ‘model_L1_3.pkl’ saved [798921/798921]\n",
            "\n",
            "--2025-03-10 06:47:37--  https://github.com/anirbanghoshsbi/.github.io/raw/master/work/models/model_L1_4.pkl\n",
            "Resolving github.com (github.com)... 140.82.113.3\n",
            "Connecting to github.com (github.com)|140.82.113.3|:443... connected.\n",
            "HTTP request sent, awaiting response... 302 Found\n",
            "Location: https://raw.githubusercontent.com/anirbanghoshsbi/.github.io/master/work/models/model_L1_4.pkl [following]\n",
            "--2025-03-10 06:47:37--  https://raw.githubusercontent.com/anirbanghoshsbi/.github.io/master/work/models/model_L1_4.pkl\n",
            "Resolving raw.githubusercontent.com (raw.githubusercontent.com)... 185.199.108.133, 185.199.109.133, 185.199.110.133, ...\n",
            "Connecting to raw.githubusercontent.com (raw.githubusercontent.com)|185.199.108.133|:443... connected.\n",
            "HTTP request sent, awaiting response... 200 OK\n",
            "Length: 4307 (4.2K) [application/octet-stream]\n",
            "Saving to: ‘model_L1_4.pkl’\n",
            "\n",
            "model_L1_4.pkl      100%[===================>]   4.21K  --.-KB/s    in 0s      \n",
            "\n",
            "2025-03-10 06:47:38 (32.0 MB/s) - ‘model_L1_4.pkl’ saved [4307/4307]\n",
            "\n",
            "All models loaded successfully.\n"
          ]
        }
      ]
    },
    {
      "cell_type": "code",
      "source": [
        "#[4] Then new test set (X_test_new) comes. We load our 1st level models and predict new test set to get stacked features (S_test_new):\n",
        "y_pred_L1_0 = model_1.predict(X_test_new)\n",
        "y_pred_L1_1 = model_2.predict(X_test_new)\n",
        "y_pred_L1_2 = model_3.predict(X_test_new)\n",
        "y_pred_L1_3 = model_4.predict(X_test_new)\n",
        "y_pred_L1_4 = model_5.predict(X_test_new)\n",
        "\n",
        "#y_pred_l1_6= model_L1_X.predict(X_test_new)\n",
        "S_test_new = np.c_[y_pred_L1_0, y_pred_L1_1,y_pred_L1_2,y_pred_L1_3,y_pred_L1_4]"
      ],
      "metadata": {
        "id": "TPC7uwIVf0CG"
      },
      "execution_count": 60,
      "outputs": []
    },
    {
      "cell_type": "code",
      "source": [
        "y_pred_new_p = S_test_new.sum(axis=1)\n",
        "buy= np.where(y_pred_new_p>=0)\n",
        "sell= np.where(y_pred_new_p<0) #0 if impulse !!!\n"
      ],
      "metadata": {
        "id": "W6oVSCNkfz_k"
      },
      "execution_count": 61,
      "outputs": []
    },
    {
      "cell_type": "code",
      "source": [
        "price_data_new.reset_index(inplace=True)\n",
        "df.reset_index(inplace=True)"
      ],
      "metadata": {
        "id": "8lwb4k8osfqA"
      },
      "execution_count": 62,
      "outputs": []
    },
    {
      "cell_type": "code",
      "source": [
        "import matplotlib.pyplot as plt\n",
        "\n",
        "fig, ax = plt.subplots(figsize=(12,5))  # single Axes object\n",
        "\n",
        "# Plot data\n",
        "ax.plot(price_data_new.loc[:, :].index, price_data_new.loc[:, 'Close'], label='Close')\n",
        "\n",
        "# (Optional) If you want to plot the predictions on the same axis:\n",
        "# ax.plot(price_data_new.loc[:, :].index, y_pred_new_p, label='Nifty')\n",
        "\n",
        "# Scatter buy/sell points\n",
        "ax.scatter(price_data_new.iloc[buy].index,\n",
        "           price_data_new.iloc[buy].Close,\n",
        "           marker='^',\n",
        "           label='Buy',\n",
        "           color='g')\n",
        "ax.scatter(price_data_new.iloc[sell].index,\n",
        "           price_data_new.iloc[sell].Close,\n",
        "           marker='.',\n",
        "           label='Sell',\n",
        "           color='r')\n",
        "\n",
        "ax.legend(loc='upper left')\n",
        "ax.set_ylabel('Nifty')\n",
        "\n",
        "fig.suptitle('Model : ' + 'momentum' + ' with period : ' + str(9))\n",
        "\n",
        "plt.savefig('ml.png')\n",
        "plt.show()\n"
      ],
      "metadata": {
        "colab": {
          "base_uri": "https://localhost:8080/",
          "height": 473
        },
        "id": "L4HOBy_1fz9F",
        "outputId": "80ad47b3-d3b9-42bb-f6c2-f8a9297035ae"
      },
      "execution_count": 63,
      "outputs": [
        {
          "output_type": "display_data",
          "data": {
            "text/plain": [
              "<Figure size 1200x500 with 1 Axes>"
            ],
            "image/png": "[encoded data removed]"
          },
          "metadata": {}
        }
      ]
    },
    {
      "cell_type": "code",
      "source": [],
      "metadata": {
        "id": "iRgHJgTdfz6d"
      },
      "execution_count": 63,
      "outputs": []
    }
  ]
}