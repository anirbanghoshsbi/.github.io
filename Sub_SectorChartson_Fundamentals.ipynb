{
  "nbformat": 4,
  "nbformat_minor": 0,
  "metadata": {
    "colab": {
      "name": "Sub_SectorChartson_Fundamentals.ipynb",
      "provenance": [],
      "authorship_tag": "ABX9TyPwcqe0UGFBeXaRLAoaqfid",
      "include_colab_link": true
    },
    "kernelspec": {
      "name": "python3",
      "display_name": "Python 3"
    },
    "language_info": {
      "name": "python"
    }
  },
  "cells": [
    {
      "cell_type": "markdown",
      "metadata": {
        "id": "view-in-github",
        "colab_type": "text"
      },
      "source": [
        "<a href=\"https://colab.research.google.com/github/anirbanghoshsbi/.github.io/blob/master/Sub_SectorChartson_Fundamentals.ipynb\" target=\"_parent\"><img src=\"https://colab.research.google.com/assets/colab-badge.svg\" alt=\"Open In Colab\"/></a>"
      ]
    },
    {
      "cell_type": "code",
      "metadata": {
        "id": "rN4sP-jF4Jg9"
      },
      "source": [
        "import pandas as pd\n",
        "from google.colab import drive\n",
        "drive.mount('/content/gdrive')"
      ],
      "execution_count": 1,
      "outputs": []
    },
    {
      "cell_type": "code",
      "metadata": {
        "id": "G89jBSbG4hBo"
      },
      "source": [
        "sector=pd.read_csv('https://raw.githubusercontent.com/anirbanghoshsbi/data/main/fundamental_sector_name.csv')"
      ],
      "execution_count": 23,
      "outputs": []
    },
    {
      "cell_type": "code",
      "metadata": {
        "colab": {
          "base_uri": "https://localhost:8080/",
          "height": 140
        },
        "id": "wi5OsRXN4g2n",
        "outputId": "0c02ade6-0e97-412a-8998-90991c1d1d8e"
      },
      "source": [
        "sector[4:].head()"
      ],
      "execution_count": 7,
      "outputs": [
        {
          "output_type": "execute_result",
          "data": {
            "text/html": [
              "<div>\n",
              "<style scoped>\n",
              "    .dataframe tbody tr th:only-of-type {\n",
              "        vertical-align: middle;\n",
              "    }\n",
              "\n",
              "    .dataframe tbody tr th {\n",
              "        vertical-align: top;\n",
              "    }\n",
              "\n",
              "    .dataframe thead th {\n",
              "        text-align: right;\n",
              "    }\n",
              "</style>\n",
              "<table border=\"1\" class=\"dataframe\">\n",
              "  <thead>\n",
              "    <tr style=\"text-align: right;\">\n",
              "      <th></th>\n",
              "      <th>Unnamed: 0</th>\n",
              "      <th>link</th>\n",
              "    </tr>\n",
              "  </thead>\n",
              "  <tbody>\n",
              "    <tr>\n",
              "      <th>0</th>\n",
              "      <td>0</td>\n",
              "      <td>/stocks/top-companies-in-india/market-capitali...</td>\n",
              "    </tr>\n",
              "    <tr>\n",
              "      <th>1</th>\n",
              "      <td>1</td>\n",
              "      <td>/stocks/top-companies-in-india/market-capitali...</td>\n",
              "    </tr>\n",
              "    <tr>\n",
              "      <th>2</th>\n",
              "      <td>2</td>\n",
              "      <td>/stocks/top-companies-in-india/market-capitali...</td>\n",
              "    </tr>\n",
              "  </tbody>\n",
              "</table>\n",
              "</div>"
            ],
            "text/plain": [
              "   Unnamed: 0                                               link\n",
              "0           0  /stocks/top-companies-in-india/market-capitali...\n",
              "1           1  /stocks/top-companies-in-india/market-capitali...\n",
              "2           2  /stocks/top-companies-in-india/market-capitali..."
            ]
          },
          "metadata": {
            "tags": []
          },
          "execution_count": 7
        }
      ]
    },
    {
      "cell_type": "code",
      "metadata": {
        "colab": {
          "base_uri": "https://localhost:8080/",
          "height": 35
        },
        "id": "-sV50uKL4gt9",
        "outputId": "638a06b9-451d-41e4-fe86-ac12c15ec328"
      },
      "source": [
        "sector['link'].iloc[36].split('/')[-1]\n"
      ],
      "execution_count": 88,
      "outputs": [
        {
          "output_type": "execute_result",
          "data": {
            "application/vnd.google.colaboratory.intrinsic+json": {
              "type": "string"
            },
            "text/plain": [
              "'automobile-dealers-distributors.html'"
            ]
          },
          "metadata": {
            "tags": []
          },
          "execution_count": 88
        }
      ]
    },
    {
      "cell_type": "code",
      "metadata": {
        "id": "y6md-IuO45qO"
      },
      "source": [
        "def get_clean_data(sector,i):\n",
        "    import pandas as pd\n",
        "    try:\n",
        "      url = 'https://moneycontrol.com/'+sector['link'].iloc[i]\n",
        "      data=pd.read_html(url)\n",
        "      data_clean=pd.DataFrame()\n",
        "      print(i)\n",
        "      print(sector['link'].iloc[i].split('/')[-1])\n",
        "      print('----------')\n",
        "      data_clean['Company Name']=data[1]['Company Name'].apply(lambda x: x.replace('Add to Watchlist', ' '))\n",
        "      data_clean['Market_Cap']=data[1]['Market Cap(Rs. cr)']\n",
        "      data_clean['Company Name']=data_clean['Company Name'].apply(lambda x : x.replace('Add to Portfolio',' '))\n",
        "    except TypeError as e:\n",
        "      print(e)\n",
        "      pass\n",
        "    return data_clean"
      ],
      "execution_count": 100,
      "outputs": []
    },
    {
      "cell_type": "code",
      "metadata": {
        "colab": {
          "base_uri": "https://localhost:8080/"
        },
        "id": "8ze7W2t545nm",
        "outputId": "45b04de0-5e35-4ddd-f4f3-92698a60c45b"
      },
      "source": [
        "data_clean=get_clean_data(sector,4)"
      ],
      "execution_count": 31,
      "outputs": [
        {
          "output_type": "stream",
          "text": [
            "Index(['Company Name', 'Last Price', '% Chg', '52 wkHigh', '52 wkLow',\n",
            "       'Market Cap(Rs. cr)'],\n",
            "      dtype='object')\n"
          ],
          "name": "stdout"
        }
      ]
    },
    {
      "cell_type": "code",
      "metadata": {
        "colab": {
          "base_uri": "https://localhost:8080/",
          "height": 172
        },
        "id": "5IGXR3KH_sxo",
        "outputId": "ca86e987-ae0c-4140-dd65-d23d3bcb9e6a"
      },
      "source": [
        "data_clean"
      ],
      "execution_count": 34,
      "outputs": [
        {
          "output_type": "execute_result",
          "data": {
            "text/html": [
              "<div>\n",
              "<style scoped>\n",
              "    .dataframe tbody tr th:only-of-type {\n",
              "        vertical-align: middle;\n",
              "    }\n",
              "\n",
              "    .dataframe tbody tr th {\n",
              "        vertical-align: top;\n",
              "    }\n",
              "\n",
              "    .dataframe thead th {\n",
              "        text-align: right;\n",
              "    }\n",
              "</style>\n",
              "<table border=\"1\" class=\"dataframe\">\n",
              "  <thead>\n",
              "    <tr style=\"text-align: right;\">\n",
              "      <th></th>\n",
              "      <th>Company Name</th>\n",
              "      <th>Market_Cap</th>\n",
              "    </tr>\n",
              "  </thead>\n",
              "  <tbody>\n",
              "    <tr>\n",
              "      <th>0</th>\n",
              "      <td>Hindustan Aeron</td>\n",
              "      <td>37585.16</td>\n",
              "    </tr>\n",
              "    <tr>\n",
              "      <th>1</th>\n",
              "      <td>MTAR Tech</td>\n",
              "      <td>4551.19</td>\n",
              "    </tr>\n",
              "    <tr>\n",
              "      <th>2</th>\n",
              "      <td>TAAL Enterprise</td>\n",
              "      <td>218.53</td>\n",
              "    </tr>\n",
              "    <tr>\n",
              "      <th>3</th>\n",
              "      <td>Taneja Aerospac</td>\n",
              "      <td>128.39</td>\n",
              "    </tr>\n",
              "  </tbody>\n",
              "</table>\n",
              "</div>"
            ],
            "text/plain": [
              "            Company Name  Market_Cap\n",
              "0  Hindustan Aeron          37585.16\n",
              "1        MTAR Tech           4551.19\n",
              "2  TAAL Enterprise            218.53\n",
              "3  Taneja Aerospac            128.39"
            ]
          },
          "metadata": {
            "tags": []
          },
          "execution_count": 34
        }
      ]
    },
    {
      "cell_type": "code",
      "metadata": {
        "id": "slDjI4od45lg"
      },
      "source": [
        "def get_mcap(datafrm):\n",
        "  import numpy as np\n",
        "  # Create an array of market capitalizations (in Crs)\n",
        "  market_capitalizations = np.array(datafrm['Market_Cap'].tolist())\n",
        "\n",
        "  # Calculate the market cap weights\n",
        "  mcap_weights = market_capitalizations / sum(market_capitalizations)\n",
        "  datafrm['weights']=pd.Series(mcap_weights)\n",
        "  return datafrm\n"
      ],
      "execution_count": 56,
      "outputs": []
    },
    {
      "cell_type": "code",
      "metadata": {
        "id": "YvKUsEemCHbD"
      },
      "source": [
        "data_clean=get_mcap(data_clean)"
      ],
      "execution_count": 57,
      "outputs": []
    },
    {
      "cell_type": "code",
      "metadata": {
        "id": "mX04rrNH45jO"
      },
      "source": [
        "data_clean"
      ],
      "execution_count": null,
      "outputs": []
    },
    {
      "cell_type": "code",
      "metadata": {
        "id": "CVDGTjQ_45gz"
      },
      "source": [
        "def write_data(i):\n",
        "  sector=pd.read_csv('https://raw.githubusercontent.com/anirbanghoshsbi/data/main/fundamental_sector_name.csv')\n",
        "  data=get_clean_data(sector,i)\n",
        "  final_data=get_mcap(data)\n",
        "  lnk=\"/content/gdrive/MyDrive/sectors/\"+ str(sector['link'].iloc[i].split('/')[-1])+'.csv'\n",
        "  final_data.to_csv(lnk)\n",
        "   \n",
        "  return None"
      ],
      "execution_count": 81,
      "outputs": []
    },
    {
      "cell_type": "code",
      "metadata": {
        "colab": {
          "base_uri": "https://localhost:8080/"
        },
        "id": "kDlz9-q645ew",
        "outputId": "0dae1234-9df5-45a9-893c-6b36592ba738"
      },
      "source": [
        "for i in range(3,len(sector)):\n",
        "  write_data(i)\n"
      ],
      "execution_count": 106,
      "outputs": [
        {
          "output_type": "stream",
          "text": [
            "170\n",
            "ship-building.html\n",
            "----------\n",
            "171\n",
            "shipping.html\n",
            "----------\n",
            "172\n",
            "software.html\n",
            "----------\n",
            "173\n",
            "solvent-extraction.html\n",
            "----------\n",
            "174\n",
            "speciality-chemicals.html\n",
            "----------\n",
            "175\n",
            "speciality-retailers.html\n",
            "----------\n",
            "176\n",
            "specialty-mining-metals.html\n",
            "----------\n",
            "177\n",
            "sugar.html\n",
            "----------\n",
            "178\n",
            "teacoffee.html\n",
            "----------\n",
            "179\n",
            "telecommunication-equipment.html\n",
            "----------\n",
            "180\n",
            "telecommunication-service-provider.html\n",
            "----------\n",
            "181\n",
            "telecommunications-services.html\n",
            "----------\n",
            "182\n",
            "textile-machinery.html\n",
            "----------\n",
            "183\n",
            "textile-spinning.html\n",
            "----------\n",
            "184\n",
            "textiles.html\n",
            "----------\n",
            "185\n",
            "textiles-apparel.html\n",
            "----------\n",
            "186\n",
            "trading.html\n",
            "----------\n",
            "187\n",
            "transmission-towers-equipments.html\n",
            "----------\n",
            "188\n",
            "transport-infrastructure.html\n",
            "----------\n",
            "189\n",
            "travel-services.html\n",
            "----------\n",
            "190\n",
            "tv-broadcasting-software-production.html\n",
            "----------\n",
            "191\n",
            "vegetable-oils-products.html\n",
            "----------\n",
            "192\n",
            "watches-accessories.html\n",
            "----------\n",
            "193\n",
            "wood-wood-products.html\n",
            "----------\n"
          ],
          "name": "stdout"
        }
      ]
    },
    {
      "cell_type": "code",
      "metadata": {
        "colab": {
          "base_uri": "https://localhost:8080/"
        },
        "id": "Ww-oUgM045c5",
        "outputId": "38aefdec-9f2c-4ba6-e760-50274e981b28"
      },
      "source": [
        "write_data(123)"
      ],
      "execution_count": 102,
      "outputs": [
        {
          "output_type": "stream",
          "text": [
            "123\n",
            "medical-equipmentsuppliesaccessories.html\n",
            "----------\n"
          ],
          "name": "stdout"
        }
      ]
    },
    {
      "cell_type": "code",
      "metadata": {
        "id": "pzfEP2Iy45aB"
      },
      "source": [
        "/content/gdrive/MyDrive/sectors"
      ],
      "execution_count": null,
      "outputs": []
    },
    {
      "cell_type": "code",
      "metadata": {
        "id": "6nfqPxGS45Xq"
      },
      "source": [
        ""
      ],
      "execution_count": null,
      "outputs": []
    },
    {
      "cell_type": "code",
      "metadata": {
        "id": "vbhMjNgv45VL"
      },
      "source": [
        ""
      ],
      "execution_count": null,
      "outputs": []
    }
  ]
}