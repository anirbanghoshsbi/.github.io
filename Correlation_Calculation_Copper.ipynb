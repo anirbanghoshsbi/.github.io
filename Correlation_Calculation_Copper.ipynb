{
  "nbformat": 4,
  "nbformat_minor": 0,
  "metadata": {
    "colab": {
      "name": "Correlation_Calculation_Copper.ipynb",
      "provenance": [],
      "authorship_tag": "ABX9TyMK2Rp6J88o+2+rSzFLGvZr",
      "include_colab_link": true
    },
    "kernelspec": {
      "name": "python3",
      "display_name": "Python 3"
    },
    "language_info": {
      "name": "python"
    }
  },
  "cells": [
    {
      "cell_type": "markdown",
      "metadata": {
        "id": "view-in-github",
        "colab_type": "text"
      },
      "source": [
        "<a href=\"https://colab.research.google.com/github/anirbanghoshsbi/.github.io/blob/master/Correlation_Calculation_Copper.ipynb\" target=\"_parent\"><img src=\"https://colab.research.google.com/assets/colab-badge.svg\" alt=\"Open In Colab\"/></a>"
      ]
    },
    {
      "cell_type": "code",
      "metadata": {
        "id": "kKyr_k7Vk0IK"
      },
      "source": [
        "import warnings\n",
        "warnings.simplefilter(action='ignore', category=Warning)\n",
        "import pandas as pd\n"
      ],
      "execution_count": 64,
      "outputs": []
    },
    {
      "cell_type": "code",
      "metadata": {
        "id": "ojDPF1n9fyO1"
      },
      "source": [
        "import numpy as np\n",
        "import matplotlib.pyplot as plt\n",
        "import seaborn as sns\n",
        "from scipy.stats import pearsonr"
      ],
      "execution_count": 65,
      "outputs": []
    },
    {
      "cell_type": "code",
      "metadata": {
        "id": "Hs3_caB0f5oV"
      },
      "source": [
        "data = pd.read_csv('/content/MCX_COPPER1!, 1D.csv')"
      ],
      "execution_count": 66,
      "outputs": []
    },
    {
      "cell_type": "code",
      "metadata": {
        "id": "hPMrYQ4of5l5"
      },
      "source": [
        "import datetime\n",
        "data['date']=data.time.apply(lambda d: datetime.datetime.fromtimestamp(int(d)).strftime('%d-%m-%Y'))"
      ],
      "execution_count": 67,
      "outputs": []
    },
    {
      "cell_type": "code",
      "metadata": {
        "colab": {
          "base_uri": "https://localhost:8080/",
          "height": 210
        },
        "id": "en_uvEKgf5jU",
        "outputId": "a821bc81-97a4-4d25-98cc-4e987952b06c"
      },
      "source": [
        "data.tail(2)"
      ],
      "execution_count": 68,
      "outputs": [
        {
          "output_type": "execute_result",
          "data": {
            "text/html": [
              "<div>\n",
              "<style scoped>\n",
              "    .dataframe tbody tr th:only-of-type {\n",
              "        vertical-align: middle;\n",
              "    }\n",
              "\n",
              "    .dataframe tbody tr th {\n",
              "        vertical-align: top;\n",
              "    }\n",
              "\n",
              "    .dataframe thead th {\n",
              "        text-align: right;\n",
              "    }\n",
              "</style>\n",
              "<table border=\"1\" class=\"dataframe\">\n",
              "  <thead>\n",
              "    <tr style=\"text-align: right;\">\n",
              "      <th></th>\n",
              "      <th>time</th>\n",
              "      <th>open</th>\n",
              "      <th>high</th>\n",
              "      <th>low</th>\n",
              "      <th>close</th>\n",
              "      <th>NIFTY, NSE: Open</th>\n",
              "      <th>NIFTY, NSE: High</th>\n",
              "      <th>NIFTY, NSE: Low</th>\n",
              "      <th>NIFTY, NSE: Close</th>\n",
              "      <th>Volume</th>\n",
              "      <th>Volume MA</th>\n",
              "      <th>date</th>\n",
              "    </tr>\n",
              "  </thead>\n",
              "  <tbody>\n",
              "    <tr>\n",
              "      <th>1597</th>\n",
              "      <td>1627615800</td>\n",
              "      <td>755.75</td>\n",
              "      <td>760.85</td>\n",
              "      <td>746.2</td>\n",
              "      <td>751.70</td>\n",
              "      <td>15800.6</td>\n",
              "      <td>15862.8</td>\n",
              "      <td>15744.85</td>\n",
              "      <td>15763.05</td>\n",
              "      <td>16214</td>\n",
              "      <td>13734.30</td>\n",
              "      <td>30-07-2021</td>\n",
              "    </tr>\n",
              "    <tr>\n",
              "      <th>1598</th>\n",
              "      <td>1627875000</td>\n",
              "      <td>754.70</td>\n",
              "      <td>757.70</td>\n",
              "      <td>741.0</td>\n",
              "      <td>741.75</td>\n",
              "      <td>15874.9</td>\n",
              "      <td>15892.9</td>\n",
              "      <td>15834.65</td>\n",
              "      <td>15885.15</td>\n",
              "      <td>14254</td>\n",
              "      <td>13826.75</td>\n",
              "      <td>02-08-2021</td>\n",
              "    </tr>\n",
              "  </tbody>\n",
              "</table>\n",
              "</div>"
            ],
            "text/plain": [
              "            time    open    high  ...  Volume  Volume MA        date\n",
              "1597  1627615800  755.75  760.85  ...   16214   13734.30  30-07-2021\n",
              "1598  1627875000  754.70  757.70  ...   14254   13826.75  02-08-2021\n",
              "\n",
              "[2 rows x 12 columns]"
            ]
          },
          "metadata": {
            "tags": []
          },
          "execution_count": 68
        }
      ]
    },
    {
      "cell_type": "code",
      "metadata": {
        "id": "dRO76y2ef5gz"
      },
      "source": [
        "del data['time']"
      ],
      "execution_count": 69,
      "outputs": []
    },
    {
      "cell_type": "code",
      "metadata": {
        "id": "xV9_Aesrf5eq"
      },
      "source": [
        "data= data.set_index('date')"
      ],
      "execution_count": 70,
      "outputs": []
    },
    {
      "cell_type": "code",
      "metadata": {
        "colab": {
          "base_uri": "https://localhost:8080/",
          "height": 333
        },
        "id": "ULmsVmqYf5cE",
        "outputId": "ad66045f-f7a8-4d34-fb81-907b00f977f2"
      },
      "source": [
        "data.tail(5)"
      ],
      "execution_count": 71,
      "outputs": [
        {
          "output_type": "execute_result",
          "data": {
            "text/html": [
              "<div>\n",
              "<style scoped>\n",
              "    .dataframe tbody tr th:only-of-type {\n",
              "        vertical-align: middle;\n",
              "    }\n",
              "\n",
              "    .dataframe tbody tr th {\n",
              "        vertical-align: top;\n",
              "    }\n",
              "\n",
              "    .dataframe thead th {\n",
              "        text-align: right;\n",
              "    }\n",
              "</style>\n",
              "<table border=\"1\" class=\"dataframe\">\n",
              "  <thead>\n",
              "    <tr style=\"text-align: right;\">\n",
              "      <th></th>\n",
              "      <th>open</th>\n",
              "      <th>high</th>\n",
              "      <th>low</th>\n",
              "      <th>close</th>\n",
              "      <th>NIFTY, NSE: Open</th>\n",
              "      <th>NIFTY, NSE: High</th>\n",
              "      <th>NIFTY, NSE: Low</th>\n",
              "      <th>NIFTY, NSE: Close</th>\n",
              "      <th>Volume</th>\n",
              "      <th>Volume MA</th>\n",
              "    </tr>\n",
              "    <tr>\n",
              "      <th>date</th>\n",
              "      <th></th>\n",
              "      <th></th>\n",
              "      <th></th>\n",
              "      <th></th>\n",
              "      <th></th>\n",
              "      <th></th>\n",
              "      <th></th>\n",
              "      <th></th>\n",
              "      <th></th>\n",
              "      <th></th>\n",
              "    </tr>\n",
              "  </thead>\n",
              "  <tbody>\n",
              "    <tr>\n",
              "      <th>27-07-2021</th>\n",
              "      <td>762.55</td>\n",
              "      <td>765.00</td>\n",
              "      <td>751.4</td>\n",
              "      <td>758.55</td>\n",
              "      <td>15860.50</td>\n",
              "      <td>15881.55</td>\n",
              "      <td>15701.00</td>\n",
              "      <td>15746.45</td>\n",
              "      <td>18279</td>\n",
              "      <td>13818.55</td>\n",
              "    </tr>\n",
              "    <tr>\n",
              "      <th>28-07-2021</th>\n",
              "      <td>761.30</td>\n",
              "      <td>764.40</td>\n",
              "      <td>750.2</td>\n",
              "      <td>751.00</td>\n",
              "      <td>15761.55</td>\n",
              "      <td>15767.50</td>\n",
              "      <td>15513.45</td>\n",
              "      <td>15709.40</td>\n",
              "      <td>13642</td>\n",
              "      <td>13745.60</td>\n",
              "    </tr>\n",
              "    <tr>\n",
              "      <th>29-07-2021</th>\n",
              "      <td>753.35</td>\n",
              "      <td>759.80</td>\n",
              "      <td>751.1</td>\n",
              "      <td>757.55</td>\n",
              "      <td>15762.70</td>\n",
              "      <td>15817.35</td>\n",
              "      <td>15737.80</td>\n",
              "      <td>15778.45</td>\n",
              "      <td>10852</td>\n",
              "      <td>13523.05</td>\n",
              "    </tr>\n",
              "    <tr>\n",
              "      <th>30-07-2021</th>\n",
              "      <td>755.75</td>\n",
              "      <td>760.85</td>\n",
              "      <td>746.2</td>\n",
              "      <td>751.70</td>\n",
              "      <td>15800.60</td>\n",
              "      <td>15862.80</td>\n",
              "      <td>15744.85</td>\n",
              "      <td>15763.05</td>\n",
              "      <td>16214</td>\n",
              "      <td>13734.30</td>\n",
              "    </tr>\n",
              "    <tr>\n",
              "      <th>02-08-2021</th>\n",
              "      <td>754.70</td>\n",
              "      <td>757.70</td>\n",
              "      <td>741.0</td>\n",
              "      <td>741.75</td>\n",
              "      <td>15874.90</td>\n",
              "      <td>15892.90</td>\n",
              "      <td>15834.65</td>\n",
              "      <td>15885.15</td>\n",
              "      <td>14254</td>\n",
              "      <td>13826.75</td>\n",
              "    </tr>\n",
              "  </tbody>\n",
              "</table>\n",
              "</div>"
            ],
            "text/plain": [
              "              open    high    low  ...  NIFTY, NSE: Close  Volume  Volume MA\n",
              "date                               ...                                      \n",
              "27-07-2021  762.55  765.00  751.4  ...           15746.45   18279   13818.55\n",
              "28-07-2021  761.30  764.40  750.2  ...           15709.40   13642   13745.60\n",
              "29-07-2021  753.35  759.80  751.1  ...           15778.45   10852   13523.05\n",
              "30-07-2021  755.75  760.85  746.2  ...           15763.05   16214   13734.30\n",
              "02-08-2021  754.70  757.70  741.0  ...           15885.15   14254   13826.75\n",
              "\n",
              "[5 rows x 10 columns]"
            ]
          },
          "metadata": {
            "tags": []
          },
          "execution_count": 71
        }
      ]
    },
    {
      "cell_type": "code",
      "metadata": {
        "id": "oXJBxpS3f5Zl"
      },
      "source": [
        "data_subset = data[['close','NIFTY, NSE: Close']]"
      ],
      "execution_count": 72,
      "outputs": []
    },
    {
      "cell_type": "code",
      "metadata": {
        "colab": {
          "base_uri": "https://localhost:8080/",
          "height": 140
        },
        "id": "7lfuH9Zyf5XZ",
        "outputId": "1eab7021-2cac-4025-bd5d-af38d051c6b7"
      },
      "source": [
        "data_subset.tail(2)"
      ],
      "execution_count": 73,
      "outputs": [
        {
          "output_type": "execute_result",
          "data": {
            "text/html": [
              "<div>\n",
              "<style scoped>\n",
              "    .dataframe tbody tr th:only-of-type {\n",
              "        vertical-align: middle;\n",
              "    }\n",
              "\n",
              "    .dataframe tbody tr th {\n",
              "        vertical-align: top;\n",
              "    }\n",
              "\n",
              "    .dataframe thead th {\n",
              "        text-align: right;\n",
              "    }\n",
              "</style>\n",
              "<table border=\"1\" class=\"dataframe\">\n",
              "  <thead>\n",
              "    <tr style=\"text-align: right;\">\n",
              "      <th></th>\n",
              "      <th>close</th>\n",
              "      <th>NIFTY, NSE: Close</th>\n",
              "    </tr>\n",
              "    <tr>\n",
              "      <th>date</th>\n",
              "      <th></th>\n",
              "      <th></th>\n",
              "    </tr>\n",
              "  </thead>\n",
              "  <tbody>\n",
              "    <tr>\n",
              "      <th>30-07-2021</th>\n",
              "      <td>751.70</td>\n",
              "      <td>15763.05</td>\n",
              "    </tr>\n",
              "    <tr>\n",
              "      <th>02-08-2021</th>\n",
              "      <td>741.75</td>\n",
              "      <td>15885.15</td>\n",
              "    </tr>\n",
              "  </tbody>\n",
              "</table>\n",
              "</div>"
            ],
            "text/plain": [
              "             close  NIFTY, NSE: Close\n",
              "date                                 \n",
              "30-07-2021  751.70           15763.05\n",
              "02-08-2021  741.75           15885.15"
            ]
          },
          "metadata": {
            "tags": []
          },
          "execution_count": 73
        }
      ]
    },
    {
      "cell_type": "code",
      "metadata": {
        "id": "78Y2O7cwf5Up"
      },
      "source": [
        "data_subset.columns=['close_copper','close_nifty']"
      ],
      "execution_count": 74,
      "outputs": []
    },
    {
      "cell_type": "code",
      "metadata": {
        "id": "-G3dt9cZf5SX"
      },
      "source": [
        "data_subset['close_percent_copper']=data_subset['close_copper'].pct_change(60)\n",
        "data_subset['close_percent_nifty']=data_subset['close_nifty'].pct_change(60)"
      ],
      "execution_count": 75,
      "outputs": []
    },
    {
      "cell_type": "code",
      "metadata": {
        "id": "50p1CBQoiiKQ"
      },
      "source": [
        "data_subset.dropna(inplace=True)"
      ],
      "execution_count": 76,
      "outputs": []
    },
    {
      "cell_type": "code",
      "metadata": {
        "colab": {
          "base_uri": "https://localhost:8080/",
          "height": 443
        },
        "id": "oBsRXsamf5Py",
        "outputId": "c31348a0-4392-4910-df68-ae6703c75aeb"
      },
      "source": [
        "g=sns.jointplot(x='close_percent_copper',y='close_percent_nifty',data=data_subset,kind='reg').plot_joint(sns.kdeplot,n_levels=6)\n",
        "r, p = pearsonr(data_subset['close_percent_copper'], data_subset['close_percent_nifty'])\n",
        "phantom, = g.ax_joint.plot([], [], linestyle=\"\", alpha=0)\n",
        "g.ax_joint.legend([phantom],['r={:f}, p={:f}'.format(r,p)])\n",
        "plt.suptitle(f'Correlation for last 60 days is {round(r*100)}%')\n",
        "plt.show()"
      ],
      "execution_count": 77,
      "outputs": [
        {
          "output_type": "display_data",
          "data": {
            "image/png": "[encoded data removed]",
            "text/plain": [
              "<Figure size 432x432 with 3 Axes>"
            ]
          },
          "metadata": {
            "tags": [],
            "needs_background": "light"
          }
        }
      ]
    },
    {
      "cell_type": "code",
      "metadata": {
        "id": "1PcnYupyf5Ni"
      },
      "source": [
        ""
      ],
      "execution_count": 77,
      "outputs": []
    },
    {
      "cell_type": "code",
      "metadata": {
        "id": "LhbPu_2Bf5LG"
      },
      "source": [
        ""
      ],
      "execution_count": 77,
      "outputs": []
    },
    {
      "cell_type": "code",
      "metadata": {
        "id": "fBKfCufBf5Ic"
      },
      "source": [
        ""
      ],
      "execution_count": 77,
      "outputs": []
    },
    {
      "cell_type": "code",
      "metadata": {
        "id": "K-4XTJwzf5Fn"
      },
      "source": [
        ""
      ],
      "execution_count": 77,
      "outputs": []
    }
  ]
}