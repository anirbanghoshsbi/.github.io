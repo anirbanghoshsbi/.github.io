{
  "nbformat": 4,
  "nbformat_minor": 0,
  "metadata": {
    "colab": {
      "name": "Random_Forest_on_correlation_data.ipynb",
      "provenance": [],
      "collapsed_sections": [],
      "authorship_tag": "ABX9TyO/Ujl+zdk7BBm4TUfp+XvZ",
      "include_colab_link": true
    },
    "kernelspec": {
      "name": "python3",
      "display_name": "Python 3"
    },
    "language_info": {
      "name": "python"
    }
  },
  "cells": [
    {
      "cell_type": "markdown",
      "metadata": {
        "id": "view-in-github",
        "colab_type": "text"
      },
      "source": [
        "<a href=\"https://colab.research.google.com/github/anirbanghoshsbi/.github.io/blob/master/Random_Forest_on_correlation_data.ipynb\" target=\"_parent\"><img src=\"https://colab.research.google.com/assets/colab-badge.svg\" alt=\"Open In Colab\"/></a>"
      ]
    },
    {
      "cell_type": "code",
      "metadata": {
        "colab": {
          "base_uri": "https://localhost:8080/"
        },
        "id": "XIAJsXTGQcDW",
        "outputId": "90cd9193-60a7-43f4-90b4-278a17fc3070"
      },
      "source": [
        "! git clone https://github.com/anirbanghoshsbi/pandas-technical-indicators.git"
      ],
      "execution_count": 751,
      "outputs": [
        {
          "output_type": "stream",
          "text": [
            "Cloning into 'pandas-technical-indicators'...\n",
            "remote: Enumerating objects: 202, done.\u001b[K\n",
            "remote: Counting objects: 100% (175/175), done.\u001b[K\n",
            "remote: Compressing objects: 100% (175/175), done.\u001b[K\n",
            "remote: Total 202 (delta 105), reused 0 (delta 0), pack-reused 27\u001b[K\n",
            "Receiving objects: 100% (202/202), 58.64 KiB | 9.77 MiB/s, done.\n",
            "Resolving deltas: 100% (117/117), done.\n"
          ],
          "name": "stdout"
        }
      ]
    },
    {
      "cell_type": "code",
      "metadata": {
        "colab": {
          "base_uri": "https://localhost:8080/"
        },
        "id": "i5IZ20vnQf0w",
        "outputId": "5ad8ef7a-f129-4e74-f642-d7e1978a229d"
      },
      "source": [
        "!pwd"
      ],
      "execution_count": 752,
      "outputs": [
        {
          "output_type": "stream",
          "text": [
            "/content/pandas-technical-indicators/pandas-technical-indicators/pandas-technical-indicators/pandas-technical-indicators/pandas-technical-indicators/pandas-technical-indicators/pandas-technical-indicators/pandas-technical-indicators/pandas-technical-indicators/pandas-technical-indicators/pandas-technical-indicators/pandas-technical-indicators/pandas-technical-indicators/pandas-technical-indicators/pandas-technical-indicators/pandas-technical-indicators/pandas-technical-indicators/pandas-technical-indicators/pandas-technical-indicators/pandas-technical-indicators/pandas-technical-indicators/pandas-technical-indicators/pandas-technical-indicators/pandas-technical-indicators/pandas-technical-indicators\n"
          ],
          "name": "stdout"
        }
      ]
    },
    {
      "cell_type": "code",
      "metadata": {
        "colab": {
          "base_uri": "https://localhost:8080/"
        },
        "id": "mLtHc4eeQhyD",
        "outputId": "23456bb6-d3f2-4569-87cc-909e8670a6a5"
      },
      "source": [
        "%cd pandas-technical-indicators"
      ],
      "execution_count": 753,
      "outputs": [
        {
          "output_type": "stream",
          "text": [
            "/content/pandas-technical-indicators/pandas-technical-indicators/pandas-technical-indicators/pandas-technical-indicators/pandas-technical-indicators/pandas-technical-indicators/pandas-technical-indicators/pandas-technical-indicators/pandas-technical-indicators/pandas-technical-indicators/pandas-technical-indicators/pandas-technical-indicators/pandas-technical-indicators/pandas-technical-indicators/pandas-technical-indicators/pandas-technical-indicators/pandas-technical-indicators/pandas-technical-indicators/pandas-technical-indicators/pandas-technical-indicators/pandas-technical-indicators/pandas-technical-indicators/pandas-technical-indicators/pandas-technical-indicators/pandas-technical-indicators/pandas-technical-indicators\n"
          ],
          "name": "stdout"
        }
      ]
    },
    {
      "cell_type": "code",
      "metadata": {
        "id": "wk17Cc7EQmS2"
      },
      "source": [
        "\n",
        "# Import libraries\n",
        "import os\n",
        "import sys\n",
        "import requests\n",
        "from sklearn.ensemble import RandomForestClassifier\n",
        "from sklearn.metrics import accuracy_score\n",
        "import technical_indicators as ta\n",
        "import random_forest as rf\n",
        "import confusionMatrix as cm\n",
        "import easy_line_ploting as linplt"
      ],
      "execution_count": 754,
      "outputs": []
    },
    {
      "cell_type": "code",
      "metadata": {
        "id": "cRV1QWowNCU3"
      },
      "source": [
        "import warnings\n",
        "warnings.simplefilter(action='ignore', category=Warning)\n",
        "import pandas as pd"
      ],
      "execution_count": 755,
      "outputs": []
    },
    {
      "cell_type": "code",
      "metadata": {
        "id": "66BOgrZPNFPH"
      },
      "source": [
        "import numpy as np\n",
        "import matplotlib.pyplot as plt\n",
        "import seaborn as sns\n",
        "from scipy.stats import pearsonr\n",
        "import datetime"
      ],
      "execution_count": 756,
      "outputs": []
    },
    {
      "cell_type": "code",
      "metadata": {
        "id": "2tn8oaMVSurW",
        "cellView": "form"
      },
      "source": [
        "#@title Default title text\n",
        "def moving_average(df, n):\n",
        "    \"\"\"Calculate the moving average for the given data.\n",
        "    \n",
        "    :param df: pandas.DataFrame\n",
        "    :param n: \n",
        "    :return: pandas.DataFrame\n",
        "    \"\"\"\n",
        "    MA = pd.Series(df['Close'].rolling(n, min_periods=n).mean(), name='MA_' + str(n))\n",
        "    df = df.join(MA)\n",
        "    return df\n",
        "\n",
        "\n",
        "def exponential_moving_average(df, n):\n",
        "    \"\"\"\n",
        "    \n",
        "    :param df: pandas.DataFrame\n",
        "    :param n: \n",
        "    :return: pandas.DataFrame\n",
        "    \"\"\"\n",
        "    EMA = pd.Series(df['Close'].ewm(span=n, min_periods=n).mean(), name='EMA_' + str(n))\n",
        "    df = df.join(EMA)\n",
        "    return df\n",
        "\n",
        "\n",
        "def momentum(df, n):\n",
        "    \"\"\"\n",
        "    \n",
        "    :param df: pandas.DataFrame \n",
        "    :param n: \n",
        "    :return: pandas.DataFrame\n",
        "    \"\"\"\n",
        "    M = pd.Series(df['Close'].diff(n), name='Momentum_' + str(n))\n",
        "    df = df.join(M)\n",
        "    return df\n",
        "\n",
        "\n",
        "def rate_of_change(df, n):\n",
        "    \"\"\"\n",
        "    \n",
        "    :param df: pandas.DataFrame\n",
        "    :param n: \n",
        "    :return: pandas.DataFrame\n",
        "    \"\"\"\n",
        "    M = df['Close'].diff(n - 1)\n",
        "    N = df['Close'].shift(n - 1)\n",
        "    ROC = pd.Series(M / N, name='ROC_' + str(n))\n",
        "    df = df.join(ROC)\n",
        "    return df\n",
        "\n",
        "def bollinger_bands(df, n):\n",
        "    \"\"\"\n",
        "    \n",
        "    :param df: pandas.DataFrame\n",
        "    :param n: \n",
        "    :return: pandas.DataFrame\n",
        "    \"\"\"\n",
        "    MA = pd.Series(df['Close'].rolling(n, min_periods=n).mean())\n",
        "    MSD = pd.Series(df['Close'].rolling(n, min_periods=n).std())\n",
        "    b1 = 4 * MSD / MA\n",
        "    B1 = pd.Series(b1, name='BollingerB_' + str(n))\n",
        "    df = df.join(B1)\n",
        "    b2 = (df['Close'] - MA + 2 * MSD) / (4 * MSD)\n",
        "    B2 = pd.Series(b2, name='Bollinger%b_' + str(n))\n",
        "    df = df.join(B2)\n",
        "    return df\n",
        "def stochastic_oscillator_k(df):\n",
        "    \"\"\"Calculate stochastic oscillator %K for given data.\n",
        "    \n",
        "    :param df: pandas.DataFrame\n",
        "    :return: pandas.DataFrame\n",
        "    \"\"\"\n",
        "    SOk = pd.Series((df['Close'] - df['Low']) / (df['High'] - df['Low']), name='SO%k')\n",
        "    df = df.join(SOk)\n",
        "    return df\n",
        "\n",
        "\n",
        "def stochastic_oscillator_d(df, n):\n",
        "    \"\"\"Calculate stochastic oscillator %D for given data.\n",
        "    :param df: pandas.DataFrame\n",
        "    :param n: \n",
        "    :return: pandas.DataFrame\n",
        "    \"\"\"\n",
        "    SOk = pd.Series((df['Close'] - df['Low']) / (df['High'] - df['Low']), name='SO%k')\n",
        "    SOd = pd.Series(SOk.ewm(span=n, min_periods=n).mean(), name='SO%d_' + str(n))\n",
        "    df = df.join(SOd)\n",
        "    return df\n",
        "def macd(df, n_fast, n_slow):\n",
        "    \"\"\"Calculate MACD, MACD Signal and MACD difference\n",
        "    \n",
        "    :param df: pandas.DataFrame\n",
        "    :param n_fast: \n",
        "    :param n_slow: \n",
        "    :return: pandas.DataFrame\n",
        "    \"\"\"\n",
        "    EMAfast = pd.Series(df['Close'].ewm(span=n_fast, min_periods=n_slow).mean())\n",
        "    EMAslow = pd.Series(df['Close'].ewm(span=n_slow, min_periods=n_slow).mean())\n",
        "    MACD = pd.Series(EMAfast - EMAslow, name='MACD_' + str(n_fast) + '_' + str(n_slow))\n",
        "    MACDsign = pd.Series(MACD.ewm(span=9, min_periods=9).mean(), name='MACDsign_' + str(n_fast) + '_' + str(n_slow))\n",
        "    MACDdiff = pd.Series(MACD - MACDsign, name='MACDdiff_' + str(n_fast) + '_' + str(n_slow))\n",
        "    df = df.join(MACD)\n",
        "    df = df.join(MACDsign)\n",
        "    df = df.join(MACDdiff)\n",
        "    return df\n",
        "def vortex_indicator(df, n,name='data_0'):\n",
        "    \"\"\"Calculate the Vortex Indicator for given data.\n",
        "    \n",
        "    Vortex Indicator described here:\n",
        "        http://www.vortexindicator.com/VFX_VORTEX.PDF\n",
        "    :param df: pandas.DataFrame\n",
        "    :param n: \n",
        "    :return: pandas.DataFrame\n",
        "    \"\"\"\n",
        "    i = 0\n",
        "    TR = [0]\n",
        "    df.reset_index(inplace=True)\n",
        "    while i < df.index[-1]:\n",
        "        Range = max(df.iloc[i + 1, 2], df.iloc[i, 4]) - min(df.iloc[i + 1, 3], df.iloc[i, 4])\n",
        "        TR.append(Range)\n",
        "        i = i + 1\n",
        "    i = 0\n",
        "    VM = [0]\n",
        "    while i < df.index[-1]:\n",
        "        Range = abs(df.iloc[i + 1, 2] - df.iloc[i, 3]) - abs(df.iloc[i + 1, 3] - df.iloc[i, 2])\n",
        "        VM.append(Range)\n",
        "        i = i + 1\n",
        "    VI = pd.Series(pd.Series(VM).rolling(n).sum() / pd.Series(TR).rolling(n).sum(), name='Vortex_'+name+ str(n))\n",
        "    df = df.join(VI)\n",
        "    df=df.set_index(\"date\") \t\n",
        "    return df\n",
        "def relative_strength_index(df, n):\n",
        "    \"\"\"Calculate Relative Strength Index(RSI) for given data.\n",
        "    \n",
        "    :param df: pandas.DataFrame\n",
        "    :param n: \n",
        "    :return: pandas.DataFrame\n",
        "    \"\"\"\n",
        "    i = 0\n",
        "    UpI = [0]\n",
        "    DoI = [0]\n",
        "    df.reset_index(inplace=True)\t\n",
        "    while i + 1 <= df.index[-1]:\n",
        "        UpMove = df.loc[i + 1, 'High'] - df.loc[i, 'High']\n",
        "        DoMove = df.loc[i, 'Low'] - df.loc[i + 1, 'Low']\n",
        "        if UpMove > DoMove and UpMove > 0:\n",
        "            UpD = UpMove\n",
        "        else:\n",
        "            UpD = 0\n",
        "        UpI.append(UpD)\n",
        "        if DoMove > UpMove and DoMove > 0:\n",
        "            DoD = DoMove\n",
        "        else:\n",
        "            DoD = 0\n",
        "        DoI.append(DoD)\n",
        "        i = i + 1\n",
        "    UpI = pd.Series(UpI)\n",
        "    DoI = pd.Series(DoI)\n",
        "    PosDI = pd.Series(UpI.ewm(span=n, min_periods=n).mean())\n",
        "    NegDI = pd.Series(DoI.ewm(span=n, min_periods=n).mean())\n",
        "    RSI = pd.Series(PosDI / (PosDI + NegDI), name='RSI_' + str(n))\n",
        "    df = df.join(RSI)\n",
        "    df= df.set_index('Date')\t\n",
        "    return df                "
      ],
      "execution_count": 757,
      "outputs": []
    },
    {
      "cell_type": "code",
      "metadata": {
        "id": "4C19I32INKSh"
      },
      "source": [
        "data_p = pd.read_csv('/content/MCX_COPPER1!, 1D.csv')"
      ],
      "execution_count": 758,
      "outputs": []
    },
    {
      "cell_type": "code",
      "metadata": {
        "id": "sg6pGI0dNNkG"
      },
      "source": [
        "\n",
        "data_p['date']=data_p.time.apply(lambda d: datetime.datetime.fromtimestamp(int(d)).strftime('%d-%m-%Y'))\n"
      ],
      "execution_count": 759,
      "outputs": []
    },
    {
      "cell_type": "code",
      "metadata": {
        "colab": {
          "base_uri": "https://localhost:8080/"
        },
        "id": "XIyu1XhvNUp1",
        "outputId": "5e69891c-ae51-4e52-f3f6-b0ee7c4da72e"
      },
      "source": [
        "data_p.shape"
      ],
      "execution_count": 760,
      "outputs": [
        {
          "output_type": "execute_result",
          "data": {
            "text/plain": [
              "(1606, 20)"
            ]
          },
          "metadata": {
            "tags": []
          },
          "execution_count": 760
        }
      ]
    },
    {
      "cell_type": "code",
      "metadata": {
        "id": "CnJWti9ANUnR"
      },
      "source": [
        "\n",
        "del data_p['time']\n",
        "del data_p['Volume']\n",
        "del data_p['Volume MA']"
      ],
      "execution_count": 761,
      "outputs": []
    },
    {
      "cell_type": "code",
      "metadata": {
        "id": "2R37fKHku1wa"
      },
      "source": [
        "data=data_p[:1000]\n",
        "real=data_p[1000:]"
      ],
      "execution_count": 762,
      "outputs": []
    },
    {
      "cell_type": "code",
      "metadata": {
        "colab": {
          "base_uri": "https://localhost:8080/",
          "height": 247
        },
        "id": "nemQuZ0H31L9",
        "outputId": "e6e28f86-ed27-4869-c8bd-19a6d87207f6"
      },
      "source": [
        "data.tail(2)"
      ],
      "execution_count": 763,
      "outputs": [
        {
          "output_type": "execute_result",
          "data": {
            "text/html": [
              "<div>\n",
              "<style scoped>\n",
              "    .dataframe tbody tr th:only-of-type {\n",
              "        vertical-align: middle;\n",
              "    }\n",
              "\n",
              "    .dataframe tbody tr th {\n",
              "        vertical-align: top;\n",
              "    }\n",
              "\n",
              "    .dataframe thead th {\n",
              "        text-align: right;\n",
              "    }\n",
              "</style>\n",
              "<table border=\"1\" class=\"dataframe\">\n",
              "  <thead>\n",
              "    <tr style=\"text-align: right;\">\n",
              "      <th></th>\n",
              "      <th>open</th>\n",
              "      <th>high</th>\n",
              "      <th>low</th>\n",
              "      <th>close</th>\n",
              "      <th>NIFTY, NSE: Open</th>\n",
              "      <th>NIFTY, NSE: High</th>\n",
              "      <th>NIFTY, NSE: Low</th>\n",
              "      <th>NIFTY, NSE: Close</th>\n",
              "      <th>INDIAVIX, NSE: Open</th>\n",
              "      <th>INDIAVIX, NSE: High</th>\n",
              "      <th>INDIAVIX, NSE: Low</th>\n",
              "      <th>INDIAVIX, NSE: Close</th>\n",
              "      <th>GLD, CBOE BZX: Open</th>\n",
              "      <th>GLD, CBOE BZX: High</th>\n",
              "      <th>GLD, CBOE BZX: Low</th>\n",
              "      <th>GLD, CBOE BZX: Close</th>\n",
              "      <th>date</th>\n",
              "    </tr>\n",
              "  </thead>\n",
              "  <tbody>\n",
              "    <tr>\n",
              "      <th>998</th>\n",
              "      <td>452.20</td>\n",
              "      <td>452.7</td>\n",
              "      <td>443.8</td>\n",
              "      <td>445.15</td>\n",
              "      <td>11382.50</td>\n",
              "      <td>11383.45</td>\n",
              "      <td>11313.75</td>\n",
              "      <td>11343.25</td>\n",
              "      <td>15.2775</td>\n",
              "      <td>15.5225</td>\n",
              "      <td>13.7625</td>\n",
              "      <td>15.150</td>\n",
              "      <td>122.33</td>\n",
              "      <td>122.545</td>\n",
              "      <td>122.1200</td>\n",
              "      <td>122.41</td>\n",
              "      <td>14-03-2019</td>\n",
              "    </tr>\n",
              "    <tr>\n",
              "      <th>999</th>\n",
              "      <td>446.45</td>\n",
              "      <td>449.0</td>\n",
              "      <td>443.5</td>\n",
              "      <td>445.55</td>\n",
              "      <td>11376.85</td>\n",
              "      <td>11487.00</td>\n",
              "      <td>11370.80</td>\n",
              "      <td>11426.85</td>\n",
              "      <td>15.1500</td>\n",
              "      <td>16.3925</td>\n",
              "      <td>11.8450</td>\n",
              "      <td>15.865</td>\n",
              "      <td>123.06</td>\n",
              "      <td>123.400</td>\n",
              "      <td>122.9132</td>\n",
              "      <td>122.97</td>\n",
              "      <td>15-03-2019</td>\n",
              "    </tr>\n",
              "  </tbody>\n",
              "</table>\n",
              "</div>"
            ],
            "text/plain": [
              "       open   high    low  ...  GLD, CBOE BZX: Low  GLD, CBOE BZX: Close        date\n",
              "998  452.20  452.7  443.8  ...            122.1200                122.41  14-03-2019\n",
              "999  446.45  449.0  443.5  ...            122.9132                122.97  15-03-2019\n",
              "\n",
              "[2 rows x 17 columns]"
            ]
          },
          "metadata": {
            "tags": []
          },
          "execution_count": 763
        }
      ]
    },
    {
      "cell_type": "code",
      "metadata": {
        "id": "r7n8uCEn4uBR"
      },
      "source": [
        ""
      ],
      "execution_count": 763,
      "outputs": []
    },
    {
      "cell_type": "code",
      "metadata": {
        "colab": {
          "base_uri": "https://localhost:8080/",
          "height": 247
        },
        "id": "_wZ9g7pn325K",
        "outputId": "514cf104-6c95-4492-d279-1a5102bf481d"
      },
      "source": [
        "real.tail(2)"
      ],
      "execution_count": 764,
      "outputs": [
        {
          "output_type": "execute_result",
          "data": {
            "text/html": [
              "<div>\n",
              "<style scoped>\n",
              "    .dataframe tbody tr th:only-of-type {\n",
              "        vertical-align: middle;\n",
              "    }\n",
              "\n",
              "    .dataframe tbody tr th {\n",
              "        vertical-align: top;\n",
              "    }\n",
              "\n",
              "    .dataframe thead th {\n",
              "        text-align: right;\n",
              "    }\n",
              "</style>\n",
              "<table border=\"1\" class=\"dataframe\">\n",
              "  <thead>\n",
              "    <tr style=\"text-align: right;\">\n",
              "      <th></th>\n",
              "      <th>open</th>\n",
              "      <th>high</th>\n",
              "      <th>low</th>\n",
              "      <th>close</th>\n",
              "      <th>NIFTY, NSE: Open</th>\n",
              "      <th>NIFTY, NSE: High</th>\n",
              "      <th>NIFTY, NSE: Low</th>\n",
              "      <th>NIFTY, NSE: Close</th>\n",
              "      <th>INDIAVIX, NSE: Open</th>\n",
              "      <th>INDIAVIX, NSE: High</th>\n",
              "      <th>INDIAVIX, NSE: Low</th>\n",
              "      <th>INDIAVIX, NSE: Close</th>\n",
              "      <th>GLD, CBOE BZX: Open</th>\n",
              "      <th>GLD, CBOE BZX: High</th>\n",
              "      <th>GLD, CBOE BZX: Low</th>\n",
              "      <th>GLD, CBOE BZX: Close</th>\n",
              "      <th>date</th>\n",
              "    </tr>\n",
              "  </thead>\n",
              "  <tbody>\n",
              "    <tr>\n",
              "      <th>1604</th>\n",
              "      <td>729.0</td>\n",
              "      <td>737.25</td>\n",
              "      <td>725.20</td>\n",
              "      <td>734.2</td>\n",
              "      <td>16274.8</td>\n",
              "      <td>16359.25</td>\n",
              "      <td>16202.25</td>\n",
              "      <td>16280.10</td>\n",
              "      <td>12.605</td>\n",
              "      <td>13.0675</td>\n",
              "      <td>9.9825</td>\n",
              "      <td>12.7050</td>\n",
              "      <td>161.39</td>\n",
              "      <td>162.11</td>\n",
              "      <td>160.68</td>\n",
              "      <td>161.77</td>\n",
              "      <td>10-08-2021</td>\n",
              "    </tr>\n",
              "    <tr>\n",
              "      <th>1605</th>\n",
              "      <td>732.3</td>\n",
              "      <td>736.00</td>\n",
              "      <td>728.75</td>\n",
              "      <td>735.3</td>\n",
              "      <td>16327.3</td>\n",
              "      <td>16338.75</td>\n",
              "      <td>16162.55</td>\n",
              "      <td>16282.25</td>\n",
              "      <td>12.705</td>\n",
              "      <td>13.3275</td>\n",
              "      <td>10.4725</td>\n",
              "      <td>12.7125</td>\n",
              "      <td>163.15</td>\n",
              "      <td>164.17</td>\n",
              "      <td>162.68</td>\n",
              "      <td>164.00</td>\n",
              "      <td>11-08-2021</td>\n",
              "    </tr>\n",
              "  </tbody>\n",
              "</table>\n",
              "</div>"
            ],
            "text/plain": [
              "       open    high  ...  GLD, CBOE BZX: Close        date\n",
              "1604  729.0  737.25  ...                161.77  10-08-2021\n",
              "1605  732.3  736.00  ...                164.00  11-08-2021\n",
              "\n",
              "[2 rows x 17 columns]"
            ]
          },
          "metadata": {
            "tags": []
          },
          "execution_count": 764
        }
      ]
    },
    {
      "cell_type": "code",
      "metadata": {
        "id": "QD28Ha-JNUhL"
      },
      "source": [
        "data= data.set_index('date')\n",
        "#real.rename(columns={'date':'Date'},inplace=True)\n",
        "real=real.set_index('date')"
      ],
      "execution_count": 765,
      "outputs": []
    },
    {
      "cell_type": "code",
      "metadata": {
        "id": "3OcRF4HeNUVV"
      },
      "source": [
        "data_0=data.iloc[:,0:4]\n",
        "\n",
        "data_1=data.iloc[:,4:8]\n",
        "data_2=data.iloc[:,8:12]\n",
        "data_3=data.iloc[:,12:16]\n",
        "\n",
        "\n",
        "\n",
        "    "
      ],
      "execution_count": 766,
      "outputs": []
    },
    {
      "cell_type": "code",
      "metadata": {
        "colab": {
          "base_uri": "https://localhost:8080/",
          "height": 446
        },
        "id": "t4m6rl2ycNGK",
        "outputId": "58e82afa-2cdf-4d88-dfec-181b72f78264"
      },
      "source": [
        "data_1"
      ],
      "execution_count": 767,
      "outputs": [
        {
          "output_type": "execute_result",
          "data": {
            "text/html": [
              "<div>\n",
              "<style scoped>\n",
              "    .dataframe tbody tr th:only-of-type {\n",
              "        vertical-align: middle;\n",
              "    }\n",
              "\n",
              "    .dataframe tbody tr th {\n",
              "        vertical-align: top;\n",
              "    }\n",
              "\n",
              "    .dataframe thead th {\n",
              "        text-align: right;\n",
              "    }\n",
              "</style>\n",
              "<table border=\"1\" class=\"dataframe\">\n",
              "  <thead>\n",
              "    <tr style=\"text-align: right;\">\n",
              "      <th></th>\n",
              "      <th>NIFTY, NSE: Open</th>\n",
              "      <th>NIFTY, NSE: High</th>\n",
              "      <th>NIFTY, NSE: Low</th>\n",
              "      <th>NIFTY, NSE: Close</th>\n",
              "    </tr>\n",
              "    <tr>\n",
              "      <th>date</th>\n",
              "      <th></th>\n",
              "      <th></th>\n",
              "      <th></th>\n",
              "      <th></th>\n",
              "    </tr>\n",
              "  </thead>\n",
              "  <tbody>\n",
              "    <tr>\n",
              "      <th>02-03-2015</th>\n",
              "      <td>8953.8496</td>\n",
              "      <td>8972.3496</td>\n",
              "      <td>8885.4502</td>\n",
              "      <td>8956.7500</td>\n",
              "    </tr>\n",
              "    <tr>\n",
              "      <th>03-03-2015</th>\n",
              "      <td>8962.8496</td>\n",
              "      <td>9008.4004</td>\n",
              "      <td>8925.5498</td>\n",
              "      <td>8996.2500</td>\n",
              "    </tr>\n",
              "    <tr>\n",
              "      <th>04-03-2015</th>\n",
              "      <td>9109.1504</td>\n",
              "      <td>9119.2002</td>\n",
              "      <td>8893.9502</td>\n",
              "      <td>8922.6504</td>\n",
              "    </tr>\n",
              "    <tr>\n",
              "      <th>05-03-2015</th>\n",
              "      <td>8929.4004</td>\n",
              "      <td>8957.5498</td>\n",
              "      <td>8849.3496</td>\n",
              "      <td>8937.7500</td>\n",
              "    </tr>\n",
              "    <tr>\n",
              "      <th>09-03-2015</th>\n",
              "      <td>8891.1504</td>\n",
              "      <td>8891.2998</td>\n",
              "      <td>8740.4502</td>\n",
              "      <td>8756.7500</td>\n",
              "    </tr>\n",
              "    <tr>\n",
              "      <th>...</th>\n",
              "      <td>...</td>\n",
              "      <td>...</td>\n",
              "      <td>...</td>\n",
              "      <td>...</td>\n",
              "    </tr>\n",
              "    <tr>\n",
              "      <th>11-03-2019</th>\n",
              "      <td>11068.7500</td>\n",
              "      <td>11180.9000</td>\n",
              "      <td>11059.8500</td>\n",
              "      <td>11168.0500</td>\n",
              "    </tr>\n",
              "    <tr>\n",
              "      <th>12-03-2019</th>\n",
              "      <td>11231.3500</td>\n",
              "      <td>11320.4000</td>\n",
              "      <td>11227.0000</td>\n",
              "      <td>11301.2000</td>\n",
              "    </tr>\n",
              "    <tr>\n",
              "      <th>13-03-2019</th>\n",
              "      <td>11326.2000</td>\n",
              "      <td>11352.3000</td>\n",
              "      <td>11276.6000</td>\n",
              "      <td>11341.7000</td>\n",
              "    </tr>\n",
              "    <tr>\n",
              "      <th>14-03-2019</th>\n",
              "      <td>11382.5000</td>\n",
              "      <td>11383.4500</td>\n",
              "      <td>11313.7500</td>\n",
              "      <td>11343.2500</td>\n",
              "    </tr>\n",
              "    <tr>\n",
              "      <th>15-03-2019</th>\n",
              "      <td>11376.8500</td>\n",
              "      <td>11487.0000</td>\n",
              "      <td>11370.8000</td>\n",
              "      <td>11426.8500</td>\n",
              "    </tr>\n",
              "  </tbody>\n",
              "</table>\n",
              "<p>1000 rows × 4 columns</p>\n",
              "</div>"
            ],
            "text/plain": [
              "            NIFTY, NSE: Open  ...  NIFTY, NSE: Close\n",
              "date                          ...                   \n",
              "02-03-2015         8953.8496  ...          8956.7500\n",
              "03-03-2015         8962.8496  ...          8996.2500\n",
              "04-03-2015         9109.1504  ...          8922.6504\n",
              "05-03-2015         8929.4004  ...          8937.7500\n",
              "09-03-2015         8891.1504  ...          8756.7500\n",
              "...                      ...  ...                ...\n",
              "11-03-2019        11068.7500  ...         11168.0500\n",
              "12-03-2019        11231.3500  ...         11301.2000\n",
              "13-03-2019        11326.2000  ...         11341.7000\n",
              "14-03-2019        11382.5000  ...         11343.2500\n",
              "15-03-2019        11376.8500  ...         11426.8500\n",
              "\n",
              "[1000 rows x 4 columns]"
            ]
          },
          "metadata": {
            "tags": []
          },
          "execution_count": 767
        }
      ]
    },
    {
      "cell_type": "markdown",
      "metadata": {
        "id": "AGSf0UpqQxZk"
      },
      "source": [
        "# Input"
      ]
    },
    {
      "cell_type": "code",
      "metadata": {
        "id": "o_pZAG8kNUMF"
      },
      "source": [
        "# INPUT .........\n",
        "\n",
        "#  ********************************* #\n",
        "\n",
        "t=2\n",
        "days_out=24\n",
        "\n",
        "\n",
        "#  ********************************* #"
      ],
      "execution_count": 768,
      "outputs": []
    },
    {
      "cell_type": "code",
      "metadata": {
        "id": "jbBJ6-pCN5sV"
      },
      "source": [
        "def get_indicators(data_0,data_1,data_2,data_3,days_out,t=1,type='Cu'):\n",
        "\n",
        "    data_0 = vortex_indicator(data_0.iloc[:,0:4] , days_out,name='data_0_')\n",
        "    data_1 = vortex_indicator(data_1.iloc[:,0:4] , days_out,name='data_1_')\n",
        "    data_2 = vortex_indicator(data_2.iloc[:,0:4] , days_out,name='data_2_')\n",
        "    data_3 = vortex_indicator(data_3.iloc[:,0:4] , days_out,name='data_3_')\n",
        "    data_f=pd.concat([data_0,data_1,data_2,data_3],axis=1)\n",
        "    \n",
        "    return data_f"
      ],
      "execution_count": 769,
      "outputs": []
    },
    {
      "cell_type": "code",
      "metadata": {
        "id": "ex0SW13fQ7sZ"
      },
      "source": [
        "train_0=int(len(data_0)*.75)\n",
        "df_train_0= data_0[:train_0]\n",
        "df_test_0= data_0[train_0+50:]\n",
        "train_1=int(len(data_1)*.75)\n",
        "df_train_1= data_1[:train_1]\n",
        "df_test_1= data_1[train_1+50:]\n",
        "train_2=int(len(data_2)*.75)\n",
        "df_train_2= data_2[:train_2]\n",
        "df_test_2= data_2[train_2+50:]\n",
        "train_3=int(len(data_3)*.75)\n",
        "df_train_3= data_3[:train_3]\n",
        "df_test_3= data_3[train_3+50:]"
      ],
      "execution_count": 770,
      "outputs": []
    },
    {
      "cell_type": "code",
      "metadata": {
        "id": "RT1ZN3V7RUfX"
      },
      "source": [
        "df_train = get_indicators(df_train_0,df_train_1,df_train_2,df_train_3,days_out,1)\n",
        "df_test= get_indicators(df_test_0,df_test_1,df_test_2,df_test_3,days_out,1)"
      ],
      "execution_count": 771,
      "outputs": []
    },
    {
      "cell_type": "code",
      "metadata": {
        "colab": {
          "base_uri": "https://localhost:8080/"
        },
        "id": "CONQO1N1Q-M6",
        "outputId": "5d5d6b71-cb1f-46a8-ca73-6ca702660e18"
      },
      "source": [
        "df_train.shape , df_test.shape"
      ],
      "execution_count": 772,
      "outputs": [
        {
          "output_type": "execute_result",
          "data": {
            "text/plain": [
              "((750, 20), (200, 20))"
            ]
          },
          "metadata": {
            "tags": []
          },
          "execution_count": 772
        }
      ]
    },
    {
      "cell_type": "code",
      "metadata": {
        "colab": {
          "base_uri": "https://localhost:8080/",
          "height": 470
        },
        "id": "2Zxwb7lZW9uu",
        "outputId": "7a3a0980-9fdb-4e04-ea29-851221933e56"
      },
      "source": [
        "df_train.tail(5)"
      ],
      "execution_count": 773,
      "outputs": [
        {
          "output_type": "execute_result",
          "data": {
            "text/html": [
              "<div>\n",
              "<style scoped>\n",
              "    .dataframe tbody tr th:only-of-type {\n",
              "        vertical-align: middle;\n",
              "    }\n",
              "\n",
              "    .dataframe tbody tr th {\n",
              "        vertical-align: top;\n",
              "    }\n",
              "\n",
              "    .dataframe thead th {\n",
              "        text-align: right;\n",
              "    }\n",
              "</style>\n",
              "<table border=\"1\" class=\"dataframe\">\n",
              "  <thead>\n",
              "    <tr style=\"text-align: right;\">\n",
              "      <th></th>\n",
              "      <th>open</th>\n",
              "      <th>high</th>\n",
              "      <th>low</th>\n",
              "      <th>close</th>\n",
              "      <th>Vortex_data_0_24</th>\n",
              "      <th>NIFTY, NSE: Open</th>\n",
              "      <th>NIFTY, NSE: High</th>\n",
              "      <th>NIFTY, NSE: Low</th>\n",
              "      <th>NIFTY, NSE: Close</th>\n",
              "      <th>Vortex_data_1_24</th>\n",
              "      <th>INDIAVIX, NSE: Open</th>\n",
              "      <th>INDIAVIX, NSE: High</th>\n",
              "      <th>INDIAVIX, NSE: Low</th>\n",
              "      <th>INDIAVIX, NSE: Close</th>\n",
              "      <th>Vortex_data_2_24</th>\n",
              "      <th>GLD, CBOE BZX: Open</th>\n",
              "      <th>GLD, CBOE BZX: High</th>\n",
              "      <th>GLD, CBOE BZX: Low</th>\n",
              "      <th>GLD, CBOE BZX: Close</th>\n",
              "      <th>Vortex_data_3_24</th>\n",
              "    </tr>\n",
              "    <tr>\n",
              "      <th>date</th>\n",
              "      <th></th>\n",
              "      <th></th>\n",
              "      <th></th>\n",
              "      <th></th>\n",
              "      <th></th>\n",
              "      <th></th>\n",
              "      <th></th>\n",
              "      <th></th>\n",
              "      <th></th>\n",
              "      <th></th>\n",
              "      <th></th>\n",
              "      <th></th>\n",
              "      <th></th>\n",
              "      <th></th>\n",
              "      <th></th>\n",
              "      <th></th>\n",
              "      <th></th>\n",
              "      <th></th>\n",
              "      <th></th>\n",
              "      <th></th>\n",
              "    </tr>\n",
              "  </thead>\n",
              "  <tbody>\n",
              "    <tr>\n",
              "      <th>07-03-2018</th>\n",
              "      <td>454.30</td>\n",
              "      <td>455.00</td>\n",
              "      <td>449.80</td>\n",
              "      <td>452.05</td>\n",
              "      <td>-0.015482</td>\n",
              "      <td>10232.95</td>\n",
              "      <td>10243.35</td>\n",
              "      <td>10141.55</td>\n",
              "      <td>10154.20</td>\n",
              "      <td>-0.482785</td>\n",
              "      <td>16.245001</td>\n",
              "      <td>16.459999</td>\n",
              "      <td>13.4475</td>\n",
              "      <td>15.7000</td>\n",
              "      <td>-0.056350</td>\n",
              "      <td>126.22</td>\n",
              "      <td>126.29</td>\n",
              "      <td>125.420</td>\n",
              "      <td>125.72</td>\n",
              "      <td>NaN</td>\n",
              "    </tr>\n",
              "    <tr>\n",
              "      <th>08-03-2018</th>\n",
              "      <td>452.00</td>\n",
              "      <td>452.35</td>\n",
              "      <td>444.20</td>\n",
              "      <td>445.30</td>\n",
              "      <td>-0.099794</td>\n",
              "      <td>10216.25</td>\n",
              "      <td>10270.35</td>\n",
              "      <td>10146.40</td>\n",
              "      <td>10242.65</td>\n",
              "      <td>-0.435358</td>\n",
              "      <td>15.700000</td>\n",
              "      <td>15.700000</td>\n",
              "      <td>12.4850</td>\n",
              "      <td>14.5850</td>\n",
              "      <td>-0.032924</td>\n",
              "      <td>125.69</td>\n",
              "      <td>125.70</td>\n",
              "      <td>125.125</td>\n",
              "      <td>125.42</td>\n",
              "      <td>NaN</td>\n",
              "    </tr>\n",
              "    <tr>\n",
              "      <th>09-03-2018</th>\n",
              "      <td>444.70</td>\n",
              "      <td>454.00</td>\n",
              "      <td>442.45</td>\n",
              "      <td>452.30</td>\n",
              "      <td>-0.096790</td>\n",
              "      <td>10271.30</td>\n",
              "      <td>10296.70</td>\n",
              "      <td>10211.90</td>\n",
              "      <td>10226.85</td>\n",
              "      <td>-0.416034</td>\n",
              "      <td>14.585000</td>\n",
              "      <td>14.762500</td>\n",
              "      <td>12.9050</td>\n",
              "      <td>14.5250</td>\n",
              "      <td>-0.039860</td>\n",
              "      <td>124.94</td>\n",
              "      <td>125.69</td>\n",
              "      <td>124.780</td>\n",
              "      <td>125.54</td>\n",
              "      <td>NaN</td>\n",
              "    </tr>\n",
              "    <tr>\n",
              "      <th>12-03-2018</th>\n",
              "      <td>452.65</td>\n",
              "      <td>453.35</td>\n",
              "      <td>448.50</td>\n",
              "      <td>450.25</td>\n",
              "      <td>-0.101007</td>\n",
              "      <td>10301.60</td>\n",
              "      <td>10433.65</td>\n",
              "      <td>10295.45</td>\n",
              "      <td>10421.40</td>\n",
              "      <td>-0.269229</td>\n",
              "      <td>14.525000</td>\n",
              "      <td>14.662500</td>\n",
              "      <td>12.0100</td>\n",
              "      <td>14.4925</td>\n",
              "      <td>-0.004250</td>\n",
              "      <td>125.04</td>\n",
              "      <td>125.57</td>\n",
              "      <td>124.840</td>\n",
              "      <td>125.54</td>\n",
              "      <td>NaN</td>\n",
              "    </tr>\n",
              "    <tr>\n",
              "      <th>13-03-2018</th>\n",
              "      <td>449.85</td>\n",
              "      <td>451.80</td>\n",
              "      <td>447.65</td>\n",
              "      <td>450.95</td>\n",
              "      <td>-0.133191</td>\n",
              "      <td>10389.50</td>\n",
              "      <td>10478.60</td>\n",
              "      <td>10377.85</td>\n",
              "      <td>10426.85</td>\n",
              "      <td>-0.135042</td>\n",
              "      <td>14.492500</td>\n",
              "      <td>14.620000</td>\n",
              "      <td>12.3875</td>\n",
              "      <td>14.4625</td>\n",
              "      <td>-0.087666</td>\n",
              "      <td>125.67</td>\n",
              "      <td>125.99</td>\n",
              "      <td>125.050</td>\n",
              "      <td>125.78</td>\n",
              "      <td>NaN</td>\n",
              "    </tr>\n",
              "  </tbody>\n",
              "</table>\n",
              "</div>"
            ],
            "text/plain": [
              "              open    high  ...  GLD, CBOE BZX: Close  Vortex_data_3_24\n",
              "date                        ...                                        \n",
              "07-03-2018  454.30  455.00  ...                125.72               NaN\n",
              "08-03-2018  452.00  452.35  ...                125.42               NaN\n",
              "09-03-2018  444.70  454.00  ...                125.54               NaN\n",
              "12-03-2018  452.65  453.35  ...                125.54               NaN\n",
              "13-03-2018  449.85  451.80  ...                125.78               NaN\n",
              "\n",
              "[5 rows x 20 columns]"
            ]
          },
          "metadata": {
            "tags": []
          },
          "execution_count": 773
        }
      ]
    },
    {
      "cell_type": "code",
      "metadata": {
        "id": "GFW49JT-XAPu"
      },
      "source": [
        "# create a new column that will house the flag, and for each group calculate the diff compared to 30 days ago. Then use Numpy to define the sign.\n",
        "df_train['Signal_Flag'] = df_train['NIFTY, NSE: Close'].transform(lambda x : np.sign(x.diff(days_out)))\n",
        "\n",
        "df_train = df_train.dropna()"
      ],
      "execution_count": 774,
      "outputs": []
    },
    {
      "cell_type": "code",
      "metadata": {
        "id": "8m7ojE36s_eg"
      },
      "source": [
        "# create a new column that will house the flag, and for each group calculate the diff compared to 30 days ago. Then use Numpy to define the sign.\n",
        "df_test['Signal_Flag'] = df_test['NIFTY, NSE: Close'].transform(lambda x : np.sign(x.diff(days_out)))\n",
        "\n",
        "df_test = df_test.dropna()"
      ],
      "execution_count": 775,
      "outputs": []
    },
    {
      "cell_type": "code",
      "metadata": {
        "id": "vlWW-NLvtILs"
      },
      "source": [
        "X_train = df_train.drop(['Signal_Flag'],axis=1)\n",
        "y_train = df_train['Signal_Flag']\n",
        "X_test = df_test.drop(['Signal_Flag'],axis=1)\n",
        "y_test = df_test['Signal_Flag']"
      ],
      "execution_count": 776,
      "outputs": []
    },
    {
      "cell_type": "code",
      "metadata": {
        "id": "dDypwYmztMNz"
      },
      "source": [
        "# Create a Random Forest Classifier\n",
        "rand_frst_clf = RandomForestClassifier(n_estimators = 200,max_depth=80,min_samples_leaf=2,max_features='auto', min_samples_split=2, criterion = \"gini\", bootstrap=True,random_state = 42)\n",
        "# Fit the data to the model\n",
        "rand_frst_clf.fit(X_train, y_train)\n",
        "\n",
        "# Make predictions\n",
        "y_pred = rand_frst_clf.predict(X_test)"
      ],
      "execution_count": 777,
      "outputs": []
    },
    {
      "cell_type": "code",
      "metadata": {
        "colab": {
          "base_uri": "https://localhost:8080/"
        },
        "id": "0Oa8AL74tR25",
        "outputId": "3a9a94c0-3ebf-476c-a654-bdcd4b046cc4"
      },
      "source": [
        "# Print the Accuracy of our Model.\n",
        "print('Correct Prediction RForest (%): ', accuracy_score(y_test, rand_frst_clf.predict(X_test), normalize = True) * 100.0)"
      ],
      "execution_count": 778,
      "outputs": [
        {
          "output_type": "stream",
          "text": [
            "Correct Prediction RForest (%):  97.82608695652173\n"
          ],
          "name": "stdout"
        }
      ]
    },
    {
      "cell_type": "code",
      "metadata": {
        "id": "o9_e7DG0tMIj"
      },
      "source": [
        "feature_imp = pd.Series(rand_frst_clf.feature_importances_, index=X_train.columns).sort_values(ascending=False)\n",
        "feature_imp*100\n",
        "feats=X_train.columns"
      ],
      "execution_count": 779,
      "outputs": []
    },
    {
      "cell_type": "code",
      "metadata": {
        "id": "vPBh_QxotMC0"
      },
      "source": [
        "#feats=['Vortex_data_1_24','Vortex_data_2_24','INDIAVIX, NSE: High','INDIAVIX, NSE: Close']"
      ],
      "execution_count": 780,
      "outputs": []
    },
    {
      "cell_type": "code",
      "metadata": {
        "colab": {
          "base_uri": "https://localhost:8080/",
          "height": 277
        },
        "id": "XacLZv453oe6",
        "outputId": "2fdf70ae-47c2-4c2e-b4a6-636d80270cdd"
      },
      "source": [
        "real.tail(2)"
      ],
      "execution_count": 781,
      "outputs": [
        {
          "output_type": "execute_result",
          "data": {
            "text/html": [
              "<div>\n",
              "<style scoped>\n",
              "    .dataframe tbody tr th:only-of-type {\n",
              "        vertical-align: middle;\n",
              "    }\n",
              "\n",
              "    .dataframe tbody tr th {\n",
              "        vertical-align: top;\n",
              "    }\n",
              "\n",
              "    .dataframe thead th {\n",
              "        text-align: right;\n",
              "    }\n",
              "</style>\n",
              "<table border=\"1\" class=\"dataframe\">\n",
              "  <thead>\n",
              "    <tr style=\"text-align: right;\">\n",
              "      <th></th>\n",
              "      <th>open</th>\n",
              "      <th>high</th>\n",
              "      <th>low</th>\n",
              "      <th>close</th>\n",
              "      <th>NIFTY, NSE: Open</th>\n",
              "      <th>NIFTY, NSE: High</th>\n",
              "      <th>NIFTY, NSE: Low</th>\n",
              "      <th>NIFTY, NSE: Close</th>\n",
              "      <th>INDIAVIX, NSE: Open</th>\n",
              "      <th>INDIAVIX, NSE: High</th>\n",
              "      <th>INDIAVIX, NSE: Low</th>\n",
              "      <th>INDIAVIX, NSE: Close</th>\n",
              "      <th>GLD, CBOE BZX: Open</th>\n",
              "      <th>GLD, CBOE BZX: High</th>\n",
              "      <th>GLD, CBOE BZX: Low</th>\n",
              "      <th>GLD, CBOE BZX: Close</th>\n",
              "    </tr>\n",
              "    <tr>\n",
              "      <th>date</th>\n",
              "      <th></th>\n",
              "      <th></th>\n",
              "      <th></th>\n",
              "      <th></th>\n",
              "      <th></th>\n",
              "      <th></th>\n",
              "      <th></th>\n",
              "      <th></th>\n",
              "      <th></th>\n",
              "      <th></th>\n",
              "      <th></th>\n",
              "      <th></th>\n",
              "      <th></th>\n",
              "      <th></th>\n",
              "      <th></th>\n",
              "      <th></th>\n",
              "    </tr>\n",
              "  </thead>\n",
              "  <tbody>\n",
              "    <tr>\n",
              "      <th>10-08-2021</th>\n",
              "      <td>729.0</td>\n",
              "      <td>737.25</td>\n",
              "      <td>725.20</td>\n",
              "      <td>734.2</td>\n",
              "      <td>16274.8</td>\n",
              "      <td>16359.25</td>\n",
              "      <td>16202.25</td>\n",
              "      <td>16280.10</td>\n",
              "      <td>12.605</td>\n",
              "      <td>13.0675</td>\n",
              "      <td>9.9825</td>\n",
              "      <td>12.7050</td>\n",
              "      <td>161.39</td>\n",
              "      <td>162.11</td>\n",
              "      <td>160.68</td>\n",
              "      <td>161.77</td>\n",
              "    </tr>\n",
              "    <tr>\n",
              "      <th>11-08-2021</th>\n",
              "      <td>732.3</td>\n",
              "      <td>736.00</td>\n",
              "      <td>728.75</td>\n",
              "      <td>735.3</td>\n",
              "      <td>16327.3</td>\n",
              "      <td>16338.75</td>\n",
              "      <td>16162.55</td>\n",
              "      <td>16282.25</td>\n",
              "      <td>12.705</td>\n",
              "      <td>13.3275</td>\n",
              "      <td>10.4725</td>\n",
              "      <td>12.7125</td>\n",
              "      <td>163.15</td>\n",
              "      <td>164.17</td>\n",
              "      <td>162.68</td>\n",
              "      <td>164.00</td>\n",
              "    </tr>\n",
              "  </tbody>\n",
              "</table>\n",
              "</div>"
            ],
            "text/plain": [
              "             open    high  ...  GLD, CBOE BZX: Low  GLD, CBOE BZX: Close\n",
              "date                       ...                                          \n",
              "10-08-2021  729.0  737.25  ...              160.68                161.77\n",
              "11-08-2021  732.3  736.00  ...              162.68                164.00\n",
              "\n",
              "[2 rows x 16 columns]"
            ]
          },
          "metadata": {
            "tags": []
          },
          "execution_count": 781
        }
      ]
    },
    {
      "cell_type": "code",
      "metadata": {
        "id": "MksyerugtMAB"
      },
      "source": [
        "real_0=real.iloc[:,0:4]\n",
        "real_1=real.iloc[:,4:8]\n",
        "real_2=real.iloc[:,8:12]\n",
        "real_3=real.iloc[:,12:16]"
      ],
      "execution_count": 782,
      "outputs": []
    },
    {
      "cell_type": "code",
      "metadata": {
        "id": "bqH9oGCDv1X5"
      },
      "source": [
        "df_real = get_indicators(real_0,real_1,real_2,real_3,days_out,1)"
      ],
      "execution_count": 783,
      "outputs": []
    },
    {
      "cell_type": "code",
      "metadata": {
        "id": "3n6mc1Yd2JEd"
      },
      "source": [
        "price_data_new = df_real.copy()"
      ],
      "execution_count": 784,
      "outputs": []
    },
    {
      "cell_type": "code",
      "metadata": {
        "id": "uv-c5wtLyOoW"
      },
      "source": [
        "# Group by the `Symbol` column, then grab the `Close` column.\n",
        "close_groups = df_real['NIFTY, NSE: Close']\n",
        "\n",
        "# Apply the lambda function which will return -1.0 for down, 1.0 for up and 0.0 for no change.\n",
        "close_groups = close_groups.transform(lambda x : np.sign(x.diff(days_out)))\n",
        "\n",
        "# add the data to the main dataframe.\n",
        "price_data_new['Signal_Flag'] = close_groups\n",
        "price_data_new = price_data_new.dropna()"
      ],
      "execution_count": 785,
      "outputs": []
    },
    {
      "cell_type": "code",
      "metadata": {
        "id": "QJ-tKk7N2NeS"
      },
      "source": [
        "ppp =price_data_new.reset_index()"
      ],
      "execution_count": 786,
      "outputs": []
    },
    {
      "cell_type": "code",
      "metadata": {
        "colab": {
          "base_uri": "https://localhost:8080/",
          "height": 247
        },
        "id": "eriVEOmy2cr6",
        "outputId": "b9b4d947-9b8b-4769-e854-75668fa7e483"
      },
      "source": [
        "ppp.tail(2)"
      ],
      "execution_count": 787,
      "outputs": [
        {
          "output_type": "execute_result",
          "data": {
            "text/html": [
              "<div>\n",
              "<style scoped>\n",
              "    .dataframe tbody tr th:only-of-type {\n",
              "        vertical-align: middle;\n",
              "    }\n",
              "\n",
              "    .dataframe tbody tr th {\n",
              "        vertical-align: top;\n",
              "    }\n",
              "\n",
              "    .dataframe thead th {\n",
              "        text-align: right;\n",
              "    }\n",
              "</style>\n",
              "<table border=\"1\" class=\"dataframe\">\n",
              "  <thead>\n",
              "    <tr style=\"text-align: right;\">\n",
              "      <th></th>\n",
              "      <th>date</th>\n",
              "      <th>open</th>\n",
              "      <th>high</th>\n",
              "      <th>low</th>\n",
              "      <th>close</th>\n",
              "      <th>Vortex_data_0_24</th>\n",
              "      <th>NIFTY, NSE: Open</th>\n",
              "      <th>NIFTY, NSE: High</th>\n",
              "      <th>NIFTY, NSE: Low</th>\n",
              "      <th>NIFTY, NSE: Close</th>\n",
              "      <th>Vortex_data_1_24</th>\n",
              "      <th>INDIAVIX, NSE: Open</th>\n",
              "      <th>INDIAVIX, NSE: High</th>\n",
              "      <th>INDIAVIX, NSE: Low</th>\n",
              "      <th>INDIAVIX, NSE: Close</th>\n",
              "      <th>Vortex_data_2_24</th>\n",
              "      <th>GLD, CBOE BZX: Open</th>\n",
              "      <th>GLD, CBOE BZX: High</th>\n",
              "      <th>GLD, CBOE BZX: Low</th>\n",
              "      <th>GLD, CBOE BZX: Close</th>\n",
              "      <th>Vortex_data_3_24</th>\n",
              "      <th>Signal_Flag</th>\n",
              "    </tr>\n",
              "  </thead>\n",
              "  <tbody>\n",
              "    <tr>\n",
              "      <th>126</th>\n",
              "      <td>12-11-2020</td>\n",
              "      <td>534.35</td>\n",
              "      <td>538.95</td>\n",
              "      <td>532.30</td>\n",
              "      <td>535.90</td>\n",
              "      <td>0.081566</td>\n",
              "      <td>12702.15</td>\n",
              "      <td>12741.15</td>\n",
              "      <td>12624.85</td>\n",
              "      <td>12690.80</td>\n",
              "      <td>0.281952</td>\n",
              "      <td>22.032499</td>\n",
              "      <td>22.032499</td>\n",
              "      <td>19.787500</td>\n",
              "      <td>20.620001</td>\n",
              "      <td>0.045012</td>\n",
              "      <td>176.04</td>\n",
              "      <td>176.765</td>\n",
              "      <td>175.84</td>\n",
              "      <td>175.96</td>\n",
              "      <td>0.117746</td>\n",
              "      <td>1.0</td>\n",
              "    </tr>\n",
              "    <tr>\n",
              "      <th>127</th>\n",
              "      <td>13-11-2020</td>\n",
              "      <td>536.00</td>\n",
              "      <td>541.80</td>\n",
              "      <td>534.35</td>\n",
              "      <td>540.85</td>\n",
              "      <td>0.087466</td>\n",
              "      <td>12659.70</td>\n",
              "      <td>12735.95</td>\n",
              "      <td>12607.70</td>\n",
              "      <td>12719.95</td>\n",
              "      <td>0.243640</td>\n",
              "      <td>20.620001</td>\n",
              "      <td>29.525000</td>\n",
              "      <td>19.557501</td>\n",
              "      <td>19.702499</td>\n",
              "      <td>0.094168</td>\n",
              "      <td>177.65</td>\n",
              "      <td>177.800</td>\n",
              "      <td>176.84</td>\n",
              "      <td>177.16</td>\n",
              "      <td>0.152866</td>\n",
              "      <td>1.0</td>\n",
              "    </tr>\n",
              "  </tbody>\n",
              "</table>\n",
              "</div>"
            ],
            "text/plain": [
              "           date    open  ...  Vortex_data_3_24  Signal_Flag\n",
              "126  12-11-2020  534.35  ...          0.117746          1.0\n",
              "127  13-11-2020  536.00  ...          0.152866          1.0\n",
              "\n",
              "[2 rows x 22 columns]"
            ]
          },
          "metadata": {
            "tags": []
          },
          "execution_count": 787
        }
      ]
    },
    {
      "cell_type": "code",
      "metadata": {
        "id": "SMYPPdON2UGp"
      },
      "source": [
        "\n",
        "pred = pd.DataFrame(rand_frst_clf.predict(price_data_new[feats]))\n",
        "pred = pd.concat([pred , ppp.date,ppp['NIFTY, NSE: Close']],axis=1)\n",
        "pred.columns=['pred','date','Close']\n",
        "pred= pred.set_index('date')"
      ],
      "execution_count": 788,
      "outputs": []
    },
    {
      "cell_type": "code",
      "metadata": {
        "id": "K3FYgIzj2tLh"
      },
      "source": [
        "l=len(pred)"
      ],
      "execution_count": 789,
      "outputs": []
    },
    {
      "cell_type": "code",
      "metadata": {
        "colab": {
          "base_uri": "https://localhost:8080/"
        },
        "id": "PG8TDV4h7ueJ",
        "outputId": "be3eb513-e20c-4ee8-afd8-9ec91832d6df"
      },
      "source": [
        "l"
      ],
      "execution_count": 803,
      "outputs": [
        {
          "output_type": "execute_result",
          "data": {
            "text/plain": [
              "128"
            ]
          },
          "metadata": {
            "tags": []
          },
          "execution_count": 803
        }
      ]
    },
    {
      "cell_type": "code",
      "metadata": {
        "colab": {
          "base_uri": "https://localhost:8080/",
          "height": 286
        },
        "id": "8TLfDxCJ2xqF",
        "outputId": "503e2c3b-8122-4c2d-a3ab-5ae3d71eba8a"
      },
      "source": [
        "fig, ax = plt.subplots(2,1,figsize=(55,17),sharex=True)\n",
        "ax[0].plot(df_real.index.values[-l:],df_real['NIFTY, NSE: Close'].values[-l:],'*-',linewidth=1 )\n",
        "ax[1].plot(df_real.index.values[-l:],pred.pred.values[-l:],'*-',linewidth=1 )\n",
        "plt.xticks(fontsize=12, rotation=90)\n",
        "plt.show()"
      ],
      "execution_count": 810,
      "outputs": [
        {
          "output_type": "display_data",
          "data": {
            "image/png": "[encoded data removed]",
            "text/plain": [
              "<Figure size 3960x1224 with 2 Axes>"
            ]
          },
          "metadata": {
            "tags": [],
            "needs_background": "light"
          }
        }
      ]
    },
    {
      "cell_type": "code",
      "metadata": {
        "colab": {
          "base_uri": "https://localhost:8080/",
          "height": 599
        },
        "id": "_8NNuGLp7Tr4",
        "outputId": "19fdeaf8-3622-45e1-e2f8-8863e7c9ef71"
      },
      "source": [
        "fig, ax = plt.subplots(2,1,figsize=(25,17))\n",
        "ax[0].plot(df_real.index.values[-l:-100],df_real['NIFTY, NSE: Close'].values[-l:-100],'*-',linewidth=1 )\n",
        "ax[1].plot(df_real.index.values[-l:-100],pred.pred.values[-l:-100],'*-',linewidth=1 )\n",
        "plt.xticks(fontsize=12, rotation=90)\n",
        "plt.show()"
      ],
      "execution_count": 806,
      "outputs": [
        {
          "output_type": "display_data",
          "data": {
            "image/png": "[encoded data removed]",
            "text/plain": [
              "<Figure size 1800x1224 with 2 Axes>"
            ]
          },
          "metadata": {
            "tags": [],
            "needs_background": "light"
          }
        }
      ]
    },
    {
      "cell_type": "code",
      "metadata": {
        "id": "LFYsLxDA7-ic"
      },
      "source": [
        ""
      ],
      "execution_count": null,
      "outputs": []
    }
  ]
}