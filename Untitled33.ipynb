{
  "nbformat": 4,
  "nbformat_minor": 0,
  "metadata": {
    "colab": {
      "name": "Copy of Copy of Untitled33.ipynb",
      "provenance": [],
      "collapsed_sections": [],
      "authorship_tag": "ABX9TyNzzngDJxy1jUu1Upc2zQXy",
      "include_colab_link": true
    },
    "kernelspec": {
      "name": "python3",
      "display_name": "Python 3"
    },
    "language_info": {
      "name": "python"
    }
  },
  "cells": [
    {
      "cell_type": "markdown",
      "metadata": {
        "id": "view-in-github",
        "colab_type": "text"
      },
      "source": [
        "<a href=\"https://colab.research.google.com/github/anirbanghoshsbi/.github.io/blob/master/Untitled33.ipynb\" target=\"_parent\"><img src=\"https://colab.research.google.com/assets/colab-badge.svg\" alt=\"Open In Colab\"/></a>"
      ]
    },
    {
      "cell_type": "code",
      "execution_count": 295,
      "metadata": {
        "id": "RJLXQ-P0K8Aq"
      },
      "outputs": [],
      "source": [
        "# import  data\n",
        "# Create Features"
      ]
    },
    {
      "cell_type": "code",
      "source": [
        "class BlockingTimeSeriesSplit():\n",
        "    def __init__(self, n_splits):\n",
        "        self.n_splits = n_splits\n",
        "    \n",
        "    def get_n_splits(self, X, y, groups):\n",
        "        return self.n_splits\n",
        "    \n",
        "    def split(self, X, y=None, groups=None):\n",
        "        n_samples = len(X)\n",
        "        k_fold_size = n_samples // self.n_splits\n",
        "        indices = np.arange(n_samples)\n",
        "\n",
        "        margin = 0\n",
        "        for i in range(self.n_splits):\n",
        "            start = i * k_fold_size\n",
        "            stop = start + k_fold_size\n",
        "            mid = int(0.8 * (stop - start)) + start\n",
        "            yield indices[start: mid], indices[mid + margin: stop]"
      ],
      "metadata": {
        "id": "6AzTX_MiSaDG"
      },
      "execution_count": 296,
      "outputs": []
    },
    {
      "cell_type": "code",
      "source": [
        "#!pip install yfinance \n",
        "#!pip install pandas-ta==0.2.45b"
      ],
      "metadata": {
        "id": "RQdvmTa-LEga"
      },
      "execution_count": 297,
      "outputs": []
    },
    {
      "cell_type": "code",
      "source": [
        "import yfinance as yf\n",
        "import pandas as pd\n",
        "import numpy as np\n",
        "import pandas_ta as ta\n",
        "from sklearn.ensemble import RandomForestClassifier\n",
        "from sklearn.metrics import accuracy_score, classification_report,f1_score\n",
        "import datetime as dt\n",
        "import matplotlib.pyplot as plt\n",
        "from sklearn.preprocessing import StandardScaler\n",
        "pd.options.mode.chained_assignment = None"
      ],
      "metadata": {
        "id": "RZBVdD0ULG3B"
      },
      "execution_count": 298,
      "outputs": []
    },
    {
      "cell_type": "code",
      "source": [
        "ticker='goldbees.ns'\n",
        "days_out=25\n",
        "strategy='long' # 'short'"
      ],
      "metadata": {
        "id": "_bmzbTS2YUhP"
      },
      "execution_count": 299,
      "outputs": []
    },
    {
      "cell_type": "code",
      "source": [
        "data_for_modeling=yf.download(ticker,start='2007-01-01',end='2020-12-01',parse_dates=['Date']).reset_index()"
      ],
      "metadata": {
        "colab": {
          "base_uri": "https://localhost:8080/"
        },
        "id": "MohPTwvYLxJY",
        "outputId": "45c107f2-febd-4560-881d-48ea7b620ffc"
      },
      "execution_count": 300,
      "outputs": [
        {
          "output_type": "stream",
          "name": "stdout",
          "text": [
            "\r[*********************100%***********************]  1 of 1 completed\n"
          ]
        }
      ]
    },
    {
      "cell_type": "code",
      "source": [
        "data_for_modeling['Date']=data_for_modeling['Date'].map(dt.datetime.toordinal)"
      ],
      "metadata": {
        "id": "KLity-dKSITv"
      },
      "execution_count": 301,
      "outputs": []
    },
    {
      "cell_type": "code",
      "source": [
        "from numpy.lib.function_base import append\n",
        "data_for_modeling.ta.macd(fast=45, slow= 30, signal=18, append=True)\n",
        "data_for_modeling.ta.vortex(length=28,append=True)\n",
        "data_for_modeling.ta.aroon(length=28,append=True)\n",
        "data_for_modeling.ta.ema(length=26,append=True)\n",
        "#data_for_modeling.ta.bbands(append=True)\n",
        "#data_for_modeling.ta.percent_return(length=28,append=True)\n",
        "#data_for_modeling.ta.log_return(length=28,append=True)\n",
        "data_for_modeling.ta.kurtosis(append=True)\n",
        "data_for_modeling.ta.linreg(length=28,append=True)\n",
        "data_for_modeling.ta.quantile(append=True)\n",
        "\n",
        "print()"
      ],
      "metadata": {
        "colab": {
          "base_uri": "https://localhost:8080/"
        },
        "id": "cyboLf5qLzQ5",
        "outputId": "4f1a553f-c833-4b01-c3f9-e89de9662d5c"
      },
      "execution_count": 302,
      "outputs": [
        {
          "output_type": "stream",
          "name": "stdout",
          "text": [
            "\n"
          ]
        }
      ]
    },
    {
      "cell_type": "code",
      "source": [
        "sc=StandardScaler()"
      ],
      "metadata": {
        "id": "35rXvPEkvakn"
      },
      "execution_count": 303,
      "outputs": []
    },
    {
      "cell_type": "code",
      "source": [
        "X = np.array((data_for_modeling['adj_close'].pct_change(50)).dropna()) #  -df['Close'].rolling(window=200).mean()).dropna()\n",
        "X=sc.fit_transform(X.reshape(-1,1))\n",
        "from sklearn.cluster import KMeans \n",
        "kmeans = KMeans(n_clusters= 4).fit(X.reshape(-1,1))\n",
        "c = kmeans.predict(X.reshape(-1,1))"
      ],
      "metadata": {
        "id": "rBz_e3Efu-MI"
      },
      "execution_count": 304,
      "outputs": []
    },
    {
      "cell_type": "code",
      "source": [
        "data_for_modeling=data_for_modeling[-c.shape[0]:]"
      ],
      "metadata": {
        "id": "wjGQY8hdvI2f"
      },
      "execution_count": 305,
      "outputs": []
    },
    {
      "cell_type": "code",
      "source": [
        "data_for_modeling['cluster']=c"
      ],
      "metadata": {
        "id": "Nl1NKfZ6vvaH"
      },
      "execution_count": 306,
      "outputs": []
    },
    {
      "cell_type": "code",
      "source": [
        "data_for_modeling.columns"
      ],
      "metadata": {
        "colab": {
          "base_uri": "https://localhost:8080/"
        },
        "id": "syNJMPrdL7Xy",
        "outputId": "b63e22ce-1c0f-4803-b934-7b74e32a695e"
      },
      "execution_count": 307,
      "outputs": [
        {
          "output_type": "execute_result",
          "data": {
            "text/plain": [
              "Index(['date', 'open', 'high', 'low', 'close', 'adj_close', 'volume',\n",
              "       'MACD_30_45_18', 'MACDh_30_45_18', 'MACDs_30_45_18', 'VTXP_28',\n",
              "       'VTXM_28', 'AROOND_28', 'AROONU_28', 'AROONOSC_28', 'EMA_26', 'KURT_30',\n",
              "       'LR_28', 'QTL_30_0.5', 'cluster'],\n",
              "      dtype='object')"
            ]
          },
          "metadata": {},
          "execution_count": 307
        }
      ]
    },
    {
      "cell_type": "code",
      "source": [
        "rapida = 26\n",
        "lenta = 52\n",
        "stdv = 0.8\n",
        "data_for_modeling['fast'] =data_for_modeling['adj_close'].rolling(window=rapida).mean() \n",
        "data_for_modeling['slow'] =data_for_modeling['adj_close'].rolling(window=lenta).mean()\n",
        "data_for_modeling['bband']= data_for_modeling['fast']-data_for_modeling['slow']\n",
        "data_for_modeling['avg'] = data_for_modeling['bband'].rolling(window=9).mean()\n",
        "data_for_modeling['Sdev'] = data_for_modeling['bband'].rolling(window=9).std()\n",
        "data_for_modeling['Upper Band'] = data_for_modeling['avg'] + (data_for_modeling['Sdev'] *stdv)\n",
        "data_for_modeling['Lower Band'] = data_for_modeling['avg'] - (data_for_modeling['Sdev'] *stdv)"
      ],
      "metadata": {
        "id": "NEdfGNdaMAoI"
      },
      "execution_count": 308,
      "outputs": []
    },
    {
      "cell_type": "code",
      "source": [
        "data_for_modeling['signal']=data_for_modeling['adj_close'].transform(lambda x : np.sign(x.diff(days_out)))"
      ],
      "metadata": {
        "id": "iGXTewdiM9JQ"
      },
      "execution_count": 309,
      "outputs": []
    },
    {
      "cell_type": "code",
      "source": [
        "if strategy=='short':\n",
        "    data_for_modeling['signal']=np.where(data_for_modeling['signal']<0,1,0)\n",
        "if strategy=='long':\n",
        "    data_for_modeling['signal']=np.where(data_for_modeling['signal']>0,1,0)    "
      ],
      "metadata": {
        "id": "IBXB8HRKMrrn"
      },
      "execution_count": 310,
      "outputs": []
    },
    {
      "cell_type": "code",
      "source": [
        "data_for_modeling.tail(2)"
      ],
      "metadata": {
        "colab": {
          "base_uri": "https://localhost:8080/",
          "height": 193
        },
        "id": "tWVjTWTqLvoY",
        "outputId": "a6654e09-6f61-46d3-9dc6-1ed3491aca3c"
      },
      "execution_count": 311,
      "outputs": [
        {
          "output_type": "execute_result",
          "data": {
            "text/html": [
              "\n",
              "  <div id=\"df-f53cad2d-4794-4b44-a433-4669aa7fe11e\">\n",
              "    <div class=\"colab-df-container\">\n",
              "      <div>\n",
              "<style scoped>\n",
              "    .dataframe tbody tr th:only-of-type {\n",
              "        vertical-align: middle;\n",
              "    }\n",
              "\n",
              "    .dataframe tbody tr th {\n",
              "        vertical-align: top;\n",
              "    }\n",
              "\n",
              "    .dataframe thead th {\n",
              "        text-align: right;\n",
              "    }\n",
              "</style>\n",
              "<table border=\"1\" class=\"dataframe\">\n",
              "  <thead>\n",
              "    <tr style=\"text-align: right;\">\n",
              "      <th></th>\n",
              "      <th>date</th>\n",
              "      <th>open</th>\n",
              "      <th>high</th>\n",
              "      <th>low</th>\n",
              "      <th>close</th>\n",
              "      <th>adj_close</th>\n",
              "      <th>volume</th>\n",
              "      <th>MACD_30_45_18</th>\n",
              "      <th>MACDh_30_45_18</th>\n",
              "      <th>MACDs_30_45_18</th>\n",
              "      <th>VTXP_28</th>\n",
              "      <th>VTXM_28</th>\n",
              "      <th>AROOND_28</th>\n",
              "      <th>AROONU_28</th>\n",
              "      <th>AROONOSC_28</th>\n",
              "      <th>EMA_26</th>\n",
              "      <th>KURT_30</th>\n",
              "      <th>LR_28</th>\n",
              "      <th>QTL_30_0.5</th>\n",
              "      <th>cluster</th>\n",
              "      <th>fast</th>\n",
              "      <th>slow</th>\n",
              "      <th>bband</th>\n",
              "      <th>avg</th>\n",
              "      <th>Sdev</th>\n",
              "      <th>Upper Band</th>\n",
              "      <th>Lower Band</th>\n",
              "      <th>signal</th>\n",
              "    </tr>\n",
              "  </thead>\n",
              "  <tbody>\n",
              "    <tr>\n",
              "      <th>2929</th>\n",
              "      <td>737755</td>\n",
              "      <td>42.759998</td>\n",
              "      <td>43.09</td>\n",
              "      <td>42.549999</td>\n",
              "      <td>42.939999</td>\n",
              "      <td>42.939999</td>\n",
              "      <td>2563377</td>\n",
              "      <td>-0.142490</td>\n",
              "      <td>-0.095636</td>\n",
              "      <td>-0.046854</td>\n",
              "      <td>0.975994</td>\n",
              "      <td>0.998235</td>\n",
              "      <td>89.285714</td>\n",
              "      <td>21.428571</td>\n",
              "      <td>-67.857143</td>\n",
              "      <td>44.090953</td>\n",
              "      <td>1.605922</td>\n",
              "      <td>43.685501</td>\n",
              "      <td>44.500000</td>\n",
              "      <td>0</td>\n",
              "      <td>44.327308</td>\n",
              "      <td>44.366346</td>\n",
              "      <td>-0.039039</td>\n",
              "      <td>0.020534</td>\n",
              "      <td>0.028129</td>\n",
              "      <td>0.043037</td>\n",
              "      <td>-0.001969</td>\n",
              "      <td>1</td>\n",
              "    </tr>\n",
              "    <tr>\n",
              "      <th>2930</th>\n",
              "      <td>737756</td>\n",
              "      <td>37.400002</td>\n",
              "      <td>42.93</td>\n",
              "      <td>37.400002</td>\n",
              "      <td>42.840000</td>\n",
              "      <td>42.840000</td>\n",
              "      <td>3683922</td>\n",
              "      <td>-0.163894</td>\n",
              "      <td>-0.104721</td>\n",
              "      <td>-0.059174</td>\n",
              "      <td>0.920860</td>\n",
              "      <td>0.999667</td>\n",
              "      <td>100.000000</td>\n",
              "      <td>17.857143</td>\n",
              "      <td>-82.142857</td>\n",
              "      <td>43.998290</td>\n",
              "      <td>0.823334</td>\n",
              "      <td>43.498226</td>\n",
              "      <td>44.474998</td>\n",
              "      <td>0</td>\n",
              "      <td>44.252308</td>\n",
              "      <td>44.314039</td>\n",
              "      <td>-0.061731</td>\n",
              "      <td>0.007970</td>\n",
              "      <td>0.036618</td>\n",
              "      <td>0.037265</td>\n",
              "      <td>-0.021325</td>\n",
              "      <td>1</td>\n",
              "    </tr>\n",
              "  </tbody>\n",
              "</table>\n",
              "</div>\n",
              "      <button class=\"colab-df-convert\" onclick=\"convertToInteractive('df-f53cad2d-4794-4b44-a433-4669aa7fe11e')\"\n",
              "              title=\"Convert this dataframe to an interactive table.\"\n",
              "              style=\"display:none;\">\n",
              "        \n",
              "  <svg xmlns=\"http://www.w3.org/2000/svg\" height=\"24px\"viewBox=\"0 0 24 24\"\n",
              "       width=\"24px\">\n",
              "    <path d=\"M0 0h24v24H0V0z\" fill=\"none\"/>\n",
              "    <path d=\"M18.56 5.44l.94 2.06.94-2.06 2.06-.94-2.06-.94-.94-2.06-.94 2.06-2.06.94zm-11 1L8.5 8.5l.94-2.06 2.06-.94-2.06-.94L8.5 2.5l-.94 2.06-2.06.94zm10 10l.94 2.06.94-2.06 2.06-.94-2.06-.94-.94-2.06-.94 2.06-2.06.94z\"/><path d=\"M17.41 7.96l-1.37-1.37c-.4-.4-.92-.59-1.43-.59-.52 0-1.04.2-1.43.59L10.3 9.45l-7.72 7.72c-.78.78-.78 2.05 0 2.83L4 21.41c.39.39.9.59 1.41.59.51 0 1.02-.2 1.41-.59l7.78-7.78 2.81-2.81c.8-.78.8-2.07 0-2.86zM5.41 20L4 18.59l7.72-7.72 1.47 1.35L5.41 20z\"/>\n",
              "  </svg>\n",
              "      </button>\n",
              "      \n",
              "  <style>\n",
              "    .colab-df-container {\n",
              "      display:flex;\n",
              "      flex-wrap:wrap;\n",
              "      gap: 12px;\n",
              "    }\n",
              "\n",
              "    .colab-df-convert {\n",
              "      background-color: #E8F0FE;\n",
              "      border: none;\n",
              "      border-radius: 50%;\n",
              "      cursor: pointer;\n",
              "      display: none;\n",
              "      fill: #1967D2;\n",
              "      height: 32px;\n",
              "      padding: 0 0 0 0;\n",
              "      width: 32px;\n",
              "    }\n",
              "\n",
              "    .colab-df-convert:hover {\n",
              "      background-color: #E2EBFA;\n",
              "      box-shadow: 0px 1px 2px rgba(60, 64, 67, 0.3), 0px 1px 3px 1px rgba(60, 64, 67, 0.15);\n",
              "      fill: #174EA6;\n",
              "    }\n",
              "\n",
              "    [theme=dark] .colab-df-convert {\n",
              "      background-color: #3B4455;\n",
              "      fill: #D2E3FC;\n",
              "    }\n",
              "\n",
              "    [theme=dark] .colab-df-convert:hover {\n",
              "      background-color: #434B5C;\n",
              "      box-shadow: 0px 1px 3px 1px rgba(0, 0, 0, 0.15);\n",
              "      filter: drop-shadow(0px 1px 2px rgba(0, 0, 0, 0.3));\n",
              "      fill: #FFFFFF;\n",
              "    }\n",
              "  </style>\n",
              "\n",
              "      <script>\n",
              "        const buttonEl =\n",
              "          document.querySelector('#df-f53cad2d-4794-4b44-a433-4669aa7fe11e button.colab-df-convert');\n",
              "        buttonEl.style.display =\n",
              "          google.colab.kernel.accessAllowed ? 'block' : 'none';\n",
              "\n",
              "        async function convertToInteractive(key) {\n",
              "          const element = document.querySelector('#df-f53cad2d-4794-4b44-a433-4669aa7fe11e');\n",
              "          const dataTable =\n",
              "            await google.colab.kernel.invokeFunction('convertToInteractive',\n",
              "                                                     [key], {});\n",
              "          if (!dataTable) return;\n",
              "\n",
              "          const docLinkHtml = 'Like what you see? Visit the ' +\n",
              "            '<a target=\"_blank\" href=https://colab.research.google.com/notebooks/data_table.ipynb>data table notebook</a>'\n",
              "            + ' to learn more about interactive tables.';\n",
              "          element.innerHTML = '';\n",
              "          dataTable['output_type'] = 'display_data';\n",
              "          await google.colab.output.renderOutput(dataTable, element);\n",
              "          const docLink = document.createElement('div');\n",
              "          docLink.innerHTML = docLinkHtml;\n",
              "          element.appendChild(docLink);\n",
              "        }\n",
              "      </script>\n",
              "    </div>\n",
              "  </div>\n",
              "  "
            ],
            "text/plain": [
              "        date       open   high  ...  Upper Band  Lower Band  signal\n",
              "2929  737755  42.759998  43.09  ...    0.043037   -0.001969       1\n",
              "2930  737756  37.400002  42.93  ...    0.037265   -0.021325       1\n",
              "\n",
              "[2 rows x 28 columns]"
            ]
          },
          "metadata": {},
          "execution_count": 311
        }
      ]
    },
    {
      "cell_type": "code",
      "source": [
        "data_for_modeling=data_for_modeling.dropna()"
      ],
      "metadata": {
        "id": "jEuAuzmPPJ-Y"
      },
      "execution_count": 312,
      "outputs": []
    },
    {
      "cell_type": "code",
      "source": [
        "features = [feats for feats in data_for_modeling.columns if feats not in ['fast','slow','signal']]"
      ],
      "metadata": {
        "id": "p49twI6pMpOy"
      },
      "execution_count": 313,
      "outputs": []
    },
    {
      "cell_type": "code",
      "source": [
        "data_for_modeling.columns"
      ],
      "metadata": {
        "colab": {
          "base_uri": "https://localhost:8080/"
        },
        "id": "pWmPyxyPPeOo",
        "outputId": "57c674e9-de9b-44ca-c2d8-128ce904801e"
      },
      "execution_count": 314,
      "outputs": [
        {
          "output_type": "execute_result",
          "data": {
            "text/plain": [
              "Index(['date', 'open', 'high', 'low', 'close', 'adj_close', 'volume',\n",
              "       'MACD_30_45_18', 'MACDh_30_45_18', 'MACDs_30_45_18', 'VTXP_28',\n",
              "       'VTXM_28', 'AROOND_28', 'AROONU_28', 'AROONOSC_28', 'EMA_26', 'KURT_30',\n",
              "       'LR_28', 'QTL_30_0.5', 'cluster', 'fast', 'slow', 'bband', 'avg',\n",
              "       'Sdev', 'Upper Band', 'Lower Band', 'signal'],\n",
              "      dtype='object')"
            ]
          },
          "metadata": {},
          "execution_count": 314
        }
      ]
    },
    {
      "cell_type": "code",
      "source": [
        "X=data_for_modeling[features]\n",
        "y=data_for_modeling['signal']"
      ],
      "metadata": {
        "id": "p3NocCqzQfw5"
      },
      "execution_count": 315,
      "outputs": []
    },
    {
      "cell_type": "code",
      "source": [
        "chk='Timeseries' #Block"
      ],
      "metadata": {
        "id": "qZ9axEVrRlwG"
      },
      "execution_count": 316,
      "outputs": []
    },
    {
      "cell_type": "code",
      "source": [
        "from sklearn.model_selection import TimeSeriesSplit\n",
        "\n",
        "if chk=='Block':\n",
        "  tscv = BlockingTimeSeriesSplit(n_splits=8)\n",
        "\n",
        "  for fold, (train_index, test_index) in enumerate(tscv.split(X)):\n",
        "      print(\"Fold: {}\".format(fold))\n",
        "      X_train, X_test = X.iloc[train_index], X.iloc[test_index]\n",
        "      y_train, y_test = y.iloc[train_index], y.iloc[test_index]\n",
        "elif chk=='Timeseries':\n",
        "  tscv = TimeSeriesSplit(n_splits=8)\n",
        "  for fold, (train_index, test_index) in enumerate(tscv.split(X)):\n",
        "      print(\"Fold: {}\".format(fold))\n",
        "      X_train, X_test = X.iloc[train_index], X.iloc[test_index]\n",
        "      y_train, y_test = y.iloc[train_index], y.iloc[test_index]"
      ],
      "metadata": {
        "colab": {
          "base_uri": "https://localhost:8080/"
        },
        "id": "r25w0piaRjhf",
        "outputId": "42c44f2d-10dd-4e2f-a43f-a9523135716c"
      },
      "execution_count": 317,
      "outputs": [
        {
          "output_type": "stream",
          "name": "stdout",
          "text": [
            "Fold: 0\n",
            "Fold: 1\n",
            "Fold: 2\n",
            "Fold: 3\n",
            "Fold: 4\n",
            "Fold: 5\n",
            "Fold: 6\n",
            "Fold: 7\n"
          ]
        }
      ]
    },
    {
      "cell_type": "code",
      "source": [
        "for train_index, test_index in tscv.split(X,y):\n",
        "    X_train, X_test = X.iloc[train_index], X.iloc[test_index]\n",
        "    y_train, y_test = y.iloc[train_index], y.iloc[test_index]"
      ],
      "metadata": {
        "id": "qKBssIPORov-"
      },
      "execution_count": 318,
      "outputs": []
    },
    {
      "cell_type": "code",
      "source": [
        "#best_param_rf(X_train , y_train)\n"
      ],
      "metadata": {
        "id": "MLJgqHpHRvV-"
      },
      "execution_count": 319,
      "outputs": []
    },
    {
      "cell_type": "code",
      "source": [
        "rand_frst_clf = RandomForestClassifier(n_estimators =220,max_depth=35,min_samples_leaf=14,max_features = \"auto\",min_samples_split=40, criterion = \"gini\", bootstrap=True,random_state = 42)\n"
      ],
      "metadata": {
        "id": "YWHNVewLRq3W"
      },
      "execution_count": 320,
      "outputs": []
    },
    {
      "cell_type": "code",
      "source": [
        "rand_frst_clf.fit(X_train, y_train)"
      ],
      "metadata": {
        "colab": {
          "base_uri": "https://localhost:8080/"
        },
        "id": "r9r2NHivRtKW",
        "outputId": "905a2d85-8e37-41f1-fa70-3f71e98c8790"
      },
      "execution_count": 321,
      "outputs": [
        {
          "output_type": "execute_result",
          "data": {
            "text/plain": [
              "RandomForestClassifier(max_depth=35, min_samples_leaf=14, min_samples_split=40,\n",
              "                       n_estimators=220, random_state=42)"
            ]
          },
          "metadata": {},
          "execution_count": 321
        }
      ]
    },
    {
      "cell_type": "code",
      "source": [
        "feature_imp = pd.Series(rand_frst_clf.feature_importances_, index=X_train.columns).sort_values(ascending=False)\n",
        "feature_imp*100"
      ],
      "metadata": {
        "id": "NWbTiHezIQvg",
        "outputId": "08d7e32a-9d23-4556-9447-59a8294ee0ae",
        "colab": {
          "base_uri": "https://localhost:8080/"
        }
      },
      "execution_count": 322,
      "outputs": [
        {
          "output_type": "execute_result",
          "data": {
            "text/plain": [
              "AROONOSC_28       24.808128\n",
              "MACDh_30_45_18    18.063769\n",
              "AROOND_28         13.446121\n",
              "VTXP_28           12.634360\n",
              "VTXM_28            9.855924\n",
              "AROONU_28          5.910030\n",
              "MACD_30_45_18      3.920548\n",
              "bband              1.358901\n",
              "MACDs_30_45_18     1.283044\n",
              "cluster            1.277887\n",
              "Upper Band         0.810313\n",
              "Lower Band         0.741100\n",
              "date               0.610242\n",
              "avg                0.573130\n",
              "volume             0.549019\n",
              "close              0.524571\n",
              "QTL_30_0.5         0.521207\n",
              "Sdev               0.511240\n",
              "adj_close          0.450866\n",
              "EMA_26             0.436716\n",
              "high               0.405787\n",
              "open               0.354716\n",
              "LR_28              0.332504\n",
              "low                0.314713\n",
              "KURT_30            0.305166\n",
              "dtype: float64"
            ]
          },
          "metadata": {},
          "execution_count": 322
        }
      ]
    },
    {
      "cell_type": "code",
      "source": [
        "# Make predictions\n",
        "pred_train=  rand_frst_clf.predict(X_train)\n",
        "pred_test = rand_frst_clf.predict(X_test)"
      ],
      "metadata": {
        "id": "rnF6BJXYS1ce"
      },
      "execution_count": 323,
      "outputs": []
    },
    {
      "cell_type": "code",
      "source": [
        "X_train_new=np.concatenate([X_train,pred_train.reshape(-1,1)],axis=1)\n",
        "X_test_new=np.concatenate([X_test,pred_test.reshape(-1,1)],axis=1)"
      ],
      "metadata": {
        "id": "6tX6PErc7o-7"
      },
      "execution_count": 324,
      "outputs": []
    },
    {
      "cell_type": "code",
      "source": [
        "rand_second_clf = RandomForestClassifier(n_estimators =200,max_depth=15,min_samples_leaf=4,max_features = \"auto\",min_samples_split=4, criterion = \"gini\", bootstrap=True,random_state = 42)\n"
      ],
      "metadata": {
        "id": "_ng7RHQP8Fcr"
      },
      "execution_count": 325,
      "outputs": []
    },
    {
      "cell_type": "code",
      "source": [
        "rand_second_clf.fit(X_train_new, y_train)\n"
      ],
      "metadata": {
        "id": "xYAcoKxx8nfk",
        "outputId": "02b2de33-d4f6-4808-dd84-2819d14149db",
        "colab": {
          "base_uri": "https://localhost:8080/"
        }
      },
      "execution_count": 326,
      "outputs": [
        {
          "output_type": "execute_result",
          "data": {
            "text/plain": [
              "RandomForestClassifier(max_depth=15, min_samples_leaf=4, min_samples_split=4,\n",
              "                       n_estimators=200, random_state=42)"
            ]
          },
          "metadata": {},
          "execution_count": 326
        }
      ]
    },
    {
      "cell_type": "code",
      "source": [
        "feature_imp = pd.Series(rand_second_clf.feature_importances_).sort_values(ascending=False)\n",
        "feature_imp*100"
      ],
      "metadata": {
        "id": "vGXWPNWx9ILj",
        "outputId": "98dc3bcc-fc0c-4bdf-dbbd-18bea5f4201c",
        "colab": {
          "base_uri": "https://localhost:8080/"
        }
      },
      "execution_count": 327,
      "outputs": [
        {
          "output_type": "execute_result",
          "data": {
            "text/plain": [
              "25    25.083784\n",
              "14    16.895393\n",
              "8     13.799518\n",
              "12     9.101309\n",
              "10     6.786689\n",
              "11     5.937699\n",
              "13     4.076306\n",
              "7      3.079346\n",
              "9      1.420237\n",
              "20     1.397240\n",
              "23     1.044099\n",
              "24     1.040543\n",
              "21     0.966273\n",
              "19     0.958831\n",
              "0      0.885016\n",
              "22     0.769941\n",
              "6      0.765433\n",
              "4      0.761969\n",
              "2      0.737370\n",
              "5      0.705792\n",
              "18     0.670492\n",
              "17     0.658130\n",
              "15     0.654722\n",
              "16     0.646145\n",
              "3      0.614324\n",
              "1      0.543398\n",
              "dtype: float64"
            ]
          },
          "metadata": {},
          "execution_count": 327
        }
      ]
    },
    {
      "cell_type": "code",
      "source": [
        "y_pred = rand_second_clf.predict(X_test_new)"
      ],
      "metadata": {
        "id": "fbeqSdGo9WKa"
      },
      "execution_count": 328,
      "outputs": []
    },
    {
      "cell_type": "code",
      "source": [
        "plt.figure(figsize=(10,5))\n",
        "pd.Series(y_pred).plot();\n"
      ],
      "metadata": {
        "colab": {
          "base_uri": "https://localhost:8080/",
          "height": 320
        },
        "id": "b85B92tmS4Ym",
        "outputId": "cfd4d1ae-3dda-4aaf-9113-579a847f5858"
      },
      "execution_count": 329,
      "outputs": [
        {
          "output_type": "display_data",
          "data": {
            "image/png": "[encoded data removed]",
            "text/plain": [
              "<Figure size 720x360 with 1 Axes>"
            ]
          },
          "metadata": {
            "needs_background": "light"
          }
        }
      ]
    },
    {
      "cell_type": "code",
      "source": [
        "plt.figure(figsize=(10,5))\n",
        "data_for_modeling[['adj_close','signal']][-len(y_pred):].plot(secondary_y=['signal']);"
      ],
      "metadata": {
        "colab": {
          "base_uri": "https://localhost:8080/",
          "height": 282
        },
        "id": "8wcXXFG0TP2P",
        "outputId": "c0ce8efb-d670-48d6-9eb0-c32b4089c7c4"
      },
      "execution_count": 330,
      "outputs": [
        {
          "output_type": "display_data",
          "data": {
            "text/plain": [
              "<Figure size 720x360 with 0 Axes>"
            ]
          },
          "metadata": {}
        },
        {
          "output_type": "display_data",
          "data": {
            "image/png": "[encoded data removed]",
            "text/plain": [
              "<Figure size 432x288 with 2 Axes>"
            ]
          },
          "metadata": {
            "needs_background": "light"
          }
        }
      ]
    },
    {
      "cell_type": "code",
      "source": [
        "dd=data_for_modeling[-len(y_pred):].reset_index(drop=True)"
      ],
      "metadata": {
        "id": "UPG36QhXUZk-"
      },
      "execution_count": 331,
      "outputs": []
    },
    {
      "cell_type": "code",
      "source": [
        "dd=pd.concat([dd,pd.Series(y_pred ).rename('pred')],axis=1)"
      ],
      "metadata": {
        "id": "Kc-SzxyXTqPG"
      },
      "execution_count": 332,
      "outputs": []
    },
    {
      "cell_type": "code",
      "source": [
        "plt.figure(figsize=(10,5))\n",
        "dd[['close','pred','signal']][-len(y_pred):].plot(secondary_y=['close']);"
      ],
      "metadata": {
        "colab": {
          "base_uri": "https://localhost:8080/",
          "height": 282
        },
        "id": "_9LOqAnIUVNf",
        "outputId": "b6618516-483a-4114-8993-0f02ab502895"
      },
      "execution_count": 333,
      "outputs": [
        {
          "output_type": "display_data",
          "data": {
            "text/plain": [
              "<Figure size 720x360 with 0 Axes>"
            ]
          },
          "metadata": {}
        },
        {
          "output_type": "display_data",
          "data": {
            "image/png": "[encoded data removed]",
            "text/plain": [
              "<Figure size 432x288 with 2 Axes>"
            ]
          },
          "metadata": {
            "needs_background": "light"
          }
        }
      ]
    },
    {
      "cell_type": "code",
      "source": [
        "plt.figure(figsize=(10,5))\n",
        "dd[['pred','signal']][-len(y_pred):].plot(secondary_y=['pred']);"
      ],
      "metadata": {
        "colab": {
          "base_uri": "https://localhost:8080/",
          "height": 282
        },
        "id": "ucigXpK7Xh5d",
        "outputId": "aa4a052b-2098-4d4e-8738-a16f620d874b"
      },
      "execution_count": 334,
      "outputs": [
        {
          "output_type": "display_data",
          "data": {
            "text/plain": [
              "<Figure size 720x360 with 0 Axes>"
            ]
          },
          "metadata": {}
        },
        {
          "output_type": "display_data",
          "data": {
            "image/png": "[encoded data removed]",
            "text/plain": [
              "<Figure size 432x288 with 2 Axes>"
            ]
          },
          "metadata": {
            "needs_background": "light"
          }
        }
      ]
    },
    {
      "cell_type": "code",
      "source": [
        "dd['signal'][-len(y_pred):].plot();\n",
        "plt.show()\n",
        "dd['pred'][-len(y_pred):].plot();"
      ],
      "metadata": {
        "colab": {
          "base_uri": "https://localhost:8080/",
          "height": 513
        },
        "id": "dbB7QW3bZSc2",
        "outputId": "78e05bd3-bded-4ef9-d6cb-b1f324d23e2c"
      },
      "execution_count": 335,
      "outputs": [
        {
          "output_type": "display_data",
          "data": {
            "image/png": "[encoded data removed]",
            "text/plain": [
              "<Figure size 432x288 with 1 Axes>"
            ]
          },
          "metadata": {
            "needs_background": "light"
          }
        },
        {
          "output_type": "display_data",
          "data": {
            "image/png": "[encoded data removed]",
            "text/plain": [
              "<Figure size 432x288 with 1 Axes>"
            ]
          },
          "metadata": {
            "needs_background": "light"
          }
        }
      ]
    },
    {
      "cell_type": "code",
      "source": [
        "from sklearn.metrics import confusion_matrix, plot_confusion_matrix\n",
        "\n",
        "rf_matrix = confusion_matrix(dd.signal,dd.pred)\n",
        "\n",
        "true_negatives = rf_matrix[0][0]\n",
        "false_negatives = rf_matrix[1][0]\n",
        "true_positives = rf_matrix[1][1]\n",
        "false_positives = rf_matrix[0][1]\n",
        "from sklearn.metrics import average_precision_score,f1_score\n",
        "average_precision = average_precision_score(dd.signal,dd.pred)\n",
        "f1=f1_score(dd.signal,dd.pred,average=None)\n",
        "accuracy = (true_negatives + true_positives) / (true_negatives + true_positives + false_negatives + false_positives)\n",
        "percision = true_positives / (true_positives + false_positives)\n",
        "recall = true_positives / (true_positives + false_negatives)\n",
        "specificity = true_negatives / (true_negatives + false_positives)\n",
        "f1score= 2*recall*percision/(percision+recall)\n",
        "print('Accuracy: {}'.format(float(accuracy)))\n",
        "print('Percision: {}'.format(float(percision)))\n",
        "print('Recall: {}'.format(float(recall)))\n",
        "print('Specificity: {}'.format(float(specificity)))\n",
        "print('F1-Score: {}'.format(float(f1score)))\n",
        "print('Average Precision : {}'.format(float(average_precision)))\n",
        "print(f'f1 score class wise for down : {round(f1[0]*100)}.00% ,up : {round(f1[1]*100)}.00%')\n",
        "accuracy_pos = (true_positives) / (true_negatives + true_positives + false_negatives + false_positives)\n",
        "accuracy_neg = (true_negatives) / (true_negatives + true_positives + false_negatives + false_positives)\n",
        "print('Accuracy positive: {}'.format(float(accuracy_pos)))\n",
        "print('Accuracy negative {}'.format(float(accuracy_neg)))"
      ],
      "metadata": {
        "id": "5yFyfe9cZ0zE",
        "outputId": "79170b9e-1163-4e6a-f214-0e254220ae91",
        "colab": {
          "base_uri": "https://localhost:8080/"
        }
      },
      "execution_count": 336,
      "outputs": [
        {
          "output_type": "stream",
          "name": "stdout",
          "text": [
            "Accuracy: 0.853035143769968\n",
            "Percision: 0.7767857142857143\n",
            "Recall: 0.8055555555555556\n",
            "Specificity: 0.8780487804878049\n",
            "F1-Score: 0.790909090909091\n",
            "Average Precision : 0.6928366993762362\n",
            "f1 score class wise for down : 89.00% ,up : 79.00%\n",
            "Accuracy positive: 0.2779552715654952\n",
            "Accuracy negative 0.5750798722044729\n"
          ]
        }
      ]
    },
    {
      "cell_type": "markdown",
      "source": [
        "# actual testing"
      ],
      "metadata": {
        "id": "S_ylKeFy_-nJ"
      }
    },
    {
      "cell_type": "code",
      "source": [
        "data_for_testing=yf.download(ticker,start='2021-01-01',parse_dates=['Date']).reset_index()"
      ],
      "metadata": {
        "id": "4xAPoA3L_-Ey",
        "outputId": "23a6ac0f-d2c5-4b3e-9575-33ec874fcb38",
        "colab": {
          "base_uri": "https://localhost:8080/"
        }
      },
      "execution_count": 337,
      "outputs": [
        {
          "output_type": "stream",
          "name": "stdout",
          "text": [
            "\r[*********************100%***********************]  1 of 1 completed\n"
          ]
        }
      ]
    },
    {
      "cell_type": "code",
      "source": [
        "data_for_testing['Date']=data_for_testing['Date'].map(dt.datetime.toordinal)"
      ],
      "metadata": {
        "id": "FcIKjqJ0B8ix"
      },
      "execution_count": 338,
      "outputs": []
    },
    {
      "cell_type": "code",
      "source": [
        "from numpy.lib.function_base import append\n",
        "data_for_testing.ta.macd(fast=45, slow= 30, signal=18, append=True)\n",
        "data_for_testing.ta.vortex(length=28,append=True)\n",
        "data_for_testing.ta.aroon(length=28,append=True)\n",
        "data_for_testing.ta.ema(length=26,append=True)\n",
        "#data_for_modeling.ta.bbands(append=True)\n",
        "#data_for_modeling.ta.percent_return(length=28,append=True)\n",
        "#data_for_modeling.ta.log_return(length=28,append=True)\n",
        "data_for_testing.ta.kurtosis(append=True)\n",
        "data_for_testing.ta.linreg(length=28,append=True)\n",
        "data_for_testing.ta.quantile(append=True)\n",
        "\n",
        "print()"
      ],
      "metadata": {
        "id": "QmsC_IhtARP6",
        "outputId": "1ee743f1-65cd-4305-f69d-1eff89cecb77",
        "colab": {
          "base_uri": "https://localhost:8080/"
        }
      },
      "execution_count": 339,
      "outputs": [
        {
          "output_type": "stream",
          "name": "stdout",
          "text": [
            "\n"
          ]
        }
      ]
    },
    {
      "cell_type": "code",
      "source": [
        "X = np.array((data_for_testing['adj_close'].pct_change(50)).dropna()) #  -df['Close'].rolling(window=200).mean()).dropna()\n",
        "X=sc.fit_transform(X.reshape(-1,1))\n",
        "from sklearn.cluster import KMeans \n",
        "kmeans = KMeans(n_clusters= 4).fit(X.reshape(-1,1))\n",
        "c = kmeans.predict(X.reshape(-1,1))\n",
        "data_for_testing=data_for_testing[-c.shape[0]:]\n",
        "data_for_testing['cluster']=c"
      ],
      "metadata": {
        "id": "G1qjtNA3wZzw"
      },
      "execution_count": 340,
      "outputs": []
    },
    {
      "cell_type": "code",
      "source": [
        "rapida = 26\n",
        "lenta = 52\n",
        "stdv = 0.8\n",
        "data_for_testing['fast'] =data_for_testing['adj_close'].rolling(window=rapida).mean() \n",
        "data_for_testing['slow'] =data_for_testing['adj_close'].rolling(window=lenta).mean()\n",
        "data_for_testing['bband']= data_for_testing['fast']-data_for_modeling['slow']\n",
        "data_for_testing['avg'] = data_for_testing['bband'].rolling(window=9).mean()\n",
        "data_for_testing['Sdev'] = data_for_testing['bband'].rolling(window=9).std()\n",
        "data_for_testing['Upper Band'] = data_for_testing['avg'] + (data_for_testing['Sdev'] *stdv)\n",
        "data_for_testing['Lower Band'] = data_for_testing['avg'] - (data_for_testing['Sdev'] *stdv)"
      ],
      "metadata": {
        "id": "zFZxKnTYBILA"
      },
      "execution_count": 341,
      "outputs": []
    },
    {
      "cell_type": "code",
      "source": [
        "data_for_testing['signal']=data_for_testing['adj_close'].transform(lambda x : np.sign(x.diff(days_out)))"
      ],
      "metadata": {
        "id": "iRWbkoSPBWty"
      },
      "execution_count": 342,
      "outputs": []
    },
    {
      "cell_type": "code",
      "source": [
        "if strategy=='short':\n",
        "    data_for_testing['signal']=np.where(data_for_testing['signal']<0,1,0)\n",
        "if strategy=='long':\n",
        "    data_for_testing['signal']=np.where(data_for_testing['signal']>0,1,0)    "
      ],
      "metadata": {
        "id": "5lbeyqhBM3tO"
      },
      "execution_count": 343,
      "outputs": []
    },
    {
      "cell_type": "code",
      "source": [
        "# Make predictions\n",
        "pred_test=  rand_frst_clf.predict(data_for_testing[features].dropna())"
      ],
      "metadata": {
        "id": "F4mgDuyUA4N6"
      },
      "execution_count": 344,
      "outputs": []
    },
    {
      "cell_type": "code",
      "source": [
        "pred_new=np.concatenate([data_for_testing[features].dropna(),pred_test.reshape(-1,1)],axis=1)\n"
      ],
      "metadata": {
        "id": "a-tuxz2ODLGK"
      },
      "execution_count": 345,
      "outputs": []
    },
    {
      "cell_type": "code",
      "source": [
        "y_pred_final = rand_second_clf.predict(pred_new)"
      ],
      "metadata": {
        "id": "1oIQM0DSDkyF"
      },
      "execution_count": 346,
      "outputs": []
    },
    {
      "cell_type": "code",
      "source": [
        "final=data_for_testing[-len(y_pred_final):].reset_index(drop=True)"
      ],
      "metadata": {
        "id": "8hKCRYKBD9WE"
      },
      "execution_count": 347,
      "outputs": []
    },
    {
      "cell_type": "code",
      "source": [
        "final=pd.concat([final,pd.Series(y_pred_final).rename('pred')],axis=1)"
      ],
      "metadata": {
        "id": "UQD2ILZSEHdQ"
      },
      "execution_count": 348,
      "outputs": []
    },
    {
      "cell_type": "code",
      "source": [
        "from sklearn.metrics import confusion_matrix, plot_confusion_matrix\n",
        "\n",
        "rf_matrix = confusion_matrix(final.signal,final.pred)\n",
        "\n",
        "true_negatives = rf_matrix[0][0]\n",
        "false_negatives = rf_matrix[1][0]\n",
        "true_positives = rf_matrix[1][1]\n",
        "false_positives = rf_matrix[0][1]\n",
        "from sklearn.metrics import average_precision_score,f1_score\n",
        "average_precision = average_precision_score(final.signal,final.pred)\n",
        "f1=f1_score(final.signal,final.pred,average=None)\n",
        "accuracy = (true_negatives + true_positives) / (true_negatives + true_positives + false_negatives + false_positives)\n",
        "percision = true_positives / (true_positives + false_positives)\n",
        "recall = true_positives / (true_positives + false_negatives)\n",
        "specificity = true_negatives / (true_negatives + false_positives)\n",
        "f1score= 2*recall*percision/(percision+recall)\n",
        "print('Accuracy: {}'.format(float(accuracy)))\n",
        "print('Percision: {}'.format(float(percision)))\n",
        "print('Recall: {}'.format(float(recall)))\n",
        "print('Specificity: {}'.format(float(specificity)))\n",
        "print('F1-Score: {}'.format(float(f1score)))\n",
        "print('Average Precision : {}'.format(float(average_precision)))\n",
        "print(f'f1 score class wise for down : {round(f1[0]*100)}.00% ,up : {round(f1[1]*100)}.00%')\n",
        "accuracy_pos = (true_positives) / (true_negatives + true_positives + false_negatives + false_positives)\n",
        "accuracy_neg = (true_negatives) / (true_negatives + true_positives + false_negatives + false_positives)\n",
        "print('Accuracy positive: {}'.format(float(accuracy_pos)))\n",
        "print('Accuracy negative {}'.format(float(accuracy_neg)))"
      ],
      "metadata": {
        "id": "a2TBb7hoEYOz",
        "outputId": "7237ad60-1481-4d96-fa1b-01a15fe3904f",
        "colab": {
          "base_uri": "https://localhost:8080/"
        }
      },
      "execution_count": 349,
      "outputs": [
        {
          "output_type": "stream",
          "name": "stdout",
          "text": [
            "Accuracy: 0.7205882352941176\n",
            "Percision: 0.8260869565217391\n",
            "Recall: 0.6867469879518072\n",
            "Specificity: 0.7735849056603774\n",
            "F1-Score: 0.75\n",
            "Average Precision : 0.7584891997658152\n",
            "f1 score class wise for down : 68.00% ,up : 75.00%\n",
            "Accuracy positive: 0.41911764705882354\n",
            "Accuracy negative 0.3014705882352941\n"
          ]
        }
      ]
    },
    {
      "cell_type": "code",
      "source": [
        "#final['plot']=np.where(final['pred']==final['signal'],1,0)"
      ],
      "metadata": {
        "id": "BMwK7RXPZOUu"
      },
      "execution_count": 350,
      "outputs": []
    },
    {
      "cell_type": "code",
      "source": [
        "plt.figure()\n",
        "final[['close','pred','signal']][-len(y_pred_final):].plot(secondary_y=['close'],legend=True,figsize=(13,5));\n"
      ],
      "metadata": {
        "id": "Hn8gpIY5E356",
        "outputId": "b1c86436-a680-42a0-f85c-a484be7c2c23",
        "colab": {
          "base_uri": "https://localhost:8080/",
          "height": 337
        }
      },
      "execution_count": 351,
      "outputs": [
        {
          "output_type": "display_data",
          "data": {
            "text/plain": [
              "<Figure size 432x288 with 0 Axes>"
            ]
          },
          "metadata": {}
        },
        {
          "output_type": "display_data",
          "data": {
            "image/png": "[encoded data removed]",
            "text/plain": [
              "<Figure size 936x360 with 2 Axes>"
            ]
          },
          "metadata": {
            "needs_background": "light"
          }
        }
      ]
    },
    {
      "cell_type": "code",
      "source": [
        "rf_matrix "
      ],
      "metadata": {
        "id": "Mxfe7lQPE_SR",
        "colab": {
          "base_uri": "https://localhost:8080/"
        },
        "outputId": "c93485b1-34a6-4114-eef2-17e768ff1b02"
      },
      "execution_count": 352,
      "outputs": [
        {
          "output_type": "execute_result",
          "data": {
            "text/plain": [
              "array([[41, 12],\n",
              "       [26, 57]])"
            ]
          },
          "metadata": {},
          "execution_count": 352
        }
      ]
    },
    {
      "cell_type": "code",
      "source": [
        "final.tail(2)"
      ],
      "metadata": {
        "id": "kBovigI-KjFx",
        "outputId": "e7536380-f7e1-4458-fc92-a2fbe7ef1d3d",
        "colab": {
          "base_uri": "https://localhost:8080/",
          "height": 193
        }
      },
      "execution_count": 356,
      "outputs": [
        {
          "output_type": "execute_result",
          "data": {
            "text/html": [
              "\n",
              "  <div id=\"df-c0b60340-c376-4c4b-95aa-8ef184bcf94e\">\n",
              "    <div class=\"colab-df-container\">\n",
              "      <div>\n",
              "<style scoped>\n",
              "    .dataframe tbody tr th:only-of-type {\n",
              "        vertical-align: middle;\n",
              "    }\n",
              "\n",
              "    .dataframe tbody tr th {\n",
              "        vertical-align: top;\n",
              "    }\n",
              "\n",
              "    .dataframe thead th {\n",
              "        text-align: right;\n",
              "    }\n",
              "</style>\n",
              "<table border=\"1\" class=\"dataframe\">\n",
              "  <thead>\n",
              "    <tr style=\"text-align: right;\">\n",
              "      <th></th>\n",
              "      <th>date</th>\n",
              "      <th>open</th>\n",
              "      <th>high</th>\n",
              "      <th>low</th>\n",
              "      <th>close</th>\n",
              "      <th>adj_close</th>\n",
              "      <th>volume</th>\n",
              "      <th>MACD_30_45_18</th>\n",
              "      <th>MACDh_30_45_18</th>\n",
              "      <th>MACDs_30_45_18</th>\n",
              "      <th>VTXP_28</th>\n",
              "      <th>VTXM_28</th>\n",
              "      <th>AROOND_28</th>\n",
              "      <th>AROONU_28</th>\n",
              "      <th>AROONOSC_28</th>\n",
              "      <th>EMA_26</th>\n",
              "      <th>KURT_30</th>\n",
              "      <th>LR_28</th>\n",
              "      <th>QTL_30_0.5</th>\n",
              "      <th>cluster</th>\n",
              "      <th>fast</th>\n",
              "      <th>slow</th>\n",
              "      <th>bband</th>\n",
              "      <th>avg</th>\n",
              "      <th>Sdev</th>\n",
              "      <th>Upper Band</th>\n",
              "      <th>Lower Band</th>\n",
              "      <th>signal</th>\n",
              "      <th>pred</th>\n",
              "      <th>Return</th>\n",
              "      <th>Strategy_Return</th>\n",
              "    </tr>\n",
              "  </thead>\n",
              "  <tbody>\n",
              "    <tr>\n",
              "      <th>134</th>\n",
              "      <td>738161</td>\n",
              "      <td>41.820000</td>\n",
              "      <td>41.820000</td>\n",
              "      <td>41.180000</td>\n",
              "      <td>41.240002</td>\n",
              "      <td>41.240002</td>\n",
              "      <td>2415846</td>\n",
              "      <td>0.033725</td>\n",
              "      <td>-0.025011</td>\n",
              "      <td>0.058736</td>\n",
              "      <td>0.946102</td>\n",
              "      <td>0.951448</td>\n",
              "      <td>7.142857</td>\n",
              "      <td>89.285714</td>\n",
              "      <td>82.142857</td>\n",
              "      <td>41.533413</td>\n",
              "      <td>0.725648</td>\n",
              "      <td>41.628520</td>\n",
              "      <td>41.514999</td>\n",
              "      <td>1</td>\n",
              "      <td>41.492308</td>\n",
              "      <td>41.625385</td>\n",
              "      <td>24.639290</td>\n",
              "      <td>24.712831</td>\n",
              "      <td>0.050385</td>\n",
              "      <td>24.753139</td>\n",
              "      <td>24.672523</td>\n",
              "      <td>0</td>\n",
              "      <td>0</td>\n",
              "      <td>-0.007700</td>\n",
              "      <td>-0.0</td>\n",
              "    </tr>\n",
              "    <tr>\n",
              "      <th>135</th>\n",
              "      <td>738162</td>\n",
              "      <td>41.580002</td>\n",
              "      <td>41.580002</td>\n",
              "      <td>41.009998</td>\n",
              "      <td>41.090000</td>\n",
              "      <td>41.090000</td>\n",
              "      <td>2964619</td>\n",
              "      <td>0.022991</td>\n",
              "      <td>-0.031982</td>\n",
              "      <td>0.054973</td>\n",
              "      <td>0.947556</td>\n",
              "      <td>0.958667</td>\n",
              "      <td>3.571429</td>\n",
              "      <td>85.714286</td>\n",
              "      <td>82.142857</td>\n",
              "      <td>41.500568</td>\n",
              "      <td>0.562625</td>\n",
              "      <td>41.579926</td>\n",
              "      <td>41.504999</td>\n",
              "      <td>1</td>\n",
              "      <td>41.496538</td>\n",
              "      <td>41.615962</td>\n",
              "      <td>24.627133</td>\n",
              "      <td>24.694141</td>\n",
              "      <td>0.047038</td>\n",
              "      <td>24.731771</td>\n",
              "      <td>24.656510</td>\n",
              "      <td>0</td>\n",
              "      <td>0</td>\n",
              "      <td>-0.003637</td>\n",
              "      <td>-0.0</td>\n",
              "    </tr>\n",
              "  </tbody>\n",
              "</table>\n",
              "</div>\n",
              "      <button class=\"colab-df-convert\" onclick=\"convertToInteractive('df-c0b60340-c376-4c4b-95aa-8ef184bcf94e')\"\n",
              "              title=\"Convert this dataframe to an interactive table.\"\n",
              "              style=\"display:none;\">\n",
              "        \n",
              "  <svg xmlns=\"http://www.w3.org/2000/svg\" height=\"24px\"viewBox=\"0 0 24 24\"\n",
              "       width=\"24px\">\n",
              "    <path d=\"M0 0h24v24H0V0z\" fill=\"none\"/>\n",
              "    <path d=\"M18.56 5.44l.94 2.06.94-2.06 2.06-.94-2.06-.94-.94-2.06-.94 2.06-2.06.94zm-11 1L8.5 8.5l.94-2.06 2.06-.94-2.06-.94L8.5 2.5l-.94 2.06-2.06.94zm10 10l.94 2.06.94-2.06 2.06-.94-2.06-.94-.94-2.06-.94 2.06-2.06.94z\"/><path d=\"M17.41 7.96l-1.37-1.37c-.4-.4-.92-.59-1.43-.59-.52 0-1.04.2-1.43.59L10.3 9.45l-7.72 7.72c-.78.78-.78 2.05 0 2.83L4 21.41c.39.39.9.59 1.41.59.51 0 1.02-.2 1.41-.59l7.78-7.78 2.81-2.81c.8-.78.8-2.07 0-2.86zM5.41 20L4 18.59l7.72-7.72 1.47 1.35L5.41 20z\"/>\n",
              "  </svg>\n",
              "      </button>\n",
              "      \n",
              "  <style>\n",
              "    .colab-df-container {\n",
              "      display:flex;\n",
              "      flex-wrap:wrap;\n",
              "      gap: 12px;\n",
              "    }\n",
              "\n",
              "    .colab-df-convert {\n",
              "      background-color: #E8F0FE;\n",
              "      border: none;\n",
              "      border-radius: 50%;\n",
              "      cursor: pointer;\n",
              "      display: none;\n",
              "      fill: #1967D2;\n",
              "      height: 32px;\n",
              "      padding: 0 0 0 0;\n",
              "      width: 32px;\n",
              "    }\n",
              "\n",
              "    .colab-df-convert:hover {\n",
              "      background-color: #E2EBFA;\n",
              "      box-shadow: 0px 1px 2px rgba(60, 64, 67, 0.3), 0px 1px 3px 1px rgba(60, 64, 67, 0.15);\n",
              "      fill: #174EA6;\n",
              "    }\n",
              "\n",
              "    [theme=dark] .colab-df-convert {\n",
              "      background-color: #3B4455;\n",
              "      fill: #D2E3FC;\n",
              "    }\n",
              "\n",
              "    [theme=dark] .colab-df-convert:hover {\n",
              "      background-color: #434B5C;\n",
              "      box-shadow: 0px 1px 3px 1px rgba(0, 0, 0, 0.15);\n",
              "      filter: drop-shadow(0px 1px 2px rgba(0, 0, 0, 0.3));\n",
              "      fill: #FFFFFF;\n",
              "    }\n",
              "  </style>\n",
              "\n",
              "      <script>\n",
              "        const buttonEl =\n",
              "          document.querySelector('#df-c0b60340-c376-4c4b-95aa-8ef184bcf94e button.colab-df-convert');\n",
              "        buttonEl.style.display =\n",
              "          google.colab.kernel.accessAllowed ? 'block' : 'none';\n",
              "\n",
              "        async function convertToInteractive(key) {\n",
              "          const element = document.querySelector('#df-c0b60340-c376-4c4b-95aa-8ef184bcf94e');\n",
              "          const dataTable =\n",
              "            await google.colab.kernel.invokeFunction('convertToInteractive',\n",
              "                                                     [key], {});\n",
              "          if (!dataTable) return;\n",
              "\n",
              "          const docLinkHtml = 'Like what you see? Visit the ' +\n",
              "            '<a target=\"_blank\" href=https://colab.research.google.com/notebooks/data_table.ipynb>data table notebook</a>'\n",
              "            + ' to learn more about interactive tables.';\n",
              "          element.innerHTML = '';\n",
              "          dataTable['output_type'] = 'display_data';\n",
              "          await google.colab.output.renderOutput(dataTable, element);\n",
              "          const docLink = document.createElement('div');\n",
              "          docLink.innerHTML = docLinkHtml;\n",
              "          element.appendChild(docLink);\n",
              "        }\n",
              "      </script>\n",
              "    </div>\n",
              "  </div>\n",
              "  "
            ],
            "text/plain": [
              "       date       open       high  ...  pred    Return  Strategy_Return\n",
              "134  738161  41.820000  41.820000  ...     0 -0.007700             -0.0\n",
              "135  738162  41.580002  41.580002  ...     0 -0.003637             -0.0\n",
              "\n",
              "[2 rows x 31 columns]"
            ]
          },
          "metadata": {},
          "execution_count": 356
        }
      ]
    },
    {
      "cell_type": "code",
      "source": [
        "y_true = final.signal\n",
        "y_pred = final.pred\n",
        "target_names = ['class 1', 'class 2']\n",
        "print(classification_report(y_true, y_pred, target_names=target_names))"
      ],
      "metadata": {
        "id": "WR8Re-trKZTI",
        "outputId": "06012137-75b4-4490-e714-6636a9cd80c6",
        "colab": {
          "base_uri": "https://localhost:8080/"
        }
      },
      "execution_count": 354,
      "outputs": [
        {
          "output_type": "stream",
          "name": "stdout",
          "text": [
            "              precision    recall  f1-score   support\n",
            "\n",
            "     class 1       0.61      0.77      0.68        53\n",
            "     class 2       0.83      0.69      0.75        83\n",
            "\n",
            "    accuracy                           0.72       136\n",
            "   macro avg       0.72      0.73      0.72       136\n",
            "weighted avg       0.74      0.72      0.72       136\n",
            "\n"
          ]
        }
      ]
    },
    {
      "cell_type": "code",
      "source": [
        "# Calculate daily returns\n",
        "final['Return'] = final.adj_close.pct_change()\n",
        "\n",
        "# Calculate strategy returns\n",
        "final['Strategy_Return'] = final.Return * final.pred.shift(1)\n",
        "\n",
        "# Calculate geometric returns\n",
        "geometric_returns = (final.Strategy_Return+1).cumprod()\n",
        "\n",
        "# Plot geometric returns\n",
        "geometric_returns.plot(figsize=(10, 7),color='g')\n",
        "plt.ylabel(\"Strategy Returns (%)\")\n",
        "plt.xlabel(\"Date\")\n",
        "plt.show()"
      ],
      "metadata": {
        "id": "SBhqeZ26KgXv",
        "outputId": "c951c8cb-d8d2-4908-8c0a-ed9e2807d6c1",
        "colab": {
          "base_uri": "https://localhost:8080/",
          "height": 442
        }
      },
      "execution_count": 355,
      "outputs": [
        {
          "output_type": "display_data",
          "data": {
            "image/png": "[encoded data removed]",
            "text/plain": [
              "<Figure size 720x504 with 1 Axes>"
            ]
          },
          "metadata": {
            "needs_background": "light"
          }
        }
      ]
    }
  ]
}