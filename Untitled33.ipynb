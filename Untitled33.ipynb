{
  "nbformat": 4,
  "nbformat_minor": 0,
  "metadata": {
    "colab": {
      "name": "Copy of Copy of Untitled33.ipynb",
      "provenance": [],
      "collapsed_sections": [],
      "authorship_tag": "ABX9TyMEHq4vIdI0XolB7LCeDlpk",
      "include_colab_link": true
    },
    "kernelspec": {
      "name": "python3",
      "display_name": "Python 3"
    },
    "language_info": {
      "name": "python"
    }
  },
  "cells": [
    {
      "cell_type": "markdown",
      "metadata": {
        "id": "view-in-github",
        "colab_type": "text"
      },
      "source": [
        "<a href=\"https://colab.research.google.com/github/anirbanghoshsbi/.github.io/blob/master/Untitled33.ipynb\" target=\"_parent\"><img src=\"https://colab.research.google.com/assets/colab-badge.svg\" alt=\"Open In Colab\"/></a>"
      ]
    },
    {
      "cell_type": "code",
      "execution_count": 479,
      "metadata": {
        "id": "RJLXQ-P0K8Aq"
      },
      "outputs": [],
      "source": [
        "# import  data\n",
        "# Create Features"
      ]
    },
    {
      "cell_type": "code",
      "source": [
        "class BlockingTimeSeriesSplit():\n",
        "    def __init__(self, n_splits):\n",
        "        self.n_splits = n_splits\n",
        "    \n",
        "    def get_n_splits(self, X, y, groups):\n",
        "        return self.n_splits\n",
        "    \n",
        "    def split(self, X, y=None, groups=None):\n",
        "        n_samples = len(X)\n",
        "        k_fold_size = n_samples // self.n_splits\n",
        "        indices = np.arange(n_samples)\n",
        "\n",
        "        margin = 0\n",
        "        for i in range(self.n_splits):\n",
        "            start = i * k_fold_size\n",
        "            stop = start + k_fold_size\n",
        "            mid = int(0.8 * (stop - start)) + start\n",
        "            yield indices[start: mid], indices[mid + margin: stop]"
      ],
      "metadata": {
        "id": "6AzTX_MiSaDG"
      },
      "execution_count": 480,
      "outputs": []
    },
    {
      "cell_type": "code",
      "source": [
        "#!pip install yfinance \n",
        "#!pip install pandas-ta==0.2.45b"
      ],
      "metadata": {
        "id": "RQdvmTa-LEga"
      },
      "execution_count": 481,
      "outputs": []
    },
    {
      "cell_type": "code",
      "source": [
        "import yfinance as yf\n",
        "import pandas as pd\n",
        "import numpy as np\n",
        "import pandas_ta as ta\n",
        "from sklearn.ensemble import RandomForestClassifier\n",
        "from sklearn.metrics import accuracy_score, classification_report,f1_score\n",
        "import datetime as dt\n",
        "import matplotlib.pyplot as plt\n",
        "from sklearn.preprocessing import StandardScaler\n",
        "pd.options.mode.chained_assignment = None"
      ],
      "metadata": {
        "id": "RZBVdD0ULG3B"
      },
      "execution_count": 482,
      "outputs": []
    },
    {
      "cell_type": "code",
      "source": [
        "ticker='^nsei'\n",
        "days_out=25\n"
      ],
      "metadata": {
        "id": "_bmzbTS2YUhP"
      },
      "execution_count": 483,
      "outputs": []
    },
    {
      "cell_type": "code",
      "source": [
        "data_for_modeling=yf.download(ticker,start='2007-01-01',end='2020-12-01',parse_dates=['Date']).reset_index()"
      ],
      "metadata": {
        "colab": {
          "base_uri": "https://localhost:8080/"
        },
        "id": "MohPTwvYLxJY",
        "outputId": "af48bbf9-c1ec-4729-d7d3-23be35e3aca8"
      },
      "execution_count": 484,
      "outputs": [
        {
          "output_type": "stream",
          "name": "stdout",
          "text": [
            "\r[*********************100%***********************]  1 of 1 completed\n"
          ]
        }
      ]
    },
    {
      "cell_type": "code",
      "source": [
        "data_for_modeling['Date']=data_for_modeling['Date'].map(dt.datetime.toordinal)"
      ],
      "metadata": {
        "id": "KLity-dKSITv"
      },
      "execution_count": 485,
      "outputs": []
    },
    {
      "cell_type": "code",
      "source": [
        "from numpy.lib.function_base import append\n",
        "data_for_modeling.ta.macd(fast=45, slow= 30, signal=18, append=True)\n",
        "data_for_modeling.ta.vortex(length=28,append=True)\n",
        "data_for_modeling.ta.aroon(length=28,append=True)\n",
        "data_for_modeling.ta.ema(length=26,append=True)\n",
        "#data_for_modeling.ta.bbands(append=True)\n",
        "#data_for_modeling.ta.percent_return(length=28,append=True)\n",
        "#data_for_modeling.ta.log_return(length=28,append=True)\n",
        "data_for_modeling.ta.kurtosis(append=True)\n",
        "data_for_modeling.ta.linreg(length=28,append=True)\n",
        "data_for_modeling.ta.quantile(append=True)\n",
        "\n",
        "print()"
      ],
      "metadata": {
        "colab": {
          "base_uri": "https://localhost:8080/"
        },
        "id": "cyboLf5qLzQ5",
        "outputId": "4e0cb399-6c53-445c-a3ee-a4e9b663785a"
      },
      "execution_count": 486,
      "outputs": [
        {
          "output_type": "stream",
          "name": "stdout",
          "text": [
            "\n"
          ]
        }
      ]
    },
    {
      "cell_type": "code",
      "source": [
        "sc=StandardScaler()"
      ],
      "metadata": {
        "id": "35rXvPEkvakn"
      },
      "execution_count": 487,
      "outputs": []
    },
    {
      "cell_type": "code",
      "source": [
        "X = np.array((data_for_modeling['adj_close'].pct_change(50)).dropna()) #  -df['Close'].rolling(window=200).mean()).dropna()\n",
        "X=sc.fit_transform(X.reshape(-1,1))\n",
        "from sklearn.cluster import KMeans \n",
        "kmeans = KMeans(n_clusters= 4).fit(X.reshape(-1,1))\n",
        "c = kmeans.predict(X.reshape(-1,1))"
      ],
      "metadata": {
        "id": "rBz_e3Efu-MI"
      },
      "execution_count": 488,
      "outputs": []
    },
    {
      "cell_type": "code",
      "source": [
        "data_for_modeling=data_for_modeling[-c.shape[0]:]"
      ],
      "metadata": {
        "id": "wjGQY8hdvI2f"
      },
      "execution_count": 489,
      "outputs": []
    },
    {
      "cell_type": "code",
      "source": [
        "data_for_modeling['cluster']=c"
      ],
      "metadata": {
        "id": "Nl1NKfZ6vvaH"
      },
      "execution_count": 490,
      "outputs": []
    },
    {
      "cell_type": "code",
      "source": [
        "data_for_modeling.columns"
      ],
      "metadata": {
        "colab": {
          "base_uri": "https://localhost:8080/"
        },
        "id": "syNJMPrdL7Xy",
        "outputId": "ecbea922-39dc-44a5-ae02-b8c718ce8f7e"
      },
      "execution_count": 491,
      "outputs": [
        {
          "output_type": "execute_result",
          "data": {
            "text/plain": [
              "Index(['date', 'open', 'high', 'low', 'close', 'adj_close', 'volume',\n",
              "       'MACD_30_45_18', 'MACDh_30_45_18', 'MACDs_30_45_18', 'VTXP_28',\n",
              "       'VTXM_28', 'AROOND_28', 'AROONU_28', 'AROONOSC_28', 'EMA_26', 'KURT_30',\n",
              "       'LR_28', 'QTL_30_0.5', 'cluster'],\n",
              "      dtype='object')"
            ]
          },
          "metadata": {},
          "execution_count": 491
        }
      ]
    },
    {
      "cell_type": "code",
      "source": [
        "rapida = 26\n",
        "lenta = 52\n",
        "stdv = 0.8\n",
        "data_for_modeling['fast'] =data_for_modeling['adj_close'].rolling(window=rapida).mean() \n",
        "data_for_modeling['slow'] =data_for_modeling['adj_close'].rolling(window=lenta).mean()\n",
        "data_for_modeling['bband']= data_for_modeling['fast']-data_for_modeling['slow']\n",
        "data_for_modeling['avg'] = data_for_modeling['bband'].rolling(window=9).mean()\n",
        "data_for_modeling['Sdev'] = data_for_modeling['bband'].rolling(window=9).std()\n",
        "data_for_modeling['Upper Band'] = data_for_modeling['avg'] + (data_for_modeling['Sdev'] *stdv)\n",
        "data_for_modeling['Lower Band'] = data_for_modeling['avg'] - (data_for_modeling['Sdev'] *stdv)"
      ],
      "metadata": {
        "id": "NEdfGNdaMAoI"
      },
      "execution_count": 492,
      "outputs": []
    },
    {
      "cell_type": "code",
      "source": [
        "data_for_modeling['signal']=data_for_modeling['adj_close'].transform(lambda x : np.sign(x.diff(days_out)))"
      ],
      "metadata": {
        "id": "iGXTewdiM9JQ"
      },
      "execution_count": 493,
      "outputs": []
    },
    {
      "cell_type": "code",
      "source": [
        "data_for_modeling.tail(2)"
      ],
      "metadata": {
        "colab": {
          "base_uri": "https://localhost:8080/",
          "height": 193
        },
        "id": "tWVjTWTqLvoY",
        "outputId": "c2632e47-b135-4089-9700-394913f89894"
      },
      "execution_count": 494,
      "outputs": [
        {
          "output_type": "execute_result",
          "data": {
            "text/html": [
              "\n",
              "  <div id=\"df-ae955e10-6406-43aa-b207-c220f5753c77\">\n",
              "    <div class=\"colab-df-container\">\n",
              "      <div>\n",
              "<style scoped>\n",
              "    .dataframe tbody tr th:only-of-type {\n",
              "        vertical-align: middle;\n",
              "    }\n",
              "\n",
              "    .dataframe tbody tr th {\n",
              "        vertical-align: top;\n",
              "    }\n",
              "\n",
              "    .dataframe thead th {\n",
              "        text-align: right;\n",
              "    }\n",
              "</style>\n",
              "<table border=\"1\" class=\"dataframe\">\n",
              "  <thead>\n",
              "    <tr style=\"text-align: right;\">\n",
              "      <th></th>\n",
              "      <th>date</th>\n",
              "      <th>open</th>\n",
              "      <th>high</th>\n",
              "      <th>low</th>\n",
              "      <th>close</th>\n",
              "      <th>adj_close</th>\n",
              "      <th>volume</th>\n",
              "      <th>MACD_30_45_18</th>\n",
              "      <th>MACDh_30_45_18</th>\n",
              "      <th>MACDs_30_45_18</th>\n",
              "      <th>VTXP_28</th>\n",
              "      <th>VTXM_28</th>\n",
              "      <th>AROOND_28</th>\n",
              "      <th>AROONU_28</th>\n",
              "      <th>AROONOSC_28</th>\n",
              "      <th>EMA_26</th>\n",
              "      <th>KURT_30</th>\n",
              "      <th>LR_28</th>\n",
              "      <th>QTL_30_0.5</th>\n",
              "      <th>cluster</th>\n",
              "      <th>fast</th>\n",
              "      <th>slow</th>\n",
              "      <th>bband</th>\n",
              "      <th>avg</th>\n",
              "      <th>Sdev</th>\n",
              "      <th>Upper Band</th>\n",
              "      <th>Lower Band</th>\n",
              "      <th>signal</th>\n",
              "    </tr>\n",
              "  </thead>\n",
              "  <tbody>\n",
              "    <tr>\n",
              "      <th>3227</th>\n",
              "      <td>737755</td>\n",
              "      <td>12906.450195</td>\n",
              "      <td>13018.000000</td>\n",
              "      <td>12790.400391</td>\n",
              "      <td>12987.000000</td>\n",
              "      <td>12987.000000</td>\n",
              "      <td>549800</td>\n",
              "      <td>218.999831</td>\n",
              "      <td>48.308906</td>\n",
              "      <td>170.690924</td>\n",
              "      <td>1.122996</td>\n",
              "      <td>0.766694</td>\n",
              "      <td>35.714286</td>\n",
              "      <td>96.428571</td>\n",
              "      <td>60.714286</td>\n",
              "      <td>12455.352260</td>\n",
              "      <td>-1.734032</td>\n",
              "      <td>12992.980964</td>\n",
              "      <td>12028.975098</td>\n",
              "      <td>3</td>\n",
              "      <td>12336.986591</td>\n",
              "      <td>11933.806716</td>\n",
              "      <td>403.179875</td>\n",
              "      <td>356.075790</td>\n",
              "      <td>30.185073</td>\n",
              "      <td>380.223849</td>\n",
              "      <td>331.927731</td>\n",
              "      <td>1.0</td>\n",
              "    </tr>\n",
              "    <tr>\n",
              "      <th>3228</th>\n",
              "      <td>737756</td>\n",
              "      <td>13012.049805</td>\n",
              "      <td>13035.299805</td>\n",
              "      <td>12914.299805</td>\n",
              "      <td>12968.950195</td>\n",
              "      <td>12968.950195</td>\n",
              "      <td>1162400</td>\n",
              "      <td>221.771885</td>\n",
              "      <td>45.704017</td>\n",
              "      <td>176.067868</td>\n",
              "      <td>1.129261</td>\n",
              "      <td>0.783684</td>\n",
              "      <td>32.142857</td>\n",
              "      <td>92.857143</td>\n",
              "      <td>60.714286</td>\n",
              "      <td>12493.396551</td>\n",
              "      <td>-1.793992</td>\n",
              "      <td>13050.651660</td>\n",
              "      <td>12191.924805</td>\n",
              "      <td>3</td>\n",
              "      <td>12376.651968</td>\n",
              "      <td>11963.208646</td>\n",
              "      <td>413.443322</td>\n",
              "      <td>367.053569</td>\n",
              "      <td>31.182703</td>\n",
              "      <td>391.999732</td>\n",
              "      <td>342.107407</td>\n",
              "      <td>1.0</td>\n",
              "    </tr>\n",
              "  </tbody>\n",
              "</table>\n",
              "</div>\n",
              "      <button class=\"colab-df-convert\" onclick=\"convertToInteractive('df-ae955e10-6406-43aa-b207-c220f5753c77')\"\n",
              "              title=\"Convert this dataframe to an interactive table.\"\n",
              "              style=\"display:none;\">\n",
              "        \n",
              "  <svg xmlns=\"http://www.w3.org/2000/svg\" height=\"24px\"viewBox=\"0 0 24 24\"\n",
              "       width=\"24px\">\n",
              "    <path d=\"M0 0h24v24H0V0z\" fill=\"none\"/>\n",
              "    <path d=\"M18.56 5.44l.94 2.06.94-2.06 2.06-.94-2.06-.94-.94-2.06-.94 2.06-2.06.94zm-11 1L8.5 8.5l.94-2.06 2.06-.94-2.06-.94L8.5 2.5l-.94 2.06-2.06.94zm10 10l.94 2.06.94-2.06 2.06-.94-2.06-.94-.94-2.06-.94 2.06-2.06.94z\"/><path d=\"M17.41 7.96l-1.37-1.37c-.4-.4-.92-.59-1.43-.59-.52 0-1.04.2-1.43.59L10.3 9.45l-7.72 7.72c-.78.78-.78 2.05 0 2.83L4 21.41c.39.39.9.59 1.41.59.51 0 1.02-.2 1.41-.59l7.78-7.78 2.81-2.81c.8-.78.8-2.07 0-2.86zM5.41 20L4 18.59l7.72-7.72 1.47 1.35L5.41 20z\"/>\n",
              "  </svg>\n",
              "      </button>\n",
              "      \n",
              "  <style>\n",
              "    .colab-df-container {\n",
              "      display:flex;\n",
              "      flex-wrap:wrap;\n",
              "      gap: 12px;\n",
              "    }\n",
              "\n",
              "    .colab-df-convert {\n",
              "      background-color: #E8F0FE;\n",
              "      border: none;\n",
              "      border-radius: 50%;\n",
              "      cursor: pointer;\n",
              "      display: none;\n",
              "      fill: #1967D2;\n",
              "      height: 32px;\n",
              "      padding: 0 0 0 0;\n",
              "      width: 32px;\n",
              "    }\n",
              "\n",
              "    .colab-df-convert:hover {\n",
              "      background-color: #E2EBFA;\n",
              "      box-shadow: 0px 1px 2px rgba(60, 64, 67, 0.3), 0px 1px 3px 1px rgba(60, 64, 67, 0.15);\n",
              "      fill: #174EA6;\n",
              "    }\n",
              "\n",
              "    [theme=dark] .colab-df-convert {\n",
              "      background-color: #3B4455;\n",
              "      fill: #D2E3FC;\n",
              "    }\n",
              "\n",
              "    [theme=dark] .colab-df-convert:hover {\n",
              "      background-color: #434B5C;\n",
              "      box-shadow: 0px 1px 3px 1px rgba(0, 0, 0, 0.15);\n",
              "      filter: drop-shadow(0px 1px 2px rgba(0, 0, 0, 0.3));\n",
              "      fill: #FFFFFF;\n",
              "    }\n",
              "  </style>\n",
              "\n",
              "      <script>\n",
              "        const buttonEl =\n",
              "          document.querySelector('#df-ae955e10-6406-43aa-b207-c220f5753c77 button.colab-df-convert');\n",
              "        buttonEl.style.display =\n",
              "          google.colab.kernel.accessAllowed ? 'block' : 'none';\n",
              "\n",
              "        async function convertToInteractive(key) {\n",
              "          const element = document.querySelector('#df-ae955e10-6406-43aa-b207-c220f5753c77');\n",
              "          const dataTable =\n",
              "            await google.colab.kernel.invokeFunction('convertToInteractive',\n",
              "                                                     [key], {});\n",
              "          if (!dataTable) return;\n",
              "\n",
              "          const docLinkHtml = 'Like what you see? Visit the ' +\n",
              "            '<a target=\"_blank\" href=https://colab.research.google.com/notebooks/data_table.ipynb>data table notebook</a>'\n",
              "            + ' to learn more about interactive tables.';\n",
              "          element.innerHTML = '';\n",
              "          dataTable['output_type'] = 'display_data';\n",
              "          await google.colab.output.renderOutput(dataTable, element);\n",
              "          const docLink = document.createElement('div');\n",
              "          docLink.innerHTML = docLinkHtml;\n",
              "          element.appendChild(docLink);\n",
              "        }\n",
              "      </script>\n",
              "    </div>\n",
              "  </div>\n",
              "  "
            ],
            "text/plain": [
              "        date          open          high  ...  Upper Band  Lower Band  signal\n",
              "3227  737755  12906.450195  13018.000000  ...  380.223849  331.927731     1.0\n",
              "3228  737756  13012.049805  13035.299805  ...  391.999732  342.107407     1.0\n",
              "\n",
              "[2 rows x 28 columns]"
            ]
          },
          "metadata": {},
          "execution_count": 494
        }
      ]
    },
    {
      "cell_type": "code",
      "source": [
        "data_for_modeling=data_for_modeling.dropna()"
      ],
      "metadata": {
        "id": "jEuAuzmPPJ-Y"
      },
      "execution_count": 495,
      "outputs": []
    },
    {
      "cell_type": "code",
      "source": [
        "features = [feats for feats in data_for_modeling.columns if feats not in ['fast','slow','signal']]"
      ],
      "metadata": {
        "id": "p49twI6pMpOy"
      },
      "execution_count": 496,
      "outputs": []
    },
    {
      "cell_type": "code",
      "source": [
        "data_for_modeling.columns"
      ],
      "metadata": {
        "colab": {
          "base_uri": "https://localhost:8080/"
        },
        "id": "pWmPyxyPPeOo",
        "outputId": "2138b112-bdc6-4da4-c45b-20def0b03475"
      },
      "execution_count": 497,
      "outputs": [
        {
          "output_type": "execute_result",
          "data": {
            "text/plain": [
              "Index(['date', 'open', 'high', 'low', 'close', 'adj_close', 'volume',\n",
              "       'MACD_30_45_18', 'MACDh_30_45_18', 'MACDs_30_45_18', 'VTXP_28',\n",
              "       'VTXM_28', 'AROOND_28', 'AROONU_28', 'AROONOSC_28', 'EMA_26', 'KURT_30',\n",
              "       'LR_28', 'QTL_30_0.5', 'cluster', 'fast', 'slow', 'bband', 'avg',\n",
              "       'Sdev', 'Upper Band', 'Lower Band', 'signal'],\n",
              "      dtype='object')"
            ]
          },
          "metadata": {},
          "execution_count": 497
        }
      ]
    },
    {
      "cell_type": "code",
      "source": [
        "X=data_for_modeling[features]\n",
        "y=data_for_modeling['signal']"
      ],
      "metadata": {
        "id": "p3NocCqzQfw5"
      },
      "execution_count": 498,
      "outputs": []
    },
    {
      "cell_type": "code",
      "source": [
        "chk='Timeseries' #Block"
      ],
      "metadata": {
        "id": "qZ9axEVrRlwG"
      },
      "execution_count": 499,
      "outputs": []
    },
    {
      "cell_type": "code",
      "source": [
        "from sklearn.model_selection import TimeSeriesSplit\n",
        "\n",
        "if chk=='Block':\n",
        "  tscv = BlockingTimeSeriesSplit(n_splits=8)\n",
        "\n",
        "  for fold, (train_index, test_index) in enumerate(tscv.split(X)):\n",
        "      print(\"Fold: {}\".format(fold))\n",
        "      X_train, X_test = X.iloc[train_index], X.iloc[test_index]\n",
        "      y_train, y_test = y.iloc[train_index], y.iloc[test_index]\n",
        "elif chk=='Timeseries':\n",
        "  tscv = TimeSeriesSplit(n_splits=8)\n",
        "  for fold, (train_index, test_index) in enumerate(tscv.split(X)):\n",
        "      print(\"Fold: {}\".format(fold))\n",
        "      X_train, X_test = X.iloc[train_index], X.iloc[test_index]\n",
        "      y_train, y_test = y.iloc[train_index], y.iloc[test_index]"
      ],
      "metadata": {
        "colab": {
          "base_uri": "https://localhost:8080/"
        },
        "id": "r25w0piaRjhf",
        "outputId": "25bb680a-2b7b-4a36-a657-e6a69ead8a50"
      },
      "execution_count": 500,
      "outputs": [
        {
          "output_type": "stream",
          "name": "stdout",
          "text": [
            "Fold: 0\n",
            "Fold: 1\n",
            "Fold: 2\n",
            "Fold: 3\n",
            "Fold: 4\n",
            "Fold: 5\n",
            "Fold: 6\n",
            "Fold: 7\n"
          ]
        }
      ]
    },
    {
      "cell_type": "code",
      "source": [
        "for train_index, test_index in tscv.split(X,y):\n",
        "    X_train, X_test = X.iloc[train_index], X.iloc[test_index]\n",
        "    y_train, y_test = y.iloc[train_index], y.iloc[test_index]"
      ],
      "metadata": {
        "id": "qKBssIPORov-"
      },
      "execution_count": 501,
      "outputs": []
    },
    {
      "cell_type": "code",
      "source": [
        "#best_param_rf(X_train , y_train)\n"
      ],
      "metadata": {
        "id": "MLJgqHpHRvV-"
      },
      "execution_count": 502,
      "outputs": []
    },
    {
      "cell_type": "code",
      "source": [
        "rand_frst_clf = RandomForestClassifier(n_estimators =220,max_depth=35,min_samples_leaf=14,max_features = \"auto\",min_samples_split=40, criterion = \"gini\", bootstrap=True,random_state = 42)\n"
      ],
      "metadata": {
        "id": "YWHNVewLRq3W"
      },
      "execution_count": 503,
      "outputs": []
    },
    {
      "cell_type": "code",
      "source": [
        "rand_frst_clf.fit(X_train, y_train)"
      ],
      "metadata": {
        "colab": {
          "base_uri": "https://localhost:8080/"
        },
        "id": "r9r2NHivRtKW",
        "outputId": "4d6add2b-0655-4b52-a2eb-7e8abd712abd"
      },
      "execution_count": 504,
      "outputs": [
        {
          "output_type": "execute_result",
          "data": {
            "text/plain": [
              "RandomForestClassifier(max_depth=35, min_samples_leaf=14, min_samples_split=40,\n",
              "                       n_estimators=220, random_state=42)"
            ]
          },
          "metadata": {},
          "execution_count": 504
        }
      ]
    },
    {
      "cell_type": "code",
      "source": [
        "feature_imp = pd.Series(rand_frst_clf.feature_importances_, index=X_train.columns).sort_values(ascending=False)\n",
        "feature_imp*100"
      ],
      "metadata": {
        "colab": {
          "base_uri": "https://localhost:8080/"
        },
        "id": "NWbTiHezIQvg",
        "outputId": "367ad27a-7b68-44d7-fc16-93094d0f18cd"
      },
      "execution_count": 505,
      "outputs": [
        {
          "output_type": "execute_result",
          "data": {
            "text/plain": [
              "VTXP_28           20.343784\n",
              "VTXM_28           20.125942\n",
              "AROONOSC_28       19.924441\n",
              "MACDh_30_45_18    10.344168\n",
              "AROONU_28          9.870246\n",
              "AROOND_28          6.631409\n",
              "MACD_30_45_18      3.184378\n",
              "cluster            1.512886\n",
              "bband              1.500123\n",
              "MACDs_30_45_18     1.102256\n",
              "Lower Band         0.731876\n",
              "Upper Band         0.427137\n",
              "adj_close          0.423664\n",
              "close              0.423458\n",
              "date               0.420255\n",
              "avg                0.401656\n",
              "KURT_30            0.384398\n",
              "high               0.340858\n",
              "Sdev               0.333294\n",
              "low                0.332849\n",
              "EMA_26             0.330521\n",
              "QTL_30_0.5         0.278144\n",
              "LR_28              0.249243\n",
              "open               0.240351\n",
              "volume             0.142665\n",
              "dtype: float64"
            ]
          },
          "metadata": {},
          "execution_count": 505
        }
      ]
    },
    {
      "cell_type": "code",
      "source": [
        "# Make predictions\n",
        "pred_train=  rand_frst_clf.predict(X_train)\n",
        "pred_test = rand_frst_clf.predict(X_test)"
      ],
      "metadata": {
        "id": "rnF6BJXYS1ce"
      },
      "execution_count": 506,
      "outputs": []
    },
    {
      "cell_type": "code",
      "source": [
        "X_train_new=np.concatenate([X_train,pred_train.reshape(-1,1)],axis=1)\n",
        "X_test_new=np.concatenate([X_test,pred_test.reshape(-1,1)],axis=1)"
      ],
      "metadata": {
        "id": "6tX6PErc7o-7"
      },
      "execution_count": 507,
      "outputs": []
    },
    {
      "cell_type": "code",
      "source": [
        "rand_second_clf = RandomForestClassifier(n_estimators =200,max_depth=15,min_samples_leaf=4,max_features = \"auto\",min_samples_split=4, criterion = \"gini\", bootstrap=True,random_state = 42)\n"
      ],
      "metadata": {
        "id": "_ng7RHQP8Fcr"
      },
      "execution_count": 508,
      "outputs": []
    },
    {
      "cell_type": "code",
      "source": [
        "rand_second_clf.fit(X_train_new, y_train)\n"
      ],
      "metadata": {
        "id": "xYAcoKxx8nfk",
        "outputId": "677bb9f1-f0a5-4d04-98b8-92bc974d6c76",
        "colab": {
          "base_uri": "https://localhost:8080/"
        }
      },
      "execution_count": 509,
      "outputs": [
        {
          "output_type": "execute_result",
          "data": {
            "text/plain": [
              "RandomForestClassifier(max_depth=15, min_samples_leaf=4, min_samples_split=4,\n",
              "                       n_estimators=200, random_state=42)"
            ]
          },
          "metadata": {},
          "execution_count": 509
        }
      ]
    },
    {
      "cell_type": "code",
      "source": [
        "feature_imp = pd.Series(rand_second_clf.feature_importances_).sort_values(ascending=False)\n",
        "feature_imp*100"
      ],
      "metadata": {
        "id": "vGXWPNWx9ILj",
        "outputId": "47f6cadc-8afb-458b-938a-a002083862cc",
        "colab": {
          "base_uri": "https://localhost:8080/"
        }
      },
      "execution_count": 510,
      "outputs": [
        {
          "output_type": "execute_result",
          "data": {
            "text/plain": [
              "25    22.280813\n",
              "14    15.008630\n",
              "11    14.405507\n",
              "10    12.077788\n",
              "8      7.639286\n",
              "13     7.578052\n",
              "12     3.903472\n",
              "7      2.896215\n",
              "20     1.623271\n",
              "19     1.234151\n",
              "9      1.168516\n",
              "24     1.023459\n",
              "21     0.916190\n",
              "23     0.909539\n",
              "16     0.844286\n",
              "22     0.776936\n",
              "0      0.754814\n",
              "17     0.661319\n",
              "4      0.657180\n",
              "5      0.649735\n",
              "2      0.597089\n",
              "3      0.578336\n",
              "1      0.523870\n",
              "15     0.520470\n",
              "18     0.492507\n",
              "6      0.278568\n",
              "dtype: float64"
            ]
          },
          "metadata": {},
          "execution_count": 510
        }
      ]
    },
    {
      "cell_type": "code",
      "source": [
        "y_pred = rand_second_clf.predict(X_test_new)"
      ],
      "metadata": {
        "id": "fbeqSdGo9WKa"
      },
      "execution_count": 511,
      "outputs": []
    },
    {
      "cell_type": "code",
      "source": [
        "plt.figure(figsize=(10,5))\n",
        "pd.Series(y_pred).plot();\n"
      ],
      "metadata": {
        "colab": {
          "base_uri": "https://localhost:8080/",
          "height": 320
        },
        "id": "b85B92tmS4Ym",
        "outputId": "68d80ff1-215c-4a00-e463-c377fe4327ae"
      },
      "execution_count": 512,
      "outputs": [
        {
          "output_type": "display_data",
          "data": {
            "image/png": "[encoded data removed]",
            "text/plain": [
              "<Figure size 720x360 with 1 Axes>"
            ]
          },
          "metadata": {
            "needs_background": "light"
          }
        }
      ]
    },
    {
      "cell_type": "code",
      "source": [
        "plt.figure(figsize=(10,5))\n",
        "data_for_modeling[['adj_close','signal']][-len(y_pred):].plot(secondary_y=['signal']);"
      ],
      "metadata": {
        "colab": {
          "base_uri": "https://localhost:8080/",
          "height": 282
        },
        "id": "8wcXXFG0TP2P",
        "outputId": "a93fa3e3-edbc-453b-b826-4f589307aabe"
      },
      "execution_count": 513,
      "outputs": [
        {
          "output_type": "display_data",
          "data": {
            "text/plain": [
              "<Figure size 720x360 with 0 Axes>"
            ]
          },
          "metadata": {}
        },
        {
          "output_type": "display_data",
          "data": {
            "image/png": "[encoded data removed]",
            "text/plain": [
              "<Figure size 432x288 with 2 Axes>"
            ]
          },
          "metadata": {
            "needs_background": "light"
          }
        }
      ]
    },
    {
      "cell_type": "code",
      "source": [
        "dd=data_for_modeling[-len(y_pred):].reset_index(drop=True)"
      ],
      "metadata": {
        "id": "UPG36QhXUZk-"
      },
      "execution_count": 514,
      "outputs": []
    },
    {
      "cell_type": "code",
      "source": [
        "dd=pd.concat([dd,pd.Series(y_pred ).rename('pred')],axis=1)"
      ],
      "metadata": {
        "id": "Kc-SzxyXTqPG"
      },
      "execution_count": 515,
      "outputs": []
    },
    {
      "cell_type": "code",
      "source": [
        "plt.figure(figsize=(10,5))\n",
        "dd[['close','pred','signal']][-len(y_pred):].plot(secondary_y=['close']);"
      ],
      "metadata": {
        "colab": {
          "base_uri": "https://localhost:8080/",
          "height": 282
        },
        "id": "_9LOqAnIUVNf",
        "outputId": "5802d978-cb66-4a0a-f47d-a7c5dede43ed"
      },
      "execution_count": 516,
      "outputs": [
        {
          "output_type": "display_data",
          "data": {
            "text/plain": [
              "<Figure size 720x360 with 0 Axes>"
            ]
          },
          "metadata": {}
        },
        {
          "output_type": "display_data",
          "data": {
            "image/png": "[encoded data removed]",
            "text/plain": [
              "<Figure size 432x288 with 2 Axes>"
            ]
          },
          "metadata": {
            "needs_background": "light"
          }
        }
      ]
    },
    {
      "cell_type": "code",
      "source": [
        "plt.figure(figsize=(10,5))\n",
        "dd[['pred','signal']][-len(y_pred):].plot(secondary_y=['pred']);"
      ],
      "metadata": {
        "colab": {
          "base_uri": "https://localhost:8080/",
          "height": 282
        },
        "id": "ucigXpK7Xh5d",
        "outputId": "6a5e6ae9-e128-433d-eeb5-7ff4c2c330d2"
      },
      "execution_count": 517,
      "outputs": [
        {
          "output_type": "display_data",
          "data": {
            "text/plain": [
              "<Figure size 720x360 with 0 Axes>"
            ]
          },
          "metadata": {}
        },
        {
          "output_type": "display_data",
          "data": {
            "image/png": "[encoded data removed]",
            "text/plain": [
              "<Figure size 432x288 with 2 Axes>"
            ]
          },
          "metadata": {
            "needs_background": "light"
          }
        }
      ]
    },
    {
      "cell_type": "code",
      "source": [
        "dd['signal'][-len(y_pred):].plot();\n",
        "plt.show()\n",
        "dd['pred'][-len(y_pred):].plot();"
      ],
      "metadata": {
        "colab": {
          "base_uri": "https://localhost:8080/",
          "height": 513
        },
        "id": "dbB7QW3bZSc2",
        "outputId": "c0bc8808-9e22-4a58-addc-b79d5f0509d1"
      },
      "execution_count": 518,
      "outputs": [
        {
          "output_type": "display_data",
          "data": {
            "image/png": "[encoded data removed]",
            "text/plain": [
              "<Figure size 432x288 with 1 Axes>"
            ]
          },
          "metadata": {
            "needs_background": "light"
          }
        },
        {
          "output_type": "display_data",
          "data": {
            "image/png": "[encoded data removed]",
            "text/plain": [
              "<Figure size 432x288 with 1 Axes>"
            ]
          },
          "metadata": {
            "needs_background": "light"
          }
        }
      ]
    },
    {
      "cell_type": "code",
      "source": [
        "from sklearn.metrics import confusion_matrix, plot_confusion_matrix\n",
        "\n",
        "rf_matrix = confusion_matrix(dd.signal,dd.pred)\n",
        "\n",
        "true_negatives = rf_matrix[0][0]\n",
        "false_negatives = rf_matrix[1][0]\n",
        "true_positives = rf_matrix[1][1]\n",
        "false_positives = rf_matrix[0][1]\n",
        "from sklearn.metrics import average_precision_score,f1_score\n",
        "average_precision = average_precision_score(dd.signal,dd.pred)\n",
        "f1=f1_score(dd.signal,dd.pred,average=None)\n",
        "accuracy = (true_negatives + true_positives) / (true_negatives + true_positives + false_negatives + false_positives)\n",
        "percision = true_positives / (true_positives + false_positives)\n",
        "recall = true_positives / (true_positives + false_negatives)\n",
        "specificity = true_negatives / (true_negatives + false_positives)\n",
        "f1score= 2*recall*percision/(percision+recall)\n",
        "print('Accuracy: {}'.format(float(accuracy)))\n",
        "print('Percision: {}'.format(float(percision)))\n",
        "print('Recall: {}'.format(float(recall)))\n",
        "print('Specificity: {}'.format(float(specificity)))\n",
        "print('F1-Score: {}'.format(float(f1score)))\n",
        "print('Average Precision : {}'.format(float(average_precision)))\n",
        "print(f'f1 score class wise for down : {round(f1[0]*100)}.00% ,up : {round(f1[1]*100)}.00%')\n",
        "accuracy_pos = (true_positives) / (true_negatives + true_positives + false_negatives + false_positives)\n",
        "accuracy_neg = (true_negatives) / (true_negatives + true_positives + false_negatives + false_positives)\n",
        "print('Accuracy positive: {}'.format(float(accuracy_pos)))\n",
        "print('Accuracy negative {}'.format(float(accuracy_neg)))"
      ],
      "metadata": {
        "id": "5yFyfe9cZ0zE",
        "outputId": "dbead421-7fbd-4a6e-8950-23b1d0b73b62",
        "colab": {
          "base_uri": "https://localhost:8080/"
        }
      },
      "execution_count": 519,
      "outputs": [
        {
          "output_type": "stream",
          "name": "stdout",
          "text": [
            "Accuracy: 0.9277456647398844\n",
            "Percision: 0.923728813559322\n",
            "Recall: 0.9688888888888889\n",
            "Specificity: 0.8512396694214877\n",
            "F1-Score: 0.9457700650759219\n",
            "Average Precision : 0.9152217976769754\n",
            "f1 score class wise for down : 89.00% ,up : 95.00%\n",
            "Accuracy positive: 0.630057803468208\n",
            "Accuracy negative 0.2976878612716763\n"
          ]
        }
      ]
    },
    {
      "cell_type": "markdown",
      "source": [
        "# actual testing"
      ],
      "metadata": {
        "id": "S_ylKeFy_-nJ"
      }
    },
    {
      "cell_type": "code",
      "source": [
        "data_for_testing=yf.download(ticker,start='2021-01-01',parse_dates=['Date']).reset_index()"
      ],
      "metadata": {
        "id": "4xAPoA3L_-Ey",
        "outputId": "2460aba6-9149-4879-904b-3eb662894218",
        "colab": {
          "base_uri": "https://localhost:8080/"
        }
      },
      "execution_count": 520,
      "outputs": [
        {
          "output_type": "stream",
          "name": "stdout",
          "text": [
            "\r[*********************100%***********************]  1 of 1 completed\n"
          ]
        }
      ]
    },
    {
      "cell_type": "code",
      "source": [
        "data_for_testing['Date']=data_for_testing['Date'].map(dt.datetime.toordinal)"
      ],
      "metadata": {
        "id": "FcIKjqJ0B8ix"
      },
      "execution_count": 521,
      "outputs": []
    },
    {
      "cell_type": "code",
      "source": [
        "from numpy.lib.function_base import append\n",
        "data_for_testing.ta.macd(fast=45, slow= 30, signal=18, append=True)\n",
        "data_for_testing.ta.vortex(length=28,append=True)\n",
        "data_for_testing.ta.aroon(length=28,append=True)\n",
        "data_for_testing.ta.ema(length=26,append=True)\n",
        "#data_for_modeling.ta.bbands(append=True)\n",
        "#data_for_modeling.ta.percent_return(length=28,append=True)\n",
        "#data_for_modeling.ta.log_return(length=28,append=True)\n",
        "data_for_testing.ta.kurtosis(append=True)\n",
        "data_for_testing.ta.linreg(length=28,append=True)\n",
        "data_for_testing.ta.quantile(append=True)\n",
        "\n",
        "print()"
      ],
      "metadata": {
        "id": "QmsC_IhtARP6",
        "outputId": "ed28d79e-f3e4-49e0-fb91-c0cd4064671b",
        "colab": {
          "base_uri": "https://localhost:8080/"
        }
      },
      "execution_count": 522,
      "outputs": [
        {
          "output_type": "stream",
          "name": "stdout",
          "text": [
            "\n"
          ]
        }
      ]
    },
    {
      "cell_type": "code",
      "source": [
        "X = np.array((data_for_testing['adj_close'].pct_change(50)).dropna()) #  -df['Close'].rolling(window=200).mean()).dropna()\n",
        "X=sc.fit_transform(X.reshape(-1,1))\n",
        "from sklearn.cluster import KMeans \n",
        "kmeans = KMeans(n_clusters= 4).fit(X.reshape(-1,1))\n",
        "c = kmeans.predict(X.reshape(-1,1))\n",
        "data_for_testing=data_for_testing[-c.shape[0]:]\n",
        "data_for_testing['cluster']=c"
      ],
      "metadata": {
        "id": "G1qjtNA3wZzw"
      },
      "execution_count": 523,
      "outputs": []
    },
    {
      "cell_type": "code",
      "source": [
        "rapida = 26\n",
        "lenta = 52\n",
        "stdv = 0.8\n",
        "data_for_testing['fast'] =data_for_testing['adj_close'].rolling(window=rapida).mean() \n",
        "data_for_testing['slow'] =data_for_testing['adj_close'].rolling(window=lenta).mean()\n",
        "data_for_testing['bband']= data_for_testing['fast']-data_for_modeling['slow']\n",
        "data_for_testing['avg'] = data_for_testing['bband'].rolling(window=9).mean()\n",
        "data_for_testing['Sdev'] = data_for_testing['bband'].rolling(window=9).std()\n",
        "data_for_testing['Upper Band'] = data_for_testing['avg'] + (data_for_testing['Sdev'] *stdv)\n",
        "data_for_testing['Lower Band'] = data_for_testing['avg'] - (data_for_testing['Sdev'] *stdv)"
      ],
      "metadata": {
        "id": "zFZxKnTYBILA"
      },
      "execution_count": 524,
      "outputs": []
    },
    {
      "cell_type": "code",
      "source": [
        "data_for_testing['signal']=data_for_testing['adj_close'].transform(lambda x : np.sign(x.diff(days_out)))"
      ],
      "metadata": {
        "id": "iRWbkoSPBWty"
      },
      "execution_count": 525,
      "outputs": []
    },
    {
      "cell_type": "code",
      "source": [
        "# Make predictions\n",
        "pred_test=  rand_frst_clf.predict(data_for_testing[features].dropna())"
      ],
      "metadata": {
        "id": "F4mgDuyUA4N6"
      },
      "execution_count": 526,
      "outputs": []
    },
    {
      "cell_type": "code",
      "source": [
        "pred_new=np.concatenate([data_for_testing[features].dropna(),pred_test.reshape(-1,1)],axis=1)\n"
      ],
      "metadata": {
        "id": "a-tuxz2ODLGK"
      },
      "execution_count": 527,
      "outputs": []
    },
    {
      "cell_type": "code",
      "source": [
        "y_pred_final = rand_second_clf.predict(pred_new)"
      ],
      "metadata": {
        "id": "1oIQM0DSDkyF"
      },
      "execution_count": 528,
      "outputs": []
    },
    {
      "cell_type": "code",
      "source": [
        "final=data_for_testing[-len(y_pred_final):].reset_index(drop=True)"
      ],
      "metadata": {
        "id": "8hKCRYKBD9WE"
      },
      "execution_count": 529,
      "outputs": []
    },
    {
      "cell_type": "code",
      "source": [
        "final=pd.concat([final,pd.Series(y_pred_final).rename('pred')],axis=1)"
      ],
      "metadata": {
        "id": "UQD2ILZSEHdQ"
      },
      "execution_count": 530,
      "outputs": []
    },
    {
      "cell_type": "code",
      "source": [
        "from sklearn.metrics import confusion_matrix, plot_confusion_matrix\n",
        "\n",
        "rf_matrix = confusion_matrix(final.signal,final.pred)\n",
        "\n",
        "true_negatives = rf_matrix[0][0]\n",
        "false_negatives = rf_matrix[1][0]\n",
        "true_positives = rf_matrix[1][1]\n",
        "false_positives = rf_matrix[0][1]\n",
        "from sklearn.metrics import average_precision_score,f1_score\n",
        "average_precision = average_precision_score(final.signal,final.pred)\n",
        "f1=f1_score(final.signal,final.pred,average=None)\n",
        "accuracy = (true_negatives + true_positives) / (true_negatives + true_positives + false_negatives + false_positives)\n",
        "percision = true_positives / (true_positives + false_positives)\n",
        "recall = true_positives / (true_positives + false_negatives)\n",
        "specificity = true_negatives / (true_negatives + false_positives)\n",
        "f1score= 2*recall*percision/(percision+recall)\n",
        "print('Accuracy: {}'.format(float(accuracy)))\n",
        "print('Percision: {}'.format(float(percision)))\n",
        "print('Recall: {}'.format(float(recall)))\n",
        "print('Specificity: {}'.format(float(specificity)))\n",
        "print('F1-Score: {}'.format(float(f1score)))\n",
        "print('Average Precision : {}'.format(float(average_precision)))\n",
        "print(f'f1 score class wise for down : {round(f1[0]*100)}.00% ,up : {round(f1[1]*100)}.00%')\n",
        "accuracy_pos = (true_positives) / (true_negatives + true_positives + false_negatives + false_positives)\n",
        "accuracy_neg = (true_negatives) / (true_negatives + true_positives + false_negatives + false_positives)\n",
        "print('Accuracy positive: {}'.format(float(accuracy_pos)))\n",
        "print('Accuracy negative {}'.format(float(accuracy_neg)))"
      ],
      "metadata": {
        "id": "a2TBb7hoEYOz",
        "outputId": "44984d8b-e58a-4b23-f41b-cd8f9395c244",
        "colab": {
          "base_uri": "https://localhost:8080/"
        }
      },
      "execution_count": 531,
      "outputs": [
        {
          "output_type": "stream",
          "name": "stdout",
          "text": [
            "Accuracy: 0.9037037037037037\n",
            "Percision: 0.9468085106382979\n",
            "Recall: 0.9175257731958762\n",
            "Specificity: 0.868421052631579\n",
            "F1-Score: 0.9319371727748691\n",
            "Average Precision : 0.9279804700510996\n",
            "f1 score class wise for down : 84.00% ,up : 93.00%\n",
            "Accuracy positive: 0.6592592592592592\n",
            "Accuracy negative 0.24444444444444444\n"
          ]
        }
      ]
    },
    {
      "cell_type": "code",
      "source": [
        "#final['plot']=np.where(final['pred']==final['signal'],1,0)"
      ],
      "metadata": {
        "id": "BMwK7RXPZOUu"
      },
      "execution_count": 532,
      "outputs": []
    },
    {
      "cell_type": "code",
      "source": [
        "plt.figure()\n",
        "final[['close','pred','signal']][-len(y_pred_final):].plot(secondary_y=['close'],legend=True,figsize=(13,5));\n"
      ],
      "metadata": {
        "id": "Hn8gpIY5E356",
        "outputId": "8b7a9c9b-6c01-4990-daf2-83b55f0aa406",
        "colab": {
          "base_uri": "https://localhost:8080/",
          "height": 337
        }
      },
      "execution_count": 533,
      "outputs": [
        {
          "output_type": "display_data",
          "data": {
            "text/plain": [
              "<Figure size 432x288 with 0 Axes>"
            ]
          },
          "metadata": {}
        },
        {
          "output_type": "display_data",
          "data": {
            "image/png": "[encoded data removed]",
            "text/plain": [
              "<Figure size 936x360 with 2 Axes>"
            ]
          },
          "metadata": {
            "needs_background": "light"
          }
        }
      ]
    },
    {
      "cell_type": "code",
      "source": [
        "rf_matrix "
      ],
      "metadata": {
        "id": "Mxfe7lQPE_SR",
        "colab": {
          "base_uri": "https://localhost:8080/"
        },
        "outputId": "f30c1c09-5b62-4ae4-d00b-bdaec68556a1"
      },
      "execution_count": 534,
      "outputs": [
        {
          "output_type": "execute_result",
          "data": {
            "text/plain": [
              "array([[33,  5],\n",
              "       [ 8, 89]])"
            ]
          },
          "metadata": {},
          "execution_count": 534
        }
      ]
    },
    {
      "cell_type": "code",
      "source": [
        "final.tail(2)"
      ],
      "metadata": {
        "colab": {
          "base_uri": "https://localhost:8080/",
          "height": 176
        },
        "id": "kBovigI-KjFx",
        "outputId": "f4f3f752-ad3d-43de-f89b-e8b7ed3ec392"
      },
      "execution_count": 535,
      "outputs": [
        {
          "output_type": "execute_result",
          "data": {
            "text/html": [
              "\n",
              "  <div id=\"df-c42466a6-0ff8-493f-a4d1-44c3b30b06e9\">\n",
              "    <div class=\"colab-df-container\">\n",
              "      <div>\n",
              "<style scoped>\n",
              "    .dataframe tbody tr th:only-of-type {\n",
              "        vertical-align: middle;\n",
              "    }\n",
              "\n",
              "    .dataframe tbody tr th {\n",
              "        vertical-align: top;\n",
              "    }\n",
              "\n",
              "    .dataframe thead th {\n",
              "        text-align: right;\n",
              "    }\n",
              "</style>\n",
              "<table border=\"1\" class=\"dataframe\">\n",
              "  <thead>\n",
              "    <tr style=\"text-align: right;\">\n",
              "      <th></th>\n",
              "      <th>date</th>\n",
              "      <th>open</th>\n",
              "      <th>high</th>\n",
              "      <th>low</th>\n",
              "      <th>close</th>\n",
              "      <th>adj_close</th>\n",
              "      <th>volume</th>\n",
              "      <th>MACD_30_45_18</th>\n",
              "      <th>MACDh_30_45_18</th>\n",
              "      <th>MACDs_30_45_18</th>\n",
              "      <th>VTXP_28</th>\n",
              "      <th>VTXM_28</th>\n",
              "      <th>AROOND_28</th>\n",
              "      <th>AROONU_28</th>\n",
              "      <th>AROONOSC_28</th>\n",
              "      <th>EMA_26</th>\n",
              "      <th>KURT_30</th>\n",
              "      <th>LR_28</th>\n",
              "      <th>QTL_30_0.5</th>\n",
              "      <th>cluster</th>\n",
              "      <th>fast</th>\n",
              "      <th>slow</th>\n",
              "      <th>bband</th>\n",
              "      <th>avg</th>\n",
              "      <th>Sdev</th>\n",
              "      <th>Upper Band</th>\n",
              "      <th>Lower Band</th>\n",
              "      <th>signal</th>\n",
              "      <th>pred</th>\n",
              "    </tr>\n",
              "  </thead>\n",
              "  <tbody>\n",
              "    <tr>\n",
              "      <th>133</th>\n",
              "      <td>738161</td>\n",
              "      <td>17768.500000</td>\n",
              "      <td>17797.949219</td>\n",
              "      <td>17655.550781</td>\n",
              "      <td>17745.900391</td>\n",
              "      <td>17745.900391</td>\n",
              "      <td>236500</td>\n",
              "      <td>-17.457351</td>\n",
              "      <td>21.353021</td>\n",
              "      <td>-38.810372</td>\n",
              "      <td>1.034971</td>\n",
              "      <td>0.82481</td>\n",
              "      <td>53.571429</td>\n",
              "      <td>96.428571</td>\n",
              "      <td>42.857143</td>\n",
              "      <td>17382.129301</td>\n",
              "      <td>0.181671</td>\n",
              "      <td>17411.782991</td>\n",
              "      <td>17208.774414</td>\n",
              "      <td>1</td>\n",
              "      <td>17267.053711</td>\n",
              "      <td>17511.957595</td>\n",
              "      <td>12978.721022</td>\n",
              "      <td>12914.428570</td>\n",
              "      <td>34.492003</td>\n",
              "      <td>12942.022173</td>\n",
              "      <td>12886.834967</td>\n",
              "      <td>1.0</td>\n",
              "      <td>1.0</td>\n",
              "    </tr>\n",
              "    <tr>\n",
              "      <th>134</th>\n",
              "      <td>738162</td>\n",
              "      <td>17797.599609</td>\n",
              "      <td>17905.000000</td>\n",
              "      <td>17704.550781</td>\n",
              "      <td>17812.699219</td>\n",
              "      <td>17812.699219</td>\n",
              "      <td>0</td>\n",
              "      <td>-7.720029</td>\n",
              "      <td>27.817675</td>\n",
              "      <td>-35.537704</td>\n",
              "      <td>1.021175</td>\n",
              "      <td>0.82823</td>\n",
              "      <td>50.000000</td>\n",
              "      <td>92.857143</td>\n",
              "      <td>42.857143</td>\n",
              "      <td>17414.023369</td>\n",
              "      <td>-0.139788</td>\n",
              "      <td>17466.273426</td>\n",
              "      <td>17217.500000</td>\n",
              "      <td>1</td>\n",
              "      <td>17282.863281</td>\n",
              "      <td>17505.944111</td>\n",
              "      <td>12990.391170</td>\n",
              "      <td>12922.362326</td>\n",
              "      <td>42.866974</td>\n",
              "      <td>12956.655906</td>\n",
              "      <td>12888.068747</td>\n",
              "      <td>1.0</td>\n",
              "      <td>1.0</td>\n",
              "    </tr>\n",
              "  </tbody>\n",
              "</table>\n",
              "</div>\n",
              "      <button class=\"colab-df-convert\" onclick=\"convertToInteractive('df-c42466a6-0ff8-493f-a4d1-44c3b30b06e9')\"\n",
              "              title=\"Convert this dataframe to an interactive table.\"\n",
              "              style=\"display:none;\">\n",
              "        \n",
              "  <svg xmlns=\"http://www.w3.org/2000/svg\" height=\"24px\"viewBox=\"0 0 24 24\"\n",
              "       width=\"24px\">\n",
              "    <path d=\"M0 0h24v24H0V0z\" fill=\"none\"/>\n",
              "    <path d=\"M18.56 5.44l.94 2.06.94-2.06 2.06-.94-2.06-.94-.94-2.06-.94 2.06-2.06.94zm-11 1L8.5 8.5l.94-2.06 2.06-.94-2.06-.94L8.5 2.5l-.94 2.06-2.06.94zm10 10l.94 2.06.94-2.06 2.06-.94-2.06-.94-.94-2.06-.94 2.06-2.06.94z\"/><path d=\"M17.41 7.96l-1.37-1.37c-.4-.4-.92-.59-1.43-.59-.52 0-1.04.2-1.43.59L10.3 9.45l-7.72 7.72c-.78.78-.78 2.05 0 2.83L4 21.41c.39.39.9.59 1.41.59.51 0 1.02-.2 1.41-.59l7.78-7.78 2.81-2.81c.8-.78.8-2.07 0-2.86zM5.41 20L4 18.59l7.72-7.72 1.47 1.35L5.41 20z\"/>\n",
              "  </svg>\n",
              "      </button>\n",
              "      \n",
              "  <style>\n",
              "    .colab-df-container {\n",
              "      display:flex;\n",
              "      flex-wrap:wrap;\n",
              "      gap: 12px;\n",
              "    }\n",
              "\n",
              "    .colab-df-convert {\n",
              "      background-color: #E8F0FE;\n",
              "      border: none;\n",
              "      border-radius: 50%;\n",
              "      cursor: pointer;\n",
              "      display: none;\n",
              "      fill: #1967D2;\n",
              "      height: 32px;\n",
              "      padding: 0 0 0 0;\n",
              "      width: 32px;\n",
              "    }\n",
              "\n",
              "    .colab-df-convert:hover {\n",
              "      background-color: #E2EBFA;\n",
              "      box-shadow: 0px 1px 2px rgba(60, 64, 67, 0.3), 0px 1px 3px 1px rgba(60, 64, 67, 0.15);\n",
              "      fill: #174EA6;\n",
              "    }\n",
              "\n",
              "    [theme=dark] .colab-df-convert {\n",
              "      background-color: #3B4455;\n",
              "      fill: #D2E3FC;\n",
              "    }\n",
              "\n",
              "    [theme=dark] .colab-df-convert:hover {\n",
              "      background-color: #434B5C;\n",
              "      box-shadow: 0px 1px 3px 1px rgba(0, 0, 0, 0.15);\n",
              "      filter: drop-shadow(0px 1px 2px rgba(0, 0, 0, 0.3));\n",
              "      fill: #FFFFFF;\n",
              "    }\n",
              "  </style>\n",
              "\n",
              "      <script>\n",
              "        const buttonEl =\n",
              "          document.querySelector('#df-c42466a6-0ff8-493f-a4d1-44c3b30b06e9 button.colab-df-convert');\n",
              "        buttonEl.style.display =\n",
              "          google.colab.kernel.accessAllowed ? 'block' : 'none';\n",
              "\n",
              "        async function convertToInteractive(key) {\n",
              "          const element = document.querySelector('#df-c42466a6-0ff8-493f-a4d1-44c3b30b06e9');\n",
              "          const dataTable =\n",
              "            await google.colab.kernel.invokeFunction('convertToInteractive',\n",
              "                                                     [key], {});\n",
              "          if (!dataTable) return;\n",
              "\n",
              "          const docLinkHtml = 'Like what you see? Visit the ' +\n",
              "            '<a target=\"_blank\" href=https://colab.research.google.com/notebooks/data_table.ipynb>data table notebook</a>'\n",
              "            + ' to learn more about interactive tables.';\n",
              "          element.innerHTML = '';\n",
              "          dataTable['output_type'] = 'display_data';\n",
              "          await google.colab.output.renderOutput(dataTable, element);\n",
              "          const docLink = document.createElement('div');\n",
              "          docLink.innerHTML = docLinkHtml;\n",
              "          element.appendChild(docLink);\n",
              "        }\n",
              "      </script>\n",
              "    </div>\n",
              "  </div>\n",
              "  "
            ],
            "text/plain": [
              "       date          open          high  ...    Lower Band  signal  pred\n",
              "133  738161  17768.500000  17797.949219  ...  12886.834967     1.0   1.0\n",
              "134  738162  17797.599609  17905.000000  ...  12888.068747     1.0   1.0\n",
              "\n",
              "[2 rows x 29 columns]"
            ]
          },
          "metadata": {},
          "execution_count": 535
        }
      ]
    },
    {
      "cell_type": "code",
      "source": [
        "y_true = final.signal\n",
        "y_pred = final.pred\n",
        "target_names = ['class 1', 'class 2']\n",
        "print(classification_report(y_true, y_pred, target_names=target_names))"
      ],
      "metadata": {
        "colab": {
          "base_uri": "https://localhost:8080/"
        },
        "id": "WR8Re-trKZTI",
        "outputId": "3ee8fc84-0868-4229-c694-2d1181564ffe"
      },
      "execution_count": 536,
      "outputs": [
        {
          "output_type": "stream",
          "name": "stdout",
          "text": [
            "              precision    recall  f1-score   support\n",
            "\n",
            "     class 1       0.80      0.87      0.84        38\n",
            "     class 2       0.95      0.92      0.93        97\n",
            "\n",
            "    accuracy                           0.90       135\n",
            "   macro avg       0.88      0.89      0.88       135\n",
            "weighted avg       0.91      0.90      0.90       135\n",
            "\n"
          ]
        }
      ]
    },
    {
      "cell_type": "code",
      "source": [
        "final.pred=np.where(final['pred']>0,1,0)"
      ],
      "metadata": {
        "id": "iXWO_cVZRIA8"
      },
      "execution_count": 538,
      "outputs": []
    },
    {
      "cell_type": "code",
      "source": [
        "# Calculate daily returns\n",
        "final['Return'] = final.adj_close.pct_change()\n",
        "\n",
        "# Calculate strategy returns\n",
        "final['Strategy_Return'] = final.Return * final.pred.shift(1)\n",
        "\n",
        "# Calculate geometric returns\n",
        "geometric_returns = (final.Strategy_Return+1).cumprod()\n",
        "\n",
        "# Plot geometric returns\n",
        "geometric_returns.plot(figsize=(10, 7),color='g')\n",
        "plt.ylabel(\"Strategy Returns (%)\")\n",
        "plt.xlabel(\"Date\")\n",
        "plt.show()"
      ],
      "metadata": {
        "colab": {
          "base_uri": "https://localhost:8080/",
          "height": 442
        },
        "id": "SBhqeZ26KgXv",
        "outputId": "31143479-f9ba-4390-e75d-447c40343128"
      },
      "execution_count": 539,
      "outputs": [
        {
          "output_type": "display_data",
          "data": {
            "image/png": "[encoded data removed]",
            "text/plain": [
              "<Figure size 720x504 with 1 Axes>"
            ]
          },
          "metadata": {
            "needs_background": "light"
          }
        }
      ]
    }
  ]
}