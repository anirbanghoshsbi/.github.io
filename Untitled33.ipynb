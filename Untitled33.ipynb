{
  "nbformat": 4,
  "nbformat_minor": 0,
  "metadata": {
    "colab": {
      "name": "Copy of Copy of Untitled33.ipynb",
      "provenance": [],
      "collapsed_sections": [],
      "authorship_tag": "ABX9TyMgnwu4me2H/l9RCa96CfWT",
      "include_colab_link": true
    },
    "kernelspec": {
      "name": "python3",
      "display_name": "Python 3"
    },
    "language_info": {
      "name": "python"
    }
  },
  "cells": [
    {
      "cell_type": "markdown",
      "metadata": {
        "id": "view-in-github",
        "colab_type": "text"
      },
      "source": [
        "<a href=\"https://colab.research.google.com/github/anirbanghoshsbi/.github.io/blob/master/Untitled33.ipynb\" target=\"_parent\"><img src=\"https://colab.research.google.com/assets/colab-badge.svg\" alt=\"Open In Colab\"/></a>"
      ]
    },
    {
      "cell_type": "code",
      "execution_count": 58,
      "metadata": {
        "id": "RJLXQ-P0K8Aq"
      },
      "outputs": [],
      "source": [
        "# import  data\n",
        "# Create Features"
      ]
    },
    {
      "cell_type": "code",
      "source": [
        "class BlockingTimeSeriesSplit():\n",
        "    def __init__(self, n_splits):\n",
        "        self.n_splits = n_splits\n",
        "    \n",
        "    def get_n_splits(self, X, y, groups):\n",
        "        return self.n_splits\n",
        "    \n",
        "    def split(self, X, y=None, groups=None):\n",
        "        n_samples = len(X)\n",
        "        k_fold_size = n_samples // self.n_splits\n",
        "        indices = np.arange(n_samples)\n",
        "\n",
        "        margin = 0\n",
        "        for i in range(self.n_splits):\n",
        "            start = i * k_fold_size\n",
        "            stop = start + k_fold_size\n",
        "            mid = int(0.8 * (stop - start)) + start\n",
        "            yield indices[start: mid], indices[mid + margin: stop]"
      ],
      "metadata": {
        "id": "6AzTX_MiSaDG"
      },
      "execution_count": 59,
      "outputs": []
    },
    {
      "cell_type": "code",
      "source": [
        "!pip install yfinance \n",
        "!pip install pandas-ta==0.2.45b"
      ],
      "metadata": {
        "id": "RQdvmTa-LEga",
        "colab": {
          "base_uri": "https://localhost:8080/"
        },
        "outputId": "b4099bbb-bd82-4769-8eae-c8a757db5dc7"
      },
      "execution_count": 60,
      "outputs": [
        {
          "output_type": "stream",
          "name": "stdout",
          "text": [
            "Requirement already satisfied: yfinance in /usr/local/lib/python3.7/dist-packages (0.1.68)\n",
            "Requirement already satisfied: multitasking>=0.0.7 in /usr/local/lib/python3.7/dist-packages (from yfinance) (0.0.10)\n",
            "Requirement already satisfied: numpy>=1.15 in /usr/local/lib/python3.7/dist-packages (from yfinance) (1.19.5)\n",
            "Requirement already satisfied: requests>=2.26 in /usr/local/lib/python3.7/dist-packages (from yfinance) (2.27.1)\n",
            "Requirement already satisfied: lxml>=4.5.1 in /usr/local/lib/python3.7/dist-packages (from yfinance) (4.7.1)\n",
            "Requirement already satisfied: pandas>=0.24 in /usr/local/lib/python3.7/dist-packages (from yfinance) (1.1.5)\n",
            "Requirement already satisfied: python-dateutil>=2.7.3 in /usr/local/lib/python3.7/dist-packages (from pandas>=0.24->yfinance) (2.8.2)\n",
            "Requirement already satisfied: pytz>=2017.2 in /usr/local/lib/python3.7/dist-packages (from pandas>=0.24->yfinance) (2018.9)\n",
            "Requirement already satisfied: six>=1.5 in /usr/local/lib/python3.7/dist-packages (from python-dateutil>=2.7.3->pandas>=0.24->yfinance) (1.15.0)\n",
            "Requirement already satisfied: certifi>=2017.4.17 in /usr/local/lib/python3.7/dist-packages (from requests>=2.26->yfinance) (2021.10.8)\n",
            "Requirement already satisfied: idna<4,>=2.5 in /usr/local/lib/python3.7/dist-packages (from requests>=2.26->yfinance) (2.10)\n",
            "Requirement already satisfied: charset-normalizer~=2.0.0 in /usr/local/lib/python3.7/dist-packages (from requests>=2.26->yfinance) (2.0.9)\n",
            "Requirement already satisfied: urllib3<1.27,>=1.21.1 in /usr/local/lib/python3.7/dist-packages (from requests>=2.26->yfinance) (1.24.3)\n",
            "Requirement already satisfied: pandas-ta==0.2.45b in /usr/local/lib/python3.7/dist-packages (0.2.45b0)\n",
            "Requirement already satisfied: pandas in /usr/local/lib/python3.7/dist-packages (from pandas-ta==0.2.45b) (1.1.5)\n",
            "Requirement already satisfied: pytz>=2017.2 in /usr/local/lib/python3.7/dist-packages (from pandas->pandas-ta==0.2.45b) (2018.9)\n",
            "Requirement already satisfied: numpy>=1.15.4 in /usr/local/lib/python3.7/dist-packages (from pandas->pandas-ta==0.2.45b) (1.19.5)\n",
            "Requirement already satisfied: python-dateutil>=2.7.3 in /usr/local/lib/python3.7/dist-packages (from pandas->pandas-ta==0.2.45b) (2.8.2)\n",
            "Requirement already satisfied: six>=1.5 in /usr/local/lib/python3.7/dist-packages (from python-dateutil>=2.7.3->pandas->pandas-ta==0.2.45b) (1.15.0)\n"
          ]
        }
      ]
    },
    {
      "cell_type": "code",
      "source": [
        "import yfinance as yf\n",
        "import pandas as pd\n",
        "import numpy as np\n",
        "import pandas_ta as ta\n",
        "from sklearn.ensemble import RandomForestClassifier\n",
        "from sklearn.metrics import accuracy_score, classification_report,f1_score\n",
        "import datetime as dt\n",
        "import matplotlib.pyplot as plt\n",
        "from sklearn.preprocessing import StandardScaler\n",
        "pd.options.mode.chained_assignment = None"
      ],
      "metadata": {
        "id": "RZBVdD0ULG3B"
      },
      "execution_count": 61,
      "outputs": []
    },
    {
      "cell_type": "code",
      "source": [
        "ticker='^nsei'"
      ],
      "metadata": {
        "id": "_bmzbTS2YUhP"
      },
      "execution_count": 62,
      "outputs": []
    },
    {
      "cell_type": "code",
      "source": [
        "data_for_modeling=yf.download(ticker,start='2007-01-01',end='2020-12-01',parse_dates=['Date']).reset_index()"
      ],
      "metadata": {
        "colab": {
          "base_uri": "https://localhost:8080/"
        },
        "id": "MohPTwvYLxJY",
        "outputId": "cd8e9523-1439-4f99-9b44-e36edfbee010"
      },
      "execution_count": 63,
      "outputs": [
        {
          "output_type": "stream",
          "name": "stdout",
          "text": [
            "\r[*********************100%***********************]  1 of 1 completed\n"
          ]
        }
      ]
    },
    {
      "cell_type": "code",
      "source": [
        "data_for_modeling['Date']=data_for_modeling['Date'].map(dt.datetime.toordinal)"
      ],
      "metadata": {
        "id": "KLity-dKSITv"
      },
      "execution_count": 64,
      "outputs": []
    },
    {
      "cell_type": "code",
      "source": [
        "from numpy.lib.function_base import append\n",
        "data_for_modeling.ta.macd(fast=45, slow= 30, signal=18, append=True)\n",
        "data_for_modeling.ta.vortex(length=28,append=True)\n",
        "data_for_modeling.ta.aroon(length=28,append=True)\n",
        "data_for_modeling.ta.ema(length=26,append=True)\n",
        "#data_for_modeling.ta.bbands(append=True)\n",
        "#data_for_modeling.ta.percent_return(length=28,append=True)\n",
        "#data_for_modeling.ta.log_return(length=28,append=True)\n",
        "data_for_modeling.ta.kurtosis(append=True)\n",
        "data_for_modeling.ta.linreg(length=28,append=True)\n",
        "data_for_modeling.ta.quantile(append=True)\n",
        "\n",
        "print()"
      ],
      "metadata": {
        "colab": {
          "base_uri": "https://localhost:8080/"
        },
        "id": "cyboLf5qLzQ5",
        "outputId": "92fbf239-f0c2-4f39-e0fc-7e4f8bea9b75"
      },
      "execution_count": 65,
      "outputs": [
        {
          "output_type": "stream",
          "name": "stdout",
          "text": [
            "\n"
          ]
        }
      ]
    },
    {
      "cell_type": "code",
      "source": [
        "sc=StandardScaler()"
      ],
      "metadata": {
        "id": "35rXvPEkvakn"
      },
      "execution_count": 66,
      "outputs": []
    },
    {
      "cell_type": "code",
      "source": [
        "X = np.array((data_for_modeling['adj_close'].pct_change(50)).dropna()) #  -df['Close'].rolling(window=200).mean()).dropna()\n",
        "X=sc.fit_transform(X.reshape(-1,1))\n",
        "from sklearn.cluster import KMeans \n",
        "kmeans = KMeans(n_clusters= 4).fit(X.reshape(-1,1))\n",
        "c = kmeans.predict(X.reshape(-1,1))"
      ],
      "metadata": {
        "id": "rBz_e3Efu-MI"
      },
      "execution_count": 67,
      "outputs": []
    },
    {
      "cell_type": "code",
      "source": [
        "data_for_modeling=data_for_modeling[-c.shape[0]:]"
      ],
      "metadata": {
        "id": "wjGQY8hdvI2f"
      },
      "execution_count": 68,
      "outputs": []
    },
    {
      "cell_type": "code",
      "source": [
        "data_for_modeling['cluster']=c"
      ],
      "metadata": {
        "id": "Nl1NKfZ6vvaH"
      },
      "execution_count": 69,
      "outputs": []
    },
    {
      "cell_type": "code",
      "source": [
        "data_for_modeling.columns"
      ],
      "metadata": {
        "colab": {
          "base_uri": "https://localhost:8080/"
        },
        "id": "syNJMPrdL7Xy",
        "outputId": "153e7e63-ca08-42f3-b7a6-3d36b9284620"
      },
      "execution_count": 70,
      "outputs": [
        {
          "output_type": "execute_result",
          "data": {
            "text/plain": [
              "Index(['date', 'open', 'high', 'low', 'close', 'adj_close', 'volume',\n",
              "       'MACD_30_45_18', 'MACDh_30_45_18', 'MACDs_30_45_18', 'VTXP_28',\n",
              "       'VTXM_28', 'AROOND_28', 'AROONU_28', 'AROONOSC_28', 'EMA_26', 'KURT_30',\n",
              "       'LR_28', 'QTL_30_0.5', 'cluster'],\n",
              "      dtype='object')"
            ]
          },
          "metadata": {},
          "execution_count": 70
        }
      ]
    },
    {
      "cell_type": "code",
      "source": [
        "rapida = 26\n",
        "lenta = 52\n",
        "stdv = 0.8\n",
        "data_for_modeling['fast'] =data_for_modeling['adj_close'].rolling(window=rapida).mean() \n",
        "data_for_modeling['slow'] =data_for_modeling['adj_close'].rolling(window=lenta).mean()\n",
        "data_for_modeling['bband']= data_for_modeling['fast']-data_for_modeling['slow']\n",
        "data_for_modeling['avg'] = data_for_modeling['bband'].rolling(window=9).mean()\n",
        "data_for_modeling['Sdev'] = data_for_modeling['bband'].rolling(window=9).std()\n",
        "data_for_modeling['Upper Band'] = data_for_modeling['avg'] + (data_for_modeling['Sdev'] *stdv)\n",
        "data_for_modeling['Lower Band'] = data_for_modeling['avg'] - (data_for_modeling['Sdev'] *stdv)"
      ],
      "metadata": {
        "id": "NEdfGNdaMAoI"
      },
      "execution_count": 71,
      "outputs": []
    },
    {
      "cell_type": "code",
      "source": [
        "data_for_modeling['signal']=np.where(data_for_modeling['bband']>data_for_modeling['avg'],1,-1)"
      ],
      "metadata": {
        "id": "iGXTewdiM9JQ"
      },
      "execution_count": 72,
      "outputs": []
    },
    {
      "cell_type": "code",
      "source": [
        "data_for_modeling.tail(2)"
      ],
      "metadata": {
        "colab": {
          "base_uri": "https://localhost:8080/",
          "height": 193
        },
        "id": "tWVjTWTqLvoY",
        "outputId": "09c94916-b607-4c09-fee9-178c5a6cfebc"
      },
      "execution_count": 73,
      "outputs": [
        {
          "output_type": "execute_result",
          "data": {
            "text/html": [
              "\n",
              "  <div id=\"df-5fafc769-a0ec-4bd2-a367-35b8583eba9f\">\n",
              "    <div class=\"colab-df-container\">\n",
              "      <div>\n",
              "<style scoped>\n",
              "    .dataframe tbody tr th:only-of-type {\n",
              "        vertical-align: middle;\n",
              "    }\n",
              "\n",
              "    .dataframe tbody tr th {\n",
              "        vertical-align: top;\n",
              "    }\n",
              "\n",
              "    .dataframe thead th {\n",
              "        text-align: right;\n",
              "    }\n",
              "</style>\n",
              "<table border=\"1\" class=\"dataframe\">\n",
              "  <thead>\n",
              "    <tr style=\"text-align: right;\">\n",
              "      <th></th>\n",
              "      <th>date</th>\n",
              "      <th>open</th>\n",
              "      <th>high</th>\n",
              "      <th>low</th>\n",
              "      <th>close</th>\n",
              "      <th>adj_close</th>\n",
              "      <th>volume</th>\n",
              "      <th>MACD_30_45_18</th>\n",
              "      <th>MACDh_30_45_18</th>\n",
              "      <th>MACDs_30_45_18</th>\n",
              "      <th>VTXP_28</th>\n",
              "      <th>VTXM_28</th>\n",
              "      <th>AROOND_28</th>\n",
              "      <th>AROONU_28</th>\n",
              "      <th>AROONOSC_28</th>\n",
              "      <th>EMA_26</th>\n",
              "      <th>KURT_30</th>\n",
              "      <th>LR_28</th>\n",
              "      <th>QTL_30_0.5</th>\n",
              "      <th>cluster</th>\n",
              "      <th>fast</th>\n",
              "      <th>slow</th>\n",
              "      <th>bband</th>\n",
              "      <th>avg</th>\n",
              "      <th>Sdev</th>\n",
              "      <th>Upper Band</th>\n",
              "      <th>Lower Band</th>\n",
              "      <th>signal</th>\n",
              "    </tr>\n",
              "  </thead>\n",
              "  <tbody>\n",
              "    <tr>\n",
              "      <th>3227</th>\n",
              "      <td>737755</td>\n",
              "      <td>12906.450195</td>\n",
              "      <td>13018.000000</td>\n",
              "      <td>12790.400391</td>\n",
              "      <td>12987.000000</td>\n",
              "      <td>12987.000000</td>\n",
              "      <td>549800</td>\n",
              "      <td>218.999831</td>\n",
              "      <td>48.308906</td>\n",
              "      <td>170.690924</td>\n",
              "      <td>1.122996</td>\n",
              "      <td>0.766694</td>\n",
              "      <td>35.714286</td>\n",
              "      <td>96.428571</td>\n",
              "      <td>60.714286</td>\n",
              "      <td>12455.352260</td>\n",
              "      <td>-1.734032</td>\n",
              "      <td>12992.980964</td>\n",
              "      <td>12028.975098</td>\n",
              "      <td>0</td>\n",
              "      <td>12336.986591</td>\n",
              "      <td>11933.806716</td>\n",
              "      <td>403.179875</td>\n",
              "      <td>356.075790</td>\n",
              "      <td>30.185073</td>\n",
              "      <td>380.223849</td>\n",
              "      <td>331.927731</td>\n",
              "      <td>1</td>\n",
              "    </tr>\n",
              "    <tr>\n",
              "      <th>3228</th>\n",
              "      <td>737756</td>\n",
              "      <td>13012.049805</td>\n",
              "      <td>13035.299805</td>\n",
              "      <td>12914.299805</td>\n",
              "      <td>12968.950195</td>\n",
              "      <td>12968.950195</td>\n",
              "      <td>1162400</td>\n",
              "      <td>221.771885</td>\n",
              "      <td>45.704017</td>\n",
              "      <td>176.067868</td>\n",
              "      <td>1.129261</td>\n",
              "      <td>0.783684</td>\n",
              "      <td>32.142857</td>\n",
              "      <td>92.857143</td>\n",
              "      <td>60.714286</td>\n",
              "      <td>12493.396551</td>\n",
              "      <td>-1.793992</td>\n",
              "      <td>13050.651660</td>\n",
              "      <td>12191.924805</td>\n",
              "      <td>0</td>\n",
              "      <td>12376.651968</td>\n",
              "      <td>11963.208646</td>\n",
              "      <td>413.443322</td>\n",
              "      <td>367.053569</td>\n",
              "      <td>31.182703</td>\n",
              "      <td>391.999732</td>\n",
              "      <td>342.107407</td>\n",
              "      <td>1</td>\n",
              "    </tr>\n",
              "  </tbody>\n",
              "</table>\n",
              "</div>\n",
              "      <button class=\"colab-df-convert\" onclick=\"convertToInteractive('df-5fafc769-a0ec-4bd2-a367-35b8583eba9f')\"\n",
              "              title=\"Convert this dataframe to an interactive table.\"\n",
              "              style=\"display:none;\">\n",
              "        \n",
              "  <svg xmlns=\"http://www.w3.org/2000/svg\" height=\"24px\"viewBox=\"0 0 24 24\"\n",
              "       width=\"24px\">\n",
              "    <path d=\"M0 0h24v24H0V0z\" fill=\"none\"/>\n",
              "    <path d=\"M18.56 5.44l.94 2.06.94-2.06 2.06-.94-2.06-.94-.94-2.06-.94 2.06-2.06.94zm-11 1L8.5 8.5l.94-2.06 2.06-.94-2.06-.94L8.5 2.5l-.94 2.06-2.06.94zm10 10l.94 2.06.94-2.06 2.06-.94-2.06-.94-.94-2.06-.94 2.06-2.06.94z\"/><path d=\"M17.41 7.96l-1.37-1.37c-.4-.4-.92-.59-1.43-.59-.52 0-1.04.2-1.43.59L10.3 9.45l-7.72 7.72c-.78.78-.78 2.05 0 2.83L4 21.41c.39.39.9.59 1.41.59.51 0 1.02-.2 1.41-.59l7.78-7.78 2.81-2.81c.8-.78.8-2.07 0-2.86zM5.41 20L4 18.59l7.72-7.72 1.47 1.35L5.41 20z\"/>\n",
              "  </svg>\n",
              "      </button>\n",
              "      \n",
              "  <style>\n",
              "    .colab-df-container {\n",
              "      display:flex;\n",
              "      flex-wrap:wrap;\n",
              "      gap: 12px;\n",
              "    }\n",
              "\n",
              "    .colab-df-convert {\n",
              "      background-color: #E8F0FE;\n",
              "      border: none;\n",
              "      border-radius: 50%;\n",
              "      cursor: pointer;\n",
              "      display: none;\n",
              "      fill: #1967D2;\n",
              "      height: 32px;\n",
              "      padding: 0 0 0 0;\n",
              "      width: 32px;\n",
              "    }\n",
              "\n",
              "    .colab-df-convert:hover {\n",
              "      background-color: #E2EBFA;\n",
              "      box-shadow: 0px 1px 2px rgba(60, 64, 67, 0.3), 0px 1px 3px 1px rgba(60, 64, 67, 0.15);\n",
              "      fill: #174EA6;\n",
              "    }\n",
              "\n",
              "    [theme=dark] .colab-df-convert {\n",
              "      background-color: #3B4455;\n",
              "      fill: #D2E3FC;\n",
              "    }\n",
              "\n",
              "    [theme=dark] .colab-df-convert:hover {\n",
              "      background-color: #434B5C;\n",
              "      box-shadow: 0px 1px 3px 1px rgba(0, 0, 0, 0.15);\n",
              "      filter: drop-shadow(0px 1px 2px rgba(0, 0, 0, 0.3));\n",
              "      fill: #FFFFFF;\n",
              "    }\n",
              "  </style>\n",
              "\n",
              "      <script>\n",
              "        const buttonEl =\n",
              "          document.querySelector('#df-5fafc769-a0ec-4bd2-a367-35b8583eba9f button.colab-df-convert');\n",
              "        buttonEl.style.display =\n",
              "          google.colab.kernel.accessAllowed ? 'block' : 'none';\n",
              "\n",
              "        async function convertToInteractive(key) {\n",
              "          const element = document.querySelector('#df-5fafc769-a0ec-4bd2-a367-35b8583eba9f');\n",
              "          const dataTable =\n",
              "            await google.colab.kernel.invokeFunction('convertToInteractive',\n",
              "                                                     [key], {});\n",
              "          if (!dataTable) return;\n",
              "\n",
              "          const docLinkHtml = 'Like what you see? Visit the ' +\n",
              "            '<a target=\"_blank\" href=https://colab.research.google.com/notebooks/data_table.ipynb>data table notebook</a>'\n",
              "            + ' to learn more about interactive tables.';\n",
              "          element.innerHTML = '';\n",
              "          dataTable['output_type'] = 'display_data';\n",
              "          await google.colab.output.renderOutput(dataTable, element);\n",
              "          const docLink = document.createElement('div');\n",
              "          docLink.innerHTML = docLinkHtml;\n",
              "          element.appendChild(docLink);\n",
              "        }\n",
              "      </script>\n",
              "    </div>\n",
              "  </div>\n",
              "  "
            ],
            "text/plain": [
              "        date          open          high  ...  Upper Band  Lower Band  signal\n",
              "3227  737755  12906.450195  13018.000000  ...  380.223849  331.927731       1\n",
              "3228  737756  13012.049805  13035.299805  ...  391.999732  342.107407       1\n",
              "\n",
              "[2 rows x 28 columns]"
            ]
          },
          "metadata": {},
          "execution_count": 73
        }
      ]
    },
    {
      "cell_type": "code",
      "source": [
        "data_for_modeling=data_for_modeling.dropna()"
      ],
      "metadata": {
        "id": "jEuAuzmPPJ-Y"
      },
      "execution_count": 74,
      "outputs": []
    },
    {
      "cell_type": "code",
      "source": [
        "features = [feats for feats in data_for_modeling.columns if feats not in ['fast','slow','signal']]"
      ],
      "metadata": {
        "id": "p49twI6pMpOy"
      },
      "execution_count": 75,
      "outputs": []
    },
    {
      "cell_type": "code",
      "source": [
        "data_for_modeling.columns"
      ],
      "metadata": {
        "colab": {
          "base_uri": "https://localhost:8080/"
        },
        "id": "pWmPyxyPPeOo",
        "outputId": "d5a77ec3-69fd-4ffe-871f-6dc749728312"
      },
      "execution_count": 76,
      "outputs": [
        {
          "output_type": "execute_result",
          "data": {
            "text/plain": [
              "Index(['date', 'open', 'high', 'low', 'close', 'adj_close', 'volume',\n",
              "       'MACD_30_45_18', 'MACDh_30_45_18', 'MACDs_30_45_18', 'VTXP_28',\n",
              "       'VTXM_28', 'AROOND_28', 'AROONU_28', 'AROONOSC_28', 'EMA_26', 'KURT_30',\n",
              "       'LR_28', 'QTL_30_0.5', 'cluster', 'fast', 'slow', 'bband', 'avg',\n",
              "       'Sdev', 'Upper Band', 'Lower Band', 'signal'],\n",
              "      dtype='object')"
            ]
          },
          "metadata": {},
          "execution_count": 76
        }
      ]
    },
    {
      "cell_type": "code",
      "source": [
        "X=data_for_modeling[features]\n",
        "y=data_for_modeling['signal']"
      ],
      "metadata": {
        "id": "p3NocCqzQfw5"
      },
      "execution_count": 77,
      "outputs": []
    },
    {
      "cell_type": "code",
      "source": [
        "chk='Timeseries' #Block"
      ],
      "metadata": {
        "id": "qZ9axEVrRlwG"
      },
      "execution_count": 78,
      "outputs": []
    },
    {
      "cell_type": "code",
      "source": [
        "from sklearn.model_selection import TimeSeriesSplit\n",
        "\n",
        "if chk=='Block':\n",
        "  tscv = BlockingTimeSeriesSplit(n_splits=8)\n",
        "\n",
        "  for fold, (train_index, test_index) in enumerate(tscv.split(X)):\n",
        "      print(\"Fold: {}\".format(fold))\n",
        "      X_train, X_test = X.iloc[train_index], X.iloc[test_index]\n",
        "      y_train, y_test = y.iloc[train_index], y.iloc[test_index]\n",
        "elif chk=='Timeseries':\n",
        "  tscv = TimeSeriesSplit(n_splits=8)\n",
        "  for fold, (train_index, test_index) in enumerate(tscv.split(X)):\n",
        "      print(\"Fold: {}\".format(fold))\n",
        "      X_train, X_test = X.iloc[train_index], X.iloc[test_index]\n",
        "      y_train, y_test = y.iloc[train_index], y.iloc[test_index]"
      ],
      "metadata": {
        "colab": {
          "base_uri": "https://localhost:8080/"
        },
        "id": "r25w0piaRjhf",
        "outputId": "d9cb1f10-fa18-43f1-e66a-cf591d3b5d81"
      },
      "execution_count": 79,
      "outputs": [
        {
          "output_type": "stream",
          "name": "stdout",
          "text": [
            "Fold: 0\n",
            "Fold: 1\n",
            "Fold: 2\n",
            "Fold: 3\n",
            "Fold: 4\n",
            "Fold: 5\n",
            "Fold: 6\n",
            "Fold: 7\n"
          ]
        }
      ]
    },
    {
      "cell_type": "code",
      "source": [
        "for train_index, test_index in tscv.split(X,y):\n",
        "    X_train, X_test = X.iloc[train_index], X.iloc[test_index]\n",
        "    y_train, y_test = y.iloc[train_index], y.iloc[test_index]"
      ],
      "metadata": {
        "id": "qKBssIPORov-"
      },
      "execution_count": 80,
      "outputs": []
    },
    {
      "cell_type": "code",
      "source": [
        "#best_param_rf(X_train , y_train)\n"
      ],
      "metadata": {
        "id": "MLJgqHpHRvV-"
      },
      "execution_count": 81,
      "outputs": []
    },
    {
      "cell_type": "code",
      "source": [
        "rand_frst_clf = RandomForestClassifier(n_estimators =220,max_depth=35,min_samples_leaf=14,max_features = \"auto\",min_samples_split=40, criterion = \"gini\", bootstrap=True,random_state = 42)\n"
      ],
      "metadata": {
        "id": "YWHNVewLRq3W"
      },
      "execution_count": 82,
      "outputs": []
    },
    {
      "cell_type": "code",
      "source": [
        "rand_frst_clf.fit(X_train, y_train)\n"
      ],
      "metadata": {
        "colab": {
          "base_uri": "https://localhost:8080/"
        },
        "id": "r9r2NHivRtKW",
        "outputId": "73f47950-9286-4ecc-9e64-ea392df087e2"
      },
      "execution_count": 83,
      "outputs": [
        {
          "output_type": "execute_result",
          "data": {
            "text/plain": [
              "RandomForestClassifier(max_depth=35, min_samples_leaf=14, min_samples_split=40,\n",
              "                       n_estimators=220, random_state=42)"
            ]
          },
          "metadata": {},
          "execution_count": 83
        }
      ]
    },
    {
      "cell_type": "code",
      "source": [
        "feature_imp = pd.Series(rand_frst_clf.feature_importances_, index=X_train.columns).sort_values(ascending=False)\n",
        "feature_imp*100"
      ],
      "metadata": {
        "colab": {
          "base_uri": "https://localhost:8080/"
        },
        "id": "NQE_dYCqRyrf",
        "outputId": "241327f0-e363-4291-d8b1-f496f7708b37"
      },
      "execution_count": 84,
      "outputs": [
        {
          "output_type": "execute_result",
          "data": {
            "text/plain": [
              "MACDh_30_45_18    21.087929\n",
              "VTXP_28           14.040287\n",
              "VTXM_28           12.206233\n",
              "AROONOSC_28        7.838929\n",
              "AROOND_28          5.306331\n",
              "Sdev               5.207390\n",
              "AROONU_28          4.372008\n",
              "Lower Band         3.908910\n",
              "Upper Band         3.750170\n",
              "MACDs_30_45_18     3.210949\n",
              "avg                3.023698\n",
              "bband              2.668775\n",
              "MACD_30_45_18      2.237377\n",
              "date               1.740930\n",
              "QTL_30_0.5         1.289497\n",
              "cluster            1.155887\n",
              "EMA_26             1.129051\n",
              "KURT_30            1.102021\n",
              "LR_28              0.854162\n",
              "close              0.806892\n",
              "high               0.743413\n",
              "adj_close          0.683600\n",
              "open               0.601617\n",
              "low                0.598391\n",
              "volume             0.435552\n",
              "dtype: float64"
            ]
          },
          "metadata": {},
          "execution_count": 84
        }
      ]
    },
    {
      "cell_type": "code",
      "source": [
        "# Make predictions\n",
        "pred_train=  rand_frst_clf.predict(X_train)\n",
        "pred_test = rand_frst_clf.predict(X_test)"
      ],
      "metadata": {
        "id": "rnF6BJXYS1ce"
      },
      "execution_count": 85,
      "outputs": []
    },
    {
      "cell_type": "code",
      "source": [
        "X_train_new=np.concatenate([X_train,pred_train.reshape(-1,1)],axis=1)\n",
        "X_test_new=np.concatenate([X_test,pred_test.reshape(-1,1)],axis=1)"
      ],
      "metadata": {
        "id": "6tX6PErc7o-7"
      },
      "execution_count": 86,
      "outputs": []
    },
    {
      "cell_type": "code",
      "source": [
        "rand_second_clf = RandomForestClassifier(n_estimators =100,max_depth=15,min_samples_leaf=4,max_features = \"auto\",min_samples_split=4, criterion = \"gini\", bootstrap=True,random_state = 42)\n"
      ],
      "metadata": {
        "id": "_ng7RHQP8Fcr"
      },
      "execution_count": 87,
      "outputs": []
    },
    {
      "cell_type": "code",
      "source": [
        "rand_second_clf.fit(X_train_new, y_train)\n"
      ],
      "metadata": {
        "id": "xYAcoKxx8nfk",
        "outputId": "3ffa667c-39c3-4e77-9c1a-5a10f3608e45",
        "colab": {
          "base_uri": "https://localhost:8080/"
        }
      },
      "execution_count": 88,
      "outputs": [
        {
          "output_type": "execute_result",
          "data": {
            "text/plain": [
              "RandomForestClassifier(max_depth=15, min_samples_leaf=4, min_samples_split=4,\n",
              "                       random_state=42)"
            ]
          },
          "metadata": {},
          "execution_count": 88
        }
      ]
    },
    {
      "cell_type": "code",
      "source": [
        "feature_imp = pd.Series(rand_second_clf.feature_importances_,).sort_values(ascending=False)\n",
        "feature_imp*100"
      ],
      "metadata": {
        "id": "vGXWPNWx9ILj",
        "outputId": "1d8c031b-6964-40bd-8a31-de40d5432ad8",
        "colab": {
          "base_uri": "https://localhost:8080/"
        }
      },
      "execution_count": 89,
      "outputs": [
        {
          "output_type": "execute_result",
          "data": {
            "text/plain": [
              "25    40.713899\n",
              "8     12.971390\n",
              "10     7.003395\n",
              "11     6.134181\n",
              "14     5.527762\n",
              "12     3.012121\n",
              "22     2.713012\n",
              "13     2.450373\n",
              "24     2.122247\n",
              "20     1.989001\n",
              "9      1.742339\n",
              "23     1.720866\n",
              "21     1.667181\n",
              "0      1.431951\n",
              "7      1.314612\n",
              "18     1.062480\n",
              "16     1.037936\n",
              "15     0.832597\n",
              "17     0.813044\n",
              "2      0.645684\n",
              "1      0.603245\n",
              "3      0.585147\n",
              "4      0.522053\n",
              "6      0.512753\n",
              "5      0.479777\n",
              "19     0.390955\n",
              "dtype: float64"
            ]
          },
          "metadata": {},
          "execution_count": 89
        }
      ]
    },
    {
      "cell_type": "code",
      "source": [
        "y_pred = rand_second_clf.predict(X_test_new)"
      ],
      "metadata": {
        "id": "fbeqSdGo9WKa"
      },
      "execution_count": 90,
      "outputs": []
    },
    {
      "cell_type": "code",
      "source": [
        "plt.figure(figsize=(10,5))\n",
        "pd.Series(y_pred).plot();\n"
      ],
      "metadata": {
        "colab": {
          "base_uri": "https://localhost:8080/",
          "height": 320
        },
        "id": "b85B92tmS4Ym",
        "outputId": "a82a237a-fb40-4bbb-de76-ec8316888e08"
      },
      "execution_count": 91,
      "outputs": [
        {
          "output_type": "display_data",
          "data": {
            "image/png": "[encoded data removed]",
            "text/plain": [
              "<Figure size 720x360 with 1 Axes>"
            ]
          },
          "metadata": {
            "needs_background": "light"
          }
        }
      ]
    },
    {
      "cell_type": "code",
      "source": [
        "plt.figure(figsize=(10,5))\n",
        "data_for_modeling[['adj_close','signal']][-len(y_pred):].plot(secondary_y=['signal']);"
      ],
      "metadata": {
        "colab": {
          "base_uri": "https://localhost:8080/",
          "height": 282
        },
        "id": "8wcXXFG0TP2P",
        "outputId": "baceb3fe-fddf-400f-e2ff-5da5a51eb19f"
      },
      "execution_count": 92,
      "outputs": [
        {
          "output_type": "display_data",
          "data": {
            "text/plain": [
              "<Figure size 720x360 with 0 Axes>"
            ]
          },
          "metadata": {}
        },
        {
          "output_type": "display_data",
          "data": {
            "image/png": "[encoded data removed]",
            "text/plain": [
              "<Figure size 432x288 with 2 Axes>"
            ]
          },
          "metadata": {
            "needs_background": "light"
          }
        }
      ]
    },
    {
      "cell_type": "code",
      "source": [
        "dd=data_for_modeling[-len(y_pred):].reset_index(drop=True)"
      ],
      "metadata": {
        "id": "UPG36QhXUZk-"
      },
      "execution_count": 93,
      "outputs": []
    },
    {
      "cell_type": "code",
      "source": [
        "dd=pd.concat([dd,pd.Series(y_pred ).rename('pred')],axis=1)"
      ],
      "metadata": {
        "id": "Kc-SzxyXTqPG"
      },
      "execution_count": 94,
      "outputs": []
    },
    {
      "cell_type": "code",
      "source": [
        "plt.figure(figsize=(10,5))\n",
        "dd[['close','pred','signal']][-len(y_pred):].plot(secondary_y=['close']);"
      ],
      "metadata": {
        "colab": {
          "base_uri": "https://localhost:8080/",
          "height": 282
        },
        "id": "_9LOqAnIUVNf",
        "outputId": "c15113ac-2986-444d-928e-413ac3adf83d"
      },
      "execution_count": 95,
      "outputs": [
        {
          "output_type": "display_data",
          "data": {
            "text/plain": [
              "<Figure size 720x360 with 0 Axes>"
            ]
          },
          "metadata": {}
        },
        {
          "output_type": "display_data",
          "data": {
            "image/png": "[encoded data removed]",
            "text/plain": [
              "<Figure size 432x288 with 2 Axes>"
            ]
          },
          "metadata": {
            "needs_background": "light"
          }
        }
      ]
    },
    {
      "cell_type": "code",
      "source": [
        "plt.figure(figsize=(10,5))\n",
        "dd[['pred','signal']][-len(y_pred):].plot(secondary_y=['pred']);"
      ],
      "metadata": {
        "colab": {
          "base_uri": "https://localhost:8080/",
          "height": 282
        },
        "id": "ucigXpK7Xh5d",
        "outputId": "194ff056-691d-43cd-dd3b-e9e7cc1f51cf"
      },
      "execution_count": 96,
      "outputs": [
        {
          "output_type": "display_data",
          "data": {
            "text/plain": [
              "<Figure size 720x360 with 0 Axes>"
            ]
          },
          "metadata": {}
        },
        {
          "output_type": "display_data",
          "data": {
            "image/png": "[encoded data removed]",
            "text/plain": [
              "<Figure size 432x288 with 2 Axes>"
            ]
          },
          "metadata": {
            "needs_background": "light"
          }
        }
      ]
    },
    {
      "cell_type": "code",
      "source": [
        "dd['signal'][-len(y_pred):].plot();\n",
        "plt.show()\n",
        "dd['pred'][-len(y_pred):].plot();"
      ],
      "metadata": {
        "colab": {
          "base_uri": "https://localhost:8080/",
          "height": 513
        },
        "id": "dbB7QW3bZSc2",
        "outputId": "345b57b3-6236-4a32-d4c3-d2115dec5083"
      },
      "execution_count": 97,
      "outputs": [
        {
          "output_type": "display_data",
          "data": {
            "image/png": "[encoded data removed]",
            "text/plain": [
              "<Figure size 432x288 with 1 Axes>"
            ]
          },
          "metadata": {
            "needs_background": "light"
          }
        },
        {
          "output_type": "display_data",
          "data": {
            "image/png": "[encoded data removed]",
            "text/plain": [
              "<Figure size 432x288 with 1 Axes>"
            ]
          },
          "metadata": {
            "needs_background": "light"
          }
        }
      ]
    },
    {
      "cell_type": "code",
      "source": [
        "from sklearn.metrics import confusion_matrix, plot_confusion_matrix\n",
        "\n",
        "rf_matrix = confusion_matrix(dd.signal,dd.pred)\n",
        "\n",
        "true_negatives = rf_matrix[0][0]\n",
        "false_negatives = rf_matrix[1][0]\n",
        "true_positives = rf_matrix[1][1]\n",
        "false_positives = rf_matrix[0][1]\n",
        "from sklearn.metrics import average_precision_score,f1_score\n",
        "average_precision = average_precision_score(dd.signal,dd.pred)\n",
        "f1=f1_score(dd.signal,dd.pred,average=None)\n",
        "accuracy = (true_negatives + true_positives) / (true_negatives + true_positives + false_negatives + false_positives)\n",
        "percision = true_positives / (true_positives + false_positives)\n",
        "recall = true_positives / (true_positives + false_negatives)\n",
        "specificity = true_negatives / (true_negatives + false_positives)\n",
        "f1score= 2*recall*percision/(percision+recall)\n",
        "print('Accuracy: {}'.format(float(accuracy)))\n",
        "print('Percision: {}'.format(float(percision)))\n",
        "print('Recall: {}'.format(float(recall)))\n",
        "print('Specificity: {}'.format(float(specificity)))\n",
        "print('F1-Score: {}'.format(float(f1score)))\n",
        "print('Average Precision : {}'.format(float(average_precision)))\n",
        "print(f'f1 score class wise for down : {round(f1[0]*100)}.00% ,up : {round(f1[1]*100)}.00%')\n",
        "accuracy_pos = (true_positives) / (true_negatives + true_positives + false_negatives + false_positives)\n",
        "accuracy_neg = (true_negatives) / (true_negatives + true_positives + false_negatives + false_positives)\n",
        "print('Accuracy positive: {}'.format(float(accuracy_pos)))\n",
        "print('Accuracy negative {}'.format(float(accuracy_neg)))"
      ],
      "metadata": {
        "id": "5yFyfe9cZ0zE",
        "outputId": "119b9ec6-b5fd-4553-bfbf-ca910b7a8f25",
        "colab": {
          "base_uri": "https://localhost:8080/"
        }
      },
      "execution_count": 98,
      "outputs": [
        {
          "output_type": "stream",
          "name": "stdout",
          "text": [
            "Accuracy: 0.8497109826589595\n",
            "Percision: 0.803680981595092\n",
            "Recall: 0.8675496688741722\n",
            "Specificity: 0.8358974358974359\n",
            "F1-Score: 0.8343949044585987\n",
            "Average Precision : 0.7550366376713842\n",
            "f1 score class wise for down : 86.00% ,up : 83.00%\n",
            "Accuracy positive: 0.3786127167630058\n",
            "Accuracy negative 0.47109826589595377\n"
          ]
        }
      ]
    },
    {
      "cell_type": "markdown",
      "source": [
        "# actual testing"
      ],
      "metadata": {
        "id": "S_ylKeFy_-nJ"
      }
    },
    {
      "cell_type": "code",
      "source": [
        "data_for_testing=yf.download(ticker,start='2021-01-01',parse_dates=['Date']).reset_index()"
      ],
      "metadata": {
        "id": "4xAPoA3L_-Ey",
        "outputId": "ed5d6d79-c475-4b7b-ae5f-88321f8ab61a",
        "colab": {
          "base_uri": "https://localhost:8080/"
        }
      },
      "execution_count": 99,
      "outputs": [
        {
          "output_type": "stream",
          "name": "stdout",
          "text": [
            "\r[*********************100%***********************]  1 of 1 completed\n"
          ]
        }
      ]
    },
    {
      "cell_type": "code",
      "source": [
        "data_for_testing['Date']=data_for_testing['Date'].map(dt.datetime.toordinal)"
      ],
      "metadata": {
        "id": "FcIKjqJ0B8ix"
      },
      "execution_count": 100,
      "outputs": []
    },
    {
      "cell_type": "code",
      "source": [
        "from numpy.lib.function_base import append\n",
        "data_for_testing.ta.macd(fast=45, slow= 30, signal=18, append=True)\n",
        "data_for_testing.ta.vortex(length=28,append=True)\n",
        "data_for_testing.ta.aroon(length=28,append=True)\n",
        "data_for_testing.ta.ema(length=26,append=True)\n",
        "#data_for_modeling.ta.bbands(append=True)\n",
        "#data_for_modeling.ta.percent_return(length=28,append=True)\n",
        "#data_for_modeling.ta.log_return(length=28,append=True)\n",
        "data_for_testing.ta.kurtosis(append=True)\n",
        "data_for_testing.ta.linreg(length=28,append=True)\n",
        "data_for_testing.ta.quantile(append=True)\n",
        "\n",
        "print()"
      ],
      "metadata": {
        "id": "QmsC_IhtARP6",
        "outputId": "46141f75-517b-4e44-886d-723d8081c97a",
        "colab": {
          "base_uri": "https://localhost:8080/"
        }
      },
      "execution_count": 101,
      "outputs": [
        {
          "output_type": "stream",
          "name": "stdout",
          "text": [
            "\n"
          ]
        }
      ]
    },
    {
      "cell_type": "code",
      "source": [
        "X = np.array((data_for_testing['adj_close'].pct_change(50)).dropna()) #  -df['Close'].rolling(window=200).mean()).dropna()\n",
        "X=sc.fit_transform(X.reshape(-1,1))\n",
        "from sklearn.cluster import KMeans \n",
        "kmeans = KMeans(n_clusters= 4).fit(X.reshape(-1,1))\n",
        "c = kmeans.predict(X.reshape(-1,1))\n",
        "data_for_testing=data_for_testing[-c.shape[0]:]\n",
        "data_for_testing['cluster']=c"
      ],
      "metadata": {
        "id": "G1qjtNA3wZzw"
      },
      "execution_count": 102,
      "outputs": []
    },
    {
      "cell_type": "code",
      "source": [
        "rapida = 26\n",
        "lenta = 52\n",
        "stdv = 0.8\n",
        "data_for_testing['fast'] =data_for_testing['adj_close'].rolling(window=rapida).mean() \n",
        "data_for_testing['slow'] =data_for_testing['adj_close'].rolling(window=lenta).mean()\n",
        "data_for_testing['bband']= data_for_testing['fast']-data_for_modeling['slow']\n",
        "data_for_testing['avg'] = data_for_testing['bband'].rolling(window=9).mean()\n",
        "data_for_testing['Sdev'] = data_for_testing['bband'].rolling(window=9).std()\n",
        "data_for_testing['Upper Band'] = data_for_testing['avg'] + (data_for_testing['Sdev'] *stdv)\n",
        "data_for_testing['Lower Band'] = data_for_testing['avg'] - (data_for_testing['Sdev'] *stdv)"
      ],
      "metadata": {
        "id": "zFZxKnTYBILA"
      },
      "execution_count": 103,
      "outputs": []
    },
    {
      "cell_type": "code",
      "source": [
        "data_for_testing['signal']=np.where(data_for_testing['bband']>data_for_testing['avg'],1,-1)"
      ],
      "metadata": {
        "id": "iRWbkoSPBWty"
      },
      "execution_count": 104,
      "outputs": []
    },
    {
      "cell_type": "code",
      "source": [
        "# Make predictions\n",
        "pred_test=  rand_frst_clf.predict(data_for_testing[features].dropna())"
      ],
      "metadata": {
        "id": "F4mgDuyUA4N6"
      },
      "execution_count": 105,
      "outputs": []
    },
    {
      "cell_type": "code",
      "source": [
        "pred_new=np.concatenate([data_for_testing[features].dropna(),pred_test.reshape(-1,1)],axis=1)\n"
      ],
      "metadata": {
        "id": "a-tuxz2ODLGK"
      },
      "execution_count": 106,
      "outputs": []
    },
    {
      "cell_type": "code",
      "source": [
        "y_pred_final = rand_second_clf.predict(pred_new)"
      ],
      "metadata": {
        "id": "1oIQM0DSDkyF"
      },
      "execution_count": 107,
      "outputs": []
    },
    {
      "cell_type": "code",
      "source": [
        "final=data_for_testing[-len(y_pred_final):].reset_index(drop=True)"
      ],
      "metadata": {
        "id": "8hKCRYKBD9WE"
      },
      "execution_count": 108,
      "outputs": []
    },
    {
      "cell_type": "code",
      "source": [
        "final=pd.concat([final,pd.Series(y_pred_final).rename('pred')],axis=1)"
      ],
      "metadata": {
        "id": "UQD2ILZSEHdQ"
      },
      "execution_count": 109,
      "outputs": []
    },
    {
      "cell_type": "code",
      "source": [
        "from sklearn.metrics import confusion_matrix, plot_confusion_matrix\n",
        "\n",
        "rf_matrix = confusion_matrix(final.signal,final.pred)\n",
        "\n",
        "true_negatives = rf_matrix[0][0]\n",
        "false_negatives = rf_matrix[1][0]\n",
        "true_positives = rf_matrix[1][1]\n",
        "false_positives = rf_matrix[0][1]\n",
        "from sklearn.metrics import average_precision_score,f1_score\n",
        "average_precision = average_precision_score(final.signal,final.pred)\n",
        "f1=f1_score(final.signal,final.pred,average=None)\n",
        "accuracy = (true_negatives + true_positives) / (true_negatives + true_positives + false_negatives + false_positives)\n",
        "percision = true_positives / (true_positives + false_positives)\n",
        "recall = true_positives / (true_positives + false_negatives)\n",
        "specificity = true_negatives / (true_negatives + false_positives)\n",
        "f1score= 2*recall*percision/(percision+recall)\n",
        "print('Accuracy: {}'.format(float(accuracy)))\n",
        "print('Percision: {}'.format(float(percision)))\n",
        "print('Recall: {}'.format(float(recall)))\n",
        "print('Specificity: {}'.format(float(specificity)))\n",
        "print('F1-Score: {}'.format(float(f1score)))\n",
        "print('Average Precision : {}'.format(float(average_precision)))\n",
        "print(f'f1 score class wise for down : {round(f1[0]*100)}.00% ,up : {round(f1[1]*100)}.00%')\n",
        "accuracy_pos = (true_positives) / (true_negatives + true_positives + false_negatives + false_positives)\n",
        "accuracy_neg = (true_negatives) / (true_negatives + true_positives + false_negatives + false_positives)\n",
        "print('Accuracy positive: {}'.format(float(accuracy_pos)))\n",
        "print('Accuracy negative {}'.format(float(accuracy_neg)))"
      ],
      "metadata": {
        "id": "a2TBb7hoEYOz",
        "outputId": "71e4f700-9c1c-4c94-dc8a-2cdb23a93ce2",
        "colab": {
          "base_uri": "https://localhost:8080/"
        }
      },
      "execution_count": 110,
      "outputs": [
        {
          "output_type": "stream",
          "name": "stdout",
          "text": [
            "Accuracy: 0.6814814814814815\n",
            "Percision: 1.0\n",
            "Recall: 0.5943396226415094\n",
            "Specificity: 1.0\n",
            "F1-Score: 0.7455621301775148\n",
            "Average Precision : 0.912858141160028\n",
            "f1 score class wise for down : 57.00% ,up : 75.00%\n",
            "Accuracy positive: 0.4666666666666667\n",
            "Accuracy negative 0.21481481481481482\n"
          ]
        }
      ]
    },
    {
      "cell_type": "code",
      "source": [
        "#final['plot']=np.where(final['pred']==final['signal'],1,0)"
      ],
      "metadata": {
        "id": "BMwK7RXPZOUu"
      },
      "execution_count": 111,
      "outputs": []
    },
    {
      "cell_type": "code",
      "source": [
        "plt.figure()\n",
        "final[['close','pred','signal']][-len(y_pred_final):].plot(secondary_y=['close'],legend=True,figsize=(13,5));\n"
      ],
      "metadata": {
        "id": "Hn8gpIY5E356",
        "outputId": "1c461768-a7b7-4b65-c1be-5d54eb17fe44",
        "colab": {
          "base_uri": "https://localhost:8080/",
          "height": 337
        }
      },
      "execution_count": 112,
      "outputs": [
        {
          "output_type": "display_data",
          "data": {
            "text/plain": [
              "<Figure size 432x288 with 0 Axes>"
            ]
          },
          "metadata": {}
        },
        {
          "output_type": "display_data",
          "data": {
            "image/png": "[encoded data removed]",
            "text/plain": [
              "<Figure size 936x360 with 2 Axes>"
            ]
          },
          "metadata": {
            "needs_background": "light"
          }
        }
      ]
    },
    {
      "cell_type": "code",
      "source": [
        "rf_matrix "
      ],
      "metadata": {
        "id": "Mxfe7lQPE_SR",
        "colab": {
          "base_uri": "https://localhost:8080/"
        },
        "outputId": "ce975ccc-b798-40d7-d42c-cfbd6ec9c216"
      },
      "execution_count": 113,
      "outputs": [
        {
          "output_type": "execute_result",
          "data": {
            "text/plain": [
              "array([[29,  0],\n",
              "       [43, 63]])"
            ]
          },
          "metadata": {},
          "execution_count": 113
        }
      ]
    }
  ]
}