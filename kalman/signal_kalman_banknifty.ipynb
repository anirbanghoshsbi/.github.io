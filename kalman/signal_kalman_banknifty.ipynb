{
  "nbformat": 4,
  "nbformat_minor": 0,
  "metadata": {
    "colab": {
      "name": "signal_kalman_.ipynb",
      "provenance": [],
      "authorship_tag": "ABX9TyN3nBTS4nacIkcZroiLQ6tC",
      "include_colab_link": true
    },
    "kernelspec": {
      "name": "python3",
      "display_name": "Python 3"
    },
    "language_info": {
      "name": "python"
    }
  },
  "cells": [
    {
      "cell_type": "markdown",
      "metadata": {
        "id": "view-in-github",
        "colab_type": "text"
      },
      "source": [
        "<a href=\"https://colab.research.google.com/github/anirbanghoshsbi/.github.io/blob/master/kalman/signal_kalman_banknifty.ipynb\" target=\"_parent\"><img src=\"https://colab.research.google.com/assets/colab-badge.svg\" alt=\"Open In Colab\"/></a>"
      ]
    },
    {
      "cell_type": "code",
      "metadata": {
        "id": "YzwNO2rurRH3",
        "colab": {
          "base_uri": "https://localhost:8080/"
        },
        "outputId": "b729d007-dfef-42aa-bba5-d4a317a76cad"
      },
      "source": [
        "!pip install pykalman\n",
        "!pip install yfinance\n",
        "!pip install pandas-ta==0.2.45b"
      ],
      "execution_count": 26,
      "outputs": [
        {
          "output_type": "stream",
          "name": "stdout",
          "text": [
            "Requirement already satisfied: pykalman in /usr/local/lib/python3.7/dist-packages (0.9.5)\n",
            "Requirement already satisfied: yfinance in /usr/local/lib/python3.7/dist-packages (0.1.64)\n",
            "Requirement already satisfied: pandas>=0.24 in /usr/local/lib/python3.7/dist-packages (from yfinance) (1.1.5)\n",
            "Requirement already satisfied: requests>=2.20 in /usr/local/lib/python3.7/dist-packages (from yfinance) (2.23.0)\n",
            "Requirement already satisfied: lxml>=4.5.1 in /usr/local/lib/python3.7/dist-packages (from yfinance) (4.6.4)\n",
            "Requirement already satisfied: numpy>=1.15 in /usr/local/lib/python3.7/dist-packages (from yfinance) (1.19.5)\n",
            "Requirement already satisfied: multitasking>=0.0.7 in /usr/local/lib/python3.7/dist-packages (from yfinance) (0.0.9)\n",
            "Requirement already satisfied: pytz>=2017.2 in /usr/local/lib/python3.7/dist-packages (from pandas>=0.24->yfinance) (2018.9)\n",
            "Requirement already satisfied: python-dateutil>=2.7.3 in /usr/local/lib/python3.7/dist-packages (from pandas>=0.24->yfinance) (2.8.2)\n",
            "Requirement already satisfied: six>=1.5 in /usr/local/lib/python3.7/dist-packages (from python-dateutil>=2.7.3->pandas>=0.24->yfinance) (1.15.0)\n",
            "Requirement already satisfied: chardet<4,>=3.0.2 in /usr/local/lib/python3.7/dist-packages (from requests>=2.20->yfinance) (3.0.4)\n",
            "Requirement already satisfied: certifi>=2017.4.17 in /usr/local/lib/python3.7/dist-packages (from requests>=2.20->yfinance) (2021.5.30)\n",
            "Requirement already satisfied: urllib3!=1.25.0,!=1.25.1,<1.26,>=1.21.1 in /usr/local/lib/python3.7/dist-packages (from requests>=2.20->yfinance) (1.24.3)\n",
            "Requirement already satisfied: idna<3,>=2.5 in /usr/local/lib/python3.7/dist-packages (from requests>=2.20->yfinance) (2.10)\n",
            "Requirement already satisfied: pandas-ta==0.2.45b in /usr/local/lib/python3.7/dist-packages (0.2.45b0)\n",
            "Requirement already satisfied: pandas in /usr/local/lib/python3.7/dist-packages (from pandas-ta==0.2.45b) (1.1.5)\n",
            "Requirement already satisfied: numpy>=1.15.4 in /usr/local/lib/python3.7/dist-packages (from pandas->pandas-ta==0.2.45b) (1.19.5)\n",
            "Requirement already satisfied: python-dateutil>=2.7.3 in /usr/local/lib/python3.7/dist-packages (from pandas->pandas-ta==0.2.45b) (2.8.2)\n",
            "Requirement already satisfied: pytz>=2017.2 in /usr/local/lib/python3.7/dist-packages (from pandas->pandas-ta==0.2.45b) (2018.9)\n",
            "Requirement already satisfied: six>=1.5 in /usr/local/lib/python3.7/dist-packages (from python-dateutil>=2.7.3->pandas->pandas-ta==0.2.45b) (1.15.0)\n"
          ]
        }
      ]
    },
    {
      "cell_type": "code",
      "metadata": {
        "id": "K0B7knnQrSGM"
      },
      "source": [
        "#Importing dependencies#\n",
        "from pykalman import KalmanFilter\n",
        "import numpy as np\n",
        "import pylab as pl\n",
        "import pandas as pd\n",
        "import yfinance as yf\n",
        "from scipy import poly1d\n",
        "from datetime import datetime\n",
        "import pandas_ta as ta\n",
        "import matplotlib.pyplot as plt\n",
        "%matplotlib inline"
      ],
      "execution_count": 27,
      "outputs": []
    },
    {
      "cell_type": "code",
      "metadata": {
        "id": "q1AA0W40DJrx"
      },
      "source": [
        "pd.options.mode.chained_assignment = None"
      ],
      "execution_count": 28,
      "outputs": []
    },
    {
      "cell_type": "code",
      "metadata": {
        "id": "x3Lx3gzkxLj3"
      },
      "source": [
        "ticker = pd.read_csv('https://raw.githubusercontent.com/anirbanghoshsbi/data/main/ind_niftybanklist.csv')"
      ],
      "execution_count": 29,
      "outputs": []
    },
    {
      "cell_type": "code",
      "metadata": {
        "id": "YbRMeZrxsEuO"
      },
      "source": [
        "#ticker = pd.read_csv('https://raw.githubusercontent.com/anirbanghoshsbi/data/main/ind_nifty50list.csv')\n",
        "START = \"2013-01-01\""
      ],
      "execution_count": 30,
      "outputs": []
    },
    {
      "cell_type": "code",
      "metadata": {
        "colab": {
          "base_uri": "https://localhost:8080/"
        },
        "id": "CAgSzrJ08lOj",
        "outputId": "5acf5821-2a51-4a78-bf3d-9c16dae53669"
      },
      "source": [
        "nifty=yf.download('^nsebank',start=START)"
      ],
      "execution_count": 31,
      "outputs": [
        {
          "output_type": "stream",
          "name": "stdout",
          "text": [
            "\r[*********************100%***********************]  1 of 1 completed\n"
          ]
        }
      ]
    },
    {
      "cell_type": "code",
      "metadata": {
        "id": "kjfwjEr7rbRF",
        "colab": {
          "base_uri": "https://localhost:8080/"
        },
        "outputId": "ab07b242-b727-4692-cc58-17f4b162ca13"
      },
      "source": [
        "lst=[]\n",
        "for i in range(len(ticker)):\n",
        "  \n",
        "  dfi = yf.download(str(ticker.Symbol.iloc[i])+'.ns', start=START)\n",
        "  df = dfi[['Adj Close']]\n",
        "  f = KalmanFilter(transition_matrices = [1],\n",
        "                    observation_matrices = [1],\n",
        "                    initial_state_mean = 0,\n",
        "                    initial_state_covariance = 1,\n",
        "                    observation_covariance = 1,\n",
        "                    transition_covariance = 0.0001)\n",
        "  mean, cov = f.filter(df['Adj Close'].values)\n",
        "  mean, std = mean.squeeze(), np.std(cov.squeeze())\n",
        "  var = 'kalman'\n",
        "  df[var]=df['Adj Close'].values - mean\n",
        "  \n",
        "  lst.append(df)"
      ],
      "execution_count": 32,
      "outputs": [
        {
          "output_type": "stream",
          "name": "stdout",
          "text": [
            "[*********************100%***********************]  1 of 1 completed\n",
            "[*********************100%***********************]  1 of 1 completed\n",
            "[*********************100%***********************]  1 of 1 completed\n",
            "[*********************100%***********************]  1 of 1 completed\n",
            "[*********************100%***********************]  1 of 1 completed\n",
            "[*********************100%***********************]  1 of 1 completed\n",
            "[*********************100%***********************]  1 of 1 completed\n",
            "[*********************100%***********************]  1 of 1 completed\n",
            "[*********************100%***********************]  1 of 1 completed\n",
            "[*********************100%***********************]  1 of 1 completed\n",
            "[*********************100%***********************]  1 of 1 completed\n",
            "[*********************100%***********************]  1 of 1 completed\n"
          ]
        }
      ]
    },
    {
      "cell_type": "code",
      "metadata": {
        "id": "eWluogVZrbHW"
      },
      "source": [
        "nlst=[]\n",
        "for i in range(len(ticker)):\n",
        "  nlst.append(lst[i].kalman)\n",
        "  "
      ],
      "execution_count": 33,
      "outputs": []
    },
    {
      "cell_type": "code",
      "metadata": {
        "id": "y9-ZLZZRwLix"
      },
      "source": [
        "df_kalman = pd.DataFrame(nlst).T"
      ],
      "execution_count": 34,
      "outputs": []
    },
    {
      "cell_type": "code",
      "metadata": {
        "id": "V7bgENL_wLgJ"
      },
      "source": [
        "namelist =[]\n",
        "for i in range(1,len(ticker)+1):\n",
        "  namelist.append('kalman_'+str(i))\n",
        "  \n",
        "df_kalman.columns = namelist"
      ],
      "execution_count": 35,
      "outputs": []
    },
    {
      "cell_type": "code",
      "metadata": {
        "id": "AdFj16hYwKzC"
      },
      "source": [
        "def macd_calc(df):\n",
        "  columns=df.columns.tolist()\n",
        "  for var in columns:\n",
        "    macd='macd'+var\n",
        "    macd_s='macd'+'signal'+var\n",
        "    macd_h='hist'+ var\n",
        "    df[macd]=df[var].ewm(span=26, adjust=False).mean()-df[var].ewm(span=50, adjust=False).mean()\n",
        "    df[macd_s]=df[macd].ewm(span=18,adjust=False).mean()\n",
        "    df[macd_h]=df[macd]-df[macd_s]\n",
        "  return df"
      ],
      "execution_count": 36,
      "outputs": []
    },
    {
      "cell_type": "code",
      "metadata": {
        "id": "tN5FGb1grbC2"
      },
      "source": [
        "final_kalman=macd_calc(df_kalman)"
      ],
      "execution_count": 37,
      "outputs": []
    },
    {
      "cell_type": "code",
      "metadata": {
        "colab": {
          "base_uri": "https://localhost:8080/",
          "height": 194
        },
        "id": "9zq6kFSTrbAl",
        "outputId": "6078463c-80e7-4d1b-a352-fd809783b247"
      },
      "source": [
        "final_kalman.tail(2)"
      ],
      "execution_count": 38,
      "outputs": [
        {
          "output_type": "execute_result",
          "data": {
            "text/html": [
              "<div>\n",
              "<style scoped>\n",
              "    .dataframe tbody tr th:only-of-type {\n",
              "        vertical-align: middle;\n",
              "    }\n",
              "\n",
              "    .dataframe tbody tr th {\n",
              "        vertical-align: top;\n",
              "    }\n",
              "\n",
              "    .dataframe thead th {\n",
              "        text-align: right;\n",
              "    }\n",
              "</style>\n",
              "<table border=\"1\" class=\"dataframe\">\n",
              "  <thead>\n",
              "    <tr style=\"text-align: right;\">\n",
              "      <th></th>\n",
              "      <th>kalman_1</th>\n",
              "      <th>kalman_2</th>\n",
              "      <th>kalman_3</th>\n",
              "      <th>kalman_4</th>\n",
              "      <th>kalman_5</th>\n",
              "      <th>kalman_6</th>\n",
              "      <th>kalman_7</th>\n",
              "      <th>kalman_8</th>\n",
              "      <th>kalman_9</th>\n",
              "      <th>kalman_10</th>\n",
              "      <th>kalman_11</th>\n",
              "      <th>kalman_12</th>\n",
              "      <th>macdkalman_1</th>\n",
              "      <th>macdsignalkalman_1</th>\n",
              "      <th>histkalman_1</th>\n",
              "      <th>macdkalman_2</th>\n",
              "      <th>macdsignalkalman_2</th>\n",
              "      <th>histkalman_2</th>\n",
              "      <th>macdkalman_3</th>\n",
              "      <th>macdsignalkalman_3</th>\n",
              "      <th>histkalman_3</th>\n",
              "      <th>macdkalman_4</th>\n",
              "      <th>macdsignalkalman_4</th>\n",
              "      <th>histkalman_4</th>\n",
              "      <th>macdkalman_5</th>\n",
              "      <th>macdsignalkalman_5</th>\n",
              "      <th>histkalman_5</th>\n",
              "      <th>macdkalman_6</th>\n",
              "      <th>macdsignalkalman_6</th>\n",
              "      <th>histkalman_6</th>\n",
              "      <th>macdkalman_7</th>\n",
              "      <th>macdsignalkalman_7</th>\n",
              "      <th>histkalman_7</th>\n",
              "      <th>macdkalman_8</th>\n",
              "      <th>macdsignalkalman_8</th>\n",
              "      <th>histkalman_8</th>\n",
              "      <th>macdkalman_9</th>\n",
              "      <th>macdsignalkalman_9</th>\n",
              "      <th>histkalman_9</th>\n",
              "      <th>macdkalman_10</th>\n",
              "      <th>macdsignalkalman_10</th>\n",
              "      <th>histkalman_10</th>\n",
              "      <th>macdkalman_11</th>\n",
              "      <th>macdsignalkalman_11</th>\n",
              "      <th>histkalman_11</th>\n",
              "      <th>macdkalman_12</th>\n",
              "      <th>macdsignalkalman_12</th>\n",
              "      <th>histkalman_12</th>\n",
              "    </tr>\n",
              "    <tr>\n",
              "      <th>Date</th>\n",
              "      <th></th>\n",
              "      <th></th>\n",
              "      <th></th>\n",
              "      <th></th>\n",
              "      <th></th>\n",
              "      <th></th>\n",
              "      <th></th>\n",
              "      <th></th>\n",
              "      <th></th>\n",
              "      <th></th>\n",
              "      <th></th>\n",
              "      <th></th>\n",
              "      <th></th>\n",
              "      <th></th>\n",
              "      <th></th>\n",
              "      <th></th>\n",
              "      <th></th>\n",
              "      <th></th>\n",
              "      <th></th>\n",
              "      <th></th>\n",
              "      <th></th>\n",
              "      <th></th>\n",
              "      <th></th>\n",
              "      <th></th>\n",
              "      <th></th>\n",
              "      <th></th>\n",
              "      <th></th>\n",
              "      <th></th>\n",
              "      <th></th>\n",
              "      <th></th>\n",
              "      <th></th>\n",
              "      <th></th>\n",
              "      <th></th>\n",
              "      <th></th>\n",
              "      <th></th>\n",
              "      <th></th>\n",
              "      <th></th>\n",
              "      <th></th>\n",
              "      <th></th>\n",
              "      <th></th>\n",
              "      <th></th>\n",
              "      <th></th>\n",
              "      <th></th>\n",
              "      <th></th>\n",
              "      <th></th>\n",
              "      <th></th>\n",
              "      <th></th>\n",
              "      <th></th>\n",
              "    </tr>\n",
              "  </thead>\n",
              "  <tbody>\n",
              "    <tr>\n",
              "      <th>2021-11-03</th>\n",
              "      <td>112.508198</td>\n",
              "      <td>22.404604</td>\n",
              "      <td>-13.060386</td>\n",
              "      <td>18.175121</td>\n",
              "      <td>89.871395</td>\n",
              "      <td>138.481554</td>\n",
              "      <td>1.643610</td>\n",
              "      <td>167.469000</td>\n",
              "      <td>214.488128</td>\n",
              "      <td>2.080664</td>\n",
              "      <td>3.069654</td>\n",
              "      <td>125.052168</td>\n",
              "      <td>-5.782718</td>\n",
              "      <td>-10.984189</td>\n",
              "      <td>5.201470</td>\n",
              "      <td>-6.618061</td>\n",
              "      <td>-1.502676</td>\n",
              "      <td>-5.115385</td>\n",
              "      <td>4.703431</td>\n",
              "      <td>5.480076</td>\n",
              "      <td>-0.776645</td>\n",
              "      <td>2.747994</td>\n",
              "      <td>1.414735</td>\n",
              "      <td>1.333259</td>\n",
              "      <td>6.195429</td>\n",
              "      <td>12.741740</td>\n",
              "      <td>-6.546311</td>\n",
              "      <td>11.711889</td>\n",
              "      <td>4.982881</td>\n",
              "      <td>6.729008</td>\n",
              "      <td>0.460209</td>\n",
              "      <td>-0.029377</td>\n",
              "      <td>0.489586</td>\n",
              "      <td>19.515437</td>\n",
              "      <td>21.249152</td>\n",
              "      <td>-1.733714</td>\n",
              "      <td>47.027779</td>\n",
              "      <td>49.041984</td>\n",
              "      <td>-2.014205</td>\n",
              "      <td>0.844464</td>\n",
              "      <td>0.728165</td>\n",
              "      <td>0.116299</td>\n",
              "      <td>5.187559</td>\n",
              "      <td>3.902902</td>\n",
              "      <td>1.284657</td>\n",
              "      <td>9.623709</td>\n",
              "      <td>5.505251</td>\n",
              "      <td>4.118457</td>\n",
              "    </tr>\n",
              "    <tr>\n",
              "      <th>2021-11-04</th>\n",
              "      <td>123.813781</td>\n",
              "      <td>24.508328</td>\n",
              "      <td>-13.771982</td>\n",
              "      <td>18.885322</td>\n",
              "      <td>101.352786</td>\n",
              "      <td>133.291917</td>\n",
              "      <td>2.171783</td>\n",
              "      <td>176.841743</td>\n",
              "      <td>231.610366</td>\n",
              "      <td>2.604491</td>\n",
              "      <td>3.484630</td>\n",
              "      <td>126.580011</td>\n",
              "      <td>-5.502276</td>\n",
              "      <td>-10.407145</td>\n",
              "      <td>4.904869</td>\n",
              "      <td>-7.739121</td>\n",
              "      <td>-2.159144</td>\n",
              "      <td>-5.579977</td>\n",
              "      <td>4.375035</td>\n",
              "      <td>5.363756</td>\n",
              "      <td>-0.988721</td>\n",
              "      <td>2.821420</td>\n",
              "      <td>1.562807</td>\n",
              "      <td>1.258613</td>\n",
              "      <td>4.453573</td>\n",
              "      <td>11.869302</td>\n",
              "      <td>-7.415728</td>\n",
              "      <td>11.327465</td>\n",
              "      <td>5.650732</td>\n",
              "      <td>5.676733</td>\n",
              "      <td>0.493841</td>\n",
              "      <td>0.025699</td>\n",
              "      <td>0.468143</td>\n",
              "      <td>18.824029</td>\n",
              "      <td>20.993876</td>\n",
              "      <td>-2.169847</td>\n",
              "      <td>44.521736</td>\n",
              "      <td>48.566169</td>\n",
              "      <td>-4.044433</td>\n",
              "      <td>0.791196</td>\n",
              "      <td>0.734800</td>\n",
              "      <td>0.056396</td>\n",
              "      <td>5.342637</td>\n",
              "      <td>4.054453</td>\n",
              "      <td>1.288184</td>\n",
              "      <td>10.166453</td>\n",
              "      <td>5.995904</td>\n",
              "      <td>4.170549</td>\n",
              "    </tr>\n",
              "  </tbody>\n",
              "</table>\n",
              "</div>"
            ],
            "text/plain": [
              "              kalman_1   kalman_2  ...  macdsignalkalman_12  histkalman_12\n",
              "Date                               ...                                    \n",
              "2021-11-03  112.508198  22.404604  ...             5.505251       4.118457\n",
              "2021-11-04  123.813781  24.508328  ...             5.995904       4.170549\n",
              "\n",
              "[2 rows x 48 columns]"
            ]
          },
          "metadata": {},
          "execution_count": 38
        }
      ]
    },
    {
      "cell_type": "code",
      "metadata": {
        "id": "ssI2nLbIra91"
      },
      "source": [
        "features = final_kalman.columns.tolist()"
      ],
      "execution_count": 39,
      "outputs": []
    },
    {
      "cell_type": "code",
      "metadata": {
        "id": "kaS_OPDZ03HH"
      },
      "source": [
        "feats_set1=[feats for feats in features if feats.startswith('hist')]"
      ],
      "execution_count": 40,
      "outputs": []
    },
    {
      "cell_type": "code",
      "metadata": {
        "id": "p7NzUo7B1de-"
      },
      "source": [
        "final_dataframe=final_kalman[feats_set1]"
      ],
      "execution_count": 41,
      "outputs": []
    },
    {
      "cell_type": "code",
      "metadata": {
        "id": "G3n2Ns_U2h01"
      },
      "source": [
        "solution=np.sign(final_dataframe)"
      ],
      "execution_count": 42,
      "outputs": []
    },
    {
      "cell_type": "code",
      "metadata": {
        "id": "zvUVJRgX3H61"
      },
      "source": [
        "solution['final']=solution.sum(axis=1)"
      ],
      "execution_count": 43,
      "outputs": []
    },
    {
      "cell_type": "code",
      "metadata": {
        "colab": {
          "base_uri": "https://localhost:8080/",
          "height": 194
        },
        "id": "OA_hL4Ru68WZ",
        "outputId": "c0d87e01-47c9-410e-e245-36c6a448ccc0"
      },
      "source": [
        "solution.tail(2)"
      ],
      "execution_count": 44,
      "outputs": [
        {
          "output_type": "execute_result",
          "data": {
            "text/html": [
              "<div>\n",
              "<style scoped>\n",
              "    .dataframe tbody tr th:only-of-type {\n",
              "        vertical-align: middle;\n",
              "    }\n",
              "\n",
              "    .dataframe tbody tr th {\n",
              "        vertical-align: top;\n",
              "    }\n",
              "\n",
              "    .dataframe thead th {\n",
              "        text-align: right;\n",
              "    }\n",
              "</style>\n",
              "<table border=\"1\" class=\"dataframe\">\n",
              "  <thead>\n",
              "    <tr style=\"text-align: right;\">\n",
              "      <th></th>\n",
              "      <th>histkalman_1</th>\n",
              "      <th>histkalman_2</th>\n",
              "      <th>histkalman_3</th>\n",
              "      <th>histkalman_4</th>\n",
              "      <th>histkalman_5</th>\n",
              "      <th>histkalman_6</th>\n",
              "      <th>histkalman_7</th>\n",
              "      <th>histkalman_8</th>\n",
              "      <th>histkalman_9</th>\n",
              "      <th>histkalman_10</th>\n",
              "      <th>histkalman_11</th>\n",
              "      <th>histkalman_12</th>\n",
              "      <th>final</th>\n",
              "    </tr>\n",
              "    <tr>\n",
              "      <th>Date</th>\n",
              "      <th></th>\n",
              "      <th></th>\n",
              "      <th></th>\n",
              "      <th></th>\n",
              "      <th></th>\n",
              "      <th></th>\n",
              "      <th></th>\n",
              "      <th></th>\n",
              "      <th></th>\n",
              "      <th></th>\n",
              "      <th></th>\n",
              "      <th></th>\n",
              "      <th></th>\n",
              "    </tr>\n",
              "  </thead>\n",
              "  <tbody>\n",
              "    <tr>\n",
              "      <th>2021-11-03</th>\n",
              "      <td>1.0</td>\n",
              "      <td>-1.0</td>\n",
              "      <td>-1.0</td>\n",
              "      <td>1.0</td>\n",
              "      <td>-1.0</td>\n",
              "      <td>1.0</td>\n",
              "      <td>1.0</td>\n",
              "      <td>-1.0</td>\n",
              "      <td>-1.0</td>\n",
              "      <td>1.0</td>\n",
              "      <td>1.0</td>\n",
              "      <td>1.0</td>\n",
              "      <td>2.0</td>\n",
              "    </tr>\n",
              "    <tr>\n",
              "      <th>2021-11-04</th>\n",
              "      <td>1.0</td>\n",
              "      <td>-1.0</td>\n",
              "      <td>-1.0</td>\n",
              "      <td>1.0</td>\n",
              "      <td>-1.0</td>\n",
              "      <td>1.0</td>\n",
              "      <td>1.0</td>\n",
              "      <td>-1.0</td>\n",
              "      <td>-1.0</td>\n",
              "      <td>1.0</td>\n",
              "      <td>1.0</td>\n",
              "      <td>1.0</td>\n",
              "      <td>2.0</td>\n",
              "    </tr>\n",
              "  </tbody>\n",
              "</table>\n",
              "</div>"
            ],
            "text/plain": [
              "            histkalman_1  histkalman_2  ...  histkalman_12  final\n",
              "Date                                    ...                      \n",
              "2021-11-03           1.0          -1.0  ...            1.0    2.0\n",
              "2021-11-04           1.0          -1.0  ...            1.0    2.0\n",
              "\n",
              "[2 rows x 13 columns]"
            ]
          },
          "metadata": {},
          "execution_count": 44
        }
      ]
    },
    {
      "cell_type": "code",
      "metadata": {
        "colab": {
          "base_uri": "https://localhost:8080/",
          "height": 293
        },
        "id": "VX-QwBkU3Jys",
        "outputId": "8b0249d4-0431-4164-8af0-3d779c10f488"
      },
      "source": [
        "solution.final[-100:].plot()"
      ],
      "execution_count": 45,
      "outputs": [
        {
          "output_type": "execute_result",
          "data": {
            "text/plain": [
              "<matplotlib.axes._subplots.AxesSubplot at 0x7f58bf0595d0>"
            ]
          },
          "metadata": {},
          "execution_count": 45
        },
        {
          "output_type": "display_data",
          "data": {
            "image/png": "[encoded data removed]",
            "text/plain": [
              "<Figure size 432x288 with 1 Axes>"
            ]
          },
          "metadata": {
            "needs_background": "light"
          }
        }
      ]
    },
    {
      "cell_type": "code",
      "metadata": {
        "id": "eHGbm3jKTN6u"
      },
      "source": [
        "l=700"
      ],
      "execution_count": 46,
      "outputs": []
    },
    {
      "cell_type": "code",
      "metadata": {
        "id": "uKnGigwKSyKD"
      },
      "source": [
        "nifty=nifty[-l:]\n",
        "solution=solution[-l:]"
      ],
      "execution_count": 47,
      "outputs": []
    },
    {
      "cell_type": "code",
      "metadata": {
        "colab": {
          "base_uri": "https://localhost:8080/",
          "height": 400
        },
        "id": "0JHISukB8NHk",
        "outputId": "b4b48c89-3cf2-4e0e-d382-8648734fe527"
      },
      "source": [
        "fig, ax = plt.subplots(2,1,figsize=(17,7),sharex=True)\n",
        "ax[0].plot(nifty.loc[:, :].index, nifty.loc[:, 'Close'],'r', label='Close')\n",
        "ax[1].plot(solution.loc[:, :].index, solution.loc[:, 'final'],'g', label='Signals')\n",
        "#ax[1].plot(nifty.iloc[:, :].index, nifty.loc[:, 'Close'], label='Nifty')\n",
        "plt.suptitle('Signals')\n",
        "ax[0].legend()\n",
        "ax[1].legend()\n",
        "ax[1].axhline(y=0)\n",
        "plt.show()"
      ],
      "execution_count": 48,
      "outputs": [
        {
          "output_type": "display_data",
          "data": {
            "image/png": "[encoded data removed]",
            "text/plain": [
              "<Figure size 1224x504 with 2 Axes>"
            ]
          },
          "metadata": {
            "needs_background": "light"
          }
        }
      ]
    },
    {
      "cell_type": "code",
      "metadata": {
        "id": "euhAaTaXBnKR"
      },
      "source": [
        "solution['signals']=np.where(solution['final']>0,1,-1)"
      ],
      "execution_count": 49,
      "outputs": []
    },
    {
      "cell_type": "code",
      "metadata": {
        "id": "AZskaRb1x9aX",
        "outputId": "37acceb0-0245-4b24-b944-05f829b59aae",
        "colab": {
          "base_uri": "https://localhost:8080/",
          "height": 400
        }
      },
      "source": [
        "fig, ax = plt.subplots(2,1,figsize=(17,7),sharex=True)\n",
        "ax[0].plot(nifty.loc[:, :].index, nifty.loc[:, 'Close'],'r', label='Close')\n",
        "ax[1].plot(solution.loc[:, :].index, solution.loc[:, 'signals'],'g', label='Signals')\n",
        "#ax[1].plot(nifty.iloc[:, :].index, nifty.loc[:, 'Close'], label='Nifty')\n",
        "plt.suptitle('Signals')\n",
        "ax[0].legend()\n",
        "ax[1].legend()\n",
        "ax[1].axhline(y=0)\n",
        "plt.show()"
      ],
      "execution_count": 52,
      "outputs": [
        {
          "output_type": "display_data",
          "data": {
            "image/png": "[encoded data removed]",
            "text/plain": [
              "<Figure size 1224x504 with 2 Axes>"
            ]
          },
          "metadata": {
            "needs_background": "light"
          }
        }
      ]
    },
    {
      "cell_type": "code",
      "metadata": {
        "id": "Ug-ccIvOB_HW"
      },
      "source": [
        "solution[['signals']].to_csv('kalman_k.csv')"
      ],
      "execution_count": 50,
      "outputs": []
    },
    {
      "cell_type": "code",
      "metadata": {
        "id": "o6Lab1vfRdTw"
      },
      "source": [
        "solution['local_max'] = solution['final'][\n",
        "  (solution['final'].shift(1) < solution['final']) &\n",
        "  (solution['final'].shift(-1) < solution['final'])]\n",
        "solution['local_min'] = solution['final'][\n",
        "  (solution['final'].shift(1) > solution['final']) &\n",
        "  (solution['final'].shift(-1) > solution['final'])]\n",
        "colors = plt.rcParams['axes.prop_cycle'].by_key()['color']\n",
        "plt.figure(figsize=(15, 8))\n",
        "plt.plot(solution['final'], zorder=0)\n",
        "plt.scatter(solution.index, solution['final'], s=100,\n",
        "  label='Maxima', marker='^', c=colors[1])\n",
        "plt.scatter(solution.index, solution['local_min'], s=100,\n",
        "  label='Minima', marker='v', c=colors[2])\n",
        "plt.xlabel('Date')\n",
        "plt.ylabel('Price ($)')\n",
        "plt.title(f'Local Maxima and Minima ')\n",
        "plt.legend()\n",
        "plt.show()"
      ],
      "execution_count": null,
      "outputs": []
    },
    {
      "cell_type": "code",
      "metadata": {
        "id": "vBWUL5D1XX2X"
      },
      "source": [
        "from scipy.signal import argrelextrema"
      ],
      "execution_count": null,
      "outputs": []
    },
    {
      "cell_type": "code",
      "metadata": {
        "id": "mkpw9khvXu6z"
      },
      "source": [
        "max_idx = argrelextrema(solution['final'].values, \n",
        "  np.greater, order=3)[0]\n",
        "min_idx = argrelextrema(solution['final'].values, \n",
        "  np.less, order=3)[0]\n",
        "plt.figure(figsize=(15, 8))\n",
        "plt.plot(solution['final'], zorder=0)\n",
        "plt.scatter(solution.iloc[max_idx].index, solution.iloc[max_idx]['final'],\n",
        "  label='Maxima', s=100, color=colors[1], marker='^')\n",
        "plt.scatter(solution.iloc[min_idx].index, solution.iloc[min_idx]['final'],\n",
        "  label='Minima', s=100, color=colors[2], marker='v')\n",
        "plt.legend()\n",
        "plt.show()"
      ],
      "execution_count": null,
      "outputs": []
    },
    {
      "cell_type": "code",
      "metadata": {
        "id": "zUQWSJl8YUkB"
      },
      "source": [
        ""
      ],
      "execution_count": null,
      "outputs": []
    }
  ]
}