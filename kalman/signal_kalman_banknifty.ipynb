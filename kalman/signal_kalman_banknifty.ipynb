{
  "nbformat": 4,
  "nbformat_minor": 0,
  "metadata": {
    "colab": {
      "name": "signal_kalman_.ipynb",
      "provenance": [],
      "authorship_tag": "ABX9TyME8h2YSL2ufU+9sxpWdzZz",
      "include_colab_link": true
    },
    "kernelspec": {
      "name": "python3",
      "display_name": "Python 3"
    },
    "language_info": {
      "name": "python"
    }
  },
  "cells": [
    {
      "cell_type": "markdown",
      "metadata": {
        "id": "view-in-github",
        "colab_type": "text"
      },
      "source": [
        "<a href=\"https://colab.research.google.com/github/anirbanghoshsbi/.github.io/blob/master/kalman/signal_kalman_banknifty.ipynb\" target=\"_parent\"><img src=\"https://colab.research.google.com/assets/colab-badge.svg\" alt=\"Open In Colab\"/></a>"
      ]
    },
    {
      "cell_type": "code",
      "metadata": {
        "id": "YzwNO2rurRH3",
        "colab": {
          "base_uri": "https://localhost:8080/"
        },
        "outputId": "eeca50b3-4982-4b41-ccf5-ce36cd6d5173"
      },
      "source": [
        "!pip install pykalman\n",
        "!pip install yfinance\n",
        "!pip install pandas-ta==0.2.45b"
      ],
      "execution_count": 1,
      "outputs": [
        {
          "output_type": "stream",
          "name": "stdout",
          "text": [
            "Collecting pykalman\n",
            "  Downloading pykalman-0.9.5.tar.gz (228 kB)\n",
            "\u001b[?25l\r\u001b[K     |█▍                              | 10 kB 19.2 MB/s eta 0:00:01\r\u001b[K     |██▉                             | 20 kB 13.4 MB/s eta 0:00:01\r\u001b[K     |████▎                           | 30 kB 10.1 MB/s eta 0:00:01\r\u001b[K     |█████▊                          | 40 kB 9.1 MB/s eta 0:00:01\r\u001b[K     |███████▏                        | 51 kB 5.3 MB/s eta 0:00:01\r\u001b[K     |████████▋                       | 61 kB 5.8 MB/s eta 0:00:01\r\u001b[K     |██████████                      | 71 kB 5.7 MB/s eta 0:00:01\r\u001b[K     |███████████▌                    | 81 kB 6.3 MB/s eta 0:00:01\r\u001b[K     |████████████▉                   | 92 kB 4.9 MB/s eta 0:00:01\r\u001b[K     |██████████████▎                 | 102 kB 5.4 MB/s eta 0:00:01\r\u001b[K     |███████████████▊                | 112 kB 5.4 MB/s eta 0:00:01\r\u001b[K     |█████████████████▏              | 122 kB 5.4 MB/s eta 0:00:01\r\u001b[K     |██████████████████▋             | 133 kB 5.4 MB/s eta 0:00:01\r\u001b[K     |████████████████████            | 143 kB 5.4 MB/s eta 0:00:01\r\u001b[K     |█████████████████████▌          | 153 kB 5.4 MB/s eta 0:00:01\r\u001b[K     |███████████████████████         | 163 kB 5.4 MB/s eta 0:00:01\r\u001b[K     |████████████████████████▍       | 174 kB 5.4 MB/s eta 0:00:01\r\u001b[K     |█████████████████████████▊      | 184 kB 5.4 MB/s eta 0:00:01\r\u001b[K     |███████████████████████████▏    | 194 kB 5.4 MB/s eta 0:00:01\r\u001b[K     |████████████████████████████▋   | 204 kB 5.4 MB/s eta 0:00:01\r\u001b[K     |██████████████████████████████  | 215 kB 5.4 MB/s eta 0:00:01\r\u001b[K     |███████████████████████████████▌| 225 kB 5.4 MB/s eta 0:00:01\r\u001b[K     |████████████████████████████████| 228 kB 5.4 MB/s \n",
            "\u001b[?25hBuilding wheels for collected packages: pykalman\n",
            "  Building wheel for pykalman (setup.py) ... \u001b[?25l\u001b[?25hdone\n",
            "  Created wheel for pykalman: filename=pykalman-0.9.5-py3-none-any.whl size=48462 sha256=303118bfb366480465e723b8db2143e9f967bbc84243eb8905b5a9dae9bf673c\n",
            "  Stored in directory: /root/.cache/pip/wheels/6a/04/02/2dda6ea59c66d9e685affc8af3a31ad3a5d87b7311689efce6\n",
            "Successfully built pykalman\n",
            "Installing collected packages: pykalman\n",
            "Successfully installed pykalman-0.9.5\n",
            "Collecting yfinance\n",
            "  Downloading yfinance-0.1.70-py2.py3-none-any.whl (26 kB)\n",
            "Requirement already satisfied: pandas>=0.24.0 in /usr/local/lib/python3.7/dist-packages (from yfinance) (1.3.5)\n",
            "Collecting requests>=2.26\n",
            "  Downloading requests-2.27.1-py2.py3-none-any.whl (63 kB)\n",
            "\u001b[K     |████████████████████████████████| 63 kB 1.5 MB/s \n",
            "\u001b[?25hCollecting lxml>=4.5.1\n",
            "  Downloading lxml-4.7.1-cp37-cp37m-manylinux_2_17_x86_64.manylinux2014_x86_64.manylinux_2_24_x86_64.whl (6.4 MB)\n",
            "\u001b[K     |████████████████████████████████| 6.4 MB 11.6 MB/s \n",
            "\u001b[?25hRequirement already satisfied: numpy>=1.15 in /usr/local/lib/python3.7/dist-packages (from yfinance) (1.19.5)\n",
            "Requirement already satisfied: multitasking>=0.0.7 in /usr/local/lib/python3.7/dist-packages (from yfinance) (0.0.10)\n",
            "Requirement already satisfied: pytz>=2017.3 in /usr/local/lib/python3.7/dist-packages (from pandas>=0.24.0->yfinance) (2018.9)\n",
            "Requirement already satisfied: python-dateutil>=2.7.3 in /usr/local/lib/python3.7/dist-packages (from pandas>=0.24.0->yfinance) (2.8.2)\n",
            "Requirement already satisfied: six>=1.5 in /usr/local/lib/python3.7/dist-packages (from python-dateutil>=2.7.3->pandas>=0.24.0->yfinance) (1.15.0)\n",
            "Requirement already satisfied: charset-normalizer~=2.0.0 in /usr/local/lib/python3.7/dist-packages (from requests>=2.26->yfinance) (2.0.11)\n",
            "Requirement already satisfied: certifi>=2017.4.17 in /usr/local/lib/python3.7/dist-packages (from requests>=2.26->yfinance) (2021.10.8)\n",
            "Requirement already satisfied: idna<4,>=2.5 in /usr/local/lib/python3.7/dist-packages (from requests>=2.26->yfinance) (2.10)\n",
            "Requirement already satisfied: urllib3<1.27,>=1.21.1 in /usr/local/lib/python3.7/dist-packages (from requests>=2.26->yfinance) (1.24.3)\n",
            "Installing collected packages: requests, lxml, yfinance\n",
            "  Attempting uninstall: requests\n",
            "    Found existing installation: requests 2.23.0\n",
            "    Uninstalling requests-2.23.0:\n",
            "      Successfully uninstalled requests-2.23.0\n",
            "  Attempting uninstall: lxml\n",
            "    Found existing installation: lxml 4.2.6\n",
            "    Uninstalling lxml-4.2.6:\n",
            "      Successfully uninstalled lxml-4.2.6\n",
            "\u001b[31mERROR: pip's dependency resolver does not currently take into account all the packages that are installed. This behaviour is the source of the following dependency conflicts.\n",
            "google-colab 1.0.0 requires requests~=2.23.0, but you have requests 2.27.1 which is incompatible.\n",
            "datascience 0.10.6 requires folium==0.2.1, but you have folium 0.8.3 which is incompatible.\u001b[0m\n",
            "Successfully installed lxml-4.7.1 requests-2.27.1 yfinance-0.1.70\n",
            "Collecting pandas-ta==0.2.45b\n",
            "  Downloading pandas_ta-0.2.45b.tar.gz (88 kB)\n",
            "\u001b[K     |████████████████████████████████| 88 kB 3.3 MB/s \n",
            "\u001b[?25hRequirement already satisfied: pandas in /usr/local/lib/python3.7/dist-packages (from pandas-ta==0.2.45b) (1.3.5)\n",
            "Requirement already satisfied: pytz>=2017.3 in /usr/local/lib/python3.7/dist-packages (from pandas->pandas-ta==0.2.45b) (2018.9)\n",
            "Requirement already satisfied: numpy>=1.17.3 in /usr/local/lib/python3.7/dist-packages (from pandas->pandas-ta==0.2.45b) (1.19.5)\n",
            "Requirement already satisfied: python-dateutil>=2.7.3 in /usr/local/lib/python3.7/dist-packages (from pandas->pandas-ta==0.2.45b) (2.8.2)\n",
            "Requirement already satisfied: six>=1.5 in /usr/local/lib/python3.7/dist-packages (from python-dateutil>=2.7.3->pandas->pandas-ta==0.2.45b) (1.15.0)\n",
            "Building wheels for collected packages: pandas-ta\n",
            "  Building wheel for pandas-ta (setup.py) ... \u001b[?25l\u001b[?25hdone\n",
            "  Created wheel for pandas-ta: filename=pandas_ta-0.2.45b0-py3-none-any.whl size=175303 sha256=5fbaa7f8e4f7a1cfb8fdee3a9e74531e0bcb85ffc9a41361103850c7366555a8\n",
            "  Stored in directory: /root/.cache/pip/wheels/b1/49/60/e674e28ae57160651c6198b76e1714a0b175e44e022fcd5137\n",
            "Successfully built pandas-ta\n",
            "Installing collected packages: pandas-ta\n",
            "Successfully installed pandas-ta-0.2.45b0\n"
          ]
        }
      ]
    },
    {
      "cell_type": "code",
      "metadata": {
        "id": "K0B7knnQrSGM"
      },
      "source": [
        "#Importing dependencies#\n",
        "from pykalman import KalmanFilter\n",
        "import numpy as np\n",
        "import pylab as pl\n",
        "import pandas as pd\n",
        "import yfinance as yf\n",
        "from scipy import poly1d\n",
        "from datetime import datetime\n",
        "import pandas_ta as ta\n",
        "import matplotlib.pyplot as plt\n",
        "%matplotlib inline"
      ],
      "execution_count": 2,
      "outputs": []
    },
    {
      "cell_type": "code",
      "metadata": {
        "id": "q1AA0W40DJrx"
      },
      "source": [
        "pd.options.mode.chained_assignment = None"
      ],
      "execution_count": 3,
      "outputs": []
    },
    {
      "cell_type": "code",
      "metadata": {
        "id": "x3Lx3gzkxLj3"
      },
      "source": [
        "ticker = pd.read_csv('https://raw.githubusercontent.com/anirbanghoshsbi/data/main/ind_niftybanklist.csv')"
      ],
      "execution_count": 4,
      "outputs": []
    },
    {
      "cell_type": "code",
      "metadata": {
        "id": "YbRMeZrxsEuO"
      },
      "source": [
        "#ticker = pd.read_csv('https://raw.githubusercontent.com/anirbanghoshsbi/data/main/ind_nifty50list.csv')\n",
        "START = \"2013-01-01\""
      ],
      "execution_count": 5,
      "outputs": []
    },
    {
      "cell_type": "code",
      "metadata": {
        "colab": {
          "base_uri": "https://localhost:8080/"
        },
        "id": "CAgSzrJ08lOj",
        "outputId": "483b315e-4cab-460f-b8e7-2938afb3aa7f"
      },
      "source": [
        "nifty=yf.download('^nsebank',start=START)"
      ],
      "execution_count": 6,
      "outputs": [
        {
          "output_type": "stream",
          "name": "stdout",
          "text": [
            "\r[*********************100%***********************]  1 of 1 completed\n"
          ]
        }
      ]
    },
    {
      "cell_type": "code",
      "metadata": {
        "id": "kjfwjEr7rbRF",
        "colab": {
          "base_uri": "https://localhost:8080/"
        },
        "outputId": "aa198064-a42f-4a10-9a8e-51892bfd6518"
      },
      "source": [
        "lst=[]\n",
        "for i in range(len(ticker)):\n",
        "  \n",
        "  dfi = yf.download(str(ticker.Symbol.iloc[i])+'.ns', start=START)\n",
        "  df = dfi[['Adj Close']]\n",
        "  f = KalmanFilter(transition_matrices = [1],\n",
        "                    observation_matrices = [1],\n",
        "                    initial_state_mean = 0,\n",
        "                    initial_state_covariance = 1,\n",
        "                    observation_covariance = 1,\n",
        "                    transition_covariance = 0.0001)\n",
        "  mean, cov = f.filter(df['Adj Close'].values)\n",
        "  mean, std = mean.squeeze(), np.std(cov.squeeze())\n",
        "  var = 'kalman'\n",
        "  df[var]=df['Adj Close'].values - mean\n",
        "  \n",
        "  lst.append(df)"
      ],
      "execution_count": 7,
      "outputs": [
        {
          "output_type": "stream",
          "name": "stdout",
          "text": [
            "[*********************100%***********************]  1 of 1 completed\n",
            "[*********************100%***********************]  1 of 1 completed\n",
            "[*********************100%***********************]  1 of 1 completed\n",
            "[*********************100%***********************]  1 of 1 completed\n",
            "[*********************100%***********************]  1 of 1 completed\n",
            "[*********************100%***********************]  1 of 1 completed\n",
            "[*********************100%***********************]  1 of 1 completed\n",
            "[*********************100%***********************]  1 of 1 completed\n",
            "[*********************100%***********************]  1 of 1 completed\n",
            "[*********************100%***********************]  1 of 1 completed\n",
            "[*********************100%***********************]  1 of 1 completed\n",
            "[*********************100%***********************]  1 of 1 completed\n"
          ]
        }
      ]
    },
    {
      "cell_type": "code",
      "metadata": {
        "id": "eWluogVZrbHW"
      },
      "source": [
        "nlst=[]\n",
        "for i in range(len(ticker)):\n",
        "  nlst.append(lst[i].kalman)\n",
        "  "
      ],
      "execution_count": 8,
      "outputs": []
    },
    {
      "cell_type": "code",
      "metadata": {
        "id": "y9-ZLZZRwLix"
      },
      "source": [
        "df_kalman = pd.DataFrame(nlst).T"
      ],
      "execution_count": 9,
      "outputs": []
    },
    {
      "cell_type": "code",
      "metadata": {
        "id": "V7bgENL_wLgJ"
      },
      "source": [
        "namelist =[]\n",
        "for i in range(1,len(ticker)+1):\n",
        "  namelist.append('kalman_'+str(i))\n",
        "  \n",
        "df_kalman.columns = namelist"
      ],
      "execution_count": 10,
      "outputs": []
    },
    {
      "cell_type": "code",
      "metadata": {
        "id": "AdFj16hYwKzC"
      },
      "source": [
        "def macd_calc(df):\n",
        "  columns=df.columns.tolist()\n",
        "  for var in columns:\n",
        "    macd='macd'+var\n",
        "    macd_s='macd'+'signal'+var\n",
        "    macd_h='hist'+ var\n",
        "    df[macd]=df[var].ewm(span=26, adjust=False).mean()-df[var].ewm(span=50, adjust=False).mean()\n",
        "    df[macd_s]=df[macd].ewm(span=18,adjust=False).mean()\n",
        "    df[macd_h]=df[macd]-df[macd_s]\n",
        "  return df"
      ],
      "execution_count": 11,
      "outputs": []
    },
    {
      "cell_type": "code",
      "metadata": {
        "id": "tN5FGb1grbC2"
      },
      "source": [
        "final_kalman=macd_calc(df_kalman)"
      ],
      "execution_count": 12,
      "outputs": []
    },
    {
      "cell_type": "code",
      "metadata": {
        "colab": {
          "base_uri": "https://localhost:8080/",
          "height": 242
        },
        "id": "9zq6kFSTrbAl",
        "outputId": "a0ccc4ce-c288-4b3d-b0f5-711a2934fa75"
      },
      "source": [
        "final_kalman.tail(2)"
      ],
      "execution_count": 13,
      "outputs": [
        {
          "output_type": "execute_result",
          "data": {
            "text/html": [
              "\n",
              "  <div id=\"df-07667a23-10db-4b76-91c0-52a66acb8382\">\n",
              "    <div class=\"colab-df-container\">\n",
              "      <div>\n",
              "<style scoped>\n",
              "    .dataframe tbody tr th:only-of-type {\n",
              "        vertical-align: middle;\n",
              "    }\n",
              "\n",
              "    .dataframe tbody tr th {\n",
              "        vertical-align: top;\n",
              "    }\n",
              "\n",
              "    .dataframe thead th {\n",
              "        text-align: right;\n",
              "    }\n",
              "</style>\n",
              "<table border=\"1\" class=\"dataframe\">\n",
              "  <thead>\n",
              "    <tr style=\"text-align: right;\">\n",
              "      <th></th>\n",
              "      <th>kalman_1</th>\n",
              "      <th>kalman_2</th>\n",
              "      <th>kalman_3</th>\n",
              "      <th>kalman_4</th>\n",
              "      <th>kalman_5</th>\n",
              "      <th>kalman_6</th>\n",
              "      <th>kalman_7</th>\n",
              "      <th>kalman_8</th>\n",
              "      <th>kalman_9</th>\n",
              "      <th>kalman_10</th>\n",
              "      <th>kalman_11</th>\n",
              "      <th>kalman_12</th>\n",
              "      <th>macdkalman_1</th>\n",
              "      <th>macdsignalkalman_1</th>\n",
              "      <th>histkalman_1</th>\n",
              "      <th>macdkalman_2</th>\n",
              "      <th>macdsignalkalman_2</th>\n",
              "      <th>histkalman_2</th>\n",
              "      <th>macdkalman_3</th>\n",
              "      <th>macdsignalkalman_3</th>\n",
              "      <th>histkalman_3</th>\n",
              "      <th>macdkalman_4</th>\n",
              "      <th>macdsignalkalman_4</th>\n",
              "      <th>histkalman_4</th>\n",
              "      <th>macdkalman_5</th>\n",
              "      <th>macdsignalkalman_5</th>\n",
              "      <th>histkalman_5</th>\n",
              "      <th>macdkalman_6</th>\n",
              "      <th>macdsignalkalman_6</th>\n",
              "      <th>histkalman_6</th>\n",
              "      <th>macdkalman_7</th>\n",
              "      <th>macdsignalkalman_7</th>\n",
              "      <th>histkalman_7</th>\n",
              "      <th>macdkalman_8</th>\n",
              "      <th>macdsignalkalman_8</th>\n",
              "      <th>histkalman_8</th>\n",
              "      <th>macdkalman_9</th>\n",
              "      <th>macdsignalkalman_9</th>\n",
              "      <th>histkalman_9</th>\n",
              "      <th>macdkalman_10</th>\n",
              "      <th>macdsignalkalman_10</th>\n",
              "      <th>histkalman_10</th>\n",
              "      <th>macdkalman_11</th>\n",
              "      <th>macdsignalkalman_11</th>\n",
              "      <th>histkalman_11</th>\n",
              "      <th>macdkalman_12</th>\n",
              "      <th>macdsignalkalman_12</th>\n",
              "      <th>histkalman_12</th>\n",
              "    </tr>\n",
              "    <tr>\n",
              "      <th>Date</th>\n",
              "      <th></th>\n",
              "      <th></th>\n",
              "      <th></th>\n",
              "      <th></th>\n",
              "      <th></th>\n",
              "      <th></th>\n",
              "      <th></th>\n",
              "      <th></th>\n",
              "      <th></th>\n",
              "      <th></th>\n",
              "      <th></th>\n",
              "      <th></th>\n",
              "      <th></th>\n",
              "      <th></th>\n",
              "      <th></th>\n",
              "      <th></th>\n",
              "      <th></th>\n",
              "      <th></th>\n",
              "      <th></th>\n",
              "      <th></th>\n",
              "      <th></th>\n",
              "      <th></th>\n",
              "      <th></th>\n",
              "      <th></th>\n",
              "      <th></th>\n",
              "      <th></th>\n",
              "      <th></th>\n",
              "      <th></th>\n",
              "      <th></th>\n",
              "      <th></th>\n",
              "      <th></th>\n",
              "      <th></th>\n",
              "      <th></th>\n",
              "      <th></th>\n",
              "      <th></th>\n",
              "      <th></th>\n",
              "      <th></th>\n",
              "      <th></th>\n",
              "      <th></th>\n",
              "      <th></th>\n",
              "      <th></th>\n",
              "      <th></th>\n",
              "      <th></th>\n",
              "      <th></th>\n",
              "      <th></th>\n",
              "      <th></th>\n",
              "      <th></th>\n",
              "      <th></th>\n",
              "    </tr>\n",
              "  </thead>\n",
              "  <tbody>\n",
              "    <tr>\n",
              "      <th>2022-02-14</th>\n",
              "      <td>101.131915</td>\n",
              "      <td>46.530636</td>\n",
              "      <td>8.520314</td>\n",
              "      <td>8.308972</td>\n",
              "      <td>-26.803268</td>\n",
              "      <td>43.139576</td>\n",
              "      <td>-4.711993</td>\n",
              "      <td>-28.606561</td>\n",
              "      <td>-112.986044</td>\n",
              "      <td>-2.373324</td>\n",
              "      <td>-46.956320</td>\n",
              "      <td>50.508930</td>\n",
              "      <td>32.128143</td>\n",
              "      <td>22.476458</td>\n",
              "      <td>9.651684</td>\n",
              "      <td>16.445333</td>\n",
              "      <td>8.266874</td>\n",
              "      <td>8.178459</td>\n",
              "      <td>10.498148</td>\n",
              "      <td>7.279940</td>\n",
              "      <td>3.218208</td>\n",
              "      <td>1.519843</td>\n",
              "      <td>0.964585</td>\n",
              "      <td>0.555258</td>\n",
              "      <td>-10.329015</td>\n",
              "      <td>-11.899868</td>\n",
              "      <td>1.570853</td>\n",
              "      <td>-1.086217</td>\n",
              "      <td>1.401204</td>\n",
              "      <td>-2.487422</td>\n",
              "      <td>-0.415781</td>\n",
              "      <td>-0.252177</td>\n",
              "      <td>-0.163603</td>\n",
              "      <td>-1.611306</td>\n",
              "      <td>-15.734848</td>\n",
              "      <td>14.123542</td>\n",
              "      <td>-23.584680</td>\n",
              "      <td>-21.584101</td>\n",
              "      <td>-2.000579</td>\n",
              "      <td>0.211078</td>\n",
              "      <td>0.120418</td>\n",
              "      <td>0.090661</td>\n",
              "      <td>-4.288244</td>\n",
              "      <td>-5.654422</td>\n",
              "      <td>1.366178</td>\n",
              "      <td>3.459425</td>\n",
              "      <td>1.579206</td>\n",
              "      <td>1.880218</td>\n",
              "    </tr>\n",
              "    <tr>\n",
              "      <th>2022-02-15</th>\n",
              "      <td>152.944776</td>\n",
              "      <td>69.432863</td>\n",
              "      <td>24.028821</td>\n",
              "      <td>12.434009</td>\n",
              "      <td>17.124724</td>\n",
              "      <td>64.837922</td>\n",
              "      <td>-3.081026</td>\n",
              "      <td>-0.501484</td>\n",
              "      <td>-46.271015</td>\n",
              "      <td>-1.062641</td>\n",
              "      <td>-38.717202</td>\n",
              "      <td>73.173521</td>\n",
              "      <td>30.967470</td>\n",
              "      <td>23.370249</td>\n",
              "      <td>7.597221</td>\n",
              "      <td>16.724673</td>\n",
              "      <td>9.157168</td>\n",
              "      <td>7.567505</td>\n",
              "      <td>10.738465</td>\n",
              "      <td>7.643995</td>\n",
              "      <td>3.094469</td>\n",
              "      <td>1.499137</td>\n",
              "      <td>1.020854</td>\n",
              "      <td>0.478284</td>\n",
              "      <td>-9.426053</td>\n",
              "      <td>-11.639467</td>\n",
              "      <td>2.213414</td>\n",
              "      <td>-2.004503</td>\n",
              "      <td>1.042709</td>\n",
              "      <td>-3.047212</td>\n",
              "      <td>-0.457693</td>\n",
              "      <td>-0.273811</td>\n",
              "      <td>-0.183882</td>\n",
              "      <td>0.053513</td>\n",
              "      <td>-14.072915</td>\n",
              "      <td>14.126428</td>\n",
              "      <td>-24.411553</td>\n",
              "      <td>-21.881728</td>\n",
              "      <td>-2.529825</td>\n",
              "      <td>0.135404</td>\n",
              "      <td>0.121995</td>\n",
              "      <td>0.013409</td>\n",
              "      <td>-4.126376</td>\n",
              "      <td>-5.493575</td>\n",
              "      <td>1.367200</td>\n",
              "      <td>3.232418</td>\n",
              "      <td>1.753229</td>\n",
              "      <td>1.479189</td>\n",
              "    </tr>\n",
              "  </tbody>\n",
              "</table>\n",
              "</div>\n",
              "      <button class=\"colab-df-convert\" onclick=\"convertToInteractive('df-07667a23-10db-4b76-91c0-52a66acb8382')\"\n",
              "              title=\"Convert this dataframe to an interactive table.\"\n",
              "              style=\"display:none;\">\n",
              "        \n",
              "  <svg xmlns=\"http://www.w3.org/2000/svg\" height=\"24px\"viewBox=\"0 0 24 24\"\n",
              "       width=\"24px\">\n",
              "    <path d=\"M0 0h24v24H0V0z\" fill=\"none\"/>\n",
              "    <path d=\"M18.56 5.44l.94 2.06.94-2.06 2.06-.94-2.06-.94-.94-2.06-.94 2.06-2.06.94zm-11 1L8.5 8.5l.94-2.06 2.06-.94-2.06-.94L8.5 2.5l-.94 2.06-2.06.94zm10 10l.94 2.06.94-2.06 2.06-.94-2.06-.94-.94-2.06-.94 2.06-2.06.94z\"/><path d=\"M17.41 7.96l-1.37-1.37c-.4-.4-.92-.59-1.43-.59-.52 0-1.04.2-1.43.59L10.3 9.45l-7.72 7.72c-.78.78-.78 2.05 0 2.83L4 21.41c.39.39.9.59 1.41.59.51 0 1.02-.2 1.41-.59l7.78-7.78 2.81-2.81c.8-.78.8-2.07 0-2.86zM5.41 20L4 18.59l7.72-7.72 1.47 1.35L5.41 20z\"/>\n",
              "  </svg>\n",
              "      </button>\n",
              "      \n",
              "  <style>\n",
              "    .colab-df-container {\n",
              "      display:flex;\n",
              "      flex-wrap:wrap;\n",
              "      gap: 12px;\n",
              "    }\n",
              "\n",
              "    .colab-df-convert {\n",
              "      background-color: #E8F0FE;\n",
              "      border: none;\n",
              "      border-radius: 50%;\n",
              "      cursor: pointer;\n",
              "      display: none;\n",
              "      fill: #1967D2;\n",
              "      height: 32px;\n",
              "      padding: 0 0 0 0;\n",
              "      width: 32px;\n",
              "    }\n",
              "\n",
              "    .colab-df-convert:hover {\n",
              "      background-color: #E2EBFA;\n",
              "      box-shadow: 0px 1px 2px rgba(60, 64, 67, 0.3), 0px 1px 3px 1px rgba(60, 64, 67, 0.15);\n",
              "      fill: #174EA6;\n",
              "    }\n",
              "\n",
              "    [theme=dark] .colab-df-convert {\n",
              "      background-color: #3B4455;\n",
              "      fill: #D2E3FC;\n",
              "    }\n",
              "\n",
              "    [theme=dark] .colab-df-convert:hover {\n",
              "      background-color: #434B5C;\n",
              "      box-shadow: 0px 1px 3px 1px rgba(0, 0, 0, 0.15);\n",
              "      filter: drop-shadow(0px 1px 2px rgba(0, 0, 0, 0.3));\n",
              "      fill: #FFFFFF;\n",
              "    }\n",
              "  </style>\n",
              "\n",
              "      <script>\n",
              "        const buttonEl =\n",
              "          document.querySelector('#df-07667a23-10db-4b76-91c0-52a66acb8382 button.colab-df-convert');\n",
              "        buttonEl.style.display =\n",
              "          google.colab.kernel.accessAllowed ? 'block' : 'none';\n",
              "\n",
              "        async function convertToInteractive(key) {\n",
              "          const element = document.querySelector('#df-07667a23-10db-4b76-91c0-52a66acb8382');\n",
              "          const dataTable =\n",
              "            await google.colab.kernel.invokeFunction('convertToInteractive',\n",
              "                                                     [key], {});\n",
              "          if (!dataTable) return;\n",
              "\n",
              "          const docLinkHtml = 'Like what you see? Visit the ' +\n",
              "            '<a target=\"_blank\" href=https://colab.research.google.com/notebooks/data_table.ipynb>data table notebook</a>'\n",
              "            + ' to learn more about interactive tables.';\n",
              "          element.innerHTML = '';\n",
              "          dataTable['output_type'] = 'display_data';\n",
              "          await google.colab.output.renderOutput(dataTable, element);\n",
              "          const docLink = document.createElement('div');\n",
              "          docLink.innerHTML = docLinkHtml;\n",
              "          element.appendChild(docLink);\n",
              "        }\n",
              "      </script>\n",
              "    </div>\n",
              "  </div>\n",
              "  "
            ],
            "text/plain": [
              "              kalman_1   kalman_2  ...  macdsignalkalman_12  histkalman_12\n",
              "Date                               ...                                    \n",
              "2022-02-14  101.131915  46.530636  ...             1.579206       1.880218\n",
              "2022-02-15  152.944776  69.432863  ...             1.753229       1.479189\n",
              "\n",
              "[2 rows x 48 columns]"
            ]
          },
          "metadata": {},
          "execution_count": 13
        }
      ]
    },
    {
      "cell_type": "code",
      "metadata": {
        "id": "ssI2nLbIra91"
      },
      "source": [
        "features = final_kalman.columns.tolist()"
      ],
      "execution_count": 14,
      "outputs": []
    },
    {
      "cell_type": "code",
      "metadata": {
        "id": "kaS_OPDZ03HH"
      },
      "source": [
        "feats_set1=[feats for feats in features if feats.startswith('hist')]"
      ],
      "execution_count": 15,
      "outputs": []
    },
    {
      "cell_type": "code",
      "metadata": {
        "id": "p7NzUo7B1de-"
      },
      "source": [
        "final_dataframe=final_kalman[feats_set1]"
      ],
      "execution_count": 16,
      "outputs": []
    },
    {
      "cell_type": "code",
      "metadata": {
        "id": "G3n2Ns_U2h01"
      },
      "source": [
        "solution=np.sign(final_dataframe)"
      ],
      "execution_count": 17,
      "outputs": []
    },
    {
      "cell_type": "code",
      "metadata": {
        "id": "zvUVJRgX3H61"
      },
      "source": [
        "solution['final']=solution.sum(axis=1)"
      ],
      "execution_count": 18,
      "outputs": []
    },
    {
      "cell_type": "code",
      "metadata": {
        "colab": {
          "base_uri": "https://localhost:8080/",
          "height": 242
        },
        "id": "OA_hL4Ru68WZ",
        "outputId": "019ff5db-d3b3-447b-8d26-c74d4364ba58"
      },
      "source": [
        "solution.tail(2)"
      ],
      "execution_count": 19,
      "outputs": [
        {
          "output_type": "execute_result",
          "data": {
            "text/html": [
              "\n",
              "  <div id=\"df-ec9e2c1d-82a9-4a95-8c00-26cf1949437b\">\n",
              "    <div class=\"colab-df-container\">\n",
              "      <div>\n",
              "<style scoped>\n",
              "    .dataframe tbody tr th:only-of-type {\n",
              "        vertical-align: middle;\n",
              "    }\n",
              "\n",
              "    .dataframe tbody tr th {\n",
              "        vertical-align: top;\n",
              "    }\n",
              "\n",
              "    .dataframe thead th {\n",
              "        text-align: right;\n",
              "    }\n",
              "</style>\n",
              "<table border=\"1\" class=\"dataframe\">\n",
              "  <thead>\n",
              "    <tr style=\"text-align: right;\">\n",
              "      <th></th>\n",
              "      <th>histkalman_1</th>\n",
              "      <th>histkalman_2</th>\n",
              "      <th>histkalman_3</th>\n",
              "      <th>histkalman_4</th>\n",
              "      <th>histkalman_5</th>\n",
              "      <th>histkalman_6</th>\n",
              "      <th>histkalman_7</th>\n",
              "      <th>histkalman_8</th>\n",
              "      <th>histkalman_9</th>\n",
              "      <th>histkalman_10</th>\n",
              "      <th>histkalman_11</th>\n",
              "      <th>histkalman_12</th>\n",
              "      <th>final</th>\n",
              "    </tr>\n",
              "    <tr>\n",
              "      <th>Date</th>\n",
              "      <th></th>\n",
              "      <th></th>\n",
              "      <th></th>\n",
              "      <th></th>\n",
              "      <th></th>\n",
              "      <th></th>\n",
              "      <th></th>\n",
              "      <th></th>\n",
              "      <th></th>\n",
              "      <th></th>\n",
              "      <th></th>\n",
              "      <th></th>\n",
              "      <th></th>\n",
              "    </tr>\n",
              "  </thead>\n",
              "  <tbody>\n",
              "    <tr>\n",
              "      <th>2022-02-14</th>\n",
              "      <td>1.0</td>\n",
              "      <td>1.0</td>\n",
              "      <td>1.0</td>\n",
              "      <td>1.0</td>\n",
              "      <td>1.0</td>\n",
              "      <td>-1.0</td>\n",
              "      <td>-1.0</td>\n",
              "      <td>1.0</td>\n",
              "      <td>-1.0</td>\n",
              "      <td>1.0</td>\n",
              "      <td>1.0</td>\n",
              "      <td>1.0</td>\n",
              "      <td>6.0</td>\n",
              "    </tr>\n",
              "    <tr>\n",
              "      <th>2022-02-15</th>\n",
              "      <td>1.0</td>\n",
              "      <td>1.0</td>\n",
              "      <td>1.0</td>\n",
              "      <td>1.0</td>\n",
              "      <td>1.0</td>\n",
              "      <td>-1.0</td>\n",
              "      <td>-1.0</td>\n",
              "      <td>1.0</td>\n",
              "      <td>-1.0</td>\n",
              "      <td>1.0</td>\n",
              "      <td>1.0</td>\n",
              "      <td>1.0</td>\n",
              "      <td>6.0</td>\n",
              "    </tr>\n",
              "  </tbody>\n",
              "</table>\n",
              "</div>\n",
              "      <button class=\"colab-df-convert\" onclick=\"convertToInteractive('df-ec9e2c1d-82a9-4a95-8c00-26cf1949437b')\"\n",
              "              title=\"Convert this dataframe to an interactive table.\"\n",
              "              style=\"display:none;\">\n",
              "        \n",
              "  <svg xmlns=\"http://www.w3.org/2000/svg\" height=\"24px\"viewBox=\"0 0 24 24\"\n",
              "       width=\"24px\">\n",
              "    <path d=\"M0 0h24v24H0V0z\" fill=\"none\"/>\n",
              "    <path d=\"M18.56 5.44l.94 2.06.94-2.06 2.06-.94-2.06-.94-.94-2.06-.94 2.06-2.06.94zm-11 1L8.5 8.5l.94-2.06 2.06-.94-2.06-.94L8.5 2.5l-.94 2.06-2.06.94zm10 10l.94 2.06.94-2.06 2.06-.94-2.06-.94-.94-2.06-.94 2.06-2.06.94z\"/><path d=\"M17.41 7.96l-1.37-1.37c-.4-.4-.92-.59-1.43-.59-.52 0-1.04.2-1.43.59L10.3 9.45l-7.72 7.72c-.78.78-.78 2.05 0 2.83L4 21.41c.39.39.9.59 1.41.59.51 0 1.02-.2 1.41-.59l7.78-7.78 2.81-2.81c.8-.78.8-2.07 0-2.86zM5.41 20L4 18.59l7.72-7.72 1.47 1.35L5.41 20z\"/>\n",
              "  </svg>\n",
              "      </button>\n",
              "      \n",
              "  <style>\n",
              "    .colab-df-container {\n",
              "      display:flex;\n",
              "      flex-wrap:wrap;\n",
              "      gap: 12px;\n",
              "    }\n",
              "\n",
              "    .colab-df-convert {\n",
              "      background-color: #E8F0FE;\n",
              "      border: none;\n",
              "      border-radius: 50%;\n",
              "      cursor: pointer;\n",
              "      display: none;\n",
              "      fill: #1967D2;\n",
              "      height: 32px;\n",
              "      padding: 0 0 0 0;\n",
              "      width: 32px;\n",
              "    }\n",
              "\n",
              "    .colab-df-convert:hover {\n",
              "      background-color: #E2EBFA;\n",
              "      box-shadow: 0px 1px 2px rgba(60, 64, 67, 0.3), 0px 1px 3px 1px rgba(60, 64, 67, 0.15);\n",
              "      fill: #174EA6;\n",
              "    }\n",
              "\n",
              "    [theme=dark] .colab-df-convert {\n",
              "      background-color: #3B4455;\n",
              "      fill: #D2E3FC;\n",
              "    }\n",
              "\n",
              "    [theme=dark] .colab-df-convert:hover {\n",
              "      background-color: #434B5C;\n",
              "      box-shadow: 0px 1px 3px 1px rgba(0, 0, 0, 0.15);\n",
              "      filter: drop-shadow(0px 1px 2px rgba(0, 0, 0, 0.3));\n",
              "      fill: #FFFFFF;\n",
              "    }\n",
              "  </style>\n",
              "\n",
              "      <script>\n",
              "        const buttonEl =\n",
              "          document.querySelector('#df-ec9e2c1d-82a9-4a95-8c00-26cf1949437b button.colab-df-convert');\n",
              "        buttonEl.style.display =\n",
              "          google.colab.kernel.accessAllowed ? 'block' : 'none';\n",
              "\n",
              "        async function convertToInteractive(key) {\n",
              "          const element = document.querySelector('#df-ec9e2c1d-82a9-4a95-8c00-26cf1949437b');\n",
              "          const dataTable =\n",
              "            await google.colab.kernel.invokeFunction('convertToInteractive',\n",
              "                                                     [key], {});\n",
              "          if (!dataTable) return;\n",
              "\n",
              "          const docLinkHtml = 'Like what you see? Visit the ' +\n",
              "            '<a target=\"_blank\" href=https://colab.research.google.com/notebooks/data_table.ipynb>data table notebook</a>'\n",
              "            + ' to learn more about interactive tables.';\n",
              "          element.innerHTML = '';\n",
              "          dataTable['output_type'] = 'display_data';\n",
              "          await google.colab.output.renderOutput(dataTable, element);\n",
              "          const docLink = document.createElement('div');\n",
              "          docLink.innerHTML = docLinkHtml;\n",
              "          element.appendChild(docLink);\n",
              "        }\n",
              "      </script>\n",
              "    </div>\n",
              "  </div>\n",
              "  "
            ],
            "text/plain": [
              "            histkalman_1  histkalman_2  ...  histkalman_12  final\n",
              "Date                                    ...                      \n",
              "2022-02-14           1.0           1.0  ...            1.0    6.0\n",
              "2022-02-15           1.0           1.0  ...            1.0    6.0\n",
              "\n",
              "[2 rows x 13 columns]"
            ]
          },
          "metadata": {},
          "execution_count": 19
        }
      ]
    },
    {
      "cell_type": "code",
      "metadata": {
        "colab": {
          "base_uri": "https://localhost:8080/",
          "height": 294
        },
        "id": "VX-QwBkU3Jys",
        "outputId": "163246bc-1eaf-488f-f6a6-ad09d732130b"
      },
      "source": [
        "solution.final[-100:].plot()"
      ],
      "execution_count": 20,
      "outputs": [
        {
          "output_type": "execute_result",
          "data": {
            "text/plain": [
              "<matplotlib.axes._subplots.AxesSubplot at 0x7f025c084110>"
            ]
          },
          "metadata": {},
          "execution_count": 20
        },
        {
          "output_type": "display_data",
          "data": {
            "image/png": "[encoded data removed]",
            "text/plain": [
              "<Figure size 432x288 with 1 Axes>"
            ]
          },
          "metadata": {
            "needs_background": "light"
          }
        }
      ]
    },
    {
      "cell_type": "code",
      "source": [
        "solution['mov_avg']=solution['final'].rolling(window=10).mean()"
      ],
      "metadata": {
        "id": "iD-ETSmWHRnE"
      },
      "execution_count": 21,
      "outputs": []
    },
    {
      "cell_type": "code",
      "metadata": {
        "id": "eHGbm3jKTN6u"
      },
      "source": [
        "l=400"
      ],
      "execution_count": 22,
      "outputs": []
    },
    {
      "cell_type": "code",
      "metadata": {
        "id": "uKnGigwKSyKD"
      },
      "source": [
        "nifty=nifty[-l:]\n",
        "solution=solution[-l:]"
      ],
      "execution_count": 23,
      "outputs": []
    },
    {
      "cell_type": "code",
      "metadata": {
        "colab": {
          "base_uri": "https://localhost:8080/",
          "height": 433
        },
        "id": "0JHISukB8NHk",
        "outputId": "7babeb1a-42d3-4ea9-d4a4-9ca8f1a15475"
      },
      "source": [
        "fig, ax = plt.subplots(2,1,figsize=(17,7),sharex=True)\n",
        "ax[0].plot(nifty.loc[:, :].index, nifty.loc[:, 'Close'],'r', label='Close')\n",
        "ax[1].plot(solution.loc[:, :].index, solution.loc[:, 'final'],'g', label='Signals')\n",
        "ax[1].plot(solution.loc[:, :].index, solution.loc[:, 'final'],'r*', label='Signals')\n",
        "ax[1].plot(solution.iloc[:, :].index, solution.loc[:, 'mov_avg'], label='mov_avg')\n",
        "plt.suptitle('Signals')\n",
        "ax[0].legend()\n",
        "ax[1].legend()\n",
        "ax[1].axhline(y=0)\n",
        "plt.show()"
      ],
      "execution_count": 24,
      "outputs": [
        {
          "output_type": "display_data",
          "data": {
            "image/png": "[encoded data removed]",
            "text/plain": [
              "<Figure size 1224x504 with 2 Axes>"
            ]
          },
          "metadata": {
            "needs_background": "light"
          }
        }
      ]
    },
    {
      "cell_type": "code",
      "metadata": {
        "id": "euhAaTaXBnKR"
      },
      "source": [
        "solution['signals']=np.where(solution['final']>0,1,-1)"
      ],
      "execution_count": 25,
      "outputs": []
    },
    {
      "cell_type": "code",
      "metadata": {
        "colab": {
          "base_uri": "https://localhost:8080/"
        },
        "id": "Fxl5UbplDgp7",
        "outputId": "b73d45e9-28fc-43bd-8a45-b0a6f4fd798f"
      },
      "source": [
        "solution.final.tail(1)"
      ],
      "execution_count": 26,
      "outputs": [
        {
          "output_type": "execute_result",
          "data": {
            "text/plain": [
              "Date\n",
              "2022-02-15    6.0\n",
              "Name: final, dtype: float64"
            ]
          },
          "metadata": {},
          "execution_count": 26
        }
      ]
    },
    {
      "cell_type": "code",
      "metadata": {
        "id": "AZskaRb1x9aX",
        "colab": {
          "base_uri": "https://localhost:8080/",
          "height": 433
        },
        "outputId": "589df538-2316-4c8b-dd92-db706c893548"
      },
      "source": [
        "fig, ax = plt.subplots(2,1,figsize=(17,7),sharex=True)\n",
        "ax[0].plot(nifty.loc[:, :].index, nifty.loc[:, 'Close'],'r', label='Close')\n",
        "ax[1].plot(solution.loc[:, :].index, solution.loc[:, 'signals'],'g', label='Signals')\n",
        "#ax[1].plot(nifty.iloc[:, :].index, nifty.loc[:, 'Close'], label='Nifty')\n",
        "plt.suptitle('Signals')\n",
        "ax[0].legend()\n",
        "ax[1].legend()\n",
        "ax[1].axhline(y=0)\n",
        "plt.show()"
      ],
      "execution_count": 27,
      "outputs": [
        {
          "output_type": "display_data",
          "data": {
            "image/png": "[encoded data removed]",
            "text/plain": [
              "<Figure size 1224x504 with 2 Axes>"
            ]
          },
          "metadata": {
            "needs_background": "light"
          }
        }
      ]
    },
    {
      "cell_type": "code",
      "metadata": {
        "id": "Ug-ccIvOB_HW"
      },
      "source": [
        "solution[['signals']].to_csv('kalman_k.csv')"
      ],
      "execution_count": 28,
      "outputs": []
    },
    {
      "cell_type": "code",
      "metadata": {
        "id": "zUQWSJl8YUkB"
      },
      "source": [
        ""
      ],
      "execution_count": 28,
      "outputs": []
    }
  ]
}