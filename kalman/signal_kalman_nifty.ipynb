{
  "nbformat": 4,
  "nbformat_minor": 0,
  "metadata": {
    "colab": {
      "name": "signal_kalman_.ipynb",
      "provenance": [],
      "authorship_tag": "ABX9TyNZSkbF4VawUSH7U/Dwmy4b",
      "include_colab_link": true
    },
    "kernelspec": {
      "name": "python3",
      "display_name": "Python 3"
    },
    "language_info": {
      "name": "python"
    }
  },
  "cells": [
    {
      "cell_type": "markdown",
      "metadata": {
        "id": "view-in-github",
        "colab_type": "text"
      },
      "source": [
        "<a href=\"https://colab.research.google.com/github/anirbanghoshsbi/.github.io/blob/master/kalman/signal_kalman_nifty.ipynb\" target=\"_parent\"><img src=\"https://colab.research.google.com/assets/colab-badge.svg\" alt=\"Open In Colab\"/></a>"
      ]
    },
    {
      "cell_type": "code",
      "metadata": {
        "id": "YzwNO2rurRH3",
        "colab": {
          "base_uri": "https://localhost:8080/"
        },
        "outputId": "46b97a79-c384-4eb3-a9af-fd101aa92b94"
      },
      "source": [
        "!pip install pykalman\n",
        "!pip install yfinance\n",
        "!pip install pandas-ta==0.2.45b"
      ],
      "execution_count": 1,
      "outputs": [
        {
          "output_type": "stream",
          "name": "stdout",
          "text": [
            "Collecting pykalman\n",
            "  Downloading pykalman-0.9.5.tar.gz (228 kB)\n",
            "\u001b[?25l\r\u001b[K     |█▍                              | 10 kB 34.8 MB/s eta 0:00:01\r\u001b[K     |██▉                             | 20 kB 35.6 MB/s eta 0:00:01\r\u001b[K     |████▎                           | 30 kB 40.2 MB/s eta 0:00:01\r\u001b[K     |█████▊                          | 40 kB 27.3 MB/s eta 0:00:01\r\u001b[K     |███████▏                        | 51 kB 15.5 MB/s eta 0:00:01\r\u001b[K     |████████▋                       | 61 kB 13.4 MB/s eta 0:00:01\r\u001b[K     |██████████                      | 71 kB 12.9 MB/s eta 0:00:01\r\u001b[K     |███████████▌                    | 81 kB 14.4 MB/s eta 0:00:01\r\u001b[K     |████████████▉                   | 92 kB 13.9 MB/s eta 0:00:01\r\u001b[K     |██████████████▎                 | 102 kB 11.7 MB/s eta 0:00:01\r\u001b[K     |███████████████▊                | 112 kB 11.7 MB/s eta 0:00:01\r\u001b[K     |█████████████████▏              | 122 kB 11.7 MB/s eta 0:00:01\r\u001b[K     |██████████████████▋             | 133 kB 11.7 MB/s eta 0:00:01\r\u001b[K     |████████████████████            | 143 kB 11.7 MB/s eta 0:00:01\r\u001b[K     |█████████████████████▌          | 153 kB 11.7 MB/s eta 0:00:01\r\u001b[K     |███████████████████████         | 163 kB 11.7 MB/s eta 0:00:01\r\u001b[K     |████████████████████████▍       | 174 kB 11.7 MB/s eta 0:00:01\r\u001b[K     |█████████████████████████▊      | 184 kB 11.7 MB/s eta 0:00:01\r\u001b[K     |███████████████████████████▏    | 194 kB 11.7 MB/s eta 0:00:01\r\u001b[K     |████████████████████████████▋   | 204 kB 11.7 MB/s eta 0:00:01\r\u001b[K     |██████████████████████████████  | 215 kB 11.7 MB/s eta 0:00:01\r\u001b[K     |███████████████████████████████▌| 225 kB 11.7 MB/s eta 0:00:01\r\u001b[K     |████████████████████████████████| 228 kB 11.7 MB/s \n",
            "\u001b[?25hBuilding wheels for collected packages: pykalman\n",
            "  Building wheel for pykalman (setup.py) ... \u001b[?25l\u001b[?25hdone\n",
            "  Created wheel for pykalman: filename=pykalman-0.9.5-py3-none-any.whl size=48461 sha256=eed879f0e691467bbff6f3e32106f8be769a3d64cae27fc2f37202942dca4b60\n",
            "  Stored in directory: /root/.cache/pip/wheels/6a/04/02/2dda6ea59c66d9e685affc8af3a31ad3a5d87b7311689efce6\n",
            "Successfully built pykalman\n",
            "Installing collected packages: pykalman\n",
            "Successfully installed pykalman-0.9.5\n",
            "Collecting yfinance\n",
            "  Downloading yfinance-0.1.64.tar.gz (26 kB)\n",
            "Requirement already satisfied: pandas>=0.24 in /usr/local/lib/python3.7/dist-packages (from yfinance) (1.1.5)\n",
            "Requirement already satisfied: numpy>=1.15 in /usr/local/lib/python3.7/dist-packages (from yfinance) (1.19.5)\n",
            "Requirement already satisfied: requests>=2.20 in /usr/local/lib/python3.7/dist-packages (from yfinance) (2.23.0)\n",
            "Requirement already satisfied: multitasking>=0.0.7 in /usr/local/lib/python3.7/dist-packages (from yfinance) (0.0.9)\n",
            "Collecting lxml>=4.5.1\n",
            "  Downloading lxml-4.6.4-cp37-cp37m-manylinux_2_17_x86_64.manylinux2014_x86_64.manylinux_2_24_x86_64.whl (6.3 MB)\n",
            "\u001b[K     |████████████████████████████████| 6.3 MB 19.1 MB/s \n",
            "\u001b[?25hRequirement already satisfied: pytz>=2017.2 in /usr/local/lib/python3.7/dist-packages (from pandas>=0.24->yfinance) (2018.9)\n",
            "Requirement already satisfied: python-dateutil>=2.7.3 in /usr/local/lib/python3.7/dist-packages (from pandas>=0.24->yfinance) (2.8.2)\n",
            "Requirement already satisfied: six>=1.5 in /usr/local/lib/python3.7/dist-packages (from python-dateutil>=2.7.3->pandas>=0.24->yfinance) (1.15.0)\n",
            "Requirement already satisfied: urllib3!=1.25.0,!=1.25.1,<1.26,>=1.21.1 in /usr/local/lib/python3.7/dist-packages (from requests>=2.20->yfinance) (1.24.3)\n",
            "Requirement already satisfied: certifi>=2017.4.17 in /usr/local/lib/python3.7/dist-packages (from requests>=2.20->yfinance) (2021.5.30)\n",
            "Requirement already satisfied: chardet<4,>=3.0.2 in /usr/local/lib/python3.7/dist-packages (from requests>=2.20->yfinance) (3.0.4)\n",
            "Requirement already satisfied: idna<3,>=2.5 in /usr/local/lib/python3.7/dist-packages (from requests>=2.20->yfinance) (2.10)\n",
            "Building wheels for collected packages: yfinance\n",
            "  Building wheel for yfinance (setup.py) ... \u001b[?25l\u001b[?25hdone\n",
            "  Created wheel for yfinance: filename=yfinance-0.1.64-py2.py3-none-any.whl size=24109 sha256=a515475a803ff5dd2ab3f5a0871717a71db9ab3795ba6a7ec890bac78e75b838\n",
            "  Stored in directory: /root/.cache/pip/wheels/86/fe/9b/a4d3d78796b699e37065e5b6c27b75cff448ddb8b24943c288\n",
            "Successfully built yfinance\n",
            "Installing collected packages: lxml, yfinance\n",
            "  Attempting uninstall: lxml\n",
            "    Found existing installation: lxml 4.2.6\n",
            "    Uninstalling lxml-4.2.6:\n",
            "      Successfully uninstalled lxml-4.2.6\n",
            "Successfully installed lxml-4.6.4 yfinance-0.1.64\n",
            "Collecting pandas-ta==0.2.45b\n",
            "  Downloading pandas_ta-0.2.45b.tar.gz (88 kB)\n",
            "\u001b[K     |████████████████████████████████| 88 kB 5.9 MB/s \n",
            "\u001b[?25hRequirement already satisfied: pandas in /usr/local/lib/python3.7/dist-packages (from pandas-ta==0.2.45b) (1.1.5)\n",
            "Requirement already satisfied: numpy>=1.15.4 in /usr/local/lib/python3.7/dist-packages (from pandas->pandas-ta==0.2.45b) (1.19.5)\n",
            "Requirement already satisfied: pytz>=2017.2 in /usr/local/lib/python3.7/dist-packages (from pandas->pandas-ta==0.2.45b) (2018.9)\n",
            "Requirement already satisfied: python-dateutil>=2.7.3 in /usr/local/lib/python3.7/dist-packages (from pandas->pandas-ta==0.2.45b) (2.8.2)\n",
            "Requirement already satisfied: six>=1.5 in /usr/local/lib/python3.7/dist-packages (from python-dateutil>=2.7.3->pandas->pandas-ta==0.2.45b) (1.15.0)\n",
            "Building wheels for collected packages: pandas-ta\n",
            "  Building wheel for pandas-ta (setup.py) ... \u001b[?25l\u001b[?25hdone\n",
            "  Created wheel for pandas-ta: filename=pandas_ta-0.2.45b0-py3-none-any.whl size=175303 sha256=b37a802130422884239dd55c021ff3cef136b69b3953d2566e0592da4c3933b7\n",
            "  Stored in directory: /root/.cache/pip/wheels/b1/49/60/e674e28ae57160651c6198b76e1714a0b175e44e022fcd5137\n",
            "Successfully built pandas-ta\n",
            "Installing collected packages: pandas-ta\n",
            "Successfully installed pandas-ta-0.2.45b0\n"
          ]
        }
      ]
    },
    {
      "cell_type": "code",
      "metadata": {
        "id": "K0B7knnQrSGM"
      },
      "source": [
        "#Importing dependencies#\n",
        "from pykalman import KalmanFilter\n",
        "import numpy as np\n",
        "import pylab as pl\n",
        "import pandas as pd\n",
        "import yfinance as yf\n",
        "from scipy import poly1d\n",
        "from datetime import datetime\n",
        "import pandas_ta as ta\n",
        "import matplotlib.pyplot as plt\n",
        "%matplotlib inline"
      ],
      "execution_count": 2,
      "outputs": []
    },
    {
      "cell_type": "code",
      "metadata": {
        "id": "q1AA0W40DJrx"
      },
      "source": [
        "pd.options.mode.chained_assignment = None"
      ],
      "execution_count": 3,
      "outputs": []
    },
    {
      "cell_type": "code",
      "metadata": {
        "id": "x3Lx3gzkxLj3"
      },
      "source": [
        "#ticker = pd.read_csv('https://raw.githubusercontent.com/anirbanghoshsbi/data/main/ind_niftybanklist.csv')"
      ],
      "execution_count": 4,
      "outputs": []
    },
    {
      "cell_type": "code",
      "metadata": {
        "id": "YbRMeZrxsEuO"
      },
      "source": [
        "ticker = pd.read_csv('https://raw.githubusercontent.com/anirbanghoshsbi/data/main/ind_nifty50list.csv')\n",
        "START = \"2013-01-01\""
      ],
      "execution_count": 5,
      "outputs": []
    },
    {
      "cell_type": "code",
      "metadata": {
        "colab": {
          "base_uri": "https://localhost:8080/"
        },
        "id": "CAgSzrJ08lOj",
        "outputId": "d6d37319-a2bc-4b5b-c9ab-a87fcb18b6a3"
      },
      "source": [
        "nifty=yf.download('^nsei',start=START)"
      ],
      "execution_count": 6,
      "outputs": [
        {
          "output_type": "stream",
          "name": "stdout",
          "text": [
            "\r[*********************100%***********************]  1 of 1 completed\n"
          ]
        }
      ]
    },
    {
      "cell_type": "code",
      "metadata": {
        "id": "kjfwjEr7rbRF",
        "colab": {
          "base_uri": "https://localhost:8080/"
        },
        "outputId": "00b0032b-8579-440a-8a56-734b3c352aa7"
      },
      "source": [
        "lst=[]\n",
        "for i in range(len(ticker)):\n",
        "  \n",
        "  dfi = yf.download(str(ticker.Symbol.iloc[i])+'.ns', start=START)\n",
        "  df = dfi[['Adj Close']]\n",
        "  f = KalmanFilter(transition_matrices = [1],\n",
        "                    observation_matrices = [1],\n",
        "                    initial_state_mean = 0,\n",
        "                    initial_state_covariance = 1,\n",
        "                    observation_covariance = 1,\n",
        "                    transition_covariance = 0.0001)\n",
        "  mean, cov = f.filter(df['Adj Close'].values)\n",
        "  mean, std = mean.squeeze(), np.std(cov.squeeze())\n",
        "  var = 'kalman'\n",
        "  df[var]=df['Adj Close'].values - mean\n",
        "  \n",
        "  lst.append(df)"
      ],
      "execution_count": 7,
      "outputs": [
        {
          "output_type": "stream",
          "name": "stdout",
          "text": [
            "[*********************100%***********************]  1 of 1 completed\n",
            "[*********************100%***********************]  1 of 1 completed\n",
            "[*********************100%***********************]  1 of 1 completed\n",
            "[*********************100%***********************]  1 of 1 completed\n",
            "[*********************100%***********************]  1 of 1 completed\n",
            "[*********************100%***********************]  1 of 1 completed\n",
            "[*********************100%***********************]  1 of 1 completed\n",
            "[*********************100%***********************]  1 of 1 completed\n",
            "[*********************100%***********************]  1 of 1 completed\n",
            "[*********************100%***********************]  1 of 1 completed\n",
            "[*********************100%***********************]  1 of 1 completed\n",
            "[*********************100%***********************]  1 of 1 completed\n",
            "[*********************100%***********************]  1 of 1 completed\n",
            "[*********************100%***********************]  1 of 1 completed\n",
            "[*********************100%***********************]  1 of 1 completed\n",
            "[*********************100%***********************]  1 of 1 completed\n",
            "[*********************100%***********************]  1 of 1 completed\n",
            "[*********************100%***********************]  1 of 1 completed\n",
            "[*********************100%***********************]  1 of 1 completed\n",
            "[*********************100%***********************]  1 of 1 completed\n",
            "[*********************100%***********************]  1 of 1 completed\n",
            "[*********************100%***********************]  1 of 1 completed\n",
            "[*********************100%***********************]  1 of 1 completed\n",
            "[*********************100%***********************]  1 of 1 completed\n",
            "[*********************100%***********************]  1 of 1 completed\n",
            "[*********************100%***********************]  1 of 1 completed\n",
            "[*********************100%***********************]  1 of 1 completed\n",
            "[*********************100%***********************]  1 of 1 completed\n",
            "[*********************100%***********************]  1 of 1 completed\n",
            "[*********************100%***********************]  1 of 1 completed\n",
            "[*********************100%***********************]  1 of 1 completed\n",
            "[*********************100%***********************]  1 of 1 completed\n",
            "[*********************100%***********************]  1 of 1 completed\n",
            "[*********************100%***********************]  1 of 1 completed\n",
            "[*********************100%***********************]  1 of 1 completed\n",
            "[*********************100%***********************]  1 of 1 completed\n",
            "[*********************100%***********************]  1 of 1 completed\n",
            "[*********************100%***********************]  1 of 1 completed\n",
            "[*********************100%***********************]  1 of 1 completed\n",
            "[*********************100%***********************]  1 of 1 completed\n",
            "[*********************100%***********************]  1 of 1 completed\n",
            "[*********************100%***********************]  1 of 1 completed\n",
            "[*********************100%***********************]  1 of 1 completed\n",
            "[*********************100%***********************]  1 of 1 completed\n",
            "[*********************100%***********************]  1 of 1 completed\n",
            "[*********************100%***********************]  1 of 1 completed\n",
            "[*********************100%***********************]  1 of 1 completed\n",
            "[*********************100%***********************]  1 of 1 completed\n",
            "[*********************100%***********************]  1 of 1 completed\n",
            "[*********************100%***********************]  1 of 1 completed\n"
          ]
        }
      ]
    },
    {
      "cell_type": "code",
      "metadata": {
        "id": "eWluogVZrbHW"
      },
      "source": [
        "nlst=[]\n",
        "for i in range(len(ticker)):\n",
        "  nlst.append(lst[i].kalman)\n",
        "  "
      ],
      "execution_count": 8,
      "outputs": []
    },
    {
      "cell_type": "code",
      "metadata": {
        "id": "y9-ZLZZRwLix"
      },
      "source": [
        "df_kalman = pd.DataFrame(nlst).T"
      ],
      "execution_count": 9,
      "outputs": []
    },
    {
      "cell_type": "code",
      "metadata": {
        "id": "V7bgENL_wLgJ"
      },
      "source": [
        "namelist =[]\n",
        "for i in range(1,len(ticker)+1):\n",
        "  namelist.append('kalman_'+str(i))\n",
        "  \n",
        "df_kalman.columns = namelist"
      ],
      "execution_count": 10,
      "outputs": []
    },
    {
      "cell_type": "code",
      "metadata": {
        "id": "AdFj16hYwKzC"
      },
      "source": [
        "def macd_calc(df):\n",
        "  columns=df.columns.tolist()\n",
        "  for var in columns:\n",
        "    macd='macd'+var\n",
        "    macd_s='macd'+'signal'+var\n",
        "    macd_h='hist'+ var\n",
        "    df[macd]=df[var].ewm(span=26, adjust=False).mean()-df[var].ewm(span=50, adjust=False).mean()\n",
        "    df[macd_s]=df[macd].ewm(span=18,adjust=False).mean()\n",
        "    df[macd_h]=df[macd]-df[macd_s]\n",
        "  return df"
      ],
      "execution_count": 11,
      "outputs": []
    },
    {
      "cell_type": "code",
      "metadata": {
        "id": "tN5FGb1grbC2"
      },
      "source": [
        "final_kalman=macd_calc(df_kalman)"
      ],
      "execution_count": 12,
      "outputs": []
    },
    {
      "cell_type": "code",
      "metadata": {
        "colab": {
          "base_uri": "https://localhost:8080/",
          "height": 223
        },
        "id": "9zq6kFSTrbAl",
        "outputId": "4f7bd314-e044-4fb4-8ec0-fbde3d569b54"
      },
      "source": [
        "final_kalman.tail(2)"
      ],
      "execution_count": 13,
      "outputs": [
        {
          "output_type": "execute_result",
          "data": {
            "text/html": [
              "<div>\n",
              "<style scoped>\n",
              "    .dataframe tbody tr th:only-of-type {\n",
              "        vertical-align: middle;\n",
              "    }\n",
              "\n",
              "    .dataframe tbody tr th {\n",
              "        vertical-align: top;\n",
              "    }\n",
              "\n",
              "    .dataframe thead th {\n",
              "        text-align: right;\n",
              "    }\n",
              "</style>\n",
              "<table border=\"1\" class=\"dataframe\">\n",
              "  <thead>\n",
              "    <tr style=\"text-align: right;\">\n",
              "      <th></th>\n",
              "      <th>kalman_1</th>\n",
              "      <th>kalman_2</th>\n",
              "      <th>kalman_3</th>\n",
              "      <th>kalman_4</th>\n",
              "      <th>kalman_5</th>\n",
              "      <th>kalman_6</th>\n",
              "      <th>kalman_7</th>\n",
              "      <th>kalman_8</th>\n",
              "      <th>kalman_9</th>\n",
              "      <th>kalman_10</th>\n",
              "      <th>kalman_11</th>\n",
              "      <th>kalman_12</th>\n",
              "      <th>kalman_13</th>\n",
              "      <th>kalman_14</th>\n",
              "      <th>kalman_15</th>\n",
              "      <th>kalman_16</th>\n",
              "      <th>kalman_17</th>\n",
              "      <th>kalman_18</th>\n",
              "      <th>kalman_19</th>\n",
              "      <th>kalman_20</th>\n",
              "      <th>kalman_21</th>\n",
              "      <th>kalman_22</th>\n",
              "      <th>kalman_23</th>\n",
              "      <th>kalman_24</th>\n",
              "      <th>kalman_25</th>\n",
              "      <th>kalman_26</th>\n",
              "      <th>kalman_27</th>\n",
              "      <th>kalman_28</th>\n",
              "      <th>kalman_29</th>\n",
              "      <th>kalman_30</th>\n",
              "      <th>kalman_31</th>\n",
              "      <th>kalman_32</th>\n",
              "      <th>kalman_33</th>\n",
              "      <th>kalman_34</th>\n",
              "      <th>kalman_35</th>\n",
              "      <th>kalman_36</th>\n",
              "      <th>kalman_37</th>\n",
              "      <th>kalman_38</th>\n",
              "      <th>kalman_39</th>\n",
              "      <th>kalman_40</th>\n",
              "      <th>...</th>\n",
              "      <th>histkalman_37</th>\n",
              "      <th>macdkalman_38</th>\n",
              "      <th>macdsignalkalman_38</th>\n",
              "      <th>histkalman_38</th>\n",
              "      <th>macdkalman_39</th>\n",
              "      <th>macdsignalkalman_39</th>\n",
              "      <th>histkalman_39</th>\n",
              "      <th>macdkalman_40</th>\n",
              "      <th>macdsignalkalman_40</th>\n",
              "      <th>histkalman_40</th>\n",
              "      <th>macdkalman_41</th>\n",
              "      <th>macdsignalkalman_41</th>\n",
              "      <th>histkalman_41</th>\n",
              "      <th>macdkalman_42</th>\n",
              "      <th>macdsignalkalman_42</th>\n",
              "      <th>histkalman_42</th>\n",
              "      <th>macdkalman_43</th>\n",
              "      <th>macdsignalkalman_43</th>\n",
              "      <th>histkalman_43</th>\n",
              "      <th>macdkalman_44</th>\n",
              "      <th>macdsignalkalman_44</th>\n",
              "      <th>histkalman_44</th>\n",
              "      <th>macdkalman_45</th>\n",
              "      <th>macdsignalkalman_45</th>\n",
              "      <th>histkalman_45</th>\n",
              "      <th>macdkalman_46</th>\n",
              "      <th>macdsignalkalman_46</th>\n",
              "      <th>histkalman_46</th>\n",
              "      <th>macdkalman_47</th>\n",
              "      <th>macdsignalkalman_47</th>\n",
              "      <th>histkalman_47</th>\n",
              "      <th>macdkalman_48</th>\n",
              "      <th>macdsignalkalman_48</th>\n",
              "      <th>histkalman_48</th>\n",
              "      <th>macdkalman_49</th>\n",
              "      <th>macdsignalkalman_49</th>\n",
              "      <th>histkalman_49</th>\n",
              "      <th>macdkalman_50</th>\n",
              "      <th>macdsignalkalman_50</th>\n",
              "      <th>histkalman_50</th>\n",
              "    </tr>\n",
              "    <tr>\n",
              "      <th>Date</th>\n",
              "      <th></th>\n",
              "      <th></th>\n",
              "      <th></th>\n",
              "      <th></th>\n",
              "      <th></th>\n",
              "      <th></th>\n",
              "      <th></th>\n",
              "      <th></th>\n",
              "      <th></th>\n",
              "      <th></th>\n",
              "      <th></th>\n",
              "      <th></th>\n",
              "      <th></th>\n",
              "      <th></th>\n",
              "      <th></th>\n",
              "      <th></th>\n",
              "      <th></th>\n",
              "      <th></th>\n",
              "      <th></th>\n",
              "      <th></th>\n",
              "      <th></th>\n",
              "      <th></th>\n",
              "      <th></th>\n",
              "      <th></th>\n",
              "      <th></th>\n",
              "      <th></th>\n",
              "      <th></th>\n",
              "      <th></th>\n",
              "      <th></th>\n",
              "      <th></th>\n",
              "      <th></th>\n",
              "      <th></th>\n",
              "      <th></th>\n",
              "      <th></th>\n",
              "      <th></th>\n",
              "      <th></th>\n",
              "      <th></th>\n",
              "      <th></th>\n",
              "      <th></th>\n",
              "      <th></th>\n",
              "      <th></th>\n",
              "      <th></th>\n",
              "      <th></th>\n",
              "      <th></th>\n",
              "      <th></th>\n",
              "      <th></th>\n",
              "      <th></th>\n",
              "      <th></th>\n",
              "      <th></th>\n",
              "      <th></th>\n",
              "      <th></th>\n",
              "      <th></th>\n",
              "      <th></th>\n",
              "      <th></th>\n",
              "      <th></th>\n",
              "      <th></th>\n",
              "      <th></th>\n",
              "      <th></th>\n",
              "      <th></th>\n",
              "      <th></th>\n",
              "      <th></th>\n",
              "      <th></th>\n",
              "      <th></th>\n",
              "      <th></th>\n",
              "      <th></th>\n",
              "      <th></th>\n",
              "      <th></th>\n",
              "      <th></th>\n",
              "      <th></th>\n",
              "      <th></th>\n",
              "      <th></th>\n",
              "      <th></th>\n",
              "      <th></th>\n",
              "      <th></th>\n",
              "      <th></th>\n",
              "      <th></th>\n",
              "      <th></th>\n",
              "      <th></th>\n",
              "      <th></th>\n",
              "      <th></th>\n",
              "      <th></th>\n",
              "    </tr>\n",
              "  </thead>\n",
              "  <tbody>\n",
              "    <tr>\n",
              "      <th>2021-11-04</th>\n",
              "      <td>34.543307</td>\n",
              "      <td>287.137847</td>\n",
              "      <td>24.508328</td>\n",
              "      <td>57.783726</td>\n",
              "      <td>1286.781580</td>\n",
              "      <td>4077.254093</td>\n",
              "      <td>5.480632</td>\n",
              "      <td>102.280792</td>\n",
              "      <td>-5.797965</td>\n",
              "      <td>23.822510</td>\n",
              "      <td>21.946708</td>\n",
              "      <td>789.943577</td>\n",
              "      <td>-72.313730</td>\n",
              "      <td>61.197575</td>\n",
              "      <td>367.973302</td>\n",
              "      <td>143.332264</td>\n",
              "      <td>101.352786</td>\n",
              "      <td>13.031009</td>\n",
              "      <td>-192.853090</td>\n",
              "      <td>80.840658</td>\n",
              "      <td>-8.498383</td>\n",
              "      <td>317.832537</td>\n",
              "      <td>133.291917</td>\n",
              "      <td>14.028740</td>\n",
              "      <td>27.380738</td>\n",
              "      <td>176.841743</td>\n",
              "      <td>219.878793</td>\n",
              "      <td>72.998885</td>\n",
              "      <td>231.610366</td>\n",
              "      <td>379.882812</td>\n",
              "      <td>92.686323</td>\n",
              "      <td>648.254944</td>\n",
              "      <td>23.767604</td>\n",
              "      <td>816.335669</td>\n",
              "      <td>31.884101</td>\n",
              "      <td>16.672638</td>\n",
              "      <td>280.306266</td>\n",
              "      <td>128.475264</td>\n",
              "      <td>1664.049674</td>\n",
              "      <td>126.580011</td>\n",
              "      <td>...</td>\n",
              "      <td>-26.303228</td>\n",
              "      <td>-12.950908</td>\n",
              "      <td>-4.527248</td>\n",
              "      <td>-8.423660</td>\n",
              "      <td>-232.384865</td>\n",
              "      <td>-236.941274</td>\n",
              "      <td>4.556409</td>\n",
              "      <td>10.166453</td>\n",
              "      <td>5.995904</td>\n",
              "      <td>4.170549</td>\n",
              "      <td>-1.91530</td>\n",
              "      <td>2.793808</td>\n",
              "      <td>-4.709109</td>\n",
              "      <td>-73.519703</td>\n",
              "      <td>-29.574518</td>\n",
              "      <td>-43.945186</td>\n",
              "      <td>-14.240575</td>\n",
              "      <td>-11.184872</td>\n",
              "      <td>-3.055704</td>\n",
              "      <td>33.577202</td>\n",
              "      <td>26.859606</td>\n",
              "      <td>6.717596</td>\n",
              "      <td>-41.767219</td>\n",
              "      <td>-40.783084</td>\n",
              "      <td>-0.984136</td>\n",
              "      <td>8.634041</td>\n",
              "      <td>12.881311</td>\n",
              "      <td>-4.247270</td>\n",
              "      <td>66.942972</td>\n",
              "      <td>75.307680</td>\n",
              "      <td>-8.364708</td>\n",
              "      <td>-15.568951</td>\n",
              "      <td>-18.922660</td>\n",
              "      <td>3.353709</td>\n",
              "      <td>-92.881704</td>\n",
              "      <td>-123.471060</td>\n",
              "      <td>30.589356</td>\n",
              "      <td>-6.179383</td>\n",
              "      <td>-1.466000</td>\n",
              "      <td>-4.713384</td>\n",
              "    </tr>\n",
              "    <tr>\n",
              "      <th>2021-11-08</th>\n",
              "      <td>50.782932</td>\n",
              "      <td>263.242230</td>\n",
              "      <td>22.383349</td>\n",
              "      <td>74.980118</td>\n",
              "      <td>1421.049658</td>\n",
              "      <td>4755.213602</td>\n",
              "      <td>17.306698</td>\n",
              "      <td>109.084503</td>\n",
              "      <td>58.711827</td>\n",
              "      <td>26.555622</td>\n",
              "      <td>22.718385</td>\n",
              "      <td>473.831897</td>\n",
              "      <td>-49.218976</td>\n",
              "      <td>109.744531</td>\n",
              "      <td>421.091257</td>\n",
              "      <td>141.658577</td>\n",
              "      <td>106.581676</td>\n",
              "      <td>19.683166</td>\n",
              "      <td>-185.588005</td>\n",
              "      <td>77.264126</td>\n",
              "      <td>0.545935</td>\n",
              "      <td>393.725642</td>\n",
              "      <td>130.035097</td>\n",
              "      <td>17.106814</td>\n",
              "      <td>32.850589</td>\n",
              "      <td>48.405312</td>\n",
              "      <td>246.204457</td>\n",
              "      <td>79.400848</td>\n",
              "      <td>290.540495</td>\n",
              "      <td>391.547805</td>\n",
              "      <td>78.546941</td>\n",
              "      <td>579.629787</td>\n",
              "      <td>26.649780</td>\n",
              "      <td>966.621007</td>\n",
              "      <td>34.388483</td>\n",
              "      <td>20.565939</td>\n",
              "      <td>280.586193</td>\n",
              "      <td>145.908886</td>\n",
              "      <td>2122.074127</td>\n",
              "      <td>118.192153</td>\n",
              "      <td>...</td>\n",
              "      <td>-28.096504</td>\n",
              "      <td>-12.393090</td>\n",
              "      <td>-5.355231</td>\n",
              "      <td>-7.037859</td>\n",
              "      <td>-192.988753</td>\n",
              "      <td>-232.314693</td>\n",
              "      <td>39.325940</td>\n",
              "      <td>10.327367</td>\n",
              "      <td>6.451848</td>\n",
              "      <td>3.875519</td>\n",
              "      <td>-2.66956</td>\n",
              "      <td>2.218717</td>\n",
              "      <td>-4.888277</td>\n",
              "      <td>-74.952538</td>\n",
              "      <td>-34.351151</td>\n",
              "      <td>-40.601387</td>\n",
              "      <td>-13.778844</td>\n",
              "      <td>-11.457922</td>\n",
              "      <td>-2.320923</td>\n",
              "      <td>33.457138</td>\n",
              "      <td>27.554083</td>\n",
              "      <td>5.903055</td>\n",
              "      <td>-40.895253</td>\n",
              "      <td>-40.794891</td>\n",
              "      <td>-0.100362</td>\n",
              "      <td>9.636108</td>\n",
              "      <td>12.539710</td>\n",
              "      <td>-2.903603</td>\n",
              "      <td>67.730306</td>\n",
              "      <td>74.510061</td>\n",
              "      <td>-6.779756</td>\n",
              "      <td>-14.705942</td>\n",
              "      <td>-18.478795</td>\n",
              "      <td>3.772853</td>\n",
              "      <td>-68.631981</td>\n",
              "      <td>-117.698525</td>\n",
              "      <td>49.066544</td>\n",
              "      <td>-6.714607</td>\n",
              "      <td>-2.018485</td>\n",
              "      <td>-4.696122</td>\n",
              "    </tr>\n",
              "  </tbody>\n",
              "</table>\n",
              "<p>2 rows × 200 columns</p>\n",
              "</div>"
            ],
            "text/plain": [
              "             kalman_1    kalman_2  ...  macdsignalkalman_50  histkalman_50\n",
              "Date                               ...                                    \n",
              "2021-11-04  34.543307  287.137847  ...            -1.466000      -4.713384\n",
              "2021-11-08  50.782932  263.242230  ...            -2.018485      -4.696122\n",
              "\n",
              "[2 rows x 200 columns]"
            ]
          },
          "metadata": {},
          "execution_count": 13
        }
      ]
    },
    {
      "cell_type": "code",
      "metadata": {
        "id": "ssI2nLbIra91"
      },
      "source": [
        "features = final_kalman.columns.tolist()"
      ],
      "execution_count": 14,
      "outputs": []
    },
    {
      "cell_type": "code",
      "metadata": {
        "id": "kaS_OPDZ03HH"
      },
      "source": [
        "feats_set1=[feats for feats in features if feats.startswith('hist')]"
      ],
      "execution_count": 15,
      "outputs": []
    },
    {
      "cell_type": "code",
      "metadata": {
        "id": "p7NzUo7B1de-"
      },
      "source": [
        "final_dataframe=final_kalman[feats_set1]"
      ],
      "execution_count": 16,
      "outputs": []
    },
    {
      "cell_type": "code",
      "metadata": {
        "id": "G3n2Ns_U2h01"
      },
      "source": [
        "solution=np.sign(final_dataframe)"
      ],
      "execution_count": 17,
      "outputs": []
    },
    {
      "cell_type": "code",
      "metadata": {
        "id": "zvUVJRgX3H61"
      },
      "source": [
        "solution['final']=solution.sum(axis=1)"
      ],
      "execution_count": 18,
      "outputs": []
    },
    {
      "cell_type": "code",
      "metadata": {
        "colab": {
          "base_uri": "https://localhost:8080/",
          "height": 194
        },
        "id": "OA_hL4Ru68WZ",
        "outputId": "3095715b-6af9-4bf5-9f66-30ed3002f953"
      },
      "source": [
        "solution.tail(2)"
      ],
      "execution_count": 19,
      "outputs": [
        {
          "output_type": "execute_result",
          "data": {
            "text/html": [
              "<div>\n",
              "<style scoped>\n",
              "    .dataframe tbody tr th:only-of-type {\n",
              "        vertical-align: middle;\n",
              "    }\n",
              "\n",
              "    .dataframe tbody tr th {\n",
              "        vertical-align: top;\n",
              "    }\n",
              "\n",
              "    .dataframe thead th {\n",
              "        text-align: right;\n",
              "    }\n",
              "</style>\n",
              "<table border=\"1\" class=\"dataframe\">\n",
              "  <thead>\n",
              "    <tr style=\"text-align: right;\">\n",
              "      <th></th>\n",
              "      <th>histkalman_1</th>\n",
              "      <th>histkalman_2</th>\n",
              "      <th>histkalman_3</th>\n",
              "      <th>histkalman_4</th>\n",
              "      <th>histkalman_5</th>\n",
              "      <th>histkalman_6</th>\n",
              "      <th>histkalman_7</th>\n",
              "      <th>histkalman_8</th>\n",
              "      <th>histkalman_9</th>\n",
              "      <th>histkalman_10</th>\n",
              "      <th>histkalman_11</th>\n",
              "      <th>histkalman_12</th>\n",
              "      <th>histkalman_13</th>\n",
              "      <th>histkalman_14</th>\n",
              "      <th>histkalman_15</th>\n",
              "      <th>histkalman_16</th>\n",
              "      <th>histkalman_17</th>\n",
              "      <th>histkalman_18</th>\n",
              "      <th>histkalman_19</th>\n",
              "      <th>histkalman_20</th>\n",
              "      <th>histkalman_21</th>\n",
              "      <th>histkalman_22</th>\n",
              "      <th>histkalman_23</th>\n",
              "      <th>histkalman_24</th>\n",
              "      <th>histkalman_25</th>\n",
              "      <th>histkalman_26</th>\n",
              "      <th>histkalman_27</th>\n",
              "      <th>histkalman_28</th>\n",
              "      <th>histkalman_29</th>\n",
              "      <th>histkalman_30</th>\n",
              "      <th>histkalman_31</th>\n",
              "      <th>histkalman_32</th>\n",
              "      <th>histkalman_33</th>\n",
              "      <th>histkalman_34</th>\n",
              "      <th>histkalman_35</th>\n",
              "      <th>histkalman_36</th>\n",
              "      <th>histkalman_37</th>\n",
              "      <th>histkalman_38</th>\n",
              "      <th>histkalman_39</th>\n",
              "      <th>histkalman_40</th>\n",
              "      <th>histkalman_41</th>\n",
              "      <th>histkalman_42</th>\n",
              "      <th>histkalman_43</th>\n",
              "      <th>histkalman_44</th>\n",
              "      <th>histkalman_45</th>\n",
              "      <th>histkalman_46</th>\n",
              "      <th>histkalman_47</th>\n",
              "      <th>histkalman_48</th>\n",
              "      <th>histkalman_49</th>\n",
              "      <th>histkalman_50</th>\n",
              "      <th>final</th>\n",
              "    </tr>\n",
              "    <tr>\n",
              "      <th>Date</th>\n",
              "      <th></th>\n",
              "      <th></th>\n",
              "      <th></th>\n",
              "      <th></th>\n",
              "      <th></th>\n",
              "      <th></th>\n",
              "      <th></th>\n",
              "      <th></th>\n",
              "      <th></th>\n",
              "      <th></th>\n",
              "      <th></th>\n",
              "      <th></th>\n",
              "      <th></th>\n",
              "      <th></th>\n",
              "      <th></th>\n",
              "      <th></th>\n",
              "      <th></th>\n",
              "      <th></th>\n",
              "      <th></th>\n",
              "      <th></th>\n",
              "      <th></th>\n",
              "      <th></th>\n",
              "      <th></th>\n",
              "      <th></th>\n",
              "      <th></th>\n",
              "      <th></th>\n",
              "      <th></th>\n",
              "      <th></th>\n",
              "      <th></th>\n",
              "      <th></th>\n",
              "      <th></th>\n",
              "      <th></th>\n",
              "      <th></th>\n",
              "      <th></th>\n",
              "      <th></th>\n",
              "      <th></th>\n",
              "      <th></th>\n",
              "      <th></th>\n",
              "      <th></th>\n",
              "      <th></th>\n",
              "      <th></th>\n",
              "      <th></th>\n",
              "      <th></th>\n",
              "      <th></th>\n",
              "      <th></th>\n",
              "      <th></th>\n",
              "      <th></th>\n",
              "      <th></th>\n",
              "      <th></th>\n",
              "      <th></th>\n",
              "      <th></th>\n",
              "    </tr>\n",
              "  </thead>\n",
              "  <tbody>\n",
              "    <tr>\n",
              "      <th>2021-11-04</th>\n",
              "      <td>-1.0</td>\n",
              "      <td>-1.0</td>\n",
              "      <td>-1.0</td>\n",
              "      <td>-1.0</td>\n",
              "      <td>-1.0</td>\n",
              "      <td>-1.0</td>\n",
              "      <td>-1.0</td>\n",
              "      <td>-1.0</td>\n",
              "      <td>-1.0</td>\n",
              "      <td>-1.0</td>\n",
              "      <td>-1.0</td>\n",
              "      <td>-1.0</td>\n",
              "      <td>-1.0</td>\n",
              "      <td>-1.0</td>\n",
              "      <td>1.0</td>\n",
              "      <td>-1.0</td>\n",
              "      <td>-1.0</td>\n",
              "      <td>-1.0</td>\n",
              "      <td>-1.0</td>\n",
              "      <td>-1.0</td>\n",
              "      <td>-1.0</td>\n",
              "      <td>1.0</td>\n",
              "      <td>1.0</td>\n",
              "      <td>-1.0</td>\n",
              "      <td>-1.0</td>\n",
              "      <td>-1.0</td>\n",
              "      <td>-1.0</td>\n",
              "      <td>1.0</td>\n",
              "      <td>-1.0</td>\n",
              "      <td>1.0</td>\n",
              "      <td>-1.0</td>\n",
              "      <td>1.0</td>\n",
              "      <td>-1.0</td>\n",
              "      <td>-1.0</td>\n",
              "      <td>-1.0</td>\n",
              "      <td>-1.0</td>\n",
              "      <td>-1.0</td>\n",
              "      <td>-1.0</td>\n",
              "      <td>1.0</td>\n",
              "      <td>1.0</td>\n",
              "      <td>-1.0</td>\n",
              "      <td>-1.0</td>\n",
              "      <td>-1.0</td>\n",
              "      <td>1.0</td>\n",
              "      <td>-1.0</td>\n",
              "      <td>-1.0</td>\n",
              "      <td>-1.0</td>\n",
              "      <td>1.0</td>\n",
              "      <td>1.0</td>\n",
              "      <td>-1.0</td>\n",
              "      <td>-28.0</td>\n",
              "    </tr>\n",
              "    <tr>\n",
              "      <th>2021-11-08</th>\n",
              "      <td>-1.0</td>\n",
              "      <td>-1.0</td>\n",
              "      <td>-1.0</td>\n",
              "      <td>-1.0</td>\n",
              "      <td>-1.0</td>\n",
              "      <td>-1.0</td>\n",
              "      <td>-1.0</td>\n",
              "      <td>-1.0</td>\n",
              "      <td>-1.0</td>\n",
              "      <td>-1.0</td>\n",
              "      <td>-1.0</td>\n",
              "      <td>-1.0</td>\n",
              "      <td>-1.0</td>\n",
              "      <td>-1.0</td>\n",
              "      <td>1.0</td>\n",
              "      <td>-1.0</td>\n",
              "      <td>-1.0</td>\n",
              "      <td>-1.0</td>\n",
              "      <td>-1.0</td>\n",
              "      <td>-1.0</td>\n",
              "      <td>-1.0</td>\n",
              "      <td>1.0</td>\n",
              "      <td>1.0</td>\n",
              "      <td>-1.0</td>\n",
              "      <td>-1.0</td>\n",
              "      <td>-1.0</td>\n",
              "      <td>-1.0</td>\n",
              "      <td>1.0</td>\n",
              "      <td>-1.0</td>\n",
              "      <td>1.0</td>\n",
              "      <td>-1.0</td>\n",
              "      <td>1.0</td>\n",
              "      <td>-1.0</td>\n",
              "      <td>-1.0</td>\n",
              "      <td>-1.0</td>\n",
              "      <td>-1.0</td>\n",
              "      <td>-1.0</td>\n",
              "      <td>-1.0</td>\n",
              "      <td>1.0</td>\n",
              "      <td>1.0</td>\n",
              "      <td>-1.0</td>\n",
              "      <td>-1.0</td>\n",
              "      <td>-1.0</td>\n",
              "      <td>1.0</td>\n",
              "      <td>-1.0</td>\n",
              "      <td>-1.0</td>\n",
              "      <td>-1.0</td>\n",
              "      <td>1.0</td>\n",
              "      <td>1.0</td>\n",
              "      <td>-1.0</td>\n",
              "      <td>-28.0</td>\n",
              "    </tr>\n",
              "  </tbody>\n",
              "</table>\n",
              "</div>"
            ],
            "text/plain": [
              "            histkalman_1  histkalman_2  ...  histkalman_50  final\n",
              "Date                                    ...                      \n",
              "2021-11-04          -1.0          -1.0  ...           -1.0  -28.0\n",
              "2021-11-08          -1.0          -1.0  ...           -1.0  -28.0\n",
              "\n",
              "[2 rows x 51 columns]"
            ]
          },
          "metadata": {},
          "execution_count": 19
        }
      ]
    },
    {
      "cell_type": "code",
      "metadata": {
        "colab": {
          "base_uri": "https://localhost:8080/",
          "height": 293
        },
        "id": "VX-QwBkU3Jys",
        "outputId": "5fd5867c-deeb-46ad-ed49-4c9e026d935f"
      },
      "source": [
        "solution.final[-100:].plot()"
      ],
      "execution_count": 20,
      "outputs": [
        {
          "output_type": "execute_result",
          "data": {
            "text/plain": [
              "<matplotlib.axes._subplots.AxesSubplot at 0x7f137176fa50>"
            ]
          },
          "metadata": {},
          "execution_count": 20
        },
        {
          "output_type": "display_data",
          "data": {
            "image/png": "[encoded data removed]",
            "text/plain": [
              "<Figure size 432x288 with 1 Axes>"
            ]
          },
          "metadata": {
            "needs_background": "light"
          }
        }
      ]
    },
    {
      "cell_type": "code",
      "metadata": {
        "id": "eHGbm3jKTN6u"
      },
      "source": [
        "l=700"
      ],
      "execution_count": 21,
      "outputs": []
    },
    {
      "cell_type": "code",
      "metadata": {
        "id": "uKnGigwKSyKD"
      },
      "source": [
        "nifty=nifty[-l:]\n",
        "solution=solution[-l:]"
      ],
      "execution_count": 22,
      "outputs": []
    },
    {
      "cell_type": "code",
      "metadata": {
        "colab": {
          "base_uri": "https://localhost:8080/",
          "height": 400
        },
        "id": "0JHISukB8NHk",
        "outputId": "8a82c00a-269f-4406-81bc-6688d4f67335"
      },
      "source": [
        "fig, ax = plt.subplots(2,1,figsize=(17,7),sharex=True)\n",
        "ax[0].plot(nifty.loc[:, :].index, nifty.loc[:, 'Close'],'r', label='Close')\n",
        "ax[1].plot(solution.loc[:, :].index, solution.loc[:, 'final'],'g', label='Signals')\n",
        "#ax[1].plot(nifty.iloc[:, :].index, nifty.loc[:, 'Close'], label='Nifty')\n",
        "plt.suptitle('Signals')\n",
        "ax[0].legend()\n",
        "ax[1].legend()\n",
        "ax[1].axhline(y=0)\n",
        "plt.show()"
      ],
      "execution_count": 23,
      "outputs": [
        {
          "output_type": "display_data",
          "data": {
            "image/png": "[encoded data removed]",
            "text/plain": [
              "<Figure size 1224x504 with 2 Axes>"
            ]
          },
          "metadata": {
            "needs_background": "light"
          }
        }
      ]
    },
    {
      "cell_type": "code",
      "metadata": {
        "id": "euhAaTaXBnKR"
      },
      "source": [
        "solution['signals']=np.where(solution['final']>0,1,-1)"
      ],
      "execution_count": 24,
      "outputs": []
    },
    {
      "cell_type": "code",
      "metadata": {
        "id": "kymGBf4iKPyT",
        "colab": {
          "base_uri": "https://localhost:8080/"
        },
        "outputId": "9e384423-d189-41e2-cb15-5000902419c4"
      },
      "source": [
        "if solution['signals'].iloc[-1]!=solution['signals'].iloc[-2]:\n",
        "  var= solution['signals'].iloc[-1]\n",
        "  print(f'signal changed to : {var}')\n",
        "else :\n",
        "  var= solution['signals'].iloc[-1]\n",
        "  print(f'signal unchanged (1:stay long , -1: stay short) : {var}')"
      ],
      "execution_count": 25,
      "outputs": [
        {
          "output_type": "stream",
          "name": "stdout",
          "text": [
            "signal unchanged (1:stay long , -1: stay short) : -1\n"
          ]
        }
      ]
    },
    {
      "cell_type": "code",
      "metadata": {
        "colab": {
          "base_uri": "https://localhost:8080/",
          "height": 400
        },
        "id": "AZskaRb1x9aX",
        "outputId": "ddde660e-aa71-4d3f-f252-d67285e4885c"
      },
      "source": [
        "fig, ax = plt.subplots(2,1,figsize=(17,7),sharex=True)\n",
        "ax[0].plot(nifty.loc[:, :].index, nifty.loc[:, 'Close'],'r', label='Close')\n",
        "ax[1].plot(solution.loc[:, :].index, solution.loc[:, 'signals'],'g', label='Signals')\n",
        "#ax[1].plot(nifty.iloc[:, :].index, nifty.loc[:, 'Close'], label='Nifty')\n",
        "plt.suptitle('Signals')\n",
        "ax[0].legend()\n",
        "ax[1].legend()\n",
        "ax[1].axhline(y=0)\n",
        "plt.show()"
      ],
      "execution_count": 26,
      "outputs": [
        {
          "output_type": "display_data",
          "data": {
            "image/png": "[encoded data removed]",
            "text/plain": [
              "<Figure size 1224x504 with 2 Axes>"
            ]
          },
          "metadata": {
            "needs_background": "light"
          }
        }
      ]
    },
    {
      "cell_type": "code",
      "metadata": {
        "id": "zUQWSJl8YUkB"
      },
      "source": [
        ""
      ],
      "execution_count": 26,
      "outputs": []
    }
  ]
}