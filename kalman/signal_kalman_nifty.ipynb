{
  "nbformat": 4,
  "nbformat_minor": 0,
  "metadata": {
    "colab": {
      "name": "signal_kalman_.ipynb",
      "provenance": [],
      "authorship_tag": "ABX9TyPYdpYlzUzGiDkoXSv52amx",
      "include_colab_link": true
    },
    "kernelspec": {
      "name": "python3",
      "display_name": "Python 3"
    },
    "language_info": {
      "name": "python"
    }
  },
  "cells": [
    {
      "cell_type": "markdown",
      "metadata": {
        "id": "view-in-github",
        "colab_type": "text"
      },
      "source": [
        "<a href=\"https://colab.research.google.com/github/anirbanghoshsbi/.github.io/blob/master/kalman/signal_kalman_nifty.ipynb\" target=\"_parent\"><img src=\"https://colab.research.google.com/assets/colab-badge.svg\" alt=\"Open In Colab\"/></a>"
      ]
    },
    {
      "cell_type": "code",
      "metadata": {
        "id": "YzwNO2rurRH3",
        "colab": {
          "base_uri": "https://localhost:8080/"
        },
        "outputId": "8fff2322-2439-464d-e29b-99873488e6cf"
      },
      "source": [
        "!pip install pykalman\n",
        "!pip install yfinance\n",
        "!pip install pandas-ta==0.2.45b"
      ],
      "execution_count": 1,
      "outputs": [
        {
          "output_type": "stream",
          "name": "stdout",
          "text": [
            "Collecting pykalman\n",
            "  Downloading pykalman-0.9.5.tar.gz (228 kB)\n",
            "\u001b[?25l\r\u001b[K     |█▍                              | 10 kB 31.8 MB/s eta 0:00:01\r\u001b[K     |██▉                             | 20 kB 32.2 MB/s eta 0:00:01\r\u001b[K     |████▎                           | 30 kB 12.4 MB/s eta 0:00:01\r\u001b[K     |█████▊                          | 40 kB 9.1 MB/s eta 0:00:01\r\u001b[K     |███████▏                        | 51 kB 4.9 MB/s eta 0:00:01\r\u001b[K     |████████▋                       | 61 kB 5.3 MB/s eta 0:00:01\r\u001b[K     |██████████                      | 71 kB 5.7 MB/s eta 0:00:01\r\u001b[K     |███████████▌                    | 81 kB 6.4 MB/s eta 0:00:01\r\u001b[K     |████████████▉                   | 92 kB 6.7 MB/s eta 0:00:01\r\u001b[K     |██████████████▎                 | 102 kB 5.1 MB/s eta 0:00:01\r\u001b[K     |███████████████▊                | 112 kB 5.1 MB/s eta 0:00:01\r\u001b[K     |█████████████████▏              | 122 kB 5.1 MB/s eta 0:00:01\r\u001b[K     |██████████████████▋             | 133 kB 5.1 MB/s eta 0:00:01\r\u001b[K     |████████████████████            | 143 kB 5.1 MB/s eta 0:00:01\r\u001b[K     |█████████████████████▌          | 153 kB 5.1 MB/s eta 0:00:01\r\u001b[K     |███████████████████████         | 163 kB 5.1 MB/s eta 0:00:01\r\u001b[K     |████████████████████████▍       | 174 kB 5.1 MB/s eta 0:00:01\r\u001b[K     |█████████████████████████▊      | 184 kB 5.1 MB/s eta 0:00:01\r\u001b[K     |███████████████████████████▏    | 194 kB 5.1 MB/s eta 0:00:01\r\u001b[K     |████████████████████████████▋   | 204 kB 5.1 MB/s eta 0:00:01\r\u001b[K     |██████████████████████████████  | 215 kB 5.1 MB/s eta 0:00:01\r\u001b[K     |███████████████████████████████▌| 225 kB 5.1 MB/s eta 0:00:01\r\u001b[K     |████████████████████████████████| 228 kB 5.1 MB/s \n",
            "\u001b[?25hBuilding wheels for collected packages: pykalman\n",
            "  Building wheel for pykalman (setup.py) ... \u001b[?25l\u001b[?25hdone\n",
            "  Created wheel for pykalman: filename=pykalman-0.9.5-py3-none-any.whl size=48461 sha256=eeeb64e6373009a1227e1e4d63b09aa5c759735a223d56f157e65e5140179268\n",
            "  Stored in directory: /root/.cache/pip/wheels/6a/04/02/2dda6ea59c66d9e685affc8af3a31ad3a5d87b7311689efce6\n",
            "Successfully built pykalman\n",
            "Installing collected packages: pykalman\n",
            "Successfully installed pykalman-0.9.5\n",
            "Collecting yfinance\n",
            "  Downloading yfinance-0.1.66-py2.py3-none-any.whl (25 kB)\n",
            "Requirement already satisfied: multitasking>=0.0.7 in /usr/local/lib/python3.7/dist-packages (from yfinance) (0.0.9)\n",
            "Collecting lxml>=4.5.1\n",
            "  Downloading lxml-4.6.4-cp37-cp37m-manylinux_2_17_x86_64.manylinux2014_x86_64.manylinux_2_24_x86_64.whl (6.3 MB)\n",
            "\u001b[K     |████████████████████████████████| 6.3 MB 7.7 MB/s \n",
            "\u001b[?25hRequirement already satisfied: requests>=2.20 in /usr/local/lib/python3.7/dist-packages (from yfinance) (2.23.0)\n",
            "Requirement already satisfied: numpy>=1.15 in /usr/local/lib/python3.7/dist-packages (from yfinance) (1.19.5)\n",
            "Requirement already satisfied: pandas>=0.24 in /usr/local/lib/python3.7/dist-packages (from yfinance) (1.1.5)\n",
            "Requirement already satisfied: python-dateutil>=2.7.3 in /usr/local/lib/python3.7/dist-packages (from pandas>=0.24->yfinance) (2.8.2)\n",
            "Requirement already satisfied: pytz>=2017.2 in /usr/local/lib/python3.7/dist-packages (from pandas>=0.24->yfinance) (2018.9)\n",
            "Requirement already satisfied: six>=1.5 in /usr/local/lib/python3.7/dist-packages (from python-dateutil>=2.7.3->pandas>=0.24->yfinance) (1.15.0)\n",
            "Requirement already satisfied: idna<3,>=2.5 in /usr/local/lib/python3.7/dist-packages (from requests>=2.20->yfinance) (2.10)\n",
            "Requirement already satisfied: chardet<4,>=3.0.2 in /usr/local/lib/python3.7/dist-packages (from requests>=2.20->yfinance) (3.0.4)\n",
            "Requirement already satisfied: certifi>=2017.4.17 in /usr/local/lib/python3.7/dist-packages (from requests>=2.20->yfinance) (2021.10.8)\n",
            "Requirement already satisfied: urllib3!=1.25.0,!=1.25.1,<1.26,>=1.21.1 in /usr/local/lib/python3.7/dist-packages (from requests>=2.20->yfinance) (1.24.3)\n",
            "Installing collected packages: lxml, yfinance\n",
            "  Attempting uninstall: lxml\n",
            "    Found existing installation: lxml 4.2.6\n",
            "    Uninstalling lxml-4.2.6:\n",
            "      Successfully uninstalled lxml-4.2.6\n",
            "Successfully installed lxml-4.6.4 yfinance-0.1.66\n",
            "Collecting pandas-ta==0.2.45b\n",
            "  Downloading pandas_ta-0.2.45b.tar.gz (88 kB)\n",
            "\u001b[K     |████████████████████████████████| 88 kB 3.8 MB/s \n",
            "\u001b[?25hRequirement already satisfied: pandas in /usr/local/lib/python3.7/dist-packages (from pandas-ta==0.2.45b) (1.1.5)\n",
            "Requirement already satisfied: python-dateutil>=2.7.3 in /usr/local/lib/python3.7/dist-packages (from pandas->pandas-ta==0.2.45b) (2.8.2)\n",
            "Requirement already satisfied: pytz>=2017.2 in /usr/local/lib/python3.7/dist-packages (from pandas->pandas-ta==0.2.45b) (2018.9)\n",
            "Requirement already satisfied: numpy>=1.15.4 in /usr/local/lib/python3.7/dist-packages (from pandas->pandas-ta==0.2.45b) (1.19.5)\n",
            "Requirement already satisfied: six>=1.5 in /usr/local/lib/python3.7/dist-packages (from python-dateutil>=2.7.3->pandas->pandas-ta==0.2.45b) (1.15.0)\n",
            "Building wheels for collected packages: pandas-ta\n",
            "  Building wheel for pandas-ta (setup.py) ... \u001b[?25l\u001b[?25hdone\n",
            "  Created wheel for pandas-ta: filename=pandas_ta-0.2.45b0-py3-none-any.whl size=175303 sha256=6bd78840d3ed8f6b919a427830b78f42e935172581eca7f646606a84a192ca82\n",
            "  Stored in directory: /root/.cache/pip/wheels/b1/49/60/e674e28ae57160651c6198b76e1714a0b175e44e022fcd5137\n",
            "Successfully built pandas-ta\n",
            "Installing collected packages: pandas-ta\n",
            "Successfully installed pandas-ta-0.2.45b0\n"
          ]
        }
      ]
    },
    {
      "cell_type": "code",
      "metadata": {
        "id": "K0B7knnQrSGM"
      },
      "source": [
        "#Importing dependencies#\n",
        "from pykalman import KalmanFilter\n",
        "import numpy as np\n",
        "import pylab as pl\n",
        "import pandas as pd\n",
        "import yfinance as yf\n",
        "from scipy import poly1d\n",
        "from datetime import datetime\n",
        "import pandas_ta as ta\n",
        "import matplotlib.pyplot as plt\n",
        "%matplotlib inline"
      ],
      "execution_count": 2,
      "outputs": []
    },
    {
      "cell_type": "code",
      "metadata": {
        "id": "q1AA0W40DJrx"
      },
      "source": [
        "pd.options.mode.chained_assignment = None"
      ],
      "execution_count": 3,
      "outputs": []
    },
    {
      "cell_type": "code",
      "metadata": {
        "id": "x3Lx3gzkxLj3"
      },
      "source": [
        "#ticker = pd.read_csv('https://raw.githubusercontent.com/anirbanghoshsbi/data/main/ind_niftybanklist.csv')"
      ],
      "execution_count": 4,
      "outputs": []
    },
    {
      "cell_type": "code",
      "metadata": {
        "id": "YbRMeZrxsEuO"
      },
      "source": [
        "ticker = pd.read_csv('https://raw.githubusercontent.com/anirbanghoshsbi/data/main/ind_nifty50list.csv')\n",
        "START = \"2013-01-01\""
      ],
      "execution_count": 5,
      "outputs": []
    },
    {
      "cell_type": "code",
      "metadata": {
        "colab": {
          "base_uri": "https://localhost:8080/"
        },
        "id": "CAgSzrJ08lOj",
        "outputId": "e97e0762-919e-42da-a4d2-7f4cd6ca395d"
      },
      "source": [
        "nifty=yf.download('^nsei',start=START)"
      ],
      "execution_count": 6,
      "outputs": [
        {
          "output_type": "stream",
          "name": "stdout",
          "text": [
            "\r[*********************100%***********************]  1 of 1 completed\n"
          ]
        }
      ]
    },
    {
      "cell_type": "code",
      "metadata": {
        "id": "kjfwjEr7rbRF",
        "colab": {
          "base_uri": "https://localhost:8080/"
        },
        "outputId": "e2cb013e-62e6-45f2-ed46-f9f9b633bcf5"
      },
      "source": [
        "lst=[]\n",
        "for i in range(len(ticker)):\n",
        "  \n",
        "  dfi = yf.download(str(ticker.Symbol.iloc[i])+'.ns', start=START)\n",
        "  df = dfi[['Adj Close']]\n",
        "  f = KalmanFilter(transition_matrices = [1],\n",
        "                    observation_matrices = [1],\n",
        "                    initial_state_mean = 0,\n",
        "                    initial_state_covariance = 1,\n",
        "                    observation_covariance = 1,\n",
        "                    transition_covariance = 0.0001)\n",
        "  mean, cov = f.filter(df['Adj Close'].values)\n",
        "  mean, std = mean.squeeze(), np.std(cov.squeeze())\n",
        "  var = 'kalman'\n",
        "  df[var]=df['Adj Close'].values - mean\n",
        "  \n",
        "  lst.append(df)"
      ],
      "execution_count": 7,
      "outputs": [
        {
          "output_type": "stream",
          "name": "stdout",
          "text": [
            "[*********************100%***********************]  1 of 1 completed\n",
            "[*********************100%***********************]  1 of 1 completed\n",
            "[*********************100%***********************]  1 of 1 completed\n",
            "[*********************100%***********************]  1 of 1 completed\n",
            "[*********************100%***********************]  1 of 1 completed\n",
            "[*********************100%***********************]  1 of 1 completed\n",
            "[*********************100%***********************]  1 of 1 completed\n",
            "[*********************100%***********************]  1 of 1 completed\n",
            "[*********************100%***********************]  1 of 1 completed\n",
            "[*********************100%***********************]  1 of 1 completed\n",
            "[*********************100%***********************]  1 of 1 completed\n",
            "[*********************100%***********************]  1 of 1 completed\n",
            "[*********************100%***********************]  1 of 1 completed\n",
            "[*********************100%***********************]  1 of 1 completed\n",
            "[*********************100%***********************]  1 of 1 completed\n",
            "[*********************100%***********************]  1 of 1 completed\n",
            "[*********************100%***********************]  1 of 1 completed\n",
            "[*********************100%***********************]  1 of 1 completed\n",
            "[*********************100%***********************]  1 of 1 completed\n",
            "[*********************100%***********************]  1 of 1 completed\n",
            "[*********************100%***********************]  1 of 1 completed\n",
            "[*********************100%***********************]  1 of 1 completed\n",
            "[*********************100%***********************]  1 of 1 completed\n",
            "[*********************100%***********************]  1 of 1 completed\n",
            "[*********************100%***********************]  1 of 1 completed\n",
            "[*********************100%***********************]  1 of 1 completed\n",
            "[*********************100%***********************]  1 of 1 completed\n",
            "[*********************100%***********************]  1 of 1 completed\n",
            "[*********************100%***********************]  1 of 1 completed\n",
            "[*********************100%***********************]  1 of 1 completed\n",
            "[*********************100%***********************]  1 of 1 completed\n",
            "[*********************100%***********************]  1 of 1 completed\n",
            "[*********************100%***********************]  1 of 1 completed\n",
            "[*********************100%***********************]  1 of 1 completed\n",
            "[*********************100%***********************]  1 of 1 completed\n",
            "[*********************100%***********************]  1 of 1 completed\n",
            "[*********************100%***********************]  1 of 1 completed\n",
            "[*********************100%***********************]  1 of 1 completed\n",
            "[*********************100%***********************]  1 of 1 completed\n",
            "[*********************100%***********************]  1 of 1 completed\n",
            "[*********************100%***********************]  1 of 1 completed\n",
            "[*********************100%***********************]  1 of 1 completed\n",
            "[*********************100%***********************]  1 of 1 completed\n",
            "[*********************100%***********************]  1 of 1 completed\n",
            "[*********************100%***********************]  1 of 1 completed\n",
            "[*********************100%***********************]  1 of 1 completed\n",
            "[*********************100%***********************]  1 of 1 completed\n",
            "[*********************100%***********************]  1 of 1 completed\n",
            "[*********************100%***********************]  1 of 1 completed\n",
            "[*********************100%***********************]  1 of 1 completed\n"
          ]
        }
      ]
    },
    {
      "cell_type": "code",
      "metadata": {
        "id": "eWluogVZrbHW"
      },
      "source": [
        "nlst=[]\n",
        "for i in range(len(ticker)):\n",
        "  nlst.append(lst[i].kalman)\n",
        "  "
      ],
      "execution_count": 8,
      "outputs": []
    },
    {
      "cell_type": "code",
      "metadata": {
        "id": "y9-ZLZZRwLix"
      },
      "source": [
        "df_kalman = pd.DataFrame(nlst).T"
      ],
      "execution_count": 9,
      "outputs": []
    },
    {
      "cell_type": "code",
      "metadata": {
        "id": "V7bgENL_wLgJ"
      },
      "source": [
        "namelist =[]\n",
        "for i in range(1,len(ticker)+1):\n",
        "  namelist.append('kalman_'+str(i))\n",
        "  \n",
        "df_kalman.columns = namelist"
      ],
      "execution_count": 10,
      "outputs": []
    },
    {
      "cell_type": "code",
      "metadata": {
        "id": "AdFj16hYwKzC"
      },
      "source": [
        "def macd_calc(df):\n",
        "  columns=df.columns.tolist()\n",
        "  for var in columns:\n",
        "    macd='macd'+var\n",
        "    macd_s='macd'+'signal'+var\n",
        "    macd_h='hist'+ var\n",
        "    df[macd]=df[var].ewm(span=26, adjust=False).mean()-df[var].ewm(span=50, adjust=False).mean()\n",
        "    df[macd_s]=df[macd].ewm(span=18,adjust=False).mean()\n",
        "    df[macd_h]=df[macd]-df[macd_s]\n",
        "  return df"
      ],
      "execution_count": 11,
      "outputs": []
    },
    {
      "cell_type": "code",
      "metadata": {
        "id": "tN5FGb1grbC2"
      },
      "source": [
        "final_kalman=macd_calc(df_kalman)"
      ],
      "execution_count": 12,
      "outputs": []
    },
    {
      "cell_type": "code",
      "metadata": {
        "colab": {
          "base_uri": "https://localhost:8080/",
          "height": 226
        },
        "id": "9zq6kFSTrbAl",
        "outputId": "67bc8936-520c-4472-cac1-ec46b6d4836d"
      },
      "source": [
        "final_kalman.tail(2)"
      ],
      "execution_count": 13,
      "outputs": [
        {
          "output_type": "execute_result",
          "data": {
            "text/html": [
              "<div>\n",
              "<style scoped>\n",
              "    .dataframe tbody tr th:only-of-type {\n",
              "        vertical-align: middle;\n",
              "    }\n",
              "\n",
              "    .dataframe tbody tr th {\n",
              "        vertical-align: top;\n",
              "    }\n",
              "\n",
              "    .dataframe thead th {\n",
              "        text-align: right;\n",
              "    }\n",
              "</style>\n",
              "<table border=\"1\" class=\"dataframe\">\n",
              "  <thead>\n",
              "    <tr style=\"text-align: right;\">\n",
              "      <th></th>\n",
              "      <th>kalman_1</th>\n",
              "      <th>kalman_2</th>\n",
              "      <th>kalman_3</th>\n",
              "      <th>kalman_4</th>\n",
              "      <th>kalman_5</th>\n",
              "      <th>kalman_6</th>\n",
              "      <th>kalman_7</th>\n",
              "      <th>kalman_8</th>\n",
              "      <th>kalman_9</th>\n",
              "      <th>kalman_10</th>\n",
              "      <th>kalman_11</th>\n",
              "      <th>kalman_12</th>\n",
              "      <th>kalman_13</th>\n",
              "      <th>kalman_14</th>\n",
              "      <th>kalman_15</th>\n",
              "      <th>kalman_16</th>\n",
              "      <th>kalman_17</th>\n",
              "      <th>kalman_18</th>\n",
              "      <th>kalman_19</th>\n",
              "      <th>kalman_20</th>\n",
              "      <th>kalman_21</th>\n",
              "      <th>kalman_22</th>\n",
              "      <th>kalman_23</th>\n",
              "      <th>kalman_24</th>\n",
              "      <th>kalman_25</th>\n",
              "      <th>kalman_26</th>\n",
              "      <th>kalman_27</th>\n",
              "      <th>kalman_28</th>\n",
              "      <th>kalman_29</th>\n",
              "      <th>kalman_30</th>\n",
              "      <th>kalman_31</th>\n",
              "      <th>kalman_32</th>\n",
              "      <th>kalman_33</th>\n",
              "      <th>kalman_34</th>\n",
              "      <th>kalman_35</th>\n",
              "      <th>kalman_36</th>\n",
              "      <th>kalman_37</th>\n",
              "      <th>kalman_38</th>\n",
              "      <th>kalman_39</th>\n",
              "      <th>kalman_40</th>\n",
              "      <th>...</th>\n",
              "      <th>histkalman_37</th>\n",
              "      <th>macdkalman_38</th>\n",
              "      <th>macdsignalkalman_38</th>\n",
              "      <th>histkalman_38</th>\n",
              "      <th>macdkalman_39</th>\n",
              "      <th>macdsignalkalman_39</th>\n",
              "      <th>histkalman_39</th>\n",
              "      <th>macdkalman_40</th>\n",
              "      <th>macdsignalkalman_40</th>\n",
              "      <th>histkalman_40</th>\n",
              "      <th>macdkalman_41</th>\n",
              "      <th>macdsignalkalman_41</th>\n",
              "      <th>histkalman_41</th>\n",
              "      <th>macdkalman_42</th>\n",
              "      <th>macdsignalkalman_42</th>\n",
              "      <th>histkalman_42</th>\n",
              "      <th>macdkalman_43</th>\n",
              "      <th>macdsignalkalman_43</th>\n",
              "      <th>histkalman_43</th>\n",
              "      <th>macdkalman_44</th>\n",
              "      <th>macdsignalkalman_44</th>\n",
              "      <th>histkalman_44</th>\n",
              "      <th>macdkalman_45</th>\n",
              "      <th>macdsignalkalman_45</th>\n",
              "      <th>histkalman_45</th>\n",
              "      <th>macdkalman_46</th>\n",
              "      <th>macdsignalkalman_46</th>\n",
              "      <th>histkalman_46</th>\n",
              "      <th>macdkalman_47</th>\n",
              "      <th>macdsignalkalman_47</th>\n",
              "      <th>histkalman_47</th>\n",
              "      <th>macdkalman_48</th>\n",
              "      <th>macdsignalkalman_48</th>\n",
              "      <th>histkalman_48</th>\n",
              "      <th>macdkalman_49</th>\n",
              "      <th>macdsignalkalman_49</th>\n",
              "      <th>histkalman_49</th>\n",
              "      <th>macdkalman_50</th>\n",
              "      <th>macdsignalkalman_50</th>\n",
              "      <th>histkalman_50</th>\n",
              "    </tr>\n",
              "    <tr>\n",
              "      <th>Date</th>\n",
              "      <th></th>\n",
              "      <th></th>\n",
              "      <th></th>\n",
              "      <th></th>\n",
              "      <th></th>\n",
              "      <th></th>\n",
              "      <th></th>\n",
              "      <th></th>\n",
              "      <th></th>\n",
              "      <th></th>\n",
              "      <th></th>\n",
              "      <th></th>\n",
              "      <th></th>\n",
              "      <th></th>\n",
              "      <th></th>\n",
              "      <th></th>\n",
              "      <th></th>\n",
              "      <th></th>\n",
              "      <th></th>\n",
              "      <th></th>\n",
              "      <th></th>\n",
              "      <th></th>\n",
              "      <th></th>\n",
              "      <th></th>\n",
              "      <th></th>\n",
              "      <th></th>\n",
              "      <th></th>\n",
              "      <th></th>\n",
              "      <th></th>\n",
              "      <th></th>\n",
              "      <th></th>\n",
              "      <th></th>\n",
              "      <th></th>\n",
              "      <th></th>\n",
              "      <th></th>\n",
              "      <th></th>\n",
              "      <th></th>\n",
              "      <th></th>\n",
              "      <th></th>\n",
              "      <th></th>\n",
              "      <th></th>\n",
              "      <th></th>\n",
              "      <th></th>\n",
              "      <th></th>\n",
              "      <th></th>\n",
              "      <th></th>\n",
              "      <th></th>\n",
              "      <th></th>\n",
              "      <th></th>\n",
              "      <th></th>\n",
              "      <th></th>\n",
              "      <th></th>\n",
              "      <th></th>\n",
              "      <th></th>\n",
              "      <th></th>\n",
              "      <th></th>\n",
              "      <th></th>\n",
              "      <th></th>\n",
              "      <th></th>\n",
              "      <th></th>\n",
              "      <th></th>\n",
              "      <th></th>\n",
              "      <th></th>\n",
              "      <th></th>\n",
              "      <th></th>\n",
              "      <th></th>\n",
              "      <th></th>\n",
              "      <th></th>\n",
              "      <th></th>\n",
              "      <th></th>\n",
              "      <th></th>\n",
              "      <th></th>\n",
              "      <th></th>\n",
              "      <th></th>\n",
              "      <th></th>\n",
              "      <th></th>\n",
              "      <th></th>\n",
              "      <th></th>\n",
              "      <th></th>\n",
              "      <th></th>\n",
              "      <th></th>\n",
              "    </tr>\n",
              "  </thead>\n",
              "  <tbody>\n",
              "    <tr>\n",
              "      <th>2021-11-15</th>\n",
              "      <td>67.411820</td>\n",
              "      <td>284.609799</td>\n",
              "      <td>4.249129</td>\n",
              "      <td>-100.969015</td>\n",
              "      <td>1230.806716</td>\n",
              "      <td>4380.695564</td>\n",
              "      <td>15.954013</td>\n",
              "      <td>132.171816</td>\n",
              "      <td>82.567774</td>\n",
              "      <td>49.764133</td>\n",
              "      <td>10.139415</td>\n",
              "      <td>469.571001</td>\n",
              "      <td>35.333285</td>\n",
              "      <td>77.823705</td>\n",
              "      <td>410.431265</td>\n",
              "      <td>124.773689</td>\n",
              "      <td>61.445132</td>\n",
              "      <td>29.857038</td>\n",
              "      <td>-168.939372</td>\n",
              "      <td>60.909599</td>\n",
              "      <td>-5.517403</td>\n",
              "      <td>399.870962</td>\n",
              "      <td>118.224345</td>\n",
              "      <td>24.590116</td>\n",
              "      <td>27.900395</td>\n",
              "      <td>28.984547</td>\n",
              "      <td>284.981025</td>\n",
              "      <td>52.748843</td>\n",
              "      <td>258.913957</td>\n",
              "      <td>397.475754</td>\n",
              "      <td>141.507222</td>\n",
              "      <td>384.767470</td>\n",
              "      <td>22.575087</td>\n",
              "      <td>1353.256250</td>\n",
              "      <td>35.856626</td>\n",
              "      <td>19.088630</td>\n",
              "      <td>342.587574</td>\n",
              "      <td>100.480865</td>\n",
              "      <td>1600.325040</td>\n",
              "      <td>97.274942</td>\n",
              "      <td>...</td>\n",
              "      <td>-24.423715</td>\n",
              "      <td>-14.228593</td>\n",
              "      <td>-8.086434</td>\n",
              "      <td>-6.142159</td>\n",
              "      <td>-111.743921</td>\n",
              "      <td>-195.403887</td>\n",
              "      <td>83.659966</td>\n",
              "      <td>8.903984</td>\n",
              "      <td>7.577010</td>\n",
              "      <td>1.326974</td>\n",
              "      <td>-4.362131</td>\n",
              "      <td>0.071059</td>\n",
              "      <td>-4.433189</td>\n",
              "      <td>-76.313048</td>\n",
              "      <td>-49.750765</td>\n",
              "      <td>-26.562284</td>\n",
              "      <td>-11.156237</td>\n",
              "      <td>-11.640051</td>\n",
              "      <td>0.483814</td>\n",
              "      <td>32.616305</td>\n",
              "      <td>29.690713</td>\n",
              "      <td>2.925592</td>\n",
              "      <td>-45.033853</td>\n",
              "      <td>-41.525451</td>\n",
              "      <td>-3.508401</td>\n",
              "      <td>13.116571</td>\n",
              "      <td>12.663203</td>\n",
              "      <td>0.453369</td>\n",
              "      <td>66.181256</td>\n",
              "      <td>72.258427</td>\n",
              "      <td>-6.077171</td>\n",
              "      <td>-8.263093</td>\n",
              "      <td>-15.535802</td>\n",
              "      <td>7.272709</td>\n",
              "      <td>-10.489225</td>\n",
              "      <td>-83.045845</td>\n",
              "      <td>72.556620</td>\n",
              "      <td>-8.886556</td>\n",
              "      <td>-4.266433</td>\n",
              "      <td>-4.620123</td>\n",
              "    </tr>\n",
              "    <tr>\n",
              "      <th>2021-11-16</th>\n",
              "      <td>65.949036</td>\n",
              "      <td>263.808587</td>\n",
              "      <td>-1.337406</td>\n",
              "      <td>-85.955010</td>\n",
              "      <td>1251.875117</td>\n",
              "      <td>4464.229886</td>\n",
              "      <td>10.300474</td>\n",
              "      <td>124.817410</td>\n",
              "      <td>36.401882</td>\n",
              "      <td>34.170713</td>\n",
              "      <td>9.791014</td>\n",
              "      <td>420.693081</td>\n",
              "      <td>-15.312625</td>\n",
              "      <td>100.661894</td>\n",
              "      <td>377.487444</td>\n",
              "      <td>118.284983</td>\n",
              "      <td>51.527253</td>\n",
              "      <td>29.609508</td>\n",
              "      <td>-108.449538</td>\n",
              "      <td>52.284130</td>\n",
              "      <td>-20.610315</td>\n",
              "      <td>373.071498</td>\n",
              "      <td>109.375112</td>\n",
              "      <td>22.117829</td>\n",
              "      <td>25.840690</td>\n",
              "      <td>10.132712</td>\n",
              "      <td>289.966846</td>\n",
              "      <td>56.877232</td>\n",
              "      <td>245.645144</td>\n",
              "      <td>402.332168</td>\n",
              "      <td>174.008416</td>\n",
              "      <td>908.833288</td>\n",
              "      <td>19.825847</td>\n",
              "      <td>1345.087562</td>\n",
              "      <td>34.757311</td>\n",
              "      <td>18.601678</td>\n",
              "      <td>292.596890</td>\n",
              "      <td>93.540769</td>\n",
              "      <td>716.029247</td>\n",
              "      <td>86.703579</td>\n",
              "      <td>...</td>\n",
              "      <td>-24.989955</td>\n",
              "      <td>-15.171033</td>\n",
              "      <td>-8.832181</td>\n",
              "      <td>-6.338852</td>\n",
              "      <td>-132.602943</td>\n",
              "      <td>-188.793261</td>\n",
              "      <td>56.190318</td>\n",
              "      <td>7.964682</td>\n",
              "      <td>7.617818</td>\n",
              "      <td>0.346864</td>\n",
              "      <td>-4.950412</td>\n",
              "      <td>-0.457517</td>\n",
              "      <td>-4.492895</td>\n",
              "      <td>-74.720649</td>\n",
              "      <td>-52.379174</td>\n",
              "      <td>-22.341475</td>\n",
              "      <td>-11.066519</td>\n",
              "      <td>-11.579679</td>\n",
              "      <td>0.513160</td>\n",
              "      <td>32.454136</td>\n",
              "      <td>29.981600</td>\n",
              "      <td>2.472536</td>\n",
              "      <td>-47.352900</td>\n",
              "      <td>-42.138867</td>\n",
              "      <td>-5.214033</td>\n",
              "      <td>14.330414</td>\n",
              "      <td>12.838699</td>\n",
              "      <td>1.491715</td>\n",
              "      <td>64.776207</td>\n",
              "      <td>71.470825</td>\n",
              "      <td>-6.694618</td>\n",
              "      <td>-6.812485</td>\n",
              "      <td>-14.617558</td>\n",
              "      <td>7.805074</td>\n",
              "      <td>-8.534464</td>\n",
              "      <td>-75.202542</td>\n",
              "      <td>66.668077</td>\n",
              "      <td>-9.023506</td>\n",
              "      <td>-4.767177</td>\n",
              "      <td>-4.256329</td>\n",
              "    </tr>\n",
              "  </tbody>\n",
              "</table>\n",
              "<p>2 rows × 200 columns</p>\n",
              "</div>"
            ],
            "text/plain": [
              "             kalman_1    kalman_2  ...  macdsignalkalman_50  histkalman_50\n",
              "Date                               ...                                    \n",
              "2021-11-15  67.411820  284.609799  ...            -4.266433      -4.620123\n",
              "2021-11-16  65.949036  263.808587  ...            -4.767177      -4.256329\n",
              "\n",
              "[2 rows x 200 columns]"
            ]
          },
          "metadata": {},
          "execution_count": 13
        }
      ]
    },
    {
      "cell_type": "code",
      "metadata": {
        "id": "ssI2nLbIra91"
      },
      "source": [
        "features = final_kalman.columns.tolist()"
      ],
      "execution_count": 14,
      "outputs": []
    },
    {
      "cell_type": "code",
      "metadata": {
        "id": "kaS_OPDZ03HH"
      },
      "source": [
        "feats_set1=[feats for feats in features if feats.startswith('hist')]"
      ],
      "execution_count": 15,
      "outputs": []
    },
    {
      "cell_type": "code",
      "metadata": {
        "id": "p7NzUo7B1de-"
      },
      "source": [
        "final_dataframe=final_kalman[feats_set1]"
      ],
      "execution_count": 16,
      "outputs": []
    },
    {
      "cell_type": "code",
      "metadata": {
        "id": "G3n2Ns_U2h01"
      },
      "source": [
        "solution=np.sign(final_dataframe)"
      ],
      "execution_count": 17,
      "outputs": []
    },
    {
      "cell_type": "code",
      "metadata": {
        "id": "zvUVJRgX3H61"
      },
      "source": [
        "solution['final']=solution.sum(axis=1)"
      ],
      "execution_count": 18,
      "outputs": []
    },
    {
      "cell_type": "code",
      "metadata": {
        "colab": {
          "base_uri": "https://localhost:8080/",
          "height": 197
        },
        "id": "OA_hL4Ru68WZ",
        "outputId": "50b84349-b54b-43de-d9dc-6ca7c3d282a9"
      },
      "source": [
        "solution.tail(2)"
      ],
      "execution_count": 19,
      "outputs": [
        {
          "output_type": "execute_result",
          "data": {
            "text/html": [
              "<div>\n",
              "<style scoped>\n",
              "    .dataframe tbody tr th:only-of-type {\n",
              "        vertical-align: middle;\n",
              "    }\n",
              "\n",
              "    .dataframe tbody tr th {\n",
              "        vertical-align: top;\n",
              "    }\n",
              "\n",
              "    .dataframe thead th {\n",
              "        text-align: right;\n",
              "    }\n",
              "</style>\n",
              "<table border=\"1\" class=\"dataframe\">\n",
              "  <thead>\n",
              "    <tr style=\"text-align: right;\">\n",
              "      <th></th>\n",
              "      <th>histkalman_1</th>\n",
              "      <th>histkalman_2</th>\n",
              "      <th>histkalman_3</th>\n",
              "      <th>histkalman_4</th>\n",
              "      <th>histkalman_5</th>\n",
              "      <th>histkalman_6</th>\n",
              "      <th>histkalman_7</th>\n",
              "      <th>histkalman_8</th>\n",
              "      <th>histkalman_9</th>\n",
              "      <th>histkalman_10</th>\n",
              "      <th>histkalman_11</th>\n",
              "      <th>histkalman_12</th>\n",
              "      <th>histkalman_13</th>\n",
              "      <th>histkalman_14</th>\n",
              "      <th>histkalman_15</th>\n",
              "      <th>histkalman_16</th>\n",
              "      <th>histkalman_17</th>\n",
              "      <th>histkalman_18</th>\n",
              "      <th>histkalman_19</th>\n",
              "      <th>histkalman_20</th>\n",
              "      <th>histkalman_21</th>\n",
              "      <th>histkalman_22</th>\n",
              "      <th>histkalman_23</th>\n",
              "      <th>histkalman_24</th>\n",
              "      <th>histkalman_25</th>\n",
              "      <th>histkalman_26</th>\n",
              "      <th>histkalman_27</th>\n",
              "      <th>histkalman_28</th>\n",
              "      <th>histkalman_29</th>\n",
              "      <th>histkalman_30</th>\n",
              "      <th>histkalman_31</th>\n",
              "      <th>histkalman_32</th>\n",
              "      <th>histkalman_33</th>\n",
              "      <th>histkalman_34</th>\n",
              "      <th>histkalman_35</th>\n",
              "      <th>histkalman_36</th>\n",
              "      <th>histkalman_37</th>\n",
              "      <th>histkalman_38</th>\n",
              "      <th>histkalman_39</th>\n",
              "      <th>histkalman_40</th>\n",
              "      <th>histkalman_41</th>\n",
              "      <th>histkalman_42</th>\n",
              "      <th>histkalman_43</th>\n",
              "      <th>histkalman_44</th>\n",
              "      <th>histkalman_45</th>\n",
              "      <th>histkalman_46</th>\n",
              "      <th>histkalman_47</th>\n",
              "      <th>histkalman_48</th>\n",
              "      <th>histkalman_49</th>\n",
              "      <th>histkalman_50</th>\n",
              "      <th>final</th>\n",
              "    </tr>\n",
              "    <tr>\n",
              "      <th>Date</th>\n",
              "      <th></th>\n",
              "      <th></th>\n",
              "      <th></th>\n",
              "      <th></th>\n",
              "      <th></th>\n",
              "      <th></th>\n",
              "      <th></th>\n",
              "      <th></th>\n",
              "      <th></th>\n",
              "      <th></th>\n",
              "      <th></th>\n",
              "      <th></th>\n",
              "      <th></th>\n",
              "      <th></th>\n",
              "      <th></th>\n",
              "      <th></th>\n",
              "      <th></th>\n",
              "      <th></th>\n",
              "      <th></th>\n",
              "      <th></th>\n",
              "      <th></th>\n",
              "      <th></th>\n",
              "      <th></th>\n",
              "      <th></th>\n",
              "      <th></th>\n",
              "      <th></th>\n",
              "      <th></th>\n",
              "      <th></th>\n",
              "      <th></th>\n",
              "      <th></th>\n",
              "      <th></th>\n",
              "      <th></th>\n",
              "      <th></th>\n",
              "      <th></th>\n",
              "      <th></th>\n",
              "      <th></th>\n",
              "      <th></th>\n",
              "      <th></th>\n",
              "      <th></th>\n",
              "      <th></th>\n",
              "      <th></th>\n",
              "      <th></th>\n",
              "      <th></th>\n",
              "      <th></th>\n",
              "      <th></th>\n",
              "      <th></th>\n",
              "      <th></th>\n",
              "      <th></th>\n",
              "      <th></th>\n",
              "      <th></th>\n",
              "      <th></th>\n",
              "    </tr>\n",
              "  </thead>\n",
              "  <tbody>\n",
              "    <tr>\n",
              "      <th>2021-11-15</th>\n",
              "      <td>-1.0</td>\n",
              "      <td>-1.0</td>\n",
              "      <td>-1.0</td>\n",
              "      <td>-1.0</td>\n",
              "      <td>-1.0</td>\n",
              "      <td>-1.0</td>\n",
              "      <td>-1.0</td>\n",
              "      <td>-1.0</td>\n",
              "      <td>-1.0</td>\n",
              "      <td>1.0</td>\n",
              "      <td>-1.0</td>\n",
              "      <td>-1.0</td>\n",
              "      <td>1.0</td>\n",
              "      <td>-1.0</td>\n",
              "      <td>1.0</td>\n",
              "      <td>-1.0</td>\n",
              "      <td>-1.0</td>\n",
              "      <td>-1.0</td>\n",
              "      <td>-1.0</td>\n",
              "      <td>-1.0</td>\n",
              "      <td>-1.0</td>\n",
              "      <td>1.0</td>\n",
              "      <td>1.0</td>\n",
              "      <td>-1.0</td>\n",
              "      <td>-1.0</td>\n",
              "      <td>-1.0</td>\n",
              "      <td>1.0</td>\n",
              "      <td>1.0</td>\n",
              "      <td>-1.0</td>\n",
              "      <td>1.0</td>\n",
              "      <td>1.0</td>\n",
              "      <td>-1.0</td>\n",
              "      <td>-1.0</td>\n",
              "      <td>-1.0</td>\n",
              "      <td>-1.0</td>\n",
              "      <td>-1.0</td>\n",
              "      <td>-1.0</td>\n",
              "      <td>-1.0</td>\n",
              "      <td>1.0</td>\n",
              "      <td>1.0</td>\n",
              "      <td>-1.0</td>\n",
              "      <td>-1.0</td>\n",
              "      <td>1.0</td>\n",
              "      <td>1.0</td>\n",
              "      <td>-1.0</td>\n",
              "      <td>1.0</td>\n",
              "      <td>-1.0</td>\n",
              "      <td>1.0</td>\n",
              "      <td>1.0</td>\n",
              "      <td>-1.0</td>\n",
              "      <td>-18.0</td>\n",
              "    </tr>\n",
              "    <tr>\n",
              "      <th>2021-11-16</th>\n",
              "      <td>-1.0</td>\n",
              "      <td>-1.0</td>\n",
              "      <td>-1.0</td>\n",
              "      <td>-1.0</td>\n",
              "      <td>-1.0</td>\n",
              "      <td>-1.0</td>\n",
              "      <td>-1.0</td>\n",
              "      <td>-1.0</td>\n",
              "      <td>-1.0</td>\n",
              "      <td>1.0</td>\n",
              "      <td>-1.0</td>\n",
              "      <td>-1.0</td>\n",
              "      <td>1.0</td>\n",
              "      <td>-1.0</td>\n",
              "      <td>1.0</td>\n",
              "      <td>-1.0</td>\n",
              "      <td>-1.0</td>\n",
              "      <td>-1.0</td>\n",
              "      <td>-1.0</td>\n",
              "      <td>-1.0</td>\n",
              "      <td>-1.0</td>\n",
              "      <td>1.0</td>\n",
              "      <td>-1.0</td>\n",
              "      <td>-1.0</td>\n",
              "      <td>-1.0</td>\n",
              "      <td>-1.0</td>\n",
              "      <td>1.0</td>\n",
              "      <td>1.0</td>\n",
              "      <td>-1.0</td>\n",
              "      <td>1.0</td>\n",
              "      <td>1.0</td>\n",
              "      <td>1.0</td>\n",
              "      <td>-1.0</td>\n",
              "      <td>-1.0</td>\n",
              "      <td>-1.0</td>\n",
              "      <td>-1.0</td>\n",
              "      <td>-1.0</td>\n",
              "      <td>-1.0</td>\n",
              "      <td>1.0</td>\n",
              "      <td>1.0</td>\n",
              "      <td>-1.0</td>\n",
              "      <td>-1.0</td>\n",
              "      <td>1.0</td>\n",
              "      <td>1.0</td>\n",
              "      <td>-1.0</td>\n",
              "      <td>1.0</td>\n",
              "      <td>-1.0</td>\n",
              "      <td>1.0</td>\n",
              "      <td>1.0</td>\n",
              "      <td>-1.0</td>\n",
              "      <td>-18.0</td>\n",
              "    </tr>\n",
              "  </tbody>\n",
              "</table>\n",
              "</div>"
            ],
            "text/plain": [
              "            histkalman_1  histkalman_2  ...  histkalman_50  final\n",
              "Date                                    ...                      \n",
              "2021-11-15          -1.0          -1.0  ...           -1.0  -18.0\n",
              "2021-11-16          -1.0          -1.0  ...           -1.0  -18.0\n",
              "\n",
              "[2 rows x 51 columns]"
            ]
          },
          "metadata": {},
          "execution_count": 19
        }
      ]
    },
    {
      "cell_type": "code",
      "metadata": {
        "colab": {
          "base_uri": "https://localhost:8080/",
          "height": 296
        },
        "id": "VX-QwBkU3Jys",
        "outputId": "8ab89bf5-e131-445d-ba5e-2cdc3f549802"
      },
      "source": [
        "solution.final[-100:].plot()"
      ],
      "execution_count": 20,
      "outputs": [
        {
          "output_type": "execute_result",
          "data": {
            "text/plain": [
              "<matplotlib.axes._subplots.AxesSubplot at 0x7f7cbd82aa10>"
            ]
          },
          "metadata": {},
          "execution_count": 20
        },
        {
          "output_type": "display_data",
          "data": {
            "image/png": "[encoded data removed]",
            "text/plain": [
              "<Figure size 432x288 with 1 Axes>"
            ]
          },
          "metadata": {
            "needs_background": "light"
          }
        }
      ]
    },
    {
      "cell_type": "code",
      "metadata": {
        "id": "eHGbm3jKTN6u"
      },
      "source": [
        "l=700"
      ],
      "execution_count": 21,
      "outputs": []
    },
    {
      "cell_type": "code",
      "metadata": {
        "id": "uKnGigwKSyKD"
      },
      "source": [
        "nifty=nifty[-l:]\n",
        "solution=solution[-l:]"
      ],
      "execution_count": 22,
      "outputs": []
    },
    {
      "cell_type": "code",
      "metadata": {
        "colab": {
          "base_uri": "https://localhost:8080/",
          "height": 460
        },
        "id": "0JHISukB8NHk",
        "outputId": "e92df506-72cb-4169-ce44-2f855bc11517"
      },
      "source": [
        "fig, ax = plt.subplots(2,1,figsize=(17,7),sharex=True)\n",
        "ax[0].plot(nifty.loc[:, :].index, nifty.loc[:, 'Close'],'r', label='Close')\n",
        "ax[1].plot(solution.loc[:, :].index, solution.loc[:, 'final'],'b', label='Signals')\n",
        "ax[1].plot(solution.loc[:, :].index, solution.loc[:, 'final'],'r*', label='Signals')\n",
        "#ax[1].plot(nifty.iloc[:, :].index, nifty.loc[:, 'Close'], label='Nifty')\n",
        "plt.suptitle('Signals')\n",
        "ax[0].legend()\n",
        "ax[1].legend()\n",
        "ax[1].axhline(y=0)\n",
        "plt.show()"
      ],
      "execution_count": 23,
      "outputs": [
        {
          "output_type": "display_data",
          "data": {
            "image/png": "[encoded data removed]",
            "text/plain": [
              "<Figure size 1224x504 with 2 Axes>"
            ]
          },
          "metadata": {
            "needs_background": "light"
          }
        }
      ]
    },
    {
      "cell_type": "code",
      "metadata": {
        "id": "euhAaTaXBnKR"
      },
      "source": [
        "solution['signals']=np.where(solution['final']>0,1,-1)"
      ],
      "execution_count": 24,
      "outputs": []
    },
    {
      "cell_type": "code",
      "metadata": {
        "id": "kymGBf4iKPyT",
        "colab": {
          "base_uri": "https://localhost:8080/"
        },
        "outputId": "6596690b-f02a-4546-8bcf-ec1cfc841262"
      },
      "source": [
        "if solution['signals'].iloc[-1]!=solution['signals'].iloc[-2]:\n",
        "  var= solution['signals'].iloc[-1]\n",
        "  print(f'signal changed to : {var}')\n",
        "else :\n",
        "  var= solution['signals'].iloc[-1]\n",
        "  print(f'signal unchanged (1:stay long , -1: stay short) : {var}')"
      ],
      "execution_count": 25,
      "outputs": [
        {
          "output_type": "stream",
          "name": "stdout",
          "text": [
            "signal unchanged (1:stay long , -1: stay short) : -1\n"
          ]
        }
      ]
    },
    {
      "cell_type": "code",
      "metadata": {
        "colab": {
          "base_uri": "https://localhost:8080/",
          "height": 458
        },
        "id": "YdF0iAzVswKr",
        "outputId": "bc6cade4-a661-4574-bb69-db1fb5f9e722"
      },
      "source": [
        "# Calculate daily returns\n",
        "nifty['Return'] = nifty.Close.pct_change()\n",
        " \n",
        "# Calculate strategy returns\n",
        "nifty['Strategy_F'] = nifty.Return * solution.signals.shift(1)\n",
        "\n",
        "# Calculate geometric returns\n",
        "geometric_returns = ((nifty.Strategy_F+1).cumprod()-1)\n",
        "#np.sum(np.log(data/data.shift())*portfolio, axis=1)\n",
        "# Plot geometric returns\n",
        "geometric_returns.plot(figsize=(10, 7),color='g')\n",
        "volatility = geometric_returns.std() * np.sqrt(252)\n",
        "sharpe_ratio = (geometric_returns.mean() - 0.05) / volatility \n",
        "plt.ylabel(\"Strategy Returns (%)\")\n",
        "plt.xlabel(\"Date\")\n",
        "plt.show()\n",
        "print('sharpe ratio : ' ,sharpe_ratio)\n",
        "\n",
        "std_neg = geometric_returns[geometric_returns<0].std()*np.sqrt(252)\n",
        "sortino_ratio=(geometric_returns.mean() - 0.05)/std_neg\n",
        "print('sortino ratio : ' , sortino_ratio)"
      ],
      "execution_count": 26,
      "outputs": [
        {
          "output_type": "display_data",
          "data": {
            "image/png": "[encoded data removed]",
            "text/plain": [
              "<Figure size 720x504 with 1 Axes>"
            ]
          },
          "metadata": {
            "needs_background": "light"
          }
        },
        {
          "output_type": "stream",
          "name": "stdout",
          "text": [
            "sharpe ratio :  0.0746051950514146\n",
            "sortino ratio :  1.5301089173543208\n"
          ]
        }
      ]
    },
    {
      "cell_type": "code",
      "metadata": {
        "id": "gCsFZ0_c5pnP",
        "colab": {
          "base_uri": "https://localhost:8080/"
        },
        "outputId": "1422c5d8-296c-44bf-d9ff-dea8134ecbb1"
      },
      "source": [
        "def max_drawdown(return_series):\n",
        "    comp_ret =return_series\n",
        "    peak = comp_ret.expanding(min_periods=1).max()\n",
        "    dd = (comp_ret/peak)-1\n",
        "    return dd.min()\n",
        "geometric_returns=pd.DataFrame(geometric_returns)\n",
        "\n",
        "max_drawdowns= geometric_returns.apply(max_drawdown)\n",
        "print('max_drawdown : ' , max_drawdowns)"
      ],
      "execution_count": 27,
      "outputs": [
        {
          "output_type": "stream",
          "name": "stdout",
          "text": [
            "max_drawdown :  Strategy_F   -3.332565\n",
            "dtype: float64\n"
          ]
        }
      ]
    },
    {
      "cell_type": "code",
      "metadata": {
        "id": "AZskaRb1x9aX",
        "colab": {
          "base_uri": "https://localhost:8080/",
          "height": 460
        },
        "outputId": "e6f4bc2e-38c0-4fe9-8492-7ee8dfe88919"
      },
      "source": [
        "fig, ax = plt.subplots(2,1,figsize=(17,7),sharex=True)\n",
        "ax[0].plot(nifty.loc[:, :].index, nifty.loc[:, 'Close'],'r', label='Close')\n",
        "ax[1].plot(geometric_returns.index,geometric_returns,'g', label='Signals')\n",
        "#ax[1].plot(nifty.iloc[:, :].index, nifty.loc[:, 'Close'], label='Nifty')\n",
        "plt.suptitle('Signals')\n",
        "ax[0].legend()\n",
        "ax[1].legend()\n",
        "plt.show()"
      ],
      "execution_count": 28,
      "outputs": [
        {
          "output_type": "display_data",
          "data": {
            "image/png": "[encoded data removed]",
            "text/plain": [
              "<Figure size 1224x504 with 2 Axes>"
            ]
          },
          "metadata": {
            "needs_background": "light"
          }
        }
      ]
    },
    {
      "cell_type": "code",
      "metadata": {
        "id": "zUQWSJl8YUkB",
        "colab": {
          "base_uri": "https://localhost:8080/",
          "height": 143
        },
        "outputId": "c23c8ea6-8df9-429a-db83-1624f3a3afc5"
      },
      "source": [
        "nifty.tail(2)"
      ],
      "execution_count": 29,
      "outputs": [
        {
          "output_type": "execute_result",
          "data": {
            "text/html": [
              "<div>\n",
              "<style scoped>\n",
              "    .dataframe tbody tr th:only-of-type {\n",
              "        vertical-align: middle;\n",
              "    }\n",
              "\n",
              "    .dataframe tbody tr th {\n",
              "        vertical-align: top;\n",
              "    }\n",
              "\n",
              "    .dataframe thead th {\n",
              "        text-align: right;\n",
              "    }\n",
              "</style>\n",
              "<table border=\"1\" class=\"dataframe\">\n",
              "  <thead>\n",
              "    <tr style=\"text-align: right;\">\n",
              "      <th></th>\n",
              "      <th>Open</th>\n",
              "      <th>High</th>\n",
              "      <th>Low</th>\n",
              "      <th>Close</th>\n",
              "      <th>Adj Close</th>\n",
              "      <th>Volume</th>\n",
              "      <th>Return</th>\n",
              "      <th>Strategy_F</th>\n",
              "    </tr>\n",
              "    <tr>\n",
              "      <th>Date</th>\n",
              "      <th></th>\n",
              "      <th></th>\n",
              "      <th></th>\n",
              "      <th></th>\n",
              "      <th></th>\n",
              "      <th></th>\n",
              "      <th></th>\n",
              "      <th></th>\n",
              "    </tr>\n",
              "  </thead>\n",
              "  <tbody>\n",
              "    <tr>\n",
              "      <th>2021-11-15</th>\n",
              "      <td>18140.949219</td>\n",
              "      <td>18210.150391</td>\n",
              "      <td>18071.300781</td>\n",
              "      <td>18109.449219</td>\n",
              "      <td>18109.449219</td>\n",
              "      <td>280400</td>\n",
              "      <td>0.000370</td>\n",
              "      <td>-0.000370</td>\n",
              "    </tr>\n",
              "    <tr>\n",
              "      <th>2021-11-16</th>\n",
              "      <td>18127.050781</td>\n",
              "      <td>18132.650391</td>\n",
              "      <td>17985.400391</td>\n",
              "      <td>18029.199219</td>\n",
              "      <td>18029.199219</td>\n",
              "      <td>0</td>\n",
              "      <td>-0.004431</td>\n",
              "      <td>0.004431</td>\n",
              "    </tr>\n",
              "  </tbody>\n",
              "</table>\n",
              "</div>"
            ],
            "text/plain": [
              "                    Open          High  ...    Return  Strategy_F\n",
              "Date                                    ...                      \n",
              "2021-11-15  18140.949219  18210.150391  ...  0.000370   -0.000370\n",
              "2021-11-16  18127.050781  18132.650391  ... -0.004431    0.004431\n",
              "\n",
              "[2 rows x 8 columns]"
            ]
          },
          "metadata": {},
          "execution_count": 29
        }
      ]
    },
    {
      "cell_type": "code",
      "metadata": {
        "id": "PjZCMXzd_4s4",
        "colab": {
          "base_uri": "https://localhost:8080/"
        },
        "outputId": "690063f3-d0f8-4721-ea41-98d461b2a3d3"
      },
      "source": [
        "print('change in nifty from yesterday' ,(nifty.Close.iloc[-1]-nifty.Close.iloc[-2])/nifty.Close.iloc[-2]*100)"
      ],
      "execution_count": 30,
      "outputs": [
        {
          "output_type": "stream",
          "name": "stdout",
          "text": [
            "change in nifty from yesterday -0.443138822338735\n"
          ]
        }
      ]
    }
  ]
}