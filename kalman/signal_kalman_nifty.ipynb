{
  "nbformat": 4,
  "nbformat_minor": 0,
  "metadata": {
    "colab": {
      "name": "signal_kalman_.ipynb",
      "provenance": [],
      "authorship_tag": "ABX9TyM3TY9iLycntNHkvvDbFPjQ",
      "include_colab_link": true
    },
    "kernelspec": {
      "name": "python3",
      "display_name": "Python 3"
    },
    "language_info": {
      "name": "python"
    }
  },
  "cells": [
    {
      "cell_type": "markdown",
      "metadata": {
        "id": "view-in-github",
        "colab_type": "text"
      },
      "source": [
        "<a href=\"https://colab.research.google.com/github/anirbanghoshsbi/.github.io/blob/master/kalman/signal_kalman_nifty.ipynb\" target=\"_parent\"><img src=\"https://colab.research.google.com/assets/colab-badge.svg\" alt=\"Open In Colab\"/></a>"
      ]
    },
    {
      "cell_type": "code",
      "metadata": {
        "id": "YzwNO2rurRH3",
        "colab": {
          "base_uri": "https://localhost:8080/"
        },
        "outputId": "90107671-15d6-46ac-ab3f-76899b10483d"
      },
      "source": [
        "!pip install pykalman\n",
        "!pip install yfinance\n",
        "!pip install pandas-ta==0.2.45b"
      ],
      "execution_count": null,
      "outputs": [
        {
          "output_type": "stream",
          "name": "stdout",
          "text": [
            "Collecting pykalman\n",
            "  Downloading pykalman-0.9.5.tar.gz (228 kB)\n",
            "\u001b[?25l\r\u001b[K     |█▍                              | 10 kB 17.7 MB/s eta 0:00:01\r\u001b[K     |██▉                             | 20 kB 11.8 MB/s eta 0:00:01\r\u001b[K     |████▎                           | 30 kB 8.8 MB/s eta 0:00:01\r\u001b[K     |█████▊                          | 40 kB 8.4 MB/s eta 0:00:01\r\u001b[K     |███████▏                        | 51 kB 4.4 MB/s eta 0:00:01\r\u001b[K     |████████▋                       | 61 kB 4.4 MB/s eta 0:00:01\r\u001b[K     |██████████                      | 71 kB 4.8 MB/s eta 0:00:01\r\u001b[K     |███████████▌                    | 81 kB 5.4 MB/s eta 0:00:01\r\u001b[K     |████████████▉                   | 92 kB 3.9 MB/s eta 0:00:01\r\u001b[K     |██████████████▎                 | 102 kB 4.2 MB/s eta 0:00:01\r\u001b[K     |███████████████▊                | 112 kB 4.2 MB/s eta 0:00:01\r\u001b[K     |█████████████████▏              | 122 kB 4.2 MB/s eta 0:00:01\r\u001b[K     |██████████████████▋             | 133 kB 4.2 MB/s eta 0:00:01\r\u001b[K     |████████████████████            | 143 kB 4.2 MB/s eta 0:00:01\r\u001b[K     |█████████████████████▌          | 153 kB 4.2 MB/s eta 0:00:01\r\u001b[K     |███████████████████████         | 163 kB 4.2 MB/s eta 0:00:01\r\u001b[K     |████████████████████████▍       | 174 kB 4.2 MB/s eta 0:00:01\r\u001b[K     |█████████████████████████▊      | 184 kB 4.2 MB/s eta 0:00:01\r\u001b[K     |███████████████████████████▏    | 194 kB 4.2 MB/s eta 0:00:01\r\u001b[K     |████████████████████████████▋   | 204 kB 4.2 MB/s eta 0:00:01\r\u001b[K     |██████████████████████████████  | 215 kB 4.2 MB/s eta 0:00:01\r\u001b[K     |███████████████████████████████▌| 225 kB 4.2 MB/s eta 0:00:01\r\u001b[K     |████████████████████████████████| 228 kB 4.2 MB/s \n",
            "\u001b[?25hBuilding wheels for collected packages: pykalman\n",
            "  Building wheel for pykalman (setup.py) ... \u001b[?25l\u001b[?25hdone\n",
            "  Created wheel for pykalman: filename=pykalman-0.9.5-py3-none-any.whl size=48461 sha256=77449b396750d255b6471b1817f19074cd62b98986ecfbb7353c1615eefc00b2\n",
            "  Stored in directory: /root/.cache/pip/wheels/6a/04/02/2dda6ea59c66d9e685affc8af3a31ad3a5d87b7311689efce6\n",
            "Successfully built pykalman\n",
            "Installing collected packages: pykalman\n",
            "Successfully installed pykalman-0.9.5\n",
            "Collecting yfinance\n",
            "  Downloading yfinance-0.1.64.tar.gz (26 kB)\n",
            "Requirement already satisfied: pandas>=0.24 in /usr/local/lib/python3.7/dist-packages (from yfinance) (1.1.5)\n",
            "Requirement already satisfied: numpy>=1.15 in /usr/local/lib/python3.7/dist-packages (from yfinance) (1.19.5)\n",
            "Requirement already satisfied: requests>=2.20 in /usr/local/lib/python3.7/dist-packages (from yfinance) (2.23.0)\n",
            "Requirement already satisfied: multitasking>=0.0.7 in /usr/local/lib/python3.7/dist-packages (from yfinance) (0.0.9)\n",
            "Collecting lxml>=4.5.1\n",
            "  Downloading lxml-4.6.4-cp37-cp37m-manylinux_2_17_x86_64.manylinux2014_x86_64.manylinux_2_24_x86_64.whl (6.3 MB)\n",
            "\u001b[K     |████████████████████████████████| 6.3 MB 6.6 MB/s \n",
            "\u001b[?25hRequirement already satisfied: python-dateutil>=2.7.3 in /usr/local/lib/python3.7/dist-packages (from pandas>=0.24->yfinance) (2.8.2)\n",
            "Requirement already satisfied: pytz>=2017.2 in /usr/local/lib/python3.7/dist-packages (from pandas>=0.24->yfinance) (2018.9)\n",
            "Requirement already satisfied: six>=1.5 in /usr/local/lib/python3.7/dist-packages (from python-dateutil>=2.7.3->pandas>=0.24->yfinance) (1.15.0)\n",
            "Requirement already satisfied: chardet<4,>=3.0.2 in /usr/local/lib/python3.7/dist-packages (from requests>=2.20->yfinance) (3.0.4)\n",
            "Requirement already satisfied: urllib3!=1.25.0,!=1.25.1,<1.26,>=1.21.1 in /usr/local/lib/python3.7/dist-packages (from requests>=2.20->yfinance) (1.24.3)\n",
            "Requirement already satisfied: idna<3,>=2.5 in /usr/local/lib/python3.7/dist-packages (from requests>=2.20->yfinance) (2.10)\n",
            "Requirement already satisfied: certifi>=2017.4.17 in /usr/local/lib/python3.7/dist-packages (from requests>=2.20->yfinance) (2021.10.8)\n",
            "Building wheels for collected packages: yfinance\n",
            "  Building wheel for yfinance (setup.py) ... \u001b[?25l\u001b[?25hdone\n",
            "  Created wheel for yfinance: filename=yfinance-0.1.64-py2.py3-none-any.whl size=24109 sha256=c00351000fc88667c158b9087076e70892e6f098ed2e6d181dac29ccbae37b7c\n",
            "  Stored in directory: /root/.cache/pip/wheels/86/fe/9b/a4d3d78796b699e37065e5b6c27b75cff448ddb8b24943c288\n",
            "Successfully built yfinance\n",
            "Installing collected packages: lxml, yfinance\n",
            "  Attempting uninstall: lxml\n",
            "    Found existing installation: lxml 4.2.6\n",
            "    Uninstalling lxml-4.2.6:\n",
            "      Successfully uninstalled lxml-4.2.6\n",
            "Successfully installed lxml-4.6.4 yfinance-0.1.64\n",
            "Collecting pandas-ta==0.2.45b\n",
            "  Downloading pandas_ta-0.2.45b.tar.gz (88 kB)\n",
            "\u001b[K     |████████████████████████████████| 88 kB 2.8 MB/s \n",
            "\u001b[?25hRequirement already satisfied: pandas in /usr/local/lib/python3.7/dist-packages (from pandas-ta==0.2.45b) (1.1.5)\n",
            "Requirement already satisfied: pytz>=2017.2 in /usr/local/lib/python3.7/dist-packages (from pandas->pandas-ta==0.2.45b) (2018.9)\n",
            "Requirement already satisfied: numpy>=1.15.4 in /usr/local/lib/python3.7/dist-packages (from pandas->pandas-ta==0.2.45b) (1.19.5)\n",
            "Requirement already satisfied: python-dateutil>=2.7.3 in /usr/local/lib/python3.7/dist-packages (from pandas->pandas-ta==0.2.45b) (2.8.2)\n",
            "Requirement already satisfied: six>=1.5 in /usr/local/lib/python3.7/dist-packages (from python-dateutil>=2.7.3->pandas->pandas-ta==0.2.45b) (1.15.0)\n",
            "Building wheels for collected packages: pandas-ta\n",
            "  Building wheel for pandas-ta (setup.py) ... \u001b[?25l\u001b[?25hdone\n",
            "  Created wheel for pandas-ta: filename=pandas_ta-0.2.45b0-py3-none-any.whl size=175303 sha256=a6a3cef6ec849039c156f6c8714c2a80f106d039b6f7c61039b7b2886116f2eb\n",
            "  Stored in directory: /root/.cache/pip/wheels/b1/49/60/e674e28ae57160651c6198b76e1714a0b175e44e022fcd5137\n",
            "Successfully built pandas-ta\n",
            "Installing collected packages: pandas-ta\n",
            "Successfully installed pandas-ta-0.2.45b0\n"
          ]
        }
      ]
    },
    {
      "cell_type": "code",
      "metadata": {
        "id": "K0B7knnQrSGM"
      },
      "source": [
        "#Importing dependencies#\n",
        "from pykalman import KalmanFilter\n",
        "import numpy as np\n",
        "import pylab as pl\n",
        "import pandas as pd\n",
        "import yfinance as yf\n",
        "from scipy import poly1d\n",
        "from datetime import datetime\n",
        "import pandas_ta as ta\n",
        "import matplotlib.pyplot as plt\n",
        "%matplotlib inline"
      ],
      "execution_count": null,
      "outputs": []
    },
    {
      "cell_type": "code",
      "metadata": {
        "id": "q1AA0W40DJrx"
      },
      "source": [
        "pd.options.mode.chained_assignment = None"
      ],
      "execution_count": null,
      "outputs": []
    },
    {
      "cell_type": "code",
      "metadata": {
        "id": "x3Lx3gzkxLj3"
      },
      "source": [
        "#ticker = pd.read_csv('https://raw.githubusercontent.com/anirbanghoshsbi/data/main/ind_niftybanklist.csv')"
      ],
      "execution_count": null,
      "outputs": []
    },
    {
      "cell_type": "code",
      "metadata": {
        "id": "YbRMeZrxsEuO"
      },
      "source": [
        "ticker = pd.read_csv('https://raw.githubusercontent.com/anirbanghoshsbi/data/main/ind_nifty50list.csv')\n",
        "START = \"2013-01-01\""
      ],
      "execution_count": null,
      "outputs": []
    },
    {
      "cell_type": "code",
      "metadata": {
        "colab": {
          "base_uri": "https://localhost:8080/"
        },
        "id": "CAgSzrJ08lOj",
        "outputId": "37257034-0aa9-4b71-c848-1f14e1ff7633"
      },
      "source": [
        "nifty=yf.download('^nsei',start=START)"
      ],
      "execution_count": null,
      "outputs": [
        {
          "output_type": "stream",
          "name": "stdout",
          "text": [
            "\r[*********************100%***********************]  1 of 1 completed\n"
          ]
        }
      ]
    },
    {
      "cell_type": "code",
      "metadata": {
        "id": "kjfwjEr7rbRF",
        "colab": {
          "base_uri": "https://localhost:8080/"
        },
        "outputId": "01b9ca38-0aee-4edf-a044-a46e7dac13be"
      },
      "source": [
        "lst=[]\n",
        "for i in range(len(ticker)):\n",
        "  \n",
        "  dfi = yf.download(str(ticker.Symbol.iloc[i])+'.ns', start=START)\n",
        "  df = dfi[['Adj Close']]\n",
        "  f = KalmanFilter(transition_matrices = [1],\n",
        "                    observation_matrices = [1],\n",
        "                    initial_state_mean = 0,\n",
        "                    initial_state_covariance = 1,\n",
        "                    observation_covariance = 1,\n",
        "                    transition_covariance = 0.0001)\n",
        "  mean, cov = f.filter(df['Adj Close'].values)\n",
        "  mean, std = mean.squeeze(), np.std(cov.squeeze())\n",
        "  var = 'kalman'\n",
        "  df[var]=df['Adj Close'].values - mean\n",
        "  \n",
        "  lst.append(df)"
      ],
      "execution_count": null,
      "outputs": [
        {
          "output_type": "stream",
          "name": "stdout",
          "text": [
            "[*********************100%***********************]  1 of 1 completed\n",
            "[*********************100%***********************]  1 of 1 completed\n",
            "[*********************100%***********************]  1 of 1 completed\n",
            "[*********************100%***********************]  1 of 1 completed\n",
            "[*********************100%***********************]  1 of 1 completed\n",
            "[*********************100%***********************]  1 of 1 completed\n",
            "[*********************100%***********************]  1 of 1 completed\n",
            "[*********************100%***********************]  1 of 1 completed\n",
            "[*********************100%***********************]  1 of 1 completed\n",
            "[*********************100%***********************]  1 of 1 completed\n",
            "[*********************100%***********************]  1 of 1 completed\n",
            "[*********************100%***********************]  1 of 1 completed\n",
            "[*********************100%***********************]  1 of 1 completed\n",
            "[*********************100%***********************]  1 of 1 completed\n",
            "[*********************100%***********************]  1 of 1 completed\n",
            "[*********************100%***********************]  1 of 1 completed\n",
            "[*********************100%***********************]  1 of 1 completed\n",
            "[*********************100%***********************]  1 of 1 completed\n",
            "[*********************100%***********************]  1 of 1 completed\n",
            "[*********************100%***********************]  1 of 1 completed\n",
            "[*********************100%***********************]  1 of 1 completed\n",
            "[*********************100%***********************]  1 of 1 completed\n",
            "[*********************100%***********************]  1 of 1 completed\n",
            "[*********************100%***********************]  1 of 1 completed\n",
            "[*********************100%***********************]  1 of 1 completed\n",
            "[*********************100%***********************]  1 of 1 completed\n",
            "[*********************100%***********************]  1 of 1 completed\n",
            "[*********************100%***********************]  1 of 1 completed\n",
            "[*********************100%***********************]  1 of 1 completed\n",
            "[*********************100%***********************]  1 of 1 completed\n",
            "[*********************100%***********************]  1 of 1 completed\n",
            "[*********************100%***********************]  1 of 1 completed\n",
            "[*********************100%***********************]  1 of 1 completed\n",
            "[*********************100%***********************]  1 of 1 completed\n",
            "[*********************100%***********************]  1 of 1 completed\n",
            "[*********************100%***********************]  1 of 1 completed\n",
            "[*********************100%***********************]  1 of 1 completed\n",
            "[*********************100%***********************]  1 of 1 completed\n",
            "[*********************100%***********************]  1 of 1 completed\n",
            "[*********************100%***********************]  1 of 1 completed\n",
            "[*********************100%***********************]  1 of 1 completed\n",
            "[*********************100%***********************]  1 of 1 completed\n",
            "[*********************100%***********************]  1 of 1 completed\n",
            "[*********************100%***********************]  1 of 1 completed\n",
            "[*********************100%***********************]  1 of 1 completed\n",
            "[*********************100%***********************]  1 of 1 completed\n",
            "[*********************100%***********************]  1 of 1 completed\n",
            "[*********************100%***********************]  1 of 1 completed\n",
            "[*********************100%***********************]  1 of 1 completed\n",
            "[*********************100%***********************]  1 of 1 completed\n"
          ]
        }
      ]
    },
    {
      "cell_type": "code",
      "metadata": {
        "id": "eWluogVZrbHW"
      },
      "source": [
        "nlst=[]\n",
        "for i in range(len(ticker)):\n",
        "  nlst.append(lst[i].kalman)\n",
        "  "
      ],
      "execution_count": null,
      "outputs": []
    },
    {
      "cell_type": "code",
      "metadata": {
        "id": "y9-ZLZZRwLix"
      },
      "source": [
        "df_kalman = pd.DataFrame(nlst).T"
      ],
      "execution_count": null,
      "outputs": []
    },
    {
      "cell_type": "code",
      "metadata": {
        "id": "V7bgENL_wLgJ"
      },
      "source": [
        "namelist =[]\n",
        "for i in range(1,len(ticker)+1):\n",
        "  namelist.append('kalman_'+str(i))\n",
        "  \n",
        "df_kalman.columns = namelist"
      ],
      "execution_count": null,
      "outputs": []
    },
    {
      "cell_type": "code",
      "metadata": {
        "id": "AdFj16hYwKzC"
      },
      "source": [
        "def macd_calc(df):\n",
        "  columns=df.columns.tolist()\n",
        "  for var in columns:\n",
        "    macd='macd'+var\n",
        "    macd_s='macd'+'signal'+var\n",
        "    macd_h='hist'+ var\n",
        "    df[macd]=df[var].ewm(span=26, adjust=False).mean()-df[var].ewm(span=50, adjust=False).mean()\n",
        "    df[macd_s]=df[macd].ewm(span=18,adjust=False).mean()\n",
        "    df[macd_h]=df[macd]-df[macd_s]\n",
        "  return df"
      ],
      "execution_count": null,
      "outputs": []
    },
    {
      "cell_type": "code",
      "metadata": {
        "id": "tN5FGb1grbC2"
      },
      "source": [
        "final_kalman=macd_calc(df_kalman)"
      ],
      "execution_count": null,
      "outputs": []
    },
    {
      "cell_type": "code",
      "metadata": {
        "colab": {
          "base_uri": "https://localhost:8080/",
          "height": 223
        },
        "id": "9zq6kFSTrbAl",
        "outputId": "c7cdf95c-b4eb-4e6d-f4d8-fd19e43508da"
      },
      "source": [
        "final_kalman.tail(2)"
      ],
      "execution_count": null,
      "outputs": [
        {
          "output_type": "execute_result",
          "data": {
            "text/html": [
              "<div>\n",
              "<style scoped>\n",
              "    .dataframe tbody tr th:only-of-type {\n",
              "        vertical-align: middle;\n",
              "    }\n",
              "\n",
              "    .dataframe tbody tr th {\n",
              "        vertical-align: top;\n",
              "    }\n",
              "\n",
              "    .dataframe thead th {\n",
              "        text-align: right;\n",
              "    }\n",
              "</style>\n",
              "<table border=\"1\" class=\"dataframe\">\n",
              "  <thead>\n",
              "    <tr style=\"text-align: right;\">\n",
              "      <th></th>\n",
              "      <th>kalman_1</th>\n",
              "      <th>kalman_2</th>\n",
              "      <th>kalman_3</th>\n",
              "      <th>kalman_4</th>\n",
              "      <th>kalman_5</th>\n",
              "      <th>kalman_6</th>\n",
              "      <th>kalman_7</th>\n",
              "      <th>kalman_8</th>\n",
              "      <th>kalman_9</th>\n",
              "      <th>kalman_10</th>\n",
              "      <th>kalman_11</th>\n",
              "      <th>kalman_12</th>\n",
              "      <th>kalman_13</th>\n",
              "      <th>kalman_14</th>\n",
              "      <th>kalman_15</th>\n",
              "      <th>kalman_16</th>\n",
              "      <th>kalman_17</th>\n",
              "      <th>kalman_18</th>\n",
              "      <th>kalman_19</th>\n",
              "      <th>kalman_20</th>\n",
              "      <th>kalman_21</th>\n",
              "      <th>kalman_22</th>\n",
              "      <th>kalman_23</th>\n",
              "      <th>kalman_24</th>\n",
              "      <th>kalman_25</th>\n",
              "      <th>kalman_26</th>\n",
              "      <th>kalman_27</th>\n",
              "      <th>kalman_28</th>\n",
              "      <th>kalman_29</th>\n",
              "      <th>kalman_30</th>\n",
              "      <th>kalman_31</th>\n",
              "      <th>kalman_32</th>\n",
              "      <th>kalman_33</th>\n",
              "      <th>kalman_34</th>\n",
              "      <th>kalman_35</th>\n",
              "      <th>kalman_36</th>\n",
              "      <th>kalman_37</th>\n",
              "      <th>kalman_38</th>\n",
              "      <th>kalman_39</th>\n",
              "      <th>kalman_40</th>\n",
              "      <th>...</th>\n",
              "      <th>histkalman_37</th>\n",
              "      <th>macdkalman_38</th>\n",
              "      <th>macdsignalkalman_38</th>\n",
              "      <th>histkalman_38</th>\n",
              "      <th>macdkalman_39</th>\n",
              "      <th>macdsignalkalman_39</th>\n",
              "      <th>histkalman_39</th>\n",
              "      <th>macdkalman_40</th>\n",
              "      <th>macdsignalkalman_40</th>\n",
              "      <th>histkalman_40</th>\n",
              "      <th>macdkalman_41</th>\n",
              "      <th>macdsignalkalman_41</th>\n",
              "      <th>histkalman_41</th>\n",
              "      <th>macdkalman_42</th>\n",
              "      <th>macdsignalkalman_42</th>\n",
              "      <th>histkalman_42</th>\n",
              "      <th>macdkalman_43</th>\n",
              "      <th>macdsignalkalman_43</th>\n",
              "      <th>histkalman_43</th>\n",
              "      <th>macdkalman_44</th>\n",
              "      <th>macdsignalkalman_44</th>\n",
              "      <th>histkalman_44</th>\n",
              "      <th>macdkalman_45</th>\n",
              "      <th>macdsignalkalman_45</th>\n",
              "      <th>histkalman_45</th>\n",
              "      <th>macdkalman_46</th>\n",
              "      <th>macdsignalkalman_46</th>\n",
              "      <th>histkalman_46</th>\n",
              "      <th>macdkalman_47</th>\n",
              "      <th>macdsignalkalman_47</th>\n",
              "      <th>histkalman_47</th>\n",
              "      <th>macdkalman_48</th>\n",
              "      <th>macdsignalkalman_48</th>\n",
              "      <th>histkalman_48</th>\n",
              "      <th>macdkalman_49</th>\n",
              "      <th>macdsignalkalman_49</th>\n",
              "      <th>histkalman_49</th>\n",
              "      <th>macdkalman_50</th>\n",
              "      <th>macdsignalkalman_50</th>\n",
              "      <th>histkalman_50</th>\n",
              "    </tr>\n",
              "    <tr>\n",
              "      <th>Date</th>\n",
              "      <th></th>\n",
              "      <th></th>\n",
              "      <th></th>\n",
              "      <th></th>\n",
              "      <th></th>\n",
              "      <th></th>\n",
              "      <th></th>\n",
              "      <th></th>\n",
              "      <th></th>\n",
              "      <th></th>\n",
              "      <th></th>\n",
              "      <th></th>\n",
              "      <th></th>\n",
              "      <th></th>\n",
              "      <th></th>\n",
              "      <th></th>\n",
              "      <th></th>\n",
              "      <th></th>\n",
              "      <th></th>\n",
              "      <th></th>\n",
              "      <th></th>\n",
              "      <th></th>\n",
              "      <th></th>\n",
              "      <th></th>\n",
              "      <th></th>\n",
              "      <th></th>\n",
              "      <th></th>\n",
              "      <th></th>\n",
              "      <th></th>\n",
              "      <th></th>\n",
              "      <th></th>\n",
              "      <th></th>\n",
              "      <th></th>\n",
              "      <th></th>\n",
              "      <th></th>\n",
              "      <th></th>\n",
              "      <th></th>\n",
              "      <th></th>\n",
              "      <th></th>\n",
              "      <th></th>\n",
              "      <th></th>\n",
              "      <th></th>\n",
              "      <th></th>\n",
              "      <th></th>\n",
              "      <th></th>\n",
              "      <th></th>\n",
              "      <th></th>\n",
              "      <th></th>\n",
              "      <th></th>\n",
              "      <th></th>\n",
              "      <th></th>\n",
              "      <th></th>\n",
              "      <th></th>\n",
              "      <th></th>\n",
              "      <th></th>\n",
              "      <th></th>\n",
              "      <th></th>\n",
              "      <th></th>\n",
              "      <th></th>\n",
              "      <th></th>\n",
              "      <th></th>\n",
              "      <th></th>\n",
              "      <th></th>\n",
              "      <th></th>\n",
              "      <th></th>\n",
              "      <th></th>\n",
              "      <th></th>\n",
              "      <th></th>\n",
              "      <th></th>\n",
              "      <th></th>\n",
              "      <th></th>\n",
              "      <th></th>\n",
              "      <th></th>\n",
              "      <th></th>\n",
              "      <th></th>\n",
              "      <th></th>\n",
              "      <th></th>\n",
              "      <th></th>\n",
              "      <th></th>\n",
              "      <th></th>\n",
              "      <th></th>\n",
              "    </tr>\n",
              "  </thead>\n",
              "  <tbody>\n",
              "    <tr>\n",
              "      <th>2021-11-11</th>\n",
              "      <td>54.078636</td>\n",
              "      <td>184.699027</td>\n",
              "      <td>9.163094</td>\n",
              "      <td>46.132034</td>\n",
              "      <td>1174.571500</td>\n",
              "      <td>4211.480912</td>\n",
              "      <td>15.239853</td>\n",
              "      <td>125.951639</td>\n",
              "      <td>-15.513688</td>\n",
              "      <td>17.296318</td>\n",
              "      <td>17.666604</td>\n",
              "      <td>404.015321</td>\n",
              "      <td>-22.958175</td>\n",
              "      <td>99.784278</td>\n",
              "      <td>407.248622</td>\n",
              "      <td>117.159325</td>\n",
              "      <td>53.693737</td>\n",
              "      <td>18.520488</td>\n",
              "      <td>-164.804769</td>\n",
              "      <td>60.317201</td>\n",
              "      <td>-54.377903</td>\n",
              "      <td>315.866445</td>\n",
              "      <td>118.795815</td>\n",
              "      <td>16.934600</td>\n",
              "      <td>28.915020</td>\n",
              "      <td>21.325398</td>\n",
              "      <td>236.818174</td>\n",
              "      <td>59.813452</td>\n",
              "      <td>220.717259</td>\n",
              "      <td>390.284811</td>\n",
              "      <td>140.810292</td>\n",
              "      <td>342.656688</td>\n",
              "      <td>22.524097</td>\n",
              "      <td>754.635870</td>\n",
              "      <td>32.249314</td>\n",
              "      <td>13.260919</td>\n",
              "      <td>326.412041</td>\n",
              "      <td>95.961383</td>\n",
              "      <td>1569.137814</td>\n",
              "      <td>102.338277</td>\n",
              "      <td>...</td>\n",
              "      <td>-26.998771</td>\n",
              "      <td>-13.040904</td>\n",
              "      <td>-6.654314</td>\n",
              "      <td>-6.386590</td>\n",
              "      <td>-147.207910</td>\n",
              "      <td>-214.971469</td>\n",
              "      <td>67.763559</td>\n",
              "      <td>9.947635</td>\n",
              "      <td>7.174350</td>\n",
              "      <td>2.773285</td>\n",
              "      <td>-3.711394</td>\n",
              "      <td>1.147094</td>\n",
              "      <td>-4.858488</td>\n",
              "      <td>-78.049441</td>\n",
              "      <td>-42.96916</td>\n",
              "      <td>-35.080281</td>\n",
              "      <td>-12.582339</td>\n",
              "      <td>-11.67197</td>\n",
              "      <td>-0.910370</td>\n",
              "      <td>33.633729</td>\n",
              "      <td>28.892147</td>\n",
              "      <td>4.741581</td>\n",
              "      <td>-41.974059</td>\n",
              "      <td>-40.906584</td>\n",
              "      <td>-1.067475</td>\n",
              "      <td>11.220413</td>\n",
              "      <td>12.631860</td>\n",
              "      <td>-1.411447</td>\n",
              "      <td>67.648178</td>\n",
              "      <td>73.663883</td>\n",
              "      <td>-6.015706</td>\n",
              "      <td>-11.345248</td>\n",
              "      <td>-17.145626</td>\n",
              "      <td>5.800377</td>\n",
              "      <td>-31.292394</td>\n",
              "      <td>-100.057558</td>\n",
              "      <td>68.765165</td>\n",
              "      <td>-8.299932</td>\n",
              "      <td>-3.151099</td>\n",
              "      <td>-5.148833</td>\n",
              "    </tr>\n",
              "    <tr>\n",
              "      <th>2021-11-12</th>\n",
              "      <td>68.589317</td>\n",
              "      <td>241.670114</td>\n",
              "      <td>7.091821</td>\n",
              "      <td>-68.083620</td>\n",
              "      <td>1288.026575</td>\n",
              "      <td>4568.022883</td>\n",
              "      <td>17.464358</td>\n",
              "      <td>139.450172</td>\n",
              "      <td>28.747445</td>\n",
              "      <td>28.064256</td>\n",
              "      <td>17.441314</td>\n",
              "      <td>410.440151</td>\n",
              "      <td>5.288480</td>\n",
              "      <td>117.255745</td>\n",
              "      <td>417.156126</td>\n",
              "      <td>127.527680</td>\n",
              "      <td>57.812664</td>\n",
              "      <td>36.157105</td>\n",
              "      <td>-180.837187</td>\n",
              "      <td>74.171742</td>\n",
              "      <td>-25.372902</td>\n",
              "      <td>395.689520</td>\n",
              "      <td>122.712502</td>\n",
              "      <td>19.637237</td>\n",
              "      <td>28.280789</td>\n",
              "      <td>24.825894</td>\n",
              "      <td>280.895046</td>\n",
              "      <td>63.128949</td>\n",
              "      <td>238.915977</td>\n",
              "      <td>414.370338</td>\n",
              "      <td>152.329351</td>\n",
              "      <td>365.384431</td>\n",
              "      <td>22.101973</td>\n",
              "      <td>1032.706261</td>\n",
              "      <td>33.066980</td>\n",
              "      <td>12.980470</td>\n",
              "      <td>361.330671</td>\n",
              "      <td>116.490710</td>\n",
              "      <td>1928.109680</td>\n",
              "      <td>103.052586</td>\n",
              "      <td>...</td>\n",
              "      <td>-25.374378</td>\n",
              "      <td>-13.394691</td>\n",
              "      <td>-7.363827</td>\n",
              "      <td>-6.030864</td>\n",
              "      <td>-122.581758</td>\n",
              "      <td>-205.246236</td>\n",
              "      <td>82.664478</td>\n",
              "      <td>9.516538</td>\n",
              "      <td>7.420896</td>\n",
              "      <td>2.095642</td>\n",
              "      <td>-4.120500</td>\n",
              "      <td>0.592610</td>\n",
              "      <td>-4.713110</td>\n",
              "      <td>-77.707142</td>\n",
              "      <td>-46.62579</td>\n",
              "      <td>-31.081353</td>\n",
              "      <td>-11.909477</td>\n",
              "      <td>-11.69697</td>\n",
              "      <td>-0.212507</td>\n",
              "      <td>33.208742</td>\n",
              "      <td>29.346526</td>\n",
              "      <td>3.862216</td>\n",
              "      <td>-42.864672</td>\n",
              "      <td>-41.112698</td>\n",
              "      <td>-1.751973</td>\n",
              "      <td>12.422916</td>\n",
              "      <td>12.609866</td>\n",
              "      <td>-0.186950</td>\n",
              "      <td>67.104186</td>\n",
              "      <td>72.973389</td>\n",
              "      <td>-5.869203</td>\n",
              "      <td>-9.980625</td>\n",
              "      <td>-16.391415</td>\n",
              "      <td>6.410790</td>\n",
              "      <td>-19.538975</td>\n",
              "      <td>-91.581918</td>\n",
              "      <td>72.042943</td>\n",
              "      <td>-8.583101</td>\n",
              "      <td>-3.722889</td>\n",
              "      <td>-4.860212</td>\n",
              "    </tr>\n",
              "  </tbody>\n",
              "</table>\n",
              "<p>2 rows × 200 columns</p>\n",
              "</div>"
            ],
            "text/plain": [
              "             kalman_1    kalman_2  ...  macdsignalkalman_50  histkalman_50\n",
              "Date                               ...                                    \n",
              "2021-11-11  54.078636  184.699027  ...            -3.151099      -5.148833\n",
              "2021-11-12  68.589317  241.670114  ...            -3.722889      -4.860212\n",
              "\n",
              "[2 rows x 200 columns]"
            ]
          },
          "metadata": {},
          "execution_count": 13
        }
      ]
    },
    {
      "cell_type": "code",
      "metadata": {
        "id": "ssI2nLbIra91"
      },
      "source": [
        "features = final_kalman.columns.tolist()"
      ],
      "execution_count": null,
      "outputs": []
    },
    {
      "cell_type": "code",
      "metadata": {
        "id": "kaS_OPDZ03HH"
      },
      "source": [
        "feats_set1=[feats for feats in features if feats.startswith('hist')]"
      ],
      "execution_count": null,
      "outputs": []
    },
    {
      "cell_type": "code",
      "metadata": {
        "id": "p7NzUo7B1de-"
      },
      "source": [
        "final_dataframe=final_kalman[feats_set1]"
      ],
      "execution_count": null,
      "outputs": []
    },
    {
      "cell_type": "code",
      "metadata": {
        "id": "G3n2Ns_U2h01"
      },
      "source": [
        "solution=np.sign(final_dataframe)"
      ],
      "execution_count": null,
      "outputs": []
    },
    {
      "cell_type": "code",
      "metadata": {
        "id": "zvUVJRgX3H61"
      },
      "source": [
        "solution['final']=solution.sum(axis=1)"
      ],
      "execution_count": null,
      "outputs": []
    },
    {
      "cell_type": "code",
      "metadata": {
        "colab": {
          "base_uri": "https://localhost:8080/",
          "height": 194
        },
        "id": "OA_hL4Ru68WZ",
        "outputId": "30a43ab1-92cd-491e-8b21-2e08f0a33fa5"
      },
      "source": [
        "solution.tail(2)"
      ],
      "execution_count": null,
      "outputs": [
        {
          "output_type": "execute_result",
          "data": {
            "text/html": [
              "<div>\n",
              "<style scoped>\n",
              "    .dataframe tbody tr th:only-of-type {\n",
              "        vertical-align: middle;\n",
              "    }\n",
              "\n",
              "    .dataframe tbody tr th {\n",
              "        vertical-align: top;\n",
              "    }\n",
              "\n",
              "    .dataframe thead th {\n",
              "        text-align: right;\n",
              "    }\n",
              "</style>\n",
              "<table border=\"1\" class=\"dataframe\">\n",
              "  <thead>\n",
              "    <tr style=\"text-align: right;\">\n",
              "      <th></th>\n",
              "      <th>histkalman_1</th>\n",
              "      <th>histkalman_2</th>\n",
              "      <th>histkalman_3</th>\n",
              "      <th>histkalman_4</th>\n",
              "      <th>histkalman_5</th>\n",
              "      <th>histkalman_6</th>\n",
              "      <th>histkalman_7</th>\n",
              "      <th>histkalman_8</th>\n",
              "      <th>histkalman_9</th>\n",
              "      <th>histkalman_10</th>\n",
              "      <th>histkalman_11</th>\n",
              "      <th>histkalman_12</th>\n",
              "      <th>histkalman_13</th>\n",
              "      <th>histkalman_14</th>\n",
              "      <th>histkalman_15</th>\n",
              "      <th>histkalman_16</th>\n",
              "      <th>histkalman_17</th>\n",
              "      <th>histkalman_18</th>\n",
              "      <th>histkalman_19</th>\n",
              "      <th>histkalman_20</th>\n",
              "      <th>histkalman_21</th>\n",
              "      <th>histkalman_22</th>\n",
              "      <th>histkalman_23</th>\n",
              "      <th>histkalman_24</th>\n",
              "      <th>histkalman_25</th>\n",
              "      <th>histkalman_26</th>\n",
              "      <th>histkalman_27</th>\n",
              "      <th>histkalman_28</th>\n",
              "      <th>histkalman_29</th>\n",
              "      <th>histkalman_30</th>\n",
              "      <th>histkalman_31</th>\n",
              "      <th>histkalman_32</th>\n",
              "      <th>histkalman_33</th>\n",
              "      <th>histkalman_34</th>\n",
              "      <th>histkalman_35</th>\n",
              "      <th>histkalman_36</th>\n",
              "      <th>histkalman_37</th>\n",
              "      <th>histkalman_38</th>\n",
              "      <th>histkalman_39</th>\n",
              "      <th>histkalman_40</th>\n",
              "      <th>histkalman_41</th>\n",
              "      <th>histkalman_42</th>\n",
              "      <th>histkalman_43</th>\n",
              "      <th>histkalman_44</th>\n",
              "      <th>histkalman_45</th>\n",
              "      <th>histkalman_46</th>\n",
              "      <th>histkalman_47</th>\n",
              "      <th>histkalman_48</th>\n",
              "      <th>histkalman_49</th>\n",
              "      <th>histkalman_50</th>\n",
              "      <th>final</th>\n",
              "    </tr>\n",
              "    <tr>\n",
              "      <th>Date</th>\n",
              "      <th></th>\n",
              "      <th></th>\n",
              "      <th></th>\n",
              "      <th></th>\n",
              "      <th></th>\n",
              "      <th></th>\n",
              "      <th></th>\n",
              "      <th></th>\n",
              "      <th></th>\n",
              "      <th></th>\n",
              "      <th></th>\n",
              "      <th></th>\n",
              "      <th></th>\n",
              "      <th></th>\n",
              "      <th></th>\n",
              "      <th></th>\n",
              "      <th></th>\n",
              "      <th></th>\n",
              "      <th></th>\n",
              "      <th></th>\n",
              "      <th></th>\n",
              "      <th></th>\n",
              "      <th></th>\n",
              "      <th></th>\n",
              "      <th></th>\n",
              "      <th></th>\n",
              "      <th></th>\n",
              "      <th></th>\n",
              "      <th></th>\n",
              "      <th></th>\n",
              "      <th></th>\n",
              "      <th></th>\n",
              "      <th></th>\n",
              "      <th></th>\n",
              "      <th></th>\n",
              "      <th></th>\n",
              "      <th></th>\n",
              "      <th></th>\n",
              "      <th></th>\n",
              "      <th></th>\n",
              "      <th></th>\n",
              "      <th></th>\n",
              "      <th></th>\n",
              "      <th></th>\n",
              "      <th></th>\n",
              "      <th></th>\n",
              "      <th></th>\n",
              "      <th></th>\n",
              "      <th></th>\n",
              "      <th></th>\n",
              "      <th></th>\n",
              "    </tr>\n",
              "  </thead>\n",
              "  <tbody>\n",
              "    <tr>\n",
              "      <th>2021-11-11</th>\n",
              "      <td>-1.0</td>\n",
              "      <td>-1.0</td>\n",
              "      <td>-1.0</td>\n",
              "      <td>-1.0</td>\n",
              "      <td>-1.0</td>\n",
              "      <td>-1.0</td>\n",
              "      <td>-1.0</td>\n",
              "      <td>-1.0</td>\n",
              "      <td>-1.0</td>\n",
              "      <td>-1.0</td>\n",
              "      <td>-1.0</td>\n",
              "      <td>-1.0</td>\n",
              "      <td>1.0</td>\n",
              "      <td>-1.0</td>\n",
              "      <td>1.0</td>\n",
              "      <td>-1.0</td>\n",
              "      <td>-1.0</td>\n",
              "      <td>-1.0</td>\n",
              "      <td>-1.0</td>\n",
              "      <td>-1.0</td>\n",
              "      <td>-1.0</td>\n",
              "      <td>1.0</td>\n",
              "      <td>1.0</td>\n",
              "      <td>-1.0</td>\n",
              "      <td>1.0</td>\n",
              "      <td>-1.0</td>\n",
              "      <td>-1.0</td>\n",
              "      <td>1.0</td>\n",
              "      <td>-1.0</td>\n",
              "      <td>1.0</td>\n",
              "      <td>1.0</td>\n",
              "      <td>1.0</td>\n",
              "      <td>-1.0</td>\n",
              "      <td>-1.0</td>\n",
              "      <td>-1.0</td>\n",
              "      <td>-1.0</td>\n",
              "      <td>-1.0</td>\n",
              "      <td>-1.0</td>\n",
              "      <td>1.0</td>\n",
              "      <td>1.0</td>\n",
              "      <td>-1.0</td>\n",
              "      <td>-1.0</td>\n",
              "      <td>-1.0</td>\n",
              "      <td>1.0</td>\n",
              "      <td>-1.0</td>\n",
              "      <td>-1.0</td>\n",
              "      <td>-1.0</td>\n",
              "      <td>1.0</td>\n",
              "      <td>1.0</td>\n",
              "      <td>-1.0</td>\n",
              "      <td>-22.0</td>\n",
              "    </tr>\n",
              "    <tr>\n",
              "      <th>2021-11-12</th>\n",
              "      <td>-1.0</td>\n",
              "      <td>-1.0</td>\n",
              "      <td>-1.0</td>\n",
              "      <td>-1.0</td>\n",
              "      <td>-1.0</td>\n",
              "      <td>-1.0</td>\n",
              "      <td>-1.0</td>\n",
              "      <td>-1.0</td>\n",
              "      <td>-1.0</td>\n",
              "      <td>-1.0</td>\n",
              "      <td>-1.0</td>\n",
              "      <td>-1.0</td>\n",
              "      <td>1.0</td>\n",
              "      <td>-1.0</td>\n",
              "      <td>1.0</td>\n",
              "      <td>-1.0</td>\n",
              "      <td>-1.0</td>\n",
              "      <td>-1.0</td>\n",
              "      <td>-1.0</td>\n",
              "      <td>-1.0</td>\n",
              "      <td>-1.0</td>\n",
              "      <td>1.0</td>\n",
              "      <td>1.0</td>\n",
              "      <td>-1.0</td>\n",
              "      <td>1.0</td>\n",
              "      <td>-1.0</td>\n",
              "      <td>1.0</td>\n",
              "      <td>1.0</td>\n",
              "      <td>-1.0</td>\n",
              "      <td>1.0</td>\n",
              "      <td>1.0</td>\n",
              "      <td>1.0</td>\n",
              "      <td>-1.0</td>\n",
              "      <td>-1.0</td>\n",
              "      <td>-1.0</td>\n",
              "      <td>-1.0</td>\n",
              "      <td>-1.0</td>\n",
              "      <td>-1.0</td>\n",
              "      <td>1.0</td>\n",
              "      <td>1.0</td>\n",
              "      <td>-1.0</td>\n",
              "      <td>-1.0</td>\n",
              "      <td>-1.0</td>\n",
              "      <td>1.0</td>\n",
              "      <td>-1.0</td>\n",
              "      <td>-1.0</td>\n",
              "      <td>-1.0</td>\n",
              "      <td>1.0</td>\n",
              "      <td>1.0</td>\n",
              "      <td>-1.0</td>\n",
              "      <td>-20.0</td>\n",
              "    </tr>\n",
              "  </tbody>\n",
              "</table>\n",
              "</div>"
            ],
            "text/plain": [
              "            histkalman_1  histkalman_2  ...  histkalman_50  final\n",
              "Date                                    ...                      \n",
              "2021-11-11          -1.0          -1.0  ...           -1.0  -22.0\n",
              "2021-11-12          -1.0          -1.0  ...           -1.0  -20.0\n",
              "\n",
              "[2 rows x 51 columns]"
            ]
          },
          "metadata": {},
          "execution_count": 19
        }
      ]
    },
    {
      "cell_type": "code",
      "metadata": {
        "colab": {
          "base_uri": "https://localhost:8080/",
          "height": 296
        },
        "id": "VX-QwBkU3Jys",
        "outputId": "db505569-cafb-452b-c22e-fde13a07a099"
      },
      "source": [
        "solution.final[-100:].plot()"
      ],
      "execution_count": null,
      "outputs": [
        {
          "output_type": "execute_result",
          "data": {
            "text/plain": [
              "<matplotlib.axes._subplots.AxesSubplot at 0x7fe0c7eceed0>"
            ]
          },
          "metadata": {},
          "execution_count": 20
        },
        {
          "output_type": "display_data",
          "data": {
            "image/png": "[encoded data removed]",
            "text/plain": [
              "<Figure size 432x288 with 1 Axes>"
            ]
          },
          "metadata": {
            "needs_background": "light"
          }
        }
      ]
    },
    {
      "cell_type": "code",
      "metadata": {
        "id": "eHGbm3jKTN6u"
      },
      "source": [
        "l=700"
      ],
      "execution_count": null,
      "outputs": []
    },
    {
      "cell_type": "code",
      "metadata": {
        "id": "uKnGigwKSyKD"
      },
      "source": [
        "nifty=nifty[-l:]\n",
        "solution=solution[-l:]"
      ],
      "execution_count": null,
      "outputs": []
    },
    {
      "cell_type": "code",
      "metadata": {
        "colab": {
          "base_uri": "https://localhost:8080/",
          "height": 393
        },
        "id": "0JHISukB8NHk",
        "outputId": "5d8bd06b-128e-4ad5-87f3-068476cd0fd7"
      },
      "source": [
        "fig, ax = plt.subplots(2,1,figsize=(17,7),sharex=True)\n",
        "ax[0].plot(nifty.loc[:, :].index, nifty.loc[:, 'Close'],'r', label='Close')\n",
        "ax[1].plot(solution.loc[:, :].index, solution.loc[:, 'final'],'b', label='Signals')\n",
        "ax[1].plot(solution.loc[:, :].index, solution.loc[:, 'final'],'r*', label='Signals')\n",
        "#ax[1].plot(nifty.iloc[:, :].index, nifty.loc[:, 'Close'], label='Nifty')\n",
        "plt.suptitle('Signals')\n",
        "ax[0].legend()\n",
        "ax[1].legend()\n",
        "ax[1].axhline(y=0)\n",
        "plt.show()"
      ],
      "execution_count": null,
      "outputs": [
        {
          "output_type": "display_data",
          "data": {
            "image/png": "[encoded data removed]",
            "text/plain": [
              "<Figure size 1224x504 with 2 Axes>"
            ]
          },
          "metadata": {
            "needs_background": "light"
          }
        }
      ]
    },
    {
      "cell_type": "code",
      "metadata": {
        "id": "euhAaTaXBnKR"
      },
      "source": [
        "solution['signals']=np.where(solution['final']>0,1,-1)"
      ],
      "execution_count": null,
      "outputs": []
    },
    {
      "cell_type": "code",
      "metadata": {
        "id": "kymGBf4iKPyT",
        "colab": {
          "base_uri": "https://localhost:8080/"
        },
        "outputId": "a2d02d32-7848-49ae-9993-686b00a74cc2"
      },
      "source": [
        "if solution['signals'].iloc[-1]!=solution['signals'].iloc[-2]:\n",
        "  var= solution['signals'].iloc[-1]\n",
        "  print(f'signal changed to : {var}')\n",
        "else :\n",
        "  var= solution['signals'].iloc[-1]\n",
        "  print(f'signal unchanged (1:stay long , -1: stay short) : {var}')"
      ],
      "execution_count": null,
      "outputs": [
        {
          "output_type": "stream",
          "name": "stdout",
          "text": [
            "signal unchanged (1:stay long , -1: stay short) : -1\n"
          ]
        }
      ]
    },
    {
      "cell_type": "code",
      "metadata": {
        "colab": {
          "base_uri": "https://localhost:8080/",
          "height": 457
        },
        "id": "YdF0iAzVswKr",
        "outputId": "cf64b282-5abc-412a-de01-c9aa836bf19e"
      },
      "source": [
        "# Calculate daily returns\n",
        "nifty['Return'] = nifty.Close.pct_change()\n",
        " \n",
        "# Calculate strategy returns\n",
        "nifty['Strategy_F'] = nifty.Return * solution.signals.shift(1)\n",
        "\n",
        "# Calculate geometric returns\n",
        "geometric_returns = ((nifty.Strategy_F+1).cumprod()-1)\n",
        "#np.sum(np.log(data/data.shift())*portfolio, axis=1)\n",
        "# Plot geometric returns\n",
        "geometric_returns.plot(figsize=(10, 7),color='g')\n",
        "volatility = geometric_returns.std() * np.sqrt(252)\n",
        "sharpe_ratio = (geometric_returns.mean() - 0.05) / volatility \n",
        "plt.ylabel(\"Strategy Returns (%)\")\n",
        "plt.xlabel(\"Date\")\n",
        "plt.show()\n",
        "print('sharpe ratio : ' ,sharpe_ratio)\n",
        "\n",
        "std_neg = geometric_returns[geometric_returns<0].std()*np.sqrt(252)\n",
        "sortino_ratio=(geometric_returns.mean() - 0.05)/std_neg\n",
        "print('sortino ratio : ' , sortino_ratio)"
      ],
      "execution_count": 31,
      "outputs": [
        {
          "output_type": "display_data",
          "data": {
            "image/png": "[encoded data removed]",
            "text/plain": [
              "<Figure size 720x504 with 1 Axes>"
            ]
          },
          "metadata": {
            "needs_background": "light"
          }
        },
        {
          "output_type": "stream",
          "name": "stdout",
          "text": [
            "sharpe ratio :  0.07449962967614282\n",
            "sortino ratio :  1.6550586760537442\n"
          ]
        }
      ]
    },
    {
      "cell_type": "code",
      "metadata": {
        "id": "AZskaRb1x9aX",
        "colab": {
          "base_uri": "https://localhost:8080/",
          "height": 479
        },
        "outputId": "c44bf37e-e037-4040-c9be-ae1ed94d369b"
      },
      "source": [
        "fig, ax = plt.subplots(2,1,figsize=(17,7),sharex=True)\n",
        "ax[0].plot(nifty.loc[:, :].index, nifty.loc[:, 'Close'],'r', label='Close')\n",
        "ax[1].plot(geometric_returns.index,geometric_returns,'g', label='Signals')\n",
        "#ax[1].plot(nifty.iloc[:, :].index, nifty.loc[:, 'Close'], label='Nifty')\n",
        "plt.suptitle('Signals')\n",
        "ax[0].legend()\n",
        "ax[1].legend()\n",
        "plt.show()"
      ],
      "execution_count": 30,
      "outputs": [
        {
          "output_type": "display_data",
          "data": {
            "image/png": "[encoded data removed]",
            "text/plain": [
              "<Figure size 1224x504 with 2 Axes>"
            ]
          },
          "metadata": {
            "needs_background": "light"
          }
        }
      ]
    },
    {
      "cell_type": "code",
      "metadata": {
        "id": "zUQWSJl8YUkB"
      },
      "source": [
        ""
      ],
      "execution_count": null,
      "outputs": []
    }
  ]
}