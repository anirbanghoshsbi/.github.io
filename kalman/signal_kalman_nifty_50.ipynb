{
  "nbformat": 4,
  "nbformat_minor": 0,
  "metadata": {
    "colab": {
      "name": "signal_kalman_.ipynb",
      "provenance": [],
      "authorship_tag": "ABX9TyPYdpYlzUzGiDkoXSv52amx",
      "include_colab_link": true
    },
    "kernelspec": {
      "name": "python3",
      "display_name": "Python 3"
    },
    "language_info": {
      "name": "python"
    }
  },
  "cells": [
    {
      "cell_type": "markdown",
      "metadata": {
        "id": "view-in-github",
        "colab_type": "text"
      },
      "source": [
        "<a href=\"https://colab.research.google.com/github/anirbanghoshsbi/.github.io/blob/master/kalman/signal_kalman_nifty_50.ipynb\" target=\"_parent\"><img src=\"https://colab.research.google.com/assets/colab-badge.svg\" alt=\"Open In Colab\"/></a>"
      ]
    },
    {
      "cell_type": "code",
      "metadata": {
        "id": "YzwNO2rurRH3",
        "colab": {
          "base_uri": "https://localhost:8080/"
        },
        "outputId": "2657070d-c9f3-4950-d74f-baf8d247f7dc"
      },
      "source": [
        "!pip install pykalman\n",
        "!pip install yfinance\n",
        "!pip install pandas-ta==0.2.45b"
      ],
      "execution_count": 1,
      "outputs": [
        {
          "output_type": "stream",
          "name": "stdout",
          "text": [
            "Collecting pykalman\n",
            "  Downloading pykalman-0.9.5.tar.gz (228 kB)\n",
            "\u001b[?25l\r\u001b[K     |█▍                              | 10 kB 21.8 MB/s eta 0:00:01\r\u001b[K     |██▉                             | 20 kB 28.2 MB/s eta 0:00:01\r\u001b[K     |████▎                           | 30 kB 16.5 MB/s eta 0:00:01\r\u001b[K     |█████▊                          | 40 kB 11.6 MB/s eta 0:00:01\r\u001b[K     |███████▏                        | 51 kB 5.4 MB/s eta 0:00:01\r\u001b[K     |████████▋                       | 61 kB 5.5 MB/s eta 0:00:01\r\u001b[K     |██████████                      | 71 kB 5.3 MB/s eta 0:00:01\r\u001b[K     |███████████▌                    | 81 kB 6.0 MB/s eta 0:00:01\r\u001b[K     |████████████▉                   | 92 kB 5.9 MB/s eta 0:00:01\r\u001b[K     |██████████████▎                 | 102 kB 5.2 MB/s eta 0:00:01\r\u001b[K     |███████████████▊                | 112 kB 5.2 MB/s eta 0:00:01\r\u001b[K     |█████████████████▏              | 122 kB 5.2 MB/s eta 0:00:01\r\u001b[K     |██████████████████▋             | 133 kB 5.2 MB/s eta 0:00:01\r\u001b[K     |████████████████████            | 143 kB 5.2 MB/s eta 0:00:01\r\u001b[K     |█████████████████████▌          | 153 kB 5.2 MB/s eta 0:00:01\r\u001b[K     |███████████████████████         | 163 kB 5.2 MB/s eta 0:00:01\r\u001b[K     |████████████████████████▍       | 174 kB 5.2 MB/s eta 0:00:01\r\u001b[K     |█████████████████████████▊      | 184 kB 5.2 MB/s eta 0:00:01\r\u001b[K     |███████████████████████████▏    | 194 kB 5.2 MB/s eta 0:00:01\r\u001b[K     |████████████████████████████▋   | 204 kB 5.2 MB/s eta 0:00:01\r\u001b[K     |██████████████████████████████  | 215 kB 5.2 MB/s eta 0:00:01\r\u001b[K     |███████████████████████████████▌| 225 kB 5.2 MB/s eta 0:00:01\r\u001b[K     |████████████████████████████████| 228 kB 5.2 MB/s \n",
            "\u001b[?25hBuilding wheels for collected packages: pykalman\n",
            "  Building wheel for pykalman (setup.py) ... \u001b[?25l\u001b[?25hdone\n",
            "  Created wheel for pykalman: filename=pykalman-0.9.5-py3-none-any.whl size=48461 sha256=9637d1d05aefda9fa357f9b5e9b6881a53d5d458b78829b927bc51bc3b07a086\n",
            "  Stored in directory: /root/.cache/pip/wheels/6a/04/02/2dda6ea59c66d9e685affc8af3a31ad3a5d87b7311689efce6\n",
            "Successfully built pykalman\n",
            "Installing collected packages: pykalman\n",
            "Successfully installed pykalman-0.9.5\n",
            "Collecting yfinance\n",
            "  Downloading yfinance-0.1.66-py2.py3-none-any.whl (25 kB)\n",
            "Requirement already satisfied: requests>=2.20 in /usr/local/lib/python3.7/dist-packages (from yfinance) (2.23.0)\n",
            "Requirement already satisfied: multitasking>=0.0.7 in /usr/local/lib/python3.7/dist-packages (from yfinance) (0.0.9)\n",
            "Requirement already satisfied: numpy>=1.15 in /usr/local/lib/python3.7/dist-packages (from yfinance) (1.19.5)\n",
            "Requirement already satisfied: pandas>=0.24 in /usr/local/lib/python3.7/dist-packages (from yfinance) (1.1.5)\n",
            "Collecting lxml>=4.5.1\n",
            "  Downloading lxml-4.6.4-cp37-cp37m-manylinux_2_17_x86_64.manylinux2014_x86_64.manylinux_2_24_x86_64.whl (6.3 MB)\n",
            "\u001b[K     |████████████████████████████████| 6.3 MB 6.0 MB/s \n",
            "\u001b[?25hRequirement already satisfied: pytz>=2017.2 in /usr/local/lib/python3.7/dist-packages (from pandas>=0.24->yfinance) (2018.9)\n",
            "Requirement already satisfied: python-dateutil>=2.7.3 in /usr/local/lib/python3.7/dist-packages (from pandas>=0.24->yfinance) (2.8.2)\n",
            "Requirement already satisfied: six>=1.5 in /usr/local/lib/python3.7/dist-packages (from python-dateutil>=2.7.3->pandas>=0.24->yfinance) (1.15.0)\n",
            "Requirement already satisfied: certifi>=2017.4.17 in /usr/local/lib/python3.7/dist-packages (from requests>=2.20->yfinance) (2021.10.8)\n",
            "Requirement already satisfied: idna<3,>=2.5 in /usr/local/lib/python3.7/dist-packages (from requests>=2.20->yfinance) (2.10)\n",
            "Requirement already satisfied: chardet<4,>=3.0.2 in /usr/local/lib/python3.7/dist-packages (from requests>=2.20->yfinance) (3.0.4)\n",
            "Requirement already satisfied: urllib3!=1.25.0,!=1.25.1,<1.26,>=1.21.1 in /usr/local/lib/python3.7/dist-packages (from requests>=2.20->yfinance) (1.24.3)\n",
            "Installing collected packages: lxml, yfinance\n",
            "  Attempting uninstall: lxml\n",
            "    Found existing installation: lxml 4.2.6\n",
            "    Uninstalling lxml-4.2.6:\n",
            "      Successfully uninstalled lxml-4.2.6\n",
            "Successfully installed lxml-4.6.4 yfinance-0.1.66\n",
            "Collecting pandas-ta==0.2.45b\n",
            "  Downloading pandas_ta-0.2.45b.tar.gz (88 kB)\n",
            "\u001b[K     |████████████████████████████████| 88 kB 3.4 MB/s \n",
            "\u001b[?25hRequirement already satisfied: pandas in /usr/local/lib/python3.7/dist-packages (from pandas-ta==0.2.45b) (1.1.5)\n",
            "Requirement already satisfied: pytz>=2017.2 in /usr/local/lib/python3.7/dist-packages (from pandas->pandas-ta==0.2.45b) (2018.9)\n",
            "Requirement already satisfied: python-dateutil>=2.7.3 in /usr/local/lib/python3.7/dist-packages (from pandas->pandas-ta==0.2.45b) (2.8.2)\n",
            "Requirement already satisfied: numpy>=1.15.4 in /usr/local/lib/python3.7/dist-packages (from pandas->pandas-ta==0.2.45b) (1.19.5)\n",
            "Requirement already satisfied: six>=1.5 in /usr/local/lib/python3.7/dist-packages (from python-dateutil>=2.7.3->pandas->pandas-ta==0.2.45b) (1.15.0)\n",
            "Building wheels for collected packages: pandas-ta\n",
            "  Building wheel for pandas-ta (setup.py) ... \u001b[?25l\u001b[?25hdone\n",
            "  Created wheel for pandas-ta: filename=pandas_ta-0.2.45b0-py3-none-any.whl size=175303 sha256=9981e581cbe08d7d4774375af544e9684c2233cb7cd44e357c2bcd7cca788f44\n",
            "  Stored in directory: /root/.cache/pip/wheels/b1/49/60/e674e28ae57160651c6198b76e1714a0b175e44e022fcd5137\n",
            "Successfully built pandas-ta\n",
            "Installing collected packages: pandas-ta\n",
            "Successfully installed pandas-ta-0.2.45b0\n"
          ]
        }
      ]
    },
    {
      "cell_type": "code",
      "metadata": {
        "id": "K0B7knnQrSGM"
      },
      "source": [
        "#Importing dependencies#\n",
        "from pykalman import KalmanFilter\n",
        "import numpy as np\n",
        "import pylab as pl\n",
        "import pandas as pd\n",
        "import yfinance as yf\n",
        "from scipy import poly1d\n",
        "from datetime import datetime\n",
        "import pandas_ta as ta\n",
        "import matplotlib.pyplot as plt\n",
        "%matplotlib inline"
      ],
      "execution_count": 2,
      "outputs": []
    },
    {
      "cell_type": "code",
      "metadata": {
        "id": "q1AA0W40DJrx"
      },
      "source": [
        "pd.options.mode.chained_assignment = None"
      ],
      "execution_count": 3,
      "outputs": []
    },
    {
      "cell_type": "code",
      "metadata": {
        "id": "x3Lx3gzkxLj3"
      },
      "source": [
        "#ticker = pd.read_csv('https://raw.githubusercontent.com/anirbanghoshsbi/data/main/ind_niftybanklist.csv')"
      ],
      "execution_count": 4,
      "outputs": []
    },
    {
      "cell_type": "code",
      "metadata": {
        "id": "YbRMeZrxsEuO"
      },
      "source": [
        "ticker = pd.read_csv('https://raw.githubusercontent.com/anirbanghoshsbi/data/main/ind_nifty50list.csv')\n",
        "START = \"2013-01-01\""
      ],
      "execution_count": 5,
      "outputs": []
    },
    {
      "cell_type": "code",
      "metadata": {
        "colab": {
          "base_uri": "https://localhost:8080/"
        },
        "id": "CAgSzrJ08lOj",
        "outputId": "d9548d6f-0a05-4dd6-873a-2f83c46592e7"
      },
      "source": [
        "nifty=yf.download('^nsei',start=START)"
      ],
      "execution_count": 6,
      "outputs": [
        {
          "output_type": "stream",
          "name": "stdout",
          "text": [
            "\r[*********************100%***********************]  1 of 1 completed\n"
          ]
        }
      ]
    },
    {
      "cell_type": "code",
      "metadata": {
        "id": "kjfwjEr7rbRF",
        "colab": {
          "base_uri": "https://localhost:8080/"
        },
        "outputId": "d75a72fd-fdb1-4724-891b-d3cb4425a322"
      },
      "source": [
        "lst=[]\n",
        "for i in range(len(ticker)):\n",
        "  \n",
        "  dfi = yf.download(str(ticker.Symbol.iloc[i])+'.ns', start=START)\n",
        "  df = dfi[['Adj Close']]\n",
        "  f = KalmanFilter(transition_matrices = [1],\n",
        "                    observation_matrices = [1],\n",
        "                    initial_state_mean = 0,\n",
        "                    initial_state_covariance = 1,\n",
        "                    observation_covariance = 1,\n",
        "                    transition_covariance = 0.0001)\n",
        "  mean, cov = f.filter(df['Adj Close'].values)\n",
        "  mean, std = mean.squeeze(), np.std(cov.squeeze())\n",
        "  var = 'kalman'\n",
        "  df[var]=df['Adj Close'].values - mean\n",
        "  \n",
        "  lst.append(df)"
      ],
      "execution_count": 7,
      "outputs": [
        {
          "output_type": "stream",
          "name": "stdout",
          "text": [
            "[*********************100%***********************]  1 of 1 completed\n",
            "[*********************100%***********************]  1 of 1 completed\n",
            "[*********************100%***********************]  1 of 1 completed\n",
            "[*********************100%***********************]  1 of 1 completed\n",
            "[*********************100%***********************]  1 of 1 completed\n",
            "[*********************100%***********************]  1 of 1 completed\n",
            "[*********************100%***********************]  1 of 1 completed\n",
            "[*********************100%***********************]  1 of 1 completed\n",
            "[*********************100%***********************]  1 of 1 completed\n",
            "[*********************100%***********************]  1 of 1 completed\n",
            "[*********************100%***********************]  1 of 1 completed\n",
            "[*********************100%***********************]  1 of 1 completed\n",
            "[*********************100%***********************]  1 of 1 completed\n",
            "[*********************100%***********************]  1 of 1 completed\n",
            "[*********************100%***********************]  1 of 1 completed\n",
            "[*********************100%***********************]  1 of 1 completed\n",
            "[*********************100%***********************]  1 of 1 completed\n",
            "[*********************100%***********************]  1 of 1 completed\n",
            "[*********************100%***********************]  1 of 1 completed\n",
            "[*********************100%***********************]  1 of 1 completed\n",
            "[*********************100%***********************]  1 of 1 completed\n",
            "[*********************100%***********************]  1 of 1 completed\n",
            "[*********************100%***********************]  1 of 1 completed\n",
            "[*********************100%***********************]  1 of 1 completed\n",
            "[*********************100%***********************]  1 of 1 completed\n",
            "[*********************100%***********************]  1 of 1 completed\n",
            "[*********************100%***********************]  1 of 1 completed\n",
            "[*********************100%***********************]  1 of 1 completed\n",
            "[*********************100%***********************]  1 of 1 completed\n",
            "[*********************100%***********************]  1 of 1 completed\n",
            "[*********************100%***********************]  1 of 1 completed\n",
            "[*********************100%***********************]  1 of 1 completed\n",
            "[*********************100%***********************]  1 of 1 completed\n",
            "[*********************100%***********************]  1 of 1 completed\n",
            "[*********************100%***********************]  1 of 1 completed\n",
            "[*********************100%***********************]  1 of 1 completed\n",
            "[*********************100%***********************]  1 of 1 completed\n",
            "[*********************100%***********************]  1 of 1 completed\n",
            "[*********************100%***********************]  1 of 1 completed\n",
            "[*********************100%***********************]  1 of 1 completed\n",
            "[*********************100%***********************]  1 of 1 completed\n",
            "[*********************100%***********************]  1 of 1 completed\n",
            "[*********************100%***********************]  1 of 1 completed\n",
            "[*********************100%***********************]  1 of 1 completed\n",
            "[*********************100%***********************]  1 of 1 completed\n",
            "[*********************100%***********************]  1 of 1 completed\n",
            "[*********************100%***********************]  1 of 1 completed\n",
            "[*********************100%***********************]  1 of 1 completed\n",
            "[*********************100%***********************]  1 of 1 completed\n",
            "[*********************100%***********************]  1 of 1 completed\n"
          ]
        }
      ]
    },
    {
      "cell_type": "code",
      "metadata": {
        "id": "eWluogVZrbHW"
      },
      "source": [
        "nlst=[]\n",
        "for i in range(len(ticker)):\n",
        "  nlst.append(lst[i].kalman)\n",
        "  "
      ],
      "execution_count": 8,
      "outputs": []
    },
    {
      "cell_type": "code",
      "metadata": {
        "id": "y9-ZLZZRwLix"
      },
      "source": [
        "df_kalman = pd.DataFrame(nlst).T"
      ],
      "execution_count": 9,
      "outputs": []
    },
    {
      "cell_type": "code",
      "metadata": {
        "id": "V7bgENL_wLgJ"
      },
      "source": [
        "namelist =[]\n",
        "for i in range(1,len(ticker)+1):\n",
        "  namelist.append('kalman_'+str(i))\n",
        "  \n",
        "df_kalman.columns = namelist"
      ],
      "execution_count": 10,
      "outputs": []
    },
    {
      "cell_type": "code",
      "metadata": {
        "id": "AdFj16hYwKzC"
      },
      "source": [
        "def macd_calc(df):\n",
        "  columns=df.columns.tolist()\n",
        "  for var in columns:\n",
        "    macd='macd'+var\n",
        "    macd_s='macd'+'signal'+var\n",
        "    macd_h='hist'+ var\n",
        "    df[macd]=df[var].ewm(span=26, adjust=False).mean()-df[var].ewm(span=50, adjust=False).mean()\n",
        "    df[macd_s]=df[macd].ewm(span=18,adjust=False).mean()\n",
        "    df[macd_h]=df[macd]-df[macd_s]\n",
        "  return df"
      ],
      "execution_count": 11,
      "outputs": []
    },
    {
      "cell_type": "code",
      "metadata": {
        "id": "tN5FGb1grbC2"
      },
      "source": [
        "final_kalman=macd_calc(df_kalman)"
      ],
      "execution_count": 12,
      "outputs": []
    },
    {
      "cell_type": "code",
      "metadata": {
        "colab": {
          "base_uri": "https://localhost:8080/",
          "height": 225
        },
        "id": "9zq6kFSTrbAl",
        "outputId": "51c6fb78-29b9-4148-c7ca-929353edaaff"
      },
      "source": [
        "final_kalman.tail(2)"
      ],
      "execution_count": 13,
      "outputs": [
        {
          "output_type": "execute_result",
          "data": {
            "text/html": [
              "<div>\n",
              "<style scoped>\n",
              "    .dataframe tbody tr th:only-of-type {\n",
              "        vertical-align: middle;\n",
              "    }\n",
              "\n",
              "    .dataframe tbody tr th {\n",
              "        vertical-align: top;\n",
              "    }\n",
              "\n",
              "    .dataframe thead th {\n",
              "        text-align: right;\n",
              "    }\n",
              "</style>\n",
              "<table border=\"1\" class=\"dataframe\">\n",
              "  <thead>\n",
              "    <tr style=\"text-align: right;\">\n",
              "      <th></th>\n",
              "      <th>kalman_1</th>\n",
              "      <th>kalman_2</th>\n",
              "      <th>kalman_3</th>\n",
              "      <th>kalman_4</th>\n",
              "      <th>kalman_5</th>\n",
              "      <th>kalman_6</th>\n",
              "      <th>kalman_7</th>\n",
              "      <th>kalman_8</th>\n",
              "      <th>kalman_9</th>\n",
              "      <th>kalman_10</th>\n",
              "      <th>kalman_11</th>\n",
              "      <th>kalman_12</th>\n",
              "      <th>kalman_13</th>\n",
              "      <th>kalman_14</th>\n",
              "      <th>kalman_15</th>\n",
              "      <th>kalman_16</th>\n",
              "      <th>kalman_17</th>\n",
              "      <th>kalman_18</th>\n",
              "      <th>kalman_19</th>\n",
              "      <th>kalman_20</th>\n",
              "      <th>kalman_21</th>\n",
              "      <th>kalman_22</th>\n",
              "      <th>kalman_23</th>\n",
              "      <th>kalman_24</th>\n",
              "      <th>kalman_25</th>\n",
              "      <th>kalman_26</th>\n",
              "      <th>kalman_27</th>\n",
              "      <th>kalman_28</th>\n",
              "      <th>kalman_29</th>\n",
              "      <th>kalman_30</th>\n",
              "      <th>kalman_31</th>\n",
              "      <th>kalman_32</th>\n",
              "      <th>kalman_33</th>\n",
              "      <th>kalman_34</th>\n",
              "      <th>kalman_35</th>\n",
              "      <th>kalman_36</th>\n",
              "      <th>kalman_37</th>\n",
              "      <th>kalman_38</th>\n",
              "      <th>kalman_39</th>\n",
              "      <th>kalman_40</th>\n",
              "      <th>...</th>\n",
              "      <th>histkalman_37</th>\n",
              "      <th>macdkalman_38</th>\n",
              "      <th>macdsignalkalman_38</th>\n",
              "      <th>histkalman_38</th>\n",
              "      <th>macdkalman_39</th>\n",
              "      <th>macdsignalkalman_39</th>\n",
              "      <th>histkalman_39</th>\n",
              "      <th>macdkalman_40</th>\n",
              "      <th>macdsignalkalman_40</th>\n",
              "      <th>histkalman_40</th>\n",
              "      <th>macdkalman_41</th>\n",
              "      <th>macdsignalkalman_41</th>\n",
              "      <th>histkalman_41</th>\n",
              "      <th>macdkalman_42</th>\n",
              "      <th>macdsignalkalman_42</th>\n",
              "      <th>histkalman_42</th>\n",
              "      <th>macdkalman_43</th>\n",
              "      <th>macdsignalkalman_43</th>\n",
              "      <th>histkalman_43</th>\n",
              "      <th>macdkalman_44</th>\n",
              "      <th>macdsignalkalman_44</th>\n",
              "      <th>histkalman_44</th>\n",
              "      <th>macdkalman_45</th>\n",
              "      <th>macdsignalkalman_45</th>\n",
              "      <th>histkalman_45</th>\n",
              "      <th>macdkalman_46</th>\n",
              "      <th>macdsignalkalman_46</th>\n",
              "      <th>histkalman_46</th>\n",
              "      <th>macdkalman_47</th>\n",
              "      <th>macdsignalkalman_47</th>\n",
              "      <th>histkalman_47</th>\n",
              "      <th>macdkalman_48</th>\n",
              "      <th>macdsignalkalman_48</th>\n",
              "      <th>histkalman_48</th>\n",
              "      <th>macdkalman_49</th>\n",
              "      <th>macdsignalkalman_49</th>\n",
              "      <th>histkalman_49</th>\n",
              "      <th>macdkalman_50</th>\n",
              "      <th>macdsignalkalman_50</th>\n",
              "      <th>histkalman_50</th>\n",
              "    </tr>\n",
              "    <tr>\n",
              "      <th>Date</th>\n",
              "      <th></th>\n",
              "      <th></th>\n",
              "      <th></th>\n",
              "      <th></th>\n",
              "      <th></th>\n",
              "      <th></th>\n",
              "      <th></th>\n",
              "      <th></th>\n",
              "      <th></th>\n",
              "      <th></th>\n",
              "      <th></th>\n",
              "      <th></th>\n",
              "      <th></th>\n",
              "      <th></th>\n",
              "      <th></th>\n",
              "      <th></th>\n",
              "      <th></th>\n",
              "      <th></th>\n",
              "      <th></th>\n",
              "      <th></th>\n",
              "      <th></th>\n",
              "      <th></th>\n",
              "      <th></th>\n",
              "      <th></th>\n",
              "      <th></th>\n",
              "      <th></th>\n",
              "      <th></th>\n",
              "      <th></th>\n",
              "      <th></th>\n",
              "      <th></th>\n",
              "      <th></th>\n",
              "      <th></th>\n",
              "      <th></th>\n",
              "      <th></th>\n",
              "      <th></th>\n",
              "      <th></th>\n",
              "      <th></th>\n",
              "      <th></th>\n",
              "      <th></th>\n",
              "      <th></th>\n",
              "      <th></th>\n",
              "      <th></th>\n",
              "      <th></th>\n",
              "      <th></th>\n",
              "      <th></th>\n",
              "      <th></th>\n",
              "      <th></th>\n",
              "      <th></th>\n",
              "      <th></th>\n",
              "      <th></th>\n",
              "      <th></th>\n",
              "      <th></th>\n",
              "      <th></th>\n",
              "      <th></th>\n",
              "      <th></th>\n",
              "      <th></th>\n",
              "      <th></th>\n",
              "      <th></th>\n",
              "      <th></th>\n",
              "      <th></th>\n",
              "      <th></th>\n",
              "      <th></th>\n",
              "      <th></th>\n",
              "      <th></th>\n",
              "      <th></th>\n",
              "      <th></th>\n",
              "      <th></th>\n",
              "      <th></th>\n",
              "      <th></th>\n",
              "      <th></th>\n",
              "      <th></th>\n",
              "      <th></th>\n",
              "      <th></th>\n",
              "      <th></th>\n",
              "      <th></th>\n",
              "      <th></th>\n",
              "      <th></th>\n",
              "      <th></th>\n",
              "      <th></th>\n",
              "      <th></th>\n",
              "      <th></th>\n",
              "    </tr>\n",
              "  </thead>\n",
              "  <tbody>\n",
              "    <tr>\n",
              "      <th>2021-11-16</th>\n",
              "      <td>63.424421</td>\n",
              "      <td>264.947047</td>\n",
              "      <td>-2.822481</td>\n",
              "      <td>-92.489436</td>\n",
              "      <td>1239.796798</td>\n",
              "      <td>4415.568548</td>\n",
              "      <td>9.409434</td>\n",
              "      <td>123.678829</td>\n",
              "      <td>30.412032</td>\n",
              "      <td>33.032131</td>\n",
              "      <td>9.345494</td>\n",
              "      <td>410.396659</td>\n",
              "      <td>-20.510394</td>\n",
              "      <td>102.741095</td>\n",
              "      <td>373.972840</td>\n",
              "      <td>116.156352</td>\n",
              "      <td>51.675784</td>\n",
              "      <td>28.569907</td>\n",
              "      <td>-110.182127</td>\n",
              "      <td>50.106039</td>\n",
              "      <td>-23.382504</td>\n",
              "      <td>370.744784</td>\n",
              "      <td>107.890037</td>\n",
              "      <td>21.721800</td>\n",
              "      <td>25.791185</td>\n",
              "      <td>8.301144</td>\n",
              "      <td>287.244208</td>\n",
              "      <td>55.590179</td>\n",
              "      <td>242.031558</td>\n",
              "      <td>401.688732</td>\n",
              "      <td>171.681763</td>\n",
              "      <td>922.743778</td>\n",
              "      <td>19.528829</td>\n",
              "      <td>1325.435455</td>\n",
              "      <td>34.856307</td>\n",
              "      <td>18.205664</td>\n",
              "      <td>279.874653</td>\n",
              "      <td>92.649700</td>\n",
              "      <td>655.487312</td>\n",
              "      <td>84.970992</td>\n",
              "      <td>...</td>\n",
              "      <td>-25.386750</td>\n",
              "      <td>-15.202094</td>\n",
              "      <td>-8.835451</td>\n",
              "      <td>-6.366644</td>\n",
              "      <td>-134.713338</td>\n",
              "      <td>-189.015408</td>\n",
              "      <td>54.302071</td>\n",
              "      <td>7.904287</td>\n",
              "      <td>7.611460</td>\n",
              "      <td>0.292826</td>\n",
              "      <td>-5.022885</td>\n",
              "      <td>-0.465146</td>\n",
              "      <td>-4.557739</td>\n",
              "      <td>-74.829365</td>\n",
              "      <td>-52.390618</td>\n",
              "      <td>-22.438748</td>\n",
              "      <td>-11.156248</td>\n",
              "      <td>-11.589124</td>\n",
              "      <td>0.432876</td>\n",
              "      <td>32.402369</td>\n",
              "      <td>29.976150</td>\n",
              "      <td>2.426218</td>\n",
              "      <td>-47.451257</td>\n",
              "      <td>-42.149220</td>\n",
              "      <td>-5.302037</td>\n",
              "      <td>14.276924</td>\n",
              "      <td>12.833068</td>\n",
              "      <td>1.443856</td>\n",
              "      <td>64.665772</td>\n",
              "      <td>71.459200</td>\n",
              "      <td>-6.793428</td>\n",
              "      <td>-6.879782</td>\n",
              "      <td>-14.624642</td>\n",
              "      <td>7.744860</td>\n",
              "      <td>-8.634545</td>\n",
              "      <td>-75.213076</td>\n",
              "      <td>66.578532</td>\n",
              "      <td>-9.078724</td>\n",
              "      <td>-4.772990</td>\n",
              "      <td>-4.305734</td>\n",
              "    </tr>\n",
              "    <tr>\n",
              "      <th>2021-11-17</th>\n",
              "      <td>56.061013</td>\n",
              "      <td>338.346669</td>\n",
              "      <td>-13.734496</td>\n",
              "      <td>-103.697265</td>\n",
              "      <td>1308.842475</td>\n",
              "      <td>4483.607343</td>\n",
              "      <td>4.613072</td>\n",
              "      <td>113.785273</td>\n",
              "      <td>-29.887691</td>\n",
              "      <td>19.189253</td>\n",
              "      <td>6.727875</td>\n",
              "      <td>334.187931</td>\n",
              "      <td>-52.037702</td>\n",
              "      <td>80.630698</td>\n",
              "      <td>343.223353</td>\n",
              "      <td>107.228715</td>\n",
              "      <td>36.360407</td>\n",
              "      <td>29.176702</td>\n",
              "      <td>-107.303663</td>\n",
              "      <td>49.904480</td>\n",
              "      <td>-34.683829</td>\n",
              "      <td>337.898907</td>\n",
              "      <td>106.717537</td>\n",
              "      <td>27.000445</td>\n",
              "      <td>23.257441</td>\n",
              "      <td>24.009794</td>\n",
              "      <td>291.118359</td>\n",
              "      <td>55.136030</td>\n",
              "      <td>214.129530</td>\n",
              "      <td>402.394616</td>\n",
              "      <td>172.399142</td>\n",
              "      <td>1160.777526</td>\n",
              "      <td>21.512622</td>\n",
              "      <td>1401.253077</td>\n",
              "      <td>34.558988</td>\n",
              "      <td>21.291668</td>\n",
              "      <td>232.488311</td>\n",
              "      <td>132.319868</td>\n",
              "      <td>172.950312</td>\n",
              "      <td>88.481733</td>\n",
              "      <td>...</td>\n",
              "      <td>-27.373557</td>\n",
              "      <td>-14.641138</td>\n",
              "      <td>-9.446576</td>\n",
              "      <td>-5.194562</td>\n",
              "      <td>-171.576415</td>\n",
              "      <td>-187.179725</td>\n",
              "      <td>15.603310</td>\n",
              "      <td>7.114358</td>\n",
              "      <td>7.559134</td>\n",
              "      <td>-0.444776</td>\n",
              "      <td>-5.827417</td>\n",
              "      <td>-1.029595</td>\n",
              "      <td>-4.797822</td>\n",
              "      <td>-73.981442</td>\n",
              "      <td>-54.663336</td>\n",
              "      <td>-19.318106</td>\n",
              "      <td>-10.937604</td>\n",
              "      <td>-11.520543</td>\n",
              "      <td>0.582939</td>\n",
              "      <td>32.511363</td>\n",
              "      <td>30.243015</td>\n",
              "      <td>2.268348</td>\n",
              "      <td>-49.736374</td>\n",
              "      <td>-42.947868</td>\n",
              "      <td>-6.788506</td>\n",
              "      <td>15.820868</td>\n",
              "      <td>13.147574</td>\n",
              "      <td>2.673294</td>\n",
              "      <td>61.904345</td>\n",
              "      <td>70.453426</td>\n",
              "      <td>-8.549081</td>\n",
              "      <td>-6.184397</td>\n",
              "      <td>-13.736195</td>\n",
              "      <td>7.551799</td>\n",
              "      <td>-7.533269</td>\n",
              "      <td>-68.088886</td>\n",
              "      <td>60.555617</td>\n",
              "      <td>-9.223615</td>\n",
              "      <td>-5.241477</td>\n",
              "      <td>-3.982139</td>\n",
              "    </tr>\n",
              "  </tbody>\n",
              "</table>\n",
              "<p>2 rows × 200 columns</p>\n",
              "</div>"
            ],
            "text/plain": [
              "             kalman_1    kalman_2  ...  macdsignalkalman_50  histkalman_50\n",
              "Date                               ...                                    \n",
              "2021-11-16  63.424421  264.947047  ...            -4.772990      -4.305734\n",
              "2021-11-17  56.061013  338.346669  ...            -5.241477      -3.982139\n",
              "\n",
              "[2 rows x 200 columns]"
            ]
          },
          "metadata": {},
          "execution_count": 13
        }
      ]
    },
    {
      "cell_type": "code",
      "metadata": {
        "id": "ssI2nLbIra91"
      },
      "source": [
        "features = final_kalman.columns.tolist()"
      ],
      "execution_count": 14,
      "outputs": []
    },
    {
      "cell_type": "code",
      "metadata": {
        "id": "kaS_OPDZ03HH"
      },
      "source": [
        "feats_set1=[feats for feats in features if feats.startswith('hist')]"
      ],
      "execution_count": 15,
      "outputs": []
    },
    {
      "cell_type": "code",
      "metadata": {
        "id": "p7NzUo7B1de-"
      },
      "source": [
        "final_dataframe=final_kalman[feats_set1]"
      ],
      "execution_count": 16,
      "outputs": []
    },
    {
      "cell_type": "code",
      "metadata": {
        "id": "G3n2Ns_U2h01"
      },
      "source": [
        "solution=np.sign(final_dataframe)"
      ],
      "execution_count": 17,
      "outputs": []
    },
    {
      "cell_type": "code",
      "metadata": {
        "id": "zvUVJRgX3H61"
      },
      "source": [
        "solution['final']=solution.sum(axis=1)"
      ],
      "execution_count": 18,
      "outputs": []
    },
    {
      "cell_type": "code",
      "metadata": {
        "colab": {
          "base_uri": "https://localhost:8080/",
          "height": 196
        },
        "id": "OA_hL4Ru68WZ",
        "outputId": "944b30a9-3600-4d96-f3f4-39eaada5969a"
      },
      "source": [
        "solution.tail(2)"
      ],
      "execution_count": 19,
      "outputs": [
        {
          "output_type": "execute_result",
          "data": {
            "text/html": [
              "<div>\n",
              "<style scoped>\n",
              "    .dataframe tbody tr th:only-of-type {\n",
              "        vertical-align: middle;\n",
              "    }\n",
              "\n",
              "    .dataframe tbody tr th {\n",
              "        vertical-align: top;\n",
              "    }\n",
              "\n",
              "    .dataframe thead th {\n",
              "        text-align: right;\n",
              "    }\n",
              "</style>\n",
              "<table border=\"1\" class=\"dataframe\">\n",
              "  <thead>\n",
              "    <tr style=\"text-align: right;\">\n",
              "      <th></th>\n",
              "      <th>histkalman_1</th>\n",
              "      <th>histkalman_2</th>\n",
              "      <th>histkalman_3</th>\n",
              "      <th>histkalman_4</th>\n",
              "      <th>histkalman_5</th>\n",
              "      <th>histkalman_6</th>\n",
              "      <th>histkalman_7</th>\n",
              "      <th>histkalman_8</th>\n",
              "      <th>histkalman_9</th>\n",
              "      <th>histkalman_10</th>\n",
              "      <th>histkalman_11</th>\n",
              "      <th>histkalman_12</th>\n",
              "      <th>histkalman_13</th>\n",
              "      <th>histkalman_14</th>\n",
              "      <th>histkalman_15</th>\n",
              "      <th>histkalman_16</th>\n",
              "      <th>histkalman_17</th>\n",
              "      <th>histkalman_18</th>\n",
              "      <th>histkalman_19</th>\n",
              "      <th>histkalman_20</th>\n",
              "      <th>histkalman_21</th>\n",
              "      <th>histkalman_22</th>\n",
              "      <th>histkalman_23</th>\n",
              "      <th>histkalman_24</th>\n",
              "      <th>histkalman_25</th>\n",
              "      <th>histkalman_26</th>\n",
              "      <th>histkalman_27</th>\n",
              "      <th>histkalman_28</th>\n",
              "      <th>histkalman_29</th>\n",
              "      <th>histkalman_30</th>\n",
              "      <th>histkalman_31</th>\n",
              "      <th>histkalman_32</th>\n",
              "      <th>histkalman_33</th>\n",
              "      <th>histkalman_34</th>\n",
              "      <th>histkalman_35</th>\n",
              "      <th>histkalman_36</th>\n",
              "      <th>histkalman_37</th>\n",
              "      <th>histkalman_38</th>\n",
              "      <th>histkalman_39</th>\n",
              "      <th>histkalman_40</th>\n",
              "      <th>histkalman_41</th>\n",
              "      <th>histkalman_42</th>\n",
              "      <th>histkalman_43</th>\n",
              "      <th>histkalman_44</th>\n",
              "      <th>histkalman_45</th>\n",
              "      <th>histkalman_46</th>\n",
              "      <th>histkalman_47</th>\n",
              "      <th>histkalman_48</th>\n",
              "      <th>histkalman_49</th>\n",
              "      <th>histkalman_50</th>\n",
              "      <th>final</th>\n",
              "    </tr>\n",
              "    <tr>\n",
              "      <th>Date</th>\n",
              "      <th></th>\n",
              "      <th></th>\n",
              "      <th></th>\n",
              "      <th></th>\n",
              "      <th></th>\n",
              "      <th></th>\n",
              "      <th></th>\n",
              "      <th></th>\n",
              "      <th></th>\n",
              "      <th></th>\n",
              "      <th></th>\n",
              "      <th></th>\n",
              "      <th></th>\n",
              "      <th></th>\n",
              "      <th></th>\n",
              "      <th></th>\n",
              "      <th></th>\n",
              "      <th></th>\n",
              "      <th></th>\n",
              "      <th></th>\n",
              "      <th></th>\n",
              "      <th></th>\n",
              "      <th></th>\n",
              "      <th></th>\n",
              "      <th></th>\n",
              "      <th></th>\n",
              "      <th></th>\n",
              "      <th></th>\n",
              "      <th></th>\n",
              "      <th></th>\n",
              "      <th></th>\n",
              "      <th></th>\n",
              "      <th></th>\n",
              "      <th></th>\n",
              "      <th></th>\n",
              "      <th></th>\n",
              "      <th></th>\n",
              "      <th></th>\n",
              "      <th></th>\n",
              "      <th></th>\n",
              "      <th></th>\n",
              "      <th></th>\n",
              "      <th></th>\n",
              "      <th></th>\n",
              "      <th></th>\n",
              "      <th></th>\n",
              "      <th></th>\n",
              "      <th></th>\n",
              "      <th></th>\n",
              "      <th></th>\n",
              "      <th></th>\n",
              "    </tr>\n",
              "  </thead>\n",
              "  <tbody>\n",
              "    <tr>\n",
              "      <th>2021-11-16</th>\n",
              "      <td>-1.0</td>\n",
              "      <td>-1.0</td>\n",
              "      <td>-1.0</td>\n",
              "      <td>-1.0</td>\n",
              "      <td>-1.0</td>\n",
              "      <td>-1.0</td>\n",
              "      <td>-1.0</td>\n",
              "      <td>-1.0</td>\n",
              "      <td>-1.0</td>\n",
              "      <td>1.0</td>\n",
              "      <td>-1.0</td>\n",
              "      <td>-1.0</td>\n",
              "      <td>1.0</td>\n",
              "      <td>-1.0</td>\n",
              "      <td>1.0</td>\n",
              "      <td>-1.0</td>\n",
              "      <td>-1.0</td>\n",
              "      <td>-1.0</td>\n",
              "      <td>-1.0</td>\n",
              "      <td>-1.0</td>\n",
              "      <td>-1.0</td>\n",
              "      <td>1.0</td>\n",
              "      <td>-1.0</td>\n",
              "      <td>-1.0</td>\n",
              "      <td>-1.0</td>\n",
              "      <td>-1.0</td>\n",
              "      <td>1.0</td>\n",
              "      <td>1.0</td>\n",
              "      <td>-1.0</td>\n",
              "      <td>1.0</td>\n",
              "      <td>1.0</td>\n",
              "      <td>1.0</td>\n",
              "      <td>-1.0</td>\n",
              "      <td>-1.0</td>\n",
              "      <td>-1.0</td>\n",
              "      <td>-1.0</td>\n",
              "      <td>-1.0</td>\n",
              "      <td>-1.0</td>\n",
              "      <td>1.0</td>\n",
              "      <td>1.0</td>\n",
              "      <td>-1.0</td>\n",
              "      <td>-1.0</td>\n",
              "      <td>1.0</td>\n",
              "      <td>1.0</td>\n",
              "      <td>-1.0</td>\n",
              "      <td>1.0</td>\n",
              "      <td>-1.0</td>\n",
              "      <td>1.0</td>\n",
              "      <td>1.0</td>\n",
              "      <td>-1.0</td>\n",
              "      <td>-18.0</td>\n",
              "    </tr>\n",
              "    <tr>\n",
              "      <th>2021-11-17</th>\n",
              "      <td>-1.0</td>\n",
              "      <td>-1.0</td>\n",
              "      <td>-1.0</td>\n",
              "      <td>-1.0</td>\n",
              "      <td>-1.0</td>\n",
              "      <td>-1.0</td>\n",
              "      <td>-1.0</td>\n",
              "      <td>-1.0</td>\n",
              "      <td>-1.0</td>\n",
              "      <td>1.0</td>\n",
              "      <td>-1.0</td>\n",
              "      <td>-1.0</td>\n",
              "      <td>1.0</td>\n",
              "      <td>-1.0</td>\n",
              "      <td>1.0</td>\n",
              "      <td>-1.0</td>\n",
              "      <td>-1.0</td>\n",
              "      <td>1.0</td>\n",
              "      <td>-1.0</td>\n",
              "      <td>-1.0</td>\n",
              "      <td>-1.0</td>\n",
              "      <td>1.0</td>\n",
              "      <td>-1.0</td>\n",
              "      <td>-1.0</td>\n",
              "      <td>-1.0</td>\n",
              "      <td>-1.0</td>\n",
              "      <td>1.0</td>\n",
              "      <td>1.0</td>\n",
              "      <td>-1.0</td>\n",
              "      <td>1.0</td>\n",
              "      <td>1.0</td>\n",
              "      <td>1.0</td>\n",
              "      <td>-1.0</td>\n",
              "      <td>-1.0</td>\n",
              "      <td>-1.0</td>\n",
              "      <td>-1.0</td>\n",
              "      <td>-1.0</td>\n",
              "      <td>-1.0</td>\n",
              "      <td>1.0</td>\n",
              "      <td>-1.0</td>\n",
              "      <td>-1.0</td>\n",
              "      <td>-1.0</td>\n",
              "      <td>1.0</td>\n",
              "      <td>1.0</td>\n",
              "      <td>-1.0</td>\n",
              "      <td>1.0</td>\n",
              "      <td>-1.0</td>\n",
              "      <td>1.0</td>\n",
              "      <td>1.0</td>\n",
              "      <td>-1.0</td>\n",
              "      <td>-18.0</td>\n",
              "    </tr>\n",
              "  </tbody>\n",
              "</table>\n",
              "</div>"
            ],
            "text/plain": [
              "            histkalman_1  histkalman_2  ...  histkalman_50  final\n",
              "Date                                    ...                      \n",
              "2021-11-16          -1.0          -1.0  ...           -1.0  -18.0\n",
              "2021-11-17          -1.0          -1.0  ...           -1.0  -18.0\n",
              "\n",
              "[2 rows x 51 columns]"
            ]
          },
          "metadata": {},
          "execution_count": 19
        }
      ]
    },
    {
      "cell_type": "code",
      "metadata": {
        "colab": {
          "base_uri": "https://localhost:8080/",
          "height": 296
        },
        "id": "VX-QwBkU3Jys",
        "outputId": "9c00765d-76ce-4158-fdf5-5ab9a79f92cb"
      },
      "source": [
        "solution.final[-100:].plot()"
      ],
      "execution_count": 20,
      "outputs": [
        {
          "output_type": "execute_result",
          "data": {
            "text/plain": [
              "<matplotlib.axes._subplots.AxesSubplot at 0x7f018d5289d0>"
            ]
          },
          "metadata": {},
          "execution_count": 20
        },
        {
          "output_type": "display_data",
          "data": {
            "image/png": "[encoded data removed]",
            "text/plain": [
              "<Figure size 432x288 with 1 Axes>"
            ]
          },
          "metadata": {
            "needs_background": "light"
          }
        }
      ]
    },
    {
      "cell_type": "code",
      "metadata": {
        "id": "eHGbm3jKTN6u"
      },
      "source": [
        "l=700"
      ],
      "execution_count": 21,
      "outputs": []
    },
    {
      "cell_type": "code",
      "metadata": {
        "id": "uKnGigwKSyKD"
      },
      "source": [
        "nifty=nifty[-l:]\n",
        "solution=solution[-l:]"
      ],
      "execution_count": 22,
      "outputs": []
    },
    {
      "cell_type": "code",
      "metadata": {
        "colab": {
          "base_uri": "https://localhost:8080/",
          "height": 311
        },
        "id": "0JHISukB8NHk",
        "outputId": "53cf2c2a-11b1-4c6c-f72f-98145188a89f"
      },
      "source": [
        "fig, ax = plt.subplots(2,1,figsize=(17,7),sharex=True)\n",
        "ax[0].plot(nifty.loc[:, :].index, nifty.loc[:, 'Close'],'r', label='Close')\n",
        "ax[1].plot(solution.loc[:, :].index, solution.loc[:, 'final'],'b', label='Signals')\n",
        "ax[1].plot(solution.loc[:, :].index, solution.loc[:, 'final'],'r*', label='Signals')\n",
        "#ax[1].plot(nifty.iloc[:, :].index, nifty.loc[:, 'Close'], label='Nifty')\n",
        "plt.suptitle('Signals')\n",
        "ax[0].legend()\n",
        "ax[1].legend()\n",
        "ax[1].axhline(y=0)\n",
        "plt.show()"
      ],
      "execution_count": 23,
      "outputs": [
        {
          "output_type": "display_data",
          "data": {
            "image/png": "[encoded data removed]",
            "text/plain": [
              "<Figure size 1224x504 with 2 Axes>"
            ]
          },
          "metadata": {
            "needs_background": "light"
          }
        }
      ]
    },
    {
      "cell_type": "code",
      "metadata": {
        "id": "euhAaTaXBnKR"
      },
      "source": [
        "solution['signals']=np.where(solution['final']>0,1,-1)"
      ],
      "execution_count": 24,
      "outputs": []
    },
    {
      "cell_type": "code",
      "metadata": {
        "id": "kymGBf4iKPyT",
        "colab": {
          "base_uri": "https://localhost:8080/"
        },
        "outputId": "8e02159d-5dda-4058-c137-c580d0c73fde"
      },
      "source": [
        "if solution['signals'].iloc[-1]!=solution['signals'].iloc[-2]:\n",
        "  var= solution['signals'].iloc[-1]\n",
        "  print(f'signal changed to : {var}')\n",
        "else :\n",
        "  var= solution['signals'].iloc[-1]\n",
        "  print(f'signal unchanged (1:stay long , -1: stay short) : {var}')"
      ],
      "execution_count": 25,
      "outputs": [
        {
          "output_type": "stream",
          "name": "stdout",
          "text": [
            "signal unchanged (1:stay long , -1: stay short) : -1\n"
          ]
        }
      ]
    },
    {
      "cell_type": "code",
      "metadata": {
        "colab": {
          "base_uri": "https://localhost:8080/",
          "height": 458
        },
        "id": "YdF0iAzVswKr",
        "outputId": "1c7426b9-b6e1-4f5e-e38d-ae41f1b1995f"
      },
      "source": [
        "# Calculate daily returns\n",
        "nifty['Return'] = nifty.Close.pct_change()\n",
        " \n",
        "# Calculate strategy returns\n",
        "nifty['Strategy_F'] = nifty.Return * solution.signals.shift(1)\n",
        "\n",
        "# Calculate geometric returns\n",
        "geometric_returns = ((nifty.Strategy_F+1).cumprod()-1)\n",
        "#np.sum(np.log(data/data.shift())*portfolio, axis=1)\n",
        "# Plot geometric returns\n",
        "geometric_returns.plot(figsize=(10, 7),color='g')\n",
        "volatility = geometric_returns.std() * np.sqrt(252)\n",
        "sharpe_ratio = (geometric_returns.mean() - 0.05) / volatility \n",
        "plt.ylabel(\"Strategy Returns (%)\")\n",
        "plt.xlabel(\"Date\")\n",
        "plt.show()\n",
        "print('sharpe ratio : ' ,sharpe_ratio)\n",
        "\n",
        "std_neg = geometric_returns[geometric_returns<0].std()*np.sqrt(252)\n",
        "sortino_ratio=(geometric_returns.mean() - 0.05)/std_neg\n",
        "print('sortino ratio : ' , sortino_ratio)"
      ],
      "execution_count": 26,
      "outputs": [
        {
          "output_type": "display_data",
          "data": {
            "image/png": "[encoded data removed]",
            "text/plain": [
              "<Figure size 720x504 with 1 Axes>"
            ]
          },
          "metadata": {
            "needs_background": "light"
          }
        },
        {
          "output_type": "stream",
          "name": "stdout",
          "text": [
            "sharpe ratio :  0.07541639206504609\n",
            "sortino ratio :  1.7669940341785018\n"
          ]
        }
      ]
    },
    {
      "cell_type": "code",
      "metadata": {
        "id": "gCsFZ0_c5pnP",
        "colab": {
          "base_uri": "https://localhost:8080/"
        },
        "outputId": "0216a4d6-8a07-4f1f-f42f-58888a99217d"
      },
      "source": [
        "def max_drawdown(return_series):\n",
        "    comp_ret =return_series\n",
        "    peak = comp_ret.expanding(min_periods=1).max()\n",
        "    dd = (comp_ret/peak)-1\n",
        "    return dd.min()\n",
        "geometric_returns=pd.DataFrame(geometric_returns)\n",
        "\n",
        "max_drawdowns= geometric_returns.apply(max_drawdown)\n",
        "print('max_drawdown : ' , max_drawdowns)"
      ],
      "execution_count": 27,
      "outputs": [
        {
          "output_type": "stream",
          "name": "stdout",
          "text": [
            "max_drawdown :  Strategy_F   -2.983911\n",
            "dtype: float64\n"
          ]
        }
      ]
    },
    {
      "cell_type": "code",
      "metadata": {
        "id": "AZskaRb1x9aX",
        "colab": {
          "base_uri": "https://localhost:8080/",
          "height": 311
        },
        "outputId": "da79356a-7cb5-4360-86a9-fed580375fa7"
      },
      "source": [
        "fig, ax = plt.subplots(2,1,figsize=(17,7),sharex=True)\n",
        "ax[0].plot(nifty.loc[:, :].index, nifty.loc[:, 'Close'],'r', label='Close')\n",
        "ax[1].plot(geometric_returns.index,geometric_returns,'g', label='Signals')\n",
        "#ax[1].plot(nifty.iloc[:, :].index, nifty.loc[:, 'Close'], label='Nifty')\n",
        "plt.suptitle('Signals')\n",
        "ax[0].legend()\n",
        "ax[1].legend()\n",
        "plt.show()"
      ],
      "execution_count": 28,
      "outputs": [
        {
          "output_type": "display_data",
          "data": {
            "image/png": "[encoded data removed]",
            "text/plain": [
              "<Figure size 1224x504 with 2 Axes>"
            ]
          },
          "metadata": {
            "needs_background": "light"
          }
        }
      ]
    },
    {
      "cell_type": "code",
      "metadata": {
        "id": "zUQWSJl8YUkB",
        "colab": {
          "base_uri": "https://localhost:8080/",
          "height": 196
        },
        "outputId": "22a0043b-ec86-4df5-cf1c-4ab0996b5198"
      },
      "source": [
        "nifty.tail(2)"
      ],
      "execution_count": 29,
      "outputs": [
        {
          "output_type": "execute_result",
          "data": {
            "text/html": [
              "<div>\n",
              "<style scoped>\n",
              "    .dataframe tbody tr th:only-of-type {\n",
              "        vertical-align: middle;\n",
              "    }\n",
              "\n",
              "    .dataframe tbody tr th {\n",
              "        vertical-align: top;\n",
              "    }\n",
              "\n",
              "    .dataframe thead th {\n",
              "        text-align: right;\n",
              "    }\n",
              "</style>\n",
              "<table border=\"1\" class=\"dataframe\">\n",
              "  <thead>\n",
              "    <tr style=\"text-align: right;\">\n",
              "      <th></th>\n",
              "      <th>Open</th>\n",
              "      <th>High</th>\n",
              "      <th>Low</th>\n",
              "      <th>Close</th>\n",
              "      <th>Adj Close</th>\n",
              "      <th>Volume</th>\n",
              "      <th>Return</th>\n",
              "      <th>Strategy_F</th>\n",
              "    </tr>\n",
              "    <tr>\n",
              "      <th>Date</th>\n",
              "      <th></th>\n",
              "      <th></th>\n",
              "      <th></th>\n",
              "      <th></th>\n",
              "      <th></th>\n",
              "      <th></th>\n",
              "      <th></th>\n",
              "      <th></th>\n",
              "    </tr>\n",
              "  </thead>\n",
              "  <tbody>\n",
              "    <tr>\n",
              "      <th>2021-11-16</th>\n",
              "      <td>18127.050781</td>\n",
              "      <td>18132.650391</td>\n",
              "      <td>17958.800781</td>\n",
              "      <td>17999.199219</td>\n",
              "      <td>17999.199219</td>\n",
              "      <td>267400</td>\n",
              "      <td>-0.006088</td>\n",
              "      <td>0.006088</td>\n",
              "    </tr>\n",
              "    <tr>\n",
              "      <th>2021-11-17</th>\n",
              "      <td>17939.349609</td>\n",
              "      <td>18022.650391</td>\n",
              "      <td>17906.599609</td>\n",
              "      <td>17952.099609</td>\n",
              "      <td>17952.099609</td>\n",
              "      <td>0</td>\n",
              "      <td>-0.002617</td>\n",
              "      <td>0.002617</td>\n",
              "    </tr>\n",
              "  </tbody>\n",
              "</table>\n",
              "</div>"
            ],
            "text/plain": [
              "                    Open          High  ...    Return  Strategy_F\n",
              "Date                                    ...                      \n",
              "2021-11-16  18127.050781  18132.650391  ... -0.006088    0.006088\n",
              "2021-11-17  17939.349609  18022.650391  ... -0.002617    0.002617\n",
              "\n",
              "[2 rows x 8 columns]"
            ]
          },
          "metadata": {},
          "execution_count": 29
        }
      ]
    },
    {
      "cell_type": "code",
      "metadata": {
        "id": "PjZCMXzd_4s4",
        "colab": {
          "base_uri": "https://localhost:8080/"
        },
        "outputId": "4f404015-128a-4cbb-8aa4-f75ae75f201d"
      },
      "source": [
        "print('change in nifty from yesterday' ,(nifty.Close.iloc[-1]-nifty.Close.iloc[-2])/nifty.Close.iloc[-2]*100)"
      ],
      "execution_count": 30,
      "outputs": [
        {
          "output_type": "stream",
          "name": "stdout",
          "text": [
            "change in nifty from yesterday -0.26167613793582395\n"
          ]
        }
      ]
    }
  ]
}