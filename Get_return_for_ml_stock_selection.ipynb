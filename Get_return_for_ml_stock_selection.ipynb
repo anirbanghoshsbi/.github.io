{
  "nbformat": 4,
  "nbformat_minor": 0,
  "metadata": {
    "colab": {
      "provenance": [],
      "authorship_tag": "ABX9TyMhymcR4bz3qoWYGzQW77rQ",
      "include_colab_link": true
    },
    "kernelspec": {
      "name": "python3",
      "display_name": "Python 3"
    },
    "language_info": {
      "name": "python"
    }
  },
  "cells": [
    {
      "cell_type": "markdown",
      "metadata": {
        "id": "view-in-github",
        "colab_type": "text"
      },
      "source": [
        "<a href=\"https://colab.research.google.com/github/anirbanghoshsbi/.github.io/blob/master/Get_return_for_ml_stock_selection.ipynb\" target=\"_parent\"><img src=\"https://colab.research.google.com/assets/colab-badge.svg\" alt=\"Open In Colab\"/></a>"
      ]
    },
    {
      "cell_type": "code",
      "execution_count": 9,
      "metadata": {
        "colab": {
          "base_uri": "https://localhost:8080/"
        },
        "id": "Em8WUFBPWT8-",
        "outputId": "06da6b97-0ffe-4d72-be1e-0cbb57049fcf"
      },
      "outputs": [
        {
          "output_type": "stream",
          "name": "stdout",
          "text": [
            "        date       ticker  adj close  next_week_close  weekly_return\n",
            "0 2016-11-30  ADANIENT.NS  36.299690        40.833820       0.124908\n",
            "1 2016-12-31  ADANIENT.NS  40.833820        46.488136       0.138471\n",
            "2 2017-01-31  ADANIENT.NS  46.488136        52.542538       0.130235\n",
            "3 2017-02-28  ADANIENT.NS  52.542538        57.903469       0.102030\n",
            "4 2017-03-31  ADANIENT.NS  57.903469        58.116852       0.003685\n",
            "\n",
            "Weekly Return Summary Statistics:\n",
            "                   mean    median       std       min       max\n",
            "ticker                                                         \n",
            "ADANIENT.NS    0.068998  0.062332  0.185218 -0.541393  0.732816\n",
            "ADANIPORTS.NS  0.018327  0.018835  0.095570 -0.257518  0.326074\n",
            "APOLLOHOSP.NS  0.023780  0.026196  0.108433 -0.343790  0.334510\n",
            "ASIANPAINT.NS  0.017882  0.010163  0.069918 -0.129192  0.247912\n",
            "AXISBANK.NS    0.014478  0.017324  0.093986 -0.456475  0.235679\n",
            "BAJAJ-AUTO.NS  0.013052  0.013415  0.074106 -0.268800  0.297154\n",
            "BAJAJFINSV.NS  0.028987  0.022156  0.131228 -0.492442  0.571508\n",
            "BAJFINANCE.NS  0.035059  0.031901  0.127819 -0.502694  0.483469\n",
            "BHARTIARTL.NS  0.017353  0.021410  0.077511 -0.179595  0.276672\n",
            "BPCL.NS        0.007268  0.005263  0.094327 -0.264733  0.323294\n",
            "BRITANNIA.NS   0.016854  0.018207  0.063881 -0.135562  0.190363\n",
            "CIPLA.NS       0.012243  0.007820  0.079077 -0.140485  0.394348\n",
            "COALINDIA.NS   0.009858 -0.000632  0.087121 -0.194445  0.300682\n",
            "DIVISLAB.NS    0.019472  0.026386  0.092294 -0.332453  0.243107\n",
            "DRREDDY.NS     0.010194  0.005437  0.078030 -0.152022  0.261331\n",
            "EICHERMOT.NS   0.010850  0.013366  0.084364 -0.204973  0.268666\n",
            "GRASIM.NS      0.017119  0.027454  0.083276 -0.307189  0.207986\n",
            "HCLTECH.NS     0.018906  0.014896  0.077825 -0.183307  0.270317\n",
            "HDFCBANK.NS    0.014256  0.004880  0.064874 -0.268119  0.217397\n",
            "HDFCLIFE.NS    0.011958  0.021277  0.073959 -0.188844  0.142259\n",
            "HEROMOTOCO.NS  0.005370  0.000083  0.081374 -0.221908  0.357199\n",
            "HINDALCO.NS    0.020187  0.016909  0.125529 -0.386145  0.503535\n",
            "HINDUNILVR.NS  0.016156  0.013018  0.060441 -0.108795  0.182372\n",
            "ICICIBANK.NS   0.021190  0.020994  0.085384 -0.348919  0.205680\n",
            "INDUSINDBK.NS  0.015664  0.014627  0.138868 -0.681808  0.464316\n",
            "INFY.NS        0.018112  0.017960  0.072893 -0.177937  0.312589\n",
            "ITC.NS         0.012619  0.010195  0.064011 -0.159898  0.171861\n",
            "JSWSTEEL.NS    0.026351  0.023854  0.115394 -0.379508  0.532394\n",
            "KOTAKBANK.NS   0.013119  0.008077  0.074313 -0.200142  0.232455\n",
            "LT.NS          0.018693  0.018448  0.076696 -0.309652  0.230909\n",
            "LTIM.NS        0.033399  0.036013  0.099453 -0.251970  0.243771\n",
            "M&M.NS         0.017844  0.016142  0.095615 -0.376545  0.286717\n",
            "MARUTI.NS      0.012855  0.018306  0.081758 -0.317487  0.249633\n",
            "NESTLEIND.NS   0.018713  0.021533  0.052988 -0.162542  0.145425\n",
            "NTPC.NS        0.014065  0.002289  0.077830 -0.204772  0.290413\n",
            "ONGC.NS        0.008215  0.002047  0.093012 -0.202061  0.278645\n",
            "POWERGRID.NS   0.013056  0.008686  0.056904 -0.107902  0.161832\n",
            "RELIANCE.NS    0.024150  0.007269  0.086044 -0.161743  0.316274\n",
            "SBILIFE.NS     0.017281  0.023072  0.076055 -0.280099  0.196746\n",
            "SBIN.NS        0.016429  0.005530  0.106400 -0.350330  0.383020\n",
            "SUNPHARMA.NS   0.009876  0.009339  0.085117 -0.218631  0.318337\n",
            "TATACONSUM.NS  0.028866  0.006020  0.085483 -0.148202  0.265036\n",
            "TATAMOTORS.NS  0.015288  0.005394  0.156510 -0.449011  0.512984\n",
            "TATASTEEL.NS   0.035058  0.032993  0.143589 -0.293779  0.847727\n",
            "TCS.NS         0.017969  0.009919  0.067068 -0.110577  0.239703\n",
            "TECHM.NS       0.017813  0.028117  0.085011 -0.229984  0.264649\n",
            "TITAN.NS       0.032935  0.044378  0.088453 -0.255719  0.289099\n",
            "ULTRACEMCO.NS  0.013253  0.018929  0.075319 -0.231005  0.181084\n",
            "UPL.NS         0.010754  0.007775  0.100829 -0.371753  0.343055\n",
            "WIPRO.NS       0.013725  0.008827  0.076355 -0.198249  0.279081\n",
            "\n",
            "Best performing stock based on average weekly return: ADANIENT.NS\n",
            "\n",
            "Results saved to 'stock_weekly_returns.csv'\n"
          ]
        }
      ],
      "source": [
        "import pandas as pd\n",
        "import numpy as np\n",
        "\n",
        "# Load the data\n",
        "df = pd.read_csv('https://raw.githubusercontent.com/anirbanghoshsbi/data/main/data_nifty50.csv')\n",
        "\n",
        "# Convert the date column to datetime\n",
        "df['date'] = pd.to_datetime(df['date'])\n",
        "\n",
        "# Sort the dataframe by ticker and date\n",
        "df = df.sort_values(['ticker', 'date'])\n",
        "\n",
        "# Group the dataframe by ticker\n",
        "grouped = df.groupby('ticker')\n",
        "\n",
        "# Function to calculate weekly returns\n",
        "def calculate_weekly_return(group):\n",
        "    # Shift the 'adj close' column by 1 day (1 month)\n",
        "    group['next_week_close'] = group['adj close'].shift(-1)\n",
        "\n",
        "    # Calculate the weekly return\n",
        "    group['weekly_return'] = (group['next_week_close'] - group['adj close']) / group['adj close']\n",
        "\n",
        "    return group\n",
        "\n",
        "# Apply the function to each group (ticker)\n",
        "df_with_returns = grouped.apply(calculate_weekly_return)\n",
        "\n",
        "# Reset the index\n",
        "df_with_returns = df_with_returns.reset_index(drop=True)\n",
        "\n",
        "# Remove rows where we couldn't calculate the weekly return (last week of data for each stock)\n",
        "df_with_returns = df_with_returns.dropna(subset=['weekly_return'])\n",
        "\n",
        "# Display the first few rows of the result\n",
        "print(df_with_returns[['date', 'ticker', 'adj close', 'next_week_close', 'weekly_return']].head())\n",
        "\n",
        "# Calculate summary statistics of weekly returns for each stock\n",
        "weekly_return_summary = df_with_returns.groupby('ticker')['weekly_return'].agg(['mean', 'median', 'std', 'min', 'max'])\n",
        "print(\"\\nWeekly Return Summary Statistics:\")\n",
        "print(weekly_return_summary)\n",
        "\n",
        "# Find the stock with the highest average weekly return\n",
        "best_performing_stock = weekly_return_summary['mean'].idxmax()\n",
        "print(f\"\\nBest performing stock based on average weekly return: {best_performing_stock}\")\n",
        "\n",
        "# Save the results to a CSV file\n",
        "df_with_returns.to_csv('stock_mothly_returns.csv', index=False)\n",
        "print(\"\\nResults saved to 'stock_weekly_returns.csv'\")"
      ]
    }
  ]
}